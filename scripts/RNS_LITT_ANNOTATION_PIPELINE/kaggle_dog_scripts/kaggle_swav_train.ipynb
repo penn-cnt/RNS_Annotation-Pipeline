{
 "cells": [
  {
   "cell_type": "code",
   "execution_count": 1,
   "metadata": {
    "collapsed": true,
    "ExecuteTime": {
     "start_time": "2023-10-18T18:47:22.112309Z",
     "end_time": "2023-10-18T18:47:22.811996Z"
    }
   },
   "outputs": [],
   "source": [
    "%load_ext autoreload\n",
    "%autoreload 2\n",
    "%matplotlib widget"
   ]
  },
  {
   "cell_type": "code",
   "execution_count": 2,
   "outputs": [],
   "source": [
    "import sys\n",
    "import os\n",
    "\n",
    "sys.path.append('../tools')\n",
    "import h5py\n",
    "import pandas as pd\n",
    "import numpy as np\n",
    "import tensorflow as tf\n",
    "import matplotlib.pyplot as plt\n",
    "from sklearn.manifold import TSNE\n",
    "\n",
    "from torch.utils.data import DataLoader\n",
    "from torch.utils.data import Dataset\n",
    "import torch\n",
    "from torch import nn\n",
    "from tqdm import tqdm\n",
    "import sklearn\n",
    "\n",
    "import torchvision.transforms as T\n",
    "import pytorch_lightning as pl\n",
    "import pytorch_lightning.loggers as pl_loggers\n",
    "import pytorch_lightning.callbacks as pl_callbacks\n",
    "\n",
    "import data_utility\n",
    "import times\n",
    "import segmentation\n",
    "import preprocess\n",
    "import autoencoder\n",
    "import visualizer\n",
    "import kaggle_data_utility\n",
    "from models.kaggle_dog_dataloader import KaggleDataset"
   ],
   "metadata": {
    "collapsed": false,
    "ExecuteTime": {
     "start_time": "2023-10-18T18:47:22.812996Z",
     "end_time": "2023-10-18T18:47:29.938090Z"
    }
   }
  },
  {
   "cell_type": "code",
   "execution_count": 3,
   "outputs": [],
   "source": [
    "data_dir = \"../../../user_data/competition_data/clips\"\n",
    "log_folder_root = '../../../user_data/logs/'\n",
    "ckpt_folder_root = '../../../user_data/checkpoints/'\n",
    "\n",
    "targets = [\n",
    "    'Dog_1',\n",
    "    'Dog_2',\n",
    "    'Dog_3',\n",
    "    'Dog_4',\n",
    "]\n",
    "\n",
    "# targets = [\n",
    "#     'Patient_1',\n",
    "#     'Patient_2',\n",
    "#     'Patient_3',\n",
    "#     'Patient_4',\n",
    "#     'Patient_5',\n",
    "#     'Patient_6',\n",
    "#     'Patient_7',\n",
    "#     'Patient_8'\n",
    "# ]"
   ],
   "metadata": {
    "collapsed": false,
    "ExecuteTime": {
     "start_time": "2023-10-18T18:47:29.938090Z",
     "end_time": "2023-10-18T18:47:30.459116Z"
    }
   }
  },
  {
   "cell_type": "code",
   "execution_count": 4,
   "outputs": [],
   "source": [
    "random_seed = 42\n",
    "torch.manual_seed(random_seed)\n",
    "np.random.seed(random_seed)\n",
    "determine_generator = torch.Generator()\n",
    "determine_generator.manual_seed(random_seed)\n",
    "\n",
    "if torch.cuda.is_available():\n",
    "    torch.cuda.manual_seed(random_seed)\n",
    "    # True ensures the algorithm selected by CUFA is deterministic\n",
    "    torch.backends.cudnn.deterministic = True\n",
    "    # torch.set_deterministic(True)\n",
    "    # False ensures CUDA select the same algorithm each time the application is run\n",
    "    torch.backends.cudnn.benchmark = False"
   ],
   "metadata": {
    "collapsed": false,
    "ExecuteTime": {
     "start_time": "2023-10-18T18:47:30.458115Z",
     "end_time": "2023-10-18T18:47:30.990584Z"
    }
   }
  },
  {
   "cell_type": "code",
   "execution_count": 69,
   "outputs": [],
   "source": [
    "def read_pickle(path, num):\n",
    "    data_list = []\n",
    "    for i in range(num):\n",
    "        clip = pd.read_pickle(path + str(i) + '.pkl')\n",
    "        data_list.append(clip)\n",
    "    return data_list\n",
    "\n",
    "seizure_time = read_pickle('../../../user_data/ieeg/seizure_time/seizure_time_data', 150)"
   ],
   "metadata": {
    "collapsed": false,
    "ExecuteTime": {
     "start_time": "2023-10-18T20:36:46.832075Z",
     "end_time": "2023-10-18T20:36:47.654149Z"
    }
   }
  },
  {
   "cell_type": "code",
   "execution_count": 71,
   "outputs": [],
   "source": [
    "fs  = []\n",
    "for st in seizure_time:\n",
    "    fs.append(1/(st[1]-st[0]))"
   ],
   "metadata": {
    "collapsed": false,
    "ExecuteTime": {
     "start_time": "2023-10-18T20:37:41.839321Z",
     "end_time": "2023-10-18T20:37:42.480282Z"
    }
   }
  },
  {
   "cell_type": "code",
   "execution_count": 72,
   "outputs": [
    {
     "data": {
      "text/plain": "[499.99494133978595,\n 499.9929186726804,\n 499.9925403338876,\n 511.9906617914135,\n 511.98734314736305,\n 511.98935721586173,\n 511.9888918425661,\n 511.9887697775794,\n 511.98938010309485,\n 511.9906617914135,\n 511.9918519363125,\n 511.98794584044174,\n 511.92857213042464,\n 511.9000000800781,\n 511.9090890210427,\n 511.9885332768334,\n 511.87500000744876,\n 511.8571413121108,\n 511.89999817347444,\n 511.888894354773,\n 511.9893648449392,\n 511.99287424468184,\n 511.9989318869939,\n 511.985641882151,\n 511.98701509982794,\n 511.98947165204765,\n 511.98717530903673,\n 511.98387196801093,\n 511.9814917579441,\n 511.9900972374348,\n 511.99853516044095,\n 511.9722305101297,\n 511.9830633044163,\n 511.9841313512145,\n 511.9896394918795,\n 511.9729781107833,\n 511.99948120169756,\n 511.9843735695904,\n 511.9843754768226,\n 511.9862979741221,\n 511.98461960266354,\n 511.9988861108218,\n 511.99824524527185,\n 511.99826050395677,\n 511.9933014792398,\n 511.9982147279047,\n 511.9909974727479,\n 511.9786996166508,\n 511.99444586103283,\n 511.9940949167391,\n 511.97825714896805,\n 511.99322518730213,\n 511.98815945351913,\n 511.9981994692225,\n 511.98123237741515,\n 511.99423224270976,\n 511.9356770272748,\n 511.9794319786338,\n 511.97811983156686,\n 511.9974060190015,\n 511.9874880987334,\n 511.9913636710692,\n 511.97059037348794,\n 511.9852985788828,\n 511.9958801601039,\n 511.9984741256412,\n 511.99969482440065,\n 511.9908258174651,\n 511.9841275367537,\n 511.9891321581787,\n 511.9868396327143,\n 499.98628327535187,\n 499.9839405565207,\n 499.9911288442131,\n 499.99750243816123,\n 511.9911500553181,\n 511.991935856995,\n 511.97499206626424,\n 499.98059385341645,\n 499.9867634626681,\n 499.9900374916805,\n 499.98807306912767,\n 499.9886260161371,\n 499.9906340971413,\n 499.9953633371446,\n 499.98753467453054,\n 499.9937772128342,\n 499.988204030151,\n 499.98458080048084,\n 499.9831402538764,\n 499.96176584580934,\n 499.88888979898974,\n 499.8991881886715,\n 499.90792324300594,\n 499.88623526873806,\n 499.8571391017432,\n 499.9843261578003,\n 499.98601407983557,\n 499.9867707382406,\n 499.98412244384264,\n 499.98829133753793,\n 499.9322035336037,\n 499.9280055704859,\n 499.9824563609195,\n 499.9799972719161,\n 499.9807684629054,\n 499.98610866201096,\n 499.99374810972984,\n 499.9938063159419,\n 499.9980845096329,\n 499.99264219427545,\n 499.9929041211778,\n 499.9931660483545,\n 1023.9974517885678,\n 1023.9933777283738,\n 1023.9885712945476,\n 1023.9964904905437,\n 1023.966675889192,\n 1023.9863283075368,\n 1023.9642956785576,\n 1023.9866945088265,\n 1023.9500146471264,\n 511.99228679832885,\n 511.9922486525084,\n 511.9874957277552,\n 511.98461960266354,\n 511.98387196801093,\n 511.9928284695929,\n 511.99058550026257,\n 511.99595645283284,\n 511.9979400717643,\n 1023.9879456985428,\n 511.9833303156981,\n 511.99814987851164,\n 1023.9961242822474,\n 1023.9964599731757,\n 1023.9959716955344,\n 1023.9973144601681,\n 1023.9938354863295,\n 1023.9760137454628,\n 1023.9732062675029,\n 1023.9953613491379,\n 1023.9995727540845,\n 511.9857181718287,\n 511.9904786926894,\n 511.98750335677715,\n 511.9873507763805,\n 511.989898880927,\n 511.98648106985604,\n 511.98387196801093]"
     },
     "execution_count": 72,
     "metadata": {},
     "output_type": "execute_result"
    }
   ],
   "source": [
    "fs"
   ],
   "metadata": {
    "collapsed": false,
    "ExecuteTime": {
     "start_time": "2023-10-18T20:37:47.254272Z",
     "end_time": "2023-10-18T20:37:47.919162Z"
    }
   }
  },
  {
   "cell_type": "code",
   "execution_count": 5,
   "outputs": [
    {
     "name": "stdout",
     "output_type": "stream",
     "text": [
      "Loading data\n",
      "(0s)\n",
      "X (178, 16, 400) y (178,) latencies (178,)\n",
      "Loading data\n",
      "(0s)\n",
      "X (172, 16, 400) y (172,) latencies (172,)\n",
      "Loading data\n",
      "(0s)\n",
      "X (480, 16, 400) y (480,) latencies (480,)\n",
      "Loading data\n",
      "(0s)\n",
      "X (257, 16, 400) y (257,) latencies (257,)\n",
      "Loading data\n",
      "(0s)\n",
      "X (418, 16, 400) y (418,)\n",
      "Loading data\n",
      "(0s)\n",
      "X (1148, 16, 400) y (1148,)\n",
      "Loading data\n",
      "(2s)\n",
      "X (4760, 16, 400) y (4760,)\n",
      "Loading data\n",
      "(1s)\n",
      "X (2790, 16, 400) y (2790,)\n",
      "Loading data\n",
      "(1s)\n",
      "X (3181, 16, 400)\n",
      "Loading data\n",
      "(1s)\n",
      "X (2997, 16, 400)\n",
      "Loading data\n",
      "(2s)\n",
      "X (4450, 16, 400)\n",
      "Loading data\n",
      "(1s)\n",
      "X (3013, 16, 400)\n"
     ]
    }
   ],
   "source": [
    "ictal_data_list = [kaggle_data_utility.parse_input_data(data_dir, targets[i], 'ictal', None) for i in\n",
    "                   range(len(targets))]\n",
    "interictal_data_list = [kaggle_data_utility.parse_input_data(data_dir, targets[i], 'interictal', None) for i in\n",
    "                        range(len(targets))]\n",
    "test_data_list = [kaggle_data_utility.parse_input_data(data_dir, targets[i], 'test', None) for i in range(len(targets))]"
   ],
   "metadata": {
    "collapsed": false,
    "ExecuteTime": {
     "start_time": "2023-10-18T18:47:30.991585Z",
     "end_time": "2023-10-18T18:47:42.833893Z"
    }
   }
  },
  {
   "cell_type": "code",
   "execution_count": 6,
   "outputs": [],
   "source": [
    "# ictal_data_X = np.empty((0, 16, 400))\n",
    "# interictal_data_X = np.empty((0, 16, 400))\n",
    "# test_data_X = np.empty((0, 16, 400))\n",
    "#\n",
    "# for data in ictal_data_list:\n",
    "#     ictal_data_X = np.vstack((ictal_data_X, data['X']))\n",
    "# for data in interictal_data_list:\n",
    "#     interictal_data_X = np.vstack((interictal_data_X, data['X']))\n",
    "# for data in test_data_list:\n",
    "#     test_data_X = np.vstack((test_data_X, data['X']))"
   ],
   "metadata": {
    "collapsed": false,
    "ExecuteTime": {
     "start_time": "2023-10-18T18:47:42.834894Z",
     "end_time": "2023-10-18T18:47:43.363006Z"
    }
   }
  },
  {
   "cell_type": "code",
   "execution_count": 7,
   "outputs": [
    {
     "name": "stderr",
     "output_type": "stream",
     "text": [
      "100%|██████████| 4/4 [00:00<00:00,  7.93it/s]\n"
     ]
    }
   ],
   "source": [
    "data_X = np.empty((0, 16, 400))\n",
    "test_data_X = np.empty((0, 16, 400))\n",
    "data_y = np.empty((0, 1))\n",
    "for i in tqdm(range(len(ictal_data_list))):\n",
    "    ictal_data = ictal_data_list[i]['X']\n",
    "    interictal_data = interictal_data_list[i]['X']\n",
    "    test_data = test_data_list[i]['X']\n",
    "    ictal_label = ictal_data_list[i]['y']\n",
    "    interictal_label = interictal_data_list[i]['y']\n",
    "\n",
    "    data = np.concatenate((ictal_data, interictal_data))\n",
    "    label = np.concatenate((ictal_label, interictal_label))\n",
    "\n",
    "    data_X = np.vstack((data_X, data))\n",
    "    test_data_X = np.vstack((test_data_X, test_data))\n",
    "    data_y = np.vstack((data_y, label[:, np.newaxis]))\n"
   ],
   "metadata": {
    "collapsed": false,
    "ExecuteTime": {
     "start_time": "2023-10-18T18:47:43.364007Z",
     "end_time": "2023-10-18T18:47:44.395031Z"
    }
   }
  },
  {
   "cell_type": "code",
   "execution_count": 63,
   "outputs": [
    {
     "data": {
      "text/plain": "10203"
     },
     "execution_count": 63,
     "metadata": {},
     "output_type": "execute_result"
    }
   ],
   "source": [
    "len(data_y)"
   ],
   "metadata": {
    "collapsed": false,
    "ExecuteTime": {
     "start_time": "2023-10-18T20:21:24.915814Z",
     "end_time": "2023-10-18T20:21:25.681068Z"
    }
   }
  },
  {
   "cell_type": "code",
   "execution_count": 9,
   "outputs": [],
   "source": [
    "unlabeled_dataset = KaggleDataset(data_X, data_y, test_data_X, labeled=False, transform=True, astensor=False)\n",
    "# train_set_size = int(unlabeled_dataset.length * 0.8)\n",
    "# valid_set_size = unlabeled_dataset.length - train_set_size\n",
    "# train_set, test_set = torch.utils.data.random_split(unlabeled_dataset, [train_set_size, valid_set_size],generator=determine_generator)"
   ],
   "metadata": {
    "collapsed": false,
    "ExecuteTime": {
     "start_time": "2023-10-18T18:47:44.907518Z",
     "end_time": "2023-10-18T18:47:46.707033Z"
    }
   }
  },
  {
   "cell_type": "code",
   "execution_count": 10,
   "outputs": [
    {
     "data": {
      "text/plain": "23844"
     },
     "execution_count": 10,
     "metadata": {},
     "output_type": "execute_result"
    }
   ],
   "source": [
    "unlabeled_dataset.length"
   ],
   "metadata": {
    "collapsed": false,
    "ExecuteTime": {
     "start_time": "2023-10-18T18:47:46.707033Z",
     "end_time": "2023-10-18T18:47:47.331632Z"
    }
   }
  },
  {
   "cell_type": "code",
   "execution_count": 11,
   "outputs": [],
   "source": [
    "# import torch\n",
    "# import torchvision\n",
    "# from torch import nn\n",
    "#\n",
    "# from lightly.data import LightlyDataset, SwaVCollateFunction\n",
    "# from lightly.loss import SwaVLoss\n",
    "# from lightly.loss.memory_bank import MemoryBankModule\n",
    "# from lightly.models.modules import SwaVProjectionHead, SwaVPrototypes\n",
    "#\n",
    "#\n",
    "# class SwaV(nn.Module):\n",
    "#     def __init__(self, backbone):\n",
    "#         super().__init__()\n",
    "#         self.backbone = backbone\n",
    "#         self.projection_head = SwaVProjectionHead(512, 512, 128)\n",
    "#         self.prototypes = SwaVPrototypes(128, 512, 5)\n",
    "#\n",
    "#         self.start_queue_at_epoch = 30\n",
    "#         self.queues = nn.ModuleList([MemoryBankModule(size=512) for _ in range(2)])\n",
    "#\n",
    "#     def forward(self, high_resolution, low_resolution, epoch):\n",
    "#         self.prototypes.normalize()\n",
    "#\n",
    "#         high_resolution_features = [self._subforward(x) for x in high_resolution]\n",
    "#         low_resolution_features = [self._subforward(x) for x in low_resolution]\n",
    "#\n",
    "#         high_resolution_prototypes = [\n",
    "#             self.prototypes(x, epoch) for x in high_resolution_features\n",
    "#         ]\n",
    "#         low_resolution_prototypes = [\n",
    "#             self.prototypes(x, epoch) for x in low_resolution_features\n",
    "#         ]\n",
    "#         queue_prototypes = self._get_queue_prototypes(high_resolution_features, epoch)\n",
    "#\n",
    "#         return high_resolution_prototypes, low_resolution_prototypes, queue_prototypes\n",
    "#\n",
    "#     def _subforward(self, input):\n",
    "#         features = self.backbone(input).flatten(start_dim=1)\n",
    "#         features = self.projection_head(features)\n",
    "#         features = nn.functional.normalize(features, dim=1, p=2)\n",
    "#         return features\n",
    "#\n",
    "#     @torch.no_grad()\n",
    "#     def _get_queue_prototypes(self, high_resolution_features, epoch):\n",
    "#         if len(high_resolution_features) != len(self.queues):\n",
    "#             raise ValueError(\n",
    "#                 f\"The number of queues ({len(self.queues)}) should be equal to the number of high \"\n",
    "#                 f\"resolution inputs ({len(high_resolution_features)}). Set `n_queues` accordingly.\"\n",
    "#             )\n",
    "#\n",
    "#         # Get the queue features\n",
    "#         queue_features = []\n",
    "#         for i in range(len(self.queues)):\n",
    "#             _, features = self.queues[i](high_resolution_features[i], update=True)\n",
    "#             # Queue features are in (num_ftrs X queue_length) shape, while the high res\n",
    "#             # features are in (batch_size X num_ftrs). Swap the axes for interoperability.\n",
    "#             features = torch.permute(features, (1, 0))\n",
    "#             queue_features.append(features)\n",
    "#\n",
    "#         # If loss calculation with queue prototypes starts at a later epoch,\n",
    "#         # just queue the features and return None instead of queue prototypes.\n",
    "#         if self.start_queue_at_epoch > 0 and epoch < self.start_queue_at_epoch:\n",
    "#             return None\n",
    "#\n",
    "#         # Assign prototypes\n",
    "#         queue_prototypes = [self.prototypes(x, epoch) for x in queue_features]\n",
    "#         return queue_prototypes\n",
    "#\n",
    "#\n",
    "# resnet = torchvision.models.resnet34()\n",
    "#\n",
    "# backbone = nn.Sequential(*list(resnet.children())[:-1])\n",
    "# model = SwaV(backbone)\n",
    "#\n",
    "# device = \"cuda\" if torch.cuda.is_available() else \"cpu\"\n",
    "# model.to(device)\n",
    "\n",
    "# collate_fn = SwaVCollateFunction(gaussian_blur = 0, hf_prob = 0,vf_prob = 0,rr_prob=0,cj_prob=0,random_gray_scale=0, normalize={'mean':[0, 0, 0], 'std':[1, 1, 1]})\n",
    "#\n",
    "# dataloader = torch.utils.data.DataLoader(\n",
    "#     unlabeled_dataset,\n",
    "#     batch_size=128,\n",
    "#     collate_fn=collate_fn,\n",
    "#     shuffle=True,\n",
    "#     drop_last=True,\n",
    "# )\n",
    "#\n",
    "# criterion = SwaVLoss(sinkhorn_epsilon = 0.05)\n",
    "# optimizer = torch.optim.Adam(model.parameters(), lr=0.001)\n",
    "#\n",
    "# # torch.save({\n",
    "# #             'epoch': -1,\n",
    "# #             'model_state_dict': model.state_dict(),\n",
    "# #             'optimizer_state_dict': optimizer.state_dict(),\n",
    "# #             'loss': -1,\n",
    "# #             }, 'ckpt/checkpoint_round_2'+str(-1)+'.pth')\n",
    "#\n",
    "# print(\"Starting Training\")\n",
    "# for epoch in range(100):\n",
    "#     total_loss = 0\n",
    "#     i = 0 \n",
    "#     for batch, _, _ in tqdm(dataloader):\n",
    "#         batch = [x.to(device) for x in batch]\n",
    "#         high_resolution, low_resolution = batch[:2], batch[2:]\n",
    "#         high_resolution, low_resolution, queue = model(\n",
    "#             high_resolution, low_resolution, epoch\n",
    "#         )\n",
    "#         loss = criterion(high_resolution, low_resolution, queue)\n",
    "#         total_loss += loss.detach()\n",
    "#         loss.backward()\n",
    "#         optimizer.step()\n",
    "#         optimizer.zero_grad()\n",
    "#\n",
    "#     avg_loss = total_loss / len(dataloader)\n",
    "#     torch.save({\n",
    "#             'epoch': epoch,\n",
    "#             'model_state_dict': model.state_dict(),\n",
    "#             'optimizer_state_dict': optimizer.state_dict(),\n",
    "#             'loss': avg_loss,\n",
    "#             }, 'kaggle_human_ckpt/checkpoint'+str(epoch)+'.pth')\n",
    "#\n",
    "#     print(f\"epoch: {epoch:>02}, loss: {avg_loss:.5f}\")"
   ],
   "metadata": {
    "collapsed": false,
    "ExecuteTime": {
     "start_time": "2023-10-18T18:47:47.331632Z",
     "end_time": "2023-10-18T18:47:47.851619Z"
    }
   }
  },
  {
   "cell_type": "code",
   "execution_count": 12,
   "outputs": [],
   "source": [
    "from models.SwaV import SwaV\n",
    "from models.SupervisedDownstream import SupervisedDownstream\n",
    "from lightly.data import SwaVCollateFunction\n",
    "#\n",
    "# model = SwaV()\n",
    "#\n",
    "# # model.load_from_checkpoint()\n",
    "#\n",
    "# collate_fn = SwaVCollateFunction(gaussian_blur = 0, hf_prob = 0,vf_prob = 0,rr_prob=0,cj_prob=0,random_gray_scale=0, normalize={'mean':[0, 0, 0], 'std':[1, 1, 1]})\n",
    "#\n",
    "# dataloader = torch.utils.data.DataLoader(\n",
    "#     unlabeled_dataset,\n",
    "#     batch_size=64,\n",
    "#     collate_fn=collate_fn,\n",
    "#     shuffle=True,\n",
    "#     drop_last=True,\n",
    "# )\n",
    "# accelerator = \"gpu\" if torch.cuda.is_available() else \"cpu\"\n",
    "#\n",
    "# checkpoint_callback = pl_callbacks.ModelCheckpoint(monitor='swav_loss',filename='kaggle_dog_swav-{epoch:02d}-{swav_loss:.5f}', save_last=True, save_top_k=-1, dirpath=ckpt_folder_root + 'kaggle_dog_swav_50')\n",
    "# csv_logger = pl_loggers.CSVLogger(log_folder_root, name=\"kaggle_dog_swav\")\n",
    "#\n",
    "# trainer = pl.Trainer(logger=csv_logger, max_epochs=120, callbacks=[checkpoint_callback],accelerator='gpu', devices=1)"
   ],
   "metadata": {
    "collapsed": false,
    "ExecuteTime": {
     "start_time": "2023-10-18T18:47:47.851619Z",
     "end_time": "2023-10-18T18:47:48.612166Z"
    }
   }
  },
  {
   "cell_type": "code",
   "execution_count": 13,
   "outputs": [],
   "source": [
    "# trainer.fit(model=model, train_dataloaders=dataloader,ckpt_path=ckpt_folder_root+'kaggle_dog_swav_50/kaggle_dog_swav-epoch=34-swav_loss=4.00448.ckpt')\n",
    "\n"
   ],
   "metadata": {
    "collapsed": false,
    "ExecuteTime": {
     "start_time": "2023-10-18T18:47:48.612166Z",
     "end_time": "2023-10-18T18:47:49.162628Z"
    }
   }
  },
  {
   "cell_type": "code",
   "execution_count": 14,
   "outputs": [],
   "source": [
    "# unlabeled_dataset = KaggleDataset(ictal_data_X, interictal_data_X, test_data_X, labeled=False, transform=True)\n",
    "# train_set_size = int(labeled_dataset.length * 0.8)\n",
    "# valid_set_size = labeled_dataset.length - train_set_size\n",
    "# train_set, test_set = torch.utils.data.random_split(labeled_dataset, [train_set_size, valid_set_size])"
   ],
   "metadata": {
    "collapsed": false,
    "ExecuteTime": {
     "start_time": "2023-10-18T18:47:49.163628Z",
     "end_time": "2023-10-18T18:47:49.715636Z"
    }
   }
  },
  {
   "cell_type": "code",
   "execution_count": 15,
   "outputs": [
    {
     "name": "stderr",
     "output_type": "stream",
     "text": [
      "GPU available: True (cuda), used: True\n",
      "TPU available: False, using: 0 TPU cores\n",
      "IPU available: False, using: 0 IPUs\n",
      "HPU available: False, using: 0 HPUs\n"
     ]
    }
   ],
   "source": [
    "# swav = SwaV().load_from_checkpoint(ckpt_folder_root + 'kaggle_dog_swav_18/kaggle_dog_swav-epoch=116-swav_loss=2.23095.ckpt')\n",
    "swav = SwaV().load_from_checkpoint(\n",
    "    ckpt_folder_root + 'kaggle_dog_swav_34/kaggle_dog_swav-epoch=116-swav_loss=2.73583.ckpt')\n",
    "# swav = SwaV().load_from_checkpoint(ckpt_folder_root + 'kaggle_dog_swav_50/kaggle_dog_swav-epoch=118-swav_loss=3.64062.ckpt')\n",
    "model = SupervisedDownstream(swav.backbone)\n",
    "\n",
    "device = \"cuda\" if torch.cuda.is_available() else \"cpu\"\n",
    "model.to(device)\n",
    "\n",
    "checkpoint_callback = pl_callbacks.ModelCheckpoint(monitor='val_loss',\n",
    "                                                   filename='kaggle_dog_linear_eval-{epoch:02d}-{val_loss:.5f}',\n",
    "                                                   save_last=True, save_top_k=-1,\n",
    "                                                   dirpath=ckpt_folder_root + 'kaggle_dog_swav_34_linear_eval_3c')\n",
    "csv_logger = pl_loggers.CSVLogger(log_folder_root, name=\"kaggle_dog_swav_34_linear_eval_3c\")\n",
    "\n",
    "trainer = pl.Trainer(logger=csv_logger, max_epochs=80, callbacks=[checkpoint_callback], accelerator='gpu', devices=1)\n"
   ],
   "metadata": {
    "collapsed": false,
    "ExecuteTime": {
     "start_time": "2023-10-18T18:47:49.716637Z",
     "end_time": "2023-10-18T18:47:50.826284Z"
    }
   }
  },
  {
   "cell_type": "code",
   "execution_count": 16,
   "outputs": [
    {
     "name": "stderr",
     "output_type": "stream",
     "text": [
      "C:\\Users\\Patrick Xu\\AppData\\Local\\Programs\\Python\\Python310\\lib\\site-packages\\pytorch_lightning\\callbacks\\model_checkpoint.py:616: UserWarning: Checkpoint directory C:\\Users\\Patrick Xu\\Desktop\\RNS_Annotation-Pipeline\\user_data\\checkpoints\\kaggle_dog_swav_34_linear_eval_3c exists and is not empty.\n",
      "  rank_zero_warn(f\"Checkpoint directory {dirpath} exists and is not empty.\")\n",
      "LOCAL_RANK: 0 - CUDA_VISIBLE_DEVICES: [0]\n",
      "\n",
      "  | Name     | Type       | Params\n",
      "----------------------------------------\n",
      "0 | backbone | Sequential | 21.3 M\n",
      "1 | fc1      | Linear     | 131 K \n",
      "2 | fc2      | Linear     | 16.4 K\n",
      "3 | fc3      | Linear     | 520   \n",
      "4 | fc4      | Linear     | 27    \n",
      "5 | softmax  | Softmax    | 0     \n",
      "----------------------------------------\n",
      "21.4 M    Trainable params\n",
      "0         Non-trainable params\n",
      "21.4 M    Total params\n",
      "85.732    Total estimated model params size (MB)\n"
     ]
    },
    {
     "data": {
      "text/plain": "Sanity Checking: 0it [00:00, ?it/s]",
      "application/vnd.jupyter.widget-view+json": {
       "version_major": 2,
       "version_minor": 0,
       "model_id": "9d447b55e5304461b622b510e879a049"
      }
     },
     "metadata": {},
     "output_type": "display_data"
    },
    {
     "name": "stderr",
     "output_type": "stream",
     "text": [
      "C:\\Users\\Patrick Xu\\AppData\\Local\\Programs\\Python\\Python310\\lib\\site-packages\\pytorch_lightning\\trainer\\connectors\\data_connector.py:236: PossibleUserWarning: The dataloader, val_dataloader 0, does not have many workers which may be a bottleneck. Consider increasing the value of the `num_workers` argument` (try 16 which is the number of cpus on this machine) in the `DataLoader` init to improve performance.\n",
      "  rank_zero_warn(\n",
      "C:\\Users\\Patrick Xu\\AppData\\Local\\Programs\\Python\\Python310\\lib\\site-packages\\pytorch_lightning\\trainer\\connectors\\data_connector.py:236: PossibleUserWarning: The dataloader, train_dataloader, does not have many workers which may be a bottleneck. Consider increasing the value of the `num_workers` argument` (try 16 which is the number of cpus on this machine) in the `DataLoader` init to improve performance.\n",
      "  rank_zero_warn(\n",
      "C:\\Users\\Patrick Xu\\AppData\\Local\\Programs\\Python\\Python310\\lib\\site-packages\\pytorch_lightning\\trainer\\trainer.py:1892: PossibleUserWarning: The number of training batches (31) is smaller than the logging interval Trainer(log_every_n_steps=50). Set a lower value for log_every_n_steps if you want to see logs for the training epoch.\n",
      "  rank_zero_warn(\n"
     ]
    },
    {
     "data": {
      "text/plain": "Training: 0it [00:00, ?it/s]",
      "application/vnd.jupyter.widget-view+json": {
       "version_major": 2,
       "version_minor": 0,
       "model_id": "9cbd738588c64038a9ddd7f24ede3454"
      }
     },
     "metadata": {},
     "output_type": "display_data"
    },
    {
     "data": {
      "text/plain": "Validation: 0it [00:00, ?it/s]",
      "application/vnd.jupyter.widget-view+json": {
       "version_major": 2,
       "version_minor": 0,
       "model_id": "38d09625fb4c44c9b6eed095b66ef5c9"
      }
     },
     "metadata": {},
     "output_type": "display_data"
    },
    {
     "data": {
      "text/plain": "Validation: 0it [00:00, ?it/s]",
      "application/vnd.jupyter.widget-view+json": {
       "version_major": 2,
       "version_minor": 0,
       "model_id": "583532cba2014aa89d8bd7f0e72b098c"
      }
     },
     "metadata": {},
     "output_type": "display_data"
    },
    {
     "data": {
      "text/plain": "Validation: 0it [00:00, ?it/s]",
      "application/vnd.jupyter.widget-view+json": {
       "version_major": 2,
       "version_minor": 0,
       "model_id": "3093b54057144142ae81c7df2d390266"
      }
     },
     "metadata": {},
     "output_type": "display_data"
    },
    {
     "data": {
      "text/plain": "Validation: 0it [00:00, ?it/s]",
      "application/vnd.jupyter.widget-view+json": {
       "version_major": 2,
       "version_minor": 0,
       "model_id": "08ba3bff10b04092b6541bd81403d8db"
      }
     },
     "metadata": {},
     "output_type": "display_data"
    },
    {
     "data": {
      "text/plain": "Validation: 0it [00:00, ?it/s]",
      "application/vnd.jupyter.widget-view+json": {
       "version_major": 2,
       "version_minor": 0,
       "model_id": "ede0a3b0695e4e0a8775ddb7d921a8cd"
      }
     },
     "metadata": {},
     "output_type": "display_data"
    },
    {
     "data": {
      "text/plain": "Validation: 0it [00:00, ?it/s]",
      "application/vnd.jupyter.widget-view+json": {
       "version_major": 2,
       "version_minor": 0,
       "model_id": "97b1438f15d144479e2efd811976742b"
      }
     },
     "metadata": {},
     "output_type": "display_data"
    },
    {
     "data": {
      "text/plain": "Validation: 0it [00:00, ?it/s]",
      "application/vnd.jupyter.widget-view+json": {
       "version_major": 2,
       "version_minor": 0,
       "model_id": "53b8ab12be0d4a089c8a7b8186af4275"
      }
     },
     "metadata": {},
     "output_type": "display_data"
    },
    {
     "data": {
      "text/plain": "Validation: 0it [00:00, ?it/s]",
      "application/vnd.jupyter.widget-view+json": {
       "version_major": 2,
       "version_minor": 0,
       "model_id": "7bbf662890c44c1d8d0c546560e7331f"
      }
     },
     "metadata": {},
     "output_type": "display_data"
    },
    {
     "data": {
      "text/plain": "Validation: 0it [00:00, ?it/s]",
      "application/vnd.jupyter.widget-view+json": {
       "version_major": 2,
       "version_minor": 0,
       "model_id": "81f29ea59148478199a3c08f2a2d2384"
      }
     },
     "metadata": {},
     "output_type": "display_data"
    },
    {
     "data": {
      "text/plain": "Validation: 0it [00:00, ?it/s]",
      "application/vnd.jupyter.widget-view+json": {
       "version_major": 2,
       "version_minor": 0,
       "model_id": "352761f0aa2f462eb762a85feae9bcae"
      }
     },
     "metadata": {},
     "output_type": "display_data"
    },
    {
     "data": {
      "text/plain": "Validation: 0it [00:00, ?it/s]",
      "application/vnd.jupyter.widget-view+json": {
       "version_major": 2,
       "version_minor": 0,
       "model_id": "8486943b6cd340f3997db495d6774d37"
      }
     },
     "metadata": {},
     "output_type": "display_data"
    },
    {
     "data": {
      "text/plain": "Validation: 0it [00:00, ?it/s]",
      "application/vnd.jupyter.widget-view+json": {
       "version_major": 2,
       "version_minor": 0,
       "model_id": "40ce9b1eebb0430ca6fbe5ef089da715"
      }
     },
     "metadata": {},
     "output_type": "display_data"
    },
    {
     "data": {
      "text/plain": "Validation: 0it [00:00, ?it/s]",
      "application/vnd.jupyter.widget-view+json": {
       "version_major": 2,
       "version_minor": 0,
       "model_id": "d01363d6b2c6455fb158cd92daef6f5a"
      }
     },
     "metadata": {},
     "output_type": "display_data"
    },
    {
     "data": {
      "text/plain": "Validation: 0it [00:00, ?it/s]",
      "application/vnd.jupyter.widget-view+json": {
       "version_major": 2,
       "version_minor": 0,
       "model_id": "7cc297187b4242bfb870a3737160a797"
      }
     },
     "metadata": {},
     "output_type": "display_data"
    },
    {
     "data": {
      "text/plain": "Validation: 0it [00:00, ?it/s]",
      "application/vnd.jupyter.widget-view+json": {
       "version_major": 2,
       "version_minor": 0,
       "model_id": "17016ddebfc14a3688fa9ca427a6da46"
      }
     },
     "metadata": {},
     "output_type": "display_data"
    },
    {
     "name": "stderr",
     "output_type": "stream",
     "text": [
      "C:\\Users\\Patrick Xu\\AppData\\Local\\Programs\\Python\\Python310\\lib\\site-packages\\pytorch_lightning\\trainer\\trainer.py:653: UserWarning: Detected KeyboardInterrupt, attempting graceful shutdown...\n",
      "  rank_zero_warn(\"Detected KeyboardInterrupt, attempting graceful shutdown...\")\n"
     ]
    }
   ],
   "source": [
    "\n",
    "labeled_dataset = KaggleDataset(data_X, data_y, test_data_X, labeled=True, transform=True)\n",
    "train_set_size = int(labeled_dataset.length * 0.8)\n",
    "valid_set_size = labeled_dataset.length - train_set_size\n",
    "train_set, test_set = torch.utils.data.random_split(labeled_dataset, [train_set_size, valid_set_size],\n",
    "                                                    generator=torch.Generator().manual_seed(42))\n",
    "\n",
    "\n",
    "def collate_fn(batch):\n",
    "    info = list(zip(*batch))\n",
    "    data = info[0]\n",
    "    label = info[1]\n",
    "    return torch.stack(data), torch.stack(label)\n",
    "\n",
    "\n",
    "train_dataloader = torch.utils.data.DataLoader(\n",
    "    train_set,\n",
    "    batch_size=256,\n",
    "    collate_fn=collate_fn,\n",
    "    shuffle=True,\n",
    "    drop_last=True,\n",
    ")\n",
    "val_dataloader = torch.utils.data.DataLoader(\n",
    "    test_set,\n",
    "    batch_size=256,\n",
    "    collate_fn=collate_fn,\n",
    "    shuffle=False,\n",
    "    drop_last=True,\n",
    ")\n",
    "trainer.fit(model, train_dataloader, val_dataloader)"
   ],
   "metadata": {
    "collapsed": false,
    "ExecuteTime": {
     "start_time": "2023-10-18T18:48:33.340863Z",
     "end_time": "2023-10-18T19:04:47.337449Z"
    }
   }
  },
  {
   "cell_type": "code",
   "execution_count": 30,
   "outputs": [
    {
     "name": "stdout",
     "output_type": "stream",
     "text": [
      "tensor([[-1.4234,  1.4006, -0.0382,  0.3646, -1.9584],\n",
      "        [-0.6761, -0.5008, -1.2458, -0.4481, -0.1537],\n",
      "        [-1.9868, -0.0352, -1.0558, -0.3352, -0.5795]], requires_grad=True)\n",
      "tensor([3, 2, 2])\n"
     ]
    }
   ],
   "source": [
    "input = torch.randn(3, 5, requires_grad=True)\n",
    "target = torch.empty(3, dtype=torch.long).random_(5)\n",
    "\n",
    "print(input)\n",
    "print(target)"
   ],
   "metadata": {
    "collapsed": false,
    "ExecuteTime": {
     "start_time": "2023-10-18T18:30:28.610203Z",
     "end_time": "2023-10-18T18:30:29.342779Z"
    }
   }
  },
  {
   "cell_type": "code",
   "execution_count": 17,
   "outputs": [
    {
     "name": "stderr",
     "output_type": "stream",
     "text": [
      "LOCAL_RANK: 0 - CUDA_VISIBLE_DEVICES: [0]\n",
      "C:\\Users\\Patrick Xu\\AppData\\Local\\Programs\\Python\\Python310\\lib\\site-packages\\pytorch_lightning\\trainer\\connectors\\data_connector.py:236: PossibleUserWarning: The dataloader, predict_dataloader 0, does not have many workers which may be a bottleneck. Consider increasing the value of the `num_workers` argument` (try 16 which is the number of cpus on this machine) in the `DataLoader` init to improve performance.\n",
      "  rank_zero_warn(\n"
     ]
    },
    {
     "data": {
      "text/plain": "Predicting: 3it [00:00, ?it/s]",
      "application/vnd.jupyter.widget-view+json": {
       "version_major": 2,
       "version_minor": 0,
       "model_id": "099de563092b4f3488d7bf7311b1b56f"
      }
     },
     "metadata": {},
     "output_type": "display_data"
    }
   ],
   "source": [
    "labeled_dataset = KaggleDataset(data_X, data_y, test_data_X, labeled=True, transform=False)\n",
    "train_set_size = int(labeled_dataset.length * 0.8)\n",
    "valid_set_size = labeled_dataset.length - train_set_size\n",
    "train_set, test_set = torch.utils.data.random_split(labeled_dataset, [train_set_size, valid_set_size],\n",
    "                                                    generator=torch.Generator().manual_seed(42))\n",
    "train_dataloader = torch.utils.data.DataLoader(\n",
    "    train_set,\n",
    "    batch_size=128,\n",
    "    collate_fn=collate_fn,\n",
    "    shuffle=True,\n",
    "    drop_last=True,\n",
    ")\n",
    "val_dataloader = torch.utils.data.DataLoader(\n",
    "    test_set,\n",
    "    batch_size=128,\n",
    "    collate_fn=collate_fn,\n",
    "    shuffle=False,\n",
    "    drop_last=True,\n",
    ")\n",
    "predictions = trainer.predict(model, val_dataloader)"
   ],
   "metadata": {
    "collapsed": false,
    "ExecuteTime": {
     "start_time": "2023-10-18T19:04:56.390011Z",
     "end_time": "2023-10-18T19:05:04.354071Z"
    }
   }
  },
  {
   "cell_type": "code",
   "execution_count": 42,
   "outputs": [
    {
     "data": {
      "text/plain": "<torch.utils.data.dataset.Subset at 0x184922c6380>"
     },
     "execution_count": 42,
     "metadata": {},
     "output_type": "execute_result"
    }
   ],
   "source": [
    "train_set"
   ],
   "metadata": {
    "collapsed": false,
    "ExecuteTime": {
     "start_time": "2023-10-18T17:41:55.269346Z",
     "end_time": "2023-10-18T17:41:55.917097Z"
    }
   }
  },
  {
   "cell_type": "code",
   "execution_count": 18,
   "outputs": [],
   "source": [
    "output_list = []\n",
    "target_list = []\n",
    "emb_list = []\n",
    "m = nn.Softmax(dim=1)\n",
    "for pred, y, emb in predictions:\n",
    "    output_list.append(pred)\n",
    "    target_list.append(y)\n",
    "    emb_list.append(emb)"
   ],
   "metadata": {
    "collapsed": false,
    "ExecuteTime": {
     "start_time": "2023-10-18T19:05:05.033184Z",
     "end_time": "2023-10-18T19:05:05.730611Z"
    }
   }
  },
  {
   "cell_type": "code",
   "execution_count": 19,
   "outputs": [],
   "source": [
    "pred_raw = torch.vstack(output_list)\n",
    "target = torch.vstack(target_list)\n",
    "emb = torch.vstack(emb_list)\n",
    "out = torch.argmax(pred_raw, dim=1)"
   ],
   "metadata": {
    "collapsed": false,
    "ExecuteTime": {
     "start_time": "2023-10-18T19:05:05.838647Z",
     "end_time": "2023-10-18T19:05:06.530102Z"
    }
   }
  },
  {
   "cell_type": "code",
   "execution_count": null,
   "outputs": [],
   "source": [
    "def translate_prediction(prediction, y_classes):\n",
    "    if len(prediction) == 3:\n",
    "        # S is 1.0 when ictal <=15 or >15\n",
    "        # S is 0.0 when interictal is highest\n",
    "        ictalLTE15, ictalGT15, interictal = prediction\n",
    "        S = ictalLTE15 + ictalGT15\n",
    "        E = ictalLTE15\n",
    "        return S, E\n",
    "    elif len(prediction) == 2:\n",
    "        # 1.0 doesn't exist for Patient_4, i.e. there is no late seizure data\n",
    "        if not np.any(y_classes == 1.0):\n",
    "            ictalLTE15, interictal = prediction\n",
    "            S = ictalLTE15\n",
    "            E = ictalLTE15\n",
    "            # y[i] = 0 # ictal <= 15\n",
    "            # y[i] = 1 # ictal > 15\n",
    "            # y[i] = 2 # interictal\n",
    "            return S, E\n",
    "        else:\n",
    "            raise NotImplementedError()\n",
    "    else:\n",
    "        raise NotImplementedError()\n",
    "\n",
    "\n",
    "# use the classifier and make predictions on the test data\n",
    "def make_predictions(target, X_test, y_classes, classifier_data):\n",
    "    classifier = classifier_data.classifier\n",
    "    predictions_proba = classifier.predict_proba(X_test)\n",
    "\n",
    "    lines = []\n",
    "    for i in range(len(predictions_proba)):\n",
    "        p = predictions_proba[i]\n",
    "        S, E = translate_prediction(p, y_classes)\n",
    "        lines.append('%s_test_segment_%d.mat,%.15f,%.15f' % (target, i+1, S, E))\n",
    "\n",
    "    return {\n",
    "        'data': '\\n'.join(lines)\n",
    "    }\n",
    "\n",
    "\n",
    "# the scoring mechanism used by the competition leaderboard\n",
    "def score_classifier_auc(classifier, X_cv, y_cv, y_classes):\n",
    "    predictions = classifier.predict_proba(X_cv)\n",
    "    S_predictions = []\n",
    "    E_predictions = []\n",
    "    S_y_cv = [1.0 if (x == 0.0 or x == 1.0) else 0.0 for x in y_cv]\n",
    "    E_y_cv = [1.0 if x == 0.0 else 0.0 for x in y_cv]\n",
    "\n",
    "    for i in range(len(predictions)):\n",
    "        p = predictions[i]\n",
    "        S, E = translate_prediction(p, y_classes)\n",
    "        S_predictions.append(S)\n",
    "        E_predictions.append(E)\n",
    "\n",
    "    fpr, tpr, thresholds = roc_curve(S_y_cv, S_predictions)\n",
    "    S_roc_auc = auc(fpr, tpr)\n",
    "    fpr, tpr, thresholds = roc_curve(E_y_cv, E_predictions)\n",
    "    E_roc_auc = auc(fpr, tpr)\n",
    "\n",
    "    return S_roc_auc, E_roc_auc"
   ],
   "metadata": {
    "collapsed": false
   }
  },
  {
   "cell_type": "code",
   "execution_count": 73,
   "outputs": [
    {
     "data": {
      "text/plain": "0.9307147306135161"
     },
     "execution_count": 73,
     "metadata": {},
     "output_type": "execute_result"
    }
   ],
   "source": [
    "E_roc_auc"
   ],
   "metadata": {
    "collapsed": false,
    "ExecuteTime": {
     "start_time": "2023-10-18T22:47:41.796103Z",
     "end_time": "2023-10-18T22:47:42.443516Z"
    }
   }
  },
  {
   "cell_type": "code",
   "execution_count": 61,
   "outputs": [],
   "source": [
    "output = torch.vstack(output_list)\n",
    "target = torch.vstack(target_list)\n",
    "inds = np.where(target == 0)\n",
    "\n",
    "S = output[:,0] + output[:,1]\n",
    "E = output[:,0]\n",
    "S_y_cv = [1.0 if (x == 0.0 or x == 1.0) else 0.0 for x in target]\n",
    "E_y_cv = [1.0 if x == 0.0 else 0.0 for x in target]\n",
    "\n",
    "fpr, tpr, thresholds = sklearn.metrics.roc_curve(S_y_cv, S, pos_label=1)\n",
    "S_roc_auc = sklearn.metrics.auc(fpr, tpr)\n",
    "fpr, tpr, thresholds = sklearn.metrics.roc_curve(E_y_cv, E, pos_label=1)\n",
    "E_roc_auc = sklearn.metrics.auc(fpr, tpr)"
   ],
   "metadata": {
    "collapsed": false,
    "ExecuteTime": {
     "start_time": "2023-10-18T19:27:01.991288Z",
     "end_time": "2023-10-18T19:27:02.691166Z"
    }
   }
  },
  {
   "cell_type": "code",
   "execution_count": 62,
   "outputs": [
    {
     "data": {
      "text/plain": "0.9581157137109456"
     },
     "execution_count": 62,
     "metadata": {},
     "output_type": "execute_result"
    }
   ],
   "source": [
    "(S_roc_auc+E_roc_auc)/2"
   ],
   "metadata": {
    "collapsed": false,
    "ExecuteTime": {
     "start_time": "2023-10-18T19:27:03.096059Z",
     "end_time": "2023-10-18T19:27:03.759148Z"
    }
   }
  },
  {
   "cell_type": "code",
   "execution_count": 48,
   "outputs": [
    {
     "data": {
      "text/plain": "tensor([2, 2, 2, 1, 2, 2, 2, 2, 2, 2, 2, 2, 2, 1, 2, 2, 2, 2, 2, 2, 2, 2, 2, 2,\n        2, 2, 2, 2, 2, 1, 2, 2, 2, 2, 2, 2, 2, 2, 2, 1, 2, 2, 1, 2, 2, 2, 2, 2,\n        2, 2, 2, 2, 2, 2, 2, 1, 2, 2, 2, 2, 2, 2, 2, 2, 2, 2, 2, 2, 2, 2, 2, 2,\n        2, 2, 2, 2, 2, 2, 2, 2, 2, 2, 2, 2, 2, 2, 2, 2, 2, 1, 2, 2, 2, 1, 2, 2,\n        2, 2, 2, 2, 2, 1, 2, 2, 2, 2, 2, 2, 2, 2, 2, 2, 2, 2, 2, 2, 2, 2, 2, 1,\n        2, 2, 2, 2, 2, 2, 2, 2, 2, 2, 2, 2, 2, 2, 2, 2, 2, 2, 2, 2, 2, 2, 2, 2,\n        2, 2, 2, 2, 2, 2, 2, 2, 2, 2, 2, 2, 2, 2, 2, 2, 2, 2, 2, 2, 2, 2, 2, 2,\n        2, 2, 2, 2, 1, 2, 2, 2, 2, 2, 2, 2, 2, 2, 2, 2, 1, 2, 2, 2, 2, 1, 2, 2,\n        2, 2, 2, 2, 2, 2, 1, 1, 2, 2, 2, 2, 2, 1, 2, 2, 1, 2, 2, 2, 2, 2, 2, 2,\n        2, 2, 2, 2, 2, 2, 2, 2, 2, 1, 2, 2, 2, 2, 1, 1, 2, 2, 1, 1, 2, 2, 2, 2,\n        2, 2, 2, 2, 2, 2, 2, 2, 2, 2, 2, 2, 2, 2, 2, 2, 2, 2, 2, 2, 2, 2, 1, 2,\n        2, 2, 2, 2, 2, 2, 2, 2, 2, 2, 2, 2, 2, 1, 2, 2, 2, 2, 2, 2, 1, 2, 2, 2,\n        2, 2, 2, 2, 2, 2, 2, 1, 2, 2, 1, 2, 2, 2, 1, 2, 2, 2, 2, 2, 2, 2, 2, 2,\n        2, 2, 2, 2, 2, 2, 1, 1, 2, 2, 1, 2, 2, 1, 2, 2, 2, 1, 2, 2, 2, 1, 2, 2,\n        2, 2, 2, 2, 2, 2, 2, 2, 2, 2, 2, 2, 2, 2, 2, 2, 2, 2, 2, 2, 2, 2, 2, 2,\n        2, 2, 1, 2, 2, 2, 1, 2, 2, 2, 1, 2, 2, 1, 1, 2, 2, 2, 2, 2, 2, 2, 1, 2,\n        2, 2, 2, 2, 1, 2, 2, 2, 2, 2, 2, 2, 2, 2, 2, 2, 2, 2, 2, 2, 2, 2, 2, 2,\n        2, 2, 2, 2, 2, 2, 2, 2, 2, 2, 2, 2, 2, 2, 2, 2, 1, 2, 2, 2, 2, 2, 2, 2,\n        2, 2, 2, 2, 1, 2, 2, 2, 2, 2, 2, 2, 2, 2, 2, 2, 1, 1, 1, 2, 2, 2, 1, 2,\n        2, 2, 2, 2, 2, 2, 2, 2, 2, 2, 2, 2, 2, 2, 2, 1, 2, 2, 2, 2, 2, 1, 2, 2,\n        2, 2, 2, 2, 2, 2, 1, 2, 2, 2, 2, 2, 2, 2, 2, 2, 2, 2, 2, 2, 2, 2, 2, 2,\n        2, 2, 2, 2, 2, 2, 2, 2, 2, 2, 2, 2, 2, 2, 2, 2, 2, 2, 2, 2, 2, 2, 2, 2,\n        2, 2, 2, 2, 2, 2, 2, 2, 2, 2, 2, 2, 2, 2, 2, 2, 2, 2, 2, 2, 2, 2, 2, 2,\n        2, 2, 2, 2, 2, 2, 1, 2, 2, 2, 2, 2, 2, 1, 2, 2, 2, 2, 2, 2, 1, 1, 2, 2,\n        1, 1, 2, 2, 2, 2, 2, 2, 2, 2, 2, 2, 2, 2, 2, 2, 2, 2, 2, 1, 2, 2, 2, 2,\n        1, 2, 2, 1, 2, 2, 1, 2, 2, 2, 2, 2, 2, 2, 2, 2, 2, 2, 2, 2, 2, 2, 2, 2,\n        2, 2, 2, 2, 1, 2, 2, 2, 2, 2, 2, 2, 1, 2, 2, 2, 2, 1, 2, 2, 2, 2, 2, 2,\n        2, 2, 1, 2, 2, 2, 2, 2, 2, 2, 2, 2, 2, 2, 2, 2, 2, 1, 2, 2, 2, 2, 2, 2,\n        2, 2, 2, 2, 2, 1, 2, 2, 2, 2, 2, 2, 2, 2, 2, 2, 1, 2, 2, 2, 2, 2, 2, 2,\n        1, 2, 2, 2, 2, 2, 2, 2, 2, 2, 2, 2, 2, 2, 2, 2, 2, 2, 2, 2, 2, 2, 2, 2,\n        2, 1, 2, 2, 1, 2, 2, 2, 2, 2, 2, 2, 2, 2, 2, 2, 2, 2, 1, 2, 2, 1, 2, 2,\n        2, 2, 2, 2, 2, 2, 2, 2, 2, 2, 2, 2, 2, 2, 2, 2, 2, 2, 2, 2, 2, 2, 2, 2,\n        2, 2, 2, 2, 2, 2, 2, 2, 2, 2, 2, 2, 2, 2, 2, 2, 2, 2, 2, 2, 2, 2, 2, 2,\n        2, 2, 2, 2, 2, 2, 2, 1, 2, 2, 2, 2, 1, 2, 2, 2, 2, 2, 2, 2, 2, 2, 1, 2,\n        2, 2, 2, 2, 2, 2, 1, 1, 2, 2, 2, 2, 1, 2, 2, 2, 2, 1, 2, 2, 2, 2, 2, 2,\n        2, 2, 2, 2, 2, 2, 2, 2, 1, 2, 2, 2, 2, 2, 2, 2, 2, 2, 2, 1, 2, 2, 2, 2,\n        2, 2, 1, 2, 2, 2, 2, 2, 1, 2, 2, 2, 2, 2, 1, 2, 2, 2, 2, 2, 2, 2, 2, 2,\n        2, 2, 2, 2, 2, 2, 2, 2, 2, 2, 2, 2, 2, 2, 2, 2, 2, 2, 2, 2, 2, 2, 2, 1,\n        2, 2, 2, 2, 2, 2, 2, 2, 2, 2, 2, 2, 2, 2, 2, 2, 2, 2, 1, 2, 2, 1, 2, 2,\n        2, 1, 2, 2, 2, 2, 2, 2, 1, 2, 2, 2, 2, 2, 2, 2, 1, 1, 1, 2, 2, 2, 2, 2,\n        2, 2, 2, 2, 2, 2, 2, 2, 2, 1, 2, 2, 2, 1, 1, 2, 2, 2, 2, 2, 2, 1, 2, 1,\n        2, 2, 2, 2, 2, 2, 2, 2, 1, 2, 2, 2, 2, 2, 2, 2, 2, 1, 2, 2, 2, 1, 2, 1,\n        2, 2, 2, 2, 2, 2, 2, 2, 2, 2, 2, 2, 1, 2, 2, 2, 1, 2, 2, 2, 2, 2, 2, 2,\n        2, 2, 2, 2, 2, 2, 2, 2, 2, 2, 2, 2, 1, 2, 2, 2, 2, 2, 2, 2, 2, 2, 2, 2,\n        2, 2, 2, 2, 2, 2, 2, 2, 2, 2, 2, 2, 2, 1, 2, 2, 2, 2, 2, 2, 2, 2, 2, 2,\n        2, 2, 2, 2, 2, 2, 2, 2, 2, 2, 2, 2, 2, 2, 2, 2, 2, 2, 2, 2, 2, 2, 2, 2,\n        2, 2, 1, 2, 2, 2, 2, 2, 2, 2, 2, 1, 2, 2, 2, 2, 2, 2, 2, 2, 1, 1, 2, 2,\n        2, 2, 1, 2, 2, 2, 2, 2, 2, 2, 2, 2, 2, 2, 2, 2, 2, 2, 2, 2, 2, 2, 2, 2,\n        2, 2, 2, 2, 2, 2, 2, 1, 2, 2, 2, 2, 2, 2, 2, 2, 2, 1, 2, 2, 2, 2, 2, 2,\n        2, 2, 2, 2, 1, 2, 2, 1, 2, 1, 2, 2, 2, 2, 2, 2, 2, 2, 2, 2, 2, 2, 2, 2,\n        2, 2, 2, 2, 2, 2, 2, 2, 2, 2, 2, 2, 2, 2, 2, 2, 2, 2, 2, 2, 2, 2, 2, 2,\n        2, 2, 2, 1, 2, 2, 1, 2, 2, 2, 2, 1, 2, 2, 2, 2, 2, 2, 2, 2, 2, 2, 2, 2,\n        2, 2, 2, 2, 2, 1, 2, 2, 2, 1, 2, 2, 2, 2, 2, 2, 2, 2, 1, 1, 2, 2, 2, 2,\n        1, 2, 2, 2, 2, 1, 2, 2, 2, 1, 2, 2, 2, 2, 2, 2, 2, 2, 2, 2, 2, 2, 2, 2,\n        2, 1, 2, 2, 2, 2, 2, 2, 2, 1, 2, 2, 2, 2, 2, 2, 2, 1, 2, 1, 2, 2, 2, 1,\n        2, 2, 2, 2, 2, 2, 2, 2, 2, 2, 2, 2, 2, 2, 2, 2, 2, 2, 2, 2, 2, 1, 2, 2,\n        2, 2, 2, 2, 2, 2, 2, 2, 2, 1, 2, 2, 2, 1, 2, 2, 2, 2, 2, 2, 2, 2, 2, 2,\n        2, 2, 2, 2, 2, 2, 2, 2, 2, 2, 2, 2, 2, 2, 2, 1, 2, 2, 2, 2, 2, 2, 2, 2,\n        1, 2, 2, 2, 2, 2, 2, 2, 2, 2, 2, 2, 2, 2, 2, 2, 2, 2, 2, 2, 2, 2, 2, 2,\n        2, 2, 2, 2, 2, 2, 2, 2, 2, 2, 2, 2, 2, 2, 2, 2, 2, 2, 2, 2, 1, 2, 2, 2,\n        2, 2, 1, 2, 2, 2, 2, 2, 2, 1, 2, 2, 2, 2, 2, 2, 2, 2, 2, 2, 2, 2, 2, 2,\n        1, 2, 2, 2, 2, 2, 2, 2, 2, 2, 2, 2, 2, 2, 2, 2, 2, 2, 2, 2, 2, 2, 2, 1,\n        2, 2, 2, 2, 2, 1, 2, 2, 2, 2, 2, 2, 2, 2, 2, 2, 2, 2, 2, 2, 2, 2, 2, 2,\n        2, 1, 2, 2, 2, 2, 2, 2, 2, 2, 2, 2, 2, 2, 2, 2, 1, 2, 2, 2, 2, 2, 1, 2,\n        2, 2, 2, 2, 2, 2, 2, 2, 2, 2, 2, 2, 1, 2, 2, 2, 2, 2, 2, 2, 2, 2, 2, 2,\n        2, 2, 1, 2, 2, 2, 2, 2, 2, 2, 2, 2, 2, 1, 2, 2, 2, 2, 2, 2, 2, 2, 1, 2,\n        2, 2, 2, 1, 2, 2, 2, 1, 2, 2, 2, 2, 2, 2, 2, 2, 1, 2, 2, 2, 2, 2, 2, 2,\n        2, 2, 2, 2, 2, 2, 2, 2, 2, 2, 2, 2, 1, 2, 2, 2, 2, 2, 1, 2, 2, 2, 2, 2,\n        2, 2, 2, 2, 2, 1, 2, 2, 2, 2, 2, 2, 2, 1, 2, 2, 1, 2, 2, 2, 2, 2, 2, 2,\n        2, 2, 2, 2, 2, 2, 2, 2, 2, 2, 1, 2, 2, 2, 2, 2, 2, 2, 2, 2, 2, 2, 1, 2,\n        2, 2, 2, 2, 2, 2, 2, 2, 2, 2, 2, 2, 2, 2, 2, 2, 2, 2, 2, 2, 2, 2, 2, 2,\n        2, 2, 2, 2, 2, 2, 2, 2, 2, 2, 2, 2, 1, 2, 2, 1, 2, 2, 2, 2, 2, 1, 2, 2,\n        2, 2, 1, 2, 2, 2, 2, 2, 2, 2, 1, 2, 2, 2, 2, 2, 2, 2, 2, 2, 2, 2, 2, 2,\n        2, 2, 2, 2, 2, 2, 2, 2, 1, 2, 2, 2, 2, 2, 2, 2, 2, 2, 2, 2, 2, 2, 1, 2,\n        2, 2, 2, 2, 2, 2, 2, 2, 1, 2, 2, 2, 2, 2, 2, 2, 2, 2, 1, 2, 2, 2, 2, 2,\n        2, 2, 2, 2, 2, 2, 1, 2, 2, 2, 2, 2, 2, 1, 1, 2, 2, 2, 2, 2, 1, 2, 2, 2,\n        2, 2, 1, 2, 2, 2, 2, 2, 2, 2, 2, 2, 2, 2, 2, 2, 2, 2, 2, 2, 1, 2, 2, 2,\n        2, 2, 2, 2, 2, 2, 2, 2, 2, 2, 2, 2, 2, 2, 2, 2, 2, 1, 2, 2, 2, 2, 2, 2,\n        2, 2, 2, 2, 2, 2, 2, 1, 2, 2, 2, 2, 2, 2, 2, 2, 2, 2, 2, 2, 2, 2, 2, 2,\n        2, 2, 1, 2, 2, 2, 2, 2, 2, 2, 2, 2, 2, 2, 2, 1, 2, 2, 2, 2, 2, 2, 2, 2,\n        2, 2, 1, 2, 2, 2, 2, 2, 1, 2, 2, 2, 1, 2, 2, 2, 2, 2, 2, 2, 2, 2, 2, 2,\n        1, 2, 2, 2, 2, 2, 2, 2, 2, 2, 2, 2, 2, 2, 2, 1, 2, 2, 2, 2, 2, 2, 2, 2,\n        2, 2, 1, 2, 2, 2, 2, 1, 2, 2, 2, 2, 2, 2, 1, 2, 1, 2, 2, 2, 2, 2, 1, 2,\n        2, 2, 2, 2, 2, 2, 2, 2, 2, 2, 2, 2, 2, 1, 2, 2, 2, 2, 2, 2, 2, 2, 2, 2,\n        2, 2, 2, 2, 2, 2, 2, 2, 2, 2, 1, 2, 2, 2, 2, 2, 1, 2, 2, 2, 2, 2, 2, 2,\n        2])"
     },
     "execution_count": 48,
     "metadata": {},
     "output_type": "execute_result"
    }
   ],
   "source": [
    "np.argmax(output,axis=1)"
   ],
   "metadata": {
    "collapsed": false,
    "ExecuteTime": {
     "start_time": "2023-10-18T19:14:35.749673Z",
     "end_time": "2023-10-18T19:14:36.390512Z"
    }
   }
  },
  {
   "cell_type": "code",
   "execution_count": 40,
   "outputs": [
    {
     "data": {
      "text/plain": "65"
     },
     "execution_count": 40,
     "metadata": {},
     "output_type": "execute_result"
    }
   ],
   "source": [
    "len(torch.sort(m(output)[:, 0][inds])[0])"
   ],
   "metadata": {
    "collapsed": false,
    "ExecuteTime": {
     "start_time": "2023-10-18T19:10:10.730922Z",
     "end_time": "2023-10-18T19:10:11.402930Z"
    }
   }
  },
  {
   "cell_type": "code",
   "execution_count": 28,
   "outputs": [
    {
     "data": {
      "text/plain": "0.9583537481626654"
     },
     "execution_count": 28,
     "metadata": {},
     "output_type": "execute_result"
    }
   ],
   "source": [
    "sklearn.metrics.accuracy_score(np.argmax(m(output), axis=1), target)"
   ],
   "metadata": {
    "collapsed": false,
    "ExecuteTime": {
     "start_time": "2023-10-18T16:52:32.279286Z",
     "end_time": "2023-10-18T16:52:32.889429Z"
    }
   }
  },
  {
   "cell_type": "code",
   "execution_count": 30,
   "outputs": [
    {
     "name": "stdout",
     "output_type": "stream",
     "text": [
      "Classification Report : \n",
      "              precision    recall  f1-score   support\n",
      "\n",
      "           0   0.000000  0.000000  0.000000         0\n",
      "           1   0.953333  0.684211  0.796657       209\n",
      "           2   0.992881  0.989629  0.991252      1832\n",
      "\n",
      "    accuracy                       0.958354      2041\n",
      "   macro avg   0.648738  0.557946  0.595970      2041\n",
      "weighted avg   0.988831  0.958354  0.971325      2041\n",
      "\n"
     ]
    },
    {
     "name": "stderr",
     "output_type": "stream",
     "text": [
      "C:\\Users\\Patrick Xu\\AppData\\Local\\Programs\\Python\\Python310\\lib\\site-packages\\sklearn\\metrics\\_classification.py:1327: UndefinedMetricWarning: Recall and F-score are ill-defined and being set to 0.0 in labels with no true samples. Use `zero_division` parameter to control this behavior.\n",
      "  _warn_prf(average, modifier, msg_start, len(result))\n",
      "C:\\Users\\Patrick Xu\\AppData\\Local\\Programs\\Python\\Python310\\lib\\site-packages\\sklearn\\metrics\\_classification.py:1327: UndefinedMetricWarning: Recall and F-score are ill-defined and being set to 0.0 in labels with no true samples. Use `zero_division` parameter to control this behavior.\n",
      "  _warn_prf(average, modifier, msg_start, len(result))\n",
      "C:\\Users\\Patrick Xu\\AppData\\Local\\Programs\\Python\\Python310\\lib\\site-packages\\sklearn\\metrics\\_classification.py:1327: UndefinedMetricWarning: Recall and F-score are ill-defined and being set to 0.0 in labels with no true samples. Use `zero_division` parameter to control this behavior.\n",
      "  _warn_prf(average, modifier, msg_start, len(result))\n"
     ]
    }
   ],
   "source": [
    "clf_report = sklearn.metrics.classification_report(np.argmax(m(output), axis=1), target, digits=6)\n",
    "\n",
    "print(f\"Classification Report : \\n{clf_report}\")"
   ],
   "metadata": {
    "collapsed": false,
    "ExecuteTime": {
     "start_time": "2023-10-18T16:53:42.775462Z",
     "end_time": "2023-10-18T16:53:43.396812Z"
    }
   }
  },
  {
   "cell_type": "code",
   "execution_count": 40,
   "outputs": [],
   "source": [
    "from sklearn.manifold import TSNE\n",
    "from sklearn.decomposition import PCA"
   ],
   "metadata": {
    "collapsed": false,
    "ExecuteTime": {
     "start_time": "2023-10-18T17:25:04.840760Z",
     "end_time": "2023-10-18T17:25:05.526915Z"
    }
   }
  },
  {
   "cell_type": "code",
   "execution_count": 41,
   "outputs": [
    {
     "name": "stderr",
     "output_type": "stream",
     "text": [
      "C:\\Users\\Patrick Xu\\AppData\\Local\\Programs\\Python\\Python310\\lib\\site-packages\\sklearn\\manifold\\_t_sne.py:805: FutureWarning: The default learning rate in TSNE will change from 200.0 to 'auto' in 1.2.\n",
      "  warnings.warn(\n",
      "C:\\Users\\Patrick Xu\\AppData\\Local\\Programs\\Python\\Python310\\lib\\site-packages\\sklearn\\manifold\\_t_sne.py:991: FutureWarning: The PCA initialization in TSNE will change to have the standard deviation of PC1 equal to 1e-4 in 1.2. This will ensure better convergence.\n",
      "  warnings.warn(\n"
     ]
    },
    {
     "name": "stdout",
     "output_type": "stream",
     "text": [
      "[t-SNE] Computing 226 nearest neighbors...\n",
      "[t-SNE] Indexed 2041 samples in 0.001s...\n",
      "[t-SNE] Computed neighbors for 2041 samples in 0.129s...\n",
      "[t-SNE] Computed conditional probabilities for sample 1000 / 2041\n",
      "[t-SNE] Computed conditional probabilities for sample 2000 / 2041\n",
      "[t-SNE] Computed conditional probabilities for sample 2041 / 2041\n",
      "[t-SNE] Mean sigma: 2.782243\n",
      "[t-SNE] KL divergence after 250 iterations with early exaggeration: 50.894039\n",
      "[t-SNE] KL divergence after 1000 iterations: 0.446441\n"
     ]
    }
   ],
   "source": [
    "pca_comp_n = 30\n",
    "batch_size = 32\n",
    "\n",
    "pca = PCA(n_components=pca_comp_n, copy=True).fit(emb)\n",
    "p = pca.transform(emb)\n",
    "\n",
    "# ind = np.random.choice(len(emb), 10000)\n",
    "#\n",
    "tsne = TSNE(n_components=2, verbose=1, perplexity=75, random_state=142, init='pca')\n",
    "z = tsne.fit_transform(emb)\n",
    "interictal_inds = np.where(target == 0)[0]\n",
    "ictal_inds = np.where(target == 1)[0]\n"
   ],
   "metadata": {
    "collapsed": false,
    "ExecuteTime": {
     "start_time": "2023-10-18T17:25:05.646143Z",
     "end_time": "2023-10-18T17:25:11.353896Z"
    }
   }
  },
  {
   "cell_type": "code",
   "execution_count": 43,
   "outputs": [
    {
     "ename": "TypeError",
     "evalue": "scatter() missing 2 required positional arguments: 'x' and 'y'",
     "output_type": "error",
     "traceback": [
      "\u001B[1;31m---------------------------------------------------------------------------\u001B[0m",
      "\u001B[1;31mTypeError\u001B[0m                                 Traceback (most recent call last)",
      "Input \u001B[1;32mIn [43]\u001B[0m, in \u001B[0;36m<cell line: 5>\u001B[1;34m()\u001B[0m\n\u001B[0;32m      3\u001B[0m plt\u001B[38;5;241m.\u001B[39mscatter(spc[interictal_inds,\u001B[38;5;241m0\u001B[39m],spc[interictal_inds,\u001B[38;5;241m1\u001B[39m],c\u001B[38;5;241m=\u001B[39m\u001B[38;5;124m'\u001B[39m\u001B[38;5;124mgold\u001B[39m\u001B[38;5;124m'\u001B[39m,label\u001B[38;5;241m=\u001B[39m \u001B[38;5;124m'\u001B[39m\u001B[38;5;124minterictal\u001B[39m\u001B[38;5;124m'\u001B[39m)\n\u001B[0;32m      4\u001B[0m plt\u001B[38;5;241m.\u001B[39mscatter(spc[ictal_inds, \u001B[38;5;241m0\u001B[39m], spc[ictal_inds, \u001B[38;5;241m1\u001B[39m], c\u001B[38;5;241m=\u001B[39m\u001B[38;5;124m'\u001B[39m\u001B[38;5;124mroyalblue\u001B[39m\u001B[38;5;124m'\u001B[39m, label\u001B[38;5;241m=\u001B[39m\u001B[38;5;124m'\u001B[39m\u001B[38;5;124mictal\u001B[39m\u001B[38;5;124m'\u001B[39m)\n\u001B[1;32m----> 5\u001B[0m \u001B[43mplt\u001B[49m\u001B[38;5;241;43m.\u001B[39;49m\u001B[43mscatter\u001B[49m\u001B[43m(\u001B[49m\u001B[43m)\u001B[49m\n\u001B[0;32m      6\u001B[0m \u001B[38;5;66;03m# plt.title('Swav Embedding t-SNE')\u001B[39;00m\n\u001B[0;32m      7\u001B[0m plt\u001B[38;5;241m.\u001B[39mxlabel(\u001B[38;5;124m'\u001B[39m\u001B[38;5;124mcomp 1\u001B[39m\u001B[38;5;124m'\u001B[39m)\n",
      "\u001B[1;31mTypeError\u001B[0m: scatter() missing 2 required positional arguments: 'x' and 'y'"
     ]
    },
    {
     "data": {
      "text/plain": "Canvas(toolbar=Toolbar(toolitems=[('Home', 'Reset original view', 'home', 'home'), ('Back', 'Back to previous …",
      "image/png": "[encoded data removed]",
      "text/html": "\n            <div style=\"display: inline-block;\">\n                <div class=\"jupyter-widgets widget-label\" style=\"text-align: center;\">\n                    Figure\n                </div>\n                <img src='data:image/png;base64,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' width=1000.0/>\n            </div>\n        ",
      "application/vnd.jupyter.widget-view+json": {
       "version_major": 2,
       "version_minor": 0,
       "model_id": "f9acf28352b9446dabf016449c76115b"
      }
     },
     "metadata": {},
     "output_type": "display_data"
    }
   ],
   "source": [
    "spc = p\n",
    "plt.figure(figsize=(10, 8))\n",
    "plt.scatter(spc[interictal_inds, 0], spc[interictal_inds, 1], c='gold', label='interictal')\n",
    "plt.scatter(spc[ictal_inds, 0], spc[ictal_inds, 1], c='royalblue', label='ictal')\n",
    "plt.scatter()\n",
    "# plt.title('Swav Embedding t-SNE')\n",
    "plt.xlabel('comp 1')\n",
    "plt.ylabel(\"comp 2\")\n",
    "plt.legend()\n",
    "# plt.xlim(-67, 74)\n",
    "# plt.ylim(-67, 75)\n",
    "plt.grid()\n",
    "plt.show()"
   ],
   "metadata": {
    "collapsed": false,
    "ExecuteTime": {
     "start_time": "2023-10-18T17:25:11.981456Z",
     "end_time": "2023-10-18T17:25:12.786913Z"
    }
   }
  },
  {
   "cell_type": "code",
   "execution_count": 50,
   "outputs": [
    {
     "ename": "ValueError",
     "evalue": "multiclass format is not supported",
     "output_type": "error",
     "traceback": [
      "\u001B[1;31m---------------------------------------------------------------------------\u001B[0m",
      "\u001B[1;31mValueError\u001B[0m                                Traceback (most recent call last)",
      "Input \u001B[1;32mIn [50]\u001B[0m, in \u001B[0;36m<cell line: 4>\u001B[1;34m()\u001B[0m\n\u001B[0;32m      1\u001B[0m \u001B[38;5;28;01mfrom\u001B[39;00m \u001B[38;5;21;01msklearn\u001B[39;00m\u001B[38;5;21;01m.\u001B[39;00m\u001B[38;5;21;01mmetrics\u001B[39;00m \u001B[38;5;28;01mimport\u001B[39;00m RocCurveDisplay\n\u001B[0;32m      2\u001B[0m target, np\u001B[38;5;241m.\u001B[39margmax(output,axis\u001B[38;5;241m=\u001B[39m\u001B[38;5;241m1\u001B[39m)\n\u001B[1;32m----> 4\u001B[0m \u001B[43mRocCurveDisplay\u001B[49m\u001B[38;5;241;43m.\u001B[39;49m\u001B[43mfrom_predictions\u001B[49m\u001B[43m(\u001B[49m\n\u001B[0;32m      5\u001B[0m \u001B[43m    \u001B[49m\u001B[43mtarget\u001B[49m\u001B[43m,\u001B[49m\n\u001B[0;32m      6\u001B[0m \u001B[43m    \u001B[49m\u001B[43mnp\u001B[49m\u001B[38;5;241;43m.\u001B[39;49m\u001B[43margmax\u001B[49m\u001B[43m(\u001B[49m\u001B[43moutput\u001B[49m\u001B[43m,\u001B[49m\u001B[43maxis\u001B[49m\u001B[38;5;241;43m=\u001B[39;49m\u001B[38;5;241;43m1\u001B[39;49m\u001B[43m)\u001B[49m\u001B[43m,\u001B[49m\n\u001B[0;32m      7\u001B[0m \u001B[43m    \u001B[49m\u001B[43mcolor\u001B[49m\u001B[38;5;241;43m=\u001B[39;49m\u001B[38;5;124;43m\"\u001B[39;49m\u001B[38;5;124;43mdarkorange\u001B[39;49m\u001B[38;5;124;43m\"\u001B[39;49m\u001B[43m,\u001B[49m\n\u001B[0;32m      8\u001B[0m \u001B[43m)\u001B[49m\n\u001B[0;32m      9\u001B[0m plt\u001B[38;5;241m.\u001B[39mplot([\u001B[38;5;241m0\u001B[39m, \u001B[38;5;241m1\u001B[39m], [\u001B[38;5;241m0\u001B[39m, \u001B[38;5;241m1\u001B[39m], \u001B[38;5;124m\"\u001B[39m\u001B[38;5;124mk--\u001B[39m\u001B[38;5;124m\"\u001B[39m, label\u001B[38;5;241m=\u001B[39m\u001B[38;5;124m\"\u001B[39m\u001B[38;5;124mchance level (AUC = 0.5)\u001B[39m\u001B[38;5;124m\"\u001B[39m)\n\u001B[0;32m     10\u001B[0m plt\u001B[38;5;241m.\u001B[39maxis(\u001B[38;5;124m\"\u001B[39m\u001B[38;5;124msquare\u001B[39m\u001B[38;5;124m\"\u001B[39m)\n",
      "File \u001B[1;32m~\\AppData\\Local\\Programs\\Python\\Python310\\lib\\site-packages\\sklearn\\metrics\\_plot\\roc_curve.py:333\u001B[0m, in \u001B[0;36mRocCurveDisplay.from_predictions\u001B[1;34m(cls, y_true, y_pred, sample_weight, drop_intermediate, pos_label, name, ax, **kwargs)\u001B[0m\n\u001B[0;32m    262\u001B[0m \u001B[38;5;124;03m\"\"\"Plot ROC curve given the true and predicted values.\u001B[39;00m\n\u001B[0;32m    263\u001B[0m \n\u001B[0;32m    264\u001B[0m \u001B[38;5;124;03mRead more in the :ref:`User Guide <visualizations>`.\u001B[39;00m\n\u001B[1;32m   (...)\u001B[0m\n\u001B[0;32m    329\u001B[0m \u001B[38;5;124;03m>>> plt.show()\u001B[39;00m\n\u001B[0;32m    330\u001B[0m \u001B[38;5;124;03m\"\"\"\u001B[39;00m\n\u001B[0;32m    331\u001B[0m check_matplotlib_support(\u001B[38;5;124mf\u001B[39m\u001B[38;5;124m\"\u001B[39m\u001B[38;5;132;01m{\u001B[39;00m\u001B[38;5;28mcls\u001B[39m\u001B[38;5;241m.\u001B[39m\u001B[38;5;18m__name__\u001B[39m\u001B[38;5;132;01m}\u001B[39;00m\u001B[38;5;124m.from_predictions\u001B[39m\u001B[38;5;124m\"\u001B[39m)\n\u001B[1;32m--> 333\u001B[0m fpr, tpr, _ \u001B[38;5;241m=\u001B[39m \u001B[43mroc_curve\u001B[49m\u001B[43m(\u001B[49m\n\u001B[0;32m    334\u001B[0m \u001B[43m    \u001B[49m\u001B[43my_true\u001B[49m\u001B[43m,\u001B[49m\n\u001B[0;32m    335\u001B[0m \u001B[43m    \u001B[49m\u001B[43my_pred\u001B[49m\u001B[43m,\u001B[49m\n\u001B[0;32m    336\u001B[0m \u001B[43m    \u001B[49m\u001B[43mpos_label\u001B[49m\u001B[38;5;241;43m=\u001B[39;49m\u001B[43mpos_label\u001B[49m\u001B[43m,\u001B[49m\n\u001B[0;32m    337\u001B[0m \u001B[43m    \u001B[49m\u001B[43msample_weight\u001B[49m\u001B[38;5;241;43m=\u001B[39;49m\u001B[43msample_weight\u001B[49m\u001B[43m,\u001B[49m\n\u001B[0;32m    338\u001B[0m \u001B[43m    \u001B[49m\u001B[43mdrop_intermediate\u001B[49m\u001B[38;5;241;43m=\u001B[39;49m\u001B[43mdrop_intermediate\u001B[49m\u001B[43m,\u001B[49m\n\u001B[0;32m    339\u001B[0m \u001B[43m\u001B[49m\u001B[43m)\u001B[49m\n\u001B[0;32m    340\u001B[0m roc_auc \u001B[38;5;241m=\u001B[39m auc(fpr, tpr)\n\u001B[0;32m    342\u001B[0m name \u001B[38;5;241m=\u001B[39m \u001B[38;5;124m\"\u001B[39m\u001B[38;5;124mClassifier\u001B[39m\u001B[38;5;124m\"\u001B[39m \u001B[38;5;28;01mif\u001B[39;00m name \u001B[38;5;129;01mis\u001B[39;00m \u001B[38;5;28;01mNone\u001B[39;00m \u001B[38;5;28;01melse\u001B[39;00m name\n",
      "File \u001B[1;32m~\\AppData\\Local\\Programs\\Python\\Python310\\lib\\site-packages\\sklearn\\metrics\\_ranking.py:979\u001B[0m, in \u001B[0;36mroc_curve\u001B[1;34m(y_true, y_score, pos_label, sample_weight, drop_intermediate)\u001B[0m\n\u001B[0;32m    890\u001B[0m \u001B[38;5;28;01mdef\u001B[39;00m \u001B[38;5;21mroc_curve\u001B[39m(\n\u001B[0;32m    891\u001B[0m     y_true, y_score, \u001B[38;5;241m*\u001B[39m, pos_label\u001B[38;5;241m=\u001B[39m\u001B[38;5;28;01mNone\u001B[39;00m, sample_weight\u001B[38;5;241m=\u001B[39m\u001B[38;5;28;01mNone\u001B[39;00m, drop_intermediate\u001B[38;5;241m=\u001B[39m\u001B[38;5;28;01mTrue\u001B[39;00m\n\u001B[0;32m    892\u001B[0m ):\n\u001B[0;32m    893\u001B[0m     \u001B[38;5;124;03m\"\"\"Compute Receiver operating characteristic (ROC).\u001B[39;00m\n\u001B[0;32m    894\u001B[0m \n\u001B[0;32m    895\u001B[0m \u001B[38;5;124;03m    Note: this implementation is restricted to the binary classification task.\u001B[39;00m\n\u001B[1;32m   (...)\u001B[0m\n\u001B[0;32m    977\u001B[0m \n\u001B[0;32m    978\u001B[0m \u001B[38;5;124;03m    \"\"\"\u001B[39;00m\n\u001B[1;32m--> 979\u001B[0m     fps, tps, thresholds \u001B[38;5;241m=\u001B[39m \u001B[43m_binary_clf_curve\u001B[49m\u001B[43m(\u001B[49m\n\u001B[0;32m    980\u001B[0m \u001B[43m        \u001B[49m\u001B[43my_true\u001B[49m\u001B[43m,\u001B[49m\u001B[43m \u001B[49m\u001B[43my_score\u001B[49m\u001B[43m,\u001B[49m\u001B[43m \u001B[49m\u001B[43mpos_label\u001B[49m\u001B[38;5;241;43m=\u001B[39;49m\u001B[43mpos_label\u001B[49m\u001B[43m,\u001B[49m\u001B[43m \u001B[49m\u001B[43msample_weight\u001B[49m\u001B[38;5;241;43m=\u001B[39;49m\u001B[43msample_weight\u001B[49m\n\u001B[0;32m    981\u001B[0m \u001B[43m    \u001B[49m\u001B[43m)\u001B[49m\n\u001B[0;32m    983\u001B[0m     \u001B[38;5;66;03m# Attempt to drop thresholds corresponding to points in between and\u001B[39;00m\n\u001B[0;32m    984\u001B[0m     \u001B[38;5;66;03m# collinear with other points. These are always suboptimal and do not\u001B[39;00m\n\u001B[0;32m    985\u001B[0m     \u001B[38;5;66;03m# appear on a plotted ROC curve (and thus do not affect the AUC).\u001B[39;00m\n\u001B[1;32m   (...)\u001B[0m\n\u001B[0;32m    990\u001B[0m     \u001B[38;5;66;03m# but does not drop more complicated cases like fps = [1, 3, 7],\u001B[39;00m\n\u001B[0;32m    991\u001B[0m     \u001B[38;5;66;03m# tps = [1, 2, 4]; there is no harm in keeping too many thresholds.\u001B[39;00m\n\u001B[0;32m    992\u001B[0m     \u001B[38;5;28;01mif\u001B[39;00m drop_intermediate \u001B[38;5;129;01mand\u001B[39;00m \u001B[38;5;28mlen\u001B[39m(fps) \u001B[38;5;241m>\u001B[39m \u001B[38;5;241m2\u001B[39m:\n",
      "File \u001B[1;32m~\\AppData\\Local\\Programs\\Python\\Python310\\lib\\site-packages\\sklearn\\metrics\\_ranking.py:738\u001B[0m, in \u001B[0;36m_binary_clf_curve\u001B[1;34m(y_true, y_score, pos_label, sample_weight)\u001B[0m\n\u001B[0;32m    736\u001B[0m y_type \u001B[38;5;241m=\u001B[39m type_of_target(y_true, input_name\u001B[38;5;241m=\u001B[39m\u001B[38;5;124m\"\u001B[39m\u001B[38;5;124my_true\u001B[39m\u001B[38;5;124m\"\u001B[39m)\n\u001B[0;32m    737\u001B[0m \u001B[38;5;28;01mif\u001B[39;00m \u001B[38;5;129;01mnot\u001B[39;00m (y_type \u001B[38;5;241m==\u001B[39m \u001B[38;5;124m\"\u001B[39m\u001B[38;5;124mbinary\u001B[39m\u001B[38;5;124m\"\u001B[39m \u001B[38;5;129;01mor\u001B[39;00m (y_type \u001B[38;5;241m==\u001B[39m \u001B[38;5;124m\"\u001B[39m\u001B[38;5;124mmulticlass\u001B[39m\u001B[38;5;124m\"\u001B[39m \u001B[38;5;129;01mand\u001B[39;00m pos_label \u001B[38;5;129;01mis\u001B[39;00m \u001B[38;5;129;01mnot\u001B[39;00m \u001B[38;5;28;01mNone\u001B[39;00m)):\n\u001B[1;32m--> 738\u001B[0m     \u001B[38;5;28;01mraise\u001B[39;00m \u001B[38;5;167;01mValueError\u001B[39;00m(\u001B[38;5;124m\"\u001B[39m\u001B[38;5;132;01m{0}\u001B[39;00m\u001B[38;5;124m format is not supported\u001B[39m\u001B[38;5;124m\"\u001B[39m\u001B[38;5;241m.\u001B[39mformat(y_type))\n\u001B[0;32m    740\u001B[0m check_consistent_length(y_true, y_score, sample_weight)\n\u001B[0;32m    741\u001B[0m y_true \u001B[38;5;241m=\u001B[39m column_or_1d(y_true)\n",
      "\u001B[1;31mValueError\u001B[0m: multiclass format is not supported"
     ]
    }
   ],
   "source": [
    "from sklearn.metrics import RocCurveDisplay\n",
    "target, np.argmax(output,axis=1)\n",
    "\n",
    "RocCurveDisplay.from_predictions(\n",
    "    target,\n",
    "    np.argmax(output,axis=1),\n",
    "    color=\"darkorange\",\n",
    ")\n",
    "plt.plot([0, 1], [0, 1], \"k--\", label=\"chance level (AUC = 0.5)\")\n",
    "plt.axis(\"square\")\n",
    "plt.xlabel(\"False Positive Rate\")\n",
    "plt.ylabel(\"True Positive Rate\")\n",
    "plt.title(\"One-vs-Rest ROC curves:\\nVirginica vs (Setosa & Versicolor)\")\n",
    "plt.legend()\n",
    "plt.show()"
   ],
   "metadata": {
    "collapsed": false,
    "ExecuteTime": {
     "start_time": "2023-09-28T12:13:27.050119Z",
     "end_time": "2023-09-28T12:13:27.774509Z"
    }
   }
  },
  {
   "cell_type": "code",
   "execution_count": null,
   "outputs": [],
   "source": [
    "output[:, 1]"
   ],
   "metadata": {
    "collapsed": false,
    "ExecuteTime": {
     "start_time": "2023-09-28T12:14:16.433107Z",
     "end_time": "2023-09-28T12:14:17.043930Z"
    }
   }
  },
  {
   "cell_type": "code",
   "execution_count": null,
   "outputs": [],
   "source": [],
   "metadata": {
    "collapsed": false,
    "ExecuteTime": {
     "start_time": "2023-09-28T12:14:17.124038Z",
     "end_time": "2023-09-28T12:14:17.146558Z"
    }
   }
  },
  {
   "cell_type": "code",
   "execution_count": null,
   "outputs": [],
   "source": [
    "\n",
    "output = torch.argmax(output, dim=1)\n",
    "output = output.detach().cpu().numpy()\n",
    "target = target.squeeze().detach().cpu().numpy()"
   ],
   "metadata": {
    "collapsed": false,
    "ExecuteTime": {
     "start_time": "2023-09-28T12:14:17.785891Z",
     "end_time": "2023-09-28T12:14:18.441248Z"
    }
   }
  },
  {
   "cell_type": "code",
   "execution_count": null,
   "outputs": [],
   "source": [],
   "metadata": {
    "collapsed": false,
    "ExecuteTime": {
     "start_time": "2023-09-28T12:14:18.953172Z",
     "end_time": "2023-09-28T12:14:18.963262Z"
    }
   }
  },
  {
   "cell_type": "code",
   "execution_count": null,
   "outputs": [],
   "source": [
    "import sklearn\n",
    "\n",
    "clf_report = sklearn.metrics.classification_report(output, target, digits=6)\n",
    "\n",
    "print(f\"Classification Report : \\n{clf_report}\")"
   ],
   "metadata": {
    "collapsed": false,
    "ExecuteTime": {
     "start_time": "2023-09-28T12:14:19.499418Z",
     "end_time": "2023-09-28T12:14:20.121082Z"
    }
   }
  },
  {
   "cell_type": "code",
   "execution_count": null,
   "outputs": [],
   "source": [],
   "metadata": {
    "collapsed": false
   }
  },
  {
   "cell_type": "code",
   "execution_count": null,
   "outputs": [],
   "source": [
    "for batch, label in tqdm(val_dataloader):\n",
    "    batch = batch.to(device)\n",
    "    label = label.to(device)\n",
    "    label = F.one_hot(label).squeeze()\n",
    "    outputs = model(batch)\n",
    "    print(batch)\n",
    "    loss = sigmoid_focal_loss(pred.float(), label.float(), alpha=0.5, gamma=8, reduction='mean')\n",
    "    print(loss)\n",
    "    break"
   ],
   "metadata": {
    "collapsed": false
   }
  },
  {
   "cell_type": "code",
   "execution_count": null,
   "outputs": [],
   "source": [
    "# import copy\n",
    "# import torch\n",
    "# import torchvision\n",
    "# from torch import nn\n",
    "#\n",
    "# from lightly.data import DINOCollateFunction, LightlyDataset\n",
    "# from lightly.loss import DINOLoss\n",
    "# from lightly.models.modules import DINOProjectionHead\n",
    "# from lightly.models.utils import deactivate_requires_grad, update_momentum\n",
    "# from lightly.utils.scheduler import cosine_schedule\n",
    "#\n",
    "#\n",
    "# class DINO(torch.nn.Module):\n",
    "#     def __init__(self, backbone, input_dim):\n",
    "#         super().__init__()\n",
    "#         self.student_backbone = backbone\n",
    "#         self.student_head = DINOProjectionHead(\n",
    "#             input_dim, 512, 64, 2048, freeze_last_layer=1\n",
    "#         )\n",
    "#         self.teacher_backbone = copy.deepcopy(backbone)\n",
    "#         self.teacher_head = DINOProjectionHead(input_dim, 512, 64, 2048)\n",
    "#         deactivate_requires_grad(self.teacher_backbone)\n",
    "#         deactivate_requires_grad(self.teacher_head)\n",
    "#\n",
    "#     def forward(self, x):\n",
    "#         y = self.student_backbone(x).flatten(start_dim=1)\n",
    "#         z = self.student_head(y)\n",
    "#         return z\n",
    "#\n",
    "#     def forward_teacher(self, x):\n",
    "#         y = self.teacher_backbone(x).flatten(start_dim=1)\n",
    "#         z = self.teacher_head(y)\n",
    "#         return z\n",
    "#\n",
    "#\n",
    "# resnet = torchvision.models.resnet18()\n",
    "# backbone = nn.Sequential(*list(resnet.children())[:-1])\n",
    "# input_dim = 512\n",
    "# # instead of a resnet you can also use a vision transformer backbone as in the\n",
    "# # original paper (you might have to reduce the batch size in this case):\n",
    "# # backbone = torch.hub.load('facebookresearch/dino:main', 'dino_vits16', pretrained=False)\n",
    "# # input_dim = backbone.embed_dim\n",
    "#\n",
    "# model = DINO(backbone, input_dim)\n",
    "#\n",
    "# device = \"cuda\" if torch.cuda.is_available() else \"cpu\"\n",
    "# model.to(device)\n",
    "#\n",
    "# # # we ignore object detection annotations by setting target_transform to return 0\n",
    "# # pascal_voc = torchvision.datasets.VOCDetection(\n",
    "# #     \"datasets/pascal_voc\", download=True, target_transform=lambda t: 0\n",
    "# # )\n",
    "# # dataset = LightlyDataset.from_torch_dataset(pascal_voc)\n",
    "# # # or create a dataset from a folder containing images or videos:\n",
    "# # # dataset = LightlyDataset(\"path/to/folder\")\n",
    "#\n",
    "# collate_fn = DINOCollateFunction(solarization_prob = 0, hf_prob = 0,vf_prob = 0,rr_prob=0,cj_prob=0,random_gray_scale=0)\n",
    "#\n",
    "# dataloader = torch.utils.data.DataLoader(\n",
    "#     train_set,\n",
    "#     batch_size=64,\n",
    "#     collate_fn=collate_fn,\n",
    "#     shuffle=True,\n",
    "#     drop_last=True,\n",
    "#     num_workers=1,\n",
    "# )\n",
    "#\n",
    "# criterion = DINOLoss(\n",
    "#     output_dim=2048,\n",
    "#     warmup_teacher_temp_epochs=5,\n",
    "# )\n",
    "# # move loss to correct device because it also contains parameters\n",
    "# criterion = criterion.to(device)\n",
    "#\n",
    "# optimizer = torch.optim.Adam(model.parameters(), lr=0.001)\n",
    "#\n",
    "# epochs = 10\n",
    "#\n",
    "# print(\"Starting Training\")\n",
    "# for epoch in range(epochs):\n",
    "#     total_loss = 0\n",
    "#     momentum_val = cosine_schedule(epoch, epochs, 0.996, 1)\n",
    "#     for views, _, _ in tqdm(dataloader):\n",
    "#         update_momentum(model.student_backbone, model.teacher_backbone, m=momentum_val)\n",
    "#         update_momentum(model.student_head, model.teacher_head, m=momentum_val)\n",
    "#         views = [view.to(device) for view in views]\n",
    "#         global_views = views[:2]\n",
    "#         teacher_out = [model.forward_teacher(view) for view in global_views]\n",
    "#         student_out = [model.forward(view) for view in views]\n",
    "#         loss = criterion(teacher_out, student_out, epoch=epoch)\n",
    "#         total_loss += loss.detach()\n",
    "#         loss.backward()\n",
    "#         # We only cancel gradients of student head.\n",
    "#         model.student_head.cancel_last_layer_gradients(current_epoch=epoch)\n",
    "#         optimizer.step()\n",
    "#         optimizer.zero_grad()\n",
    "#\n",
    "#     avg_loss = total_loss / len(dataloader)\n",
    "#     print(f\"epoch: {epoch:>02}, loss: {avg_loss:.5f}\")"
   ],
   "metadata": {
    "collapsed": false
   }
  },
  {
   "cell_type": "code",
   "execution_count": null,
   "outputs": [],
   "source": [],
   "metadata": {
    "collapsed": false
   }
  },
  {
   "cell_type": "code",
   "execution_count": null,
   "outputs": [],
   "source": [
    "augmentation = T.Compose([\n",
    "    T.ToPILImage(),\n",
    "    T.Resize((256, 512), interpolation=T.InterpolationMode.NEAREST),\n",
    "    T.RandomApply([T.ColorJitter()], p=0.5),\n",
    "    T.RandomApply([T.GaussianBlur(kernel_size=(3, 3))], p=0.5),\n",
    "    T.RandomInvert(p=0.2),\n",
    "    T.RandomPosterize(4, p=0.2),\n",
    "])\n",
    "\n",
    "data = ictal_data_X[0]\n",
    "\n",
    "channel_index = np.arange(data.shape[0])\n",
    "np.random.shuffle(channel_index)\n",
    "data = data[channel_index]\n",
    "data = torch.from_numpy(data).clone()\n",
    "data = data.repeat(3, 1, 1)\n",
    "data = augmentation(data)\n",
    "data"
   ],
   "metadata": {
    "collapsed": false
   }
  },
  {
   "cell_type": "code",
   "execution_count": null,
   "outputs": [],
   "source": [
    "channel_index"
   ],
   "metadata": {
    "collapsed": false
   }
  },
  {
   "cell_type": "code",
   "execution_count": null,
   "outputs": [],
   "source": [
    "data[channel_index]"
   ],
   "metadata": {
    "collapsed": false
   }
  },
  {
   "cell_type": "code",
   "execution_count": null,
   "outputs": [],
   "source": [
    "data"
   ],
   "metadata": {
    "collapsed": false
   }
  },
  {
   "cell_type": "code",
   "execution_count": null,
   "outputs": [],
   "source": [
    "#\n",
    "# print(\"Starting Training\")\n",
    "# for epoch in range(50):\n",
    "#     total_loss = 0\n",
    "#     i = 0\n",
    "#     for batch, label in tqdm(dataloader):\n",
    "#         batch = batch.to(device)\n",
    "#         # print(type(batch))\n",
    "#         label = label.to(device)\n",
    "#         label = F.one_hot(label).squeeze()\n",
    "#         outputs = model(batch)\n",
    "#         loss = sigmoid_focal_loss(outputs.float(),label.float(), alpha = 0.25, gamma = 7,reduction = 'mean')\n",
    "#         total_loss += loss.detach()\n",
    "#         loss.backward()\n",
    "#         optimizer.step()\n",
    "#         optimizer.zero_grad()\n",
    "#\n",
    "#     avg_loss = total_loss / len(dataloader)\n",
    "#     torch.save({\n",
    "#             'epoch': epoch,\n",
    "#             'model_state_dict': model.state_dict(),\n",
    "#             'optimizer_state_dict': optimizer.state_dict(),\n",
    "#             'loss': avg_loss,\n",
    "#             }, 'ckpt/checkpoint'+str(epoch)+'.pth')\n",
    "#\n",
    "#     print(f\"epoch: {epoch:>02}, loss: {avg_loss:.5f}\")    "
   ],
   "metadata": {
    "collapsed": false
   }
  }
 ],
 "metadata": {
  "kernelspec": {
   "display_name": "Python 3",
   "language": "python",
   "name": "python3"
  },
  "language_info": {
   "codemirror_mode": {
    "name": "ipython",
    "version": 2
   },
   "file_extension": ".py",
   "mimetype": "text/x-python",
   "name": "python",
   "nbconvert_exporter": "python",
   "pygments_lexer": "ipython2",
   "version": "2.7.6"
  }
 },
 "nbformat": 4,
 "nbformat_minor": 0
}
