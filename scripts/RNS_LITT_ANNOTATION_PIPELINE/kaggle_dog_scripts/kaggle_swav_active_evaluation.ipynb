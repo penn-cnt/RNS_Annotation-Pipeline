{
 "cells": [
  {
   "cell_type": "code",
   "execution_count": 1,
   "metadata": {
    "collapsed": true,
    "ExecuteTime": {
     "end_time": "2024-08-26T18:02:18.241377Z",
     "start_time": "2024-08-26T18:02:18.020784Z"
    }
   },
   "outputs": [],
   "source": [
    "%load_ext autoreload\n",
    "%autoreload 2\n",
    "%matplotlib widget"
   ]
  },
  {
   "cell_type": "code",
   "execution_count": 2,
   "outputs": [],
   "source": [
    "import sys\n",
    "import os\n",
    "\n",
    "sys.path.append('../tools')\n",
    "import h5py\n",
    "import pandas as pd\n",
    "import numpy as np\n",
    "import tensorflow as tf\n",
    "import matplotlib.pyplot as plt\n",
    "from sklearn.manifold import TSNE\n",
    "\n",
    "from torch.utils.data import DataLoader\n",
    "from torch.utils.data import Dataset\n",
    "import torch\n",
    "from torch import nn\n",
    "from tqdm import tqdm\n",
    "import sklearn\n",
    "from sklearn.model_selection import train_test_split\n",
    "import torchvision.transforms as T\n",
    "import pytorch_lightning as pl\n",
    "import pytorch_lightning.loggers as pl_loggers\n",
    "import pytorch_lightning.callbacks as pl_callbacks\n",
    "from models.kaggle_dog_dataloader import *\n",
    "from models.SwaV import SwaV\n",
    "from models.SupervisedDownstream import SupervisedDownstream\n",
    "from active_learning_data import Data"
   ],
   "metadata": {
    "collapsed": false,
    "ExecuteTime": {
     "end_time": "2024-08-26T18:02:30.335378Z",
     "start_time": "2024-08-26T18:02:18.242378Z"
    }
   }
  },
  {
   "cell_type": "code",
   "execution_count": 3,
   "outputs": [],
   "source": [
    "data_dir = \"../../../user_data/competition_data/clips\"\n",
    "log_folder_root = '../../../user_data/logs/'\n",
    "ckpt_folder_root = '../../../user_data/checkpoints/'\n",
    "\n",
    "targets = [\n",
    "    'Dog_1',\n",
    "    'Dog_2',\n",
    "    'Dog_3',\n",
    "    'Dog_4',\n",
    "]\n",
    "\n",
    "# targets = [\n",
    "#     'Patient_1',\n",
    "#     'Patient_2',\n",
    "#     'Patient_3',\n",
    "#     'Patient_4',\n",
    "#     'Patient_5',\n",
    "#     'Patient_6',\n",
    "#     'Patient_7',\n",
    "#     'Patient_8'\n",
    "# ]"
   ],
   "metadata": {
    "collapsed": false,
    "ExecuteTime": {
     "end_time": "2024-08-26T18:02:30.864378Z",
     "start_time": "2024-08-26T18:02:30.336381Z"
    }
   }
  },
  {
   "cell_type": "code",
   "execution_count": 4,
   "outputs": [],
   "source": [
    "random_seed = 42\n",
    "torch.manual_seed(random_seed)\n",
    "np.random.seed(random_seed)\n",
    "determine_generator = torch.Generator()\n",
    "determine_generator.manual_seed(random_seed)\n",
    "\n",
    "if torch.cuda.is_available():\n",
    "    torch.cuda.manual_seed(random_seed)\n",
    "    # True ensures the algorithm selected by CUFA is deterministic\n",
    "    torch.backends.cudnn.deterministic = True\n",
    "    # torch.set_deterministic(True)\n",
    "    # False ensures CUDA select the same algorithm each time the application is run\n",
    "    torch.backends.cudnn.benchmark = False"
   ],
   "metadata": {
    "collapsed": false,
    "ExecuteTime": {
     "end_time": "2024-08-26T18:02:31.425380Z",
     "start_time": "2024-08-26T18:02:30.865381Z"
    }
   }
  },
  {
   "cell_type": "code",
   "execution_count": 5,
   "outputs": [],
   "source": [
    "strategy_name = 'VarRatio'"
   ],
   "metadata": {
    "collapsed": false,
    "ExecuteTime": {
     "end_time": "2024-08-26T18:02:31.957378Z",
     "start_time": "2024-08-26T18:02:31.426379Z"
    }
   }
  },
  {
   "cell_type": "code",
   "execution_count": 6,
   "outputs": [],
   "source": [
    "args_task = {'n_epoch': 100,\n",
    "             'transform_train': True,\n",
    "             'strategy_name': strategy_name,\n",
    "             'transform': False,\n",
    "             'loader_tr_args': {'batch_size': 256, 'num_workers': 0, 'collate_fn': collate_fn,\n",
    "                                'drop_last': True},\n",
    "             'loader_te_args': {'batch_size': 256, 'num_workers': 0, 'collate_fn': collate_fn,\n",
    "                                'drop_last': True}\n",
    "             }"
   ],
   "metadata": {
    "collapsed": false,
    "ExecuteTime": {
     "end_time": "2024-08-26T18:02:32.491480Z",
     "start_time": "2024-08-26T18:02:31.958381Z"
    }
   }
  },
  {
   "cell_type": "code",
   "execution_count": 7,
   "outputs": [
    {
     "name": "stdout",
     "output_type": "stream",
     "text": [
      "Loading data\n",
      "(0s)\n",
      "X (178, 16, 400) y (178,) latencies (178,)\n",
      "Loading data\n",
      "(0s)\n",
      "X (172, 16, 400) y (172,) latencies (172,)\n",
      "Loading data\n",
      "(0s)\n",
      "X (480, 16, 400) y (480,) latencies (480,)\n",
      "Loading data\n",
      "(0s)\n",
      "X (257, 16, 400) y (257,) latencies (257,)\n",
      "Loading data\n",
      "(0s)\n",
      "X (418, 16, 400) y (418,)\n",
      "Loading data\n",
      "(0s)\n",
      "X (1148, 16, 400) y (1148,)\n",
      "Loading data\n",
      "(3s)\n",
      "X (4760, 16, 400) y (4760,)\n",
      "Loading data\n",
      "(2s)\n",
      "X (2790, 16, 400) y (2790,)\n",
      "(10203, 16, 400)\n"
     ]
    }
   ],
   "source": [
    "data, label = load_annotated_data(data_dir, targets)\n",
    "X_train, X_test, y_train, y_test = train_test_split(data, label, test_size=0.30, random_state=random_seed)"
   ],
   "metadata": {
    "collapsed": false,
    "ExecuteTime": {
     "end_time": "2024-08-26T18:02:42.272957Z",
     "start_time": "2024-08-26T18:02:32.492484Z"
    }
   }
  },
  {
   "cell_type": "code",
   "execution_count": 8,
   "outputs": [
    {
     "ename": "TypeError",
     "evalue": "Data.__init__() missing 2 required positional arguments: 'handler' and 'args_task'",
     "output_type": "error",
     "traceback": [
      "\u001B[1;31m---------------------------------------------------------------------------\u001B[0m",
      "\u001B[1;31mTypeError\u001B[0m                                 Traceback (most recent call last)",
      "Cell \u001B[1;32mIn[8], line 1\u001B[0m\n\u001B[1;32m----> 1\u001B[0m dataset \u001B[38;5;241m=\u001B[39m \u001B[43mData\u001B[49m\u001B[43m(\u001B[49m\u001B[43mX_train\u001B[49m\u001B[43m,\u001B[49m\u001B[43m \u001B[49m\u001B[43my_train\u001B[49m\u001B[43m,\u001B[49m\u001B[43m \u001B[49m\u001B[43mX_test\u001B[49m\u001B[43m,\u001B[49m\u001B[43m \u001B[49m\u001B[43my_test\u001B[49m\u001B[43m,\u001B[49m\u001B[43m \u001B[49m\u001B[43mActiveDataHandler\u001B[49m\u001B[43m,\u001B[49m\u001B[43m \u001B[49m\u001B[43margs_task\u001B[49m\u001B[43m)\u001B[49m\n",
      "\u001B[1;31mTypeError\u001B[0m: Data.__init__() missing 2 required positional arguments: 'handler' and 'args_task'"
     ]
    }
   ],
   "source": [
    "dataset = Data(X_train, y_train, X_test, y_test, ActiveDataHandler, args_task)"
   ],
   "metadata": {
    "collapsed": false,
    "ExecuteTime": {
     "end_time": "2024-08-26T18:04:28.556705Z",
     "start_time": "2024-08-26T18:04:23.053436Z"
    }
   }
  },
  {
   "cell_type": "code",
   "execution_count": 22,
   "outputs": [],
   "source": [
    "test_data = dataset.get_test_data()"
   ],
   "metadata": {
    "collapsed": false,
    "ExecuteTime": {
     "start_time": "2023-10-26T13:18:02.006992Z",
     "end_time": "2023-10-26T13:18:02.661811Z"
    }
   }
  },
  {
   "cell_type": "code",
   "execution_count": 23,
   "outputs": [
    {
     "data": {
      "text/plain": "(3061, 1)"
     },
     "execution_count": 23,
     "metadata": {},
     "output_type": "execute_result"
    }
   ],
   "source": [
    "test_data.Y.shape"
   ],
   "metadata": {
    "collapsed": false,
    "ExecuteTime": {
     "start_time": "2023-10-26T13:18:02.662812Z",
     "end_time": "2023-10-26T13:18:03.169126Z"
    }
   }
  },
  {
   "cell_type": "code",
   "execution_count": 24,
   "outputs": [
    {
     "name": "stderr",
     "output_type": "stream",
     "text": [
      "GPU available: True (cuda), used: True\n",
      "TPU available: False, using: 0 TPU cores\n",
      "IPU available: False, using: 0 IPUs\n",
      "HPU available: False, using: 0 HPUs\n"
     ]
    }
   ],
   "source": [
    "# swav = SwaV().load_from_checkpoint(ckpt_folder_root + 'kaggle_dog_swav_18/kaggle_dog_swav-epoch=116-swav_loss=2.23095.ckpt')\n",
    "swav = SwaV().load_from_checkpoint(\n",
    "    ckpt_folder_root + 'kaggle_dog_swav_34/kaggle_dog_swav-epoch=116-swav_loss=2.73583.ckpt')\n",
    "# swav = SwaV().load_from_checkpoint(ckpt_folder_root + 'kaggle_dog_swav_50/kaggle_dog_swav-epoch=118-swav_loss=3.64062.ckpt')\n",
    "model = SupervisedDownstream(swav.backbone)\n",
    "\n",
    "device = \"cuda\" if torch.cuda.is_available() else \"cpu\"\n",
    "model.to(device)\n",
    "\n",
    "checkpoint_callback = pl_callbacks.ModelCheckpoint(monitor='val_loss',\n",
    "                                                   filename='kaggle_dog_linear_eval-{epoch:02d}-{val_loss:.5f}',\n",
    "                                                   save_last=True, save_top_k=-1,\n",
    "                                                   dirpath=ckpt_folder_root + 'kaggle_dog_swav_34_linear_eval_3c')\n",
    "csv_logger = pl_loggers.CSVLogger(log_folder_root, name=\"kaggle_dog_swav_34_linear_eval_3c\")\n",
    "\n",
    "trainer = pl.Trainer(logger=csv_logger, max_epochs=80, callbacks=[checkpoint_callback], accelerator='gpu', devices=1)\n"
   ],
   "metadata": {
    "collapsed": false,
    "ExecuteTime": {
     "start_time": "2023-10-26T13:18:03.171127Z",
     "end_time": "2023-10-26T13:18:04.300959Z"
    }
   }
  },
  {
   "cell_type": "code",
   "execution_count": 25,
   "outputs": [
    {
     "name": "stderr",
     "output_type": "stream",
     "text": [
      "Restoring states from the checkpoint path at ../../../user_data/checkpoints/kaggle_dog_active/active_checkpoints_EntropySampling/EntropySampling_round_12-epoch=99-train_loss=0.25522.ckpt\n",
      "LOCAL_RANK: 0 - CUDA_VISIBLE_DEVICES: [0]\n",
      "Loaded model weights from checkpoint at ../../../user_data/checkpoints/kaggle_dog_active/active_checkpoints_EntropySampling/EntropySampling_round_12-epoch=99-train_loss=0.25522.ckpt\n",
      "C:\\Users\\Patrick Xu\\AppData\\Local\\Programs\\Python\\Python310\\lib\\site-packages\\pytorch_lightning\\trainer\\connectors\\data_connector.py:236: PossibleUserWarning: The dataloader, predict_dataloader 0, does not have many workers which may be a bottleneck. Consider increasing the value of the `num_workers` argument` (try 16 which is the number of cpus on this machine) in the `DataLoader` init to improve performance.\n",
      "  rank_zero_warn(\n"
     ]
    },
    {
     "data": {
      "text/plain": "Predicting: 0it [00:00, ?it/s]",
      "application/vnd.jupyter.widget-view+json": {
       "version_major": 2,
       "version_minor": 0,
       "model_id": "22b76fb382da4964af609dbfad4e0443"
      }
     },
     "metadata": {},
     "output_type": "display_data"
    }
   ],
   "source": [
    "def collate_fn(batch):\n",
    "    info = list(zip(*batch))\n",
    "    data = info[0]\n",
    "    label = info[1]\n",
    "    return torch.stack(data), torch.stack(label)\n",
    "\n",
    "val_dataloader = torch.utils.data.DataLoader(\n",
    "    test_data,\n",
    "    batch_size=256,\n",
    "    collate_fn=collate_fn,\n",
    "    shuffle=False,\n",
    "    drop_last=True,\n",
    ")\n",
    "predictions = trainer.predict(model, val_dataloader,ckpt_path=ckpt_folder_root + 'kaggle_dog_active/active_checkpoints_EntropySampling/EntropySampling_round_12-epoch=99-train_loss=0.25522.ckpt')"
   ],
   "metadata": {
    "collapsed": false,
    "ExecuteTime": {
     "start_time": "2023-10-26T13:18:10.395362Z",
     "end_time": "2023-10-26T13:18:22.162607Z"
    }
   }
  },
  {
   "cell_type": "code",
   "execution_count": 30,
   "outputs": [
    {
     "name": "stdout",
     "output_type": "stream",
     "text": [
      "tensor([[-1.4234,  1.4006, -0.0382,  0.3646, -1.9584],\n",
      "        [-0.6761, -0.5008, -1.2458, -0.4481, -0.1537],\n",
      "        [-1.9868, -0.0352, -1.0558, -0.3352, -0.5795]], requires_grad=True)\n",
      "tensor([3, 2, 2])\n"
     ]
    }
   ],
   "source": [
    "input = torch.randn(3, 5, requires_grad=True)\n",
    "target = torch.empty(3, dtype=torch.long).random_(5)\n",
    "\n",
    "print(input)\n",
    "print(target)"
   ],
   "metadata": {
    "collapsed": false,
    "ExecuteTime": {
     "start_time": "2023-10-18T18:30:28.610203Z",
     "end_time": "2023-10-18T18:30:29.342779Z"
    }
   }
  },
  {
   "cell_type": "code",
   "execution_count": 17,
   "outputs": [
    {
     "name": "stderr",
     "output_type": "stream",
     "text": [
      "LOCAL_RANK: 0 - CUDA_VISIBLE_DEVICES: [0]\n",
      "C:\\Users\\Patrick Xu\\AppData\\Local\\Programs\\Python\\Python310\\lib\\site-packages\\pytorch_lightning\\trainer\\connectors\\data_connector.py:236: PossibleUserWarning: The dataloader, predict_dataloader 0, does not have many workers which may be a bottleneck. Consider increasing the value of the `num_workers` argument` (try 16 which is the number of cpus on this machine) in the `DataLoader` init to improve performance.\n",
      "  rank_zero_warn(\n"
     ]
    },
    {
     "data": {
      "text/plain": "Predicting: 3it [00:00, ?it/s]",
      "application/vnd.jupyter.widget-view+json": {
       "version_major": 2,
       "version_minor": 0,
       "model_id": "099de563092b4f3488d7bf7311b1b56f"
      }
     },
     "metadata": {},
     "output_type": "display_data"
    }
   ],
   "source": [
    "labeled_dataset = KaggleDataset(data_X, data_y, test_data_X, labeled=True, transform=False)\n",
    "train_set_size = int(labeled_dataset.length * 0.8)\n",
    "valid_set_size = labeled_dataset.length - train_set_size\n",
    "train_set, test_set = torch.utils.data.random_split(labeled_dataset, [train_set_size, valid_set_size],\n",
    "                                                    generator=torch.Generator().manual_seed(42))\n",
    "train_dataloader = torch.utils.data.DataLoader(\n",
    "    train_set,\n",
    "    batch_size=128,\n",
    "    collate_fn=collate_fn,\n",
    "    shuffle=True,\n",
    "    drop_last=True,\n",
    ")\n",
    "val_dataloader = torch.utils.data.DataLoader(\n",
    "    test_set,\n",
    "    batch_size=128,\n",
    "    collate_fn=collate_fn,\n",
    "    shuffle=False,\n",
    "    drop_last=True,\n",
    ")\n",
    "predictions = trainer.predict(model, val_dataloader)"
   ],
   "metadata": {
    "collapsed": false,
    "ExecuteTime": {
     "start_time": "2023-10-18T19:04:56.390011Z",
     "end_time": "2023-10-18T19:05:04.354071Z"
    }
   }
  },
  {
   "cell_type": "code",
   "execution_count": 42,
   "outputs": [
    {
     "data": {
      "text/plain": "<torch.utils.data.dataset.Subset at 0x184922c6380>"
     },
     "execution_count": 42,
     "metadata": {},
     "output_type": "execute_result"
    }
   ],
   "source": [
    "train_set"
   ],
   "metadata": {
    "collapsed": false,
    "ExecuteTime": {
     "start_time": "2023-10-18T17:41:55.269346Z",
     "end_time": "2023-10-18T17:41:55.917097Z"
    }
   }
  },
  {
   "cell_type": "code",
   "execution_count": 26,
   "outputs": [],
   "source": [
    "output_list = []\n",
    "target_list = []\n",
    "emb_list = []\n",
    "m = nn.Softmax(dim=1)\n",
    "for pred, y, emb in predictions:\n",
    "    output_list.append(pred)\n",
    "    target_list.append(y)\n",
    "    emb_list.append(emb)"
   ],
   "metadata": {
    "collapsed": false,
    "ExecuteTime": {
     "start_time": "2023-10-26T13:18:25.261367Z",
     "end_time": "2023-10-26T13:18:25.873925Z"
    }
   }
  },
  {
   "cell_type": "code",
   "execution_count": 27,
   "outputs": [],
   "source": [
    "pred_raw = torch.vstack(output_list)\n",
    "target = torch.vstack(target_list)\n",
    "emb = torch.vstack(emb_list)\n",
    "out = torch.argmax(pred_raw, dim=1)"
   ],
   "metadata": {
    "collapsed": false,
    "ExecuteTime": {
     "start_time": "2023-10-26T13:18:26.655364Z",
     "end_time": "2023-10-26T13:18:27.263315Z"
    }
   }
  },
  {
   "cell_type": "code",
   "execution_count": 28,
   "outputs": [],
   "source": [
    "def translate_prediction(prediction, y_classes):\n",
    "    if len(prediction) == 3:\n",
    "        # S is 1.0 when ictal <=15 or >15\n",
    "        # S is 0.0 when interictal is highest\n",
    "        ictalLTE15, ictalGT15, interictal = prediction\n",
    "        S = ictalLTE15 + ictalGT15\n",
    "        E = ictalLTE15\n",
    "        return S, E\n",
    "    elif len(prediction) == 2:\n",
    "        # 1.0 doesn't exist for Patient_4, i.e. there is no late seizure data\n",
    "        if not np.any(y_classes == 1.0):\n",
    "            ictalLTE15, interictal = prediction\n",
    "            S = ictalLTE15\n",
    "            E = ictalLTE15\n",
    "            # y[i] = 0 # ictal <= 15\n",
    "            # y[i] = 1 # ictal > 15\n",
    "            # y[i] = 2 # interictal\n",
    "            return S, E\n",
    "        else:\n",
    "            raise NotImplementedError()\n",
    "    else:\n",
    "        raise NotImplementedError()\n",
    "\n",
    "\n",
    "# use the classifier and make predictions on the test data\n",
    "def make_predictions(target, X_test, y_classes, classifier_data):\n",
    "    classifier = classifier_data.classifier\n",
    "    predictions_proba = classifier.predict_proba(X_test)\n",
    "\n",
    "    lines = []\n",
    "    for i in range(len(predictions_proba)):\n",
    "        p = predictions_proba[i]\n",
    "        S, E = translate_prediction(p, y_classes)\n",
    "        lines.append('%s_test_segment_%d.mat,%.15f,%.15f' % (target, i+1, S, E))\n",
    "\n",
    "    return {\n",
    "        'data': '\\n'.join(lines)\n",
    "    }\n",
    "\n",
    "\n",
    "# the scoring mechanism used by the competition leaderboard\n",
    "def score_classifier_auc(classifier, X_cv, y_cv, y_classes):\n",
    "    predictions = classifier.predict_proba(X_cv)\n",
    "    S_predictions = []\n",
    "    E_predictions = []\n",
    "    S_y_cv = [1.0 if (x == 0.0 or x == 1.0) else 0.0 for x in y_cv]\n",
    "    E_y_cv = [1.0 if x == 0.0 else 0.0 for x in y_cv]\n",
    "\n",
    "    for i in range(len(predictions)):\n",
    "        p = predictions[i]\n",
    "        S, E = translate_prediction(p, y_classes)\n",
    "        S_predictions.append(S)\n",
    "        E_predictions.append(E)\n",
    "\n",
    "    fpr, tpr, thresholds = roc_curve(S_y_cv, S_predictions)\n",
    "    S_roc_auc = auc(fpr, tpr)\n",
    "    fpr, tpr, thresholds = roc_curve(E_y_cv, E_predictions)\n",
    "    E_roc_auc = auc(fpr, tpr)\n",
    "\n",
    "    return S_roc_auc, E_roc_auc"
   ],
   "metadata": {
    "collapsed": false,
    "ExecuteTime": {
     "start_time": "2023-10-26T13:18:27.452486Z",
     "end_time": "2023-10-26T13:18:28.057996Z"
    }
   }
  },
  {
   "cell_type": "code",
   "execution_count": 30,
   "outputs": [],
   "source": [
    "output = torch.vstack(output_list)\n",
    "target = torch.vstack(target_list)\n",
    "inds = np.where(target == 0)\n",
    "\n",
    "S = output[:,0] + output[:,1]\n",
    "E = output[:,0]\n",
    "S_y_cv = [1.0 if (x == 0.0 or x == 1.0) else 0.0 for x in target]\n",
    "E_y_cv = [1.0 if x == 0.0 else 0.0 for x in target]\n",
    "\n",
    "fpr, tpr, thresholds = sklearn.metrics.roc_curve(S_y_cv, S, pos_label=1)\n",
    "S_roc_auc = sklearn.metrics.auc(fpr, tpr)\n",
    "fpr, tpr, thresholds = sklearn.metrics.roc_curve(E_y_cv, E, pos_label=1)\n",
    "E_roc_auc = sklearn.metrics.auc(fpr, tpr)"
   ],
   "metadata": {
    "collapsed": false,
    "ExecuteTime": {
     "start_time": "2023-10-26T13:18:37.996547Z",
     "end_time": "2023-10-26T13:18:38.658998Z"
    }
   }
  },
  {
   "cell_type": "code",
   "execution_count": 35,
   "outputs": [
    {
     "data": {
      "text/plain": "0.9743014200641319"
     },
     "execution_count": 35,
     "metadata": {},
     "output_type": "execute_result"
    }
   ],
   "source": [
    "E_roc_auc"
   ],
   "metadata": {
    "collapsed": false,
    "ExecuteTime": {
     "start_time": "2023-10-26T13:19:14.514967Z",
     "end_time": "2023-10-26T13:19:15.108348Z"
    }
   }
  },
  {
   "cell_type": "code",
   "execution_count": 36,
   "outputs": [
    {
     "data": {
      "text/plain": "0.9932463250216544"
     },
     "execution_count": 36,
     "metadata": {},
     "output_type": "execute_result"
    }
   ],
   "source": [
    "S_roc_auc"
   ],
   "metadata": {
    "collapsed": false,
    "ExecuteTime": {
     "start_time": "2023-10-26T13:19:19.538511Z",
     "end_time": "2023-10-26T13:19:20.129683Z"
    }
   }
  },
  {
   "cell_type": "code",
   "execution_count": 31,
   "outputs": [
    {
     "data": {
      "text/plain": "0.9837738725428932"
     },
     "execution_count": 31,
     "metadata": {},
     "output_type": "execute_result"
    }
   ],
   "source": [
    "(S_roc_auc+E_roc_auc)/2"
   ],
   "metadata": {
    "collapsed": false,
    "ExecuteTime": {
     "start_time": "2023-10-26T13:18:39.660476Z",
     "end_time": "2023-10-26T13:18:40.262768Z"
    }
   }
  },
  {
   "cell_type": "code",
   "execution_count": 48,
   "outputs": [
    {
     "data": {
      "text/plain": "tensor([2, 2, 2, 1, 2, 2, 2, 2, 2, 2, 2, 2, 2, 1, 2, 2, 2, 2, 2, 2, 2, 2, 2, 2,\n        2, 2, 2, 2, 2, 1, 2, 2, 2, 2, 2, 2, 2, 2, 2, 1, 2, 2, 1, 2, 2, 2, 2, 2,\n        2, 2, 2, 2, 2, 2, 2, 1, 2, 2, 2, 2, 2, 2, 2, 2, 2, 2, 2, 2, 2, 2, 2, 2,\n        2, 2, 2, 2, 2, 2, 2, 2, 2, 2, 2, 2, 2, 2, 2, 2, 2, 1, 2, 2, 2, 1, 2, 2,\n        2, 2, 2, 2, 2, 1, 2, 2, 2, 2, 2, 2, 2, 2, 2, 2, 2, 2, 2, 2, 2, 2, 2, 1,\n        2, 2, 2, 2, 2, 2, 2, 2, 2, 2, 2, 2, 2, 2, 2, 2, 2, 2, 2, 2, 2, 2, 2, 2,\n        2, 2, 2, 2, 2, 2, 2, 2, 2, 2, 2, 2, 2, 2, 2, 2, 2, 2, 2, 2, 2, 2, 2, 2,\n        2, 2, 2, 2, 1, 2, 2, 2, 2, 2, 2, 2, 2, 2, 2, 2, 1, 2, 2, 2, 2, 1, 2, 2,\n        2, 2, 2, 2, 2, 2, 1, 1, 2, 2, 2, 2, 2, 1, 2, 2, 1, 2, 2, 2, 2, 2, 2, 2,\n        2, 2, 2, 2, 2, 2, 2, 2, 2, 1, 2, 2, 2, 2, 1, 1, 2, 2, 1, 1, 2, 2, 2, 2,\n        2, 2, 2, 2, 2, 2, 2, 2, 2, 2, 2, 2, 2, 2, 2, 2, 2, 2, 2, 2, 2, 2, 1, 2,\n        2, 2, 2, 2, 2, 2, 2, 2, 2, 2, 2, 2, 2, 1, 2, 2, 2, 2, 2, 2, 1, 2, 2, 2,\n        2, 2, 2, 2, 2, 2, 2, 1, 2, 2, 1, 2, 2, 2, 1, 2, 2, 2, 2, 2, 2, 2, 2, 2,\n        2, 2, 2, 2, 2, 2, 1, 1, 2, 2, 1, 2, 2, 1, 2, 2, 2, 1, 2, 2, 2, 1, 2, 2,\n        2, 2, 2, 2, 2, 2, 2, 2, 2, 2, 2, 2, 2, 2, 2, 2, 2, 2, 2, 2, 2, 2, 2, 2,\n        2, 2, 1, 2, 2, 2, 1, 2, 2, 2, 1, 2, 2, 1, 1, 2, 2, 2, 2, 2, 2, 2, 1, 2,\n        2, 2, 2, 2, 1, 2, 2, 2, 2, 2, 2, 2, 2, 2, 2, 2, 2, 2, 2, 2, 2, 2, 2, 2,\n        2, 2, 2, 2, 2, 2, 2, 2, 2, 2, 2, 2, 2, 2, 2, 2, 1, 2, 2, 2, 2, 2, 2, 2,\n        2, 2, 2, 2, 1, 2, 2, 2, 2, 2, 2, 2, 2, 2, 2, 2, 1, 1, 1, 2, 2, 2, 1, 2,\n        2, 2, 2, 2, 2, 2, 2, 2, 2, 2, 2, 2, 2, 2, 2, 1, 2, 2, 2, 2, 2, 1, 2, 2,\n        2, 2, 2, 2, 2, 2, 1, 2, 2, 2, 2, 2, 2, 2, 2, 2, 2, 2, 2, 2, 2, 2, 2, 2,\n        2, 2, 2, 2, 2, 2, 2, 2, 2, 2, 2, 2, 2, 2, 2, 2, 2, 2, 2, 2, 2, 2, 2, 2,\n        2, 2, 2, 2, 2, 2, 2, 2, 2, 2, 2, 2, 2, 2, 2, 2, 2, 2, 2, 2, 2, 2, 2, 2,\n        2, 2, 2, 2, 2, 2, 1, 2, 2, 2, 2, 2, 2, 1, 2, 2, 2, 2, 2, 2, 1, 1, 2, 2,\n        1, 1, 2, 2, 2, 2, 2, 2, 2, 2, 2, 2, 2, 2, 2, 2, 2, 2, 2, 1, 2, 2, 2, 2,\n        1, 2, 2, 1, 2, 2, 1, 2, 2, 2, 2, 2, 2, 2, 2, 2, 2, 2, 2, 2, 2, 2, 2, 2,\n        2, 2, 2, 2, 1, 2, 2, 2, 2, 2, 2, 2, 1, 2, 2, 2, 2, 1, 2, 2, 2, 2, 2, 2,\n        2, 2, 1, 2, 2, 2, 2, 2, 2, 2, 2, 2, 2, 2, 2, 2, 2, 1, 2, 2, 2, 2, 2, 2,\n        2, 2, 2, 2, 2, 1, 2, 2, 2, 2, 2, 2, 2, 2, 2, 2, 1, 2, 2, 2, 2, 2, 2, 2,\n        1, 2, 2, 2, 2, 2, 2, 2, 2, 2, 2, 2, 2, 2, 2, 2, 2, 2, 2, 2, 2, 2, 2, 2,\n        2, 1, 2, 2, 1, 2, 2, 2, 2, 2, 2, 2, 2, 2, 2, 2, 2, 2, 1, 2, 2, 1, 2, 2,\n        2, 2, 2, 2, 2, 2, 2, 2, 2, 2, 2, 2, 2, 2, 2, 2, 2, 2, 2, 2, 2, 2, 2, 2,\n        2, 2, 2, 2, 2, 2, 2, 2, 2, 2, 2, 2, 2, 2, 2, 2, 2, 2, 2, 2, 2, 2, 2, 2,\n        2, 2, 2, 2, 2, 2, 2, 1, 2, 2, 2, 2, 1, 2, 2, 2, 2, 2, 2, 2, 2, 2, 1, 2,\n        2, 2, 2, 2, 2, 2, 1, 1, 2, 2, 2, 2, 1, 2, 2, 2, 2, 1, 2, 2, 2, 2, 2, 2,\n        2, 2, 2, 2, 2, 2, 2, 2, 1, 2, 2, 2, 2, 2, 2, 2, 2, 2, 2, 1, 2, 2, 2, 2,\n        2, 2, 1, 2, 2, 2, 2, 2, 1, 2, 2, 2, 2, 2, 1, 2, 2, 2, 2, 2, 2, 2, 2, 2,\n        2, 2, 2, 2, 2, 2, 2, 2, 2, 2, 2, 2, 2, 2, 2, 2, 2, 2, 2, 2, 2, 2, 2, 1,\n        2, 2, 2, 2, 2, 2, 2, 2, 2, 2, 2, 2, 2, 2, 2, 2, 2, 2, 1, 2, 2, 1, 2, 2,\n        2, 1, 2, 2, 2, 2, 2, 2, 1, 2, 2, 2, 2, 2, 2, 2, 1, 1, 1, 2, 2, 2, 2, 2,\n        2, 2, 2, 2, 2, 2, 2, 2, 2, 1, 2, 2, 2, 1, 1, 2, 2, 2, 2, 2, 2, 1, 2, 1,\n        2, 2, 2, 2, 2, 2, 2, 2, 1, 2, 2, 2, 2, 2, 2, 2, 2, 1, 2, 2, 2, 1, 2, 1,\n        2, 2, 2, 2, 2, 2, 2, 2, 2, 2, 2, 2, 1, 2, 2, 2, 1, 2, 2, 2, 2, 2, 2, 2,\n        2, 2, 2, 2, 2, 2, 2, 2, 2, 2, 2, 2, 1, 2, 2, 2, 2, 2, 2, 2, 2, 2, 2, 2,\n        2, 2, 2, 2, 2, 2, 2, 2, 2, 2, 2, 2, 2, 1, 2, 2, 2, 2, 2, 2, 2, 2, 2, 2,\n        2, 2, 2, 2, 2, 2, 2, 2, 2, 2, 2, 2, 2, 2, 2, 2, 2, 2, 2, 2, 2, 2, 2, 2,\n        2, 2, 1, 2, 2, 2, 2, 2, 2, 2, 2, 1, 2, 2, 2, 2, 2, 2, 2, 2, 1, 1, 2, 2,\n        2, 2, 1, 2, 2, 2, 2, 2, 2, 2, 2, 2, 2, 2, 2, 2, 2, 2, 2, 2, 2, 2, 2, 2,\n        2, 2, 2, 2, 2, 2, 2, 1, 2, 2, 2, 2, 2, 2, 2, 2, 2, 1, 2, 2, 2, 2, 2, 2,\n        2, 2, 2, 2, 1, 2, 2, 1, 2, 1, 2, 2, 2, 2, 2, 2, 2, 2, 2, 2, 2, 2, 2, 2,\n        2, 2, 2, 2, 2, 2, 2, 2, 2, 2, 2, 2, 2, 2, 2, 2, 2, 2, 2, 2, 2, 2, 2, 2,\n        2, 2, 2, 1, 2, 2, 1, 2, 2, 2, 2, 1, 2, 2, 2, 2, 2, 2, 2, 2, 2, 2, 2, 2,\n        2, 2, 2, 2, 2, 1, 2, 2, 2, 1, 2, 2, 2, 2, 2, 2, 2, 2, 1, 1, 2, 2, 2, 2,\n        1, 2, 2, 2, 2, 1, 2, 2, 2, 1, 2, 2, 2, 2, 2, 2, 2, 2, 2, 2, 2, 2, 2, 2,\n        2, 1, 2, 2, 2, 2, 2, 2, 2, 1, 2, 2, 2, 2, 2, 2, 2, 1, 2, 1, 2, 2, 2, 1,\n        2, 2, 2, 2, 2, 2, 2, 2, 2, 2, 2, 2, 2, 2, 2, 2, 2, 2, 2, 2, 2, 1, 2, 2,\n        2, 2, 2, 2, 2, 2, 2, 2, 2, 1, 2, 2, 2, 1, 2, 2, 2, 2, 2, 2, 2, 2, 2, 2,\n        2, 2, 2, 2, 2, 2, 2, 2, 2, 2, 2, 2, 2, 2, 2, 1, 2, 2, 2, 2, 2, 2, 2, 2,\n        1, 2, 2, 2, 2, 2, 2, 2, 2, 2, 2, 2, 2, 2, 2, 2, 2, 2, 2, 2, 2, 2, 2, 2,\n        2, 2, 2, 2, 2, 2, 2, 2, 2, 2, 2, 2, 2, 2, 2, 2, 2, 2, 2, 2, 1, 2, 2, 2,\n        2, 2, 1, 2, 2, 2, 2, 2, 2, 1, 2, 2, 2, 2, 2, 2, 2, 2, 2, 2, 2, 2, 2, 2,\n        1, 2, 2, 2, 2, 2, 2, 2, 2, 2, 2, 2, 2, 2, 2, 2, 2, 2, 2, 2, 2, 2, 2, 1,\n        2, 2, 2, 2, 2, 1, 2, 2, 2, 2, 2, 2, 2, 2, 2, 2, 2, 2, 2, 2, 2, 2, 2, 2,\n        2, 1, 2, 2, 2, 2, 2, 2, 2, 2, 2, 2, 2, 2, 2, 2, 1, 2, 2, 2, 2, 2, 1, 2,\n        2, 2, 2, 2, 2, 2, 2, 2, 2, 2, 2, 2, 1, 2, 2, 2, 2, 2, 2, 2, 2, 2, 2, 2,\n        2, 2, 1, 2, 2, 2, 2, 2, 2, 2, 2, 2, 2, 1, 2, 2, 2, 2, 2, 2, 2, 2, 1, 2,\n        2, 2, 2, 1, 2, 2, 2, 1, 2, 2, 2, 2, 2, 2, 2, 2, 1, 2, 2, 2, 2, 2, 2, 2,\n        2, 2, 2, 2, 2, 2, 2, 2, 2, 2, 2, 2, 1, 2, 2, 2, 2, 2, 1, 2, 2, 2, 2, 2,\n        2, 2, 2, 2, 2, 1, 2, 2, 2, 2, 2, 2, 2, 1, 2, 2, 1, 2, 2, 2, 2, 2, 2, 2,\n        2, 2, 2, 2, 2, 2, 2, 2, 2, 2, 1, 2, 2, 2, 2, 2, 2, 2, 2, 2, 2, 2, 1, 2,\n        2, 2, 2, 2, 2, 2, 2, 2, 2, 2, 2, 2, 2, 2, 2, 2, 2, 2, 2, 2, 2, 2, 2, 2,\n        2, 2, 2, 2, 2, 2, 2, 2, 2, 2, 2, 2, 1, 2, 2, 1, 2, 2, 2, 2, 2, 1, 2, 2,\n        2, 2, 1, 2, 2, 2, 2, 2, 2, 2, 1, 2, 2, 2, 2, 2, 2, 2, 2, 2, 2, 2, 2, 2,\n        2, 2, 2, 2, 2, 2, 2, 2, 1, 2, 2, 2, 2, 2, 2, 2, 2, 2, 2, 2, 2, 2, 1, 2,\n        2, 2, 2, 2, 2, 2, 2, 2, 1, 2, 2, 2, 2, 2, 2, 2, 2, 2, 1, 2, 2, 2, 2, 2,\n        2, 2, 2, 2, 2, 2, 1, 2, 2, 2, 2, 2, 2, 1, 1, 2, 2, 2, 2, 2, 1, 2, 2, 2,\n        2, 2, 1, 2, 2, 2, 2, 2, 2, 2, 2, 2, 2, 2, 2, 2, 2, 2, 2, 2, 1, 2, 2, 2,\n        2, 2, 2, 2, 2, 2, 2, 2, 2, 2, 2, 2, 2, 2, 2, 2, 2, 1, 2, 2, 2, 2, 2, 2,\n        2, 2, 2, 2, 2, 2, 2, 1, 2, 2, 2, 2, 2, 2, 2, 2, 2, 2, 2, 2, 2, 2, 2, 2,\n        2, 2, 1, 2, 2, 2, 2, 2, 2, 2, 2, 2, 2, 2, 2, 1, 2, 2, 2, 2, 2, 2, 2, 2,\n        2, 2, 1, 2, 2, 2, 2, 2, 1, 2, 2, 2, 1, 2, 2, 2, 2, 2, 2, 2, 2, 2, 2, 2,\n        1, 2, 2, 2, 2, 2, 2, 2, 2, 2, 2, 2, 2, 2, 2, 1, 2, 2, 2, 2, 2, 2, 2, 2,\n        2, 2, 1, 2, 2, 2, 2, 1, 2, 2, 2, 2, 2, 2, 1, 2, 1, 2, 2, 2, 2, 2, 1, 2,\n        2, 2, 2, 2, 2, 2, 2, 2, 2, 2, 2, 2, 2, 1, 2, 2, 2, 2, 2, 2, 2, 2, 2, 2,\n        2, 2, 2, 2, 2, 2, 2, 2, 2, 2, 1, 2, 2, 2, 2, 2, 1, 2, 2, 2, 2, 2, 2, 2,\n        2])"
     },
     "execution_count": 48,
     "metadata": {},
     "output_type": "execute_result"
    }
   ],
   "source": [
    "np.argmax(output,axis=1)"
   ],
   "metadata": {
    "collapsed": false,
    "ExecuteTime": {
     "start_time": "2023-10-18T19:14:35.749673Z",
     "end_time": "2023-10-18T19:14:36.390512Z"
    }
   }
  },
  {
   "cell_type": "code",
   "execution_count": 40,
   "outputs": [
    {
     "data": {
      "text/plain": "65"
     },
     "execution_count": 40,
     "metadata": {},
     "output_type": "execute_result"
    }
   ],
   "source": [
    "len(torch.sort(m(output)[:, 0][inds])[0])"
   ],
   "metadata": {
    "collapsed": false,
    "ExecuteTime": {
     "start_time": "2023-10-18T19:10:10.730922Z",
     "end_time": "2023-10-18T19:10:11.402930Z"
    }
   }
  },
  {
   "cell_type": "code",
   "execution_count": 33,
   "outputs": [
    {
     "data": {
      "text/plain": "0.964390721986279"
     },
     "execution_count": 33,
     "metadata": {},
     "output_type": "execute_result"
    }
   ],
   "source": [
    "sklearn.metrics.accuracy_score(np.argmax(m(output), axis=1), target)"
   ],
   "metadata": {
    "collapsed": false,
    "ExecuteTime": {
     "start_time": "2023-10-26T13:18:54.315196Z",
     "end_time": "2023-10-26T13:18:54.896989Z"
    }
   }
  },
  {
   "cell_type": "code",
   "execution_count": 34,
   "outputs": [
    {
     "name": "stdout",
     "output_type": "stream",
     "text": [
      "Classification Report : \n",
      "              precision    recall  f1-score   support\n",
      "\n",
      "           0   0.486486  0.771429  0.596685        70\n",
      "           1   0.822314  0.812245  0.817248       245\n",
      "           2   0.996677  0.982884  0.989732      2746\n",
      "\n",
      "    accuracy                       0.964391      3061\n",
      "   macro avg   0.768492  0.855519  0.801222      3061\n",
      "weighted avg   0.971053  0.964391  0.966938      3061\n"
     ]
    }
   ],
   "source": [
    "clf_report = sklearn.metrics.classification_report(np.argmax(m(output), axis=1), target, digits=6)\n",
    "\n",
    "print(f\"Classification Report : \\n{clf_report}\")"
   ],
   "metadata": {
    "collapsed": false,
    "ExecuteTime": {
     "start_time": "2023-10-26T13:18:55.395210Z",
     "end_time": "2023-10-26T13:18:56.011145Z"
    }
   }
  },
  {
   "cell_type": "code",
   "execution_count": 37,
   "outputs": [],
   "source": [
    "from sklearn.manifold import TSNE\n",
    "from sklearn.decomposition import PCA"
   ],
   "metadata": {
    "collapsed": false,
    "ExecuteTime": {
     "start_time": "2023-10-26T13:59:53.925871Z",
     "end_time": "2023-10-26T13:59:54.531750Z"
    }
   }
  },
  {
   "cell_type": "code",
   "execution_count": 38,
   "outputs": [
    {
     "name": "stderr",
     "output_type": "stream",
     "text": [
      "C:\\Users\\Patrick Xu\\AppData\\Local\\Programs\\Python\\Python310\\lib\\site-packages\\sklearn\\manifold\\_t_sne.py:805: FutureWarning: The default learning rate in TSNE will change from 200.0 to 'auto' in 1.2.\n",
      "  warnings.warn(\n"
     ]
    },
    {
     "name": "stdout",
     "output_type": "stream",
     "text": [
      "[t-SNE] Computing 226 nearest neighbors...\n",
      "[t-SNE] Indexed 3061 samples in 0.000s...\n",
      "[t-SNE] Computed neighbors for 3061 samples in 0.232s...\n",
      "[t-SNE] Computed conditional probabilities for sample 1000 / 3061\n",
      "[t-SNE] Computed conditional probabilities for sample 2000 / 3061\n",
      "[t-SNE] Computed conditional probabilities for sample 3000 / 3061\n",
      "[t-SNE] Computed conditional probabilities for sample 3061 / 3061\n",
      "[t-SNE] Mean sigma: 2.372910\n"
     ]
    },
    {
     "name": "stderr",
     "output_type": "stream",
     "text": [
      "C:\\Users\\Patrick Xu\\AppData\\Local\\Programs\\Python\\Python310\\lib\\site-packages\\sklearn\\manifold\\_t_sne.py:991: FutureWarning: The PCA initialization in TSNE will change to have the standard deviation of PC1 equal to 1e-4 in 1.2. This will ensure better convergence.\n",
      "  warnings.warn(\n"
     ]
    },
    {
     "name": "stdout",
     "output_type": "stream",
     "text": [
      "[t-SNE] KL divergence after 250 iterations with early exaggeration: 53.087963\n",
      "[t-SNE] KL divergence after 1000 iterations: 0.535448\n"
     ]
    }
   ],
   "source": [
    "pca_comp_n = 30\n",
    "batch_size = 32\n",
    "\n",
    "pca = PCA(n_components=pca_comp_n, copy=True).fit(emb)\n",
    "p = pca.transform(emb)\n",
    "\n",
    "# ind = np.random.choice(len(emb), 10000)\n",
    "#\n",
    "tsne = TSNE(n_components=2, verbose=1, perplexity=75, random_state=142, init='pca')\n",
    "z = tsne.fit_transform(emb)\n",
    "\n"
   ],
   "metadata": {
    "collapsed": false,
    "ExecuteTime": {
     "start_time": "2023-10-26T13:59:54.968005Z",
     "end_time": "2023-10-26T14:00:04.077657Z"
    }
   }
  },
  {
   "cell_type": "code",
   "execution_count": 41,
   "outputs": [],
   "source": [
    "ictal_pre_inds = np.where(target == 0)[0]\n",
    "ictal_inds = np.where(target == 1)[0]\n",
    "interictal_inds = np.where(target == 2)[0]"
   ],
   "metadata": {
    "collapsed": false,
    "ExecuteTime": {
     "start_time": "2023-10-26T14:01:07.952385Z",
     "end_time": "2023-10-26T14:01:08.569946Z"
    }
   }
  },
  {
   "cell_type": "code",
   "execution_count": 43,
   "outputs": [
    {
     "data": {
      "text/plain": "Canvas(toolbar=Toolbar(toolitems=[('Home', 'Reset original view', 'home', 'home'), ('Back', 'Back to previous …",
      "image/png": "[encoded data removed]",
      "text/html": "\n            <div style=\"display: inline-block;\">\n                <div class=\"jupyter-widgets widget-label\" style=\"text-align: center;\">\n                    Figure\n                </div>\n                <img src='data:image/png;base64,iVBORw0KGgoAAAANSUhEUgAAA+gAAAMgCAYAAACwGEg9AAAAOXRFWHRTb2Z0d2FyZQBNYXRwbG90bGliIHZlcnNpb24zLjUuMiwgaHR0cHM6Ly9tYXRwbG90bGliLm9yZy8qNh9FAAAACXBIWXMAAA9hAAAPYQGoP6dpAADyzUlEQVR4nOzdeXxU1fk/8M+dG7KvZCcTiRAUK6kgiqWYEATBHRuCe12/WCVqAq3bz4WgIq5IVFChKlpFhRC1bqClhkQEsSgWa8smKFnIRvaQ7c79/XEzk0xmyZ0tczP5vF8vXmHunDn3TDKZzHPPOc8jyLIsg4iIiIiIiIi8SuftARARERERERERA3QiIiIiIiIiTWCATkRERERERKQBDNCJiIiIiIiINIABOhEREREREZEGMEAnIiIiIiIi0gAG6EREREREREQawACdiIiIiIiISAMYoBMRERERERFpAAN0IiIiIiIiIg1ggE5ERERERESkAQzQiYiIiIiIiDSAAToRERERERGRBjBAJyIiIiIiItIABuhEREREREREGsAAnYiIiIiIiEgDGKATERERERERaQADdCIiIiIiIiINYIBOREREREREpAEM0ImIiIiIiIg0gAE6ERERERERkQYwQCciIiIiIiLSAAboRERERERERBrAAJ2IiIiIiIhIAxigExEREREREWkAA3QiIiIiIiIiDWCATkRERERERKQBDNCJiIiIiIiINIABOhEREREREZEGMEAnIiIiIiIi0gAG6EREREREREQawACdiIiIiIiISAMYoBMRERERERFpAAN0IiIiIiIiIg1ggE5ERERERESkAQzQiYiIiIiIiDSAAToRERERERGRBjBAJyIiIiIiItIABuhEREREREREGsAAnYiIiIiIiEgDGKATERERERERaQADdCIiIiIiIiINYIBOREREREREpAEM0ImIiIiIiIg0gAE6ERERERERkQYwQCciIiIiIiLSAAboRERERERERBrAAJ2IiIiIiIhIAxigExEREREREWkAA3QiIiIiIiIiDWCATkRERERERKQBDNCJiIiIiIiINIABOhEREREREZEGMEAnIiIiIiIi0gAG6EREREREREQawACdiIiIiIiISAMYoBMRERERERFpAAN0IiIiIiIiIg1ggE5ERERERESkAQzQiYiIiIiIiDSAAToRERERERGRBjBAJyIiIiIiItIABuhEREREREREGsAAnYiIiIiIiEgDGKATERERERERaQADdCIiIiIiIiINYIBOREREREREpAEM0ImIiIiIiIg0gAE6ERERERERkQYwQCciIiIiIiLSAAboRERERERERBrAAJ2IiIiIiIhIAxigExEREREREWkAA3QiIqIhID8/H4IgoLa21uPnyszMRGZm5oDtiouLIQgCiouLTcduvPFGpKSkeGxsREREvowBOhERec3evXuRnZ2N0aNHIzAwEElJSTj//PPxwgsveHtoqgmCYPPfbbfd5u3hDSurV6/GunXrHHqM2tdgSkoKBEHAnXfeadGH8UJFYWGh6di6devsvjZ27tzp1HMkIiLf5uftARAR0fD09ddfY8aMGTjppJOwYMECJCQk4OjRo9i5cycKCgqsBkJadf755+P666+3OH7KKad4YTTetXbtWhgMBq+ce/Xq1YiJicGNN96oqr0zr8G1a9fi/vvvx6hRo1Sd45FHHsHJJ59scTw1NVXV44mIaHhhgE5ERF6xbNkyRERE4Ntvv0VkZKTZfdXV1d4ZlJNOOeUUXHfddd4ehiaMGDHC20NQzdHX4Omnn459+/bhiSeewPPPP6/qHBdeeCHOOussdwyXiIiGAS5xJyIirzh06BBOP/10i8AIAOLi4kz/z8rKwplnnml2/6WXXgpBEPD3v//ddOybb76BIAj47LPPAADHjx/HX/7yF6SlpSE0NBTh4eG48MIL8cMPP5geU1VVBT8/PyxdutRiDPv27YMgCHjxxRddfaoAlH3dEyZMwL///W9Mnz4dwcHBSE1NNS2L3rZtG8455xwEBQXh1FNPxT/+8Q+r/dTW1uKKK65AeHg4oqOjkZubi/b2dot2b731FiZPnoygoCCMHDkSV111FY4ePWrRbs2aNRg7diyCgoIwZcoUlJaWWj1vWVkZLr/8coSEhCAuLg6LFi1CR0eHRbv+e9CPHDkCQRDwzDPPmM4VEBCAs88+G99++63F4zdu3Ijf/OY3CAwMxIQJE/D++++r2teekpKC//znP9i2bZtpGflA++jVvgb7nuP666/H2rVrUVFRYbdvIiIiZzBAJyIirxg9ejR2796NH3/80W679PR0/PDDD2hqagIAyLKM7du3Q6fTmQWTpaWl0Ol0mDZtGgDg559/xgcffIBLLrkEK1aswN133429e/di+vTppuAqPj4e06dPx4YNGyzO+95770EURcyfP3/A59Le3o7a2lqLf52dnWbt6uvrcckll+Ccc87BU089hYCAAFx11VV47733cNVVV+Giiy7CE088gdbWVmRnZ6O5udniXFdccQXa29uxfPlyXHTRRXj++edx6623mrVZtmwZrr/+eowbNw4rVqxAXl4etm7dioyMDDQ0NJjavfrqq/jTn/6EhIQEPPXUU5g2bRouu+wyi0D+xIkTmDlzJrZs2YI77rgDDzzwAEpLS3HPPfcM+L0xWr9+PZ5++mn86U9/wmOPPYYjR44gKysLXV1dpjaffPIJrrzySowYMQLLly9HVlYWbrnlFuzevXvA/leuXAm9Xo/x48fjb3/7G/72t7/hgQcesPsYta/Bvh544AF0d3fjiSeeUNW+sbHR4nVRV1en+nxERDTMyERERF7w+eefy6IoyqIoylOnTpXvueceecuWLXJnZ6dZu2+//VYGIH/66aeyLMvyv//9bxmAPH/+fPmcc84xtbvsssvkSZMmmW63t7fLkiSZ9XX48GE5ICBAfuSRR0zHXnnlFRmAvHfvXrO2v/nNb+TzzjtvwOcBwOa/d955x9Ru+vTpMgB5/fr1pmP/+9//ZACyTqeTd+7caTq+ZcsWGYD8+uuvm44tWbJEBiBfdtllZudfuHChDED+4YcfZFmW5SNHjsiiKMrLli0za7d3717Zz8/PdLyzs1OOi4uTJ06cKHd0dJjarVmzRgYgT58+3XRs5cqVMgB5w4YNpmOtra1yamqqDED+8ssvTcdvuOEGefTo0abbhw8flgHI0dHR8vHjx03HP/zwQxmA/NFHH5mOpaWlyXq9Xm5ubjYdKy4ulgGY9WnL6aefbjbugah9DcqyLI8ePVq++OKLZVmW5ZtuukkODAyUKyoqZFmW5S+//FIGIG/cuNHU/vXXX7f5uggICFA9RiIiGl44g05ERF5x/vnnY8eOHbjsssvwww8/4KmnnsKcOXOQlJRktnR90qRJCA0NRUlJCQBlplyv1+P666/Hd999h7a2NsiyjK+++grp6emmxwUEBECnU/7MSZKEuro6hIaG4tRTT8V3331napeVlQU/Pz+89957pmM//vgjfvrpJ1x55ZWqnsvcuXPxxRdfWPybMWOGWbvQ0FBcddVVptunnnoqIiMjcdppp+Gcc84xHTf+/+eff7Y4V05OjtltYyKzTz/9FABQVFQEg8GAK664wmzWNiEhAePGjcOXX34JAPjXv/6F6upq3HbbbfD39zf1d+ONNyIiIsLsHJ9++ikSExORnZ1tOhYcHGwxc2/PlVdeiaioKNNt48/K+BwrKiqwd+9eXH/99QgNDTW1mz59OtLS0lSfxxFqX4P9Pfjgg6pn0VetWmXxujBuwyAiIuqPSeKIiMhrzj77bBQVFaGzsxM//PAD3n//fTz33HPIzs7Gnj178Jvf/AaiKGLq1Kmm5eylpaVIT0/HueeeC0mSsHPnTsTHx+P48eNmAbrBYEBBQQFWr16Nw4cPQ5Ik033R0dGm/8fExGDmzJnYsGEDHn30UQDK8nY/Pz9kZWWpeh56vR6zZs1S1U4QBLNjERERSE5OtjgGKEvi+xs3bpzZ7bFjx0Kn0+HIkSMAgAMHDkCWZYt2RsYkbr/88ovV/kaMGIExY8aYHfvll1+QmppqMfZTTz3V6jmsOemkk8xuG4N143M0jsdadvPU1FSziyqOkCQJNTU1ZsdGjhxpuiih5jXY35gxY/DHP/4Ra9aswX333Wf3/FOmTGGSOCIiUo0z6ERE5HX+/v44++yz8fjjj+Oll15CV1cXNm7caLr/3HPPxbfffov29nZTgB4ZGYkJEyagtLTUFLz3DdAff/xxLF68GBkZGXjrrbewZcsWfPHFFzj99NMtyoBdddVV2L9/P/bs2QMA2LBhA2bOnImYmBi3Pk9RFB06LsvygH32D5oNBgMEQcDmzZutzuq/8sorjg/cDVx5jq44evQoEhMTzf59/fXXFu0Geg32Z9yL/uSTT3py+ERENMxwBp2IiDTFONtYWVlpOpaeno7Ozk688847KC8vNwXiGRkZKC0tRXx8PE455RTEx8ebHlNYWIgZM2bg1VdfNeu/oaHBIvC+/PLL8ac//cm0zH3//v24//77PfL8XHXgwAGzutoHDx6EwWAwZTkfO3YsZFnGySefbLcO++jRo039nXfeeabjXV1dOHz4MM444wyztj/++CNkWTa7ILBv3z53PS3TeA4ePGhxn7Vj1vS/WAEACQkJ+OKLL8yO9X1u1lh7DfY3duxYXHfddXjllVfMticQERG5gjPoRETkFV9++aXV2VPjXuq+y6fPOeccjBgxAk8++SRGjhyJ008/HYASuO/cuRPbtm0zmz0HlBnb/v1v3LgR5eXlFueMjIzEnDlzsGHDBrz77rvw9/fH5Zdf7upT9IhVq1aZ3X7hhRcAKPW2AWVPvSiKWLp0qcXzl2XZlEH8rLPOQmxsLF5++WWzbPPr1q0zy/QOABdddBEqKipMJeEAoK2tDWvWrHHb8xo1ahQmTJiAN998Ey0tLabj27Ztw969e1X1ERISYjH2wMBAzJo1y+yfcXm9I69Bax588EF0dXXhqaeeUjU+IiKigXAGnYiIvOLOO+9EW1sb/vCHP2D8+PHo7OzE119/jffeew8pKSm46aabTG2Dg4MxefJk7Ny501QDHVBm0FtbW9Ha2moRoF9yySV45JFHcNNNN+H3v/899u7di7fffttif7XRlVdeieuuuw6rV6/GnDlzrNbGtmX//v146623LI7Hx8fj/PPPV92PGocPH8Zll12GCy64ADt27MBbb72Fa665xjQrPHbsWDz22GO4//77ceTIEVx++eUICwvD4cOH8f777+PWW2/FX/7yF4wYMQKPPfYY/vSnP+G8887DlVdeicOHD+P111+3+B4tWLAAL774Iq6//nrs3r0biYmJ+Nvf/obg4GC3PrfHH38cc+fOxbRp03DTTTehvr4eL774IiZMmGAWtNsyefJkvPTSS3jssceQmpqKuLg4s9UB/TnyGrTGOIv+xhtv2Gzz2Wef4X//+5/F8d///vc2X4tERDSMeSl7PBERDXOfffaZfPPNN8vjx4+XQ0NDZX9/fzk1NVW+88475aqqKov2d999twxAfvLJJ82OG0t9HTp0yOx4e3u7/Oc//1lOTEyUg4KC5GnTpsk7duyQp0+fbrUUV1NTkxwUFCQDkN966y3VzwN2yqz1Pc/06dPl008/3eLxfct39e83JyfHdNtYZu2nn36Ss7Oz5bCwMDkqKkq+44475BMnTlg8ftOmTfK5554rh4SEyCEhIfL48ePlnJwced++fWbtVq9eLZ988slyQECAfNZZZ8klJSVWv0e//PKLfNlll8nBwcFyTEyMnJubK2/evFl1mbWnn37a6nNcsmSJ2bF3331XHj9+vBwQECBPmDBB/vvf/y7PmzdPHj9+vMXj+zt27Jh88cUXy2FhYRbff2sceQ3a+jkdOHBAFkXRoTJr6FdCj4iIyEiQZQ9nZyEiIiJywcSJExEbG2uxl5yIiMjXcA86ERERaUJXVxe6u7vNjhUXF+OHH35AZmamdwZFREQ0iDiDTkRERJpw5MgRzJo1C9dddx1GjRqF//3vf3j55ZcRERGBH3/80ax+PRERkS9ikjgiIiLShKioKEyePBl//etfUVNTg5CQEFx88cV44oknGJwTEdGwwBl0IiIiIiIiIg3gHnQiIiIiIiIiDWCATkRERERERKQB3IM+zBgMBlRUVCAsLAyCIHh7OERERERE5CWyLKO5uRmjRo2CTse5Wy1ggD7MVFRUIDk52dvDICIiIiIijTh69Cj0er23h0FggD7shIWFAVB+CcPDw708Gt/S1dWFzz//HLNnz8aIESO8PRzSEL42yBa+Nsgevj7IFr42yB5HXh9NTU1ITk42xQjkfQzQhxnjsvbw8HAG6G7W1dWF4OBghIeH848lmeFrg2zha4Ps4euDbOFrg+xx5vXBra/awY0GRERERERERBrAAJ2IiIiIiIhIAxigExEREREREWkA96ATEREREZEqkiShq6vL28MgO7q6uuDn54eOjg7odDqIoujtIZEDGKATEREREZFdsizj2LFjaGho8PZQaACyLCMhIQG//vorBEFAZGQkEhISmAhuiGCATkREREREdhmD87i4OAQHBzPY0zCDwYCWlhaEhISgvb0d1dXVAIDExEQvj4zUYIBOREREREQ2SZJkCs6jo6O9PRwagMFgQGdnJ4KCghASEgIAqK6uRlxcHJe7DwFMEkdERERERDYZ95wHBwd7eSTkDOPPjbkDhgYG6ERERERENCAuax+a+HMbWhigExEREREREWkAA3QiIiIiIvJJmZmZyMvL88q5161bh8jISI+fx5vPkdyPAToREREREfmkoqIiPProo6raHjlyBIIgYM+ePW4595VXXon9+/erbp+SkoKVK1e65dw0dDGLOxERERERDQ5ZAtpKAakSEBOB4HRA8Fxm8ZEjR3qsb3u6uroQFBSEoKAgr5yfhi7OoBMRERERkec1FwGHUoCjM4CKa5Svh1KU4x7Sd/l3SkoKHn/8cdx8880ICwvDSSedhDVr1pjannzyyQCASZMmQRAEZGZmmu7761//itNOOw2BgYEYP348Vq9ebbrPOPP+3nvvYfr06QgMDMTbb79tdYn7Rx99hLPPPhuBgYGIiYnBH/7wB9M4f/nlFyxatAiCIJgSu9XV1eHqq69GUlISgoODkZaWhnfeeccD3ynSCgboRERERETkWc1FQHk20F1mfry7XDnuwSC9r2effRZnnXUWvv/+eyxcuBC333479u3bBwDYtWsXAOAf//gHKisrUVSkjOntt9/Gww8/jGXLluG///0vHn/8cTz00EN44403zPq+7777kJubi//+97+YM2eOxbk/+eQT/OEPf8BFF12E77//Hlu3bsWUKVMAKEvx9Xo9HnnkEVRWVqKyshIA0N7ejsmTJ+OTTz7Bjz/+iFtvvRV//OMfTWMl38Ml7kRERERE5DmyBFTlApCt3QlAAKrygNC5Hl3uDgAXXXQRFi5cCAC499578dxzz+HLL7/EqaeeitjYWABAdHQ0EhISTI9ZsmQJnn32WWRlZQFQZtp/+uknvPLKK7jhhhtM7fLy8kxtrFm2bBmuuuoqLF261HTsjDPOAKAsxRdFEWFhYWbnTkpKwl/+8hfT7TvvvBNbtmzBhg0bTME9+RYG6ERERERE5DltpZYz52ZkoPuo0i4k06ND+e1vf2v6vyAISEhIQHV1tc32ra2tOHToEG655RYsWLDAdLy7uxsRERFmbc866yy7596zZ49ZH2pIkoTHH38cGzZsQHl5OTo7O9HR0YHg4GCH+qGhgwE6ERERERF5jlTp3nYuGDFihNltQRBgMBhstm9paQEArF27Fuecc47ZfaJoPtsfEhJi99zOJIx7+umnUVBQgJUrVyItLQ0hISHIy8tDZ2enw33R0MAAnYiIiIiIPEdMdG87D/H39wegzFobxcfHY9SoUfj5559x7bXXutT/b3/7W2zduhU33XSTzfP3PTcAbN++HXPnzsV1110HADAYDNi/fz9+85vfuDQW0i4G6ERERERE5DnB6YCfXkkIZ3UfuqDcH5w+2CMzExcXh6CgIGzevBl6vR6BgYGIiIjA0qVLcddddyEiIgIXXHABOjo68K9//Qv19fVYvHix6v6XLFmCmTNnYuzYsbjqqqvQ3d2NTz/9FPfeey8AJct8SUkJrrrqKgQEBCAmJgbjxo1DYWEhvv76a0RFRWHFihWoqqpigO7DmMWdiIiIiAaXoROoWwkcu1P5auByXZ8miEB8gfFG/zuVL/ErPZ4gbiB+fn54/vnn8corr2DUqFGYO3cuAOD//u//8Ne//hWvv/460tLSMH36dKxbt85Ulk2tzMxMbNy4EX//+98xceJEnHfeeWbZ2B955BEcOXIEY8eONSWse/DBB3HmmWdizpw5yMzMREJCAi6//HK3PWfSHkGWZWuXschHNTU1ISIiAo2NjQgPD/f2cHxKV1cXPv30U1x00UUW+5toeONrg2zha4Ps8dnXR/U9wPEVAPou5dUBUYuA+Ge8NaohZbBfG+3t7Th8+DBOPvlkBAYGOt9Rc5GSzb1vwji/ZCU4D7Od/ZwcYzAY0NTUhPDwcOh0Ors/P8YG2sMl7kREREQ0OKrvAY4/beUOA1D/LNB1ENB/MNijosESlqWUUmsrVRLCiYnKsnYvz5wTaQkDdCIiIiJyC8kgY+/BDtQ1SoiOEJGWGgBR17OE2dDZM3NuR8uHQON7QMSVnh8seYcgeryUGtFQxgCdiIiIiFxW8n0bVm2sR01D79L12EgROfOjkDEpGKhfDfNl7TZU/QkIz+asKhENS0wSR0REREQuKfm+Dflra82CcwCoaZCQv7YWJd+3AV2H1HVmaFSWQBMRDUMM0ImIiIjIaZJBxqqN9XbbrCqshySOdaDTShdHRUQ0NHGJOxEREREpZEmZve4uB7prAL9YQExQKmFJ1VaTeu092GExc95fTb2EveVnYWKgAOt1sPsRE117HkREQxQDdCIiIiKyXgLLGj+9UtO6pyxWXaOKfeUA6n55GjhVRXDul6xcBDAyXjRg1m8iGgYYoBMRERENd81FQHk2VM1ud5crbZMKgbAsREeoC5ajQ6pVtBKUmtjGANxq3WzzCwRERL6Ee9CJiIiIhjNZUoJgNcG58gDlS1UeIEtISw1AbEQ3AION9gbEhlYgbdQu+92K0aagH0DvRYP+M/rGCwTNRSrHS8NZZmYm8vLyPNb/kSNHIAgC9uzZ47Fz0PDCAJ2IiIhoOGsrHXhZuwUZ6D4KtJVC1AnIufRAz/H+QbpyOydjKUSdrQC+h1TXp3t7Fw3MLxAQ2VNUVIRHH310wHbFxcUQBAENDQ2eHxSRHQzQiYiIiIYzVzKm9zw247d+yL/odsSGHjO7Ozb0GPIvuh0ZqZtVdCb0Bt0DXjTovUBAZM/IkSMRFhbm7WEQqcYAnYiIiMjXyRLQWgw0vaN87Tvz7ErGdDFRWWp+7EZkpG7G+hunYUXWlXhgzp1YkXUl1t84TWVwDpiC7uMvKMvY1WA5tiFHMsjYs78dW79txZ797ZAMardWOKfvEveOjg7ce++9SE5ORkBAAFJTU/Hqq6/iyJEjmDFjBgAgKioKgiDgxhtvBABs3rwZ5557LiIjIxEdHY1LLrkEhw4d8uiYaXhjkjgiIiIiX9M383nnAaB+DSD1CXr7JloLTgd0MYCh1rFz6KIBqQaouBLGZeeizoCJ+p2ujb1mEaCLUNe2q0q56MDs7kNCyfdtWLWx3qwsX2ykiJz5UciYFOzx819//fXYsWMHnn/+eZxxxhk4fPgwamtrkZycjE2bNmHevHnYt28fwsPDERQUBABobW3F4sWL8dvf/hYtLS14+OGH8Yc//AF79uyBTse5TnI/BuhEREREvkRNubR+mdgRcQNQ/6xj5zHUAcduh/rkco703aiuXc2i3v8zu7umlXzfhvy1lheBahok5K+tRf6CGI8G6fv378eGDRvwxRdfYNasWQCAMWPGmO4fOXIkACAuLg6RkZGm4/PmzTPr57XXXkNsbCx++uknTJgwwWPjpeGLl32IiIiIfIWtzOcW+iRaM3QCze85dz5D3cBtBguzu2uWZJCxamO93TarCus9utx9z549EEUR06dPd+hxBw4cwNVXX40xY8YgPDwcKSkpAIBff/3VA6MkYoBORERE5BucKZdm2vPtaBZ3LWJ2d63ae7DDbFm7NTX1EvYe7PDYGIxL1h116aWX4vjx41i7di2++eYbfPPNNwCAzs5Odw6PyIQBOhEREZEvcKpcGoDaB9w/Fq9hdnctqmtUd8FEbTtnpKWlwWAwYNu2bVbv9/f3BwBIUu8Y6urqsG/fPjz44IOYOXMmTjvtNNTX218JQOQqBuhEREREvsDpjOaem7X0GmZ315ToCHXJ+9S2c0ZKSgpuuOEG3Hzzzfjggw9w+PBhFBcXY8OGDQCA0aNHQxAEfPzxx6ipqUFLSwuioqIQHR2NNWvW4ODBg/jnP/+JxYsXe2yMRAADdCIiIiLf4Eq5NF/D74WmpKUGIDbSfvAdGyUiLTXAo+N46aWXkJ2djYULF2L8+PFYsGABWltbAQBJSUlYunQp7rvvPsTHx+OOO+6ATqfDu+++i927d2PChAlYtGgRnn76aY+OkYhZ3ImIiIh8QXC6ksm8uxweyaw+ZAhA0O+9PQjqQ9QJyJkfZTWLu1FOdhREneD2cxcXF5v+HxgYiBUrVmDFihVW2z700EN46KGHzI7NmjULP/30k9kxWe79/UpJSTG7TeQqzqATERER+QJBVMqMDevgHABkoO5xbw+C+smYFIz8BTEWM+mxUaLHS6wRDSWcQSciIiIi33L8OSDmIeWiBWlGxqRgTDsjCHsPdqCuUUJ0hLKs3RMz50RDFQN0IiIiIl8gS8Cxu7w9Cm2Qm5RM7iGZ3h4J9SPqBEw8JdDbwyDSLC5xJyIiIvIFtcsAqdz5xwuh7huLFrR86O0REBE5jAE6ERER0VDXXATULXGtD7nFPWPRivqVyveFiGgIYYBORERENJTJElCV6+1RaFNVnvL9ISIaIhigExEREQ1FsgS0FgO1+UB3mbdHo03dR5W96EREQwSTxBERERENNc1Fyqy55gJzPwDd3h6EOanS2yMgIlKNAToRERHRUNJcBJRnQ5v1zjUWnAOAmOjtERARqcYl7kRERERDhWm/uRaDcw3SxQLB6d4eBXlRZmYm8vLyPNb/kSNHIAgC9uzZ47Fz0PDCGXQiIiKioaKtVIPL2r1EFw4Ymuy3SVgFCOLgjIc0qaioCCNGjBiwXXFxMWbMmIH6+npERkZ6fmBENnAGnYiIiGio4H7qXkEZ9u8PmAyIscziPsyNHDkSYWFh3h4GkWoM0ImIiIiGCu6n7tX+jf37O3YDR2cAh1JYD11DJElCcXEx3nnnHRQXF0OSPHsBpe8S946ODtx7771ITk5GQEAAUlNT8eqrr+LIkSOYMWMGACAqKgqCIODGG28EAGzevBnnnnsuIiMjER0djUsuuQSHDh3y6JhpeGOATkRERKRFxpnf5kKlnJosKfupddFeHZYmCBGAVKOubXe5klSPQbrXFRUVISUlBTNmzMA111yDGTNmICUlBUVFg/Ozuf766/HOO+/g+eefx3//+1+88sorCA0NRXJyMjZt2gQA2LdvHyorK1FQUAAAaG1txeLFi/Gvf/0LW7duhU6nwx/+8AcYDIZBGTMNP9yDTkRERKQ1zUVAxb0AngEqbwHEE4CfHohb4e2RaYPc6EhjAAJQlQeEzuWedC8pKipCdnY2ZNk8wWF5eTmys7NRWFiIrKwsj51///792LBhA7744gvMmjULADBmzBjT/SNHjgQAxMXFme1Bnzdvnlk/r732GmJjY/HTTz9hwoQJHhsvDV+cQSciIiLSEmMZte5y8+PdZUDFFYChzjvjGtJkoPuokmSPBp0kScjNzbUIzgGYjuXl5Xl0ufuePXsgiiKmT5/u0OMOHDiAq6++GmPGjEF4eDhSUlIAAL/++qsHRknEAJ2IiIhIO1hGzbOYZM8rSktLUVZmu/qALMs4evQoSks9dwElKCjIqcddeumlOH78ONauXYtvvvkG33yj5D7o7Ox05/CITBigExEREWlFazHLqHkSk+x5RWWlugsjats5Iy0tDQaDAdu2bbN6v7+/PwCYzeLX1dVh3759ePDBBzFz5kycdtppqK+v99gYiQAG6ERERETa0FykLGEnDxAAv2QlyR4NusREdRdG1LZzRkpKCm644QbcfPPN+OCDD3D48GEUFxdjw4YNAIDRo0dDEAR8/PHHqKmpQUtLC6KiohAdHY01a9bg4MGD+Oc//4nFixd7bIxEAAN0IiIiIu8z7js3HPf2SHyAYP12/EomiPOS9PR06PV6CEL/n41CEAQkJycjPd2zF1BeeuklZGdnY+HChRg/fjwWLFiA1tZWAEBSUhKWLl2K++67D/Hx8bjjjjug0+nw7rvvYvfu3ZgwYQIWLVqEp59+2qNjJGKArlFPPPEEBEEw1W0EgPb2duTk5CA6OhqhoaGYN28eqqqqvDdIIiIich33nbuPLhTwSzI/5qcHkgqBMM9lCCf7RFE0lS3rH6Qbb69cuRKi6P4LKMXFxVi5ciUAIDAwECtWrEBFRQU6Ojpw4MAB3HTTTaa2Dz30ECorK2EwGLBu3ToAwKxZs/DTTz+hvb0dP/zwA6ZPnw5ZlnH55ZcDUGbmZVnGxIkT3T52Gp4YoGvQt99+i1deeQW//e1vzY4vWrQIH330ETZu3Iht27ahoqLCo+UoiIiIaBDULeO+c3cxtAARtwDJXwKj1itfxx5mcK4BWVlZKCwsRFKS+QUUvV7v8RJrREMJ66BrTEtLC6699lqsXbsWjz32mOl4Y2MjXn31Vaxfvx7nnXceAOD111/Haaedhp07d+J3v/udt4ZMREREzmouAmqXeHsUvqX+BSDmIS5n16CsrCzMnTsXpaWlqKysRGJiItLT0z0yc040VDFA15icnBxcfPHFmDVrllmAvnv3bnR1dWHWrFmmY+PHj8dJJ52EHTt22AzQOzo60NHRYbrd1NQEAOjq6kJXV5eHnsXwZPx+8vtK/fG1QbbwtTHMyRJQcS8gWS//1GUIMvtKKkkngKYSIPhcb4/EYwb7vaOrqwuyLMNgMMBgMLjUlyAIyMjIMDvmap9kzlhbvu/PTJZldHV1WVwM4d8f7WGAriHvvvsuvvvuO3z77bcW9x07dgz+/v6IjIw0Ox4fH49jx47Z7HP58uVYunSpxfHPP/8cwcHBLo+ZLH3xxRfeHgJpFF8bZAtfG8PZMwO2+OLn1wZhHD7mYBOAT709Co8brPcOPz8/JCQkoKWlhfW/h5Dm5mYASs32EydOoKSkBN3d3WZt2travDE0soMBukYcPXoUubm5+OKLLxAYGOi2fu+//36zchBNTU1ITk7G7NmzER4e7rbzkHIF8osvvsD555+PESNGeHs4pCF8bZAtfG0Mc82FQOUtNu/uMgThi59fw/ljbsaIoNOAju8GcXAaMPL/AfXPA3KL44/VRQMJBUDope4flwYM9ntHe3s7jh49itDQULd+TiXPkGUZzc3NCAsLgyAIaG9vR1BQEDIyMix+fsbVtaQdDNA1Yvfu3aiursaZZ55pOiZJEkpKSvDiiy9iy5Yt6OzsRENDg9kselVVFRISEmz2GxAQgICAAIvjI0aM4IdBD+H3lmzha4Ns4WtjmApIBMQTAzYbEbMII0YEAbXbB2FQGuLXDYT9Hmj90IkHlwFV2YCfb2dvH6z3DkmSIAgCBEGATscc01pn3DJg/HkZf3bWXi/826M9DNA1YubMmdi7d6/ZsZtuugnjx4/Hvffei+TkZIwYMQJbt27FvHnzAAD79u3Dr7/+iqlTp3pjyEREROQKqRaACECy3y5gPCB22G/ji+ost+g5rCoPCJ3LhHEuMgZxbW1tCApiToShxriMncH40MAAXSPCwsIwYcIEs2MhISGIjo42Hb/llluwePFijBw5EuHh4bjzzjsxdepUZnAnIiIaapqLgIoroKr2eeUNQNy9Hh+S75GB7qNAWykQkuntwQxpoigiMjIS1dXVAIDg4GCLeuakHQaDwbTvvL29HdXV1YiMjGS2/CGCAfoQ8txzz0Gn02HevHno6OjAnDlzsHr1am8Pi4iIiBwhS0BVLlQF50aNawHdSMBw3GPD8llSpbdH4BOMWyqNQTpplyzLOHHiBIKCgiAIAiIjI+1uiSVtYYCuYcXFxWa3AwMDsWrVKqxatco7AyIiIiLXtZUC3WUOPEB2sD2Z6apSLopwmbtLBEFAYmIi4uLiWJpL47q6ulBSUoLp06cjKCiIM+dDDAN0IiIiosHEGd3BVbMIqH8WiC/w6YRxg0UURQZ8GieKIrq7uxEQEMCf1RDENIxEREREg0mM8/YIhp/ucqA8W9n7T0SkYZxBJyIiIhoszUVAxQJvj2IY6tnvX3kbYDgB+CUBwelc9k5EmsMAnYiIiGgwNBcps7iOJIcj9zLUAJXXKf/303PZOxFpDpe4ExEREXmaM5nbybO6y4DyeUBTobdHQkRkwgCdiIiIyNMcztxOg6biKqBpo7dHQUQEgAE6ERERkecxc7uGSUDFFUwgR0SawACdiIiIyNPERG+PwIYAbw9AO6rylK0IRERexACdiIiIyNOC05WkZBC8PZJ+Orw9AO3oPqpsRSAi8iIG6ERERESeJohKxnAmidO2+hc5i05EXsUAnYiIiGgwhGUBMUu9PQqyp2UTcCiF+9GJyGsYoBMRERENFv9x3h6B5+hGensE7tFdptSrZ5BORF7g5+0BEBEREQ0bmk0WZ4cuEjA0DNxu1AZlKb9UqTxPqQaoXjx0y8tV5QGhc5XnREQ0SBigExEREQ0WY7K47nIMmf3ohgYAIgBbe7MF5TmFZFoGs2FZwLFcoHGVR4fofnJv0riQTG8PhoiGES5xJyIiIhospmRxgPYyuttjJzgHgPiV1meaBREInuqpQXmeK/XrZQloLQaa3lG+MvkcEanAAJ2IiIhoMIVlAUmFgF9SvzsCvTIcx/QLwv30ynMJy7LeXJaA7hrPD8tTrG1JUBN4NxcpyeaOzgAqrlG+MvkcEanAJe5EREREgy0sS9nf3Fbau2e7uxyovM7bIxuABMQ+B4yIV8YcnG57j3ZzEVCV65U96JIElO4GKmsEJMbKSJ8MiCIAUa8s2ZdbBuihZ9l+cLr5YWvPyU+vrIow/jxbPgTqV1p22V2uJJ+zd0GDiIY9BuhERERE3iCI5vubW4u9NRLHjIgHwq+236a5SAlGvbDPvuhzIHc5UHYMpvPrR41EwdO5yLr6ASWAVjO2/sv2bT2n7nKgfB6giwYMdXY67HncsVwmnyMim7jEnYiIiEgLpBpYLCHXIjERkkHGnv3t2PptK/bsb4dk6BO0ypIyy+yl4Dw7zxic9yqvrEf2dfkoev/DPlsM9NY78Uu2nOW2+5x6jtkNzvuQyoDaR9S1JaJhhzPoRERERN7WXARUXAltZ3ZXln2X7D8LqzZWoKahd+91bKSInPlRyJgUrCzz9tKy9tzlgGzlWyjLMgRBQF5eHubOnQux7xaD7nJln7xfrJIXwNqyfXc/p7pHgPY9QPKH7uuTiHwCZ9CJiIiIvMmLM87qKdnaS2rWIX/tcbPgHABqGiTkr61FyfdtrmU+d0HpbsuZ875kWcbRo0dRWlqqHDBuMYi4FojOU75aKxUHeOY5tf4dODrX/f0S0ZDGAJ2IiIjIm7w049yrX0CqCwd0I82P+ekhJRZi1Uen2u1pVWE9JMFK5nNH+emVPd0OlKKrVJksvrLSiWDbWjZ3d2j9O9C4wTN9E9GQxCXuRERERN7kpRlnhGQBI+8Egn4PnPi6N5u8MXN53wzzwenYe6ALNQ3VdrusqZewt2IKJvrplaXjqlYF9ATh0flAwLjeMZiSuQn9+ul/W5EYq+JUABITnQi2g9OViwaqn5MDjt0EhM9j0jgiAsAZdCIiIiLv8tTs7EBaPwCkWkDnryztDr+6d4m3cfl3n2N1jVbqfVtR1yQrZccAqJoBN9ZSj33YfAy26sX76YGkTcq/Pone0icD+gQdBBunFAQBycnJSE9Pt97AHkF07Dk5Qm4bOhn8icjjOINORERE5E0Ozc72zB7rogHDcRXt7TEAFfMBYZOqutzREepmeKMj+gTXFjXDk4G4ZwEx1nzG3tbssbV68X3b97lPFBNR8GItsudfAUFQ9pwbCT1R+8qVKyGKTs5UW3lOkkGHvRVTUNcah+iQaqSN2gVRZ3C87xPFQOhM58ZFRD6FAToRERGRNxlnZ60u5+7HT6/U5wbUtVejKk9VXe601ADERooWCeL6io0SkZYaoNwYKLhWq3+9eDv3Zc0DCgsLkZubi7Ky3gsDer0eK1euRFbWwBci7OrznEr2tGPVhyNR05Jgujs2tAI5GUuRkbrZsX61nB+QiAYVA3QiIiIib7M14wwAI/8fEDLWMsC11d5R3UeVINpWENxD1AnImR+F/LW1NtvkZEdB1PVZAm4vuPaQrKwszJ07F6WlpaisrERiYiLS09OdnznvTxBRsn8K8t+uRf/IuqYlAfmfvoT8i253LEgf5O8REWkXA3QiIiIiLeg/4ywnAAebgJh7gREj7Levvhfo2OX8uVUmqsuYFIz8BTFYtbHevA56lIic7J466BogiiIyMzM90rdkkLFi/fGeW/33o+sAGLCqZAmmjflc3XJ3IRgIznTvIIloyGKATkRERKQVfWecu7oAfKqufdzjwNFZzp9XbaI6WULGKbsw7Z5K7P31ZNR1nI7oiBFISw0wnzn3YW991oimVnuBtw41LaOUbPb6nQN3mPA6M7gTkQkDdCIiIqKhLjizJ3FcneOP9UvuLa1mT3ORaUm9CGCiP4BgvbJ/Xufi3u4hQjLIKPqyWVXbuta4gRuFzgUirnBxVETkS1hmjYiIiGioE0QgcY1zj41fOfAMbnORkpSu/3737nLleHORc+ceYvYe7EBzm7qMbtEh9mvGI+rPgP4D1wdFRD6FAToRERGRLwjLsqgNbpcuWmk/UIk1WVJmzq2mGu85VpWntPNxamvBh4fokHb23ZY/CyEECL8ROKUDiH/G/QMkoiGPS9yJiIiIfEX/RHOdB4D6NYBU3ttGFw1E3QXEPKBu73Nb6QCZ4mXVmeCHOrW14LNmhEKMyALC3VBmjoiGFQboRETDlCRJFmWIIOiw92AH6holREeIwyrxE5HP6F/aLPoB14JElRneVbcbwtTUgg8P0eHaCyKUG14oM0dEQxsDdCKiYaioqAi5ubkoK+udFYuNS8K4c5cgIH5O77FIETnztVM6iYic4GqQqDbDu9p2Q5iaWvCLrxnJC5tE5DTuQSciGmaKioqQnZ1tFpwDQE11Bb4u+hNqfv6s91iDhPy1tSj5vm2wh0lEWhGc3rOX2lbQKajPBO8DjLXgYyPNVyHERonIXxDDC5pE5BLOoBMRDSOSJCE3NxeybCvZk4AD25ci+qSZaKzajc62avgHx+GFDVMx7YxkzgoRDUeCqJRSK8+GEqT3ff/oeU9Qkwneh2RMCsa0M4K4JYiI3I4BOhHRMFJaWmoxc25ORkdLJb7+2znoaj9uOvrfrYm4L+ApPPHwtfwASjQchWUBSYWmOugmfnolOB8oE7wPEnUCJp4S6O1hEJGPYYBORDSMVFaqS+LUNzgHgI7WY3hm6fX4eu8JLH/wWi7hJBqO+meIZ1ZyIiK34x50IqJhJCYu3slHKktad3++BEteqeKedKLhyphwLvxq5SuDcyIit2KATkQ0TJR834ZVn45FQEgibCd7skdZ/t5QuQurCushGaztYyciIiIiZzFAJyIaBkq+b0P+2lo0nRAw7twlPUed20ve2VaNmnoJew92uG+ARERERMQAnYjI10kGGas21ptux6TMRspZi+AXEGHWbkRgtKr+/IPjAAB1jZL7BklERERETBJHROTr9h7sQE2DEkzX/PwZDny1FB2tvcni/AIiof/tTRg9cSF2rs9AR+sxmJdRMhIQEJqAiPjJqC/fgcKNzRBbU5Geng5R5D5UIiIiIldxBp2IyMcZZ7prfv4MP2653Sw4B4DujkYc+XYl6n7damf5u3I7LvUy7FyfgT1/vwovP70AM2bMQEpKCoqKijz8LIiIiIh8HwN0IiIfFx0hQjZIOPDVUlifGVeOHdi+FDEpszFhzksICEkwaxEQmoDkibfi6J41FgF+eXk5srOzGaQTERERuYhL3ImIfFxaagDkpn9ZBNbmlAztR/e+juS0mxCTMhsNlbvQ2VYN/+A4RMRPxs71GbAW4MuyDEEQkJeXh7lz53K5OxEREZGTOINOROTjRJ2A0/SNqtoe+vpR7HhrGmqPfI6opKmIHzcXUUlT0Vi1226AL8syjh49itLSUncNm4iIiGjY4Qw6EdEwkDomSXXbjtZj+HHL7Ug5axGCI1PgHxzXkzhuYJWV9mbpiYiIiMgeBuhERMNARno6AkIS7WRo70u5/8i/VpiOjAgcqeo8iYmJTo6QiIiIiLjEnYhoGBBF0U6G9oF1tR+330AQkJycjPT0dMcHR0REREQAGKATEQ0L9c0GxI650GqGdsdZKcEmAytWPMcEcUREREQuYIBORDQMREcogXPsmAsx9brtGPv7h5zua0RglNntgNAETJjzElJ/e7FLYyQiIiIa7rgHnYhoGEhLDUBEiA6NrQYIOhHJaTeh7Ie/qtyTbi512sMICEkwlWCLTJwCQSdi+w9tmHhKoGeeABEREdEwwBl0IqJhQNQJmDUlxHRb0Dm/Jz0gJMGsBJugU2bnt37bBsngWLBPRERERL0YoBMRDRPTzggyux2TMhspZy2CX0CE6j4CQhMRmTjF6n0NLQbsPdjh0hiJiIiIhjMucSciGibSUgMQE6FDbaMB1Qc/wf7SB82ys/sFRMA/OB5t9ftt9hGXeplpxtya7/7XjrTUAIg6xzPFExEREQ13nEEnIhomRJ2A884OwcEdj+M/Xyy0KJ3W3dFoNzgHgOqDf4dskGze/9bmJlzzYAVKvm9zy5iJiIiIhhMG6EREw4RkkPHmWxtwdM8rTvfR0VKJhspddtvUNEjIX1vLIJ2IiIjIQVziTkQ0TOzZ14Z/ffb/XO6ns61aVbtVG+sRGiSgvtmA6AiRS9+JiIiIBsAAnYhomCjeVmKxrN0Z/sFxqtrVNEj4y/M1ptuxkSJy5kchY1Kwy2MgIiIi8kVc4k5ENEyonfm2TbCbxX0gXPpOREREZB8DdCKiYWLKxJNc7EEeMIu7GqsK61kvnYiIiMgKBuhERMNE5vQMxMYludTH0T1rUPPzZy71UVMvsV46ERERkRUM0ImIhglRFPHyS8+73M+B7UvtllpTo67RtccTERER+SIG6EREw0hWVhaWLl3qQg+yqlJrA4mOcG2ZPBEREZEvYoBORDTMPPDAA9Dr9S714UrCudgopeQaEREREZljgE5ENMyIooiCggIIgvM1ydWWWrMmJzuK9dCJiIiIrGCATkQ0DGVlZWHDho0ICkt08JHOl1oTBODBm0eyDjoRERGRDX7eHgAREXlHdvY8RKfMxuJHP0VH6zF0nqiDf1A0TjT9giPfPgdAANC3HJoy6z1u2hKnSq3JMvDCew3wE3UM0omIiIisYIBORDSMzTgrDAX5l2LVxnrUNPRmVg8deSoOfLUUHa2VpmMBoQkYN20JYsdc6PT5GlsNyF9bi/wFMQzSiYiIiPphgE5ENMxlTArGtDOCsPdgB+oaJURHiPhh/5VYlzIbDZW70NlWDf/gOEQmTnFq5tyaZ9fXITRIwBmnBHI/OhEREVEPBuhERARRJ2DiKYGm22mpAXi/uAVC0lSPnK+5VcZfnq9BbKSInPlRnE0nIiIiApPEERGRFaJOwOJrR7rcj2yQUF++A1UHPkR9+Q7IBsns/poGCflra1HyfZvL5yIiIiIa6jiDTkREVmVMCkb+ghiL/elq1fz8GQ58lY+O1mOmYwEhCRh3br7FPvZVhfWYdkaQ+XJ3WQLaSgGpEhATgeB0QHDPEnsiIiIiLWKATkRENvXfn17fJGH1poYBH1fz82f4ccttFsc7Wo/hxy23YcKcl82C9Jp6CXsPdvQus28uAqpyge6y3gf76YH4AiAsy9WnRURERKRJXOJORER2Gfenzzw7BH+YEYbYSPuz2LJBwv+K77PbZt+2+y2Wu9c19txuLgLKs82DcwDoLleONxc5/ByIiIiIhgIG6EREpJqoE5AzP8pum/qKnejuaLDbpqu9HvUVO82OlR/9DmjdChy7C+b11416jlXlKcvfiYiIiHwMA3QiInJIxqRg3HBxuM37G8p3qOrHvJ2MDdui8MUXL2DPL8mQDLb+PMlA91FlbzoRERGRj+EedCIicth1F0ag6MsWNLcZ3NSjgLaucCz//HkAQGxoBXIyliIjdbP15lKlm85LREREpB2cQSciIqcIgvXjkSprp9trV9OSgPxPX0LJwQusNxATVZ2DiIiIaChhgE5ERKpJkoTi4mI8tfJN/LJ/u0WiNwCIGvU7+AVE2u3HLzASUaN+Z6eF8udpVckSy+Xuol4puUZERETkY7jEnYjIB0mShNLSUlRWViIxMRHp6ekQRddqiBcVFSE3NxdlZb3Z1QNCEjHu3CVmJdMEnYjxmU9YLbNmNH76ExB0A41Hh5qWUdhbMQUT9X0SykUtYD10IiIi8kmcQSci8jFFRUVISUnBjBkzcM0112DGjBlISUlBUZHz5cmKioqQnZ1tFpwDxrrmt6Pm58/MjseOuRAT5rwM/+AEs+P+IQkWNdAHUtcaZ37Af5xjgyciIiIaIjiDTkTkQ4qKijAvOxuQzcuUlZWVY968bDxd8DYmTb0M0REi0lIDIOpsbCTvQ5Ik5ObmQpZtlT4TcGD7UsSkzDabFY8dcyFiUmajoXIXOtuq4R8ch8jEKSpmzs1FBdWYH+D+cyIiIvJRDNCJiHyEJEm47fa7LIJzhRJIP/jAnzH12t9B0IkICxaQNSMM110YYTdQLy0ttZg57993R0sl6it2QhB0FsF4lMqkcbY8svlF5M14EJnjNgN+3H9OREREvosBOhGRjyjeVoKa6nI7LZRAuqFyF6KSpqK5TcYbnzTh/eIWLL5mJDImBVt9VGWlupJm//l8Ibo7Gky3re1Pd0ZTewwe+ewl/K/qFdx25Vncf05EREQ+i3vQiYh8xK49v6pq19lWbXa7qdWA/LW1KPm+zWr7ffv2qeq3b3AO2N6fDgCyQUJ9+Q5UHfgQ9eU7rGaD72/Dd39C8f45qsZCRERENBRxBp2IyEf4B8cN3MhOu1WF9Zh2RpDZcndJkrCyYJWTI7K+P73m589w4Kul6GjtnZkfeLZdGVPBe/VInxSsau88ERER0VDDGXQiIh+ROT1jwPrjuhHBiEycYvW+mnoJew92mB0r3laCxoZaF0bVu6weUILzH7fcbhacA/Zn2/tqbDFYjJGIiIjIVzBAJyLyEWmpAdANMLNs6GpDzeHNNu+vazRfaq522fxAOtuqIRskHPhqKZSZ9f6UYwe2Lx1wuXv/MRIRERH5CgboREQ+4uvtX6HzRP2A7faXPGgzCI6OME/ApnbZ/ED8g+PQULnLYubcnPlsuy39xwgAkkHGnv3t2PptK/bsb4dksHYRgIiIiEjbuAediMhHqM223tV+3JTJva/YKKU2el+Z0zMwInAkutqPOzkqAQGhCYhMnILqQx+rekT/JHZ9xUTqLMZY8n0bVm2sR01D70WH2EgROfOjbGamJyIiItIizqATEfmIxMRE1W2tBcE52VEWydcmnhqMlLQsJ0ek9DVu2hIIOtHlJHYA0NkFbP/hhOl2yfdtyF9baxacA0BNg4T8tbV489MGzqYTERHRkMEAnYjIR6SnpyNqZIyqtn2D4NgoEfkLYqzONos6ATkLnAvQA0ISMGHOS6bM7JGJUxAQkghj4G51XCEJNpPYAeYl4SSDjFUb7S/pX/dxE65+oNxmCTkiIiIiLWGATkTkI0RRxMsvrR6wXUBoIkan/g7zZoRhRV4c1j86yu5S8Duu9EdsdIDN+20Zf96ziB1zoanmefWhj5F42tU991oP0g3d7ag98vmAfa8qrMcP+9stZs6tqW20X+ediIiISCu4B52IyIdcccV8vP9JHt59c6WNFgIW3PUkVj56kupa4iKq8fLDHZiX69hYuk7UWq157hcQCYPUCUO3ZcAsdTbixy23m828W1NTL2HPfsfKra3aWI/QIAH1zQZERyj77VlPnYiIiLSEAToRkY95543ncNrpZ2FZ/l3oPNGb3C0ofBT+30PP4MG/XG3n0VaIiciaDWx8DrhiMSCr3NJdc/hz1Bz6BP3LqnV3NNh8jCzLAAQc2L4UMSmzIegsM7Y7q6ZBwl+erzHdNiaSm3ZGEPYe7EBdo8TAnYiIiLyKAToRkQ96+J5rcd+iK/Hmu//E4V/KcfLoJFx/1XnwH+HE235wOuCnR/YF5Xj4gIylA6+iBwDU/PwprNc8H0hvubX+meb7mnhKALbsFFUtc7c6vp5EcuEhOjS1GkzHmQGeiIiIvIV70ImIfJT/CD/83x9nY9mDN+H//jjbueAcAAQRiC8AADy0EIiOVPk42TBwGzvslVuLjRJxximByJkf5dI5AJgF50Bv4M4960RERDTYGKATEdHAwrKApEKIAXqsWTo4p+xoq0HVgQ9RX74DsqHvLLmMnIt/hHhiGwADwoM986dsVWE9S7QRERHRoOISdyIiUicsCwidi6xbSrG06kUseXyTx04liiIOff2o6XZASCLGnbsEvznjTOSkP4yMkZtR8uUFyP/05Z4W7t8zXlMvYe/BDkw8JdDtfRMRERFZwxl0IiJSTxCBkEw88Mh70Ov1HjuNJJnvK+9orcR/ttyG+aPOQUbqZkgGHVb8c7lxUB4bR12jc/vbiYiIiJzBAJ2IiBwmiiIKCgpc70gw/zOks5e1XQAWPyFDkoC3v70DTe0j4cngHACiI9yXRZ6IiIhoIFziTkRETpk7dy5CQ0PR0tLifCeyAWN//xACgmPR0VZjtqzdoqkMHD0GFH8rYNMPNzt/TpVio5SSa0RERESDhTPoRETklNLSUteC8x4BwbGIHzcXAcGxqtq/+0Uimk6Eu3zegeRkR7EeOhEREQ0qzqATEZFTKisr3dKPf3Cc2deB/HV9BQJCpiF12kMYETgSnW3V8A+OQ2TiFAh2lsjLBgn1FTvRUL4DABAx6hwIgg5dJ2otHj9vRijroBMREdGgY4BORERO+fDDD13sQUBAaAIiE6cAACITpyAgJBEdrccA2C9v1tFaif98vtDsmF9AJPRpN2P0pNvRcOxbUyAemTQV3R0N2Lft/6G7o6H3Ad+9YPZ4Y6b42DEXYtoZDM6JiIho8DFAJyIih3V2dmLjxo0u9KAsHR83bYlp1lrQiRh37hL8uOX2nvsdq0He3dGAI/9agSP/WmF2/Jd+gbgtHa3H8OOW2/H7rFeQlvp/Dp2biIiIyB24B52IiBy2evVqGAwGpx/vFxiBCXNeQuyYC82Ox465EBPmvISAkARXh+gE5YLAwZI8oKnQC+cnIiKi4Y4BOhEROezQoUMuPV4UgxCTMtvqfbFjLsTU67Zj9Jl3unQO58iorm1D6d+vAJqLvHB+IiIiGs4YoBMRkcPGjh3r0uM7WivRULnL5v2CTkSUfppL53BFZQ2AqjxAlrw2BiIiIhp+GKATEZHDFi5cCFG0nTFdjc62arv3G5PGGferD6bEWADdR4G20kE/NxEREQ1fDNCJiMhh/v7+WLx4sWt9DFBWzZg0rueWS+dyhD4BCIs/B1v3XYY9+1shGRxLVkdERETkLGZxJyIipzz11FMAgBUrVkCSHFkKbl5ezR5j0rgDXy1FR6t76q7bGxcAJJ71NO7+cH7vGCIrkDM/inXRiYiIyOM4g05ERE576qmn0NzcjPDwcJWPsCyvNhBj0riJl72L38x6HhMvexenn78afgGRzg3ahoDQBEyY8xJCk7PNjtc0SMhfW4uS79vcej4iIiKi/jiDTkRELvnmm2/Q1NSkqm1AaALGTVtiUV7NOuPSckFJGpc01eze2DEX4Mh3L6Ds36+ju6PBoTFbk/r7h+yOa1VhPaadEQRRN/h74omIiGh44Aw6ERG5pLJS3dLz0WfeianXblcZnAPKbLvtYFjQiTj5rDyce+N3GPv7h1T2aftcB79+FLLB9lL9mnoJew92uHgeIiIiItsYoBMRkUsSExNVtYvST1O9rN0Rgk5EctpNCAxNhCA4O7sto6PFfuk3AKhrZNk1IiIi8hwG6ERE5JL09HTo9Xq7wbF/iLqkcM4SdCLSzlvqcj8DlX6LjnD/BQYiIiIiIwboRETkElEUUVBQAAA2g/TujgYc3P4o6st32F1G7orQpDl4+vn1GDlypNN92Cv9FhslIi01wOm+iYiIiAbCAJ2IiFyWlZWFwsJCm8GxobsdZT++jj1/vwo73pqGmp8/88g4Jp5zKd5+512nHjsiMMruLH9OdhQTxBEREZFHMUAnIiK3mDt3rqp2Ha2V+HHL7QMG6UEBjgfDZdVdeOHTcQgISYS9BHPWyKas8eZio0TkL4hhHXQiIiLyOAboGrJ8+XKcffbZCAsLQ1xcHC6//HLs27fPrE17eztycnIQHR2N0NBQzJs3D1VVVV4aMRFRr2XLlqGurk51+wPbl9pd7n7l+WFmt2WDhPryHag68KHVpfLhITq88UkTTnTqMO7cJT1H1Qfp3e0NZkniAgOAZ+6KxfpHRzE4JyIiokHBAF1Dtm3bhpycHOzcuRNffPEFurq6MHv2bLS2tpraLFq0CB999BE2btyIbdu2oaKiAllZWV4cNRERIEmSaR+6OvazpsdGibj2ggjkL4hBbKSImp8/w463pmHP36/CT/+4y+pSeVnunQGPHXMhJsx5CQEhCQ49j75J4to7gB9/7uCydiIiIho0ft4eAPXavHmz2e1169YhLi4Ou3fvRkZGBhobG/Hqq69i/fr1OO+88wAAr7/+Ok477TTs3LkTv/vd77wxbCIilJaW4vjx4w4/zlbWdON+74xJwag+9BmueOJ2swAcADpaj+HHLbdjwpyXEDvmQjS3md8fO+ZCxKTMRkPlLtSXbccv370w4Hj6J4kr+rIF114QwSCdiIiIBgVn0DWssbERAExJl3bv3o2uri7MmjXL1Gb8+PE46aSTsGPHDq+MkYgIACorK516XFyc+Qx3bKSIGy8JR1e3jD3729HZ1Y1Fi/IsgnOFcszeUnlBJyIqaSpOPnvRAPvSBQSEJlokiWtqNeD9L5shGWRIBmVMW79txZ797ZAM1vesExERETmLM+gaZTAYkJeXh2nTpmHChAkAgGPHjsHf3x+RkZFmbePj43Hs2DGr/XR0dKCjo8N0u6mpCQDQ1dWFrq4uzwx+mDJ+P/l9pf6Gw2sjISEBQUFBDj1GFEXcdpmMcb8dieNNEsprurBlZyvWf1ZvaiM3/Qt1dXX2+5YacKJ2l/066yIwYUY+ftq6yNhznzuVoP03mfkIGAEA5sH+Xz+ow3uf1wMC0NxqMB2PjhRx6+WR+P1vHXvefQ2H1wY5j68PsoWvDbLHkdcHX0PaI8jWpyXIy26//XZ89tln+Oqrr6DX6wEA69evx0033WQWcAPAlClTMGPGDDz55JMW/eTn52Pp0qUWx9evX4/gYCY9IiIiIiIartra2nDNNdegsbER4eHh3h4OgTPomnTHHXfg448/RklJiSk4B5QZqs7OTjQ0NJjNoldVVSEhwXoipPvvvx+LFy823W5qakJycjJmz57NX0I36+rqwhdffIHzzz8fI0aM8PZwSEOGy2vjgw8+wA033ODQYwRBwKikJJw9fwuON1ne31C5C//+9KYB+/ntRa/bn0HvQ5YlNB7bjc62GvgHxyIiYTIEQXRo3H1FR4p49cEEp/apD5fXBjmHrw+yha8NsseR14dxdS1pBwN0DZFlGXfeeSfef/99FBcX4+STTza7f/LkyRgxYgS2bt2KefPmAQD27duHX3/9FVOnTrXaZ0BAAAICAiyOjxgxgm/oHsLvLdni66+N2NhYnDhxwuHHHTxwAKE/7kJUkuX7WFDMFBh0kehoPQZYrVMuICA0AUExU9ApqQ2yRQTHTYVxDVGXwW7jAVXWAf/7xYCJpwQ63YevvzbINXx9kC18bZA9al4ffP1oD5PEaUhOTg7eeustrF+/HmFhYTh27BiOHTtm+sAbERGBW265BYsXL8aXX36J3bt346abbsLUqVOZwZ2IvM7ZRHGA7Wzugk60U9NcuT1u2hIIOudnwN3hqz1tXj0/ERER+QYG6Bry0ksvobGxEZmZmUhMTDT9e++990xtnnvuOVxyySWYN28eMjIykJCQgKKiIi+OmohIkZiY6PRj+5c368tY0zww1HwrT0BogqnEmrdt3tHCrO5ERETkMi5x1xA1+foCAwOxatUqrFq1ahBGRESkXnp6OvR6PcrKymF9ObolQRCQpNdjdOrv0GRndbyxpvm10w5g+79+xZ4jYYhMnOLWmfPLMkKwbfcJNLY6vua9rQPYe7DDpWXuRERERAzQiYjILURRRN69T+Mvd14DZfm5/SBdEJQl6gUrV6JSCsemL5vtt9eJOHn8NJx1TgYWr7S+JN4e2SChoXIXOtuq4Rc4Eq11/0N781EEhp8E/enXI/PMOJx5ahDy19aq6s/Q3Ymy/7yJ9qZfERh+EiprFjFAJyIiIpcwQCciIreZeM6lmDDnJRz4aik6Wnv3pI8IjIIsy+juaDAdCw6JxD1352Hu3LnYe6hrwAAdAKIjRKSlBiA2UkRNgzRge6Oanz+zGFNfh3Ysw9sRi/H0008jf0EMVm2st9v/wR2P4+gPawG5d7b9koxl+POf/4ynnnpK9biIiIiI+mKATkREbhMdIZqWoxtnq/2D40wl0I589wJ+3fMqDF1NaG2px5IlS/DKK6+goOB5xEb+zm5QHBulBOeiTkDO/CjVM901P3+GH7fcDrsz+rIBzzzzDARBwFNPPYVpZwThjY8b8dZmy/IzB3c8jqN7XrE4bjAY8PTTTwMAg3QiIiJyCpPEERGR2xhntwWdDlFJUxE/bi6ikqZC0ImoPfI5jnz7HAxd5kFvRUUF5s/PRtrIErt952RHmWqNZ0wKRv6CGISH2P8zJhskHPhqKdTuiX/22RXo7OyEqBNw5njL5eqG7k5l5tyOFSuUPoiIiIgcxQCdiIjcRtQJyLl0H5SAuHf5t2yQ8NPWxXYf++TSW/HQzVGIjTRP/BYbJSJ/QQwyJgWbHc+YFIxNTybhhovDERbcvwSboqFyl81l7dYYDBIW/7+VAHovNvRV9p83zZa1WyNJElavXq36nETkGySDjD3727HlmxYUvFuHgnfrULi1CZ3djieeJKLhi0vciYjIfWQJGbE3IP+iCXji82fR3h0KADhe/jUM3fZrhbe0tKDr+A6sf+x87D3YgbpGybTn3Dhz3p+oE3DDxZG47sIIvPVZI974xHx2vvbIFw4/hU+2/gcFBtnqUvr2pl9V9XHo0CGHz0tEQ1fJ9202c1e8XNSA7JlhuC0rygsjI6KhhjPoRETkPm2lQHcZMlI348ZzVpgOV+3bpOrhf/vb3yDqBEw8JRAzzw7BxFMCbQbnfYk6AdddEIa5k37CifKPUF++A9WHPkHZv191+Ckc/c/7eO7FdyFJEgyNu3Bu8j8hN34D2SAhMPwkVX2MHTvW4fMS0dBU8n0b8tfW2syhYZCBDf9oxstF9YM8MiIaijiDTkRE7iP1Lie//Iw3sObrB2CQdZC67M+eG7W0tDh12qKiIuTm5qKsrMx0TNA5dw1a6mrG3bnX4IlH7kRdXZ3peHxCEv7vzsexfKcOBoPtJauiKGLhwoVOnZuIhhbJIGPVRnWBd+HWZtx8WQT8/Tg/RkS28R2CiIjcR0w0/dffrxvZk5SEahGJZ6l6+LnnnuvwKYuKipCdnW0WnAOAbCeIVqNvcA4A1VUVePzBG3HppZfafdzixYvh7+/v0rmJaGjYe7BDdclHgwz8fZtzFyGJaPhggE5ERO4TnA746U03bzt3Oa448xWclPZHAPaXqut0Otx5550OnU6SJOTm5kKW1WVpd4XxHN999x3+/Oc/QxTNE8iJooi7776bJdaIhpG6RnXBuVFFbbeHRkJEvoIBOhERuY8gAvEFZoduO3c5Nt85AZddcrrdh/75z392eOa5tLTUYubck2RZxtGjR3HJJZegra0Nzz33HO644w4899xzaGtrY3BONMxEhTn2UXpUDHeXEpF9fJcgIiL3CssCovKA+pWmQ/5+3fjw6R9xTxywYh0g9Vl9LooiFi9e7FRwW1mpvoSaO1VWVsLf3x95eXleOT8ReV/J9214YcNxhx5z2fRQD42GiHwFA3QiInK/0LlmAbrRU3cDj+UCq98BDh0FxqblYOGiFU7v2U5MTBy4kQd467xEpA3GzO2O0AlQVZWCiIY3BuhEROR+xr3o3eUAzPeH+/sDeTcIyv1jC5Rl8U5KT0+HXq9HWZnleTwlJCQE6enpg3IuItIeNZnbZYOEhspd6Gyrhn9wHCITp8CgE/HGxw24+TLWQyci2xigExGR+xn3opdnQ0kO1zd47plBil/pUnAOKMvjCwoKkJ2djUHIEwcAmD9/vkWCOCIaPgbK3F7z82c48NVSdLT2bsEJCEnEuHOX4K3NF2KM3h+ZZ4YMxlCJaAhikjgiIvKMsCwgqRDwSzI/7qdXjodlueU0WVlZ2LBhI4LCPL/sXKfT4ZVXXvH4eYhIu+xlbq/5+TP8uOV2s+AcADpaj+HHLbej5ufP8Mhf61DyfZunh0lEQxQDdCIi8pywLGDsESD5S2DUeuXr2MNuC86NsrPn4ZN/7kPK2Yvc2m9/zmSaJyLfEh1hfQWNbJBw4KulsL7dRjl2YPtSyAYJqwrrIRkGadkPEQ0pDNCJiMizBBEIyQTCr1a+uris3ZYZZ4XhjVcew++z1iAgxPnZ9NDo0wHB/M+jTsca50SkSEsNQGyk5ftYQ+Uui5lzczI6WirRULkLNfUS9h7s8NwgiWjI4h50IiLyGRmTglGy8f+wZ981KN5Wgs62akxOS8JVV16B+nr7SZ2M4k/NwuTTr0fZf95Ee9OvCAw/Cetf+QumTAj38OiJaCgQdQJy5kdZZHHvbKtW9XhjO3tL5Ylo+GKATkREPkXUCZh8Wggmn3ah6djcuXOxbt06VY/Xn349dH7+OOmM/wMAxEaJmPybME8MlYiGqIxJwchfEINVG+tNCeP8g+NUPdbYLiqMC1mJyBIDdCIi8nmzZs1SFaBHnXQedH7me8xzsqNYu5iILGRMCsa0M4Kw92AH6holRIZeggt2JqG2ugLW96ELCAhNQGTilMEeKhENIbx0R0REPi8pKWngRgBGT7zV9P/YKBH5C2KQMSnYU8MioiFO1AmYeEogZp4dgsmnheC+h57puaf/RT3l9rhpSyDolP3r9c2GwRsoEQ0ZnEEnIiKfl56eDr1ej7KyMptt9MnJ+OsTl6ChRcnSnJYawJlzInJI3sIrseGLZvywdYl5HfTQBIybtgSxY3q33tjKBk9EwxsDdCIi8nmiKKKgoADZ2dmQZculp4IgoGDlSkw+LcQLoyMiXyHqBDz58DVYmjgLDZW70NlWDf/gOEQmTjHNnAPKCp201AAvjpSItIpL3ImIaFjIyspCYWEh9Hq92fHk5GQUFhYiK8u9tdmJaHjKnByCK2dHIippKuLHzUVU0lSz4Bxgbgsiso0z6ERENGxkZWXhkksuwerVq3Ho0CGMHTsWCxcuhL+//8APJiJS6basKIxP8UfBu/VobOndax4bJSInO4q5LYjIJgboREQ0bBQWFmLhwoWoqakxHXv22WdRUFDAGXQicqvMM0OQPjHYlOWduS2ISA0ucSciomHhnnvuwfz5882CcwAoKytDdnY2ioqKvDQyIvJVfbO8TzwlkME5EQ2IAToREfm8jRs34umnn7Z5vyzLyMvLgyRJgzgqIiIiInMM0ImIyKdJkoSFCxcO2O7o0aMoLS0dhBERERERWccAnYiIfFppaSlqa2tVtX3wwQfx+eefcyadiIiIvIIBOhER+bTKykrVbbdv3445c+YgMjKSe9KJiIho0DFAJyIin5aYmOjwY1paWjBv3jwG6URERDSoGKATEZFPS09Ph16vd+qxd911F5e7ExER0aBhgE5ERD5NFEUUFBRAEBwvb1ReXs7EcURERDRoGKATEZHPy8rKQmFhoVMz6Y7sYSciskUyyNizvx1bv23Fnv3tkAyyt4dERBrk5+0BEBERDYasrCzMnTsXpaWlWLt2LdavX6/qcc7sYSci6qvk+zas2liPmobeLTOxkSJy5kchY1KwF0dGRFrDAJ2IiIYNURSRmZmJrq4uVQF6TEwM0tPTB2FkBCg160tLS1FZWYnExESkp6dDFEVvD4vIYX1fy9UtUfhg96kAgIbKXehsq4Z/cBxkwxTkr61F/oIYzQXpkkHG3oMdqGuUEB0hIi01AKLO8W1CXiNLQFspIFUCYiIQnA4IfC+hoYEBOhERDTtq66Jfd911DBAHSVFREXJzc1FWVmY6ptfrUVBQgKysLC+OjNxhyAd8DrD2WvYLiAQAdHc0mI4FhCRi3LlLsKrwEkw7I0gz348hP9vfXARU5QLdvd9/+OmB+AIgjO8lpH0M0ImIaNhRu2x97ty5Hh4JAUpAM2/ePIvjZWVlmDdvHjZt2sQgfYiSDDLe3tyITf9sQXObwXQ8LFhA1owwXHdhhGYCU3coKipCdnY2ZNl8f3nfwNyoo/UYftxyOwBg78EbMPGUwMEYol0l37chf63lBcyaBmlwZ/udnQFvLgLKswH029/fXa4cTypkkE6axyRxREQ07BhLr9nK7C4IApKTk7m8fRBIkoRbb73Vbptbb72V5e6GEGMytFUbj+OyPx/Fuo+bzIJzAGhuk/HGJ02Yd285Sr5v89JI3UuSJOTm5loE57Yp7Q5sX4rq452eG5hKkkHGqo31dtusKqz3THI7WQJai4Gmd4DaR4CDo4GjM4CKa5Svh1KU4HugPqpyYRGcK3cqX6rylHZEGsYZdCIiGnaMpdeys7MhCILZB2pj0L5y5Uoubx8ExcXFqKurs9umrq4OxcXFmDlz5iCNipxlbXm0PU2tBs3uw1aj717zqqoqs2Xt6sjoaKnErwd2Ar+b7ZExqhuGhL0/fouahlF2m9XUS9h74AQmnmrnZ+Xo7Le1Jen9qZkBbyu13wdkoPuo0i4k0047Iu/iDDoREQ1LxtJrSUlJZsf1ej0KCwu5pHqQFBcXu7UdeY9xebTa4Lwvj83MelBRURFSUlIwY8YMXHPNNVi0aJHTfQXp1OXF8IjmIuBQCuoOL1fVvO5Aju3Z7J6+VM9+G5ek2w2sAVUz4JLKkphq2xF5CWfQiYho2Opbeo2Zw4mcp2Z5tD019RL2HuzQxD5sNWztNXdWUpL9mWt3M838//whEv1WIn0yEB2iV/XY6MD/AeXrgJilQPQDvbPjjuz/liWg+XOg8o+W7W0aYAZcVFkSU207Ii9hgE5ERMOasfQaeUdmZiYee+wxVe1Iu/Ye7HBq5ryvumOlQNIIzZfEcnyvuR2CgGS93jP5LmwsNbdaMSEBeO6+bxAbWoGalgRYX2RrQGzoMaSN2qXcrF0CNKxVsqOHzh1g/7egzH6HzgVaPgQqbgDkFueel60Z8OB0JVt7d7mNcQjK/cHMLULaxiXuRERE5DWZmZmIjo622yY6OpoBusbVNbqeeCu682H1CcG8qLS01Im95pYEQYAAD+W7sLbU/EACil67FNnZ8yzGX14FXLFIRprf7T1HDP06VG7nZCyFqOtzX3eZMjteu0zd/u/aZUD5POeDc8D2DLggKhcLlBv971S+xK/U9MUfIoABOhEREXmRKIpYs2aN3TZr1qzhtgONi45w7ecTGVTbOzNrXBKt0SC9stLxPczR0dEWF6Lcmu/C0AnUrQSO3QlU3Gx1X7fUVYvcBz6GtYl/47E1r+/BQ3NuQ2zoMbP7Y0OPIf+i25GRutn6+evU7V9H3VPq2lklAH7JtmfAZQnQjQSicgFdv4t+fnqWWKMhg0vciYiIyKuysrKwadMm3HXXXSgvLzcd1+v1KCgoYMK+ISAtNQARITo0tvafeR2IEhnelflgn5nZfkuiNTbjmZiobg/zc889h/j4eFNuCwCeyXdRfQ9wfAUA+6sYSncDZcds3y/LwNFjgNC4Betv/AJ7K6agrjUO0SHVSBu1y3zm3PyRANpVDrZVZbv+BpgBt5YJXowFwq9VXkMa3zZB1BcDdCIiIvI6JuwbWiSDjL0HO1DXKCE6QkRaagBmnh2MomLHly7Pn/QKMsd91u+ocUl0PhA8U1MBVnp6OvR6PcrLy63uQxcEAXq9HnfeeafF69ftWzVqHgaanlbVtLJGXZeVNYCoM2CifqcLA3Mz3UggcY3lDLgsAXXLlP3w/Uk1QH2Bpl47RGowQCciIiJNYMK+ocFarfPYSBFnjg9wojcBW/57BU5P/N768um6x5R/fnplf7EGliiLooiCggJkZ2dDEASzIF0QlJlej+wrt6b+RUDlaRJj3dtuUBmOA+0/AnJHb8K7lg8Hrp8OGTh2qyZXYhDZwj3oRERERN4iS0BrMdD0jvLVVo1njbBV67ymQcKWnW1O9dnUHoX8T19CycELzI5LBh32lP0OW/ddhj1HkiEdvUIz+9KzsrJQWFiIpKQks+OO7CuXJAnFxcV45513UFxcDEly5mev/jHpk5Vs7UL//Gk9BAFITlDaaY8M1C3pk/AuXkk2N2D9dABSHVD76JD6PaPhjTPoRERERN5gbd+shmaK+3O11rltAgAZq0qWYNqYzyHqDCg5eAFWlSxBTUtvffDY0ArkzHgRGRdoYzbUlW0ZVkud9c+5YKNMmnL8K4fHK4pAwf1Adp4SjPddnW8M2lfer7TTPEOdY+3rHgHqlvbeFmOB+NVAeLZ7x0XkBgzQiYiIiOwxBkrd5UB3DeAXC/gluba3tblIybTdv16zMYN5UiEQeKnLQ3cnd9Q6t02HmpZReP+HG1HVnIRNe25B/+9NTUsC8j96DPlRu5HxuykeGodjnNmWUVRUhOzsbIv96+Xl5cjOzlZm4M+H9Ys34Vcrs8AddQDecXi8WbOBwpVA7nLzhHH6eCU4z5o9QAdCMCA7t1LCu/r9nkk1QMV8oP1uIM6VzPJE7scAnYiIiMiWpkKgaqHygb6//rPdtmY8+5MlJfjqHzQod8KUwfyki9z3PNzAHbXOB7K6tG+yr/5rsXUADFj1YRSmTZEh6mys1dYwSZJw1113WU0uJ8syBEFA3l23Yu6WOsuZ7O4y4LgxIVyQ02PImg3Mnalkda+sUfacp09WOXMuD73vuV3HnwYCzwbC53t7JEQm3INOREREZE31Pcosm7XgHFACpvJ5QO0jQNNG4FCKsj/WuE/2UIr1PdNtpQMntuo+ClTfq9w8vlqpc+1lrtY6dw8dahoDsPfHb4bkPuJly5aZlRLsT5ZlHC2vQ+luz45DFIHMKcDVFytf1S9rd7ZMmoYdyxmSryXyXQzQiYiIiPpr2thntnIAtUuAiissg27jcvX+QbpUqa7fxrU9/d8P7A8EfjkPaHzba0mu0lIDEBvpqSDd2moC2+oOL7d9AUSjioqKsGSJlXJgVqgtiUZuYKgB2oq9PQoiEwboRERERH3JEnBsoTs6Ur5U5Sl9GjO2t//kXF8nvgQqr7M/O+9Bok5AzvwoD/Xu2NLp6JBq2xdANEiSJOTm5qpur8lSZ76sXDsVAogYoBMREdHwY6+8WVspYKh114mU5eq1y3qXwB9/zPVuu8u8EpxmTApG/oIYi5n0oIDB2ptsQGxoBdJG7YLFBRANKy0tNcvYbo92S535MMNx5fep5hGWYiOvY5I4IiIiGl4GKm+mdgm6I+rULW12jKwEp6GDW3YsY1Iwpp0RhL0HO1DXKOFoVRfe/LTJ4X6uuyAc4SE6rN7UoPIRBgBATsZSiDpDz7GeCyBtpUBIpsNjGCyVlepfUysfjIYoHoejy/7JVbL576kuBkhYzQRyNOg4g05ERETDh7G8mcV+8Z6Eb81FgC7OO2NzhjE4HWSiTsDEUwKROTkYH5a0OPz42CgR110YiihhN06Uf4T68h2QDfZnLGNDjyH/otuRkbrZ8k5PXFRxo8TERFXtlubnI+v6NT23fCxj+lBjqFVyS1Tf4+2R0DDDGXQiIiIaHuyWN+tRcQMgRgzakEyiHwS664HGVY4/1ovB6d6DHWhsMQzcsJ+0qBKMHXOP2bLvgJBEjDt3CWLHXNinpYx5E1/FtDFfIG3Urj4z5/2I6gJgb0lPT4der0d5ebnVEmsAoE8AHrhqLYDngVEbbJf3o8F1/GkgcAoQnu3tkdAwwRl0IiIiGh4GLG8GQG5Rko95g+Dkx7KOA+4dhwMcrY0eGyXivDHb8fA911rsye5oPYYft9yOmp8/M7XNXxCNnPNex0T9NzaCcwHwS1ZqzmuYKIooKCgAAAiC+cy4ICj/Cu4HRLlcWclReQuDcy2pWsg96TRoOINOREREw4OWl0HXuZA47vgzQPR9wImvlecoJioB6yDsS1dbGz0oEHj01lhMGDsCY8fcY2MWWYYgCKja8xjWPXcdJp4aDFEnAM0FyrYECDBf/dAT6MavHNQ9+M7KyspCYWEhcnNzzS5O6OOBlfcDWbP7NJYd39NPHiTVaD7PAfkOBuhEREQ0PGh8GbTT5GbgQCQgn+g91jfpnQcZa6PXNNifXbz72micOT4IxcXFdrOZy7KMmqoyNFd9C/G0TOVgWBaQVGgjsd9Kjz9Hd8rKysLcWREo/WAWKmuUcmrpkwFR+9cXSMsX+MinMEAnIiIiTZIMsilTeHSEiLTUAGVG1VnB6YBupFJSydf0Dc6B3hrhSYUeDWCNtdHz19ouS3fFrDBkTg4BoD6buUW7sCwlW31b6aCvEnA3EdXInOLtUQwhunDAoIEVBb56gY80hwE6ERERaU7J921YtbHebGY2NlJEzvwoZEwKHrgDWbIM5gAg9DKgaZ1nBq0pMgBhUMqwGWuj9/95RYbqcNdVUcg8M8R0TG02c6vtBNE3lhh3ei9nwJBkkIDwGwFdKGBoBpo+AmDjIpsuHIi4GTB0OZdw0SaROQFo0DBAJyIiIk0p+b7N6oxsTYOE/LW1yF8QYz9It1bnXBcNyJ3KcvBhw1gjvBgImenRM/WvjW5rxcNA2cwFQYBer0d6uraTvjnMeMGouxw4/oK3RzPEtKq/qGZoVi7GtX7p5jFIQMWVykWiIbSlgoYmZnEnIiLPkSWgtRhoekf5yiy4NADJIGPVxnq7bVYV1kMy2CiVZqvOuaFumAXnfZRdrnxfPMxYG33m2SGYeEqg1e0I9rOZK7dXrlwJ0Zc2ZTcXAYdSgKMzgMrrlPra5DlVeYA42nN98+8YeRgDdCIicp21QLy5CDg4WvlQWnGN8vXg6EEJFGjo2nuwY8CEYzX1EvYe7LC8Q02d8+FIblEuWmjkd8+YzTwpKcnsuF6vR2FhIbKyfGiG0soFI8mgw56y32Hrvsuwp+x3kAz8OO4+PatG6pZ6ru+2Ug/0TdSLS9yJiMg1tpYTG+os20o9NX5HbQDC5w/eGGnIUFtX22o7NXXOhy15UPajq5WVlYW5c+eitLQUlZWVSExMRHp6um/NnFu5YFRy8AKsKlmCmpZRpmOxoRXIyViKjNTNXhikr2rxXNfM5k4exgCdiIicZ5wd6j9jaS0476viKgACEJ7tqZHREKW2rrbVdvzgbJ9x9k8jidZEUURmZqa3h+E+/RMTQjK7YFRy8ALkf/qSxcNqWhKQ/+lLyL/odgbpQ0H7T4BYPGSrCJD2cU0NERE5x9AJVP4Jzi0nNgAV8zWz5Ja0Iy01ALERnQAMNloYEBvRgbTUAMu7dHGeHJpvaPnQ2yPwTX33mRu39JRfYbpbMuiwqmRJz63+H7+V26tKlgzOcnch1PPn8GXHH1N+vodS+DeMPIIBOhEROa65CDiU5HqyIybcoX5EwYCcjPyeW/2DdOV2TsZSiILBMvdB27bBG+hQ1fg2f+fczWZiwt5SYHsrpvQsa+/96C0bJNSX70DVgQ9RX/4NqpvisbfCkwXSRWDk3cCoNwBYJvAjB3WXayq3A/kOLnEnIiLHNBcp+8jdQWNLbkkD2kqRcfLbyL+ozspe3WPKXt2TNwO1pwCNa7nn3FGGGv7OuZPKxIR1rearO2p+/gwHvlqKjtbebRkBIYn4IDIJE2/0wDgBQP8pEDpb+X9SoWXuEHKQDEDQVG4H8g0M0K0oKytDZGQkQkPNlwB1dXVhx44dyMjI8NLIiIi8TJaAylvd22d3uXv7o6GtZx95RupmTBvzOfZWTEFdaxyiQ6qRNmoXRF3PrHrdEjudkF3cq+8+KhMTRodUm/5f8/Nn+HHL7egf1He0HsMjT1bit6OArNnuHijMc4OEZSlBpXHPfFcVULPIAyf1dTIvNJPbcYl7H5WVlZgyZQpGjx6NyMhIXH/99Whp6c0Cefz4ccyYMcOLIyQi8rK24oETwDmq4VX39kdDm5jY+1+dARP1OzHz1L9jon5nb3DeB0tWOaHP95hcpPJiR9qoXYgNrYBs6MKBr5bC+oy7DAhA3nJA8sQuhP45GgRRCSrDrwZG6D1wwmGEF73IjfhXrI/77rsPOp0O33zzDTZv3oyffvoJM2bMQH19vamNLLO2KhENY63F7u/zRDHQ8rmSdK5/LXXyCZJBxp797dj6bSv27G+HZLDztzQ4HfDTQ80e2ZKDF+CadduxuOg9LNvyAhYXvYdr1m1HycEL3Df4IWeEnfsEwC9Z+R6Te6i82CHqDMjJWIqGym/NlrX3J8vA0WNA6W53DbCPYzda3y8tS0C1u2bPBSDx3Z7f4WGEF73IjbjEvY9//OMfeP/993HWWWcBALZv34758+fjvPPOw9atWwEAgsCkGkQ0jHnkLVAGyuYAECFJEkp3A5U1QGJCDNIvXg0xkvXSh7KS79uwamM9ahp6L7jERorImR+FjEnBlg8QRCC+oKd8nwBbe3u1ULJKMuhsL8H3mq6er/2/dz2/vPEruVfWnYwXlLrLYXsfug6AARmpm3HpKRXYo6Lbyhq3jbCXMalZUqGyxN1I5TJ9dWTAL77nd9hNuUo0TVB+/n0vevUvt8dybOQgzqD30djYiKioKNPtgIAAFBUVISUlBTNmzEB1dbWdRxMRDQNBmR7ruuhzCSmzgBk3ANf8BZhxXS1STrsCRW/f47FzkmeVfN+G/LW1ZsE5ANQ0SMhfW4t1n9Tju/+dsJxZD8tSggi/JKv9aqFkVcnBC3D161+bzd5f/bpGZu/FaEAcZX7MT28ZmJHrjBeUlBv971T+jfyz6ch5af9W1W1irFtG10/P71f/6hnuXp7ta6X8TGXprP18YX7Ry1q5PZZjIwcxQO9jzJgx+Pe/zd84/fz8sHHjRowZMwaXXHKJl0ZGRKQRIZmALtrt3RZ9DmTnAWXHzI+XVwHZf3waRZsK3X5O8izJIGPVxnq7bd78pBl/eb4Gy16vw+KV1bj6wQqUfN+m3Bk6F0hYB4RazsJZK1llToeallEeK1llnL2vbU0wO17bmoj8T1/yfpAu1SmltJK/BEatV76OPczg3FNsXVAyXhSJewpI2gT46ZE+GdAnALYWZAoCkJwApE/21GD7JDUzcvfy7PqV7k8m6k1Jm4DopYAuyvx4/4tetsrtsRwbOYgBeh8XXngh1qxZY3HcGKRPnDhx8AdFRKQFxnrTzRuAgDS3di1JQO5yZe+lxWl7juXlLURnV7f6fczkdXsPdljMnA+ktmdmfdX6Xfjuyyx89/VD2Lq7yyL5W/+SVbaobecIyaDDin8uh2l21IxybMU/l3s/WV3Lx70JwEIyucTW08KygLFHbF8U6blfTPkSBY9nA7AM0o23V94PiJ7+cTVv6s314UDeB9XcnUzUKwRlNUrlzUrVCGNde91IIGap+c/Xbrk9GysXiGzgHvQ+li1bhra2Nqv3+fn5YdOmTSgvZzkgIhpmmos8Wi+3dLflzHlfsgwcLavB7Bvfhy7iHNNxu/uYyevqGp3/ILrpqwRswgtmx2JDK5Qa6KmbzUpW2aO2nSN+KD8HTe0j7bQQ0NQ+Ej+Un4Mzk3e4/fyq1a9UAi/Omg8eY1b0Ae7PujEdhW3xyH2szuy9Tx+vBOceKbHWX8OLyj8/PRD3HBCxgKULzfTkcJCsXGgwHAdqlwAndgDBc4CohcCJrwf4G2lcuVAMhMz00JjJV3AGvQ8/Pz+Eh4fbvX/06NGDOCIiIi9rLlIS/XgoOAfUJ0OqqTaP4o37mE1LoklToiPcOwVoTP5WcvACU8kqwFZCNgNiQyuQNmqXW8cAAHvKprq1necIwLHbgMa3WRVBawQRWdevwZF/AF++Aax/Rvl6+B+DFJz31V0GVMxncG5B6LP33IbWzUrt+P3BwPFn1XVbNp9L3WlADNCJiMg6WRqUfYRqkyH5B1tfrryqsJ7L3TUoLTUAsZHuDNJ7k78BQE7G0p7j/YN0g+l+72dU9yYZkGqAyuuYqEqLwrIgnrQJmb/X4+qLgcwpPcvaxdiBA0MaBAZAblHZVgJaP1bXVK5XLnrzd5HsYIBORETWtRUPyj7CgZImAQICQhMRmWg94VdNvYS9Bzs8Nj5yjqgTMOMsd28/6E3+lpG6GfkX3Y7YUPOVFbGhxzxaYm1ikrpl62rbDZruMgYGWmNt33pqpZLgb0gTAB0vMthVcQNXtZBN3INORETWtRYPymlEESi4X8nibln1Wonax01bAkFnezbWlf3O5BmSQcY/v231SN/G5G8ZqZsxbczng1qL/Az9NwgPPI6m9ihYT6olIzywHmfov/HYGFxSeauSIZ9J47TB2r71sCwlc3jlre65SBo8G2j73PV+VJMBBABQOwM9DMktQOUtQOKr/F0kC5xBJyIi69yY0HcgWbOBwpVAdKx58q2A0ARMmPMSYsdcaPfx7t7vTK57e3Mjahs9Eyj3Tf4m6gyYqN+Jmaf+HRP1Oz2+rF3UGbD4vPt7bvXfWqHcXnze/dpdXm+oAyoXcPZO68KygHFVQOiVcPnNOHiOW4akii5WyXDurSzuuiTl/MYVCaM2AmLSwI/zhqY3uPWErOIMug319fV49dVX8d///hcAcNppp+Hmm2/GyJH2MrcSEfmQoEwAjw3a6bJmA6OnvY3/e6QRnW3V8A+OQ2TiFLsz5wAQGyUiLTVgkEZJapR834Z1Hzd5oGcDYkOPeST5myOU5fW34cWSJahtGWU6Hhtaaco0r2lNrwOtnwMJzzPLu5a1fAi0bID10l0q6cKB48vcNqQBhV8D+I8bvPP1Fb0UiHnAckZajAKOzvLOmAbSXabUSO9bT52GPQboVpSUlOCyyy5DeHg4zjrrLADACy+8gEcffRQfffQRMjIyvDxCIqJBEJIJ6KIHdSZkYthtOGlcKZrb1H8gzcmOgqgbxOl+sksyyFi1sd4DPWsr+Zs3lte7lVTOwEDLrNTVliSlLGVlDZAQCyBCRT8GT1wos6OhAPBbOnA7d/JLBuJX2n4dS+4vt+h2VXncekImDNCtyMnJwRVXXIGXXnoJoqj8okiShIULFyInJwd79+718ghJc2QJaPtK+X/bV0B4Bt9kaegTRCDhJaDiCkceBFdme0TDL8g6tw5vfD7waqXIUB3yrh7JOugas/dgB2oa3L98Ojb0mOZmp43L64c0Bgba1FZqVt6y6HMgdzlMddODgoB33gE++ieQdb6XxmhL/Vqlvnp3OVya/bdHjAXCr1Veu8Hp9l+/YqJnxuA2xhrppZb5CGhYYoBuxcGDB1FYWGgKzgFAFEUsXrwYb775phdHRl4nS8obqFQJiHHK353Wj4HGt4CuVgDvAGUXAyNCgIjr1P3hINIyUWUNNKPgS4C2j1w65XWZ/8X729PR1Gp7JjIiVId3Hx8Ffz+mUtEa9yXsMyAy6DhuT38EsaFVQ2t2eshgYKBZUqXpv0WfK0k0ZSux7h/vAyB7oX66PVKZsty8Lt9z54hfBYTPV9c2ON3zFwzcoc/PnIY3frKx4swzzzTtPe/rv//9L8444wwvjIg0oblISeZxdAZQcY2yn6lsFlC/EjDUmrc11CrHWXuWhjpHPzC0fQT4nerSKcURiVh8jf0Z9EVXj2RwrlHuS9inQ8OJGMSGVg1K8rdhjYGB9vTM+kqSMnNuLTg3yluutNOUgHHK9gk/vQc6F4DqP6tPdCiIQHyBB8bhZpqf6afBwk83Vtx1113Izc3FM888g6+++gpfffUVnnnmGSxatAiLFi3Cv//9b9M/Giaai5T6sX2Wm6nW3bPPj0E6DUXOfGDo3uf8+fySgeB0ZEwKRv6CGMRGmgd7sVEi8hfEcFm7hqWlBlj83MzJ0AndqvszllQjD2JgoD3B6YAYi9LdvcvarZFl4OgxZW+6poiJvXXeY9y9J73Pyg+1wrKUCwY6NRv3B5tg+ttHBHCJu1VXX301AOCee+6xep8gCJBlGYIgQNLcJUtyG1lS6kC3/RM4/owrHQEQuM+PhqbgdEA3EjAcH4STCUqin57fkYxJwZh2RhD2HuxAXaOE6AglWzsTwmmbqBOQMz8K+WtrrdwrA5Dx4AV3oLYlEatLlwzYX9+Sau4kGXRDN8Gb2wjKDCcDA+0RRCB+NSpr1C3jrqzx8HhU6/eaEkQg5mEgYIKS9M6ZiQ5bHF35EZYFBM0GDobDY0vdA84BOnY53n+fv31EDNCtOHz4sLeHQN4kS0DdMqDuaUBucVen3OdH2maWXyGxN3eCIAIjc4HagQMpl9jIwivqBEw8JdB8nK1WxkmaYlwBsWpjvVnCuNiwauSkP4yM1M2QDDps/H4BaloSYH1Bn+dKqpUcvACrSpagxqxEWoXmktA5RwSgZvKg50IXAwPtCs9G4pgrAbw3YNNEB9OFAIJSH73Nna93O6+psCxlksL4d0YXB1RcZblF0BGOrvxoLrLIjO92Hd84+AB/IOkdVlIgMwzQrRg9erS3h0De0lwEVN7qubJS3OdHWmT80NJ3ZsNPr+zZC8sCoh9w8wWrvkKB5A+A4MyBg4SBxqmGrQsR5HYWKyAC9iLNb5ppllrUGZCTsRT5n74EpYRa3yDdcyXVSg5e0HNOczUtCcj/9CXkX3T70A7So/KA+hU9N+wEIn56+6WpSBPSL3sb+lH/QHllndV96IIAJCcA6ZMd6FQIA0atAwwn3BugD/SaEsTeSYrmIkBud/5cYrRjKz+ai5TthppLEtcJBF/o7UGQxjBAt6GiogJfffUVqqurYTCYfzi46667vDQq8qjBePPmPj/SGluve2PuhOh8wH8sTDMj7hb1f0DIzIHbDTROa7Wc+wfjUi1Qvci1AJ8cYrYCoukwUGH+9zQjdTPyL7rdymy2mpJq/gA6HRqPZNBhVelyKK/n/q9pHQADVpUswbQxnzt4YSAUgCcuYDlKAJo3AInvAFV3mM9OinogagHgP44Xp4YQURRR8MIaZGdnQxBkq0H6yvsB0ZEfpdysfPVLcnF0AhD9MBBwqmOvKXd83pLqgJYP1b13W6kpb8m1EqEuOZgAjHqdf4fIhAG6FevWrcOf/vQn+Pv7Izo6GoLQ+0dcEAQG6L5IlpSZc4+9OTuxz48zfeRpdj+09Byr8/DSdl3UwG0GHKeVHA/WZtutsRfgk3vZuECZkboZ08Z87vh+cF2ow7kR9lZMQU2zvQoBOtS0jMLeiimO1TcXAwFJCwF6z3aq6jv7BeexQPxzQHi294ZGTsvKykJhYSFyc3NRVmb+nva3J5ypg97znjnmYE/5MSf3hYf+AYjNd+wxqoJlNRzI7dOvpryNgbk4HhfITfw7RGYYoFvx0EMP4eGHH8b9998PnY6J7n2aMQiuud9zy9oH2udnLRBv+dD1pbxEA1H1ocXD6vKBwAn2X9cDjrMnKGktVn7HWj5UyhyqwiSOg8ZOLWJRZ3AsIAacSlxY136aunamzPEDzaoJgC4GkDSToUvRfzxSLVBxBSAwABiqsrKyMHfuXJRuzkfl/x5DQizQBODS85zprec988TXyucKZ2ez/X/j+GPc9nfHgdw+Q2V7If8OUQ8G6Fa0tbXhqquuYnDui/oGw50HgPo1gFTu2XPa25NlbZZPF239YgFn+sgdjNUJThQD7T96ezQAZGX1ihChfMiy9sFE7YeriiuczDbPJI6DwliLuDwbloFvz4VMU8UAlcGC6goDSv/R+qtVdWvKHO+nB8Kv6lPJw8qYg84BWj9W1a/38EKULxBFEZmZM4Gxj6FLAj496GKHUiUQfrXyucKZDOvOvF+6O1hW09+Q2F7Iv0PUixGoFbfccgs2btzo7WGQuzUXAYdSgKMzgIprlKzUngrOhTAg8S0g+Utg7GHbwXl5tuUfRJsz+T0fDKvylCCLyFHNRcCBeKBsFlD3GND6gbdHpDDUKWM6lKKMsT+1H65cLQU3VGZZhjJjLeL+e1/99MrxxDVwaCYvdC5U5Ufo6T/tt7MGqNEOxEZ2I+2su3rfv+Oesj3mUe8BJxyc+fcaJ2pHk/YYV6K4Iy9I5wHla1gWEPecY48Vo5Xkno5yd7Cspr8Bv2fWclJ4Cf8OETiDbtXy5ctxySWXYPPmzUhLS8OIESPM7l+xYoWNR5JmDXb2TrlZ+TBn6yqo03uweIWVnNRcBJTP8/Yo7LO1SsTO0mi3GhKzLD6gf7mlvjk2ZMn2KiJrQmYCYZdYzv6JsUDkQovkVSJgp0a7IueyWoj9py9sjbmt1LUyUd7AAGBoM65E+fWPrvdV9wzgdzLQXQ0cf9yxxyascW4lhjvfz3Uj1eX2UbN6J3Aq0P71wH2FzANaNzkxWJX4d4jAAN2q5cuXY8uWLTj11FMBwCJJHA0SdyVJc1tCEgfZ+xDk6h4sfsAiR8gScGwoJLe0sQzX7ocrN/FLdiyJI7mmb7mlvtpKHcsHYrwQaivgt8JmjfaIDiVzfOTbQIWx/z65P6yNeSi+FzMAGPrCsoBRAFxd4i43A8eud/xxuuie1StOMHs/d9HIXPWfC42rd6zl94lbARy7XV0/UbcDkddY2RIgAuizurFv1YSOfUD9iwO8tzmRTJh8FgN0K5599lm89tpruPHGG709lOHL0XrH9oJ5byXCsvchyNUPdfyARY5oK/V8rgW3sbFKxNaHK3cF7LaSOJJ7DXThtduB16kYq7RvLVb6cWBVkUWN9hFfI83/Qoi6ftuHBsr9MdTei9XOOJL2hV4K4FPvnNtQ59pKvrAspYSnK1VChFAg+gHHz+vqShhDtbJvv38/Qb9Xku7Zem+LeQioW6Zsr7R8MsoX/h2iHgzQrQgICMC0adO8PYzhy5F6x7IE1D4KHF/RW9cTMA/mHfnA5xaC7dk444fT9p9cO0XQ7117PA0vQ3GWz9qY+3+46qoCaha5fq7opUy8OBgGuvDaXKTUqVdLqgEqr7PsRyVRMGBi0k4gvlxZtWGwlttjgORqg7X9wl0cmXEkssfVvysB41x7/Mi7nXstu7oSxnhRzlo/9i5YCCIQ8zAQMMHG++BK/h0iEyaJsyI3NxcvvPCCt4cxPA1Y71gGKm8DDJ3Kh7n9kUDdUvPgHFDe+Mqzgep71C9bcidrV0H7Jqk7/phr/Ve4Ye8ZDR9DbZYPsD1m44ei8KuBEfFuOI8eiHFwFoYcZysppvHCa/U9yldny5V1lyk5FmofUf6OGKsVNL2jfO2fWLPv+3HldQPMntlJrmZcrqvccG7sg0WMdnzGkcgWMXHg37OBHu8sXbR737fVjkUX6/oKlLAsYOwRJQnlqPX2kwnTsMUZdCt27dqFf/7zn/j4449x+umnWySJKyqykmWY3EPNcnRDDXAwBjA0228HGTj+tNuGptqov1m+0bo7SV3LBqBpPhDuhj1c5PuCfg+P7d12Owf24bnjwkNCAWcUPW3AC69QVkG54/VZuwQ4/rzy/777PfvP1Dvzfmxrls3m9guNcTapF2mbXxIgH8Kgv7/XPQ2Uzze/uKUbqazSiH5g4NeaafWJE78zUXcoFwQM1a7lKHJ0LAmr3PM7ZCsHB1EPzqBbERkZiaysLEyfPh0xMTGIiIgw+0cepHaZ0YDB+SCLygP0nyj/D73U/D5PJamrWshya6ROWymGTHAOqN+HZyqd46ToJZy1GAyq8oC48b3MUGeZjMk4U99U6Pz7sb0LQsZZsZH/z/F+B4MrSb1I2+Ke7PnPIK/gaPvUcuWJ4bhykexAvPWSmX1n3NtKgZinnDt33VKlNGfFNcoqGFslOtUyrYSx8z0ceTcQPt/5cxA5gDPoVrz++uveHsLwNdSW4vol9+4b6uqC1YQtnkpSJ9Ww3Bqp0/Cyt0dgnRAKyC29tx3dh2fKBuxM+bhAJWkPeZ4mciAY95IvdGIZvcpVHYIIhJzveLmqweBqUi/SrtBLAT+NreAw1FnmDLKWg8Jd84QDJXNUw9ZKGDEWiF/NFYs0qBig21FTU4N9+/YBAE499VTExsZ6eUTDgDQE6smKsUD4tcpshJplVZ78cKqJD76kac1FQEuht0dhzviBJ+wPrpdSDMsCkjYB5TcCcGBlTfjVXO47WDRz4VV2LjgHBl7VYUwA2l2uvL6d3UvvSYOeMJUGTd8Emq1bXc9z4xZyb3LFlg9tbCsxuO9c9pI5qmUryzv/VtAgY4BuRWtrK+688068+eabMBiUNw9RFHH99dfjhRdeQHBwsJdH6KNkCaj8k7dHYZsuGhj1njID4cibtSc/nGrmgy9pkml7hcb0nY1wx4xeWBZwyiXAgWjzGXmbBCBBo6sKfNFQy3Tely5K2VPbd3l4/1JxUg1QvVg7s5e2VC8CdEHc1uGrjPuag9OBpnXaeD12H1WWtHtim58FGyU6HcX94aQB3INuxeLFi7Ft2zZ89NFHaGhoQENDAz788ENs27YNf/7zn709PN9VtwyQj3t7FFYIyr/ENUDoTMevpAanA0KY+4cluiGbKPk2T22vcFXVbe7Pn6DzB0a9oa7tyL8o7cntJElCcXEx3nnnHRQXF0OSJO1lOtfFwPY4BEAXriS7Anr31Br3uPbN/m7c/1pxhTZ/z/qTapVZTFf26pL2mf2+aUDDy4P7+8GVheQDGKBbsWnTJrz66qu48MILER4ejvDwcFx00UVYu3YtCgs1tlTUV8iSkhFUi/z0ru1rqrnfsgycO4Rfy2VXZJ9WP6hIdUBbsfv7NS53F0baaKBTEv3EOZmYiOwqKipCSkoKZsyYgWuuuQYzZsxASkqKUvnEuL/TL8m7g9TFAgmre270D9J7Kh0YmpTAvK/uciXXQfk8x4INXSyQ+BYQs9TOOQUg7EpAiFTfr/lJVLbrmcGsymOCUV8XlgWM2ghAA58RBnuLFVcWkg/gEncr2traEB9vWV83Li4ObW1tXhjRMFC3TOXS1EEgJgFRtwL+41zff9S00XOl3piRlwai5Q8qrcVAyEz39xuWBZwyV+m/dSvQ/i9AFwwEZQAj7+DMuYcUFRUhOzsbsmy+jLW8vBzZ2dkoLCxE1h/mAroI5WfTdQRofkv9CXQx5hmj/fRA4DSg5T3HBhpxrZKJWRAtk0EJkYAgKQG6BSeX5xpqlIsSEdcCARMsz2lMjHhiJyBbO68KofMd+D64aRkwaV94NoB3lBUew4IDJTqJNI4BuhVTp07FkiVL8OabbyIwMBAAcOLECSxduhRTp0718uh8kCwBx728HCv8diBkmvJByl0JQWQJOLbQ9X6sEUbyjxANLDhduwmrPLnSWRCV7SihHrgAQBYkSUJubq5FcA4AsixDEATk3XUr5p5+F0TZiURloh4Yewg48bVl4qbmKxzLXm28sGlMBlW7DKgvUGbM5XrPbJNt26qM11YCqpr7nb+QG3wxED7X8QsVWl1dQ+4VPh8QNjmZ4b1nRcmQ4GCJTiKNY4BuRUFBAebMmQO9Xo8zzjgDAPDDDz8gMDAQW7Zs8fLofFBbqeVywsGkiwYSX3D/m3pbqWWNUHcJu4x/hGhggqgkZKvQYO3WoExvj4DcpLS0FGVltj/8y7KMo+V1KP0GyJzixAmiFigrH6zN+BqD3tZiZabQ7t8S0fxiVcuHQF0+PB6E1D0GNK5T9gWHZZk/D0MncPxZ5/sOmeXcShktr64h9+p/Yaj9J5VZ3gMAtHt6dO4hxiiJP5kAkXwE96BbMWHCBBw4cADLly/HxIkTMXHiRDzxxBM4cOAATj/9dG8Pz/e0fOjd8yeu8Uyw68nnFXye5/om3xKerey71hJdNJfX+pDKn9W911U6u5DDf5z9+40rJhLXwv7SDAmouFJJkmaqcDBIM4TGOs39E7QdfxEulZryi+3Nkq9qWYoA+CVzBdZwY8xMHn61A1uLjMG5BhI7DiTuOQbn5FM4g25DcHAwFixY4O1h+D5ZApre9s65RT2QUOCZN/XmIqB+pfv7NZLqPNc3+Z64p4DAs5UtF55a1eGIyJu5AsRXNBch0W+lqqaJsU6eQ+1sb1gWMGoDUHEVADtJ0KrylL3wg5p53Uad5hOlrnXrl9Sbtbs8G/aXJXMZMMHBsocCoAuzkZdBQ7ydfJLIzTiDbsXy5cvx2muvWRx/7bXX8OSTT3phRD5KloDjL3hhf+wIQP8PIPWIZ4JzWQIqb3V/v335OftJl4at8PnAuGNA8pdAYIabOx/hWPPjz7DU01AmS8qS8sa3gco/IX0yoE8ABBsTbYIAJCcA6ZOdOJfafBvGMXX8ALvBuTFJWmuxE4NxVZ8EbUY6F0pw9p0JV5Ml39WKJOQbHCrD1lPVwBOlYt2CK0LINzFAt+KVV17B+PHjLY6ffvrpePnll70wIh9krCVbs2jwzx1+rXP1zNWqewYweHiGm1eLyRnGZY5Rbr6AFOho8kxZWV7MUk9DT9864JXXAYZaiCJQcL9yd/8g3Xh75f2A6Mxbbsj5A79X9x1TnZq9tfDuqt2+Cdoi/uhEBz2l2frPhIdlAWOPKBfhRq1XLkQn/0P5f/KXwNjDDM5JYbygo7NVkrKfyFs8Ox6ncEUI+S4G6FYcO3YMiYmWS+piY2NRWcnMpy5rLlKW4g3q8kIjAUh4xb1dGmdumntqfTa85N7+++PVYnKV2y7w9MxeRD/g+EO7y5TyiuRRkiSh+MuteOf1h1D8yUOQmrY6f2HEznt31mygcCWQ1K9CqT5eOZ4127lT4sRX9sfr7N+ToEwH9m27Wd8l+yHnAUKoY4+3NxPed69x6Exlv3H41coxBjHUV1gWkLRBXdvQuUDSpp7fmT78koFQL5Vx80viihDyWdyDbkVycjK2b9+Ok08+2ez49u3bMWrUKC+NykeYln97qXRH6BXurYPcXNRbvkQKAvAOYKgHPPY5yMqsCZGjTHsQXblI1mf2InSmkvjN0ZUjtUuU2tD8gOURRUVFyL3zVpRV9P5c9AmPoeDBaGRdv8ax77uKpGpZs4G5M4HS3UpCuMRYZVm7UzPnRlK57ZrdTiV666mVHJKpct+2g3ThgKHZRn9W6jQLIjDqDaB8nrr+Y58DRt7JvwHkHsGZA+xH7/OaFUTrZQJr84GWwR02ACBhHUtpks/iDLoVCxYsQF5eHl5//XX88ssv+OWXX/Daa69h0aJFTBznqrplnl/+bYsQCiS5MSHdYK8E0MXyajG5h2kPoguzh31n8QRRqYbgjKo8LnX3gKKiImRnzzMLzgGgvArIvrMORa/PcywPQFupqvc6UVRKqV19sfLVFJyHzIPTVy5t1exWOaZe/ZbE2tq3rYtW/vXlp+85Zut3pmc1ScJfzc9l69x9hWUBozbC/keynv4ZnJM7me1HV/GaNcsGn6nc9lapdEO1l05M5HmcQbfi7rvvRl1dHRYuXIjOzk4AQGBgIO69917cf//9Xh7dECZLwHG1iUk8YNQb7vtgM9glesRYYGyZe2f/aXgzBifH7lJmKdUa+aCybNY4o2LW3ybH+zMmzWLZNbeRJAm5ubmQrbw9ybKyLzxvOTB3Ti7EU+aqe1+0FSSrFXU74J8C1DtR81tMVN5z+8/cOTomMcmyckf/GtHGvgHLYy0f2phx7xPIGC9YGVdWGfnpe++3JjwbwLtKLXdbuHqKPMH4t8DR16xRSKbKuupupra6A9EQxBl0KwRBwJNPPomamhrs3LkTP/zwA44fP46HH37Y20MDAKxatQopKSkIDAzEOeecg127dnl7SOq0lQKG44N/XmGkEji4c+bZ4ZkbZ/UkA0p4mcE5uV9YFpD6CxC9VF17v2QgNt/2flZjf8lfAlF56sfhavBHZkpLS1FWZvv9SZaBo8eA0m/KzDOK2+PKh2FdtBLgNr/n+GNFPdBdDRxMVJLAVVyjfD2UAnQccKwvuV15vq3F5qs2rM0KWjtma8a9/57w/sna1CZoC59vfZ8vAIz6G1dPkec4+5oFlGXyjuZRcAkzt5Pv4wy6HaGhoTj77LO9PQwz7733HhYvXoyXX34Z55xzDlauXIk5c+Zg3759iIuL8/bw7PPGh/DQK5Vl7e6edRis56L2CjaRswQRiH0YCJwAVFyrBDHWG6qbwTMGNiGZgC4KqFsy8Bg4E+JWapOZVtZAeS+zNjvd/+fsUO3kfhLXACe+du6i5ojRQOWVlse7y4C6fCUwkFVugDXUAvUrlX9+emVpr6Pvrf+/vXuPj6ss9/7/nUNPaZI2p+YMlMIDHjfPUxSL1l0Ei3ujP9hpAQHZggiyLdhyBkHaskEQEFpQFDyA+1HkUKIoupUKFKqg7o2yFTk8tlptkyZNk9AkTQ/JzPr9cc8kM5M5rJlZM2tN8nm/XnmlM7NmrXumq9O51n3d15Vqxj3x/Yr+O8hW4v6tBmnLgFT+sez3BWQj13N26En7/wbzRuV2TA3MoJeYu+66SxdeeKHOP/98vf3tb9fXv/51lZWVJe3b7jn+Il5ACNSZNX0tjxTmQ7xQAYWvibY4cEdFm/S/hqTqL0iaFf9YsDW3+ge115u04pSYCSmEZF1Ikm5XJzMLHW1RFjs7nbg+PaveyTHmrDCtnAZ/kN3zfOWSZkv7f5VmI0uyhrMfk2QuNHQsz24d/tjYksyuOyl2/2UfcHbfgJPGlvul4WQP9XQdDIBJhBn0EnLw4EG9/PLLcevg/X6/TjrpJL300ksujsymQnazCbZIcy6UZhyZekbDSY5UwU6i6V6zvhdwgy8gzbtJqludeYbQ7v4a7oms25VSrttlJsRRixcvVktLizo6diRdh+7zmfZni99TbWahE2fEo8Fr4hfhaIr3zk9J4T32BrPnq+bHroqzpWlHSn02l10obH/fcSxJPlOksNzmOnwA8ews97MGJX9tpEBwDnV7atdK04v03Q7wCAL0ErJ7926FQiHV18c3mq2vr9cbb7yR9DkHDhzQgQMHxm4PDAxIkkZGRjQyMlK4wSYdzK5IKzIHzf2sVH6KNGtR/If2aFi5f3GzqWa91Hmuov/hjIRnxf3Oir/aBDIzPyYV++8FBRf9t1b0f3P5mP7+8T/n8+9p5sek+g3Srmsi6dERwRZp3m1T/pwv1Lmxfv16nXvuJyQpLkj3Ra6LrPu8FNYshUP7UuzBJ3VeK83/5/jP1pkfk6rvlbo/4+h4xwxskvS8lMvnaC5Cu6WBFzw7U12Snx0oCk+cG/s77H2vq/ik9NbXIjdsBunR/yNil3cU47vdJJHN+cHni/f4LCvZ9XV4UWdnp5qbm/Xiiy9q0aJFY/dfffXVev755/Wb3/xmwnPWrFmjtWsnzkQ8/PDDKisrK+h4AQAAAHjX8PCwzj77bO3Zs0eVlZVuDwdiBr2k1NbWKhAIqLu7O+7+7u5uNTQ0JH3Oddddp8svv3zs9sDAgFpbW7V06dLi/yO0QtLWd0hhOwWMEtvYRO+uMu16aq70TpqTFZL67tTI7ge1cetd+vDhn9I0/z5z9bfui1KgRgp1SYGGiTP9mBJGRka0ceNGffjDH9a0adPcHg48pNDnRigU0ksv/lJdf9ushjpp0fGLFSj/gDT0A2nnBZl30PgtqWL5+O2hH0vdV0uhTsfH6hp/jWm/5sFCbHx2IBVXz42hH8dlEKbmM10P5v8h0jM9JO17afw70cz3Svt/y3ekAsjm/Ihm18I7CNBLyPTp07Vw4UI988wzOu200yRJ4XBYzzzzjC655JKkz5kxY4ZmzJgx4f5p06a58J/9NKnlDqljWeZNmx4zhd5GO6TRHilYZz7kPbn+aJrUcINUfaW09eea1vwVTZvBWilM5M6/O5SCQp0b06ZN0wkfOknSSfEPzGiUAqnS2xO2i45rsF3qXi7JkibVR9sO87qC3i0+xWcHUin6uWGFpN6VUsBOgUaf1HSbNH1m5PY0afoJ8ZvMOGHCs+AcO+cHny3eQ4BeYi6//HJ98pOf1LHHHqv3vve9Wrdunfbu3avzzz/f7aHZU9Fm+rx2fjJ5Ww5fudT0Hc9+SUorGoxXLB//QgtMcaFQSJs3b9bOnTvV2NioxYsXKxCYVNFdacrYNs1nHo9W2B+r1jyJV8VRMA7IzE5huCh/dWHHAkxSBOgl5swzz1RPT49uvPFGdXV16ZhjjtHPfvazCYXjPK2iTfpfp0pDz0gD/yGN/M30uq38V6n8RL4cAZNEe3u7Vq5cqR07xr/MtbS0aP369WprK8GLcJNJtG1ax3JNXFKUpMJ+Nl/KS5IljW43rzOXXtDAVBGys0wxItxrsiZr10o11/P9DrCJPugl6JJLLtHf/vY3HThwQL/5zW903HHHuT2k7PkCUsVSqfm70mGbze+KpXx4A5NEe3u7li9fHhecS1JHR4eWL1+u9vYc+k/DWdG2acGEXvXJeg1n86W8lE2V1wnkKtCY/XN2r5a2HmaWyQDIiAAdAOCoUCiklStXKlmTkOh9q1atUigUKvbQkKiiTVqwTWp9Tmp62Pxe8NeJy4xy+VJeiqbK6wRyFV0eE820sWt0h8nYIUgHMiJABwA4avPmzRNmzmNZlqXt27dr8+bNRRwVUvIFTFp35Vnmd7JMply/lM8+Lf/xFYVPCraOr7kHkNrcC5VzPYruVaamBYCUCNABAI7audNemvAzzzzDLHqpiK5ZNzfsP6/6ktwCe0mmVHwuz8tR7Jp7ABMNtptU9d2rc9xBTK0HACkRoAMAHNXYaC9N+Oabb9Zhhx3GevRSkWrNelLRGeklMYF9lqovz257f41yDuirryzN7iFAsQy2mxR1J4pFUusBSIsAHQDgqMWLF6ulpUU+X+ZgiaJxJSZ2zXrVqsidiX/PCVXgxwL7FvvHqV0rzbtdqrIRpAdbTfvOxgdSjMeGgUdIuwVScbrNIrUegLQI0AEAjgoEAlq/3syaZgrSKRpXgqJr1uvvNoGxnSrw0cC+5ReSrzz9/oMtpiXTwAapf136bQN10uFbzP5TzvDbCNhJuwVSc6zNIrUeADsI0AEAjmtra9OGDRvU3Jw5HZqicSXMbhV4yQT25SdKTd9R8qDZZ37q10tDT0qdp0vKcNEm1CPtezH1eOrulu1Zv70bpYHvS3s3MZsOxHIkJT0hswZASgToAICCaGtr07Zt23TDDTfY2t5ucTl4jJ0q8In81RPvC1SbGfDyUyPptDYlBg+x45lWb38/fV+UOs+Wtp9Az2YglhMp6ckyawAkFXR7AACAySsQCOjEE0/UzTffnHHbxplPSjqr8IOaqqyQSVUN7TRfuMsWF24mK3qs0Q5ptEcK1pnU81CP1Hmmks5qh3qlA69K+3+fXTptuuAh18BitMMUxCKgAKRZx8t0VbCZWRJslebdJQVqi/N5A0wyBOgAgIKKFo3r6OgYW3Mey+eTWuqlxf/rUWnXIaY4GJw12G5mpWMD32CLSSd3OgBNdqwxfqVNOc+2fVOm9ayzjpdJrc22uJVlnte9yszoE1hgKhveLFvBefUN0uwTCcaBPJHiDgAoqPiicfGPRW+vu04KBCT13SWFDxZ3gJNdqvZI0VliJ1O5M7ZiCjt3LCnzetbhzcq98jQ9mwENtkudZ9jbdubb7S9zAZASAToAoODa2tq04cHz1JywJLilXtqwTmpbGr0nJPXfV+TRTWJp2yNF7ute5UxRNKdbMWUye1nm2f99m/I/Dj2bMVVFL7iF++xtT/s0wBGkuAMAiqJt6Uydeqy0+WVpZ4/UWCctXhiZOY918P+5Mr5JKWN7pJhZ4tlL7O0z1Vp2x1ox2TTjKFNxPd0aVyeuFRB0YCrK6oKbzyyZoX0a4AgCdABAcYzuVCAgLXlv5u3gELuzv3a3S7eW3TqQ/fjysecBU3k9cRyxs+qzl0h9mQsUJkfQgSks2wtutE8DHEOKOwCgOIIN9razhgs7jqnE7uxv4nZWyMxOx/YFz7SWff8bTozYvtDu5OOIXVNftkTyVeawc3o2Y4qze9HOX023A8BhzKADAIpj+lH2ttv/WxMQuhUYFbMdWaGVLTazwKMdSp6qmmSWONkseaBZsvan2Efkvr5/d27cOUlSed0XkOZ+Supfl92ugi0mOCfowGSX6vPO7sW95sdM5XYAjiFABwAUR9VnpZ4rlLGSd/it7NZEO2mwXer6nBTqGL8v0Cw13JM5WIv7ojvPxIvhXZJ/npmQDe0qfsDvC5i0747lmthuLMkscXSWPDEQj30/UipScbi0kqypLz/VZoDuk+ZeKlX8S2lflAHsSrdkpfxUmxf3lhRpsMDUQYAOACgO/3Rp9j9Le5/KvK0blbMH26WOZUnG0mHub34idZCetvd3gkL1H0+los2koCb9Ir5ufBzFrsJeSLHnz1gWQYa/m8ZHpDk220kBpS7VxbjoUpHmDdld3APgGNagAwCKp/oKe9sVu3K2FZJ2XpR+m50Xme0S12cPPJ6h93eCQvQfz6SiTVqwTWp9Tmp62Pxe8Nf4iwTFrsJeSLHnTzSLIBpUJFN9FcE5po7wQWnnZ5Sx/WL5qSZQDzbHbxJsYd05UEDMoAMAiieXNdHFsHeTFO5Nv024V+r5d2ngWwmBbEDZzTrHrJU+5J+zHWnufIH0ywYmRb/vFOdPqiwCf53U8FWp8vTiDhMolHQ1NMIHpa7PSIOPRGpKpNzJ+FKRijYTqE+WuhxACSBABwAUT7Zrootl3yZ72/WtTXJnKIcDRr4A73sph+cWSMn3+85w/hBoYLJLt6Z8+EWp/y5ldTExetEu08U9AI4iQAcAFJfdNdHF5Nay61CXpDKXDp4gY3aDx9k5fwg0MFmlXVOepLaGHSV/0Q4oTQToAIDiK/ZsZqbWabOXSH03F+bY6QQaJA1k/7x0ryfXNnG+gDTvLqmzxNZiV99g2jwxG46pKm2BxxwvtgVbi7/UCIAkAnQAgFsyzWY61Y88XdpndLa1bInkr8m8Dt0xkbXSsxZJ+nl2T033eqTMrzXdfnddnt1Y3OavkerWEJhjaitEgcfKj/PvCnAJVdwBAN4z2C5tPUzafoLUebb5vfWw7CufR9M+E7+8JlZS9wWkxgecGLkNeay1T/t6lpmfTK81m/16XdXnCCKAQhR47LuzuJ0mAIwhQAcAeIvdoDoTO2mf3avMdlJkbfwTZsY5VrBFanpc8tdm8SLSsNOiKLGVW/igNPSMtPNCZZ/GmuS1Jh6rFPuf+2uk2uvdHgXgvkKtFU/1mQGgoEhxBwB4R8ag2jfenzfZzGk0sN23STq4LcOMcEwroWiqfbq18ft+JfWvy/21+aul5sdMOn2qWV8rJO2+RepfL4X7Yh4IKLdq8WM7Nq917yZz7NjXlnN6rE/yV0jhHNbQO6HxAWbPAalABR6TfD4CKAoCdACAd2QMFtN8aRxsl3ZelP068sT00FRr48tPzTFAj6S0N37DFDNLZviX0v4fSW99S7IGkw0yh+Mm0XlGfODvr5VmHZvDjiKvac6FUv+XHRmabcFW96r9A16Utn1lngqRPg8gLVLcAQDeYffLYOJ2g+1m/XUuRd7spodGZ6miwant/TenTmkf+rH5veMUE/wnDc4dFDcrLym8W9r7s+z3E2yRmh6TBh91Zlx21ayVFvyV4BxIFG1fGWx2dr+0WgOKjgAdAOAdB/9sb7vYL41WSOr6XI4HDEih3fY2jc5SmRv2D5Fq08F2qfNc+/txU6BZannatDSruUFqeFDyVxW5qJxP2vPNIh4PKDEVbdLhWyVfpXP7DPU4ty8AthCgAwC8wQpJ/TYqqQdb4vvzDm+WQh05HjRk0r7tFp7LZZZqdMfE4nalVpgtvEfqPMv0iu+9WdpxktT5L0UeRMzyBgDJ9d0mWQ7Whdh1BYXigCIjQAcAeIPdQHvOhfHFwZxYI5lNteKKNmnBNqnu7uyPET5oCrXtXlNaLc2soYnLB8IFTsdPhTWxQHJWSOpbn3m7bIxul/ruJUgHiogicQCAwrBCyauhp2I38JpxZPztvNdIJik8l2nsvoA0rT77Y2xpNuu+kTvWxALJDW+eWGfCCT2XmWKQ9eup/wAUAQE6AMB5g+0mhTt2ljjYkv4L3oEc158rJPmqJKs/5+FKGr9AYHfsuQSKBOd58E1c3gBg3NCThdv3aIdZqpOq4CUAx5DiDgBw1mC7+SKXmMId/YKXbL33YLvUuybzvv110qzjTWDec5P053nS9pPyD84lae+vpK5Vphq8nbGPVXVH4UUq7dWvo/c5kIwVkga+W8gDmF/ZLAcCkBMCdACAM6yQtPcZaeeFSl78LMUXvGwKpoV7pC1N0v+bK/Wudjadc89XpbdSrd9MMnZfQKr4uHPHt6vy/OIf023BFmbugCgrJA3/0vx5+Jfmdu8t9jtS5H5gCjUCRUCADgDI32C7tPUwM5udNmiOfsHbNH7X8ObsCqaFe03RsrSy7FVuS8KX04HHpf4sC8XlzScNbzRtzyY7f6XU+F2p9Tl6nwNR0c/aHaeY2ztOkf5cL+1endv+/JVS1RXZZQNRqBEoKAJ0AEB+BjYkTwtPp+MME+Du3SQNPlGAQRWwfVloZ6SH+RmSip3qaZn3uewDRT6uC8IDUrDBFO4jrR1IvXwoscNCNnyV0rwvZdeZgkKNQEERoAMAcjfwuNSZQ5p3uM8EuNtPkN76ivPjKiT/vEhKvosGH3X3+MWyd5PbIwC8IZulQNkI7TBZQb6AVH1pZCY9VQaSTwq2UqgRKDACdABAblybRXaRv04afra0epjnYvox0pwVUv1Dkr/WvXGMbqMgFSYXK2QuPA183/y2e35nuxQoG9GUdV/AdKswNxI2olAjUCwE6ACA7I3N5kwx4R6p74tuj6LwDr5iiub13iDNPV/my3kh1vVnMPBds942WeV/oNSM1eo4Qeo82/y2e34Xct13bMp6RZspyBhMqHNBoUagaAjQAQDZK+RszlTir3Z7BOmN7pD67pSqr5z4hb1oY0jTng8oFbm0n4xVkHXfKVLWK9rMmvTW56SmhynUCBQZAToAIHtTporv7ALu2+fKpHT2LGngEenwrVLFme4cX6L/MkpX2vXjNs/vssUZ1ocn40vx55jb875sLrgmptz7AqZAY+VZFGoEiowAHQCQvSlTxXdvAfdtSSEH+7gX0uh2qfeLLhano/8ySljGjCMb57ed9eH+mvi7gy1S8xPmJ1nKevWV0q7L41PutzRK3Zdltz4egKOCbg8AAFCCyhab9Oy0Pc/hSeVnSEMbJIWze17vlwsynKxMmcwNTCp2z9uhJ81sdSrR9eHdK6VQTGu1YIsp3lZ+qgnyQzvNRdSyxeMz34mPhXZHinwmzOqHeqT+deYn2GIuCpDaDhQVAToAIHu+gFS1Uupd7fZIkK2hx6S5l0lv2ex5PP7EggwnK1MmcwOTit3zds/3pHl3pk8nr2gzwfbAC9KWAanlJ1LlB8efkyrAj6asS2ZmfOthytiybXSHWR9fs0aaceTEoB9AQZDiDgDITe31E1MqS95U+G/RZ2bQq65weyBZoP8ySpQVMj++iszbhnvsLePwBaSyD5g/l30g+4A5qyKflrkQm23VeQA5mwrfRAAAheALSI0PuD0Kh2WZ9l2SIutdy/9Janpc8hWyEJ4T6L+MEhVtq7bjJMkatPecYizjyOcY0Vl1gnSgYAjQAQC5q2iLFCBqcXskyFbHGZLPL9V/ze2RpEf/ZZSiVG3VMklMh7dCpmBbbJV1KyQN/9I8PvzL7Iu55b1UxKKrAlBABOgAgPzE9syt/ITbo/EOf53U9Jh3lwGE+0wAMfJXt0eSXMW59F9GaUrbVi2VJMs4ojPwsVXW/1xvfnacYrbZcUrqtPNkwb00XuQzH3RVAAqGAB0AkL9oAaLZH3F7JAUWkOZ+zt6m9Xeb9yXcm3nbxBZIxdR/jzz5daD8ZPovozRltcZbSrqMI9UMfLh34mfK6A6pY1l8kJ4suI8G8r6AKTSXr1LqqpDqYgXgQR78HxkAULLcDDSLwT9HCtqcEQ82RGbR0ghEZrHm/1Fq+YWkmXkNL3tW5Mu+B9feT/ZzCZNXtoFr4jKOnGbgJXVdZJ6bKriPBvIDG6TZJ2a372RKpatCuosVgAcRoAMAnFO2eHKvRw/3SbtXR9LWfSk2iqSqWso8ixaK9JH3BSIzZ/udG2spo2I7SkGqWdlsAte6uycu48h6Bj4i1Cvtvkvq+pzSBvedH5cO/Dn7/cfy15XGv9GUFys6KHYHz6IPOgDAOb6AVL/efPGRlPUMUKmwDir1a7NMqmp4V3b7HO3Ic1BeFpAUk1LqK5esVH3VfVRsh3dZIRNADz0p7fmuFN49/liwxXz+lZ9q1niH+zLvb1r9xHM9n9Tx3qttbBSS+taaC412luAk0/BV7/8bTZuJYEnymWJ35ad6/7VgSiFABwA4q6LNpGt2r8xtFqgU2GmZlG3652hPbmMpNF+VZPVn95xAnTT3s9KMo8z7MOt4ad+LJvAINJqZt6EnJ54jwVYTnFMUDl402J7+c220w6SQV54nTTtCOvDbzPtM9jlRtNTxkchvn7K6mFp9lVR5eiEG5KyMmQjWeLG72UuKNSogIwJ0AIDzKtrMrMTwZhOUHfyzSQ1PyycFaqW6L0vdl0jWQFGG6rzIrMzhW8yM2miHkn/59cUvBwjWFWl8WWp5XFIg4e8xxRf6qlXm771s8cQZqcQvwInnSDRwZyYLXhRNlU4byEYeG3jI3j5TLeUoWyz5a+Nn5wshPCBphkygHvu6AlL5R6X9L8cHuIE6qf4+qXK5PCma3RDaKfnnScPP2nteKRW7w5RAgA4AKIxoZfeoGe+Udl6UIqUysp674esmcDvwO6l/XREGWQiRWZn++6SK5WlehyXNu016I3JzZGuRxmdX5AJC2ZL4oHnGO52b+U48RwAvyrVoWybT3yP1rpOmNZiiiNELVL6ANOcTRfoMPJDkvpA09COp6VETlGe6gBYbGLt1oS1TdkM6pVLsDlMGAToAoDiiM6a7b5H618evzwy2xAd4gSpXhuionsvsb2uFpP4HCjeWXCVbC87MN6aKaOC595nCLNcZbjc/UYE6qfIc8++r/KMuX6S0pK5/M0F6xRmp/30nC4yja/GLtVTFVnZDMtGLkCVQ7A5TCgE6AKB4fAGp7kap9vqJAZ5kKiEPPVnCs+fZ8Em7rpV0h7TvJSnksSJx/ur4216YJQOKJZ8Z2VyFesxnX/86KdAcKeLWJ9eKbYZ7pR0npQ64UwXG0Qrpdmfg85FzdkOS3vOARxCgAwCKLzG12Y0vw66zxl9vqMvdoSQT7jNfsps3mNt2ZskI4jEZ5Dwj66C4C3ZZFnFzWjTgtt2rPXJf51mK695QiJn1XFvSJWZtAR5CgA4AcJcXvgy7LdDg9giSiLQh2nlR8lm8xC/tXkh1BfJVqPXmeXE5QI8eu2ulNPujpiODrbT/UPzNZIF+vnIp8FZ9g1S3xvx57yYuKMJzCNABAO7x5JdhF3i1xZqsNH2SY/oIW2Gp8wxlDOIBr8t1Rragwm4PwAjtkLbURaq/58KB3uOJWTr+ednvY/aJKdo8ckER3kCADgBwjye/DBdT5Atq1wVjfywtkYr1XZ9W6lTXPL+QA8VEy630cg7Oo/LoPZ4qS8f2Wv1IUbhQj9R55sTtuaAIj/C7PQAAwBQ25b8MhxJ+l6jwnjQPxnwhB7yOllvFke1nf3QpVOIF3dGOSJaPjeBckubdJe26PMX2kfu6V5mZesAlBOgAAPfwZXjqmPIXY1ASyhabWdZoQIfCyOaz305BukyCLWZmPFCbIWuLC4pwHwE6AMA9fBmeOrgYg1LgC5h1yOaGq0MpXenCC58UbM2u93i+S6H8ddLhW0zaut0LhVxQhIsI0AEA7inkl+G6u6Wmxyb280aR5fCFHHBTRZuZbQ02x98fqHNm//5aqfrz5qf2Tmnu5ySVO7NvN9XcINWsVfqidlb2vcfzDZbDPabyvGT/QiEXFOEiAnQAgLtSfRkOtkpVq3LbZ7BVqvqs+UJdea6oieqybL+QA26raJMWbJNan5OaHja/F+yIZPxk4K9J8YDP/DTeL827Raq7SZq1UCp733jbr1I27R3Snm+k3yZQYwpGxrJCpt3ZwPfN78T1304Ey9EgP7Q787b+OrO2PdlYgCLgGwsAwH0VbeZLW2z7nLLF5nb/uuz3V/lx6S8LpniFeA8I1EkNX6ciMkqTLzCx0nj9eqljWfrnNT5gfidWHPfXSnPOMVk9AxukXZclfEYFVNIFI7vOyrxNqNd8rkc/34eelAa+ZyqrRwXqpPr7pMrl5nbZ4kil9lQtH20INJpge9dlmbcN90g7P2H+TOs1uIAAHQDgDcm+DEfXqI92yHYxoIozpb477W+PwvDXmRlH/3S3RwI4p6JNan5C2nnRxIDRX2OC82gwN/ujUv990t6npf0vmsCvf12ai44lHJxnY+hJaee5qS+ghnqkztOlPR+Vqq8wt/MJzqNLbHJZyz66w1yQqVplLiKXLSYbCAVHgA4A8K7oGvWO5TLpoRmC7kCzNPzLzNuhgCK1BBq/TnCOyWks42eTSYP2SZq1xFxgjAZvyXp22+ZX+nXcJc5uVtTep8xPvvVJKs4wfy/5rGWPXlhhRh1FQIAOAPC26Br1tF92I1/g5l4k9a4u2tAmiK49zWe2p9QFW8yac77AYjLzBaTZJ5qfRNGe3TlfKAxL/jlSeE8+I5xE8rzg2v9lKVAphUfyH8poh/m7bd7AZxwKhgAdAOB9sWvUh56U9nxXCscU+4kGhdaB4o9tzgqpbJEpchetVD682XyR614VP85JyWd6C8+7e/w9IAUUU1Xant1ZmHO+1B/tcJHHvnyzJF/Z1L5oKEm7nbpwa0nymc/28lP5rENBEKADAEpDdI367CXSvDsnFpTzBUy6afEGZC4MNES+RA9vlgYfiy9wNxWCc4lCcEBUvj27o6LrnZOtdc+GtU+y9ks1q6WDW6XB7+Y/tinPkka3m7/rxLopgAMI0AEApSdZQTkppqhcMaq3R/r5Dj05Mf0+2CKVZ6j0XJISqkyTzg7Ey7dnt2SWylgh8+PIzLcl9d4kanM4zIm/ayAJAnQAwOQxVlSuCMFxIPIluvNMTfjiO9ohvbU+6dM8L7GdUaBOqjzHzOjNOl7a9+LEzAUAhhM9u8O90o6TZC6IOYXg3HFO/F0DSRCgAwAml4o2qekxqfMsFbRtUahX6vqskn/xLeaX4emSDjqzq/JTTQupZMsHokjpBFLLpTVkSlOk7Vqugi3SzPdJQxuKfODI8qZozRHAYX63BwAAgOMqT5eaHknxYJ4te2J5Yo35QclX7syu9v/O/J69RKo8K75tFIDMolk85oarQ5m0/NVS6y+kBdukqhUuDCCyvInPRhQIAToAYHKqXG5mg4Mt8fcHW6Tate6MqVCsIWf2Ey18BCB30daQweb4+/2V7ownX/5qeedig09q/IZpb+cLjGcsFHN8/kqTbQQUCAE6AGDyqmgzsyytz0lND5vfC/4q1Vyf55c6n1mbPRlR+AjI34TPnl9ITe1S1SrJX+v26LJTtTLyBweC4Hxeu795Yv9xNzIWwgNcyERBEaADACa3aMX32JRtJ77U1d9X/JmbYqDwEeCM6GePb4a08zxT+K1/XWRpjFe+gqdL0/ZJwVap9vrkGQG5KFuS+3Obv5O8Y0RFm9T0qClwWSyjHcU7FqYcr3w6AABQXKnSUDMJtJjnVS6PCfInCX8dhY+AbFghae8maeD75reVUNhtsF3qWJ6k9WM4i4MU8CJg9eWR/SceI3I7uta6ok1qeCj/4+VT0C20K/n9g+3SrsuLWxNkpKt4x8KUQ4AOAJi6EtNQa9Yq+ZfViJq10hHbxmdxokF+VunuHp5xn3MOhY8Auwbbpa2HSdtPkDrPNr+3Hmbul0yw3r1S+VdzL1BXiPIzpXm3J79QGWyZmE4eThEgF0uy7J6UF0AKbPdqqeemiRdkAAfQZg0AMLVF01CjZr7TfKmO/cIXbDUzSanSK2d/VNrSnGYGJ9KWZ96XzUxPsb9M2kXhI8CeaGCYGDyPdkgdy8xa8+Ch3v23LklDj0mDZ5jPsPJT07dXlFxc/pKirZljF0BysVfqXS313yM1PpD8/wYgRwToAADEsvtlNZZ/utR4f+QLuxT/hTEmVbSizfwMb5J2nKa0fY595ZJvuhTuy+fVRMbXLPl9aXoz09cXsC1tYBi5r39dEQeUh+5V5vMu8UJlMo72eM9GirZmw5vdvwAS7jUXZJqfIEiHY0hxBwAgUbLCcpmkWtOemCrqC5gWQU3fSb+/pu9ITY/lMvoEPqnxnjRF8RLWmgJIzwuBoSOs7Foreq3Hu5c6TnSvIt0djiFABwDAKanauqWsPPzdifcHWsZnY2YvkQI2itgFW6TGRyauhQ+2jl8csHsBAUB6XgoMnZDN60n5OdIqVV9VoErqPqlrpbT3mfhifF7qOJHNhQ4gA1LcAQBwkp1U0ajyj0n6qdTyE8nXNTGd3heQGu4xKZTp1K83X5wrl6dPzc8lfR9APC8Fhk7I9vWk+xypvVn6c51kDTg4QEsK7ZC2nzR+V7BFmneXjZT7gNIuJXLSZLtwA9cQoAMA4LayD0jTpiV/rKLNzKjvvMisd4wVqJEaHkhIn1+S/ljZXEAAMJFra7GdlkftiVSfI/7pUtODmS8q5mu0Q+o8U6q+Uuq7UyblPkntj5obpN61hR1L1GS7cAPXEKADAOB10RmrvZukfZvM99DZS6SyJcx+A8UWXYvdsVwTA8NS4XDtCStkil/u3WR2XbNa6ntAsgo1q2xJ8kkDj5haHbsuS+i80WJem3WgQMdPEGylyCYcQ4AOAEAp8AWk8hPNDwB3RddiJ7ZkLBXRANaJ2hOD7ckzfApeSC5S5M4/R2p4KPnFy72bCjyGCIpswkEE6AAAAEC2opktffdKPZe5PZrM/LXSnE+YMTtVe2KwPU06e5EyC3acHH+sgYfG63KMLUco4EWU2rUU2YSjqOIOAAAA5MIXkKbVuz0Ke8K9Uv96KdznXFp71+fy30/eEi4EjHaY5QeD7Qmt4QrBJ1VfW8D9YyoiQAcAAAByVTLFwSKBrFM9u3ffIoU68t+P4xJeZ0WbVLWqcMfqu61A+8ZURYAOAAAA5CqaRp3NmusZCzXxa7hPmvVRyVfh4OASWc707B7YIPWudmZIBRF9nZvMzfJTC3eovvXOXPAAIgjQAQAAgFzFpVFnCNKDrVL1VdKB30kKJzxoSfuekqzBAgwyQT49uwcelzo/7txYCqnjDJPqPut4KVBXmGOE+/K/4AHEoEgcAAAAkI9UVd0DLVLVhdL0I00q/Kzjpb8skOut2XJNyx9slzrPcHYshRTuM0Xs/DVJqsw7qPsK6fCXC7d/TCkE6AAAAEC+olXdhzebGepA48Rq6Xs3FaEtW0BSqpRrn0nHz6VntxUyFyBKUSGDc0k6+Dtpz6PSnDMLexxMCQToAAAAgBN8AdOHO5V8UsszHrtcav6hFO6PmeWOnamPpN/n2rN7eHNp9nxPy6+JSw1y1PUZqXI5/dCRN9agAwAAAMVw4M+F27c1JO35hgkSmzdIweb4x4Mt5v5ce3YX8uJCIl95kQ4UDc6zKPCXirWHtehwBDPoAAAAQKENtku9awp8jEelXYdI826PT7f3zzMxaGiXSbNPTL23o5jt5Kyh4h2rapU0uCE+OyDXNevFvIiBSYsAHQAAACiksfXbRSgO13eXVHuz5J9u0u0H26Wu8+ID0GCLqTyfzWx6tJ3caIdcL3LnpOChUt1t0miPFKwzmQdli6XBH0idZyqrFPhiXsTApEWKOwAAAFBIRV2/HZL67zN/HGyXOpZPPPZoh7l/sN3+bsfayU2i4Fx+qecyaecnzO+ea03ld19ACtQqq+A82Jpb8T0gAQE6AAAAUEjFTn0e2Zph1j5yX/cqKXzQpL0PfN/8tlJVgJeZca9d6/hw3ZMQgMdeuMjq78yXe/E9IAEp7gAAAEAhFTv1edoCG7P2ljS6XdrSLIV3j9+dKf19+pGODtVbLEk+c+Gi4Zv2nuKvlRrvz734HpCAGXQAAACgkKLrt52oFp5RQKr6rP0Z4NjgXMqc/j7p11lHLlzs/6O9zZseJjiHowjQAQAAgEIaW78tFTxIr77cFIjLOZCOSX9Plu5ettjMGk92o9vsbZd4gQPIEwE6AAAAUGgVbcn7kzvGJ1VfZVqsSTGz9rmIzCLv3TRxfbovIDXc58yQvSx4mL3tJn1GAYqNAB0AAAAohoo2acE2qfU5qeYGZ/ddde14cC6ZQLryrPz22XmGtP0EqfNs83vrYSb1vfJ0czGg4FwMVfruMv3QU2Y8+KjcjoIgQAcAAACKxRcw/clr1zi7Ln32iea3FTKz3Xu+J+15KL99hvvib4/ukDqWST03SXW3Sk2PS4G6/I6RfgAF3HemQ3dK4V6NFY6LE7lN5XYUAAE6AAAAUGxOrkv315igf7DdzHJvP8H09g715DnIFHpXS1sOlXx+6YidUuV5hTmOF/jKJy5LCLaY5QoUh0MB0GYNAAAAcEN0XXr3ygwt0TJofEAaetJUX0/a97wAQpFq79VXSgMPFeeYbrCGpPonTOG90E6z5rxsMTPnKBgCdAAAAKBYrJDpUR4N9spPlWZ/dGI/8kSBGik8XbJi2qf5m6Tm280+th6mogXnYyyp78tFPqYL9nxDannc7VFgiiBABwAAAIphsH3ibHmwRZpzYeZ2XaFe094sLgbfJ+1/VfLNyW8GPi8urhMvlqEN5u+OlHYUAQE6AAAAUGiD7clT0Ec7zJpuOxKD+HB/5LkznBgh0uleZTIVSG1HgVEkDgAAALArWiU9tje4ned0r1TyFHQn0tIPOLAPpDW63SxNAAqMAB0AAACwI7ZKemJv8HSGN7uYgp6jmjWavKFCjlXzQzszbwPkabL+qwMAAACcE01RTwy0RyPVzNMF6VkFdg71Rc+XNapJt7480BLp3d6U4/MbnR0PkAQBOgAAAJCOnRT17lUT093H0uGfsHec2rUTe27752Y1VMd45DqBoxrWS5XLpabvZP/cYKtprwYUGAE6AAAAkE7GFHVr4hrlwXZpy6EmDX7IRoAebJFqrpfm3WWqtUeF35KUQ2EyX3n2z4kdy6wluT/fi6pWjVdhH+3K/vn16ygQh6IgQAcAAADSsZuiHt1usF3qWCaFOuwfY86F0tCTUueZSVqu2ShEl2j2Kdk/J6p+vRTuy/35XlR+6vifR3uye25scA8UGG3WAAAAgHTsrj0ONJq09p0XZX+M6QvSpNFH+ZV5XbhP8ldLQ49lPwZJqllrgtmth+X2fM/xmYyA2PT0YF12u4gN7oECYwYdAAAASKdssQnyUi7M9o2vUd67SQr3Zn+M0R4bld7DUuV5adLXfRoP8HNo3xZolma9X+pZU3pV55OK/H0lpqcnrvNPJ1DH2nMUFQE6AAAAkI4vYNK+zY3EB82vaBC4b1O2OzfBvd1Z3fKl0hF/N3/2V8U/FmwxheZyuUAgSdZ+acdJUt/NuT3fdQmhTbBFat4wMT29bLG5GGFH/X2sPUdREaB7xLZt23TBBRdo/vz5mjVrlhYsWKDVq1fr4MGDcdv94Q9/0OLFizVz5ky1trbq9ttvd2nEAAAAU0hFmwn2EmdfE4PArCauIzPeFcvsr4sONI4HjAu2Sq3PSU0Pm9+Hb5HCI9kMIF6ugb1nRNL/q1aZ92PBX5OvHfcFpIZ7Mu+u+ipT9R0oItage8Qbb7yhcDis+++/X0cccYReffVVXXjhhdq7d6/uvPNOSdLAwICWLl2qk046SV//+tf1xz/+UZ/61Kc0d+5cXXRRDmudAAAAYF9Fm1mPPLzZFIQLNJrZ2NgZ1tlLspiB9ksKSf3rIrcDSlsQLlBjjjcaCUR9AXM8yRSm+8sC76Sm+yulcEjS3uIfe2CDNO/O9DPfFW1S8xOmXkDihQl/pdTwTany9MKOE0iCAN0jPvKRj+gjH/nI2O3DDz9cb775pr72ta+NBejf+973dPDgQX3729/W9OnT9Y53vEOvvPKK7rrrLgJ0AACAYogNipMJ9cteMTdpYjCeoVp7qNdUep/5sfj7B9uljuXKad25YyLZAFWrpECVtHt1mm3tvj85Cu0wF1HS/T1J4xdc9m4ySxMsmeeULSGtHa4hxd3D9uzZo+rq6rHbL730kj74wQ9q+vTpY/edfPLJevPNN9Xf3+/GEAEAACCZ6u09N0mdp6twwadP6l5ljhV73IzV350eRrnkr4m/L9hiZqTn3Sm99Y30z/c3Sq2/MKn5dXcXZox2W+P5AlL5iVLdv0vz/l2afSLBOVzFDLpHbdmyRffee+/Y7LkkdXV1af78+XHb1dfXjz1WVZVQKETSgQMHdODAgbHbAwMDkqSRkRGNjOSxRgkTRN9P3lck4txAKpwbSIfzo4QM/VjqvloKdUqaVdhjhXZrZPBFSZFzY/g30oHewh83TljSsFTz76Y9XKBBmrXIBLYDL2QeT6hPGnpVqvqMNCMkdd8qWYPODtFqkKbov51sPjv4fPEen2VZbubCTHrXXnutvvSlL6Xd5vXXX9fRRx89drujo0P/+I//qCVLluib3/zm2P1Lly7V/Pnzdf/994/d99prr+kd73iHXnvtNb3tbW+bsO81a9Zo7dq1E+5/+OGHVVZWlstLAgAAADAJDA8P6+yzz9aePXtUWVnp9nAgAvSC6+npUW9v+oqYhx9++Fjaemdnp5YsWaL3ve99euihh+T3j69C+Nd//VcNDAzohz/84dh9zz33nD70oQ+pr6/P9gx6a2urdu/ezT9Ch42MjGjjxo368Ic/rGnTprk9HHgI5wZS4dxAOpwfJcAKSX99lzTaUdTDjjQ8pY2/HDTnxshvpB2nFPX4cVp+IpV9YPz28C/dHY8kNX1XKv9Y5u0mqWw+OwYGBlRbW0uA7iGkuBdYXV2d6urs9bXs6OjQCSecoIULF+rBBx+MC84ladGiRbr++us1MjIy9o9t48aNOuqoo5IG55I0Y8YMzZgxY8L906ZN4z/7AuG9RSqcG0iFcwPpcH542N5fSdYWU3y9WPzVUsXxkn5uzo1ZH5Rm1LhXvd3XJQX945XtB38oBfa5MxZ/jdT4QPLWalOQnc8OPlu8hyJxHtHR0aElS5bokEMO0Z133qmenh51dXWpq6trbJuzzz5b06dP1wUXXKA//elPevTRR7V+/XpdfvnlLo4cAABgirJbiMxJ1Svji5j5AlL9epkq6i448Gdp62HS9hOkzrOloceKP4Zpb5dafiEd2Z05OLdCpmr7wPfNbytD5XygyJhB94iNGzdqy5Yt2rJli1paWuIei65CmDNnjp5++mmtWLFCCxcuVG1trW688UZarAEAALgh0OjwDjO1H/NJVnhiUFnRJjVvkLoulkI9Do8pzVj81VLvGrnb3k2SNWDao2Wqvj7Ybirex2YbBFvMBQ5m3eERzKB7xHnnnSfLspL+xHr3u9+tzZs3a//+/dqxY4euueYal0YMAAAwxc06Xo5+nZ57qdLPhFtS71pp6xETH6pok+bd69xY0or0PI+OyW2jkb7n6UR7xScuBRjtMPcPthdufEAWCNABAACAXOx7UY72PK84TWp6TBkXtYf7zO+hH4/fZ4WkniudG0s6/mqpZrUUTl8IuajSLTdI2ys+cl9if3nAJQToAAAAQC6cXIMebJXKFkuBWkk2A8Vd144HlcObi1soru+e4h3LjnTLDTK+N5Y0uj3zLDxQBKxBBwAAAHKRzRr0aW+TRl5P/fis46XBx6T9r9nf5+gOqe9eaVq9dCCL5+XLSzPnkhSoM6nqezeZixyJa9GHnrS3HzeK/gEJCNABAACAXJQtlnxVktWfedvRrvSPDz5qfrLVc1n2z5lsQj3Szk+YPycWfbNC0lvftrefg38uzPiALJDiDgAAAOTCF5BqVtnb1k4Qj/wlFn3bu8lUebdj92qp+zLar8FVBOgAAABArmqul/w16bfJ9Phk46+WKs+X5l4i1dyh4oYcCUXf9m3K7un960xP962HUdkdriBABwAAAHLlC0iNDyh1ezSfVPW5Yo7IfXNXSE3flhrulfxBOVrp3pZI0be9m3LvAkf7NbiEAB0AAADIR0Wb1LzBrH+OFWw199deH3ksXY/zEhCos7dd/7rxFPGRrQUbTkadZ0wsGGcb7dfgDgJ0AAAAIF8VbdKCbVLrc1LTw+b3gr+a+30BU7hMUtGD9JobpLq7899P3d3SPJv7sQal4U3mz8H5+R87kb/W3nbhPql3bR4Hov0aio8q7gAAAIATfAFp9pLkj0Vn2btXFrdfuSQF60xQG96d+z6m1WfXVm7vJim8R3rrrtyPmah8mVR1iWlJ95cFxXsfab+GIiJABwAAAIqhok0qP9XMyIZ2mrZeu1fLzKrnulg6g96bndlPoNG0lfNXSOHBzNsffEPqu0WOva5AjdT86HjKeuVZUt8dzuw747GzuDAB5IkUdwAAAKBYorPslWdJtTdKzU9Iweb4bfw213oXS7A10vM9IFVdbu85+zYpq+B89kfSPOiTGh4YD86tkDTwffv7zkf0tQNFQoAOAAAAuCXZ2vV6B9aMO2nup6XBx0zaes3nJV95+u19lVIoy3T66msiFytSFNqraBu/b3hz8dLb69flUWgOyB4p7gAAAICbEteu777JtaFMVBZJw4/w10pzPyP1fzn1U+Z+ylRyt8VngvLoDH3sEoBoWn1igDz4wyxfQy4CUtMj8RcGgCIgQAcAAAC8YrA9PiB23XD8zfBuE5yXnyrt+28p1DH+WKBFalgv+auzCNAVP0udrtCeJO26WnprferHndL0falyeeGPAyQgQAcAAAC8wAqZKu+lYOhJqfFhKdg4cbZ74HFJAUkZ+odHA3q7s9QDjztTGK78NGnWP5qx91wZny4fbDUXDJg5h0sI0AEAAACnWaHMqdqJnFhbHaiTwvskayi//dix8xMmDbzyrPH7BtulzjOVsUBczVqp9nr767utkNT12ZyHGqfyjPExVy7P/u8JKCACdAAAAMBJg+0T+50HW6R5d0uB2tTBYL79tv1zpFBPfvvISljqPEPyPWFmnMcyANIF55G13anSx1Nd2BjenF8f97ghxLRNy5RSDxQZAToAAADglMF2qWO5JgSpozukztPj7wu2SPUxKd759tsO78nv+bnqXjle3C1jBkDIXKRIJtWFjfr1JivACf4a2qbB02izBgAAADjB1gxyjNEOE8wPtpvbZYsjbcZ8Dg/MJ9Wslpoen9jGzF+jvEOC0R3Szk+b12NHskyB6IWNxAA/+h7tfSa/MUZVfY4UdngaAToAAADghKzXkEcC+e5VJrj3BcxssSRng3RL6l0r+fwTe643PSopnP8hBh6yv0Z8pFsa+L7pq26FMlzYiNw39GT+Y/TXmHXvgIeR4g4AAAA4Iac15JY0ut0E97OXmHT35g0TU72d0L3KpKLHrrke+L5z+7cGbGwUkHouG78ZbJHmXpjhtVpSuC+LgfiUNNhvfIDZc3geM+gAAACAEwLzcn9ubHBf0TY+011zQ97DGhO9EBAr33XvKaXKAEhovTbaYb/vu688/eOBGqnpMSnYHH9/sFVqfoLWaSgJzKADAAAA+Rpsl7o+l/vzR7rH09xjhd7Ka1gTJM7yR9e9Oz1bH6hNqCifqi+6zfX6knl/0gn1mvdvwTZap6FkEaADAAAA+UhVuT0bPZdJ/V8eX4NeiBR3aeKMeXTde8cyZ49T92UTMI9slSxL2vNVB3a6T/JVpkml9yVP4wdKCAE6AAAAkKtsK7enM9rhfKAcyzfHHGPvpvhZ5Yo2U+G98+NKPsudg54rCtOTPe0698h6/r57pepLmTVHSWINOgAAAJAru5Xbq1dPbHE2gQNBftrd75F2fkLafoK09bDx9m6SVLlcanKwYFwhgnO7ei6b+PqAEkGADgAAAOTKbuX2mUeZtdF1dxd0OLZFZ+u7Lxtvd1Z5uimmlvFCQglI7DEPlAgCdAAAACAdK2SC2Nje3VF2q6Dvf83MtgfrCjHCHERm6/vXxc+oRyvI53QhoRihhd1jJPSYB0oEAToAAACQymC7CV63nyB1nj0xPTxaBT1lW7GIvpvNc3ddln47t8TOOPsC0rR6e8+rvkGqWhW5ES7U6GJEj5Hh/ZYU12MeKBEE6AAAAEAy0ersiWvMo8Fsz03S4GPSnAtle/24m2uz00qYcbabGVC2RBrckN2h6u7Or7/7jPdN7HWejt1lCIAHUMUdAAAASJS2Onvkvt7VxRxREcRUQQ/WSYE6KbRbyd8DnwmS97+SXTs4f400413SrOOl3luVU9X4A7+Wmh6TRjpMQbhM7F5sADyAAB0AAACwQiYVOrQzEtCFCtOH3A5/pRRO106swOwEvbKk8D5p95XZ7TvcK+04SfLXKq+WbruukA7fYnrHj3Yo9UWEFrMMASgRBOgAAACY2gbbzWx5bEDur3ZvPPkE5zVrpbe+UpxU+nBvHs/dnd+xR7dL+16U6teb5QbyKT5Ij6xRr19HP3SUFNagAwAAoPDSVUJ3U6p15uE+d8aTj2CrVHu9tGBHZIZ6kht60lSdb94wcU16sMXcX9HmztiAHDGDDgAAMJUkpnKXLS78DGOyGepgi5n9LEQAZfc1pl1nXoIqlpnXXbZYmnu+1HeH2yMqrIHvSfPuNOdQ+anFP6+BAiBABwAAmCqKHShHj9mxXBOC4NEdUscy06Kr/FTnAqpsXuPwZvfWmTsqIClkepr3rzOvN7zP5TEVQahH2r1GKjvRnD+zl7g9IiBvpLgDAABMBZlahkX7ejvJzgx1/7qJvcVzlek1DmyIT7Mf7bC3XzfXo6c1LfI7YbnA6I781oeXkt6bnTt/AA9gBh0AAGCyy9gyzGf6X5ef6mxacDYz1NEg2s664bgU9nnmJYS6pF2XKW1btM6PKy6YtbtOu+kxU3Os4wxvrU338VV+TDbnD+Bh/KsGAACY7DIGypH+18ObnU0TDu3MYmObFwqSpbDbH1D8zYyVxCNtumYvMe+Nl4JzSbKmQBq7bQW80AQUESnuAAAAk53dQDmrgNqGQGOWT4i5UJCs6nuqFPZCirbpcvq9mfLKC7DP6PmzqQD7BoqDGXQAAIDJzm6gnGq7XCu/ly02M9CjHcqqUvrQk9LOcycWegvvy24/+aq+cjxdOuuLDSWs6vOS32/e6oNvSEMbCnCQvQXYZ8SOf5EavyVVnl64YwAFQoAOAAAw2WUMlCOp3GWLJz6UT+V3X8Bs17HcHMNucN2/buJ9blRbH3hEqr1Z2veiee8CdVJotyZNW7ZU3rpXsgYLfJACvofWoNR5hrT/Kmne7YU7DlAApLgDAABMdtFA2dxIfND8iqZyx6aW99yUf+X3ijZTuCvYbHOwHlo7PLpd2jLPVAnf+QnT1muyB+dSEYLzIum7w1TuB0oIAToAAIAdydZEl5JUgXKwZbzy9WC7aVe1/QSp82ypd7XSVkXvXmXvfahokxZsk1qfM33PJaW8UJBYyM1t4T1ujwD56P5s6f1bxZRGijsAAEAm+aR5e0lFm6lwnWw9ebQAm+0Z4piCbmWLM69R9wVMNfTZS8zjyd7PimXJ09snNZ9Z6/7Wt6dO7/JiCvU4350AKCACdAAAgHRSBa659F3Otdiak6KBcuK4UvZJzyBVQbd0Fy9SXSgY3jy1AvRgq1laUH6qycwIuz2gSYoK/CghBOgAAACppA1cs+y77OVZ+Ix90tNIWtDNxsWLZBcK7BSz88+WwsMq+Wi27GSp5UeSf7o09Iw7RfAcE5DnlibEmkoV+FHyCNABAABSyRi4xqR5p0uhdXIWPukwbM7Mx27nn2eWfYd2SQdey/3YyQekrC5eRKWt+h65HR5yeKwuGf659JcFUuVZ0lvfcns0efBJTY9Igdrx86rrvOxb6xWKvzJ5dwLAowjQAQAAUrGbGptuOysk7bxIjszCJ5NsZj5QJ9XfJ1UuT79dQdm8eJEoWswucay+KkmjkjXg9EDdM7rDVBovGQkXTaIp+okXl3JprVcoFuEOSgtV3AEAAFKxmxqbbrveWzIU/4oJZLMU6n9Um36wTN9/coc2/VYKRbOMQz1S5+nSrqvN7egMvhtp1MkuXmSqiB+t+l6zVvJXR57TN7mC84IrQG2DpkdNJf6mh83vBX9NnvmRdWu9ArL6cvq3BbiFS0oAAACp2FkTHWxJnUJrhaRemzOkqWbhh38p+bompK63f/dKrbzqy9rRNb5pS4O0/jqpbWnkjr47pBkLpZ4rU4y/CBIvXqSa8a84W5p2mBSsM4FdaLfUu0auz8CWmrmXmGr4s46X9r1ozt3uVVJ4d+77zKVWQmIhwP2vSn1fzH0M+aBIHEoIAToAAEAqGddEy6T4pkpN37tJsmyumU4MZId+LCkg7ThFCuyLbGNS19t//Fst/9cvy0qIXTu6peWrpA3rYoL0rotcmnlOcvEi1Vr8UI/01vqE5/snbldS/HKlkF3Faeb30BPmnAo05Bec190tVV+a2/KL2EKAgU3uBegUiUMJIUAHAABIJ9Wa6GBL8vW3sfZtsncMX+XEQLbzXEkPx28X6lFo++laeaVvQnAuSZYl+XzSqlulU0+UAgG5F5xL8RcvrJDU9TnZD7pLrEq7r1KqukTy+aVZS6Rwn9R5pop3kcEnBaqlzk9KoY7xu6NLBHI1rd6ZVoBj2Shplln4a5zvBR9spUgcSgoBOgAAQCap+nZnClzsxmazl8YHsml6km9+WdrRlXrHliVt7zLbLXmvzeMnqlkr7fmGjTXrkayCxMAq2cWL3bfEB46TTliatTD+NfsC5qJEwV935O8hlCS4Dfflt2unZp/jslFSLBdpfEDa92sHC+f50me4AB5EkTgAADB5ZSpGlo1oum7lWea3nS/9dquXV108/ucMrd129tjbpd3t4vnMjGPt9aZIW2xBsKbHTeAdK9giNT8hHdkdv+38N6WDf5e6LpV610l7HpV6V+cyoNJhDUkdy0z2Q1RFm3TE38wFj3z55khzPyfVrpUCTfGPBZvNRRJH+ZyffR4rHpd4HrWOtxqcd7vU9JjJSEg2Jrti9wmUEGbQAQDA5JSsGFkuxa7yUbYkc9puoMZsF5WhoFVjnb1D290uniXN/bT5Y+z64aiKf0mdRRDddtfV0vaTJOVxMaSUdXxCav6hVH6ieW98AanuRmnmO/Nrc2ftkYbazfl7+KvSmz+XGr8lzWg0F552nOToy5Cswsw+28lGqTzdbDe8yVxY88ksGyhbLPXdJu1Oc7Gn8rPSnNPtZbgAHkSADgAAJp9UxchGO8z9Ts+sWaHkAYcvYNJ2O5alfm7DA/GBRIaU4sULTbX2jm4lXYfu80kt9Wa7nOxeLb31jeQXMpIF7bF2XV1ifb0LYZ/UcbK5MNP4wPh7OBaYbpI6zsgt9Tx6/s57VNL08ftDXSmfEi+LvuRVqwp3ISvTeTS2zYnmJ1btjdKMJBc7UvVkB0oMKe4AAGBySbuGO3Jf96r80t1jDbZLWw+Ttp8gdZ5tfm89bDzVuaLNpIGnSg+PDSiskKSQ5KtIebhAwLRSk0wwHit6e911kQJxuYoGgrHp2pmED0p9d+Vx0Ekm3Dsx5T0adDZ+Q1mla4+xzM/OT5mbOy8w59uuy7J4vk2BqmwHVzwVbROXYKTqyQ6UGAJ0AABQ+mLXmvfdmyGN2JJGt5sZ73xFZ+oTjxcb4FohU0m77jbTsqrxu5GAYlt8QDEW6J8kWYNpD9u21LRSa66Pv7+lXnr0Lql6rvT9n0ibfiuFcroOkcOFjP77NGXT2tPpWjnxPaxok6qvzGOnCfsL5dFGLZX+bzh3EasQcqkJAZQAUtwBAIB3WKHIutNnpdG/S4FDpPIPmTXaqb6AJ1trbkeGtd7px7hZGtkudV+i1DP1PmnnRZI/xTp4X2B8X0NPSv3rshpG21LTSm3zy6YgXGOdtLtPuuxL0o6YjOeWBjPjPtYX3f4LNRcydq+Ryk6cuKY3Ma1/5M/ZHiADv0wa936H91tkoR3mfYpN6bZC5mKSYwrQyi3ZuAEUHAE6AADwhsF2E9AmFlTr/6LkK5eqrzBB4miXNNpjiqsNPycNPJjb8QKNqdeOpxuj7YsBlnktie28R3eY1OeKM6XhX+bVgisQGG+l1v60dMblE9eld3RLy1eZGffsg3RJvTebn9gCe0nfh7LcXkRKlko+OI9KvBiUoVK/Z+R6EQtAzgjQAQCA+wbb0xdSs4ak3rVSmmLo2QlIQ09JO8+1X+V94HGp8wynBiANPurYrkIhaeWtyYvGWZZZm77qVjPjnvPa9OiFheqrUhSCG85xx6lEshAKMTtcbAdeM0swoheASiXwdaoHOgDbWIMOAADcNVbUrZhCUv+X068djzWwQeo8q3jDy9Lml+PT2hNZlrS9y2yXt747HdiJXcUMzssLt+vem+OLB5ZC4Ot0D3QAthCgAwAAd3kq3TemOFr4oJn17L5M6jxdXi6AtrPH2e3SmwQz2kkNFf4Q0QtAo92SnC5qlktV+DT7KkQPdAAZkeIOAADc5bl030hxtC3NUrgA1bELoLHO2e0KY6YmrimfJCnstkXS9rsvlbMXfBx8H/2VUuODtCwDXMIMOgAAcJdX033zDc59s5wZhw2LF5pq7Yl90ceG4pNaG8x27klW8G0qBedRlhR2JJVhXLBFqlqV/378ldIRPQTngIsI0AEAgLvKFkv+WrdH4Sx/s1R9ddEOFwiYVmrSxCA9envddXkUiMsbqdIFU3GmtOCvUvmpee7IZ2bO/dMdGRaA3BCgAwAAd/kCUsN9bo/CWY33SLVfkPw1RTtk21LTSq25Pv7+lvo8Wqw5xrvr910TqJMj68YHH5UGf2AudAVbcttnsFVq3sDMOeABrEEHAADuqzxd2p+qfVcJ8ddIjQ+Y2czhzVLlJ6S31hft8G1LTSu1zS+bgnCNdSat3b2ZcyQVbJXm3RVp25di/fjcSyUrLO35aub9dX9WqvgX0yKwY3nqfUrjj9WulaYfaZaYRNu/AXAdAToAAPCGebdLB/8mDT1WnOOVnyrtfzm+gnygTgpluT64vE2afrQJzqfVS/tfNW3jXKpMHwhIS97ryqFhV/06M1vt2zDxXAm2jj8+8H17AXqox1wQqmgzM+Hpzr9gy/j+AXgOAToAAPAGKyTtf7G4x1ywzQQ2oZ1mJnG0W9r5cXvPjQZSktT1OSnUUahRekegRprzKRM4eqY1XompXTseHFe0jWdbRM/B2NnsbAooRrshJO7TP89Mmod2MVsOlAACdAAA4A3F7oc+9KS04/+Tqq+SKs4w9209LPPzfOXmOTXXSn23SbtXF3SYGVWeLw08WJxjhXqlWe+T6m4dDwCHnpYGHnLwIJO49VqwRaq5Pv4+X0CavST59tECinY6CsQG8+n2CcDTKBIHAAC8YejJ4h9z70+l7SeYwLz3FnsXCKwhqXe1tKXJ3eA8UCM1PyGV/3MRD+qTuleZP85eIlWeJTV+09lieP5K5/blKT6zRjyb2Wu7BRSDrSaYB1DyCNABAID7rJC057vuHX+0I/tgO9xbmLHYFeo179uuy4p4UEsa3S7t3WR+Br5vZtLrbayTtqviHOf25RX5VEmvPN1kbKTkM0stSFsHJgVS3AEAgPuGN9tL4y2YUkyp9kldK6RwlkXtnNB5hhTuG7/tn+Pcvqcf6dy+3BSokyrPMevB8133Pe92aeZ7TbX22CKGwRap6TYKvgGTCAE6AABwX7TA1VQz7WhTmM7qz+HJljvBuRQfnEtSeI9z+w42SsFmk9VQiqpWOROUJ6pcblqpDW+WDuyUtkia/wdp+kznjgHAdQToAADAfdlUq55MRt5wewTe0/1pyfK5PYrsxbZHK5Ro8bfpI5J+Slo7MAkRoAMAAPeVLTbpurTuQnjI7RHY42+Wqi8yKfm0LwPgEAJ0AADgPl/AVLjuWK7SXA+OKaVmrVR7PQE5AMdRxR0AAHhDRZupdO1kyy7ASf5q09qu7kaCcwAFQYAOAAC8o6JNOrJbql1rgqFYvjnS7I9Is05wZ2xA82NUTAdQUKS4AwAAb/EFpNobpZrrTcXq0M7xNb6StPUwV4dXkgJ10pwLpb4vuj2SEuUzNRLKlrg9EACTHAE6AADwpmjF6lh7N1FILhcNX5esA26PokRFKsrXryOtHUDBkeIOAABKx1Ttl56P2R81adlTtZVdvoItpjYCqe0AioAZdAAAUDoIMrO39ylpsF0qP9Ws6w/3uT0i7/NXSvX3ScFm2qcBKCpm0AEAQOmI9ktHFnxS9yrJCmksXRvpNT4ozTnHLLEgOAdQRAToAACgdET7pU96Tn5Fs6TR7dKOU6Rwr4P7TSZx3CX2VTPYYtqokc4OwCWkuAMAgNJS0WbWVe99yu2RFFDY+V0O/8L5fU4QNhXjK8+RgodKPZcV4Zj58EmBWmne3aSzA/CEErusCQAApjwrJO37tdujKAxfudsjyF9ot9S/Xhr9m9sjySCS7t/wddLZAXgGAToAACgtw5ul8G63R1EY1j63R+AAy/wa+J67w8iE6uwAPIgUdwAAUFomdau1kNsDcIglhXokzZa0tziH9FdK4YHM2829RKpYRjo7AE9iBh0AAJQWWq2VjpkLi3AQn/mpusLe5hXLSGcH4FkE6AAAoLSMtVqjZZjnlX3A2f35yie22Yumqtden+G88EnBVnP+AIBHEaADAIDSEtdqbbIF6ZHZ4FT8NTHbeVkkGJ79IWd3658hHb5Van1OanrY/F7wV7OOPO15Ebldv46ZcwCeRoAOAABKT0WbmTUNNsffH2wp7UroFWdE/pAswPRJjQ+YPt2JrztWsFWqvirPgWS4UGBH/TqpbMnEGe98hHql/vtMHYJA48R15OnOCwrCASgBFIkDAAClqaJNKj/VVHWPDdh6b5F2r3Z7dNkL1EhN35OGzpC6V5pgNCrYYgLeaIAZ97rnmcLp4V3xQeus90k7L5LCvfHH8ZVLGpWs/anHUn2lNPO9Uufp2b+OYIuZyY6OtX691LEs+/2kEttbPfFYUurzgplzACWAAB0AAJQuX8AU/IpVc73Ud8/EwNTTfFLDA+b1RAPMgRekLQNSy0+kyg/GB5jJXneisUB1k7R3k5kQn7Vk/Hmd50iDj2msLZokKSBVXy7Nuz1ynCfMxYLRHfZeRu1a8/4nzmpXrZL619nbRzZGO6SO5RNnx+28PwDgQQToAABgcvEFTCp4x3LFB5+SiVItM4tsDaXeR81aafrRUvdFUnhPAQcrSQGp6fsTA8yyD0j6qfmd6+yvLyDNPtH8JGp+RAr/h0kZH9kqTVsgVX1W8k8f3ybZbHSoR9p1eXzQHmyNn+FPVH5qYQJ0WZJ8UvcqcwxmyQGUOAJ0AAAw+UTXIifO/kZTxctPlXbfIvWvl8J9MY8nBpoj0s5PFHiwISlQV+BjpOCfLtWsSr9NstnoirbsUsjLFpvXGOqxObDIhRRbLGl0uxkPs+YAShwBOgAAmJwyrUWuu9G05koXaKYrxpZJsEWa+T5paEPmbYeeLK3gMtsUcl9Aqr/P/pr2QG0WwXxEaGd22wOABxGgAwCAyStTIJnp8Wxmfqs/b7YN1pnAvmyxCf7tBOj968z2k7nKeOVyac9Hpb1PZd523t3mPQztlEa64wvDpRJozH+MAOAyAnQAAIBUfAFp5nH2gsqZ75QqzzJ/tkImOB/tsBngT5F11NVX2Hsvg83jF06skNT/ZfNeJk1795lshbLFDg4UANxBH3QAAIBUBtvtBZTS+AzuYLu05VBp+wlm/bqtVO2YddSTWdniDH3RfaYOQGyw7QuYVmrRxxO3l0zdgMl8YQPAlEGADgAAkIwVMn3EM4oJKgfbTc/vUEdux5zs66jHgm2fsgq2o0X/EmsCBFsmtlgDgBJGijsAAEAyezfZ7KVumaBSshnQpzEV1lFnqrCfKtjOVPQPACYBAnQAAIBk9m2yt135MhM8Dj1jM6BPZoqto8412M62ejwAlBgCdAAAgGTstuGe/jbz225AP8EUXUdNsA0AE7AGHQAAIBm7weNYtXGb+/VVxN9mHTUAIIIZdAAAgGTKlkj+mvRp64Eas51kAvW+mzPvt3mD5JvOOmoAwAQE6AAAAMn4AlLjA6YqeyoND4wH13YD+tknEpADAJIixR0AACCVijap+YmJvbuDLeb+2LT0aECfTmxADwBAAmbQAQAA0smm4ng0oE/aQmw968wBAGkRoAMAAGSSTcVx+nUDAHJEgA4AAOA0WogBAHLAGnQAAAAAADyAAB0AAAAAAA8gQAcAAAAAwAMI0AEAAAAA8AACdAAAAAAAPIAAHQAAAAAADyBABwAAAADAAwjQAQAAAADwAAJ0AAAAAAA8gADdgw4cOKBjjjlGPp9Pr7zyStxjf/jDH7R48WLNnDlTra2tuv32290ZJAAAAADAUQToHnT11Verqalpwv0DAwNaunSpDj30UL388su64447tGbNGj3wwAMujBIAAAAA4KSg2wNAvP/8z//U008/rSeeeEL/+Z//GffY9773PR08eFDf/va3NX36dL3jHe/QK6+8orvuuksXXXSRSyMGAAAAADiBAN1Duru7deGFF+qHP/yhysrKJjz+0ksv6YMf/KCmT58+dt/JJ5+sL33pS+rv71dVVdWE5xw4cEAHDhwYuz0wMCBJGhkZ0cjISAFexdQVfT95X5GIcwOpcG4gHc4PpMK5gXSyOT84h7yHAN0jLMvSeeedp4svvljHHnustm3bNmGbrq4uzZ8/P+6++vr6sceSBei33nqr1q5dO+H+p59+OulFAORv48aNbg8BHsW5gVQ4N5AO5wdS4dxAOnbOj+Hh4SKMBNkgQC+wa6+9Vl/60pfSbvP666/r6aef1uDgoK677jpHj3/dddfp8ssvH7s9MDCg1tZWLV26VJWVlY4ea6obGRnRxo0b9eEPf1jTpk1zezjwEM4NpMK5gXQ4P5AK5wbSyeb8iGbXwjsI0Avsiiuu0HnnnZd2m8MPP1zPPvusXnrpJc2YMSPusWOPPVbnnHOOvvOd76ihoUHd3d1xj0dvNzQ0JN33jBkzJuxTkqZNm8YHeoHw3iIVzg2kwrmBdDg/kArnBtKxc35w/ngPAXqB1dXVqa6uLuN299xzj26++eax252dnTr55JP16KOP6rjjjpMkLVq0SNdff71GRkbG/jFt3LhRRx11VNL0dgAAAABA6SBA94hDDjkk7nZ5ebkkacGCBWppaZEknX322Vq7dq0uuOACXXPNNXr11Ve1fv163X333UUfLwAAAADAWQToJWTOnDl6+umntWLFCi1cuFC1tbW68cYbabEGAAAAAJMAAbpHHXbYYbIsa8L97373u7V582YXRgQAAAAAKCQC9CkmGvRTsdF5IyMjGh4e1sDAAAU3EIdzA6lwbiAdzg+kwrmBdLI5P6IxQbKJQbiDAH2KGRwclCS1tra6PBIAAAAAXjA4OKg5c+a4PQxI8llcLplSwuGwOjs7VVFRIZ/P5/ZwJpVoj/nt27fTYx5xODeQCucG0uH8QCqcG0gnm/PDsiwNDg6qqalJfr+/SCNEOsygTzF+v3+sKjwKo7Kykv8skRTnBlLh3EA6nB9IhXMD6dg9P5g59xYukwAAAAAA4AEE6AAAAAAAeAABOuCQGTNmaPXq1ZoxY4bbQ4HHcG4gFc4NpMP5gVQ4N5AO50dpo0gcAAAAAAAewAw6AAAAAAAeQIAOAAAAAIAHEKADAAAAAOABBOgAAAAAAHgAATrggJ/85Cc67rjjNGvWLFVVVem0006Le/zvf/+7TjnlFJWVlWnevHm66qqrNDo66s5g4YoDBw7omGOOkc/n0yuvvBL32B/+8ActXrxYM2fOVGtrq26//XZ3Bomi2bZtmy644ALNnz9fs2bN0oIFC7R69WodPHgwbjvOjanrq1/9qg477DDNnDlTxx13nH7729+6PSQU2a233qr3vOc9qqio0Lx583TaaafpzTffjNtm//79WrFihWpqalReXq5ly5apu7vbpRHDLbfddpt8Pp9WrVo1dh/nRukiQAfy9MQTT+jcc8/V+eefr//5n//Rr371K5199tljj4dCIZ1yyik6ePCgXnzxRX3nO9/RQw89pBtvvNHFUaPYrr76ajU1NU24f2BgQEuXLtWhhx6ql19+WXfccYfWrFmjBx54wIVRoljeeOMNhcNh3X///frTn/6ku+++W1//+tf1+c9/fmwbzo2p69FHH9Xll1+u1atX63e/+53+4R/+QSeffLJ27drl9tBQRM8//7xWrFihX//619q4caNGRka0dOlS7d27d2ybyy67TD/+8Y/1+OOP6/nnn1dnZ6fa2tpcHDWK7b/+6790//33693vfnfc/ZwbJcwCkLORkRGrubnZ+uY3v5lym5/+9KeW3++3urq6xu772te+ZlVWVloHDhwoxjDhsp/+9KfW0Ucfbf3pT3+yJFm///3vxx677777rKqqqrhz4ZprrrGOOuooF0YKN91+++3W/Pnzx25zbkxd733ve60VK1aM3Q6FQlZTU5N16623ujgquG3Xrl2WJOv555+3LMuy3nrrLWvatGnW448/PrbN66+/bkmyXnrpJbeGiSIaHBy0jjzySGvjxo3WP/7jP1orV660LItzo9Qxgw7k4Xe/+506Ojrk9/v1v//3/1ZjY6P+6Z/+Sa+++urYNi+99JLe9a53qb6+fuy+k08+WQMDA/rTn/7kxrBRRN3d3brwwgv1f//v/1VZWdmEx1966SV98IMf1PTp08fuO/nkk/Xmm2+qv7+/mEOFy/bs2aPq6uqx25wbU9PBgwf18ssv66STThq7z+/366STTtJLL73k4sjgtj179kjS2OfEyy+/rJGRkbhz5eijj9YhhxzCuTJFrFixQqecckrcOSBxbpQ6AnQgD3/5y18kSWvWrNENN9ygp556SlVVVVqyZIn6+vokSV1dXXHBuaSx211dXcUdMIrKsiydd955uvjii3Xssccm3YbzA5K0ZcsW3XvvvfrMZz4zdh/nxtS0e/duhUKhpH/3/L1PXeFwWKtWrdL73/9+vfOd75RkPgemT5+uuXPnxm3LuTI1PPLII/rd736nW2+9dcJjnBuljQAdSOLaa6+Vz+dL+xNdQypJ119/vZYtW6aFCxfqwQcflM/n0+OPP+7yq0Ch2D0/7r33Xg0ODuq6665ze8goErvnRqyOjg595CMf0emnn64LL7zQpZED8LIVK1bo1Vdf1SOPPOL2UOAB27dv18qVK/W9731PM2fOdHs4cFjQ7QEAXnTFFVfovPPOS7vN4Ycfrp07d0qS3v72t4/dP2PGDB1++OH6+9//LklqaGiYUH03WkWzoaHBwVGjWOyeH88++6xeeuklzZgxI+6xY489Vuecc46+853vqKGhYUJVVc6P0mX33Ijq7OzUCSecoOOPP35C8TfOjamptrZWgUAg6d89f+9T0yWXXKKnnnpKL7zwglpaWsbub2ho0MGDB/XWW2/FzZRyrkx+L7/8snbt2qX/83/+z9h9oVBIL7zwgr7yla/o5z//OedGCSNAB5Koq6tTXV1dxu0WLlyoGTNm6M0339QHPvABSdLIyIi2bdumQw89VJK0aNEi3XLLLdq1a5fmzZsnSdq4caMqKyvjAnuUDrvnxz333KObb7557HZnZ6dOPvlkPfroozruuOMkmfPj+uuv18jIiKZNmybJnB9HHXWUqqqqCvMCUDB2zw3JzJyfcMIJY5k3fn98UhvnxtQ0ffp0LVy4UM8888xYy85wOKxnnnlGl1xyibuDQ1FZlqVLL71UP/jBD7Rp0ybNnz8/7vGFCxdq2rRpeuaZZ7Rs2TJJ0ptvvqm///3vWrRokRtDRpGceOKJ+uMf/xh33/nnn6+jjz5a11xzjVpbWzk3SpnbVeqAUrdy5UqrubnZ+vnPf2698cYb1gUXXGDNmzfP6uvrsyzLskZHR613vvOd1tKlS61XXnnF+tnPfmbV1dVZ1113ncsjR7H99a9/nVDF/a233rLq6+utc88913r11VetRx55xCorK7Puv/9+9waKgtuxY4d1xBFHWCeeeKK1Y8cOa+fOnWM/UZwbU9cjjzxizZgxw3rooYes1157zbrooousuXPnxnUDweT3b//2b9acOXOsTZs2xX1GDA8Pj21z8cUXW4cccoj17LPPWv/93/9tLVq0yFq0aJGLo4ZbYqu4WxbnRiljBh3I0x133KFgMKhzzz1X+/bt03HHHadnn312bIYrEAjoqaee0r/9279p0aJFmj17tj75yU/qpptucnnk8II5c+bo6aef1ooVK7Rw4ULV1tbqxhtv1EUXXeT20FBAGzdu1JYtW7Rly5a4lFXJzJpJnBtT2Zlnnqmenh7deOON6urq0jHHHKOf/exnEwrHYXL72te+JklasmRJ3P0PPvjg2FKau+++W36/X8uWLdOBAwd08skn67777ivySOFFnBuly2dFvwkAAAAAAADXUMUdAAAAAAAPIEAHAAAAAMADCNABAAAAAPAAAnQAAAAAADyAAB0AAAAAAA8gQAcAAAAAwAMI0AEAAAAA8AACdAAAAAAAPIAAHQAA5KW9vV1Lly5VTU2NfD6fXnnlFbeHBABASSJABwAAedm7d68+8IEP6Etf+pLbQwEAoKQRoAMA4EHhcFi33367jjjiCM2YMUOHHHKIbrnllrHH//jHP+pDH/qQZs2apZqaGl100UUaGhoae/y8887Taaedpi9+8Yuqr6/X3LlzddNNN2l0dFRXXXWVqqur1dLSogcffHDsOdu2bZPP59Mjjzyi448/XjNnztQ73/lOPf/882nHeu655+rGG2/USSed5PwbAQDAFEKADgCAB1133XW67bbb9IUvfEGvvfaaHn74YdXX10syM9Ynn3yyqqqq9F//9V96/PHH9Ytf/EKXXHJJ3D6effZZdXZ26oUXXtBdd92l1atX66Mf/aiqqqr0m9/8RhdffLE+85nPaMeOHXHPu+qqq3TFFVfo97//vRYtWqSPfexj6u3tLdprBwBgqvJZlmW5PQgAADBucHBQdXV1+spXvqJPf/rTEx7/xje+oWuuuUbbt2/X7NmzJUk//elP9bGPfUydnZ2qr6/Xeeedp02bNukvf/mL/H5zPf7oo4/WvHnz9MILL0iSQqGQ5syZo29+85v6+Mc/rm3btmn+/Pm67bbbdM0110iSRkdHNX/+fF166aW6+uqr0447+vzf//73OuaYYxx8RwAAmBqYQQcAwGNef/11HThwQCeeeGLKx//hH/5hLDiXpPe///0Kh8N68803x+57xzveMRacS1J9fb3e9a53jd0OBAKqqanRrl274va/aNGisT8Hg0Ede+yxev311/N+XQAAID0CdAAAPGbWrFmO7GfatGlxt30+X9L7wuGwI8cDAAD5IUAHAMBjjjzySM2aNUvPPPNM0sff9ra36X/+53+0d+/esft+9atfye/366ijjsr7+L/+9a/H/jw6OqqXX35Zb3vb2/LeLwAASI8AHQAAj5k5c6auueYaXX311fqP//gPbd26Vb/+9a/1rW99S5J0zjnnaObMmfrkJz+pV199Vc8995wuvfRSnXvuuWOF5PLx1a9+VT/4wQ/0xhtvaMWKFerv79enPvWplNv39fXplVde0WuvvSZJevPNN/XKK6+oq6sr77EAADCVBN0eAAAAmOgLX/iCgsGgbrzxRnV2dqqxsVEXX3yxJKmsrEw///nPtXLlSr3nPe9RWVmZli1bprvuusuRY99222267bbb9Morr+iII47Qj370I9XW1qbc/kc/+pHOP//8sdsf//jHJUmrV6/WmjVrHBkTAABTAVXcAQCAJKqwAwDgNlLcAQAAAADwAAJ0AAAAAAA8gBR3AAAAAAA8gBl0AAAAAAA8gAAdAAAAAAAPIEAHAAAAAMADCNABAAAAAPAAAnQAAAAAADyAAB0AAAAAAA8gQAcAAAAAwAMI0AEAAAAA8AACdAAAAAAAPIAAHQAAAAAADyBABwAAAADAAwjQAQAAAADwAAJ0AAAAAAA8gAAdAAAAAAAPIEAHAAAAAMADCNABAAAAAPAAAnQAAAAAADyAAB0AAAAAAA8gQAcAAAAAwAMI0AEAAAAA8AACdAAAAAAAPIAAHQAAAAAADyBABwAAAADAAwjQAQAAAADwAAJ0AAAAAAA8gAAdAAAAAAAPIEAHAAAAAMADCNABAAAAAPAAAnQAAAAAADyAAB0AAAAAAA8gQAcAAAAAwAMI0AEAAAAA8AACdAAAAAAAPIAAHQAAAAAADyBABwAAAADAAwjQAQAAAADwAAJ0AAAAAAA8gAAdAAAAAAAPIEAHAAAAAMADCNABAAAAAPAAAnQAAAAAADyAAB0AAAAAAA8gQAcAAAAAwAMI0AEAAAAA8ID/HzGc9rbsAIXrAAAAAElFTkSuQmCC' width=1000.0/>\n            </div>\n        ",
      "application/vnd.jupyter.widget-view+json": {
       "version_major": 2,
       "version_minor": 0,
       "model_id": "f0ad4ec47173434c8268f1b8aeda2172"
      }
     },
     "metadata": {},
     "output_type": "display_data"
    }
   ],
   "source": [
    "spc = z\n",
    "\n",
    "plt.figure(figsize=(10, 8))\n",
    "plt.scatter(spc[interictal_inds,0],spc[interictal_inds,1],c='gold',label= 'interictal')\n",
    "plt.scatter(spc[ictal_inds, 0], spc[ictal_inds, 1], c='royalblue', label='ictal')\n",
    "plt.scatter(spc[ictal_pre_inds, 0], spc[ictal_pre_inds, 1], c='black', label='ictal')\n",
    "plt.title('Swav Embedding t-SNE')\n",
    "plt.xlabel('comp 1')\n",
    "plt.ylabel(\"comp 2\" )\n",
    "plt.legend()\n",
    "plt.grid()\n",
    "plt.show()"
   ],
   "metadata": {
    "collapsed": false,
    "ExecuteTime": {
     "start_time": "2023-10-26T14:01:32.778996Z",
     "end_time": "2023-10-26T14:01:33.492058Z"
    }
   }
  },
  {
   "cell_type": "code",
   "execution_count": 50,
   "outputs": [
    {
     "ename": "ValueError",
     "evalue": "multiclass format is not supported",
     "output_type": "error",
     "traceback": [
      "\u001B[1;31m---------------------------------------------------------------------------\u001B[0m",
      "\u001B[1;31mValueError\u001B[0m                                Traceback (most recent call last)",
      "Input \u001B[1;32mIn [50]\u001B[0m, in \u001B[0;36m<cell line: 4>\u001B[1;34m()\u001B[0m\n\u001B[0;32m      1\u001B[0m \u001B[38;5;28;01mfrom\u001B[39;00m \u001B[38;5;21;01msklearn\u001B[39;00m\u001B[38;5;21;01m.\u001B[39;00m\u001B[38;5;21;01mmetrics\u001B[39;00m \u001B[38;5;28;01mimport\u001B[39;00m RocCurveDisplay\n\u001B[0;32m      2\u001B[0m target, np\u001B[38;5;241m.\u001B[39margmax(output,axis\u001B[38;5;241m=\u001B[39m\u001B[38;5;241m1\u001B[39m)\n\u001B[1;32m----> 4\u001B[0m \u001B[43mRocCurveDisplay\u001B[49m\u001B[38;5;241;43m.\u001B[39;49m\u001B[43mfrom_predictions\u001B[49m\u001B[43m(\u001B[49m\n\u001B[0;32m      5\u001B[0m \u001B[43m    \u001B[49m\u001B[43mtarget\u001B[49m\u001B[43m,\u001B[49m\n\u001B[0;32m      6\u001B[0m \u001B[43m    \u001B[49m\u001B[43mnp\u001B[49m\u001B[38;5;241;43m.\u001B[39;49m\u001B[43margmax\u001B[49m\u001B[43m(\u001B[49m\u001B[43moutput\u001B[49m\u001B[43m,\u001B[49m\u001B[43maxis\u001B[49m\u001B[38;5;241;43m=\u001B[39;49m\u001B[38;5;241;43m1\u001B[39;49m\u001B[43m)\u001B[49m\u001B[43m,\u001B[49m\n\u001B[0;32m      7\u001B[0m \u001B[43m    \u001B[49m\u001B[43mcolor\u001B[49m\u001B[38;5;241;43m=\u001B[39;49m\u001B[38;5;124;43m\"\u001B[39;49m\u001B[38;5;124;43mdarkorange\u001B[39;49m\u001B[38;5;124;43m\"\u001B[39;49m\u001B[43m,\u001B[49m\n\u001B[0;32m      8\u001B[0m \u001B[43m)\u001B[49m\n\u001B[0;32m      9\u001B[0m plt\u001B[38;5;241m.\u001B[39mplot([\u001B[38;5;241m0\u001B[39m, \u001B[38;5;241m1\u001B[39m], [\u001B[38;5;241m0\u001B[39m, \u001B[38;5;241m1\u001B[39m], \u001B[38;5;124m\"\u001B[39m\u001B[38;5;124mk--\u001B[39m\u001B[38;5;124m\"\u001B[39m, label\u001B[38;5;241m=\u001B[39m\u001B[38;5;124m\"\u001B[39m\u001B[38;5;124mchance level (AUC = 0.5)\u001B[39m\u001B[38;5;124m\"\u001B[39m)\n\u001B[0;32m     10\u001B[0m plt\u001B[38;5;241m.\u001B[39maxis(\u001B[38;5;124m\"\u001B[39m\u001B[38;5;124msquare\u001B[39m\u001B[38;5;124m\"\u001B[39m)\n",
      "File \u001B[1;32m~\\AppData\\Local\\Programs\\Python\\Python310\\lib\\site-packages\\sklearn\\metrics\\_plot\\roc_curve.py:333\u001B[0m, in \u001B[0;36mRocCurveDisplay.from_predictions\u001B[1;34m(cls, y_true, y_pred, sample_weight, drop_intermediate, pos_label, name, ax, **kwargs)\u001B[0m\n\u001B[0;32m    262\u001B[0m \u001B[38;5;124;03m\"\"\"Plot ROC curve given the true and predicted values.\u001B[39;00m\n\u001B[0;32m    263\u001B[0m \n\u001B[0;32m    264\u001B[0m \u001B[38;5;124;03mRead more in the :ref:`User Guide <visualizations>`.\u001B[39;00m\n\u001B[1;32m   (...)\u001B[0m\n\u001B[0;32m    329\u001B[0m \u001B[38;5;124;03m>>> plt.show()\u001B[39;00m\n\u001B[0;32m    330\u001B[0m \u001B[38;5;124;03m\"\"\"\u001B[39;00m\n\u001B[0;32m    331\u001B[0m check_matplotlib_support(\u001B[38;5;124mf\u001B[39m\u001B[38;5;124m\"\u001B[39m\u001B[38;5;132;01m{\u001B[39;00m\u001B[38;5;28mcls\u001B[39m\u001B[38;5;241m.\u001B[39m\u001B[38;5;18m__name__\u001B[39m\u001B[38;5;132;01m}\u001B[39;00m\u001B[38;5;124m.from_predictions\u001B[39m\u001B[38;5;124m\"\u001B[39m)\n\u001B[1;32m--> 333\u001B[0m fpr, tpr, _ \u001B[38;5;241m=\u001B[39m \u001B[43mroc_curve\u001B[49m\u001B[43m(\u001B[49m\n\u001B[0;32m    334\u001B[0m \u001B[43m    \u001B[49m\u001B[43my_true\u001B[49m\u001B[43m,\u001B[49m\n\u001B[0;32m    335\u001B[0m \u001B[43m    \u001B[49m\u001B[43my_pred\u001B[49m\u001B[43m,\u001B[49m\n\u001B[0;32m    336\u001B[0m \u001B[43m    \u001B[49m\u001B[43mpos_label\u001B[49m\u001B[38;5;241;43m=\u001B[39;49m\u001B[43mpos_label\u001B[49m\u001B[43m,\u001B[49m\n\u001B[0;32m    337\u001B[0m \u001B[43m    \u001B[49m\u001B[43msample_weight\u001B[49m\u001B[38;5;241;43m=\u001B[39;49m\u001B[43msample_weight\u001B[49m\u001B[43m,\u001B[49m\n\u001B[0;32m    338\u001B[0m \u001B[43m    \u001B[49m\u001B[43mdrop_intermediate\u001B[49m\u001B[38;5;241;43m=\u001B[39;49m\u001B[43mdrop_intermediate\u001B[49m\u001B[43m,\u001B[49m\n\u001B[0;32m    339\u001B[0m \u001B[43m\u001B[49m\u001B[43m)\u001B[49m\n\u001B[0;32m    340\u001B[0m roc_auc \u001B[38;5;241m=\u001B[39m auc(fpr, tpr)\n\u001B[0;32m    342\u001B[0m name \u001B[38;5;241m=\u001B[39m \u001B[38;5;124m\"\u001B[39m\u001B[38;5;124mClassifier\u001B[39m\u001B[38;5;124m\"\u001B[39m \u001B[38;5;28;01mif\u001B[39;00m name \u001B[38;5;129;01mis\u001B[39;00m \u001B[38;5;28;01mNone\u001B[39;00m \u001B[38;5;28;01melse\u001B[39;00m name\n",
      "File \u001B[1;32m~\\AppData\\Local\\Programs\\Python\\Python310\\lib\\site-packages\\sklearn\\metrics\\_ranking.py:979\u001B[0m, in \u001B[0;36mroc_curve\u001B[1;34m(y_true, y_score, pos_label, sample_weight, drop_intermediate)\u001B[0m\n\u001B[0;32m    890\u001B[0m \u001B[38;5;28;01mdef\u001B[39;00m \u001B[38;5;21mroc_curve\u001B[39m(\n\u001B[0;32m    891\u001B[0m     y_true, y_score, \u001B[38;5;241m*\u001B[39m, pos_label\u001B[38;5;241m=\u001B[39m\u001B[38;5;28;01mNone\u001B[39;00m, sample_weight\u001B[38;5;241m=\u001B[39m\u001B[38;5;28;01mNone\u001B[39;00m, drop_intermediate\u001B[38;5;241m=\u001B[39m\u001B[38;5;28;01mTrue\u001B[39;00m\n\u001B[0;32m    892\u001B[0m ):\n\u001B[0;32m    893\u001B[0m     \u001B[38;5;124;03m\"\"\"Compute Receiver operating characteristic (ROC).\u001B[39;00m\n\u001B[0;32m    894\u001B[0m \n\u001B[0;32m    895\u001B[0m \u001B[38;5;124;03m    Note: this implementation is restricted to the binary classification task.\u001B[39;00m\n\u001B[1;32m   (...)\u001B[0m\n\u001B[0;32m    977\u001B[0m \n\u001B[0;32m    978\u001B[0m \u001B[38;5;124;03m    \"\"\"\u001B[39;00m\n\u001B[1;32m--> 979\u001B[0m     fps, tps, thresholds \u001B[38;5;241m=\u001B[39m \u001B[43m_binary_clf_curve\u001B[49m\u001B[43m(\u001B[49m\n\u001B[0;32m    980\u001B[0m \u001B[43m        \u001B[49m\u001B[43my_true\u001B[49m\u001B[43m,\u001B[49m\u001B[43m \u001B[49m\u001B[43my_score\u001B[49m\u001B[43m,\u001B[49m\u001B[43m \u001B[49m\u001B[43mpos_label\u001B[49m\u001B[38;5;241;43m=\u001B[39;49m\u001B[43mpos_label\u001B[49m\u001B[43m,\u001B[49m\u001B[43m \u001B[49m\u001B[43msample_weight\u001B[49m\u001B[38;5;241;43m=\u001B[39;49m\u001B[43msample_weight\u001B[49m\n\u001B[0;32m    981\u001B[0m \u001B[43m    \u001B[49m\u001B[43m)\u001B[49m\n\u001B[0;32m    983\u001B[0m     \u001B[38;5;66;03m# Attempt to drop thresholds corresponding to points in between and\u001B[39;00m\n\u001B[0;32m    984\u001B[0m     \u001B[38;5;66;03m# collinear with other points. These are always suboptimal and do not\u001B[39;00m\n\u001B[0;32m    985\u001B[0m     \u001B[38;5;66;03m# appear on a plotted ROC curve (and thus do not affect the AUC).\u001B[39;00m\n\u001B[1;32m   (...)\u001B[0m\n\u001B[0;32m    990\u001B[0m     \u001B[38;5;66;03m# but does not drop more complicated cases like fps = [1, 3, 7],\u001B[39;00m\n\u001B[0;32m    991\u001B[0m     \u001B[38;5;66;03m# tps = [1, 2, 4]; there is no harm in keeping too many thresholds.\u001B[39;00m\n\u001B[0;32m    992\u001B[0m     \u001B[38;5;28;01mif\u001B[39;00m drop_intermediate \u001B[38;5;129;01mand\u001B[39;00m \u001B[38;5;28mlen\u001B[39m(fps) \u001B[38;5;241m>\u001B[39m \u001B[38;5;241m2\u001B[39m:\n",
      "File \u001B[1;32m~\\AppData\\Local\\Programs\\Python\\Python310\\lib\\site-packages\\sklearn\\metrics\\_ranking.py:738\u001B[0m, in \u001B[0;36m_binary_clf_curve\u001B[1;34m(y_true, y_score, pos_label, sample_weight)\u001B[0m\n\u001B[0;32m    736\u001B[0m y_type \u001B[38;5;241m=\u001B[39m type_of_target(y_true, input_name\u001B[38;5;241m=\u001B[39m\u001B[38;5;124m\"\u001B[39m\u001B[38;5;124my_true\u001B[39m\u001B[38;5;124m\"\u001B[39m)\n\u001B[0;32m    737\u001B[0m \u001B[38;5;28;01mif\u001B[39;00m \u001B[38;5;129;01mnot\u001B[39;00m (y_type \u001B[38;5;241m==\u001B[39m \u001B[38;5;124m\"\u001B[39m\u001B[38;5;124mbinary\u001B[39m\u001B[38;5;124m\"\u001B[39m \u001B[38;5;129;01mor\u001B[39;00m (y_type \u001B[38;5;241m==\u001B[39m \u001B[38;5;124m\"\u001B[39m\u001B[38;5;124mmulticlass\u001B[39m\u001B[38;5;124m\"\u001B[39m \u001B[38;5;129;01mand\u001B[39;00m pos_label \u001B[38;5;129;01mis\u001B[39;00m \u001B[38;5;129;01mnot\u001B[39;00m \u001B[38;5;28;01mNone\u001B[39;00m)):\n\u001B[1;32m--> 738\u001B[0m     \u001B[38;5;28;01mraise\u001B[39;00m \u001B[38;5;167;01mValueError\u001B[39;00m(\u001B[38;5;124m\"\u001B[39m\u001B[38;5;132;01m{0}\u001B[39;00m\u001B[38;5;124m format is not supported\u001B[39m\u001B[38;5;124m\"\u001B[39m\u001B[38;5;241m.\u001B[39mformat(y_type))\n\u001B[0;32m    740\u001B[0m check_consistent_length(y_true, y_score, sample_weight)\n\u001B[0;32m    741\u001B[0m y_true \u001B[38;5;241m=\u001B[39m column_or_1d(y_true)\n",
      "\u001B[1;31mValueError\u001B[0m: multiclass format is not supported"
     ]
    }
   ],
   "source": [
    "from sklearn.metrics import RocCurveDisplay\n",
    "target, np.argmax(output,axis=1)\n",
    "\n",
    "RocCurveDisplay.from_predictions(\n",
    "    target,\n",
    "    np.argmax(output,axis=1),\n",
    "    color=\"darkorange\",\n",
    ")\n",
    "plt.plot([0, 1], [0, 1], \"k--\", label=\"chance level (AUC = 0.5)\")\n",
    "plt.axis(\"square\")\n",
    "plt.xlabel(\"False Positive Rate\")\n",
    "plt.ylabel(\"True Positive Rate\")\n",
    "plt.title(\"One-vs-Rest ROC curves:\\nVirginica vs (Setosa & Versicolor)\")\n",
    "plt.legend()\n",
    "plt.show()"
   ],
   "metadata": {
    "collapsed": false,
    "ExecuteTime": {
     "start_time": "2023-09-28T12:13:27.050119Z",
     "end_time": "2023-09-28T12:13:27.774509Z"
    }
   }
  },
  {
   "cell_type": "code",
   "execution_count": null,
   "outputs": [],
   "source": [
    "output[:, 1]"
   ],
   "metadata": {
    "collapsed": false,
    "ExecuteTime": {
     "start_time": "2023-09-28T12:14:16.433107Z",
     "end_time": "2023-09-28T12:14:17.043930Z"
    }
   }
  },
  {
   "cell_type": "code",
   "execution_count": null,
   "outputs": [],
   "source": [],
   "metadata": {
    "collapsed": false,
    "ExecuteTime": {
     "start_time": "2023-09-28T12:14:17.124038Z",
     "end_time": "2023-09-28T12:14:17.146558Z"
    }
   }
  },
  {
   "cell_type": "code",
   "execution_count": null,
   "outputs": [],
   "source": [
    "\n",
    "output = torch.argmax(output, dim=1)\n",
    "output = output.detach().cpu().numpy()\n",
    "target = target.squeeze().detach().cpu().numpy()"
   ],
   "metadata": {
    "collapsed": false,
    "ExecuteTime": {
     "start_time": "2023-09-28T12:14:17.785891Z",
     "end_time": "2023-09-28T12:14:18.441248Z"
    }
   }
  },
  {
   "cell_type": "code",
   "execution_count": null,
   "outputs": [],
   "source": [],
   "metadata": {
    "collapsed": false,
    "ExecuteTime": {
     "start_time": "2023-09-28T12:14:18.953172Z",
     "end_time": "2023-09-28T12:14:18.963262Z"
    }
   }
  },
  {
   "cell_type": "code",
   "execution_count": null,
   "outputs": [],
   "source": [
    "import sklearn\n",
    "\n",
    "clf_report = sklearn.metrics.classification_report(output, target, digits=6)\n",
    "\n",
    "print(f\"Classification Report : \\n{clf_report}\")"
   ],
   "metadata": {
    "collapsed": false,
    "ExecuteTime": {
     "start_time": "2023-09-28T12:14:19.499418Z",
     "end_time": "2023-09-28T12:14:20.121082Z"
    }
   }
  },
  {
   "cell_type": "code",
   "execution_count": null,
   "outputs": [],
   "source": [],
   "metadata": {
    "collapsed": false
   }
  },
  {
   "cell_type": "code",
   "execution_count": null,
   "outputs": [],
   "source": [
    "for batch, label in tqdm(val_dataloader):\n",
    "    batch = batch.to(device)\n",
    "    label = label.to(device)\n",
    "    label = F.one_hot(label).squeeze()\n",
    "    outputs = model(batch)\n",
    "    print(batch)\n",
    "    loss = sigmoid_focal_loss(pred.float(), label.float(), alpha=0.5, gamma=8, reduction='mean')\n",
    "    print(loss)\n",
    "    break"
   ],
   "metadata": {
    "collapsed": false
   }
  },
  {
   "cell_type": "code",
   "execution_count": null,
   "outputs": [],
   "source": [
    "# import copy\n",
    "# import torch\n",
    "# import torchvision\n",
    "# from torch import nn\n",
    "#\n",
    "# from lightly.data import DINOCollateFunction, LightlyDataset\n",
    "# from lightly.loss import DINOLoss\n",
    "# from lightly.models.modules import DINOProjectionHead\n",
    "# from lightly.models.utils import deactivate_requires_grad, update_momentum\n",
    "# from lightly.utils.scheduler import cosine_schedule\n",
    "#\n",
    "#\n",
    "# class DINO(torch.nn.Module):\n",
    "#     def __init__(self, backbone, input_dim):\n",
    "#         super().__init__()\n",
    "#         self.student_backbone = backbone\n",
    "#         self.student_head = DINOProjectionHead(\n",
    "#             input_dim, 512, 64, 2048, freeze_last_layer=1\n",
    "#         )\n",
    "#         self.teacher_backbone = copy.deepcopy(backbone)\n",
    "#         self.teacher_head = DINOProjectionHead(input_dim, 512, 64, 2048)\n",
    "#         deactivate_requires_grad(self.teacher_backbone)\n",
    "#         deactivate_requires_grad(self.teacher_head)\n",
    "#\n",
    "#     def forward(self, x):\n",
    "#         y = self.student_backbone(x).flatten(start_dim=1)\n",
    "#         z = self.student_head(y)\n",
    "#         return z\n",
    "#\n",
    "#     def forward_teacher(self, x):\n",
    "#         y = self.teacher_backbone(x).flatten(start_dim=1)\n",
    "#         z = self.teacher_head(y)\n",
    "#         return z\n",
    "#\n",
    "#\n",
    "# resnet = torchvision.models.resnet18()\n",
    "# backbone = nn.Sequential(*list(resnet.children())[:-1])\n",
    "# input_dim = 512\n",
    "# # instead of a resnet you can also use a vision transformer backbone as in the\n",
    "# # original paper (you might have to reduce the batch size in this case):\n",
    "# # backbone = torch.hub.load('facebookresearch/dino:main', 'dino_vits16', pretrained=False)\n",
    "# # input_dim = backbone.embed_dim\n",
    "#\n",
    "# model = DINO(backbone, input_dim)\n",
    "#\n",
    "# device = \"cuda\" if torch.cuda.is_available() else \"cpu\"\n",
    "# model.to(device)\n",
    "#\n",
    "# # # we ignore object detection annotations by setting target_transform to return 0\n",
    "# # pascal_voc = torchvision.datasets.VOCDetection(\n",
    "# #     \"datasets/pascal_voc\", download=True, target_transform=lambda t: 0\n",
    "# # )\n",
    "# # dataset = LightlyDataset.from_torch_dataset(pascal_voc)\n",
    "# # # or create a dataset from a folder containing images or videos:\n",
    "# # # dataset = LightlyDataset(\"path/to/folder\")\n",
    "#\n",
    "# collate_fn = DINOCollateFunction(solarization_prob = 0, hf_prob = 0,vf_prob = 0,rr_prob=0,cj_prob=0,random_gray_scale=0)\n",
    "#\n",
    "# dataloader = torch.utils.data.DataLoader(\n",
    "#     train_set,\n",
    "#     batch_size=64,\n",
    "#     collate_fn=collate_fn,\n",
    "#     shuffle=True,\n",
    "#     drop_last=True,\n",
    "#     num_workers=1,\n",
    "# )\n",
    "#\n",
    "# criterion = DINOLoss(\n",
    "#     output_dim=2048,\n",
    "#     warmup_teacher_temp_epochs=5,\n",
    "# )\n",
    "# # move loss to correct device because it also contains parameters\n",
    "# criterion = criterion.to(device)\n",
    "#\n",
    "# optimizer = torch.optim.Adam(model.parameters(), lr=0.001)\n",
    "#\n",
    "# epochs = 10\n",
    "#\n",
    "# print(\"Starting Training\")\n",
    "# for epoch in range(epochs):\n",
    "#     total_loss = 0\n",
    "#     momentum_val = cosine_schedule(epoch, epochs, 0.996, 1)\n",
    "#     for views, _, _ in tqdm(dataloader):\n",
    "#         update_momentum(model.student_backbone, model.teacher_backbone, m=momentum_val)\n",
    "#         update_momentum(model.student_head, model.teacher_head, m=momentum_val)\n",
    "#         views = [view.to(device) for view in views]\n",
    "#         global_views = views[:2]\n",
    "#         teacher_out = [model.forward_teacher(view) for view in global_views]\n",
    "#         student_out = [model.forward(view) for view in views]\n",
    "#         loss = criterion(teacher_out, student_out, epoch=epoch)\n",
    "#         total_loss += loss.detach()\n",
    "#         loss.backward()\n",
    "#         # We only cancel gradients of student head.\n",
    "#         model.student_head.cancel_last_layer_gradients(current_epoch=epoch)\n",
    "#         optimizer.step()\n",
    "#         optimizer.zero_grad()\n",
    "#\n",
    "#     avg_loss = total_loss / len(dataloader)\n",
    "#     print(f\"epoch: {epoch:>02}, loss: {avg_loss:.5f}\")"
   ],
   "metadata": {
    "collapsed": false
   }
  },
  {
   "cell_type": "code",
   "execution_count": null,
   "outputs": [],
   "source": [],
   "metadata": {
    "collapsed": false
   }
  },
  {
   "cell_type": "code",
   "execution_count": null,
   "outputs": [],
   "source": [
    "augmentation = T.Compose([\n",
    "    T.ToPILImage(),\n",
    "    T.Resize((256, 512), interpolation=T.InterpolationMode.NEAREST),\n",
    "    T.RandomApply([T.ColorJitter()], p=0.5),\n",
    "    T.RandomApply([T.GaussianBlur(kernel_size=(3, 3))], p=0.5),\n",
    "    T.RandomInvert(p=0.2),\n",
    "    T.RandomPosterize(4, p=0.2),\n",
    "])\n",
    "\n",
    "data = ictal_data_X[0]\n",
    "\n",
    "channel_index = np.arange(data.shape[0])\n",
    "np.random.shuffle(channel_index)\n",
    "data = data[channel_index]\n",
    "data = torch.from_numpy(data).clone()\n",
    "data = data.repeat(3, 1, 1)\n",
    "data = augmentation(data)\n",
    "data"
   ],
   "metadata": {
    "collapsed": false
   }
  },
  {
   "cell_type": "code",
   "execution_count": null,
   "outputs": [],
   "source": [
    "channel_index"
   ],
   "metadata": {
    "collapsed": false
   }
  },
  {
   "cell_type": "code",
   "execution_count": null,
   "outputs": [],
   "source": [
    "data[channel_index]"
   ],
   "metadata": {
    "collapsed": false
   }
  },
  {
   "cell_type": "code",
   "execution_count": null,
   "outputs": [],
   "source": [
    "data"
   ],
   "metadata": {
    "collapsed": false
   }
  },
  {
   "cell_type": "code",
   "execution_count": null,
   "outputs": [],
   "source": [
    "#\n",
    "# print(\"Starting Training\")\n",
    "# for epoch in range(50):\n",
    "#     total_loss = 0\n",
    "#     i = 0\n",
    "#     for batch, label in tqdm(dataloader):\n",
    "#         batch = batch.to(device)\n",
    "#         # print(type(batch))\n",
    "#         label = label.to(device)\n",
    "#         label = F.one_hot(label).squeeze()\n",
    "#         outputs = model(batch)\n",
    "#         loss = sigmoid_focal_loss(outputs.float(),label.float(), alpha = 0.25, gamma = 7,reduction = 'mean')\n",
    "#         total_loss += loss.detach()\n",
    "#         loss.backward()\n",
    "#         optimizer.step()\n",
    "#         optimizer.zero_grad()\n",
    "#\n",
    "#     avg_loss = total_loss / len(dataloader)\n",
    "#     torch.save({\n",
    "#             'epoch': epoch,\n",
    "#             'model_state_dict': model.state_dict(),\n",
    "#             'optimizer_state_dict': optimizer.state_dict(),\n",
    "#             'loss': avg_loss,\n",
    "#             }, 'ckpt/checkpoint'+str(epoch)+'.pth')\n",
    "#\n",
    "#     print(f\"epoch: {epoch:>02}, loss: {avg_loss:.5f}\")    "
   ],
   "metadata": {
    "collapsed": false
   }
  }
 ],
 "metadata": {
  "kernelspec": {
   "display_name": "Python 3",
   "language": "python",
   "name": "python3"
  },
  "language_info": {
   "codemirror_mode": {
    "name": "ipython",
    "version": 2
   },
   "file_extension": ".py",
   "mimetype": "text/x-python",
   "name": "python",
   "nbconvert_exporter": "python",
   "pygments_lexer": "ipython2",
   "version": "2.7.6"
  }
 },
 "nbformat": 4,
 "nbformat_minor": 0
}
