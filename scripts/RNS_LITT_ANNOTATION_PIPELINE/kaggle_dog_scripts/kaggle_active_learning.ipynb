{
 "cells": [
  {
   "cell_type": "code",
   "execution_count": 1,
   "metadata": {
    "ExecuteTime": {
     "start_time": "2023-10-26T13:08:07.112458Z",
     "end_time": "2023-10-26T13:08:07.918189Z"
    }
   },
   "outputs": [],
   "source": [
    "%load_ext autoreload\n",
    "%autoreload 2\n",
    "%matplotlib widget"
   ]
  },
  {
   "cell_type": "code",
   "execution_count": 2,
   "metadata": {
    "ExecuteTime": {
     "start_time": "2023-10-26T13:08:07.920191Z",
     "end_time": "2023-10-26T13:08:12.386106Z"
    }
   },
   "outputs": [],
   "source": [
    "import numpy as np\n",
    "import random\n",
    "import sys\n",
    "sys.path.append('../tools')\n",
    "\n",
    "\n",
    "from sklearn.model_selection import train_test_split\n",
    "from models.kaggle_dog_dataloader import *\n",
    "from active_learning_utility import get_strategy\n",
    "from active_learning_data import Data\n",
    "from active_learning_net import Net\n",
    "from models.kaggle_dog_dataloader import ActiveDataHandler\n",
    "from copy import deepcopy\n",
    "from models.SwaV import SwaV\n",
    "from models.SupervisedDownstream import SupervisedDownstream\n",
    "import warnings\n",
    "\n",
    "warnings.filterwarnings(\"ignore\", \".*Consider increasing the value of the `num_workers` argument*\")\n",
    "warnings.filterwarnings(\"ignore\", \".*Set a lower value for log_every_n_steps if you want to see logs for the training epoch*\")"
   ]
  },
  {
   "cell_type": "code",
   "execution_count": 3,
   "metadata": {
    "ExecuteTime": {
     "start_time": "2023-10-26T13:08:12.386106Z",
     "end_time": "2023-10-26T13:08:12.817498Z"
    }
   },
   "outputs": [],
   "source": [
    "data_dir = \"../../../user_data/competition_data/clips\"\n",
    "log_folder_root = '../../../user_data/logs/'\n",
    "ckpt_folder_root = '../../../user_data/checkpoints/'\n",
    "strategy_name = 'VarRatio'\n",
    "\n",
    "targets = [\n",
    "    'Dog_1',\n",
    "    'Dog_2',\n",
    "    'Dog_3',\n",
    "    'Dog_4',\n",
    "]\n",
    "\n",
    "# set the pipeline to be deterministic\n",
    "random_seed = 42\n",
    "torch.manual_seed(random_seed)\n",
    "np.random.seed(random_seed)\n",
    "determine_generator = torch.Generator()\n",
    "determine_generator.manual_seed(random_seed)\n",
    "\n",
    "if torch.cuda.is_available():\n",
    "    torch.cuda.manual_seed(random_seed)\n",
    "    # True ensures the algorithm selected by CUFA is deterministic\n",
    "    torch.backends.cudnn.deterministic = True\n",
    "    # torch.set_deterministic(True)\n",
    "    # False ensures CUDA select the same algorithm each time the application is run\n",
    "    torch.backends.cudnn.benchmark = False"
   ]
  },
  {
   "cell_type": "code",
   "execution_count": 4,
   "outputs": [],
   "source": [
    "nStart = 3.7\n",
    "nEnd = 15\n",
    "nQuery = 1"
   ],
   "metadata": {
    "collapsed": false,
    "ExecuteTime": {
     "start_time": "2023-10-26T13:08:12.818500Z",
     "end_time": "2023-10-26T13:08:13.215861Z"
    }
   }
  },
  {
   "cell_type": "code",
   "execution_count": 5,
   "outputs": [],
   "source": [
    "args_task = {'n_epoch': 100,\n",
    "             'transform_train': True,\n",
    "             'strategy_name': strategy_name,\n",
    "             'transform': False,\n",
    "             'loader_tr_args': {'batch_size': 256, 'num_workers': 0, 'collate_fn': collate_fn,\n",
    "                                'drop_last': True},\n",
    "             'loader_te_args': {'batch_size': 256, 'num_workers': 0, 'collate_fn': collate_fn,\n",
    "                                'drop_last': True}\n",
    "             }"
   ],
   "metadata": {
    "collapsed": false,
    "ExecuteTime": {
     "start_time": "2023-10-26T13:08:13.217862Z",
     "end_time": "2023-10-26T13:08:13.630239Z"
    }
   }
  },
  {
   "cell_type": "code",
   "execution_count": 6,
   "outputs": [
    {
     "name": "stdout",
     "output_type": "stream",
     "text": [
      "Loading data\n",
      "(0s)\n",
      "X (178, 16, 400) y (178,) latencies (178,)\n",
      "Loading data\n",
      "(0s)\n",
      "X (172, 16, 400) y (172,) latencies (172,)\n",
      "Loading data\n",
      "(0s)\n",
      "X (480, 16, 400) y (480,) latencies (480,)\n",
      "Loading data\n",
      "(0s)\n",
      "X (257, 16, 400) y (257,) latencies (257,)\n",
      "Loading data\n",
      "(0s)\n",
      "X (418, 16, 400) y (418,)\n",
      "Loading data\n",
      "(0s)\n",
      "X (1148, 16, 400) y (1148,)\n",
      "Loading data\n",
      "(2s)\n",
      "X (4760, 16, 400) y (4760,)\n",
      "Loading data\n",
      "(1s)\n",
      "X (2790, 16, 400) y (2790,)\n",
      "(10203, 16, 400)\n",
      "264\n",
      "71\n",
      "12\n"
     ]
    }
   ],
   "source": [
    "data, label = load_annotated_data(data_dir, targets)\n",
    "X_train, X_test, y_train, y_test = train_test_split(data, label, test_size=0.30, random_state=random_seed)\n",
    "\n",
    "n_pool = len(y_train)\n",
    "n_test = len(y_test)\n",
    "NUM_INIT_LB = int(nStart * n_pool / 100)\n",
    "NUM_QUERY = int(nQuery * n_pool / 100) if nStart != 100 else 0\n",
    "NUM_ROUND = int((int(nEnd * n_pool / 100) - NUM_INIT_LB) / NUM_QUERY) if nStart != 100 else 0\n",
    "if NUM_QUERY != 0:\n",
    "    if (int(nEnd * n_pool / 100) - NUM_INIT_LB) % NUM_QUERY != 0:\n",
    "        NUM_ROUND += 1\n",
    "\n",
    "print(NUM_INIT_LB)\n",
    "print(NUM_QUERY)\n",
    "print(NUM_ROUND)"
   ],
   "metadata": {
    "collapsed": false,
    "ExecuteTime": {
     "start_time": "2023-10-26T13:08:15.537970Z",
     "end_time": "2023-10-26T13:08:23.571716Z"
    }
   }
  },
  {
   "cell_type": "code",
   "execution_count": null,
   "metadata": {
    "ExecuteTime": {
     "start_time": "2023-10-26T00:28:55.255704Z",
     "end_time": "2023-10-26T00:28:55.602019Z"
    }
   },
   "outputs": [],
   "source": [
    "dataset = Data(X_train, y_train, X_test, y_test, ActiveDataHandler, args_task)"
   ]
  },
  {
   "cell_type": "code",
   "execution_count": null,
   "metadata": {
    "ExecuteTime": {
     "start_time": "2023-10-26T00:28:55.603019Z",
     "end_time": "2023-10-26T00:28:56.795105Z"
    }
   },
   "outputs": [],
   "source": [
    "swav = SwaV().load_from_checkpoint(\n",
    "    ckpt_folder_root + 'kaggle_dog_swav_34/kaggle_dog_swav-epoch=116-swav_loss=2.73583.ckpt')\n",
    "model = SupervisedDownstream(swav.backbone)\n",
    "# initialize model and save the model state\n",
    "modelstate = deepcopy(model.state_dict())\n",
    "device = \"cuda\" if torch.cuda.is_available() else \"cpu\"\n",
    "net = Net(model, args_task, device)"
   ]
  },
  {
   "cell_type": "code",
   "execution_count": null,
   "metadata": {
    "ExecuteTime": {
     "start_time": "2023-10-26T00:28:56.795105Z",
     "end_time": "2023-10-26T00:28:57.141420Z"
    }
   },
   "outputs": [],
   "source": [
    "strategy = get_strategy(strategy_name, dataset, net, None, args_task)"
   ]
  },
  {
   "cell_type": "code",
   "execution_count": null,
   "outputs": [],
   "source": [
    "# initial round of training, round 0\n",
    "dataset.initialize_labels(NUM_INIT_LB)\n",
    "strategy.train()"
   ],
   "metadata": {
    "collapsed": false,
    "ExecuteTime": {
     "start_time": "2023-10-26T00:28:57.141420Z",
     "end_time": "2023-10-26T00:33:39.751831Z"
    }
   }
  },
  {
   "cell_type": "code",
   "execution_count": null,
   "outputs": [],
   "source": [
    "for rd in range(1, NUM_ROUND +1):\n",
    "    print('round ' + str(rd))\n",
    "    q_idxs = strategy.query(NUM_QUERY)\n",
    "    strategy.update(q_idxs)\n",
    "    strategy.net.round = rd\n",
    "    strategy.net.net.load_state_dict(modelstate)\n",
    "    strategy.train(     )"
   ],
   "metadata": {
    "collapsed": false,
    "ExecuteTime": {
     "start_time": "2023-10-26T00:33:39.752832Z",
     "end_time": "2023-10-26T02:13:34.423938Z"
    }
   }
  }
 ],
 "metadata": {
  "kernelspec": {
   "display_name": "Python 3",
   "language": "python",
   "name": "python3"
  },
  "language_info": {
   "codemirror_mode": {
    "name": "ipython",
    "version": 3
   },
   "file_extension": ".py",
   "mimetype": "text/x-python",
   "name": "python",
   "nbconvert_exporter": "python",
   "pygments_lexer": "ipython3",
   "version": "3.8.8"
  }
 },
 "nbformat": 4,
 "nbformat_minor": 1
}
