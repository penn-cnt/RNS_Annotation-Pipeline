{
 "cells": [
  {
   "cell_type": "code",
   "execution_count": null,
   "metadata": {
    "ExecuteTime": {
     "start_time": "2023-11-13T15:32:49.894971Z",
     "end_time": "2023-11-13T15:32:50.326715Z"
    }
   },
   "outputs": [],
   "source": [
    "%load_ext autoreload\n",
    "%autoreload 2\n",
    "%matplotlib widget"
   ]
  },
  {
   "cell_type": "code",
   "execution_count": null,
   "metadata": {
    "ExecuteTime": {
     "start_time": "2023-11-13T15:10:27.679350Z",
     "end_time": "2023-11-13T15:32:50.728436Z"
    }
   },
   "outputs": [],
   "source": [
    "import numpy as np\n",
    "import random\n",
    "import sys\n",
    "sys.path.append('../tools')\n",
    "\n",
    "import os\n",
    "\n",
    "import torch\n",
    "\n",
    "import pandas as pd\n",
    "from sklearn.model_selection import train_test_split\n",
    "import pytorch_lightning as pl\n",
    "import pytorch_lightning.loggers as pl_loggers\n",
    "import pytorch_lightning.callbacks as pl_callbacks\n",
    "import data_utility, annotation_utility\n",
    "from models.rns_dataloader import *\n",
    "from active_learning_utility import get_strategy\n",
    "from active_learning_data import Data\n",
    "from active_learning_net import Net\n",
    "from copy import deepcopy\n",
    "from models.SwaV import SwaV\n",
    "from models.SupervisedDownstream import SupervisedDownstream\n",
    "import warnings\n",
    "\n",
    "warnings.filterwarnings(\"ignore\", \".*Consider increasing the value of the `num_workers` argument*\")\n",
    "warnings.filterwarnings(\"ignore\", \".*Set a lower value for log_every_n_steps if you want to see logs for the training epoch*\")"
   ]
  },
  {
   "cell_type": "code",
   "execution_count": null,
   "metadata": {
    "ExecuteTime": {
     "start_time": "2023-11-13T15:10:27.729353Z",
     "end_time": "2023-11-13T15:32:51.135512Z"
    }
   },
   "outputs": [
    {
     "name": "stderr",
     "output_type": "stream",
     "text": [
      "Global seed set to 42\n"
     ]
    },
    {
     "data": {
      "text/plain": "42"
     },
     "execution_count": 2,
     "metadata": {},
     "output_type": "execute_result"
    },
    {
     "name": "stderr",
     "output_type": "stream",
     "text": [
      "Global seed set to 42\n"
     ]
    },
    {
     "data": {
      "text/plain": "42"
     },
     "execution_count": 23,
     "metadata": {},
     "output_type": "execute_result"
    }
   ],
   "source": [
    "random_seed = 42\n",
    "random.seed(random_seed)\n",
    "torch.manual_seed(random_seed)\n",
    "np.random.seed(random_seed)\n",
    "\n",
    "if torch.cuda.is_available():\n",
    "    torch.cuda.manual_seed(random_seed)\n",
    "    # True ensures the algorithm selected by CUFA is deterministic\n",
    "    torch.backends.cudnn.deterministic = True\n",
    "    # torch.set_deterministic(True)\n",
    "    # False ensures CUDA select the same algorithm each time the application is run\n",
    "    torch.backends.cudnn.benchmark = False\n",
    "\n",
    "import pytorch_lightning\n",
    "pytorch_lightning.utilities.seed.seed_everything(seed=random_seed, workers=True)"
   ]
  },
  {
   "cell_type": "code",
   "execution_count": null,
   "metadata": {
    "ExecuteTime": {
     "start_time": "2023-11-13T15:10:27.729353Z",
     "end_time": "2023-11-13T15:32:51.546137Z"
    }
   },
   "outputs": [],
   "source": [
    "data_dir = \"../../../user_data/\"\n",
    "log_folder_root = '../../../user_data/logs/'\n",
    "ckpt_folder_root = '../../../user_data/checkpoints/'"
   ]
  },
  {
   "cell_type": "code",
   "execution_count": null,
   "metadata": {
    "ExecuteTime": {
     "start_time": "2023-11-13T15:10:27.739354Z",
     "end_time": "2023-11-13T15:32:51.973223Z"
    }
   },
   "outputs": [],
   "source": [
    "strategy_name = 'LeastConfidence'"
   ]
  },
  {
   "cell_type": "code",
   "execution_count": null,
   "metadata": {
    "ExecuteTime": {
     "start_time": "2023-11-13T15:10:27.749355Z",
     "end_time": "2023-11-13T15:32:52.358053Z"
    }
   },
   "outputs": [],
   "source": [
    "nStart = 1\n",
    "nEnd = 20\n",
    "nQuery = 2"
   ]
  },
  {
   "cell_type": "code",
   "execution_count": null,
   "metadata": {
    "ExecuteTime": {
     "start_time": "2023-11-13T15:10:27.780426Z",
     "end_time": "2023-11-13T15:32:52.761966Z"
    }
   },
   "outputs": [],
   "source": [
    "args_task = {'n_epoch': 100,\n",
    "             'transform_train': True,\n",
    "             'strategy_name': strategy_name,\n",
    "             'transform': False,\n",
    "             'loader_tr_args': {'batch_size': 256, 'num_workers': 2, 'collate_fn': collate_fn,\n",
    "                                'drop_last': True,},\n",
    "             'loader_te_args': {'batch_size': 256, 'num_workers': 4, 'collate_fn': collate_fn,\n",
    "                                'drop_last': True,}\n",
    "             }"
   ]
  },
  {
   "cell_type": "code",
   "execution_count": null,
   "metadata": {
    "ExecuteTime": {
     "start_time": "2023-11-13T15:10:27.780426Z",
     "end_time": "2023-11-13T15:32:53.166990Z"
    }
   },
   "outputs": [],
   "source": [
    "# raw_annotations = pd.read_csv(data_dir + 'full_updated_anns_annotTbl_cleaned.csv')\n",
    "# ids = list(np.unique(raw_annotations[raw_annotations['descriptions'].notnull()]['HUP_ID']))\n",
    "# # ids = list(np.unique(raw_annotations['HUP_ID']))\n",
    "#\n",
    "# data_import = data_utility.read_files(path=data_dir+'rns_data', path_data=data_dir+'rns_raw_cache', patientIDs=ids,\n",
    "#                                       verbose=True)  # Import data with annotation"
   ]
  },
  {
   "cell_type": "code",
   "execution_count": null,
   "metadata": {
    "ExecuteTime": {
     "start_time": "2023-11-13T15:10:42.719512Z",
     "end_time": "2023-11-13T15:33:08.960529Z"
    }
   },
   "outputs": [
    {
     "name": "stderr",
     "output_type": "stream",
     "text": [
      "100%|██████████| 16/16 [00:14<00:00,  1.09it/s]"
     ]
    },
    {
     "name": "stdout",
     "output_type": "stream",
     "text": [
      "(86197, 249, 36)\n",
      "(86197,)\n",
      "(21556, 249, 36)\n",
      "(21556,)\n"
     ]
    },
    {
     "name": "stderr",
     "output_type": "stream",
     "text": [
      "\n",
      "100%|██████████| 16/16 [00:15<00:00,  1.06it/s]"
     ]
    },
    {
     "name": "stdout",
     "output_type": "stream",
     "text": [
      "(86197, 249, 36)\n",
      "(86197,)\n",
      "(21556, 249, 36)\n",
      "(21556,)\n"
     ]
    },
    {
     "name": "stderr",
     "output_type": "stream",
     "text": [
      "\n"
     ]
    }
   ],
   "source": [
    "# data_list = os.listdir(data_dir+'rns_test_cache')\n",
    "# print(data_list)\n",
    "data_list = ['HUP047.npy', 'HUP084.npy', 'HUP096.npy', 'HUP109.npy', 'HUP121.npy', 'HUP129.npy', 'HUP131.npy',\n",
    "             'HUP137.npy', 'HUP147.npy', 'HUP156.npy', 'HUP159.npy', 'HUP182.npy', 'HUP197.npy', 'HUP199.npy',\n",
    "             'RNS026.npy', 'RNS029.npy']\n",
    "X_train, y_train, X_test, y_test, index_train, index_test  = get_data(data_list, split=0.8)\n",
    "# data, label,_,_ = get_data(data_list, split=1)\n",
    "# train_data, test_data, train_label, test_label = sklearn.model_selection.train_test_split(data, label, test_size=0.8, random_state=42)\n",
    "\n",
    "print(X_train.shape)\n",
    "print(y_train.shape)\n",
    "print(X_test.shape)\n",
    "print(y_test.shape)"
   ]
  },
  {
   "cell_type": "code",
   "execution_count": null,
   "metadata": {
    "ExecuteTime": {
     "start_time": "2023-11-13T15:10:42.749511Z",
     "end_time": "2023-11-13T15:33:09.337318Z"
    }
   },
   "outputs": [
    {
     "name": "stdout",
     "output_type": "stream",
     "text": [
      "861\n",
      "1723\n",
      "10\n",
      "861\n",
      "1723\n",
      "10\n"
     ]
    }
   ],
   "source": [
    "n_pool = len(y_train)\n",
    "n_test = len(y_test)\n",
    "\n",
    "NUM_INIT_LB = int(nStart * n_pool / 100)\n",
    "NUM_QUERY = int(nQuery * n_pool / 100) if nStart != 100 else 0\n",
    "NUM_ROUND = int((int(nEnd * n_pool / 100) - NUM_INIT_LB) / NUM_QUERY) if nStart != 100 else 0\n",
    "if NUM_QUERY != 0:\n",
    "    if (int(nEnd * n_pool / 100) - NUM_INIT_LB) % NUM_QUERY != 0:\n",
    "        NUM_ROUND += 1\n",
    "\n",
    "print(NUM_INIT_LB)\n",
    "print(NUM_QUERY)\n",
    "print(NUM_ROUND)"
   ]
  },
  {
   "cell_type": "code",
   "execution_count": null,
   "metadata": {
    "ExecuteTime": {
     "start_time": "2023-11-13T15:10:42.810623Z",
     "end_time": "2023-11-13T15:33:09.861729Z"
    }
   },
   "outputs": [],
   "source": [
    "dataset = Data(X_train, y_train, X_test, y_test, RNS_Downstream, args_task)"
   ]
  },
  {
   "cell_type": "code",
   "execution_count": null,
   "metadata": {
    "ExecuteTime": {
     "start_time": "2023-11-13T15:10:43.524386Z",
     "end_time": "2023-11-13T15:33:10.922011Z"
    }
   },
   "outputs": [],
   "source": [
    "swav = SwaV().load_from_checkpoint(\n",
    "    ckpt_folder_root + 'rns_swav_50_12/rns_swav-epoch=82-swav_loss=2.58204.ckpt')\n",
    "model = SupervisedDownstream(swav.backbone)\n",
    "# initialize model and save the model state\n",
    "modelstate = deepcopy(model.state_dict())\n",
    "device = \"cuda\" if torch.cuda.is_available() else \"cpu\"\n",
    "\n",
    "\n",
    "net = Net(model, args_task, device, ckpt_folder_root = 'rns_active', log_folder_root = 'rns_active')"
   ]
  },
  {
   "cell_type": "code",
   "execution_count": null,
   "metadata": {
    "ExecuteTime": {
     "start_time": "2023-11-13T15:10:43.534386Z",
     "end_time": "2023-11-13T15:33:11.572559Z"
    }
   },
   "outputs": [],
   "source": [
    "strategy = get_strategy(strategy_name, dataset, net, None, args_task)"
   ]
  },
  {
   "cell_type": "code",
   "execution_count": null,
   "metadata": {
    "ExecuteTime": {
     "start_time": "2023-11-13T15:27:51.866096Z",
     "end_time": "2023-11-13T15:34:08.227181Z"
    }
   },
   "outputs": [
    {
     "name": "stderr",
     "output_type": "stream",
     "text": [
      "Using 16bit native Automatic Mixed Precision (AMP)\n",
      "GPU available: True (cuda), used: True\n",
      "TPU available: False, using: 0 TPU cores\n",
      "IPU available: False, using: 0 IPUs\n",
      "HPU available: False, using: 0 HPUs\n",
      "C:\\Users\\Patrick Xu\\AppData\\Local\\Programs\\Python\\Python310\\lib\\site-packages\\pytorch_lightning\\callbacks\\model_checkpoint.py:616: UserWarning: Checkpoint directory C:\\Users\\Patrick Xu\\Desktop\\RNS_Annotation-Pipeline\\user_data\\checkpoints\\rns_active\\active_checkpoints_LeastConfidence exists and is not empty.\n",
      "  rank_zero_warn(f\"Checkpoint directory {dirpath} exists and is not empty.\")\n",
      "LOCAL_RANK: 0 - CUDA_VISIBLE_DEVICES: [0]\n"
     ]
    },
    {
     "name": "stdout",
     "output_type": "stream",
     "text": [
      "[226, 265, 342, 347, 379, 618, 632, 712, 957, 1003, 1424, 1638, 1841, 2212, 2220, 2225, 2267, 2320, 2449, 2493, 2513, 2544, 2605, 2623, 2685, 2740, 2833, 3050, 3137, 3342, 3502, 3711, 3780, 3804, 4079, 4162, 4272, 4363, 4402, 4472, 4505, 4635, 5012, 5040, 5058, 5069, 5173, 5442, 5453, 5604, 5676, 5866, 5923, 6084, 6459, 6649, 6660, 6662, 6729, 6924, 6956, 7024, 7389, 7478, 7625, 7968, 8131, 8158, 8225, 8296, 8344, 8473, 8854, 8879, 9030, 9249, 9639, 9652, 9724, 9887, 9945, 10085, 10164, 10182, 10262, 10365, 10399, 10463, 10530, 10574, 10593, 10762, 10803, 10815, 11128, 11425, 11597, 11619, 11622, 11751, 11791, 11980, 12042, 12143, 12266, 12450, 12469, 12520, 12582, 12635, 12684, 12691, 12928, 12945, 13022, 13076, 13108, 13132, 13143, 13567, 13694, 13956, 14005, 14117, 14131, 14452, 14475, 14579, 14644, 14813, 15113, 15199, 15267, 15323, 15351, 15371, 15497, 15618, 15697, 15722, 15736, 15844, 16160, 16252, 16275, 16443, 16458, 16467, 16525, 16540, 16754, 16764, 17002, 17147, 17262, 17376, 17417, 17449, 17567, 17613, 17635, 17742, 18029, 18301, 18545, 18661, 18698, 18734, 18775, 19057, 19090, 19117, 19277, 19331, 19524, 19746, 19837, 19842, 19921, 20174, 20181, 20182, 20322, 20451, 20648, 20690, 20725, 20761, 20844, 20928, 20942, 21030, 21056, 21107, 21147, 21436, 21456, 21482, 21504, 21608, 21844, 21915, 21929, 22004, 22039, 22143, 22279, 22308, 22598, 22640, 22782, 22992, 23282, 23338, 23343, 23381, 23435, 23743, 23800, 23822, 23839, 23843, 23944, 23957, 24025, 24164, 24187, 24334, 24364, 24404, 24595, 24607, 24888, 24915, 24924, 24994, 25129, 25142, 25202, 25238, 25459, 25468, 25605, 25783, 25843, 25867, 25950, 25984, 25994, 26212, 26383, 26438, 26535, 26566, 27093, 27123, 27155, 27343, 27496, 27604, 27680, 27715, 27852, 28097, 28178, 28238, 28366, 28609, 28676, 28726, 28886, 28988, 29128, 29167, 29322, 29395, 29525, 29536, 29578, 29636, 29643, 29650, 29769, 29816, 29820, 29883, 30147, 30186, 30256, 30277, 30404, 30582, 30623, 30828, 30864, 30878, 31042, 31278, 31380, 31400, 31414, 31605, 31694, 31714, 31787, 32064, 32075, 32178, 32367, 32417, 32422, 32511, 32560, 32585, 32589, 32590, 32713, 32732, 32824, 32838, 33011, 33212, 33219, 33311, 33369, 33511, 33812, 33833, 33969, 34179, 34188, 34287, 34290, 34316, 34344, 34504, 34605, 34685, 34788, 35026, 35029, 35197, 35199, 35279, 35370, 35390, 35417, 35626, 35769, 35962, 36058, 36239, 36358, 36411, 36456, 36571, 36799, 36863, 36887, 36961, 37414, 37688, 37779, 37791, 37973, 38043, 38204, 38455, 38525, 38604, 38788, 38978, 39068, 39096, 39111, 39221, 39439, 39463, 39568, 39608, 39655, 39663, 39900, 39923, 39926, 39973, 40055, 40233, 40269, 40471, 40590, 40595, 40605, 40668, 40871, 40907, 40929, 40976, 41399, 41454, 41537, 41595, 41642, 41774, 41804, 41892, 42102, 42123, 42190, 42212, 42439, 42499, 42535, 42560, 43029, 43149, 43156, 43287, 43431, 43542, 43590, 43621, 43650, 43689, 43697, 44157, 44184, 44288, 44311, 44468, 44487, 44551, 44591, 44620, 44642, 44805, 44914, 45453, 45660, 45731, 45773, 45792, 45818, 45921, 46133, 46143, 46329, 46367, 46375, 46605, 46968, 47053, 47186, 47386, 47412, 47438, 47556, 47616, 47706, 47895, 47955, 48035, 48084, 48150, 48236, 48305, 48350, 48915, 48930, 49235, 49394, 49441, 49758, 49767, 49913, 49972, 50001, 50038, 50159, 50190, 50195, 50239, 50308, 50359, 50394, 50456, 50556, 50678, 50947, 50951, 50958, 51079, 51183, 51286, 51336, 51409, 51692, 51735, 51935, 52013, 52064, 52178, 52500, 52548, 52619, 52806, 52862, 52952, 53246, 53457, 53514, 53581, 53683, 53697, 53718, 53877, 53908, 54121, 54255, 54529, 54539, 54571, 54609, 54747, 54864, 54893, 54981, 54990, 55023, 55151, 55213, 55237, 55299, 55418, 55456, 55573, 55580, 55737, 55861, 55931, 55960, 56032, 56112, 56201, 56212, 56292, 56347, 56385, 56458, 56495, 56611, 56777, 56796, 56932, 57037, 57136, 57289, 57406, 57567, 57571, 57595, 57835, 57847, 58087, 58167, 58198, 58206, 58227, 58248, 58484, 58561, 58586, 58874, 58878, 58922, 59017, 59511, 59554, 59617, 59657, 59760, 59874, 59911, 60097, 60152, 60298, 60339, 60368, 60724, 60770, 60927, 61004, 61043, 61053, 61200, 61420, 61656, 61732, 61835, 61840, 62062, 62135, 62181, 62266, 62271, 62334, 62418, 62902, 63007, 63086, 63366, 63385, 63544, 63929, 63962, 64024, 64029, 64088, 64147, 64287, 64391, 64547, 64607, 64672, 64676, 64690, 64744, 64798, 65011, 65059, 65176, 65202, 65368, 65399, 65491, 65695, 65731, 65928, 66080, 66297, 66802, 66880, 66952, 66990, 67284, 67341, 67513, 67535, 67678, 67715, 67716, 67749, 67817, 67881, 67937, 67961, 68224, 68272, 68292, 68463, 68594, 68613, 68736, 68850, 68939, 68948, 69054, 69111, 69242, 69344, 69352, 69502, 69682, 69704, 69717, 69780, 69864, 69927, 69986, 70039, 70058, 70220, 70282, 70396, 70416, 70602, 70670, 70783, 70906, 70947, 71090, 71097, 71503, 71530, 71562, 71572, 71645, 71813, 71965, 72224, 72236, 72278, 72493, 72620, 72726, 72757, 72863, 72889, 72913, 72923, 72927, 72987, 73005, 73041, 73152, 73189, 73229, 73326, 73357, 73518, 73667, 73797, 73896, 74023, 74340, 74526, 74551, 74583, 74665, 74841, 74933, 75134, 75138, 75194, 75649, 75823, 75872, 75879, 76068, 76074, 76128, 76194, 76318, 76326, 76338, 76353, 76493, 76536, 76585, 76765, 76888, 76889, 76948, 76967, 77105, 77310, 77385, 77459, 77498, 77590, 77678, 77682, 77687, 77690, 77884, 77930, 77944, 78010, 78016, 78026, 78084, 78126, 78397, 78606, 78643, 78654, 78718, 78820, 79029, 79033, 79091, 79157, 79244, 79287, 79367, 79568, 79608, 79654, 79782, 79815, 79850, 79871, 80151, 80153, 80669, 80734, 80908, 80955, 81066, 81080, 81096, 81098, 81197, 81275, 81349, 81358, 81448, 81713, 81745, 81765, 81776, 81843, 81916, 81990, 82003, 82073, 82085, 82162, 82174, 82232, 82282, 82307, 82439, 82540, 82543, 82661, 82831, 82941, 82993, 83002, 83023, 83060, 83151, 83169, 83178, 83289, 83392, 83515, 83554, 83610, 83738, 83776, 83820, 83900, 83916, 84444, 84611, 84693, 84694, 84701, 84865, 84912, 84979, 85243, 85476, 85498, 85630, 85640, 85840, 85899, 86061]\n",
      "data loaded\n",
      "(861, 249, 36)\n",
      "(861,)\n",
      "data loaded\n",
      "(21556, 249, 36)\n",
      "(21556,)\n"
     ]
    },
    {
     "data": {
      "text/plain": "Sanity Checking: 0it [00:00, ?it/s]",
      "application/vnd.jupyter.widget-view+json": {
       "version_major": 2,
       "version_minor": 0,
       "model_id": "bc0efd809b164b6685143f97130d2702"
      }
     },
     "metadata": {},
     "output_type": "display_data"
    },
    {
     "data": {
      "text/plain": "Training: 0it [00:00, ?it/s]",
      "application/vnd.jupyter.widget-view+json": {
       "version_major": 2,
       "version_minor": 0,
       "model_id": "9d5feb590aa947b8969b70431ae2faa1"
      }
     },
     "metadata": {},
     "output_type": "display_data"
    },
    {
     "data": {
      "text/plain": "Validation: 0it [00:00, ?it/s]",
      "application/vnd.jupyter.widget-view+json": {
       "version_major": 2,
       "version_minor": 0,
       "model_id": "ae58ee5c862f4bd293b326232728bc52"
      }
     },
     "metadata": {},
     "output_type": "display_data"
    },
    {
     "data": {
      "text/plain": "Validation: 0it [00:00, ?it/s]",
      "application/vnd.jupyter.widget-view+json": {
       "version_major": 2,
       "version_minor": 0,
       "model_id": "78c2fa3ec3a0439491205f1e48ed1d0e"
      }
     },
     "metadata": {},
     "output_type": "display_data"
    },
    {
     "data": {
      "text/plain": "Validation: 0it [00:00, ?it/s]",
      "application/vnd.jupyter.widget-view+json": {
       "version_major": 2,
       "version_minor": 0,
       "model_id": "7f41d82658964e91b651f4a2819c55eb"
      }
     },
     "metadata": {},
     "output_type": "display_data"
    },
    {
     "data": {
      "text/plain": "Validation: 0it [00:00, ?it/s]",
      "application/vnd.jupyter.widget-view+json": {
       "version_major": 2,
       "version_minor": 0,
       "model_id": "ab68bfab111f412a91122a2c4c4a6b75"
      }
     },
     "metadata": {},
     "output_type": "display_data"
    },
    {
     "data": {
      "text/plain": "Validation: 0it [00:00, ?it/s]",
      "application/vnd.jupyter.widget-view+json": {
       "version_major": 2,
       "version_minor": 0,
       "model_id": "b9f7e4782d9b4f308cb1ce15de3d2619"
      }
     },
     "metadata": {},
     "output_type": "display_data"
    },
    {
     "data": {
      "text/plain": "Validation: 0it [00:00, ?it/s]",
      "application/vnd.jupyter.widget-view+json": {
       "version_major": 2,
       "version_minor": 0,
       "model_id": "34c1c4d3d60e4b6892116f6084c81290"
      }
     },
     "metadata": {},
     "output_type": "display_data"
    },
    {
     "data": {
      "text/plain": "Validation: 0it [00:00, ?it/s]",
      "application/vnd.jupyter.widget-view+json": {
       "version_major": 2,
       "version_minor": 0,
       "model_id": "a179ed26429a40e4a3026e51ac4a7339"
      }
     },
     "metadata": {},
     "output_type": "display_data"
    },
    {
     "data": {
      "text/plain": "Validation: 0it [00:00, ?it/s]",
      "application/vnd.jupyter.widget-view+json": {
       "version_major": 2,
       "version_minor": 0,
       "model_id": "7d3ef0bcf23844caa3ce9bf470118ce5"
      }
     },
     "metadata": {},
     "output_type": "display_data"
    },
    {
     "data": {
      "text/plain": "Validation: 0it [00:00, ?it/s]",
      "application/vnd.jupyter.widget-view+json": {
       "version_major": 2,
       "version_minor": 0,
       "model_id": "6559f3a3522a4dd0a41e0755bff31a7f"
      }
     },
     "metadata": {},
     "output_type": "display_data"
    },
    {
     "data": {
      "text/plain": "Validation: 0it [00:00, ?it/s]",
      "application/vnd.jupyter.widget-view+json": {
       "version_major": 2,
       "version_minor": 0,
       "model_id": "ee0043e4f4064bd9be487867af76275d"
      }
     },
     "metadata": {},
     "output_type": "display_data"
    },
    {
     "name": "stderr",
     "output_type": "stream",
     "text": [
      "`Trainer.fit` stopped: `max_epochs=100` reached.\n",
      "Using 16bit native Automatic Mixed Precision (AMP)\n",
      "GPU available: True (cuda), used: True\n",
      "TPU available: False, using: 0 TPU cores\n",
      "IPU available: False, using: 0 IPUs\n",
      "HPU available: False, using: 0 HPUs\n",
      "C:\\Users\\Patrick Xu\\AppData\\Local\\Programs\\Python\\Python310\\lib\\site-packages\\pytorch_lightning\\callbacks\\model_checkpoint.py:616: UserWarning: Checkpoint directory C:\\Users\\Patrick Xu\\Desktop\\RNS_Annotation-Pipeline\\user_data\\checkpoints\\rns_active\\active_checkpoints_LeastConfidence exists and is not empty.\n",
      "  rank_zero_warn(f\"Checkpoint directory {dirpath} exists and is not empty.\")\n",
      "LOCAL_RANK: 0 - CUDA_VISIBLE_DEVICES: [0]\n"
     ]
    },
    {
     "name": "stdout",
     "output_type": "stream",
     "text": [
      "[226, 265, 342, 347, 379, 618, 632, 712, 957, 1003, 1424, 1638, 1841, 2212, 2220, 2225, 2267, 2320, 2449, 2493, 2513, 2544, 2605, 2623, 2685, 2740, 2833, 3050, 3137, 3342, 3502, 3711, 3780, 3804, 4079, 4162, 4272, 4363, 4402, 4472, 4505, 4635, 5012, 5040, 5058, 5069, 5173, 5442, 5453, 5604, 5676, 5866, 5923, 6084, 6459, 6649, 6660, 6662, 6729, 6924, 6956, 7024, 7389, 7478, 7625, 7968, 8131, 8158, 8225, 8296, 8344, 8473, 8854, 8879, 9030, 9249, 9639, 9652, 9724, 9887, 9945, 10085, 10164, 10182, 10262, 10365, 10399, 10463, 10530, 10574, 10593, 10762, 10803, 10815, 11128, 11425, 11597, 11619, 11622, 11751, 11791, 11980, 12042, 12143, 12266, 12450, 12469, 12520, 12582, 12635, 12684, 12691, 12928, 12945, 13022, 13076, 13108, 13132, 13143, 13567, 13694, 13956, 14005, 14117, 14131, 14452, 14475, 14579, 14644, 14813, 15113, 15199, 15267, 15323, 15351, 15371, 15497, 15618, 15697, 15722, 15736, 15844, 16160, 16252, 16275, 16443, 16458, 16467, 16525, 16540, 16754, 16764, 17002, 17147, 17262, 17376, 17417, 17449, 17567, 17613, 17635, 17742, 18029, 18301, 18545, 18661, 18698, 18734, 18775, 19057, 19090, 19117, 19277, 19331, 19524, 19746, 19837, 19842, 19921, 20174, 20181, 20182, 20322, 20451, 20648, 20690, 20725, 20761, 20844, 20928, 20942, 21030, 21056, 21107, 21147, 21436, 21456, 21482, 21504, 21608, 21844, 21915, 21929, 22004, 22039, 22143, 22279, 22308, 22598, 22640, 22782, 22992, 23282, 23338, 23343, 23381, 23435, 23743, 23800, 23822, 23839, 23843, 23944, 23957, 24025, 24164, 24187, 24334, 24364, 24404, 24595, 24607, 24888, 24915, 24924, 24994, 25129, 25142, 25202, 25238, 25459, 25468, 25605, 25783, 25843, 25867, 25950, 25984, 25994, 26212, 26383, 26438, 26535, 26566, 27093, 27123, 27155, 27343, 27496, 27604, 27680, 27715, 27852, 28097, 28178, 28238, 28366, 28609, 28676, 28726, 28886, 28988, 29128, 29167, 29322, 29395, 29525, 29536, 29578, 29636, 29643, 29650, 29769, 29816, 29820, 29883, 30147, 30186, 30256, 30277, 30404, 30582, 30623, 30828, 30864, 30878, 31042, 31278, 31380, 31400, 31414, 31605, 31694, 31714, 31787, 32064, 32075, 32178, 32367, 32417, 32422, 32511, 32560, 32585, 32589, 32590, 32713, 32732, 32824, 32838, 33011, 33212, 33219, 33311, 33369, 33511, 33812, 33833, 33969, 34179, 34188, 34287, 34290, 34316, 34344, 34504, 34605, 34685, 34788, 35026, 35029, 35197, 35199, 35279, 35370, 35390, 35417, 35626, 35769, 35962, 36058, 36239, 36358, 36411, 36456, 36571, 36799, 36863, 36887, 36961, 37414, 37688, 37779, 37791, 37973, 38043, 38204, 38455, 38525, 38604, 38788, 38978, 39068, 39096, 39111, 39221, 39439, 39463, 39568, 39608, 39655, 39663, 39900, 39923, 39926, 39973, 40055, 40233, 40269, 40471, 40590, 40595, 40605, 40668, 40871, 40907, 40929, 40976, 41399, 41454, 41537, 41595, 41642, 41774, 41804, 41892, 42102, 42123, 42190, 42212, 42439, 42499, 42535, 42560, 43029, 43149, 43156, 43287, 43431, 43542, 43590, 43621, 43650, 43689, 43697, 44157, 44184, 44288, 44311, 44468, 44487, 44551, 44591, 44620, 44642, 44805, 44914, 45453, 45660, 45731, 45773, 45792, 45818, 45921, 46133, 46143, 46329, 46367, 46375, 46605, 46968, 47053, 47186, 47386, 47412, 47438, 47556, 47616, 47706, 47895, 47955, 48035, 48084, 48150, 48236, 48305, 48350, 48915, 48930, 49235, 49394, 49441, 49758, 49767, 49913, 49972, 50001, 50038, 50159, 50190, 50195, 50239, 50308, 50359, 50394, 50456, 50556, 50678, 50947, 50951, 50958, 51079, 51183, 51286, 51336, 51409, 51692, 51735, 51935, 52013, 52064, 52178, 52500, 52548, 52619, 52806, 52862, 52952, 53246, 53457, 53514, 53581, 53683, 53697, 53718, 53877, 53908, 54121, 54255, 54529, 54539, 54571, 54609, 54747, 54864, 54893, 54981, 54990, 55023, 55151, 55213, 55237, 55299, 55418, 55456, 55573, 55580, 55737, 55861, 55931, 55960, 56032, 56112, 56201, 56212, 56292, 56347, 56385, 56458, 56495, 56611, 56777, 56796, 56932, 57037, 57136, 57289, 57406, 57567, 57571, 57595, 57835, 57847, 58087, 58167, 58198, 58206, 58227, 58248, 58484, 58561, 58586, 58874, 58878, 58922, 59017, 59511, 59554, 59617, 59657, 59760, 59874, 59911, 60097, 60152, 60298, 60339, 60368, 60724, 60770, 60927, 61004, 61043, 61053, 61200, 61420, 61656, 61732, 61835, 61840, 62062, 62135, 62181, 62266, 62271, 62334, 62418, 62902, 63007, 63086, 63366, 63385, 63544, 63929, 63962, 64024, 64029, 64088, 64147, 64287, 64391, 64547, 64607, 64672, 64676, 64690, 64744, 64798, 65011, 65059, 65176, 65202, 65368, 65399, 65491, 65695, 65731, 65928, 66080, 66297, 66802, 66880, 66952, 66990, 67284, 67341, 67513, 67535, 67678, 67715, 67716, 67749, 67817, 67881, 67937, 67961, 68224, 68272, 68292, 68463, 68594, 68613, 68736, 68850, 68939, 68948, 69054, 69111, 69242, 69344, 69352, 69502, 69682, 69704, 69717, 69780, 69864, 69927, 69986, 70039, 70058, 70220, 70282, 70396, 70416, 70602, 70670, 70783, 70906, 70947, 71090, 71097, 71503, 71530, 71562, 71572, 71645, 71813, 71965, 72224, 72236, 72278, 72493, 72620, 72726, 72757, 72863, 72889, 72913, 72923, 72927, 72987, 73005, 73041, 73152, 73189, 73229, 73326, 73357, 73518, 73667, 73797, 73896, 74023, 74340, 74526, 74551, 74583, 74665, 74841, 74933, 75134, 75138, 75194, 75649, 75823, 75872, 75879, 76068, 76074, 76128, 76194, 76318, 76326, 76338, 76353, 76493, 76536, 76585, 76765, 76888, 76889, 76948, 76967, 77105, 77310, 77385, 77459, 77498, 77590, 77678, 77682, 77687, 77690, 77884, 77930, 77944, 78010, 78016, 78026, 78084, 78126, 78397, 78606, 78643, 78654, 78718, 78820, 79029, 79033, 79091, 79157, 79244, 79287, 79367, 79568, 79608, 79654, 79782, 79815, 79850, 79871, 80151, 80153, 80669, 80734, 80908, 80955, 81066, 81080, 81096, 81098, 81197, 81275, 81349, 81358, 81448, 81713, 81745, 81765, 81776, 81843, 81916, 81990, 82003, 82073, 82085, 82162, 82174, 82232, 82282, 82307, 82439, 82540, 82543, 82661, 82831, 82941, 82993, 83002, 83023, 83060, 83151, 83169, 83178, 83289, 83392, 83515, 83554, 83610, 83738, 83776, 83820, 83900, 83916, 84444, 84611, 84693, 84694, 84701, 84865, 84912, 84979, 85243, 85476, 85498, 85630, 85640, 85840, 85899, 86061]\n",
      "data loaded\n",
      "(861, 249, 36)\n",
      "(861,)\n",
      "data loaded\n",
      "(21556, 249, 36)\n",
      "(21556,)\n"
     ]
    },
    {
     "data": {
      "text/plain": "Sanity Checking: 0it [00:00, ?it/s]",
      "application/vnd.jupyter.widget-view+json": {
       "version_major": 2,
       "version_minor": 0,
       "model_id": "d2b24044707b40baadc8607da356bb53"
      }
     },
     "metadata": {},
     "output_type": "display_data"
    },
    {
     "data": {
      "text/plain": "Training: 0it [00:00, ?it/s]",
      "application/vnd.jupyter.widget-view+json": {
       "version_major": 2,
       "version_minor": 0,
       "model_id": "1f3675d092e341ce93c28218edbb445c"
      }
     },
     "metadata": {},
     "output_type": "display_data"
    },
    {
     "name": "stderr",
     "output_type": "stream",
     "text": [
      "C:\\Users\\Patrick Xu\\AppData\\Local\\Programs\\Python\\Python310\\lib\\site-packages\\pytorch_lightning\\trainer\\trainer.py:653: UserWarning: Detected KeyboardInterrupt, attempting graceful shutdown...\n",
      "  rank_zero_warn(\"Detected KeyboardInterrupt, attempting graceful shutdown...\")\n"
     ]
    }
   ],
   "source": [
    "# initial round of training, round 0\n",
    "dataset.initialize_labels(NUM_INIT_LB)\n",
    "strategy.train()"
   ]
  },
  {
   "cell_type": "code",
   "execution_count": null,
   "outputs": [
    {
     "name": "stderr",
     "output_type": "stream",
     "text": [
      "LOCAL_RANK: 0 - CUDA_VISIBLE_DEVICES: [0]\n"
     ]
    },
    {
     "name": "stdout",
     "output_type": "stream",
     "text": [
      "data loaded\n",
      "(85336, 249, 36)\n",
      "(85336,)\n"
     ]
    },
    {
     "data": {
      "text/plain": "Predicting: 3it [00:00, ?it/s]",
      "application/vnd.jupyter.widget-view+json": {
       "version_major": 2,
       "version_minor": 0,
       "model_id": "a1d4f5c156654a38b01d1c91663d38ff"
      }
     },
     "metadata": {},
     "output_type": "display_data"
    },
    {
     "name": "stderr",
     "output_type": "stream",
     "text": [
      "LOCAL_RANK: 0 - CUDA_VISIBLE_DEVICES: [0]\n"
     ]
    },
    {
     "name": "stdout",
     "output_type": "stream",
     "text": [
      "data loaded\n",
      "(85336, 249, 36)\n",
      "(85336,)\n"
     ]
    },
    {
     "data": {
      "text/plain": "Predicting: 1it [00:00, ?it/s]",
      "application/vnd.jupyter.widget-view+json": {
       "version_major": 2,
       "version_minor": 0,
       "model_id": "97d2fcd5a5c0430f98090800e279a40f"
      }
     },
     "metadata": {},
     "output_type": "display_data"
    },
    {
     "ename": "TypeError",
     "evalue": "'NoneType' object is not iterable",
     "output_type": "error",
     "traceback": [
      "\u001B[1;31m---------------------------------------------------------------------------\u001B[0m",
      "\u001B[1;31mTypeError\u001B[0m                                 Traceback (most recent call last)",
      "Input \u001B[1;32mIn [35]\u001B[0m, in \u001B[0;36m<cell line: 1>\u001B[1;34m()\u001B[0m\n\u001B[1;32m----> 1\u001B[0m q_idxs \u001B[38;5;241m=\u001B[39m \u001B[43mstrategy\u001B[49m\u001B[38;5;241;43m.\u001B[39;49m\u001B[43mquery\u001B[49m\u001B[43m(\u001B[49m\u001B[43mNUM_QUERY\u001B[49m\u001B[43m)\u001B[49m\n",
      "File \u001B[1;32m~\\Desktop\\RNS_Annotation-Pipeline\\scripts\\RNS_LITT_ANNOTATION_PIPELINE\\rns_scripts\\../tools\\query_strategies\\least_confidence.py:11\u001B[0m, in \u001B[0;36mLeastConfidence.query\u001B[1;34m(self, n)\u001B[0m\n\u001B[0;32m      9\u001B[0m \u001B[38;5;28;01mdef\u001B[39;00m \u001B[38;5;21mquery\u001B[39m(\u001B[38;5;28mself\u001B[39m, n):\n\u001B[0;32m     10\u001B[0m     unlabeled_idxs, unlabeled_data \u001B[38;5;241m=\u001B[39m \u001B[38;5;28mself\u001B[39m\u001B[38;5;241m.\u001B[39mdataset\u001B[38;5;241m.\u001B[39mget_unlabeled_data()\n\u001B[1;32m---> 11\u001B[0m     probs \u001B[38;5;241m=\u001B[39m \u001B[38;5;28;43mself\u001B[39;49m\u001B[38;5;241;43m.\u001B[39;49m\u001B[43mpredict_prob\u001B[49m\u001B[43m(\u001B[49m\u001B[43munlabeled_data\u001B[49m\u001B[43m)\u001B[49m\n\u001B[0;32m     12\u001B[0m     uncertainties \u001B[38;5;241m=\u001B[39m probs\u001B[38;5;241m.\u001B[39mmax(\u001B[38;5;241m1\u001B[39m)[\u001B[38;5;241m0\u001B[39m]\n\u001B[0;32m     13\u001B[0m     \u001B[38;5;28;01mreturn\u001B[39;00m unlabeled_idxs[uncertainties\u001B[38;5;241m.\u001B[39msort()[\u001B[38;5;241m1\u001B[39m][:n]]\n",
      "File \u001B[1;32m~\\Desktop\\RNS_Annotation-Pipeline\\scripts\\RNS_LITT_ANNOTATION_PIPELINE\\rns_scripts\\../tools\\query_strategies\\strategy.py:51\u001B[0m, in \u001B[0;36mStrategy.predict_prob\u001B[1;34m(self, data)\u001B[0m\n\u001B[0;32m     50\u001B[0m \u001B[38;5;28;01mdef\u001B[39;00m \u001B[38;5;21mpredict_prob\u001B[39m(\u001B[38;5;28mself\u001B[39m, data):\n\u001B[1;32m---> 51\u001B[0m     probs \u001B[38;5;241m=\u001B[39m \u001B[38;5;28;43mself\u001B[39;49m\u001B[38;5;241;43m.\u001B[39;49m\u001B[43mnet\u001B[49m\u001B[38;5;241;43m.\u001B[39;49m\u001B[43mpredict_prob\u001B[49m\u001B[43m(\u001B[49m\u001B[43mdata\u001B[49m\u001B[43m)\u001B[49m\n\u001B[0;32m     52\u001B[0m     \u001B[38;5;28;01mreturn\u001B[39;00m probs\n",
      "File \u001B[1;32m~\\Desktop\\RNS_Annotation-Pipeline\\scripts\\RNS_LITT_ANNOTATION_PIPELINE\\rns_scripts\\../tools\\active_learning_net.py:92\u001B[0m, in \u001B[0;36mNet.predict_prob\u001B[1;34m(self, data)\u001B[0m\n\u001B[0;32m     90\u001B[0m output_list \u001B[38;5;241m=\u001B[39m []\n\u001B[0;32m     91\u001B[0m m \u001B[38;5;241m=\u001B[39m nn\u001B[38;5;241m.\u001B[39mSoftmax(dim\u001B[38;5;241m=\u001B[39m\u001B[38;5;241m1\u001B[39m)\n\u001B[1;32m---> 92\u001B[0m \u001B[38;5;28;01mfor\u001B[39;00m pred, y, emb \u001B[38;5;129;01min\u001B[39;00m predictions:\n\u001B[0;32m     93\u001B[0m     output_list\u001B[38;5;241m.\u001B[39mappend(pred)\n\u001B[0;32m     95\u001B[0m pred_raw \u001B[38;5;241m=\u001B[39m torch\u001B[38;5;241m.\u001B[39mvstack(output_list)\u001B[38;5;241m.\u001B[39mfloat()\n",
      "\u001B[1;31mTypeError\u001B[0m: 'NoneType' object is not iterable"
     ]
    }
   ],
   "source": [
    "q_idxs = strategy.query(NUM_QUERY)"
   ],
   "metadata": {
    "collapsed": false,
    "ExecuteTime": {
     "start_time": "2023-11-13T15:27:51.876096Z",
     "end_time": "2023-11-13T15:30:19.863602Z"
    }
   }
  },
  {
   "cell_type": "code",
   "execution_count": null,
   "outputs": [
    {
     "name": "stderr",
     "output_type": "stream",
     "text": [
      "LOCAL_RANK: 0 - CUDA_VISIBLE_DEVICES: [0]\n"
     ]
    },
    {
     "name": "stdout",
     "output_type": "stream",
     "text": [
      "data loaded\n",
      "(85336, 249, 36)\n",
      "(85336,)\n"
     ]
    },
    {
     "data": {
      "text/plain": "Predicting: 3it [00:00, ?it/s]",
      "application/vnd.jupyter.widget-view+json": {
       "version_major": 2,
       "version_minor": 0,
       "model_id": "355012060c4b41718a4ab0c90361cc16"
      }
     },
     "metadata": {},
     "output_type": "display_data"
    }
   ],
   "source": [
    "unlabeled_idxs, unlabeled_data = strategy.dataset.get_unlabeled_data()\n",
    "probs = strategy.predict_prob(unlabeled_data)"
   ],
   "metadata": {
    "collapsed": false,
    "ExecuteTime": {
     "start_time": "2023-11-13T15:30:19.863602Z",
     "end_time": "2023-11-13T15:32:49.177942Z"
    }
   }
  },
  {
   "cell_type": "code",
   "execution_count": 51,
   "outputs": [
    {
     "data": {
      "text/plain": "array([(b'HUP047', 1102,  0,   180296), (b'HUP047', 1102,  1,   180296),\n       (b'HUP047', 1102,  2,   180296), ...,\n       (b'RNS029', 3810, 21, 60804040), (b'RNS029', 3810,  0, 60809715),\n       (b'RNS029', 3810,  1, 60809715)],\n      dtype=[('patient_index', 'S10'), ('episode_index', '<i4'), ('slice_index', '<i4'), ('start_index', '<i4')])"
     },
     "execution_count": 51,
     "metadata": {},
     "output_type": "execute_result"
    }
   ],
   "source": [
    "index_train[unlabeled_idxs]"
   ],
   "metadata": {
    "collapsed": false,
    "ExecuteTime": {
     "start_time": "2023-11-13T15:45:38.548297Z",
     "end_time": "2023-11-13T15:45:38.921335Z"
    }
   }
  },
  {
   "cell_type": "code",
   "execution_count": null,
   "outputs": [],
   "source": [
    "uncertainties = probs.max(1)[0]"
   ],
   "metadata": {
    "collapsed": false,
    "ExecuteTime": {
     "start_time": "2023-11-13T15:32:49.178943Z",
     "end_time": "2023-11-13T15:32:49.196980Z"
    }
   }
  },
  {
   "cell_type": "code",
   "execution_count": 61,
   "outputs": [
    {
     "data": {
      "text/plain": "tensor([17853, 36913, 83414,  ...,    49,  4973, 58687])"
     },
     "execution_count": 61,
     "metadata": {},
     "output_type": "execute_result"
    }
   ],
   "source": [
    "torch.sort(uncertainties)[1][:2500]"
   ],
   "metadata": {
    "collapsed": false,
    "ExecuteTime": {
     "start_time": "2023-11-13T15:52:24.415363Z",
     "end_time": "2023-11-13T15:52:24.790182Z"
    }
   }
  },
  {
   "cell_type": "code",
   "execution_count": 100,
   "outputs": [],
   "source": [
    "orders = torch.sort(uncertainties)[1][:5000]\n",
    "it = index_train[unlabeled_idxs]\n",
    "orders = orders.numpy()[:,np.newaxis]"
   ],
   "metadata": {
    "collapsed": false,
    "ExecuteTime": {
     "start_time": "2023-11-13T16:26:51.160926Z",
     "end_time": "2023-11-13T16:26:51.569020Z"
    }
   }
  },
  {
   "cell_type": "code",
   "execution_count": 101,
   "outputs": [
    {
     "data": {
      "text/plain": "array([(b'HUP047', 1102,  0,   180296), (b'HUP047', 1102,  1,   180296),\n       (b'HUP047', 1102,  2,   180296), ...,\n       (b'RNS029', 3810, 21, 60804040), (b'RNS029', 3810,  0, 60809715),\n       (b'RNS029', 3810,  1, 60809715)],\n      dtype=[('patient_index', 'S10'), ('episode_index', '<i4'), ('slice_index', '<i4'), ('start_index', '<i4')])"
     },
     "execution_count": 101,
     "metadata": {},
     "output_type": "execute_result"
    }
   ],
   "source": [
    "it"
   ],
   "metadata": {
    "collapsed": false,
    "ExecuteTime": {
     "start_time": "2023-11-13T16:26:51.933596Z",
     "end_time": "2023-11-13T16:26:52.329588Z"
    }
   }
  },
  {
   "cell_type": "code",
   "execution_count": 102,
   "outputs": [],
   "source": [
    "x2 = np.sum(orders**2, axis=1) # shape of (m)\n",
    "y2 = np.sum(orders**2, axis=1) # shape of (n)\n",
    "xy = np.matmul(orders, orders.T)\n",
    "x2 = x2.reshape(-1, 1)\n",
    "dists = np.sqrt(x2 - 2*xy + y2)"
   ],
   "metadata": {
    "collapsed": false,
    "ExecuteTime": {
     "start_time": "2023-11-13T16:26:52.977755Z",
     "end_time": "2023-11-13T16:26:53.579409Z"
    }
   }
  },
  {
   "cell_type": "code",
   "execution_count": 111,
   "outputs": [
    {
     "data": {
      "text/plain": "array([  0.,   7.,   8.,   9.,  15.,  17.,  53.,  54.,  55.,  64.,  67.,\n        71.,  87.,  88.,  95.,  96.,  98., 100., 101., 125., 147., 158.,\n       160., 171., 176., 177., 183., 183., 186., 186., 195., 201., 206.,\n       226., 227., 233., 234., 239., 240., 244., 249., 269., 280., 301.,\n       318., 324., 325., 328., 330., 338., 346., 353., 362., 383., 388.,\n       389., 390., 419., 435., 437., 443., 444., 446., 456., 459., 460.,\n       464., 466., 474., 494., 495., 509., 523., 527., 546., 554., 555.,\n       556., 620., 622., 671., 673., 684., 713., 725., 730., 761., 762.,\n       767., 791., 794., 806., 807., 811., 820., 852., 868., 872., 872.,\n       873.])"
     },
     "execution_count": 111,
     "metadata": {},
     "output_type": "execute_result"
    }
   ],
   "source": [
    "np.sort(dists[10])[:100]"
   ],
   "metadata": {
    "collapsed": false,
    "ExecuteTime": {
     "start_time": "2023-11-13T16:53:12.606939Z",
     "end_time": "2023-11-13T16:53:13.013463Z"
    }
   }
  },
  {
   "cell_type": "code",
   "execution_count": 106,
   "outputs": [
    {
     "data": {
      "text/plain": "tensor([0.5011, 0.9974, 0.6502, 0.7940, 0.7307, 0.8481, 0.8499, 0.9987, 0.9709,\n        0.7637, 0.9791, 0.9687, 0.9962])"
     },
     "execution_count": 106,
     "metadata": {},
     "output_type": "execute_result"
    }
   ],
   "source": [
    "uncertainties[74599:74599]"
   ],
   "metadata": {
    "collapsed": false,
    "ExecuteTime": {
     "start_time": "2023-11-13T16:31:36.220922Z",
     "end_time": "2023-11-13T16:31:36.631034Z"
    }
   }
  },
  {
   "cell_type": "code",
   "execution_count": 99,
   "outputs": [
    {
     "data": {
      "text/plain": "array([(b'HUP159', 1358, 73, 4512020), (b'HUP159', 1358, 74, 4512020),\n       (b'HUP159', 1358, 75, 4512020), (b'HUP159', 1358, 76, 4512020),\n       (b'HUP159', 1358, 77, 4512020), (b'HUP159', 1358, 78, 4512020),\n       (b'HUP159', 1358, 79, 4512020), (b'HUP159', 1358, 80, 4512020),\n       (b'HUP159', 1358, 81, 4512020), (b'HUP159', 1358, 82, 4512020),\n       (b'HUP159', 1358, 83, 4512020), (b'HUP159', 1359,  0, 4555805)],\n      dtype=[('patient_index', 'S10'), ('episode_index', '<i4'), ('slice_index', '<i4'), ('start_index', '<i4')])"
     },
     "execution_count": 99,
     "metadata": {},
     "output_type": "execute_result"
    }
   ],
   "source": [
    "it[61298:61310]"
   ],
   "metadata": {
    "collapsed": false,
    "ExecuteTime": {
     "start_time": "2023-11-13T16:25:37.300284Z",
     "end_time": "2023-11-13T16:25:37.704743Z"
    }
   }
  },
  {
   "cell_type": "code",
   "execution_count": null,
   "metadata": {
    "ExecuteTime": {
     "start_time": "2023-11-10T15:41:49.731496Z",
     "end_time": "2023-11-11T01:20:27.124530Z"
    }
   },
   "outputs": [],
   "source": [
    "for rd in range(1, NUM_ROUND +1):\n",
    "    print('round ' + str(rd))\n",
    "    q_idxs = strategy.query(NUM_QUERY)\n",
    "    strategy.update(q_idxs)\n",
    "    strategy.net.round = rd\n",
    "    strategy.net.net.load_state_dict(modelstate)\n",
    "    strategy.train()"
   ]
  }
 ],
 "metadata": {
  "kernelspec": {
   "display_name": "Python 3 (ipykernel)",
   "language": "python",
   "name": "python3"
  },
  "language_info": {
   "codemirror_mode": {
    "name": "ipython",
    "version": 3
   },
   "file_extension": ".py",
   "mimetype": "text/x-python",
   "name": "python",
   "nbconvert_exporter": "python",
   "pygments_lexer": "ipython3",
   "version": "3.8.8"
  }
 },
 "nbformat": 4,
 "nbformat_minor": 1
}
