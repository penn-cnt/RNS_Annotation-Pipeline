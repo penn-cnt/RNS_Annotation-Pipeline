{
 "cells": [
  {
   "cell_type": "code",
   "execution_count": 1,
   "metadata": {
    "ExecuteTime": {
     "start_time": "2024-03-13T13:36:32.347398Z",
     "end_time": "2024-03-13T13:36:32.521744Z"
    }
   },
   "outputs": [],
   "source": [
    "%load_ext autoreload\n",
    "%autoreload 2\n",
    "%matplotlib widget"
   ]
  },
  {
   "cell_type": "code",
   "execution_count": 2,
   "metadata": {
    "ExecuteTime": {
     "start_time": "2024-03-13T13:36:33.029182Z",
     "end_time": "2024-03-13T13:36:43.384035Z"
    }
   },
   "outputs": [],
   "source": [
    "import numpy as np\n",
    "import random\n",
    "import sys\n",
    "sys.path.append('../tools')\n",
    "\n",
    "import os\n",
    "\n",
    "import torch\n",
    "\n",
    "import pandas as pd\n",
    "from sklearn.model_selection import train_test_split\n",
    "import pytorch_lightning as pl\n",
    "import pytorch_lightning.loggers as pl_loggers\n",
    "import pytorch_lightning.callbacks as pl_callbacks\n",
    "import data_utility, annotation_utility\n",
    "from models.rns_dataloader import *\n",
    "from active_learning_utility import get_strategy\n",
    "from active_learning_data import Data\n",
    "from active_learning_net import Net\n",
    "from copy import deepcopy\n",
    "from models.SwaV import SwaV\n",
    "from models.LSTMDownStream import SupervisedDownstream\n",
    "import warnings\n",
    "\n",
    "warnings.filterwarnings(\"ignore\", \".*Consider increasing the value of the `num_workers` argument*\")\n",
    "warnings.filterwarnings(\"ignore\", \".*Set a lower value for log_every_n_steps if you want to see logs for the training epoch*\")"
   ]
  },
  {
   "cell_type": "code",
   "execution_count": 3,
   "metadata": {
    "ExecuteTime": {
     "start_time": "2024-03-13T13:36:43.365037Z",
     "end_time": "2024-03-13T13:36:43.933037Z"
    }
   },
   "outputs": [
    {
     "name": "stderr",
     "output_type": "stream",
     "text": [
      "Global seed set to 42\n"
     ]
    },
    {
     "data": {
      "text/plain": "42"
     },
     "execution_count": 3,
     "metadata": {},
     "output_type": "execute_result"
    }
   ],
   "source": [
    "random_seed = 42\n",
    "random.seed(random_seed)\n",
    "torch.manual_seed(random_seed)\n",
    "np.random.seed(random_seed)\n",
    "\n",
    "if torch.cuda.is_available():\n",
    "    torch.cuda.manual_seed(random_seed)\n",
    "    # True ensures the algorithm selected by CUFA is deterministic\n",
    "    torch.backends.cudnn.deterministic = True\n",
    "    # torch.set_deterministic(True)\n",
    "    # False ensures CUDA select the same algorithm each time the application is run\n",
    "    torch.backends.cudnn.benchmark = False\n",
    "\n",
    "import pytorch_lightning\n",
    "pytorch_lightning.utilities.seed.seed_everything(seed=random_seed, workers=True)"
   ]
  },
  {
   "cell_type": "code",
   "execution_count": 4,
   "metadata": {
    "ExecuteTime": {
     "start_time": "2024-03-13T13:36:43.932037Z",
     "end_time": "2024-03-13T13:36:44.291036Z"
    }
   },
   "outputs": [],
   "source": [
    "data_dir = \"../../../user_data/\"\n",
    "log_folder_root = '../../../user_data/logs/'\n",
    "ckpt_folder_root = '../../../user_data/checkpoints/'"
   ]
  },
  {
   "cell_type": "code",
   "execution_count": 22,
   "metadata": {
    "ExecuteTime": {
     "start_time": "2024-03-13T13:37:20.751160Z",
     "end_time": "2024-03-13T13:37:21.077158Z"
    }
   },
   "outputs": [],
   "source": [
    "strategy_name = 'LeastConfidence'"
   ]
  },
  {
   "cell_type": "code",
   "execution_count": 6,
   "metadata": {
    "ExecuteTime": {
     "start_time": "2024-03-13T13:36:44.651035Z",
     "end_time": "2024-03-13T13:36:44.978037Z"
    }
   },
   "outputs": [],
   "source": [
    "nStart = 1\n",
    "nEnd = 20\n",
    "nQuery = 2"
   ]
  },
  {
   "cell_type": "code",
   "execution_count": 7,
   "metadata": {
    "ExecuteTime": {
     "start_time": "2024-03-13T13:36:44.979038Z",
     "end_time": "2024-03-13T13:36:45.363036Z"
    }
   },
   "outputs": [],
   "source": [
    "args_task = {'n_epoch': 40,\n",
    "             'transform_train': True,\n",
    "             'strategy_name': strategy_name,\n",
    "             'transform': False,\n",
    "             'loader_tr_args': {'batch_size': 2, 'num_workers': 4, 'collate_fn': collate_fn,\n",
    "                                'drop_last': True,'persistent_workers':True},\n",
    "             'loader_te_args': {'batch_size': 2, 'num_workers': 8, 'collate_fn': collate_fn,\n",
    "                                'drop_last': True,'persistent_workers':True}\n",
    "             }"
   ]
  },
  {
   "cell_type": "code",
   "execution_count": 8,
   "metadata": {
    "ExecuteTime": {
     "start_time": "2024-03-13T13:36:45.328036Z",
     "end_time": "2024-03-13T13:36:47.018037Z"
    }
   },
   "outputs": [],
   "source": [
    "# raw_annotations = pd.read_csv(data_dir + 'full_updated_anns_annotTbl_cleaned.csv')\n",
    "# ids = list(np.unique(raw_annotations[raw_annotations['descriptions'].notnull()]['HUP_ID']))\n",
    "# # ids = list(np.unique(raw_annotations['HUP_ID']))\n",
    "#\n",
    "# data_import = data_utility.read_files(path=data_dir+'rns_data', path_data=data_dir+'rns_raw_cache', patientIDs=ids,\n",
    "#                                       verbose=True)  # Import data with annotation"
   ]
  },
  {
   "cell_type": "code",
   "execution_count": 9,
   "metadata": {
    "ExecuteTime": {
     "start_time": "2024-03-13T13:36:46.322036Z",
     "end_time": "2024-03-13T13:36:57.033038Z"
    }
   },
   "outputs": [
    {
     "name": "stderr",
     "output_type": "stream",
     "text": [
      "16it [00:08,  1.97it/s]"
     ]
    },
    {
     "name": "stdout",
     "output_type": "stream",
     "text": [
      "(992,)\n",
      "(992,)\n",
      "(270,)\n",
      "(270,)\n"
     ]
    },
    {
     "name": "stderr",
     "output_type": "stream",
     "text": [
      "\n"
     ]
    }
   ],
   "source": [
    "# data_list = os.listdir(data_dir+'rns_test_cache')\n",
    "# print(data_list)\n",
    "data_list = ['HUP047.npy', 'HUP084.npy', 'HUP096.npy', 'HUP109.npy', 'HUP121.npy', 'HUP129.npy', 'HUP131.npy',\n",
    "             'HUP137.npy', 'HUP147.npy', 'HUP156.npy', 'HUP159.npy', 'HUP182.npy', 'HUP197.npy', 'HUP199.npy',\n",
    "             'RNS026.npy', 'RNS029.npy']\n",
    "# data_list = os.listdir(data_dir+'rns_test_cache')[1:]\n",
    "\n",
    "# data_list = ['HUP182.npy',   'HUP129.npy',   'HUP109.npy', 'HUP156.npy', 'HUP096.npy', 'RNS026.npy',  'HUP159.npy']\n",
    "# data_list = ['RNS026.npy', 'HUP159.npy', 'HUP129.npy', 'HUP096.npy', 'HUP182.npy']\n",
    "train_data, train_label, test_data, test_label, train_index, test_index = get_data_by_episode(data_list, split=0.8, patient_out=True)\n",
    "# data, label,_,_ = get_data(data_list, split=1)\n",
    "# train_data, test_data, train_label, test_label = sklearn.model_selection.train_test_split(data, label, test_size=0.8, random_state=42)\n",
    "\n",
    "print(train_data.shape)\n",
    "print(train_label.shape)\n",
    "print(test_data.shape)\n",
    "print(test_label.shape)"
   ]
  },
  {
   "cell_type": "code",
   "execution_count": 10,
   "outputs": [],
   "source": [
    "X_train = np.concatenate(train_data)\n",
    "y_train = np.concatenate(train_label)\n",
    "X_test = np.concatenate(test_data)\n",
    "y_test = np.concatenate(test_label)\n",
    "index_train = np.concatenate(train_index)\n",
    "index_test = np.concatenate(test_index)\n",
    "seq_len_train = np.array([y.shape[0] for y in train_label])\n",
    "seq_len_test = np.array([y.shape[0] for y in test_label])"
   ],
   "metadata": {
    "collapsed": false,
    "ExecuteTime": {
     "start_time": "2024-03-13T13:36:57.035039Z",
     "end_time": "2024-03-13T13:36:59.960516Z"
    }
   }
  },
  {
   "cell_type": "code",
   "execution_count": 11,
   "outputs": [
    {
     "data": {
      "text/plain": "array([90, 90, 38, 90, 90, 90, 74, 90, 90, 90, 75, 60, 90, 90, 90, 90, 90,\n       90, 90, 90, 90, 90, 90, 90, 90, 90, 90, 90, 90, 90, 90, 90, 90, 90,\n       90, 90, 90, 90, 90, 90, 90, 90, 90, 57, 90, 90, 90, 90, 90, 90, 90,\n       90, 90, 90, 90, 90, 90, 90, 90, 90, 90, 90, 90, 90, 90, 90, 90, 90,\n       90, 90, 90, 90, 90, 90, 90, 90, 90, 90, 90, 90, 90, 90, 90, 90, 90,\n       90, 90, 30, 90, 90, 90, 90, 90, 90, 90, 90, 90, 90, 90, 90, 73, 90,\n       90, 90, 90, 90, 90, 90, 90, 90, 90, 90, 90, 90, 90, 90, 90, 90, 90,\n       90, 90, 90, 90, 90, 90, 90, 90, 90, 89, 90, 90, 90, 90, 90, 90, 90,\n       90, 90, 90, 90, 90, 90, 90, 90, 90, 90, 90, 90, 90, 90, 90, 90, 90,\n       89, 90, 90, 90, 90, 90, 58, 90, 90, 90, 90, 90, 90, 90, 90, 90, 90,\n       90, 90, 90, 90, 90, 90, 90, 90, 90, 90, 90, 90, 90, 90, 90, 90, 90,\n       90, 90, 90, 90, 90, 90, 90, 90, 90, 90, 90, 90, 90, 90, 90, 90, 90,\n       90, 90, 90, 90, 90, 90, 90, 90, 72, 90, 90, 90, 90, 90, 90, 90, 90,\n       90, 90, 90, 90, 90, 90, 90, 90, 90, 90, 90, 90, 90, 90, 90, 90, 90,\n       90, 90, 90, 90, 90, 90, 90, 90, 90, 90, 90, 90, 90, 90, 90, 89, 90,\n       90, 90, 90, 90, 89, 90, 90, 90, 90, 90, 90, 90, 90, 90, 90, 90, 90,\n       90, 90, 90, 90, 89, 90, 90, 90, 89, 90, 90, 89, 89, 90, 90, 90, 89,\n       90, 90, 90, 90, 90, 90, 90, 90, 90, 90, 90, 90, 90, 90, 90, 90, 90,\n       90, 90, 90, 90, 90, 90, 90, 90, 90, 90, 90, 90, 90, 90, 90, 90, 90,\n       90, 65, 90, 90, 90, 90, 90, 60, 60, 60, 25, 60, 24, 31, 60, 60, 45,\n       46, 60, 60, 60, 60, 60, 60, 60, 59, 60, 45, 60, 60, 24, 60, 60, 60,\n       60, 28, 60, 35, 60, 60, 60, 60, 60, 25, 60, 60, 60, 60, 60, 60, 60,\n       48, 60, 60, 60, 60, 24, 60, 60, 60, 60, 60, 51, 60, 60, 42, 90, 89,\n       89, 90, 89, 90, 90, 90, 90, 42, 90, 89, 89, 89, 89, 90, 89, 89, 89,\n       90, 89, 89, 89, 90, 90, 90, 90, 31, 90, 42, 89, 89, 90, 90, 32, 39,\n       43, 38, 90, 37, 90, 89, 90, 89, 90, 30, 90, 90, 90, 90, 90, 40, 89,\n       90, 33, 89, 90, 90, 46, 42, 33, 89, 32, 90, 89, 31, 90, 89, 89, 35,\n       37, 90, 89, 44, 90, 90, 89, 89, 90, 34, 90, 44, 89, 90, 90, 90, 89,\n       37, 89, 90, 90, 90, 90, 90, 50, 90, 90, 90, 90, 90, 90, 67, 90, 90,\n       90, 42, 90, 90, 90, 90, 90, 90, 90, 90, 90, 90, 90, 89, 90, 89, 90,\n       90, 89, 90, 90, 90, 90, 89, 90, 89, 90, 90, 90, 90, 90, 90, 90, 90,\n       90, 90, 90, 90, 90, 90, 90, 90, 90, 90, 90, 90, 90, 90, 90, 90, 90,\n       90, 90, 90, 90, 90, 90, 90, 90, 90, 64, 90, 90, 90, 90, 90, 90, 90,\n       90, 90, 90, 90, 90, 90, 90, 90, 90, 90, 90, 90, 90, 90, 90, 53, 90,\n       90, 90, 90, 90, 90, 33, 90, 90, 90, 90, 90, 90, 90, 90, 90, 90, 90,\n       90, 90, 90, 90, 90, 90, 90, 90, 90, 90, 90, 43, 90, 90, 90, 90, 90,\n       90, 90, 90, 90, 90, 90, 90, 90, 90, 90, 90, 90, 90, 90, 90, 90, 90,\n       90, 90, 90, 90, 90, 90, 90, 90, 90, 90, 90, 90, 90, 90, 90, 90, 90,\n       90, 90, 90, 90, 90, 90, 90, 90, 90, 90, 90, 90, 90, 90, 90, 90, 90,\n       90, 90, 90, 90, 90, 90, 90, 90, 90, 90, 90, 90, 90, 90, 90, 90, 90,\n       90, 90, 90, 89, 90, 90, 90, 90, 90, 90, 90, 90, 90, 90, 90, 90, 90,\n       90, 90, 90, 90, 90, 90, 90, 90, 90, 90, 90, 90, 90, 89, 89, 89, 89,\n       89, 89, 90, 89, 89, 89, 90, 89, 89, 89, 90, 90, 90, 89, 89, 89, 89,\n       90, 89, 90, 89, 90, 90, 90, 90, 89, 89, 89, 89, 90, 90, 90, 90, 89,\n       89, 89, 89, 89, 89, 90, 89, 90, 89, 89, 89, 90, 89, 90, 89, 89, 90,\n       89, 89, 90, 89, 89, 89, 89, 89, 89, 89, 90, 89, 90, 89, 89, 90, 90,\n       89, 89, 89, 89, 90, 89, 89, 89, 89, 89, 89, 90, 89, 90, 89, 89, 89,\n       35, 90, 89, 90, 89, 90, 90, 90, 90, 90, 90, 90, 90, 90, 90, 90, 90,\n       82, 90, 90, 90, 90, 90, 90, 30, 89, 90, 90, 90, 90, 90, 90, 90, 90,\n       90, 90, 90, 90, 89, 90, 90, 90, 90, 90, 90, 90, 90, 90, 90, 89, 90,\n       90, 90, 90, 90, 90, 90, 90, 90, 90, 90, 90, 90, 90, 90, 90, 90, 90,\n       90, 90, 90, 90, 90, 90, 82, 90, 90, 90, 90, 90, 90, 90, 90, 90, 90,\n       90, 90, 90, 90, 90, 90, 30, 89, 90, 90, 90, 90, 89, 90, 90, 90, 90,\n       90, 90, 90, 90, 90, 90, 90, 90, 90, 90, 90, 90, 90, 90, 90, 90, 90,\n       90, 90, 90, 90, 90, 89, 90, 90, 90, 90, 90, 90, 90, 90, 90, 90, 90,\n       90, 90, 90, 89, 90, 90, 90, 90, 90, 90, 90, 90, 90, 89, 90, 90, 90,\n       90, 90, 90, 89, 89, 90, 90, 89, 90, 90, 90, 90, 90, 90, 90, 89, 90,\n       90, 90, 89, 90, 90, 89, 90, 90, 90, 90, 89, 90, 90, 90, 90, 89, 89,\n       89, 90, 90, 89, 90, 90])"
     },
     "execution_count": 11,
     "metadata": {},
     "output_type": "execute_result"
    }
   ],
   "source": [
    "seq_len_train"
   ],
   "metadata": {
    "collapsed": false,
    "ExecuteTime": {
     "start_time": "2024-03-13T13:36:59.955516Z",
     "end_time": "2024-03-13T13:37:00.287516Z"
    }
   }
  },
  {
   "cell_type": "code",
   "execution_count": 12,
   "outputs": [],
   "source": [
    "# def episode_to_window_translation(self, episode_index):\n",
    "#"
   ],
   "metadata": {
    "collapsed": false,
    "ExecuteTime": {
     "start_time": "2024-03-13T13:37:00.280517Z",
     "end_time": "2024-03-13T13:37:00.608516Z"
    }
   }
  },
  {
   "cell_type": "code",
   "execution_count": 13,
   "outputs": [],
   "source": [
    "episode_index = 2\n",
    "cum_sum = np.cumsum(seq_len_train)\n",
    "if episode_index>0:\n",
    "    start_index = cum_sum[episode_index-1]\n",
    "    end_index = cum_sum[episode_index]\n",
    "else:\n",
    "    start_index = 0\n",
    "    end_index = cum_sum[episode_index]"
   ],
   "metadata": {
    "collapsed": false,
    "ExecuteTime": {
     "start_time": "2024-03-13T13:37:00.600516Z",
     "end_time": "2024-03-13T13:37:00.926518Z"
    }
   }
  },
  {
   "cell_type": "code",
   "execution_count": 14,
   "outputs": [
    {
     "data": {
      "text/plain": "array([180, 181, 182, 183, 184, 185, 186, 187, 188, 189, 190, 191, 192,\n       193, 194, 195, 196, 197, 198, 199, 200, 201, 202, 203, 204, 205,\n       206, 207, 208, 209, 210, 211, 212, 213, 214, 215, 216, 217])"
     },
     "execution_count": 14,
     "metadata": {},
     "output_type": "execute_result"
    }
   ],
   "source": [
    "np.arange(start_index,end_index)"
   ],
   "metadata": {
    "collapsed": false,
    "ExecuteTime": {
     "start_time": "2024-03-13T13:37:00.927516Z",
     "end_time": "2024-03-13T13:37:01.280515Z"
    }
   }
  },
  {
   "cell_type": "code",
   "execution_count": 15,
   "outputs": [
    {
     "data": {
      "text/plain": "180"
     },
     "execution_count": 15,
     "metadata": {},
     "output_type": "execute_result"
    }
   ],
   "source": [
    "cum_sum[episode_index-1]"
   ],
   "metadata": {
    "collapsed": false,
    "ExecuteTime": {
     "start_time": "2024-03-13T13:37:01.250515Z",
     "end_time": "2024-03-13T13:37:01.580516Z"
    }
   }
  },
  {
   "cell_type": "code",
   "execution_count": 16,
   "outputs": [
    {
     "data": {
      "text/plain": "(85111, 249, 36)"
     },
     "execution_count": 16,
     "metadata": {},
     "output_type": "execute_result"
    }
   ],
   "source": [
    "X_train.shape"
   ],
   "metadata": {
    "collapsed": false,
    "ExecuteTime": {
     "start_time": "2024-03-13T13:37:01.581515Z",
     "end_time": "2024-03-13T13:37:01.895515Z"
    }
   }
  },
  {
   "cell_type": "code",
   "execution_count": 17,
   "metadata": {
    "ExecuteTime": {
     "start_time": "2024-03-13T13:37:01.897516Z",
     "end_time": "2024-03-13T13:37:02.211516Z"
    }
   },
   "outputs": [
    {
     "name": "stdout",
     "output_type": "stream",
     "text": [
      "9\n",
      "19\n",
      "10\n"
     ]
    }
   ],
   "source": [
    "n_pool = len(train_data)\n",
    "n_test = len(test_data)\n",
    "\n",
    "NUM_INIT_LB = int(nStart * n_pool / 100)\n",
    "NUM_QUERY = int(nQuery * n_pool / 100) if nStart != 100 else 0\n",
    "NUM_ROUND = int((int(nEnd * n_pool / 100) - NUM_INIT_LB) / NUM_QUERY) if nStart != 100 else 0\n",
    "if NUM_QUERY != 0:\n",
    "    if (int(nEnd * n_pool / 100) - NUM_INIT_LB) % NUM_QUERY != 0:\n",
    "        NUM_ROUND += 1\n",
    "\n",
    "print(NUM_INIT_LB)\n",
    "print(NUM_QUERY)\n",
    "print(NUM_ROUND)"
   ]
  },
  {
   "cell_type": "code",
   "execution_count": 18,
   "metadata": {
    "ExecuteTime": {
     "start_time": "2024-03-13T13:37:02.212516Z",
     "end_time": "2024-03-13T13:37:02.529515Z"
    }
   },
   "outputs": [],
   "source": [
    "dataset = Data(X_train, y_train, X_test, y_test, seq_len_train, seq_len_test, RNS_Active_by_episode_LSTM, args_task)"
   ]
  },
  {
   "cell_type": "code",
   "execution_count": 19,
   "metadata": {
    "ExecuteTime": {
     "start_time": "2024-03-13T13:37:02.530516Z",
     "end_time": "2024-03-13T13:37:03.510643Z"
    }
   },
   "outputs": [],
   "source": [
    "swav = SwaV().load_from_checkpoint(\n",
    "    ckpt_folder_root + 'rns_swav_50_12/rns_swav-epoch=82-swav_loss=2.58204.ckpt')\n",
    "model = SupervisedDownstream(swav.backbone)\n",
    "# initialize model and save the model state\n",
    "modelstate = deepcopy(model.state_dict())\n",
    "device = \"cuda\" if torch.cuda.is_available() else \"cpu\"\n",
    "\n",
    "net = Net(model, args_task, device, ckpt_folder_root = 'rns_active', log_folder_root = 'rns_active')"
   ]
  },
  {
   "cell_type": "code",
   "execution_count": 23,
   "metadata": {
    "ExecuteTime": {
     "start_time": "2024-03-13T13:37:27.392186Z",
     "end_time": "2024-03-13T13:37:27.768186Z"
    }
   },
   "outputs": [],
   "source": [
    "strategy = get_strategy(strategy_name, dataset, net, None, args_task, rns_data = True)"
   ]
  },
  {
   "cell_type": "code",
   "execution_count": 25,
   "metadata": {
    "ExecuteTime": {
     "start_time": "2024-03-13T13:37:45.781088Z",
     "end_time": "2024-03-13T13:37:46.156725Z"
    }
   },
   "outputs": [],
   "source": [
    "# initial round of training, round 0\n",
    "dataset.initialize_labels(NUM_INIT_LB)"
   ]
  },
  {
   "cell_type": "code",
   "execution_count": 26,
   "outputs": [],
   "source": [
    "# next(iter(RNS_Active_by_episode_LSTM(dataset.combine_window_to_episode(dataset.X_train,dataset.labeled_idxs,dataset.seq_len_train),\n",
    "#                            dataset.combine_window_to_episode(dataset.Y_train,dataset.labeled_idxs,dataset.seq_len_train),\n",
    "#                            True)))"
   ],
   "metadata": {
    "collapsed": false,
    "ExecuteTime": {
     "start_time": "2024-03-13T13:37:47.438840Z",
     "end_time": "2024-03-13T13:37:47.780926Z"
    }
   }
  },
  {
   "cell_type": "code",
   "execution_count": 27,
   "outputs": [],
   "source": [
    "dummpy_index = np.arange(len(dataset.labeled_idxs))"
   ],
   "metadata": {
    "collapsed": false,
    "ExecuteTime": {
     "start_time": "2024-03-13T13:37:48.969384Z",
     "end_time": "2024-03-13T13:37:49.293384Z"
    }
   }
  },
  {
   "cell_type": "code",
   "execution_count": 28,
   "outputs": [
    {
     "name": "stderr",
     "output_type": "stream",
     "text": [
      "Using 16bit native Automatic Mixed Precision (AMP)\n",
      "GPU available: True (cuda), used: True\n",
      "TPU available: False, using: 0 TPU cores\n",
      "IPU available: False, using: 0 IPUs\n",
      "HPU available: False, using: 0 HPUs\n",
      "LOCAL_RANK: 0 - CUDA_VISIBLE_DEVICES: [0]\n"
     ]
    },
    {
     "data": {
      "text/plain": "Sanity Checking: 0it [00:00, ?it/s]",
      "application/vnd.jupyter.widget-view+json": {
       "version_major": 2,
       "version_minor": 0,
       "model_id": "c40ad5e63e0343a0bae078fd8b10e53e"
      }
     },
     "metadata": {},
     "output_type": "display_data"
    },
    {
     "name": "stderr",
     "output_type": "stream",
     "text": [
      "C:\\Users\\Patrick Xu\\AppData\\Local\\Programs\\Python\\Python310\\lib\\site-packages\\pytorch_lightning\\utilities\\data.py:98: UserWarning: Trying to infer the `batch_size` from an ambiguous collection. The batch size we found is 180. To avoid any miscalculations, use `self.log(..., batch_size=batch_size)`.\n",
      "  warning_cache.warn(\n",
      "C:\\Users\\Patrick Xu\\AppData\\Local\\Programs\\Python\\Python310\\lib\\site-packages\\pytorch_lightning\\utilities\\data.py:98: UserWarning: Trying to infer the `batch_size` from an ambiguous collection. The batch size we found is 65. To avoid any miscalculations, use `self.log(..., batch_size=batch_size)`.\n",
      "  warning_cache.warn(\n"
     ]
    },
    {
     "data": {
      "text/plain": "Training: 0it [00:00, ?it/s]",
      "application/vnd.jupyter.widget-view+json": {
       "version_major": 2,
       "version_minor": 0,
       "model_id": "442fedec3a404309b7c4bb88de134d47"
      }
     },
     "metadata": {},
     "output_type": "display_data"
    },
    {
     "data": {
      "text/plain": "Validation: 0it [00:00, ?it/s]",
      "application/vnd.jupyter.widget-view+json": {
       "version_major": 2,
       "version_minor": 0,
       "model_id": "3be7ebb23cbb44cea565ef408b94f3ad"
      }
     },
     "metadata": {},
     "output_type": "display_data"
    },
    {
     "name": "stderr",
     "output_type": "stream",
     "text": [
      "C:\\Users\\Patrick Xu\\AppData\\Local\\Programs\\Python\\Python310\\lib\\site-packages\\pytorch_lightning\\utilities\\data.py:98: UserWarning: Trying to infer the `batch_size` from an ambiguous collection. The batch size we found is 64. To avoid any miscalculations, use `self.log(..., batch_size=batch_size)`.\n",
      "  warning_cache.warn(\n",
      "C:\\Users\\Patrick Xu\\AppData\\Local\\Programs\\Python\\Python310\\lib\\site-packages\\pytorch_lightning\\utilities\\data.py:98: UserWarning: Trying to infer the `batch_size` from an ambiguous collection. The batch size we found is 121. To avoid any miscalculations, use `self.log(..., batch_size=batch_size)`.\n",
      "  warning_cache.warn(\n",
      "C:\\Users\\Patrick Xu\\AppData\\Local\\Programs\\Python\\Python310\\lib\\site-packages\\pytorch_lightning\\utilities\\data.py:98: UserWarning: Trying to infer the `batch_size` from an ambiguous collection. The batch size we found is 269. To avoid any miscalculations, use `self.log(..., batch_size=batch_size)`.\n",
      "  warning_cache.warn(\n",
      "C:\\Users\\Patrick Xu\\AppData\\Local\\Programs\\Python\\Python310\\lib\\site-packages\\pytorch_lightning\\utilities\\data.py:98: UserWarning: Trying to infer the `batch_size` from an ambiguous collection. The batch size we found is 358. To avoid any miscalculations, use `self.log(..., batch_size=batch_size)`.\n",
      "  warning_cache.warn(\n",
      "C:\\Users\\Patrick Xu\\AppData\\Local\\Programs\\Python\\Python310\\lib\\site-packages\\pytorch_lightning\\utilities\\data.py:98: UserWarning: Trying to infer the `batch_size` from an ambiguous collection. The batch size we found is 179. To avoid any miscalculations, use `self.log(..., batch_size=batch_size)`.\n",
      "  warning_cache.warn(\n",
      "C:\\Users\\Patrick Xu\\AppData\\Local\\Programs\\Python\\Python310\\lib\\site-packages\\pytorch_lightning\\utilities\\data.py:98: UserWarning: Trying to infer the `batch_size` from an ambiguous collection. The batch size we found is 178. To avoid any miscalculations, use `self.log(..., batch_size=batch_size)`.\n",
      "  warning_cache.warn(\n",
      "C:\\Users\\Patrick Xu\\AppData\\Local\\Programs\\Python\\Python310\\lib\\site-packages\\pytorch_lightning\\utilities\\data.py:98: UserWarning: Trying to infer the `batch_size` from an ambiguous collection. The batch size we found is 143. To avoid any miscalculations, use `self.log(..., batch_size=batch_size)`.\n",
      "  warning_cache.warn(\n",
      "C:\\Users\\Patrick Xu\\AppData\\Local\\Programs\\Python\\Python310\\lib\\site-packages\\pytorch_lightning\\utilities\\data.py:98: UserWarning: Trying to infer the `batch_size` from an ambiguous collection. The batch size we found is 120. To avoid any miscalculations, use `self.log(..., batch_size=batch_size)`.\n",
      "  warning_cache.warn(\n",
      "C:\\Users\\Patrick Xu\\AppData\\Local\\Programs\\Python\\Python310\\lib\\site-packages\\pytorch_lightning\\utilities\\data.py:98: UserWarning: Trying to infer the `batch_size` from an ambiguous collection. The batch size we found is 126. To avoid any miscalculations, use `self.log(..., batch_size=batch_size)`.\n",
      "  warning_cache.warn(\n",
      "C:\\Users\\Patrick Xu\\AppData\\Local\\Programs\\Python\\Python310\\lib\\site-packages\\pytorch_lightning\\utilities\\data.py:98: UserWarning: Trying to infer the `batch_size` from an ambiguous collection. The batch size we found is 140. To avoid any miscalculations, use `self.log(..., batch_size=batch_size)`.\n",
      "  warning_cache.warn(\n",
      "C:\\Users\\Patrick Xu\\AppData\\Local\\Programs\\Python\\Python310\\lib\\site-packages\\pytorch_lightning\\utilities\\data.py:98: UserWarning: Trying to infer the `batch_size` from an ambiguous collection. The batch size we found is 164. To avoid any miscalculations, use `self.log(..., batch_size=batch_size)`.\n",
      "  warning_cache.warn(\n",
      "C:\\Users\\Patrick Xu\\AppData\\Local\\Programs\\Python\\Python310\\lib\\site-packages\\pytorch_lightning\\utilities\\data.py:98: UserWarning: Trying to infer the `batch_size` from an ambiguous collection. The batch size we found is 80. To avoid any miscalculations, use `self.log(..., batch_size=batch_size)`.\n",
      "  warning_cache.warn(\n",
      "C:\\Users\\Patrick Xu\\AppData\\Local\\Programs\\Python\\Python310\\lib\\site-packages\\pytorch_lightning\\utilities\\data.py:98: UserWarning: Trying to infer the `batch_size` from an ambiguous collection. The batch size we found is 118. To avoid any miscalculations, use `self.log(..., batch_size=batch_size)`.\n",
      "  warning_cache.warn(\n"
     ]
    },
    {
     "data": {
      "text/plain": "Validation: 0it [00:00, ?it/s]",
      "application/vnd.jupyter.widget-view+json": {
       "version_major": 2,
       "version_minor": 0,
       "model_id": "89992c018cde4eb8a310aba51eaba35c"
      }
     },
     "metadata": {},
     "output_type": "display_data"
    },
    {
     "data": {
      "text/plain": "Validation: 0it [00:00, ?it/s]",
      "application/vnd.jupyter.widget-view+json": {
       "version_major": 2,
       "version_minor": 0,
       "model_id": "d10738a1619648b9add17a709c81b30a"
      }
     },
     "metadata": {},
     "output_type": "display_data"
    },
    {
     "data": {
      "text/plain": "Validation: 0it [00:00, ?it/s]",
      "application/vnd.jupyter.widget-view+json": {
       "version_major": 2,
       "version_minor": 0,
       "model_id": "1369d46910d1410aaf21264458bbf2f4"
      }
     },
     "metadata": {},
     "output_type": "display_data"
    },
    {
     "name": "stderr",
     "output_type": "stream",
     "text": [
      "`Trainer.fit` stopped: `max_epochs=40` reached.\n"
     ]
    }
   ],
   "source": [
    "strategy.train()"
   ],
   "metadata": {
    "collapsed": false,
    "ExecuteTime": {
     "start_time": "2024-03-13T13:37:52.811382Z",
     "end_time": "2024-03-13T13:42:30.097438Z"
    }
   }
  },
  {
   "cell_type": "code",
   "execution_count": 21,
   "outputs": [],
   "source": [
    "# q_idxs = strategy.query(NUM_QUERY)"
   ],
   "metadata": {
    "collapsed": false,
    "ExecuteTime": {
     "start_time": "2024-03-13T13:37:05.595291Z",
     "end_time": "2024-03-13T13:37:05.908292Z"
    }
   }
  },
  {
   "cell_type": "code",
   "execution_count": 118,
   "outputs": [
    {
     "name": "stderr",
     "output_type": "stream",
     "text": [
      "LOCAL_RANK: 0 - CUDA_VISIBLE_DEVICES: [0]\n"
     ]
    },
    {
     "data": {
      "text/plain": "Predicting: 4it [00:00, ?it/s]",
      "application/vnd.jupyter.widget-view+json": {
       "version_major": 2,
       "version_minor": 0,
       "model_id": "69f54142fa294d158f47affad7c28953"
      }
     },
     "metadata": {},
     "output_type": "display_data"
    }
   ],
   "source": [
    "_, unlabeled_data = strategy.dataset.get_unlabeled_data()\n",
    "probs, seq_len = strategy.predict_prob(unlabeled_data)"
   ],
   "metadata": {
    "collapsed": false,
    "ExecuteTime": {
     "start_time": "2024-03-13T11:53:19.346193Z",
     "end_time": "2024-03-13T11:56:11.319807Z"
    }
   }
  },
  {
   "cell_type": "code",
   "execution_count": 115,
   "outputs": [
    {
     "data": {
      "text/plain": "array([   90,   180,   218,   308,   398,   488,   562,   652,   742,\n         832,   907,   967,  1057,  1147,  1237,  1327,  1417,  1507,\n        1597,  1687,  1777,  1867,  1957,  2047,  2137,  2227,  2317,\n        2407,  2497,  2587,  2677,  2767,  2857,  2947,  3037,  3127,\n        3217,  3307,  3397,  3487,  3577,  3667,  3757,  3814,  3904,\n        3994,  4084,  4174,  4264,  4354,  4444,  4534,  4624,  4714,\n        4804,  4894,  4984,  5074,  5164,  5254,  5344,  5434,  5524,\n        5614,  5704,  5794,  5884,  5974,  6064,  6154,  6244,  6334,\n        6424,  6514,  6604,  6694,  6784,  6874,  6964,  7054,  7144,\n        7234,  7324,  7414,  7504,  7594,  7624,  7714,  7804,  7894,\n        7984,  8074,  8164,  8254,  8344,  8434,  8524,  8614,  8687,\n        8777,  8867,  8957,  9047,  9137,  9227,  9317,  9407,  9497,\n        9587,  9677,  9767,  9857,  9947, 10037, 10127, 10217, 10307,\n       10397, 10487, 10577, 10667, 10757, 10847, 10937, 11027, 11116,\n       11206, 11296, 11386, 11476, 11566, 11656, 11746, 11836, 11926,\n       12016, 12106, 12196, 12286, 12376, 12466, 12556, 12646, 12736,\n       12826, 12916, 13006, 13096, 13186, 13276, 13365, 13455, 13545,\n       13635, 13725, 13815, 13873, 13963, 14053, 14143, 14233, 14323,\n       14413, 14503, 14593, 14683, 14773, 14863, 14953, 15043, 15133,\n       15223, 15313, 15403, 15493, 15583, 15673, 15763, 15853, 15943,\n       16033, 16123, 16213, 16303, 16393, 16483, 16573, 16663, 16753,\n       16843, 16933, 17023, 17113, 17203, 17293, 17383, 17473, 17563,\n       17653, 17743, 17833, 17923, 18013, 18103, 18193, 18283, 18373,\n       18463, 18553, 18625, 18715, 18805, 18895, 18985, 19075, 19165,\n       19255, 19345, 19435, 19525, 19615, 19705, 19795, 19885, 19975,\n       20065, 20155, 20245, 20335, 20425, 20515, 20605, 20695, 20785,\n       20875, 20965, 21055, 21145, 21235, 21325, 21415, 21505, 21595,\n       21685, 21775, 21865, 21955, 22045, 22135, 22224, 22314, 22404,\n       22494, 22584, 22674, 22763, 22853, 22943, 23033, 23123, 23213,\n       23303, 23393, 23483, 23573, 23663, 23753, 23843, 23933, 24023,\n       24113, 24203, 24292, 24382, 24472, 24562, 24652, 24742, 24831,\n       24920, 25010, 25100, 25190, 25279, 25369, 25459, 25549, 25639,\n       25729, 25819, 25909, 25999, 26089, 26179, 26269, 26359, 26449,\n       26539, 26629, 26719, 26809, 26899, 26989, 27079, 27169, 27259,\n       27349, 27439, 27529, 27619, 27709, 27799, 27889, 27979, 28069,\n       28159, 28249, 28339, 28404, 28494, 28584, 28674, 28764, 28854,\n       28914, 28974, 28999, 29059, 29083, 29114, 29174, 29234, 29279,\n       29325, 29385, 29445, 29505, 29565, 29625, 29685, 29745, 29804,\n       29864, 29909, 29969, 30029, 30053, 30113, 30173, 30233, 30293,\n       30321, 30381, 30416, 30476, 30536, 30596, 30656, 30716, 30741,\n       30801, 30861, 30921, 30981, 31041, 31101, 31161, 31209, 31269,\n       31329, 31389, 31449, 31473, 31533, 31593, 31653, 31713, 31773,\n       31824, 31884, 31944, 31986, 32076, 32165, 32254, 32344, 32433,\n       32523, 32613, 32703, 32793, 32835, 32925, 33014, 33103, 33192,\n       33281, 33371, 33460, 33549, 33638, 33728, 33817, 33906, 33995,\n       34085, 34175, 34265, 34355, 34386, 34476, 34518, 34607, 34696,\n       34786, 34876, 34908, 34947, 34990, 35028, 35118, 35155, 35245,\n       35334, 35424, 35513, 35603, 35633, 35723, 35813, 35903, 35993,\n       36083, 36123, 36212, 36302, 36335, 36424, 36514, 36604, 36650,\n       36692, 36725, 36814, 36846, 36936, 37025, 37056, 37146, 37235,\n       37324, 37359, 37396, 37486, 37575, 37619, 37709, 37799, 37888,\n       37977, 38067, 38101, 38191, 38235, 38324, 38414, 38504, 38594,\n       38683, 38720, 38809, 38899, 38989, 39079, 39169, 39259, 39309,\n       39399, 39489, 39579, 39669, 39759, 39849, 39916, 40006, 40096,\n       40186, 40228, 40318, 40408, 40498, 40588, 40678, 40768, 40858,\n       40948, 41038, 41128, 41217, 41307, 41396, 41486, 41576, 41665,\n       41755, 41845, 41935, 42025, 42114, 42204, 42293, 42383, 42473,\n       42563, 42653, 42743, 42833, 42923, 43013, 43103, 43193, 43283,\n       43373, 43463, 43553, 43643, 43733, 43823, 43913, 44003, 44093,\n       44183, 44273, 44363, 44453, 44543, 44633, 44723, 44813, 44903,\n       44993, 45083, 45173, 45263, 45327, 45417, 45507, 45597, 45687,\n       45777, 45867, 45957, 46047, 46137, 46227, 46317, 46407, 46497,\n       46587, 46677, 46767, 46857, 46947, 47037, 47127, 47217, 47307,\n       47360, 47450, 47540, 47630, 47720, 47810, 47900, 47933, 48023,\n       48113, 48203, 48293, 48383, 48473, 48563, 48653, 48743, 48833,\n       48923, 49013, 49103, 49193, 49283, 49373, 49463, 49553, 49643,\n       49733, 49823, 49913, 49956, 50046, 50136, 50226, 50316, 50406,\n       50496, 50586, 50676, 50766, 50856, 50946, 51036, 51126, 51216,\n       51306, 51396, 51486, 51576, 51666, 51756, 51846, 51936, 52026,\n       52116, 52206, 52296, 52386, 52476, 52566, 52656, 52746, 52836,\n       52926, 53016, 53106, 53196, 53286, 53376, 53466, 53556, 53646,\n       53736, 53826, 53916, 54006, 54096, 54186, 54276, 54366, 54456,\n       54546, 54636, 54726, 54816, 54906, 54996, 55086, 55176, 55266,\n       55356, 55446, 55536, 55626, 55716, 55806, 55896, 55986, 56076,\n       56166, 56256, 56346, 56436, 56526, 56616, 56706, 56796, 56885,\n       56975, 57065, 57155, 57245, 57335, 57425, 57515, 57605, 57695,\n       57785, 57875, 57965, 58055, 58145, 58235, 58325, 58415, 58505,\n       58595, 58685, 58775, 58865, 58955, 59045, 59135, 59225, 59314,\n       59403, 59492, 59581, 59670, 59759, 59849, 59938, 60027, 60116,\n       60206, 60295, 60384, 60473, 60563, 60653, 60743, 60832, 60921,\n       61010, 61099, 61189, 61278, 61368, 61457, 61547, 61637, 61727,\n       61817, 61906, 61995, 62084, 62173, 62263, 62353, 62443, 62533,\n       62622, 62711, 62800, 62889, 62978, 63067, 63157, 63246, 63336,\n       63425, 63514, 63603, 63693, 63782, 63872, 63961, 64050, 64140,\n       64229, 64318, 64408, 64497, 64586, 64675, 64764, 64853, 64942,\n       65031, 65121, 65210, 65300, 65389, 65478, 65568, 65658, 65747,\n       65836, 65925, 66014, 66104, 66193, 66282, 66371, 66460, 66549,\n       66638, 66728, 66817, 66907, 66996, 67085, 67174, 67209, 67299,\n       67388, 67478, 67567, 67657, 67747, 67837, 67927, 68017, 68107,\n       68197, 68287, 68377, 68467, 68557, 68647, 68729, 68819, 68909,\n       68999, 69089, 69179, 69269, 69299, 69388, 69478, 69568, 69658,\n       69748, 69838, 69928, 70018, 70108, 70198, 70288, 70378, 70468,\n       70557, 70647, 70737, 70827, 70917, 71007, 71097, 71187, 71277,\n       71367, 71457, 71546, 71636, 71726, 71816, 71906, 71996, 72086,\n       72176, 72266, 72356, 72446, 72536, 72626, 72716, 72806, 72896,\n       72986, 73076, 73166, 73256, 73346, 73436, 73526, 73616, 73706,\n       73788, 73878, 73968, 74058, 74148, 74238, 74328, 74418, 74508,\n       74598, 74688, 74778, 74868, 74958, 75048, 75138, 75228, 75258,\n       75347, 75437, 75527, 75617, 75707, 75796, 75886, 75976, 76066,\n       76156, 76246, 76336, 76426, 76516, 76606, 76696, 76786, 76876,\n       76966, 77056, 77146, 77236, 77326, 77416, 77506, 77596, 77686,\n       77776, 77866, 77956, 78046, 78136, 78225, 78315, 78405, 78495,\n       78585, 78675, 78765, 78855, 78945, 79035, 79125, 79215, 79305,\n       79395, 79485, 79574, 79664, 79754, 79844, 79934, 80024, 80114,\n       80204, 80294, 80384, 80473, 80563, 80653, 80743, 80833, 80923,\n       81013, 81102, 81191, 81281, 81371, 81460, 81550, 81640, 81730,\n       81820, 81910, 82000, 82090, 82179, 82269, 82359, 82449, 82538,\n       82628, 82718, 82807, 82897, 82987, 83077, 83167, 83256, 83346,\n       83436, 83526, 83616, 83705, 83794, 83883, 83973, 84063, 84152,\n       84242, 84332], dtype=int64)"
     },
     "execution_count": 115,
     "metadata": {},
     "output_type": "execute_result"
    }
   ],
   "source": [
    "np.cumsum(torch.tensor(seq_len).squeeze(1).numpy())"
   ],
   "metadata": {
    "collapsed": false,
    "ExecuteTime": {
     "start_time": "2024-03-13T11:48:54.143252Z",
     "end_time": "2024-03-13T11:48:54.490251Z"
    }
   }
  },
  {
   "cell_type": "code",
   "execution_count": 116,
   "outputs": [
    {
     "data": {
      "text/plain": "84332"
     },
     "execution_count": 116,
     "metadata": {},
     "output_type": "execute_result"
    }
   ],
   "source": [
    "len(probs)"
   ],
   "metadata": {
    "collapsed": false,
    "ExecuteTime": {
     "start_time": "2024-03-13T11:49:11.919448Z",
     "end_time": "2024-03-13T11:49:12.247151Z"
    }
   }
  },
  {
   "cell_type": "code",
   "execution_count": 97,
   "outputs": [
    {
     "data": {
      "text/plain": "tensor(0.8593)"
     },
     "execution_count": 97,
     "metadata": {},
     "output_type": "execute_result"
    }
   ],
   "source": [
    "torch.mean(probs[:,0])"
   ],
   "metadata": {
    "collapsed": false,
    "ExecuteTime": {
     "start_time": "2024-03-13T11:27:25.840709Z",
     "end_time": "2024-03-13T11:27:26.257706Z"
    }
   }
  },
  {
   "cell_type": "code",
   "execution_count": 29,
   "outputs": [
    {
     "ename": "NameError",
     "evalue": "name 'values' is not defined",
     "output_type": "error",
     "traceback": [
      "\u001B[1;31m---------------------------------------------------------------------------\u001B[0m",
      "\u001B[1;31mNameError\u001B[0m                                 Traceback (most recent call last)",
      "Input \u001B[1;32mIn [29]\u001B[0m, in \u001B[0;36m<cell line: 37>\u001B[1;34m()\u001B[0m\n\u001B[0;32m     35\u001B[0m arr \u001B[38;5;241m=\u001B[39m [\u001B[38;5;241m-\u001B[39m\u001B[38;5;241m2\u001B[39m, \u001B[38;5;241m-\u001B[39m\u001B[38;5;241m3\u001B[39m, \u001B[38;5;241m4\u001B[39m, \u001B[38;5;241m-\u001B[39m\u001B[38;5;241m1\u001B[39m, \u001B[38;5;241m-\u001B[39m\u001B[38;5;241m2\u001B[39m, \u001B[38;5;241m1\u001B[39m, \u001B[38;5;241m5\u001B[39m, \u001B[38;5;241m-\u001B[39m\u001B[38;5;241m3\u001B[39m]\n\u001B[0;32m     36\u001B[0m \u001B[38;5;66;03m# min_sum, start_index, end_index = min_subarray_sum_with_indices(arr)\u001B[39;00m\n\u001B[1;32m---> 37\u001B[0m max_sum, start_index, end_index \u001B[38;5;241m=\u001B[39m max_subarray_sum_with_indices_soft_margin(\u001B[43mvalues\u001B[49m,margin\u001B[38;5;241m=\u001B[39m\u001B[38;5;241m50\u001B[39m)\n\u001B[0;32m     38\u001B[0m \u001B[38;5;28mprint\u001B[39m(\u001B[38;5;124mf\u001B[39m\u001B[38;5;124m\"\u001B[39m\u001B[38;5;124mMinimum sum: \u001B[39m\u001B[38;5;132;01m{\u001B[39;00mmax_sum\u001B[38;5;132;01m}\u001B[39;00m\u001B[38;5;124m, Start index: \u001B[39m\u001B[38;5;132;01m{\u001B[39;00mstart_index\u001B[38;5;132;01m}\u001B[39;00m\u001B[38;5;124m, End index: \u001B[39m\u001B[38;5;132;01m{\u001B[39;00mend_index\u001B[38;5;132;01m}\u001B[39;00m\u001B[38;5;124m\"\u001B[39m)\n",
      "\u001B[1;31mNameError\u001B[0m: name 'values' is not defined"
     ]
    }
   ],
   "source": [
    "def max_subarray_sum_with_indices_soft_margin(arr, margin):\n",
    "    if not arr:  # handle empty array case\n",
    "        return 0, -1, -1\n",
    "\n",
    "    max_ending_here = max_so_far = arr[0]\n",
    "    start = end = 0\n",
    "    temp_start = 0\n",
    "    # Introduce a margin count to keep track of how many times we've applied the soft margin\n",
    "    margin_count = 0\n",
    "\n",
    "    for i, x in enumerate(arr[1:], start=1):\n",
    "        if x > max_ending_here + x:\n",
    "            max_ending_here = x\n",
    "            temp_start = i\n",
    "            margin_count = 0  # Reset margin count for a new start\n",
    "        else:\n",
    "            # Apply soft margin: if the addition is negative but within the margin, continue the current subarray\n",
    "            if max_ending_here + x - max_ending_here < margin:\n",
    "                margin_count += 1\n",
    "                max_ending_here += x\n",
    "            else:\n",
    "                max_ending_here += x\n",
    "\n",
    "        if max_ending_here > max_so_far:\n",
    "            max_so_far = max_ending_here\n",
    "            start = temp_start\n",
    "            end = i\n",
    "            margin_count = 0  # Reset margin count after finding a new max\n",
    "\n",
    "    return max_so_far, start, end\n",
    "\n",
    "\n",
    "\n",
    "# Example usage:\n",
    "arr = [-2, -3, 4, -1, -2, 1, 5, -3]\n",
    "# min_sum, start_index, end_index = min_subarray_sum_with_indices(arr)\n",
    "max_sum, start_index, end_index = max_subarray_sum_with_indices_soft_margin(values,margin=50)\n",
    "print(f\"Minimum sum: {max_sum}, Start index: {start_index}, End index: {end_index}\")\n"
   ],
   "metadata": {
    "collapsed": false,
    "ExecuteTime": {
     "start_time": "2024-03-12T18:28:51.407027Z",
     "end_time": "2024-03-12T18:28:51.714027Z"
    }
   }
  },
  {
   "cell_type": "code",
   "execution_count": 135,
   "outputs": [
    {
     "data": {
      "text/plain": "tensor([0.9982, 0.9991, 0.9993, 0.9993, 0.9992, 0.9992, 0.9992, 0.9991, 0.9991,\n        0.9991, 0.9991, 0.9991, 0.9991, 0.9991, 0.9991, 0.9991, 0.9991, 0.9991,\n        0.9991, 0.9991, 0.9991, 0.9991, 0.9991, 0.9991, 0.9992, 0.9992, 0.9991,\n        0.9992, 0.9991, 0.9992, 0.9992, 0.9992, 0.9992, 0.9992, 0.9991, 0.9991,\n        0.9991, 0.9991, 0.9991, 0.9991, 0.9991, 0.9991, 0.9990, 0.9991, 0.9990,\n        0.9990, 0.9990, 0.9991, 0.9991, 0.9991, 0.9991, 0.9991, 0.9991, 0.9991,\n        0.9991, 0.9991, 0.9992, 0.9991, 0.9991, 0.9991, 0.9991, 0.9991, 0.9990,\n        0.9991, 0.9991, 0.9991, 0.9991, 0.9991, 0.9991, 0.9991, 0.9991, 0.9991,\n        0.9991, 0.9991, 0.9991, 0.9991, 0.9991, 0.9991, 0.9991, 0.9991, 0.9991,\n        0.9991, 0.9991, 0.9991, 0.9991, 0.9991, 0.9992, 0.9992, 0.9991, 0.9982])"
     },
     "execution_count": 135,
     "metadata": {},
     "output_type": "execute_result"
    }
   ],
   "source": [
    "dataset.combine_window_to_episode(probs, seq_len)[i].max(1)[0]"
   ],
   "metadata": {
    "collapsed": false,
    "ExecuteTime": {
     "start_time": "2024-03-13T12:07:13.968596Z",
     "end_time": "2024-03-13T12:07:14.525877Z"
    }
   }
  },
  {
   "cell_type": "code",
   "execution_count": 101,
   "outputs": [
    {
     "data": {
      "text/plain": "array([   90,   180,   213,   245,   276,   309,   399,   489,   579,\n         610,   700,   790,   880,   970,  1060,  1239,  1418,  1597,\n        1776,  1955,  2134,  2313,  2403,  2492,  2581,  2670,  2760,\n        2849,  2939,  3028,  3118,  3207,  3296,  3385,  3475,  3565,\n        3655,  3745,  3834,  3924,  4013,  4103,  4193,  4283,  4373,\n        4463,  4553,  4643,  4733,  4823,  4912,  5002,  5092,  5182,\n        5272,  5361,  5450,  5540,  5630,  5720,  5810,  5900,  5990,\n        6079,  6168,  6258,  6348,  6438,  6527,  6616,  6706,  6796,\n        6886,  6976,  7066,  7156,  7246,  7335,  7425,  7515,  7604,\n        7693,  7783,  7873,  7963,  8052,  8141,  8195,  8285,  8374,\n        8463,  8552,  8642,  8731,  8820,  8910,  8999,  9089,  9179,\n        9269,  9358,  9448,  9538,  9627,  9716,  9805,  9895,  9984,\n       10073, 10163, 10253, 10342, 10431, 10521, 10610, 10699, 10789,\n       10879, 10969, 11059, 11148, 11237, 11326, 11415, 11504, 11593,\n       11682, 11771, 11861, 11950, 12039, 12128, 12217, 12248, 12337,\n       12427, 12516, 12606, 12643, 12732, 12821, 12911, 13001, 13091,\n       13180, 13269, 13359, 13448, 13538, 13628, 13717, 13806, 13895,\n       13985, 14075, 14165, 14254, 14344, 14433, 14523, 14612, 14701,\n       14731, 14821, 14911, 15000, 15089, 15179, 15268, 15357, 15447,\n       15537, 15627, 15717, 15767, 15857, 15947, 16021, 16068, 16101,\n       16191, 16281, 16371, 16461, 16551, 16641, 16731, 16821, 16911,\n       17001, 17091, 17181, 17271, 17361, 17451, 17541, 17613, 17659,\n       17749, 17839, 17929, 18019, 18109, 18199, 18289, 18379, 18469,\n       18500, 18590, 18680, 18769, 18859, 18948, 19037, 19127, 19217,\n       19307, 19397, 19487, 19577, 19667, 19757, 19846, 19936, 20026,\n       20115, 20205, 20294, 20383, 20472, 20562, 20652, 20742, 20831,\n       20920, 21009, 21098, 21187, 21277, 21366, 21455, 21544, 21634,\n       21724, 21814, 21903, 21992, 22081, 22170, 22259, 22348, 22437,\n       22527, 22617, 22706, 22795, 22884, 22974, 23063, 23152, 23241,\n       23331, 23420, 23509, 23599, 23688, 23777, 23866, 23955, 24045])"
     },
     "execution_count": 101,
     "metadata": {},
     "output_type": "execute_result"
    }
   ],
   "source": [
    "np.cumsum(seq_len_test)"
   ],
   "metadata": {
    "collapsed": false,
    "ExecuteTime": {
     "start_time": "2024-03-13T11:28:29.839239Z",
     "end_time": "2024-03-13T11:28:30.191237Z"
    }
   }
  },
  {
   "cell_type": "code",
   "execution_count": 99,
   "outputs": [
    {
     "data": {
      "text/plain": "84332"
     },
     "execution_count": 99,
     "metadata": {},
     "output_type": "execute_result"
    }
   ],
   "source": [
    "len(probs)"
   ],
   "metadata": {
    "collapsed": false,
    "ExecuteTime": {
     "start_time": "2024-03-13T11:28:10.718105Z",
     "end_time": "2024-03-13T11:28:11.045102Z"
    }
   }
  },
  {
   "cell_type": "code",
   "execution_count": 186,
   "outputs": [],
   "source": [
    "arr = []\n",
    "large_v = dataset.combine_window_to_episode(probs, seq_len)\n",
    "for i in range(len(seq_len)):\n",
    "    values = (0.928-large_v[i].max(1)[0]).tolist()\n",
    "    max_sum, start_index, end_index = max_subarray_sum_with_indices_soft_margin(values, margin=50)\n",
    "    arr.append([max_sum, start_index, end_index])\n",
    "arr = np.array(arr)\n"
   ],
   "metadata": {
    "collapsed": false,
    "ExecuteTime": {
     "start_time": "2024-03-13T13:08:30.319152Z",
     "end_time": "2024-03-13T13:08:30.862152Z"
    }
   }
  },
  {
   "cell_type": "code",
   "execution_count": 180,
   "outputs": [
    {
     "data": {
      "text/plain": "2590.0"
     },
     "execution_count": 180,
     "metadata": {},
     "output_type": "execute_result"
    }
   ],
   "source": [
    "tot = 0\n",
    "len_list = []\n",
    "arr = arr[(arr[:,2]-arr[:,1])>10]\n",
    "for ind in np.argsort(-arr[:,0]):\n",
    "    tot += arr[ind][2]-arr[ind][1]\n",
    "    len_list.append(tot)\n",
    "tot"
   ],
   "metadata": {
    "collapsed": false,
    "ExecuteTime": {
     "start_time": "2024-03-13T13:08:00.237395Z",
     "end_time": "2024-03-13T13:08:00.773395Z"
    }
   }
  },
  {
   "cell_type": "code",
   "execution_count": 187,
   "outputs": [],
   "source": [
    "starting_indices = np.roll(np.cumsum(seq_len), 1)\n",
    "starting_indices[0] = 0\n",
    "arr[:,1] += starting_indices\n",
    "arr[:,2] += starting_indices\n",
    "to_select_arr = np.zeros(len(probs))\n",
    "cleaned_arr = arr[(arr[:,2]-arr[:,1])>10]\n"
   ],
   "metadata": {
    "collapsed": false,
    "ExecuteTime": {
     "start_time": "2024-03-13T13:08:33.672153Z",
     "end_time": "2024-03-13T13:08:34.124152Z"
    }
   }
  },
  {
   "cell_type": "code",
   "execution_count": 195,
   "outputs": [
    {
     "data": {
      "text/plain": "array([0., 0., 0., ..., 0., 0., 0.])"
     },
     "execution_count": 195,
     "metadata": {},
     "output_type": "execute_result"
    }
   ],
   "source": [
    "for i in np.argsort(-cleaned_arr[:,0]):\n",
    "    to_select_ind = np.arange(cleaned_arr[i,1],cleaned_arr[i,2],dtype=int)\n",
    "    to_select_arr[to_select_ind] = 1\n",
    "    if np.sum(to_select_arr)>1700:\n",
    "        break\n",
    "to_select_arr"
   ],
   "metadata": {
    "collapsed": false,
    "ExecuteTime": {
     "start_time": "2024-03-13T13:15:32.595677Z",
     "end_time": "2024-03-13T13:15:32.924678Z"
    }
   }
  },
  {
   "cell_type": "code",
   "execution_count": 196,
   "outputs": [
    {
     "data": {
      "text/plain": "1718.0"
     },
     "execution_count": 196,
     "metadata": {},
     "output_type": "execute_result"
    }
   ],
   "source": [
    "np.sum(to_select_arr)"
   ],
   "metadata": {
    "collapsed": false,
    "ExecuteTime": {
     "start_time": "2024-03-13T13:16:28.859741Z",
     "end_time": "2024-03-13T13:16:29.213742Z"
    }
   }
  },
  {
   "cell_type": "code",
   "execution_count": 194,
   "outputs": [
    {
     "data": {
      "text/plain": "array([33156., 33157., 33158., 33159., 33160., 33161., 33162., 33163.,\n       33164., 33165., 33166., 33167., 33168., 33169., 33170., 33171.,\n       33172., 33173., 33174., 33175., 33176., 33177., 33178., 33179.])"
     },
     "execution_count": 194,
     "metadata": {},
     "output_type": "execute_result"
    }
   ],
   "source": [
    "to_select_ind"
   ],
   "metadata": {
    "collapsed": false,
    "ExecuteTime": {
     "start_time": "2024-03-13T13:15:03.172164Z",
     "end_time": "2024-03-13T13:15:03.501192Z"
    }
   }
  },
  {
   "cell_type": "code",
   "execution_count": 177,
   "outputs": [
    {
     "data": {
      "text/plain": "tensor([[0.8961, 0.1039],\n        [0.8176, 0.1824],\n        [0.7104, 0.2896],\n        [0.6186, 0.3814],\n        [0.5194, 0.4806],\n        [0.4559, 0.5441],\n        [0.4234, 0.5766],\n        [0.4196, 0.5804],\n        [0.4983, 0.5017],\n        [0.5614, 0.4386],\n        [0.5177, 0.4823],\n        [0.6541, 0.3459],\n        [0.6731, 0.3269],\n        [0.7166, 0.2834],\n        [0.6129, 0.3871],\n        [0.4985, 0.5015],\n        [0.5485, 0.4515],\n        [0.5036, 0.4964],\n        [0.2851, 0.7149],\n        [0.3271, 0.6729],\n        [0.3871, 0.6129],\n        [0.3539, 0.6461],\n        [0.3365, 0.6635],\n        [0.5479, 0.4521]])"
     },
     "execution_count": 177,
     "metadata": {},
     "output_type": "execute_result"
    }
   ],
   "source": [
    "probs[33156:33180]"
   ],
   "metadata": {
    "collapsed": false,
    "ExecuteTime": {
     "start_time": "2024-03-13T13:07:25.765886Z",
     "end_time": "2024-03-13T13:07:26.090888Z"
    }
   }
  },
  {
   "cell_type": "code",
   "execution_count": 146,
   "outputs": [],
   "source": [
    "starting_indices = np.roll(np.cumsum(seq_len), 1)\n",
    "starting_indices[0] = 0"
   ],
   "metadata": {
    "collapsed": false,
    "ExecuteTime": {
     "start_time": "2024-03-13T13:00:25.024772Z",
     "end_time": "2024-03-13T13:00:25.342774Z"
    }
   }
  },
  {
   "cell_type": "code",
   "execution_count": 151,
   "outputs": [],
   "source": [],
   "metadata": {
    "collapsed": false,
    "ExecuteTime": {
     "start_time": "2024-03-13T13:01:08.210616Z",
     "end_time": "2024-03-13T13:01:08.523624Z"
    }
   }
  },
  {
   "cell_type": "code",
   "execution_count": 147,
   "outputs": [
    {
     "data": {
      "text/plain": "array([    0,    90,   180,   218,   308,   398,   488,   562,   652,\n         742,   832,   907,   967,  1057,  1147,  1237,  1327,  1417,\n        1507,  1597,  1687,  1777,  1867,  1957,  2047,  2137,  2227,\n        2317,  2407,  2497,  2587,  2677,  2767,  2857,  2947,  3037,\n        3127,  3217,  3307,  3397,  3487,  3577,  3667,  3757,  3814,\n        3904,  3994,  4084,  4174,  4264,  4354,  4444,  4534,  4624,\n        4714,  4804,  4894,  4984,  5074,  5164,  5254,  5344,  5434,\n        5524,  5614,  5704,  5794,  5884,  5974,  6064,  6154,  6244,\n        6334,  6424,  6514,  6604,  6694,  6784,  6874,  6964,  7054,\n        7144,  7234,  7324,  7414,  7504,  7594,  7624,  7714,  7804,\n        7894,  7984,  8074,  8164,  8254,  8344,  8434,  8524,  8614,\n        8687,  8777,  8867,  8957,  9047,  9137,  9227,  9317,  9407,\n        9497,  9587,  9677,  9767,  9857,  9947, 10037, 10127, 10217,\n       10307, 10397, 10487, 10577, 10667, 10757, 10847, 10937, 11027,\n       11116, 11206, 11296, 11386, 11476, 11566, 11656, 11746, 11836,\n       11926, 12016, 12106, 12196, 12286, 12376, 12466, 12556, 12646,\n       12736, 12826, 12916, 13006, 13096, 13186, 13276, 13365, 13455,\n       13545, 13635, 13725, 13815, 13873, 13963, 14053, 14143, 14233,\n       14323, 14413, 14503, 14593, 14683, 14773, 14863, 14953, 15043,\n       15133, 15223, 15313, 15403, 15493, 15583, 15673, 15763, 15853,\n       15943, 16033, 16123, 16213, 16303, 16393, 16483, 16573, 16663,\n       16753, 16843, 16933, 17023, 17113, 17203, 17293, 17383, 17473,\n       17563, 17653, 17743, 17833, 17923, 18013, 18103, 18193, 18283,\n       18373, 18463, 18553, 18625, 18715, 18805, 18895, 18985, 19075,\n       19165, 19255, 19345, 19435, 19525, 19615, 19705, 19795, 19885,\n       19975, 20065, 20155, 20245, 20335, 20425, 20515, 20605, 20695,\n       20785, 20875, 20965, 21055, 21145, 21235, 21325, 21415, 21505,\n       21595, 21685, 21775, 21865, 21955, 22045, 22135, 22224, 22314,\n       22404, 22494, 22584, 22674, 22763, 22853, 22943, 23033, 23123,\n       23213, 23303, 23393, 23483, 23573, 23663, 23753, 23843, 23933,\n       24023, 24113, 24203, 24292, 24382, 24472, 24562, 24652, 24742,\n       24831, 24920, 25010, 25100, 25190, 25279, 25369, 25459, 25549,\n       25639, 25729, 25819, 25909, 25999, 26089, 26179, 26269, 26359,\n       26449, 26539, 26629, 26719, 26809, 26899, 26989, 27079, 27169,\n       27259, 27349, 27439, 27529, 27619, 27709, 27799, 27889, 27979,\n       28069, 28159, 28249, 28339, 28404, 28494, 28584, 28674, 28764,\n       28854, 28914, 28974, 28999, 29059, 29083, 29114, 29174, 29234,\n       29279, 29325, 29385, 29445, 29505, 29565, 29625, 29685, 29745,\n       29804, 29864, 29909, 29969, 30029, 30053, 30113, 30173, 30233,\n       30293, 30321, 30381, 30416, 30476, 30536, 30596, 30656, 30716,\n       30741, 30801, 30861, 30921, 30981, 31041, 31101, 31161, 31209,\n       31269, 31329, 31389, 31449, 31473, 31533, 31593, 31653, 31713,\n       31773, 31824, 31884, 31944, 31986, 32076, 32165, 32254, 32344,\n       32433, 32523, 32613, 32703, 32793, 32835, 32925, 33014, 33103,\n       33192, 33281, 33371, 33460, 33549, 33638, 33728, 33817, 33906,\n       33995, 34085, 34175, 34265, 34355, 34386, 34476, 34518, 34607,\n       34696, 34786, 34876, 34908, 34947, 34990, 35028, 35118, 35155,\n       35245, 35334, 35424, 35513, 35603, 35633, 35723, 35813, 35903,\n       35993, 36083, 36123, 36212, 36302, 36335, 36424, 36514, 36604,\n       36650, 36692, 36725, 36814, 36846, 36936, 37025, 37056, 37146,\n       37235, 37324, 37359, 37396, 37486, 37575, 37619, 37709, 37799,\n       37888, 37977, 38067, 38101, 38191, 38235, 38324, 38414, 38504,\n       38594, 38683, 38720, 38809, 38899, 38989, 39079, 39169, 39259,\n       39309, 39399, 39489, 39579, 39669, 39759, 39849, 39916, 40006,\n       40096, 40186, 40228, 40318, 40408, 40498, 40588, 40678, 40768,\n       40858, 40948, 41038, 41128, 41217, 41307, 41396, 41486, 41576,\n       41665, 41755, 41845, 41935, 42025, 42114, 42204, 42293, 42383,\n       42473, 42563, 42653, 42743, 42833, 42923, 43013, 43103, 43193,\n       43283, 43373, 43463, 43553, 43643, 43733, 43823, 43913, 44003,\n       44093, 44183, 44273, 44363, 44453, 44543, 44633, 44723, 44813,\n       44903, 44993, 45083, 45173, 45263, 45327, 45417, 45507, 45597,\n       45687, 45777, 45867, 45957, 46047, 46137, 46227, 46317, 46407,\n       46497, 46587, 46677, 46767, 46857, 46947, 47037, 47127, 47217,\n       47307, 47360, 47450, 47540, 47630, 47720, 47810, 47900, 47933,\n       48023, 48113, 48203, 48293, 48383, 48473, 48563, 48653, 48743,\n       48833, 48923, 49013, 49103, 49193, 49283, 49373, 49463, 49553,\n       49643, 49733, 49823, 49913, 49956, 50046, 50136, 50226, 50316,\n       50406, 50496, 50586, 50676, 50766, 50856, 50946, 51036, 51126,\n       51216, 51306, 51396, 51486, 51576, 51666, 51756, 51846, 51936,\n       52026, 52116, 52206, 52296, 52386, 52476, 52566, 52656, 52746,\n       52836, 52926, 53016, 53106, 53196, 53286, 53376, 53466, 53556,\n       53646, 53736, 53826, 53916, 54006, 54096, 54186, 54276, 54366,\n       54456, 54546, 54636, 54726, 54816, 54906, 54996, 55086, 55176,\n       55266, 55356, 55446, 55536, 55626, 55716, 55806, 55896, 55986,\n       56076, 56166, 56256, 56346, 56436, 56526, 56616, 56706, 56796,\n       56885, 56975, 57065, 57155, 57245, 57335, 57425, 57515, 57605,\n       57695, 57785, 57875, 57965, 58055, 58145, 58235, 58325, 58415,\n       58505, 58595, 58685, 58775, 58865, 58955, 59045, 59135, 59225,\n       59314, 59403, 59492, 59581, 59670, 59759, 59849, 59938, 60027,\n       60116, 60206, 60295, 60384, 60473, 60563, 60653, 60743, 60832,\n       60921, 61010, 61099, 61189, 61278, 61368, 61457, 61547, 61637,\n       61727, 61817, 61906, 61995, 62084, 62173, 62263, 62353, 62443,\n       62533, 62622, 62711, 62800, 62889, 62978, 63067, 63157, 63246,\n       63336, 63425, 63514, 63603, 63693, 63782, 63872, 63961, 64050,\n       64140, 64229, 64318, 64408, 64497, 64586, 64675, 64764, 64853,\n       64942, 65031, 65121, 65210, 65300, 65389, 65478, 65568, 65658,\n       65747, 65836, 65925, 66014, 66104, 66193, 66282, 66371, 66460,\n       66549, 66638, 66728, 66817, 66907, 66996, 67085, 67174, 67209,\n       67299, 67388, 67478, 67567, 67657, 67747, 67837, 67927, 68017,\n       68107, 68197, 68287, 68377, 68467, 68557, 68647, 68729, 68819,\n       68909, 68999, 69089, 69179, 69269, 69299, 69388, 69478, 69568,\n       69658, 69748, 69838, 69928, 70018, 70108, 70198, 70288, 70378,\n       70468, 70557, 70647, 70737, 70827, 70917, 71007, 71097, 71187,\n       71277, 71367, 71457, 71546, 71636, 71726, 71816, 71906, 71996,\n       72086, 72176, 72266, 72356, 72446, 72536, 72626, 72716, 72806,\n       72896, 72986, 73076, 73166, 73256, 73346, 73436, 73526, 73616,\n       73706, 73788, 73878, 73968, 74058, 74148, 74238, 74328, 74418,\n       74508, 74598, 74688, 74778, 74868, 74958, 75048, 75138, 75228,\n       75258, 75347, 75437, 75527, 75617, 75707, 75796, 75886, 75976,\n       76066, 76156, 76246, 76336, 76426, 76516, 76606, 76696, 76786,\n       76876, 76966, 77056, 77146, 77236, 77326, 77416, 77506, 77596,\n       77686, 77776, 77866, 77956, 78046, 78136, 78225, 78315, 78405,\n       78495, 78585, 78675, 78765, 78855, 78945, 79035, 79125, 79215,\n       79305, 79395, 79485, 79574, 79664, 79754, 79844, 79934, 80024,\n       80114, 80204, 80294, 80384, 80473, 80563, 80653, 80743, 80833,\n       80923, 81013, 81102, 81191, 81281, 81371, 81460, 81550, 81640,\n       81730, 81820, 81910, 82000, 82090, 82179, 82269, 82359, 82449,\n       82538, 82628, 82718, 82807, 82897, 82987, 83077, 83167, 83256,\n       83346, 83436, 83526, 83616, 83705, 83794, 83883, 83973, 84063,\n       84152, 84242], dtype=int64)"
     },
     "execution_count": 147,
     "metadata": {},
     "output_type": "execute_result"
    }
   ],
   "source": [
    "starting_indices"
   ],
   "metadata": {
    "collapsed": false,
    "ExecuteTime": {
     "start_time": "2024-03-13T13:00:29.390556Z",
     "end_time": "2024-03-13T13:00:29.715555Z"
    }
   }
  },
  {
   "cell_type": "code",
   "execution_count": 129,
   "outputs": [
    {
     "data": {
      "text/plain": "array([[ 3.33299398, 45.        , 57.        ],\n       [ 1.78615385,  8.        , 25.        ],\n       [ 1.12823009, 40.        , 52.        ],\n       [ 2.42148966, 26.        , 45.        ],\n       [ 4.95906842, 22.        , 55.        ],\n       [ 2.10807854, 48.        , 61.        ],\n       [ 2.16108453, 37.        , 57.        ],\n       [ 1.50721878, 39.        , 74.        ],\n       [ 1.12891853, 10.        , 40.        ],\n       [ 1.48763841, 29.        , 53.        ],\n       [ 1.68802959, 12.        , 50.        ],\n       [ 3.50694138, 13.        , 28.        ],\n       [ 2.80840576,  8.        , 26.        ],\n       [ 1.45567673, 42.        , 54.        ],\n       [ 2.04899931, 38.        , 65.        ],\n       [ 2.77022111, 37.        , 54.        ],\n       [ 1.35297632, 41.        , 64.        ],\n       [ 2.74888241, 37.        , 54.        ],\n       [ 1.407525  ,  4.        , 56.        ],\n       [ 0.91333902, 38.        , 54.        ],\n       [ 0.99628448, 39.        , 55.        ],\n       [ 2.70905757, 35.        , 57.        ],\n       [ 1.06372917, 57.        , 85.        ],\n       [ 1.70443118,  6.        , 20.        ],\n       [ 0.74704278, 45.        , 57.        ],\n       [ 1.19326299, 10.        , 35.        ],\n       [ 1.3131699 , 32.        , 56.        ],\n       [ 4.60087126,  4.        , 36.        ],\n       [ 1.98562789, 55.        , 72.        ],\n       [ 1.56297767, 15.        , 26.        ],\n       [ 3.72381961,  7.        , 20.        ],\n       [ 1.53934056, 27.        , 53.        ],\n       [ 2.28209096, 57.        , 74.        ],\n       [ 1.09807742, 28.        , 39.        ],\n       [ 2.30856407, 28.        , 42.        ],\n       [ 1.73373413, 59.        , 70.        ],\n       [ 5.17389923, 28.        , 64.        ],\n       [ 3.75805503,  3.        , 17.        ],\n       [ 2.46681368,  4.        , 20.        ],\n       [ 1.8382895 , 74.        , 85.        ],\n       [ 1.24227422, 33.        , 56.        ],\n       [ 7.1726976 , 57.        , 80.        ],\n       [ 7.38833904, 53.        , 77.        ],\n       [ 6.13433063, 50.        , 74.        ],\n       [ 3.58399814, 42.        , 57.        ],\n       [ 1.24227422, 33.        , 56.        ],\n       [ 2.83403057, 32.        , 45.        ],\n       [ 3.51479232, 34.        , 57.        ],\n       [ 2.43468976,  4.        , 23.        ],\n       [ 3.81455791,  3.        , 32.        ],\n       [ 3.48963279, 32.        , 49.        ],\n       [ 4.13849962, 31.        , 50.        ],\n       [ 1.68341738,  4.        , 25.        ],\n       [ 4.63714522, 39.        , 59.        ],\n       [ 2.34619814,  4.        , 30.        ],\n       [ 3.78519487,  4.        , 27.        ],\n       [ 2.13466817,  9.        , 20.        ],\n       [ 3.50472426, 42.        , 53.        ],\n       [ 1.25242084,  4.        , 23.        ],\n       [ 4.65897119, 29.        , 57.        ],\n       [ 1.96601957, 41.        , 57.        ],\n       [ 5.15784377, 10.        , 50.        ],\n       [ 2.07387692, 49.        , 74.        ],\n       [ 1.28577316, 20.        , 48.        ],\n       [ 0.87225062, 61.        , 78.        ],\n       [ 1.88162869, 36.        , 52.        ],\n       [ 2.16696936, 29.        , 49.        ],\n       [ 1.68285179, 43.        , 61.        ],\n       [ 0.78380698, 56.        , 73.        ],\n       [ 2.57231694, 29.        , 44.        ],\n       [ 1.98042297, 34.        , 66.        ],\n       [ 5.86336476,  3.        , 54.        ],\n       [ 6.84038675, 27.        , 66.        ],\n       [ 2.50792986, 72.        , 86.        ],\n       [ 2.57074875, 27.        , 57.        ],\n       [ 4.47209775, 30.        , 67.        ],\n       [ 2.03712559, 46.        , 66.        ],\n       [ 0.66089576, 33.        , 45.        ],\n       [ 1.60457915, 64.        , 80.        ],\n       [ 3.06656605, 39.        , 60.        ],\n       [ 4.11798185, 42.        , 63.        ],\n       [ 1.47155184, 33.        , 44.        ],\n       [ 3.38359547, 30.        , 51.        ],\n       [ 2.93841487, 39.        , 57.        ],\n       [ 1.78556907, 50.        , 73.        ],\n       [ 4.19958383, 29.        , 73.        ],\n       [ 4.52826327, 30.        , 52.        ],\n       [ 1.94658196, 37.        , 56.        ],\n       [ 0.72239858, 43.        , 54.        ],\n       [ 0.94020331, 45.        , 56.        ],\n       [ 1.94658196, 37.        , 56.        ],\n       [ 3.46263373, 63.        , 78.        ],\n       [ 1.8615948 , 57.        , 77.        ],\n       [ 3.16732669, 59.        , 75.        ],\n       [ 2.71913564, 67.        , 84.        ],\n       [ 0.92979056, 49.        , 62.        ],\n       [ 1.20953023, 72.        , 86.        ],\n       [ 3.14843833, 42.        , 63.        ],\n       [ 1.22201282, 49.        , 86.        ],\n       [ 3.18487012, 41.        , 81.        ],\n       [ 3.27020991, 57.        , 86.        ],\n       [ 2.45165211, 69.        , 85.        ],\n       [ 2.24655569, 59.        , 72.        ],\n       [ 0.73451996, 70.        , 84.        ],\n       [ 2.67697543, 52.        , 73.        ],\n       [ 3.42959374, 64.        , 85.        ],\n       [ 5.93314523, 48.        , 74.        ],\n       [ 2.81478077, 63.        , 85.        ],\n       [ 3.26062745, 58.        , 86.        ],\n       [ 2.245296  , 17.        , 74.        ],\n       [ 1.58338755, 64.        , 79.        ],\n       [ 1.90092117, 56.        , 78.        ],\n       [ 4.72233695, 41.        , 80.        ],\n       [ 1.94649929, 13.        , 24.        ],\n       [ 2.96116   , 48.        , 62.        ],\n       [ 3.6122005 , 53.        , 71.        ],\n       [ 2.97675431, 46.        , 65.        ],\n       [ 2.4163056 , 53.        , 68.        ],\n       [ 1.01999551, 54.        , 66.        ],\n       [ 3.01386642, 46.        , 59.        ],\n       [ 4.65798926, 47.        , 84.        ]])"
     },
     "execution_count": 129,
     "metadata": {},
     "output_type": "execute_result"
    }
   ],
   "source": [
    "arr = arr[(arr[:,2]-arr[:,1])>10]"
   ],
   "metadata": {
    "collapsed": false,
    "ExecuteTime": {
     "start_time": "2024-03-13T11:58:56.551981Z",
     "end_time": "2024-03-13T11:58:56.880980Z"
    }
   }
  },
  {
   "cell_type": "code",
   "execution_count": 133,
   "outputs": [
    {
     "data": {
      "text/plain": "21.40495867768595"
     },
     "execution_count": 133,
     "metadata": {},
     "output_type": "execute_result"
    }
   ],
   "source": [
    "np.mean(arr[:,2]-arr[:,1])"
   ],
   "metadata": {
    "collapsed": false,
    "ExecuteTime": {
     "start_time": "2024-03-13T12:00:34.642957Z",
     "end_time": "2024-03-13T12:00:34.988975Z"
    }
   }
  },
  {
   "cell_type": "code",
   "execution_count": 96,
   "outputs": [
    {
     "data": {
      "text/plain": "270"
     },
     "execution_count": 96,
     "metadata": {},
     "output_type": "execute_result"
    }
   ],
   "source": [
    "len(len_list)"
   ],
   "metadata": {
    "collapsed": false,
    "ExecuteTime": {
     "start_time": "2024-03-13T11:27:12.073116Z",
     "end_time": "2024-03-13T11:27:12.391116Z"
    }
   }
  },
  {
   "cell_type": "code",
   "execution_count": 134,
   "outputs": [
    {
     "data": {
      "text/plain": "Canvas(toolbar=Toolbar(toolitems=[('Home', 'Reset original view', 'home', 'home'), ('Back', 'Back to previous …",
      "image/png": "[encoded data removed]",
      "text/html": "\n            <div style=\"display: inline-block;\">\n                <div class=\"jupyter-widgets widget-label\" style=\"text-align: center;\">\n                    Figure\n                </div>\n                <img src='data:image/png;base64,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' width=640.0/>\n            </div>\n        ",
      "application/vnd.jupyter.widget-view+json": {
       "version_major": 2,
       "version_minor": 0,
       "model_id": "f1abde07f77745a7848f6f92c94e2ecd"
      }
     },
     "metadata": {},
     "output_type": "display_data"
    }
   ],
   "source": [
    "import seaborn as sns\n",
    "import matplotlib.pyplot as plt\n",
    "\n",
    "# Your list of numbers\n",
    "plt.figure()\n",
    "# Plotting the distribution density\n",
    "sns.histplot((1-torch.concat([dataset.combine_window_to_episode(probs, seq_len)[i].max(1)[0] for i in range(len(seq_len))])).tolist(), kde=True, stat=\"density\", linewidth=0, bins = 50)\n",
    "\n",
    "# plt.title('Distribution Density Plot')\n",
    "# plt.xlabel('Value')\n",
    "# plt.ylabel('Density')\n",
    "\n",
    "# Show the plot\n",
    "plt.show()"
   ],
   "metadata": {
    "collapsed": false,
    "ExecuteTime": {
     "start_time": "2024-03-13T12:01:47.401192Z",
     "end_time": "2024-03-13T12:01:59.685192Z"
    }
   }
  },
  {
   "cell_type": "code",
   "execution_count": 64,
   "outputs": [
    {
     "data": {
      "text/plain": "24045"
     },
     "execution_count": 64,
     "metadata": {},
     "output_type": "execute_result"
    }
   ],
   "source": [
    "len(torch.concat([dataset.combine_window_to_episode(probs, seq_len_test)[i].max(1)[0] for i in range(len(seq_len_test))]).tolist())"
   ],
   "metadata": {
    "collapsed": false,
    "ExecuteTime": {
     "start_time": "2024-03-13T11:16:31.492943Z",
     "end_time": "2024-03-13T11:16:32.578943Z"
    }
   }
  },
  {
   "cell_type": "code",
   "execution_count": 85,
   "outputs": [
    {
     "data": {
      "text/plain": "0.9287880819982638"
     },
     "execution_count": 85,
     "metadata": {},
     "output_type": "execute_result"
    }
   ],
   "source": [
    "1-np.percentile(torch.concat([1-dataset.combine_window_to_episode(probs, seq_len_test)[i].max(1)[0] for i in range(len(seq_len_test))]).tolist(), 92.90912871698898)"
   ],
   "metadata": {
    "collapsed": false,
    "ExecuteTime": {
     "start_time": "2024-03-13T11:25:02.997599Z",
     "end_time": "2024-03-13T11:25:04.051598Z"
    }
   }
  },
  {
   "cell_type": "code",
   "execution_count": 83,
   "outputs": [
    {
     "data": {
      "text/plain": "0.9290912871698898"
     },
     "execution_count": 83,
     "metadata": {},
     "output_type": "execute_result"
    }
   ],
   "source": [
    "1-1705/24045"
   ],
   "metadata": {
    "collapsed": false,
    "ExecuteTime": {
     "start_time": "2024-03-13T11:24:41.737117Z",
     "end_time": "2024-03-13T11:24:42.211115Z"
    }
   }
  },
  {
   "cell_type": "code",
   "execution_count": 40,
   "outputs": [
    {
     "data": {
      "text/plain": "[150.0,\n 238.0,\n 326.0,\n 372.0,\n 429.0,\n 506.0,\n 575.0,\n 660.0,\n 708.0,\n 782.0,\n 801.0,\n 889.0,\n 961.0,\n 1004.0,\n 1077.0,\n 1102.0,\n 1124.0,\n 1145.0,\n 1212.0,\n 1350.0,\n 1380.0,\n 1431.0,\n 1491.0,\n 1513.0,\n 1601.0,\n 1621.0,\n 1677.0,\n 1721.0,\n 1757.0,\n 1828.0,\n 1871.0,\n 1920.0,\n 1971.0,\n 2040.0,\n 2124.0,\n 2155.0,\n 2165.0,\n 2211.0,\n 2251.0,\n 2293.0,\n 2320.0,\n 2345.0,\n 2425.0,\n 2483.0,\n 2536.0,\n 2582.0,\n 2651.0,\n 2705.0,\n 2793.0,\n 2809.0,\n 2863.0,\n 2939.0,\n 2986.0,\n 3014.0,\n 3078.0,\n 3096.0,\n 3116.0,\n 3143.0,\n 3162.0,\n 3218.0,\n 3263.0,\n 3293.0,\n 3367.0,\n 3426.0,\n 3482.0,\n 3509.0,\n 3555.0,\n 3614.0,\n 3635.0,\n 3706.0,\n 3715.0,\n 3734.0,\n 3767.0,\n 3777.0,\n 3796.0,\n 3839.0,\n 3871.0,\n 3946.0,\n 3966.0,\n 4037.0,\n 4053.0,\n 4132.0,\n 4141.0,\n 4210.0,\n 4229.0,\n 4290.0,\n 4346.0,\n 4356.0,\n 4380.0,\n 4449.0,\n 4470.0,\n 4479.0,\n 4518.0,\n 4536.0,\n 4555.0,\n 4628.0,\n 4655.0,\n 4730.0,\n 4764.0,\n 4797.0,\n 4872.0,\n 4895.0,\n 4922.0,\n 4974.0,\n 4981.0,\n 5003.0,\n 5036.0,\n 5042.0,\n 5048.0,\n 5056.0,\n 5060.0,\n 5087.0,\n 5158.0,\n 5189.0,\n 5196.0,\n 5220.0,\n 5227.0,\n 5247.0,\n 5277.0,\n 5296.0,\n 5322.0,\n 5331.0,\n 5358.0,\n 5389.0,\n 5424.0,\n 5454.0,\n 5524.0,\n 5530.0,\n 5535.0,\n 5541.0,\n 5553.0,\n 5556.0,\n 5590.0,\n 5618.0,\n 5641.0,\n 5671.0,\n 5721.0,\n 5757.0,\n 5784.0,\n 5808.0,\n 5838.0,\n 5843.0,\n 5912.0,\n 5938.0,\n 5968.0,\n 6055.0,\n 6124.0,\n 6137.0,\n 6193.0,\n 6207.0,\n 6236.0,\n 6265.0,\n 6269.0,\n 6347.0,\n 6371.0,\n 6402.0,\n 6407.0,\n 6411.0,\n 6416.0,\n 6421.0,\n 6440.0,\n 6509.0,\n 6559.0,\n 6608.0,\n 6611.0,\n 6650.0,\n 6726.0,\n 6731.0,\n 6753.0,\n 6779.0,\n 6784.0,\n 6792.0,\n 6794.0,\n 6799.0,\n 6803.0,\n 6807.0,\n 6818.0,\n 6883.0,\n 6888.0,\n 6891.0,\n 6895.0,\n 6899.0,\n 6904.0,\n 6908.0,\n 6930.0,\n 6935.0,\n 6939.0,\n 6945.0,\n 6950.0,\n 6955.0,\n 6958.0,\n 6959.0,\n 6963.0,\n 6967.0,\n 6971.0,\n 6976.0,\n 6979.0,\n 6982.0,\n 6985.0,\n 6989.0,\n 6999.0,\n 7003.0,\n 7007.0,\n 7008.0,\n 7017.0,\n 7019.0,\n 7031.0,\n 7034.0,\n 7048.0,\n 7051.0,\n 7056.0,\n 7058.0,\n 7061.0,\n 7062.0,\n 7064.0,\n 7071.0,\n 7074.0,\n 7075.0,\n 7076.0,\n 7076.0,\n 7079.0,\n 7080.0,\n 7080.0,\n 7080.0,\n 7080.0,\n 7080.0,\n 7081.0,\n 7081.0,\n 7081.0,\n 7081.0,\n 7081.0,\n 7081.0,\n 7081.0,\n 7081.0,\n 7081.0,\n 7081.0,\n 7081.0,\n 7081.0,\n 7081.0,\n 7081.0,\n 7081.0,\n 7081.0,\n 7081.0,\n 7081.0,\n 7081.0,\n 7081.0,\n 7081.0,\n 7081.0,\n 7081.0,\n 7081.0,\n 7081.0,\n 7081.0,\n 7081.0,\n 7081.0,\n 7081.0,\n 7081.0,\n 7081.0,\n 7081.0,\n 7081.0,\n 7081.0,\n 7081.0,\n 7081.0,\n 7081.0,\n 7081.0,\n 7081.0,\n 7081.0,\n 7081.0,\n 7081.0,\n 7081.0,\n 7081.0]"
     },
     "execution_count": 40,
     "metadata": {},
     "output_type": "execute_result"
    }
   ],
   "source": [
    "len_list"
   ],
   "metadata": {
    "collapsed": false,
    "ExecuteTime": {
     "start_time": "2024-03-12T19:07:46.875825Z",
     "end_time": "2024-03-12T19:07:47.195826Z"
    }
   }
  },
  {
   "cell_type": "code",
   "execution_count": 214,
   "outputs": [
    {
     "data": {
      "text/plain": "tensor([0.9075, 0.9099, 0.9280, 0.9384, 0.9502, 0.9505, 0.9639, 0.9741, 0.9686,\n        0.9808, 0.9693, 0.9396, 0.9304, 0.8920, 0.8671, 0.8509, 0.8059, 0.8811,\n        0.8652, 0.8091, 0.7311, 0.6646, 0.6384, 0.5624, 0.5818, 0.5763, 0.6694,\n        0.7079, 0.5537, 0.5723, 0.8182, 0.8731, 0.9418, 0.9648, 0.9453, 0.8056,\n        0.9029, 0.8885, 0.8751])"
     },
     "execution_count": 214,
     "metadata": {},
     "output_type": "execute_result"
    }
   ],
   "source": [
    "dataset.combine_window_to_episode(probs, seq_len_test)[74].max(1)[0][4:43]"
   ],
   "metadata": {
    "collapsed": false,
    "ExecuteTime": {
     "start_time": "2024-03-12T18:39:56.222142Z",
     "end_time": "2024-03-12T18:39:56.534141Z"
    }
   }
  },
  {
   "cell_type": "code",
   "execution_count": 99,
   "outputs": [
    {
     "name": "stdout",
     "output_type": "stream",
     "text": [
      "Maximum contiguous sum is 1\n",
      "Starting Index 76\n",
      "Ending Index 84\n"
     ]
    }
   ],
   "source": [
    "from sys import maxsize\n",
    "def maxSubArraySum(a, size):\n",
    "\n",
    "    max_so_far = -maxsize - 1\n",
    "    max_ending_here = 0\n",
    "    start = 0\n",
    "    end = 0\n",
    "    s = 0\n",
    "\n",
    "    for i in range(0, size):\n",
    "\n",
    "        max_ending_here += a[i]\n",
    "\n",
    "        if max_so_far < max_ending_here:\n",
    "            max_so_far = max_ending_here\n",
    "            start = s\n",
    "            end = i\n",
    "\n",
    "        if max_ending_here < 0:\n",
    "            max_ending_here = 0\n",
    "            s = i+1\n",
    "\n",
    "    print(\"Maximum contiguous sum is %d\" % (max_so_far))\n",
    "    print(\"Starting Index %d\" % (start))\n",
    "    print(\"Ending Index %d\" % (end))\n",
    "\n",
    "\n",
    "# Driver program to test maxSubArraySum\n",
    "a = [-2, -3, 4, -1, -2, 1, 5, -3]\n",
    "maxSubArraySum(values, len(values))"
   ],
   "metadata": {
    "collapsed": false,
    "ExecuteTime": {
     "start_time": "2024-03-12T18:08:54.352135Z",
     "end_time": "2024-03-12T18:08:54.675134Z"
    }
   }
  },
  {
   "cell_type": "code",
   "execution_count": 87,
   "outputs": [
    {
     "data": {
      "text/plain": "tensor(0.9657)"
     },
     "execution_count": 87,
     "metadata": {},
     "output_type": "execute_result"
    }
   ],
   "source": [
    "torch.mean(dataset.combine_window_to_episode(probs, seq_len_test)[-3].max(1)[0])"
   ],
   "metadata": {
    "collapsed": false,
    "ExecuteTime": {
     "start_time": "2024-03-12T18:03:24.226306Z",
     "end_time": "2024-03-12T18:03:24.541307Z"
    }
   }
  },
  {
   "cell_type": "code",
   "execution_count": 79,
   "outputs": [
    {
     "name": "stdout",
     "output_type": "stream",
     "text": [
      "(0, 6)\n"
     ]
    }
   ],
   "source": [
    "def find_lowest_possibilities_region(values):\n",
    "    # Step 1: Invert the values\n",
    "    inverted_values = [1 - value for value in values]\n",
    "\n",
    "    # Step 2: Apply Kadane's Algorithm on the inverted values\n",
    "    max_so_far = max_ending_here = inverted_values[0]\n",
    "    start = end = s = 0\n",
    "\n",
    "    for i in range(1, len(inverted_values)):\n",
    "        if inverted_values[i] > max_ending_here + inverted_values[i]:\n",
    "            max_ending_here = inverted_values[i]\n",
    "            s = i\n",
    "        else:\n",
    "            max_ending_here += inverted_values[i]\n",
    "\n",
    "        if max_ending_here > max_so_far:\n",
    "            max_so_far = max_ending_here\n",
    "            start = s\n",
    "            end = i\n",
    "\n",
    "    # The region from start to end in the original array is where the possibilities are the lowest\n",
    "    return (start, end)\n",
    "\n",
    "# Example usage\n",
    "values = [0.5, 0.3, 0.6, 0.2, 0.8, 0.1, 0.4]\n",
    "print(find_lowest_possibilities_region(values))"
   ],
   "metadata": {
    "collapsed": false,
    "ExecuteTime": {
     "start_time": "2024-03-12T17:59:35.526253Z",
     "end_time": "2024-03-12T17:59:35.848266Z"
    }
   }
  },
  {
   "cell_type": "code",
   "execution_count": 78,
   "outputs": [
    {
     "data": {
      "text/plain": "tensor(3.0514)"
     },
     "execution_count": 78,
     "metadata": {},
     "output_type": "execute_result"
    }
   ],
   "source": [
    "sum(1-dataset.combine_window_to_episode(probs, seq_len_test)[-3].max(1)[0])"
   ],
   "metadata": {
    "collapsed": false,
    "ExecuteTime": {
     "start_time": "2024-03-12T17:56:54.597655Z",
     "end_time": "2024-03-12T17:56:55.001656Z"
    }
   }
  },
  {
   "cell_type": "code",
   "execution_count": null,
   "outputs": [],
   "source": [
    "np.save(data_dir + 'rns_emb/test_emb.npy', test_emb.cpu().detach().numpy())"
   ],
   "metadata": {
    "collapsed": false,
    "ExecuteTime": {
     "start_time": "2024-02-07T12:39:00.513174Z",
     "end_time": "2024-02-07T12:39:01.170675Z"
    }
   }
  },
  {
   "cell_type": "code",
   "execution_count": null,
   "outputs": [],
   "source": [
    "test_emb.size()"
   ],
   "metadata": {
    "collapsed": false,
    "ExecuteTime": {
     "start_time": "2024-02-07T12:39:08.549554Z",
     "end_time": "2024-02-07T12:39:08.872077Z"
    }
   }
  },
  {
   "cell_type": "code",
   "execution_count": null,
   "outputs": [],
   "source": [
    "unique_episodes, unique_episodes_counts = np.unique(index_train[unlabeled_idxs]['episode_index'], return_counts=True)"
   ],
   "metadata": {
    "collapsed": false,
    "ExecuteTime": {
     "start_time": "2024-01-24T13:20:33.456769Z",
     "end_time": "2024-01-24T13:20:34.703301Z"
    }
   }
  },
  {
   "cell_type": "code",
   "execution_count": null,
   "outputs": [],
   "source": [
    "import time\n",
    "\n",
    "uncertainties = probs.max(1)[0]\n",
    "orders = torch.sort(uncertainties,stable = True)[1]\n",
    "ranks = torch.argsort(orders)\n",
    "start_time = time.perf_counter()\n",
    "\n",
    "rank_list = [ranks[index_train[unlabeled_idxs]['episode_index'] == epi_ind]for epi_ind in unique_episodes]\n",
    "end_time = time.perf_counter()\n",
    "\n",
    "elapsed_time = end_time - start_time\n",
    "print(\"Elapsed time: \", elapsed_time)"
   ],
   "metadata": {
    "collapsed": false,
    "ExecuteTime": {
     "start_time": "2024-01-24T13:20:34.705298Z",
     "end_time": "2024-01-24T13:20:38.095459Z"
    }
   }
  },
  {
   "cell_type": "code",
   "execution_count": null,
   "outputs": [],
   "source": [
    "first_n = 5000\n",
    "from copy import deepcopy\n",
    "emission_table = []\n",
    "rank_list_copy = deepcopy(rank_list)\n",
    "emission_table = [torch.where(rl < first_n, 0.85, 0.15) for rl in rank_list_copy]\n",
    "rank_list_copy = deepcopy(rank_list)\n",
    "active_rank_list = [torch.where(rl < first_n, 1, 0) for rl in rank_list_copy]\n",
    "ordered_rank_list = []\n",
    "rank_list_copy = deepcopy(rank_list)\n",
    "active_rank_list = [torch.where(rl < first_n, rl, 0) for rl in rank_list_copy]"
   ],
   "metadata": {
    "collapsed": false,
    "ExecuteTime": {
     "start_time": "2024-01-24T13:20:38.097504Z",
     "end_time": "2024-01-24T13:20:38.517220Z"
    }
   }
  },
  {
   "cell_type": "code",
   "execution_count": null,
   "outputs": [],
   "source": [
    "avg_rank = torch.sort(torch.tensor([torch.sum(rl)/(torch.count_nonzero(rl)+1e-6) for rl in active_rank_list]))\n",
    "episode_rank = avg_rank[1][avg_rank[0]>0]"
   ],
   "metadata": {
    "collapsed": false,
    "ExecuteTime": {
     "start_time": "2024-01-24T13:25:16.658209Z",
     "end_time": "2024-01-24T13:25:17.020463Z"
    }
   }
  },
  {
   "cell_type": "code",
   "execution_count": null,
   "outputs": [],
   "source": [
    "active_rank_list[395]"
   ],
   "metadata": {
    "collapsed": false,
    "ExecuteTime": {
     "start_time": "2024-01-24T13:25:48.967333Z",
     "end_time": "2024-01-24T13:25:49.282073Z"
    }
   }
  },
  {
   "cell_type": "code",
   "execution_count": null,
   "outputs": [],
   "source": [
    "s = []\n",
    "for ls in active_rank_list:\n",
    "    s.append(torch.sum(ls))"
   ],
   "metadata": {
    "collapsed": false,
    "ExecuteTime": {
     "start_time": "2024-01-24T11:11:05.519843Z",
     "end_time": "2024-01-24T11:11:05.842013Z"
    }
   }
  },
  {
   "cell_type": "code",
   "execution_count": null,
   "outputs": [],
   "source": [
    "torch.sort(torch.tensor(s),descending =True)"
   ],
   "metadata": {
    "collapsed": false,
    "ExecuteTime": {
     "start_time": "2024-01-24T11:11:09.945738Z",
     "end_time": "2024-01-24T11:11:10.268179Z"
    }
   }
  },
  {
   "cell_type": "code",
   "execution_count": null,
   "outputs": [],
   "source": [
    "l[torch.argsort(torch.tensor(s),descending =True)[2]]"
   ],
   "metadata": {
    "collapsed": false
   }
  },
  {
   "cell_type": "code",
   "execution_count": null,
   "outputs": [],
   "source": [
    "from models.HMM import HMM\n",
    "\n",
    "hmm = HMM(active_rank_list)\n"
   ],
   "metadata": {
    "collapsed": false,
    "ExecuteTime": {
     "start_time": "2024-01-24T11:13:19.385073Z",
     "end_time": "2024-01-24T11:13:20.257784Z"
    }
   }
  },
  {
   "cell_type": "code",
   "execution_count": null,
   "outputs": [],
   "source": [
    "start_time = time.perf_counter()\n",
    "filtered_list = []\n",
    "for i in range(len(active_rank_list)):\n",
    "    emission_mat_1 = emission_table[i]\n",
    "    emission_mat_0 = 1-emission_mat_1\n",
    "    emission_mat = torch.vstack([emission_mat_1,emission_mat_0]).T\n",
    "    predicted_label = 1 - hmm.predict_labels(active_rank_list[i].numpy(), emission_mat.numpy())\n",
    "    filtered_list.append(predicted_label)\n",
    "end_time = time.perf_counter()\n",
    "elapsed_time = end_time - start_time\n",
    "print(\"Elapsed time: \", elapsed_time)"
   ],
   "metadata": {
    "collapsed": false,
    "ExecuteTime": {
     "start_time": "2024-01-24T11:19:16.551710Z",
     "end_time": "2024-01-24T11:19:18.158516Z"
    }
   }
  },
  {
   "cell_type": "code",
   "execution_count": null,
   "outputs": [],
   "source": [
    "def filter_continuous_positive(array, length_m):\n",
    "\n",
    "    # Find the indices where 1s start and end\n",
    "    start_indices = np.where(np.diff(array) == 1)[0] + 1\n",
    "    end_indices = np.where(np.diff(array) == -1)[0]\n",
    "\n",
    "    if array[0] == 1:\n",
    "        start_indices = np.insert(start_indices, 0, 0)\n",
    "    if array[-1] == 1:\n",
    "        end_indices = np.append(end_indices, len(array) - 1)\n",
    "\n",
    "    lengths = end_indices - start_indices + 1\n",
    "\n",
    "    filtered_indices = start_indices[lengths > length_m]\n",
    "    filtered_lengths = lengths[lengths>length_m]\n",
    "\n",
    "    result_array = np.zeros_like(array)\n",
    "    for start_idx,length in zip(filtered_indices,filtered_lengths):\n",
    "        result_array[start_idx:start_idx + length] = 1\n",
    "\n",
    "    return result_array"
   ],
   "metadata": {
    "collapsed": false,
    "ExecuteTime": {
     "start_time": "2024-01-24T13:05:19.458609Z",
     "end_time": "2024-01-24T13:05:19.949917Z"
    }
   }
  },
  {
   "cell_type": "code",
   "execution_count": null,
   "outputs": [],
   "source": [
    "\n",
    "start_time = time.perf_counter()\n",
    "filtered_filtered_list = [filter_continuous_positive(arr,9) for arr in filtered_list]\n",
    "end_time = time.perf_counter()\n",
    "elapsed_time = end_time - start_time\n",
    "print(\"Elapsed time: \", elapsed_time)"
   ],
   "metadata": {
    "collapsed": false,
    "ExecuteTime": {
     "start_time": "2024-01-24T13:05:21.250307Z",
     "end_time": "2024-01-24T13:05:21.610353Z"
    }
   }
  },
  {
   "cell_type": "code",
   "execution_count": null,
   "outputs": [],
   "source": [
    "sum([np.sum(arr) for arr in filtered_filtered_list])"
   ],
   "metadata": {
    "collapsed": false,
    "ExecuteTime": {
     "start_time": "2024-01-24T13:05:22.540992Z",
     "end_time": "2024-01-24T13:05:22.986399Z"
    }
   }
  },
  {
   "cell_type": "code",
   "execution_count": null,
   "outputs": [],
   "source": [
    "np.hstack(filtered_filtered_list).shape"
   ],
   "metadata": {
    "collapsed": false,
    "ExecuteTime": {
     "start_time": "2024-01-24T13:05:24.026258Z",
     "end_time": "2024-01-24T13:05:24.369213Z"
    }
   }
  },
  {
   "cell_type": "code",
   "execution_count": null,
   "metadata": {
    "ExecuteTime": {
     "start_time": "2023-11-10T15:41:49.731496Z",
     "end_time": "2023-11-11T01:20:27.124530Z"
    }
   },
   "outputs": [],
   "source": [
    "for rd in range(1, NUM_ROUND +1):\n",
    "    print('round ' + str(rd))\n",
    "    q_idxs = strategy.query(NUM_QUERY)\n",
    "    strategy.update(q_idxs)\n",
    "    strategy.net.round = rd\n",
    "    strategy.net.net.load_state_dict(modelstate)\n",
    "    strategy.train()"
   ]
  },
  {
   "cell_type": "code",
   "execution_count": 31,
   "outputs": [
    {
     "name": "stderr",
     "output_type": "stream",
     "text": [
      "LOCAL_RANK: 0 - CUDA_VISIBLE_DEVICES: [0]\n"
     ]
    },
    {
     "data": {
      "text/plain": "Predicting: 9it [00:00, ?it/s]",
      "application/vnd.jupyter.widget-view+json": {
       "version_major": 2,
       "version_minor": 0,
       "model_id": "7a62f5eb68f7428fa9d0ffe73016c88d"
      }
     },
     "metadata": {},
     "output_type": "display_data"
    }
   ],
   "source": [
    "unlabeled_idxs, unlabeled_data = strategy.dataset.get_unlabeled_data()\n",
    "probs, seq_len = strategy.predict_prob(unlabeled_data)\n",
    "uncertainties = probs.max(1)[0]\n",
    "sliced_uncertainties = dataset.combine_window_to_episode(0.928-uncertainties, seq_len)\n"
   ],
   "metadata": {
    "collapsed": false,
    "ExecuteTime": {
     "start_time": "2024-03-13T14:17:34.754100Z",
     "end_time": "2024-03-13T14:19:54.616677Z"
    }
   }
  },
  {
   "cell_type": "code",
   "execution_count": 54,
   "outputs": [
    {
     "data": {
      "text/plain": "array([    0,     1,     2, ..., 85108, 85109, 85110])"
     },
     "execution_count": 54,
     "metadata": {},
     "output_type": "execute_result"
    }
   ],
   "source": [],
   "metadata": {
    "collapsed": false,
    "ExecuteTime": {
     "start_time": "2024-03-13T14:31:42.841261Z",
     "end_time": "2024-03-13T14:31:43.206285Z"
    }
   }
  },
  {
   "cell_type": "code",
   "execution_count": 62,
   "outputs": [
    {
     "data": {
      "text/plain": "array([  25,   37,   56,   74,   90,  103,  150,  197,  226,  237,  248,\n        288,  315,  326,  348,  360,  386,  441,  458,  470,  494,  515,\n        545,  560,  578,  601,  651,  675,  704,  734,  759,  774,  815,\n        847,  881,  892,  940,  951, 1008, 1028, 1054, 1065, 1085, 1111,\n       1136, 1167, 1178, 1191, 1216, 1228, 1263, 1274, 1292, 1315, 1346,\n       1360, 1372], dtype=int64)"
     },
     "execution_count": 62,
     "metadata": {},
     "output_type": "execute_result"
    }
   ],
   "source": [
    "metrics = sliced_uncertainties\n",
    "unlabeled_idxs\n"
   ],
   "metadata": {
    "collapsed": false,
    "ExecuteTime": {
     "start_time": "2024-03-13T14:38:08.604732Z",
     "end_time": "2024-03-13T14:38:08.987733Z"
    }
   }
  },
  {
   "cell_type": "code",
   "execution_count": 50,
   "outputs": [
    {
     "data": {
      "text/plain": "tensor(83560)"
     },
     "execution_count": 50,
     "metadata": {},
     "output_type": "execute_result"
    }
   ],
   "source": [
    "torch.sum(seq_len)"
   ],
   "metadata": {
    "collapsed": false,
    "ExecuteTime": {
     "start_time": "2024-03-13T14:29:45.789094Z",
     "end_time": "2024-03-13T14:29:46.134092Z"
    }
   }
  },
  {
   "cell_type": "code",
   "execution_count": 52,
   "outputs": [
    {
     "data": {
      "text/plain": "83560"
     },
     "execution_count": 52,
     "metadata": {},
     "output_type": "execute_result"
    }
   ],
   "source": [
    "len(uncertainties)"
   ],
   "metadata": {
    "collapsed": false,
    "ExecuteTime": {
     "start_time": "2024-03-13T14:30:06.077776Z",
     "end_time": "2024-03-13T14:30:06.535776Z"
    }
   }
  },
  {
   "cell_type": "code",
   "execution_count": 43,
   "outputs": [
    {
     "data": {
      "text/plain": "tensor([90, 90, 38, 90, 90, 90, 74, 90, 90, 90, 75, 60, 90, 90, 90, 90, 90, 90,\n        90, 90, 90, 90, 90, 90, 90, 90, 90, 90, 90, 90, 90, 90, 90, 90, 90, 90,\n        90, 90, 90, 90, 90, 90, 90, 57, 90, 90, 90, 90, 90, 90, 90, 90, 90, 90,\n        90, 90, 90, 90, 90, 90, 90, 90, 90, 90, 90, 90, 90, 90, 90, 90, 90, 90,\n        90, 90, 90, 90, 90, 90, 90, 90, 90, 90, 90, 90, 90, 90, 30, 90, 90, 90,\n        90, 90, 90, 90, 90, 90, 90, 73, 90, 90, 90, 90, 90, 90, 90, 90, 90, 90,\n        90, 90, 90, 90, 90, 90, 90, 90, 90, 90, 90, 90, 90, 90, 90, 90, 90, 90,\n        90, 90, 90, 90, 90, 90, 90, 90, 90, 90, 90, 90, 90, 90, 90, 90, 90, 90,\n        90, 90, 90, 90, 89, 90, 90, 90, 90, 90, 58, 90, 90, 90, 90, 90, 90, 90,\n        90, 90, 90, 90, 90, 90, 90, 90, 90, 90, 90, 90, 90, 90, 90, 90, 90, 90,\n        90, 90, 90, 90, 90, 90, 90, 90, 90, 90, 90, 90, 90, 90, 90, 90, 90, 90,\n        90, 90, 90, 90, 90, 90, 90, 90, 90, 72, 90, 90, 90, 90, 90, 90, 90, 90,\n        90, 90, 90, 90, 90, 90, 90, 90, 90, 90, 90, 90, 90, 90, 90, 90, 90, 90,\n        90, 90, 90, 90, 90, 90, 90, 90, 90, 90, 90, 90, 90, 89, 90, 90, 90, 90,\n        90, 89, 90, 90, 90, 90, 90, 90, 90, 90, 90, 90, 90, 90, 90, 90, 90, 90,\n        89, 90, 90, 90, 90, 90, 89, 89, 90, 90, 90, 89, 90, 90, 90, 90, 90, 90,\n        90, 90, 90, 90, 90, 90, 90, 90, 90, 90, 90, 90, 90, 90, 90, 90, 90, 90,\n        90, 90, 90, 90, 90, 90, 90, 90, 90, 90, 65, 90, 90, 90, 90, 90, 60, 60,\n        25, 60, 24, 31, 60, 60, 45, 46, 60, 60, 60, 60, 60, 60, 60, 59, 60, 45,\n        60, 60, 24, 60, 60, 60, 60, 28, 60, 35, 60, 60, 60, 60, 60, 25, 60, 60,\n        60, 60, 60, 60, 60, 48, 60, 60, 60, 60, 24, 60, 60, 60, 60, 60, 51, 60,\n        60, 42, 90, 89, 89, 90, 89, 90, 90, 90, 90, 42, 90, 89, 89, 89, 89, 90,\n        89, 89, 89, 90, 89, 89, 89, 90, 90, 90, 90, 31, 90, 42, 89, 89, 90, 90,\n        32, 39, 43, 38, 90, 37, 90, 89, 90, 89, 90, 30, 90, 90, 90, 90, 90, 40,\n        89, 90, 33, 89, 90, 90, 46, 42, 33, 89, 32, 90, 89, 31, 90, 89, 89, 35,\n        37, 90, 89, 44, 90, 90, 89, 89, 90, 34, 90, 44, 89, 90, 90, 90, 89, 37,\n        89, 90, 90, 90, 90, 90, 50, 90, 90, 90, 90, 90, 90, 67, 90, 90, 90, 42,\n        90, 90, 90, 90, 90, 90, 90, 90, 90, 89, 90, 89, 90, 90, 89, 90, 90, 90,\n        90, 89, 90, 89, 90, 90, 90, 90, 90, 90, 90, 90, 90, 90, 90, 90, 90, 90,\n        90, 90, 90, 90, 90, 90, 90, 90, 90, 90, 90, 90, 90, 90, 90, 90, 90, 90,\n        90, 64, 90, 90, 90, 90, 90, 90, 90, 90, 90, 90, 90, 90, 90, 90, 90, 90,\n        90, 90, 90, 90, 90, 90, 90, 90, 90, 90, 90, 90, 33, 90, 90, 90, 90, 90,\n        90, 90, 90, 90, 90, 90, 90, 90, 90, 90, 90, 90, 90, 90, 90, 90, 43, 90,\n        90, 90, 90, 90, 90, 90, 90, 90, 90, 90, 90, 90, 90, 90, 90, 90, 90, 90,\n        90, 90, 90, 90, 90, 90, 90, 90, 90, 90, 90, 90, 90, 90, 90, 90, 90, 90,\n        90, 90, 90, 90, 90, 90, 90, 90, 90, 90, 90, 90, 90, 90, 90, 90, 90, 90,\n        90, 90, 90, 90, 90, 90, 90, 90, 90, 90, 90, 90, 90, 90, 90, 90, 90, 90,\n        90, 90, 89, 90, 90, 90, 90, 90, 90, 90, 90, 90, 90, 90, 90, 90, 90, 90,\n        90, 90, 90, 90, 90, 90, 90, 90, 90, 90, 90, 89, 89, 89, 89, 89, 89, 90,\n        89, 89, 89, 89, 89, 89, 90, 90, 90, 89, 89, 89, 89, 90, 89, 90, 89, 90,\n        90, 90, 90, 89, 89, 89, 89, 90, 90, 90, 90, 89, 89, 89, 89, 89, 89, 90,\n        89, 90, 89, 89, 89, 90, 89, 90, 89, 89, 90, 89, 89, 90, 89, 89, 89, 89,\n        89, 89, 89, 90, 89, 90, 89, 89, 90, 90, 89, 89, 89, 89, 90, 89, 89, 89,\n        89, 89, 89, 90, 89, 90, 89, 89, 89, 35, 90, 89, 90, 89, 90, 90, 90, 90,\n        90, 90, 90, 90, 90, 90, 90, 90, 82, 90, 90, 90, 90, 90, 90, 30, 89, 90,\n        90, 90, 90, 90, 90, 90, 90, 90, 90, 90, 90, 89, 90, 90, 90, 90, 90, 90,\n        90, 90, 90, 90, 89, 90, 90, 90, 90, 90, 90, 90, 90, 90, 90, 90, 90, 90,\n        90, 90, 90, 90, 90, 90, 90, 90, 90, 90, 90, 82, 90, 90, 90, 90, 90, 90,\n        90, 90, 90, 90, 90, 90, 90, 90, 90, 90, 30, 89, 90, 90, 90, 90, 89, 90,\n        90, 90, 90, 90, 90, 90, 90, 90, 90, 90, 90, 90, 90, 90, 90, 90, 90, 90,\n        90, 90, 90, 90, 90, 90, 90, 89, 90, 90, 90, 90, 90, 90, 90, 90, 90, 90,\n        90, 90, 90, 90, 89, 90, 90, 90, 90, 90, 90, 90, 90, 90, 89, 90, 90, 90,\n        90, 90, 90, 89, 89, 90, 89, 90, 90, 90, 90, 90, 90, 90, 89, 90, 90, 90,\n        89, 90, 90, 89, 90, 90, 90, 89, 90, 90, 90, 90, 89, 89, 89, 90, 90, 89,\n        90, 90])"
     },
     "execution_count": 43,
     "metadata": {},
     "output_type": "execute_result"
    }
   ],
   "source": [
    "torch.flatten(seq_len)"
   ],
   "metadata": {
    "collapsed": false,
    "ExecuteTime": {
     "start_time": "2024-03-13T14:27:29.275095Z",
     "end_time": "2024-03-13T14:27:29.739095Z"
    }
   }
  },
  {
   "cell_type": "code",
   "execution_count": 63,
   "outputs": [
    {
     "name": "stderr",
     "output_type": "stream",
     "text": [
      "LOCAL_RANK: 0 - CUDA_VISIBLE_DEVICES: [0]\n"
     ]
    },
    {
     "data": {
      "text/plain": "Predicting: 9it [00:00, ?it/s]",
      "application/vnd.jupyter.widget-view+json": {
       "version_major": 2,
       "version_minor": 0,
       "model_id": "6013742c512f4ca391821d9a7227313d"
      }
     },
     "metadata": {},
     "output_type": "display_data"
    }
   ],
   "source": [
    "q_idxs = strategy.query(1710)"
   ],
   "metadata": {
    "collapsed": false,
    "ExecuteTime": {
     "start_time": "2024-03-13T14:42:15.769995Z",
     "end_time": "2024-03-13T14:44:38.820336Z"
    }
   }
  },
  {
   "cell_type": "code",
   "execution_count": 64,
   "outputs": [
    {
     "data": {
      "text/plain": "array([ 1717,  1718,  1719, ..., 84639, 84640, 84641])"
     },
     "execution_count": 64,
     "metadata": {},
     "output_type": "execute_result"
    }
   ],
   "source": [
    "q_idxs"
   ],
   "metadata": {
    "collapsed": false,
    "ExecuteTime": {
     "start_time": "2024-03-13T14:45:29.920168Z",
     "end_time": "2024-03-13T14:45:30.258168Z"
    }
   }
  },
  {
   "cell_type": "code",
   "execution_count": 65,
   "outputs": [
    {
     "data": {
      "text/plain": "array([False, False, False, ..., False, False, False])"
     },
     "execution_count": 65,
     "metadata": {},
     "output_type": "execute_result"
    }
   ],
   "source": [
    "strategy.dataset.labeled_idxs"
   ],
   "metadata": {
    "collapsed": false,
    "ExecuteTime": {
     "start_time": "2024-03-13T14:46:20.193339Z",
     "end_time": "2024-03-13T14:46:20.539339Z"
    }
   }
  },
  {
   "cell_type": "code",
   "execution_count": 66,
   "outputs": [
    {
     "data": {
      "text/plain": "85111"
     },
     "execution_count": 66,
     "metadata": {},
     "output_type": "execute_result"
    }
   ],
   "source": [
    "np.sum(seq_len_train)"
   ],
   "metadata": {
    "collapsed": false,
    "ExecuteTime": {
     "start_time": "2024-03-13T14:47:10.049431Z",
     "end_time": "2024-03-13T14:47:10.379431Z"
    }
   }
  },
  {
   "cell_type": "code",
   "execution_count": null,
   "outputs": [],
   "source": [],
   "metadata": {
    "collapsed": false
   }
  }
 ],
 "metadata": {
  "kernelspec": {
   "display_name": "Python 3 (ipykernel)",
   "language": "python",
   "name": "python3"
  },
  "language_info": {
   "codemirror_mode": {
    "name": "ipython",
    "version": 3
   },
   "file_extension": ".py",
   "mimetype": "text/x-python",
   "name": "python",
   "nbconvert_exporter": "python",
   "pygments_lexer": "ipython3",
   "version": "3.8.8"
  }
 },
 "nbformat": 4,
 "nbformat_minor": 1
}
