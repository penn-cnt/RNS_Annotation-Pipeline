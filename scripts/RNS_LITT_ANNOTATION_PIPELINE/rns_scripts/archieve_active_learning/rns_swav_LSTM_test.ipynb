{
 "cells": [
  {
   "cell_type": "code",
   "execution_count": 25,
   "metadata": {
    "ExecuteTime": {
     "start_time": "2024-03-12T14:00:59.059192Z",
     "end_time": "2024-03-12T14:01:00.469191Z"
    }
   },
   "outputs": [
    {
     "name": "stdout",
     "output_type": "stream",
     "text": [
      "The autoreload extension is already loaded. To reload it, use:\n",
      "  %reload_ext autoreload\n"
     ]
    }
   ],
   "source": [
    "%load_ext autoreload\n",
    "%autoreload 2\n",
    "%matplotlib widget"
   ]
  },
  {
   "cell_type": "code",
   "execution_count": 26,
   "metadata": {
    "ExecuteTime": {
     "start_time": "2024-03-12T14:01:00.466192Z",
     "end_time": "2024-03-12T14:01:00.966191Z"
    }
   },
   "outputs": [],
   "source": [
    "import sys\n",
    "import os\n",
    "\n",
    "sys.path.append('../tools')\n",
    "import h5py\n",
    "import pandas as pd\n",
    "import numpy as np\n",
    "import tensorflow as tf\n",
    "import matplotlib.pyplot as plt\n",
    "from sklearn.manifold import TSNE\n",
    "\n",
    "from torch.utils.data import DataLoader\n",
    "from torch.utils.data import Dataset\n",
    "import torch\n",
    "from tqdm import tqdm\n",
    "import sklearn\n",
    "import random\n",
    "\n",
    "import torchvision.transforms as T\n",
    "import pytorch_lightning as pl\n",
    "import pytorch_lightning.loggers as pl_loggers\n",
    "import pytorch_lightning.callbacks as pl_callbacks\n",
    "from models.rns_dataloader import get_data, get_data_by_episode\n",
    "\n",
    "import data_utility\n",
    "import annotation_utility\n",
    "import interactive_plot\n",
    "\n",
    "import warnings\n",
    "\n",
    "warnings.filterwarnings(\"ignore\", \".*Consider increasing the value of the `num_workers` argument*\")\n",
    "warnings.filterwarnings(\"ignore\", \".*Set a lower value for log_every_n_steps if you want to see logs for the training epoch*\")\n",
    "warnings.filterwarnings(\"ignore\", \".*exists and is not empty*\")\n",
    "warnings.filterwarnings(\"ignore\", \".*Checkpoint directory {dirpath} exists and is not empty*\")\n"
   ]
  },
  {
   "cell_type": "code",
   "execution_count": 27,
   "metadata": {
    "ExecuteTime": {
     "start_time": "2024-03-12T14:01:00.967191Z",
     "end_time": "2024-03-12T14:01:01.454192Z"
    }
   },
   "outputs": [],
   "source": [
    "data_dir = \"../../../user_data/\"\n",
    "log_folder_root = '../../../user_data/logs/'\n",
    "ckpt_folder_root = '../../../user_data/checkpoints/'\n",
    "\n",
    "random_seed = 42\n",
    "random.seed(random_seed)\n",
    "torch.manual_seed(random_seed)\n",
    "np.random.seed(random_seed)\n",
    "\n",
    "if torch.cuda.is_available():\n",
    "    torch.cuda.manual_seed(random_seed)\n",
    "    # True ensures the algorithm selected by CUFA is deterministic\n",
    "    torch.backends.cudnn.deterministic = True\n",
    "    # torch.set_deterministic(True)\n",
    "    # False ensures CUDA select the same algorithm each time the application is run\n",
    "    torch.backends.cudnn.benchmark = False"
   ]
  },
  {
   "cell_type": "code",
   "execution_count": 28,
   "metadata": {
    "ExecuteTime": {
     "start_time": "2024-03-12T14:01:01.455192Z",
     "end_time": "2024-03-12T14:01:01.962192Z"
    }
   },
   "outputs": [
    {
     "data": {
      "text/plain": "['HUP047',\n 'HUP084',\n 'HUP096',\n 'HUP109',\n 'HUP121',\n 'HUP129',\n 'HUP131',\n 'HUP137',\n 'HUP147',\n 'HUP153',\n 'HUP156',\n 'HUP159',\n 'HUP182',\n 'HUP197',\n 'HUP199',\n 'HUP205',\n 'RNS026',\n 'RNS029']"
     },
     "execution_count": 28,
     "metadata": {},
     "output_type": "execute_result"
    }
   ],
   "source": [
    "raw_annotations = pd.read_csv(data_dir + 'full_updated_anns_annotTbl_cleaned.csv')\n",
    "ids = list(np.unique(raw_annotations[raw_annotations['descriptions'].notnull()]['HUP_ID']))\n",
    "# ids = list(np.unique(raw_annotations['HUP_ID']))\n",
    "ids"
   ]
  },
  {
   "cell_type": "code",
   "execution_count": 29,
   "metadata": {
    "ExecuteTime": {
     "start_time": "2024-03-12T14:01:01.963191Z",
     "end_time": "2024-03-12T14:01:39.611193Z"
    }
   },
   "outputs": [
    {
     "name": "stderr",
     "output_type": "stream",
     "text": [
      "\n",
      "  0%|          | 0/18 [00:00<?, ?it/s]\u001B[A\n",
      "  6%|▌         | 1/18 [00:02<00:38,  2.26s/it]\u001B[A\n",
      " 11%|█         | 2/18 [00:05<00:44,  2.80s/it]\u001B[A\n",
      " 17%|█▋        | 3/18 [00:07<00:37,  2.52s/it]\u001B[A\n",
      " 22%|██▏       | 4/18 [00:09<00:31,  2.23s/it]\u001B[A\n",
      " 28%|██▊       | 5/18 [00:11<00:27,  2.12s/it]\u001B[A\n",
      " 33%|███▎      | 6/18 [00:12<00:23,  1.92s/it]\u001B[A\n",
      " 39%|███▉      | 7/18 [00:16<00:25,  2.35s/it]\u001B[A\n",
      " 44%|████▍     | 8/18 [00:18<00:24,  2.45s/it]\u001B[A\n",
      " 50%|█████     | 9/18 [00:20<00:20,  2.29s/it]\u001B[A\n",
      " 56%|█████▌    | 10/18 [00:22<00:17,  2.17s/it]\u001B[A\n",
      " 61%|██████    | 11/18 [00:24<00:14,  2.06s/it]\u001B[A\n",
      " 67%|██████▋   | 12/18 [00:25<00:09,  1.61s/it]\u001B[A\n",
      " 72%|███████▏  | 13/18 [00:27<00:08,  1.74s/it]\u001B[A\n",
      " 78%|███████▊  | 14/18 [00:28<00:06,  1.65s/it]\u001B[A\n",
      " 83%|████████▎ | 15/18 [00:31<00:06,  2.01s/it]\u001B[A\n",
      " 89%|████████▉ | 16/18 [00:32<00:03,  1.61s/it]\u001B[A\n",
      " 94%|█████████▍| 17/18 [00:34<00:01,  1.73s/it]\u001B[A\n",
      "100%|██████████| 18/18 [00:37<00:00,  2.06s/it]\u001B[A\n"
     ]
    }
   ],
   "source": [
    "data_import = data_utility.read_files(path=data_dir+'rns_data', patientIDs=ids,\n",
    "                                      verbose=True)  # Import data with annotation"
   ]
  },
  {
   "cell_type": "code",
   "execution_count": 30,
   "metadata": {
    "ExecuteTime": {
     "start_time": "2024-03-12T14:01:39.613192Z",
     "end_time": "2024-03-12T14:01:42.953191Z"
    }
   },
   "outputs": [],
   "source": [
    "annotations = annotation_utility.read_annotation(annotation_path=data_dir +'full_updated_anns_annotTbl_cleaned.csv',\n",
    "                                                 data=data_import, n_class=3)"
   ]
  },
  {
   "cell_type": "code",
   "execution_count": 31,
   "outputs": [
    {
     "ename": "NameError",
     "evalue": "name 'annot' is not defined",
     "output_type": "error",
     "traceback": [
      "\u001B[1;31m---------------------------------------------------------------------------\u001B[0m",
      "\u001B[1;31mNameError\u001B[0m                                 Traceback (most recent call last)",
      "Input \u001B[1;32mIn [31]\u001B[0m, in \u001B[0;36m<cell line: 1>\u001B[1;34m()\u001B[0m\n\u001B[1;32m----> 1\u001B[0m \u001B[43mannot\u001B[49m[annot[\u001B[38;5;124m'\u001B[39m\u001B[38;5;124mPatient_ID\u001B[39m\u001B[38;5;124m'\u001B[39m] \u001B[38;5;241m==\u001B[39m \u001B[38;5;124m'\u001B[39m\u001B[38;5;124mHUP205\u001B[39m\u001B[38;5;124m'\u001B[39m]\n",
      "\u001B[1;31mNameError\u001B[0m: name 'annot' is not defined"
     ]
    }
   ],
   "source": [
    "annot[annot['Patient_ID'] == 'HUP205']"
   ],
   "metadata": {
    "collapsed": false,
    "ExecuteTime": {
     "start_time": "2024-02-29T15:08:39.400583Z",
     "end_time": "2024-02-29T15:08:40.262375Z"
    }
   }
  },
  {
   "cell_type": "code",
   "execution_count": null,
   "outputs": [],
   "source": [
    "annot = annotations.annotations\n",
    "annot_nonseizure = annot[annot['Class_Code'] == 0]\n",
    "annot_seizure = annot[annot['Class_Code'] == 1]\n",
    "patient_list = ['HUP047',\n",
    "       'HUP059',\n",
    "       'HUP084',\n",
    "       'HUP096',\n",
    "       'HUP101',\n",
    "       'HUP108',\n",
    "       'HUP109',\n",
    "       'HUP121',\n",
    "       'HUP127',\n",
    "       'HUP128',\n",
    "       'HUP129',\n",
    "       'HUP131',\n",
    "       'HUP136',\n",
    "       'HUP137',\n",
    "       'HUP143',\n",
    "       'HUP147',\n",
    "       'HUP153',\n",
    "       'HUP156',\n",
    "       'HUP159',\n",
    "       'HUP182',\n",
    "       'HUP192',\n",
    "       'HUP197',\n",
    "       'HUP199',\n",
    "       'HUP205',\n",
    "       'RNS021',\n",
    "       'RNS022',\n",
    "       'RNS026',\n",
    "       'RNS029']\n",
    "\n",
    "# patient_list = [ 'HUP137',\n",
    "#        'HUP153',]\n",
    "\n",
    "# patient_list = ['RNS026', 'HUP159', 'HUP129', 'HUP096', 'HUP182']\n",
    "clip_dict = {}\n",
    "# for p in patient_list:\n",
    "for p in patient_list:\n",
    "    # print(p)\n",
    "    seizure_start_index = np.array([])\n",
    "    seizure_end_index = np.array([])\n",
    "    nonseizure_start_index = np.array([])\n",
    "    nonseizure_end_index = np.array([])\n",
    "    global_episode_index_seizure = np.array([])\n",
    "    global_episode_index_nonseizure = np.array([])\n",
    "\n",
    "    annotation_list = []\n",
    "\n",
    "    start_index = annot[annot['Patient_ID'] == p]['Episode_Start_Index']\n",
    "    end_index = annot[annot['Patient_ID'] == p]['Episode_End_Index']\n",
    "    annot_start_list = annot[annot['Patient_ID'] == p]['Annotation_Start_Index']\n",
    "    annot_end_list = annot[annot['Patient_ID'] == p]['Annotation_End_Index']\n",
    "    j = 0\n",
    "    for i in range(len(start_index)):\n",
    "        if end_index.iloc[i] - start_index.iloc[i] > 0:\n",
    "            initial_arr = np.zeros(end_index.iloc[i] - start_index.iloc[i])\n",
    "            if len(annot_start_list.iloc[i]) > 0:\n",
    "                sl_order = np.argsort(annot_start_list.iloc[i])\n",
    "                sl = np.array(annot_start_list.iloc[i])[sl_order]\n",
    "                el = np.array(annot_end_list.iloc[i])[sl_order]\n",
    "\n",
    "                for si, ei in zip(sl, el):\n",
    "                    initial_arr[si - start_index.iloc[i]:ei - start_index.iloc[i]] = 1\n",
    "        else:\n",
    "            # print(i)\n",
    "            initial_arr = np.zeros(1)\n",
    "\n",
    "        annotation_list.append(initial_arr)\n",
    "\n",
    "    ind_arr = np.vstack(\n",
    "        [start_index,\n",
    "         end_index,\n",
    "         start_index.index]).astype(int)\n",
    "\n",
    "    # print(annotation_list)\n",
    "\n",
    "    valid = np.where((ind_arr[1] - ind_arr[0]) > 500)\n",
    "    combined_clip = ind_arr[:, valid].squeeze()\n",
    "    annotation_list = np.array(annotation_list, dtype=object)[valid]\n",
    "    try:\n",
    "        combined_clip = np.vstack((combined_clip, annotation_list))\n",
    "    except:\n",
    "        print(annotation_list)\n",
    "        print(p)\n",
    "\n",
    "    if combined_clip.shape[1]>0:\n",
    "\n",
    "        clip_dict[p] = combined_clip\n",
    "\n",
    "np.save(data_dir + 'rns_test_cache/clip_dict.npy', clip_dict)"
   ],
   "metadata": {
    "collapsed": false,
    "ExecuteTime": {
     "start_time": "2024-02-29T15:01:41.153964Z",
     "end_time": "2024-02-29T15:01:42.188143Z"
    }
   }
  },
  {
   "cell_type": "code",
   "execution_count": null,
   "metadata": {
    "ExecuteTime": {
     "start_time": "2024-02-29T15:02:08.968376Z",
     "end_time": "2024-02-29T15:02:24.990776Z"
    }
   },
   "outputs": [],
   "source": [
    "from scipy.stats import mode\n",
    "\n",
    "window_len = 1\n",
    "stride = 1\n",
    "concat_n = 4\n",
    "for id in clip_dict.keys():\n",
    "    data_import[id].set_window_parameter(window_length=window_len, window_displacement=stride)\n",
    "    data_import[id].set_concatenation_parameter(concatenate_window_n=concat_n)\n",
    "    window_indices, _ = data_import[id].get_windowed_data(clip_dict[id][0], clip_dict[id][1])\n",
    "    import_indices = []\n",
    "    import_label = []\n",
    "    import_clip_indices = []\n",
    "    import_start_indicies = []\n",
    "    import_patient_ID = []\n",
    "    for i, ind in enumerate(window_indices):\n",
    "        indices = window_indices[i]+1-clip_dict[id][0][i]\n",
    "        offsets = np.arange(249)\n",
    "        full_indices = indices[:,0][:, np.newaxis] + offsets\n",
    "        slices_no_loop = clip_dict[id][3][i][full_indices]\n",
    "        mode_result = mode(slices_no_loop, axis=1)\n",
    "        mode_values = mode_result.mode\n",
    "\n",
    "        # print(mode_values)\n",
    "        import_label.append(mode_values)\n",
    "        import_indices.append(np.repeat(clip_dict[id][2][i], len(ind)))\n",
    "        import_clip_indices.append(np.arange(len(ind)))\n",
    "        import_start_indicies.append(np.repeat(clip_dict[id][0][i], len(ind)))\n",
    "        import_patient_ID.append(np.repeat(id, len(ind)))\n",
    "\n",
    "    import_label = np.hstack(import_label)\n",
    "    import_indices = np.hstack(import_indices)\n",
    "    import_clip_indices = np.hstack(import_clip_indices)\n",
    "    import_start_indicies = np.hstack(import_start_indicies)\n",
    "    import_patient_ID = np.hstack(import_patient_ID)\n",
    "\n",
    "    data_import[id].normalize_windowed_data()\n",
    "    _, concatenated_data = data_import[id].get_concatenated_data(data_import[id].windowed_data, arrange='channel_stack')\n",
    "\n",
    "    assert np.hstack(import_label).shape[0] == concatenated_data.shape[0]\n",
    "\n",
    "    np.save(data_dir+'rns_test_cache/' + id + '.npy', {'data': concatenated_data, 'label': import_label, 'patientID': import_patient_ID, 'indices': np.vstack([import_indices,import_clip_indices,import_start_indicies]).T})"
   ]
  },
  {
   "cell_type": "code",
   "execution_count": null,
   "metadata": {
    "ExecuteTime": {
     "start_time": "2024-02-28T16:52:06.255131Z",
     "end_time": "2024-02-28T16:52:06.919132Z"
    }
   },
   "outputs": [],
   "source": [
    "from models.rns_dataloader import RNS_Downstream\n",
    "from models.SwaV import SwaV"
   ]
  },
  {
   "cell_type": "code",
   "execution_count": null,
   "metadata": {
    "ExecuteTime": {
     "start_time": "2024-02-29T17:23:16.135458Z",
     "end_time": "2024-02-29T17:23:16.630456Z"
    }
   },
   "outputs": [],
   "source": [
    "import torch\n",
    "import torchvision\n",
    "from torch import nn\n",
    "\n",
    "from lightly.data import LightlyDataset, SwaVCollateFunction\n",
    "from lightly.loss import SwaVLoss\n",
    "from lightly.loss.memory_bank import MemoryBankModule\n",
    "from lightly.models.modules import SwaVProjectionHead, SwaVPrototypes\n"
   ]
  },
  {
   "cell_type": "code",
   "execution_count": null,
   "metadata": {
    "ExecuteTime": {
     "start_time": "2024-02-29T15:18:43.544317Z",
     "end_time": "2024-02-29T15:18:49.866316Z"
    }
   },
   "outputs": [],
   "source": [
    "data_list = os.listdir(data_dir+'rns_test_cache')[1:]\n",
    "\n",
    "# data_list = ['HUP182.npy',   'HUP129.npy',   'HUP109.npy', 'HUP156.npy', 'HUP096.npy', 'RNS026.npy',  'HUP159.npy']\n",
    "# data_list = ['RNS026.npy', 'HUP159.npy', 'HUP129.npy', 'HUP096.npy', 'HUP182.npy']\n",
    "train_data, train_label, test_data, test_label, train_index, test_index = get_data_by_episode(data_list, split=0.8,patient_out=True)\n",
    "# data, label,_,_ = get_data(data_list, split=1)\n",
    "# train_data, test_data, train_label, test_label = sklearn.model_selection.train_test_split(data, label, test_size=0.8, random_state=42)\n",
    "\n",
    "print(train_data.shape)\n",
    "print(train_label.shape)\n",
    "print(train_index.shape)\n",
    "print(test_data.shape)\n",
    "print(test_label.shape)\n",
    "print(test_index.shape)"
   ]
  },
  {
   "cell_type": "code",
   "execution_count": null,
   "outputs": [],
   "source": [
    "test_index"
   ],
   "metadata": {
    "collapsed": false,
    "ExecuteTime": {
     "start_time": "2024-02-29T15:05:07.926010Z",
     "end_time": "2024-02-29T15:05:08.782060Z"
    }
   }
  },
  {
   "cell_type": "code",
   "execution_count": null,
   "outputs": [],
   "source": [
    "class RNS_Active_by_episode(Dataset):\n",
    "    def __init__(self, data, label, transform=True, astensor=True):\n",
    "        self.data = data\n",
    "        self.label = label\n",
    "        self.transform = transform\n",
    "\n",
    "        self.length = len(self.data)\n",
    "\n",
    "        if astensor:\n",
    "            self.augmentation = T.Compose([\n",
    "                T.ToPILImage(),\n",
    "                T.Resize((256, 256), interpolation=T.InterpolationMode.NEAREST),\n",
    "                T.RandomApply([T.ColorJitter()], p=0.5),\n",
    "                T.RandomApply([T.GaussianBlur(kernel_size=(3, 3))], p=0.5),\n",
    "                T.RandomInvert(p=0.2),\n",
    "                T.RandomPosterize(4, p=0.2),\n",
    "                T.ToTensor()\n",
    "            ])\n",
    "\n",
    "            self.totensor = T.Compose([\n",
    "                T.ToPILImage(),\n",
    "                T.Resize((256, 256), interpolation=T.InterpolationMode.NEAREST),\n",
    "                T.ToTensor()\n",
    "            ])\n",
    "        else:\n",
    "            self.augmentation = T.Compose([\n",
    "                T.ToPILImage(),\n",
    "                T.Resize((256, 256), interpolation=T.InterpolationMode.NEAREST),\n",
    "                T.RandomApply([T.ColorJitter()], p=0.5),\n",
    "                T.RandomApply([T.GaussianBlur(kernel_size=(3, 3))], p=0.5),\n",
    "                T.RandomInvert(p=0.2),\n",
    "                T.RandomPosterize(4, p=0.2),\n",
    "            ])\n",
    "\n",
    "            self.totensor = T.Compose([\n",
    "                T.ToPILImage(),\n",
    "                T.Resize((256, 256), interpolation=T.InterpolationMode.NEAREST),\n",
    "            ])\n",
    "\n",
    "    def __len__(self):\n",
    "        return self.length\n",
    "\n",
    "    def __getitem__(self, index):\n",
    "        data_arr = self.data[index]\n",
    "        label_arr = self.label[index]\n",
    "\n",
    "\n",
    "        data_arr_out = []\n",
    "\n",
    "        for i, data in enumerate(data_arr):\n",
    "            if self.transform:\n",
    "                concat_len = data.shape[1] / 4\n",
    "                channel_index = np.arange(4)\n",
    "                np.random.shuffle(channel_index)\n",
    "                channel_index = channel_index * concat_len + (concat_len - 1) / 2\n",
    "                channel_index = np.repeat(channel_index, concat_len)\n",
    "                concate_len_1 = (concat_len - 1) / 2\n",
    "                a_repeat = np.arange(-concate_len_1, concate_len_1 + 1)[np.newaxis].T\n",
    "                base_repeat = np.repeat(a_repeat, 4, axis=1).T.flatten()\n",
    "                channel_index = channel_index + base_repeat\n",
    "                data = data[channel_index.astype(int)]\n",
    "                data = torch.from_numpy(data).clone()\n",
    "                data = data.repeat(3, 1, 1)\n",
    "                data = self.augmentation(data)\n",
    "                data_arr_out.append(data)\n",
    "\n",
    "            else:\n",
    "                concat_len = data.shape[1] / 4\n",
    "                channel_index = np.arange(4)\n",
    "                # np.random.shuffle(channel_index)\n",
    "                channel_index = channel_index * concat_len + (concat_len - 1) / 2\n",
    "                channel_index = np.repeat(channel_index, concat_len)\n",
    "                concate_len_1 = (concat_len - 1) / 2\n",
    "                a_repeat = np.arange(-concate_len_1, concate_len_1 + 1)[np.newaxis].T\n",
    "                base_repeat = np.repeat(a_repeat, 4, axis=1).T.flatten()\n",
    "                channel_index = channel_index + base_repeat\n",
    "                data = data[channel_index.astype(int)]\n",
    "                data = torch.from_numpy(data).clone()\n",
    "                data = data.repeat(3, 1, 1)\n",
    "                data = self.totensor(data)\n",
    "                data_arr_out.append(data)\n",
    "\n",
    "        data_arr_out = torch.stack(data_arr_out)\n",
    "\n",
    "        return data_arr_out, torch.from_numpy(label_arr).to(dtype=torch.long), None"
   ],
   "metadata": {
    "collapsed": false,
    "ExecuteTime": {
     "start_time": "2024-02-29T15:18:49.854316Z",
     "end_time": "2024-02-29T15:18:50.550317Z"
    }
   }
  },
  {
   "cell_type": "code",
   "execution_count": null,
   "outputs": [],
   "source": [
    "def collate_fn(batch):\n",
    "    info = list(zip(*batch))\n",
    "    data = info[0]\n",
    "    label = info[1]\n",
    "    sequence_len = [dt.size(0) for dt in data]\n",
    "\n",
    "    return torch.concat(data), torch.concat(label), sequence_len"
   ],
   "metadata": {
    "collapsed": false,
    "ExecuteTime": {
     "start_time": "2024-02-29T15:18:51.662316Z",
     "end_time": "2024-02-29T15:18:52.126316Z"
    }
   }
  },
  {
   "cell_type": "code",
   "execution_count": null,
   "metadata": {
    "ExecuteTime": {
     "start_time": "2024-02-29T15:19:28.575998Z",
     "end_time": "2024-02-29T15:19:29.647997Z"
    }
   },
   "outputs": [],
   "source": [
    "from models.LSTMDownStream import SupervisedDownstream\n",
    "from sigmoid_loss import sigmoid_focal_loss\n",
    "from models.SwaV import SwaV"
   ]
  },
  {
   "cell_type": "code",
   "execution_count": null,
   "outputs": [],
   "source": [],
   "metadata": {
    "collapsed": false
   }
  },
  {
   "cell_type": "code",
   "execution_count": 32,
   "metadata": {
    "ExecuteTime": {
     "start_time": "2024-03-12T14:02:42.359274Z",
     "end_time": "2024-03-12T14:02:43.844267Z"
    }
   },
   "outputs": [
    {
     "name": "stderr",
     "output_type": "stream",
     "text": [
      "Using 16bit native Automatic Mixed Precision (AMP)\n",
      "GPU available: True (cuda), used: True\n",
      "TPU available: False, using: 0 TPU cores\n",
      "IPU available: False, using: 0 IPUs\n",
      "HPU available: False, using: 0 HPUs\n"
     ]
    }
   ],
   "source": [
    "swav = SwaV().load_from_checkpoint(ckpt_folder_root + 'rns_swav_50_12/rns_swav-epoch=82-swav_loss=2.58204.ckpt')\n",
    "model = SupervisedDownstream(swav.backbone)\n",
    "\n",
    "del swav\n",
    "\n",
    "device = \"cuda\" if torch.cuda.is_available() else \"cpu\"\n",
    "model.to(device)\n",
    "\n",
    "checkpoint_callback = pl_callbacks.ModelCheckpoint(monitor='val_loss',\n",
    "                                                   filename='rns_swav_50_all_linear_eval-{epoch:02d}-{val_loss:.5f}', save_last=True, save_top_k=-1, dirpath=ckpt_folder_root + 'rns_swav_50_all_linear_eval')\n",
    "csv_logger = pl_loggers.CSVLogger(log_folder_root, name='rns_swav_50_all_linear_eval')\n",
    "\n",
    "trainer = pl.Trainer(logger=csv_logger, max_epochs=80, callbacks=[checkpoint_callback], accelerator='gpu', devices=1,precision=16)"
   ]
  },
  {
   "cell_type": "code",
   "execution_count": 33,
   "metadata": {
    "ExecuteTime": {
     "start_time": "2024-03-12T14:02:49.696269Z",
     "end_time": "2024-03-12T14:02:50.520269Z"
    }
   },
   "outputs": [],
   "source": [
    "train_dataset = RNS_Active_by_episode(train_data, train_label, transform=True, astensor=True)\n",
    "test_dataset = RNS_Active_by_episode(test_data, test_label, transform=False, astensor=True)\n",
    "\n",
    "train_dataloader = torch.utils.data.DataLoader(\n",
    "    train_dataset,\n",
    "    batch_size=3,\n",
    "    collate_fn=collate_fn,\n",
    "    shuffle=True,\n",
    "    drop_last=True,\n",
    ")\n",
    "\n",
    "val_dataloader = torch.utils.data.DataLoader(\n",
    "    test_dataset,\n",
    "    batch_size=1,\n",
    "    collate_fn=collate_fn,\n",
    "    shuffle=False,\n",
    "    drop_last=True,\n",
    ")\n",
    "\n",
    "# trainer.fit(model, train_dataloader, val_dataloader)"
   ]
  },
  {
   "cell_type": "code",
   "execution_count": 35,
   "outputs": [
    {
     "data": {
      "text/plain": "(992,)"
     },
     "execution_count": 35,
     "metadata": {},
     "output_type": "execute_result"
    }
   ],
   "source": [
    "train_dataset.data.shape"
   ],
   "metadata": {
    "collapsed": false,
    "ExecuteTime": {
     "start_time": "2024-03-12T14:03:15.333435Z",
     "end_time": "2024-03-12T14:03:15.829435Z"
    }
   }
  },
  {
   "cell_type": "code",
   "execution_count": 16,
   "metadata": {
    "ExecuteTime": {
     "start_time": "2024-01-12T23:59:18.267350Z",
     "end_time": "2024-01-12T23:59:18.833624Z"
    }
   },
   "outputs": [
    {
     "name": "stdout",
     "output_type": "stream",
     "text": [
      "data loaded\n",
      "(21556, 249, 36)\n",
      "(21556,)\n"
     ]
    }
   ],
   "source": [
    "test_dataset = RNS_Downstream(test_data, test_label, transform=False, astensor=True)\n",
    "val_dataloader = torch.utils.data.DataLoader(\n",
    "    test_dataset,\n",
    "    batch_size=256,\n",
    "    collate_fn=collate_fn,\n",
    "    shuffle=False,\n",
    "    drop_last=True,\n",
    ")"
   ]
  },
  {
   "cell_type": "code",
   "execution_count": 17,
   "metadata": {
    "ExecuteTime": {
     "start_time": "2024-01-12T23:59:18.840622Z",
     "end_time": "2024-01-12T23:59:31.825643Z"
    }
   },
   "outputs": [
    {
     "name": "stdout",
     "output_type": "stream",
     "text": [
      "(0, 249, 36)\n"
     ]
    },
    {
     "name": "stderr",
     "output_type": "stream",
     "text": [
      "100%|██████████| 15/15 [00:12<00:00,  1.21it/s]"
     ]
    },
    {
     "name": "stdout",
     "output_type": "stream",
     "text": [
      "data loaded\n"
     ]
    },
    {
     "name": "stderr",
     "output_type": "stream",
     "text": [
      "\n"
     ]
    }
   ],
   "source": [
    "data_list = os.listdir(data_dir+'rns_test_cache')[1:]\n",
    "# data_list = ['RNS026_seizure.npy', 'HUP159_seizure.npy', 'HUP129_seizure.npy', 'HUP096_seizure.npy','RNS026_nonseizure.npy', 'HUP159_nonseizure.npy', 'HUP129_nonseizure.npy', 'HUP096_nonseizure.npy']\n",
    "class RNS_Downstream(Dataset):\n",
    "    def __init__(self, file_names, transform=True, astensor=True):\n",
    "        self.file_names = file_names\n",
    "        self.transform = transform\n",
    "\n",
    "        file_name_temp = self.file_names[0]\n",
    "        cache = np.load(data_dir +'rns_test_cache/' + file_name_temp, allow_pickle=True)\n",
    "        temp_file = cache.item().get('data')\n",
    "\n",
    "        self.data = np.empty((0, temp_file.shape[1], temp_file.shape[2]))\n",
    "        self.label = np.array([])\n",
    "        print(self.data.shape)\n",
    "\n",
    "        for name in tqdm(self.file_names):\n",
    "            cache = np.load(data_dir +'rns_test_cache/' + name, allow_pickle=True)\n",
    "            data = cache.item().get('data')\n",
    "            label = cache.item().get('label')\n",
    "            self.data = np.vstack((self.data, data))\n",
    "            self.label = np.hstack((self.label, label))\n",
    "\n",
    "        print('data loaded')\n",
    "\n",
    "        self.label = self.label[np.newaxis].T\n",
    "\n",
    "        self.length = len(self.data)\n",
    "\n",
    "        if astensor:\n",
    "            self.augmentation = T.Compose([\n",
    "                T.ToPILImage(),\n",
    "                T.Resize((256, 256), interpolation=T.InterpolationMode.NEAREST),\n",
    "                T.RandomApply([T.ColorJitter()], p=0.5),\n",
    "                T.RandomApply([T.GaussianBlur(kernel_size=(3, 3))], p=0.5),\n",
    "                T.RandomInvert(p=0.2),\n",
    "                T.RandomPosterize(4, p=0.2),\n",
    "                T.ToTensor()\n",
    "            ])\n",
    "\n",
    "            self.totensor = T.Compose([\n",
    "                T.ToPILImage(),\n",
    "                T.Resize((256, 256), interpolation=T.InterpolationMode.NEAREST),\n",
    "                T.ToTensor()\n",
    "            ])\n",
    "        else:\n",
    "            self.augmentation = T.Compose([\n",
    "                T.ToPILImage(),\n",
    "                T.Resize((256, 256), interpolation=T.InterpolationMode.NEAREST),\n",
    "                T.RandomApply([T.ColorJitter()], p=0.5),\n",
    "                T.RandomApply([T.GaussianBlur(kernel_size=(3, 3))], p=0.5),\n",
    "                T.RandomInvert(p=0.2),\n",
    "                T.RandomPosterize(4, p=0.2),\n",
    "            ])\n",
    "\n",
    "            self.totensor = T.Compose([\n",
    "                T.ToPILImage(),\n",
    "                T.Resize((256, 256), interpolation=T.InterpolationMode.NEAREST),\n",
    "            ])\n",
    "\n",
    "\n",
    "    def __len__(self):\n",
    "        return self.length\n",
    "\n",
    "\n",
    "    def __getitem__(self, index):\n",
    "        data = self.data[index]\n",
    "        label = self.label[index]\n",
    "\n",
    "        if self.transform:\n",
    "            concat_len = data.shape[1] / 4\n",
    "            channel_index = np.arange(4)\n",
    "            np.random.shuffle(channel_index)\n",
    "            channel_index = channel_index * concat_len + (concat_len - 1) / 2\n",
    "            channel_index = np.repeat(channel_index, concat_len)\n",
    "            concate_len_1 = (concat_len - 1) / 2\n",
    "            a_repeat = np.arange(-concate_len_1, concate_len_1 + 1)[np.newaxis].T\n",
    "            base_repeat = np.repeat(a_repeat, 4, axis=1).T.flatten()\n",
    "            channel_index = channel_index + base_repeat\n",
    "            data = data[channel_index.astype(int)]\n",
    "            data = torch.from_numpy(data).clone()\n",
    "            data = data.repeat(3, 1, 1)\n",
    "            data = self.augmentation(data)\n",
    "\n",
    "        else:\n",
    "            concat_len = data.shape[1] / 4\n",
    "            channel_index = np.arange(4)\n",
    "            # np.random.shuffle(channel_index)\n",
    "            channel_index = channel_index * concat_len + (concat_len - 1) / 2\n",
    "            channel_index = np.repeat(channel_index, concat_len)\n",
    "            concate_len_1 = (concat_len - 1) / 2\n",
    "            a_repeat = np.arange(-concate_len_1, concate_len_1 + 1)[np.newaxis].T\n",
    "            base_repeat = np.repeat(a_repeat, 4, axis=1).T.flatten()\n",
    "            channel_index = channel_index + base_repeat\n",
    "            data = data[channel_index.astype(int)]\n",
    "            data = torch.from_numpy(data).clone()\n",
    "            data = data.repeat(3, 1, 1)\n",
    "            data = self.totensor(data)\n",
    "\n",
    "        return data, torch.from_numpy(label).to(dtype=torch.long), None\n",
    "\n",
    "dataset = RNS_Downstream(data_list, transform=False,astensor = True)\n",
    "\n",
    "dataloader = torch.utils.data.DataLoader(\n",
    "    dataset,\n",
    "    batch_size=256,\n",
    "    collate_fn=collate_fn,\n",
    "    shuffle=False,\n",
    "    drop_last=True,\n",
    ")"
   ]
  },
  {
   "cell_type": "code",
   "execution_count": 16,
   "metadata": {
    "ExecuteTime": {
     "start_time": "2024-02-29T17:22:22.805678Z",
     "end_time": "2024-02-29T17:23:16.134457Z"
    }
   },
   "outputs": [
    {
     "name": "stderr",
     "output_type": "stream",
     "text": [
      "LOCAL_RANK: 0 - CUDA_VISIBLE_DEVICES: [0]\n"
     ]
    },
    {
     "data": {
      "text/plain": "Predicting: 142it [00:00, ?it/s]",
      "application/vnd.jupyter.widget-view+json": {
       "version_major": 2,
       "version_minor": 0,
       "model_id": "6f4c795bcdce4b358754e9cebb2d9953"
      }
     },
     "metadata": {},
     "output_type": "display_data"
    }
   ],
   "source": [
    "predictions = trainer.predict(model,val_dataloader)"
   ]
  },
  {
   "cell_type": "code",
   "execution_count": 19,
   "metadata": {
    "ExecuteTime": {
     "start_time": "2024-02-29T17:23:52.766715Z",
     "end_time": "2024-02-29T17:23:53.509712Z"
    }
   },
   "outputs": [],
   "source": [
    "\n",
    "output_list = []\n",
    "target_list = []\n",
    "emb_list = []\n",
    "m = nn.Softmax(dim=1)\n",
    "for pred, y, emb, _ in predictions:\n",
    "    output_list.append(pred)\n",
    "    target_list.append(y)\n",
    "    emb_list.append(emb)"
   ]
  },
  {
   "cell_type": "code",
   "execution_count": 20,
   "metadata": {
    "ExecuteTime": {
     "start_time": "2024-02-29T17:23:54.380713Z",
     "end_time": "2024-02-29T17:23:55.088713Z"
    }
   },
   "outputs": [],
   "source": [
    "pred_raw = torch.vstack(output_list)\n",
    "target = torch.concat(target_list)\n",
    "emb = torch.concat(emb_list)\n",
    "out = torch.argmax(pred_raw, dim=1)"
   ]
  },
  {
   "cell_type": "code",
   "execution_count": 26,
   "outputs": [
    {
     "data": {
      "text/plain": "[torch.Size([180]),\n torch.Size([180]),\n torch.Size([180]),\n torch.Size([180]),\n torch.Size([180]),\n torch.Size([120]),\n torch.Size([180]),\n torch.Size([180]),\n torch.Size([180]),\n torch.Size([180]),\n torch.Size([180]),\n torch.Size([180]),\n torch.Size([180]),\n torch.Size([180]),\n torch.Size([180]),\n torch.Size([180]),\n torch.Size([180]),\n torch.Size([180]),\n torch.Size([180]),\n torch.Size([180]),\n torch.Size([180]),\n torch.Size([180]),\n torch.Size([180]),\n torch.Size([180]),\n torch.Size([180]),\n torch.Size([179]),\n torch.Size([180]),\n torch.Size([178]),\n torch.Size([180]),\n torch.Size([179]),\n torch.Size([120]),\n torch.Size([120]),\n torch.Size([120]),\n torch.Size([108]),\n torch.Size([120]),\n torch.Size([84]),\n torch.Size([120]),\n torch.Size([120]),\n torch.Size([111]),\n torch.Size([120]),\n torch.Size([179]),\n torch.Size([134]),\n torch.Size([179]),\n torch.Size([179]),\n torch.Size([124]),\n torch.Size([133]),\n torch.Size([180]),\n torch.Size([179]),\n torch.Size([126]),\n torch.Size([180]),\n torch.Size([180]),\n torch.Size([180]),\n torch.Size([180]),\n torch.Size([180]),\n torch.Size([180]),\n torch.Size([180]),\n torch.Size([180]),\n torch.Size([178]),\n torch.Size([178]),\n torch.Size([178]),\n torch.Size([178]),\n torch.Size([178]),\n torch.Size([178]),\n torch.Size([178]),\n torch.Size([178]),\n torch.Size([180]),\n torch.Size([180]),\n torch.Size([180]),\n torch.Size([180]),\n torch.Size([180]),\n torch.Size([180]),\n torch.Size([180]),\n torch.Size([180]),\n torch.Size([179]),\n torch.Size([178]),\n torch.Size([178]),\n torch.Size([178]),\n torch.Size([179]),\n torch.Size([179]),\n torch.Size([178]),\n torch.Size([125]),\n torch.Size([179]),\n torch.Size([179]),\n torch.Size([180]),\n torch.Size([179]),\n torch.Size([180]),\n torch.Size([180]),\n torch.Size([180]),\n torch.Size([180]),\n torch.Size([180]),\n torch.Size([180]),\n torch.Size([179]),\n torch.Size([180]),\n torch.Size([180]),\n torch.Size([180]),\n torch.Size([180]),\n torch.Size([179]),\n torch.Size([180]),\n torch.Size([178]),\n torch.Size([179]),\n torch.Size([179]),\n torch.Size([180]),\n torch.Size([358]),\n torch.Size([358]),\n torch.Size([269]),\n torch.Size([178]),\n torch.Size([180]),\n torch.Size([179]),\n torch.Size([179]),\n torch.Size([179]),\n torch.Size([178]),\n torch.Size([180]),\n torch.Size([179]),\n torch.Size([179]),\n torch.Size([179]),\n torch.Size([119]),\n torch.Size([180]),\n torch.Size([178]),\n torch.Size([179]),\n torch.Size([178]),\n torch.Size([179]),\n torch.Size([179]),\n torch.Size([178]),\n torch.Size([179]),\n torch.Size([178]),\n torch.Size([179]),\n torch.Size([179]),\n torch.Size([178]),\n torch.Size([178]),\n torch.Size([90])]"
     },
     "execution_count": 26,
     "metadata": {},
     "output_type": "execute_result"
    }
   ],
   "source": [
    "[tt.size() for tt in target_list]"
   ],
   "metadata": {
    "collapsed": false,
    "ExecuteTime": {
     "start_time": "2024-02-28T16:50:36.691658Z",
     "end_time": "2024-02-28T16:50:37.684464Z"
    }
   }
  },
  {
   "cell_type": "code",
   "execution_count": 42,
   "metadata": {
    "ExecuteTime": {
     "start_time": "2024-02-22T17:26:58.021849Z",
     "end_time": "2024-02-22T17:26:58.636576Z"
    }
   },
   "outputs": [
    {
     "data": {
      "text/plain": "tensor([0.9998, 0.9998, 0.9998,  ..., 0.9928, 0.9836, 0.9926])"
     },
     "execution_count": 42,
     "metadata": {},
     "output_type": "execute_result"
    }
   ],
   "source": [
    "m(pred_raw.float())[:,0]"
   ]
  },
  {
   "cell_type": "code",
   "execution_count": 43,
   "metadata": {
    "ExecuteTime": {
     "start_time": "2024-02-22T17:27:00.393372Z",
     "end_time": "2024-02-22T17:27:01.004214Z"
    }
   },
   "outputs": [
    {
     "data": {
      "text/plain": "21530"
     },
     "execution_count": 43,
     "metadata": {},
     "output_type": "execute_result"
    }
   ],
   "source": [
    "len(list(np.unique(test_index)))"
   ]
  },
  {
   "cell_type": "code",
   "execution_count": 23,
   "metadata": {
    "ExecuteTime": {
     "end_time": "2023-11-07T15:45:00.399008Z",
     "start_time": "2023-11-07T15:44:59.426830Z"
    }
   },
   "outputs": [
    {
     "name": "stdout",
     "output_type": "stream",
     "text": [
      "0\n"
     ]
    },
    {
     "ename": "NameError",
     "evalue": "name 'annotations' is not defined",
     "output_type": "error",
     "traceback": [
      "\u001B[1;31m---------------------------------------------------------------------------\u001B[0m",
      "\u001B[1;31mNameError\u001B[0m                                 Traceback (most recent call last)",
      "Input \u001B[1;32mIn [23]\u001B[0m, in \u001B[0;36m<cell line: 2>\u001B[1;34m()\u001B[0m\n\u001B[0;32m     10\u001B[0m index_array \u001B[38;5;241m=\u001B[39m test_index[index_location[np\u001B[38;5;241m.\u001B[39margsort(test_index[index_location], order\u001B[38;5;241m=\u001B[39m[\u001B[38;5;124m'\u001B[39m\u001B[38;5;124mstart_index\u001B[39m\u001B[38;5;124m'\u001B[39m,\u001B[38;5;124m'\u001B[39m\u001B[38;5;124mslice_index\u001B[39m\u001B[38;5;124m'\u001B[39m])]]\n\u001B[0;32m     11\u001B[0m start_ind \u001B[38;5;241m=\u001B[39m np\u001B[38;5;241m.\u001B[39munique(index_array[\u001B[38;5;124m'\u001B[39m\u001B[38;5;124mstart_index\u001B[39m\u001B[38;5;124m'\u001B[39m])\n\u001B[1;32m---> 13\u001B[0m annot \u001B[38;5;241m=\u001B[39m \u001B[43mannotations\u001B[49m\u001B[38;5;241m.\u001B[39mannotations[annotations\u001B[38;5;241m.\u001B[39mannotations\u001B[38;5;241m.\u001B[39mindex \u001B[38;5;241m==\u001B[39m np\u001B[38;5;241m.\u001B[39munique(index_array[\u001B[38;5;124m'\u001B[39m\u001B[38;5;124mepisode_index\u001B[39m\u001B[38;5;124m'\u001B[39m])[\u001B[38;5;241m0\u001B[39m]]\n\u001B[0;32m     15\u001B[0m start_indexes \u001B[38;5;241m=\u001B[39m []\n\u001B[0;32m     16\u001B[0m start_indexes\u001B[38;5;241m.\u001B[39mextend(annot\u001B[38;5;241m.\u001B[39mAnnotation_Start_Index\u001B[38;5;241m.\u001B[39mitem())\n",
      "\u001B[1;31mNameError\u001B[0m: name 'annotations' is not defined"
     ]
    }
   ],
   "source": [
    "index_list = []\n",
    "for i in range(len(list(np.unique(test_index['episode_index'])))):\n",
    "\n",
    "    print(i)\n",
    "\n",
    "    index_location = np.where(test_index['episode_index'] == list(np.unique(test_index['episode_index']))[i])[0]\n",
    "\n",
    "    # print(target[index_location[np.argsort(test_index[index_location], order=['start_index','slice_index'])]].squeeze(1))\n",
    "    # print(out[index_location[np.argsort(test_index[index_location], order=['start_index','slice_index'])]])\n",
    "    index_array = test_index[index_location[np.argsort(test_index[index_location], order=['start_index','slice_index'])]]\n",
    "    start_ind = np.unique(index_array['start_index'])\n",
    "\n",
    "    annot = annotations.annotations[annotations.annotations.index == np.unique(index_array['episode_index'])[0]]\n",
    "\n",
    "    start_indexes = []\n",
    "    start_indexes.extend(annot.Annotation_Start_Index.item())\n",
    "    start_indexes.extend(annot.Annotation_End_Index.item())\n",
    "    start_indexes.append(annot.Episode_Start_Index.item())\n",
    "    start_indexes.append(annot.Episode_End_Index.item())\n",
    "    # print(start_indexes)\n",
    "\n",
    "    in_list = []\n",
    "    for si in start_ind:\n",
    "        in_list.append(si in start_indexes)\n",
    "\n",
    "    assert True in in_list\n",
    "\n",
    "# [annot.Annotation_Start_Index.item(), annot.Episode_Start_Index, ]\n",
    "\n",
    "    # # print(annotations.annotations[annotations.annotations.index == slice_index])\n",
    "    # if class_code == 0:\n",
    "    #     try:\n",
    "    #         assert (((start_index == annot.Episode_Start_Index) | (end_index == annot.Episode_End_Index)).item())\n",
    "    #     except:\n",
    "    #         print(ind)\n",
    "    #         print(annot)\n",
    "    #\n",
    "    # elif class_code == 1:\n",
    "    #     assert start_index in annot.Annotation_Start_Index.item()"
   ]
  },
  {
   "cell_type": "code",
   "execution_count": 21,
   "metadata": {
    "ExecuteTime": {
     "start_time": "2024-02-29T17:23:57.175499Z",
     "end_time": "2024-02-29T17:23:59.018501Z"
    }
   },
   "outputs": [
    {
     "data": {
      "text/plain": "0.9130380536494074"
     },
     "execution_count": 21,
     "metadata": {},
     "output_type": "execute_result"
    }
   ],
   "source": [
    "sklearn.metrics.accuracy_score(torch.argmax(pred_raw, dim=1), target)"
   ]
  },
  {
   "cell_type": "code",
   "execution_count": 22,
   "metadata": {
    "ExecuteTime": {
     "start_time": "2024-02-29T17:23:59.019501Z",
     "end_time": "2024-02-29T17:24:00.778500Z"
    }
   },
   "outputs": [
    {
     "name": "stdout",
     "output_type": "stream",
     "text": [
      "Classification Report : \n",
      "              precision    recall  f1-score   support\n",
      "\n",
      "           0   0.940947  0.922203  0.931481     15412\n",
      "           1   0.865884  0.896676  0.881011      8633\n",
      "\n",
      "    accuracy                       0.913038     24045\n",
      "   macro avg   0.903415  0.909440  0.906246     24045\n",
      "weighted avg   0.913996  0.913038  0.913360     24045\n",
      "\n"
     ]
    }
   ],
   "source": [
    "clf_report = sklearn.metrics.classification_report(torch.argmax(pred_raw, dim=1), target, digits=6)\n",
    "\n",
    "print(f\"Classification Report : \\n{clf_report}\")"
   ]
  },
  {
   "cell_type": "code",
   "execution_count": null,
   "metadata": {
    "ExecuteTime": {
     "end_time": "2023-11-07T15:48:58.029514Z",
     "start_time": "2023-11-07T15:48:57.277837Z"
    }
   },
   "outputs": [],
   "source": [
    "from sklearn.manifold import TSNE\n",
    "from sklearn.decomposition import PCA"
   ]
  },
  {
   "cell_type": "code",
   "execution_count": null,
   "metadata": {
    "ExecuteTime": {
     "end_time": "2023-11-07T15:48:59.210888Z",
     "start_time": "2023-11-07T15:48:58.446626Z"
    }
   },
   "outputs": [],
   "source": [
    "len(emb)"
   ]
  },
  {
   "cell_type": "code",
   "execution_count": null,
   "metadata": {
    "ExecuteTime": {
     "end_time": "2023-10-27T14:15:19.163456Z",
     "start_time": "2023-10-27T14:13:19.396992Z"
    }
   },
   "outputs": [],
   "source": [
    "pca_comp_n = 30\n",
    "batch_size = 32\n",
    "\n",
    "pca = PCA(n_components=pca_comp_n, copy=True).fit(emb)\n",
    "p = pca.transform(emb)\n",
    "\n",
    "# ind = np.random.choice(len(emb), 10000)\n",
    "#\n",
    "tsne = TSNE(n_components=2, verbose=1, perplexity=75, random_state=142, init='pca')\n",
    "z = tsne.fit_transform(emb)\n",
    "interictal_inds = np.where(target == 0)[0]\n",
    "ictal_inds = np.where(target == 1)[0]"
   ]
  },
  {
   "cell_type": "code",
   "execution_count": null,
   "metadata": {
    "ExecuteTime": {
     "end_time": "2023-10-27T14:15:57.391035Z",
     "start_time": "2023-10-27T14:15:56.614349Z"
    }
   },
   "outputs": [],
   "source": [
    "pca.explained_variance_ratio_"
   ]
  },
  {
   "cell_type": "code",
   "execution_count": null,
   "metadata": {
    "ExecuteTime": {
     "end_time": "2023-10-27T14:16:00.862570Z",
     "start_time": "2023-10-27T14:16:00.226993Z"
    }
   },
   "outputs": [],
   "source": [
    "len(interictal_inds)"
   ]
  },
  {
   "cell_type": "code",
   "execution_count": null,
   "metadata": {
    "ExecuteTime": {
     "end_time": "2023-10-27T14:16:01.545191Z",
     "start_time": "2023-10-27T14:16:00.834545Z"
    }
   },
   "outputs": [],
   "source": [
    "len(ictal_inds)"
   ]
  },
  {
   "cell_type": "code",
   "execution_count": null,
   "metadata": {
    "ExecuteTime": {
     "end_time": "2023-10-27T14:16:04.283561Z",
     "start_time": "2023-10-27T14:16:03.634599Z"
    }
   },
   "outputs": [],
   "source": [
    "# spc = p\n",
    "#\n",
    "# fig = plt.figure(figsize=(10, 8))\n",
    "# ax = fig.add_subplot(projection='3d')\n",
    "# ax.scatter(spc[interictal_inds,0],spc[interictal_inds,1],spc[interictal_inds,2],c='gold',label= 'interictal')\n",
    "# ax.scatter(spc[ictal_inds, 0], spc[ictal_inds, 1],spc[ictal_inds, 2], c='royalblue', label='ictal')\n",
    "# # plt.title('Swav Embedding t-SNE')\n",
    "# ax.set_xlabel('comp 1')\n",
    "# ax.set_ylabel(\"comp 2\")\n",
    "# ax.set_zlabel(\"comp 2\")\n",
    "# plt.legend()\n",
    "# # plt.xlim(-67, 74)\n",
    "# # plt.ylim(-67, 75)\n",
    "# plt.grid()\n",
    "# # plt.show()"
   ]
  },
  {
   "cell_type": "code",
   "execution_count": null,
   "metadata": {
    "ExecuteTime": {
     "end_time": "2023-10-27T14:16:18.657990Z",
     "start_time": "2023-10-27T14:16:17.960839Z"
    }
   },
   "outputs": [],
   "source": [
    "spc = p\n",
    "plt.figure(figsize=(10, 8))\n",
    "plt.scatter(spc[interictal_inds,0],spc[interictal_inds,1],c='gold',label= 'interictal')\n",
    "plt.scatter(spc[ictal_inds, 0], spc[ictal_inds, 1], c='royalblue', label='ictal',s=0.5)\n",
    "# plt.title('Swav Embedding t-SNE')\n",
    "plt.xlabel('comp 1')\n",
    "plt.ylabel(\"comp 2\")\n",
    "plt.legend()\n",
    "# plt.xlim(-67, 74)\n",
    "# plt.ylim(-67, 75)\n",
    "plt.grid()\n",
    "plt.show()"
   ]
  },
  {
   "cell_type": "code",
   "execution_count": null,
   "metadata": {
    "ExecuteTime": {
     "end_time": "2023-04-19T06:31:53.821331Z",
     "start_time": "2023-04-19T06:31:53.149137Z"
    }
   },
   "outputs": [],
   "source": [
    "# dt = np.vstack((z[:,0], z[:,1])).T\n",
    "interactive_plot.interactive_plot(z, ['RNS026', 'HUP159', 'HUP129', 'HUP096'], data_import, color_override=target)"
   ]
  },
  {
   "cell_type": "code",
   "execution_count": null,
   "metadata": {
    "ExecuteTime": {
     "end_time": "2023-04-19T06:31:54.497782Z",
     "start_time": "2023-04-19T06:31:53.822331Z"
    }
   },
   "outputs": [],
   "source": [
    "interactive_plot.interactive_plot(z, ['HUP159'], data_import, color_override=target)"
   ]
  },
  {
   "cell_type": "code",
   "execution_count": 29,
   "metadata": {
    "ExecuteTime": {
     "start_time": "2024-02-29T11:17:49.709201Z",
     "end_time": "2024-02-29T11:17:50.550451Z"
    }
   },
   "outputs": [
    {
     "data": {
      "text/plain": "0.975720551997828"
     },
     "execution_count": 29,
     "metadata": {},
     "output_type": "execute_result"
    }
   ],
   "source": [
    "fpr, tpr, thresholds = sklearn.metrics.roc_curve(target,m(pred_raw.float())[:,1], pos_label=1)\n",
    "sklearn.metrics.auc(fpr, tpr)"
   ]
  },
  {
   "cell_type": "code",
   "execution_count": 30,
   "outputs": [
    {
     "data": {
      "text/plain": "tensor([3.8454e-05, 3.4064e-06, 3.6832e-06,  ..., 3.7266e-06, 7.6465e-06,\n        2.3368e-04])"
     },
     "execution_count": 30,
     "metadata": {},
     "output_type": "execute_result"
    }
   ],
   "source": [
    "m(pred_raw.float())[:,1]"
   ],
   "metadata": {
    "collapsed": false,
    "ExecuteTime": {
     "start_time": "2024-02-29T11:17:54.366177Z",
     "end_time": "2024-02-29T11:17:55.315178Z"
    }
   }
  },
  {
   "cell_type": "code",
   "execution_count": 27,
   "outputs": [
    {
     "data": {
      "text/plain": "tensor([0, 0, 0,  ..., 0, 0, 0])"
     },
     "execution_count": 27,
     "metadata": {},
     "output_type": "execute_result"
    }
   ],
   "source": [
    "target"
   ],
   "metadata": {
    "collapsed": false,
    "ExecuteTime": {
     "start_time": "2024-02-29T11:16:59.782975Z",
     "end_time": "2024-02-29T11:17:00.510975Z"
    }
   }
  },
  {
   "cell_type": "code",
   "execution_count": 24,
   "metadata": {
    "ExecuteTime": {
     "start_time": "2024-02-29T17:24:46.140000Z",
     "end_time": "2024-02-29T17:24:47.184999Z"
    }
   },
   "outputs": [
    {
     "data": {
      "text/plain": "<sklearn.metrics._plot.precision_recall_curve.PrecisionRecallDisplay at 0x133a6b05420>"
     },
     "execution_count": 24,
     "metadata": {},
     "output_type": "execute_result"
    },
    {
     "data": {
      "text/plain": "Canvas(toolbar=Toolbar(toolitems=[('Home', 'Reset original view', 'home', 'home'), ('Back', 'Back to previous …",
      "image/png": "[encoded data removed]",
      "text/html": "\n            <div style=\"display: inline-block;\">\n                <div class=\"jupyter-widgets widget-label\" style=\"text-align: center;\">\n                    Figure\n                </div>\n                <img src='data:image/png;base64,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' width=640.0/>\n            </div>\n        ",
      "application/vnd.jupyter.widget-view+json": {
       "version_major": 2,
       "version_minor": 0,
       "model_id": "5ca5c1fbc13444ce863881cffa798d3e"
      }
     },
     "metadata": {},
     "output_type": "display_data"
    }
   ],
   "source": [
    "from sklearn.metrics import RocCurveDisplay, PrecisionRecallDisplay\n",
    "\n",
    "PrecisionRecallDisplay.from_predictions(\n",
    "    target,\n",
    "    m(pred_raw.float())[:,1],\n",
    "    color=\"darkorange\",\n",
    ")\n",
    "# plt.plot([0, 1], [0, 1], \"k--\", label=\"chance level (AUC = 0.5)\")\n",
    "# plt.hlines(y = 1, xmin = 0, xmax = 1)\n",
    "# plt.vlines(x = 0, ymin = 0, ymax = 1)\n",
    "# plt.axis(\"square\")\n",
    "# plt.xlabel(\"False Positive Rate\")\n",
    "# plt.ylabel(\"True Positive Rate\")\n",
    "# plt.title(\"One-vs-Rest ROC curves:\\nVirginica vs (Setosa & Versicolor)\")\n",
    "# plt.legend()\n",
    "# plt.show()"
   ]
  },
  {
   "cell_type": "code",
   "execution_count": null,
   "metadata": {
    "ExecuteTime": {
     "end_time": "2023-10-27T14:31:39.880000Z",
     "start_time": "2023-10-27T14:31:39.093285Z"
    }
   },
   "outputs": [],
   "source": [
    "PrecisionRecallDisplay.from_predictions(\n",
    "    target,\n",
    "    m(pred_raw.float())[:,1],\n",
    "    color=\"darkorange\",\n",
    ")\n",
    "# plt.plot([0, 1], [0, 1], \"k--\", label=\"chance level (AUC = 0.5)\")\n",
    "\n",
    "plt.axis(\"square\")\n",
    "plt.xlabel(\"False Positive Rate\")\n",
    "plt.ylabel(\"True Positive Rate\")\n",
    "plt.title(\"One-vs-Rest ROC curves:\\nVirginica vs (Setosa & Versicolor)\")\n",
    "plt.legend()\n",
    "plt.show()"
   ]
  },
  {
   "cell_type": "code",
   "execution_count": null,
   "metadata": {},
   "outputs": [],
   "source": []
  },
  {
   "cell_type": "code",
   "execution_count": null,
   "metadata": {
    "ExecuteTime": {
     "end_time": "2023-10-27T14:26:14.245661Z",
     "start_time": "2023-10-27T14:26:13.585060Z"
    }
   },
   "outputs": [],
   "source": [
    "from sklearn import metrics\n",
    "fpr, tpr, thresholds = metrics.roc_curve(target,\n",
    "    m(pred_raw.float())[:,1])\n",
    "metrics.auc(fpr, tpr)"
   ]
  },
  {
   "cell_type": "code",
   "execution_count": null,
   "metadata": {},
   "outputs": [],
   "source": [
    "output[:, 1]"
   ]
  },
  {
   "cell_type": "code",
   "execution_count": null,
   "metadata": {},
   "outputs": [],
   "source": []
  },
  {
   "cell_type": "code",
   "execution_count": null,
   "metadata": {},
   "outputs": [],
   "source": [
    "\n",
    "output = torch.argmax(output, dim=1)\n",
    "output = output.detach().cpu().numpy()\n",
    "target = target.squeeze().detach().cpu().numpy()"
   ]
  },
  {
   "cell_type": "code",
   "execution_count": null,
   "metadata": {},
   "outputs": [],
   "source": []
  },
  {
   "cell_type": "code",
   "execution_count": null,
   "metadata": {},
   "outputs": [],
   "source": [
    "import sklearn\n",
    "\n",
    "clf_report = sklearn.metrics.classification_report(output, target, digits=6)\n",
    "\n",
    "print(f\"Classification Report : \\n{clf_report}\")"
   ]
  },
  {
   "cell_type": "code",
   "execution_count": null,
   "metadata": {},
   "outputs": [],
   "source": []
  },
  {
   "cell_type": "code",
   "execution_count": null,
   "metadata": {},
   "outputs": [],
   "source": [
    "for batch, label in tqdm(val_dataloader):\n",
    "    batch = batch.to(device)\n",
    "    label = label.to(device)\n",
    "    label = F.one_hot(label).squeeze()\n",
    "    outputs = model(batch)\n",
    "    print(batch)\n",
    "    loss = sigmoid_focal_loss(pred.float(), label.float(), alpha=0.5, gamma=8, reduction='mean')\n",
    "    print(loss)\n",
    "    break"
   ]
  },
  {
   "cell_type": "code",
   "execution_count": null,
   "metadata": {},
   "outputs": [],
   "source": [
    "# import copy\n",
    "# import torch\n",
    "# import torchvision\n",
    "# from torch import nn\n",
    "#\n",
    "# from lightly.data import DINOCollateFunction, LightlyDataset\n",
    "# from lightly.loss import DINOLoss\n",
    "# from lightly.models.modules import DINOProjectionHead\n",
    "# from lightly.models.utils import deactivate_requires_grad, update_momentum\n",
    "# from lightly.utils.scheduler import cosine_schedule\n",
    "#\n",
    "#\n",
    "# class DINO(torch.nn.Module):\n",
    "#     def __init__(self, backbone, input_dim):\n",
    "#         super().__init__()\n",
    "#         self.student_backbone = backbone\n",
    "#         self.student_head = DINOProjectionHead(\n",
    "#             input_dim, 512, 64, 2048, freeze_last_layer=1\n",
    "#         )\n",
    "#         self.teacher_backbone = copy.deepcopy(backbone)\n",
    "#         self.teacher_head = DINOProjectionHead(input_dim, 512, 64, 2048)\n",
    "#         deactivate_requires_grad(self.teacher_backbone)\n",
    "#         deactivate_requires_grad(self.teacher_head)\n",
    "#\n",
    "#     def forward(self, x):\n",
    "#         y = self.student_backbone(x).flatten(start_dim=1)\n",
    "#         z = self.student_head(y)\n",
    "#         return z\n",
    "#\n",
    "#     def forward_teacher(self, x):\n",
    "#         y = self.teacher_backbone(x).flatten(start_dim=1)\n",
    "#         z = self.teacher_head(y)\n",
    "#         return z\n",
    "#\n",
    "#\n",
    "# resnet = torchvision.models.resnet18()\n",
    "# backbone = nn.Sequential(*list(resnet.children())[:-1])\n",
    "# input_dim = 512\n",
    "# # instead of a resnet you can also use a vision transformer backbone as in the\n",
    "# # original paper (you might have to reduce the batch size in this case):\n",
    "# # backbone = torch.hub.load('facebookresearch/dino:main', 'dino_vits16', pretrained=False)\n",
    "# # input_dim = backbone.embed_dim\n",
    "#\n",
    "# model = DINO(backbone, input_dim)\n",
    "#\n",
    "# device = \"cuda\" if torch.cuda.is_available() else \"cpu\"\n",
    "# model.to(device)\n",
    "#\n",
    "# # # we ignore object detection annotations by setting target_transform to return 0\n",
    "# # pascal_voc = torchvision.datasets.VOCDetection(\n",
    "# #     \"datasets/pascal_voc\", download=True, target_transform=lambda t: 0\n",
    "# # )\n",
    "# # dataset = LightlyDataset.from_torch_dataset(pascal_voc)\n",
    "# # # or create a dataset from a folder containing images or videos:\n",
    "# # # dataset = LightlyDataset(\"path/to/folder\")\n",
    "#\n",
    "# collate_fn = DINOCollateFunction(solarization_prob = 0, hf_prob = 0,vf_prob = 0,rr_prob=0,cj_prob=0,random_gray_scale=0)\n",
    "#\n",
    "# dataloader = torch.utils.data.DataLoader(\n",
    "#     train_set,\n",
    "#     batch_size=64,\n",
    "#     collate_fn=collate_fn,\n",
    "#     shuffle=True,\n",
    "#     drop_last=True,\n",
    "#     num_workers=1,\n",
    "# )\n",
    "#\n",
    "# criterion = DINOLoss(\n",
    "#     output_dim=2048,\n",
    "#     warmup_teacher_temp_epochs=5,\n",
    "# )\n",
    "# # move loss to correct device because it also contains parameters\n",
    "# criterion = criterion.to(device)\n",
    "#\n",
    "# optimizer = torch.optim.Adam(model.parameters(), lr=0.001)\n",
    "#\n",
    "# epochs = 10\n",
    "#\n",
    "# print(\"Starting Training\")\n",
    "# for epoch in range(epochs):\n",
    "#     total_loss = 0\n",
    "#     momentum_val = cosine_schedule(epoch, epochs, 0.996, 1)\n",
    "#     for views, _, _ in tqdm(dataloader):\n",
    "#         update_momentum(model.student_backbone, model.teacher_backbone, m=momentum_val)\n",
    "#         update_momentum(model.student_head, model.teacher_head, m=momentum_val)\n",
    "#         views = [view.to(device) for view in views]\n",
    "#         global_views = views[:2]\n",
    "#         teacher_out = [model.forward_teacher(view) for view in global_views]\n",
    "#         student_out = [model.forward(view) for view in views]\n",
    "#         loss = criterion(teacher_out, student_out, epoch=epoch)\n",
    "#         total_loss += loss.detach()\n",
    "#         loss.backward()\n",
    "#         # We only cancel gradients of student head.\n",
    "#         model.student_head.cancel_last_layer_gradients(current_epoch=epoch)\n",
    "#         optimizer.step()\n",
    "#         optimizer.zero_grad()\n",
    "#\n",
    "#     avg_loss = total_loss / len(dataloader)\n",
    "#     print(f\"epoch: {epoch:>02}, loss: {avg_loss:.5f}\")"
   ]
  },
  {
   "cell_type": "code",
   "execution_count": null,
   "metadata": {},
   "outputs": [],
   "source": []
  },
  {
   "cell_type": "code",
   "execution_count": null,
   "metadata": {},
   "outputs": [],
   "source": [
    "augmentation = T.Compose([\n",
    "    T.ToPILImage(),\n",
    "    T.Resize((256, 512), interpolation=T.InterpolationMode.NEAREST),\n",
    "    T.RandomApply([T.ColorJitter()], p=0.5),\n",
    "    T.RandomApply([T.GaussianBlur(kernel_size=(3, 3))], p=0.5),\n",
    "    T.RandomInvert(p=0.2),\n",
    "    T.RandomPosterize(4, p=0.2),\n",
    "])\n",
    "\n",
    "data = ictal_data_X[0]\n",
    "\n",
    "channel_index = np.arange(data.shape[0])\n",
    "np.random.shuffle(channel_index)\n",
    "data = data[channel_index]\n",
    "data = torch.from_numpy(data).clone()\n",
    "data = data.repeat(3, 1, 1)\n",
    "data = augmentation(data)\n",
    "data"
   ]
  },
  {
   "cell_type": "code",
   "execution_count": null,
   "metadata": {},
   "outputs": [],
   "source": [
    "channel_index"
   ]
  },
  {
   "cell_type": "code",
   "execution_count": null,
   "metadata": {},
   "outputs": [],
   "source": [
    "data[channel_index]"
   ]
  },
  {
   "cell_type": "code",
   "execution_count": null,
   "metadata": {},
   "outputs": [],
   "source": [
    "data"
   ]
  },
  {
   "cell_type": "code",
   "execution_count": null,
   "metadata": {},
   "outputs": [],
   "source": [
    "#\n",
    "# print(\"Starting Training\")\n",
    "# for epoch in range(50):\n",
    "#     total_loss = 0\n",
    "#     i = 0\n",
    "#     for batch, label in tqdm(dataloader):\n",
    "#         batch = batch.to(device)\n",
    "#         # print(type(batch))\n",
    "#         label = label.to(device)\n",
    "#         label = F.one_hot(label).squeeze()\n",
    "#         outputs = model(batch)\n",
    "#         loss = sigmoid_focal_loss(outputs.float(),label.float(), alpha = 0.25, gamma = 7,reduction = 'mean')\n",
    "#         total_loss += loss.detach()\n",
    "#         loss.backward()\n",
    "#         optimizer.step()\n",
    "#         optimizer.zero_grad()\n",
    "#\n",
    "#     avg_loss = total_loss / len(dataloader)\n",
    "#     torch.save({\n",
    "#             'epoch': epoch,\n",
    "#             'model_state_dict': model.state_dict(),\n",
    "#             'optimizer_state_dict': optimizer.state_dict(),\n",
    "#             'loss': avg_loss,\n",
    "#             }, 'ckpt/checkpoint'+str(epoch)+'.pth')\n",
    "#\n",
    "#     print(f\"epoch: {epoch:>02}, loss: {avg_loss:.5f}\")"
   ]
  }
 ],
 "metadata": {
  "kernelspec": {
   "display_name": "Python 3 (ipykernel)",
   "language": "python",
   "name": "python3"
  },
  "language_info": {
   "codemirror_mode": {
    "name": "ipython",
    "version": 3
   },
   "file_extension": ".py",
   "mimetype": "text/x-python",
   "name": "python",
   "nbconvert_exporter": "python",
   "pygments_lexer": "ipython3",
   "version": "3.10.5"
  }
 },
 "nbformat": 4,
 "nbformat_minor": 1
}
