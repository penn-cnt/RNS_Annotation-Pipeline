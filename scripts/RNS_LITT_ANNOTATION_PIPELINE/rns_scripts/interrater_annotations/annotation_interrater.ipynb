{
 "cells": [
  {
   "cell_type": "code",
   "execution_count": 1,
   "metadata": {
    "ExecuteTime": {
     "end_time": "2024-04-24T05:27:52.640958Z",
     "start_time": "2024-04-24T05:27:51.602959Z"
    }
   },
   "outputs": [],
   "source": [
    "import pandas as pd\n",
    "\n",
    "pd.set_option('display.max_rows', 1000)\n",
    "pd.set_option('display.max_columns', 500)\n",
    "pd.set_option('display.width', 1000)\n",
    "%load_ext autoreload\n",
    "%autoreload 2\n",
    "%matplotlib notebook"
   ]
  },
  {
   "cell_type": "code",
   "execution_count": 2,
   "metadata": {
    "ExecuteTime": {
     "end_time": "2024-04-24T05:27:54.217959Z",
     "start_time": "2024-04-24T05:27:52.641960Z"
    }
   },
   "outputs": [
    {
     "ename": "ModuleNotFoundError",
     "evalue": "No module named 'data_utility'",
     "output_type": "error",
     "traceback": [
      "\u001B[1;31m---------------------------------------------------------------------------\u001B[0m",
      "\u001B[1;31mModuleNotFoundError\u001B[0m                       Traceback (most recent call last)",
      "Cell \u001B[1;32mIn[2], line 10\u001B[0m\n\u001B[0;32m      7\u001B[0m matplotlib\u001B[38;5;241m.\u001B[39muse(\u001B[38;5;124m\"\u001B[39m\u001B[38;5;124mnbAgg\u001B[39m\u001B[38;5;124m\"\u001B[39m)\n\u001B[0;32m      9\u001B[0m \u001B[38;5;28;01mfrom\u001B[39;00m \u001B[38;5;21;01msklearn\u001B[39;00m\u001B[38;5;21;01m.\u001B[39;00m\u001B[38;5;21;01mdecomposition\u001B[39;00m \u001B[38;5;28;01mimport\u001B[39;00m PCA\n\u001B[1;32m---> 10\u001B[0m \u001B[38;5;28;01mimport\u001B[39;00m \u001B[38;5;21;01mdata_utility\u001B[39;00m\n\u001B[0;32m     11\u001B[0m \u001B[38;5;28;01mimport\u001B[39;00m \u001B[38;5;21;01mannotation_utility\u001B[39;00m\n\u001B[0;32m     12\u001B[0m \u001B[38;5;28;01mimport\u001B[39;00m \u001B[38;5;21;01minteractive_plot\u001B[39;00m\n",
      "\u001B[1;31mModuleNotFoundError\u001B[0m: No module named 'data_utility'"
     ]
    }
   ],
   "source": [
    "import sys\n",
    "\n",
    "sys.path.append('tools')\n",
    "import numpy as np\n",
    "import matplotlib\n",
    "\n",
    "matplotlib.use(\"nbAgg\")\n",
    "\n",
    "from sklearn.decomposition import PCA\n",
    "import data_utility\n",
    "import annotation_utility\n",
    "import interactive_plot\n",
    "import times\n",
    "import nltk\n"
   ]
  },
  {
   "cell_type": "markdown",
   "metadata": {},
   "source": [
    "### Import Data"
   ]
  },
  {
   "cell_type": "code",
   "execution_count": null,
   "outputs": [],
   "source": [
    "raw_annotations = pd.read_csv('data/full_updated_anns (1).csv')\n",
    "ids = list(raw_annotations['HUP_ID'].unique())\n",
    "ids[:-1]"
   ],
   "metadata": {
    "collapsed": false,
    "ExecuteTime": {
     "end_time": "2024-04-24T05:27:54.218961Z",
     "start_time": "2024-04-24T05:27:54.218961Z"
    }
   }
  },
  {
   "cell_type": "code",
   "execution_count": null,
   "outputs": [],
   "source": [
    "data_import = data_utility.read_files(patientIDs=ids,\n",
    "                                      verbose=True)  # Import data with annotation"
   ],
   "metadata": {
    "collapsed": false,
    "ExecuteTime": {
     "start_time": "2024-04-24T05:27:54.219959Z"
    }
   }
  },
  {
   "cell_type": "code",
   "execution_count": null,
   "metadata": {
    "ExecuteTime": {
     "start_time": "2024-04-24T05:27:54.220960Z"
    }
   },
   "outputs": [],
   "source": [
    "annotations = annotation_utility.read_annotation(annotation_path = 'data/all_updated_anns.csv',data = data_import)"
   ]
  },
  {
   "cell_type": "code",
   "execution_count": null,
   "metadata": {
    "ExecuteTime": {
     "start_time": "2024-04-24T05:27:54.221960Z"
    }
   },
   "outputs": [],
   "source": [
    "annotations.raters"
   ]
  },
  {
   "cell_type": "code",
   "execution_count": null,
   "metadata": {
    "ExecuteTime": {
     "start_time": "2024-04-24T05:27:54.221960Z"
    }
   },
   "outputs": [],
   "source": [
    "annotations.annotation_dict['RNS_Test_Dataset_BrianLitt']"
   ]
  },
  {
   "cell_type": "code",
   "execution_count": null,
   "metadata": {
    "ExecuteTime": {
     "start_time": "2024-04-24T05:27:54.222960Z"
    }
   },
   "outputs": [],
   "source": [
    "type_predict_dict, type_catalog_dict = annotations.annot_match(match_annotation='type')\n",
    "channel_predict_dict, channel_catalog_dict = annotations.annot_match(match_annotation='channel')\n",
    "time_predict_dict, time_catalog_dict = annotations.annot_match(match_annotation='time')"
   ]
  },
  {
   "cell_type": "code",
   "execution_count": null,
   "metadata": {
    "ExecuteTime": {
     "start_time": "2024-04-24T05:27:54.223960Z"
    }
   },
   "outputs": [],
   "source": [
    "_, type_acc_arr = annotation_utility.annot_type_accuracy(type_predict_dict)\n",
    "_, channel_acc_arr = annotation_utility.annot_channel_accuracy(channel_predict_dict)\n",
    "_, time_acc_arr = annotation_utility.annot_time_overlap(time_predict_dict)"
   ]
  },
  {
   "cell_type": "markdown",
   "metadata": {},
   "source": [
    "## Type Annotation"
   ]
  },
  {
   "cell_type": "code",
   "execution_count": null,
   "metadata": {},
   "outputs": [],
   "source": [
    "df_type_result = pd.DataFrame(data=type_acc_arr, index=annotations.raters, columns=annotations.raters)\n",
    "df_type_result"
   ]
  },
  {
   "cell_type": "markdown",
   "metadata": {},
   "source": [
    "## Channel Annotation w/ correct type"
   ]
  },
  {
   "cell_type": "code",
   "execution_count": 3,
   "metadata": {
    "ExecuteTime": {
     "end_time": "2024-04-24T05:27:55.928969Z",
     "start_time": "2024-04-24T05:27:54.599959Z"
    }
   },
   "outputs": [
    {
     "ename": "NameError",
     "evalue": "name 'channel_acc_arr' is not defined",
     "output_type": "error",
     "traceback": [
      "\u001B[1;31m---------------------------------------------------------------------------\u001B[0m",
      "\u001B[1;31mNameError\u001B[0m                                 Traceback (most recent call last)",
      "Cell \u001B[1;32mIn[3], line 1\u001B[0m\n\u001B[1;32m----> 1\u001B[0m df_channel_result \u001B[38;5;241m=\u001B[39m pd\u001B[38;5;241m.\u001B[39mDataFrame(data\u001B[38;5;241m=\u001B[39m\u001B[43mchannel_acc_arr\u001B[49m, index\u001B[38;5;241m=\u001B[39mannotations\u001B[38;5;241m.\u001B[39mraters, columns\u001B[38;5;241m=\u001B[39mannotations\u001B[38;5;241m.\u001B[39mraters)\n\u001B[0;32m      2\u001B[0m df_channel_result\n",
      "\u001B[1;31mNameError\u001B[0m: name 'channel_acc_arr' is not defined"
     ]
    }
   ],
   "source": [
    "df_channel_result = pd.DataFrame(data=channel_acc_arr, index=annotations.raters, columns=annotations.raters)\n",
    "df_channel_result"
   ]
  },
  {
   "cell_type": "markdown",
   "metadata": {},
   "source": [
    "## Time Overlap"
   ]
  },
  {
   "cell_type": "code",
   "execution_count": 19,
   "metadata": {
    "ExecuteTime": {
     "start_time": "2024-04-17T11:33:08.617196Z",
     "end_time": "2024-04-17T11:33:08.791195Z"
    }
   },
   "outputs": [
    {
     "data": {
      "text/plain": "0.9011095726991591"
     },
     "execution_count": 19,
     "metadata": {},
     "output_type": "execute_result"
    }
   ],
   "source": [
    "df_time_result = pd.DataFrame(data=time_acc_arr, index=annotations.raters, columns=annotations.raters)\n",
    "df_time_result.mean().mean()"
   ]
  },
  {
   "cell_type": "markdown",
   "source": [
    "comparing Josh's annotation to Brian's"
   ],
   "metadata": {
    "collapsed": false
   }
  },
  {
   "cell_type": "code",
   "execution_count": 20,
   "outputs": [
    {
     "data": {
      "text/plain": "[[0, 0],\n [1, 1],\n [1, 1],\n [1, 1],\n [1, 1],\n [1, 1],\n [0, 1],\n [0, 1],\n [0, 1],\n [0, 0],\n [0, 1],\n [0, 0],\n [0, 0],\n [1, 1],\n [1, 1],\n [1, 1],\n [1, 1],\n [0, 0],\n [0, 0],\n [0, 1],\n [0, 1],\n [0, 0],\n [0, 1],\n [0, 0],\n [0, 0],\n [0, 0],\n [1, 1],\n [0, 0],\n [1, 1],\n [0, 1],\n [0, 0],\n [0, 1],\n [0, 0],\n [0, 0],\n [0, 0]]"
     },
     "execution_count": 20,
     "metadata": {},
     "output_type": "execute_result"
    }
   ],
   "source": [
    "type_predict_dict['RNS_Test_Dataset_BrianLitt']['RNS_Test_Dataset_JoshLarocque']"
   ],
   "metadata": {
    "collapsed": false,
    "ExecuteTime": {
     "start_time": "2024-04-17T11:33:08.791195Z",
     "end_time": "2024-04-17T11:33:08.965197Z"
    }
   }
  },
  {
   "cell_type": "code",
   "execution_count": 20,
   "metadata": {
    "ExecuteTime": {
     "start_time": "2024-04-17T11:33:08.966194Z",
     "end_time": "2024-04-17T11:33:08.994965Z"
    }
   },
   "outputs": [],
   "source": []
  }
 ],
 "metadata": {
  "kernelspec": {
   "display_name": "Python 3",
   "language": "python",
   "name": "python3"
  },
  "language_info": {
   "codemirror_mode": {
    "name": "ipython",
    "version": 3
   },
   "file_extension": ".py",
   "mimetype": "text/x-python",
   "name": "python",
   "nbconvert_exporter": "python",
   "pygments_lexer": "ipython3",
   "version": "3.9.0"
  }
 },
 "nbformat": 4,
 "nbformat_minor": 1
}
