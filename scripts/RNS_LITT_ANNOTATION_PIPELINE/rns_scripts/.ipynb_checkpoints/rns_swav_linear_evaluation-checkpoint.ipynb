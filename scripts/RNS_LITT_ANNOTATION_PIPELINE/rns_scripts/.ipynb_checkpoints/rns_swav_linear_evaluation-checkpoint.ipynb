{
 "cells": [
  {
   "cell_type": "code",
   "execution_count": 1,
   "metadata": {
    "ExecuteTime": {
     "end_time": "2023-10-17T12:32:58.782065Z",
     "start_time": "2023-10-17T12:32:57.995029Z"
    }
   },
   "outputs": [],
   "source": [
    "%load_ext autoreload\n",
    "%autoreload 2\n",
    "%matplotlib widget"
   ]
  },
  {
   "cell_type": "code",
   "execution_count": 2,
   "metadata": {
    "ExecuteTime": {
     "end_time": "2023-10-17T12:33:06.176966Z",
     "start_time": "2023-10-17T12:32:58.782065Z"
    }
   },
   "outputs": [],
   "source": [
    "import sys\n",
    "import os\n",
    "\n",
    "sys.path.append('../tools')\n",
    "import h5py\n",
    "import pandas as pd\n",
    "import numpy as np\n",
    "import tensorflow as tf\n",
    "import matplotlib.pyplot as plt\n",
    "from sklearn.manifold import TSNE\n",
    "\n",
    "from torch.utils.data import DataLoader\n",
    "from torch.utils.data import Dataset\n",
    "import torch\n",
    "from tqdm import tqdm\n",
    "import sklearn\n",
    "\n",
    "import torchvision.transforms as T\n",
    "import pytorch_lightning as pl\n",
    "import pytorch_lightning.loggers as pl_loggers\n",
    "import pytorch_lightning.callbacks as pl_callbacks\n",
    "\n",
    "import data_utility\n",
    "import times\n",
    "import segmentation\n",
    "import preprocess\n",
    "import autoencoder\n",
    "import visualizer\n",
    "import kaggle_data_utility\n",
    "import annotation_utility\n",
    "import interactive_plot"
   ]
  },
  {
   "cell_type": "code",
   "execution_count": 3,
   "metadata": {
    "ExecuteTime": {
     "end_time": "2023-10-17T12:33:06.679095Z",
     "start_time": "2023-10-17T12:33:06.176966Z"
    }
   },
   "outputs": [],
   "source": [
    "data_dir = \"../../../user_data/\"\n",
    "log_folder_root = '../../../user_data/logs/'\n",
    "ckpt_folder_root = '../../../user_data/checkpoints/'"
   ]
  },
  {
   "cell_type": "code",
   "execution_count": 4,
   "metadata": {
    "ExecuteTime": {
     "end_time": "2023-10-17T12:33:07.207082Z",
     "start_time": "2023-10-17T12:33:06.679095Z"
    }
   },
   "outputs": [
    {
     "data": {
      "text/plain": [
       "['HUP047',\n",
       " 'HUP084',\n",
       " 'HUP096',\n",
       " 'HUP109',\n",
       " 'HUP121',\n",
       " 'HUP129',\n",
       " 'HUP131',\n",
       " 'HUP137',\n",
       " 'HUP147',\n",
       " 'HUP153',\n",
       " 'HUP156',\n",
       " 'HUP159',\n",
       " 'HUP182',\n",
       " 'HUP197',\n",
       " 'HUP199',\n",
       " 'HUP205',\n",
       " 'RNS026',\n",
       " 'RNS029']"
      ]
     },
     "execution_count": 4,
     "metadata": {},
     "output_type": "execute_result"
    }
   ],
   "source": [
    "raw_annotations = pd.read_csv(data_dir + 'full_updated_anns_annotTbl_cleaned.csv')\n",
    "ids = list(np.unique(raw_annotations[raw_annotations['descriptions'].notnull()]['HUP_ID']))\n",
    "# ids = list(np.unique(raw_annotations['HUP_ID']))\n",
    "ids"
   ]
  },
  {
   "cell_type": "code",
   "execution_count": 5,
   "metadata": {
    "ExecuteTime": {
     "end_time": "2023-10-17T12:33:19.513769Z",
     "start_time": "2023-10-17T12:33:07.207082Z"
    }
   },
   "outputs": [
    {
     "name": "stderr",
     "output_type": "stream",
     "text": [
      "100%|██████████| 18/18 [00:11<00:00,  1.53it/s]\n"
     ]
    }
   ],
   "source": [
    "data_import = data_utility.read_files(path=data_dir+'rns_data', path_data=data_dir+'rns_raw_cache', patientIDs=ids,\n",
    "                                      verbose=True)  # Import data with annotation"
   ]
  },
  {
   "cell_type": "code",
   "execution_count": 6,
   "metadata": {
    "ExecuteTime": {
     "end_time": "2023-10-17T12:33:22.712406Z",
     "start_time": "2023-10-17T12:33:19.513769Z"
    }
   },
   "outputs": [],
   "source": [
    "annotations = annotation_utility.read_annotation(annotation_path=data_dir +'full_updated_anns_annotTbl_cleaned.csv',\n",
    "                                                 data=data_import, n_class=3)"
   ]
  },
  {
   "cell_type": "code",
   "execution_count": 7,
   "metadata": {
    "ExecuteTime": {
     "end_time": "2023-10-17T12:33:23.226376Z",
     "start_time": "2023-10-17T12:33:22.712406Z"
    }
   },
   "outputs": [],
   "source": [
    "# np.random.seed(seed=42)\n",
    "# annot = annotations.annotations\n",
    "# annot_nonseizure = annot[annot['Class_Code'] == 0]\n",
    "# annot_seizure = annot[annot['Class_Code'] == 1]\n",
    "# patient_list = list(np.unique(annot['Patient_ID']))\n",
    "# # patient_list = ['RNS026', 'HUP159', 'HUP129', 'HUP096', 'HUP182']\n",
    "# # patient_list = ['HUP159']\n",
    "# clip_dict = {}\n",
    "# for p in patient_list:\n",
    "#     seizure_start_index = np.array([])\n",
    "#     seizure_end_index = np.array([])\n",
    "#     nonseizure_start_index = np.array([])\n",
    "#     nonseizure_end_index = np.array([])\n",
    "#     start_index = annot_seizure[annot_seizure['Patient_ID'] == p]['Episode_Start_Index']\n",
    "#     end_index = annot_seizure[annot_seizure['Patient_ID'] == p]['Episode_End_Index']\n",
    "#     annot_start_list = annot_seizure[annot_seizure['Patient_ID'] == p]['Annotation_Start_Index']\n",
    "#     annot_end_list = annot_seizure[annot_seizure['Patient_ID'] == p]['Annotation_End_Index']\n",
    "#     for i, slel in enumerate(zip(annot_start_list, annot_end_list)):\n",
    "#         sl = slel[0]\n",
    "#         el = slel[1]\n",
    "#         annot_array = np.vstack((sl, el))\n",
    "#         test = start_index.iloc[i]\n",
    "#         seizure_start_index = np.hstack((seizure_start_index, annot_array[0, :]))\n",
    "#         seizure_end_index = np.hstack((seizure_end_index, annot_array[1, :]))\n",
    "#\n",
    "#         nonseizure_start_index = np.hstack((nonseizure_start_index, start_index.iloc[i]))\n",
    "#         nonseizure_end_index = np.hstack((nonseizure_end_index, annot_array[0, 0]))\n",
    "#\n",
    "#         nonseizure_start_index = np.hstack((nonseizure_start_index, annot_array[1, -1]))\n",
    "#         nonseizure_end_index = np.hstack((nonseizure_end_index, end_index.iloc[i]))\n",
    "#         if annot_array.shape[1] > 1:\n",
    "#             test1 = annot_array[0, 1:]\n",
    "#             test2 = annot_array[1, :-1]\n",
    "#             nonseizure_start_index = np.hstack((nonseizure_start_index, annot_array[0, 1:]))\n",
    "#             nonseizure_end_index = np.hstack((nonseizure_end_index, annot_array[1, :-1]))\n",
    "#\n",
    "#     nonseizure_valid = np.where(nonseizure_end_index - nonseizure_start_index > 500)\n",
    "#     seizure_valid = np.where(seizure_end_index - seizure_start_index > 500)\n",
    "#\n",
    "#     nonseizure_ind_arr = np.vstack(\n",
    "#         (nonseizure_start_index[nonseizure_valid], nonseizure_end_index[nonseizure_valid])).astype(int)\n",
    "#     start_index = annot_nonseizure[annot_nonseizure['Patient_ID'] == p]['Episode_Start_Index']\n",
    "#     end_index = annot_nonseizure[annot_nonseizure['Patient_ID'] == p]['Episode_End_Index']\n",
    "#\n",
    "#     print(np.vstack((seizure_start_index[seizure_valid], seizure_end_index[seizure_valid])).astype(int).shape)\n",
    "#     valid = np.where(end_index - start_index > 500)\n",
    "#     nonseizure_ind_arr_eps = np.vstack((start_index.iloc[valid], end_index.iloc[valid])).astype(int)\n",
    "#\n",
    "#     if len(valid[0]) and len(seizure_valid[0]) > 0:\n",
    "#         nonseizure_clip_temp = np.hstack((nonseizure_ind_arr, nonseizure_ind_arr_eps))\n",
    "#         seizure_clip_temp = np.vstack((seizure_start_index[seizure_valid], seizure_end_index[seizure_valid])).astype(\n",
    "#             int)\n",
    "#\n",
    "#         nonseizure_clip_label = np.zeros(nonseizure_clip_temp.shape[1]).astype(int)\n",
    "#         seizure_clip_label = np.ones(seizure_clip_temp.shape[1]).astype(int)\n",
    "#\n",
    "#         seizure_clip = np.vstack((seizure_clip_temp, seizure_clip_label))\n",
    "#         non_seizure_clip = np.vstack((nonseizure_clip_temp, nonseizure_clip_label))\n",
    "#\n",
    "#         combined_clip = np.hstack((seizure_clip, non_seizure_clip))\n",
    "#\n",
    "#         shuffled_index = np.arange(combined_clip.shape[1])\n",
    "#         np.random.shuffle(shuffled_index)\n",
    "#\n",
    "#         clip_dict[p] = combined_clip[:, shuffled_index]\n",
    "\n"
   ]
  },
  {
   "cell_type": "code",
   "execution_count": 8,
   "metadata": {
    "ExecuteTime": {
     "end_time": "2023-10-17T12:33:23.753434Z",
     "start_time": "2023-10-17T12:33:23.226376Z"
    }
   },
   "outputs": [],
   "source": [
    "# window_len = 1\n",
    "# stride = 1\n",
    "# concat_n = 2\n",
    "# for id in tqdm(clip_dict.keys()):\n",
    "#     data_import[id].set_window_parameter(window_length=window_len, window_displacement=stride)\n",
    "#     data_import[id].set_concatenation_parameter(concatenate_window_n=concat_n)\n",
    "#     window_indices, _ = data_import[id].get_windowed_data(clip_dict[id][0], clip_dict[id][1])\n",
    "#     import_label = np.array([])\n",
    "#     for i, ind in enumerate(window_indices):\n",
    "#         import_label = np.hstack((import_label, np.repeat(clip_dict[id][2][i], len(ind))))\n",
    "#     data_import[id].normalize_windowed_data()\n",
    "#     _, concatenated_data = data_import[id].get_concatenated_data(data_import[id].windowed_data, arrange='channel_stack')\n",
    "#     assert import_label.shape[0] == concatenated_data.shape[0]\n",
    "#     np.save(data_dir+'rns_test_cache/' + id + '.npy', {'data': concatenated_data, 'label': import_label})"
   ]
  },
  {
   "cell_type": "code",
   "execution_count": 9,
   "metadata": {
    "ExecuteTime": {
     "end_time": "2023-10-17T12:33:24.515660Z",
     "start_time": "2023-10-17T12:33:23.753434Z"
    }
   },
   "outputs": [],
   "source": [
    "from models.rns_dataloader import RNS_Downstream\n",
    "from models.SwaV import SwaV"
   ]
  },
  {
   "cell_type": "code",
   "execution_count": 10,
   "metadata": {
    "ExecuteTime": {
     "end_time": "2023-10-17T12:33:25.058705Z",
     "start_time": "2023-10-17T12:33:24.511657Z"
    }
   },
   "outputs": [],
   "source": [
    "import torch\n",
    "import torchvision\n",
    "from torch import nn\n",
    "\n",
    "from lightly.data import LightlyDataset, SwaVCollateFunction\n",
    "from lightly.loss import SwaVLoss\n",
    "from lightly.loss.memory_bank import MemoryBankModule\n",
    "from lightly.models.modules import SwaVProjectionHead, SwaVPrototypes\n"
   ]
  },
  {
   "cell_type": "code",
   "execution_count": 11,
   "metadata": {
    "ExecuteTime": {
     "end_time": "2023-10-17T12:33:25.581469Z",
     "start_time": "2023-10-17T12:33:25.050703Z"
    }
   },
   "outputs": [],
   "source": [
    "def collate_fn(batch):\n",
    "    info = list(zip(*batch))\n",
    "    data = info[0]\n",
    "    label = info[1]\n",
    "    return torch.stack(data), torch.stack(label)"
   ]
  },
  {
   "cell_type": "code",
   "execution_count": 12,
   "metadata": {
    "ExecuteTime": {
     "end_time": "2023-10-17T12:33:26.111439Z",
     "start_time": "2023-10-17T12:33:25.585471Z"
    }
   },
   "outputs": [],
   "source": [
    "def get_data(file_names, split=0.7):\n",
    "    file_name_temp = file_names[0]\n",
    "    cache = np.load(data_dir+'rns_test_cache/' + file_name_temp, allow_pickle=True)\n",
    "    temp_file = cache.item().get('data')\n",
    "\n",
    "    train_data = np.empty((0, temp_file.shape[1], temp_file.shape[2]))\n",
    "    train_label = np.array([])\n",
    "    test_data = np.empty((0, temp_file.shape[1], temp_file.shape[2]))\n",
    "    test_label = np.array([])\n",
    "\n",
    "    for name in tqdm(file_names):\n",
    "        cache = np.load(data_dir+'rns_test_cache/' + name, allow_pickle=True)\n",
    "        data = cache.item().get('data')\n",
    "        label = cache.item().get('label')\n",
    "        split_n = int(data.shape[0] * (split))\n",
    "        train_data = np.vstack((train_data, data[:split_n]))\n",
    "        train_label = np.hstack((train_label, label[:split_n]))\n",
    "        test_data = np.vstack((test_data, data[split_n:]))\n",
    "        test_label = np.hstack((test_label, label[split_n:]))\n",
    "\n",
    "    return train_data, train_label, test_data, test_label"
   ]
  },
  {
   "cell_type": "code",
   "execution_count": 13,
   "metadata": {
    "ExecuteTime": {
     "end_time": "2023-10-17T12:33:30.025194Z",
     "start_time": "2023-10-17T12:33:26.111439Z"
    }
   },
   "outputs": [
    {
     "name": "stderr",
     "output_type": "stream",
     "text": [
      "100%|██████████| 5/5 [00:03<00:00,  1.60it/s]"
     ]
    },
    {
     "name": "stdout",
     "output_type": "stream",
     "text": [
      "(12046, 249, 36)\n",
      "(12046,)\n",
      "(28112, 249, 36)\n",
      "(28112,)\n"
     ]
    },
    {
     "name": "stderr",
     "output_type": "stream",
     "text": [
      "\n"
     ]
    }
   ],
   "source": [
    "data_list = os.listdir(data_dir+'rns_test_cache')\n",
    "data_list = ['RNS026.npy', 'HUP159.npy', 'HUP129.npy', 'HUP096.npy', 'HUP182.npy']\n",
    "train_data, train_label, test_data, test_label = get_data(data_list, split=0.3)\n",
    "# data, label,_,_ = get_data(data_list, split=1)\n",
    "# train_data, test_data, train_label, test_label = sklearn.model_selection.train_test_split(data, label, test_size=0.8, random_state=42)\n",
    "\n",
    "print(train_data.shape)\n",
    "print(train_label.shape)\n",
    "print(test_data.shape)\n",
    "print(test_label.shape)"
   ]
  },
  {
   "cell_type": "code",
   "execution_count": 14,
   "metadata": {
    "ExecuteTime": {
     "end_time": "2023-10-17T12:33:30.612656Z",
     "start_time": "2023-10-17T12:33:30.025194Z"
    }
   },
   "outputs": [
    {
     "data": {
      "text/plain": [
       "2478.0"
      ]
     },
     "execution_count": 14,
     "metadata": {},
     "output_type": "execute_result"
    }
   ],
   "source": [
    "test_label.sum()"
   ]
  },
  {
   "cell_type": "code",
   "execution_count": 15,
   "metadata": {
    "ExecuteTime": {
     "end_time": "2023-10-17T12:33:31.185316Z",
     "start_time": "2023-10-17T12:33:30.612656Z"
    }
   },
   "outputs": [],
   "source": [
    "from models.SupervisedDownstream import SupervisedDownstream"
   ]
  },
  {
   "cell_type": "code",
   "execution_count": 16,
   "metadata": {
    "ExecuteTime": {
     "end_time": "2023-10-17T12:33:32.381487Z",
     "start_time": "2023-10-17T12:33:31.185316Z"
    }
   },
   "outputs": [
    {
     "name": "stderr",
     "output_type": "stream",
     "text": [
      "Using 16bit native Automatic Mixed Precision (AMP)\n",
      "GPU available: True (cuda), used: True\n",
      "TPU available: False, using: 0 TPU cores\n",
      "IPU available: False, using: 0 IPUs\n",
      "HPU available: False, using: 0 HPUs\n"
     ]
    }
   ],
   "source": [
    "ckpt = torch.load(ckpt_folder_root+ 'rns_checkpoints/rns_swav_ckpt_5_patients/checkpoint31.pth')\n",
    "# resnet = torchvision.models.resnet50()\n",
    "# backbone = nn.Sequential(*list(resnet.children())[:-1])\n",
    "swav = SwaV()\n",
    "swav.load_state_dict(ckpt['model_state_dict'])\n",
    "model = SupervisedDownstream(swav.backbone)\n",
    "\n",
    "\n",
    "\n",
    "# swav = SwaV().load_from_checkpoint(ckpt_folder_root + 'rns_swav_34_159/rns_swav_159-epoch=148-swav_loss=2.99675.ckpt')\n",
    "# model = SupervisedDownstream(swav.backbone)\n",
    "\n",
    "device = \"cuda\" if torch.cuda.is_available() else \"cpu\"\n",
    "model.to(device)\n",
    "\n",
    "checkpoint_callback = pl_callbacks.ModelCheckpoint(monitor='val_loss',\n",
    "                                                   filename='rns_swav_34_all_linear_eval-{epoch:02d}-{val_loss:.5f}', save_last=True, save_top_k=-1, dirpath=ckpt_folder_root + 'rns_swav_34_all_linear_eval')\n",
    "csv_logger = pl_loggers.CSVLogger(log_folder_root, name='rns_swav_34_all_linear_eval')\n",
    "\n",
    "trainer = pl.Trainer(logger=csv_logger, max_epochs=80, callbacks=[checkpoint_callback], accelerator='gpu', devices=1,precision=16)"
   ]
  },
  {
   "cell_type": "code",
   "execution_count": 17,
   "metadata": {
    "ExecuteTime": {
     "end_time": "2023-10-17T12:33:32.905441Z",
     "start_time": "2023-10-17T12:33:32.365482Z"
    }
   },
   "outputs": [
    {
     "name": "stdout",
     "output_type": "stream",
     "text": [
      "data loaded\n",
      "(12046, 249, 36)\n",
      "(12046,)\n",
      "data loaded\n",
      "(28112, 249, 36)\n",
      "(28112,)\n"
     ]
    }
   ],
   "source": [
    "train_dataset = RNS_Downstream(train_data, train_label, transform=True, astensor=True)\n",
    "test_dataset = RNS_Downstream(test_data, test_label, transform=False, astensor=True)\n",
    "\n",
    "train_dataloader = torch.utils.data.DataLoader(\n",
    "    train_dataset,\n",
    "    batch_size=256,\n",
    "    collate_fn=collate_fn,\n",
    "    shuffle=True,\n",
    "    drop_last=True,\n",
    ")\n",
    "\n",
    "val_dataloader = torch.utils.data.DataLoader(\n",
    "    test_dataset,\n",
    "    batch_size=256,\n",
    "    collate_fn=collate_fn,\n",
    "    shuffle=False,\n",
    "    drop_last=True,\n",
    ")\n",
    "\n",
    "# trainer.fit(model, train_dataloader, val_dataloader)"
   ]
  },
  {
   "cell_type": "code",
   "execution_count": 18,
   "metadata": {
    "ExecuteTime": {
     "end_time": "2023-10-17T12:33:33.448268Z",
     "start_time": "2023-10-17T12:33:32.905441Z"
    }
   },
   "outputs": [],
   "source": [
    "# test_dataset = RNS_Downstream(test_data, test_label, transform=False, astensor=True)\n",
    "# val_dataloader = torch.utils.data.DataLoader(\n",
    "#     test_dataset,\n",
    "#     batch_size=256,\n",
    "#     collate_fn=collate_fn,\n",
    "#     shuffle=False,\n",
    "#     drop_last=True,\n",
    "# )"
   ]
  },
  {
   "cell_type": "code",
   "execution_count": 19,
   "metadata": {
    "ExecuteTime": {
     "end_time": "2023-10-17T12:34:10.454909Z",
     "start_time": "2023-10-17T12:33:33.448268Z"
    }
   },
   "outputs": [
    {
     "name": "stderr",
     "output_type": "stream",
     "text": [
      "LOCAL_RANK: 0 - CUDA_VISIBLE_DEVICES: [0]\n",
      "C:\\Users\\Patrick Xu\\AppData\\Local\\Programs\\Python\\Python310\\lib\\site-packages\\pytorch_lightning\\trainer\\connectors\\data_connector.py:236: PossibleUserWarning: The dataloader, predict_dataloader 0, does not have many workers which may be a bottleneck. Consider increasing the value of the `num_workers` argument` (try 16 which is the number of cpus on this machine) in the `DataLoader` init to improve performance.\n",
      "  rank_zero_warn(\n"
     ]
    },
    {
     "data": {
      "application/vnd.jupyter.widget-view+json": {
       "model_id": "8a6476c2a68c457b8eec02861ec365a6",
       "version_major": 2,
       "version_minor": 0
      },
      "text/plain": [
       "Predicting: 0it [00:00, ?it/s]"
      ]
     },
     "metadata": {},
     "output_type": "display_data"
    }
   ],
   "source": [
    "predictions = trainer.predict(model,val_dataloader)"
   ]
  },
  {
   "cell_type": "code",
   "execution_count": 20,
   "metadata": {
    "ExecuteTime": {
     "end_time": "2023-10-17T12:34:10.992810Z",
     "start_time": "2023-10-17T12:34:10.454909Z"
    }
   },
   "outputs": [],
   "source": [
    "output_list = []\n",
    "target_list = []\n",
    "emb_list = []\n",
    "m = nn.Softmax(dim=1)\n",
    "for pred, y, emb in predictions:\n",
    "    output_list.append(pred)\n",
    "    target_list.append(y)\n",
    "    emb_list.append(emb)"
   ]
  },
  {
   "cell_type": "code",
   "execution_count": 21,
   "metadata": {
    "ExecuteTime": {
     "end_time": "2023-10-17T12:34:11.525236Z",
     "start_time": "2023-10-17T12:34:10.992810Z"
    }
   },
   "outputs": [
    {
     "data": {
      "text/plain": [
       "110"
      ]
     },
     "execution_count": 21,
     "metadata": {},
     "output_type": "execute_result"
    }
   ],
   "source": [
    "len(target_list)"
   ]
  },
  {
   "cell_type": "code",
   "execution_count": 22,
   "metadata": {
    "ExecuteTime": {
     "end_time": "2023-10-17T12:34:17.374139Z",
     "start_time": "2023-10-17T12:34:15.674851Z"
    }
   },
   "outputs": [],
   "source": [
    "pred_raw = torch.vstack(output_list)\n",
    "target = torch.vstack(target_list)\n",
    "emb = torch.vstack(emb_list)\n",
    "out = torch.argmax(pred_raw, dim=1)"
   ]
  },
  {
   "cell_type": "code",
   "execution_count": 23,
   "metadata": {
    "ExecuteTime": {
     "end_time": "2023-10-17T12:34:19.606601Z",
     "start_time": "2023-10-17T12:34:19.063790Z"
    }
   },
   "outputs": [
    {
     "data": {
      "text/plain": [
       "torch.Size([28112, 2048])"
      ]
     },
     "execution_count": 23,
     "metadata": {},
     "output_type": "execute_result"
    }
   ],
   "source": [
    "emb.shape"
   ]
  },
  {
   "cell_type": "code",
   "execution_count": 24,
   "metadata": {
    "ExecuteTime": {
     "end_time": "2023-10-17T12:34:22.003960Z",
     "start_time": "2023-10-17T12:34:21.450173Z"
    }
   },
   "outputs": [
    {
     "data": {
      "text/plain": [
       "0.08814741035856574"
      ]
     },
     "execution_count": 24,
     "metadata": {},
     "output_type": "execute_result"
    }
   ],
   "source": [
    "sklearn.metrics.accuracy_score(torch.argmax(pred_raw, dim=1), target)"
   ]
  },
  {
   "cell_type": "code",
   "execution_count": 25,
   "metadata": {
    "ExecuteTime": {
     "end_time": "2023-10-17T12:34:24.246682Z",
     "start_time": "2023-10-17T12:34:23.674113Z"
    }
   },
   "outputs": [
    {
     "name": "stdout",
     "output_type": "stream",
     "text": [
      "Classification Report : \n",
      "              precision    recall  f1-score   support\n",
      "\n",
      "           0   0.000000  0.000000  0.000000         0\n",
      "           1   1.000000  0.088147  0.162014     28112\n",
      "\n",
      "    accuracy                       0.088147     28112\n",
      "   macro avg   0.500000  0.044074  0.081007     28112\n",
      "weighted avg   1.000000  0.088147  0.162014     28112\n",
      "\n"
     ]
    },
    {
     "name": "stderr",
     "output_type": "stream",
     "text": [
      "C:\\Users\\Patrick Xu\\AppData\\Local\\Programs\\Python\\Python310\\lib\\site-packages\\sklearn\\metrics\\_classification.py:1327: UndefinedMetricWarning: Recall and F-score are ill-defined and being set to 0.0 in labels with no true samples. Use `zero_division` parameter to control this behavior.\n",
      "  _warn_prf(average, modifier, msg_start, len(result))\n",
      "C:\\Users\\Patrick Xu\\AppData\\Local\\Programs\\Python\\Python310\\lib\\site-packages\\sklearn\\metrics\\_classification.py:1327: UndefinedMetricWarning: Recall and F-score are ill-defined and being set to 0.0 in labels with no true samples. Use `zero_division` parameter to control this behavior.\n",
      "  _warn_prf(average, modifier, msg_start, len(result))\n",
      "C:\\Users\\Patrick Xu\\AppData\\Local\\Programs\\Python\\Python310\\lib\\site-packages\\sklearn\\metrics\\_classification.py:1327: UndefinedMetricWarning: Recall and F-score are ill-defined and being set to 0.0 in labels with no true samples. Use `zero_division` parameter to control this behavior.\n",
      "  _warn_prf(average, modifier, msg_start, len(result))\n"
     ]
    }
   ],
   "source": [
    "clf_report = sklearn.metrics.classification_report(torch.argmax(pred_raw, dim=1), target, digits=6)\n",
    "\n",
    "print(f\"Classification Report : \\n{clf_report}\")"
   ]
  },
  {
   "cell_type": "code",
   "execution_count": 26,
   "metadata": {
    "ExecuteTime": {
     "end_time": "2023-10-17T12:34:26.668488Z",
     "start_time": "2023-10-17T12:34:26.117338Z"
    }
   },
   "outputs": [],
   "source": [
    "from sklearn.manifold import TSNE\n",
    "from sklearn.decomposition import PCA"
   ]
  },
  {
   "cell_type": "code",
   "execution_count": 27,
   "metadata": {
    "ExecuteTime": {
     "end_time": "2023-10-17T12:34:29.029265Z",
     "start_time": "2023-10-17T12:34:28.492478Z"
    }
   },
   "outputs": [
    {
     "data": {
      "text/plain": [
       "28112"
      ]
     },
     "execution_count": 27,
     "metadata": {},
     "output_type": "execute_result"
    }
   ],
   "source": [
    "len(emb)"
   ]
  },
  {
   "cell_type": "code",
   "execution_count": null,
   "metadata": {
    "ExecuteTime": {
     "end_time": "2023-10-17T12:06:21.974561Z",
     "start_time": "2023-10-17T12:06:09.577504Z"
    },
    "pycharm": {
     "is_executing": true
    }
   },
   "outputs": [
    {
     "name": "stderr",
     "output_type": "stream",
     "text": [
      "C:\\Users\\Patrick Xu\\AppData\\Local\\Programs\\Python\\Python310\\lib\\site-packages\\sklearn\\manifold\\_t_sne.py:805: FutureWarning: The default learning rate in TSNE will change from 200.0 to 'auto' in 1.2.\n",
      "  warnings.warn(\n"
     ]
    },
    {
     "name": "stdout",
     "output_type": "stream",
     "text": [
      "[t-SNE] Computing 226 nearest neighbors...\n",
      "[t-SNE] Indexed 28112 samples in 0.028s...\n",
      "[t-SNE] Computed neighbors for 28112 samples in 24.497s...\n",
      "[t-SNE] Computed conditional probabilities for sample 1000 / 28112\n",
      "[t-SNE] Computed conditional probabilities for sample 2000 / 28112\n",
      "[t-SNE] Computed conditional probabilities for sample 3000 / 28112\n",
      "[t-SNE] Computed conditional probabilities for sample 4000 / 28112\n",
      "[t-SNE] Computed conditional probabilities for sample 5000 / 28112\n",
      "[t-SNE] Computed conditional probabilities for sample 6000 / 28112\n",
      "[t-SNE] Computed conditional probabilities for sample 7000 / 28112\n",
      "[t-SNE] Computed conditional probabilities for sample 8000 / 28112\n",
      "[t-SNE] Computed conditional probabilities for sample 9000 / 28112\n",
      "[t-SNE] Computed conditional probabilities for sample 10000 / 28112\n",
      "[t-SNE] Computed conditional probabilities for sample 11000 / 28112\n",
      "[t-SNE] Computed conditional probabilities for sample 12000 / 28112\n",
      "[t-SNE] Computed conditional probabilities for sample 13000 / 28112\n",
      "[t-SNE] Computed conditional probabilities for sample 14000 / 28112\n",
      "[t-SNE] Computed conditional probabilities for sample 15000 / 28112\n",
      "[t-SNE] Computed conditional probabilities for sample 16000 / 28112\n",
      "[t-SNE] Computed conditional probabilities for sample 17000 / 28112\n",
      "[t-SNE] Computed conditional probabilities for sample 18000 / 28112\n",
      "[t-SNE] Computed conditional probabilities for sample 19000 / 28112\n",
      "[t-SNE] Computed conditional probabilities for sample 20000 / 28112\n",
      "[t-SNE] Computed conditional probabilities for sample 21000 / 28112\n",
      "[t-SNE] Computed conditional probabilities for sample 22000 / 28112\n",
      "[t-SNE] Computed conditional probabilities for sample 23000 / 28112\n",
      "[t-SNE] Computed conditional probabilities for sample 24000 / 28112\n",
      "[t-SNE] Computed conditional probabilities for sample 25000 / 28112\n",
      "[t-SNE] Computed conditional probabilities for sample 26000 / 28112\n",
      "[t-SNE] Computed conditional probabilities for sample 27000 / 28112\n",
      "[t-SNE] Computed conditional probabilities for sample 28000 / 28112\n",
      "[t-SNE] Computed conditional probabilities for sample 28112 / 28112\n",
      "[t-SNE] Mean sigma: 1.565429\n"
     ]
    },
    {
     "name": "stderr",
     "output_type": "stream",
     "text": [
      "C:\\Users\\Patrick Xu\\AppData\\Local\\Programs\\Python\\Python310\\lib\\site-packages\\sklearn\\manifold\\_t_sne.py:991: FutureWarning: The PCA initialization in TSNE will change to have the standard deviation of PC1 equal to 1e-4 in 1.2. This will ensure better convergence.\n",
      "  warnings.warn(\n"
     ]
    },
    {
     "name": "stdout",
     "output_type": "stream",
     "text": [
      "[t-SNE] KL divergence after 250 iterations with early exaggeration: 64.004906\n"
     ]
    }
   ],
   "source": [
    "pca_comp_n = 30\n",
    "batch_size = 32\n",
    "\n",
    "pca = PCA(n_components=pca_comp_n, copy=True).fit(emb)\n",
    "p = pca.transform(emb)\n",
    "\n",
    "# ind = np.random.choice(len(emb), 10000)\n",
    "#\n",
    "tsne = TSNE(n_components=2, verbose=1, perplexity=75, random_state=142, init='pca')\n",
    "z = tsne.fit_transform(emb)\n",
    "interictal_inds = np.where(target == 0)[0]\n",
    "ictal_inds = np.where(target == 1)[0]"
   ]
  },
  {
   "cell_type": "code",
   "execution_count": 32,
   "metadata": {
    "ExecuteTime": {
     "end_time": "2023-10-17T12:06:25.857695Z",
     "start_time": "2023-10-17T12:06:25.152536Z"
    },
    "pycharm": {
     "is_executing": true
    }
   },
   "outputs": [
    {
     "data": {
      "application/javascript": [
       "/* Put everything inside the global mpl namespace */\n",
       "/* global mpl */\n",
       "window.mpl = {};\n",
       "\n",
       "mpl.get_websocket_type = function () {\n",
       "    if (typeof WebSocket !== 'undefined') {\n",
       "        return WebSocket;\n",
       "    } else if (typeof MozWebSocket !== 'undefined') {\n",
       "        return MozWebSocket;\n",
       "    } else {\n",
       "        alert(\n",
       "            'Your browser does not have WebSocket support. ' +\n",
       "                'Please try Chrome, Safari or Firefox ≥ 6. ' +\n",
       "                'Firefox 4 and 5 are also supported but you ' +\n",
       "                'have to enable WebSockets in about:config.'\n",
       "        );\n",
       "    }\n",
       "};\n",
       "\n",
       "mpl.figure = function (figure_id, websocket, ondownload, parent_element) {\n",
       "    this.id = figure_id;\n",
       "\n",
       "    this.ws = websocket;\n",
       "\n",
       "    this.supports_binary = this.ws.binaryType !== undefined;\n",
       "\n",
       "    if (!this.supports_binary) {\n",
       "        var warnings = document.getElementById('mpl-warnings');\n",
       "        if (warnings) {\n",
       "            warnings.style.display = 'block';\n",
       "            warnings.textContent =\n",
       "                'This browser does not support binary websocket messages. ' +\n",
       "                'Performance may be slow.';\n",
       "        }\n",
       "    }\n",
       "\n",
       "    this.imageObj = new Image();\n",
       "\n",
       "    this.context = undefined;\n",
       "    this.message = undefined;\n",
       "    this.canvas = undefined;\n",
       "    this.rubberband_canvas = undefined;\n",
       "    this.rubberband_context = undefined;\n",
       "    this.format_dropdown = undefined;\n",
       "\n",
       "    this.image_mode = 'full';\n",
       "\n",
       "    this.root = document.createElement('div');\n",
       "    this.root.setAttribute('style', 'display: inline-block');\n",
       "    this._root_extra_style(this.root);\n",
       "\n",
       "    parent_element.appendChild(this.root);\n",
       "\n",
       "    this._init_header(this);\n",
       "    this._init_canvas(this);\n",
       "    this._init_toolbar(this);\n",
       "\n",
       "    var fig = this;\n",
       "\n",
       "    this.waiting = false;\n",
       "\n",
       "    this.ws.onopen = function () {\n",
       "        fig.send_message('supports_binary', { value: fig.supports_binary });\n",
       "        fig.send_message('send_image_mode', {});\n",
       "        if (fig.ratio !== 1) {\n",
       "            fig.send_message('set_device_pixel_ratio', {\n",
       "                device_pixel_ratio: fig.ratio,\n",
       "            });\n",
       "        }\n",
       "        fig.send_message('refresh', {});\n",
       "    };\n",
       "\n",
       "    this.imageObj.onload = function () {\n",
       "        if (fig.image_mode === 'full') {\n",
       "            // Full images could contain transparency (where diff images\n",
       "            // almost always do), so we need to clear the canvas so that\n",
       "            // there is no ghosting.\n",
       "            fig.context.clearRect(0, 0, fig.canvas.width, fig.canvas.height);\n",
       "        }\n",
       "        fig.context.drawImage(fig.imageObj, 0, 0);\n",
       "    };\n",
       "\n",
       "    this.imageObj.onunload = function () {\n",
       "        fig.ws.close();\n",
       "    };\n",
       "\n",
       "    this.ws.onmessage = this._make_on_message_function(this);\n",
       "\n",
       "    this.ondownload = ondownload;\n",
       "};\n",
       "\n",
       "mpl.figure.prototype._init_header = function () {\n",
       "    var titlebar = document.createElement('div');\n",
       "    titlebar.classList =\n",
       "        'ui-dialog-titlebar ui-widget-header ui-corner-all ui-helper-clearfix';\n",
       "    var titletext = document.createElement('div');\n",
       "    titletext.classList = 'ui-dialog-title';\n",
       "    titletext.setAttribute(\n",
       "        'style',\n",
       "        'width: 100%; text-align: center; padding: 3px;'\n",
       "    );\n",
       "    titlebar.appendChild(titletext);\n",
       "    this.root.appendChild(titlebar);\n",
       "    this.header = titletext;\n",
       "};\n",
       "\n",
       "mpl.figure.prototype._canvas_extra_style = function (_canvas_div) {};\n",
       "\n",
       "mpl.figure.prototype._root_extra_style = function (_canvas_div) {};\n",
       "\n",
       "mpl.figure.prototype._init_canvas = function () {\n",
       "    var fig = this;\n",
       "\n",
       "    var canvas_div = (this.canvas_div = document.createElement('div'));\n",
       "    canvas_div.setAttribute(\n",
       "        'style',\n",
       "        'border: 1px solid #ddd;' +\n",
       "            'box-sizing: content-box;' +\n",
       "            'clear: both;' +\n",
       "            'min-height: 1px;' +\n",
       "            'min-width: 1px;' +\n",
       "            'outline: 0;' +\n",
       "            'overflow: hidden;' +\n",
       "            'position: relative;' +\n",
       "            'resize: both;'\n",
       "    );\n",
       "\n",
       "    function on_keyboard_event_closure(name) {\n",
       "        return function (event) {\n",
       "            return fig.key_event(event, name);\n",
       "        };\n",
       "    }\n",
       "\n",
       "    canvas_div.addEventListener(\n",
       "        'keydown',\n",
       "        on_keyboard_event_closure('key_press')\n",
       "    );\n",
       "    canvas_div.addEventListener(\n",
       "        'keyup',\n",
       "        on_keyboard_event_closure('key_release')\n",
       "    );\n",
       "\n",
       "    this._canvas_extra_style(canvas_div);\n",
       "    this.root.appendChild(canvas_div);\n",
       "\n",
       "    var canvas = (this.canvas = document.createElement('canvas'));\n",
       "    canvas.classList.add('mpl-canvas');\n",
       "    canvas.setAttribute('style', 'box-sizing: content-box;');\n",
       "\n",
       "    this.context = canvas.getContext('2d');\n",
       "\n",
       "    var backingStore =\n",
       "        this.context.backingStorePixelRatio ||\n",
       "        this.context.webkitBackingStorePixelRatio ||\n",
       "        this.context.mozBackingStorePixelRatio ||\n",
       "        this.context.msBackingStorePixelRatio ||\n",
       "        this.context.oBackingStorePixelRatio ||\n",
       "        this.context.backingStorePixelRatio ||\n",
       "        1;\n",
       "\n",
       "    this.ratio = (window.devicePixelRatio || 1) / backingStore;\n",
       "\n",
       "    var rubberband_canvas = (this.rubberband_canvas = document.createElement(\n",
       "        'canvas'\n",
       "    ));\n",
       "    rubberband_canvas.setAttribute(\n",
       "        'style',\n",
       "        'box-sizing: content-box; position: absolute; left: 0; top: 0; z-index: 1;'\n",
       "    );\n",
       "\n",
       "    // Apply a ponyfill if ResizeObserver is not implemented by browser.\n",
       "    if (this.ResizeObserver === undefined) {\n",
       "        if (window.ResizeObserver !== undefined) {\n",
       "            this.ResizeObserver = window.ResizeObserver;\n",
       "        } else {\n",
       "            var obs = _JSXTOOLS_RESIZE_OBSERVER({});\n",
       "            this.ResizeObserver = obs.ResizeObserver;\n",
       "        }\n",
       "    }\n",
       "\n",
       "    this.resizeObserverInstance = new this.ResizeObserver(function (entries) {\n",
       "        var nentries = entries.length;\n",
       "        for (var i = 0; i < nentries; i++) {\n",
       "            var entry = entries[i];\n",
       "            var width, height;\n",
       "            if (entry.contentBoxSize) {\n",
       "                if (entry.contentBoxSize instanceof Array) {\n",
       "                    // Chrome 84 implements new version of spec.\n",
       "                    width = entry.contentBoxSize[0].inlineSize;\n",
       "                    height = entry.contentBoxSize[0].blockSize;\n",
       "                } else {\n",
       "                    // Firefox implements old version of spec.\n",
       "                    width = entry.contentBoxSize.inlineSize;\n",
       "                    height = entry.contentBoxSize.blockSize;\n",
       "                }\n",
       "            } else {\n",
       "                // Chrome <84 implements even older version of spec.\n",
       "                width = entry.contentRect.width;\n",
       "                height = entry.contentRect.height;\n",
       "            }\n",
       "\n",
       "            // Keep the size of the canvas and rubber band canvas in sync with\n",
       "            // the canvas container.\n",
       "            if (entry.devicePixelContentBoxSize) {\n",
       "                // Chrome 84 implements new version of spec.\n",
       "                canvas.setAttribute(\n",
       "                    'width',\n",
       "                    entry.devicePixelContentBoxSize[0].inlineSize\n",
       "                );\n",
       "                canvas.setAttribute(\n",
       "                    'height',\n",
       "                    entry.devicePixelContentBoxSize[0].blockSize\n",
       "                );\n",
       "            } else {\n",
       "                canvas.setAttribute('width', width * fig.ratio);\n",
       "                canvas.setAttribute('height', height * fig.ratio);\n",
       "            }\n",
       "            canvas.setAttribute(\n",
       "                'style',\n",
       "                'width: ' + width + 'px; height: ' + height + 'px;'\n",
       "            );\n",
       "\n",
       "            rubberband_canvas.setAttribute('width', width);\n",
       "            rubberband_canvas.setAttribute('height', height);\n",
       "\n",
       "            // And update the size in Python. We ignore the initial 0/0 size\n",
       "            // that occurs as the element is placed into the DOM, which should\n",
       "            // otherwise not happen due to the minimum size styling.\n",
       "            if (fig.ws.readyState == 1 && width != 0 && height != 0) {\n",
       "                fig.request_resize(width, height);\n",
       "            }\n",
       "        }\n",
       "    });\n",
       "    this.resizeObserverInstance.observe(canvas_div);\n",
       "\n",
       "    function on_mouse_event_closure(name) {\n",
       "        return function (event) {\n",
       "            return fig.mouse_event(event, name);\n",
       "        };\n",
       "    }\n",
       "\n",
       "    rubberband_canvas.addEventListener(\n",
       "        'mousedown',\n",
       "        on_mouse_event_closure('button_press')\n",
       "    );\n",
       "    rubberband_canvas.addEventListener(\n",
       "        'mouseup',\n",
       "        on_mouse_event_closure('button_release')\n",
       "    );\n",
       "    rubberband_canvas.addEventListener(\n",
       "        'dblclick',\n",
       "        on_mouse_event_closure('dblclick')\n",
       "    );\n",
       "    // Throttle sequential mouse events to 1 every 20ms.\n",
       "    rubberband_canvas.addEventListener(\n",
       "        'mousemove',\n",
       "        on_mouse_event_closure('motion_notify')\n",
       "    );\n",
       "\n",
       "    rubberband_canvas.addEventListener(\n",
       "        'mouseenter',\n",
       "        on_mouse_event_closure('figure_enter')\n",
       "    );\n",
       "    rubberband_canvas.addEventListener(\n",
       "        'mouseleave',\n",
       "        on_mouse_event_closure('figure_leave')\n",
       "    );\n",
       "\n",
       "    canvas_div.addEventListener('wheel', function (event) {\n",
       "        if (event.deltaY < 0) {\n",
       "            event.step = 1;\n",
       "        } else {\n",
       "            event.step = -1;\n",
       "        }\n",
       "        on_mouse_event_closure('scroll')(event);\n",
       "    });\n",
       "\n",
       "    canvas_div.appendChild(canvas);\n",
       "    canvas_div.appendChild(rubberband_canvas);\n",
       "\n",
       "    this.rubberband_context = rubberband_canvas.getContext('2d');\n",
       "    this.rubberband_context.strokeStyle = '#000000';\n",
       "\n",
       "    this._resize_canvas = function (width, height, forward) {\n",
       "        if (forward) {\n",
       "            canvas_div.style.width = width + 'px';\n",
       "            canvas_div.style.height = height + 'px';\n",
       "        }\n",
       "    };\n",
       "\n",
       "    // Disable right mouse context menu.\n",
       "    this.rubberband_canvas.addEventListener('contextmenu', function (_e) {\n",
       "        event.preventDefault();\n",
       "        return false;\n",
       "    });\n",
       "\n",
       "    function set_focus() {\n",
       "        canvas.focus();\n",
       "        canvas_div.focus();\n",
       "    }\n",
       "\n",
       "    window.setTimeout(set_focus, 100);\n",
       "};\n",
       "\n",
       "mpl.figure.prototype._init_toolbar = function () {\n",
       "    var fig = this;\n",
       "\n",
       "    var toolbar = document.createElement('div');\n",
       "    toolbar.classList = 'mpl-toolbar';\n",
       "    this.root.appendChild(toolbar);\n",
       "\n",
       "    function on_click_closure(name) {\n",
       "        return function (_event) {\n",
       "            return fig.toolbar_button_onclick(name);\n",
       "        };\n",
       "    }\n",
       "\n",
       "    function on_mouseover_closure(tooltip) {\n",
       "        return function (event) {\n",
       "            if (!event.currentTarget.disabled) {\n",
       "                return fig.toolbar_button_onmouseover(tooltip);\n",
       "            }\n",
       "        };\n",
       "    }\n",
       "\n",
       "    fig.buttons = {};\n",
       "    var buttonGroup = document.createElement('div');\n",
       "    buttonGroup.classList = 'mpl-button-group';\n",
       "    for (var toolbar_ind in mpl.toolbar_items) {\n",
       "        var name = mpl.toolbar_items[toolbar_ind][0];\n",
       "        var tooltip = mpl.toolbar_items[toolbar_ind][1];\n",
       "        var image = mpl.toolbar_items[toolbar_ind][2];\n",
       "        var method_name = mpl.toolbar_items[toolbar_ind][3];\n",
       "\n",
       "        if (!name) {\n",
       "            /* Instead of a spacer, we start a new button group. */\n",
       "            if (buttonGroup.hasChildNodes()) {\n",
       "                toolbar.appendChild(buttonGroup);\n",
       "            }\n",
       "            buttonGroup = document.createElement('div');\n",
       "            buttonGroup.classList = 'mpl-button-group';\n",
       "            continue;\n",
       "        }\n",
       "\n",
       "        var button = (fig.buttons[name] = document.createElement('button'));\n",
       "        button.classList = 'mpl-widget';\n",
       "        button.setAttribute('role', 'button');\n",
       "        button.setAttribute('aria-disabled', 'false');\n",
       "        button.addEventListener('click', on_click_closure(method_name));\n",
       "        button.addEventListener('mouseover', on_mouseover_closure(tooltip));\n",
       "\n",
       "        var icon_img = document.createElement('img');\n",
       "        icon_img.src = '_images/' + image + '.png';\n",
       "        icon_img.srcset = '_images/' + image + '_large.png 2x';\n",
       "        icon_img.alt = tooltip;\n",
       "        button.appendChild(icon_img);\n",
       "\n",
       "        buttonGroup.appendChild(button);\n",
       "    }\n",
       "\n",
       "    if (buttonGroup.hasChildNodes()) {\n",
       "        toolbar.appendChild(buttonGroup);\n",
       "    }\n",
       "\n",
       "    var fmt_picker = document.createElement('select');\n",
       "    fmt_picker.classList = 'mpl-widget';\n",
       "    toolbar.appendChild(fmt_picker);\n",
       "    this.format_dropdown = fmt_picker;\n",
       "\n",
       "    for (var ind in mpl.extensions) {\n",
       "        var fmt = mpl.extensions[ind];\n",
       "        var option = document.createElement('option');\n",
       "        option.selected = fmt === mpl.default_extension;\n",
       "        option.innerHTML = fmt;\n",
       "        fmt_picker.appendChild(option);\n",
       "    }\n",
       "\n",
       "    var status_bar = document.createElement('span');\n",
       "    status_bar.classList = 'mpl-message';\n",
       "    toolbar.appendChild(status_bar);\n",
       "    this.message = status_bar;\n",
       "};\n",
       "\n",
       "mpl.figure.prototype.request_resize = function (x_pixels, y_pixels) {\n",
       "    // Request matplotlib to resize the figure. Matplotlib will then trigger a resize in the client,\n",
       "    // which will in turn request a refresh of the image.\n",
       "    this.send_message('resize', { width: x_pixels, height: y_pixels });\n",
       "};\n",
       "\n",
       "mpl.figure.prototype.send_message = function (type, properties) {\n",
       "    properties['type'] = type;\n",
       "    properties['figure_id'] = this.id;\n",
       "    this.ws.send(JSON.stringify(properties));\n",
       "};\n",
       "\n",
       "mpl.figure.prototype.send_draw_message = function () {\n",
       "    if (!this.waiting) {\n",
       "        this.waiting = true;\n",
       "        this.ws.send(JSON.stringify({ type: 'draw', figure_id: this.id }));\n",
       "    }\n",
       "};\n",
       "\n",
       "mpl.figure.prototype.handle_save = function (fig, _msg) {\n",
       "    var format_dropdown = fig.format_dropdown;\n",
       "    var format = format_dropdown.options[format_dropdown.selectedIndex].value;\n",
       "    fig.ondownload(fig, format);\n",
       "};\n",
       "\n",
       "mpl.figure.prototype.handle_resize = function (fig, msg) {\n",
       "    var size = msg['size'];\n",
       "    if (size[0] !== fig.canvas.width || size[1] !== fig.canvas.height) {\n",
       "        fig._resize_canvas(size[0], size[1], msg['forward']);\n",
       "        fig.send_message('refresh', {});\n",
       "    }\n",
       "};\n",
       "\n",
       "mpl.figure.prototype.handle_rubberband = function (fig, msg) {\n",
       "    var x0 = msg['x0'] / fig.ratio;\n",
       "    var y0 = (fig.canvas.height - msg['y0']) / fig.ratio;\n",
       "    var x1 = msg['x1'] / fig.ratio;\n",
       "    var y1 = (fig.canvas.height - msg['y1']) / fig.ratio;\n",
       "    x0 = Math.floor(x0) + 0.5;\n",
       "    y0 = Math.floor(y0) + 0.5;\n",
       "    x1 = Math.floor(x1) + 0.5;\n",
       "    y1 = Math.floor(y1) + 0.5;\n",
       "    var min_x = Math.min(x0, x1);\n",
       "    var min_y = Math.min(y0, y1);\n",
       "    var width = Math.abs(x1 - x0);\n",
       "    var height = Math.abs(y1 - y0);\n",
       "\n",
       "    fig.rubberband_context.clearRect(\n",
       "        0,\n",
       "        0,\n",
       "        fig.canvas.width / fig.ratio,\n",
       "        fig.canvas.height / fig.ratio\n",
       "    );\n",
       "\n",
       "    fig.rubberband_context.strokeRect(min_x, min_y, width, height);\n",
       "};\n",
       "\n",
       "mpl.figure.prototype.handle_figure_label = function (fig, msg) {\n",
       "    // Updates the figure title.\n",
       "    fig.header.textContent = msg['label'];\n",
       "};\n",
       "\n",
       "mpl.figure.prototype.handle_cursor = function (fig, msg) {\n",
       "    fig.rubberband_canvas.style.cursor = msg['cursor'];\n",
       "};\n",
       "\n",
       "mpl.figure.prototype.handle_message = function (fig, msg) {\n",
       "    fig.message.textContent = msg['message'];\n",
       "};\n",
       "\n",
       "mpl.figure.prototype.handle_draw = function (fig, _msg) {\n",
       "    // Request the server to send over a new figure.\n",
       "    fig.send_draw_message();\n",
       "};\n",
       "\n",
       "mpl.figure.prototype.handle_image_mode = function (fig, msg) {\n",
       "    fig.image_mode = msg['mode'];\n",
       "};\n",
       "\n",
       "mpl.figure.prototype.handle_history_buttons = function (fig, msg) {\n",
       "    for (var key in msg) {\n",
       "        if (!(key in fig.buttons)) {\n",
       "            continue;\n",
       "        }\n",
       "        fig.buttons[key].disabled = !msg[key];\n",
       "        fig.buttons[key].setAttribute('aria-disabled', !msg[key]);\n",
       "    }\n",
       "};\n",
       "\n",
       "mpl.figure.prototype.handle_navigate_mode = function (fig, msg) {\n",
       "    if (msg['mode'] === 'PAN') {\n",
       "        fig.buttons['Pan'].classList.add('active');\n",
       "        fig.buttons['Zoom'].classList.remove('active');\n",
       "    } else if (msg['mode'] === 'ZOOM') {\n",
       "        fig.buttons['Pan'].classList.remove('active');\n",
       "        fig.buttons['Zoom'].classList.add('active');\n",
       "    } else {\n",
       "        fig.buttons['Pan'].classList.remove('active');\n",
       "        fig.buttons['Zoom'].classList.remove('active');\n",
       "    }\n",
       "};\n",
       "\n",
       "mpl.figure.prototype.updated_canvas_event = function () {\n",
       "    // Called whenever the canvas gets updated.\n",
       "    this.send_message('ack', {});\n",
       "};\n",
       "\n",
       "// A function to construct a web socket function for onmessage handling.\n",
       "// Called in the figure constructor.\n",
       "mpl.figure.prototype._make_on_message_function = function (fig) {\n",
       "    return function socket_on_message(evt) {\n",
       "        if (evt.data instanceof Blob) {\n",
       "            var img = evt.data;\n",
       "            if (img.type !== 'image/png') {\n",
       "                /* FIXME: We get \"Resource interpreted as Image but\n",
       "                 * transferred with MIME type text/plain:\" errors on\n",
       "                 * Chrome.  But how to set the MIME type?  It doesn't seem\n",
       "                 * to be part of the websocket stream */\n",
       "                img.type = 'image/png';\n",
       "            }\n",
       "\n",
       "            /* Free the memory for the previous frames */\n",
       "            if (fig.imageObj.src) {\n",
       "                (window.URL || window.webkitURL).revokeObjectURL(\n",
       "                    fig.imageObj.src\n",
       "                );\n",
       "            }\n",
       "\n",
       "            fig.imageObj.src = (window.URL || window.webkitURL).createObjectURL(\n",
       "                img\n",
       "            );\n",
       "            fig.updated_canvas_event();\n",
       "            fig.waiting = false;\n",
       "            return;\n",
       "        } else if (\n",
       "            typeof evt.data === 'string' &&\n",
       "            evt.data.slice(0, 21) === 'data:image/png;base64'\n",
       "        ) {\n",
       "            fig.imageObj.src = evt.data;\n",
       "            fig.updated_canvas_event();\n",
       "            fig.waiting = false;\n",
       "            return;\n",
       "        }\n",
       "\n",
       "        var msg = JSON.parse(evt.data);\n",
       "        var msg_type = msg['type'];\n",
       "\n",
       "        // Call the  \"handle_{type}\" callback, which takes\n",
       "        // the figure and JSON message as its only arguments.\n",
       "        try {\n",
       "            var callback = fig['handle_' + msg_type];\n",
       "        } catch (e) {\n",
       "            console.log(\n",
       "                \"No handler for the '\" + msg_type + \"' message type: \",\n",
       "                msg\n",
       "            );\n",
       "            return;\n",
       "        }\n",
       "\n",
       "        if (callback) {\n",
       "            try {\n",
       "                // console.log(\"Handling '\" + msg_type + \"' message: \", msg);\n",
       "                callback(fig, msg);\n",
       "            } catch (e) {\n",
       "                console.log(\n",
       "                    \"Exception inside the 'handler_\" + msg_type + \"' callback:\",\n",
       "                    e,\n",
       "                    e.stack,\n",
       "                    msg\n",
       "                );\n",
       "            }\n",
       "        }\n",
       "    };\n",
       "};\n",
       "\n",
       "// from https://stackoverflow.com/questions/1114465/getting-mouse-location-in-canvas\n",
       "mpl.findpos = function (e) {\n",
       "    //this section is from http://www.quirksmode.org/js/events_properties.html\n",
       "    var targ;\n",
       "    if (!e) {\n",
       "        e = window.event;\n",
       "    }\n",
       "    if (e.target) {\n",
       "        targ = e.target;\n",
       "    } else if (e.srcElement) {\n",
       "        targ = e.srcElement;\n",
       "    }\n",
       "    if (targ.nodeType === 3) {\n",
       "        // defeat Safari bug\n",
       "        targ = targ.parentNode;\n",
       "    }\n",
       "\n",
       "    // pageX,Y are the mouse positions relative to the document\n",
       "    var boundingRect = targ.getBoundingClientRect();\n",
       "    var x = e.pageX - (boundingRect.left + document.body.scrollLeft);\n",
       "    var y = e.pageY - (boundingRect.top + document.body.scrollTop);\n",
       "\n",
       "    return { x: x, y: y };\n",
       "};\n",
       "\n",
       "/*\n",
       " * return a copy of an object with only non-object keys\n",
       " * we need this to avoid circular references\n",
       " * https://stackoverflow.com/a/24161582/3208463\n",
       " */\n",
       "function simpleKeys(original) {\n",
       "    return Object.keys(original).reduce(function (obj, key) {\n",
       "        if (typeof original[key] !== 'object') {\n",
       "            obj[key] = original[key];\n",
       "        }\n",
       "        return obj;\n",
       "    }, {});\n",
       "}\n",
       "\n",
       "mpl.figure.prototype.mouse_event = function (event, name) {\n",
       "    var canvas_pos = mpl.findpos(event);\n",
       "\n",
       "    if (name === 'button_press') {\n",
       "        this.canvas.focus();\n",
       "        this.canvas_div.focus();\n",
       "    }\n",
       "\n",
       "    var x = canvas_pos.x * this.ratio;\n",
       "    var y = canvas_pos.y * this.ratio;\n",
       "\n",
       "    this.send_message(name, {\n",
       "        x: x,\n",
       "        y: y,\n",
       "        button: event.button,\n",
       "        step: event.step,\n",
       "        guiEvent: simpleKeys(event),\n",
       "    });\n",
       "\n",
       "    /* This prevents the web browser from automatically changing to\n",
       "     * the text insertion cursor when the button is pressed.  We want\n",
       "     * to control all of the cursor setting manually through the\n",
       "     * 'cursor' event from matplotlib */\n",
       "    event.preventDefault();\n",
       "    return false;\n",
       "};\n",
       "\n",
       "mpl.figure.prototype._key_event_extra = function (_event, _name) {\n",
       "    // Handle any extra behaviour associated with a key event\n",
       "};\n",
       "\n",
       "mpl.figure.prototype.key_event = function (event, name) {\n",
       "    // Prevent repeat events\n",
       "    if (name === 'key_press') {\n",
       "        if (event.key === this._key) {\n",
       "            return;\n",
       "        } else {\n",
       "            this._key = event.key;\n",
       "        }\n",
       "    }\n",
       "    if (name === 'key_release') {\n",
       "        this._key = null;\n",
       "    }\n",
       "\n",
       "    var value = '';\n",
       "    if (event.ctrlKey && event.key !== 'Control') {\n",
       "        value += 'ctrl+';\n",
       "    }\n",
       "    else if (event.altKey && event.key !== 'Alt') {\n",
       "        value += 'alt+';\n",
       "    }\n",
       "    else if (event.shiftKey && event.key !== 'Shift') {\n",
       "        value += 'shift+';\n",
       "    }\n",
       "\n",
       "    value += 'k' + event.key;\n",
       "\n",
       "    this._key_event_extra(event, name);\n",
       "\n",
       "    this.send_message(name, { key: value, guiEvent: simpleKeys(event) });\n",
       "    return false;\n",
       "};\n",
       "\n",
       "mpl.figure.prototype.toolbar_button_onclick = function (name) {\n",
       "    if (name === 'download') {\n",
       "        this.handle_save(this, null);\n",
       "    } else {\n",
       "        this.send_message('toolbar_button', { name: name });\n",
       "    }\n",
       "};\n",
       "\n",
       "mpl.figure.prototype.toolbar_button_onmouseover = function (tooltip) {\n",
       "    this.message.textContent = tooltip;\n",
       "};\n",
       "\n",
       "///////////////// REMAINING CONTENT GENERATED BY embed_js.py /////////////////\n",
       "// prettier-ignore\n",
       "var _JSXTOOLS_RESIZE_OBSERVER=function(A){var t,i=new WeakMap,n=new WeakMap,a=new WeakMap,r=new WeakMap,o=new Set;function s(e){if(!(this instanceof s))throw new TypeError(\"Constructor requires 'new' operator\");i.set(this,e)}function h(){throw new TypeError(\"Function is not a constructor\")}function c(e,t,i,n){e=0 in arguments?Number(arguments[0]):0,t=1 in arguments?Number(arguments[1]):0,i=2 in arguments?Number(arguments[2]):0,n=3 in arguments?Number(arguments[3]):0,this.right=(this.x=this.left=e)+(this.width=i),this.bottom=(this.y=this.top=t)+(this.height=n),Object.freeze(this)}function d(){t=requestAnimationFrame(d);var s=new WeakMap,p=new Set;o.forEach((function(t){r.get(t).forEach((function(i){var r=t instanceof window.SVGElement,o=a.get(t),d=r?0:parseFloat(o.paddingTop),f=r?0:parseFloat(o.paddingRight),l=r?0:parseFloat(o.paddingBottom),u=r?0:parseFloat(o.paddingLeft),g=r?0:parseFloat(o.borderTopWidth),m=r?0:parseFloat(o.borderRightWidth),w=r?0:parseFloat(o.borderBottomWidth),b=u+f,F=d+l,v=(r?0:parseFloat(o.borderLeftWidth))+m,W=g+w,y=r?0:t.offsetHeight-W-t.clientHeight,E=r?0:t.offsetWidth-v-t.clientWidth,R=b+v,z=F+W,M=r?t.width:parseFloat(o.width)-R-E,O=r?t.height:parseFloat(o.height)-z-y;if(n.has(t)){var k=n.get(t);if(k[0]===M&&k[1]===O)return}n.set(t,[M,O]);var S=Object.create(h.prototype);S.target=t,S.contentRect=new c(u,d,M,O),s.has(i)||(s.set(i,[]),p.add(i)),s.get(i).push(S)}))})),p.forEach((function(e){i.get(e).call(e,s.get(e),e)}))}return s.prototype.observe=function(i){if(i instanceof window.Element){r.has(i)||(r.set(i,new Set),o.add(i),a.set(i,window.getComputedStyle(i)));var n=r.get(i);n.has(this)||n.add(this),cancelAnimationFrame(t),t=requestAnimationFrame(d)}},s.prototype.unobserve=function(i){if(i instanceof window.Element&&r.has(i)){var n=r.get(i);n.has(this)&&(n.delete(this),n.size||(r.delete(i),o.delete(i))),n.size||r.delete(i),o.size||cancelAnimationFrame(t)}},A.DOMRectReadOnly=c,A.ResizeObserver=s,A.ResizeObserverEntry=h,A}; // eslint-disable-line\n",
       "mpl.toolbar_items = [[\"Home\", \"Reset original view\", \"fa fa-home icon-home\", \"home\"], [\"Back\", \"Back to previous view\", \"fa fa-arrow-left icon-arrow-left\", \"back\"], [\"Forward\", \"Forward to next view\", \"fa fa-arrow-right icon-arrow-right\", \"forward\"], [\"\", \"\", \"\", \"\"], [\"Pan\", \"Left button pans, Right button zooms\\nx/y fixes axis, CTRL fixes aspect\", \"fa fa-arrows icon-move\", \"pan\"], [\"Zoom\", \"Zoom to rectangle\\nx/y fixes axis\", \"fa fa-square-o icon-check-empty\", \"zoom\"], [\"\", \"\", \"\", \"\"], [\"Download\", \"Download plot\", \"fa fa-floppy-o icon-save\", \"download\"]];\n",
       "\n",
       "mpl.extensions = [\"eps\", \"jpeg\", \"pgf\", \"pdf\", \"png\", \"ps\", \"raw\", \"svg\", \"tif\"];\n",
       "\n",
       "mpl.default_extension = \"png\";/* global mpl */\n",
       "\n",
       "var comm_websocket_adapter = function (comm) {\n",
       "    // Create a \"websocket\"-like object which calls the given IPython comm\n",
       "    // object with the appropriate methods. Currently this is a non binary\n",
       "    // socket, so there is still some room for performance tuning.\n",
       "    var ws = {};\n",
       "\n",
       "    ws.binaryType = comm.kernel.ws.binaryType;\n",
       "    ws.readyState = comm.kernel.ws.readyState;\n",
       "    function updateReadyState(_event) {\n",
       "        if (comm.kernel.ws) {\n",
       "            ws.readyState = comm.kernel.ws.readyState;\n",
       "        } else {\n",
       "            ws.readyState = 3; // Closed state.\n",
       "        }\n",
       "    }\n",
       "    comm.kernel.ws.addEventListener('open', updateReadyState);\n",
       "    comm.kernel.ws.addEventListener('close', updateReadyState);\n",
       "    comm.kernel.ws.addEventListener('error', updateReadyState);\n",
       "\n",
       "    ws.close = function () {\n",
       "        comm.close();\n",
       "    };\n",
       "    ws.send = function (m) {\n",
       "        //console.log('sending', m);\n",
       "        comm.send(m);\n",
       "    };\n",
       "    // Register the callback with on_msg.\n",
       "    comm.on_msg(function (msg) {\n",
       "        //console.log('receiving', msg['content']['data'], msg);\n",
       "        var data = msg['content']['data'];\n",
       "        if (data['blob'] !== undefined) {\n",
       "            data = {\n",
       "                data: new Blob(msg['buffers'], { type: data['blob'] }),\n",
       "            };\n",
       "        }\n",
       "        // Pass the mpl event to the overridden (by mpl) onmessage function.\n",
       "        ws.onmessage(data);\n",
       "    });\n",
       "    return ws;\n",
       "};\n",
       "\n",
       "mpl.mpl_figure_comm = function (comm, msg) {\n",
       "    // This is the function which gets called when the mpl process\n",
       "    // starts-up an IPython Comm through the \"matplotlib\" channel.\n",
       "\n",
       "    var id = msg.content.data.id;\n",
       "    // Get hold of the div created by the display call when the Comm\n",
       "    // socket was opened in Python.\n",
       "    var element = document.getElementById(id);\n",
       "    var ws_proxy = comm_websocket_adapter(comm);\n",
       "\n",
       "    function ondownload(figure, _format) {\n",
       "        window.open(figure.canvas.toDataURL());\n",
       "    }\n",
       "\n",
       "    var fig = new mpl.figure(id, ws_proxy, ondownload, element);\n",
       "\n",
       "    // Call onopen now - mpl needs it, as it is assuming we've passed it a real\n",
       "    // web socket which is closed, not our websocket->open comm proxy.\n",
       "    ws_proxy.onopen();\n",
       "\n",
       "    fig.parent_element = element;\n",
       "    fig.cell_info = mpl.find_output_cell(\"<div id='\" + id + \"'></div>\");\n",
       "    if (!fig.cell_info) {\n",
       "        console.error('Failed to find cell for figure', id, fig);\n",
       "        return;\n",
       "    }\n",
       "    fig.cell_info[0].output_area.element.on(\n",
       "        'cleared',\n",
       "        { fig: fig },\n",
       "        fig._remove_fig_handler\n",
       "    );\n",
       "};\n",
       "\n",
       "mpl.figure.prototype.handle_close = function (fig, msg) {\n",
       "    var width = fig.canvas.width / fig.ratio;\n",
       "    fig.cell_info[0].output_area.element.off(\n",
       "        'cleared',\n",
       "        fig._remove_fig_handler\n",
       "    );\n",
       "    fig.resizeObserverInstance.unobserve(fig.canvas_div);\n",
       "\n",
       "    // Update the output cell to use the data from the current canvas.\n",
       "    fig.push_to_output();\n",
       "    var dataURL = fig.canvas.toDataURL();\n",
       "    // Re-enable the keyboard manager in IPython - without this line, in FF,\n",
       "    // the notebook keyboard shortcuts fail.\n",
       "    IPython.keyboard_manager.enable();\n",
       "    fig.parent_element.innerHTML =\n",
       "        '<img src=\"' + dataURL + '\" width=\"' + width + '\">';\n",
       "    fig.close_ws(fig, msg);\n",
       "};\n",
       "\n",
       "mpl.figure.prototype.close_ws = function (fig, msg) {\n",
       "    fig.send_message('closing', msg);\n",
       "    // fig.ws.close()\n",
       "};\n",
       "\n",
       "mpl.figure.prototype.push_to_output = function (_remove_interactive) {\n",
       "    // Turn the data on the canvas into data in the output cell.\n",
       "    var width = this.canvas.width / this.ratio;\n",
       "    var dataURL = this.canvas.toDataURL();\n",
       "    this.cell_info[1]['text/html'] =\n",
       "        '<img src=\"' + dataURL + '\" width=\"' + width + '\">';\n",
       "};\n",
       "\n",
       "mpl.figure.prototype.updated_canvas_event = function () {\n",
       "    // Tell IPython that the notebook contents must change.\n",
       "    IPython.notebook.set_dirty(true);\n",
       "    this.send_message('ack', {});\n",
       "    var fig = this;\n",
       "    // Wait a second, then push the new image to the DOM so\n",
       "    // that it is saved nicely (might be nice to debounce this).\n",
       "    setTimeout(function () {\n",
       "        fig.push_to_output();\n",
       "    }, 1000);\n",
       "};\n",
       "\n",
       "mpl.figure.prototype._init_toolbar = function () {\n",
       "    var fig = this;\n",
       "\n",
       "    var toolbar = document.createElement('div');\n",
       "    toolbar.classList = 'btn-toolbar';\n",
       "    this.root.appendChild(toolbar);\n",
       "\n",
       "    function on_click_closure(name) {\n",
       "        return function (_event) {\n",
       "            return fig.toolbar_button_onclick(name);\n",
       "        };\n",
       "    }\n",
       "\n",
       "    function on_mouseover_closure(tooltip) {\n",
       "        return function (event) {\n",
       "            if (!event.currentTarget.disabled) {\n",
       "                return fig.toolbar_button_onmouseover(tooltip);\n",
       "            }\n",
       "        };\n",
       "    }\n",
       "\n",
       "    fig.buttons = {};\n",
       "    var buttonGroup = document.createElement('div');\n",
       "    buttonGroup.classList = 'btn-group';\n",
       "    var button;\n",
       "    for (var toolbar_ind in mpl.toolbar_items) {\n",
       "        var name = mpl.toolbar_items[toolbar_ind][0];\n",
       "        var tooltip = mpl.toolbar_items[toolbar_ind][1];\n",
       "        var image = mpl.toolbar_items[toolbar_ind][2];\n",
       "        var method_name = mpl.toolbar_items[toolbar_ind][3];\n",
       "\n",
       "        if (!name) {\n",
       "            /* Instead of a spacer, we start a new button group. */\n",
       "            if (buttonGroup.hasChildNodes()) {\n",
       "                toolbar.appendChild(buttonGroup);\n",
       "            }\n",
       "            buttonGroup = document.createElement('div');\n",
       "            buttonGroup.classList = 'btn-group';\n",
       "            continue;\n",
       "        }\n",
       "\n",
       "        button = fig.buttons[name] = document.createElement('button');\n",
       "        button.classList = 'btn btn-default';\n",
       "        button.href = '#';\n",
       "        button.title = name;\n",
       "        button.innerHTML = '<i class=\"fa ' + image + ' fa-lg\"></i>';\n",
       "        button.addEventListener('click', on_click_closure(method_name));\n",
       "        button.addEventListener('mouseover', on_mouseover_closure(tooltip));\n",
       "        buttonGroup.appendChild(button);\n",
       "    }\n",
       "\n",
       "    if (buttonGroup.hasChildNodes()) {\n",
       "        toolbar.appendChild(buttonGroup);\n",
       "    }\n",
       "\n",
       "    // Add the status bar.\n",
       "    var status_bar = document.createElement('span');\n",
       "    status_bar.classList = 'mpl-message pull-right';\n",
       "    toolbar.appendChild(status_bar);\n",
       "    this.message = status_bar;\n",
       "\n",
       "    // Add the close button to the window.\n",
       "    var buttongrp = document.createElement('div');\n",
       "    buttongrp.classList = 'btn-group inline pull-right';\n",
       "    button = document.createElement('button');\n",
       "    button.classList = 'btn btn-mini btn-primary';\n",
       "    button.href = '#';\n",
       "    button.title = 'Stop Interaction';\n",
       "    button.innerHTML = '<i class=\"fa fa-power-off icon-remove icon-large\"></i>';\n",
       "    button.addEventListener('click', function (_evt) {\n",
       "        fig.handle_close(fig, {});\n",
       "    });\n",
       "    button.addEventListener(\n",
       "        'mouseover',\n",
       "        on_mouseover_closure('Stop Interaction')\n",
       "    );\n",
       "    buttongrp.appendChild(button);\n",
       "    var titlebar = this.root.querySelector('.ui-dialog-titlebar');\n",
       "    titlebar.insertBefore(buttongrp, titlebar.firstChild);\n",
       "};\n",
       "\n",
       "mpl.figure.prototype._remove_fig_handler = function (event) {\n",
       "    var fig = event.data.fig;\n",
       "    if (event.target !== this) {\n",
       "        // Ignore bubbled events from children.\n",
       "        return;\n",
       "    }\n",
       "    fig.close_ws(fig, {});\n",
       "};\n",
       "\n",
       "mpl.figure.prototype._root_extra_style = function (el) {\n",
       "    el.style.boxSizing = 'content-box'; // override notebook setting of border-box.\n",
       "};\n",
       "\n",
       "mpl.figure.prototype._canvas_extra_style = function (el) {\n",
       "    // this is important to make the div 'focusable\n",
       "    el.setAttribute('tabindex', 0);\n",
       "    // reach out to IPython and tell the keyboard manager to turn it's self\n",
       "    // off when our div gets focus\n",
       "\n",
       "    // location in version 3\n",
       "    if (IPython.notebook.keyboard_manager) {\n",
       "        IPython.notebook.keyboard_manager.register_events(el);\n",
       "    } else {\n",
       "        // location in version 2\n",
       "        IPython.keyboard_manager.register_events(el);\n",
       "    }\n",
       "};\n",
       "\n",
       "mpl.figure.prototype._key_event_extra = function (event, _name) {\n",
       "    // Check for shift+enter\n",
       "    if (event.shiftKey && event.which === 13) {\n",
       "        this.canvas_div.blur();\n",
       "        // select the cell after this one\n",
       "        var index = IPython.notebook.find_cell_index(this.cell_info[0]);\n",
       "        IPython.notebook.select(index + 1);\n",
       "    }\n",
       "};\n",
       "\n",
       "mpl.figure.prototype.handle_save = function (fig, _msg) {\n",
       "    fig.ondownload(fig, null);\n",
       "};\n",
       "\n",
       "mpl.find_output_cell = function (html_output) {\n",
       "    // Return the cell and output element which can be found *uniquely* in the notebook.\n",
       "    // Note - this is a bit hacky, but it is done because the \"notebook_saving.Notebook\"\n",
       "    // IPython event is triggered only after the cells have been serialised, which for\n",
       "    // our purposes (turning an active figure into a static one), is too late.\n",
       "    var cells = IPython.notebook.get_cells();\n",
       "    var ncells = cells.length;\n",
       "    for (var i = 0; i < ncells; i++) {\n",
       "        var cell = cells[i];\n",
       "        if (cell.cell_type === 'code') {\n",
       "            for (var j = 0; j < cell.output_area.outputs.length; j++) {\n",
       "                var data = cell.output_area.outputs[j];\n",
       "                if (data.data) {\n",
       "                    // IPython >= 3 moved mimebundle to data attribute of output\n",
       "                    data = data.data;\n",
       "                }\n",
       "                if (data['text/html'] === html_output) {\n",
       "                    return [cell, data, j];\n",
       "                }\n",
       "            }\n",
       "        }\n",
       "    }\n",
       "};\n",
       "\n",
       "// Register the function which deals with the matplotlib target/channel.\n",
       "// The kernel may be null if the page has been refreshed.\n",
       "if (IPython.notebook.kernel !== null) {\n",
       "    IPython.notebook.kernel.comm_manager.register_target(\n",
       "        'matplotlib',\n",
       "        mpl.mpl_figure_comm\n",
       "    );\n",
       "}\n"
      ],
      "text/plain": [
       "<IPython.core.display.Javascript object>"
      ]
     },
     "metadata": {},
     "output_type": "display_data"
    },
    {
     "data": {
      "text/html": [
       "<img src=\"data:image/png;base64,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\" width=\"1000\">"
      ],
      "text/plain": [
       "<IPython.core.display.HTML object>"
      ]
     },
     "metadata": {},
     "output_type": "display_data"
    }
   ],
   "source": [
    "spc = p\n",
    "\n",
    "plt.figure(figsize=(10, 8))\n",
    "plt.scatter(spc[interictal_inds,0],spc[interictal_inds,1],c='gold',label= 'interictal')\n",
    "plt.scatter(spc[ictal_inds, 0], spc[ictal_inds, 1], c='royalblue', label='ictal')\n",
    "plt.title('Swav Embedding t-SNE')\n",
    "plt.xlabel('comp 1')\n",
    "plt.ylabel(\"comp 2\")\n",
    "plt.legend()\n",
    "# plt.xlim(-67, 74)\n",
    "# plt.ylim(-67, 75)\n",
    "plt.grid()\n",
    "plt.show()"
   ]
  },
  {
   "cell_type": "code",
   "execution_count": null,
   "metadata": {
    "ExecuteTime": {
     "end_time": "2023-04-19T06:31:53.821331Z",
     "start_time": "2023-04-19T06:31:53.149137Z"
    }
   },
   "outputs": [],
   "source": [
    "# dt = np.vstack((z[:,0], z[:,1])).T\n",
    "interactive_plot.interactive_plot(z, ['RNS026', 'HUP159', 'HUP129', 'HUP096'], data_import, color_override=target)"
   ]
  },
  {
   "cell_type": "code",
   "execution_count": null,
   "metadata": {
    "ExecuteTime": {
     "end_time": "2023-04-19T06:31:54.497782Z",
     "start_time": "2023-04-19T06:31:53.822331Z"
    }
   },
   "outputs": [],
   "source": [
    "interactive_plot.interactive_plot(z, ['HUP159'], data_import, color_override=target)"
   ]
  },
  {
   "cell_type": "code",
   "execution_count": null,
   "metadata": {
    "ExecuteTime": {
     "end_time": "2023-10-04T13:44:55.333295Z",
     "start_time": "2023-10-04T13:44:54.534943Z"
    }
   },
   "outputs": [],
   "source": [
    "from sklearn.metrics import RocCurveDisplay\n",
    "\n",
    "RocCurveDisplay.from_predictions(\n",
    "    target,\n",
    "    out,\n",
    "    color=\"darkorange\",\n",
    ")\n",
    "plt.plot([0, 1], [0, 1], \"k--\", label=\"chance level (AUC = 0.5)\")\n",
    "plt.axis(\"square\")\n",
    "plt.xlabel(\"False Positive Rate\")\n",
    "plt.ylabel(\"True Positive Rate\")\n",
    "plt.title(\"One-vs-Rest ROC curves:\\nVirginica vs (Setosa & Versicolor)\")\n",
    "plt.legend()\n",
    "plt.show()"
   ]
  },
  {
   "cell_type": "code",
   "execution_count": null,
   "metadata": {},
   "outputs": [],
   "source": [
    "output[:, 1]"
   ]
  },
  {
   "cell_type": "code",
   "execution_count": null,
   "metadata": {},
   "outputs": [],
   "source": []
  },
  {
   "cell_type": "code",
   "execution_count": null,
   "metadata": {},
   "outputs": [],
   "source": [
    "\n",
    "output = torch.argmax(output, dim=1)\n",
    "output = output.detach().cpu().numpy()\n",
    "target = target.squeeze().detach().cpu().numpy()"
   ]
  },
  {
   "cell_type": "code",
   "execution_count": null,
   "metadata": {},
   "outputs": [],
   "source": []
  },
  {
   "cell_type": "code",
   "execution_count": null,
   "metadata": {},
   "outputs": [],
   "source": [
    "import sklearn\n",
    "\n",
    "clf_report = sklearn.metrics.classification_report(output, target, digits=6)\n",
    "\n",
    "print(f\"Classification Report : \\n{clf_report}\")"
   ]
  },
  {
   "cell_type": "code",
   "execution_count": null,
   "metadata": {},
   "outputs": [],
   "source": []
  },
  {
   "cell_type": "code",
   "execution_count": null,
   "metadata": {},
   "outputs": [],
   "source": [
    "for batch, label in tqdm(val_dataloader):\n",
    "    batch = batch.to(device)\n",
    "    label = label.to(device)\n",
    "    label = F.one_hot(label).squeeze()\n",
    "    outputs = model(batch)\n",
    "    print(batch)\n",
    "    loss = sigmoid_focal_loss(pred.float(), label.float(), alpha=0.5, gamma=8, reduction='mean')\n",
    "    print(loss)\n",
    "    break"
   ]
  },
  {
   "cell_type": "code",
   "execution_count": null,
   "metadata": {},
   "outputs": [],
   "source": [
    "# import copy\n",
    "# import torch\n",
    "# import torchvision\n",
    "# from torch import nn\n",
    "#\n",
    "# from lightly.data import DINOCollateFunction, LightlyDataset\n",
    "# from lightly.loss import DINOLoss\n",
    "# from lightly.models.modules import DINOProjectionHead\n",
    "# from lightly.models.utils import deactivate_requires_grad, update_momentum\n",
    "# from lightly.utils.scheduler import cosine_schedule\n",
    "#\n",
    "#\n",
    "# class DINO(torch.nn.Module):\n",
    "#     def __init__(self, backbone, input_dim):\n",
    "#         super().__init__()\n",
    "#         self.student_backbone = backbone\n",
    "#         self.student_head = DINOProjectionHead(\n",
    "#             input_dim, 512, 64, 2048, freeze_last_layer=1\n",
    "#         )\n",
    "#         self.teacher_backbone = copy.deepcopy(backbone)\n",
    "#         self.teacher_head = DINOProjectionHead(input_dim, 512, 64, 2048)\n",
    "#         deactivate_requires_grad(self.teacher_backbone)\n",
    "#         deactivate_requires_grad(self.teacher_head)\n",
    "#\n",
    "#     def forward(self, x):\n",
    "#         y = self.student_backbone(x).flatten(start_dim=1)\n",
    "#         z = self.student_head(y)\n",
    "#         return z\n",
    "#\n",
    "#     def forward_teacher(self, x):\n",
    "#         y = self.teacher_backbone(x).flatten(start_dim=1)\n",
    "#         z = self.teacher_head(y)\n",
    "#         return z\n",
    "#\n",
    "#\n",
    "# resnet = torchvision.models.resnet18()\n",
    "# backbone = nn.Sequential(*list(resnet.children())[:-1])\n",
    "# input_dim = 512\n",
    "# # instead of a resnet you can also use a vision transformer backbone as in the\n",
    "# # original paper (you might have to reduce the batch size in this case):\n",
    "# # backbone = torch.hub.load('facebookresearch/dino:main', 'dino_vits16', pretrained=False)\n",
    "# # input_dim = backbone.embed_dim\n",
    "#\n",
    "# model = DINO(backbone, input_dim)\n",
    "#\n",
    "# device = \"cuda\" if torch.cuda.is_available() else \"cpu\"\n",
    "# model.to(device)\n",
    "#\n",
    "# # # we ignore object detection annotations by setting target_transform to return 0\n",
    "# # pascal_voc = torchvision.datasets.VOCDetection(\n",
    "# #     \"datasets/pascal_voc\", download=True, target_transform=lambda t: 0\n",
    "# # )\n",
    "# # dataset = LightlyDataset.from_torch_dataset(pascal_voc)\n",
    "# # # or create a dataset from a folder containing images or videos:\n",
    "# # # dataset = LightlyDataset(\"path/to/folder\")\n",
    "#\n",
    "# collate_fn = DINOCollateFunction(solarization_prob = 0, hf_prob = 0,vf_prob = 0,rr_prob=0,cj_prob=0,random_gray_scale=0)\n",
    "#\n",
    "# dataloader = torch.utils.data.DataLoader(\n",
    "#     train_set,\n",
    "#     batch_size=64,\n",
    "#     collate_fn=collate_fn,\n",
    "#     shuffle=True,\n",
    "#     drop_last=True,\n",
    "#     num_workers=1,\n",
    "# )\n",
    "#\n",
    "# criterion = DINOLoss(\n",
    "#     output_dim=2048,\n",
    "#     warmup_teacher_temp_epochs=5,\n",
    "# )\n",
    "# # move loss to correct device because it also contains parameters\n",
    "# criterion = criterion.to(device)\n",
    "#\n",
    "# optimizer = torch.optim.Adam(model.parameters(), lr=0.001)\n",
    "#\n",
    "# epochs = 10\n",
    "#\n",
    "# print(\"Starting Training\")\n",
    "# for epoch in range(epochs):\n",
    "#     total_loss = 0\n",
    "#     momentum_val = cosine_schedule(epoch, epochs, 0.996, 1)\n",
    "#     for views, _, _ in tqdm(dataloader):\n",
    "#         update_momentum(model.student_backbone, model.teacher_backbone, m=momentum_val)\n",
    "#         update_momentum(model.student_head, model.teacher_head, m=momentum_val)\n",
    "#         views = [view.to(device) for view in views]\n",
    "#         global_views = views[:2]\n",
    "#         teacher_out = [model.forward_teacher(view) for view in global_views]\n",
    "#         student_out = [model.forward(view) for view in views]\n",
    "#         loss = criterion(teacher_out, student_out, epoch=epoch)\n",
    "#         total_loss += loss.detach()\n",
    "#         loss.backward()\n",
    "#         # We only cancel gradients of student head.\n",
    "#         model.student_head.cancel_last_layer_gradients(current_epoch=epoch)\n",
    "#         optimizer.step()\n",
    "#         optimizer.zero_grad()\n",
    "#\n",
    "#     avg_loss = total_loss / len(dataloader)\n",
    "#     print(f\"epoch: {epoch:>02}, loss: {avg_loss:.5f}\")"
   ]
  },
  {
   "cell_type": "code",
   "execution_count": null,
   "metadata": {},
   "outputs": [],
   "source": []
  },
  {
   "cell_type": "code",
   "execution_count": null,
   "metadata": {},
   "outputs": [],
   "source": [
    "augmentation = T.Compose([\n",
    "    T.ToPILImage(),\n",
    "    T.Resize((256, 512), interpolation=T.InterpolationMode.NEAREST),\n",
    "    T.RandomApply([T.ColorJitter()], p=0.5),\n",
    "    T.RandomApply([T.GaussianBlur(kernel_size=(3, 3))], p=0.5),\n",
    "    T.RandomInvert(p=0.2),\n",
    "    T.RandomPosterize(4, p=0.2),\n",
    "])\n",
    "\n",
    "data = ictal_data_X[0]\n",
    "\n",
    "channel_index = np.arange(data.shape[0])\n",
    "np.random.shuffle(channel_index)\n",
    "data = data[channel_index]\n",
    "data = torch.from_numpy(data).clone()\n",
    "data = data.repeat(3, 1, 1)\n",
    "data = augmentation(data)\n",
    "data"
   ]
  },
  {
   "cell_type": "code",
   "execution_count": null,
   "metadata": {},
   "outputs": [],
   "source": [
    "channel_index"
   ]
  },
  {
   "cell_type": "code",
   "execution_count": null,
   "metadata": {},
   "outputs": [],
   "source": [
    "data[channel_index]"
   ]
  },
  {
   "cell_type": "code",
   "execution_count": null,
   "metadata": {},
   "outputs": [],
   "source": [
    "data"
   ]
  },
  {
   "cell_type": "code",
   "execution_count": null,
   "metadata": {},
   "outputs": [],
   "source": [
    "#\n",
    "# print(\"Starting Training\")\n",
    "# for epoch in range(50):\n",
    "#     total_loss = 0\n",
    "#     i = 0\n",
    "#     for batch, label in tqdm(dataloader):\n",
    "#         batch = batch.to(device)\n",
    "#         # print(type(batch))\n",
    "#         label = label.to(device)\n",
    "#         label = F.one_hot(label).squeeze()\n",
    "#         outputs = model(batch)\n",
    "#         loss = sigmoid_focal_loss(outputs.float(),label.float(), alpha = 0.25, gamma = 7,reduction = 'mean')\n",
    "#         total_loss += loss.detach()\n",
    "#         loss.backward()\n",
    "#         optimizer.step()\n",
    "#         optimizer.zero_grad()\n",
    "#\n",
    "#     avg_loss = total_loss / len(dataloader)\n",
    "#     torch.save({\n",
    "#             'epoch': epoch,\n",
    "#             'model_state_dict': model.state_dict(),\n",
    "#             'optimizer_state_dict': optimizer.state_dict(),\n",
    "#             'loss': avg_loss,\n",
    "#             }, 'ckpt/checkpoint'+str(epoch)+'.pth')\n",
    "#\n",
    "#     print(f\"epoch: {epoch:>02}, loss: {avg_loss:.5f}\")"
   ]
  }
 ],
 "metadata": {
  "kernelspec": {
   "display_name": "Python 3 (ipykernel)",
   "language": "python",
   "name": "python3"
  },
  "language_info": {
   "codemirror_mode": {
    "name": "ipython",
    "version": 3
   },
   "file_extension": ".py",
   "mimetype": "text/x-python",
   "name": "python",
   "nbconvert_exporter": "python",
   "pygments_lexer": "ipython3",
   "version": "3.10.5"
  }
 },
 "nbformat": 4,
 "nbformat_minor": 1
}
