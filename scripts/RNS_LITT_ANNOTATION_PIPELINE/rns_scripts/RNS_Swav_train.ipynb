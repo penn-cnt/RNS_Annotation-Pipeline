{
 "cells": [
  {
   "cell_type": "code",
   "execution_count": 1,
   "metadata": {
    "ExecuteTime": {
     "start_time": "2023-10-03T11:56:16.163244Z",
     "end_time": "2023-10-03T11:56:17.065064Z"
    }
   },
   "outputs": [],
   "source": [
    "import matplotlib.pyplot as plt\n",
    "%load_ext autoreload\n",
    "%autoreload 2\n",
    "%matplotlib inline\n",
    "%matplotlib notebook"
   ]
  },
  {
   "cell_type": "code",
   "execution_count": 2,
   "metadata": {
    "ExecuteTime": {
     "start_time": "2023-10-03T11:56:17.065064Z",
     "end_time": "2023-10-03T11:56:24.074235Z"
    }
   },
   "outputs": [],
   "source": [
    "import sys\n",
    "import os\n",
    "\n",
    "sys.path.append('../tools')\n",
    "\n",
    "import multicrop_dataset\n",
    "import architecture"
   ]
  },
  {
   "cell_type": "code",
   "execution_count": 3,
   "metadata": {
    "colab": {},
    "colab_type": "code",
    "id": "f0MBB1IVas91",
    "ExecuteTime": {
     "start_time": "2023-10-03T11:56:24.075235Z",
     "end_time": "2023-10-03T11:56:29.077839Z"
    }
   },
   "outputs": [],
   "source": [
    "import numpy as np\n",
    "import matplotlib\n",
    "\n",
    "from torch.utils.data import DataLoader\n",
    "from torch.utils.data import Dataset\n",
    "import torch\n",
    "from tqdm import tqdm\n",
    "import sklearn\n",
    "\n",
    "import torchvision.transforms as T\n",
    "import pytorch_lightning as pl\n",
    "import pytorch_lightning.loggers as pl_loggers\n",
    "import pytorch_lightning.callbacks as pl_callbacks\n",
    "\n",
    "matplotlib.use(\"nbAgg\")\n",
    "\n",
    "import data_utility\n",
    "\n",
    "from itertools import groupby\n",
    "from tqdm import tqdm"
   ]
  },
  {
   "cell_type": "code",
   "execution_count": 4,
   "metadata": {
    "ExecuteTime": {
     "start_time": "2023-10-03T11:56:29.078839Z",
     "end_time": "2023-10-03T11:56:29.604748Z"
    }
   },
   "outputs": [],
   "source": [
    "import matplotlib.pyplot as plt"
   ]
  },
  {
   "cell_type": "code",
   "execution_count": 5,
   "outputs": [],
   "source": [
    "data_dir = \"../../../user_data/\"\n",
    "log_folder_root = '../../../user_data/logs/'\n",
    "ckpt_folder_root = '../../../user_data/checkpoints/'"
   ],
   "metadata": {
    "collapsed": false,
    "ExecuteTime": {
     "start_time": "2023-10-03T11:56:29.605748Z",
     "end_time": "2023-10-03T11:56:30.129864Z"
    }
   }
  },
  {
   "cell_type": "code",
   "execution_count": 6,
   "metadata": {
    "ExecuteTime": {
     "start_time": "2023-10-03T11:56:30.129864Z",
     "end_time": "2023-10-03T11:56:30.658339Z"
    }
   },
   "outputs": [],
   "source": [
    "dir_list = os.listdir(data_dir+'rns_data')\n",
    "patientIDs = [s for s in dir_list for type_string in ['HUP', 'RNS'] if type_string in s.upper()]"
   ]
  },
  {
   "cell_type": "code",
   "execution_count": 7,
   "metadata": {
    "ExecuteTime": {
     "start_time": "2023-10-03T11:56:30.658339Z",
     "end_time": "2023-10-03T11:56:31.184817Z"
    }
   },
   "outputs": [
    {
     "data": {
      "text/plain": "['HUP047',\n 'HUP059',\n 'HUP084',\n 'HUP096',\n 'HUP101',\n 'HUP108',\n 'HUP109',\n 'HUP121',\n 'HUP127',\n 'HUP128',\n 'HUP129',\n 'HUP131',\n 'HUP136',\n 'HUP137',\n 'HUP143',\n 'HUP147',\n 'HUP153',\n 'HUP156',\n 'HUP159',\n 'HUP182',\n 'HUP192',\n 'HUP197',\n 'HUP199',\n 'HUP205',\n 'RNS021',\n 'RNS022',\n 'RNS026',\n 'RNS029']"
     },
     "execution_count": 7,
     "metadata": {},
     "output_type": "execute_result"
    }
   ],
   "source": [
    "patientIDs"
   ]
  },
  {
   "cell_type": "code",
   "execution_count": 8,
   "metadata": {
    "colab": {},
    "colab_type": "code",
    "id": "g05XnHgHas-D",
    "ExecuteTime": {
     "start_time": "2023-10-03T11:56:31.185818Z",
     "end_time": "2023-10-03T11:56:31.712000Z"
    }
   },
   "outputs": [],
   "source": [
    "# data_import = data_utility.read_files(path = data_dir+'rns_data', path_data = data_dir+'rns_raw_cache',patientIDs=patientIDs[10:], annotation_only = False, verbose=True)\n",
    "# ids = list(data_import.keys())"
   ]
  },
  {
   "cell_type": "code",
   "execution_count": 9,
   "metadata": {
    "ExecuteTime": {
     "start_time": "2023-10-03T11:56:31.712000Z",
     "end_time": "2023-10-03T11:56:32.239864Z"
    }
   },
   "outputs": [],
   "source": [
    "# window_len = 1\n",
    "# stride = 1\n",
    "# concat_n = 2\n",
    "# for id in tqdm(ids):\n",
    "#     data_import[id].set_window_parameter(window_length=window_len, window_displacement=stride)\n",
    "#     data_import[id].set_concatenation_parameter(concatenate_window_n=concat_n)\n",
    "#     data_import[id].get_windowed_data(data_import[id].catalog[\"Event Start idx\"],data_import[id].catalog[\"Event End idx\"])\n",
    "#     data_import[id].normalize_windowed_data()\n",
    "#     _, concatenated_data = data_import[id].get_concatenated_data(data_import[id].windowed_data, arrange='channel_stack')\n",
    "#     np.save(data_dir+'rns_cache/'+ id +'.npy',concatenated_data)"
   ]
  },
  {
   "cell_type": "code",
   "execution_count": 10,
   "metadata": {
    "ExecuteTime": {
     "start_time": "2023-10-03T11:56:32.239864Z",
     "end_time": "2023-10-03T11:56:32.766082Z"
    }
   },
   "outputs": [],
   "source": [
    "file_list = ['HUP159.npy']"
   ]
  },
  {
   "cell_type": "code",
   "execution_count": 10,
   "metadata": {
    "ExecuteTime": {
     "start_time": "2023-10-03T11:56:32.767083Z",
     "end_time": "2023-10-03T11:56:32.781866Z"
    }
   },
   "outputs": [],
   "source": []
  },
  {
   "cell_type": "code",
   "execution_count": 11,
   "metadata": {
    "ExecuteTime": {
     "start_time": "2023-10-03T11:56:32.782867Z",
     "end_time": "2023-10-03T11:56:34.285229Z"
    }
   },
   "outputs": [
    {
     "name": "stdout",
     "output_type": "stream",
     "text": [
      "(0, 249, 20)\n"
     ]
    },
    {
     "name": "stderr",
     "output_type": "stream",
     "text": [
      "100%|██████████| 1/1 [00:00<00:00,  1.76it/s]"
     ]
    },
    {
     "name": "stdout",
     "output_type": "stream",
     "text": [
      "data loaded\n"
     ]
    },
    {
     "name": "stderr",
     "output_type": "stream",
     "text": [
      "\n"
     ]
    }
   ],
   "source": [
    "from models.rns_dataloader import RNS_Raw\n",
    "unlabeled_dataset = RNS_Raw(file_list, transform=True,astensor = False)"
   ]
  },
  {
   "cell_type": "code",
   "execution_count": 18,
   "metadata": {
    "ExecuteTime": {
     "start_time": "2023-10-03T12:08:25.889249Z",
     "end_time": "2023-10-03T12:08:26.776871Z"
    }
   },
   "outputs": [
    {
     "name": "stderr",
     "output_type": "stream",
     "text": [
      "Using 16bit native Automatic Mixed Precision (AMP)\n",
      "GPU available: True (cuda), used: True\n",
      "TPU available: False, using: 0 TPU cores\n",
      "IPU available: False, using: 0 IPUs\n",
      "HPU available: False, using: 0 HPUs\n"
     ]
    }
   ],
   "source": [
    "from models.SwaV import SwaV\n",
    "from lightly.data import SwaVCollateFunction\n",
    "#\n",
    "model = SwaV()\n",
    "\n",
    "# model.load_from_checkpoint()\n",
    "\n",
    "collate_fn = SwaVCollateFunction(gaussian_blur = 0, hf_prob = 0,vf_prob = 0,rr_prob=0,cj_prob=0,random_gray_scale=0, normalize={'mean':[0, 0, 0], 'std':[1, 1, 1]})\n",
    "\n",
    "dataloader = torch.utils.data.DataLoader(\n",
    "    unlabeled_dataset,\n",
    "    batch_size=256,\n",
    "    collate_fn=collate_fn,\n",
    "    shuffle=True,\n",
    "    drop_last=True,\n",
    ")\n",
    "accelerator = \"gpu\" if torch.cuda.is_available() else \"cpu\"\n",
    "\n",
    "checkpoint_callback = pl_callbacks.ModelCheckpoint(monitor='swav_loss',filename='rns_swav_159-{epoch:02d}-{swav_loss:.5f}', save_last=True, save_top_k=-1, dirpath=ckpt_folder_root + 'rns_swav_34')\n",
    "csv_logger = pl_loggers.CSVLogger(log_folder_root, name=\"rns_swav_34\")\n",
    "\n",
    "trainer = pl.Trainer(logger=csv_logger, max_epochs=150, callbacks=[checkpoint_callback],accelerator='gpu', devices=1,precision=16)"
   ]
  },
  {
   "cell_type": "code",
   "execution_count": 19,
   "outputs": [
    {
     "name": "stderr",
     "output_type": "stream",
     "text": [
      "Restoring states from the checkpoint path at ../../../user_data/checkpoints/rns_swav_34/rns_swav_159-epoch=109-swav_loss=3.12453.ckpt\n",
      "LOCAL_RANK: 0 - CUDA_VISIBLE_DEVICES: [0]\n",
      "\n",
      "  | Name            | Type               | Params\n",
      "-------------------------------------------------------\n",
      "0 | backbone        | Sequential         | 21.3 M\n",
      "1 | projection_head | SwaVProjectionHead | 328 K \n",
      "2 | prototypes      | SwaVPrototypes     | 66.0 K\n",
      "3 | queues          | ModuleList         | 0     \n",
      "4 | criterion       | SwaVLoss           | 0     \n",
      "-------------------------------------------------------\n",
      "21.7 M    Trainable params\n",
      "0         Non-trainable params\n",
      "21.7 M    Total params\n",
      "43.359    Total estimated model params size (MB)\n",
      "Restored all states from the checkpoint file at ../../../user_data/checkpoints/rns_swav_34/rns_swav_159-epoch=109-swav_loss=3.12453.ckpt\n"
     ]
    },
    {
     "data": {
      "text/plain": "Training: 159it [00:00, ?it/s]",
      "application/vnd.jupyter.widget-view+json": {
       "version_major": 2,
       "version_minor": 0,
       "model_id": "320df4337d0946e6807b1a7f82d9a159"
      }
     },
     "metadata": {},
     "output_type": "display_data"
    },
    {
     "name": "stderr",
     "output_type": "stream",
     "text": [
      "`Trainer.fit` stopped: `max_epochs=150` reached.\n"
     ]
    }
   ],
   "source": [
    "trainer.fit(model=model, train_dataloaders=dataloader,ckpt_path=ckpt_folder_root+'rns_swav_34/rns_swav_159-epoch=109-swav_loss=3.12453.ckpt')"
   ],
   "metadata": {
    "collapsed": false,
    "ExecuteTime": {
     "start_time": "2023-10-03T12:08:27.606451Z",
     "end_time": "2023-10-03T16:25:21.670865Z"
    }
   }
  },
  {
   "cell_type": "code",
   "execution_count": null,
   "metadata": {},
   "outputs": [],
   "source": []
  }
 ],
 "metadata": {
  "colab": {
   "include_colab_link": true,
   "name": "Train_SwAV_10_epochs.ipynb",
   "provenance": []
  },
  "kernelspec": {
   "display_name": "Python 3 (ipykernel)",
   "language": "python",
   "name": "python3"
  },
  "language_info": {
   "codemirror_mode": {
    "name": "ipython",
    "version": 3
   },
   "file_extension": ".py",
   "mimetype": "text/x-python",
   "name": "python",
   "nbconvert_exporter": "python",
   "pygments_lexer": "ipython3",
   "version": "3.10.5"
  }
 },
 "nbformat": 4,
 "nbformat_minor": 1
}
