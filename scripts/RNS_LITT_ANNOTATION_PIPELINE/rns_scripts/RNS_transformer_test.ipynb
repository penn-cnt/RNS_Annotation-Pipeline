{
 "cells": [
  {
   "cell_type": "code",
   "execution_count": 1,
   "metadata": {
    "ExecuteTime": {
     "start_time": "2024-01-24T13:08:52.211764Z",
     "end_time": "2024-01-24T13:08:53.284688Z"
    }
   },
   "outputs": [],
   "source": [
    "%load_ext autoreload\n",
    "%autoreload 2\n",
    "%matplotlib widget"
   ]
  },
  {
   "cell_type": "code",
   "execution_count": 2,
   "metadata": {
    "ExecuteTime": {
     "start_time": "2024-01-24T13:08:53.284688Z",
     "end_time": "2024-01-24T13:09:00.794397Z"
    }
   },
   "outputs": [],
   "source": [
    "import numpy as np\n",
    "import random\n",
    "import sys\n",
    "sys.path.append('../tools')\n",
    "\n",
    "import os\n",
    "\n",
    "import torch\n",
    "\n",
    "import pandas as pd\n",
    "from sklearn.model_selection import train_test_split\n",
    "import pytorch_lightning as pl\n",
    "import pytorch_lightning.loggers as pl_loggers\n",
    "import pytorch_lightning.callbacks as pl_callbacks\n",
    "import data_utility, annotation_utility\n",
    "from models.rns_dataloader import *\n",
    "from active_learning_utility import get_strategy\n",
    "from active_learning_data import Data\n",
    "from active_learning_net import Net\n",
    "from copy import deepcopy\n",
    "from models.SwaV import SwaV\n",
    "from models.SupervisedDownstream import SupervisedDownstream\n",
    "import warnings\n",
    "\n",
    "warnings.filterwarnings(\"ignore\", \".*Consider increasing the value of the `num_workers` argument*\")\n",
    "warnings.filterwarnings(\"ignore\", \".*Set a lower value for log_every_n_steps if you want to see logs for the training epoch*\")"
   ]
  },
  {
   "cell_type": "code",
   "execution_count": 3,
   "metadata": {
    "ExecuteTime": {
     "start_time": "2024-01-24T13:09:00.794397Z",
     "end_time": "2024-01-24T13:09:01.201489Z"
    }
   },
   "outputs": [
    {
     "name": "stderr",
     "output_type": "stream",
     "text": [
      "Global seed set to 42\n"
     ]
    },
    {
     "data": {
      "text/plain": "42"
     },
     "execution_count": 3,
     "metadata": {},
     "output_type": "execute_result"
    }
   ],
   "source": [
    "random_seed = 42\n",
    "random.seed(random_seed)\n",
    "torch.manual_seed(random_seed)\n",
    "np.random.seed(random_seed)\n",
    "\n",
    "if torch.cuda.is_available():\n",
    "    torch.cuda.manual_seed(random_seed)\n",
    "    # True ensures the algorithm selected by CUFA is deterministic\n",
    "    torch.backends.cudnn.deterministic = True\n",
    "    # torch.set_deterministic(True)\n",
    "    # False ensures CUDA select the same algorithm each time the application is run\n",
    "    torch.backends.cudnn.benchmark = False\n",
    "\n",
    "import pytorch_lightning\n",
    "pytorch_lightning.utilities.seed.seed_everything(seed=random_seed, workers=True)"
   ]
  },
  {
   "cell_type": "code",
   "execution_count": 4,
   "metadata": {
    "ExecuteTime": {
     "start_time": "2024-01-24T13:09:01.174447Z",
     "end_time": "2024-01-24T13:09:01.495045Z"
    }
   },
   "outputs": [],
   "source": [
    "data_dir = \"../../../user_data/\"\n",
    "log_folder_root = '../../../user_data/logs/'\n",
    "ckpt_folder_root = '../../../user_data/checkpoints/'"
   ]
  },
  {
   "cell_type": "code",
   "execution_count": 5,
   "metadata": {
    "ExecuteTime": {
     "start_time": "2024-01-24T13:09:01.495045Z",
     "end_time": "2024-01-24T13:09:01.821918Z"
    }
   },
   "outputs": [],
   "source": [
    "strategy_name = 'LeastConfidence'"
   ]
  },
  {
   "cell_type": "code",
   "execution_count": 6,
   "metadata": {
    "ExecuteTime": {
     "start_time": "2024-01-24T13:09:01.821918Z",
     "end_time": "2024-01-24T13:09:02.147821Z"
    }
   },
   "outputs": [],
   "source": [
    "nStart = 1\n",
    "nEnd = 20\n",
    "nQuery = 2"
   ]
  },
  {
   "cell_type": "code",
   "execution_count": 7,
   "metadata": {
    "ExecuteTime": {
     "start_time": "2024-01-24T13:09:02.147821Z",
     "end_time": "2024-01-24T13:09:02.470441Z"
    }
   },
   "outputs": [],
   "source": [
    "args_task = {'n_epoch': 100,\n",
    "             'transform_train': True,\n",
    "             'strategy_name': strategy_name,\n",
    "             'transform': False,\n",
    "             'loader_tr_args': {'batch_size': 256, 'num_workers': 4, 'collate_fn': collate_fn,\n",
    "                                'drop_last': True,'persistent_workers':True},\n",
    "             'loader_te_args': {'batch_size': 256, 'num_workers': 8, 'collate_fn': collate_fn,\n",
    "                                'drop_last': True,'persistent_workers':True}\n",
    "             }"
   ]
  },
  {
   "cell_type": "code",
   "execution_count": 8,
   "metadata": {
    "ExecuteTime": {
     "start_time": "2024-01-24T13:09:02.470441Z",
     "end_time": "2024-01-24T13:09:02.814288Z"
    }
   },
   "outputs": [],
   "source": [
    "# raw_annotations = pd.read_csv(data_dir + 'full_updated_anns_annotTbl_cleaned.csv')\n",
    "# ids = list(np.unique(raw_annotations[raw_annotations['descriptions'].notnull()]['HUP_ID']))\n",
    "# # ids = list(np.unique(raw_annotations['HUP_ID']))\n",
    "#\n",
    "# data_import = data_utility.read_files(path=data_dir+'rns_data', path_data=data_dir+'rns_raw_cache', patientIDs=ids,\n",
    "#                                       verbose=True)  # Import data with annotation"
   ]
  },
  {
   "cell_type": "code",
   "execution_count": 9,
   "metadata": {
    "ExecuteTime": {
     "start_time": "2024-01-24T13:09:02.814288Z",
     "end_time": "2024-01-24T13:09:18.162006Z"
    }
   },
   "outputs": [
    {
     "name": "stderr",
     "output_type": "stream",
     "text": [
      "100%|██████████| 16/16 [00:14<00:00,  1.09it/s]"
     ]
    },
    {
     "name": "stdout",
     "output_type": "stream",
     "text": [
      "(86197, 249, 36)\n",
      "(86197,)\n",
      "(21556, 249, 36)\n",
      "(21556,)\n"
     ]
    },
    {
     "name": "stderr",
     "output_type": "stream",
     "text": [
      "\n"
     ]
    }
   ],
   "source": [
    "# data_list = os.listdir(data_dir+'rns_test_cache')\n",
    "# print(data_list)\n",
    "data_list = ['HUP047.npy', 'HUP084.npy', 'HUP096.npy', 'HUP109.npy', 'HUP121.npy', 'HUP129.npy', 'HUP131.npy',\n",
    "             'HUP137.npy', 'HUP147.npy', 'HUP156.npy', 'HUP159.npy', 'HUP182.npy', 'HUP197.npy', 'HUP199.npy',\n",
    "             'RNS026.npy', 'RNS029.npy']\n",
    "X_train, y_train, X_test, y_test, index_train, index_test  = get_data(data_list, split=0.8)\n",
    "# data, label,_,_ = get_data(data_list, split=1)\n",
    "# train_data, test_data, train_label, test_label = sklearn.model_selection.train_test_split(data, label, test_size=0.8, random_state=42)\n",
    "\n",
    "print(X_train.shape)\n",
    "print(y_train.shape)\n",
    "print(X_test.shape)\n",
    "print(y_test.shape)"
   ]
  },
  {
   "cell_type": "code",
   "execution_count": 10,
   "metadata": {
    "ExecuteTime": {
     "start_time": "2024-01-24T13:09:18.162006Z",
     "end_time": "2024-01-24T13:09:18.895211Z"
    }
   },
   "outputs": [
    {
     "name": "stdout",
     "output_type": "stream",
     "text": [
      "861\n",
      "1723\n",
      "10\n"
     ]
    }
   ],
   "source": [
    "n_pool = len(y_train)\n",
    "n_test = len(y_test)\n",
    "\n",
    "NUM_INIT_LB = int(nStart * n_pool / 100)\n",
    "NUM_QUERY = int(nQuery * n_pool / 100) if nStart != 100 else 0\n",
    "NUM_ROUND = int((int(nEnd * n_pool / 100) - NUM_INIT_LB) / NUM_QUERY) if nStart != 100 else 0\n",
    "if NUM_QUERY != 0:\n",
    "    if (int(nEnd * n_pool / 100) - NUM_INIT_LB) % NUM_QUERY != 0:\n",
    "        NUM_ROUND += 1\n",
    "\n",
    "print(NUM_INIT_LB)\n",
    "print(NUM_QUERY)\n",
    "print(NUM_ROUND)"
   ]
  },
  {
   "cell_type": "code",
   "execution_count": 11,
   "metadata": {
    "ExecuteTime": {
     "start_time": "2024-01-24T13:09:18.879210Z",
     "end_time": "2024-01-24T13:09:19.208884Z"
    }
   },
   "outputs": [],
   "source": [
    "dataset = Data(X_train, y_train, X_test, y_test, RNS_Downstream, args_task)"
   ]
  },
  {
   "cell_type": "code",
   "execution_count": 12,
   "metadata": {
    "ExecuteTime": {
     "start_time": "2024-01-24T13:09:19.208884Z",
     "end_time": "2024-01-24T13:09:20.107294Z"
    }
   },
   "outputs": [],
   "source": [
    "swav = SwaV().load_from_checkpoint(\n",
    "    ckpt_folder_root + 'rns_swav_50_12/rns_swav-epoch=82-swav_loss=2.58204.ckpt')\n",
    "model = SupervisedDownstream(swav.backbone)\n",
    "# initialize model and save the model state\n",
    "modelstate = deepcopy(model.state_dict())\n",
    "device = \"cuda\" if torch.cuda.is_available() else \"cpu\"\n",
    "\n",
    "\n",
    "net = Net(model, args_task, device, ckpt_folder_root = 'rns_active', log_folder_root = 'rns_active')"
   ]
  },
  {
   "cell_type": "code",
   "execution_count": 13,
   "metadata": {
    "ExecuteTime": {
     "start_time": "2024-01-24T13:09:20.107294Z",
     "end_time": "2024-01-24T13:09:20.465503Z"
    }
   },
   "outputs": [],
   "source": [
    "strategy = get_strategy(strategy_name, dataset, net, None, args_task)"
   ]
  },
  {
   "cell_type": "code",
   "execution_count": 14,
   "metadata": {
    "ExecuteTime": {
     "start_time": "2024-01-24T13:09:20.469503Z",
     "end_time": "2024-01-24T13:16:57.942466Z"
    }
   },
   "outputs": [
    {
     "name": "stderr",
     "output_type": "stream",
     "text": [
      "Using 16bit native Automatic Mixed Precision (AMP)\n",
      "GPU available: True (cuda), used: True\n",
      "TPU available: False, using: 0 TPU cores\n",
      "IPU available: False, using: 0 IPUs\n",
      "HPU available: False, using: 0 HPUs\n",
      "C:\\Users\\Patrick Xu\\AppData\\Local\\Programs\\Python\\Python310\\lib\\site-packages\\pytorch_lightning\\callbacks\\model_checkpoint.py:616: UserWarning: Checkpoint directory C:\\Users\\Patrick Xu\\Desktop\\RNS_Annotation-Pipeline\\user_data\\checkpoints\\rns_active\\active_checkpoints_LeastConfidence exists and is not empty.\n",
      "  rank_zero_warn(f\"Checkpoint directory {dirpath} exists and is not empty.\")\n",
      "LOCAL_RANK: 0 - CUDA_VISIBLE_DEVICES: [0]\n"
     ]
    },
    {
     "name": "stdout",
     "output_type": "stream",
     "text": [
      "[226, 265, 342, 347, 379, 618, 632, 712, 957, 1003, 1424, 1638, 1841, 2212, 2220, 2225, 2267, 2320, 2449, 2493, 2513, 2544, 2605, 2623, 2685, 2740, 2833, 3050, 3137, 3342, 3502, 3711, 3780, 3804, 4079, 4162, 4272, 4363, 4402, 4472, 4505, 4635, 5012, 5040, 5058, 5069, 5173, 5442, 5453, 5604, 5676, 5866, 5923, 6084, 6459, 6649, 6660, 6662, 6729, 6924, 6956, 7024, 7389, 7478, 7625, 7968, 8131, 8158, 8225, 8296, 8344, 8473, 8854, 8879, 9030, 9249, 9639, 9652, 9724, 9887, 9945, 10085, 10164, 10182, 10262, 10365, 10399, 10463, 10530, 10574, 10593, 10762, 10803, 10815, 11128, 11425, 11597, 11619, 11622, 11751, 11791, 11980, 12042, 12143, 12266, 12450, 12469, 12520, 12582, 12635, 12684, 12691, 12928, 12945, 13022, 13076, 13108, 13132, 13143, 13567, 13694, 13956, 14005, 14117, 14131, 14452, 14475, 14579, 14644, 14813, 15113, 15199, 15267, 15323, 15351, 15371, 15497, 15618, 15697, 15722, 15736, 15844, 16160, 16252, 16275, 16443, 16458, 16467, 16525, 16540, 16754, 16764, 17002, 17147, 17262, 17376, 17417, 17449, 17567, 17613, 17635, 17742, 18029, 18301, 18545, 18661, 18698, 18734, 18775, 19057, 19090, 19117, 19277, 19331, 19524, 19746, 19837, 19842, 19921, 20174, 20181, 20182, 20322, 20451, 20648, 20690, 20725, 20761, 20844, 20928, 20942, 21030, 21056, 21107, 21147, 21436, 21456, 21482, 21504, 21608, 21844, 21915, 21929, 22004, 22039, 22143, 22279, 22308, 22598, 22640, 22782, 22992, 23282, 23338, 23343, 23381, 23435, 23743, 23800, 23822, 23839, 23843, 23944, 23957, 24025, 24164, 24187, 24334, 24364, 24404, 24595, 24607, 24888, 24915, 24924, 24994, 25129, 25142, 25202, 25238, 25459, 25468, 25605, 25783, 25843, 25867, 25950, 25984, 25994, 26212, 26383, 26438, 26535, 26566, 27093, 27123, 27155, 27343, 27496, 27604, 27680, 27715, 27852, 28097, 28178, 28238, 28366, 28609, 28676, 28726, 28886, 28988, 29128, 29167, 29322, 29395, 29525, 29536, 29578, 29636, 29643, 29650, 29769, 29816, 29820, 29883, 30147, 30186, 30256, 30277, 30404, 30582, 30623, 30828, 30864, 30878, 31042, 31278, 31380, 31400, 31414, 31605, 31694, 31714, 31787, 32064, 32075, 32178, 32367, 32417, 32422, 32511, 32560, 32585, 32589, 32590, 32713, 32732, 32824, 32838, 33011, 33212, 33219, 33311, 33369, 33511, 33812, 33833, 33969, 34179, 34188, 34287, 34290, 34316, 34344, 34504, 34605, 34685, 34788, 35026, 35029, 35197, 35199, 35279, 35370, 35390, 35417, 35626, 35769, 35962, 36058, 36239, 36358, 36411, 36456, 36571, 36799, 36863, 36887, 36961, 37414, 37688, 37779, 37791, 37973, 38043, 38204, 38455, 38525, 38604, 38788, 38978, 39068, 39096, 39111, 39221, 39439, 39463, 39568, 39608, 39655, 39663, 39900, 39923, 39926, 39973, 40055, 40233, 40269, 40471, 40590, 40595, 40605, 40668, 40871, 40907, 40929, 40976, 41399, 41454, 41537, 41595, 41642, 41774, 41804, 41892, 42102, 42123, 42190, 42212, 42439, 42499, 42535, 42560, 43029, 43149, 43156, 43287, 43431, 43542, 43590, 43621, 43650, 43689, 43697, 44157, 44184, 44288, 44311, 44468, 44487, 44551, 44591, 44620, 44642, 44805, 44914, 45453, 45660, 45731, 45773, 45792, 45818, 45921, 46133, 46143, 46329, 46367, 46375, 46605, 46968, 47053, 47186, 47386, 47412, 47438, 47556, 47616, 47706, 47895, 47955, 48035, 48084, 48150, 48236, 48305, 48350, 48915, 48930, 49235, 49394, 49441, 49758, 49767, 49913, 49972, 50001, 50038, 50159, 50190, 50195, 50239, 50308, 50359, 50394, 50456, 50556, 50678, 50947, 50951, 50958, 51079, 51183, 51286, 51336, 51409, 51692, 51735, 51935, 52013, 52064, 52178, 52500, 52548, 52619, 52806, 52862, 52952, 53246, 53457, 53514, 53581, 53683, 53697, 53718, 53877, 53908, 54121, 54255, 54529, 54539, 54571, 54609, 54747, 54864, 54893, 54981, 54990, 55023, 55151, 55213, 55237, 55299, 55418, 55456, 55573, 55580, 55737, 55861, 55931, 55960, 56032, 56112, 56201, 56212, 56292, 56347, 56385, 56458, 56495, 56611, 56777, 56796, 56932, 57037, 57136, 57289, 57406, 57567, 57571, 57595, 57835, 57847, 58087, 58167, 58198, 58206, 58227, 58248, 58484, 58561, 58586, 58874, 58878, 58922, 59017, 59511, 59554, 59617, 59657, 59760, 59874, 59911, 60097, 60152, 60298, 60339, 60368, 60724, 60770, 60927, 61004, 61043, 61053, 61200, 61420, 61656, 61732, 61835, 61840, 62062, 62135, 62181, 62266, 62271, 62334, 62418, 62902, 63007, 63086, 63366, 63385, 63544, 63929, 63962, 64024, 64029, 64088, 64147, 64287, 64391, 64547, 64607, 64672, 64676, 64690, 64744, 64798, 65011, 65059, 65176, 65202, 65368, 65399, 65491, 65695, 65731, 65928, 66080, 66297, 66802, 66880, 66952, 66990, 67284, 67341, 67513, 67535, 67678, 67715, 67716, 67749, 67817, 67881, 67937, 67961, 68224, 68272, 68292, 68463, 68594, 68613, 68736, 68850, 68939, 68948, 69054, 69111, 69242, 69344, 69352, 69502, 69682, 69704, 69717, 69780, 69864, 69927, 69986, 70039, 70058, 70220, 70282, 70396, 70416, 70602, 70670, 70783, 70906, 70947, 71090, 71097, 71503, 71530, 71562, 71572, 71645, 71813, 71965, 72224, 72236, 72278, 72493, 72620, 72726, 72757, 72863, 72889, 72913, 72923, 72927, 72987, 73005, 73041, 73152, 73189, 73229, 73326, 73357, 73518, 73667, 73797, 73896, 74023, 74340, 74526, 74551, 74583, 74665, 74841, 74933, 75134, 75138, 75194, 75649, 75823, 75872, 75879, 76068, 76074, 76128, 76194, 76318, 76326, 76338, 76353, 76493, 76536, 76585, 76765, 76888, 76889, 76948, 76967, 77105, 77310, 77385, 77459, 77498, 77590, 77678, 77682, 77687, 77690, 77884, 77930, 77944, 78010, 78016, 78026, 78084, 78126, 78397, 78606, 78643, 78654, 78718, 78820, 79029, 79033, 79091, 79157, 79244, 79287, 79367, 79568, 79608, 79654, 79782, 79815, 79850, 79871, 80151, 80153, 80669, 80734, 80908, 80955, 81066, 81080, 81096, 81098, 81197, 81275, 81349, 81358, 81448, 81713, 81745, 81765, 81776, 81843, 81916, 81990, 82003, 82073, 82085, 82162, 82174, 82232, 82282, 82307, 82439, 82540, 82543, 82661, 82831, 82941, 82993, 83002, 83023, 83060, 83151, 83169, 83178, 83289, 83392, 83515, 83554, 83610, 83738, 83776, 83820, 83900, 83916, 84444, 84611, 84693, 84694, 84701, 84865, 84912, 84979, 85243, 85476, 85498, 85630, 85640, 85840, 85899, 86061]\n",
      "data loaded\n",
      "(861, 249, 36)\n",
      "(861,)\n",
      "data loaded\n",
      "(21556, 249, 36)\n",
      "(21556,)\n"
     ]
    },
    {
     "data": {
      "text/plain": "Sanity Checking: 0it [00:00, ?it/s]",
      "application/vnd.jupyter.widget-view+json": {
       "version_major": 2,
       "version_minor": 0,
       "model_id": "9272c1ffd0be42b4a9e00a28ce7281fc"
      }
     },
     "metadata": {},
     "output_type": "display_data"
    },
    {
     "data": {
      "text/plain": "Training: 0it [00:00, ?it/s]",
      "application/vnd.jupyter.widget-view+json": {
       "version_major": 2,
       "version_minor": 0,
       "model_id": "e8b05b8b5ab847f49a0fc34e6055d550"
      }
     },
     "metadata": {},
     "output_type": "display_data"
    },
    {
     "data": {
      "text/plain": "Validation: 0it [00:00, ?it/s]",
      "application/vnd.jupyter.widget-view+json": {
       "version_major": 2,
       "version_minor": 0,
       "model_id": "495429a8b7c94756ac1526b40780318e"
      }
     },
     "metadata": {},
     "output_type": "display_data"
    },
    {
     "data": {
      "text/plain": "Validation: 0it [00:00, ?it/s]",
      "application/vnd.jupyter.widget-view+json": {
       "version_major": 2,
       "version_minor": 0,
       "model_id": "ce9afc0e2917493386bdbea37b0ecd0d"
      }
     },
     "metadata": {},
     "output_type": "display_data"
    },
    {
     "data": {
      "text/plain": "Validation: 0it [00:00, ?it/s]",
      "application/vnd.jupyter.widget-view+json": {
       "version_major": 2,
       "version_minor": 0,
       "model_id": "601161d4a5614db8a5f299eb6a619229"
      }
     },
     "metadata": {},
     "output_type": "display_data"
    },
    {
     "data": {
      "text/plain": "Validation: 0it [00:00, ?it/s]",
      "application/vnd.jupyter.widget-view+json": {
       "version_major": 2,
       "version_minor": 0,
       "model_id": "9c01619d4d2a48c99d97b03cef5d940e"
      }
     },
     "metadata": {},
     "output_type": "display_data"
    },
    {
     "data": {
      "text/plain": "Validation: 0it [00:00, ?it/s]",
      "application/vnd.jupyter.widget-view+json": {
       "version_major": 2,
       "version_minor": 0,
       "model_id": "49e591e0d8f942529941342e76486191"
      }
     },
     "metadata": {},
     "output_type": "display_data"
    },
    {
     "data": {
      "text/plain": "Validation: 0it [00:00, ?it/s]",
      "application/vnd.jupyter.widget-view+json": {
       "version_major": 2,
       "version_minor": 0,
       "model_id": "69a48b3ab5d2489889bae74c149e3b0b"
      }
     },
     "metadata": {},
     "output_type": "display_data"
    },
    {
     "data": {
      "text/plain": "Validation: 0it [00:00, ?it/s]",
      "application/vnd.jupyter.widget-view+json": {
       "version_major": 2,
       "version_minor": 0,
       "model_id": "a03aff367d674c28aead474a172eb91c"
      }
     },
     "metadata": {},
     "output_type": "display_data"
    },
    {
     "data": {
      "text/plain": "Validation: 0it [00:00, ?it/s]",
      "application/vnd.jupyter.widget-view+json": {
       "version_major": 2,
       "version_minor": 0,
       "model_id": "71cb152bd85e45428585505395987673"
      }
     },
     "metadata": {},
     "output_type": "display_data"
    },
    {
     "data": {
      "text/plain": "Validation: 0it [00:00, ?it/s]",
      "application/vnd.jupyter.widget-view+json": {
       "version_major": 2,
       "version_minor": 0,
       "model_id": "0cc0b0e8dcda4b22becdd4ba6025ae33"
      }
     },
     "metadata": {},
     "output_type": "display_data"
    },
    {
     "data": {
      "text/plain": "Validation: 0it [00:00, ?it/s]",
      "application/vnd.jupyter.widget-view+json": {
       "version_major": 2,
       "version_minor": 0,
       "model_id": "5431da14f927422fbf2aeaa3708d45a1"
      }
     },
     "metadata": {},
     "output_type": "display_data"
    },
    {
     "name": "stderr",
     "output_type": "stream",
     "text": [
      "`Trainer.fit` stopped: `max_epochs=100` reached.\n"
     ]
    }
   ],
   "source": [
    "# initial round of training, round 0\n",
    "dataset.initialize_labels(NUM_INIT_LB)\n",
    "strategy.train()"
   ]
  },
  {
   "cell_type": "code",
   "execution_count": 15,
   "outputs": [],
   "source": [
    "# q_idxs = strategy.query(NUM_QUERY)"
   ],
   "metadata": {
    "collapsed": false,
    "ExecuteTime": {
     "start_time": "2024-01-24T13:16:57.943464Z",
     "end_time": "2024-01-24T13:16:58.259139Z"
    }
   }
  },
  {
   "cell_type": "code",
   "execution_count": 16,
   "outputs": [
    {
     "name": "stderr",
     "output_type": "stream",
     "text": [
      "LOCAL_RANK: 0 - CUDA_VISIBLE_DEVICES: [0]\n"
     ]
    },
    {
     "name": "stdout",
     "output_type": "stream",
     "text": [
      "data loaded\n",
      "(85336, 249, 36)\n",
      "(85336,)\n"
     ]
    },
    {
     "data": {
      "text/plain": "Predicting: 3it [00:00, ?it/s]",
      "application/vnd.jupyter.widget-view+json": {
       "version_major": 2,
       "version_minor": 0,
       "model_id": "6c16fe1bd79144a6a30dbac34a663a96"
      }
     },
     "metadata": {},
     "output_type": "display_data"
    }
   ],
   "source": [
    "unlabeled_idxs, unlabeled_data = strategy.dataset.get_unlabeled_data()\n",
    "probs = strategy.predict_prob(unlabeled_data)"
   ],
   "metadata": {
    "collapsed": false,
    "ExecuteTime": {
     "start_time": "2024-01-24T13:16:58.259139Z",
     "end_time": "2024-01-24T13:19:28.236070Z"
    }
   }
  },
  {
   "cell_type": "code",
   "execution_count": 17,
   "outputs": [
    {
     "data": {
      "text/plain": "array([(b'HUP047', 1102,  0,   180296), (b'HUP047', 1102,  1,   180296),\n       (b'HUP047', 1102,  2,   180296), ...,\n       (b'RNS029', 3810, 21, 60804040), (b'RNS029', 3810,  0, 60809715),\n       (b'RNS029', 3810,  1, 60809715)],\n      dtype=[('patient_index', 'S10'), ('episode_index', '<i4'), ('slice_index', '<i4'), ('start_index', '<i4')])"
     },
     "execution_count": 17,
     "metadata": {},
     "output_type": "execute_result"
    }
   ],
   "source": [
    "index_train[unlabeled_idxs]"
   ],
   "metadata": {
    "collapsed": false,
    "ExecuteTime": {
     "start_time": "2024-01-24T13:19:28.240060Z",
     "end_time": "2024-01-24T13:19:28.632465Z"
    }
   }
  },
  {
   "cell_type": "code",
   "execution_count": 21,
   "outputs": [],
   "source": [
    "unique_episodes, unique_episodes_counts = np.unique(index_train[unlabeled_idxs]['episode_index'], return_counts=True)"
   ],
   "metadata": {
    "collapsed": false,
    "ExecuteTime": {
     "start_time": "2024-01-24T13:20:33.456769Z",
     "end_time": "2024-01-24T13:20:34.703301Z"
    }
   }
  },
  {
   "cell_type": "code",
   "execution_count": 22,
   "outputs": [
    {
     "name": "stdout",
     "output_type": "stream",
     "text": [
      "Elapsed time:  3.05195380000805\n"
     ]
    }
   ],
   "source": [
    "import time\n",
    "\n",
    "uncertainties = probs.max(1)[0]\n",
    "orders = torch.sort(uncertainties,stable = True)[1]\n",
    "ranks = torch.argsort(orders)\n",
    "start_time = time.perf_counter()\n",
    "\n",
    "rank_list = [ranks[index_train[unlabeled_idxs]['episode_index'] == epi_ind]for epi_ind in unique_episodes]\n",
    "end_time = time.perf_counter()\n",
    "\n",
    "elapsed_time = end_time - start_time\n",
    "print(\"Elapsed time: \", elapsed_time)"
   ],
   "metadata": {
    "collapsed": false,
    "ExecuteTime": {
     "start_time": "2024-01-24T13:20:34.705298Z",
     "end_time": "2024-01-24T13:20:38.095459Z"
    }
   }
  },
  {
   "cell_type": "code",
   "execution_count": 23,
   "outputs": [],
   "source": [
    "first_n = 5000\n",
    "from copy import deepcopy\n",
    "emission_table = []\n",
    "rank_list_copy = deepcopy(rank_list)\n",
    "emission_table = [torch.where(rl < first_n, 0.85, 0.15) for rl in rank_list_copy]\n",
    "rank_list_copy = deepcopy(rank_list)\n",
    "active_rank_list = [torch.where(rl < first_n, 1, 0) for rl in rank_list_copy]\n",
    "ordered_rank_list = []\n",
    "rank_list_copy = deepcopy(rank_list)\n",
    "active_rank_list = [torch.where(rl < first_n, rl, 0) for rl in rank_list_copy]"
   ],
   "metadata": {
    "collapsed": false,
    "ExecuteTime": {
     "start_time": "2024-01-24T13:20:38.097504Z",
     "end_time": "2024-01-24T13:20:38.517220Z"
    }
   }
  },
  {
   "cell_type": "code",
   "execution_count": 34,
   "outputs": [
    {
     "data": {
      "text/plain": "tensor([ 866,  820,  107,  339,  654,  395,  833,  407,  158,  122,  364,  741,\n         167,  382,   12,  363,  799,  360,  304,  359,  343,  387,  956,  838,\n         345,  126,  162,  789,  720,  168,   34,  624,  223,  369,  491,   22,\n         490,  926,  414,  904,  787,    1,  119,  296,    3,   96,  769,  816,\n         412,  396,  665,  217,  973,  934,  328,  770,  264,  410,  790,  664,\n         262,   40,  607,  850,   51,  771,  511,  795,  831,  922,  828,    0,\n         150,  468,  842,  219,  498,  136,  792,  885,  367,  228,  557,  449,\n         878,  178,  314,  946,  967,  752,  921,  205,  586,  915,  415,   80,\n         517,  212,  569,  313,   83,   36,  151,  311,  893,  527,  729,  202,\n         626,  848,  406,  465,  994,  213,  951,  867,  577,   89,  435,   71,\n          75,   15,  639,   43,  907,  454,  445,  444,  349,  287,  604,  398,\n         821,   47,  943,  199,  279,  225,  473,  611,  616,  270,  553,   52,\n         470,  222,   11,  901,  909,  810,  644,  409,   31,  750,  431,  911,\n         372,  441,  753,  555,  277,  602,  938,  992,  642,  523,  436,  457,\n         532,  649,  316,  755,  499,  995,  629,  317,  148,  346,  188,  737,\n         751,  863,   90,  633,  676,  793,  440,  924,  812,  286,  923,  673,\n         489,  309,  844,  668,  320,  243,  102,  303,   50,  291,  478,  236,\n         589,  348,  686,   10,  706,  745,  239,  614,  983,  829,  408,  684,\n         997,  912,   76,  112,  429,  638,  376,  391,  187,  711,  252,   98,\n         839,  546,  514,  718,  451,  161,  622,  660,  508,  655,  450,  131,\n         352,  989,   99,  824,    9,  486,  315,  525,  141,   42,  332,  526,\n         681,  662,  853,  469,  132,  759,  698,  453,  380,  535,  402,  545,\n         763,   29,  114,  181,  708,  724,  479,  674,  544,  377,  757,  179,\n         458,  583,  246,  814,  503,  804,  461,  497,  298,  897,  182,  974,\n         742, 1001,  782,  446,  558,  336,   97,  506,  723,  585,  778,  733,\n         434,  932,  559,  652,  221,  962,  195,  519,  691,  948,  702,  319,\n         293,  416,  292,  615,  267,   59,  487,  552,  153,  456,  646,  520,\n         442,  428,  280,  171,  115,  482,  327,  504,  965,  917,  717,  578,\n         138,  743,  653,   58,   38,  448,  964,  845,  501,  389,  477,   18,\n         183,  423,  329,  953,  823,  635,  937,  347,  588,  564,  949,  645,\n         719,   24,  308,  500,  576,  341,  325,  591,  103,  401,  651,  560,\n         773,  301,  947,   17,  647, 1002,  231,  933,  518,  536,  522,  509,\n          93,  658,  547,  235,  160,  714,  971,  105,  326,  944,  699,  841,\n         781,  865,  467,  732,  727,  648,  817,  960,  370,  492,  679,  991,\n         554,  600,  123,  688,  108,  430,  422,  247,  254,   26,    4,   94,\n          73,  979,  340,  562,  657,  455,  496,  310,  238,  275,  976,  521,\n         996,  248,   39,  725,  334,  567,   87,  985,  420,  256,  350,  659,\n         140,  570,  333,  747,  507,  683,  895,  208,  625,  972,  530,  548,\n          28,  237,  273,  230,  998,  268,  118,  300,  220,  988,   25,  677,\n         177,  452,  734,  650,  786,  419,  322,  515,  620,   45,   68,  970,\n         371,  889,  945,  631,  746,  531,  641,    7,  374,  133,  982,  335,\n         324,  656,  476,  488,  801,  599,  920,  288,   67,  595,  368,  302,\n         672,  634,  627,  111,   13,  338,  618,  661,  284,   81,  110,  196,\n         692,  735,  788,  472,  700,   53,  785,  121,  754,   70,  459,  147,\n         137,  229,   35,  966,  185,   32,  736,  542,  538,  959,  249,  203,\n         510,  612,   64,  669,  791,  282,  572,  355,  617,  883,  935,  537,\n         516,  685,  251,  906,  425,   27,  351,  318,  539,  780,  101,  818,\n         925,  993,  703,  744, 1000,  294,  619,  154,  571,  977,  563,  232,\n         894,   57,  550,  808,  253,   61,  134,  721,  899,  881,  257,  240,\n         819,  443,  940,  667,  265,  666,  565,  142,  930,   37,  331,  144,\n         528,  927,  432,  969,  766,  474,  480,  373,  540,  337,  263,  890,\n         663,  250,  365,  471,  756,  859,    6,  675,  610,  916,  386,  696,\n         643,  739,  767,  165,  438,  809,  873,  587,  608,  712,   56,  980,\n         961,  593,  954,  903,  779,  464,  299,  146,  433,  283,  116,  748,\n         505,  687,  447,  832,  918,  900,  847,  321,  835,  854,  975,  952,\n         242,  621,  534,  730,   62,  353,  722,  437,  978,  533,  936,    5,\n         957,  713,  384,  295,  707,  529,  421,  758,  566,  330,  494,  826,\n         716,  671,   54,  913,  174,  342,  106,  984,  990,  190,  636,  426,\n         224,  424,  704,  524,   65,  357,   23,  125,    8,  598,   85,  128,\n         485,  427,  481,  963,  366,   44,  152,   74,  939,  543,  272,  245,\n         834,  999,  381,  981,  740,  568,  628,  439,  605,  143,  307,   46,\n         512,  411,  117,  176,  200,  783,  460,  726,  362,  104,  484,  705,\n         987,  908,  393,  483,  798,   82,  312,  495,  868,  463,  764,  156,\n         892,  269,  601,  244,   41,   69,  637,  968,   49,  197,  775,  887,\n         761,  682,   66,   60,  297,  255,  241,  266,  561,  955,  129,  870,\n         306,  139,   33,  259,  169,  760,  613,  390,  836,  541,  840,  590,\n         582,  493,  882,   63,  862,  323,  260,  172,  502,  827,  234,  574,\n         689,  399,  777,  898,  405,  986,  135,  289,  100,  383,  513,  884,\n         354,    2,  858,   88,  765,  749,  271,  891,  851,  164,  888,   48,\n         305,   79,  549,  356,  919,  379,  584,   77,  774,  109,  931,  768,\n         385,  896,  958,  462,  261,   30,  551,  191,   72,  941,  942,  580,\n          86,  581,  274,  914,  120,  155,  640,  772,  211,  815,  606,  609,\n         869,  690,  680,   55,  207,  573,  905,  466,  693,  738,  157,  361,\n         344,  378,  233,   14,  210,   21,   91,  556,  852,  163,  670,  194,\n         871,  697,  206,  579,  404,  124,  358,  475,  860,  802,  630,  800,\n         709,  910,  837,  173])"
     },
     "execution_count": 34,
     "metadata": {},
     "output_type": "execute_result"
    }
   ],
   "source": [
    "avg_rank = torch.sort(torch.tensor([torch.sum(rl)/(torch.count_nonzero(rl)+1e-6) for rl in active_rank_list]))\n",
    "episode_rank = avg_rank[1][avg_rank[0]>0]"
   ],
   "metadata": {
    "collapsed": false,
    "ExecuteTime": {
     "start_time": "2024-01-24T13:25:16.658209Z",
     "end_time": "2024-01-24T13:25:17.020463Z"
    }
   }
  },
  {
   "cell_type": "code",
   "execution_count": 40,
   "outputs": [
    {
     "data": {
      "text/plain": "tensor([  0,   0,   0,   0,   0,   0,   0,   0,   0,   0,   0,   0,   0,   0,\n          0,   0,   0,   0,   0,   0,   0,   0,   0,   0,   0,   0,   0,   0,\n          0,   0,   0,   0,   0,   0,   0,   0,   0,   0,   0,   0,   0,   0,\n          0,   0,   0,   0,   0,   0,   0,   0,   0,   0,   0,   0,   0,   0,\n          0,   0,   0, 102])"
     },
     "execution_count": 40,
     "metadata": {},
     "output_type": "execute_result"
    }
   ],
   "source": [
    "active_rank_list[395]"
   ],
   "metadata": {
    "collapsed": false,
    "ExecuteTime": {
     "start_time": "2024-01-24T13:25:48.967333Z",
     "end_time": "2024-01-24T13:25:49.282073Z"
    }
   }
  },
  {
   "cell_type": "code",
   "execution_count": 184,
   "outputs": [],
   "source": [
    "s = []\n",
    "for ls in active_rank_list:\n",
    "    s.append(torch.sum(ls))"
   ],
   "metadata": {
    "collapsed": false,
    "ExecuteTime": {
     "start_time": "2024-01-24T11:11:05.519843Z",
     "end_time": "2024-01-24T11:11:05.842013Z"
    }
   }
  },
  {
   "cell_type": "code",
   "execution_count": 185,
   "outputs": [
    {
     "data": {
      "text/plain": "torch.return_types.sort(\nvalues=tensor([25, 24, 24,  ...,  0,  0,  0]),\nindices=tensor([ 648,  537,  535,  ...,  388,  290, 1003]))"
     },
     "execution_count": 185,
     "metadata": {},
     "output_type": "execute_result"
    }
   ],
   "source": [
    "torch.sort(torch.tensor(s),descending =True)"
   ],
   "metadata": {
    "collapsed": false,
    "ExecuteTime": {
     "start_time": "2024-01-24T11:11:09.945738Z",
     "end_time": "2024-01-24T11:11:10.268179Z"
    }
   }
  },
  {
   "cell_type": "code",
   "execution_count": 147,
   "outputs": [
    {
     "data": {
      "text/plain": "tensor([1, 0, 0, 1, 0, 0, 0, 0, 0, 0, 0, 0, 0, 0, 0, 0, 0, 1, 0, 0, 1, 1, 0, 0,\n        1, 1, 1, 0, 0, 0, 0, 1, 1, 1, 0, 0, 0, 0, 1, 0, 0, 1, 0, 0, 0, 0, 1, 0,\n        0, 0, 0, 0, 1, 0, 1, 0, 0, 0, 0, 0, 1, 0, 1, 0, 0, 1, 0, 0, 0, 0, 0, 0,\n        0, 0, 0, 0, 0, 0, 0, 0, 0, 0, 0, 1, 1, 0, 1, 1, 1, 0])"
     },
     "execution_count": 147,
     "metadata": {},
     "output_type": "execute_result"
    }
   ],
   "source": [
    "l[torch.argsort(torch.tensor(s),descending =True)[2]]"
   ],
   "metadata": {
    "collapsed": false
   }
  },
  {
   "cell_type": "code",
   "execution_count": 186,
   "outputs": [
    {
     "data": {
      "text/plain": "array([0.69920319, 0.30079681])"
     },
     "execution_count": 186,
     "metadata": {},
     "output_type": "execute_result"
    }
   ],
   "source": [
    "from models.HMM import HMM\n",
    "\n",
    "hmm = HMM(active_rank_list)\n"
   ],
   "metadata": {
    "collapsed": false,
    "ExecuteTime": {
     "start_time": "2024-01-24T11:13:19.385073Z",
     "end_time": "2024-01-24T11:13:20.257784Z"
    }
   }
  },
  {
   "cell_type": "code",
   "execution_count": 198,
   "outputs": [
    {
     "name": "stdout",
     "output_type": "stream",
     "text": [
      "Elapsed time:  1.3014186000073096\n"
     ]
    }
   ],
   "source": [
    "start_time = time.perf_counter()\n",
    "filtered_list = []\n",
    "for i in range(len(active_rank_list)):\n",
    "    emission_mat_1 = emission_table[i]\n",
    "    emission_mat_0 = 1-emission_mat_1\n",
    "    emission_mat = torch.vstack([emission_mat_1,emission_mat_0]).T\n",
    "    predicted_label = 1 - hmm.predict_labels(active_rank_list[i].numpy(), emission_mat.numpy())\n",
    "    filtered_list.append(predicted_label)\n",
    "end_time = time.perf_counter()\n",
    "elapsed_time = end_time - start_time\n",
    "print(\"Elapsed time: \", elapsed_time)"
   ],
   "metadata": {
    "collapsed": false,
    "ExecuteTime": {
     "start_time": "2024-01-24T11:19:16.551710Z",
     "end_time": "2024-01-24T11:19:18.158516Z"
    }
   }
  },
  {
   "cell_type": "code",
   "execution_count": 244,
   "outputs": [],
   "source": [
    "def filter_continuous_positive(array, length_m):\n",
    "\n",
    "    # Find the indices where 1s start and end\n",
    "    start_indices = np.where(np.diff(array) == 1)[0] + 1\n",
    "    end_indices = np.where(np.diff(array) == -1)[0]\n",
    "\n",
    "    if array[0] == 1:\n",
    "        start_indices = np.insert(start_indices, 0, 0)\n",
    "    if array[-1] == 1:\n",
    "        end_indices = np.append(end_indices, len(array) - 1)\n",
    "\n",
    "    lengths = end_indices - start_indices + 1\n",
    "\n",
    "    filtered_indices = start_indices[lengths > length_m]\n",
    "    filtered_lengths = lengths[lengths>length_m]\n",
    "\n",
    "    result_array = np.zeros_like(array)\n",
    "    for start_idx,length in zip(filtered_indices,filtered_lengths):\n",
    "        result_array[start_idx:start_idx + length] = 1\n",
    "\n",
    "    return result_array"
   ],
   "metadata": {
    "collapsed": false,
    "ExecuteTime": {
     "start_time": "2024-01-24T13:05:19.458609Z",
     "end_time": "2024-01-24T13:05:19.949917Z"
    }
   }
  },
  {
   "cell_type": "code",
   "execution_count": 245,
   "outputs": [
    {
     "name": "stdout",
     "output_type": "stream",
     "text": [
      "Elapsed time:  0.029054699989501387\n"
     ]
    }
   ],
   "source": [
    "\n",
    "start_time = time.perf_counter()\n",
    "filtered_filtered_list = [filter_continuous_positive(arr,9) for arr in filtered_list]\n",
    "end_time = time.perf_counter()\n",
    "elapsed_time = end_time - start_time\n",
    "print(\"Elapsed time: \", elapsed_time)"
   ],
   "metadata": {
    "collapsed": false,
    "ExecuteTime": {
     "start_time": "2024-01-24T13:05:21.250307Z",
     "end_time": "2024-01-24T13:05:21.610353Z"
    }
   }
  },
  {
   "cell_type": "code",
   "execution_count": 246,
   "outputs": [
    {
     "data": {
      "text/plain": "2161"
     },
     "execution_count": 246,
     "metadata": {},
     "output_type": "execute_result"
    }
   ],
   "source": [
    "sum([np.sum(arr) for arr in filtered_filtered_list])"
   ],
   "metadata": {
    "collapsed": false,
    "ExecuteTime": {
     "start_time": "2024-01-24T13:05:22.540992Z",
     "end_time": "2024-01-24T13:05:22.986399Z"
    }
   }
  },
  {
   "cell_type": "code",
   "execution_count": 247,
   "outputs": [
    {
     "data": {
      "text/plain": "(85336,)"
     },
     "execution_count": 247,
     "metadata": {},
     "output_type": "execute_result"
    }
   ],
   "source": [
    "np.hstack(filtered_filtered_list).shape"
   ],
   "metadata": {
    "collapsed": false,
    "ExecuteTime": {
     "start_time": "2024-01-24T13:05:24.026258Z",
     "end_time": "2024-01-24T13:05:24.369213Z"
    }
   }
  },
  {
   "cell_type": "code",
   "execution_count": null,
   "metadata": {
    "ExecuteTime": {
     "start_time": "2023-11-10T15:41:49.731496Z",
     "end_time": "2023-11-11T01:20:27.124530Z"
    }
   },
   "outputs": [],
   "source": [
    "for rd in range(1, NUM_ROUND +1):\n",
    "    print('round ' + str(rd))\n",
    "    q_idxs = strategy.query(NUM_QUERY)\n",
    "    strategy.update(q_idxs)\n",
    "    strategy.net.round = rd\n",
    "    strategy.net.net.load_state_dict(modelstate)\n",
    "    strategy.train()"
   ]
  }
 ],
 "metadata": {
  "kernelspec": {
   "display_name": "Python 3 (ipykernel)",
   "language": "python",
   "name": "python3"
  },
  "language_info": {
   "codemirror_mode": {
    "name": "ipython",
    "version": 3
   },
   "file_extension": ".py",
   "mimetype": "text/x-python",
   "name": "python",
   "nbconvert_exporter": "python",
   "pygments_lexer": "ipython3",
   "version": "3.8.8"
  }
 },
 "nbformat": 4,
 "nbformat_minor": 1
}
