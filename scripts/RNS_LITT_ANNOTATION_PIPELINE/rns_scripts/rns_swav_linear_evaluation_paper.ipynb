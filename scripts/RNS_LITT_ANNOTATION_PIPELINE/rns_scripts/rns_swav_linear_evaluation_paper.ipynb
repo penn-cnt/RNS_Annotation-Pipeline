{
 "cells": [
  {
   "cell_type": "code",
   "metadata": {
    "ExecuteTime": {
     "end_time": "2024-04-24T21:33:38.728187Z",
     "start_time": "2024-04-24T21:33:38.012185Z"
    }
   },
   "source": [
    "%load_ext autoreload\n",
    "%autoreload 2\n",
    "%matplotlib widget"
   ],
   "outputs": [],
   "execution_count": 1
  },
  {
   "cell_type": "code",
   "metadata": {
    "ExecuteTime": {
     "end_time": "2024-04-24T21:33:49.616771Z",
     "start_time": "2024-04-24T21:33:38.729188Z"
    }
   },
   "source": [
    "import sys\n",
    "import os\n",
    "\n",
    "sys.path.append('../tools')\n",
    "import h5py\n",
    "import pandas as pd\n",
    "import numpy as np\n",
    "import tensorflow as tf\n",
    "import matplotlib.pyplot as plt\n",
    "from sklearn.manifold import TSNE\n",
    "\n",
    "from torch.utils.data import DataLoader\n",
    "from torch.utils.data import Dataset\n",
    "import torch\n",
    "from tqdm import tqdm\n",
    "import sklearn\n",
    "import random\n",
    "\n",
    "import torchvision.transforms as T\n",
    "import pytorch_lightning as pl\n",
    "import pytorch_lightning.loggers as pl_loggers\n",
    "import pytorch_lightning.callbacks as pl_callbacks\n",
    "from models.rns_dataloader import get_data, get_data_by_episode\n",
    "\n",
    "import data_utility\n",
    "import annotation_utility\n",
    "import interactive_plot\n",
    "\n",
    "import warnings\n",
    "\n",
    "warnings.filterwarnings(\"ignore\", \".*Consider increasing the value of the `num_workers` argument*\")\n",
    "warnings.filterwarnings(\"ignore\", \".*Set a lower value for log_every_n_steps if you want to see logs for the training epoch*\")\n",
    "warnings.filterwarnings(\"ignore\", \".*exists and is not empty*\")\n",
    "warnings.filterwarnings(\"ignore\", \".*Checkpoint directory {dirpath} exists and is not empty*\")\n"
   ],
   "outputs": [],
   "execution_count": 2
  },
  {
   "cell_type": "code",
   "metadata": {
    "ExecuteTime": {
     "end_time": "2024-04-24T21:33:50.141772Z",
     "start_time": "2024-04-24T21:33:49.617773Z"
    }
   },
   "source": [
    "data_dir = \"../../../user_data/\"\n",
    "log_folder_root = '../../../user_data/logs/'\n",
    "ckpt_folder_root = '../../../user_data/checkpoints/'\n",
    "\n",
    "random_seed = 42\n",
    "random.seed(random_seed)\n",
    "torch.manual_seed(random_seed)\n",
    "np.random.seed(random_seed)\n",
    "\n",
    "if torch.cuda.is_available():\n",
    "    torch.cuda.manual_seed(random_seed)\n",
    "    # True ensures the algorithm selected by CUFA is deterministic\n",
    "    torch.backends.cudnn.deterministic = True\n",
    "    # torch.set_deterministic(True)\n",
    "    # False ensures CUDA select the same algorithm each time the application is run\n",
    "    torch.backends.cudnn.benchmark = False\n",
    "\n",
    "import pytorch_lightning\n",
    "\n",
    "pytorch_lightning.utilities.seed.seed_everything(seed=random_seed, workers=True)"
   ],
   "outputs": [
    {
     "name": "stderr",
     "output_type": "stream",
     "text": [
      "Global seed set to 42\n"
     ]
    },
    {
     "data": {
      "text/plain": "42"
     },
     "execution_count": 3,
     "metadata": {},
     "output_type": "execute_result"
    }
   ],
   "execution_count": 3
  },
  {
   "cell_type": "code",
   "metadata": {
    "ExecuteTime": {
     "end_time": "2024-04-24T21:33:50.861772Z",
     "start_time": "2024-04-24T21:33:50.142773Z"
    }
   },
   "source": [
    "from models.rns_dataloader import RNS_Downstream\n",
    "from models.SwaV import SwaV"
   ],
   "outputs": [],
   "execution_count": 4
  },
  {
   "cell_type": "code",
   "metadata": {
    "ExecuteTime": {
     "end_time": "2024-04-24T21:33:51.379771Z",
     "start_time": "2024-04-24T21:33:50.862773Z"
    }
   },
   "source": [
    "import torch\n",
    "import torchvision\n",
    "from torch import nn\n",
    "\n",
    "from lightly.data import LightlyDataset, SwaVCollateFunction\n",
    "from lightly.loss import SwaVLoss\n",
    "from lightly.loss.memory_bank import MemoryBankModule\n",
    "from lightly.models.modules import SwaVProjectionHead, SwaVPrototypes\n"
   ],
   "outputs": [],
   "execution_count": 5
  },
  {
   "cell_type": "code",
   "metadata": {
    "ExecuteTime": {
     "end_time": "2024-04-24T21:33:51.890773Z",
     "start_time": "2024-04-24T21:33:51.380811Z"
    }
   },
   "source": [
    "def collate_fn(batch):\n",
    "    info = list(zip(*batch))\n",
    "    data = info[0]\n",
    "    label = info[1]\n",
    "    return torch.stack(data), torch.stack(label)"
   ],
   "outputs": [],
   "execution_count": 6
  },
  {
   "cell_type": "code",
   "metadata": {
    "ExecuteTime": {
     "end_time": "2024-04-24T21:34:13.262234Z",
     "start_time": "2024-04-24T21:33:51.891773Z"
    }
   },
   "source": [
    "data_list = os.listdir(data_dir+'rns_test_cache')[1:]\n",
    "\n",
    "# data_list = ['HUP182.npy',   'HUP129.npy',   'HUP109.npy', 'HUP156.npy', 'HUP096.npy', 'RNS026.npy',  'HUP159.npy']\n",
    "# data_list = ['RNS026.npy', 'HUP159.npy', 'HUP129.npy', 'HUP096.npy', 'HUP182.npy']\n",
    "train_data, train_label, test_data, test_label, train_index, test_index = get_data(data_list, split=0.8)\n",
    "# data, label,_,_ = get_data(data_list, split=1)\n",
    "# train_data, test_data, train_label, test_label = sklearn.model_selection.train_test_split(data, label, test_size=0.8, random_state=42)\n",
    "\n",
    "print(train_data.shape)\n",
    "print(train_label.shape)\n",
    "print(train_index.shape)\n",
    "print(test_data.shape)\n",
    "print(test_label.shape)\n",
    "print(test_index.shape)"
   ],
   "outputs": [
    {
     "name": "stderr",
     "output_type": "stream",
     "text": [
      "100%|██████████| 16/16 [00:20<00:00,  1.27s/it]\n"
     ]
    },
    {
     "name": "stdout",
     "output_type": "stream",
     "text": [
      "(87319, 249, 36)\n",
      "(87319,)\n",
      "(87319,)\n",
      "(21837, 249, 36)\n",
      "(21837,)\n",
      "(21837,)\n"
     ]
    }
   ],
   "execution_count": 7
  },
  {
   "cell_type": "code",
   "outputs": [
    {
     "data": {
      "text/plain": "array([(b'HUP047', 1182, 53, 54701251), (b'HUP047', 1182, 54, 54701251),\n       (b'HUP047', 1182, 55, 54701251), ...,\n       (b'RNS029', 3829, 87, 77406407), (b'RNS029', 3829, 88, 77406407),\n       (b'RNS029', 3829, 89, 77406407)],\n      dtype=[('patient_index', 'S10'), ('episode_index', '<i4'), ('slice_index', '<i4'), ('start_index', '<i4')])"
     },
     "execution_count": 8,
     "metadata": {},
     "output_type": "execute_result"
    }
   ],
   "source": [
    "test_index"
   ],
   "metadata": {
    "collapsed": false,
    "ExecuteTime": {
     "end_time": "2024-04-24T21:34:13.800232Z",
     "start_time": "2024-04-24T21:34:13.263233Z"
    }
   },
   "execution_count": 8
  },
  {
   "cell_type": "code",
   "source": [
    "import torch.nn.functional as F\n",
    "from torch import nn\n",
    "import torch\n",
    "import sklearn\n",
    "from sigmoid_loss import sigmoid_focal_loss\n",
    "\n",
    "class LinearHead(pl.LightningModule):\n",
    "    def __init__(self, backbone,):\n",
    "        super().__init__()\n",
    "        self.backbone = backbone\n",
    "        self.fc1 = nn.Linear(2048, 2)\n",
    "        self.softmax = nn.Softmax(dim=1)\n",
    "        self.alpha = 0\n",
    "        self.gamma = 5\n",
    "\n",
    "    def training_step(self, batch, batch_idx):\n",
    "        x, y = batch\n",
    "        # self.set_requires_grad(self.backbone, False)\n",
    "        x = self.backbone(x)\n",
    "        x = x.view(-1, 2048)\n",
    "        pred = self.fc1(x)\n",
    "        pred = self.softmax(pred)\n",
    "        label = F.one_hot(y, num_classes=2).squeeze()\n",
    "        loss = sigmoid_focal_loss(pred.float(), label.float(), alpha=self.alpha, gamma=self.gamma, reduction='mean')\n",
    "        # Logging to TensorBoard (if installed) by default\n",
    "        self.log(\"train_loss\", loss)\n",
    "        return loss\n",
    "\n",
    "    def validation_step(self, batch, batch_idx):\n",
    "        x, y = batch\n",
    "        x = self.backbone(x)\n",
    "        x = x.view(-1, 2048)\n",
    "        pred = self.fc1(x)\n",
    "        pred = self.softmax(pred)\n",
    "        label = F.one_hot(y, num_classes=2).squeeze()\n",
    "        loss = sigmoid_focal_loss(pred.float(), label.float(), alpha=self.alpha, gamma=self.gamma, reduction='mean')\n",
    "        out = torch.argmax(pred, dim=1)\n",
    "        # print(out.size)\n",
    "        out = out.detach().cpu().numpy()\n",
    "        target = y.squeeze().detach().cpu().numpy()\n",
    "        fscore = sklearn.metrics.f1_score(out, target,labels = [0,1],zero_division=0)\n",
    "        acc = sklearn.metrics.accuracy_score(out, target)\n",
    "        # print(acc)\n",
    "        # print(precision)\n",
    "        # print(recall)\n",
    "        # print(fscore)\n",
    "        # Logging to TensorBoard (if installed) by default\n",
    "        self.log(\"val_loss\", loss,prog_bar=False)\n",
    "        self.log(\"val_acc\", acc,prog_bar=False)\n",
    "        self.log(\"val_fscore\", fscore,prog_bar=False)\n",
    "        return pred, label\n",
    "\n",
    "    def predict_step(self, batch, batch_idx):\n",
    "        # print(batch)\n",
    "        x, y = batch\n",
    "        emb = self.backbone(x)\n",
    "        emb = emb.view(-1, 2048)\n",
    "        pred = self.fc1(emb)\n",
    "        # Logging to TensorBoard (if installed) by default\n",
    "        return pred, y, emb\n",
    "\n",
    "    def configure_optimizers(self):\n",
    "        optimizer = torch.optim.Adam(self.parameters(), lr=1e-3)\n",
    "        return optimizer\n",
    "\n",
    "    def set_requires_grad(self, model, requires_grad=True, exclude = None):\n",
    "        \"\"\"\n",
    "        Used in training adversarial approach\n",
    "        :param model:\n",
    "        :param requires_grad:\n",
    "        :return:\n",
    "        \"\"\"\n",
    "        for param in model.parameters():\n",
    "            param.requires_grad = requires_grad\n",
    "\n",
    "        if exclude is not None:\n",
    "            for name, child in model.named_children():\n",
    "                if name in exclude:\n",
    "                    for param in child.parameters():\n",
    "                        param.requires_grad =not requires_grad"
   ],
   "metadata": {
    "collapsed": false,
    "ExecuteTime": {
     "end_time": "2024-04-24T21:34:14.351233Z",
     "start_time": "2024-04-24T21:34:13.801233Z"
    }
   },
   "outputs": [],
   "execution_count": 9
  },
  {
   "cell_type": "code",
   "metadata": {
    "ExecuteTime": {
     "end_time": "2024-04-24T21:34:15.248233Z",
     "start_time": "2024-04-24T21:34:14.353236Z"
    }
   },
   "source": [
    "linear_eval = 'supervised'\n",
    "\n",
    "# # ckpt = torch.load(\"rns_ckpt/checkpoint31.pth\")\n",
    "# resnet = torchvision.models.resnet50(weights=\"IMAGENET1K_V1\")\n",
    "# backbone = nn.Sequential(*list(resnet.children())[:-1])\n",
    "# swav = SwaV(backbone)\n",
    "# # swav.load_state_dict(ckpt['model_state_dict'])\n",
    "# model = SupervisedDownstream(backbone, 1)\n",
    "\n",
    "swav = SwaV()\n",
    "model = LinearHead(swav.backbone)\n",
    "\n",
    "device = \"cuda\" if torch.cuda.is_available() else \"cpu\"\n",
    "model.to(device)\n",
    "ckpt_save_n_step = 500\n",
    "\n",
    "checkpoint_callback = pl_callbacks.ModelCheckpoint(monitor='train_loss',\n",
    "                                                   filename= linear_eval + '-{step}-{train_loss:.5f}',\n",
    "                                                   dirpath=ckpt_folder_root + 'rns_linear_eval/' + linear_eval + '/',\n",
    "                                                   save_top_k=-1,\n",
    "                                                   every_n_train_steps=ckpt_save_n_step,\n",
    "                                                   save_on_train_epoch_end=False)\n",
    "\n",
    "early_stop_callback = pl_callbacks.EarlyStopping(monitor=\"val_fscore\",\n",
    "                                                 patience=10,\n",
    "                                                 verbose=False,\n",
    "                                                 mode=\"max\")\n",
    "\n",
    "csv_logger = pl_loggers.CSVLogger(ckpt_folder_root + 'rns_linear_eval/' + linear_eval + '/',\n",
    "                                  name='logger')\n",
    "\n",
    "trainer = pl.Trainer(logger=csv_logger,\n",
    "                     max_epochs=100,\n",
    "                     callbacks=[checkpoint_callback, early_stop_callback],\n",
    "                     # callbacks=[checkpoint_callback],\n",
    "                     accelerator='gpu',\n",
    "                     devices=1,\n",
    "                     log_every_n_steps=50,\n",
    "                     precision=16,\n",
    "                     check_val_every_n_epoch=None,\n",
    "                     val_check_interval=ckpt_save_n_step,\n",
    "                     enable_model_summary=False,\n",
    "                     )"
   ],
   "outputs": [
    {
     "name": "stderr",
     "output_type": "stream",
     "text": [
      "Using 16bit native Automatic Mixed Precision (AMP)\n",
      "GPU available: True (cuda), used: True\n",
      "TPU available: False, using: 0 TPU cores\n",
      "IPU available: False, using: 0 IPUs\n",
      "HPU available: False, using: 0 HPUs\n"
     ]
    }
   ],
   "execution_count": 10
  },
  {
   "cell_type": "code",
   "metadata": {
    "ExecuteTime": {
     "end_time": "2024-04-24T21:34:15.784232Z",
     "start_time": "2024-04-24T21:34:15.249233Z"
    }
   },
   "source": [
    "from models.rns_dataloader import RNS_Downstream\n",
    "train_dataset = RNS_Downstream(train_data, train_label, transform=True, astensor=True)\n",
    "test_dataset = RNS_Downstream(test_data, test_label, transform=False, astensor=True)\n",
    "\n",
    "train_dataloader = torch.utils.data.DataLoader(\n",
    "    train_dataset,\n",
    "    batch_size=64,\n",
    "    collate_fn=collate_fn,\n",
    "    shuffle=True,\n",
    "    drop_last=True,\n",
    ")\n",
    "\n",
    "val_dataloader = torch.utils.data.DataLoader(\n",
    "    test_dataset,\n",
    "    batch_size=256,\n",
    "    collate_fn=collate_fn,\n",
    "    shuffle=False,\n",
    "    drop_last=True,\n",
    ")\n",
    "\n",
    "# trainer.fit(model, train_dataloader, val_dataloader)"
   ],
   "outputs": [
    {
     "name": "stdout",
     "output_type": "stream",
     "text": [
      "data loaded\n",
      "(87319, 249, 36)\n",
      "(87319,)\n",
      "data loaded\n",
      "(21837, 249, 36)\n",
      "(21837,)\n"
     ]
    }
   ],
   "execution_count": 11
  },
  {
   "cell_type": "code",
   "execution_count": 12,
   "metadata": {
    "ExecuteTime": {
     "end_time": "2024-04-24T21:34:16.299234Z",
     "start_time": "2024-04-24T21:34:15.785234Z"
    }
   },
   "outputs": [
    {
     "name": "stdout",
     "output_type": "stream",
     "text": [
      "data loaded\n",
      "(21837, 249, 36)\n",
      "(21837,)\n"
     ]
    }
   ],
   "source": [
    "test_dataset = RNS_Downstream(test_data, test_label, transform=False, astensor=True)\n",
    "val_dataloader = torch.utils.data.DataLoader(\n",
    "    test_dataset,\n",
    "    batch_size=256,\n",
    "    collate_fn=collate_fn,\n",
    "    shuffle=False,\n",
    "    drop_last=True,\n",
    ")"
   ]
  },
  {
   "cell_type": "code",
   "metadata": {
    "ExecuteTime": {
     "end_time": "2024-04-24T21:58:37.869325Z",
     "start_time": "2024-04-24T21:58:02.613884Z"
    }
   },
   "source": [
    "predictions = trainer.predict(model,val_dataloader,ckpt_path=ckpt_folder_root+ 'rns_linear_eval/p=1/p=1-step=5550-train_loss=0.01641.ckpt')"
   ],
   "outputs": [
    {
     "name": "stderr",
     "output_type": "stream",
     "text": [
      "Restoring states from the checkpoint path at ../../../user_data/checkpoints/rns_linear_eval/p=1/p=1-step=5550-train_loss=0.01641.ckpt\n",
      "LOCAL_RANK: 0 - CUDA_VISIBLE_DEVICES: [0]\n",
      "Loaded model weights from checkpoint at ../../../user_data/checkpoints/rns_linear_eval/p=1/p=1-step=5550-train_loss=0.01641.ckpt\n"
     ]
    },
    {
     "data": {
      "text/plain": "Predicting: 0it [00:00, ?it/s]",
      "application/vnd.jupyter.widget-view+json": {
       "version_major": 2,
       "version_minor": 0,
       "model_id": "bc6c909f61dc4f1eaf9d2e1886fcd0f6"
      }
     },
     "metadata": {},
     "output_type": "display_data"
    }
   ],
   "execution_count": 33
  },
  {
   "cell_type": "code",
   "metadata": {
    "ExecuteTime": {
     "end_time": "2024-04-24T21:58:38.393326Z",
     "start_time": "2024-04-24T21:58:37.870325Z"
    }
   },
   "source": [
    "output_list = []\n",
    "target_list = []\n",
    "emb_list = []\n",
    "m = nn.Softmax(dim=1)\n",
    "for pred, y, emb in predictions:\n",
    "    output_list.append(pred)\n",
    "    target_list.append(y)\n",
    "    emb_list.append(emb)"
   ],
   "outputs": [],
   "execution_count": 34
  },
  {
   "cell_type": "code",
   "metadata": {
    "ExecuteTime": {
     "end_time": "2024-04-24T21:58:38.919327Z",
     "start_time": "2024-04-24T21:58:38.394327Z"
    }
   },
   "source": [
    "pred_raw = torch.vstack(output_list)\n",
    "target = torch.vstack(target_list)\n",
    "emb = torch.vstack(emb_list)\n",
    "out = torch.argmax(pred_raw, dim=1)"
   ],
   "outputs": [],
   "execution_count": 35
  },
  {
   "cell_type": "code",
   "outputs": [],
   "source": [
    "from sklearn.model_selection import KFold\n",
    "\n",
    "def get_accuracy_scores(pred_raw, target, out, espisode_out, episode_target):\n",
    "\n",
    "    kf = KFold(n_splits=100, shuffle=True, random_state=42)\n",
    "    accuracies = []\n",
    "    f1_scores = []\n",
    "    auc_scores = []\n",
    "    episode_acc = []\n",
    "    episode_f1s = []\n",
    "    for train_ind, test_ind in kf.split(out):\n",
    "        pred_split, target_split, pred_raw_split = out[test_ind],target[test_ind],m(pred_raw.float())[:,1][test_ind]\n",
    "        acc = sklearn.metrics.accuracy_score(pred_split, target_split)\n",
    "        f1_score = sklearn.metrics.f1_score(pred_split, target_split, pos_label=1, average='macro')\n",
    "        fpr, tpr, thresholds = sklearn.metrics.roc_curve(target_split, pred_raw_split, pos_label=1)\n",
    "        auc = sklearn.metrics.auc(fpr, tpr)\n",
    "        accuracies.append(acc)\n",
    "        f1_scores.append(f1_score)\n",
    "        auc_scores.append(auc)\n",
    "    kf = KFold(n_splits=10, shuffle=True, random_state=42)\n",
    "    for train_ind, test_ind in kf.split(espisode_out):\n",
    "        episode_pred_split, episode_target_split = espisode_out[test_ind], episode_target[test_ind]\n",
    "        episode_acc.append(sklearn.metrics.accuracy_score(episode_pred_split,episode_target_split))\n",
    "        episode_f1s.append(sklearn.metrics.f1_score(episode_pred_split,episode_target_split, pos_label=1, average='macro'))\n",
    "    return accuracies, f1_scores, auc_scores, episode_acc, episode_f1s"
   ],
   "metadata": {
    "collapsed": false,
    "ExecuteTime": {
     "end_time": "2024-04-24T21:58:39.463327Z",
     "start_time": "2024-04-24T21:58:38.920326Z"
    }
   },
   "execution_count": 36
  },
  {
   "cell_type": "code",
   "outputs": [],
   "source": [
    "split_ind = np.insert(np.where(np.diff(test_index['episode_index'])!=0)[0],0,-1)\n",
    "split_ind = np.insert(split_ind, split_ind.size, len(test_index))\n",
    "test_label_split = []\n",
    "pred_label_split = []\n",
    "for i in range(len(split_ind)-1):\n",
    "    start_ind = split_ind[i]\n",
    "    end_ind = split_ind[i+1]\n",
    "    test_label_split.append(target[start_ind+1:end_ind+1])\n",
    "    pred_label_split.append(out[start_ind+1:end_ind+1])\n",
    "episode_out = torch.tensor([np.sign(tl.sum()) for tl in pred_label_split])\n",
    "episode_target = torch.tensor([np.sign(tl.sum()) for tl in test_label_split])"
   ],
   "metadata": {
    "collapsed": false,
    "ExecuteTime": {
     "end_time": "2024-04-24T21:58:39.989325Z",
     "start_time": "2024-04-24T21:58:39.464325Z"
    }
   },
   "execution_count": 37
  },
  {
   "cell_type": "code",
   "outputs": [],
   "source": [
    "result = get_accuracy_scores(pred_raw, target, out, episode_out,episode_target )"
   ],
   "metadata": {
    "collapsed": false,
    "ExecuteTime": {
     "end_time": "2024-04-24T21:58:40.657324Z",
     "start_time": "2024-04-24T21:58:39.990325Z"
    }
   },
   "execution_count": 38
  },
  {
   "cell_type": "code",
   "outputs": [
    {
     "name": "stdout",
     "output_type": "stream",
     "text": [
      "0.9327 0.0157\n",
      "0.9209 0.0191\n",
      "0.9645 0.0138\n",
      "0.9123 0.0344\n",
      "0.9039 0.0405\n"
     ]
    }
   ],
   "source": [
    "for res in result:\n",
    "    print(np.around(np.mean(res),4), np.around(np.std(res),4))"
   ],
   "metadata": {
    "collapsed": false,
    "ExecuteTime": {
     "end_time": "2024-04-24T21:58:41.198325Z",
     "start_time": "2024-04-24T21:58:40.658325Z"
    }
   },
   "execution_count": 39
  },
  {
   "cell_type": "code",
   "metadata": {
    "ExecuteTime": {
     "end_time": "2024-04-24T21:02:25.315020Z",
     "start_time": "2024-04-24T21:02:24.652020Z"
    }
   },
   "source": [
    "sklearn.metrics.accuracy_score(torch.argmax(pred_raw, dim=1), target)"
   ],
   "outputs": [
    {
     "data": {
      "text/plain": "0.8933461556074552"
     },
     "execution_count": 29,
     "metadata": {},
     "output_type": "execute_result"
    }
   ],
   "execution_count": 29
  },
  {
   "cell_type": "code",
   "outputs": [
    {
     "data": {
      "text/plain": "0.024822698684027013"
     },
     "execution_count": 37,
     "metadata": {},
     "output_type": "execute_result"
    }
   ],
   "source": [
    "np.std(accuracies)"
   ],
   "metadata": {
    "collapsed": false,
    "ExecuteTime": {
     "end_time": "2024-04-24T21:06:04.614765Z",
     "start_time": "2024-04-24T21:06:04.104764Z"
    }
   },
   "execution_count": 37
  },
  {
   "cell_type": "code",
   "execution_count": 36,
   "metadata": {
    "ExecuteTime": {
     "end_time": "2024-04-24T21:05:49.708095Z",
     "start_time": "2024-04-24T21:05:49.001096Z"
    }
   },
   "outputs": [
    {
     "name": "stdout",
     "output_type": "stream",
     "text": [
      "Classification Report : \n",
      "              precision    recall  f1-score   support\n",
      "\n",
      "           0   0.912119  0.929826  0.920887     14578\n",
      "           1   0.853354  0.820085  0.836389      7259\n",
      "\n",
      "    accuracy                       0.893346     21837\n",
      "   macro avg   0.882737  0.874956  0.878638     21837\n",
      "weighted avg   0.892585  0.893346  0.892799     21837\n"
     ]
    }
   ],
   "source": [
    "clf_report = sklearn.metrics.classification_report(torch.argmax(pred_raw, dim=1), target, digits=6)\n",
    "\n",
    "print(f\"Classification Report : \\n{clf_report}\")"
   ]
  },
  {
   "cell_type": "code",
   "execution_count": 53,
   "outputs": [
    {
     "data": {
      "text/plain": "0.9474834729965571"
     },
     "execution_count": 53,
     "metadata": {},
     "output_type": "execute_result"
    }
   ],
   "source": [
    "fpr, tpr, thresholds = sklearn.metrics.roc_curve(target, m(pred_raw.float())[:,1], pos_label=1)\n",
    "sklearn.metrics.auc(fpr, tpr)"
   ],
   "metadata": {
    "collapsed": false,
    "ExecuteTime": {
     "end_time": "2024-04-24T21:21:00.700710Z",
     "start_time": "2024-04-24T21:21:00.131708Z"
    }
   }
  },
  {
   "cell_type": "code",
   "execution_count": 64,
   "outputs": [],
   "source": [
    "split_ind = np.insert(np.where(np.diff(test_index['episode_index'])!=0)[0],0,-1)\n",
    "split_ind = np.insert(split_ind, split_ind.size, len(test_index))"
   ],
   "metadata": {
    "collapsed": false,
    "ExecuteTime": {
     "end_time": "2024-04-24T21:23:39.562886Z",
     "start_time": "2024-04-24T21:23:38.915889Z"
    }
   }
  },
  {
   "cell_type": "code",
   "outputs": [
    {
     "data": {
      "text/plain": "array([1182, 1182, 1182, ..., 3829, 3829, 3829])"
     },
     "execution_count": 65,
     "metadata": {},
     "output_type": "execute_result"
    }
   ],
   "source": [
    "test_index['episode_index']"
   ],
   "metadata": {
    "collapsed": false,
    "ExecuteTime": {
     "end_time": "2024-04-24T21:23:40.894887Z",
     "start_time": "2024-04-24T21:23:40.229887Z"
    }
   },
   "execution_count": 65
  },
  {
   "cell_type": "code",
   "execution_count": 66,
   "outputs": [
    {
     "data": {
      "text/plain": "21837"
     },
     "execution_count": 66,
     "metadata": {},
     "output_type": "execute_result"
    }
   ],
   "source": [
    "len(test_index)"
   ],
   "metadata": {
    "collapsed": false,
    "ExecuteTime": {
     "end_time": "2024-04-24T21:23:42.039886Z",
     "start_time": "2024-04-24T21:23:41.455888Z"
    }
   }
  },
  {
   "cell_type": "code",
   "execution_count": 56,
   "outputs": [
    {
     "ename": "NameError",
     "evalue": "name 'split_ind' is not defined",
     "output_type": "error",
     "traceback": [
      "\u001B[1;31m---------------------------------------------------------------------------\u001B[0m",
      "\u001B[1;31mNameError\u001B[0m                                 Traceback (most recent call last)",
      "Cell \u001B[1;32mIn[56], line 1\u001B[0m\n\u001B[1;32m----> 1\u001B[0m \u001B[43msplit_ind\u001B[49m[\u001B[38;5;241m-\u001B[39m\u001B[38;5;241m1\u001B[39m]\n",
      "\u001B[1;31mNameError\u001B[0m: name 'split_ind' is not defined"
     ]
    }
   ],
   "source": [
    "split_ind[-1]"
   ],
   "metadata": {
    "collapsed": false,
    "ExecuteTime": {
     "end_time": "2024-04-24T21:21:05.995395Z",
     "start_time": "2024-04-24T21:21:05.397394Z"
    }
   }
  },
  {
   "cell_type": "code",
   "execution_count": 67,
   "outputs": [],
   "source": [
    "test_label_split = []\n",
    "pred_label_split = []\n",
    "for i in range(len(split_ind)-1):\n",
    "    start_ind = split_ind[i]\n",
    "    end_ind = split_ind[i+1]\n",
    "    test_label_split.append(target[start_ind+1:end_ind+1])\n",
    "    pred_label_split.append(out[start_ind+1:end_ind+1])\n"
   ],
   "metadata": {
    "collapsed": false,
    "ExecuteTime": {
     "end_time": "2024-04-24T21:23:44.330917Z",
     "start_time": "2024-04-24T21:23:43.725476Z"
    }
   }
  },
  {
   "cell_type": "code",
   "execution_count": 57,
   "outputs": [
    {
     "ename": "NameError",
     "evalue": "name 'pred_label_split' is not defined",
     "output_type": "error",
     "traceback": [
      "\u001B[1;31m---------------------------------------------------------------------------\u001B[0m",
      "\u001B[1;31mNameError\u001B[0m                                 Traceback (most recent call last)",
      "Cell \u001B[1;32mIn[57], line 1\u001B[0m\n\u001B[1;32m----> 1\u001B[0m \u001B[43mpred_label_split\u001B[49m[\u001B[38;5;241m1\u001B[39m]\n",
      "\u001B[1;31mNameError\u001B[0m: name 'pred_label_split' is not defined"
     ]
    }
   ],
   "source": [
    "pred_label_split[1]"
   ],
   "metadata": {
    "collapsed": false,
    "ExecuteTime": {
     "end_time": "2024-04-24T21:21:18.465114Z",
     "start_time": "2024-04-24T21:21:17.788117Z"
    }
   }
  },
  {
   "cell_type": "code",
   "execution_count": 36,
   "outputs": [
    {
     "data": {
      "text/plain": "tensor([[0],\n        [0],\n        [0],\n        [0],\n        [0],\n        [0],\n        [0],\n        [0],\n        [0],\n        [0],\n        [0],\n        [0],\n        [0],\n        [0],\n        [0],\n        [0],\n        [0],\n        [0],\n        [0],\n        [0],\n        [0],\n        [0],\n        [0],\n        [0],\n        [0],\n        [0],\n        [0],\n        [0],\n        [0],\n        [0],\n        [0],\n        [0],\n        [0],\n        [0],\n        [0],\n        [0],\n        [0],\n        [0],\n        [0],\n        [0],\n        [0],\n        [0],\n        [0],\n        [0],\n        [0],\n        [0],\n        [0],\n        [0],\n        [0],\n        [0],\n        [0],\n        [0],\n        [0],\n        [0],\n        [0],\n        [0],\n        [0],\n        [0],\n        [0],\n        [0],\n        [0],\n        [0],\n        [0],\n        [0],\n        [0],\n        [0],\n        [0],\n        [0],\n        [0],\n        [0],\n        [0],\n        [0],\n        [0],\n        [0],\n        [0],\n        [0],\n        [0],\n        [0],\n        [0],\n        [0],\n        [0],\n        [0],\n        [0],\n        [0],\n        [0],\n        [0],\n        [0],\n        [0],\n        [0],\n        [0]])"
     },
     "execution_count": 36,
     "metadata": {},
     "output_type": "execute_result"
    }
   ],
   "source": [
    "test_label_split[1]"
   ],
   "metadata": {
    "collapsed": false,
    "ExecuteTime": {
     "start_time": "2024-04-18T02:37:40.044644Z",
     "end_time": "2024-04-18T02:37:40.682641Z"
    }
   }
  },
  {
   "cell_type": "code",
   "execution_count": 37,
   "outputs": [
    {
     "data": {
      "text/plain": "0.8473282442748091"
     },
     "execution_count": 37,
     "metadata": {},
     "output_type": "execute_result"
    }
   ],
   "source": [
    "sklearn.metrics.accuracy_score([np.sign(tl.sum()) for tl in test_label_split], [np.sign(tl.sum()) for tl in pred_label_split])"
   ],
   "metadata": {
    "collapsed": false,
    "ExecuteTime": {
     "start_time": "2024-04-18T02:37:44.744209Z",
     "end_time": "2024-04-18T02:37:45.396207Z"
    }
   }
  },
  {
   "cell_type": "code",
   "execution_count": 38,
   "outputs": [
    {
     "data": {
      "text/plain": "tensor([[0],\n        [0],\n        [0],\n        [0],\n        [0],\n        [0],\n        [0],\n        [0],\n        [0],\n        [0],\n        [0],\n        [0],\n        [0],\n        [0],\n        [0],\n        [0],\n        [0],\n        [0],\n        [0],\n        [0],\n        [0],\n        [0],\n        [0],\n        [0],\n        [0],\n        [0],\n        [0],\n        [0],\n        [0],\n        [0],\n        [0],\n        [0],\n        [0],\n        [0],\n        [0],\n        [0],\n        [0],\n        [0],\n        [0],\n        [0],\n        [0],\n        [0],\n        [0],\n        [0],\n        [0],\n        [0],\n        [0],\n        [0],\n        [0],\n        [0],\n        [0],\n        [0],\n        [0],\n        [0],\n        [0],\n        [0],\n        [0],\n        [0],\n        [0],\n        [0],\n        [0],\n        [0],\n        [0],\n        [0],\n        [0],\n        [0],\n        [0],\n        [0],\n        [0],\n        [0],\n        [0],\n        [0],\n        [0],\n        [0],\n        [0],\n        [0],\n        [0],\n        [0],\n        [0],\n        [0],\n        [0],\n        [0],\n        [0],\n        [0],\n        [0],\n        [0],\n        [0],\n        [0],\n        [0],\n        [0]])"
     },
     "execution_count": 38,
     "metadata": {},
     "output_type": "execute_result"
    }
   ],
   "source": [
    "test_label_split[1]"
   ],
   "metadata": {
    "collapsed": false,
    "ExecuteTime": {
     "start_time": "2024-04-18T02:37:50.704974Z",
     "end_time": "2024-04-18T02:37:51.344974Z"
    }
   }
  },
  {
   "cell_type": "code",
   "execution_count": 39,
   "outputs": [
    {
     "name": "stdout",
     "output_type": "stream",
     "text": [
      "Classification Report : \n",
      "              precision    recall  f1-score   support\n",
      "\n",
      "           0     1.0000    0.6610    0.7959       118\n",
      "           1     0.7826    1.0000    0.8780       144\n",
      "\n",
      "    accuracy                         0.8473       262\n",
      "   macro avg     0.8913    0.8305    0.8370       262\n",
      "weighted avg     0.8805    0.8473    0.8411       262\n"
     ]
    }
   ],
   "source": [
    "clf_report = sklearn.metrics.classification_report([np.sign(tl.sum()) for tl in test_label_split], [np.sign(tl.sum()) for tl in pred_label_split], digits=4)\n",
    "\n",
    "print(f\"Classification Report : \\n{clf_report}\")"
   ],
   "metadata": {
    "collapsed": false,
    "ExecuteTime": {
     "start_time": "2024-04-18T02:37:52.927974Z",
     "end_time": "2024-04-18T02:37:53.568973Z"
    }
   }
  },
  {
   "cell_type": "code",
   "execution_count": null,
   "outputs": [],
   "source": [
    "test_index"
   ],
   "metadata": {
    "collapsed": false,
    "ExecuteTime": {
     "start_time": "2024-04-17T23:57:54.295411Z",
     "end_time": "2024-04-17T23:57:54.820546Z"
    }
   }
  },
  {
   "cell_type": "code",
   "execution_count": null,
   "outputs": [],
   "source": [],
   "metadata": {
    "collapsed": false,
    "ExecuteTime": {
     "start_time": "2024-04-17T23:39:15.792544Z",
     "end_time": "2024-04-17T23:39:15.806546Z"
    }
   }
  }
 ],
 "metadata": {
  "kernelspec": {
   "display_name": "Python 3 (ipykernel)",
   "language": "python",
   "name": "python3"
  },
  "language_info": {
   "codemirror_mode": {
    "name": "ipython",
    "version": 3
   },
   "file_extension": ".py",
   "mimetype": "text/x-python",
   "name": "python",
   "nbconvert_exporter": "python",
   "pygments_lexer": "ipython3",
   "version": "3.10.5"
  }
 },
 "nbformat": 4,
 "nbformat_minor": 1
}
