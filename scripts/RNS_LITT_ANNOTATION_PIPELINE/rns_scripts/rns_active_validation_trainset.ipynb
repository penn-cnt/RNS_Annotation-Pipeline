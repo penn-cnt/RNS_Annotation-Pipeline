{
 "cells": [
  {
   "cell_type": "code",
   "metadata": {
    "ExecuteTime": {
     "end_time": "2024-06-12T16:24:45.451423Z",
     "start_time": "2024-06-12T16:24:44.710425Z"
    }
   },
   "source": [
    "%load_ext autoreload\n",
    "%autoreload 2\n",
    "%matplotlib widget"
   ],
   "outputs": [],
   "execution_count": 1
  },
  {
   "cell_type": "code",
   "outputs": [],
   "source": [
    "import numpy as np\n",
    "import random\n",
    "import sys\n",
    "\n",
    "sys.path.append('../tools')\n",
    "\n",
    "import os\n",
    "\n",
    "import torch\n",
    "\n",
    "import pandas as pd\n",
    "from sklearn.model_selection import train_test_split\n",
    "import pytorch_lightning as pl\n",
    "import pytorch_lightning.loggers as pl_loggers\n",
    "import pytorch_lightning.callbacks as pl_callbacks\n",
    "import data_utility, annotation_utility\n",
    "from models.rns_dataloader import *\n",
    "from active_learning_utility import get_strategy\n",
    "from active_learning_data import Data\n",
    "from active_learning_net import Net\n",
    "from copy import deepcopy\n",
    "from models.SwaV import SwaV\n",
    "from models.LSTMDownStream import SupervisedDownstream\n",
    "import warnings\n",
    "import pickle\n",
    "warnings.filterwarnings(\"ignore\")\n"
   ],
   "metadata": {
    "ExecuteTime": {
     "end_time": "2024-06-12T16:24:50.583015Z",
     "start_time": "2024-06-12T16:24:45.452425Z"
    }
   },
   "execution_count": 2
  },
  {
   "cell_type": "code",
   "outputs": [],
   "source": [
    "from sklearn.model_selection import KFold\n",
    "import torch.nn as nn\n",
    "import sklearn\n",
    "def get_accuracy_scores(pred_raw, target, out, episode_out, episode_target):\n",
    "\n",
    "    kf = KFold(n_splits=100, shuffle=True, random_state=42)\n",
    "    accuracies = []\n",
    "    f1_scores = []\n",
    "    auc_scores = []\n",
    "    episode_acc = []\n",
    "    episode_f1s = []\n",
    "    for train_ind, test_ind in kf.split(out):\n",
    "        pred_split, target_split, pred_raw_split = out[test_ind],target[test_ind],m(pred_raw.float())[:,1][test_ind]\n",
    "        acc = sklearn.metrics.accuracy_score(pred_split, target_split)\n",
    "        f1_score = sklearn.metrics.f1_score(pred_split, target_split, pos_label=1, average='macro')\n",
    "        fpr, tpr, thresholds = sklearn.metrics.roc_curve(target_split, pred_raw_split, pos_label=1)\n",
    "        auc = sklearn.metrics.auc(fpr, tpr)\n",
    "        accuracies.append(acc)\n",
    "        f1_scores.append(f1_score)\n",
    "        auc_scores.append(auc)\n",
    "    kf = KFold(n_splits=10, shuffle=True, random_state=42)\n",
    "    for train_ind, test_ind in kf.split(episode_out):\n",
    "        episode_pred_split, episode_target_split = episode_out[test_ind], episode_target[test_ind]\n",
    "        episode_acc.append(sklearn.metrics.accuracy_score(episode_pred_split,episode_target_split))\n",
    "        episode_f1s.append(sklearn.metrics.f1_score(episode_pred_split,episode_target_split, pos_label=1, average='macro'))\n",
    "    return accuracies, f1_scores, auc_scores, episode_acc, episode_f1s"
   ],
   "metadata": {
    "collapsed": false,
    "ExecuteTime": {
     "end_time": "2024-06-12T16:24:50.955016Z",
     "start_time": "2024-06-12T16:24:50.584015Z"
    }
   },
   "execution_count": 3
  },
  {
   "cell_type": "code",
   "outputs": [
    {
     "name": "stderr",
     "output_type": "stream",
     "text": [
      "Global seed set to 42\n"
     ]
    },
    {
     "data": {
      "text/plain": "42"
     },
     "execution_count": 4,
     "metadata": {},
     "output_type": "execute_result"
    }
   ],
   "source": [
    "random_seed = 42\n",
    "random.seed(random_seed)\n",
    "torch.manual_seed(random_seed)\n",
    "np.random.seed(random_seed)\n",
    "\n",
    "if torch.cuda.is_available():\n",
    "    torch.cuda.manual_seed(random_seed)\n",
    "    # True ensures the algorithm selected by CUFA is deterministic\n",
    "    torch.backends.cudnn.deterministic = True\n",
    "    # torch.set_deterministic(True)\n",
    "    # False ensures CUDA select the same algorithm each time the application is run\n",
    "    torch.backends.cudnn.benchmark = False\n",
    "\n",
    "import pytorch_lightning\n",
    "\n",
    "pytorch_lightning.utilities.seed.seed_everything(seed=random_seed, workers=True)"
   ],
   "metadata": {
    "ExecuteTime": {
     "end_time": "2024-06-12T16:24:51.345015Z",
     "start_time": "2024-06-12T16:24:50.956015Z"
    }
   },
   "execution_count": 4
  },
  {
   "cell_type": "code",
   "outputs": [],
   "source": [
    "data_dir = \"../../../user_data/\"\n",
    "log_folder_root = '../../../user_data/logs/'\n",
    "ckpt_folder_root = '../../../user_data/checkpoints/'"
   ],
   "metadata": {
    "ExecuteTime": {
     "end_time": "2024-06-12T16:24:51.715017Z",
     "start_time": "2024-06-12T16:24:51.346016Z"
    }
   },
   "execution_count": 5
  },
  {
   "cell_type": "code",
   "outputs": [
    {
     "name": "stderr",
     "output_type": "stream",
     "text": [
      "16it [00:03,  4.16it/s]\n"
     ]
    },
    {
     "name": "stdout",
     "output_type": "stream",
     "text": [
      "(992,)\n",
      "(992,)\n",
      "(270,)\n",
      "(270,)\n",
      "9\n",
      "19\n",
      "10\n"
     ]
    },
    {
     "name": "stderr",
     "output_type": "stream",
     "text": [
      "Using 16bit native Automatic Mixed Precision (AMP)\n",
      "GPU available: True (cuda), used: True\n",
      "TPU available: False, using: 0 TPU cores\n",
      "IPU available: False, using: 0 IPUs\n",
      "HPU available: False, using: 0 HPUs\n"
     ]
    },
    {
     "name": "stdout",
     "output_type": "stream",
     "text": [
      "round 0\n",
      "LeastConfidence_round_0-step=20\n",
      "0 LeastConfidence_round_0-step=20-train_loss=0.01761.ckpt\n"
     ]
    },
    {
     "name": "stderr",
     "output_type": "stream",
     "text": [
      "LOCAL_RANK: 0 - CUDA_VISIBLE_DEVICES: [0]\n"
     ]
    },
    {
     "data": {
      "text/plain": "Predicting: 0it [00:00, ?it/s]",
      "application/vnd.jupyter.widget-view+json": {
       "version_major": 2,
       "version_minor": 0,
       "model_id": "9027e2c326064eba98fc25870c574e58"
      }
     },
     "metadata": {},
     "output_type": "display_data"
    },
    {
     "name": "stdout",
     "output_type": "stream",
     "text": [
      "LeastConfidence_round_0-step=60\n",
      "2 LeastConfidence_round_0-step=60-train_loss=0.01126.ckpt\n"
     ]
    },
    {
     "name": "stderr",
     "output_type": "stream",
     "text": [
      "LOCAL_RANK: 0 - CUDA_VISIBLE_DEVICES: [0]\n"
     ]
    },
    {
     "data": {
      "text/plain": "Predicting: 0it [00:00, ?it/s]",
      "application/vnd.jupyter.widget-view+json": {
       "version_major": 2,
       "version_minor": 0,
       "model_id": "9480cd97ac6e49de9e86903a83eec803"
      }
     },
     "metadata": {},
     "output_type": "display_data"
    },
    {
     "name": "stdout",
     "output_type": "stream",
     "text": [
      "LeastConfidence_round_0-step=40\n",
      "1 LeastConfidence_round_0-step=40-train_loss=0.01219.ckpt\n"
     ]
    },
    {
     "name": "stderr",
     "output_type": "stream",
     "text": [
      "LOCAL_RANK: 0 - CUDA_VISIBLE_DEVICES: [0]\n"
     ]
    },
    {
     "data": {
      "text/plain": "Predicting: 0it [00:00, ?it/s]",
      "application/vnd.jupyter.widget-view+json": {
       "version_major": 2,
       "version_minor": 0,
       "model_id": "0d5ed10df8044b53815f6979f947e082"
      }
     },
     "metadata": {},
     "output_type": "display_data"
    },
    {
     "name": "stdout",
     "output_type": "stream",
     "text": [
      "round 1\n",
      "LeastConfidence_round_1-step=240\n",
      "11 LeastConfidence_round_1-step=240-train_loss=0.01148.ckpt\n"
     ]
    },
    {
     "name": "stderr",
     "output_type": "stream",
     "text": [
      "LOCAL_RANK: 0 - CUDA_VISIBLE_DEVICES: [0]\n"
     ]
    },
    {
     "data": {
      "text/plain": "Predicting: 0it [00:00, ?it/s]",
      "application/vnd.jupyter.widget-view+json": {
       "version_major": 2,
       "version_minor": 0,
       "model_id": "ba0ebc2407a143028eb04d78f504018f"
      }
     },
     "metadata": {},
     "output_type": "display_data"
    },
    {
     "name": "stdout",
     "output_type": "stream",
     "text": [
      "LeastConfidence_round_1-step=80\n",
      "14 LeastConfidence_round_1-step=80-train_loss=0.01552.ckpt\n"
     ]
    },
    {
     "name": "stderr",
     "output_type": "stream",
     "text": [
      "LOCAL_RANK: 0 - CUDA_VISIBLE_DEVICES: [0]\n"
     ]
    },
    {
     "data": {
      "text/plain": "Predicting: 0it [00:00, ?it/s]",
      "application/vnd.jupyter.widget-view+json": {
       "version_major": 2,
       "version_minor": 0,
       "model_id": "41259a279810409385dbda17f871d53c"
      }
     },
     "metadata": {},
     "output_type": "display_data"
    },
    {
     "name": "stdout",
     "output_type": "stream",
     "text": [
      "LeastConfidence_round_1-step=120\n",
      "4 LeastConfidence_round_1-step=120-train_loss=0.01388.ckpt\n"
     ]
    },
    {
     "name": "stderr",
     "output_type": "stream",
     "text": [
      "LOCAL_RANK: 0 - CUDA_VISIBLE_DEVICES: [0]\n"
     ]
    },
    {
     "data": {
      "text/plain": "Predicting: 0it [00:00, ?it/s]",
      "application/vnd.jupyter.widget-view+json": {
       "version_major": 2,
       "version_minor": 0,
       "model_id": "2ac497554e014c11b2bf115b6ef876a3"
      }
     },
     "metadata": {},
     "output_type": "display_data"
    },
    {
     "name": "stdout",
     "output_type": "stream",
     "text": [
      "round 2\n",
      "LeastConfidence_round_2-step=160\n",
      "38 LeastConfidence_round_2-step=160-train_loss=0.01361.ckpt\n"
     ]
    },
    {
     "name": "stderr",
     "output_type": "stream",
     "text": [
      "LOCAL_RANK: 0 - CUDA_VISIBLE_DEVICES: [0]\n"
     ]
    },
    {
     "data": {
      "text/plain": "Predicting: 0it [00:00, ?it/s]",
      "application/vnd.jupyter.widget-view+json": {
       "version_major": 2,
       "version_minor": 0,
       "model_id": "d6233ce547764916a665fc601109f48a"
      }
     },
     "metadata": {},
     "output_type": "display_data"
    },
    {
     "name": "stdout",
     "output_type": "stream",
     "text": [
      "LeastConfidence_round_2-step=180\n",
      "39 LeastConfidence_round_2-step=180-train_loss=0.01672.ckpt\n"
     ]
    },
    {
     "name": "stderr",
     "output_type": "stream",
     "text": [
      "LOCAL_RANK: 0 - CUDA_VISIBLE_DEVICES: [0]\n"
     ]
    },
    {
     "data": {
      "text/plain": "Predicting: 0it [00:00, ?it/s]",
      "application/vnd.jupyter.widget-view+json": {
       "version_major": 2,
       "version_minor": 0,
       "model_id": "b396f4aff183499f9d61adef326f0e02"
      }
     },
     "metadata": {},
     "output_type": "display_data"
    },
    {
     "name": "stdout",
     "output_type": "stream",
     "text": [
      "LeastConfidence_round_2-step=220\n",
      "42 LeastConfidence_round_2-step=220-train_loss=0.01646.ckpt\n"
     ]
    },
    {
     "name": "stderr",
     "output_type": "stream",
     "text": [
      "LOCAL_RANK: 0 - CUDA_VISIBLE_DEVICES: [0]\n"
     ]
    },
    {
     "data": {
      "text/plain": "Predicting: 0it [00:00, ?it/s]",
      "application/vnd.jupyter.widget-view+json": {
       "version_major": 2,
       "version_minor": 0,
       "model_id": "3afdb01717cd48d8b906004d25205a91"
      }
     },
     "metadata": {},
     "output_type": "display_data"
    },
    {
     "name": "stdout",
     "output_type": "stream",
     "text": [
      "round 3\n",
      "LeastConfidence_round_3-step=180\n",
      "57 LeastConfidence_round_3-step=180-train_loss=0.01796.ckpt\n"
     ]
    },
    {
     "name": "stderr",
     "output_type": "stream",
     "text": [
      "LOCAL_RANK: 0 - CUDA_VISIBLE_DEVICES: [0]\n"
     ]
    },
    {
     "data": {
      "text/plain": "Predicting: 0it [00:00, ?it/s]",
      "application/vnd.jupyter.widget-view+json": {
       "version_major": 2,
       "version_minor": 0,
       "model_id": "25d96fe67b7d40ba86d2fd7586a51a32"
      }
     },
     "metadata": {},
     "output_type": "display_data"
    },
    {
     "name": "stdout",
     "output_type": "stream",
     "text": [
      "LeastConfidence_round_3-step=140\n",
      "55 LeastConfidence_round_3-step=140-train_loss=0.02000.ckpt\n"
     ]
    },
    {
     "name": "stderr",
     "output_type": "stream",
     "text": [
      "LOCAL_RANK: 0 - CUDA_VISIBLE_DEVICES: [0]\n"
     ]
    },
    {
     "data": {
      "text/plain": "Predicting: 0it [00:00, ?it/s]",
      "application/vnd.jupyter.widget-view+json": {
       "version_major": 2,
       "version_minor": 0,
       "model_id": "ce1e914c219049679e614686219ef9cc"
      }
     },
     "metadata": {},
     "output_type": "display_data"
    },
    {
     "name": "stdout",
     "output_type": "stream",
     "text": [
      "LeastConfidence_round_3-step=240\n",
      "61 LeastConfidence_round_3-step=240-train_loss=0.01411.ckpt\n"
     ]
    },
    {
     "name": "stderr",
     "output_type": "stream",
     "text": [
      "LOCAL_RANK: 0 - CUDA_VISIBLE_DEVICES: [0]\n"
     ]
    },
    {
     "data": {
      "text/plain": "Predicting: 0it [00:00, ?it/s]",
      "application/vnd.jupyter.widget-view+json": {
       "version_major": 2,
       "version_minor": 0,
       "model_id": "99c32742a3854a628a0fd3b53ab47b71"
      }
     },
     "metadata": {},
     "output_type": "display_data"
    },
    {
     "name": "stdout",
     "output_type": "stream",
     "text": [
      "round 4\n",
      "LeastConfidence_round_4-step=200\n",
      "78 LeastConfidence_round_4-step=200-train_loss=0.01437.ckpt\n"
     ]
    },
    {
     "name": "stderr",
     "output_type": "stream",
     "text": [
      "LOCAL_RANK: 0 - CUDA_VISIBLE_DEVICES: [0]\n"
     ]
    },
    {
     "data": {
      "text/plain": "Predicting: 0it [00:00, ?it/s]",
      "application/vnd.jupyter.widget-view+json": {
       "version_major": 2,
       "version_minor": 0,
       "model_id": "a4c0e83a909049b19045920ba5435bca"
      }
     },
     "metadata": {},
     "output_type": "display_data"
    },
    {
     "name": "stdout",
     "output_type": "stream",
     "text": [
      "LeastConfidence_round_4-step=340\n",
      "85 LeastConfidence_round_4-step=340-train_loss=0.01272.ckpt\n"
     ]
    },
    {
     "name": "stderr",
     "output_type": "stream",
     "text": [
      "LOCAL_RANK: 0 - CUDA_VISIBLE_DEVICES: [0]\n"
     ]
    },
    {
     "data": {
      "text/plain": "Predicting: 0it [00:00, ?it/s]",
      "application/vnd.jupyter.widget-view+json": {
       "version_major": 2,
       "version_minor": 0,
       "model_id": "3af5e7acd051415696c9c27050af8d09"
      }
     },
     "metadata": {},
     "output_type": "display_data"
    },
    {
     "name": "stdout",
     "output_type": "stream",
     "text": [
      "LeastConfidence_round_4-step=280\n",
      "82 LeastConfidence_round_4-step=280-train_loss=0.01895.ckpt\n"
     ]
    },
    {
     "name": "stderr",
     "output_type": "stream",
     "text": [
      "LOCAL_RANK: 0 - CUDA_VISIBLE_DEVICES: [0]\n"
     ]
    },
    {
     "data": {
      "text/plain": "Predicting: 0it [00:00, ?it/s]",
      "application/vnd.jupyter.widget-view+json": {
       "version_major": 2,
       "version_minor": 0,
       "model_id": "91d9c6a0fa23409c83c0627587545eae"
      }
     },
     "metadata": {},
     "output_type": "display_data"
    },
    {
     "name": "stdout",
     "output_type": "stream",
     "text": [
      "round 5\n",
      "LeastConfidence_round_5-step=360\n",
      "106 LeastConfidence_round_5-step=360-train_loss=0.02000.ckpt\n"
     ]
    },
    {
     "name": "stderr",
     "output_type": "stream",
     "text": [
      "LOCAL_RANK: 0 - CUDA_VISIBLE_DEVICES: [0]\n"
     ]
    },
    {
     "data": {
      "text/plain": "Predicting: 0it [00:00, ?it/s]",
      "application/vnd.jupyter.widget-view+json": {
       "version_major": 2,
       "version_minor": 0,
       "model_id": "e6812669dcce44a3911e1680b8380c9b"
      }
     },
     "metadata": {},
     "output_type": "display_data"
    },
    {
     "name": "stdout",
     "output_type": "stream",
     "text": [
      "LeastConfidence_round_5-step=300\n",
      "103 LeastConfidence_round_5-step=300-train_loss=0.01645.ckpt\n"
     ]
    },
    {
     "name": "stderr",
     "output_type": "stream",
     "text": [
      "LOCAL_RANK: 0 - CUDA_VISIBLE_DEVICES: [0]\n"
     ]
    },
    {
     "data": {
      "text/plain": "Predicting: 0it [00:00, ?it/s]",
      "application/vnd.jupyter.widget-view+json": {
       "version_major": 2,
       "version_minor": 0,
       "model_id": "5a388dddbfae450885c1ba78ca97f528"
      }
     },
     "metadata": {},
     "output_type": "display_data"
    },
    {
     "name": "stdout",
     "output_type": "stream",
     "text": [
      "LeastConfidence_round_5-step=260\n",
      "101 LeastConfidence_round_5-step=260-train_loss=0.01658.ckpt\n"
     ]
    },
    {
     "name": "stderr",
     "output_type": "stream",
     "text": [
      "LOCAL_RANK: 0 - CUDA_VISIBLE_DEVICES: [0]\n"
     ]
    },
    {
     "data": {
      "text/plain": "Predicting: 0it [00:00, ?it/s]",
      "application/vnd.jupyter.widget-view+json": {
       "version_major": 2,
       "version_minor": 0,
       "model_id": "3eb187b0db824adb93143e1e01331136"
      }
     },
     "metadata": {},
     "output_type": "display_data"
    },
    {
     "name": "stdout",
     "output_type": "stream",
     "text": [
      "round 6\n",
      "LeastConfidence_round_6-step=240\n",
      "128 LeastConfidence_round_6-step=240-train_loss=0.02400.ckpt\n"
     ]
    },
    {
     "name": "stderr",
     "output_type": "stream",
     "text": [
      "LOCAL_RANK: 0 - CUDA_VISIBLE_DEVICES: [0]\n"
     ]
    },
    {
     "data": {
      "text/plain": "Predicting: 0it [00:00, ?it/s]",
      "application/vnd.jupyter.widget-view+json": {
       "version_major": 2,
       "version_minor": 0,
       "model_id": "c92ea4287bcf4592963c67b1b64b2523"
      }
     },
     "metadata": {},
     "output_type": "display_data"
    },
    {
     "name": "stdout",
     "output_type": "stream",
     "text": [
      "LeastConfidence_round_6-step=380\n",
      "135 LeastConfidence_round_6-step=380-train_loss=0.01521.ckpt\n"
     ]
    },
    {
     "name": "stderr",
     "output_type": "stream",
     "text": [
      "LOCAL_RANK: 0 - CUDA_VISIBLE_DEVICES: [0]\n"
     ]
    },
    {
     "data": {
      "text/plain": "Predicting: 0it [00:00, ?it/s]",
      "application/vnd.jupyter.widget-view+json": {
       "version_major": 2,
       "version_minor": 0,
       "model_id": "0df668ee446046afa445e09898e5f5ae"
      }
     },
     "metadata": {},
     "output_type": "display_data"
    },
    {
     "name": "stdout",
     "output_type": "stream",
     "text": [
      "LeastConfidence_round_6-step=140\n",
      "122 LeastConfidence_round_6-step=140-train_loss=0.02156.ckpt\n"
     ]
    },
    {
     "name": "stderr",
     "output_type": "stream",
     "text": [
      "LOCAL_RANK: 0 - CUDA_VISIBLE_DEVICES: [0]\n"
     ]
    },
    {
     "data": {
      "text/plain": "Predicting: 0it [00:00, ?it/s]",
      "application/vnd.jupyter.widget-view+json": {
       "version_major": 2,
       "version_minor": 0,
       "model_id": "c5cc2154beba4736a42ff03babeebce8"
      }
     },
     "metadata": {},
     "output_type": "display_data"
    },
    {
     "name": "stdout",
     "output_type": "stream",
     "text": [
      "round 7\n",
      "LeastConfidence_round_7-step=240\n",
      "150 LeastConfidence_round_7-step=240-train_loss=0.01333.ckpt\n"
     ]
    },
    {
     "name": "stderr",
     "output_type": "stream",
     "text": [
      "LOCAL_RANK: 0 - CUDA_VISIBLE_DEVICES: [0]\n"
     ]
    },
    {
     "data": {
      "text/plain": "Predicting: 0it [00:00, ?it/s]",
      "application/vnd.jupyter.widget-view+json": {
       "version_major": 2,
       "version_minor": 0,
       "model_id": "4103781d1ee6435eaa0532bfee108659"
      }
     },
     "metadata": {},
     "output_type": "display_data"
    },
    {
     "name": "stdout",
     "output_type": "stream",
     "text": [
      "LeastConfidence_round_7-step=320\n",
      "154 LeastConfidence_round_7-step=320-train_loss=0.04320.ckpt\n"
     ]
    },
    {
     "name": "stderr",
     "output_type": "stream",
     "text": [
      "LOCAL_RANK: 0 - CUDA_VISIBLE_DEVICES: [0]\n"
     ]
    },
    {
     "data": {
      "text/plain": "Predicting: 0it [00:00, ?it/s]",
      "application/vnd.jupyter.widget-view+json": {
       "version_major": 2,
       "version_minor": 0,
       "model_id": "15598bf883eb44a5a05312fdea400e4f"
      }
     },
     "metadata": {},
     "output_type": "display_data"
    },
    {
     "name": "stdout",
     "output_type": "stream",
     "text": [
      "LeastConfidence_round_7-step=180\n",
      "146 LeastConfidence_round_7-step=180-train_loss=0.02543.ckpt\n"
     ]
    },
    {
     "name": "stderr",
     "output_type": "stream",
     "text": [
      "LOCAL_RANK: 0 - CUDA_VISIBLE_DEVICES: [0]\n"
     ]
    },
    {
     "data": {
      "text/plain": "Predicting: 0it [00:00, ?it/s]",
      "application/vnd.jupyter.widget-view+json": {
       "version_major": 2,
       "version_minor": 0,
       "model_id": "0955981ba9b14ba2999ae0e84ba6af77"
      }
     },
     "metadata": {},
     "output_type": "display_data"
    },
    {
     "name": "stdout",
     "output_type": "stream",
     "text": [
      "round 8\n",
      "LeastConfidence_round_8-step=180\n",
      "168 LeastConfidence_round_8-step=180-train_loss=0.02847.ckpt\n"
     ]
    },
    {
     "name": "stderr",
     "output_type": "stream",
     "text": [
      "LOCAL_RANK: 0 - CUDA_VISIBLE_DEVICES: [0]\n"
     ]
    },
    {
     "data": {
      "text/plain": "Predicting: 0it [00:00, ?it/s]",
      "application/vnd.jupyter.widget-view+json": {
       "version_major": 2,
       "version_minor": 0,
       "model_id": "89e8a68577ef478581391edd03874317"
      }
     },
     "metadata": {},
     "output_type": "display_data"
    },
    {
     "name": "stdout",
     "output_type": "stream",
     "text": [
      "LeastConfidence_round_8-step=100\n",
      "164 LeastConfidence_round_8-step=100-train_loss=0.04402.ckpt\n"
     ]
    },
    {
     "name": "stderr",
     "output_type": "stream",
     "text": [
      "LOCAL_RANK: 0 - CUDA_VISIBLE_DEVICES: [0]\n"
     ]
    },
    {
     "data": {
      "text/plain": "Predicting: 0it [00:00, ?it/s]",
      "application/vnd.jupyter.widget-view+json": {
       "version_major": 2,
       "version_minor": 0,
       "model_id": "d671d06574404ce08f2748e63dec0547"
      }
     },
     "metadata": {},
     "output_type": "display_data"
    },
    {
     "name": "stdout",
     "output_type": "stream",
     "text": [
      "LeastConfidence_round_8-step=320\n",
      "176 LeastConfidence_round_8-step=320-train_loss=0.01829.ckpt\n"
     ]
    },
    {
     "name": "stderr",
     "output_type": "stream",
     "text": [
      "LOCAL_RANK: 0 - CUDA_VISIBLE_DEVICES: [0]\n"
     ]
    },
    {
     "data": {
      "text/plain": "Predicting: 0it [00:00, ?it/s]",
      "application/vnd.jupyter.widget-view+json": {
       "version_major": 2,
       "version_minor": 0,
       "model_id": "8368f34022154201bbf1229763ece31f"
      }
     },
     "metadata": {},
     "output_type": "display_data"
    },
    {
     "name": "stdout",
     "output_type": "stream",
     "text": [
      "round 9\n",
      "LeastConfidence_round_9-step=80\n",
      "196 LeastConfidence_round_9-step=80-train_loss=0.02870.ckpt\n"
     ]
    },
    {
     "name": "stderr",
     "output_type": "stream",
     "text": [
      "LOCAL_RANK: 0 - CUDA_VISIBLE_DEVICES: [0]\n"
     ]
    },
    {
     "data": {
      "text/plain": "Predicting: 0it [00:00, ?it/s]",
      "application/vnd.jupyter.widget-view+json": {
       "version_major": 2,
       "version_minor": 0,
       "model_id": "3b85bacf511a40778175b16c864fca11"
      }
     },
     "metadata": {},
     "output_type": "display_data"
    },
    {
     "name": "stdout",
     "output_type": "stream",
     "text": [
      "LeastConfidence_round_9-step=140\n",
      "185 LeastConfidence_round_9-step=140-train_loss=0.01932.ckpt\n"
     ]
    },
    {
     "name": "stderr",
     "output_type": "stream",
     "text": [
      "LOCAL_RANK: 0 - CUDA_VISIBLE_DEVICES: [0]\n"
     ]
    },
    {
     "data": {
      "text/plain": "Predicting: 0it [00:00, ?it/s]",
      "application/vnd.jupyter.widget-view+json": {
       "version_major": 2,
       "version_minor": 0,
       "model_id": "e2dbb4248e31467c8433db6a19cbca04"
      }
     },
     "metadata": {},
     "output_type": "display_data"
    },
    {
     "name": "stdout",
     "output_type": "stream",
     "text": [
      "LeastConfidence_round_9-step=100\n",
      "183 LeastConfidence_round_9-step=100-train_loss=0.02364.ckpt\n"
     ]
    },
    {
     "name": "stderr",
     "output_type": "stream",
     "text": [
      "LOCAL_RANK: 0 - CUDA_VISIBLE_DEVICES: [0]\n"
     ]
    },
    {
     "data": {
      "text/plain": "Predicting: 0it [00:00, ?it/s]",
      "application/vnd.jupyter.widget-view+json": {
       "version_major": 2,
       "version_minor": 0,
       "model_id": "aa264eee8d52443ebe527093d4a6ca62"
      }
     },
     "metadata": {},
     "output_type": "display_data"
    },
    {
     "name": "stdout",
     "output_type": "stream",
     "text": [
      "round 10\n",
      "LeastConfidence_round_10-step=200\n",
      "21 LeastConfidence_round_10-step=200-train_loss=0.02465.ckpt\n"
     ]
    },
    {
     "name": "stderr",
     "output_type": "stream",
     "text": [
      "LOCAL_RANK: 0 - CUDA_VISIBLE_DEVICES: [0]\n"
     ]
    },
    {
     "data": {
      "text/plain": "Predicting: 0it [00:00, ?it/s]",
      "application/vnd.jupyter.widget-view+json": {
       "version_major": 2,
       "version_minor": 0,
       "model_id": "d25cfebe502441a2af6586521e5ea384"
      }
     },
     "metadata": {},
     "output_type": "display_data"
    },
    {
     "name": "stdout",
     "output_type": "stream",
     "text": [
      "LeastConfidence_round_10-step=260\n",
      "24 LeastConfidence_round_10-step=260-train_loss=0.02062.ckpt\n"
     ]
    },
    {
     "name": "stderr",
     "output_type": "stream",
     "text": [
      "LOCAL_RANK: 0 - CUDA_VISIBLE_DEVICES: [0]\n"
     ]
    },
    {
     "data": {
      "text/plain": "Predicting: 0it [00:00, ?it/s]",
      "application/vnd.jupyter.widget-view+json": {
       "version_major": 2,
       "version_minor": 0,
       "model_id": "383fbaef67594af7b1af372ba93e3607"
      }
     },
     "metadata": {},
     "output_type": "display_data"
    },
    {
     "name": "stdout",
     "output_type": "stream",
     "text": [
      "LeastConfidence_round_10-step=380\n",
      "30 LeastConfidence_round_10-step=380-train_loss=0.02616.ckpt\n"
     ]
    },
    {
     "name": "stderr",
     "output_type": "stream",
     "text": [
      "LOCAL_RANK: 0 - CUDA_VISIBLE_DEVICES: [0]\n"
     ]
    },
    {
     "data": {
      "text/plain": "Predicting: 0it [00:00, ?it/s]",
      "application/vnd.jupyter.widget-view+json": {
       "version_major": 2,
       "version_minor": 0,
       "model_id": "7e09336666fd46c8b770f1a8deda578e"
      }
     },
     "metadata": {},
     "output_type": "display_data"
    }
   ],
   "source": [
    "strategy_name_list = ['LeastConfidence']\n",
    "for strategy_name in strategy_name_list:\n",
    "    nStart = 1\n",
    "    nEnd = 20\n",
    "    nQuery = 2\n",
    "    args_task = {'n_epoch': 60,\n",
    "                 'transform_train': True,\n",
    "                 'strategy_name': strategy_name,\n",
    "                 'transform': False,\n",
    "                 'loader_tr_args': {'batch_size': 4, 'num_workers': 4, 'collate_fn': collate_fn,\n",
    "                                    'drop_last': True, 'persistent_workers': True},\n",
    "                 'loader_te_args': {'batch_size': 8, 'num_workers': 4, 'collate_fn': collate_fn,\n",
    "                                    'drop_last': True, 'persistent_workers': True}\n",
    "                 }\n",
    "    data_list = ['HUP047.npy', 'HUP084.npy', 'HUP096.npy', 'HUP109.npy', 'HUP121.npy', 'HUP129.npy', 'HUP131.npy',\n",
    "                 'HUP137.npy', 'HUP147.npy', 'HUP156.npy', 'HUP159.npy', 'HUP182.npy', 'HUP197.npy', 'HUP199.npy',\n",
    "                 'RNS026.npy', 'RNS029.npy']\n",
    "    # data_list = os.listdir(data_dir+'rns_test_cache')[1:]\n",
    "    \n",
    "    # data_list = ['HUP182.npy',   'HUP129.npy',   'HUP109.npy', 'HUP156.npy', 'HUP096.npy', 'RNS026.npy',  'HUP159.npy']\n",
    "    # data_list = ['RNS026.npy', 'HUP159.npy', 'HUP129.npy', 'HUP096.npy', 'HUP182.npy']\n",
    "    train_data, train_label, test_data, test_label, train_index, test_index = get_data_by_episode(data_list, split=0.8)\n",
    "    # data, label,_,_ = get_data(data_list, split=1)\n",
    "    # train_data, test_data, train_label, test_label = sklearn.model_selection.train_test_split(data, label, test_size=0.8, random_state=42)\n",
    "    \n",
    "    print(train_data.shape)\n",
    "    print(train_label.shape)\n",
    "    print(test_data.shape)\n",
    "    print(test_label.shape)\n",
    "    X_train = np.concatenate(train_data)\n",
    "    y_train = np.concatenate(train_label)\n",
    "    X_test = np.concatenate(test_data)\n",
    "    y_test = np.concatenate(test_label)\n",
    "    index_train = np.concatenate(train_index)\n",
    "    index_test = np.concatenate(test_index)\n",
    "    seq_len_train = np.array([y.shape[0] for y in train_label])\n",
    "    seq_len_test = np.array([y.shape[0] for y in test_label])\n",
    "    \n",
    "    n_pool = len(train_data)\n",
    "    n_test = len(test_data)\n",
    "    \n",
    "    NUM_INIT_LB = int(nStart * n_pool / 100)\n",
    "    NUM_QUERY = int(nQuery * n_pool / 100) if nStart != 100 else 0\n",
    "    NUM_ROUND = int((int(nEnd * n_pool / 100) - NUM_INIT_LB) / NUM_QUERY) if nStart != 100 else 0\n",
    "    if NUM_QUERY != 0:\n",
    "        if (int(nEnd * n_pool / 100) - NUM_INIT_LB) % NUM_QUERY != 0:\n",
    "            NUM_ROUND += 1\n",
    "    \n",
    "    print(NUM_INIT_LB)\n",
    "    print(NUM_QUERY)\n",
    "    print(NUM_ROUND)\n",
    "    \n",
    "    NUM_ROUND = 10\n",
    "    \n",
    "    dataset = Data(X_train, y_train, X_test, y_test, seq_len_train, seq_len_test, RNS_Active_by_episode_LSTM, args_task)\n",
    "    \n",
    "    swav = SwaV().load_from_checkpoint(\n",
    "        ckpt_folder_root + 'rns_swav_50_12/rns_swav-epoch=82-swav_loss=2.58204.ckpt')\n",
    "    model = SupervisedDownstream(swav.backbone)\n",
    "    # initialize model and save the model state\n",
    "    modelstate = deepcopy(model.state_dict())\n",
    "    device = \"cuda\" if torch.cuda.is_available() else \"cpu\"\n",
    "    \n",
    "    net = Net(model, args_task, device, ckpt_folder_root='rns_active', log_folder_root='rns_active')\n",
    "    \n",
    "    strategy = get_strategy(strategy_name, dataset, net, None, args_task, rns_data=True)\n",
    "    \n",
    "    trainer = pl.Trainer(accelerator='gpu',\n",
    "                         devices=1,\n",
    "                         precision=16,)\n",
    "    \n",
    "    strategy.net.trainer = trainer\n",
    "    \n",
    "    result_final = {}\n",
    "    for rd in range(0, NUM_ROUND+1):\n",
    "    # for rd in [10]:\n",
    "        print('round ' + str(rd))\n",
    "        log_file_name = log_folder_root + 'rns_active/active_logs_' + strategy_name + '/logger_round_' + str(\n",
    "            rd) + '/version_0/metrics.csv'\n",
    "        logs = pd.read_csv(log_file_name)\n",
    "        # max_ind = logs['val_acc'].argmax()\n",
    "        # max_row = logs.iloc[max_ind]\n",
    "        sinds = np.argsort(list(logs['val_acc']))[::-1]\n",
    "        ckpt_directory = ckpt_folder_root + 'rns_active/active_checkpoints_' + strategy_name\n",
    "        ckpt_files = os.listdir(ckpt_directory)\n",
    "        \n",
    "        n = np.min((len(ckpt_files),3))\n",
    "        \n",
    "        selected_ind = sinds[~np.isnan(logs['val_acc'][sinds])][:n]\n",
    "        \n",
    "        result_list = []\n",
    "        for s_idx in selected_ind:\n",
    "            try:\n",
    "                max_row = logs.iloc[s_idx]\n",
    "                load_file_name = strategy_name + '_round_' + str(rd) + '-step=' + str(int(max_row['step']+1))\n",
    "                print(load_file_name)\n",
    "                \n",
    "                ind = next((i for i, s in enumerate(ckpt_files) if load_file_name in s), None)\n",
    "                print(ind, ckpt_files[ind])\n",
    "                strategy.net.net = strategy.net.net.load_from_checkpoint(ckpt_directory + '/' + ckpt_files[ind], backbone=swav.backbone)\n",
    "                \n",
    "                with open(log_folder_root + 'rns_active_selected/' + strategy_name + '/' + 'selected_indices.pkl', 'rb') as f:\n",
    "                # Load the content of the file into a Python object\n",
    "                    selected_inds = pickle.load(f)\n",
    "                \n",
    "                q_idxs = np.array(selected_inds[rd])\n",
    "                \n",
    "                strategy.update(q_idxs)\n",
    "                \n",
    "                _, unlabeled_data = strategy.dataset.get_train_data_unaugmented()\n",
    "                predictions = strategy.net.run_prediction(unlabeled_data)\n",
    "                output_list = []\n",
    "                seq_len_list = []\n",
    "                target_list = []\n",
    "                emb_list = []\n",
    "                m = nn.Softmax(dim=1)\n",
    "                for pred, y, emb, emb_t, seq_len in predictions:\n",
    "                    output_list.append(pred)\n",
    "                    seq_len_list.append(seq_len)\n",
    "                    target_list.append(y)\n",
    "                    emb_list.append(emb)\n",
    "                \n",
    "                target = torch.concat(target_list)\n",
    "                emb = torch.vstack(emb_list)\n",
    "                pred_raw = torch.vstack(output_list).float()\n",
    "                seq_len_out = torch.tensor([item for sublist in seq_len_list for item in sublist])\n",
    "                probs = m(pred_raw)\n",
    "                out = torch.argmax(pred_raw, dim=1)\n",
    "                unlabeled_idxs, _ = strategy.dataset.get_unlabeled_data()\n",
    "                \n",
    "                pred_label_split = strategy.dataset.combine_window_to_episode(out, seq_len_train, ~strategy.dataset.labeled_idxs)\n",
    "                test_label_split = strategy.dataset.combine_window_to_episode(target, seq_len_train, ~strategy.dataset.labeled_idxs)\n",
    "                episode_out = torch.tensor([np.sign(tl.sum()) for tl in pred_label_split])\n",
    "                episode_target = torch.tensor([np.sign(tl.sum()) for tl in test_label_split])\n",
    "                \n",
    "                result_list.append(get_accuracy_scores(pred_raw[unlabeled_idxs], target[unlabeled_idxs], out[unlabeled_idxs], episode_out, episode_target))\n",
    "            except:\n",
    "                continue\n",
    "        \n",
    "        result_final[rd] = result_list\n",
    "    \n",
    "    np.save('save_acc/'+ strategy_name + '.npy', result_final)\n",
    "    del model\n",
    "    del strategy\n",
    "    del swav\n",
    "    del net"
   ],
   "metadata": {
    "ExecuteTime": {
     "end_time": "2024-06-12T17:28:40.537960Z",
     "start_time": "2024-06-12T16:24:51.716017Z"
    }
   },
   "execution_count": 6
  },
  {
   "cell_type": "code",
   "outputs": [],
   "source": [
    "np.save('save_acc/'+ strategy_name + '.npy', result_final)"
   ],
   "metadata": {
    "collapsed": false,
    "ExecuteTime": {
     "end_time": "2024-04-26T19:35:24.757692Z",
     "start_time": "2024-04-26T19:35:24.342694Z"
    }
   },
   "execution_count": 16
  },
  {
   "cell_type": "code",
   "outputs": [
    {
     "data": {
      "text/plain": "dict_keys([0, 1, 2, 3, 4, 5, 6, 7])"
     },
     "execution_count": 17,
     "metadata": {},
     "output_type": "execute_result"
    }
   ],
   "source": [
    "with open(log_folder_root + 'rns_active_selected/' + strategy_name + '/' + 'selected_indices.pkl', 'rb') as f:\n",
    "        # Load the content of the file into a Python object\n",
    "            selected_inds = pickle.load(f)\n",
    "selected_inds[rd] = q_idxs\n",
    "with open(log_folder_root + 'rns_active_selected/' + strategy_name + '/' + 'selected_indices.pkl', 'wb') as f:\n",
    "    pickle.dump(selected_inds, f)"
   ],
   "metadata": {
    "ExecuteTime": {
     "end_time": "2024-04-26T19:37:35.456751Z",
     "start_time": "2024-04-26T19:37:35.084751Z"
    }
   },
   "execution_count": 17
  },
  {
   "cell_type": "code",
   "outputs": [],
   "source": [],
   "metadata": {
    "ExecuteTime": {
     "end_time": "2024-04-25T07:45:01.161340Z",
     "start_time": "2024-04-25T07:45:01.146340Z"
    }
   },
   "execution_count": 6
  },
  {
   "cell_type": "code",
   "outputs": [],
   "source": [
    "# raw_annotations = pd.read_csv(data_dir + 'full_updated_anns_annotTbl_cleaned.csv')\n",
    "# ids = list(np.unique(raw_annotations[raw_annotations['descriptions'].notnull()]['HUP_ID']))\n",
    "# # ids = list(np.unique(raw_annotations['HUP_ID']))\n",
    "#\n",
    "# data_import = data_utility.read_files(path=data_dir+'rns_data', path_data=data_dir+'rns_raw_cache', patientIDs=ids,\n",
    "#                                       verbose=True)  # Import data with annotation"
   ],
   "metadata": {
    "ExecuteTime": {
     "end_time": "2024-04-25T07:45:01.572339Z",
     "start_time": "2024-04-25T07:45:01.162340Z"
    }
   },
   "execution_count": 7
  },
  {
   "cell_type": "code",
   "outputs": [],
   "source": [
    "# data_list = os.listdir(data_dir+'rns_test_cache')\n",
    "# print(data_list)\n"
   ],
   "metadata": {
    "ExecuteTime": {
     "end_time": "2024-04-25T07:45:01.981339Z",
     "start_time": "2024-04-25T07:45:01.574339Z"
    }
   },
   "execution_count": 8
  },
  {
   "cell_type": "code",
   "outputs": [],
   "source": [],
   "metadata": {
    "ExecuteTime": {
     "end_time": "2024-04-25T07:45:01.997339Z",
     "start_time": "2024-04-25T07:45:01.982340Z"
    }
   },
   "execution_count": 8
  },
  {
   "cell_type": "code",
   "outputs": [],
   "source": [],
   "metadata": {
    "ExecuteTime": {
     "end_time": "2024-04-25T07:45:02.013339Z",
     "start_time": "2024-04-25T07:45:01.998339Z"
    }
   },
   "execution_count": 8
  },
  {
   "cell_type": "code",
   "outputs": [],
   "source": [],
   "metadata": {
    "ExecuteTime": {
     "end_time": "2024-04-25T07:45:02.028339Z",
     "start_time": "2024-04-25T07:45:02.014340Z"
    }
   },
   "execution_count": 8
  },
  {
   "cell_type": "code",
   "outputs": [],
   "source": [],
   "metadata": {
    "ExecuteTime": {
     "end_time": "2024-04-25T07:45:02.043340Z",
     "start_time": "2024-04-25T07:45:02.029339Z"
    }
   },
   "execution_count": 8
  },
  {
   "cell_type": "code",
   "outputs": [],
   "source": [],
   "metadata": {
    "ExecuteTime": {
     "end_time": "2024-04-25T07:45:02.059340Z",
     "start_time": "2024-04-25T07:45:02.044339Z"
    }
   },
   "execution_count": 8
  },
  {
   "cell_type": "code",
   "outputs": [],
   "source": [],
   "metadata": {
    "ExecuteTime": {
     "end_time": "2024-04-25T07:45:02.075339Z",
     "start_time": "2024-04-25T07:45:02.060340Z"
    }
   },
   "execution_count": 8
  },
  {
   "cell_type": "code",
   "outputs": [],
   "source": [],
   "metadata": {
    "ExecuteTime": {
     "end_time": "2024-04-25T07:45:02.091338Z",
     "start_time": "2024-04-25T07:45:02.076341Z"
    }
   },
   "execution_count": 8
  },
  {
   "cell_type": "code",
   "outputs": [],
   "source": [
    "import torch.nn as nn\n",
    "import sklearn\n"
   ],
   "metadata": {
    "collapsed": false,
    "ExecuteTime": {
     "end_time": "2024-04-25T07:45:02.455339Z",
     "start_time": "2024-04-25T07:45:02.092342Z"
    }
   },
   "execution_count": 9
  },
  {
   "cell_type": "code",
   "outputs": [],
   "source": [],
   "metadata": {
    "collapsed": false,
    "ExecuteTime": {
     "end_time": "2024-04-25T07:45:02.471340Z",
     "start_time": "2024-04-25T07:45:02.456341Z"
    }
   },
   "execution_count": 9
  },
  {
   "cell_type": "code",
   "outputs": [],
   "source": [
    "empty_dict = {}"
   ],
   "metadata": {
    "collapsed": false,
    "ExecuteTime": {
     "end_time": "2024-04-25T07:45:02.836339Z",
     "start_time": "2024-04-25T07:45:02.472340Z"
    }
   },
   "execution_count": 10
  },
  {
   "cell_type": "code",
   "outputs": [],
   "source": [
    "result_temp = result_final"
   ],
   "metadata": {
    "collapsed": false,
    "ExecuteTime": {
     "end_time": "2024-04-25T07:45:03.202339Z",
     "start_time": "2024-04-25T07:45:02.837341Z"
    }
   },
   "execution_count": 11
  },
  {
   "cell_type": "code",
   "outputs": [],
   "source": [
    "for k in result_temp.keys():\n",
    "    empty_dict[k] = result_temp[k]"
   ],
   "metadata": {
    "collapsed": false,
    "ExecuteTime": {
     "end_time": "2024-04-25T07:45:03.564339Z",
     "start_time": "2024-04-25T07:45:03.203340Z"
    }
   },
   "execution_count": 12
  },
  {
   "cell_type": "code",
   "outputs": [
    {
     "ename": "NameError",
     "evalue": "name 'result_temp_2' is not defined",
     "output_type": "error",
     "traceback": [
      "\u001B[1;31m---------------------------------------------------------------------------\u001B[0m",
      "\u001B[1;31mNameError\u001B[0m                                 Traceback (most recent call last)",
      "Cell \u001B[1;32mIn[13], line 1\u001B[0m\n\u001B[1;32m----> 1\u001B[0m \u001B[38;5;28;01mfor\u001B[39;00m k \u001B[38;5;129;01min\u001B[39;00m \u001B[43mresult_temp_2\u001B[49m\u001B[38;5;241m.\u001B[39mkeys():\n\u001B[0;32m      2\u001B[0m     empty_dict[k] \u001B[38;5;241m=\u001B[39m result_temp_2[k]\n",
      "\u001B[1;31mNameError\u001B[0m: name 'result_temp_2' is not defined"
     ]
    }
   ],
   "source": [
    "for k in result_temp_2.keys():\n",
    "    empty_dict[k] = result_temp_2[k]"
   ],
   "metadata": {
    "collapsed": false,
    "ExecuteTime": {
     "end_time": "2024-04-25T07:45:05.498339Z",
     "start_time": "2024-04-25T07:45:03.565341Z"
    }
   },
   "execution_count": 13
  },
  {
   "cell_type": "code",
   "outputs": [],
   "source": [
    "for k in result_final.keys():\n",
    "    empty_dict[k] = result_final[k]"
   ],
   "metadata": {
    "collapsed": false,
    "ExecuteTime": {
     "start_time": "2024-04-25T07:45:05.499339Z"
    }
   },
   "execution_count": null
  },
  {
   "cell_type": "code",
   "outputs": [],
   "source": [
    "empty_dict.keys()"
   ],
   "metadata": {
    "collapsed": false,
    "ExecuteTime": {
     "end_time": "2024-04-25T07:45:05.500341Z",
     "start_time": "2024-04-25T07:45:05.500341Z"
    }
   },
   "execution_count": null
  },
  {
   "cell_type": "code",
   "outputs": [],
   "source": [
    "result_final = empty_dict"
   ],
   "metadata": {
    "collapsed": false,
    "ExecuteTime": {
     "start_time": "2024-04-25T07:45:05.501341Z"
    }
   },
   "execution_count": null
  },
  {
   "cell_type": "code",
   "outputs": [],
   "source": [
    "result_temp_2 = result_final"
   ],
   "metadata": {
    "collapsed": false,
    "ExecuteTime": {
     "start_time": "2024-04-25T07:45:05.502341Z"
    }
   },
   "execution_count": null
  },
  {
   "cell_type": "code",
   "outputs": [],
   "source": [
    "unlabeled_idxs"
   ],
   "metadata": {
    "collapsed": false,
    "ExecuteTime": {
     "start_time": "2024-04-25T07:45:05.502341Z"
    }
   },
   "execution_count": null
  },
  {
   "cell_type": "code",
   "outputs": [],
   "source": [
    "[print(len(ls)) for ls in strategy.dataset.combine_window_to_episode(out, seq_len_train, ~strategy.dataset.labeled_idxs)]"
   ],
   "metadata": {
    "collapsed": false,
    "ExecuteTime": {
     "start_time": "2024-04-25T07:45:05.503340Z"
    }
   },
   "execution_count": null
  },
  {
   "cell_type": "code",
   "outputs": [],
   "source": [],
   "metadata": {
    "collapsed": false,
    "ExecuteTime": {
     "start_time": "2024-04-25T07:45:05.504339Z"
    }
   },
   "execution_count": null
  },
  {
   "cell_type": "code",
   "outputs": [],
   "source": [
    "np.where(strategy.dataset.labeled_idxs == True)"
   ],
   "metadata": {
    "collapsed": false,
    "ExecuteTime": {
     "start_time": "2024-04-25T07:45:05.505341Z"
    }
   },
   "execution_count": null
  },
  {
   "cell_type": "code",
   "outputs": [],
   "source": [],
   "metadata": {
    "collapsed": false
   }
  },
  {
   "cell_type": "code",
   "metadata": {
    "ExecuteTime": {
     "start_time": "2024-04-25T07:45:05.506340Z"
    }
   },
   "source": [
    "\n",
    "for rd in range(1, NUM_ROUND + 1):\n",
    "    print('round ' + str(rd))\n",
    "    log_file_name = log_folder_root + 'rns_active/active_logs_' + strategy_name + '/logger_round_' + str(\n",
    "        rd) + '/version_0/metrics.csv'\n",
    "    logs = pd.read_csv(log_file_name)\n",
    "    max_ind = logs['val_acc'].argmax()\n",
    "    max_row = logs.iloc[max_ind]\n",
    "    ckpt_directory = ckpt_folder_root + 'rns_active/active_checkpoints_' + strategy_name\n",
    "    ckpt_files = os.listdir(ckpt_directory)\n",
    "    load_file_name = strategy_name + '_round_' + str(rd) + '-step=' + str(int(max_row['step']+1))\n",
    "    print(load_file_name)\n",
    "\n",
    "    ind = next((i for i, s in enumerate(ckpt_files) if load_file_name in s), None)\n",
    "    print(ind, ckpt_files[ind])\n",
    "    strategy.net.net = strategy.net.net.load_from_checkpoint(ckpt_directory + '/' + ckpt_files[ind], backbone=swav.backbone)\n",
    "\n",
    "    with open(log_folder_root + 'rns_active_selected/' + strategy_name + '/' + 'selected_indices.pkl', 'rb') as f:\n",
    "    # Load the content of the file into a Python object\n",
    "        selected_inds = pickle.load(f)\n",
    "    \n",
    "    # selected_ind_list = []\n",
    "    # for items in selected_inds.items():\n",
    "    #     selected_ind_list.append(np.array(items[1]))\n",
    "    q_idxs = np.array(selected_inds[rd])\n",
    "    \n",
    "    # with open(log_folder_root + 'rns_active_selected/' + strategy_name + '/' + 'selected_indices.pkl', 'wb') as f:\n",
    "    #     pickle.dump(selected_inds, f)\n",
    "# Now you can use the dictionary object as usual\n",
    "    strategy.update(q_idxs)\n",
    "    \n",
    "    _, unlabeled_data = strategy.dataset.get_train_data_unaugmented()\n",
    "    predictions = strategy.net.run_prediction(unlabeled_data)\n",
    "    output_list = []\n",
    "    seq_len_list = []\n",
    "    target_list = []\n",
    "    emb_list = []\n",
    "    m = nn.Softmax(dim=1)\n",
    "    for pred, y, emb, emb_t, seq_len in predictions:\n",
    "        output_list.append(pred)\n",
    "        seq_len_list.append(seq_len)\n",
    "        target_list.append(y)\n",
    "        emb_list.append(emb)\n",
    "\n",
    "    target = torch.concat(target_list)\n",
    "    emb = torch.vstack(emb_list)\n",
    "    pred_raw = torch.vstack(output_list).float()\n",
    "    seq_len_out = torch.tensor([item for sublist in seq_len_list for item in sublist])\n",
    "    probs = m(pred_raw)\n",
    "    out = torch.argmax(pred_raw, dim=1)\n",
    "    unlabeled_idxs, _ = strategy.dataset.get_unlabeled_data()\n",
    "    f1_score = sklearn.metrics.f1_score(target[unlabeled_idxs],out[unlabeled_idxs])\n",
    "\n",
    "    print(f1_score)\n",
    "\n",
    "#     strategy.net.round = rd\n",
    "#     strategy.net.net.load_state_dict(modelstate)\n",
    "#     torch.cuda.empty_cache()\n",
    "#     strategy.train()\n",
    "#     torch.cuda.empty_cache()"
   ],
   "outputs": [],
   "execution_count": null
  },
  {
   "metadata": {
    "ExecuteTime": {
     "start_time": "2024-04-25T07:45:05.507341Z"
    }
   },
   "cell_type": "code",
   "source": [
    "unlabeled_idxs, _ = strategy.dataset.get_unlabeled_data()"
   ],
   "outputs": [],
   "execution_count": null
  },
  {
   "metadata": {
    "ExecuteTime": {
     "start_time": "2024-04-25T07:45:05.508340Z"
    }
   },
   "cell_type": "code",
   "source": [
    "clf_report = sklearn.metrics.classification_report(torch.argmax(pred_raw, dim=1), target, digits=6)\n",
    "\n",
    "print(f\"Classification Report : \\n{clf_report}\")"
   ],
   "outputs": [],
   "execution_count": null
  },
  {
   "metadata": {
    "ExecuteTime": {
     "start_time": "2024-04-25T07:45:05.508340Z"
    }
   },
   "cell_type": "code",
   "source": [
    "f1_score = sklearn.metrics.f1_score(target,out)"
   ],
   "outputs": [],
   "execution_count": null
  },
  {
   "metadata": {
    "ExecuteTime": {
     "start_time": "2024-04-25T07:45:05.509340Z"
    }
   },
   "cell_type": "code",
   "source": [
    "f1_score"
   ],
   "outputs": [],
   "execution_count": null
  },
  {
   "metadata": {
    "ExecuteTime": {
     "start_time": "2024-04-25T07:45:05.510341Z"
    }
   },
   "cell_type": "code",
   "outputs": [],
   "execution_count": null,
   "source": []
  }
 ],
 "metadata": {
  "kernelspec": {
   "display_name": "Python 3 (ipykernel)",
   "language": "python",
   "name": "python3"
  },
  "language_info": {
   "codemirror_mode": {
    "name": "ipython",
    "version": 3
   },
   "file_extension": ".py",
   "mimetype": "text/x-python",
   "name": "python",
   "nbconvert_exporter": "python",
   "pygments_lexer": "ipython3",
   "version": "3.10.5"
  }
 },
 "nbformat": 4,
 "nbformat_minor": 1
}
