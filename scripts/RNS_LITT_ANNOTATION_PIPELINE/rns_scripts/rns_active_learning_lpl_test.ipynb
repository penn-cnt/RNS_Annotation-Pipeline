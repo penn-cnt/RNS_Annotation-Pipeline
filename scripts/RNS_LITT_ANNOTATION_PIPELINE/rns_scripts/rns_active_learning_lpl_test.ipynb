{
 "cells": [
  {
   "cell_type": "code",
   "execution_count": 1,
   "metadata": {
    "ExecuteTime": {
     "start_time": "2024-04-16T19:33:51.166425Z",
     "end_time": "2024-04-16T19:33:52.482610Z"
    }
   },
   "outputs": [],
   "source": [
    "import plotly\n",
    "%load_ext autoreload\n",
    "%autoreload 2\n",
    "%matplotlib widget"
   ]
  },
  {
   "cell_type": "code",
   "execution_count": 2,
   "metadata": {
    "ExecuteTime": {
     "start_time": "2024-04-16T19:33:52.476480Z",
     "end_time": "2024-04-16T19:34:00.907129Z"
    }
   },
   "outputs": [],
   "source": [
    "import numpy as np\n",
    "import random\n",
    "import sys\n",
    "\n",
    "sys.path.append('../tools')\n",
    "\n",
    "import os\n",
    "\n",
    "import torch\n",
    "\n",
    "import pandas as pd\n",
    "from sklearn.model_selection import train_test_split\n",
    "import pytorch_lightning as pl\n",
    "import pytorch_lightning.loggers as pl_loggers\n",
    "import pytorch_lightning.callbacks as pl_callbacks\n",
    "import data_utility, annotation_utility\n",
    "from models.rns_dataloader import *\n",
    "from active_learning_utility import get_strategy\n",
    "from active_learning_data import Data\n",
    "from active_learning_net import Net\n",
    "from active_learning_waal import Net_WAAL, WAAL, Classifier,Discriminator\n",
    "from active_learning_lpl import Classifier, LossNet, LPL, Backbone\n",
    "from copy import deepcopy\n",
    "from models.SwaV import SwaV\n",
    "from models.LSTMDownStream import SupervisedDownstream\n",
    "import warnings\n",
    "import pickle\n",
    "warnings.filterwarnings(\"ignore\")\n"
   ]
  },
  {
   "cell_type": "code",
   "execution_count": 3,
   "metadata": {
    "ExecuteTime": {
     "start_time": "2024-04-16T19:34:00.909170Z",
     "end_time": "2024-04-16T19:34:01.343311Z"
    }
   },
   "outputs": [
    {
     "name": "stderr",
     "output_type": "stream",
     "text": [
      "Global seed set to 42\n"
     ]
    },
    {
     "data": {
      "text/plain": "42"
     },
     "execution_count": 3,
     "metadata": {},
     "output_type": "execute_result"
    }
   ],
   "source": [
    "random_seed = 42\n",
    "random.seed(random_seed)\n",
    "torch.manual_seed(random_seed)\n",
    "np.random.seed(random_seed)\n",
    "\n",
    "if torch.cuda.is_available():\n",
    "    torch.cuda.manual_seed(random_seed)\n",
    "    # True ensures the algorithm selected by CUFA is deterministic\n",
    "    torch.backends.cudnn.deterministic = True\n",
    "    # torch.set_deterministic(True)\n",
    "    # False ensures CUDA select the same algorithm each time the application is run\n",
    "    torch.backends.cudnn.benchmark = False\n",
    "\n",
    "import pytorch_lightning\n",
    "\n",
    "pytorch_lightning.utilities.seed.seed_everything(seed=random_seed, workers=True)"
   ]
  },
  {
   "cell_type": "code",
   "execution_count": 4,
   "metadata": {
    "ExecuteTime": {
     "start_time": "2024-04-16T19:34:01.345358Z",
     "end_time": "2024-04-16T19:34:01.728508Z"
    }
   },
   "outputs": [],
   "source": [
    "data_dir = \"../../../user_data/\"\n",
    "log_folder_root = '../../../user_data/logs/'\n",
    "ckpt_folder_root = '../../../user_data/checkpoints/'"
   ]
  },
  {
   "cell_type": "code",
   "execution_count": 5,
   "metadata": {
    "ExecuteTime": {
     "start_time": "2024-04-16T19:34:01.729533Z",
     "end_time": "2024-04-16T19:34:02.114767Z"
    }
   },
   "outputs": [],
   "source": [
    "strategy_name = 'LossPredictionLoss'"
   ]
  },
  {
   "cell_type": "code",
   "execution_count": 6,
   "metadata": {
    "ExecuteTime": {
     "start_time": "2024-04-16T19:34:02.115783Z",
     "end_time": "2024-04-16T19:34:02.510261Z"
    }
   },
   "outputs": [],
   "source": [
    "nStart = 1\n",
    "nEnd = 20\n",
    "nQuery = 2"
   ]
  },
  {
   "cell_type": "code",
   "execution_count": 7,
   "metadata": {
    "ExecuteTime": {
     "start_time": "2024-04-16T19:34:02.512799Z",
     "end_time": "2024-04-16T19:34:02.890378Z"
    }
   },
   "outputs": [],
   "source": [
    "args_task = {'n_epoch': 50,\n",
    "             'transform_train': True,\n",
    "             'strategy_name': strategy_name,\n",
    "             'transform': False,\n",
    "             'loader_tr_args': {'batch_size': 8, 'num_workers': 4, 'collate_fn': collate_fn,\n",
    "                                'drop_last': True, 'persistent_workers': True},\n",
    "             'loader_te_args': {'batch_size': 2, 'num_workers': 4, 'collate_fn': collate_fn,\n",
    "                                'drop_last': True, 'persistent_workers': True}\n",
    "             }"
   ]
  },
  {
   "cell_type": "code",
   "execution_count": 8,
   "metadata": {
    "ExecuteTime": {
     "start_time": "2024-04-16T19:34:02.890378Z",
     "end_time": "2024-04-16T19:34:03.273552Z"
    }
   },
   "outputs": [],
   "source": [
    "# raw_annotations = pd.read_csv(data_dir + 'full_updated_anns_annotTbl_cleaned.csv')\n",
    "# ids = list(np.unique(raw_annotations[raw_annotations['descriptions'].notnull()]['HUP_ID']))\n",
    "# # ids = list(np.unique(raw_annotations['HUP_ID']))\n",
    "#\n",
    "# data_import = data_utility.read_files(path=data_dir+'rns_data', path_data=data_dir+'rns_raw_cache', patientIDs=ids,\n",
    "#                                       verbose=True)  # Import data with annotation"
   ]
  },
  {
   "cell_type": "code",
   "execution_count": 9,
   "metadata": {
    "ExecuteTime": {
     "start_time": "2024-04-16T19:34:03.275582Z",
     "end_time": "2024-04-16T19:34:07.518083Z"
    }
   },
   "outputs": [
    {
     "name": "stderr",
     "output_type": "stream",
     "text": [
      "16it [00:03,  4.19it/s]"
     ]
    },
    {
     "name": "stdout",
     "output_type": "stream",
     "text": [
      "(992,)\n",
      "(992,)\n",
      "(270,)\n",
      "(270,)\n"
     ]
    },
    {
     "name": "stderr",
     "output_type": "stream",
     "text": [
      "\n"
     ]
    }
   ],
   "source": [
    "# data_list = os.listdir(data_dir+'rns_test_cache')\n",
    "# print(data_list)\n",
    "data_list = ['HUP047.npy', 'HUP084.npy', 'HUP096.npy', 'HUP109.npy', 'HUP121.npy', 'HUP129.npy', 'HUP131.npy',\n",
    "             'HUP137.npy', 'HUP147.npy', 'HUP156.npy', 'HUP159.npy', 'HUP182.npy', 'HUP197.npy', 'HUP199.npy',\n",
    "             'RNS026.npy', 'RNS029.npy']\n",
    "# data_list = os.listdir(data_dir+'rns_test_cache')[1:]\n",
    "\n",
    "# data_list = ['HUP182.npy',   'HUP129.npy',   'HUP109.npy', 'HUP156.npy', 'HUP096.npy', 'RNS026.npy',  'HUP159.npy']\n",
    "# data_list = ['RNS026.npy', 'HUP159.npy', 'HUP129.npy', 'HUP096.npy', 'HUP182.npy']\n",
    "train_data, train_label, test_data, test_label, train_index, test_index = get_data_by_episode(data_list, split=0.8)\n",
    "# data, label,_,_ = get_data(data_list, split=1)\n",
    "# train_data, test_data, train_label, test_label = sklearn.model_selection.train_test_split(data, label, test_size=0.8, random_state=42)\n",
    "\n",
    "print(train_data.shape)\n",
    "print(train_label.shape)\n",
    "print(test_data.shape)\n",
    "print(test_label.shape)"
   ]
  },
  {
   "cell_type": "code",
   "execution_count": 10,
   "metadata": {
    "ExecuteTime": {
     "start_time": "2024-04-16T19:34:07.490638Z",
     "end_time": "2024-04-16T19:34:09.150981Z"
    }
   },
   "outputs": [],
   "source": [
    "X_train = np.concatenate(train_data)\n",
    "y_train = np.concatenate(train_label)\n",
    "X_test = np.concatenate(test_data)\n",
    "y_test = np.concatenate(test_label)\n",
    "index_train = np.concatenate(train_index)\n",
    "index_test = np.concatenate(test_index)\n",
    "seq_len_train = np.array([y.shape[0] for y in train_label])\n",
    "seq_len_test = np.array([y.shape[0] for y in test_label])"
   ]
  },
  {
   "cell_type": "code",
   "execution_count": 11,
   "metadata": {
    "ExecuteTime": {
     "start_time": "2024-04-16T19:34:09.153560Z",
     "end_time": "2024-04-16T19:34:09.542479Z"
    }
   },
   "outputs": [
    {
     "name": "stdout",
     "output_type": "stream",
     "text": [
      "9\n",
      "19\n",
      "10\n"
     ]
    }
   ],
   "source": [
    "n_pool = len(train_data)\n",
    "n_test = len(test_data)\n",
    "\n",
    "NUM_INIT_LB = int(nStart * n_pool / 100)\n",
    "NUM_QUERY = int(nQuery * n_pool / 100) if nStart != 100 else 0\n",
    "NUM_ROUND = int((int(nEnd * n_pool / 100) - NUM_INIT_LB) / NUM_QUERY) if nStart != 100 else 0\n",
    "if NUM_QUERY != 0:\n",
    "    if (int(nEnd * n_pool / 100) - NUM_INIT_LB) % NUM_QUERY != 0:\n",
    "        NUM_ROUND += 1\n",
    "\n",
    "print(NUM_INIT_LB)\n",
    "print(NUM_QUERY)\n",
    "print(NUM_ROUND)"
   ]
  },
  {
   "cell_type": "code",
   "execution_count": 12,
   "metadata": {
    "ExecuteTime": {
     "start_time": "2024-04-16T19:34:09.543510Z",
     "end_time": "2024-04-16T19:34:09.922254Z"
    }
   },
   "outputs": [],
   "source": [
    "dataset = Data(X_train, y_train, X_test, y_test, seq_len_train, seq_len_test, RNS_Active_by_episode_LSTM, args_task)"
   ]
  },
  {
   "cell_type": "code",
   "execution_count": 13,
   "metadata": {
    "ExecuteTime": {
     "start_time": "2024-04-16T19:34:09.923280Z",
     "end_time": "2024-04-16T19:34:10.583161Z"
    }
   },
   "outputs": [],
   "source": [
    "# swav = SwaV().load_from_checkpoint(\n",
    "#     ckpt_folder_root + 'rns_swav_50_12/rns_swav-epoch=82-swav_loss=2.58204.ckpt')\n",
    "swav = SwaV()\n",
    "model = LPL(Backbone(swav.backbone), Classifier(2048), LossNet())\n",
    "modelstate = deepcopy(model.state_dict())\n",
    "device = \"cuda\" if torch.cuda.is_available() else \"cpu\"\n",
    "\n",
    "net = Net(model, args_task, device, ckpt_folder_root='rns_active', log_folder_root='rns_active')"
   ]
  },
  {
   "cell_type": "code",
   "execution_count": 14,
   "metadata": {
    "ExecuteTime": {
     "start_time": "2024-04-16T19:34:10.584362Z",
     "end_time": "2024-04-16T19:34:11.012728Z"
    }
   },
   "outputs": [],
   "source": [
    "strategy = get_strategy(strategy_name, dataset, net, None, args_task, rns_data=True)"
   ]
  },
  {
   "cell_type": "code",
   "execution_count": 15,
   "metadata": {
    "ExecuteTime": {
     "start_time": "2024-04-16T19:34:11.005179Z",
     "end_time": "2024-04-16T19:34:11.382720Z"
    }
   },
   "outputs": [],
   "source": [
    "# initial round of training, round 0\n",
    "dataset.initialize_labels(NUM_INIT_LB)"
   ]
  },
  {
   "cell_type": "code",
   "execution_count": 16,
   "metadata": {
    "ExecuteTime": {
     "start_time": "2024-04-16T19:34:11.382720Z",
     "end_time": "2024-04-16T19:34:11.787495Z"
    }
   },
   "outputs": [],
   "source": [
    "ids, _ = dataset.get_labeled_data()\n",
    "\n",
    "selected_inds = {}\n",
    "selected_inds[0] = ids\n",
    "\n",
    "if not os.path.exists(log_folder_root + 'rns_active_selected/' + strategy_name):\n",
    "    os.makedirs(log_folder_root + 'rns_active_selected/' + strategy_name)\n",
    "\n",
    "# Serialize and save to a file\n",
    "with open(log_folder_root + 'rns_active_selected/' + strategy_name + '/' + 'selected_indices.pkl', 'wb') as f:\n",
    "    pickle.dump(selected_inds, f)"
   ]
  },
  {
   "cell_type": "code",
   "execution_count": 16,
   "outputs": [],
   "source": [],
   "metadata": {
    "collapsed": false,
    "ExecuteTime": {
     "start_time": "2024-04-16T19:34:11.790449Z",
     "end_time": "2024-04-16T19:34:11.809403Z"
    }
   }
  },
  {
   "cell_type": "code",
   "execution_count": 17,
   "metadata": {
    "ExecuteTime": {
     "start_time": "2024-04-16T19:34:11.809403Z",
     "end_time": "2024-04-16T19:39:03.628438Z"
    }
   },
   "outputs": [
    {
     "name": "stderr",
     "output_type": "stream",
     "text": [
      "Using 16bit native Automatic Mixed Precision (AMP)\n",
      "GPU available: True (cuda), used: True\n",
      "TPU available: False, using: 0 TPU cores\n",
      "IPU available: False, using: 0 IPUs\n",
      "HPU available: False, using: 0 HPUs\n",
      "LOCAL_RANK: 0 - CUDA_VISIBLE_DEVICES: [0]\n"
     ]
    },
    {
     "data": {
      "text/plain": "Sanity Checking: 0it [00:00, ?it/s]",
      "application/vnd.jupyter.widget-view+json": {
       "version_major": 2,
       "version_minor": 0,
       "model_id": "cf13a1ee4a05431ca22c2ce6f0f8f340"
      }
     },
     "metadata": {},
     "output_type": "display_data"
    },
    {
     "data": {
      "text/plain": "Training: 0it [00:00, ?it/s]",
      "application/vnd.jupyter.widget-view+json": {
       "version_major": 2,
       "version_minor": 0,
       "model_id": "9fe5047c59e340f5adb6523e199dba92"
      }
     },
     "metadata": {},
     "output_type": "display_data"
    },
    {
     "data": {
      "text/plain": "Validation: 0it [00:00, ?it/s]",
      "application/vnd.jupyter.widget-view+json": {
       "version_major": 2,
       "version_minor": 0,
       "model_id": "6f7c6ec57bcf42fab42289ef82f518b4"
      }
     },
     "metadata": {},
     "output_type": "display_data"
    },
    {
     "data": {
      "text/plain": "Validation: 0it [00:00, ?it/s]",
      "application/vnd.jupyter.widget-view+json": {
       "version_major": 2,
       "version_minor": 0,
       "model_id": "d6a7a78a025246dabd425b654c872d27"
      }
     },
     "metadata": {},
     "output_type": "display_data"
    },
    {
     "name": "stderr",
     "output_type": "stream",
     "text": [
      "`Trainer.fit` stopped: `max_epochs=50` reached.\n"
     ]
    }
   ],
   "source": [
    "strategy.train()"
   ]
  },
  {
   "cell_type": "code",
   "execution_count": null,
   "outputs": [
    {
     "name": "stdout",
     "output_type": "stream",
     "text": [
      "round 1\n",
      "LossPredictionLoss_round_0-step=40\n",
      "1 LossPredictionLoss_round_0-step=40-train_loss=0.02675.ckpt\n"
     ]
    },
    {
     "name": "stderr",
     "output_type": "stream",
     "text": [
      "100%|██████████| 496/496 [01:54<00:00,  4.34it/s]\n"
     ]
    },
    {
     "name": "stdout",
     "output_type": "stream",
     "text": [
      "total_select_from 7840.0\n",
      "selected 1714.0\n"
     ]
    },
    {
     "name": "stderr",
     "output_type": "stream",
     "text": [
      "Using 16bit native Automatic Mixed Precision (AMP)\n",
      "GPU available: True (cuda), used: True\n",
      "TPU available: False, using: 0 TPU cores\n",
      "IPU available: False, using: 0 IPUs\n",
      "HPU available: False, using: 0 HPUs\n",
      "LOCAL_RANK: 0 - CUDA_VISIBLE_DEVICES: [0]\n"
     ]
    },
    {
     "data": {
      "text/plain": "Sanity Checking: 0it [00:00, ?it/s]",
      "application/vnd.jupyter.widget-view+json": {
       "version_major": 2,
       "version_minor": 0,
       "model_id": "74d7208b96954b17a40d8b05c8b27889"
      }
     },
     "metadata": {},
     "output_type": "display_data"
    },
    {
     "data": {
      "text/plain": "Training: 0it [00:00, ?it/s]",
      "application/vnd.jupyter.widget-view+json": {
       "version_major": 2,
       "version_minor": 0,
       "model_id": "d7ff1ae47de74cd6983a4431ed5d596f"
      }
     },
     "metadata": {},
     "output_type": "display_data"
    },
    {
     "data": {
      "text/plain": "Validation: 0it [00:00, ?it/s]",
      "application/vnd.jupyter.widget-view+json": {
       "version_major": 2,
       "version_minor": 0,
       "model_id": "488cbeb2066947d4987f7de3fa73fc2f"
      }
     },
     "metadata": {},
     "output_type": "display_data"
    },
    {
     "data": {
      "text/plain": "Validation: 0it [00:00, ?it/s]",
      "application/vnd.jupyter.widget-view+json": {
       "version_major": 2,
       "version_minor": 0,
       "model_id": "7035d781aaf941a39e607bd100b19d0b"
      }
     },
     "metadata": {},
     "output_type": "display_data"
    },
    {
     "data": {
      "text/plain": "Validation: 0it [00:00, ?it/s]",
      "application/vnd.jupyter.widget-view+json": {
       "version_major": 2,
       "version_minor": 0,
       "model_id": "23e9207b8b23433fb7f21f8daa0db125"
      }
     },
     "metadata": {},
     "output_type": "display_data"
    },
    {
     "data": {
      "text/plain": "Validation: 0it [00:00, ?it/s]",
      "application/vnd.jupyter.widget-view+json": {
       "version_major": 2,
       "version_minor": 0,
       "model_id": "65ce5dd97603467aa6fa48c3d3a5b495"
      }
     },
     "metadata": {},
     "output_type": "display_data"
    },
    {
     "data": {
      "text/plain": "Validation: 0it [00:00, ?it/s]",
      "application/vnd.jupyter.widget-view+json": {
       "version_major": 2,
       "version_minor": 0,
       "model_id": "2450b619a6a84a4b84e155f3ef951b73"
      }
     },
     "metadata": {},
     "output_type": "display_data"
    },
    {
     "data": {
      "text/plain": "Validation: 0it [00:00, ?it/s]",
      "application/vnd.jupyter.widget-view+json": {
       "version_major": 2,
       "version_minor": 0,
       "model_id": "38ec521e92ea4b939471a64a06967b7d"
      }
     },
     "metadata": {},
     "output_type": "display_data"
    },
    {
     "data": {
      "text/plain": "Validation: 0it [00:00, ?it/s]",
      "application/vnd.jupyter.widget-view+json": {
       "version_major": 2,
       "version_minor": 0,
       "model_id": "ec091a6493924683899f583a14019aad"
      }
     },
     "metadata": {},
     "output_type": "display_data"
    },
    {
     "data": {
      "text/plain": "Validation: 0it [00:00, ?it/s]",
      "application/vnd.jupyter.widget-view+json": {
       "version_major": 2,
       "version_minor": 0,
       "model_id": "1f08611d4dc34f39a6684008daccee40"
      }
     },
     "metadata": {},
     "output_type": "display_data"
    },
    {
     "data": {
      "text/plain": "Validation: 0it [00:00, ?it/s]",
      "application/vnd.jupyter.widget-view+json": {
       "version_major": 2,
       "version_minor": 0,
       "model_id": "d32ad42343c3496cae5edc63aee390d3"
      }
     },
     "metadata": {},
     "output_type": "display_data"
    },
    {
     "data": {
      "text/plain": "Validation: 0it [00:00, ?it/s]",
      "application/vnd.jupyter.widget-view+json": {
       "version_major": 2,
       "version_minor": 0,
       "model_id": "84e630bf78bd4c888ff50c6e42a10a95"
      }
     },
     "metadata": {},
     "output_type": "display_data"
    },
    {
     "data": {
      "text/plain": "Validation: 0it [00:00, ?it/s]",
      "application/vnd.jupyter.widget-view+json": {
       "version_major": 2,
       "version_minor": 0,
       "model_id": "2864761fb77742abbe4dbf3aecce79b5"
      }
     },
     "metadata": {},
     "output_type": "display_data"
    },
    {
     "data": {
      "text/plain": "Validation: 0it [00:00, ?it/s]",
      "application/vnd.jupyter.widget-view+json": {
       "version_major": 2,
       "version_minor": 0,
       "model_id": "e33d09d4a3ee42dc8d84485a2c5ee1e7"
      }
     },
     "metadata": {},
     "output_type": "display_data"
    },
    {
     "data": {
      "text/plain": "Validation: 0it [00:00, ?it/s]",
      "application/vnd.jupyter.widget-view+json": {
       "version_major": 2,
       "version_minor": 0,
       "model_id": "591ea7f2313a4124aa75ad2d25473958"
      }
     },
     "metadata": {},
     "output_type": "display_data"
    },
    {
     "data": {
      "text/plain": "Validation: 0it [00:00, ?it/s]",
      "application/vnd.jupyter.widget-view+json": {
       "version_major": 2,
       "version_minor": 0,
       "model_id": "863245f5d37247b7ac1ce2758210c649"
      }
     },
     "metadata": {},
     "output_type": "display_data"
    },
    {
     "data": {
      "text/plain": "Validation: 0it [00:00, ?it/s]",
      "application/vnd.jupyter.widget-view+json": {
       "version_major": 2,
       "version_minor": 0,
       "model_id": "5fe3f3e312b14197a0036f387366d22d"
      }
     },
     "metadata": {},
     "output_type": "display_data"
    },
    {
     "data": {
      "text/plain": "Validation: 0it [00:00, ?it/s]",
      "application/vnd.jupyter.widget-view+json": {
       "version_major": 2,
       "version_minor": 0,
       "model_id": "72d03a440db848329ee3fa2e089991fc"
      }
     },
     "metadata": {},
     "output_type": "display_data"
    },
    {
     "data": {
      "text/plain": "Validation: 0it [00:00, ?it/s]",
      "application/vnd.jupyter.widget-view+json": {
       "version_major": 2,
       "version_minor": 0,
       "model_id": "35ec82b13a2c4453961e4f729bb9c839"
      }
     },
     "metadata": {},
     "output_type": "display_data"
    },
    {
     "data": {
      "text/plain": "Validation: 0it [00:00, ?it/s]",
      "application/vnd.jupyter.widget-view+json": {
       "version_major": 2,
       "version_minor": 0,
       "model_id": "e61278dbe2724b2bafb89c06d2d0054f"
      }
     },
     "metadata": {},
     "output_type": "display_data"
    },
    {
     "data": {
      "text/plain": "Validation: 0it [00:00, ?it/s]",
      "application/vnd.jupyter.widget-view+json": {
       "version_major": 2,
       "version_minor": 0,
       "model_id": "558603b071c346519e61ce5bd43f2729"
      }
     },
     "metadata": {},
     "output_type": "display_data"
    },
    {
     "data": {
      "text/plain": "Validation: 0it [00:00, ?it/s]",
      "application/vnd.jupyter.widget-view+json": {
       "version_major": 2,
       "version_minor": 0,
       "model_id": "468a2befb1f14c138ea6badbe18656b4"
      }
     },
     "metadata": {},
     "output_type": "display_data"
    },
    {
     "name": "stderr",
     "output_type": "stream",
     "text": [
      "`Trainer.fit` stopped: `max_epochs=50` reached.\n"
     ]
    },
    {
     "name": "stdout",
     "output_type": "stream",
     "text": [
      "round 2\n",
      "LossPredictionLoss_round_1-step=320\n",
      "14 LossPredictionLoss_round_1-step=320-train_loss=0.01512.ckpt\n"
     ]
    },
    {
     "name": "stderr",
     "output_type": "stream",
     "text": [
      "100%|██████████| 496/496 [01:52<00:00,  4.40it/s]\n"
     ]
    },
    {
     "name": "stdout",
     "output_type": "stream",
     "text": [
      "total_select_from 13644.0\n",
      "selected 1740.0\n"
     ]
    },
    {
     "name": "stderr",
     "output_type": "stream",
     "text": [
      "Using 16bit native Automatic Mixed Precision (AMP)\n",
      "GPU available: True (cuda), used: True\n",
      "TPU available: False, using: 0 TPU cores\n",
      "IPU available: False, using: 0 IPUs\n",
      "HPU available: False, using: 0 HPUs\n",
      "LOCAL_RANK: 0 - CUDA_VISIBLE_DEVICES: [0]\n"
     ]
    },
    {
     "data": {
      "text/plain": "Sanity Checking: 0it [00:00, ?it/s]",
      "application/vnd.jupyter.widget-view+json": {
       "version_major": 2,
       "version_minor": 0,
       "model_id": "dd2276d7b9f444a2a6f49e740eaa37f4"
      }
     },
     "metadata": {},
     "output_type": "display_data"
    },
    {
     "data": {
      "text/plain": "Training: 0it [00:00, ?it/s]",
      "application/vnd.jupyter.widget-view+json": {
       "version_major": 2,
       "version_minor": 0,
       "model_id": "d41909a43fa2446a866cb62ef0e5c602"
      }
     },
     "metadata": {},
     "output_type": "display_data"
    },
    {
     "data": {
      "text/plain": "Validation: 0it [00:00, ?it/s]",
      "application/vnd.jupyter.widget-view+json": {
       "version_major": 2,
       "version_minor": 0,
       "model_id": "f9380a56922f4f33a90a043349a40426"
      }
     },
     "metadata": {},
     "output_type": "display_data"
    },
    {
     "data": {
      "text/plain": "Validation: 0it [00:00, ?it/s]",
      "application/vnd.jupyter.widget-view+json": {
       "version_major": 2,
       "version_minor": 0,
       "model_id": "2c2df88454cf470f8f30f80533f7c518"
      }
     },
     "metadata": {},
     "output_type": "display_data"
    }
   ],
   "source": [
    "for rd in range(1, NUM_ROUND + 1):\n",
    "    print('round ' + str(rd))\n",
    "    log_file_name = log_folder_root + 'rns_active/active_logs_' + strategy_name + '/logger_round_' + str(\n",
    "        rd - 1) + '/version_0/metrics.csv'\n",
    "    logs = pd.read_csv(log_file_name)\n",
    "    max_ind = logs['val_acc'].argmax()\n",
    "    max_row = logs.iloc[max_ind]\n",
    "    ckpt_directory = ckpt_folder_root + 'rns_active/active_checkpoints_' + strategy_name\n",
    "    ckpt_files = os.listdir(ckpt_directory)\n",
    "    load_file_name = strategy_name + '_round_' + str(rd - 1) + '-step=' + str(int(max_row['step'] + 1))\n",
    "    print(load_file_name)\n",
    "\n",
    "    ind = next((i for i, s in enumerate(ckpt_files) if load_file_name in s), None)\n",
    "    print(ind, ckpt_files[ind])\n",
    "    strategy.net.net.load_from_checkpoint(ckpt_directory + '/' + ckpt_files[ind],\n",
    "                                          net_fea=Backbone(swav.backbone),\n",
    "                                          net_clf=Classifier(2048),\n",
    "                                          net_lpl=LossNet())\n",
    "\n",
    "    q_idxs = strategy.query(NUM_QUERY * 90)\n",
    "\n",
    "    with open(log_folder_root + 'rns_active_selected/' + strategy_name + '/' + 'selected_indices.pkl', 'rb') as f:\n",
    "        # Load the content of the file into a Python object\n",
    "        selected_inds = pickle.load(f)\n",
    "    selected_inds[rd] = q_idxs\n",
    "    with open(log_folder_root + 'rns_active_selected/' + strategy_name + '/' + 'selected_indices.pkl', 'wb') as f:\n",
    "        pickle.dump(selected_inds, f)\n",
    "    # Now you can use the dictionary object as usual\n",
    "    strategy.update(q_idxs)\n",
    "    strategy.net.round = rd\n",
    "    strategy.net.net.load_state_dict(modelstate)\n",
    "    strategy.train()"
   ],
   "metadata": {
    "collapsed": false,
    "ExecuteTime": {
     "start_time": "2024-04-15T20:27:36.917674Z",
     "end_time": "2024-04-15T23:29:05.524508Z"
    },
    "pycharm": {
     "is_executing": true
    }
   }
  },
  {
   "cell_type": "code",
   "execution_count": null,
   "outputs": [],
   "source": [
    "from torch.utils.data import DataLoader\n",
    "unlabeled_idxs, unlabeled_data = strategy.dataset.get_unlabeled_data()\n",
    "loader_te = DataLoader(unlabeled_data, shuffle=False, **strategy.args_task['loader_te_args'])\n",
    "\n",
    "strategy.net.net.net_fea.eval()\n",
    "strategy.net.net.net_dis.eval()\n",
    "\n",
    "scores = torch.zeros(len(unlabeled_data))\n",
    "\n",
    "with torch.no_grad():\n",
    "    for x, y, idxs in tqdm(loader_te):\n",
    "        x, y = x.cuda(), y.cuda()\n",
    "        latent = strategy.net.net.net_fea(x).view(-1,2048)\n",
    "        out = strategy.net.net.net_dis(latent).cpu()\n",
    "        scores[idxs] = out.view(-1)"
   ],
   "metadata": {
    "collapsed": false
   }
  },
  {
   "cell_type": "code",
   "execution_count": null,
   "outputs": [],
   "source": [
    "strategy.net.net.net_dis.net[3](strategy.net.net.net_dis.net[3](strategy.net.net.net_dis.net[2](strategy.net.net.net_dis.net[1](strategy.net.net.net_dis.net[0](torch.rand((180,512)).cuda())))))"
   ],
   "metadata": {
    "collapsed": false,
    "ExecuteTime": {
     "start_time": "2024-04-10T13:47:50.485116Z",
     "end_time": "2024-04-10T13:47:50.952180Z"
    }
   }
  },
  {
   "cell_type": "code",
   "execution_count": null,
   "outputs": [],
   "source": [
    "strategy.net.net.net_dis(torch.rand((180,512)).cuda())"
   ],
   "metadata": {
    "collapsed": false,
    "ExecuteTime": {
     "start_time": "2024-04-10T13:48:13.649676Z",
     "end_time": "2024-04-10T13:48:14.196799Z"
    }
   }
  },
  {
   "cell_type": "code",
   "execution_count": null,
   "outputs": [],
   "source": [
    "out"
   ],
   "metadata": {
    "collapsed": false,
    "ExecuteTime": {
     "start_time": "2024-04-10T17:26:24.712399Z",
     "end_time": "2024-04-10T17:26:26.395837Z"
    }
   }
  },
  {
   "cell_type": "code",
   "execution_count": null,
   "outputs": [],
   "source": [
    "import torchvision\n",
    "resnet50 = torchvision.models.resnet50()\n",
    "for name, para in resnet18.named_children():\n",
    "     print(\"-\"*20)\n",
    "     print(f\"name: {name}\")\n",
    "     print(\"values: \")\n",
    "     print(para)"
   ],
   "metadata": {
    "collapsed": false,
    "ExecuteTime": {
     "start_time": "2024-04-10T17:48:57.505118Z",
     "end_time": "2024-04-10T17:48:58.143020Z"
    }
   }
  },
  {
   "cell_type": "code",
   "execution_count": null,
   "outputs": [],
   "source": [
    "from torch.utils.data import DataLoader\n",
    "train_loader = DataLoader(\n",
    "                strategy.net.handler_joint(X_labeled, Y_labeled, X_unlabeled, Y_unlabeled,\n",
    "                                   transform=strategy.net.params['transform_train']),\n",
    "                shuffle=True,\n",
    "                **strategy.net.params['loader_tr_args']\n",
    "            )\n",
    "testloader = DataLoader(test_data, shuffle=False, **strategy.net.params['loader_te_args'])"
   ],
   "metadata": {
    "collapsed": false,
    "ExecuteTime": {
     "start_time": "2024-04-10T11:05:30.845800Z",
     "end_time": "2024-04-10T11:05:31.174801Z"
    }
   }
  },
  {
   "cell_type": "code",
   "execution_count": null,
   "outputs": [],
   "source": [
    "label_x, label_y, seq_len_label, unlabel_x, _, seq_len_unlabel = next(iter(train_loader))\n",
    "len(label_x)"
   ],
   "metadata": {
    "collapsed": false,
    "ExecuteTime": {
     "start_time": "2024-04-10T10:51:05.659756Z",
     "end_time": "2024-04-10T10:51:10.180757Z"
    }
   }
  },
  {
   "cell_type": "code",
   "execution_count": null,
   "outputs": [],
   "source": [
    "dis_loss"
   ],
   "metadata": {
    "collapsed": false,
    "ExecuteTime": {
     "start_time": "2024-04-09T18:35:16.684403Z",
     "end_time": "2024-04-09T18:35:17.062403Z"
    }
   }
  },
  {
   "cell_type": "code",
   "execution_count": null,
   "outputs": [],
   "source": [
    "wassertein_distance"
   ],
   "metadata": {
    "collapsed": false,
    "ExecuteTime": {
     "start_time": "2024-04-09T18:35:10.439746Z",
     "end_time": "2024-04-09T18:35:10.909746Z"
    }
   }
  },
  {
   "cell_type": "code",
   "execution_count": null,
   "outputs": [],
   "source": [
    "for param in model.net_fea.parameters():\n",
    "    param.requires_grad = False\n",
    "\n",
    "for name, child in model.net_fea.named_parameters():\n",
    "    if name in ['7','8']:\n",
    "        for param in child.parameters():\n",
    "            param.requires_grad = True\n",
    "\n",
    "for name, para in model.backbone.named_parameters():\n",
    "     print(\"-\"*20)\n",
    "     print(f\"name: {name}\")\n",
    "     print(\"values: \")\n",
    "     print(para)"
   ],
   "metadata": {
    "collapsed": false,
    "ExecuteTime": {
     "start_time": "2024-04-09T15:15:26.184823Z",
     "end_time": "2024-04-09T15:15:27.949824Z"
    }
   }
  },
  {
   "cell_type": "code",
   "execution_count": null,
   "outputs": [],
   "source": [
    "for name, child in model.net_fea.named_children():\n",
    "    print(name,child)"
   ],
   "metadata": {
    "collapsed": false,
    "ExecuteTime": {
     "start_time": "2024-04-10T18:04:10.499581Z",
     "end_time": "2024-04-10T18:04:10.884913Z"
    }
   }
  },
  {
   "cell_type": "code",
   "execution_count": null,
   "outputs": [],
   "source": [
    "model.net_fea['7']"
   ],
   "metadata": {
    "collapsed": false,
    "ExecuteTime": {
     "start_time": "2024-04-10T18:02:10.842207Z",
     "end_time": "2024-04-10T18:02:11.217089Z"
    }
   }
  },
  {
   "cell_type": "code",
   "execution_count": null,
   "outputs": [],
   "source": [
    "backbone = swav.backbone\n",
    "feature0 = nn.Sequential(*list(backbone.children())[0:3])\n",
    "feature1 = nn.Sequential(*list(backbone.children())[4])\n",
    "feature2 = nn.Sequential(*list(backbone.children())[5])\n",
    "feature3 = nn.Sequential(*list(backbone.children())[6])\n",
    "feature4 = nn.Sequential(*list(backbone.children())[7])\n",
    "feature5 = nn.Sequential(*list(backbone.children())[8:])"
   ],
   "metadata": {
    "collapsed": false,
    "ExecuteTime": {
     "start_time": "2024-04-10T17:58:04.823679Z",
     "end_time": "2024-04-10T17:58:05.192052Z"
    }
   }
  },
  {
   "cell_type": "code",
   "execution_count": null,
   "outputs": [],
   "source": [
    "class Backbone(pl.LightningModule):\n",
    "    def __init__(self, backbone):\n",
    "        super().__init__()\n",
    "        self.backbone = backbone\n",
    "        self.feature0 = self.backbone[:4]\n",
    "        self.feature1 = self.backbone[4]\n",
    "        self.feature2 = self.backbone[5]\n",
    "        self.feature3 = self.backbone[6]\n",
    "        self.feature4 = self.backbone[7]\n",
    "        self.feature5 = self.backbone[8:]\n",
    "\n",
    "    def forward(self, x):\n",
    "        x0 = self.feature0(x)\n",
    "        x1 = self.feature1(x0)\n",
    "        x2 = self.feature2(x1)\n",
    "        x3 = self.feature3(x2)\n",
    "        x4 = self.feature4(x3)\n",
    "        emb = self.feature5(x4)\n",
    "\n",
    "        return emb, [x1, x2, x3, x4]\n",
    "\n",
    "    def forward2(self, x):\n",
    "        return self.backbone(x)"
   ],
   "metadata": {
    "collapsed": false,
    "ExecuteTime": {
     "start_time": "2024-04-10T18:37:34.398755Z",
     "end_time": "2024-04-10T18:37:34.790120Z"
    }
   }
  },
  {
   "cell_type": "code",
   "execution_count": null,
   "outputs": [],
   "source": [
    "backbone.to('cuda')[:4]"
   ],
   "metadata": {
    "collapsed": false,
    "ExecuteTime": {
     "start_time": "2024-04-10T18:37:35.302889Z",
     "end_time": "2024-04-10T18:37:35.683980Z"
    }
   }
  },
  {
   "cell_type": "code",
   "execution_count": null,
   "outputs": [],
   "source": [
    "resnet18 = torchvision.models.resnet18()\n",
    "features = nn.Sequential(*list(resnet18.children())[:-1])\n",
    "bb =Backbone(backbone)\n",
    "bb.to('cuda')"
   ],
   "metadata": {
    "collapsed": false,
    "ExecuteTime": {
     "start_time": "2024-04-10T18:37:41.499260Z",
     "end_time": "2024-04-10T18:37:41.990417Z"
    }
   }
  },
  {
   "cell_type": "code",
   "execution_count": null,
   "outputs": [],
   "source": [
    "for name, child in bb.named_children():\n",
    "    print(name)"
   ],
   "metadata": {
    "collapsed": false,
    "ExecuteTime": {
     "start_time": "2024-04-10T18:39:49.028642Z",
     "end_time": "2024-04-10T18:39:49.404700Z"
    }
   }
  },
  {
   "cell_type": "code",
   "execution_count": null,
   "outputs": [],
   "source": [
    "\n",
    "test_input = torch.zeros((1,3,256,256)).cuda()\n",
    "\n",
    "[t.shape for t in bb(test_input)[1]]"
   ],
   "metadata": {
    "collapsed": false,
    "ExecuteTime": {
     "start_time": "2024-04-10T18:37:51.981670Z",
     "end_time": "2024-04-10T18:37:52.372492Z"
    }
   }
  },
  {
   "cell_type": "code",
   "execution_count": null,
   "outputs": [],
   "source": [
    "bb(test_input)"
   ],
   "metadata": {
    "collapsed": false,
    "ExecuteTime": {
     "start_time": "2024-04-10T18:28:28.831618Z",
     "end_time": "2024-04-10T18:28:29.383168Z"
    }
   }
  },
  {
   "cell_type": "code",
   "execution_count": null,
   "outputs": [],
   "source": [
    "bb.forward2(test_input1)"
   ],
   "metadata": {
    "collapsed": false,
    "ExecuteTime": {
     "start_time": "2024-04-10T18:28:30.125901Z",
     "end_time": "2024-04-10T18:28:30.540075Z"
    }
   }
  },
  {
   "cell_type": "code",
   "execution_count": null,
   "outputs": [],
   "source": [
    "torch.equal(bb.forward2(test_input1), bb(test_input1)[0])"
   ],
   "metadata": {
    "collapsed": false,
    "ExecuteTime": {
     "start_time": "2024-04-10T18:36:14.996138Z",
     "end_time": "2024-04-10T18:36:15.465650Z"
    }
   }
  },
  {
   "cell_type": "code",
   "execution_count": null,
   "outputs": [],
   "source": [
    "def set_requires_grad(model, requires_grad=True, exclude=None):\n",
    "    \"\"\"\n",
    "    Used in training adversarial approach\n",
    "    :param model:\n",
    "    :param requires_grad:\n",
    "    :return:\n",
    "    \"\"\"\n",
    "    for param in model.parameters():\n",
    "        param.requires_grad = requires_grad\n",
    "\n",
    "    if exclude is not None:\n",
    "        for name, child in model.named_children():\n",
    "            if name in exclude:\n",
    "                for param in child.parameters():\n",
    "                    param.requires_grad = not requires_grad"
   ],
   "metadata": {
    "collapsed": false,
    "ExecuteTime": {
     "start_time": "2024-04-09T15:20:47.010852Z",
     "end_time": "2024-04-09T15:20:47.385853Z"
    }
   }
  },
  {
   "cell_type": "code",
   "execution_count": null,
   "outputs": [],
   "source": [],
   "metadata": {
    "collapsed": false
   }
  },
  {
   "cell_type": "code",
   "execution_count": null,
   "outputs": [],
   "source": [
    "import torch.nn as nn\n",
    "features = nn.Sequential(*list(resnet50.children())[:-1])\n",
    "for name, child in features.named_children():\n",
    "    print(name)"
   ],
   "metadata": {
    "collapsed": false,
    "ExecuteTime": {
     "start_time": "2024-04-10T17:51:51.144514Z",
     "end_time": "2024-04-10T17:51:51.525004Z"
    }
   }
  },
  {
   "cell_type": "code",
   "execution_count": null,
   "outputs": [],
   "source": [
    "for name, child in model.net_fea.named_children():\n",
    "    if name in [n for n, _ in model.net_fea.named_children()]:\n",
    "        for param in child.parameters():\n",
    "            print(name)"
   ],
   "metadata": {
    "collapsed": false,
    "ExecuteTime": {
     "start_time": "2024-04-09T15:27:55.202371Z",
     "end_time": "2024-04-09T15:27:55.578371Z"
    }
   }
  },
  {
   "cell_type": "code",
   "execution_count": null,
   "outputs": [],
   "source": [
    "set_requires_grad(model.net_fea, True, exclude=['0','1','2','3','4','5','6'])"
   ],
   "metadata": {
    "collapsed": false,
    "ExecuteTime": {
     "start_time": "2024-04-09T17:09:06.587455Z",
     "end_time": "2024-04-09T17:09:07.070452Z"
    }
   }
  },
  {
   "cell_type": "code",
   "execution_count": null,
   "outputs": [],
   "source": [
    "for name, para in model.net_fea.named_parameters():\n",
    "     print(\"-\"*20)\n",
    "     print(f\"name: {name}\")\n",
    "     print(\"values: \")\n",
    "     print(para)"
   ],
   "metadata": {
    "collapsed": false,
    "ExecuteTime": {
     "start_time": "2024-04-09T17:09:20.525457Z",
     "end_time": "2024-04-09T17:09:21.107459Z"
    }
   }
  },
  {
   "cell_type": "code",
   "execution_count": null,
   "outputs": [],
   "source": [
    "import torchvision\n",
    "from torch import nn\n",
    "resnet = torchvision.models.resnet50()\n",
    "resnet_backbone = nn.Sequential(*list(resnet.children())[:-1])\n",
    "for name, param in resnet_backbone.state_dict().items():\n",
    "    print(name)"
   ],
   "metadata": {
    "collapsed": false,
    "ExecuteTime": {
     "start_time": "2024-04-09T15:31:44.179804Z",
     "end_time": "2024-04-09T15:31:44.821805Z"
    }
   }
  },
  {
   "cell_type": "code",
   "execution_count": null,
   "outputs": [],
   "source": [
    "for rd in range(1, NUM_ROUND + 1):\n",
    "    print('round ' + str(rd))\n",
    "    log_file_name = log_folder_root + 'rns_active/active_logs_' + strategy_name + '/logger_round_' + str(\n",
    "        rd - 1) + '/version_0/metrics.csv'\n",
    "    logs = pd.read_csv(log_file_name)\n",
    "    max_ind = logs['val_acc'].argmax()\n",
    "    max_row = logs.iloc[max_ind]\n",
    "    ckpt_directory = ckpt_folder_root + 'rns_active/active_checkpoints_' + strategy_name\n",
    "    ckpt_files = os.listdir(ckpt_directory)\n",
    "    load_file_name = strategy_name + '_round_' + str(rd - 1) + '-epoch=' + str(int(max_row['epoch'])).zfill(2)\n",
    "\n",
    "    ind = next((i for i, s in enumerate(ckpt_files) if load_file_name in s), None)\n",
    "    print(ind, ckpt_files[ind])\n",
    "    load_from_checkpoint(ckpt_directory + '/' + ckpt_files[ind], backbone=swav.backbone)\n",
    "\n",
    "    q_idxs = strategy.query(NUM_QUERY * 90)\n",
    "\n",
    "    with open(log_folder_root + 'rns_active_selected/' + strategy_name + '/' + 'selected_indices.pkl', 'rb') as f:\n",
    "    # Load the content of the file into a Python object\n",
    "        selected_inds = pickle.load(f)\n",
    "    selected_inds[rd] = q_idxs\n",
    "    with open(log_folder_root + 'rns_active_selected/' + strategy_name + '/' + 'selected_indices.pkl', 'wb') as f:\n",
    "        pickle.dump(selected_inds, f)\n",
    "# Now you can use the dictionary object as usual\n",
    "    strategy.update(q_idxs)\n",
    "    strategy.net.round = rd\n",
    "    strategy.net.net.load_state_dict(modelstate)\n",
    "    strategy.train()\n",
    "    break"
   ],
   "metadata": {
    "collapsed": false
   }
  },
  {
   "cell_type": "code",
   "execution_count": null,
   "outputs": [],
   "source": [
    "for name, param in swav.backbone.state_dict().items():\n",
    "    print(name)"
   ],
   "metadata": {
    "collapsed": false,
    "ExecuteTime": {
     "start_time": "2024-04-09T15:25:45.696407Z",
     "end_time": "2024-04-09T15:25:46.080407Z"
    }
   }
  },
  {
   "cell_type": "code",
   "execution_count": null,
   "outputs": [],
   "source": [],
   "metadata": {
    "collapsed": false
   }
  },
  {
   "cell_type": "code",
   "execution_count": null,
   "outputs": [],
   "source": [
    "torch.log(probs)"
   ],
   "metadata": {
    "collapsed": false,
    "ExecuteTime": {
     "start_time": "2024-03-26T12:19:27.398110Z",
     "end_time": "2024-03-26T12:19:27.749110Z"
    }
   }
  },
  {
   "cell_type": "code",
   "execution_count": null,
   "outputs": [],
   "source": [
    "\n",
    "\n",
    "probs, seq_len = strategy.predict_prob(unlabeled_data)"
   ],
   "metadata": {
    "collapsed": false,
    "ExecuteTime": {
     "start_time": "2024-04-12T09:15:47.610708Z",
     "end_time": "2024-04-12T09:17:41.342366Z"
    }
   }
  },
  {
   "cell_type": "code",
   "execution_count": null,
   "outputs": [],
   "source": [
    "unlabeled_idxs, unlabeled_data = strategy.dataset.get_train_data_unaugmented()"
   ],
   "metadata": {
    "collapsed": false,
    "ExecuteTime": {
     "start_time": "2024-04-12T09:14:29.539962Z",
     "end_time": "2024-04-12T09:14:30.029277Z"
    }
   }
  },
  {
   "cell_type": "code",
   "execution_count": null,
   "outputs": [],
   "source": [
    "from torch.utils.data import DataLoader\n",
    "loader = DataLoader(unlabeled_data, shuffle=False, **strategy.args_task['loader_te_args'])\n",
    "strategy.net.net.net_clf.eval()\n",
    "strategy.net.net.net_fea.eval()\n",
    "strategy.net.net.net_lpl.eval()\n",
    "strategy.net.net.net_clf.cuda()\n",
    "strategy.net.net.net_fea.cuda()\n",
    "strategy.net.net.net_lpl.cuda()\n",
    "uncertainty = torch.tensor([]).cuda()\n",
    "with torch.no_grad():\n",
    "    for x, y, seq_len in tqdm(loader):\n",
    "        x, y = x.cuda(), y.cuda()\n",
    "        lb_z, feature = strategy.net.net.net_fea(x)\n",
    "        lb_z = lb_z.view(-1, 2048)\n",
    "        lb_out, _, emb_t = strategy.net.net.net_clf(lb_z, seq_len)\n",
    "        feature.append(emb_t)\n",
    "        pred_loss = strategy.net.net.net_lpl(feature)\n",
    "        pred_loss = pred_loss.view(pred_loss.size(0))\n",
    "\n",
    "        uncertainty = torch.cat((uncertainty, pred_loss), 0)"
   ],
   "metadata": {
    "collapsed": false,
    "ExecuteTime": {
     "start_time": "2024-04-12T09:28:21.997034Z",
     "end_time": "2024-04-12T09:30:14.632310Z"
    }
   }
  },
  {
   "cell_type": "code",
   "execution_count": null,
   "outputs": [],
   "source": [
    "uncertainty"
   ],
   "metadata": {
    "collapsed": false,
    "ExecuteTime": {
     "start_time": "2024-04-12T15:00:23.443646Z",
     "end_time": "2024-04-12T15:00:23.833235Z"
    }
   }
  },
  {
   "cell_type": "code",
   "execution_count": null,
   "outputs": [],
   "source": [
    "uncertainty.shape"
   ],
   "metadata": {
    "collapsed": false,
    "ExecuteTime": {
     "start_time": "2024-04-12T09:33:25.605608Z",
     "end_time": "2024-04-12T09:33:26.039118Z"
    }
   }
  },
  {
   "cell_type": "code",
   "execution_count": null,
   "outputs": [],
   "source": [
    "probs, seq_len = strategy.predict_prob_dropout_split(unlabeled_data, n_drop=5)\n"
   ],
   "metadata": {
    "collapsed": false,
    "ExecuteTime": {
     "start_time": "2024-03-28T16:21:41.811578Z",
     "end_time": "2024-03-28T16:30:57.471432Z"
    }
   }
  },
  {
   "cell_type": "code",
   "execution_count": null,
   "outputs": [],
   "source": [
    "probs[0][0]"
   ],
   "metadata": {
    "collapsed": false,
    "ExecuteTime": {
     "start_time": "2024-03-28T15:58:15.270014Z",
     "end_time": "2024-03-28T15:58:15.637285Z"
    }
   }
  },
  {
   "cell_type": "code",
   "execution_count": null,
   "outputs": [],
   "source": [
    "probs[1][0]"
   ],
   "metadata": {
    "collapsed": false,
    "ExecuteTime": {
     "start_time": "2024-03-28T15:58:22.050531Z",
     "end_time": "2024-03-28T15:58:22.418532Z"
    }
   }
  },
  {
   "cell_type": "code",
   "execution_count": null,
   "outputs": [],
   "source": [
    "probs[2][0]"
   ],
   "metadata": {
    "collapsed": false,
    "ExecuteTime": {
     "start_time": "2024-03-28T15:58:27.812249Z",
     "end_time": "2024-03-28T15:58:28.212249Z"
    }
   }
  },
  {
   "cell_type": "code",
   "execution_count": null,
   "outputs": [],
   "source": [
    "embeddings"
   ],
   "metadata": {
    "collapsed": false,
    "ExecuteTime": {
     "start_time": "2024-03-28T15:21:11.346165Z",
     "end_time": "2024-03-28T15:21:11.716163Z"
    }
   }
  },
  {
   "cell_type": "code",
   "execution_count": null,
   "outputs": [],
   "source": [
    "cluster_learner = KMeans(n_clusters=170)\n",
    "cluster_learner.fit(embeddings)\n",
    "\n",
    "cluster_idxs = cluster_learner.predict(embeddings)\n",
    "centers = cluster_learner.cluster_centers_[cluster_idxs]\n",
    "dis = (embeddings - centers)**2\n",
    "dis = dis.sum(axis=1)"
   ],
   "metadata": {
    "collapsed": false
   }
  },
  {
   "cell_type": "code",
   "execution_count": null,
   "outputs": [],
   "source": [
    "import copy\n",
    "labeled_idxs, train_data = strategy.dataset.get_train_data_unaugmented()\n",
    "\n",
    "\n",
    "#\n",
    "# dist_mat = np.matmul(embeddings, embeddings.transpose())\n",
    "# sq = np.array(dist_mat.diagonal()).reshape(len(labeled_idxs), 1)\n",
    "# dist_mat *= -2\n",
    "# dist_mat += sq\n",
    "# dist_mat += sq.transpose()\n",
    "# dist_mat = np.sqrt(dist_mat)\n",
    "#\n",
    "# mat = dist_mat[~labeled_idxs, :][:, labeled_idxs]\n",
    "#\n",
    "# mat_copy = copy.deepcopy(mat)\n",
    "\n",
    "\n",
    "\n",
    "# output = np.arange(strategy.dataset.n_pool)[(strategy.dataset.labeled_idxs ^ labeled_idxs)]"
   ],
   "metadata": {
    "collapsed": false,
    "ExecuteTime": {
     "start_time": "2024-04-02T16:26:06.848493Z",
     "end_time": "2024-04-02T16:26:08.564262Z"
    }
   }
  },
  {
   "cell_type": "code",
   "execution_count": null,
   "outputs": [],
   "source": [],
   "metadata": {
    "collapsed": false,
    "ExecuteTime": {
     "start_time": "2024-04-02T16:26:08.564262Z",
     "end_time": "2024-04-02T16:26:08.580262Z"
    }
   }
  },
  {
   "cell_type": "code",
   "execution_count": null,
   "outputs": [],
   "source": [
    "embeddings, seq_len  = strategy.get_grad_embeddings(train_data)\n"
   ],
   "metadata": {
    "collapsed": false,
    "ExecuteTime": {
     "start_time": "2024-04-02T16:26:09.688919Z",
     "end_time": "2024-04-02T16:28:00.581341Z"
    }
   }
  },
  {
   "cell_type": "code",
   "execution_count": null,
   "outputs": [],
   "source": [
    "predictions = strategy.net.run_prediction(train_data)\n"
   ],
   "metadata": {
    "collapsed": false
   }
  },
  {
   "cell_type": "code",
   "execution_count": null,
   "outputs": [],
   "source": [
    "output_list = []\n",
    "emb_list = []\n",
    "seq_len_list = []\n",
    "m = torch.nn.Softmax(dim=1)\n",
    "for pred, y, emb, emb_t, seq_len in predictions:\n",
    "    output_list.append(pred)\n",
    "    emb_list.append(emb_t)\n",
    "    seq_len_list.append(seq_len)\n",
    "emb = torch.vstack(emb_list)\n",
    "out = emb.data.cpu().numpy()\n",
    "pred_raw = torch.vstack(output_list)\n",
    "batchProbs = m(pred_raw.float()).data.cpu().numpy()\n",
    "maxInds = np.argmax(batchProbs, 1)\n",
    "\n",
    "nLab = batchProbs.shape[1]\n",
    "embDim = emb.shape[1]\n",
    "embeddings = np.zeros([len(emb), embDim * nLab])\n",
    "\n",
    "for j in range(len(emb)):\n",
    "    for c in range(nLab):\n",
    "        if c == maxInds[j]:\n",
    "            embeddings[j][embDim * c: embDim * (c + 1)] = deepcopy(out[j]) * (\n",
    "                    1 - batchProbs[j][c]) * -1.0\n",
    "        else:\n",
    "            embeddings[j][embDim * c: embDim * (c + 1)] = deepcopy(out[j]) * (\n",
    "                    -1 * batchProbs[j][c]) * -1.0"
   ],
   "metadata": {
    "collapsed": false,
    "ExecuteTime": {
     "start_time": "2024-04-02T16:42:12.030554Z",
     "end_time": "2024-04-02T16:42:15.579494Z"
    }
   }
  },
  {
   "cell_type": "code",
   "execution_count": null,
   "outputs": [],
   "source": [
    "embeddings"
   ],
   "metadata": {
    "collapsed": false,
    "ExecuteTime": {
     "start_time": "2024-04-02T16:42:16.661029Z",
     "end_time": "2024-04-02T16:42:17.032197Z"
    }
   }
  },
  {
   "cell_type": "code",
   "execution_count": null,
   "outputs": [],
   "source": [
    "from sklearn.metrics import pairwise_distances\n",
    "from scipy import stats\n",
    "# import pdb\n",
    "def init_centers(X, K):\n",
    "    ind = np.argmax([np.linalg.norm(s, 2) for s in X])\n",
    "    mu = [X[ind]]\n",
    "    indsAll = [ind]\n",
    "    centInds = [0.] * len(X)\n",
    "    cent = 0\n",
    "    print('#Samps\\tTotal Distance')\n",
    "    while len(mu) < K:\n",
    "        if len(mu) == 1:\n",
    "            D2 = pairwise_distances(X, mu).ravel().astype(float)\n",
    "        else:\n",
    "            newD = pairwise_distances(X, [mu[-1]]).ravel().astype(float)\n",
    "            for i in range(len(X)):\n",
    "                if D2[i] >  newD[i]:\n",
    "                    centInds[i] = cent\n",
    "                    D2[i] = newD[i]\n",
    "        print(str(len(mu)) + '\\t' + str(sum(D2)), flush=True)\n",
    "        if sum(D2) == 0.0: return indsAll\n",
    "        D2 = D2.ravel().astype(float)\n",
    "        Ddist = (D2 ** 2)/ sum(D2 ** 2)\n",
    "        customDist = stats.rv_discrete(name='custm', values=(np.arange(len(D2)), Ddist))\n",
    "        ind = customDist.rvs(size=1)[0]\n",
    "        while ind in indsAll: ind = customDist.rvs(size=1)[0]\n",
    "        mu.append(X[ind])\n",
    "        indsAll.append(ind)\n",
    "        cent += 1\n",
    "    return indsAll"
   ],
   "metadata": {
    "collapsed": false,
    "ExecuteTime": {
     "start_time": "2024-04-02T16:42:29.432441Z",
     "end_time": "2024-04-02T16:42:29.806188Z"
    }
   }
  },
  {
   "cell_type": "markdown",
   "source": [],
   "metadata": {
    "collapsed": false
   }
  },
  {
   "cell_type": "code",
   "execution_count": null,
   "outputs": [],
   "source": [
    "import time\n",
    "start_time = time.time()\n",
    "chosen = init_centers(embeddings, 6000)\n",
    "print(\"--- %s seconds ---\" % (time.time() - start_time))"
   ],
   "metadata": {
    "collapsed": false,
    "ExecuteTime": {
     "start_time": "2024-04-02T16:53:51.933625Z",
     "end_time": "2024-04-02T17:13:34.919820Z"
    }
   }
  },
  {
   "cell_type": "code",
   "execution_count": null,
   "outputs": [],
   "source": [
    "strategy.keep_continuous_segments(np.sort(chosen),10)"
   ],
   "metadata": {
    "collapsed": false,
    "ExecuteTime": {
     "start_time": "2024-04-02T17:14:02.380261Z",
     "end_time": "2024-04-02T17:14:02.768259Z"
    }
   }
  },
  {
   "cell_type": "code",
   "execution_count": null,
   "outputs": [],
   "source": [
    "norm_data = embeddings_t / np.linalg.norm(embeddings_t, axis=1, keepdims=True)\n",
    "\n",
    "dist_mat = np.dot(norm_data, norm_data.T)"
   ],
   "metadata": {
    "collapsed": false,
    "ExecuteTime": {
     "start_time": "2024-04-01T17:52:40.013249Z",
     "end_time": "2024-04-01T17:53:08.632249Z"
    }
   }
  },
  {
   "cell_type": "code",
   "execution_count": null,
   "outputs": [],
   "source": [
    "\n",
    "mat = dist_mat[~labeled_idxs, :][:, labeled_idxs]\n",
    "\n",
    "mat_copy = copy.deepcopy(mat)\n",
    "for i in tqdm(range(3000), ncols=100):\n",
    "    mat_min = mat.min(axis=1)\n",
    "    q_idx_ = np.argmax(mat_min)\n",
    "    q_idx = np.arange(strategy.dataset.n_pool)[~labeled_idxs][q_idx_]\n",
    "    labeled_idxs[q_idx] = True\n",
    "    mat = np.delete(mat, q_idx_, 0)\n",
    "    mat = np.append(mat, dist_mat[~labeled_idxs,q_idx][:, None], axis=1)"
   ],
   "metadata": {
    "collapsed": false,
    "ExecuteTime": {
     "start_time": "2024-04-01T18:09:27.431381Z",
     "end_time": "2024-04-01T18:30:26.677291Z"
    }
   }
  },
  {
   "cell_type": "code",
   "execution_count": null,
   "outputs": [],
   "source": [
    "mat.shape"
   ],
   "metadata": {
    "collapsed": false,
    "ExecuteTime": {
     "start_time": "2024-04-01T17:55:20.712705Z",
     "end_time": "2024-04-01T17:55:21.110705Z"
    }
   }
  },
  {
   "cell_type": "code",
   "execution_count": null,
   "outputs": [],
   "source": [
    "labeled_idxs"
   ],
   "metadata": {
    "collapsed": false,
    "ExecuteTime": {
     "start_time": "2024-04-01T18:03:12.349028Z",
     "end_time": "2024-04-01T18:03:12.715027Z"
    }
   }
  },
  {
   "cell_type": "code",
   "execution_count": null,
   "outputs": [],
   "source": [
    "print(dist_mat[~labeled_idxs][:,q_idx].shape)"
   ],
   "metadata": {
    "collapsed": false,
    "ExecuteTime": {
     "start_time": "2024-04-01T18:00:30.805493Z",
     "end_time": "2024-04-01T18:00:39.619491Z"
    }
   }
  },
  {
   "cell_type": "code",
   "execution_count": null,
   "outputs": [],
   "source": [
    "mat_ind = np.zeros_like(labeled_idxs)\n",
    "mat_ind[q_idx] = True"
   ],
   "metadata": {
    "collapsed": false,
    "ExecuteTime": {
     "start_time": "2024-04-01T17:59:28.490229Z",
     "end_time": "2024-04-01T17:59:28.860231Z"
    }
   }
  },
  {
   "cell_type": "code",
   "execution_count": null,
   "outputs": [],
   "source": [
    "mat_ind"
   ],
   "metadata": {
    "collapsed": false,
    "ExecuteTime": {
     "start_time": "2024-04-01T17:59:37.032668Z",
     "end_time": "2024-04-01T17:59:37.401669Z"
    }
   }
  },
  {
   "cell_type": "code",
   "execution_count": null,
   "outputs": [],
   "source": [
    "~labeled_idxs"
   ],
   "metadata": {
    "collapsed": false,
    "ExecuteTime": {
     "start_time": "2024-04-01T17:56:41.005412Z",
     "end_time": "2024-04-01T17:56:41.369411Z"
    }
   }
  },
  {
   "cell_type": "code",
   "execution_count": null,
   "outputs": [],
   "source": [
    "embeddings = embeddings_t.numpy()\n",
    "#\n",
    "# dist_mat = np.matmul(embeddings, embeddings.transpose())\n",
    "# sq = np.array(dist_mat.diagonal()).reshape(len(labeled_idxs), 1)\n",
    "# dist_mat *= -2\n",
    "# dist_mat += sq\n",
    "# dist_mat += sq.transpose()\n",
    "# dist_mat = np.sqrt(dist_mat)\n",
    "#\n",
    "# mat = dist_mat[~labeled_idxs, :][:, labeled_idxs]\n",
    "#\n",
    "# mat_copy = copy.deepcopy(mat)\n",
    "\n",
    "norm_data = embeddings_t / np.linalg.norm(embeddings_t, axis=1, keepdims=True)\n",
    "\n",
    "similarity_matrix = np.dot(norm_data, norm_data.T)"
   ],
   "metadata": {
    "collapsed": false,
    "ExecuteTime": {
     "start_time": "2024-04-01T16:18:19.079865Z",
     "end_time": "2024-04-01T16:18:45.871861Z"
    }
   }
  },
  {
   "cell_type": "code",
   "execution_count": null,
   "outputs": [],
   "source": [
    "similarity_matrix[0]"
   ],
   "metadata": {
    "collapsed": false,
    "ExecuteTime": {
     "start_time": "2024-04-01T16:21:29.852505Z",
     "end_time": "2024-04-01T16:21:30.226507Z"
    }
   }
  },
  {
   "cell_type": "code",
   "execution_count": null,
   "outputs": [],
   "source": [
    "cos = torch.nn.CosineSimilarity(dim=1, eps=1e-6)\n",
    "test = cos(embeddings_t,embeddings_t[0])"
   ],
   "metadata": {
    "collapsed": false,
    "ExecuteTime": {
     "start_time": "2024-04-01T16:22:17.825605Z",
     "end_time": "2024-04-01T16:22:18.538604Z"
    }
   }
  },
  {
   "cell_type": "code",
   "execution_count": null,
   "outputs": [],
   "source": [
    "np.array_equal(similarity_matrix[0], test.numpy())"
   ],
   "metadata": {
    "collapsed": false,
    "ExecuteTime": {
     "start_time": "2024-04-01T16:22:23.478626Z",
     "end_time": "2024-04-01T16:22:23.851627Z"
    }
   }
  },
  {
   "cell_type": "code",
   "execution_count": null,
   "outputs": [],
   "source": [
    "np.mean(similarity_matrix[0]-test.numpy())"
   ],
   "metadata": {
    "collapsed": false,
    "ExecuteTime": {
     "start_time": "2024-04-01T16:23:06.781607Z",
     "end_time": "2024-04-01T16:23:07.152608Z"
    }
   }
  },
  {
   "cell_type": "code",
   "execution_count": null,
   "outputs": [],
   "source": [
    "output = np.arange(strategy.dataset.n_pool)[(strategy.dataset.labeled_idxs ^ labeled_idxs)]"
   ],
   "metadata": {
    "collapsed": false,
    "ExecuteTime": {
     "start_time": "2024-04-02T13:23:42.014476Z",
     "end_time": "2024-04-02T13:23:42.555582Z"
    }
   }
  },
  {
   "cell_type": "code",
   "execution_count": null,
   "outputs": [],
   "source": [
    "output"
   ],
   "metadata": {
    "collapsed": false,
    "ExecuteTime": {
     "start_time": "2024-04-02T13:46:06.930660Z",
     "end_time": "2024-04-02T13:46:07.308660Z"
    }
   }
  },
  {
   "cell_type": "code",
   "execution_count": null,
   "outputs": [],
   "source": [
    "changed_ind = np.where(np.sign(np.diff(output)-1)==1)[0]\n",
    "changed_ind"
   ],
   "metadata": {
    "collapsed": false,
    "ExecuteTime": {
     "start_time": "2024-04-02T13:40:42.228260Z",
     "end_time": "2024-04-02T13:40:42.612260Z"
    }
   }
  },
  {
   "cell_type": "code",
   "execution_count": null,
   "outputs": [],
   "source": [
    "l = 0\n",
    "for i in range(len(greater_than_10)):\n",
    "    l+= len(output[changed_ind[greater_than_10][i]+1:changed_ind[greater_than_10+1][i]+1])\n",
    "l"
   ],
   "metadata": {
    "collapsed": false,
    "ExecuteTime": {
     "start_time": "2024-04-02T13:49:34.176773Z",
     "end_time": "2024-04-02T13:49:34.553775Z"
    }
   }
  },
  {
   "cell_type": "code",
   "execution_count": null,
   "outputs": [],
   "source": [
    "changed_ind[greater_than_10],changed_ind[greater_than_10+1]"
   ],
   "metadata": {
    "collapsed": false,
    "ExecuteTime": {
     "start_time": "2024-04-02T13:44:44.179275Z",
     "end_time": "2024-04-02T13:44:44.546274Z"
    }
   }
  },
  {
   "cell_type": "code",
   "execution_count": null,
   "outputs": [],
   "source": [
    "greater_than_10 = np.where(np.diff(changed_ind)>8)[0]"
   ],
   "metadata": {
    "collapsed": false,
    "ExecuteTime": {
     "start_time": "2024-04-02T13:48:40.128018Z",
     "end_time": "2024-04-02T13:48:40.503100Z"
    }
   }
  },
  {
   "cell_type": "code",
   "execution_count": null,
   "outputs": [],
   "source": [
    "np.diff(changed_ind)"
   ],
   "metadata": {
    "collapsed": false,
    "ExecuteTime": {
     "start_time": "2024-04-02T13:48:41.756101Z",
     "end_time": "2024-04-02T13:48:42.135099Z"
    }
   }
  },
  {
   "cell_type": "code",
   "execution_count": null,
   "outputs": [],
   "source": [
    "len(greater_than_10)"
   ],
   "metadata": {
    "collapsed": false,
    "ExecuteTime": {
     "start_time": "2024-04-02T13:43:19.555191Z",
     "end_time": "2024-04-02T13:43:19.938191Z"
    }
   }
  },
  {
   "cell_type": "code",
   "execution_count": null,
   "outputs": [],
   "source": [
    "def keep_continuous_segments(arr, n):\n",
    "    changed_ind = np.where(np.sign(np.diff(arr)-1)==1)[0]\n",
    "    valid_split = np.where(np.diff(changed_ind)>=n)[0]\n",
    "    start_ind = changed_ind[valid_split]+1\n",
    "    end_ind = changed_ind[valid_split+1]+1\n",
    "    cleaned_arr = np.empty(0,dtype=int)\n",
    "    for i in range(len(valid_split)):\n",
    "        cleaned_arr = np.hstack((cleaned_arr,output[start_ind[i]:end_ind[i]]))\n",
    "    return cleaned_arr"
   ],
   "metadata": {
    "collapsed": false,
    "ExecuteTime": {
     "start_time": "2024-04-02T14:01:30.838818Z",
     "end_time": "2024-04-02T14:01:31.215818Z"
    }
   }
  },
  {
   "cell_type": "code",
   "execution_count": null,
   "outputs": [],
   "source": [
    "np.diff(keep_continuous_segments(output,8))"
   ],
   "metadata": {
    "collapsed": false,
    "ExecuteTime": {
     "start_time": "2024-04-02T14:05:28.520654Z",
     "end_time": "2024-04-02T14:05:28.919654Z"
    }
   }
  },
  {
   "cell_type": "code",
   "execution_count": null,
   "outputs": [],
   "source": [
    "from torch_kmeans import KMeans\n",
    "n = 1700\n",
    "labeled_idxs, train_data = strategy.dataset.get_train_data_unaugmented()\n",
    "embeddings, embeddings_t, seq_len  = strategy.get_embeddings(train_data)\n",
    "# embeddings = embeddings_t.numpy()\n"
   ],
   "metadata": {
    "collapsed": false,
    "ExecuteTime": {
     "start_time": "2024-04-01T14:52:16.492528Z",
     "end_time": "2024-04-01T14:54:13.243083Z"
    }
   }
  },
  {
   "cell_type": "code",
   "execution_count": null,
   "outputs": [],
   "source": [
    "from fast_pytorch_kmeans import KMeans\n",
    "import time\n",
    "start_time = time.time()\n",
    "\n",
    "cluster_learner = KMeans(n_clusters=100, mode = 'cosine', verbose=1)\n",
    "cluster_learner.fit(embeddings)\n",
    "print(\"--- %s seconds ---\" % (time.time() - start_time))"
   ],
   "metadata": {
    "collapsed": false,
    "ExecuteTime": {
     "start_time": "2024-04-01T16:05:38.511488Z",
     "end_time": "2024-04-01T16:06:35.081487Z"
    }
   }
  },
  {
   "cell_type": "code",
   "execution_count": null,
   "outputs": [],
   "source": [
    "cluster_idxs = cluster_learner.predict(embeddings)\n",
    "centers = cluster_learner.centroids[cluster_idxs]\n",
    "dis = (embeddings - centers) ** 2\n",
    "dis = dis.sum(axis=1)"
   ],
   "metadata": {
    "collapsed": false,
    "ExecuteTime": {
     "start_time": "2024-04-01T16:07:10.022322Z",
     "end_time": "2024-04-01T16:07:11.498335Z"
    }
   }
  },
  {
   "cell_type": "code",
   "execution_count": null,
   "outputs": [],
   "source": [
    "unlabeled_idxs, unlabeled_data = strategy.dataset.get_train_data_unaugmented()\n",
    "embeddings, embeddings_t, seq_len = strategy.get_embeddings(unlabeled_data)\n",
    "\n",
    "\n",
    "\n"
   ],
   "metadata": {
    "collapsed": false,
    "ExecuteTime": {
     "start_time": "2024-04-01T16:06:55.067773Z",
     "end_time": "2024-04-01T16:06:55.446773Z"
    }
   }
  },
  {
   "cell_type": "code",
   "execution_count": null,
   "outputs": [],
   "source": [
    "cluster_idxs = cluster_learner.predict(embeddings_t)\n",
    "centers = cluster_learner.centroids[cluster_idxs]\n",
    "cos = torch.nn.CosineSimilarity(dim=1, eps=1e-6)\n",
    "dis = cos(embeddings_t, centers)\n",
    "uncertainties = dis"
   ],
   "metadata": {
    "collapsed": false,
    "ExecuteTime": {
     "start_time": "2024-04-02T14:41:18.808300Z",
     "end_time": "2024-04-02T14:41:20.122298Z"
    }
   }
  },
  {
   "cell_type": "code",
   "execution_count": null,
   "outputs": [],
   "source": [
    "start_time = time.time()\n",
    "cluster_learner = KMeans(n_clusters=500, mode='cosine', verbose=1)\n",
    "cluster_learner.fit(embeddings_t)\n",
    "print(\"--- %s seconds ---\" % (time.time() - start_time))"
   ],
   "metadata": {
    "collapsed": false,
    "ExecuteTime": {
     "start_time": "2024-04-02T14:39:52.557512Z",
     "end_time": "2024-04-02T14:40:46.346595Z"
    }
   }
  },
  {
   "cell_type": "code",
   "execution_count": null,
   "outputs": [],
   "source": [
    "dis.shape"
   ],
   "metadata": {
    "collapsed": false,
    "ExecuteTime": {
     "start_time": "2024-04-01T16:11:05.001295Z",
     "end_time": "2024-04-01T16:11:05.365296Z"
    }
   }
  },
  {
   "cell_type": "code",
   "execution_count": null,
   "outputs": [],
   "source": [
    "dist_mat[~labeled_idxs, q_idx][:, None]"
   ],
   "metadata": {
    "collapsed": false,
    "ExecuteTime": {
     "start_time": "2024-03-28T15:49:03.364194Z",
     "end_time": "2024-03-28T15:49:03.728621Z"
    }
   }
  },
  {
   "cell_type": "code",
   "execution_count": null,
   "outputs": [],
   "source": [
    "labeled_idxs[q_idx]"
   ],
   "metadata": {
    "collapsed": false,
    "ExecuteTime": {
     "start_time": "2024-03-28T15:46:25.532353Z",
     "end_time": "2024-03-28T15:46:25.892481Z"
    }
   }
  },
  {
   "cell_type": "code",
   "execution_count": null,
   "outputs": [],
   "source": [
    "q_idx"
   ],
   "metadata": {
    "collapsed": false,
    "ExecuteTime": {
     "start_time": "2024-03-28T15:46:30.467590Z",
     "end_time": "2024-03-28T15:46:30.823387Z"
    }
   }
  },
  {
   "cell_type": "code",
   "execution_count": null,
   "outputs": [],
   "source": [
    "mat.min(axis=1)"
   ],
   "metadata": {
    "collapsed": false,
    "ExecuteTime": {
     "start_time": "2024-03-28T15:48:33.056820Z",
     "end_time": "2024-03-28T15:48:33.453206Z"
    }
   }
  },
  {
   "cell_type": "code",
   "execution_count": null,
   "outputs": [],
   "source": [
    "mat = dist_mat[~unlabeled_idxs, :][:, unlabeled_idxs]"
   ],
   "metadata": {
    "collapsed": false,
    "ExecuteTime": {
     "start_time": "2024-03-28T15:28:56.636079Z",
     "end_time": "2024-03-28T15:29:05.150077Z"
    }
   }
  },
  {
   "cell_type": "code",
   "execution_count": null,
   "outputs": [],
   "source": [
    "for i in tqdm(range(100), ncols=100):\n",
    "    mat_min = mat.min(axis=1)\n",
    "    print(mat.shape)\n",
    "    q_idx_ = mat_min.argmax()\n",
    "    q_idx = np.arange(strategy.dataset.n_pool)[~unlabeled_idxs][q_idx_]\n",
    "    unlabeled_idxs[q_idx] = True\n",
    "    mat = np.delete(mat, q_idx_, 0)\n",
    "    print(mat.shape)\n",
    "    break\n",
    "    mat = np.append(mat, dist_mat[~labeled_idxs, q_idx][:, None], axis=1)"
   ],
   "metadata": {
    "collapsed": false,
    "ExecuteTime": {
     "start_time": "2024-03-28T15:29:05.152079Z",
     "end_time": "2024-03-28T15:29:06.352078Z"
    }
   }
  },
  {
   "cell_type": "code",
   "execution_count": null,
   "outputs": [],
   "source": [
    "cluster_learner = KMeans(n_clusters=n)\n",
    "        cluster_learner.fit(embeddings)\n",
    "\n",
    "        cluster_idxs = cluster_learner.predict(embeddings)\n",
    "        centers = cluster_learner.cluster_centers_[cluster_idxs]\n",
    "        dis = (embeddings - centers)**2\n",
    "        dis = dis.sum(axis=1)\n",
    "        q_idxs = np.array([np.arange(embeddings.shape[0])[cluster_idxs==i][dis[cluster_idxs==i].argmin()] for i in range(n)])"
   ],
   "metadata": {
    "collapsed": false,
    "ExecuteTime": {
     "start_time": "2024-03-26T12:32:44.775109Z",
     "end_time": "2024-03-26T12:32:45.103391Z"
    }
   }
  },
  {
   "cell_type": "code",
   "execution_count": null,
   "outputs": [],
   "source": [
    "1700/60"
   ],
   "metadata": {
    "collapsed": false,
    "ExecuteTime": {
     "start_time": "2024-03-26T12:32:56.095414Z",
     "end_time": "2024-03-26T12:32:56.450667Z"
    }
   }
  },
  {
   "cell_type": "code",
   "execution_count": null,
   "outputs": [],
   "source": [
    "np.concatenate(unlabeled_data.label)"
   ],
   "metadata": {
    "collapsed": false,
    "ExecuteTime": {
     "start_time": "2024-03-25T15:07:03.115552Z",
     "end_time": "2024-03-25T15:07:03.453153Z"
    }
   }
  },
  {
   "cell_type": "code",
   "execution_count": null,
   "outputs": [],
   "source": [
    "n = 1700\n",
    "# log_probs = torch.log(probs)\n",
    "uncertainties = probs.max(1)[0]\n",
    "# uncertainties = (probs * log_probs).sum(1)\n",
    "# probs_sorted, idxs = probs.sort(descending=True)\n",
    "# uncertainties = probs_sorted[:, 0] - probs_sorted[:,1]\n",
    "# sigma_c = np.std(probs.numpy(), axis=0)\n",
    "# uncertainties = torch.from_numpy(np.mean(sigma_c, axis=-1))\n",
    "# uncertainties = moving_average(uncertainties,10)\n",
    "# uncertainties = dist_mat[:, output].min(1)\n",
    "# uncertainties = dis\n",
    "indices = np.argsort(uncertainties)\n",
    "data_sorted = uncertainties[indices]\n",
    "original_order = indices.argsort()\n",
    "data_original = data_sorted[original_order]\n",
    "cdf = np.arange(1, len(uncertainties) + 1) / len(uncertainties)\n",
    "linear_data =np.interp(cdf, (cdf.min(), cdf.max()), (0, 1))\n",
    "\n"
   ],
   "metadata": {
    "collapsed": false,
    "ExecuteTime": {
     "start_time": "2024-04-03T22:35:46.203430Z",
     "end_time": "2024-04-03T22:35:46.580430Z"
    }
   }
  },
  {
   "cell_type": "code",
   "execution_count": null,
   "outputs": [],
   "source": [
    "\n",
    "dist_mat[:, output].min(1)"
   ],
   "metadata": {
    "collapsed": false,
    "ExecuteTime": {
     "start_time": "2024-04-01T18:07:34.125829Z",
     "end_time": "2024-04-01T18:07:35.059829Z"
    }
   }
  },
  {
   "cell_type": "code",
   "execution_count": null,
   "outputs": [],
   "source": [],
   "metadata": {
    "collapsed": false,
    "ExecuteTime": {
     "start_time": "2024-04-01T16:59:49.960490Z",
     "end_time": "2024-04-01T16:59:49.970490Z"
    }
   }
  },
  {
   "cell_type": "code",
   "execution_count": null,
   "outputs": [],
   "source": [
    "uncertainties.sort(descending=True)[0]"
   ],
   "metadata": {
    "collapsed": false,
    "ExecuteTime": {
     "start_time": "2024-03-28T17:12:03.327923Z",
     "end_time": "2024-03-28T17:12:03.690922Z"
    }
   }
  },
  {
   "cell_type": "code",
   "execution_count": null,
   "outputs": [],
   "source": [
    "\n",
    "value2 = 0.2-linear_data\n",
    "value1 = data_sorted\n",
    "plt.figure()\n",
    "plt.plot(value1)\n",
    "plt.plot(value2)\n",
    "plt.hlines(0,0,85111,colors='red')\n",
    "plt.show()\n",
    "print('value1', len(np.where(np.sign(value1)>0)[0]))\n",
    "print('value2', len(np.where(np.sign(value2)>0)[0]))"
   ],
   "metadata": {
    "collapsed": false,
    "ExecuteTime": {
     "start_time": "2024-04-02T14:41:33.138409Z",
     "end_time": "2024-04-02T14:41:34.708943Z"
    }
   }
  },
  {
   "cell_type": "code",
   "execution_count": null,
   "outputs": [],
   "source": [
    "data_sorted"
   ],
   "metadata": {
    "collapsed": false,
    "ExecuteTime": {
     "start_time": "2024-04-01T16:59:53.538881Z",
     "end_time": "2024-04-01T16:59:53.898804Z"
    }
   }
  },
  {
   "cell_type": "code",
   "execution_count": null,
   "outputs": [],
   "source": [
    "uncertainties.min()"
   ],
   "metadata": {
    "collapsed": false,
    "ExecuteTime": {
     "start_time": "2024-03-28T17:13:02.767202Z",
     "end_time": "2024-03-28T17:13:03.122202Z"
    }
   }
  },
  {
   "cell_type": "code",
   "execution_count": null,
   "outputs": [],
   "source": [
    "def moving_average(data, window_size):\n",
    "    \"\"\"\n",
    "    Apply a simple moving average filter to a time series data.\n",
    "\n",
    "    Parameters:\n",
    "    - data: array-like, the time series data.\n",
    "    - window_size: int, the number of observations to consider for calculating the moving average.\n",
    "\n",
    "    Returns:\n",
    "    - smoothed_data: array-like, the smoothed time series.\n",
    "    \"\"\"\n",
    "    weights = np.ones(window_size) / window_size\n",
    "    smoothed_data = np.convolve(data, weights, mode='same')\n",
    "    return smoothed_data"
   ],
   "metadata": {
    "collapsed": false,
    "ExecuteTime": {
     "start_time": "2024-04-01T13:43:35.867484Z",
     "end_time": "2024-04-01T13:43:36.245865Z"
    }
   }
  },
  {
   "cell_type": "code",
   "execution_count": null,
   "outputs": [],
   "source": [
    "# uncertainties_metric = value1[original_order]\n",
    "uncertainties_metric = value2[original_order]\n",
    "metrics = strategy.dataset.combine_window_to_episode(uncertainties_metric, seq_len)\n",
    "to_select = strategy.get_combined_important(torch.flatten(seq_len), metrics, 1700)\n",
    "print('selected', np.sum(to_select))"
   ],
   "metadata": {
    "collapsed": false,
    "ExecuteTime": {
     "start_time": "2024-04-03T22:35:57.829246Z",
     "end_time": "2024-04-03T22:35:58.228246Z"
    }
   }
  },
  {
   "cell_type": "code",
   "execution_count": null,
   "outputs": [],
   "source": [
    "value1"
   ],
   "metadata": {
    "collapsed": false,
    "ExecuteTime": {
     "start_time": "2024-04-01T16:43:34.497464Z",
     "end_time": "2024-04-01T16:43:34.870887Z"
    }
   }
  },
  {
   "cell_type": "code",
   "execution_count": null,
   "outputs": [],
   "source": [
    "to_plot1 = 3576\n",
    "to_plot2 = 3667\n",
    "import matplotlib.pyplot as plt\n",
    "x = np.arange(to_plot1,to_plot2)\n",
    "plt.figure(figsize=(25,12))\n",
    "plt.plot(x,uncertainties[to_plot1:to_plot2])\n",
    "plt.plot(x,value2[original_order][to_plot1:to_plot2])\n",
    "plt.plot(x,to_select[to_plot1:to_plot2])\n",
    "plt.plot(x,np.concatenate(unlabeled_data.label)[to_plot1:to_plot2], '-.')\n",
    "# plt.plot(x,probs.argmax(1)[to_plot1:to_plot2], '--', color = 'k')\n",
    "plt.hlines(0,to_plot1,to_plot2,colors='red')\n",
    "plt.vlines(np.cumsum(seq_len)[np.where((np.cumsum(seq_len)>to_plot1)&(np.cumsum(seq_len)<to_plot2))[0]],-0.75,1, colors='red')\n",
    "plt.show()"
   ],
   "metadata": {
    "collapsed": false,
    "ExecuteTime": {
     "start_time": "2024-04-03T23:03:13.069431Z",
     "end_time": "2024-04-03T23:03:13.668455Z"
    }
   }
  },
  {
   "cell_type": "code",
   "execution_count": null,
   "outputs": [],
   "source": [
    "np.abs(np.cumsum(seq_len)-3580).argmin()"
   ],
   "metadata": {
    "collapsed": false,
    "ExecuteTime": {
     "start_time": "2024-04-03T23:02:36.530235Z",
     "end_time": "2024-04-03T23:02:36.908236Z"
    }
   }
  },
  {
   "cell_type": "code",
   "execution_count": null,
   "outputs": [],
   "source": [
    "np.cumsum(seq_len)[41]"
   ],
   "metadata": {
    "collapsed": false,
    "ExecuteTime": {
     "start_time": "2024-04-03T23:03:07.710484Z",
     "end_time": "2024-04-03T23:03:08.106484Z"
    }
   }
  },
  {
   "cell_type": "code",
   "execution_count": null,
   "outputs": [],
   "source": [
    "\n",
    "plt.figure()\n",
    "plt.plot(unlabeled_data.data[40][:,:,4].flatten()+2,color = 'k')\n",
    "plt.plot(unlabeled_data.data[40][:,:,13].flatten()+1,color = 'k')\n",
    "plt.plot(unlabeled_data.data[40][:,:,22].flatten(),color = 'k')\n",
    "plt.plot(unlabeled_data.data[40][:,:,31].flatten()-1,color = 'k')\n",
    "plt.axvspan(np.where(np.diff(extended) == 1)[0][0], np.where(np.diff(extended) == -1)[0][0], color=\"yellow\", alpha=0.3)\n",
    "\n",
    "plt.show()"
   ],
   "metadata": {
    "collapsed": false,
    "ExecuteTime": {
     "start_time": "2024-04-03T23:04:58.961802Z",
     "end_time": "2024-04-03T23:04:59.430121Z"
    }
   }
  },
  {
   "cell_type": "code",
   "execution_count": null,
   "outputs": [],
   "source": [
    "extended = np.repeat(to_select[np.cumsum(seq_len)[40]:np.cumsum(seq_len)[41]],249)"
   ],
   "metadata": {
    "collapsed": false,
    "ExecuteTime": {
     "start_time": "2024-04-03T23:04:53.030230Z",
     "end_time": "2024-04-03T23:04:53.412226Z"
    }
   }
  },
  {
   "cell_type": "code",
   "execution_count": null,
   "outputs": [],
   "source": [
    "to_select[np.cumsum(seq_len)[40]:np.cumsum(seq_len)[40]]"
   ],
   "metadata": {
    "collapsed": false,
    "ExecuteTime": {
     "start_time": "2024-04-03T23:04:46.255930Z",
     "end_time": "2024-04-03T23:04:46.633930Z"
    }
   }
  },
  {
   "cell_type": "code",
   "execution_count": null,
   "outputs": [],
   "source": [
    "pb.shape"
   ],
   "metadata": {
    "collapsed": false,
    "ExecuteTime": {
     "start_time": "2024-03-28T16:03:30.748928Z",
     "end_time": "2024-03-28T16:03:31.114928Z"
    }
   }
  },
  {
   "cell_type": "code",
   "execution_count": null,
   "outputs": [],
   "source": [
    "import sklearn\n",
    "clf_report = sklearn.metrics.classification_report(probs.argmax(1), np.concatenate(unlabeled_data.label), digits=6)\n",
    "\n",
    "print(f\"Classification Report : \\n{clf_report}\")"
   ],
   "metadata": {
    "collapsed": false,
    "ExecuteTime": {
     "start_time": "2024-03-28T13:50:22.824618Z",
     "end_time": "2024-03-28T13:50:23.220610Z"
    }
   }
  },
  {
   "cell_type": "code",
   "execution_count": null,
   "outputs": [],
   "source": [
    "unlabeled_data.label"
   ],
   "metadata": {
    "collapsed": false,
    "ExecuteTime": {
     "start_time": "2024-03-26T12:30:46.214238Z",
     "end_time": "2024-03-26T12:30:46.937907Z"
    }
   }
  },
  {
   "cell_type": "code",
   "execution_count": null,
   "outputs": [],
   "source": [
    "plt.figure()\n",
    "plt.plot(0.2-linear_data[original_order][:to_plot])\n",
    "plt.hlines(0,0,to_plot,colors='gold')\n",
    "plt.show()"
   ],
   "metadata": {
    "collapsed": false,
    "ExecuteTime": {
     "start_time": "2024-03-25T14:48:47.532143Z",
     "end_time": "2024-03-25T14:48:47.955143Z"
    }
   }
  },
  {
   "cell_type": "code",
   "execution_count": null,
   "outputs": [],
   "source": [],
   "metadata": {
    "collapsed": false,
    "ExecuteTime": {
     "start_time": "2024-03-25T15:02:16.802191Z",
     "end_time": "2024-03-25T15:02:17.140192Z"
    }
   }
  },
  {
   "cell_type": "code",
   "execution_count": null,
   "outputs": [],
   "source": [],
   "metadata": {
    "collapsed": false
   }
  },
  {
   "cell_type": "code",
   "execution_count": null,
   "outputs": [],
   "source": [
    "len(uncertainties)"
   ],
   "metadata": {
    "collapsed": false,
    "ExecuteTime": {
     "start_time": "2024-03-25T14:35:23.966842Z",
     "end_time": "2024-03-25T14:35:24.290842Z"
    }
   }
  },
  {
   "cell_type": "code",
   "execution_count": null,
   "outputs": [],
   "source": [
    "\n",
    "linear_data2, seq_len2 = strategy.dataset.get_slice_from_episode(linear_data[data_sorted_argsort], seq_len, ~unlabeled_idxs)\n",
    "linear_data3 = np.concatenate(linear_data2)"
   ],
   "metadata": {
    "collapsed": false,
    "ExecuteTime": {
     "start_time": "2024-03-25T14:27:30.701918Z",
     "end_time": "2024-03-25T14:27:31.055918Z"
    }
   }
  },
  {
   "cell_type": "code",
   "execution_count": null,
   "outputs": [],
   "source": [
    "threshold = 0.90\n",
    "\n",
    "linear_data4 = strategy.dataset.combine_window_to_episode(threshold - linear_data3, seq_len2)\n",
    "to_select = strategy.get_combined_important(torch.flatten(seq_len2), linear_data4, n)\n",
    "\n",
    "unlabeled_idxs, _ = strategy.dataset.get_unlabeled_data()\n",
    "print('selected', np.sum(to_select), threshold)"
   ],
   "metadata": {
    "collapsed": false,
    "ExecuteTime": {
     "start_time": "2024-03-25T14:32:13.027063Z",
     "end_time": "2024-03-25T14:32:15.156063Z"
    }
   }
  },
  {
   "cell_type": "code",
   "execution_count": null,
   "outputs": [],
   "source": [
    "np.argsort(threshold - linear_data3)"
   ],
   "metadata": {
    "collapsed": false,
    "ExecuteTime": {
     "start_time": "2024-03-25T14:32:26.807195Z",
     "end_time": "2024-03-25T14:32:27.140195Z"
    }
   }
  },
  {
   "cell_type": "code",
   "execution_count": null,
   "outputs": [],
   "source": [],
   "metadata": {
    "collapsed": false,
    "ExecuteTime": {
     "start_time": "2024-03-25T13:26:42.009441Z",
     "end_time": "2024-03-25T13:26:42.356439Z"
    }
   }
  },
  {
   "cell_type": "code",
   "execution_count": null,
   "outputs": [],
   "source": [
    "uncertainties = probs.max(1)[0]\n",
    "uncertainties, seq_len = strategy.dataset.get_slice_from_episode(uncertainties, seq_len, ~unlabeled_idxs)"
   ],
   "metadata": {
    "collapsed": false
   }
  },
  {
   "cell_type": "code",
   "execution_count": null,
   "outputs": [],
   "source": [
    "log_probs = torch.log(probs)\n",
    "uncertainties = (probs * log_probs).sum(1)"
   ],
   "metadata": {
    "collapsed": false,
    "ExecuteTime": {
     "start_time": "2024-03-25T13:19:07.080159Z",
     "end_time": "2024-03-25T13:19:07.412160Z"
    }
   }
  },
  {
   "cell_type": "code",
   "execution_count": null,
   "outputs": [],
   "source": [
    "len(uncertainties)"
   ],
   "metadata": {
    "collapsed": false,
    "ExecuteTime": {
     "start_time": "2024-03-25T13:19:10.545159Z",
     "end_time": "2024-03-25T13:19:10.874161Z"
    }
   }
  },
  {
   "cell_type": "code",
   "execution_count": null,
   "outputs": [],
   "source": [
    "cum_sum_index = np.cumsum(seq_len)\n",
    "cum_sum_index = np.insert(cum_sum_index, 0, 0)\n",
    "\n",
    "\n",
    "print(len(uncertainties))\n",
    "print(cum_sum_index[-1])"
   ],
   "metadata": {
    "collapsed": false,
    "ExecuteTime": {
     "start_time": "2024-03-25T13:20:43.808066Z",
     "end_time": "2024-03-25T13:20:44.147065Z"
    }
   }
  },
  {
   "cell_type": "code",
   "execution_count": null,
   "outputs": [],
   "source": [
    "uncertainties.sort()[0][:100]"
   ],
   "metadata": {
    "collapsed": false,
    "ExecuteTime": {
     "start_time": "2024-03-25T12:20:45.445161Z",
     "end_time": "2024-03-25T12:20:45.777160Z"
    }
   }
  },
  {
   "cell_type": "code",
   "execution_count": null,
   "outputs": [],
   "source": [
    "import matplotlib.pyplot as plt\n",
    "plt.figure()\n",
    "plt.hist(uncertainty.cpu(), bins=100, color='blue')\n",
    "plt.title('Distribution of the Array')\n",
    "plt.xlabel('Value')\n",
    "plt.ylabel('Frequency')\n",
    "plt.show()"
   ],
   "metadata": {
    "collapsed": false,
    "ExecuteTime": {
     "start_time": "2024-04-12T09:31:07.164600Z",
     "end_time": "2024-04-12T09:31:08.502173Z"
    }
   }
  },
  {
   "cell_type": "code",
   "execution_count": null,
   "outputs": [],
   "source": [],
   "metadata": {
    "collapsed": false,
    "ExecuteTime": {
     "start_time": "2024-03-28T16:33:18.652125Z",
     "end_time": "2024-03-28T16:33:19.014127Z"
    }
   }
  },
  {
   "cell_type": "code",
   "execution_count": null,
   "outputs": [],
   "source": [
    "\n",
    "\n",
    "# Plotting the CDF\n",
    "plt.figure()\n",
    "plt.plot(data_sorted, cdf)\n",
    "plt.plot(0.2-linear_data,cdf)\n",
    "plt.title('CDF of the Distribution')\n",
    "plt.xlabel('Value')\n",
    "plt.ylabel('CDF')\n",
    "plt.grid(True)\n",
    "plt.show()"
   ],
   "metadata": {
    "collapsed": false,
    "ExecuteTime": {
     "start_time": "2024-03-28T13:48:46.846431Z",
     "end_time": "2024-03-28T13:48:48.249212Z"
    }
   }
  },
  {
   "cell_type": "code",
   "execution_count": null,
   "outputs": [],
   "source": [
    "np.vstack((data_sorted,cdf,linear_data))"
   ],
   "metadata": {
    "collapsed": false,
    "ExecuteTime": {
     "start_time": "2024-03-25T12:21:06.922829Z",
     "end_time": "2024-03-25T12:21:07.255161Z"
    }
   }
  },
  {
   "cell_type": "code",
   "execution_count": null,
   "outputs": [],
   "source": [
    "n= 1700\n",
    "linear_data, seq_len = strategy.dataset.get_slice_from_episode(uncertainties, seq_len, ~unlabeled_idxs)\n",
    "# linear_data = np.concatenate(linear_data)\n",
    "#\n",
    "# threshold = 0.97\n",
    "#\n",
    "# metrics = strategy.dataset.combine_window_to_episode(threshold - uncertainties, seq_len)\n",
    "# to_select = strategy.get_combined_important(torch.flatten(seq_len), metrics, n)\n",
    "#\n",
    "# unlabeled_idxs, _ = strategy.dataset.get_unlabeled_data()\n",
    "# print('selected', np.sum(to_select), threshold)"
   ],
   "metadata": {
    "collapsed": false
   }
  },
  {
   "cell_type": "code",
   "execution_count": null,
   "outputs": [],
   "source": [
    "len(linear_data)"
   ],
   "metadata": {
    "collapsed": false,
    "ExecuteTime": {
     "start_time": "2024-03-25T13:25:15.970351Z",
     "end_time": "2024-03-25T13:25:16.294351Z"
    }
   }
  },
  {
   "cell_type": "code",
   "execution_count": null,
   "outputs": [],
   "source": [
    "np.cumsum(seq_len)"
   ],
   "metadata": {
    "collapsed": false,
    "ExecuteTime": {
     "start_time": "2024-03-25T12:24:06.331410Z",
     "end_time": "2024-03-25T12:24:06.662410Z"
    }
   }
  },
  {
   "cell_type": "code",
   "execution_count": null,
   "outputs": [],
   "source": [
    "\n",
    "\n",
    "fig, axs = plt.subplots(3, 1, figsize=(10, 15))\n",
    "\n",
    "axs[0].hist(uncertainties, bins=30, color='skyblue')\n",
    "axs[0].set_title(\"Poisson Distribution\")\n",
    "\n",
    "axs[1].hist(uncertainties, bins=30, color='lightgreen')\n",
    "axs[1].set_title(\"Uniform Distribution (CDF of Poisson)\")\n",
    "\n",
    "axs[2].plot(linear_data)\n",
    "axs[2].set_title(\"Linear Transformation with Slope of 1\")"
   ],
   "metadata": {
    "collapsed": false,
    "ExecuteTime": {
     "start_time": "2024-03-25T12:21:02.453166Z",
     "end_time": "2024-03-25T12:21:03.887164Z"
    }
   }
  },
  {
   "cell_type": "code",
   "execution_count": null,
   "metadata": {
    "ExecuteTime": {
     "end_time": "2024-03-15T22:20:05.440450Z",
     "start_time": "2024-03-15T20:13:09.677329Z"
    }
   },
   "outputs": [],
   "source": [
    "\n",
    "for rd in range(1, NUM_ROUND + 1):\n",
    "    # print('round ' + str(rd))\n",
    "    # log_file_name = log_folder_root + 'rns_active/active_logs_' + strategy_name + '/logger_round_' + str(\n",
    "    #     rd - 1) + '/version_0/metrics.csv'\n",
    "    # logs = pd.read_csv(log_file_name)\n",
    "    # max_ind = logs['val_acc'].argmax()\n",
    "    # max_row = logs.iloc[max_ind]\n",
    "    # ckpt_directory = ckpt_folder_root + 'rns_active/active_checkpoints_' + strategy_name\n",
    "    # ckpt_files = os.listdir(ckpt_directory)\n",
    "    # load_file_name = strategy_name + '_round_' + str(rd - 1) + '-epoch=' + str(int(max_row['epoch'])).zfill(2)\n",
    "    #\n",
    "    # ind = next((i for i, s in enumerate(ckpt_files) if load_file_name in s), None)\n",
    "    # print(ind, ckpt_files[ind])\n",
    "    # strategy.net.net.load_from_checkpoint(ckpt_directory + '/' + ckpt_files[ind], backbone=swav.backbone)\n",
    "\n",
    "    q_idxs = strategy.query(NUM_QUERY * 90)\n",
    "\n",
    "    # with open(log_folder_root + 'rns_active_selected/' + strategy_name + '/' + 'selected_indices.pkl', 'rb') as f:\n",
    "    # # Load the content of the file into a Python object\n",
    "    #     selected_inds = pickle.load(f)\n",
    "    # selected_inds[rd] = q_idxs\n",
    "    # with open(log_folder_root + 'rns_active_selected/' + strategy_name + '/' + 'selected_indices.pkl', 'wb') as f:\n",
    "    #     pickle.dump(selected_inds, f)\n",
    "# Now you can use the dictionary object as usual\n",
    "    strategy.update(q_idxs)\n",
    "    strategy.net.round = rd\n",
    "    strategy.net.net.load_state_dict(modelstate)\n",
    "    strategy.train()"
   ]
  },
  {
   "cell_type": "code",
   "execution_count": null,
   "metadata": {},
   "outputs": [],
   "source": []
  }
 ],
 "metadata": {
  "kernelspec": {
   "display_name": "Python 3 (ipykernel)",
   "language": "python",
   "name": "python3"
  },
  "language_info": {
   "codemirror_mode": {
    "name": "ipython",
    "version": 3
   },
   "file_extension": ".py",
   "mimetype": "text/x-python",
   "name": "python",
   "nbconvert_exporter": "python",
   "pygments_lexer": "ipython3",
   "version": "3.10.5"
  }
 },
 "nbformat": 4,
 "nbformat_minor": 1
}
