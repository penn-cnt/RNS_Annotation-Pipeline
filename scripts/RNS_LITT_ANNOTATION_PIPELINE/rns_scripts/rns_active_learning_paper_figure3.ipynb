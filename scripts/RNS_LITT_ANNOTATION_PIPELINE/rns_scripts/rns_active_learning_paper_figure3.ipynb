{
 "cells": [
  {
   "cell_type": "code",
   "execution_count": 1,
   "metadata": {
    "ExecuteTime": {
     "end_time": "2024-11-06T17:59:31.217601Z",
     "start_time": "2024-11-06T17:59:31.060604Z"
    }
   },
   "outputs": [],
   "source": [
    "%load_ext autoreload\n",
    "%autoreload 2"
   ]
  },
  {
   "cell_type": "code",
   "execution_count": 2,
   "metadata": {
    "ExecuteTime": {
     "end_time": "2024-11-06T17:59:43.686571Z",
     "start_time": "2024-11-06T17:59:31.218602Z"
    }
   },
   "outputs": [],
   "source": [
    "import numpy as np\n",
    "import random\n",
    "import sys\n",
    "\n",
    "sys.path.append('../tools')\n",
    "\n",
    "import os\n",
    "\n",
    "import torch\n",
    "\n",
    "import pandas as pd\n",
    "from sklearn.model_selection import train_test_split\n",
    "import pytorch_lightning as pl\n",
    "import pytorch_lightning.loggers as pl_loggers\n",
    "import pytorch_lightning.callbacks as pl_callbacks\n",
    "import data_utility, annotation_utility\n",
    "from models.rns_dataloader import *\n",
    "from active_learning_utility import get_strategy\n",
    "from active_learning_data import Data\n",
    "from active_learning_net import Net\n",
    "import interrater_annotations.tools\n",
    "from copy import deepcopy\n",
    "from models.SwaV import SwaV\n",
    "from models.LSTMDownStream import SupervisedDownstream\n",
    "import warnings\n",
    "import pickle\n",
    "warnings.filterwarnings(\"ignore\")\n"
   ]
  },
  {
   "cell_type": "code",
   "execution_count": 3,
   "metadata": {
    "ExecuteTime": {
     "end_time": "2024-11-06T17:59:44.352571Z",
     "start_time": "2024-11-06T17:59:43.687572Z"
    }
   },
   "outputs": [
    {
     "name": "stderr",
     "output_type": "stream",
     "text": [
      "Global seed set to 42\n"
     ]
    },
    {
     "data": {
      "text/plain": "42"
     },
     "execution_count": 3,
     "metadata": {},
     "output_type": "execute_result"
    }
   ],
   "source": [
    "random_seed = 42\n",
    "random.seed(random_seed)\n",
    "torch.manual_seed(random_seed)\n",
    "np.random.seed(random_seed)\n",
    "\n",
    "if torch.cuda.is_available():\n",
    "    torch.cuda.manual_seed(random_seed)\n",
    "    # True ensures the algorithm selected by CUFA is deterministic\n",
    "    torch.backends.cudnn.deterministic = True\n",
    "    # torch.set_deterministic(True)\n",
    "    # False ensures CUDA select the same algorithm each time the application is run\n",
    "    torch.backends.cudnn.benchmark = False\n",
    "\n",
    "import pytorch_lightning\n",
    "\n",
    "pytorch_lightning.utilities.seed.seed_everything(seed=random_seed, workers=True)"
   ]
  },
  {
   "cell_type": "code",
   "execution_count": 4,
   "metadata": {
    "ExecuteTime": {
     "end_time": "2024-11-06T17:59:44.986143Z",
     "start_time": "2024-11-06T17:59:44.353573Z"
    }
   },
   "outputs": [],
   "source": [
    "data_dir = \"../../../user_data/\"\n",
    "log_folder_root = '../../../user_data/logs/'\n",
    "ckpt_folder_root = '../../../user_data/checkpoints/'"
   ]
  },
  {
   "cell_type": "code",
   "execution_count": 5,
   "outputs": [
    {
     "data": {
      "text/plain": "['HUP096',\n 'HUP137',\n 'HUP153',\n 'HUP108',\n 'HUP136',\n 'HUP127',\n 'HUP128',\n 'HUP143',\n 'HUP059',\n 'HUP047',\n 'HUP159',\n 'HUP121',\n 'HUP147',\n 'HUP131',\n 'HUP084',\n 'RNS021',\n 'HUP156',\n 'HUP109',\n 'HUP101',\n 'RNS022',\n 'HUP182',\n 'HUP205',\n 'RNS026',\n 'HUP197']"
     },
     "execution_count": 5,
     "metadata": {},
     "output_type": "execute_result"
    }
   ],
   "source": [
    "raw_annotations = pd.read_csv('interrater_annotations/full_updated_anns (1).csv')\n",
    "ids = list(raw_annotations['HUP_ID'].unique())\n",
    "ids[:-1]"
   ],
   "metadata": {
    "collapsed": false,
    "ExecuteTime": {
     "end_time": "2024-11-06T17:59:45.622144Z",
     "start_time": "2024-11-06T17:59:44.987145Z"
    }
   }
  },
  {
   "cell_type": "code",
   "execution_count": 6,
   "outputs": [
    {
     "name": "stderr",
     "output_type": "stream",
     "text": [
      "100%|██████████| 25/25 [00:51<00:00,  2.05s/it]\n"
     ]
    }
   ],
   "source": [
    "from interrater_annotations.tools import data_utility\n",
    "data_import = data_utility.read_files(path=data_dir + 'rns_data', patientIDs=ids,\n",
    "                                      verbose=True)  # Import data with annotation"
   ],
   "metadata": {
    "collapsed": false,
    "ExecuteTime": {
     "end_time": "2024-11-06T18:02:05.993220Z",
     "start_time": "2024-11-06T18:01:09.329024Z"
    }
   }
  },
  {
   "cell_type": "code",
   "execution_count": 7,
   "outputs": [
    {
     "name": "stdout",
     "output_type": "stream",
     "text": [
      "42\n",
      "42\n",
      "42\n",
      "43\n",
      "43\n",
      "43\n",
      "41\n",
      "41\n",
      "41\n",
      "41\n",
      "41\n",
      "41\n",
      "41\n",
      "41\n",
      "41\n",
      "41\n",
      "41\n",
      "41\n",
      "41\n",
      "41\n",
      "41\n",
      "48\n",
      "48\n",
      "48\n",
      "41\n",
      "41\n",
      "41\n",
      "42\n",
      "42\n",
      "42\n",
      "41\n",
      "41\n",
      "41\n",
      "41\n",
      "41\n",
      "41\n",
      "42\n",
      "42\n",
      "42\n",
      "41\n",
      "41\n",
      "41\n"
     ]
    }
   ],
   "source": [
    "from interrater_annotations.tools import annotation_utility\n",
    "annotations = annotation_utility.read_annotation(annotation_path = 'interrater_annotations/all_updated_anns.csv', annotation_catalog_path='interrater_annotations/test_datasets.csv', data = data_import)"
   ],
   "metadata": {
    "collapsed": false,
    "ExecuteTime": {
     "end_time": "2024-11-06T18:02:07.907223Z",
     "start_time": "2024-11-06T18:02:05.995226Z"
    }
   }
  },
  {
   "cell_type": "code",
   "execution_count": 8,
   "outputs": [
    {
     "data": {
      "text/plain": "                         Dataset  Annotation_Catalog_Index Patient_ID          Alias_ID  Episode_Start_Timestamp  Episode_End_Timestamp  Episode_Start_UTC_Time    Episode_End_UTC_Time  Episode_Index  Episode_Start_Index  Episode_End_Index Annotation_Start_Timestamp Annotation_End_Timestamp     Annotation_Start_UTC_Time       Annotation_End_UTC_Time Annotation_Start_Index Annotation_End_Index Type_Description  Class_Code Annotation_Channel Channel_Code Binary_Channel_Code\n59   RNS_Test_Dataset_ErinConrad                        59     HUP096  RNS_Example_1_EC         1427742903476000       1427742993628000 2015-03-30 19:15:03.476 2015-03-30 19:16:33.628             10               250781             273318                         []                       []                            []                            []                     []                   []               No           0                 []           []                  []\n60   RNS_Test_Dataset_ErinConrad                        60     HUP096  RNS_Example_1_EC         1442176442532000       1442176532616000 2015-09-13 20:34:02.532 2015-09-13 20:35:32.616            508             11181530           11204050         [1442176484602143]       [1442176503681280]  [2015-09-13 20:34:44.602143]  [2015-09-13 20:35:03.681280]             [11192047]           [11196817]              Yes           1          [1,2,3,4]       [1111]              [1111]\n61   RNS_Test_Dataset_ErinConrad                        61     HUP096  RNS_Example_1_EC         1446212334040000       1446212424128000 2015-10-30 13:38:54.040 2015-10-30 13:40:24.128            629             13870413           13892934         [1446212375851151]       [1446212394966259]  [2015-10-30 13:39:35.851151]  [2015-10-30 13:39:54.966259]             [13880865]           [13885644]              Yes           1          [1,2,3,4]       [1111]              [1111]\n62   RNS_Test_Dataset_ErinConrad                        62     HUP096  RNS_Example_1_EC         1449366435524000       1449366525608000 2015-12-06 01:47:15.524 2015-12-06 01:48:45.608            721             15909503           15932023         [1449366477065366]       [1449366499097740]  [2015-12-06 01:47:57.065366]  [2015-12-06 01:48:19.097740]             [15919888]           [15925396]              Yes           1          [1,2,3,4]       [1111]              [1111]\n63   RNS_Test_Dataset_ErinConrad                        63     HUP096  RNS_Example_1_EC         1449934755536000       1449934845628000 2015-12-12 15:39:15.536 2015-12-12 15:40:45.628            743             16390505           16413027         [1449934797422690]       [1449934815379524]  [2015-12-12 15:39:57.422690]  [2015-12-12 15:40:15.379524]             [16400976]           [16405465]              Yes           1          [1,2,3,4]       [1111]              [1111]\n64   RNS_Test_Dataset_ErinConrad                        64     HUP096  RNS_Example_1_EC         1455641459024000       1455641549116000 2016-02-16 16:50:59.024 2016-02-16 16:52:29.116            916             20226279           20248801         [1455641500632209]       [1455641524046388]  [2016-02-16 16:51:40.632209]  [2016-02-16 16:52:04.046388]             [20236681]           [20242534]              Yes           1          [1,2,3,4]       [1111]              [1111]\n65   RNS_Test_Dataset_ErinConrad                        65     HUP096  RNS_Example_1_EC         1455731984528000       1455732074628000 2016-02-17 17:59:44.528 2016-02-17 18:01:14.628            921             20338919           20361443         [1455732026202876]       [1455732043242286]  [2016-02-17 18:00:26.202876]  [2016-02-17 18:00:43.242286]             [20349337]           [20353597]              Yes           1          [1,2,3,4]       [1111]              [1111]\n66   RNS_Test_Dataset_ErinConrad                        66     HUP096  RNS_Example_1_EC         1461799060532000       1461799150616000 2016-04-27 23:17:40.532 2016-04-27 23:19:10.616           1105             24450741           24473261         [1461799101866975]       [1461799126694561]  [2016-04-27 23:18:21.866975]  [2016-04-27 23:18:46.694561]             [24461074]           [24467281]              Yes           1          [1,2,3,4]       [1111]              [1111]\n67   RNS_Test_Dataset_ErinConrad                        67     HUP096  RNS_Example_1_EC         1467873560512000       1467873650608000 2016-07-07 06:39:20.512 2016-07-07 06:40:50.608           1290             28581909           28604432                         []                       []                            []                            []                     []                   []               No           0                 []           []                  []\n68   RNS_Test_Dataset_ErinConrad                        68     HUP096  RNS_Example_1_EC         1469814899464000       1469814989632000 2016-07-29 17:54:59.464 2016-07-29 17:56:29.632           1350             29921013           29943554                         []                       []                            []                            []                     []                   []               No           0                 []           []                  []\n69   RNS_Test_Dataset_ErinConrad                        69     HUP096  RNS_Example_1_EC         1471934916516000       1471935006616000 2016-08-23 06:48:36.516 2016-08-23 06:50:06.616           1417             31428937           31451461                         []                       []                            []                            []                     []                   []               No           0                 []           []                  []\n74   RNS_Test_Dataset_ErinConrad                        74     HUP096  RNS_Example_1_EC         1514141698976000       1514141789132000 2017-12-24 18:54:58.976 2017-12-24 18:56:29.132           2688             59920193           59942731                         []                       []                            []                            []                     []                   []               No           0                 []           []                  []\n84   RNS_Test_Dataset_ErinConrad                        84     HUP137  RNS_Example_2_EC         1506762815028000       1506762905124000 2017-09-30 09:13:35.028 2017-09-30 09:15:05.124            313              6871039            6893562                         []                       []                            []                            []                     []                   []               No           0                 []           []                  []\n85   RNS_Test_Dataset_ErinConrad                        85     HUP137  RNS_Example_2_EC         1510786676536000       1510786766592000 2017-11-15 22:57:56.536 2017-11-15 22:59:26.592            495             10803234           10825747                         []                       []                            []                            []                     []                   []               No           0                 []           []                  []\n86   RNS_Test_Dataset_ErinConrad                        86     HUP137  RNS_Example_2_EC         1511285530464000       1511285620632000 2017-11-21 17:32:10.464 2017-11-21 17:33:40.632            519             11343591           11366132                         []                       []                            []                            []                     []                   []               No           0                 []           []                  []\n87   RNS_Test_Dataset_ErinConrad                        87     HUP137  RNS_Example_2_EC         1514317973536000       1514318063628000 2017-12-26 19:52:53.536 2017-12-26 19:54:23.628            635             13886370           13908892         [1514317984073769]       [1514318034188877]  [2017-12-26 19:53:04.073769]  [2017-12-26 19:53:54.188877]             [13889004]           [13901533]              Yes           1              [1,2]       [1100]              [1100]\n88   RNS_Test_Dataset_ErinConrad                        88     HUP137  RNS_Example_2_EC         1538774534552000       1538774624608000 2018-10-05 21:22:14.552 2018-10-05 21:23:44.608           1650             36328794           36351307         [1538774563992886]       [1538774614032295]  [2018-10-05 21:22:43.992886]  [2018-10-05 21:23:34.032295]             [36336154]           [36348663]              Yes           1              [1,2]       [1100]              [1100]\n89   RNS_Test_Dataset_ErinConrad                        89     HUP137  RNS_Example_2_EC         1540664243012000       1540664333128000 2018-10-27 18:17:23.012 2018-10-27 18:18:53.128           1736             38266084           38288612         [1540664259264747]       [1540664312187824]  [2018-10-27 18:17:39.264747]  [2018-10-27 18:18:32.187824]             [38270147]           [38283377]              Yes           1              [1,2]       [1100]              [1100]\n90   RNS_Test_Dataset_ErinConrad                        90     HUP137  RNS_Example_2_EC         1545256591536000       1545256681576000 2018-12-19 21:56:31.536 2018-12-19 21:58:01.576           1894             41800649           41823158         [1545256619953582]       [1545256681576000]  [2018-12-19 21:56:59.953582]  [2018-12-19 21:58:01.576000]             [41807753]           [41823158]              Yes           1              [1,2]       [1100]              [1100]\n91   RNS_Test_Dataset_ErinConrad                        91     HUP137  RNS_Example_2_EC         1548005703468000       1548005793620000 2019-01-20 17:35:03.468 2019-01-20 17:36:33.620           1983             43788510           43811047                         []                       []                            []                            []                     []                   []               No           0                 []           []                  []\n92   RNS_Test_Dataset_ErinConrad                        92     HUP137  RNS_Example_2_EC         1550084226464000       1550084316632000 2019-02-13 18:57:06.464 2019-02-13 18:58:36.632           2054             45386761           45409302                         []                       []                            []                            []                     []                   []               No           0                 []           []                  []\n93   RNS_Test_Dataset_ErinConrad                        93     HUP137  RNS_Example_2_EC         1551022375524000       1551022465604000 2019-02-24 15:32:55.524 2019-02-24 15:34:25.604           2092             46178484           46201003                         []                       []                            []                            []                     []                   []               No           0                 []           []                  []\n94   RNS_Test_Dataset_ErinConrad                        94     HUP137  RNS_Example_2_EC         1575076915548000       1575077005584000 2019-11-30 01:21:55.548 2019-11-30 01:23:25.584           2796             61708056           61730564                         []                       []                            []                            []                     []                   []               No           0                 []           []                  []\n95   RNS_Test_Dataset_ErinConrad                        95     HUP137  RNS_Example_2_EC         1575695310964000       1575695401132000 2019-12-07 05:08:30.964 2019-12-07 05:10:01.132           2815             62136035           62158576                         []                       []                            []                            []                     []                   []               No           0                 []           []                  []\n96   RNS_Test_Dataset_ErinConrad                        96     HUP137  RNS_Example_2_EC         1576482194012000       1576482284128000 2019-12-16 07:43:14.012 2019-12-16 07:44:44.128           2841             62701470           62723998                         []                       []                            []                            []                     []                   []               No           0                 []           []                  []\n101  RNS_Test_Dataset_ErinConrad                       101     HUP101  RNS_Example_3_EC         1549432955964000       1549433046132000 2019-02-06 06:02:35.964 2019-02-06 06:04:06.132              0                    0              22541                         []                       []                            []                            []                     []                   []               No           0                 []           []                  []\n102  RNS_Test_Dataset_ErinConrad                       102     HUP101  RNS_Example_3_EC         1549476153964000       1549476244132000 2019-02-06 18:02:33.964 2019-02-06 18:04:04.132              1                22542              45083                         []                       []                            []                            []                     []                   []               No           0                 []           []                  []\n103  RNS_Test_Dataset_ErinConrad                       103     HUP101  RNS_Example_3_EC         1557816572492000       1557816662628000 2019-05-14 06:49:32.492 2019-05-14 06:51:02.628             23               500049             522582                         []                       []                            []                            []                     []                   []               No           0                 []           []                  []\n104  RNS_Test_Dataset_ErinConrad                       104     HUP101  RNS_Example_3_EC         1558896166964000       1558896257132000 2019-05-26 18:42:46.964 2019-05-26 18:44:17.132             24               522583             545124                         []                       []                            []                            []                     []                   []               No           0                 []           []                  []\n105  RNS_Test_Dataset_ErinConrad                       105     HUP101  RNS_Example_3_EC         1566444327500000       1566444417604000 2019-08-22 03:25:27.500 2019-08-22 03:26:57.604             36               793035             815560         [1566444371437050]       [1566444404199639]  [2019-08-22 03:26:11.437050]  [2019-08-22 03:26:44.199639]               [804019]             [812209]              Yes           1                [2]       [0100]              [0100]\n106  RNS_Test_Dataset_ErinConrad                       106     HUP101  RNS_Example_3_EC         1569306266964000       1569306357132000 2019-09-24 06:24:26.964 2019-09-24 06:25:57.132             42               928247             950788                         []                       []                            []                            []                     []                   []               No           0                 []           []                  []\n107  RNS_Test_Dataset_ErinConrad                       107     HUP101  RNS_Example_3_EC         1596048628268000       1596048718344000 2020-07-29 18:50:28.268 2020-07-29 18:51:58.344            101              2173687            2196205         [1596048672509758]       [1596048718344000]  [2020-07-29 18:51:12.509758]  [2020-07-29 18:51:58.344000]              [2184747]            [2196205]              Yes           1              [1,2]       [1100]              [1100]\n108  RNS_Test_Dataset_ErinConrad                       108     HUP101  RNS_Example_3_EC         1602266102076000       1602266172496000 2020-10-09 17:55:02.076 2020-10-09 17:56:12.496            106              2254561            2272165         [1602266127097977]       [1602266164592482]  [2020-10-09 17:55:27.097977]  [2020-10-09 17:56:04.592482]              [2260816]            [2270189]              Yes           1              [1,2]       [1100]              [1100]\n109  RNS_Test_Dataset_ErinConrad                       109     HUP101  RNS_Example_3_EC         1606480477577000       1606480567601000 2020-11-27 12:34:37.577 2020-11-27 12:36:07.601            131              2805593            2828098                         []                       []                            []                            []                     []                   []               No           0                 []           []                  []\n110  RNS_Test_Dataset_ErinConrad                       110     HUP101  RNS_Example_3_EC         1609936365801000       1609936455817000 2021-01-06 12:32:45.801 2021-01-06 12:34:15.817            138              2963201            2985704                         []                       []                            []                            []                     []                   []               No           0                 []           []                  []\n111  RNS_Test_Dataset_ErinConrad                       111     HUP101  RNS_Example_3_EC         1611139386309000       1611139476377000 2021-01-20 10:43:06.309 2021-01-20 10:44:36.377            149              3167403            3189919         [1611139430006802]       [1611139444330977]  [2021-01-20 10:43:50.006802]  [2021-01-20 10:44:04.330977]              [3178327]            [3181908]              Yes           1                [2]       [0100]              [0100]\n112  RNS_Test_Dataset_ErinConrad                       112     HUP101  RNS_Example_3_EC         1612974943914000       1612975033986000 2021-02-10 16:35:43.914 2021-02-10 16:37:13.986            157              3345239            3367751                         []                       []                            []                            []                     []                   []               No           0                 []           []                  []\n113  RNS_Test_Dataset_ErinConrad                       113     HUP101  RNS_Example_3_EC         1617120308566000       1617120344050000 2021-03-30 16:05:08.566 2021-03-30 16:05:44.050            165              3498450            3507314                         []                       []                            []                            []                     []                   []               No           0                 []           []                  []\n114  RNS_Test_Dataset_ErinConrad                       114     HUP101  RNS_Example_3_EC         1617120625925000       1617120692813000 2021-03-30 16:10:25.925 2021-03-30 16:11:32.813            167              3518801            3535517                         []                       []                            []                            []                     []                   []               No           0                 []           []                  []",
      "text/html": "<div>\n<style scoped>\n    .dataframe tbody tr th:only-of-type {\n        vertical-align: middle;\n    }\n\n    .dataframe tbody tr th {\n        vertical-align: top;\n    }\n\n    .dataframe thead th {\n        text-align: right;\n    }\n</style>\n<table border=\"1\" class=\"dataframe\">\n  <thead>\n    <tr style=\"text-align: right;\">\n      <th></th>\n      <th>Dataset</th>\n      <th>Annotation_Catalog_Index</th>\n      <th>Patient_ID</th>\n      <th>Alias_ID</th>\n      <th>Episode_Start_Timestamp</th>\n      <th>Episode_End_Timestamp</th>\n      <th>Episode_Start_UTC_Time</th>\n      <th>Episode_End_UTC_Time</th>\n      <th>Episode_Index</th>\n      <th>Episode_Start_Index</th>\n      <th>Episode_End_Index</th>\n      <th>Annotation_Start_Timestamp</th>\n      <th>Annotation_End_Timestamp</th>\n      <th>Annotation_Start_UTC_Time</th>\n      <th>Annotation_End_UTC_Time</th>\n      <th>Annotation_Start_Index</th>\n      <th>Annotation_End_Index</th>\n      <th>Type_Description</th>\n      <th>Class_Code</th>\n      <th>Annotation_Channel</th>\n      <th>Channel_Code</th>\n      <th>Binary_Channel_Code</th>\n    </tr>\n  </thead>\n  <tbody>\n    <tr>\n      <th>59</th>\n      <td>RNS_Test_Dataset_ErinConrad</td>\n      <td>59</td>\n      <td>HUP096</td>\n      <td>RNS_Example_1_EC</td>\n      <td>1427742903476000</td>\n      <td>1427742993628000</td>\n      <td>2015-03-30 19:15:03.476</td>\n      <td>2015-03-30 19:16:33.628</td>\n      <td>10</td>\n      <td>250781</td>\n      <td>273318</td>\n      <td>[]</td>\n      <td>[]</td>\n      <td>[]</td>\n      <td>[]</td>\n      <td>[]</td>\n      <td>[]</td>\n      <td>No</td>\n      <td>0</td>\n      <td>[]</td>\n      <td>[]</td>\n      <td>[]</td>\n    </tr>\n    <tr>\n      <th>60</th>\n      <td>RNS_Test_Dataset_ErinConrad</td>\n      <td>60</td>\n      <td>HUP096</td>\n      <td>RNS_Example_1_EC</td>\n      <td>1442176442532000</td>\n      <td>1442176532616000</td>\n      <td>2015-09-13 20:34:02.532</td>\n      <td>2015-09-13 20:35:32.616</td>\n      <td>508</td>\n      <td>11181530</td>\n      <td>11204050</td>\n      <td>[1442176484602143]</td>\n      <td>[1442176503681280]</td>\n      <td>[2015-09-13 20:34:44.602143]</td>\n      <td>[2015-09-13 20:35:03.681280]</td>\n      <td>[11192047]</td>\n      <td>[11196817]</td>\n      <td>Yes</td>\n      <td>1</td>\n      <td>[1,2,3,4]</td>\n      <td>[1111]</td>\n      <td>[1111]</td>\n    </tr>\n    <tr>\n      <th>61</th>\n      <td>RNS_Test_Dataset_ErinConrad</td>\n      <td>61</td>\n      <td>HUP096</td>\n      <td>RNS_Example_1_EC</td>\n      <td>1446212334040000</td>\n      <td>1446212424128000</td>\n      <td>2015-10-30 13:38:54.040</td>\n      <td>2015-10-30 13:40:24.128</td>\n      <td>629</td>\n      <td>13870413</td>\n      <td>13892934</td>\n      <td>[1446212375851151]</td>\n      <td>[1446212394966259]</td>\n      <td>[2015-10-30 13:39:35.851151]</td>\n      <td>[2015-10-30 13:39:54.966259]</td>\n      <td>[13880865]</td>\n      <td>[13885644]</td>\n      <td>Yes</td>\n      <td>1</td>\n      <td>[1,2,3,4]</td>\n      <td>[1111]</td>\n      <td>[1111]</td>\n    </tr>\n    <tr>\n      <th>62</th>\n      <td>RNS_Test_Dataset_ErinConrad</td>\n      <td>62</td>\n      <td>HUP096</td>\n      <td>RNS_Example_1_EC</td>\n      <td>1449366435524000</td>\n      <td>1449366525608000</td>\n      <td>2015-12-06 01:47:15.524</td>\n      <td>2015-12-06 01:48:45.608</td>\n      <td>721</td>\n      <td>15909503</td>\n      <td>15932023</td>\n      <td>[1449366477065366]</td>\n      <td>[1449366499097740]</td>\n      <td>[2015-12-06 01:47:57.065366]</td>\n      <td>[2015-12-06 01:48:19.097740]</td>\n      <td>[15919888]</td>\n      <td>[15925396]</td>\n      <td>Yes</td>\n      <td>1</td>\n      <td>[1,2,3,4]</td>\n      <td>[1111]</td>\n      <td>[1111]</td>\n    </tr>\n    <tr>\n      <th>63</th>\n      <td>RNS_Test_Dataset_ErinConrad</td>\n      <td>63</td>\n      <td>HUP096</td>\n      <td>RNS_Example_1_EC</td>\n      <td>1449934755536000</td>\n      <td>1449934845628000</td>\n      <td>2015-12-12 15:39:15.536</td>\n      <td>2015-12-12 15:40:45.628</td>\n      <td>743</td>\n      <td>16390505</td>\n      <td>16413027</td>\n      <td>[1449934797422690]</td>\n      <td>[1449934815379524]</td>\n      <td>[2015-12-12 15:39:57.422690]</td>\n      <td>[2015-12-12 15:40:15.379524]</td>\n      <td>[16400976]</td>\n      <td>[16405465]</td>\n      <td>Yes</td>\n      <td>1</td>\n      <td>[1,2,3,4]</td>\n      <td>[1111]</td>\n      <td>[1111]</td>\n    </tr>\n    <tr>\n      <th>64</th>\n      <td>RNS_Test_Dataset_ErinConrad</td>\n      <td>64</td>\n      <td>HUP096</td>\n      <td>RNS_Example_1_EC</td>\n      <td>1455641459024000</td>\n      <td>1455641549116000</td>\n      <td>2016-02-16 16:50:59.024</td>\n      <td>2016-02-16 16:52:29.116</td>\n      <td>916</td>\n      <td>20226279</td>\n      <td>20248801</td>\n      <td>[1455641500632209]</td>\n      <td>[1455641524046388]</td>\n      <td>[2016-02-16 16:51:40.632209]</td>\n      <td>[2016-02-16 16:52:04.046388]</td>\n      <td>[20236681]</td>\n      <td>[20242534]</td>\n      <td>Yes</td>\n      <td>1</td>\n      <td>[1,2,3,4]</td>\n      <td>[1111]</td>\n      <td>[1111]</td>\n    </tr>\n    <tr>\n      <th>65</th>\n      <td>RNS_Test_Dataset_ErinConrad</td>\n      <td>65</td>\n      <td>HUP096</td>\n      <td>RNS_Example_1_EC</td>\n      <td>1455731984528000</td>\n      <td>1455732074628000</td>\n      <td>2016-02-17 17:59:44.528</td>\n      <td>2016-02-17 18:01:14.628</td>\n      <td>921</td>\n      <td>20338919</td>\n      <td>20361443</td>\n      <td>[1455732026202876]</td>\n      <td>[1455732043242286]</td>\n      <td>[2016-02-17 18:00:26.202876]</td>\n      <td>[2016-02-17 18:00:43.242286]</td>\n      <td>[20349337]</td>\n      <td>[20353597]</td>\n      <td>Yes</td>\n      <td>1</td>\n      <td>[1,2,3,4]</td>\n      <td>[1111]</td>\n      <td>[1111]</td>\n    </tr>\n    <tr>\n      <th>66</th>\n      <td>RNS_Test_Dataset_ErinConrad</td>\n      <td>66</td>\n      <td>HUP096</td>\n      <td>RNS_Example_1_EC</td>\n      <td>1461799060532000</td>\n      <td>1461799150616000</td>\n      <td>2016-04-27 23:17:40.532</td>\n      <td>2016-04-27 23:19:10.616</td>\n      <td>1105</td>\n      <td>24450741</td>\n      <td>24473261</td>\n      <td>[1461799101866975]</td>\n      <td>[1461799126694561]</td>\n      <td>[2016-04-27 23:18:21.866975]</td>\n      <td>[2016-04-27 23:18:46.694561]</td>\n      <td>[24461074]</td>\n      <td>[24467281]</td>\n      <td>Yes</td>\n      <td>1</td>\n      <td>[1,2,3,4]</td>\n      <td>[1111]</td>\n      <td>[1111]</td>\n    </tr>\n    <tr>\n      <th>67</th>\n      <td>RNS_Test_Dataset_ErinConrad</td>\n      <td>67</td>\n      <td>HUP096</td>\n      <td>RNS_Example_1_EC</td>\n      <td>1467873560512000</td>\n      <td>1467873650608000</td>\n      <td>2016-07-07 06:39:20.512</td>\n      <td>2016-07-07 06:40:50.608</td>\n      <td>1290</td>\n      <td>28581909</td>\n      <td>28604432</td>\n      <td>[]</td>\n      <td>[]</td>\n      <td>[]</td>\n      <td>[]</td>\n      <td>[]</td>\n      <td>[]</td>\n      <td>No</td>\n      <td>0</td>\n      <td>[]</td>\n      <td>[]</td>\n      <td>[]</td>\n    </tr>\n    <tr>\n      <th>68</th>\n      <td>RNS_Test_Dataset_ErinConrad</td>\n      <td>68</td>\n      <td>HUP096</td>\n      <td>RNS_Example_1_EC</td>\n      <td>1469814899464000</td>\n      <td>1469814989632000</td>\n      <td>2016-07-29 17:54:59.464</td>\n      <td>2016-07-29 17:56:29.632</td>\n      <td>1350</td>\n      <td>29921013</td>\n      <td>29943554</td>\n      <td>[]</td>\n      <td>[]</td>\n      <td>[]</td>\n      <td>[]</td>\n      <td>[]</td>\n      <td>[]</td>\n      <td>No</td>\n      <td>0</td>\n      <td>[]</td>\n      <td>[]</td>\n      <td>[]</td>\n    </tr>\n    <tr>\n      <th>69</th>\n      <td>RNS_Test_Dataset_ErinConrad</td>\n      <td>69</td>\n      <td>HUP096</td>\n      <td>RNS_Example_1_EC</td>\n      <td>1471934916516000</td>\n      <td>1471935006616000</td>\n      <td>2016-08-23 06:48:36.516</td>\n      <td>2016-08-23 06:50:06.616</td>\n      <td>1417</td>\n      <td>31428937</td>\n      <td>31451461</td>\n      <td>[]</td>\n      <td>[]</td>\n      <td>[]</td>\n      <td>[]</td>\n      <td>[]</td>\n      <td>[]</td>\n      <td>No</td>\n      <td>0</td>\n      <td>[]</td>\n      <td>[]</td>\n      <td>[]</td>\n    </tr>\n    <tr>\n      <th>74</th>\n      <td>RNS_Test_Dataset_ErinConrad</td>\n      <td>74</td>\n      <td>HUP096</td>\n      <td>RNS_Example_1_EC</td>\n      <td>1514141698976000</td>\n      <td>1514141789132000</td>\n      <td>2017-12-24 18:54:58.976</td>\n      <td>2017-12-24 18:56:29.132</td>\n      <td>2688</td>\n      <td>59920193</td>\n      <td>59942731</td>\n      <td>[]</td>\n      <td>[]</td>\n      <td>[]</td>\n      <td>[]</td>\n      <td>[]</td>\n      <td>[]</td>\n      <td>No</td>\n      <td>0</td>\n      <td>[]</td>\n      <td>[]</td>\n      <td>[]</td>\n    </tr>\n    <tr>\n      <th>84</th>\n      <td>RNS_Test_Dataset_ErinConrad</td>\n      <td>84</td>\n      <td>HUP137</td>\n      <td>RNS_Example_2_EC</td>\n      <td>1506762815028000</td>\n      <td>1506762905124000</td>\n      <td>2017-09-30 09:13:35.028</td>\n      <td>2017-09-30 09:15:05.124</td>\n      <td>313</td>\n      <td>6871039</td>\n      <td>6893562</td>\n      <td>[]</td>\n      <td>[]</td>\n      <td>[]</td>\n      <td>[]</td>\n      <td>[]</td>\n      <td>[]</td>\n      <td>No</td>\n      <td>0</td>\n      <td>[]</td>\n      <td>[]</td>\n      <td>[]</td>\n    </tr>\n    <tr>\n      <th>85</th>\n      <td>RNS_Test_Dataset_ErinConrad</td>\n      <td>85</td>\n      <td>HUP137</td>\n      <td>RNS_Example_2_EC</td>\n      <td>1510786676536000</td>\n      <td>1510786766592000</td>\n      <td>2017-11-15 22:57:56.536</td>\n      <td>2017-11-15 22:59:26.592</td>\n      <td>495</td>\n      <td>10803234</td>\n      <td>10825747</td>\n      <td>[]</td>\n      <td>[]</td>\n      <td>[]</td>\n      <td>[]</td>\n      <td>[]</td>\n      <td>[]</td>\n      <td>No</td>\n      <td>0</td>\n      <td>[]</td>\n      <td>[]</td>\n      <td>[]</td>\n    </tr>\n    <tr>\n      <th>86</th>\n      <td>RNS_Test_Dataset_ErinConrad</td>\n      <td>86</td>\n      <td>HUP137</td>\n      <td>RNS_Example_2_EC</td>\n      <td>1511285530464000</td>\n      <td>1511285620632000</td>\n      <td>2017-11-21 17:32:10.464</td>\n      <td>2017-11-21 17:33:40.632</td>\n      <td>519</td>\n      <td>11343591</td>\n      <td>11366132</td>\n      <td>[]</td>\n      <td>[]</td>\n      <td>[]</td>\n      <td>[]</td>\n      <td>[]</td>\n      <td>[]</td>\n      <td>No</td>\n      <td>0</td>\n      <td>[]</td>\n      <td>[]</td>\n      <td>[]</td>\n    </tr>\n    <tr>\n      <th>87</th>\n      <td>RNS_Test_Dataset_ErinConrad</td>\n      <td>87</td>\n      <td>HUP137</td>\n      <td>RNS_Example_2_EC</td>\n      <td>1514317973536000</td>\n      <td>1514318063628000</td>\n      <td>2017-12-26 19:52:53.536</td>\n      <td>2017-12-26 19:54:23.628</td>\n      <td>635</td>\n      <td>13886370</td>\n      <td>13908892</td>\n      <td>[1514317984073769]</td>\n      <td>[1514318034188877]</td>\n      <td>[2017-12-26 19:53:04.073769]</td>\n      <td>[2017-12-26 19:53:54.188877]</td>\n      <td>[13889004]</td>\n      <td>[13901533]</td>\n      <td>Yes</td>\n      <td>1</td>\n      <td>[1,2]</td>\n      <td>[1100]</td>\n      <td>[1100]</td>\n    </tr>\n    <tr>\n      <th>88</th>\n      <td>RNS_Test_Dataset_ErinConrad</td>\n      <td>88</td>\n      <td>HUP137</td>\n      <td>RNS_Example_2_EC</td>\n      <td>1538774534552000</td>\n      <td>1538774624608000</td>\n      <td>2018-10-05 21:22:14.552</td>\n      <td>2018-10-05 21:23:44.608</td>\n      <td>1650</td>\n      <td>36328794</td>\n      <td>36351307</td>\n      <td>[1538774563992886]</td>\n      <td>[1538774614032295]</td>\n      <td>[2018-10-05 21:22:43.992886]</td>\n      <td>[2018-10-05 21:23:34.032295]</td>\n      <td>[36336154]</td>\n      <td>[36348663]</td>\n      <td>Yes</td>\n      <td>1</td>\n      <td>[1,2]</td>\n      <td>[1100]</td>\n      <td>[1100]</td>\n    </tr>\n    <tr>\n      <th>89</th>\n      <td>RNS_Test_Dataset_ErinConrad</td>\n      <td>89</td>\n      <td>HUP137</td>\n      <td>RNS_Example_2_EC</td>\n      <td>1540664243012000</td>\n      <td>1540664333128000</td>\n      <td>2018-10-27 18:17:23.012</td>\n      <td>2018-10-27 18:18:53.128</td>\n      <td>1736</td>\n      <td>38266084</td>\n      <td>38288612</td>\n      <td>[1540664259264747]</td>\n      <td>[1540664312187824]</td>\n      <td>[2018-10-27 18:17:39.264747]</td>\n      <td>[2018-10-27 18:18:32.187824]</td>\n      <td>[38270147]</td>\n      <td>[38283377]</td>\n      <td>Yes</td>\n      <td>1</td>\n      <td>[1,2]</td>\n      <td>[1100]</td>\n      <td>[1100]</td>\n    </tr>\n    <tr>\n      <th>90</th>\n      <td>RNS_Test_Dataset_ErinConrad</td>\n      <td>90</td>\n      <td>HUP137</td>\n      <td>RNS_Example_2_EC</td>\n      <td>1545256591536000</td>\n      <td>1545256681576000</td>\n      <td>2018-12-19 21:56:31.536</td>\n      <td>2018-12-19 21:58:01.576</td>\n      <td>1894</td>\n      <td>41800649</td>\n      <td>41823158</td>\n      <td>[1545256619953582]</td>\n      <td>[1545256681576000]</td>\n      <td>[2018-12-19 21:56:59.953582]</td>\n      <td>[2018-12-19 21:58:01.576000]</td>\n      <td>[41807753]</td>\n      <td>[41823158]</td>\n      <td>Yes</td>\n      <td>1</td>\n      <td>[1,2]</td>\n      <td>[1100]</td>\n      <td>[1100]</td>\n    </tr>\n    <tr>\n      <th>91</th>\n      <td>RNS_Test_Dataset_ErinConrad</td>\n      <td>91</td>\n      <td>HUP137</td>\n      <td>RNS_Example_2_EC</td>\n      <td>1548005703468000</td>\n      <td>1548005793620000</td>\n      <td>2019-01-20 17:35:03.468</td>\n      <td>2019-01-20 17:36:33.620</td>\n      <td>1983</td>\n      <td>43788510</td>\n      <td>43811047</td>\n      <td>[]</td>\n      <td>[]</td>\n      <td>[]</td>\n      <td>[]</td>\n      <td>[]</td>\n      <td>[]</td>\n      <td>No</td>\n      <td>0</td>\n      <td>[]</td>\n      <td>[]</td>\n      <td>[]</td>\n    </tr>\n    <tr>\n      <th>92</th>\n      <td>RNS_Test_Dataset_ErinConrad</td>\n      <td>92</td>\n      <td>HUP137</td>\n      <td>RNS_Example_2_EC</td>\n      <td>1550084226464000</td>\n      <td>1550084316632000</td>\n      <td>2019-02-13 18:57:06.464</td>\n      <td>2019-02-13 18:58:36.632</td>\n      <td>2054</td>\n      <td>45386761</td>\n      <td>45409302</td>\n      <td>[]</td>\n      <td>[]</td>\n      <td>[]</td>\n      <td>[]</td>\n      <td>[]</td>\n      <td>[]</td>\n      <td>No</td>\n      <td>0</td>\n      <td>[]</td>\n      <td>[]</td>\n      <td>[]</td>\n    </tr>\n    <tr>\n      <th>93</th>\n      <td>RNS_Test_Dataset_ErinConrad</td>\n      <td>93</td>\n      <td>HUP137</td>\n      <td>RNS_Example_2_EC</td>\n      <td>1551022375524000</td>\n      <td>1551022465604000</td>\n      <td>2019-02-24 15:32:55.524</td>\n      <td>2019-02-24 15:34:25.604</td>\n      <td>2092</td>\n      <td>46178484</td>\n      <td>46201003</td>\n      <td>[]</td>\n      <td>[]</td>\n      <td>[]</td>\n      <td>[]</td>\n      <td>[]</td>\n      <td>[]</td>\n      <td>No</td>\n      <td>0</td>\n      <td>[]</td>\n      <td>[]</td>\n      <td>[]</td>\n    </tr>\n    <tr>\n      <th>94</th>\n      <td>RNS_Test_Dataset_ErinConrad</td>\n      <td>94</td>\n      <td>HUP137</td>\n      <td>RNS_Example_2_EC</td>\n      <td>1575076915548000</td>\n      <td>1575077005584000</td>\n      <td>2019-11-30 01:21:55.548</td>\n      <td>2019-11-30 01:23:25.584</td>\n      <td>2796</td>\n      <td>61708056</td>\n      <td>61730564</td>\n      <td>[]</td>\n      <td>[]</td>\n      <td>[]</td>\n      <td>[]</td>\n      <td>[]</td>\n      <td>[]</td>\n      <td>No</td>\n      <td>0</td>\n      <td>[]</td>\n      <td>[]</td>\n      <td>[]</td>\n    </tr>\n    <tr>\n      <th>95</th>\n      <td>RNS_Test_Dataset_ErinConrad</td>\n      <td>95</td>\n      <td>HUP137</td>\n      <td>RNS_Example_2_EC</td>\n      <td>1575695310964000</td>\n      <td>1575695401132000</td>\n      <td>2019-12-07 05:08:30.964</td>\n      <td>2019-12-07 05:10:01.132</td>\n      <td>2815</td>\n      <td>62136035</td>\n      <td>62158576</td>\n      <td>[]</td>\n      <td>[]</td>\n      <td>[]</td>\n      <td>[]</td>\n      <td>[]</td>\n      <td>[]</td>\n      <td>No</td>\n      <td>0</td>\n      <td>[]</td>\n      <td>[]</td>\n      <td>[]</td>\n    </tr>\n    <tr>\n      <th>96</th>\n      <td>RNS_Test_Dataset_ErinConrad</td>\n      <td>96</td>\n      <td>HUP137</td>\n      <td>RNS_Example_2_EC</td>\n      <td>1576482194012000</td>\n      <td>1576482284128000</td>\n      <td>2019-12-16 07:43:14.012</td>\n      <td>2019-12-16 07:44:44.128</td>\n      <td>2841</td>\n      <td>62701470</td>\n      <td>62723998</td>\n      <td>[]</td>\n      <td>[]</td>\n      <td>[]</td>\n      <td>[]</td>\n      <td>[]</td>\n      <td>[]</td>\n      <td>No</td>\n      <td>0</td>\n      <td>[]</td>\n      <td>[]</td>\n      <td>[]</td>\n    </tr>\n    <tr>\n      <th>101</th>\n      <td>RNS_Test_Dataset_ErinConrad</td>\n      <td>101</td>\n      <td>HUP101</td>\n      <td>RNS_Example_3_EC</td>\n      <td>1549432955964000</td>\n      <td>1549433046132000</td>\n      <td>2019-02-06 06:02:35.964</td>\n      <td>2019-02-06 06:04:06.132</td>\n      <td>0</td>\n      <td>0</td>\n      <td>22541</td>\n      <td>[]</td>\n      <td>[]</td>\n      <td>[]</td>\n      <td>[]</td>\n      <td>[]</td>\n      <td>[]</td>\n      <td>No</td>\n      <td>0</td>\n      <td>[]</td>\n      <td>[]</td>\n      <td>[]</td>\n    </tr>\n    <tr>\n      <th>102</th>\n      <td>RNS_Test_Dataset_ErinConrad</td>\n      <td>102</td>\n      <td>HUP101</td>\n      <td>RNS_Example_3_EC</td>\n      <td>1549476153964000</td>\n      <td>1549476244132000</td>\n      <td>2019-02-06 18:02:33.964</td>\n      <td>2019-02-06 18:04:04.132</td>\n      <td>1</td>\n      <td>22542</td>\n      <td>45083</td>\n      <td>[]</td>\n      <td>[]</td>\n      <td>[]</td>\n      <td>[]</td>\n      <td>[]</td>\n      <td>[]</td>\n      <td>No</td>\n      <td>0</td>\n      <td>[]</td>\n      <td>[]</td>\n      <td>[]</td>\n    </tr>\n    <tr>\n      <th>103</th>\n      <td>RNS_Test_Dataset_ErinConrad</td>\n      <td>103</td>\n      <td>HUP101</td>\n      <td>RNS_Example_3_EC</td>\n      <td>1557816572492000</td>\n      <td>1557816662628000</td>\n      <td>2019-05-14 06:49:32.492</td>\n      <td>2019-05-14 06:51:02.628</td>\n      <td>23</td>\n      <td>500049</td>\n      <td>522582</td>\n      <td>[]</td>\n      <td>[]</td>\n      <td>[]</td>\n      <td>[]</td>\n      <td>[]</td>\n      <td>[]</td>\n      <td>No</td>\n      <td>0</td>\n      <td>[]</td>\n      <td>[]</td>\n      <td>[]</td>\n    </tr>\n    <tr>\n      <th>104</th>\n      <td>RNS_Test_Dataset_ErinConrad</td>\n      <td>104</td>\n      <td>HUP101</td>\n      <td>RNS_Example_3_EC</td>\n      <td>1558896166964000</td>\n      <td>1558896257132000</td>\n      <td>2019-05-26 18:42:46.964</td>\n      <td>2019-05-26 18:44:17.132</td>\n      <td>24</td>\n      <td>522583</td>\n      <td>545124</td>\n      <td>[]</td>\n      <td>[]</td>\n      <td>[]</td>\n      <td>[]</td>\n      <td>[]</td>\n      <td>[]</td>\n      <td>No</td>\n      <td>0</td>\n      <td>[]</td>\n      <td>[]</td>\n      <td>[]</td>\n    </tr>\n    <tr>\n      <th>105</th>\n      <td>RNS_Test_Dataset_ErinConrad</td>\n      <td>105</td>\n      <td>HUP101</td>\n      <td>RNS_Example_3_EC</td>\n      <td>1566444327500000</td>\n      <td>1566444417604000</td>\n      <td>2019-08-22 03:25:27.500</td>\n      <td>2019-08-22 03:26:57.604</td>\n      <td>36</td>\n      <td>793035</td>\n      <td>815560</td>\n      <td>[1566444371437050]</td>\n      <td>[1566444404199639]</td>\n      <td>[2019-08-22 03:26:11.437050]</td>\n      <td>[2019-08-22 03:26:44.199639]</td>\n      <td>[804019]</td>\n      <td>[812209]</td>\n      <td>Yes</td>\n      <td>1</td>\n      <td>[2]</td>\n      <td>[0100]</td>\n      <td>[0100]</td>\n    </tr>\n    <tr>\n      <th>106</th>\n      <td>RNS_Test_Dataset_ErinConrad</td>\n      <td>106</td>\n      <td>HUP101</td>\n      <td>RNS_Example_3_EC</td>\n      <td>1569306266964000</td>\n      <td>1569306357132000</td>\n      <td>2019-09-24 06:24:26.964</td>\n      <td>2019-09-24 06:25:57.132</td>\n      <td>42</td>\n      <td>928247</td>\n      <td>950788</td>\n      <td>[]</td>\n      <td>[]</td>\n      <td>[]</td>\n      <td>[]</td>\n      <td>[]</td>\n      <td>[]</td>\n      <td>No</td>\n      <td>0</td>\n      <td>[]</td>\n      <td>[]</td>\n      <td>[]</td>\n    </tr>\n    <tr>\n      <th>107</th>\n      <td>RNS_Test_Dataset_ErinConrad</td>\n      <td>107</td>\n      <td>HUP101</td>\n      <td>RNS_Example_3_EC</td>\n      <td>1596048628268000</td>\n      <td>1596048718344000</td>\n      <td>2020-07-29 18:50:28.268</td>\n      <td>2020-07-29 18:51:58.344</td>\n      <td>101</td>\n      <td>2173687</td>\n      <td>2196205</td>\n      <td>[1596048672509758]</td>\n      <td>[1596048718344000]</td>\n      <td>[2020-07-29 18:51:12.509758]</td>\n      <td>[2020-07-29 18:51:58.344000]</td>\n      <td>[2184747]</td>\n      <td>[2196205]</td>\n      <td>Yes</td>\n      <td>1</td>\n      <td>[1,2]</td>\n      <td>[1100]</td>\n      <td>[1100]</td>\n    </tr>\n    <tr>\n      <th>108</th>\n      <td>RNS_Test_Dataset_ErinConrad</td>\n      <td>108</td>\n      <td>HUP101</td>\n      <td>RNS_Example_3_EC</td>\n      <td>1602266102076000</td>\n      <td>1602266172496000</td>\n      <td>2020-10-09 17:55:02.076</td>\n      <td>2020-10-09 17:56:12.496</td>\n      <td>106</td>\n      <td>2254561</td>\n      <td>2272165</td>\n      <td>[1602266127097977]</td>\n      <td>[1602266164592482]</td>\n      <td>[2020-10-09 17:55:27.097977]</td>\n      <td>[2020-10-09 17:56:04.592482]</td>\n      <td>[2260816]</td>\n      <td>[2270189]</td>\n      <td>Yes</td>\n      <td>1</td>\n      <td>[1,2]</td>\n      <td>[1100]</td>\n      <td>[1100]</td>\n    </tr>\n    <tr>\n      <th>109</th>\n      <td>RNS_Test_Dataset_ErinConrad</td>\n      <td>109</td>\n      <td>HUP101</td>\n      <td>RNS_Example_3_EC</td>\n      <td>1606480477577000</td>\n      <td>1606480567601000</td>\n      <td>2020-11-27 12:34:37.577</td>\n      <td>2020-11-27 12:36:07.601</td>\n      <td>131</td>\n      <td>2805593</td>\n      <td>2828098</td>\n      <td>[]</td>\n      <td>[]</td>\n      <td>[]</td>\n      <td>[]</td>\n      <td>[]</td>\n      <td>[]</td>\n      <td>No</td>\n      <td>0</td>\n      <td>[]</td>\n      <td>[]</td>\n      <td>[]</td>\n    </tr>\n    <tr>\n      <th>110</th>\n      <td>RNS_Test_Dataset_ErinConrad</td>\n      <td>110</td>\n      <td>HUP101</td>\n      <td>RNS_Example_3_EC</td>\n      <td>1609936365801000</td>\n      <td>1609936455817000</td>\n      <td>2021-01-06 12:32:45.801</td>\n      <td>2021-01-06 12:34:15.817</td>\n      <td>138</td>\n      <td>2963201</td>\n      <td>2985704</td>\n      <td>[]</td>\n      <td>[]</td>\n      <td>[]</td>\n      <td>[]</td>\n      <td>[]</td>\n      <td>[]</td>\n      <td>No</td>\n      <td>0</td>\n      <td>[]</td>\n      <td>[]</td>\n      <td>[]</td>\n    </tr>\n    <tr>\n      <th>111</th>\n      <td>RNS_Test_Dataset_ErinConrad</td>\n      <td>111</td>\n      <td>HUP101</td>\n      <td>RNS_Example_3_EC</td>\n      <td>1611139386309000</td>\n      <td>1611139476377000</td>\n      <td>2021-01-20 10:43:06.309</td>\n      <td>2021-01-20 10:44:36.377</td>\n      <td>149</td>\n      <td>3167403</td>\n      <td>3189919</td>\n      <td>[1611139430006802]</td>\n      <td>[1611139444330977]</td>\n      <td>[2021-01-20 10:43:50.006802]</td>\n      <td>[2021-01-20 10:44:04.330977]</td>\n      <td>[3178327]</td>\n      <td>[3181908]</td>\n      <td>Yes</td>\n      <td>1</td>\n      <td>[2]</td>\n      <td>[0100]</td>\n      <td>[0100]</td>\n    </tr>\n    <tr>\n      <th>112</th>\n      <td>RNS_Test_Dataset_ErinConrad</td>\n      <td>112</td>\n      <td>HUP101</td>\n      <td>RNS_Example_3_EC</td>\n      <td>1612974943914000</td>\n      <td>1612975033986000</td>\n      <td>2021-02-10 16:35:43.914</td>\n      <td>2021-02-10 16:37:13.986</td>\n      <td>157</td>\n      <td>3345239</td>\n      <td>3367751</td>\n      <td>[]</td>\n      <td>[]</td>\n      <td>[]</td>\n      <td>[]</td>\n      <td>[]</td>\n      <td>[]</td>\n      <td>No</td>\n      <td>0</td>\n      <td>[]</td>\n      <td>[]</td>\n      <td>[]</td>\n    </tr>\n    <tr>\n      <th>113</th>\n      <td>RNS_Test_Dataset_ErinConrad</td>\n      <td>113</td>\n      <td>HUP101</td>\n      <td>RNS_Example_3_EC</td>\n      <td>1617120308566000</td>\n      <td>1617120344050000</td>\n      <td>2021-03-30 16:05:08.566</td>\n      <td>2021-03-30 16:05:44.050</td>\n      <td>165</td>\n      <td>3498450</td>\n      <td>3507314</td>\n      <td>[]</td>\n      <td>[]</td>\n      <td>[]</td>\n      <td>[]</td>\n      <td>[]</td>\n      <td>[]</td>\n      <td>No</td>\n      <td>0</td>\n      <td>[]</td>\n      <td>[]</td>\n      <td>[]</td>\n    </tr>\n    <tr>\n      <th>114</th>\n      <td>RNS_Test_Dataset_ErinConrad</td>\n      <td>114</td>\n      <td>HUP101</td>\n      <td>RNS_Example_3_EC</td>\n      <td>1617120625925000</td>\n      <td>1617120692813000</td>\n      <td>2021-03-30 16:10:25.925</td>\n      <td>2021-03-30 16:11:32.813</td>\n      <td>167</td>\n      <td>3518801</td>\n      <td>3535517</td>\n      <td>[]</td>\n      <td>[]</td>\n      <td>[]</td>\n      <td>[]</td>\n      <td>[]</td>\n      <td>[]</td>\n      <td>No</td>\n      <td>0</td>\n      <td>[]</td>\n      <td>[]</td>\n      <td>[]</td>\n    </tr>\n  </tbody>\n</table>\n</div>"
     },
     "execution_count": 8,
     "metadata": {},
     "output_type": "execute_result"
    }
   ],
   "source": [
    "annotations.annotation_dict['RNS_Test_Dataset_ErinConrad']"
   ],
   "metadata": {
    "collapsed": false,
    "ExecuteTime": {
     "end_time": "2024-11-06T18:02:08.573221Z",
     "start_time": "2024-11-06T18:02:07.908222Z"
    }
   }
  },
  {
   "cell_type": "code",
   "execution_count": 9,
   "metadata": {
    "ExecuteTime": {
     "end_time": "2024-11-06T18:02:09.549806Z",
     "start_time": "2024-11-06T18:02:08.574222Z"
    }
   },
   "outputs": [
    {
     "name": "stderr",
     "output_type": "stream",
     "text": [
      "3it [00:00, 14.56it/s]"
     ]
    },
    {
     "name": "stdout",
     "output_type": "stream",
     "text": [
      "(39,)\n",
      "(39,)\n",
      "(0,)\n",
      "(0,)\n"
     ]
    },
    {
     "name": "stderr",
     "output_type": "stream",
     "text": [
      "\n"
     ]
    }
   ],
   "source": [
    "data_list = os.listdir(data_dir+'rns_pred_cache')\n",
    "# print(data_list)\n",
    "# data_list = ['HUP047.npy', 'HUP084.npy', 'HUP096.npy', 'HUP109.npy', 'HUP121.npy', 'HUP129.npy', 'HUP131.npy',\n",
    "#              'HUP137.npy', 'HUP147.npy', 'HUP156.npy', 'HUP159.npy', 'HUP182.npy', 'HUP197.npy', 'HUP199.npy',\n",
    "#              'RNS026.npy', 'RNS029.npy']\n",
    "# data_list = os.listdir(data_dir+'rns_test_cache')[1:]\n",
    "data_list = ['HUP096.npy', 'HUP137.npy','HUP101.npy']\n",
    "# data_list = ['HUP182.npy',   'HUP129.npy',   'HUP109.npy', 'HUP156.npy', 'HUP096.npy', 'RNS026.npy',  'HUP159.npy']\n",
    "# data_list = ['RNS026.npy', 'HUP159.npy', 'HUP129.npy', 'HUP096.npy', 'HUP182.npy']\n",
    "train_data, train_label, test_data, test_label, train_index, test_index = get_data_by_episode(data_list, file_path = 'rns_pred_cache', split=1)\n",
    "# train_data, train_label, test_data, test_label, train_index, test_index = get_data_by_episode(data_list, split=0.8)\n",
    "# data, label,_,_ = get_data(data_list, split=1)\n",
    "# train_data, test_data, train_label, test_label = sklearn.model_selection.train_test_split(data, label, test_size=0.8, random_state=42)\n",
    "\n",
    "print(train_data.shape)\n",
    "print(train_label.shape)\n",
    "print(test_data.shape)\n",
    "print(test_label.shape)"
   ]
  },
  {
   "cell_type": "code",
   "execution_count": 10,
   "outputs": [],
   "source": [
    "with open(log_folder_root + 'rns_active_selected/' + 'EntropySampling' + '/' + 'selected_indices.pkl', 'rb') as f:\n",
    "    # Load the content of the file into a Python object\n",
    "    selected_inds = pickle.load(f)"
   ],
   "metadata": {
    "collapsed": false,
    "ExecuteTime": {
     "end_time": "2024-11-06T19:40:26.084820Z",
     "start_time": "2024-11-06T19:40:25.024555Z"
    }
   }
  },
  {
   "cell_type": "code",
   "execution_count": 11,
   "outputs": [],
   "source": [
    "selected_ind_list = []\n",
    "for items in selected_inds.items():\n",
    "    selected_ind_list.append(np.array(items[1]))"
   ],
   "metadata": {
    "collapsed": false,
    "ExecuteTime": {
     "end_time": "2024-11-06T19:40:28.159438Z",
     "start_time": "2024-11-06T19:40:27.328439Z"
    }
   }
  },
  {
   "cell_type": "code",
   "execution_count": 12,
   "outputs": [
    {
     "data": {
      "text/plain": "array([ 5164,  5165,  5166, ..., 83200, 83201, 83202], dtype=int64)"
     },
     "execution_count": 12,
     "metadata": {},
     "output_type": "execute_result"
    }
   ],
   "source": [
    "selected_ind_list\n",
    "\n",
    "np.concatenate(selected_ind_list[:-1])"
   ],
   "metadata": {
    "collapsed": false,
    "ExecuteTime": {
     "end_time": "2024-11-06T19:40:30.639030Z",
     "start_time": "2024-11-06T19:40:29.758440Z"
    }
   }
  },
  {
   "cell_type": "code",
   "execution_count": 15,
   "outputs": [
    {
     "ename": "IndexError",
     "evalue": "index 5164 is out of bounds for axis 0 with size 3411",
     "output_type": "error",
     "traceback": [
      "\u001B[1;31m---------------------------------------------------------------------------\u001B[0m",
      "\u001B[1;31mIndexError\u001B[0m                                Traceback (most recent call last)",
      "Cell \u001B[1;32mIn[15], line 1\u001B[0m\n\u001B[1;32m----> 1\u001B[0m \u001B[43mnp\u001B[49m\u001B[38;5;241;43m.\u001B[39;49m\u001B[43mconcatenate\u001B[49m\u001B[43m(\u001B[49m\u001B[43mtrain_index\u001B[49m\u001B[43m)\u001B[49m\u001B[43m[\u001B[49m\u001B[43mnp\u001B[49m\u001B[38;5;241;43m.\u001B[39;49m\u001B[43mconcatenate\u001B[49m\u001B[43m(\u001B[49m\u001B[43mselected_ind_list\u001B[49m\u001B[43m[\u001B[49m\u001B[43m:\u001B[49m\u001B[38;5;241;43m-\u001B[39;49m\u001B[38;5;241;43m1\u001B[39;49m\u001B[43m]\u001B[49m\u001B[43m)\u001B[49m\u001B[43m]\u001B[49m[np\u001B[38;5;241m.\u001B[39mconcatenate(train_index)[np\u001B[38;5;241m.\u001B[39mconcatenate(selected_ind_list[:\u001B[38;5;241m-\u001B[39m\u001B[38;5;241m1\u001B[39m])][\u001B[38;5;124m'\u001B[39m\u001B[38;5;124mpatient_index\u001B[39m\u001B[38;5;124m'\u001B[39m] \u001B[38;5;241m==\u001B[39m \u001B[38;5;124mb\u001B[39m\u001B[38;5;124m'\u001B[39m\u001B[38;5;124mHUP131\u001B[39m\u001B[38;5;124m'\u001B[39m]\n",
      "\u001B[1;31mIndexError\u001B[0m: index 5164 is out of bounds for axis 0 with size 3411"
     ]
    }
   ],
   "source": [
    "np.concatenate(train_index)[np.concatenate(selected_ind_list[:-1])][np.concatenate(train_index)[np.concatenate(selected_ind_list[:-1])]['patient_index'] == b'HUP131']"
   ],
   "metadata": {
    "collapsed": false,
    "ExecuteTime": {
     "end_time": "2024-11-06T19:40:49.341111Z",
     "start_time": "2024-11-06T19:40:48.467110Z"
    }
   }
  },
  {
   "cell_type": "code",
   "execution_count": 14,
   "outputs": [
    {
     "ename": "IndexError",
     "evalue": "index 5164 is out of bounds for axis 0 with size 3411",
     "output_type": "error",
     "traceback": [
      "\u001B[1;31m---------------------------------------------------------------------------\u001B[0m",
      "\u001B[1;31mIndexError\u001B[0m                                Traceback (most recent call last)",
      "Cell \u001B[1;32mIn[14], line 1\u001B[0m\n\u001B[1;32m----> 1\u001B[0m \u001B[43mnp\u001B[49m\u001B[38;5;241;43m.\u001B[39;49m\u001B[43mconcatenate\u001B[49m\u001B[43m(\u001B[49m\u001B[43mtrain_index\u001B[49m\u001B[43m)\u001B[49m\u001B[43m[\u001B[49m\u001B[43mnp\u001B[49m\u001B[38;5;241;43m.\u001B[39;49m\u001B[43mconcatenate\u001B[49m\u001B[43m(\u001B[49m\u001B[43mselected_ind_list\u001B[49m\u001B[43m[\u001B[49m\u001B[43m:\u001B[49m\u001B[38;5;241;43m-\u001B[39;49m\u001B[38;5;241;43m1\u001B[39;49m\u001B[43m]\u001B[49m\u001B[43m)\u001B[49m\u001B[43m]\u001B[49m\n",
      "\u001B[1;31mIndexError\u001B[0m: index 5164 is out of bounds for axis 0 with size 3411"
     ]
    }
   ],
   "source": [
    "np.concatenate(train_index)[np.concatenate(selected_ind_list[:-1])]"
   ],
   "metadata": {
    "collapsed": false,
    "ExecuteTime": {
     "end_time": "2024-11-06T19:40:37.594065Z",
     "start_time": "2024-11-06T19:40:36.695062Z"
    }
   }
  },
  {
   "cell_type": "code",
   "execution_count": null,
   "outputs": [],
   "source": [
    "train_list = np.array([ti[0] for ti in train_index])"
   ],
   "metadata": {
    "collapsed": false
   }
  },
  {
   "cell_type": "code",
   "execution_count": null,
   "outputs": [],
   "source": [
    "matching_array = [None]*38\n",
    "i = 0\n",
    "for index, row in annotations.annotation_dict['RNS_Test_Dataset_BrianLitt'].iterrows():\n",
    "\n",
    "    pt = row['Patient_ID'].encode('utf-8')\n",
    "    si = row['Episode_Start_Index']\n",
    "    filtered_1 = train_list[train_list['patient_index'] == pt]\n",
    "    filtered_2 = filtered_1[filtered_1['start_index'] == si]\n",
    "    matching_array[i] = np.where(train_list == filtered_2)[0]\n",
    "    i+= 1\n",
    "\n",
    "\n"
   ],
   "metadata": {
    "collapsed": false
   }
  },
  {
   "cell_type": "code",
   "execution_count": null,
   "outputs": [],
   "source": [
    "annot = annotations.annotation_dict['RNS_Test_Dataset_ErinConrad']\n",
    "annot_nonseizure = annot[annot['Class_Code'] == 0]\n",
    "annot_seizure = annot[annot['Class_Code'] == 1]\n",
    "patient_list = ['HUP047',\n",
    "       'HUP059',\n",
    "       'HUP084',\n",
    "       'HUP096',\n",
    "       'HUP101',\n",
    "       'HUP108',\n",
    "       'HUP109',\n",
    "       'HUP121',\n",
    "       'HUP127',\n",
    "       'HUP128',\n",
    "       'HUP129',\n",
    "       'HUP131',\n",
    "       'HUP136',\n",
    "       'HUP137',\n",
    "       'HUP143',\n",
    "       'HUP147',\n",
    "       'HUP153',\n",
    "       'HUP156',\n",
    "       'HUP159',\n",
    "       'HUP182',\n",
    "       'HUP192',\n",
    "       'HUP197',\n",
    "       'HUP199',\n",
    "       'HUP205',\n",
    "       'RNS021',\n",
    "       'RNS022',\n",
    "       'RNS026',\n",
    "       'RNS029']\n",
    "\n",
    "# patient_list = [ 'HUP137',\n",
    "#        'HUP153',]\n",
    "\n",
    "# patient_list = ['RNS026', 'HUP159', 'HUP129', 'HUP096', 'HUP182']\n",
    "clip_dict = {}\n",
    "# for p in patient_list:\n",
    "for p in patient_list:\n",
    "    # print(p)\n",
    "    seizure_start_index = np.array([])\n",
    "    seizure_end_index = np.array([])\n",
    "    nonseizure_start_index = np.array([])\n",
    "    nonseizure_end_index = np.array([])\n",
    "    global_episode_index_seizure = np.array([])\n",
    "    global_episode_index_nonseizure = np.array([])\n",
    "\n",
    "    annotation_list = []\n",
    "\n",
    "    start_index = annot[annot['Patient_ID'] == p]['Episode_Start_Index']\n",
    "    end_index = annot[annot['Patient_ID'] == p]['Episode_End_Index']\n",
    "    annot_start_list = annot[annot['Patient_ID'] == p]['Annotation_Start_Index']\n",
    "    annot_end_list = annot[annot['Patient_ID'] == p]['Annotation_End_Index']\n",
    "    j = 0\n",
    "    for i in range(len(start_index)):\n",
    "        if end_index.iloc[i] - start_index.iloc[i] > 0:\n",
    "            initial_arr = np.zeros(end_index.iloc[i] - start_index.iloc[i])\n",
    "            if len(annot_start_list.iloc[i]) > 0:\n",
    "                sl_order = np.argsort(annot_start_list.iloc[i])\n",
    "                sl = np.array(annot_start_list.iloc[i])[sl_order]\n",
    "                el = np.array(annot_end_list.iloc[i])[sl_order]\n",
    "\n",
    "                for si, ei in zip(sl, el):\n",
    "                    initial_arr[si - start_index.iloc[i]:ei - start_index.iloc[i]] = 1\n",
    "        else:\n",
    "            # print(i)\n",
    "            initial_arr = np.zeros(1)\n",
    "\n",
    "        annotation_list.append(initial_arr)\n",
    "\n",
    "    ind_arr = np.vstack(\n",
    "        [start_index,\n",
    "         end_index,\n",
    "         start_index.index]).astype(int)\n",
    "\n",
    "    # print(annotation_list)\n",
    "\n",
    "    valid = np.where((ind_arr[1] - ind_arr[0]) > 500)\n",
    "    combined_clip = ind_arr[:, valid].squeeze()\n",
    "    annotation_list = np.array(annotation_list, dtype=object)[valid]\n",
    "    try:\n",
    "        combined_clip = np.vstack((combined_clip, annotation_list))\n",
    "    except:\n",
    "        print(annotation_list)\n",
    "        print(p)\n",
    "\n",
    "    if combined_clip.shape[1]>0:\n",
    "\n",
    "        clip_dict[p] = combined_clip"
   ],
   "metadata": {
    "collapsed": false
   }
  },
  {
   "cell_type": "code",
   "execution_count": null,
   "outputs": [],
   "source": [
    "from scipy.stats import mode\n",
    "\n",
    "window_len = 1\n",
    "stride = 1\n",
    "concat_n = 4\n",
    "for id in clip_dict.keys():\n",
    "    data_import[id].set_window_parameter(window_length=window_len, window_displacement=stride)\n",
    "    data_import[id].set_concatenation_parameter(concatenate_window_n=concat_n)\n",
    "    window_indices, _ = data_import[id].get_windowed_data(clip_dict[id][0], clip_dict[id][1])\n",
    "    import_indices = []\n",
    "    import_label = []\n",
    "    import_clip_indices = []\n",
    "    import_start_indicies = []\n",
    "    import_patient_ID = []\n",
    "    for i, ind in enumerate(window_indices):\n",
    "        indices = window_indices[i]+1-clip_dict[id][0][i]\n",
    "        offsets = np.arange(249)\n",
    "        full_indices = indices[:,0][:, np.newaxis] + offsets\n",
    "        slices_no_loop = clip_dict[id][3][i][full_indices]\n",
    "        mode_result = mode(slices_no_loop, axis=1)\n",
    "        mode_values = mode_result.mode\n",
    "\n",
    "        # print(mode_values)\n",
    "        import_label.append(mode_values)\n",
    "        import_indices.append(np.repeat(clip_dict[id][2][i], len(ind)))\n",
    "        import_clip_indices.append(np.arange(len(ind)))\n",
    "        import_start_indicies.append(np.repeat(clip_dict[id][0][i], len(ind)))\n",
    "        import_patient_ID.append(np.repeat(id, len(ind)))\n",
    "\n",
    "    import_label = np.hstack(import_label)\n",
    "    import_indices = np.hstack(import_indices)\n",
    "    import_clip_indices = np.hstack(import_clip_indices)\n",
    "    import_start_indicies = np.hstack(import_start_indicies)\n",
    "    import_patient_ID = np.hstack(import_patient_ID)\n",
    "\n",
    "    data_import[id].normalize_windowed_data()\n",
    "    _, concatenated_data = data_import[id].get_concatenated_data(data_import[id].windowed_data, arrange='channel_stack')\n",
    "\n",
    "    assert np.hstack(import_label).shape[0] == concatenated_data.shape[0]\n",
    "\n",
    "    np.save(data_dir+'rns_pred_cache/' + id + '.npy', {'data': concatenated_data, 'label': import_label, 'patientID': import_patient_ID, 'indices': np.vstack([import_indices,import_clip_indices,import_start_indicies]).T})"
   ],
   "metadata": {
    "collapsed": false
   }
  },
  {
   "cell_type": "code",
   "execution_count": null,
   "outputs": [],
   "source": [
    "# selected_episode = np.array(matching_array[:25])"
   ],
   "metadata": {
    "collapsed": false
   }
  },
  {
   "cell_type": "code",
   "execution_count": null,
   "metadata": {},
   "outputs": [],
   "source": [
    "X_train = np.concatenate(train_data[selected_episode])\n",
    "y_train = np.concatenate(train_label[selected_episode])\n",
    "# X_test = np.concatenate(test_data)\n",
    "# y_test = np.concatenate(test_label)\n",
    "index_train = np.concatenate(train_index[selected_episode])\n",
    "# index_test = np.concatenate(test_index)\n",
    "seq_len_train = np.array([y.shape[0] for y in train_label[selected_episode]])\n",
    "# seq_len_test = np.array([y.shape[0] for y in test_label])"
   ]
  },
  {
   "cell_type": "code",
   "execution_count": null,
   "outputs": [],
   "source": [
    "X_train = np.concatenate(train_data)\n",
    "y_train = np.concatenate(train_label)\n",
    "# X_test = np.concatenate(test_data)\n",
    "# y_test = np.concatenate(test_label)\n",
    "index_train = np.concatenate(train_index)\n",
    "# index_test = np.concatenate(test_index)\n",
    "seq_len_train = np.array([y.shape[0] for y in train_label])"
   ],
   "metadata": {
    "collapsed": false
   }
  },
  {
   "cell_type": "code",
   "execution_count": null,
   "outputs": [],
   "source": [
    "args_task = {'n_epoch': 40,\n",
    "             'transform_train': True,\n",
    "             'strategy_name': 'EntropySampling',\n",
    "             'transform': False,\n",
    "             'loader_tr_args': {'batch_size': 2, 'num_workers': 4, 'collate_fn': collate_fn,\n",
    "                                'drop_last': True, 'persistent_workers': True},\n",
    "             'loader_te_args': {'batch_size': 2, 'num_workers': 4, 'collate_fn': collate_fn,\n",
    "                                'drop_last': True, 'persistent_workers': True}\n",
    "             }"
   ],
   "metadata": {
    "collapsed": false
   }
  },
  {
   "cell_type": "code",
   "execution_count": null,
   "metadata": {},
   "outputs": [],
   "source": [
    "swav = SwaV().load_from_checkpoint(\n",
    "    ckpt_folder_root + 'rns_swav_50_12/rns_swav-epoch=82-swav_loss=2.58204.ckpt')\n",
    "model = SupervisedDownstream(swav.backbone)\n",
    "# initialize model and save the model state\n",
    "device = \"cuda\" if torch.cuda.is_available() else \"cpu\""
   ]
  },
  {
   "cell_type": "code",
   "execution_count": null,
   "metadata": {},
   "outputs": [],
   "source": [
    "trainer = pl.Trainer( accelerator='gpu', devices=1,precision=16)\n",
    "from models.rns_dataloader import RNS_Active_by_episode_LSTM, collate_fn\n",
    "train_dataset = RNS_Active_by_episode_LSTM(train_data, train_label, transform=False, astensor=True)\n",
    "\n",
    "train_dataloader = torch.utils.data.DataLoader(\n",
    "    train_dataset,\n",
    "    batch_size=4,\n",
    "    collate_fn=collate_fn,\n",
    "    shuffle=False,\n",
    "    drop_last=True,\n",
    ")"
   ]
  },
  {
   "cell_type": "code",
   "outputs": [],
   "source": [
    "strategy_name = 'RandomSampling'\n",
    "with open(log_folder_root + 'rns_active_selected/' + strategy_name + '/' + 'selected_indices.pkl', 'rb') as f:\n",
    "    # Load the content of the file into a Python object\n",
    "        selected_inds = pickle.load(f)\n",
    "\n",
    "selected_inds[1]"
   ],
   "metadata": {
    "collapsed": false
   },
   "execution_count": null
  },
  {
   "cell_type": "code",
   "execution_count": null,
   "outputs": [],
   "source": [
    "for rd in range(1, NUM_ROUND + 1):\n",
    "    print('round ' + str(rd))\n",
    "    log_file_name = log_folder_root + 'rns_active/active_logs_' + strategy_name + '/logger_round_' + str(\n",
    "        rd - 1) + '/version_0/metrics.csv'\n",
    "    logs = pd.read_csv(log_file_name)\n",
    "    max_ind = logs['val_acc'].argmax()\n",
    "    max_row = logs.iloc[max_ind]\n",
    "    ckpt_directory = ckpt_folder_root + 'rns_active/active_checkpoints_' + strategy_name\n",
    "    ckpt_files = os.listdir(ckpt_directory)\n",
    "    load_file_name = strategy_name + '_round_' + str(rd - 1) + '-step=' + str(int(max_row['step']+1))\n",
    "    print(load_file_name)\n",
    "\n",
    "    ind = next((i for i, s in enumerate(ckpt_files) if load_file_name in s), None)\n",
    "    print(ind, ckpt_files[ind])\n",
    "    strategy.net.net.load_from_checkpoint(ckpt_directory + '/' + ckpt_files[ind], backbone=swav.backbone)\n",
    "\n",
    "    q_idxs = strategy.query(NUM_QUERY * 90)\n",
    "\n",
    "    with open(log_folder_root + 'rns_active_selected/' + strategy_name + '/' + 'selected_indices.pkl', 'rb') as f:\n",
    "    # Load the content of the file into a Python object\n",
    "        selected_inds = pickle.load(f)\n",
    "    selected_inds[rd] = q_idxs\n",
    "    with open(log_folder_root + 'rns_active_selected/' + strategy_name + '/' + 'selected_indices.pkl', 'wb') as f:\n",
    "        pickle.dump(selected_inds, f)\n",
    "# Now you can use the dictionary object as usual\n",
    "    strategy.update(q_idxs)\n",
    "    strategy.net.round = rd\n",
    "    strategy.net.net.load_state_dict(modelstate)\n",
    "    torch.cuda.empty_cache()\n",
    "    strategy.train()\n",
    "    torch.cuda.empty_cache()"
   ],
   "metadata": {
    "collapsed": false
   }
  },
  {
   "cell_type": "code",
   "execution_count": null,
   "outputs": [],
   "source": [
    "import os\n",
    "from pathlib import Path\n",
    "\n",
    "\n",
    "strategy_name = 'MarginSamplingDropout'\n",
    "ckpt_directory = ckpt_folder_root + 'rns_active/active_checkpoints_' + strategy_name\n",
    "# ckpt_files = os.listdir(ckpt_directory)\n",
    "ckpt_files = sorted(Path(ckpt_directory).iterdir(), key=os.path.getmtime)[50:]\n",
    "high_f1 = 0\n",
    "high_class_f1 = 0\n",
    "file_name = []\n",
    "file_name_class_f1 = []\n",
    "for cf in tqdm(ckpt_files):\n",
    "    model = model.load_from_checkpoint(ckpt_folder_root + 'rns_active/active_checkpoints_' + strategy_name + '/' + cf.name, backbone=swav.backbone)\n",
    "    predictions = trainer.predict(model,train_dataloader)\n",
    "    output_list = []\n",
    "    target_list = []\n",
    "    emb_list = []\n",
    "    m = nn.Softmax(dim=1)\n",
    "    seq_len_list = []\n",
    "    for pred, y, emb, emb2, seq_len in predictions:\n",
    "        output_list.append(pred)\n",
    "        target_list.append(y)\n",
    "        emb_list.append(emb)\n",
    "        seq_len_list.append(seq_len)\n",
    "    pred_raw = torch.vstack(output_list)\n",
    "    target = torch.concat(target_list)\n",
    "    emb = torch.concat(emb_list)\n",
    "    out = torch.argmax(pred_raw, dim=1)\n",
    "    seq_len_arr = torch.tensor([item for sublist in seq_len_list for item in sublist])\n",
    "    pred_episode = combine_window_to_episode(torch.argmax(pred_raw, dim=1),seq_len_arr)\n",
    "    class_f1 = sklearn.metrics.f1_score([np.sign(tl.sum()) for tl in pred_episode], [np.sign(tl.sum()) for tl in train_label])\n",
    "    f1 = sklearn.metrics.f1_score(torch.argmax(pred_raw, dim=1), target)\n",
    "    if f1>high_f1:\n",
    "        high_f1 = f1\n",
    "        file_name.append(cf)\n",
    "        print('high_f1', f1,cf)\n",
    "    if class_f1>=high_class_f1:\n",
    "        high_class_f1 = class_f1\n",
    "        file_name_class_f1.append((class_f1, cf))\n",
    "        print('high_class_f1', class_f1,cf)\n"
   ],
   "metadata": {
    "collapsed": false
   }
  },
  {
   "cell_type": "code",
   "execution_count": null,
   "outputs": [],
   "source": [
    " file_name_class_f1"
   ],
   "metadata": {
    "collapsed": false
   }
  },
  {
   "cell_type": "code",
   "execution_count": null,
   "outputs": [],
   "source": [
    "file_name"
   ],
   "metadata": {
    "collapsed": false
   }
  },
  {
   "cell_type": "code",
   "execution_count": null,
   "outputs": [],
   "source": [
    "model = model.load_from_checkpoint(ckpt_folder_root + 'rns_active/active_checkpoints_' + strategy_name + '/' + 'MarginSamplingDropout_round_5-step=750-train_loss=0.05351.ckpt', backbone=swav.backbone)"
   ],
   "metadata": {
    "collapsed": false
   }
  },
  {
   "cell_type": "code",
   "execution_count": null,
   "outputs": [],
   "source": [
    "predictions = trainer.predict(model,train_dataloader)"
   ],
   "metadata": {
    "collapsed": false
   }
  },
  {
   "cell_type": "code",
   "execution_count": null,
   "outputs": [],
   "source": [
    "import torch.nn as nn\n",
    "output_list = []\n",
    "target_list = []\n",
    "emb_list = []\n",
    "m = nn.Softmax(dim=1)\n",
    "seq_len_list = []\n",
    "for pred, y, emb, emb2, seq_len in predictions:\n",
    "    output_list.append(pred)\n",
    "    target_list.append(y)\n",
    "    emb_list.append(emb)\n",
    "    seq_len_list.append(seq_len)"
   ],
   "metadata": {
    "collapsed": false
   }
  },
  {
   "cell_type": "code",
   "execution_count": null,
   "outputs": [],
   "source": [
    "pred_raw = torch.vstack(output_list)\n",
    "target = torch.concat(target_list)\n",
    "emb = torch.concat(emb_list)\n",
    "out = torch.argmax(pred_raw, dim=1)\n",
    "seq_len_arr = torch.tensor([item for sublist in seq_len_list for item in sublist])"
   ],
   "metadata": {
    "collapsed": false
   }
  },
  {
   "cell_type": "code",
   "execution_count": null,
   "outputs": [],
   "source": [],
   "metadata": {
    "collapsed": false
   }
  },
  {
   "cell_type": "code",
   "execution_count": null,
   "outputs": [],
   "source": [
    "import sklearn\n",
    "clf_report = sklearn.metrics.classification_report(torch.argmax(pred_raw, dim=1), target, digits=6)\n",
    "\n",
    "print(f\"Classification Report : \\n{clf_report}\")"
   ],
   "metadata": {
    "collapsed": false
   }
  },
  {
   "cell_type": "code",
   "execution_count": null,
   "outputs": [],
   "source": [
    "pred_episode = combine_window_to_episode(torch.argmax(pred_raw, dim=1),seq_len_arr)"
   ],
   "metadata": {
    "collapsed": false
   }
  },
  {
   "cell_type": "code",
   "execution_count": null,
   "outputs": [],
   "source": [
    "\n",
    "import matplotlib.pyplot as plt\n",
    "plt.figure(figsize=(10,6))\n",
    "plt.plot(target)\n",
    "plt.plot(torch.argmax(pred_raw, dim=1))\n",
    "plt.show()"
   ],
   "metadata": {
    "collapsed": false
   }
  },
  {
   "cell_type": "code",
   "execution_count": null,
   "outputs": [],
   "source": [
    "i = 31\n",
    "plt.figure()\n",
    "plt.plot(train_data[i][:,:,4].flatten()+2,color = 'k')\n",
    "plt.plot(train_data[i][:,:,13].flatten()+1,color = 'k')\n",
    "plt.plot(train_data[i][:,:,22].flatten(),color = 'k')\n",
    "plt.plot(train_data[i][:,:,31].flatten()-1,color = 'k')\n",
    "label_start, label_end, pred_start, pred_end = plot_high_light(train_label[i],pred_episode[i])\n",
    "if len(pred_start)>0:\n",
    "    for i in range(len(pred_start)):\n",
    "        plt.axvspan(pred_start[i]*249, pred_end[i]*249, color=\"blue\", alpha=0.3)\n",
    "if len(label_start)>0:\n",
    "    for i in range(len(label_start)):\n",
    "        plt.axvspan(label_start[i]*249, label_end[i]*249, color=\"yellow\", alpha=0.3)\n",
    "plt.show()"
   ],
   "metadata": {
    "collapsed": false
   }
  },
  {
   "cell_type": "code",
   "execution_count": null,
   "outputs": [],
   "source": [
    "pred_start"
   ],
   "metadata": {
    "collapsed": false
   }
  },
  {
   "cell_type": "code",
   "execution_count": null,
   "outputs": [],
   "source": [
    "def plot_high_light(train_label, pred_episode):\n",
    "    label_start = np.where(np.diff(train_label) == 1)[0]\n",
    "    label_end = np.where(np.diff(train_label) == -1)[0]\n",
    "    pred_start = np.where(np.diff(pred_episode) == 1)[0]\n",
    "    pred_end = np.where(np.diff(pred_episode) == -1)[0]\n",
    "    label_start, label_end = check_consistent(label_start,label_end, len(train_label))\n",
    "    pred_start, pred_end = check_consistent(pred_start,pred_end, len(pred_episode))\n",
    "    # if len(label_start)>0:\n",
    "    #     plt.axvspan(label_start[0]*249, label_end[0]*249, color=\"yellow\", alpha=0.3)\n",
    "\n",
    "    return label_start, label_end, pred_start, pred_end\n",
    "\n",
    "\n",
    "def check_consistent(start, end, total_len):\n",
    "    if len(start) != len(end):\n",
    "        if len(start)>0:\n",
    "            end = [total_len]\n",
    "        elif len(end)>0:\n",
    "            start = [0]\n",
    "    return start, end\n"
   ],
   "metadata": {
    "collapsed": false
   }
  },
  {
   "cell_type": "code",
   "execution_count": null,
   "outputs": [],
   "source": [
    "i = 31\n",
    "plot_high_light(train_label[i],pred_episode[i])"
   ],
   "metadata": {
    "collapsed": false
   }
  },
  {
   "cell_type": "code",
   "execution_count": null,
   "outputs": [],
   "source": [
    "train_data[i]"
   ],
   "metadata": {
    "collapsed": false
   }
  },
  {
   "cell_type": "code",
   "execution_count": null,
   "outputs": [],
   "source": [
    "torch.tensor([item for sublist in seq_len_list for item in sublist])"
   ],
   "metadata": {
    "collapsed": false
   }
  },
  {
   "cell_type": "code",
   "execution_count": null,
   "outputs": [],
   "source": [
    "def combine_window_to_episode(data, seq_len, index=None):\n",
    "    cum_sum_index = np.cumsum(seq_len)\n",
    "    cum_sum_index = np.insert(cum_sum_index, 0, 0)\n",
    "\n",
    "    assert len(data) == cum_sum_index[-1]\n",
    "\n",
    "    data_out = [None] * (len(cum_sum_index) - 1)\n",
    "\n",
    "    for i in range(1, len(cum_sum_index)):\n",
    "        start_index, end_index = cum_sum_index[i - 1], cum_sum_index[i]\n",
    "        episode_data = data[start_index:end_index]\n",
    "\n",
    "        if index is None:\n",
    "            out = episode_data\n",
    "        else:\n",
    "            episode_labeled = index[start_index:end_index]\n",
    "            out = episode_data[episode_labeled]\n",
    "\n",
    "        if len(out) > 0:\n",
    "            data_out[i - 1] = out\n",
    "\n",
    "    data_out = [segment for segment in data_out if segment is not None]\n",
    "\n",
    "    return np.array(data_out, dtype=object)"
   ],
   "metadata": {
    "collapsed": false
   }
  },
  {
   "cell_type": "code",
   "execution_count": null,
   "outputs": [],
   "source": [
    "[np.sign(tl.sum()) for tl in train_label]"
   ],
   "metadata": {
    "collapsed": false
   }
  },
  {
   "cell_type": "code",
   "execution_count": null,
   "outputs": [],
   "source": [
    "[np.sign(tl.sum()) for tl in pred_episode]"
   ],
   "metadata": {
    "collapsed": false
   }
  },
  {
   "cell_type": "code",
   "execution_count": null,
   "outputs": [],
   "source": [
    "clf_report = sklearn.metrics.classification_report([np.sign(tl.sum()) for tl in pred_episode], [np.sign(tl.sum()) for tl in train_label], digits=6)\n",
    "\n",
    "print(f\"Classification Report : \\n{clf_report}\")"
   ],
   "metadata": {
    "collapsed": false
   }
  },
  {
   "cell_type": "code",
   "execution_count": null,
   "outputs": [],
   "source": [
    "sklearn.metrics.f1_score([np.sign(tl.sum()) for tl in pred_episode], [np.sign(tl.sum()) for tl in train_label])"
   ],
   "metadata": {
    "collapsed": false
   }
  },
  {
   "cell_type": "code",
   "execution_count": null,
   "outputs": [],
   "source": [
    "np.where(np.diff(train_label[i]) == -1)[0]"
   ],
   "metadata": {
    "collapsed": false
   }
  },
  {
   "cell_type": "code",
   "execution_count": null,
   "outputs": [],
   "source": [
    "machine_annot = annotations.annotation_dict['RNS_Test_Dataset_ErinConrad'].copy()"
   ],
   "metadata": {
    "collapsed": false
   }
  },
  {
   "cell_type": "code",
   "execution_count": null,
   "outputs": [],
   "source": [
    "def get_start_stop(pred_episode):\n",
    "    pred_start = np.where(np.diff(pred_episode) == 1)[0]\n",
    "    pred_end = np.where(np.diff(pred_episode) == -1)[0]\n",
    "    pred_start, pred_end = check_consistent(pred_start,pred_end, len(pred_episode))\n",
    "    pred_start *= 249\n",
    "    pred_end *= 249\n",
    "    return pred_start, pred_end\n",
    "\n",
    "\n",
    "def check_consistent(start, end, total_len):\n",
    "    if len(start) != len(end):\n",
    "        if len(start)>0:\n",
    "            end = np.array([total_len], dtype=np.int64)\n",
    "        elif len(end)>0:\n",
    "            start = np.array([0], dtype=np.int64)\n",
    "    return start, end"
   ],
   "metadata": {
    "collapsed": false
   }
  },
  {
   "cell_type": "code",
   "execution_count": null,
   "outputs": [],
   "source": [
    "from datetime import datetime\n",
    "def interpolate_time(index, start_index, end_index, start_timestamp, end_timestamp):\n",
    "    return int((index-start_index)/(end_index-start_index)*(end_timestamp-start_timestamp)+start_timestamp)\n",
    "\n",
    "def timestamp_to_utctime(ts):\n",
    "    \"\"\"\n",
    "    :param ts: int - datetime timestamp\n",
    "    :return: string - utc time\n",
    "    \"\"\"\n",
    "    return datetime.utcfromtimestamp(ts * 1e-6)\n"
   ],
   "metadata": {
    "collapsed": false
   }
  },
  {
   "cell_type": "code",
   "execution_count": null,
   "outputs": [],
   "source": [
    "machine_annot = machine_annot.reset_index(drop=True)\n",
    "machine_annot.Dataset = 'RNS_Test_Dataset_DeepLearning'\n",
    "machine_annot.Alias_ID = 'RNS_Example_DL'\n",
    "machine_annot = machine_annot.drop(['Type_Description', 'Annotation_Channel', 'Channel_Code', 'Binary_Channel_Code','Annotation_Catalog_Index'], axis=1)"
   ],
   "metadata": {
    "collapsed": false
   }
  },
  {
   "cell_type": "code",
   "execution_count": null,
   "outputs": [],
   "source": [
    "machine_annot"
   ],
   "metadata": {
    "collapsed": false
   }
  },
  {
   "cell_type": "code",
   "execution_count": null,
   "outputs": [],
   "source": [
    "for index, row in machine_annot.iterrows():\n",
    "    start_ind, end_ind = get_start_stop(pred_episode[index])\n",
    "    machine_annot.at[index, 'Annotation_Start_Index'] = (row.Episode_Start_Index + start_ind).tolist()\n",
    "    machine_annot.at[index, 'Annotation_End_Index'] = (row.Episode_Start_Index + end_ind).tolist()\n",
    "    machine_annot.at[index, 'Class_Code'] = np.sign(pred_episode[index].sum()).item()\n",
    "    machine_annot.at[index, 'Annotation_Start_Timestamp'] = [\n",
    "        interpolate_time(st_ind, row.Episode_Start_Index, row.Episode_End_Index, row.Episode_Start_Timestamp,\n",
    "                         row.Episode_End_Timestamp) for st_ind in (row.Episode_Start_Index + start_ind).tolist()]\n",
    "    machine_annot.at[index, 'Annotation_End_Timestamp'] = [\n",
    "        interpolate_time(ed_ind, row.Episode_Start_Index, row.Episode_End_Index, row.Episode_Start_Timestamp,\n",
    "                         row.Episode_End_Timestamp) for ed_ind in (row.Episode_Start_Index + end_ind).tolist()]\n",
    "    machine_annot.at[index, 'Annotation_Start_UTC_Time'] = [\n",
    "        timestamp_to_utctime(interpolate_time(st_ind, row.Episode_Start_Index, row.Episode_End_Index, row.Episode_Start_Timestamp,\n",
    "                         row.Episode_End_Timestamp)) for st_ind in (row.Episode_Start_Index + start_ind).tolist()]\n",
    "    machine_annot.at[index, 'Annotation_End_UTC_Time'] = [\n",
    "        timestamp_to_utctime(interpolate_time(ed_ind, row.Episode_Start_Index, row.Episode_End_Index, row.Episode_Start_Timestamp,\n",
    "                         row.Episode_End_Timestamp)) for ed_ind in (row.Episode_Start_Index + end_ind).tolist()]\n"
   ],
   "metadata": {
    "collapsed": false
   }
  },
  {
   "cell_type": "code",
   "execution_count": null,
   "outputs": [],
   "source": [
    "1442176484602143-interpolate_time(11192047, 11181530, 11204050 ,1442176442532000, 1442176532616000)"
   ],
   "metadata": {
    "collapsed": false
   }
  },
  {
   "cell_type": "code",
   "execution_count": null,
   "outputs": [],
   "source": [
    "annotations.annotation_dict['RNS_Test_Dataset_ErinConrad']"
   ],
   "metadata": {
    "collapsed": false
   }
  },
  {
   "cell_type": "code",
   "execution_count": null,
   "outputs": [],
   "source": [
    "ind-start_ind/end_ind - start_ind = ind_ts-st_ts/endst-st_ts"
   ],
   "metadata": {
    "collapsed": false
   }
  },
  {
   "cell_type": "code",
   "execution_count": null,
   "outputs": [],
   "source": [
    "machine_annot.to_csv('machineprediction.csv', index=True)"
   ],
   "metadata": {
    "collapsed": false
   }
  },
  {
   "cell_type": "code",
   "execution_count": null,
   "outputs": [],
   "source": [],
   "metadata": {
    "collapsed": false
   }
  }
 ],
 "metadata": {
  "kernelspec": {
   "display_name": "Python 3 (ipykernel)",
   "language": "python",
   "name": "python3"
  },
  "language_info": {
   "codemirror_mode": {
    "name": "ipython",
    "version": 3
   },
   "file_extension": ".py",
   "mimetype": "text/x-python",
   "name": "python",
   "nbconvert_exporter": "python",
   "pygments_lexer": "ipython3",
   "version": "3.10.5"
  }
 },
 "nbformat": 4,
 "nbformat_minor": 1
}
