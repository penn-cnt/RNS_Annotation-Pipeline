{
 "cells": [
  {
   "cell_type": "code",
   "execution_count": 1,
   "metadata": {
    "collapsed": true,
    "ExecuteTime": {
     "start_time": "2024-01-12T15:28:40.218696Z",
     "end_time": "2024-01-12T15:28:41.105051Z"
    }
   },
   "outputs": [],
   "source": [
    "%load_ext autoreload\n",
    "%autoreload 2\n",
    "%matplotlib widget"
   ]
  },
  {
   "cell_type": "code",
   "execution_count": 171,
   "outputs": [],
   "source": [
    "import sys\n",
    "import os\n",
    "\n",
    "sys.path.append('../tools')\n",
    "import h5py\n",
    "import pandas as pd\n",
    "import numpy as np\n",
    "import tensorflow as tf\n",
    "import matplotlib.pyplot as plt\n",
    "from sklearn.manifold import TSNE\n",
    "\n",
    "from torch.utils.data import DataLoader\n",
    "from torch.utils.data import Dataset\n",
    "import torch\n",
    "import random"
   ],
   "metadata": {
    "collapsed": false,
    "ExecuteTime": {
     "start_time": "2024-03-19T11:10:29.256630Z",
     "end_time": "2024-03-19T11:10:29.273626Z"
    }
   }
  },
  {
   "cell_type": "code",
   "execution_count": 3,
   "outputs": [],
   "source": [
    "data_dir = \"../../../user_data/rns_data\"\n",
    "log_folder_root = '../../../user_data/logs/'\n",
    "ckpt_folder_root = '../../../user_data/checkpoints/'"
   ],
   "metadata": {
    "collapsed": false,
    "ExecuteTime": {
     "start_time": "2024-03-15T13:20:40.040802Z",
     "end_time": "2024-03-15T13:20:40.050790Z"
    }
   }
  },
  {
   "cell_type": "code",
   "execution_count": 172,
   "outputs": [
    {
     "name": "stderr",
     "output_type": "stream",
     "text": [
      "Global seed set to 42\n"
     ]
    },
    {
     "data": {
      "text/plain": "42"
     },
     "execution_count": 172,
     "metadata": {},
     "output_type": "execute_result"
    }
   ],
   "source": [
    "random_seed = 42\n",
    "random.seed(random_seed)\n",
    "torch.manual_seed(random_seed)\n",
    "np.random.seed(random_seed)\n",
    "\n",
    "if torch.cuda.is_available():\n",
    "    torch.cuda.manual_seed(random_seed)\n",
    "    # True ensures the algorithm selected by CUFA is deterministic\n",
    "    torch.backends.cudnn.deterministic = True\n",
    "    # torch.set_deterministic(True)\n",
    "    # False ensures CUDA select the same algorithm each time the application is run\n",
    "    torch.backends.cudnn.benchmark = False\n",
    "\n",
    "import pytorch_lightning\n",
    "\n",
    "pytorch_lightning.utilities.seed.seed_everything(seed=random_seed, workers=True)"
   ],
   "metadata": {
    "collapsed": false,
    "ExecuteTime": {
     "start_time": "2024-03-19T11:10:30.673377Z",
     "end_time": "2024-03-19T11:10:32.429352Z"
    }
   }
  },
  {
   "cell_type": "code",
   "execution_count": 4,
   "outputs": [
    {
     "ename": "FileNotFoundError",
     "evalue": "[WinError 3] The system cannot find the path specified: '../../../user_data/logs/rns_swav_50_all'",
     "output_type": "error",
     "traceback": [
      "\u001B[1;31m---------------------------------------------------------------------------\u001B[0m",
      "\u001B[1;31mFileNotFoundError\u001B[0m                         Traceback (most recent call last)",
      "Input \u001B[1;32mIn [4]\u001B[0m, in \u001B[0;36m<cell line: 1>\u001B[1;34m()\u001B[0m\n\u001B[1;32m----> 1\u001B[0m \u001B[43mos\u001B[49m\u001B[38;5;241;43m.\u001B[39;49m\u001B[43mlistdir\u001B[49m\u001B[43m(\u001B[49m\u001B[43mlog_folder_root\u001B[49m\u001B[38;5;241;43m+\u001B[39;49m\u001B[38;5;124;43m'\u001B[39;49m\u001B[38;5;124;43mrns_swav_50_all\u001B[39;49m\u001B[38;5;124;43m'\u001B[39;49m\u001B[43m)\u001B[49m\n",
      "\u001B[1;31mFileNotFoundError\u001B[0m: [WinError 3] The system cannot find the path specified: '../../../user_data/logs/rns_swav_50_all'"
     ]
    }
   ],
   "source": [
    "os.listdir(log_folder_root+'rns_swav_50_all')"
   ],
   "metadata": {
    "collapsed": false,
    "ExecuteTime": {
     "start_time": "2024-01-12T15:28:48.115322Z",
     "end_time": "2024-01-12T15:28:48.479385Z"
    }
   }
  },
  {
   "cell_type": "code",
   "execution_count": 6,
   "outputs": [],
   "source": [
    "metrics = pd.read_csv(log_folder_root+'rns_swav_50_all/version_6/metrics.csv')"
   ],
   "metadata": {
    "collapsed": false,
    "ExecuteTime": {
     "start_time": "2024-01-12T15:28:48.479385Z",
     "end_time": "2024-01-12T15:28:48.834374Z"
    }
   }
  },
  {
   "cell_type": "code",
   "execution_count": 7,
   "outputs": [],
   "source": [
    "loss = []\n",
    "for ep in metrics.epoch.unique():\n",
    "    loss.append(metrics[metrics.epoch == ep].swav_loss.mean())"
   ],
   "metadata": {
    "collapsed": false,
    "ExecuteTime": {
     "start_time": "2024-01-12T15:28:48.834374Z",
     "end_time": "2024-01-12T15:28:49.188661Z"
    }
   }
  },
  {
   "cell_type": "code",
   "execution_count": 17,
   "outputs": [
    {
     "data": {
      "text/plain": "[6.7822773635375,\n 4.5474022448375,\n 4.293776518074999,\n 3.6940101861875005,\n 3.4501909285875003,\n 3.331156286625,\n 3.2480690032,\n 3.1899357706375,\n 3.148222348075,\n 3.1149281984567905,\n 3.0829030543125002,\n 3.073817965375,\n 3.0202842504,\n 3.0130480348625,\n 3.00174531045,\n 2.9784669459375,\n 2.9618073939625,\n 2.9443739294499998,\n 2.9386274397375,\n 2.9156722904567904,\n 2.9248893827374998,\n 2.9184851050375,\n 2.9018912553874996,\n 2.8854286432499996,\n 2.8669634998125,\n 2.8573880195375,\n 2.8595010309999997,\n 2.8545121401125,\n 2.8396302312625,\n 2.826272879123457,\n 2.8274315386375,\n 2.807897269725,\n 2.8247373551375,\n 2.8013726686785714]"
     },
     "execution_count": 17,
     "metadata": {},
     "output_type": "execute_result"
    }
   ],
   "source": [
    "loss"
   ],
   "metadata": {
    "collapsed": false,
    "ExecuteTime": {
     "start_time": "2023-10-27T16:10:43.222142Z",
     "end_time": "2023-10-27T16:10:43.245991Z"
    }
   }
  },
  {
   "cell_type": "code",
   "execution_count": 19,
   "outputs": [
    {
     "name": "stderr",
     "output_type": "stream",
     "text": [
      "No artists with labels found to put in legend.  Note that artists whose label start with an underscore are ignored when legend() is called with no argument.\n"
     ]
    },
    {
     "data": {
      "text/plain": "<Figure size 720x576 with 1 Axes>",
      "image/png": "[encoded data removed]"
     },
     "metadata": {
      "needs_background": "light"
     },
     "output_type": "display_data"
    }
   ],
   "source": [
    "plt.figure(figsize=(10, 8))\n",
    "plt.plot(metrics.epoch.unique(),loss)\n",
    "plt.xlabel('steps')\n",
    "plt.ylabel('swav_loss')\n",
    "plt.legend()\n",
    "plt.grid()\n",
    "plt.show()"
   ],
   "metadata": {
    "collapsed": false,
    "ExecuteTime": {
     "start_time": "2023-10-27T16:11:16.375787Z",
     "end_time": "2023-10-27T16:11:16.501740Z"
    }
   }
  },
  {
   "cell_type": "markdown",
   "source": [],
   "metadata": {
    "collapsed": false
   }
  },
  {
   "cell_type": "code",
   "execution_count": 132,
   "outputs": [],
   "source": [
    "final_folder = 'rns_active_p'\n",
    "path = os.listdir(log_folder_root+final_folder)\n",
    "num_round = 11"
   ],
   "metadata": {
    "collapsed": false,
    "ExecuteTime": {
     "start_time": "2024-03-19T10:58:29.571537Z",
     "end_time": "2024-03-19T10:58:29.594534Z"
    }
   }
  },
  {
   "cell_type": "code",
   "execution_count": 133,
   "outputs": [],
   "source": [
    "# path = path[0:3:2]"
   ],
   "metadata": {
    "collapsed": false,
    "ExecuteTime": {
     "start_time": "2024-03-19T10:58:30.299883Z",
     "end_time": "2024-03-19T10:58:30.310881Z"
    }
   }
  },
  {
   "cell_type": "code",
   "execution_count": 175,
   "outputs": [
    {
     "data": {
      "text/plain": "['active_logs_LeastConfidence', 'active_logs_RandomSampling']"
     },
     "execution_count": 175,
     "metadata": {},
     "output_type": "execute_result"
    }
   ],
   "source": [
    "path"
   ],
   "metadata": {
    "collapsed": false,
    "ExecuteTime": {
     "start_time": "2024-03-19T11:34:55.579554Z",
     "end_time": "2024-03-19T11:34:55.605551Z"
    }
   }
  },
  {
   "cell_type": "code",
   "execution_count": 186,
   "outputs": [],
   "source": [
    "\n",
    "def process_active_loss(path):\n",
    "    dict = {'val_acc': [],\n",
    "            'val_precision': [],\n",
    "            'val_recall': [],\n",
    "            'val_loss': [],\n",
    "            }\n",
    "    for i in range(0, num_round):\n",
    "        metrics = pd.read_csv(path + '/logger_round_' + str(i) + '/version_0/metrics.csv')\n",
    "        max_ind = metrics['val_acc'].argmax()\n",
    "        max_row = metrics.iloc[max_ind]\n",
    "        dict['val_acc'].append(max_row['val_acc'])\n",
    "        dict['val_precision'].append(max_row['val_precision'])\n",
    "        dict['val_recall'].append(max_row['val_recall'])\n",
    "        dict['val_loss'].append(max_row['val_loss'])\n",
    "    return dict\n",
    "\n",
    "query_obj_list = []\n",
    "for p in path:\n",
    "    pt = log_folder_root+final_folder+'/' + p\n",
    "    query_obj_list.append(process_active_loss(pt))"
   ],
   "metadata": {
    "collapsed": false,
    "ExecuteTime": {
     "start_time": "2024-03-19T11:37:02.200875Z",
     "end_time": "2024-03-19T11:37:02.238743Z"
    }
   }
  },
  {
   "cell_type": "code",
   "execution_count": 182,
   "outputs": [
    {
     "data": {
      "text/plain": "[{'val_acc': [0.6329798294863797,\n   0.83243917654398,\n   0.9065502183406112,\n   0.9161572052401746,\n   0.8870867124142233,\n   0.8741110417966313,\n   0.8696194635059263,\n   0.9062590975254732,\n   0.8975254730713246,\n   0.8954460386774797,\n   0.9132459970887918],\n  'val_precision': [0.1339702113851618,\n   0.3910009621834867,\n   0.5101962425086343,\n   0.5203916202238593,\n   0.5001013816740638,\n   0.4230451873901878,\n   0.439390745801237,\n   0.6391630433859549,\n   0.6728792182015879,\n   0.6266331864799024,\n   0.6501452973879879],\n  'val_recall': [0.1721734513714546,\n   0.3940817061190538,\n   0.5555034668836446,\n   0.5585569814928575,\n   0.5415555239185564,\n   0.4897443687829949,\n   0.4718264047836356,\n   0.7029458409658301,\n   0.6789933813290737,\n   0.688678019329524,\n   0.6955221051206575],\n  'val_loss': [0.0553082190454006,\n   0.0298109594732522,\n   0.020566064864397,\n   0.0207351930439472,\n   0.0225221030414104,\n   0.0254469066858291,\n   0.0262799002230167,\n   0.0211055371910333,\n   0.0207921601831913,\n   0.0222911834716796,\n   0.0211868379265069]},\n {'val_acc': [0.6329798294863797,\n   0.7560407569141193,\n   0.7526720731960906,\n   0.8135163235599917,\n   0.7967976710334789,\n   0.8277812435017675,\n   0.9032647119983364,\n   0.9057184445830734,\n   0.8926180079018508,\n   0.8534414639218133,\n   0.8475774589311708],\n  'val_precision': [0.1821177771302818,\n   0.5916927249160032,\n   0.4862662045700915,\n   0.6765014198250373,\n   0.6165995318367351,\n   0.6168539732077636,\n   0.6707025834164648,\n   0.6743834783655817,\n   0.6708137168188033,\n   0.5893049796139875,\n   0.6318460308698004],\n  'val_recall': [0.2312572820103442,\n   0.6449432535362207,\n   0.6478975589868897,\n   0.6528449432047232,\n   0.6669824543176133,\n   0.6793802637270141,\n   0.698359162974619,\n   0.6825257847774117,\n   0.6869313096784129,\n   0.6748613773288284,\n   0.6575831788633832],\n  'val_loss': [0.0553081966936588,\n   0.0393050722777843,\n   0.0377107672393322,\n   0.033553872257471,\n   0.0345472320914268,\n   0.0306252278387546,\n   0.0215001814067363,\n   0.0216893553733825,\n   0.0227987691760063,\n   0.0278044398874044,\n   0.0276481974869966]}]"
     },
     "execution_count": 182,
     "metadata": {},
     "output_type": "execute_result"
    }
   ],
   "source": [
    "query_obj_list"
   ],
   "metadata": {
    "collapsed": false,
    "ExecuteTime": {
     "start_time": "2024-03-19T11:36:11.664581Z",
     "end_time": "2024-03-19T11:36:11.694577Z"
    }
   }
  },
  {
   "cell_type": "code",
   "execution_count": 183,
   "outputs": [],
   "source": [
    "import pickle\n",
    "\n",
    "with open(log_folder_root + 'rns_active_selected_p/' + 'LeastConfidence' + '/' + 'selected_indices.pkl', 'rb') as f:\n",
    "    selected_inds = pickle.load(f)\n",
    "\n",
    "add_size = []\n",
    "for key in selected_inds.keys():\n",
    "    add_size.append(len(selected_inds[key]))\n",
    "add_size_cumsum = np.cumsum(add_size)\n",
    "add_size_cumsum_lc = add_size_cumsum/3600\n",
    "\n",
    "add_size = []\n",
    "for dt in np.load('RandomSampling.npy', allow_pickle=True):\n",
    "    add_size.append(len(dt))\n",
    "add_size.insert(0,779)\n",
    "add_size_cumsum = np.cumsum(add_size)\n",
    "add_size_cumsum_rd = add_size_cumsum/3600\n",
    "add_size_cumsum_arr = np.vstack((add_size_cumsum_lc,add_size_cumsum_rd))"
   ],
   "metadata": {
    "collapsed": false,
    "ExecuteTime": {
     "start_time": "2024-03-19T11:36:12.175365Z",
     "end_time": "2024-03-19T11:36:12.192371Z"
    }
   }
  },
  {
   "cell_type": "code",
   "execution_count": 190,
   "outputs": [
    {
     "data": {
      "text/plain": "<Figure size 864x720 with 1 Axes>",
      "image/png": "[encoded data removed]"
     },
     "metadata": {
      "needs_background": "light"
     },
     "output_type": "display_data"
    }
   ],
   "source": [
    "n_samples = 9 + np.arange(0, num_round) * 19\n",
    "\n",
    "crit = 'val_acc'\n",
    "plt.figure(figsize=(12, 10))\n",
    "# plt.plot(n_samples, lcarr1, label='Entropy')\n",
    "# plt.hlines(0.9014,xmin=0,xmax=n_samples[-1],colors='r')\n",
    "plt.hlines(0.93,xmin=add_size_cumsum_arr.min(),xmax=add_size_cumsum_arr.max(),colors='gold')\n",
    "plt.hlines(0.90,xmin=add_size_cumsum_arr.min(),xmax=add_size_cumsum_arr.max(),colors='gold')\n",
    "\n",
    "# plt.plot(n_samples, lcarr2, label='Coreset')\n",
    "for i in range(len(query_obj_list)):\n",
    "    plt.plot(add_size_cumsum_arr[i], query_obj_list[i][crit], label=path[i].split('_')[-1])\n",
    "\n",
    "# plt.plot(n_samples, vr[crit], label='VarRatio')\n",
    "plt.xlabel('hours of annoations [h]')\n",
    "plt.ylabel(crit)\n",
    "plt.legend()\n",
    "plt.grid()\n",
    "plt.show()"
   ],
   "metadata": {
    "collapsed": false,
    "ExecuteTime": {
     "start_time": "2024-03-19T13:21:47.809825Z",
     "end_time": "2024-03-19T13:21:47.925825Z"
    }
   }
  },
  {
   "cell_type": "code",
   "execution_count": 173,
   "outputs": [],
   "source": [
    "add_size_cumsum_arr[0] = np.array([8,71,152,187,281,338,405,462,518,590,635])\n",
    "add_size_cumsum_arr[1] = np.array([8,26,44,62,80,98,116,134,152,170,187])\n",
    "\n"
   ],
   "metadata": {
    "collapsed": false,
    "ExecuteTime": {
     "start_time": "2024-03-19T11:33:51.274956Z",
     "end_time": "2024-03-19T11:33:51.300235Z"
    }
   }
  },
  {
   "cell_type": "code",
   "execution_count": null,
   "outputs": [],
   "source": [],
   "metadata": {
    "collapsed": false
   }
  }
 ],
 "metadata": {
  "kernelspec": {
   "display_name": "Python 3",
   "language": "python",
   "name": "python3"
  },
  "language_info": {
   "codemirror_mode": {
    "name": "ipython",
    "version": 2
   },
   "file_extension": ".py",
   "mimetype": "text/x-python",
   "name": "python",
   "nbconvert_exporter": "python",
   "pygments_lexer": "ipython2",
   "version": "2.7.6"
  }
 },
 "nbformat": 4,
 "nbformat_minor": 0
}
