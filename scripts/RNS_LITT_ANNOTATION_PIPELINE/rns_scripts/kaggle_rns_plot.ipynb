{
 "cells": [
  {
   "cell_type": "code",
   "execution_count": 1,
   "metadata": {
    "collapsed": true,
    "ExecuteTime": {
     "start_time": "2024-01-12T15:28:40.218696Z",
     "end_time": "2024-01-12T15:28:41.105051Z"
    }
   },
   "outputs": [],
   "source": [
    "%load_ext autoreload\n",
    "%autoreload 2\n",
    "%matplotlib widget"
   ]
  },
  {
   "cell_type": "code",
   "execution_count": 2,
   "outputs": [],
   "source": [
    "import sys\n",
    "import os\n",
    "\n",
    "sys.path.append('../tools')\n",
    "import h5py\n",
    "import pandas as pd\n",
    "import numpy as np\n",
    "import tensorflow as tf\n",
    "import matplotlib.pyplot as plt\n",
    "from sklearn.manifold import TSNE\n",
    "\n",
    "from torch.utils.data import DataLoader\n",
    "from torch.utils.data import Dataset\n",
    "import torch\n"
   ],
   "metadata": {
    "collapsed": false,
    "ExecuteTime": {
     "start_time": "2024-03-15T13:20:31.365765Z",
     "end_time": "2024-03-15T13:20:40.040802Z"
    }
   }
  },
  {
   "cell_type": "code",
   "execution_count": 3,
   "outputs": [],
   "source": [
    "data_dir = \"../../../user_data/rns_data\"\n",
    "log_folder_root = '../../../user_data/logs/'\n",
    "ckpt_folder_root = '../../../user_data/checkpoints/'"
   ],
   "metadata": {
    "collapsed": false,
    "ExecuteTime": {
     "start_time": "2024-03-15T13:20:40.040802Z",
     "end_time": "2024-03-15T13:20:40.050790Z"
    }
   }
  },
  {
   "cell_type": "code",
   "execution_count": 4,
   "outputs": [],
   "source": [
    "random_seed = 42\n",
    "torch.manual_seed(random_seed)\n",
    "np.random.seed(random_seed)\n",
    "determine_generator = torch.Generator()\n",
    "determine_generator.manual_seed(random_seed)\n",
    "\n",
    "if torch.cuda.is_available():\n",
    "    torch.cuda.manual_seed(random_seed)\n",
    "    # True ensures the algorithm selected by CUFA is deterministic\n",
    "    torch.backends.cudnn.deterministic = True\n",
    "    # torch.set_deterministic(True)\n",
    "    # False ensures CUDA select the same algorithm each time the application is run\n",
    "    torch.backends.cudnn.benchmark = False"
   ],
   "metadata": {
    "collapsed": false,
    "ExecuteTime": {
     "start_time": "2024-03-15T13:20:40.050790Z",
     "end_time": "2024-03-15T13:20:40.122369Z"
    }
   }
  },
  {
   "cell_type": "code",
   "execution_count": 4,
   "outputs": [
    {
     "ename": "FileNotFoundError",
     "evalue": "[WinError 3] The system cannot find the path specified: '../../../user_data/logs/rns_swav_50_all'",
     "output_type": "error",
     "traceback": [
      "\u001B[1;31m---------------------------------------------------------------------------\u001B[0m",
      "\u001B[1;31mFileNotFoundError\u001B[0m                         Traceback (most recent call last)",
      "Input \u001B[1;32mIn [4]\u001B[0m, in \u001B[0;36m<cell line: 1>\u001B[1;34m()\u001B[0m\n\u001B[1;32m----> 1\u001B[0m \u001B[43mos\u001B[49m\u001B[38;5;241;43m.\u001B[39;49m\u001B[43mlistdir\u001B[49m\u001B[43m(\u001B[49m\u001B[43mlog_folder_root\u001B[49m\u001B[38;5;241;43m+\u001B[39;49m\u001B[38;5;124;43m'\u001B[39;49m\u001B[38;5;124;43mrns_swav_50_all\u001B[39;49m\u001B[38;5;124;43m'\u001B[39;49m\u001B[43m)\u001B[49m\n",
      "\u001B[1;31mFileNotFoundError\u001B[0m: [WinError 3] The system cannot find the path specified: '../../../user_data/logs/rns_swav_50_all'"
     ]
    }
   ],
   "source": [
    "os.listdir(log_folder_root+'rns_swav_50_all')"
   ],
   "metadata": {
    "collapsed": false,
    "ExecuteTime": {
     "start_time": "2024-01-12T15:28:48.115322Z",
     "end_time": "2024-01-12T15:28:48.479385Z"
    }
   }
  },
  {
   "cell_type": "code",
   "execution_count": 6,
   "outputs": [],
   "source": [
    "metrics = pd.read_csv(log_folder_root+'rns_swav_50_all/version_6/metrics.csv')"
   ],
   "metadata": {
    "collapsed": false,
    "ExecuteTime": {
     "start_time": "2024-01-12T15:28:48.479385Z",
     "end_time": "2024-01-12T15:28:48.834374Z"
    }
   }
  },
  {
   "cell_type": "code",
   "execution_count": 7,
   "outputs": [],
   "source": [
    "loss = []\n",
    "for ep in metrics.epoch.unique():\n",
    "    loss.append(metrics[metrics.epoch == ep].swav_loss.mean())"
   ],
   "metadata": {
    "collapsed": false,
    "ExecuteTime": {
     "start_time": "2024-01-12T15:28:48.834374Z",
     "end_time": "2024-01-12T15:28:49.188661Z"
    }
   }
  },
  {
   "cell_type": "code",
   "execution_count": 17,
   "outputs": [
    {
     "data": {
      "text/plain": "[6.7822773635375,\n 4.5474022448375,\n 4.293776518074999,\n 3.6940101861875005,\n 3.4501909285875003,\n 3.331156286625,\n 3.2480690032,\n 3.1899357706375,\n 3.148222348075,\n 3.1149281984567905,\n 3.0829030543125002,\n 3.073817965375,\n 3.0202842504,\n 3.0130480348625,\n 3.00174531045,\n 2.9784669459375,\n 2.9618073939625,\n 2.9443739294499998,\n 2.9386274397375,\n 2.9156722904567904,\n 2.9248893827374998,\n 2.9184851050375,\n 2.9018912553874996,\n 2.8854286432499996,\n 2.8669634998125,\n 2.8573880195375,\n 2.8595010309999997,\n 2.8545121401125,\n 2.8396302312625,\n 2.826272879123457,\n 2.8274315386375,\n 2.807897269725,\n 2.8247373551375,\n 2.8013726686785714]"
     },
     "execution_count": 17,
     "metadata": {},
     "output_type": "execute_result"
    }
   ],
   "source": [
    "loss"
   ],
   "metadata": {
    "collapsed": false,
    "ExecuteTime": {
     "start_time": "2023-10-27T16:10:43.222142Z",
     "end_time": "2023-10-27T16:10:43.245991Z"
    }
   }
  },
  {
   "cell_type": "code",
   "execution_count": 19,
   "outputs": [
    {
     "name": "stderr",
     "output_type": "stream",
     "text": [
      "No artists with labels found to put in legend.  Note that artists whose label start with an underscore are ignored when legend() is called with no argument.\n"
     ]
    },
    {
     "data": {
      "text/plain": "<Figure size 720x576 with 1 Axes>",
      "image/png": "[encoded data removed]"
     },
     "metadata": {
      "needs_background": "light"
     },
     "output_type": "display_data"
    }
   ],
   "source": [
    "plt.figure(figsize=(10, 8))\n",
    "plt.plot(metrics.epoch.unique(),loss)\n",
    "plt.xlabel('steps')\n",
    "plt.ylabel('swav_loss')\n",
    "plt.legend()\n",
    "plt.grid()\n",
    "plt.show()"
   ],
   "metadata": {
    "collapsed": false,
    "ExecuteTime": {
     "start_time": "2023-10-27T16:11:16.375787Z",
     "end_time": "2023-10-27T16:11:16.501740Z"
    }
   }
  },
  {
   "cell_type": "markdown",
   "source": [],
   "metadata": {
    "collapsed": false
   }
  },
  {
   "cell_type": "code",
   "execution_count": 31,
   "outputs": [],
   "source": [
    "path = os.listdir(log_folder_root+'rns_active')"
   ],
   "metadata": {
    "collapsed": false,
    "ExecuteTime": {
     "start_time": "2024-03-16T12:47:03.943895Z",
     "end_time": "2024-03-16T12:47:03.956123Z"
    }
   }
  },
  {
   "cell_type": "code",
   "execution_count": 32,
   "outputs": [
    {
     "data": {
      "text/plain": "['active_logs_LeastConfidence', 'active_logs_RandomSampling']"
     },
     "execution_count": 32,
     "metadata": {},
     "output_type": "execute_result"
    }
   ],
   "source": [
    "path"
   ],
   "metadata": {
    "collapsed": false,
    "ExecuteTime": {
     "start_time": "2024-03-16T12:47:04.604977Z",
     "end_time": "2024-03-16T12:47:04.613315Z"
    }
   }
  },
  {
   "cell_type": "code",
   "execution_count": 34,
   "outputs": [],
   "source": [
    "def process_active_loss(path):\n",
    "    dict = {'val_acc': [],\n",
    "            'val_precision': [],\n",
    "            'val_recall': [],\n",
    "            'val_loss': [],\n",
    "            }\n",
    "    for i in range(0, 10):\n",
    "        metrics = pd.read_csv(path + '/logger_round_' + str(i) + '/version_0/metrics.csv')\n",
    "        max_ind = metrics['val_acc'].argmax()\n",
    "        max_row = metrics.iloc[max_ind]\n",
    "        dict['val_acc'].append(max_row['val_acc'])\n",
    "        dict['val_precision'].append(max_row['val_precision'])\n",
    "        dict['val_recall'].append(max_row['val_recall'])\n",
    "        dict['val_loss'].append(max_row['val_loss'])\n",
    "    return dict\n",
    "\n",
    "query_obj_list = []\n",
    "for p in path:\n",
    "    pt = log_folder_root+'rns_active/' + p\n",
    "    query_obj_list.append(process_active_loss(pt))"
   ],
   "metadata": {
    "collapsed": false,
    "ExecuteTime": {
     "start_time": "2024-03-16T12:47:08.815145Z",
     "end_time": "2024-03-16T12:47:08.992083Z"
    }
   }
  },
  {
   "cell_type": "code",
   "execution_count": 35,
   "outputs": [
    {
     "data": {
      "text/plain": "[{'val_acc': [0.6329798294863797,\n   0.8504054897067997,\n   0.8999376169681846,\n   0.9296735288001664,\n   0.9072156373466416,\n   0.9143273029735912,\n   0.91648991474319,\n   0.9032647119983364,\n   0.9138282387190684,\n   0.9199001871490956],\n  'val_precision': [0.1821177771302818,\n   0.4876041400234529,\n   0.6883916386248083,\n   0.6783027094687178,\n   0.6705407014857323,\n   0.6456122221268059,\n   0.663455088461149,\n   0.6814251755895948,\n   0.6247242521673084,\n   0.6793917683000662],\n  'val_recall': [0.2312572820103442,\n   0.5809169223629116,\n   0.663529970252051,\n   0.7110957841047882,\n   0.6870130979127533,\n   0.7186256206167235,\n   0.7012566719945929,\n   0.679621975718231,\n   0.6886817731023074,\n   0.6838841923027359],\n  'val_loss': [0.0553081966936588,\n   0.02886863052845,\n   0.0272325929254293,\n   0.018674299120903,\n   0.0201862510293722,\n   0.0203707944601774,\n   0.0206593312323093,\n   0.0220619961619377,\n   0.0202511493116617,\n   0.0193792562931776]},\n {'val_acc': [0.6329798294863797,\n   0.7560407569141193,\n   0.7526720731960906,\n   0.8135163235599917,\n   0.7967976710334789,\n   0.8277812435017675,\n   0.9032647119983364,\n   0.9057184445830734,\n   0.8926180079018508,\n   0.8534414639218133],\n  'val_precision': [0.1821177771302818,\n   0.5916927249160032,\n   0.4862662045700915,\n   0.6765014198250373,\n   0.6165995318367351,\n   0.6168539732077636,\n   0.6707025834164648,\n   0.6743834783655817,\n   0.6708137168188033,\n   0.5893049796139875],\n  'val_recall': [0.2312572820103442,\n   0.6449432535362207,\n   0.6478975589868897,\n   0.6528449432047232,\n   0.6669824543176133,\n   0.6793802637270141,\n   0.698359162974619,\n   0.6825257847774117,\n   0.6869313096784129,\n   0.6748613773288284],\n  'val_loss': [0.0553081966936588,\n   0.0393050722777843,\n   0.0377107672393322,\n   0.033553872257471,\n   0.0345472320914268,\n   0.0306252278387546,\n   0.0215001814067363,\n   0.0216893553733825,\n   0.0227987691760063,\n   0.0278044398874044]}]"
     },
     "execution_count": 35,
     "metadata": {},
     "output_type": "execute_result"
    }
   ],
   "source": [
    "query_obj_list"
   ],
   "metadata": {
    "collapsed": false,
    "ExecuteTime": {
     "start_time": "2024-03-16T12:47:09.633052Z",
     "end_time": "2024-03-16T12:47:09.655068Z"
    }
   }
  },
  {
   "cell_type": "code",
   "execution_count": 36,
   "outputs": [
    {
     "data": {
      "text/plain": "<Figure size 864x720 with 1 Axes>",
      "image/png": "[encoded data removed]"
     },
     "metadata": {
      "needs_background": "light"
     },
     "output_type": "display_data"
    }
   ],
   "source": [
    "n_samples = 9 + np.arange(0, 10) * 19\n",
    "\n",
    "crit = 'val_acc'\n",
    "plt.figure(figsize=(12, 10))\n",
    "# plt.plot(n_samples, lcarr1, label='Entropy')\n",
    "# plt.hlines(0.9014,xmin=0,xmax=n_samples[-1],colors='r')\n",
    "plt.hlines(0.93,xmin=n_samples[0],xmax=n_samples[-1],colors='gold')\n",
    "# plt.plot(n_samples, lcarr2, label='Coreset')\n",
    "for i in range(len(query_obj_list)):\n",
    "    plt.plot(n_samples, query_obj_list[i][crit], label=path[i].split('_')[-1])\n",
    "# plt.plot(n_samples, vr[crit], label='VarRatio')\n",
    "plt.xlabel('n_samples [s]')\n",
    "plt.ylabel(crit)\n",
    "plt.legend()\n",
    "plt.grid()\n",
    "plt.show()"
   ],
   "metadata": {
    "collapsed": false,
    "ExecuteTime": {
     "start_time": "2024-03-16T12:47:10.671421Z",
     "end_time": "2024-03-16T12:47:10.829136Z"
    }
   }
  },
  {
   "cell_type": "code",
   "execution_count": null,
   "outputs": [],
   "source": [],
   "metadata": {
    "collapsed": false
   }
  }
 ],
 "metadata": {
  "kernelspec": {
   "display_name": "Python 3",
   "language": "python",
   "name": "python3"
  },
  "language_info": {
   "codemirror_mode": {
    "name": "ipython",
    "version": 2
   },
   "file_extension": ".py",
   "mimetype": "text/x-python",
   "name": "python",
   "nbconvert_exporter": "python",
   "pygments_lexer": "ipython2",
   "version": "2.7.6"
  }
 },
 "nbformat": 4,
 "nbformat_minor": 0
}
