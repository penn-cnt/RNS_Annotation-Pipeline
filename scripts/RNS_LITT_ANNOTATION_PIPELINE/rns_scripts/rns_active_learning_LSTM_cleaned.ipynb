{
 "cells": [
  {
   "cell_type": "code",
   "execution_count": 1,
   "metadata": {
    "ExecuteTime": {
     "start_time": "2024-03-20T12:53:48.762513Z",
     "end_time": "2024-03-20T12:53:49.592512Z"
    }
   },
   "outputs": [],
   "source": [
    "%load_ext autoreload\n",
    "%autoreload 2\n",
    "%matplotlib widget"
   ]
  },
  {
   "cell_type": "code",
   "execution_count": 2,
   "metadata": {
    "ExecuteTime": {
     "start_time": "2024-03-20T12:53:49.594512Z",
     "end_time": "2024-03-20T12:53:54.862833Z"
    }
   },
   "outputs": [],
   "source": [
    "import numpy as np\n",
    "import random\n",
    "import sys\n",
    "\n",
    "sys.path.append('../tools')\n",
    "\n",
    "import os\n",
    "\n",
    "import torch\n",
    "\n",
    "import pandas as pd\n",
    "from sklearn.model_selection import train_test_split\n",
    "import pytorch_lightning as pl\n",
    "import pytorch_lightning.loggers as pl_loggers\n",
    "import pytorch_lightning.callbacks as pl_callbacks\n",
    "import data_utility, annotation_utility\n",
    "from models.rns_dataloader import *\n",
    "from active_learning_utility import get_strategy\n",
    "from active_learning_data import Data\n",
    "from active_learning_net import Net\n",
    "from copy import deepcopy\n",
    "from models.SwaV import SwaV\n",
    "from models.LSTMDownStream import SupervisedDownstream\n",
    "import warnings\n",
    "import pickle\n",
    "warnings.filterwarnings(\"ignore\")\n"
   ]
  },
  {
   "cell_type": "code",
   "execution_count": 3,
   "metadata": {
    "ExecuteTime": {
     "start_time": "2024-03-20T12:53:54.865837Z",
     "end_time": "2024-03-20T12:53:55.258834Z"
    }
   },
   "outputs": [
    {
     "name": "stderr",
     "output_type": "stream",
     "text": [
      "Global seed set to 42\n"
     ]
    },
    {
     "data": {
      "text/plain": "42"
     },
     "execution_count": 3,
     "metadata": {},
     "output_type": "execute_result"
    }
   ],
   "source": [
    "random_seed = 42\n",
    "random.seed(random_seed)\n",
    "torch.manual_seed(random_seed)\n",
    "np.random.seed(random_seed)\n",
    "\n",
    "if torch.cuda.is_available():\n",
    "    torch.cuda.manual_seed(random_seed)\n",
    "    # True ensures the algorithm selected by CUFA is deterministic\n",
    "    torch.backends.cudnn.deterministic = True\n",
    "    # torch.set_deterministic(True)\n",
    "    # False ensures CUDA select the same algorithm each time the application is run\n",
    "    torch.backends.cudnn.benchmark = False\n",
    "\n",
    "import pytorch_lightning\n",
    "\n",
    "pytorch_lightning.utilities.seed.seed_everything(seed=random_seed, workers=True)"
   ]
  },
  {
   "cell_type": "code",
   "execution_count": 4,
   "metadata": {
    "ExecuteTime": {
     "start_time": "2024-03-20T12:53:55.259834Z",
     "end_time": "2024-03-20T12:53:55.591834Z"
    }
   },
   "outputs": [],
   "source": [
    "data_dir = \"../../../user_data/\"\n",
    "log_folder_root = '../../../user_data/logs/'\n",
    "ckpt_folder_root = '../../../user_data/checkpoints/'"
   ]
  },
  {
   "cell_type": "code",
   "execution_count": 5,
   "metadata": {
    "ExecuteTime": {
     "start_time": "2024-03-20T12:53:55.592834Z",
     "end_time": "2024-03-20T12:53:55.923834Z"
    }
   },
   "outputs": [],
   "source": [
    "strategy_name = 'LeastConfidenceDropout'"
   ]
  },
  {
   "cell_type": "code",
   "execution_count": 6,
   "metadata": {
    "ExecuteTime": {
     "start_time": "2024-03-20T12:53:55.923834Z",
     "end_time": "2024-03-20T12:53:56.285833Z"
    }
   },
   "outputs": [],
   "source": [
    "nStart = 1\n",
    "nEnd = 20\n",
    "nQuery = 2"
   ]
  },
  {
   "cell_type": "code",
   "execution_count": 7,
   "metadata": {
    "ExecuteTime": {
     "start_time": "2024-03-20T12:53:56.286834Z",
     "end_time": "2024-03-20T12:53:56.632832Z"
    }
   },
   "outputs": [],
   "source": [
    "args_task = {'n_epoch': 50,\n",
    "             'transform_train': True,\n",
    "             'strategy_name': strategy_name,\n",
    "             'transform': False,\n",
    "             'loader_tr_args': {'batch_size': 2, 'num_workers': 4, 'collate_fn': collate_fn,\n",
    "                                'drop_last': True, 'persistent_workers': True},\n",
    "             'loader_te_args': {'batch_size': 2, 'num_workers': 4, 'collate_fn': collate_fn,\n",
    "                                'drop_last': True, 'persistent_workers': True}\n",
    "             }"
   ]
  },
  {
   "cell_type": "code",
   "execution_count": 8,
   "metadata": {
    "ExecuteTime": {
     "start_time": "2024-03-20T12:53:56.632832Z",
     "end_time": "2024-03-20T12:53:56.963833Z"
    }
   },
   "outputs": [],
   "source": [
    "# raw_annotations = pd.read_csv(data_dir + 'full_updated_anns_annotTbl_cleaned.csv')\n",
    "# ids = list(np.unique(raw_annotations[raw_annotations['descriptions'].notnull()]['HUP_ID']))\n",
    "# # ids = list(np.unique(raw_annotations['HUP_ID']))\n",
    "#\n",
    "# data_import = data_utility.read_files(path=data_dir+'rns_data', path_data=data_dir+'rns_raw_cache', patientIDs=ids,\n",
    "#                                       verbose=True)  # Import data with annotation"
   ]
  },
  {
   "cell_type": "code",
   "execution_count": 9,
   "metadata": {
    "ExecuteTime": {
     "start_time": "2024-03-20T12:53:56.964834Z",
     "end_time": "2024-03-20T12:54:03.631867Z"
    }
   },
   "outputs": [
    {
     "name": "stderr",
     "output_type": "stream",
     "text": [
      "16it [00:06,  2.55it/s]"
     ]
    },
    {
     "name": "stdout",
     "output_type": "stream",
     "text": [
      "(992,)\n",
      "(992,)\n",
      "(270,)\n",
      "(270,)\n"
     ]
    },
    {
     "name": "stderr",
     "output_type": "stream",
     "text": [
      "\n"
     ]
    }
   ],
   "source": [
    "# data_list = os.listdir(data_dir+'rns_test_cache')\n",
    "# print(data_list)\n",
    "data_list = ['HUP047.npy', 'HUP084.npy', 'HUP096.npy', 'HUP109.npy', 'HUP121.npy', 'HUP129.npy', 'HUP131.npy',\n",
    "             'HUP137.npy', 'HUP147.npy', 'HUP156.npy', 'HUP159.npy', 'HUP182.npy', 'HUP197.npy', 'HUP199.npy',\n",
    "             'RNS026.npy', 'RNS029.npy']\n",
    "# data_list = os.listdir(data_dir+'rns_test_cache')[1:]\n",
    "\n",
    "# data_list = ['HUP182.npy',   'HUP129.npy',   'HUP109.npy', 'HUP156.npy', 'HUP096.npy', 'RNS026.npy',  'HUP159.npy']\n",
    "# data_list = ['RNS026.npy', 'HUP159.npy', 'HUP129.npy', 'HUP096.npy', 'HUP182.npy']\n",
    "train_data, train_label, test_data, test_label, train_index, test_index = get_data_by_episode(data_list, split=0.8)\n",
    "# data, label,_,_ = get_data(data_list, split=1)\n",
    "# train_data, test_data, train_label, test_label = sklearn.model_selection.train_test_split(data, label, test_size=0.8, random_state=42)\n",
    "\n",
    "print(train_data.shape)\n",
    "print(train_label.shape)\n",
    "print(test_data.shape)\n",
    "print(test_label.shape)"
   ]
  },
  {
   "cell_type": "code",
   "execution_count": 10,
   "metadata": {
    "ExecuteTime": {
     "start_time": "2024-03-20T12:54:03.633868Z",
     "end_time": "2024-03-20T12:54:05.233869Z"
    }
   },
   "outputs": [],
   "source": [
    "X_train = np.concatenate(train_data)\n",
    "y_train = np.concatenate(train_label)\n",
    "X_test = np.concatenate(test_data)\n",
    "y_test = np.concatenate(test_label)\n",
    "index_train = np.concatenate(train_index)\n",
    "index_test = np.concatenate(test_index)\n",
    "seq_len_train = np.array([y.shape[0] for y in train_label])\n",
    "seq_len_test = np.array([y.shape[0] for y in test_label])"
   ]
  },
  {
   "cell_type": "code",
   "execution_count": 11,
   "metadata": {
    "ExecuteTime": {
     "start_time": "2024-03-20T12:54:05.233869Z",
     "end_time": "2024-03-20T12:54:05.565869Z"
    }
   },
   "outputs": [
    {
     "name": "stdout",
     "output_type": "stream",
     "text": [
      "9\n",
      "19\n",
      "10\n"
     ]
    }
   ],
   "source": [
    "n_pool = len(train_data)\n",
    "n_test = len(test_data)\n",
    "\n",
    "NUM_INIT_LB = int(nStart * n_pool / 100)\n",
    "NUM_QUERY = int(nQuery * n_pool / 100) if nStart != 100 else 0\n",
    "NUM_ROUND = int((int(nEnd * n_pool / 100) - NUM_INIT_LB) / NUM_QUERY) if nStart != 100 else 0\n",
    "if NUM_QUERY != 0:\n",
    "    if (int(nEnd * n_pool / 100) - NUM_INIT_LB) % NUM_QUERY != 0:\n",
    "        NUM_ROUND += 1\n",
    "\n",
    "print(NUM_INIT_LB)\n",
    "print(NUM_QUERY)\n",
    "print(NUM_ROUND)"
   ]
  },
  {
   "cell_type": "code",
   "execution_count": 11,
   "metadata": {
    "ExecuteTime": {
     "start_time": "2024-03-20T12:54:05.566867Z",
     "end_time": "2024-03-20T12:54:05.581868Z"
    }
   },
   "outputs": [],
   "source": []
  },
  {
   "cell_type": "code",
   "execution_count": 12,
   "metadata": {
    "ExecuteTime": {
     "start_time": "2024-03-20T12:54:05.582867Z",
     "end_time": "2024-03-20T12:54:05.915866Z"
    }
   },
   "outputs": [],
   "source": [
    "dataset = Data(X_train, y_train, X_test, y_test, seq_len_train, seq_len_test, RNS_Active_by_episode_LSTM, args_task)"
   ]
  },
  {
   "cell_type": "code",
   "execution_count": 13,
   "metadata": {
    "ExecuteTime": {
     "start_time": "2024-03-20T12:54:05.917870Z",
     "end_time": "2024-03-20T12:54:06.990419Z"
    }
   },
   "outputs": [],
   "source": [
    "swav = SwaV().load_from_checkpoint(\n",
    "    ckpt_folder_root + 'rns_swav_50_12/rns_swav-epoch=82-swav_loss=2.58204.ckpt')\n",
    "model = SupervisedDownstream(swav.backbone)\n",
    "# initialize model and save the model state\n",
    "modelstate = deepcopy(model.state_dict())\n",
    "device = \"cuda\" if torch.cuda.is_available() else \"cpu\"\n",
    "\n",
    "net = Net(model, args_task, device, ckpt_folder_root='rns_active', log_folder_root='rns_active')"
   ]
  },
  {
   "cell_type": "code",
   "execution_count": 14,
   "metadata": {
    "ExecuteTime": {
     "start_time": "2024-03-20T12:54:06.991419Z",
     "end_time": "2024-03-20T12:54:07.353420Z"
    }
   },
   "outputs": [],
   "source": [
    "strategy = get_strategy(strategy_name, dataset, net, None, args_task, rns_data=True)"
   ]
  },
  {
   "cell_type": "code",
   "execution_count": 15,
   "metadata": {
    "ExecuteTime": {
     "start_time": "2024-03-20T12:54:07.354421Z",
     "end_time": "2024-03-20T12:54:07.688049Z"
    }
   },
   "outputs": [],
   "source": [
    "# initial round of training, round 0\n",
    "dataset.initialize_labels(NUM_INIT_LB)"
   ]
  },
  {
   "cell_type": "code",
   "execution_count": 16,
   "metadata": {
    "ExecuteTime": {
     "start_time": "2024-03-20T12:54:07.690051Z",
     "end_time": "2024-03-20T12:54:08.035047Z"
    }
   },
   "outputs": [],
   "source": [
    "ids,_ = dataset.get_labeled_data()\n",
    "\n",
    "selected_inds = {}\n",
    "selected_inds[0] = ids\n",
    "\n",
    "if not os.path.exists(log_folder_root + 'rns_active_selected/' + strategy_name):\n",
    "    os.makedirs(log_folder_root + 'rns_active_selected/' + strategy_name)\n",
    "\n",
    "# Serialize and save to a file\n",
    "with open(log_folder_root + 'rns_active_selected/' + strategy_name + '/' + 'selected_indices.pkl', 'wb') as f:\n",
    "    pickle.dump(selected_inds, f)"
   ]
  },
  {
   "cell_type": "code",
   "execution_count": 17,
   "metadata": {
    "ExecuteTime": {
     "start_time": "2024-03-20T12:54:08.035047Z",
     "end_time": "2024-03-20T12:55:23.161458Z"
    }
   },
   "outputs": [
    {
     "name": "stderr",
     "output_type": "stream",
     "text": [
      "Using 16bit native Automatic Mixed Precision (AMP)\n",
      "GPU available: True (cuda), used: True\n",
      "TPU available: False, using: 0 TPU cores\n",
      "IPU available: False, using: 0 IPUs\n",
      "HPU available: False, using: 0 HPUs\n",
      "LOCAL_RANK: 0 - CUDA_VISIBLE_DEVICES: [0]\n"
     ]
    },
    {
     "data": {
      "text/plain": "Sanity Checking: 0it [00:00, ?it/s]",
      "application/vnd.jupyter.widget-view+json": {
       "version_major": 2,
       "version_minor": 0,
       "model_id": "e2986aa58a3b427897405e573ec2988a"
      }
     },
     "metadata": {},
     "output_type": "display_data"
    },
    {
     "data": {
      "text/plain": "Training: 0it [00:00, ?it/s]",
      "application/vnd.jupyter.widget-view+json": {
       "version_major": 2,
       "version_minor": 0,
       "model_id": "8c4334ad3dfc4c9d9a36d001a740368b"
      }
     },
     "metadata": {},
     "output_type": "display_data"
    },
    {
     "data": {
      "text/plain": "Validation: 0it [00:00, ?it/s]",
      "application/vnd.jupyter.widget-view+json": {
       "version_major": 2,
       "version_minor": 0,
       "model_id": "dd674ee82e4b496587057351e77f2560"
      }
     },
     "metadata": {},
     "output_type": "display_data"
    },
    {
     "name": "stderr",
     "output_type": "stream",
     "text": [
      "`Trainer.fit` stopped: `max_epochs=10` reached.\n"
     ]
    }
   ],
   "source": [
    "strategy.train()"
   ]
  },
  {
   "cell_type": "code",
   "execution_count": null,
   "metadata": {
    "ExecuteTime": {
     "end_time": "2024-03-15T22:20:05.440450Z",
     "start_time": "2024-03-15T20:13:09.677329Z"
    }
   },
   "outputs": [
    {
     "name": "stderr",
     "output_type": "stream",
     "text": [
      "LOCAL_RANK: 0 - CUDA_VISIBLE_DEVICES: [0]\n"
     ]
    },
    {
     "name": "stdout",
     "output_type": "stream",
     "text": [
      "round 1\n",
      "1\n"
     ]
    },
    {
     "data": {
      "text/plain": "Predicting: 4it [00:00, ?it/s]",
      "application/vnd.jupyter.widget-view+json": {
       "version_major": 2,
       "version_minor": 0,
       "model_id": "61ecdad526f7427b86ea0be0a644719e"
      }
     },
     "metadata": {},
     "output_type": "display_data"
    },
    {
     "name": "stderr",
     "output_type": "stream",
     "text": [
      "LOCAL_RANK: 0 - CUDA_VISIBLE_DEVICES: [0]\n"
     ]
    },
    {
     "data": {
      "text/plain": "Predicting: 4it [00:00, ?it/s]",
      "application/vnd.jupyter.widget-view+json": {
       "version_major": 2,
       "version_minor": 0,
       "model_id": "a7d776eb8bbb437eb28d4b59c29a42e9"
      }
     },
     "metadata": {},
     "output_type": "display_data"
    },
    {
     "name": "stderr",
     "output_type": "stream",
     "text": [
      "LOCAL_RANK: 0 - CUDA_VISIBLE_DEVICES: [0]\n"
     ]
    },
    {
     "data": {
      "text/plain": "Predicting: 4it [00:00, ?it/s]",
      "application/vnd.jupyter.widget-view+json": {
       "version_major": 2,
       "version_minor": 0,
       "model_id": "fc08c3385513444692a0b80e866821e7"
      }
     },
     "metadata": {},
     "output_type": "display_data"
    },
    {
     "name": "stderr",
     "output_type": "stream",
     "text": [
      "LOCAL_RANK: 0 - CUDA_VISIBLE_DEVICES: [0]\n"
     ]
    },
    {
     "data": {
      "text/plain": "Predicting: 4it [00:00, ?it/s]",
      "application/vnd.jupyter.widget-view+json": {
       "version_major": 2,
       "version_minor": 0,
       "model_id": "863cf35a32174a469e60c454d506adda"
      }
     },
     "metadata": {},
     "output_type": "display_data"
    },
    {
     "name": "stderr",
     "output_type": "stream",
     "text": [
      "LOCAL_RANK: 0 - CUDA_VISIBLE_DEVICES: [0]\n"
     ]
    },
    {
     "data": {
      "text/plain": "Predicting: 4it [00:00, ?it/s]",
      "application/vnd.jupyter.widget-view+json": {
       "version_major": 2,
       "version_minor": 0,
       "model_id": "98b21f0ce7f04a6e82f6d87d4a733187"
      }
     },
     "metadata": {},
     "output_type": "display_data"
    },
    {
     "name": "stderr",
     "output_type": "stream",
     "text": [
      "LOCAL_RANK: 0 - CUDA_VISIBLE_DEVICES: [0]\n"
     ]
    },
    {
     "data": {
      "text/plain": "Predicting: 4it [00:00, ?it/s]",
      "application/vnd.jupyter.widget-view+json": {
       "version_major": 2,
       "version_minor": 0,
       "model_id": "afd694f2d4d7400fa7fc09bea48d5a1a"
      }
     },
     "metadata": {},
     "output_type": "display_data"
    },
    {
     "name": "stderr",
     "output_type": "stream",
     "text": [
      "LOCAL_RANK: 0 - CUDA_VISIBLE_DEVICES: [0]\n"
     ]
    },
    {
     "data": {
      "text/plain": "Predicting: 4it [00:00, ?it/s]",
      "application/vnd.jupyter.widget-view+json": {
       "version_major": 2,
       "version_minor": 0,
       "model_id": "70cf452f9dec4d32a1d56ad1dae3c43d"
      }
     },
     "metadata": {},
     "output_type": "display_data"
    },
    {
     "name": "stderr",
     "output_type": "stream",
     "text": [
      "LOCAL_RANK: 0 - CUDA_VISIBLE_DEVICES: [0]\n"
     ]
    },
    {
     "data": {
      "text/plain": "Predicting: 4it [00:00, ?it/s]",
      "application/vnd.jupyter.widget-view+json": {
       "version_major": 2,
       "version_minor": 0,
       "model_id": "d8313935b0134f2aad97aeb161f169ad"
      }
     },
     "metadata": {},
     "output_type": "display_data"
    },
    {
     "name": "stderr",
     "output_type": "stream",
     "text": [
      "LOCAL_RANK: 0 - CUDA_VISIBLE_DEVICES: [0]\n"
     ]
    },
    {
     "data": {
      "text/plain": "Predicting: 4it [00:00, ?it/s]",
      "application/vnd.jupyter.widget-view+json": {
       "version_major": 2,
       "version_minor": 0,
       "model_id": "d96b802848a642828485472cf599f511"
      }
     },
     "metadata": {},
     "output_type": "display_data"
    },
    {
     "name": "stderr",
     "output_type": "stream",
     "text": [
      "LOCAL_RANK: 0 - CUDA_VISIBLE_DEVICES: [0]\n"
     ]
    },
    {
     "data": {
      "text/plain": "Predicting: 4it [00:00, ?it/s]",
      "application/vnd.jupyter.widget-view+json": {
       "version_major": 2,
       "version_minor": 0,
       "model_id": "aa36e6af1bd54cdb9012a345e57e161d"
      }
     },
     "metadata": {},
     "output_type": "display_data"
    },
    {
     "name": "stdout",
     "output_type": "stream",
     "text": [
      "total_select_from 83349.0\n",
      "selected 1780.0 0.97\n"
     ]
    },
    {
     "name": "stderr",
     "output_type": "stream",
     "text": [
      "Using 16bit native Automatic Mixed Precision (AMP)\n",
      "GPU available: True (cuda), used: True\n",
      "TPU available: False, using: 0 TPU cores\n",
      "IPU available: False, using: 0 IPUs\n",
      "HPU available: False, using: 0 HPUs\n",
      "LOCAL_RANK: 0 - CUDA_VISIBLE_DEVICES: [0]\n"
     ]
    },
    {
     "data": {
      "text/plain": "Sanity Checking: 0it [00:00, ?it/s]",
      "application/vnd.jupyter.widget-view+json": {
       "version_major": 2,
       "version_minor": 0,
       "model_id": "14013a8e90134f90aa7879e0688a7542"
      }
     },
     "metadata": {},
     "output_type": "display_data"
    },
    {
     "data": {
      "text/plain": "Training: 0it [00:00, ?it/s]",
      "application/vnd.jupyter.widget-view+json": {
       "version_major": 2,
       "version_minor": 0,
       "model_id": "177a56ddb4bb4d94b4bdf87d86678fe9"
      }
     },
     "metadata": {},
     "output_type": "display_data"
    }
   ],
   "source": [
    "\n",
    "for rd in range(1, NUM_ROUND + 1):\n",
    "    print('round ' + str(rd))\n",
    "    log_file_name = log_folder_root + 'rns_active/active_logs_' + strategy_name + '/logger_round_' + str(\n",
    "        rd - 1) + '/version_0/metrics.csv'\n",
    "    logs = pd.read_csv(log_file_name)\n",
    "    max_ind = logs['val_acc'].argmax()\n",
    "    max_row = logs.iloc[max_ind]\n",
    "    ckpt_directory = ckpt_folder_root + 'rns_active/active_checkpoints_' + strategy_name\n",
    "    ckpt_files = os.listdir(ckpt_directory)\n",
    "    load_file_name = strategy_name + '_round_' + str(rd - 1) + '-epoch=' + str(int(max_row['epoch'])).zfill(2)\n",
    "\n",
    "    ind = next((i for i, s in enumerate(ckpt_files) if load_file_name in s), None)\n",
    "    print(ind, ckpt_files[ind])\n",
    "    strategy.net.net.load_from_checkpoint(ckpt_directory + '/' + ckpt_files[ind], backbone=swav.backbone)\n",
    "\n",
    "    q_idxs = strategy.query(NUM_QUERY * 90)\n",
    "\n",
    "    with open(log_folder_root + 'rns_active_selected/' + strategy_name + '/' + 'selected_indices.pkl', 'rb') as f:\n",
    "    # Load the content of the file into a Python object\n",
    "        selected_inds = pickle.load(f)\n",
    "    selected_inds[rd] = q_idxs\n",
    "    with open(log_folder_root + 'rns_active_selected/' + strategy_name + '/' + 'selected_indices.pkl', 'wb') as f:\n",
    "        pickle.dump(selected_inds, f)\n",
    "# Now you can use the dictionary object as usual\n",
    "    strategy.update(q_idxs)\n",
    "    strategy.net.round = rd\n",
    "    strategy.net.net.load_state_dict(modelstate)\n",
    "    strategy.train()"
   ]
  },
  {
   "cell_type": "code",
   "execution_count": null,
   "outputs": [],
   "source": [],
   "metadata": {
    "collapsed": false
   }
  }
 ],
 "metadata": {
  "kernelspec": {
   "display_name": "Python 3 (ipykernel)",
   "language": "python",
   "name": "python3"
  },
  "language_info": {
   "codemirror_mode": {
    "name": "ipython",
    "version": 3
   },
   "file_extension": ".py",
   "mimetype": "text/x-python",
   "name": "python",
   "nbconvert_exporter": "python",
   "pygments_lexer": "ipython3",
   "version": "3.10.5"
  }
 },
 "nbformat": 4,
 "nbformat_minor": 1
}
