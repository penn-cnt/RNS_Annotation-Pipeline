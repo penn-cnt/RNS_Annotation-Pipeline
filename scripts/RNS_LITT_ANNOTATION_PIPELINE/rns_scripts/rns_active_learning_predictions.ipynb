{
 "cells": [
  {
   "cell_type": "code",
   "execution_count": 1,
   "metadata": {
    "ExecuteTime": {
     "end_time": "2024-04-19T03:45:32.722894Z",
     "start_time": "2024-04-19T03:45:32.618894Z"
    }
   },
   "outputs": [],
   "source": [
    "%load_ext autoreload\n",
    "%autoreload 2"
   ]
  },
  {
   "cell_type": "code",
   "execution_count": 2,
   "metadata": {
    "ExecuteTime": {
     "end_time": "2024-04-19T03:45:38.931621Z",
     "start_time": "2024-04-19T03:45:32.724895Z"
    }
   },
   "outputs": [],
   "source": [
    "import numpy as np\n",
    "import random\n",
    "import sys\n",
    "\n",
    "sys.path.append('../tools')\n",
    "\n",
    "import os\n",
    "\n",
    "import torch\n",
    "\n",
    "import pandas as pd\n",
    "from sklearn.model_selection import train_test_split\n",
    "import pytorch_lightning as pl\n",
    "import pytorch_lightning.loggers as pl_loggers\n",
    "import pytorch_lightning.callbacks as pl_callbacks\n",
    "import data_utility, annotation_utility\n",
    "from models.rns_dataloader import *\n",
    "from active_learning_utility import get_strategy\n",
    "from active_learning_data import Data\n",
    "from active_learning_net import Net\n",
    "import interrater_annotations.tools\n",
    "from copy import deepcopy\n",
    "from models.SwaV import SwaV\n",
    "from models.LSTMDownStream import SupervisedDownstream\n",
    "import warnings\n",
    "import pickle\n",
    "warnings.filterwarnings(\"ignore\")\n"
   ]
  },
  {
   "cell_type": "code",
   "execution_count": 3,
   "metadata": {
    "ExecuteTime": {
     "end_time": "2024-04-19T03:45:39.351651Z",
     "start_time": "2024-04-19T03:45:38.933618Z"
    }
   },
   "outputs": [
    {
     "name": "stderr",
     "output_type": "stream",
     "text": [
      "Global seed set to 42\n"
     ]
    },
    {
     "data": {
      "text/plain": "42"
     },
     "execution_count": 3,
     "metadata": {},
     "output_type": "execute_result"
    }
   ],
   "source": [
    "random_seed = 42\n",
    "random.seed(random_seed)\n",
    "torch.manual_seed(random_seed)\n",
    "np.random.seed(random_seed)\n",
    "\n",
    "if torch.cuda.is_available():\n",
    "    torch.cuda.manual_seed(random_seed)\n",
    "    # True ensures the algorithm selected by CUFA is deterministic\n",
    "    torch.backends.cudnn.deterministic = True\n",
    "    # torch.set_deterministic(True)\n",
    "    # False ensures CUDA select the same algorithm each time the application is run\n",
    "    torch.backends.cudnn.benchmark = False\n",
    "\n",
    "import pytorch_lightning\n",
    "\n",
    "pytorch_lightning.utilities.seed.seed_everything(seed=random_seed, workers=True)"
   ]
  },
  {
   "cell_type": "code",
   "execution_count": 4,
   "metadata": {
    "ExecuteTime": {
     "end_time": "2024-04-19T03:45:39.754914Z",
     "start_time": "2024-04-19T03:45:39.352651Z"
    }
   },
   "outputs": [],
   "source": [
    "data_dir = \"../../../user_data/\"\n",
    "log_folder_root = '../../../user_data/logs/'\n",
    "ckpt_folder_root = '../../../user_data/checkpoints/'"
   ]
  },
  {
   "cell_type": "code",
   "execution_count": 6,
   "outputs": [
    {
     "data": {
      "text/plain": "['HUP096',\n 'HUP137',\n 'HUP153',\n 'HUP108',\n 'HUP136',\n 'HUP127',\n 'HUP128',\n 'HUP143',\n 'HUP059',\n 'HUP047',\n 'HUP159',\n 'HUP121',\n 'HUP147',\n 'HUP131',\n 'HUP084',\n 'RNS021',\n 'HUP156',\n 'HUP109',\n 'HUP101',\n 'RNS022',\n 'HUP182',\n 'HUP205',\n 'RNS026',\n 'HUP197']"
     },
     "execution_count": 6,
     "metadata": {},
     "output_type": "execute_result"
    }
   ],
   "source": [
    "raw_annotations = pd.read_csv('interrater_annotations/full_updated_anns (1).csv')\n",
    "ids = list(raw_annotations['HUP_ID'].unique())\n",
    "ids[:-1]"
   ],
   "metadata": {
    "collapsed": false,
    "ExecuteTime": {
     "start_time": "2024-04-17T18:14:48.502536Z",
     "end_time": "2024-04-17T18:14:48.881536Z"
    }
   }
  },
  {
   "cell_type": "code",
   "execution_count": 7,
   "outputs": [
    {
     "name": "stderr",
     "output_type": "stream",
     "text": [
      "100%|██████████| 25/25 [00:41<00:00,  1.67s/it]\n"
     ]
    }
   ],
   "source": [
    "from interrater_annotations.tools import data_utility\n",
    "data_import = data_utility.read_files(path=data_dir + 'rns_data', patientIDs=ids,\n",
    "                                      verbose=True)  # Import data with annotation"
   ],
   "metadata": {
    "collapsed": false,
    "ExecuteTime": {
     "start_time": "2024-04-17T18:14:48.883537Z",
     "end_time": "2024-04-17T18:15:31.153537Z"
    }
   }
  },
  {
   "cell_type": "code",
   "execution_count": 8,
   "outputs": [
    {
     "name": "stdout",
     "output_type": "stream",
     "text": [
      "42\n",
      "42\n",
      "42\n",
      "43\n",
      "43\n",
      "43\n",
      "41\n",
      "41\n",
      "41\n",
      "41\n",
      "41\n",
      "41\n",
      "41\n",
      "41\n",
      "41\n",
      "41\n",
      "41\n",
      "41\n",
      "41\n",
      "41\n",
      "41\n",
      "48\n",
      "48\n",
      "48\n",
      "41\n",
      "41\n",
      "41\n",
      "42\n",
      "42\n",
      "42\n",
      "41\n",
      "41\n",
      "41\n",
      "41\n",
      "41\n",
      "41\n",
      "42\n",
      "42\n",
      "42\n",
      "41\n",
      "41\n",
      "41\n"
     ]
    }
   ],
   "source": [
    "from interrater_annotations.tools import annotation_utility\n",
    "annotations = annotation_utility.read_annotation(annotation_path = 'interrater_annotations/all_updated_anns.csv', annotation_catalog_path='interrater_annotations/test_datasets.csv', data = data_import)"
   ],
   "metadata": {
    "collapsed": false,
    "ExecuteTime": {
     "start_time": "2024-04-17T18:15:31.124537Z",
     "end_time": "2024-04-17T18:15:32.641536Z"
    }
   }
  },
  {
   "cell_type": "code",
   "execution_count": 7,
   "outputs": [
    {
     "data": {
      "text/plain": "                         Dataset  Annotation_Catalog_Index Patient_ID          Alias_ID  Episode_Start_Timestamp  Episode_End_Timestamp  Episode_Start_UTC_Time    Episode_End_UTC_Time  Episode_Index  Episode_Start_Index  Episode_End_Index Annotation_Start_Timestamp Annotation_End_Timestamp     Annotation_Start_UTC_Time       Annotation_End_UTC_Time Annotation_Start_Index Annotation_End_Index Type_Description  Class_Code Annotation_Channel Channel_Code Binary_Channel_Code\n59   RNS_Test_Dataset_ErinConrad                        59     HUP096  RNS_Example_1_EC         1427742903476000       1427742993628000 2015-03-30 19:15:03.476 2015-03-30 19:16:33.628             10               250781             273318                         []                       []                            []                            []                     []                   []               No           0                 []           []                  []\n60   RNS_Test_Dataset_ErinConrad                        60     HUP096  RNS_Example_1_EC         1442176442532000       1442176532616000 2015-09-13 20:34:02.532 2015-09-13 20:35:32.616            508             11181530           11204050         [1442176484602143]       [1442176503681280]  [2015-09-13 20:34:44.602143]  [2015-09-13 20:35:03.681280]             [11192047]           [11196817]              Yes           1          [1,2,3,4]       [1111]              [1111]\n61   RNS_Test_Dataset_ErinConrad                        61     HUP096  RNS_Example_1_EC         1446212334040000       1446212424128000 2015-10-30 13:38:54.040 2015-10-30 13:40:24.128            629             13870413           13892934         [1446212375851151]       [1446212394966259]  [2015-10-30 13:39:35.851151]  [2015-10-30 13:39:54.966259]             [13880865]           [13885644]              Yes           1          [1,2,3,4]       [1111]              [1111]\n62   RNS_Test_Dataset_ErinConrad                        62     HUP096  RNS_Example_1_EC         1449366435524000       1449366525608000 2015-12-06 01:47:15.524 2015-12-06 01:48:45.608            721             15909503           15932023         [1449366477065366]       [1449366499097740]  [2015-12-06 01:47:57.065366]  [2015-12-06 01:48:19.097740]             [15919888]           [15925396]              Yes           1          [1,2,3,4]       [1111]              [1111]\n63   RNS_Test_Dataset_ErinConrad                        63     HUP096  RNS_Example_1_EC         1449934755536000       1449934845628000 2015-12-12 15:39:15.536 2015-12-12 15:40:45.628            743             16390505           16413027         [1449934797422690]       [1449934815379524]  [2015-12-12 15:39:57.422690]  [2015-12-12 15:40:15.379524]             [16400976]           [16405465]              Yes           1          [1,2,3,4]       [1111]              [1111]\n64   RNS_Test_Dataset_ErinConrad                        64     HUP096  RNS_Example_1_EC         1455641459024000       1455641549116000 2016-02-16 16:50:59.024 2016-02-16 16:52:29.116            916             20226279           20248801         [1455641500632209]       [1455641524046388]  [2016-02-16 16:51:40.632209]  [2016-02-16 16:52:04.046388]             [20236681]           [20242534]              Yes           1          [1,2,3,4]       [1111]              [1111]\n65   RNS_Test_Dataset_ErinConrad                        65     HUP096  RNS_Example_1_EC         1455731984528000       1455732074628000 2016-02-17 17:59:44.528 2016-02-17 18:01:14.628            921             20338919           20361443         [1455732026202876]       [1455732043242286]  [2016-02-17 18:00:26.202876]  [2016-02-17 18:00:43.242286]             [20349337]           [20353597]              Yes           1          [1,2,3,4]       [1111]              [1111]\n66   RNS_Test_Dataset_ErinConrad                        66     HUP096  RNS_Example_1_EC         1461799060532000       1461799150616000 2016-04-27 23:17:40.532 2016-04-27 23:19:10.616           1105             24450741           24473261         [1461799101866975]       [1461799126694561]  [2016-04-27 23:18:21.866975]  [2016-04-27 23:18:46.694561]             [24461074]           [24467281]              Yes           1          [1,2,3,4]       [1111]              [1111]\n67   RNS_Test_Dataset_ErinConrad                        67     HUP096  RNS_Example_1_EC         1467873560512000       1467873650608000 2016-07-07 06:39:20.512 2016-07-07 06:40:50.608           1290             28581909           28604432                         []                       []                            []                            []                     []                   []               No           0                 []           []                  []\n68   RNS_Test_Dataset_ErinConrad                        68     HUP096  RNS_Example_1_EC         1469814899464000       1469814989632000 2016-07-29 17:54:59.464 2016-07-29 17:56:29.632           1350             29921013           29943554                         []                       []                            []                            []                     []                   []               No           0                 []           []                  []\n69   RNS_Test_Dataset_ErinConrad                        69     HUP096  RNS_Example_1_EC         1471934916516000       1471935006616000 2016-08-23 06:48:36.516 2016-08-23 06:50:06.616           1417             31428937           31451461                         []                       []                            []                            []                     []                   []               No           0                 []           []                  []\n74   RNS_Test_Dataset_ErinConrad                        74     HUP096  RNS_Example_1_EC         1514141698976000       1514141789132000 2017-12-24 18:54:58.976 2017-12-24 18:56:29.132           2688             59920193           59942731                         []                       []                            []                            []                     []                   []               No           0                 []           []                  []\n84   RNS_Test_Dataset_ErinConrad                        84     HUP137  RNS_Example_2_EC         1506762815028000       1506762905124000 2017-09-30 09:13:35.028 2017-09-30 09:15:05.124            313              6871039            6893562                         []                       []                            []                            []                     []                   []               No           0                 []           []                  []\n85   RNS_Test_Dataset_ErinConrad                        85     HUP137  RNS_Example_2_EC         1510786676536000       1510786766592000 2017-11-15 22:57:56.536 2017-11-15 22:59:26.592            495             10803234           10825747                         []                       []                            []                            []                     []                   []               No           0                 []           []                  []\n86   RNS_Test_Dataset_ErinConrad                        86     HUP137  RNS_Example_2_EC         1511285530464000       1511285620632000 2017-11-21 17:32:10.464 2017-11-21 17:33:40.632            519             11343591           11366132                         []                       []                            []                            []                     []                   []               No           0                 []           []                  []\n87   RNS_Test_Dataset_ErinConrad                        87     HUP137  RNS_Example_2_EC         1514317973536000       1514318063628000 2017-12-26 19:52:53.536 2017-12-26 19:54:23.628            635             13886370           13908892         [1514317984073769]       [1514318034188877]  [2017-12-26 19:53:04.073769]  [2017-12-26 19:53:54.188877]             [13889004]           [13901533]              Yes           1              [1,2]       [1100]              [1100]\n88   RNS_Test_Dataset_ErinConrad                        88     HUP137  RNS_Example_2_EC         1538774534552000       1538774624608000 2018-10-05 21:22:14.552 2018-10-05 21:23:44.608           1650             36328794           36351307         [1538774563992886]       [1538774614032295]  [2018-10-05 21:22:43.992886]  [2018-10-05 21:23:34.032295]             [36336154]           [36348663]              Yes           1              [1,2]       [1100]              [1100]\n89   RNS_Test_Dataset_ErinConrad                        89     HUP137  RNS_Example_2_EC         1540664243012000       1540664333128000 2018-10-27 18:17:23.012 2018-10-27 18:18:53.128           1736             38266084           38288612         [1540664259264747]       [1540664312187824]  [2018-10-27 18:17:39.264747]  [2018-10-27 18:18:32.187824]             [38270147]           [38283377]              Yes           1              [1,2]       [1100]              [1100]\n90   RNS_Test_Dataset_ErinConrad                        90     HUP137  RNS_Example_2_EC         1545256591536000       1545256681576000 2018-12-19 21:56:31.536 2018-12-19 21:58:01.576           1894             41800649           41823158         [1545256619953582]       [1545256681576000]  [2018-12-19 21:56:59.953582]  [2018-12-19 21:58:01.576000]             [41807753]           [41823158]              Yes           1              [1,2]       [1100]              [1100]\n91   RNS_Test_Dataset_ErinConrad                        91     HUP137  RNS_Example_2_EC         1548005703468000       1548005793620000 2019-01-20 17:35:03.468 2019-01-20 17:36:33.620           1983             43788510           43811047                         []                       []                            []                            []                     []                   []               No           0                 []           []                  []\n92   RNS_Test_Dataset_ErinConrad                        92     HUP137  RNS_Example_2_EC         1550084226464000       1550084316632000 2019-02-13 18:57:06.464 2019-02-13 18:58:36.632           2054             45386761           45409302                         []                       []                            []                            []                     []                   []               No           0                 []           []                  []\n93   RNS_Test_Dataset_ErinConrad                        93     HUP137  RNS_Example_2_EC         1551022375524000       1551022465604000 2019-02-24 15:32:55.524 2019-02-24 15:34:25.604           2092             46178484           46201003                         []                       []                            []                            []                     []                   []               No           0                 []           []                  []\n94   RNS_Test_Dataset_ErinConrad                        94     HUP137  RNS_Example_2_EC         1575076915548000       1575077005584000 2019-11-30 01:21:55.548 2019-11-30 01:23:25.584           2796             61708056           61730564                         []                       []                            []                            []                     []                   []               No           0                 []           []                  []\n95   RNS_Test_Dataset_ErinConrad                        95     HUP137  RNS_Example_2_EC         1575695310964000       1575695401132000 2019-12-07 05:08:30.964 2019-12-07 05:10:01.132           2815             62136035           62158576                         []                       []                            []                            []                     []                   []               No           0                 []           []                  []\n96   RNS_Test_Dataset_ErinConrad                        96     HUP137  RNS_Example_2_EC         1576482194012000       1576482284128000 2019-12-16 07:43:14.012 2019-12-16 07:44:44.128           2841             62701470           62723998                         []                       []                            []                            []                     []                   []               No           0                 []           []                  []\n101  RNS_Test_Dataset_ErinConrad                       101     HUP101  RNS_Example_3_EC         1549432955964000       1549433046132000 2019-02-06 06:02:35.964 2019-02-06 06:04:06.132              0                    0              22541                         []                       []                            []                            []                     []                   []               No           0                 []           []                  []\n102  RNS_Test_Dataset_ErinConrad                       102     HUP101  RNS_Example_3_EC         1549476153964000       1549476244132000 2019-02-06 18:02:33.964 2019-02-06 18:04:04.132              1                22542              45083                         []                       []                            []                            []                     []                   []               No           0                 []           []                  []\n103  RNS_Test_Dataset_ErinConrad                       103     HUP101  RNS_Example_3_EC         1557816572492000       1557816662628000 2019-05-14 06:49:32.492 2019-05-14 06:51:02.628             23               500049             522582                         []                       []                            []                            []                     []                   []               No           0                 []           []                  []\n104  RNS_Test_Dataset_ErinConrad                       104     HUP101  RNS_Example_3_EC         1558896166964000       1558896257132000 2019-05-26 18:42:46.964 2019-05-26 18:44:17.132             24               522583             545124                         []                       []                            []                            []                     []                   []               No           0                 []           []                  []\n105  RNS_Test_Dataset_ErinConrad                       105     HUP101  RNS_Example_3_EC         1566444327500000       1566444417604000 2019-08-22 03:25:27.500 2019-08-22 03:26:57.604             36               793035             815560         [1566444371437050]       [1566444404199639]  [2019-08-22 03:26:11.437050]  [2019-08-22 03:26:44.199639]               [804019]             [812209]              Yes           1                [2]       [0100]              [0100]\n106  RNS_Test_Dataset_ErinConrad                       106     HUP101  RNS_Example_3_EC         1569306266964000       1569306357132000 2019-09-24 06:24:26.964 2019-09-24 06:25:57.132             42               928247             950788                         []                       []                            []                            []                     []                   []               No           0                 []           []                  []\n107  RNS_Test_Dataset_ErinConrad                       107     HUP101  RNS_Example_3_EC         1596048628268000       1596048718344000 2020-07-29 18:50:28.268 2020-07-29 18:51:58.344            101              2173687            2196205         [1596048672509758]       [1596048718344000]  [2020-07-29 18:51:12.509758]  [2020-07-29 18:51:58.344000]              [2184747]            [2196205]              Yes           1              [1,2]       [1100]              [1100]\n108  RNS_Test_Dataset_ErinConrad                       108     HUP101  RNS_Example_3_EC         1602266102076000       1602266172496000 2020-10-09 17:55:02.076 2020-10-09 17:56:12.496            106              2254561            2272165         [1602266127097977]       [1602266164592482]  [2020-10-09 17:55:27.097977]  [2020-10-09 17:56:04.592482]              [2260816]            [2270189]              Yes           1              [1,2]       [1100]              [1100]\n109  RNS_Test_Dataset_ErinConrad                       109     HUP101  RNS_Example_3_EC         1606480477577000       1606480567601000 2020-11-27 12:34:37.577 2020-11-27 12:36:07.601            131              2805593            2828098                         []                       []                            []                            []                     []                   []               No           0                 []           []                  []\n110  RNS_Test_Dataset_ErinConrad                       110     HUP101  RNS_Example_3_EC         1609936365801000       1609936455817000 2021-01-06 12:32:45.801 2021-01-06 12:34:15.817            138              2963201            2985704                         []                       []                            []                            []                     []                   []               No           0                 []           []                  []\n111  RNS_Test_Dataset_ErinConrad                       111     HUP101  RNS_Example_3_EC         1611139386309000       1611139476377000 2021-01-20 10:43:06.309 2021-01-20 10:44:36.377            149              3167403            3189919         [1611139430006802]       [1611139444330977]  [2021-01-20 10:43:50.006802]  [2021-01-20 10:44:04.330977]              [3178327]            [3181908]              Yes           1                [2]       [0100]              [0100]\n112  RNS_Test_Dataset_ErinConrad                       112     HUP101  RNS_Example_3_EC         1612974943914000       1612975033986000 2021-02-10 16:35:43.914 2021-02-10 16:37:13.986            157              3345239            3367751                         []                       []                            []                            []                     []                   []               No           0                 []           []                  []\n113  RNS_Test_Dataset_ErinConrad                       113     HUP101  RNS_Example_3_EC         1617120308566000       1617120344050000 2021-03-30 16:05:08.566 2021-03-30 16:05:44.050            165              3498450            3507314                         []                       []                            []                            []                     []                   []               No           0                 []           []                  []\n114  RNS_Test_Dataset_ErinConrad                       114     HUP101  RNS_Example_3_EC         1617120625925000       1617120692813000 2021-03-30 16:10:25.925 2021-03-30 16:11:32.813            167              3518801            3535517                         []                       []                            []                            []                     []                   []               No           0                 []           []                  []",
      "text/html": "<div>\n<style scoped>\n    .dataframe tbody tr th:only-of-type {\n        vertical-align: middle;\n    }\n\n    .dataframe tbody tr th {\n        vertical-align: top;\n    }\n\n    .dataframe thead th {\n        text-align: right;\n    }\n</style>\n<table border=\"1\" class=\"dataframe\">\n  <thead>\n    <tr style=\"text-align: right;\">\n      <th></th>\n      <th>Dataset</th>\n      <th>Annotation_Catalog_Index</th>\n      <th>Patient_ID</th>\n      <th>Alias_ID</th>\n      <th>Episode_Start_Timestamp</th>\n      <th>Episode_End_Timestamp</th>\n      <th>Episode_Start_UTC_Time</th>\n      <th>Episode_End_UTC_Time</th>\n      <th>Episode_Index</th>\n      <th>Episode_Start_Index</th>\n      <th>Episode_End_Index</th>\n      <th>Annotation_Start_Timestamp</th>\n      <th>Annotation_End_Timestamp</th>\n      <th>Annotation_Start_UTC_Time</th>\n      <th>Annotation_End_UTC_Time</th>\n      <th>Annotation_Start_Index</th>\n      <th>Annotation_End_Index</th>\n      <th>Type_Description</th>\n      <th>Class_Code</th>\n      <th>Annotation_Channel</th>\n      <th>Channel_Code</th>\n      <th>Binary_Channel_Code</th>\n    </tr>\n  </thead>\n  <tbody>\n    <tr>\n      <th>59</th>\n      <td>RNS_Test_Dataset_ErinConrad</td>\n      <td>59</td>\n      <td>HUP096</td>\n      <td>RNS_Example_1_EC</td>\n      <td>1427742903476000</td>\n      <td>1427742993628000</td>\n      <td>2015-03-30 19:15:03.476</td>\n      <td>2015-03-30 19:16:33.628</td>\n      <td>10</td>\n      <td>250781</td>\n      <td>273318</td>\n      <td>[]</td>\n      <td>[]</td>\n      <td>[]</td>\n      <td>[]</td>\n      <td>[]</td>\n      <td>[]</td>\n      <td>No</td>\n      <td>0</td>\n      <td>[]</td>\n      <td>[]</td>\n      <td>[]</td>\n    </tr>\n    <tr>\n      <th>60</th>\n      <td>RNS_Test_Dataset_ErinConrad</td>\n      <td>60</td>\n      <td>HUP096</td>\n      <td>RNS_Example_1_EC</td>\n      <td>1442176442532000</td>\n      <td>1442176532616000</td>\n      <td>2015-09-13 20:34:02.532</td>\n      <td>2015-09-13 20:35:32.616</td>\n      <td>508</td>\n      <td>11181530</td>\n      <td>11204050</td>\n      <td>[1442176484602143]</td>\n      <td>[1442176503681280]</td>\n      <td>[2015-09-13 20:34:44.602143]</td>\n      <td>[2015-09-13 20:35:03.681280]</td>\n      <td>[11192047]</td>\n      <td>[11196817]</td>\n      <td>Yes</td>\n      <td>1</td>\n      <td>[1,2,3,4]</td>\n      <td>[1111]</td>\n      <td>[1111]</td>\n    </tr>\n    <tr>\n      <th>61</th>\n      <td>RNS_Test_Dataset_ErinConrad</td>\n      <td>61</td>\n      <td>HUP096</td>\n      <td>RNS_Example_1_EC</td>\n      <td>1446212334040000</td>\n      <td>1446212424128000</td>\n      <td>2015-10-30 13:38:54.040</td>\n      <td>2015-10-30 13:40:24.128</td>\n      <td>629</td>\n      <td>13870413</td>\n      <td>13892934</td>\n      <td>[1446212375851151]</td>\n      <td>[1446212394966259]</td>\n      <td>[2015-10-30 13:39:35.851151]</td>\n      <td>[2015-10-30 13:39:54.966259]</td>\n      <td>[13880865]</td>\n      <td>[13885644]</td>\n      <td>Yes</td>\n      <td>1</td>\n      <td>[1,2,3,4]</td>\n      <td>[1111]</td>\n      <td>[1111]</td>\n    </tr>\n    <tr>\n      <th>62</th>\n      <td>RNS_Test_Dataset_ErinConrad</td>\n      <td>62</td>\n      <td>HUP096</td>\n      <td>RNS_Example_1_EC</td>\n      <td>1449366435524000</td>\n      <td>1449366525608000</td>\n      <td>2015-12-06 01:47:15.524</td>\n      <td>2015-12-06 01:48:45.608</td>\n      <td>721</td>\n      <td>15909503</td>\n      <td>15932023</td>\n      <td>[1449366477065366]</td>\n      <td>[1449366499097740]</td>\n      <td>[2015-12-06 01:47:57.065366]</td>\n      <td>[2015-12-06 01:48:19.097740]</td>\n      <td>[15919888]</td>\n      <td>[15925396]</td>\n      <td>Yes</td>\n      <td>1</td>\n      <td>[1,2,3,4]</td>\n      <td>[1111]</td>\n      <td>[1111]</td>\n    </tr>\n    <tr>\n      <th>63</th>\n      <td>RNS_Test_Dataset_ErinConrad</td>\n      <td>63</td>\n      <td>HUP096</td>\n      <td>RNS_Example_1_EC</td>\n      <td>1449934755536000</td>\n      <td>1449934845628000</td>\n      <td>2015-12-12 15:39:15.536</td>\n      <td>2015-12-12 15:40:45.628</td>\n      <td>743</td>\n      <td>16390505</td>\n      <td>16413027</td>\n      <td>[1449934797422690]</td>\n      <td>[1449934815379524]</td>\n      <td>[2015-12-12 15:39:57.422690]</td>\n      <td>[2015-12-12 15:40:15.379524]</td>\n      <td>[16400976]</td>\n      <td>[16405465]</td>\n      <td>Yes</td>\n      <td>1</td>\n      <td>[1,2,3,4]</td>\n      <td>[1111]</td>\n      <td>[1111]</td>\n    </tr>\n    <tr>\n      <th>64</th>\n      <td>RNS_Test_Dataset_ErinConrad</td>\n      <td>64</td>\n      <td>HUP096</td>\n      <td>RNS_Example_1_EC</td>\n      <td>1455641459024000</td>\n      <td>1455641549116000</td>\n      <td>2016-02-16 16:50:59.024</td>\n      <td>2016-02-16 16:52:29.116</td>\n      <td>916</td>\n      <td>20226279</td>\n      <td>20248801</td>\n      <td>[1455641500632209]</td>\n      <td>[1455641524046388]</td>\n      <td>[2016-02-16 16:51:40.632209]</td>\n      <td>[2016-02-16 16:52:04.046388]</td>\n      <td>[20236681]</td>\n      <td>[20242534]</td>\n      <td>Yes</td>\n      <td>1</td>\n      <td>[1,2,3,4]</td>\n      <td>[1111]</td>\n      <td>[1111]</td>\n    </tr>\n    <tr>\n      <th>65</th>\n      <td>RNS_Test_Dataset_ErinConrad</td>\n      <td>65</td>\n      <td>HUP096</td>\n      <td>RNS_Example_1_EC</td>\n      <td>1455731984528000</td>\n      <td>1455732074628000</td>\n      <td>2016-02-17 17:59:44.528</td>\n      <td>2016-02-17 18:01:14.628</td>\n      <td>921</td>\n      <td>20338919</td>\n      <td>20361443</td>\n      <td>[1455732026202876]</td>\n      <td>[1455732043242286]</td>\n      <td>[2016-02-17 18:00:26.202876]</td>\n      <td>[2016-02-17 18:00:43.242286]</td>\n      <td>[20349337]</td>\n      <td>[20353597]</td>\n      <td>Yes</td>\n      <td>1</td>\n      <td>[1,2,3,4]</td>\n      <td>[1111]</td>\n      <td>[1111]</td>\n    </tr>\n    <tr>\n      <th>66</th>\n      <td>RNS_Test_Dataset_ErinConrad</td>\n      <td>66</td>\n      <td>HUP096</td>\n      <td>RNS_Example_1_EC</td>\n      <td>1461799060532000</td>\n      <td>1461799150616000</td>\n      <td>2016-04-27 23:17:40.532</td>\n      <td>2016-04-27 23:19:10.616</td>\n      <td>1105</td>\n      <td>24450741</td>\n      <td>24473261</td>\n      <td>[1461799101866975]</td>\n      <td>[1461799126694561]</td>\n      <td>[2016-04-27 23:18:21.866975]</td>\n      <td>[2016-04-27 23:18:46.694561]</td>\n      <td>[24461074]</td>\n      <td>[24467281]</td>\n      <td>Yes</td>\n      <td>1</td>\n      <td>[1,2,3,4]</td>\n      <td>[1111]</td>\n      <td>[1111]</td>\n    </tr>\n    <tr>\n      <th>67</th>\n      <td>RNS_Test_Dataset_ErinConrad</td>\n      <td>67</td>\n      <td>HUP096</td>\n      <td>RNS_Example_1_EC</td>\n      <td>1467873560512000</td>\n      <td>1467873650608000</td>\n      <td>2016-07-07 06:39:20.512</td>\n      <td>2016-07-07 06:40:50.608</td>\n      <td>1290</td>\n      <td>28581909</td>\n      <td>28604432</td>\n      <td>[]</td>\n      <td>[]</td>\n      <td>[]</td>\n      <td>[]</td>\n      <td>[]</td>\n      <td>[]</td>\n      <td>No</td>\n      <td>0</td>\n      <td>[]</td>\n      <td>[]</td>\n      <td>[]</td>\n    </tr>\n    <tr>\n      <th>68</th>\n      <td>RNS_Test_Dataset_ErinConrad</td>\n      <td>68</td>\n      <td>HUP096</td>\n      <td>RNS_Example_1_EC</td>\n      <td>1469814899464000</td>\n      <td>1469814989632000</td>\n      <td>2016-07-29 17:54:59.464</td>\n      <td>2016-07-29 17:56:29.632</td>\n      <td>1350</td>\n      <td>29921013</td>\n      <td>29943554</td>\n      <td>[]</td>\n      <td>[]</td>\n      <td>[]</td>\n      <td>[]</td>\n      <td>[]</td>\n      <td>[]</td>\n      <td>No</td>\n      <td>0</td>\n      <td>[]</td>\n      <td>[]</td>\n      <td>[]</td>\n    </tr>\n    <tr>\n      <th>69</th>\n      <td>RNS_Test_Dataset_ErinConrad</td>\n      <td>69</td>\n      <td>HUP096</td>\n      <td>RNS_Example_1_EC</td>\n      <td>1471934916516000</td>\n      <td>1471935006616000</td>\n      <td>2016-08-23 06:48:36.516</td>\n      <td>2016-08-23 06:50:06.616</td>\n      <td>1417</td>\n      <td>31428937</td>\n      <td>31451461</td>\n      <td>[]</td>\n      <td>[]</td>\n      <td>[]</td>\n      <td>[]</td>\n      <td>[]</td>\n      <td>[]</td>\n      <td>No</td>\n      <td>0</td>\n      <td>[]</td>\n      <td>[]</td>\n      <td>[]</td>\n    </tr>\n    <tr>\n      <th>74</th>\n      <td>RNS_Test_Dataset_ErinConrad</td>\n      <td>74</td>\n      <td>HUP096</td>\n      <td>RNS_Example_1_EC</td>\n      <td>1514141698976000</td>\n      <td>1514141789132000</td>\n      <td>2017-12-24 18:54:58.976</td>\n      <td>2017-12-24 18:56:29.132</td>\n      <td>2688</td>\n      <td>59920193</td>\n      <td>59942731</td>\n      <td>[]</td>\n      <td>[]</td>\n      <td>[]</td>\n      <td>[]</td>\n      <td>[]</td>\n      <td>[]</td>\n      <td>No</td>\n      <td>0</td>\n      <td>[]</td>\n      <td>[]</td>\n      <td>[]</td>\n    </tr>\n    <tr>\n      <th>84</th>\n      <td>RNS_Test_Dataset_ErinConrad</td>\n      <td>84</td>\n      <td>HUP137</td>\n      <td>RNS_Example_2_EC</td>\n      <td>1506762815028000</td>\n      <td>1506762905124000</td>\n      <td>2017-09-30 09:13:35.028</td>\n      <td>2017-09-30 09:15:05.124</td>\n      <td>313</td>\n      <td>6871039</td>\n      <td>6893562</td>\n      <td>[]</td>\n      <td>[]</td>\n      <td>[]</td>\n      <td>[]</td>\n      <td>[]</td>\n      <td>[]</td>\n      <td>No</td>\n      <td>0</td>\n      <td>[]</td>\n      <td>[]</td>\n      <td>[]</td>\n    </tr>\n    <tr>\n      <th>85</th>\n      <td>RNS_Test_Dataset_ErinConrad</td>\n      <td>85</td>\n      <td>HUP137</td>\n      <td>RNS_Example_2_EC</td>\n      <td>1510786676536000</td>\n      <td>1510786766592000</td>\n      <td>2017-11-15 22:57:56.536</td>\n      <td>2017-11-15 22:59:26.592</td>\n      <td>495</td>\n      <td>10803234</td>\n      <td>10825747</td>\n      <td>[]</td>\n      <td>[]</td>\n      <td>[]</td>\n      <td>[]</td>\n      <td>[]</td>\n      <td>[]</td>\n      <td>No</td>\n      <td>0</td>\n      <td>[]</td>\n      <td>[]</td>\n      <td>[]</td>\n    </tr>\n    <tr>\n      <th>86</th>\n      <td>RNS_Test_Dataset_ErinConrad</td>\n      <td>86</td>\n      <td>HUP137</td>\n      <td>RNS_Example_2_EC</td>\n      <td>1511285530464000</td>\n      <td>1511285620632000</td>\n      <td>2017-11-21 17:32:10.464</td>\n      <td>2017-11-21 17:33:40.632</td>\n      <td>519</td>\n      <td>11343591</td>\n      <td>11366132</td>\n      <td>[]</td>\n      <td>[]</td>\n      <td>[]</td>\n      <td>[]</td>\n      <td>[]</td>\n      <td>[]</td>\n      <td>No</td>\n      <td>0</td>\n      <td>[]</td>\n      <td>[]</td>\n      <td>[]</td>\n    </tr>\n    <tr>\n      <th>87</th>\n      <td>RNS_Test_Dataset_ErinConrad</td>\n      <td>87</td>\n      <td>HUP137</td>\n      <td>RNS_Example_2_EC</td>\n      <td>1514317973536000</td>\n      <td>1514318063628000</td>\n      <td>2017-12-26 19:52:53.536</td>\n      <td>2017-12-26 19:54:23.628</td>\n      <td>635</td>\n      <td>13886370</td>\n      <td>13908892</td>\n      <td>[1514317984073769]</td>\n      <td>[1514318034188877]</td>\n      <td>[2017-12-26 19:53:04.073769]</td>\n      <td>[2017-12-26 19:53:54.188877]</td>\n      <td>[13889004]</td>\n      <td>[13901533]</td>\n      <td>Yes</td>\n      <td>1</td>\n      <td>[1,2]</td>\n      <td>[1100]</td>\n      <td>[1100]</td>\n    </tr>\n    <tr>\n      <th>88</th>\n      <td>RNS_Test_Dataset_ErinConrad</td>\n      <td>88</td>\n      <td>HUP137</td>\n      <td>RNS_Example_2_EC</td>\n      <td>1538774534552000</td>\n      <td>1538774624608000</td>\n      <td>2018-10-05 21:22:14.552</td>\n      <td>2018-10-05 21:23:44.608</td>\n      <td>1650</td>\n      <td>36328794</td>\n      <td>36351307</td>\n      <td>[1538774563992886]</td>\n      <td>[1538774614032295]</td>\n      <td>[2018-10-05 21:22:43.992886]</td>\n      <td>[2018-10-05 21:23:34.032295]</td>\n      <td>[36336154]</td>\n      <td>[36348663]</td>\n      <td>Yes</td>\n      <td>1</td>\n      <td>[1,2]</td>\n      <td>[1100]</td>\n      <td>[1100]</td>\n    </tr>\n    <tr>\n      <th>89</th>\n      <td>RNS_Test_Dataset_ErinConrad</td>\n      <td>89</td>\n      <td>HUP137</td>\n      <td>RNS_Example_2_EC</td>\n      <td>1540664243012000</td>\n      <td>1540664333128000</td>\n      <td>2018-10-27 18:17:23.012</td>\n      <td>2018-10-27 18:18:53.128</td>\n      <td>1736</td>\n      <td>38266084</td>\n      <td>38288612</td>\n      <td>[1540664259264747]</td>\n      <td>[1540664312187824]</td>\n      <td>[2018-10-27 18:17:39.264747]</td>\n      <td>[2018-10-27 18:18:32.187824]</td>\n      <td>[38270147]</td>\n      <td>[38283377]</td>\n      <td>Yes</td>\n      <td>1</td>\n      <td>[1,2]</td>\n      <td>[1100]</td>\n      <td>[1100]</td>\n    </tr>\n    <tr>\n      <th>90</th>\n      <td>RNS_Test_Dataset_ErinConrad</td>\n      <td>90</td>\n      <td>HUP137</td>\n      <td>RNS_Example_2_EC</td>\n      <td>1545256591536000</td>\n      <td>1545256681576000</td>\n      <td>2018-12-19 21:56:31.536</td>\n      <td>2018-12-19 21:58:01.576</td>\n      <td>1894</td>\n      <td>41800649</td>\n      <td>41823158</td>\n      <td>[1545256619953582]</td>\n      <td>[1545256681576000]</td>\n      <td>[2018-12-19 21:56:59.953582]</td>\n      <td>[2018-12-19 21:58:01.576000]</td>\n      <td>[41807753]</td>\n      <td>[41823158]</td>\n      <td>Yes</td>\n      <td>1</td>\n      <td>[1,2]</td>\n      <td>[1100]</td>\n      <td>[1100]</td>\n    </tr>\n    <tr>\n      <th>91</th>\n      <td>RNS_Test_Dataset_ErinConrad</td>\n      <td>91</td>\n      <td>HUP137</td>\n      <td>RNS_Example_2_EC</td>\n      <td>1548005703468000</td>\n      <td>1548005793620000</td>\n      <td>2019-01-20 17:35:03.468</td>\n      <td>2019-01-20 17:36:33.620</td>\n      <td>1983</td>\n      <td>43788510</td>\n      <td>43811047</td>\n      <td>[]</td>\n      <td>[]</td>\n      <td>[]</td>\n      <td>[]</td>\n      <td>[]</td>\n      <td>[]</td>\n      <td>No</td>\n      <td>0</td>\n      <td>[]</td>\n      <td>[]</td>\n      <td>[]</td>\n    </tr>\n    <tr>\n      <th>92</th>\n      <td>RNS_Test_Dataset_ErinConrad</td>\n      <td>92</td>\n      <td>HUP137</td>\n      <td>RNS_Example_2_EC</td>\n      <td>1550084226464000</td>\n      <td>1550084316632000</td>\n      <td>2019-02-13 18:57:06.464</td>\n      <td>2019-02-13 18:58:36.632</td>\n      <td>2054</td>\n      <td>45386761</td>\n      <td>45409302</td>\n      <td>[]</td>\n      <td>[]</td>\n      <td>[]</td>\n      <td>[]</td>\n      <td>[]</td>\n      <td>[]</td>\n      <td>No</td>\n      <td>0</td>\n      <td>[]</td>\n      <td>[]</td>\n      <td>[]</td>\n    </tr>\n    <tr>\n      <th>93</th>\n      <td>RNS_Test_Dataset_ErinConrad</td>\n      <td>93</td>\n      <td>HUP137</td>\n      <td>RNS_Example_2_EC</td>\n      <td>1551022375524000</td>\n      <td>1551022465604000</td>\n      <td>2019-02-24 15:32:55.524</td>\n      <td>2019-02-24 15:34:25.604</td>\n      <td>2092</td>\n      <td>46178484</td>\n      <td>46201003</td>\n      <td>[]</td>\n      <td>[]</td>\n      <td>[]</td>\n      <td>[]</td>\n      <td>[]</td>\n      <td>[]</td>\n      <td>No</td>\n      <td>0</td>\n      <td>[]</td>\n      <td>[]</td>\n      <td>[]</td>\n    </tr>\n    <tr>\n      <th>94</th>\n      <td>RNS_Test_Dataset_ErinConrad</td>\n      <td>94</td>\n      <td>HUP137</td>\n      <td>RNS_Example_2_EC</td>\n      <td>1575076915548000</td>\n      <td>1575077005584000</td>\n      <td>2019-11-30 01:21:55.548</td>\n      <td>2019-11-30 01:23:25.584</td>\n      <td>2796</td>\n      <td>61708056</td>\n      <td>61730564</td>\n      <td>[]</td>\n      <td>[]</td>\n      <td>[]</td>\n      <td>[]</td>\n      <td>[]</td>\n      <td>[]</td>\n      <td>No</td>\n      <td>0</td>\n      <td>[]</td>\n      <td>[]</td>\n      <td>[]</td>\n    </tr>\n    <tr>\n      <th>95</th>\n      <td>RNS_Test_Dataset_ErinConrad</td>\n      <td>95</td>\n      <td>HUP137</td>\n      <td>RNS_Example_2_EC</td>\n      <td>1575695310964000</td>\n      <td>1575695401132000</td>\n      <td>2019-12-07 05:08:30.964</td>\n      <td>2019-12-07 05:10:01.132</td>\n      <td>2815</td>\n      <td>62136035</td>\n      <td>62158576</td>\n      <td>[]</td>\n      <td>[]</td>\n      <td>[]</td>\n      <td>[]</td>\n      <td>[]</td>\n      <td>[]</td>\n      <td>No</td>\n      <td>0</td>\n      <td>[]</td>\n      <td>[]</td>\n      <td>[]</td>\n    </tr>\n    <tr>\n      <th>96</th>\n      <td>RNS_Test_Dataset_ErinConrad</td>\n      <td>96</td>\n      <td>HUP137</td>\n      <td>RNS_Example_2_EC</td>\n      <td>1576482194012000</td>\n      <td>1576482284128000</td>\n      <td>2019-12-16 07:43:14.012</td>\n      <td>2019-12-16 07:44:44.128</td>\n      <td>2841</td>\n      <td>62701470</td>\n      <td>62723998</td>\n      <td>[]</td>\n      <td>[]</td>\n      <td>[]</td>\n      <td>[]</td>\n      <td>[]</td>\n      <td>[]</td>\n      <td>No</td>\n      <td>0</td>\n      <td>[]</td>\n      <td>[]</td>\n      <td>[]</td>\n    </tr>\n    <tr>\n      <th>101</th>\n      <td>RNS_Test_Dataset_ErinConrad</td>\n      <td>101</td>\n      <td>HUP101</td>\n      <td>RNS_Example_3_EC</td>\n      <td>1549432955964000</td>\n      <td>1549433046132000</td>\n      <td>2019-02-06 06:02:35.964</td>\n      <td>2019-02-06 06:04:06.132</td>\n      <td>0</td>\n      <td>0</td>\n      <td>22541</td>\n      <td>[]</td>\n      <td>[]</td>\n      <td>[]</td>\n      <td>[]</td>\n      <td>[]</td>\n      <td>[]</td>\n      <td>No</td>\n      <td>0</td>\n      <td>[]</td>\n      <td>[]</td>\n      <td>[]</td>\n    </tr>\n    <tr>\n      <th>102</th>\n      <td>RNS_Test_Dataset_ErinConrad</td>\n      <td>102</td>\n      <td>HUP101</td>\n      <td>RNS_Example_3_EC</td>\n      <td>1549476153964000</td>\n      <td>1549476244132000</td>\n      <td>2019-02-06 18:02:33.964</td>\n      <td>2019-02-06 18:04:04.132</td>\n      <td>1</td>\n      <td>22542</td>\n      <td>45083</td>\n      <td>[]</td>\n      <td>[]</td>\n      <td>[]</td>\n      <td>[]</td>\n      <td>[]</td>\n      <td>[]</td>\n      <td>No</td>\n      <td>0</td>\n      <td>[]</td>\n      <td>[]</td>\n      <td>[]</td>\n    </tr>\n    <tr>\n      <th>103</th>\n      <td>RNS_Test_Dataset_ErinConrad</td>\n      <td>103</td>\n      <td>HUP101</td>\n      <td>RNS_Example_3_EC</td>\n      <td>1557816572492000</td>\n      <td>1557816662628000</td>\n      <td>2019-05-14 06:49:32.492</td>\n      <td>2019-05-14 06:51:02.628</td>\n      <td>23</td>\n      <td>500049</td>\n      <td>522582</td>\n      <td>[]</td>\n      <td>[]</td>\n      <td>[]</td>\n      <td>[]</td>\n      <td>[]</td>\n      <td>[]</td>\n      <td>No</td>\n      <td>0</td>\n      <td>[]</td>\n      <td>[]</td>\n      <td>[]</td>\n    </tr>\n    <tr>\n      <th>104</th>\n      <td>RNS_Test_Dataset_ErinConrad</td>\n      <td>104</td>\n      <td>HUP101</td>\n      <td>RNS_Example_3_EC</td>\n      <td>1558896166964000</td>\n      <td>1558896257132000</td>\n      <td>2019-05-26 18:42:46.964</td>\n      <td>2019-05-26 18:44:17.132</td>\n      <td>24</td>\n      <td>522583</td>\n      <td>545124</td>\n      <td>[]</td>\n      <td>[]</td>\n      <td>[]</td>\n      <td>[]</td>\n      <td>[]</td>\n      <td>[]</td>\n      <td>No</td>\n      <td>0</td>\n      <td>[]</td>\n      <td>[]</td>\n      <td>[]</td>\n    </tr>\n    <tr>\n      <th>105</th>\n      <td>RNS_Test_Dataset_ErinConrad</td>\n      <td>105</td>\n      <td>HUP101</td>\n      <td>RNS_Example_3_EC</td>\n      <td>1566444327500000</td>\n      <td>1566444417604000</td>\n      <td>2019-08-22 03:25:27.500</td>\n      <td>2019-08-22 03:26:57.604</td>\n      <td>36</td>\n      <td>793035</td>\n      <td>815560</td>\n      <td>[1566444371437050]</td>\n      <td>[1566444404199639]</td>\n      <td>[2019-08-22 03:26:11.437050]</td>\n      <td>[2019-08-22 03:26:44.199639]</td>\n      <td>[804019]</td>\n      <td>[812209]</td>\n      <td>Yes</td>\n      <td>1</td>\n      <td>[2]</td>\n      <td>[0100]</td>\n      <td>[0100]</td>\n    </tr>\n    <tr>\n      <th>106</th>\n      <td>RNS_Test_Dataset_ErinConrad</td>\n      <td>106</td>\n      <td>HUP101</td>\n      <td>RNS_Example_3_EC</td>\n      <td>1569306266964000</td>\n      <td>1569306357132000</td>\n      <td>2019-09-24 06:24:26.964</td>\n      <td>2019-09-24 06:25:57.132</td>\n      <td>42</td>\n      <td>928247</td>\n      <td>950788</td>\n      <td>[]</td>\n      <td>[]</td>\n      <td>[]</td>\n      <td>[]</td>\n      <td>[]</td>\n      <td>[]</td>\n      <td>No</td>\n      <td>0</td>\n      <td>[]</td>\n      <td>[]</td>\n      <td>[]</td>\n    </tr>\n    <tr>\n      <th>107</th>\n      <td>RNS_Test_Dataset_ErinConrad</td>\n      <td>107</td>\n      <td>HUP101</td>\n      <td>RNS_Example_3_EC</td>\n      <td>1596048628268000</td>\n      <td>1596048718344000</td>\n      <td>2020-07-29 18:50:28.268</td>\n      <td>2020-07-29 18:51:58.344</td>\n      <td>101</td>\n      <td>2173687</td>\n      <td>2196205</td>\n      <td>[1596048672509758]</td>\n      <td>[1596048718344000]</td>\n      <td>[2020-07-29 18:51:12.509758]</td>\n      <td>[2020-07-29 18:51:58.344000]</td>\n      <td>[2184747]</td>\n      <td>[2196205]</td>\n      <td>Yes</td>\n      <td>1</td>\n      <td>[1,2]</td>\n      <td>[1100]</td>\n      <td>[1100]</td>\n    </tr>\n    <tr>\n      <th>108</th>\n      <td>RNS_Test_Dataset_ErinConrad</td>\n      <td>108</td>\n      <td>HUP101</td>\n      <td>RNS_Example_3_EC</td>\n      <td>1602266102076000</td>\n      <td>1602266172496000</td>\n      <td>2020-10-09 17:55:02.076</td>\n      <td>2020-10-09 17:56:12.496</td>\n      <td>106</td>\n      <td>2254561</td>\n      <td>2272165</td>\n      <td>[1602266127097977]</td>\n      <td>[1602266164592482]</td>\n      <td>[2020-10-09 17:55:27.097977]</td>\n      <td>[2020-10-09 17:56:04.592482]</td>\n      <td>[2260816]</td>\n      <td>[2270189]</td>\n      <td>Yes</td>\n      <td>1</td>\n      <td>[1,2]</td>\n      <td>[1100]</td>\n      <td>[1100]</td>\n    </tr>\n    <tr>\n      <th>109</th>\n      <td>RNS_Test_Dataset_ErinConrad</td>\n      <td>109</td>\n      <td>HUP101</td>\n      <td>RNS_Example_3_EC</td>\n      <td>1606480477577000</td>\n      <td>1606480567601000</td>\n      <td>2020-11-27 12:34:37.577</td>\n      <td>2020-11-27 12:36:07.601</td>\n      <td>131</td>\n      <td>2805593</td>\n      <td>2828098</td>\n      <td>[]</td>\n      <td>[]</td>\n      <td>[]</td>\n      <td>[]</td>\n      <td>[]</td>\n      <td>[]</td>\n      <td>No</td>\n      <td>0</td>\n      <td>[]</td>\n      <td>[]</td>\n      <td>[]</td>\n    </tr>\n    <tr>\n      <th>110</th>\n      <td>RNS_Test_Dataset_ErinConrad</td>\n      <td>110</td>\n      <td>HUP101</td>\n      <td>RNS_Example_3_EC</td>\n      <td>1609936365801000</td>\n      <td>1609936455817000</td>\n      <td>2021-01-06 12:32:45.801</td>\n      <td>2021-01-06 12:34:15.817</td>\n      <td>138</td>\n      <td>2963201</td>\n      <td>2985704</td>\n      <td>[]</td>\n      <td>[]</td>\n      <td>[]</td>\n      <td>[]</td>\n      <td>[]</td>\n      <td>[]</td>\n      <td>No</td>\n      <td>0</td>\n      <td>[]</td>\n      <td>[]</td>\n      <td>[]</td>\n    </tr>\n    <tr>\n      <th>111</th>\n      <td>RNS_Test_Dataset_ErinConrad</td>\n      <td>111</td>\n      <td>HUP101</td>\n      <td>RNS_Example_3_EC</td>\n      <td>1611139386309000</td>\n      <td>1611139476377000</td>\n      <td>2021-01-20 10:43:06.309</td>\n      <td>2021-01-20 10:44:36.377</td>\n      <td>149</td>\n      <td>3167403</td>\n      <td>3189919</td>\n      <td>[1611139430006802]</td>\n      <td>[1611139444330977]</td>\n      <td>[2021-01-20 10:43:50.006802]</td>\n      <td>[2021-01-20 10:44:04.330977]</td>\n      <td>[3178327]</td>\n      <td>[3181908]</td>\n      <td>Yes</td>\n      <td>1</td>\n      <td>[2]</td>\n      <td>[0100]</td>\n      <td>[0100]</td>\n    </tr>\n    <tr>\n      <th>112</th>\n      <td>RNS_Test_Dataset_ErinConrad</td>\n      <td>112</td>\n      <td>HUP101</td>\n      <td>RNS_Example_3_EC</td>\n      <td>1612974943914000</td>\n      <td>1612975033986000</td>\n      <td>2021-02-10 16:35:43.914</td>\n      <td>2021-02-10 16:37:13.986</td>\n      <td>157</td>\n      <td>3345239</td>\n      <td>3367751</td>\n      <td>[]</td>\n      <td>[]</td>\n      <td>[]</td>\n      <td>[]</td>\n      <td>[]</td>\n      <td>[]</td>\n      <td>No</td>\n      <td>0</td>\n      <td>[]</td>\n      <td>[]</td>\n      <td>[]</td>\n    </tr>\n    <tr>\n      <th>113</th>\n      <td>RNS_Test_Dataset_ErinConrad</td>\n      <td>113</td>\n      <td>HUP101</td>\n      <td>RNS_Example_3_EC</td>\n      <td>1617120308566000</td>\n      <td>1617120344050000</td>\n      <td>2021-03-30 16:05:08.566</td>\n      <td>2021-03-30 16:05:44.050</td>\n      <td>165</td>\n      <td>3498450</td>\n      <td>3507314</td>\n      <td>[]</td>\n      <td>[]</td>\n      <td>[]</td>\n      <td>[]</td>\n      <td>[]</td>\n      <td>[]</td>\n      <td>No</td>\n      <td>0</td>\n      <td>[]</td>\n      <td>[]</td>\n      <td>[]</td>\n    </tr>\n    <tr>\n      <th>114</th>\n      <td>RNS_Test_Dataset_ErinConrad</td>\n      <td>114</td>\n      <td>HUP101</td>\n      <td>RNS_Example_3_EC</td>\n      <td>1617120625925000</td>\n      <td>1617120692813000</td>\n      <td>2021-03-30 16:10:25.925</td>\n      <td>2021-03-30 16:11:32.813</td>\n      <td>167</td>\n      <td>3518801</td>\n      <td>3535517</td>\n      <td>[]</td>\n      <td>[]</td>\n      <td>[]</td>\n      <td>[]</td>\n      <td>[]</td>\n      <td>[]</td>\n      <td>No</td>\n      <td>0</td>\n      <td>[]</td>\n      <td>[]</td>\n      <td>[]</td>\n    </tr>\n  </tbody>\n</table>\n</div>"
     },
     "execution_count": 7,
     "metadata": {},
     "output_type": "execute_result"
    }
   ],
   "source": [
    "annotations.annotation_dict['RNS_Test_Dataset_ErinConrad']"
   ],
   "metadata": {
    "collapsed": false,
    "ExecuteTime": {
     "start_time": "2024-04-17T18:11:24.295959Z",
     "end_time": "2024-04-17T18:11:24.363958Z"
    }
   }
  },
  {
   "cell_type": "code",
   "execution_count": 14,
   "metadata": {
    "ExecuteTime": {
     "start_time": "2024-04-17T18:32:28.702254Z",
     "end_time": "2024-04-17T18:32:29.396255Z"
    }
   },
   "outputs": [
    {
     "name": "stderr",
     "output_type": "stream",
     "text": [
      "3it [00:00, 15.71it/s]"
     ]
    },
    {
     "name": "stdout",
     "output_type": "stream",
     "text": [
      "(39,)\n",
      "(39,)\n",
      "(0,)\n",
      "(0,)\n"
     ]
    },
    {
     "name": "stderr",
     "output_type": "stream",
     "text": [
      "\n"
     ]
    }
   ],
   "source": [
    "data_list = os.listdir(data_dir+'rns_pred_cache')\n",
    "# print(data_list)\n",
    "# data_list = ['HUP047.npy', 'HUP084.npy', 'HUP096.npy', 'HUP109.npy', 'HUP121.npy', 'HUP129.npy', 'HUP131.npy',\n",
    "#              'HUP137.npy', 'HUP147.npy', 'HUP156.npy', 'HUP159.npy', 'HUP182.npy', 'HUP197.npy', 'HUP199.npy',\n",
    "#              'RNS026.npy', 'RNS029.npy']\n",
    "# data_list = os.listdir(data_dir+'rns_test_cache')[1:]\n",
    "data_list = ['HUP096.npy', 'HUP137.npy','HUP101.npy']\n",
    "# data_list = ['HUP182.npy',   'HUP129.npy',   'HUP109.npy', 'HUP156.npy', 'HUP096.npy', 'RNS026.npy',  'HUP159.npy']\n",
    "# data_list = ['RNS026.npy', 'HUP159.npy', 'HUP129.npy', 'HUP096.npy', 'HUP182.npy']\n",
    "train_data, train_label, test_data, test_label, train_index, test_index = get_data_by_episode(data_list, file_path = 'rns_pred_cache', split=1)\n",
    "# train_data, train_label, test_data, test_label, train_index, test_index = get_data_by_episode(data_list, split=0.8)\n",
    "# data, label,_,_ = get_data(data_list, split=1)\n",
    "# train_data, test_data, train_label, test_label = sklearn.model_selection.train_test_split(data, label, test_size=0.8, random_state=42)\n",
    "\n",
    "print(train_data.shape)\n",
    "print(train_label.shape)\n",
    "print(test_data.shape)\n",
    "print(test_label.shape)"
   ]
  },
  {
   "cell_type": "code",
   "execution_count": 213,
   "outputs": [],
   "source": [
    " with open(log_folder_root + 'rns_active_selected/' + 'EntropySampling' + '/' + 'selected_indices.pkl', 'rb') as f:\n",
    "    # Load the content of the file into a Python object\n",
    "    selected_inds = pickle.load(f)"
   ],
   "metadata": {
    "collapsed": false,
    "ExecuteTime": {
     "start_time": "2024-04-17T14:46:13.928932Z",
     "end_time": "2024-04-17T14:46:14.332931Z"
    }
   }
  },
  {
   "cell_type": "code",
   "execution_count": 32,
   "outputs": [],
   "source": [
    "selected_ind_list = []\n",
    "for items in selected_inds.items():\n",
    "    selected_ind_list.append(np.array(items[1]))"
   ],
   "metadata": {
    "collapsed": false,
    "ExecuteTime": {
     "start_time": "2024-04-17T13:10:48.277467Z",
     "end_time": "2024-04-17T13:10:48.784467Z"
    }
   }
  },
  {
   "cell_type": "code",
   "execution_count": 37,
   "outputs": [
    {
     "data": {
      "text/plain": "array([ 5164,  5165,  5166, ..., 82181, 82182, 82183], dtype=int64)"
     },
     "execution_count": 37,
     "metadata": {},
     "output_type": "execute_result"
    }
   ],
   "source": [
    "selected_ind_list\n",
    "\n",
    "np.concatenate(selected_ind_list[:-1])"
   ],
   "metadata": {
    "collapsed": false,
    "ExecuteTime": {
     "start_time": "2024-04-17T13:11:32.628962Z",
     "end_time": "2024-04-17T13:11:33.089961Z"
    }
   }
  },
  {
   "cell_type": "code",
   "execution_count": 66,
   "outputs": [
    {
     "data": {
      "text/plain": "array([],\n      dtype=[('patient_index', 'S10'), ('episode_index', '<i4'), ('slice_index', '<i4'), ('start_index', '<i4')])"
     },
     "execution_count": 66,
     "metadata": {},
     "output_type": "execute_result"
    }
   ],
   "source": [
    "np.concatenate(train_index)[np.concatenate(selected_ind_list[:-1])][np.concatenate(train_index)[np.concatenate(selected_ind_list[:-1])]['patient_index'] == b'HUP101']"
   ],
   "metadata": {
    "collapsed": false,
    "ExecuteTime": {
     "start_time": "2024-04-17T13:18:02.584966Z",
     "end_time": "2024-04-17T13:18:03.064968Z"
    }
   }
  },
  {
   "cell_type": "code",
   "execution_count": 77,
   "outputs": [],
   "source": [
    "np.concatenate(train_index)[np.concatenate(selected_ind_list[:-1])]"
   ],
   "metadata": {
    "collapsed": false,
    "ExecuteTime": {
     "start_time": "2024-04-17T13:31:54.002959Z",
     "end_time": "2024-04-17T13:31:54.390956Z"
    }
   }
  },
  {
   "cell_type": "code",
   "execution_count": 142,
   "outputs": [],
   "source": [
    "train_list = np.array([ti[0] for ti in train_index])"
   ],
   "metadata": {
    "collapsed": false,
    "ExecuteTime": {
     "start_time": "2024-04-17T14:08:53.758607Z",
     "end_time": "2024-04-17T14:08:54.323604Z"
    }
   }
  },
  {
   "cell_type": "code",
   "execution_count": 143,
   "outputs": [
    {
     "ename": "ValueError",
     "evalue": "operands could not be broadcast together with shapes (1262,) (0,) ",
     "output_type": "error",
     "traceback": [
      "\u001B[1;31m---------------------------------------------------------------------------\u001B[0m",
      "\u001B[1;31mValueError\u001B[0m                                Traceback (most recent call last)",
      "Input \u001B[1;32mIn [143]\u001B[0m, in \u001B[0;36m<cell line: 3>\u001B[1;34m()\u001B[0m\n\u001B[0;32m      7\u001B[0m filtered_1 \u001B[38;5;241m=\u001B[39m train_list[train_list[\u001B[38;5;124m'\u001B[39m\u001B[38;5;124mpatient_index\u001B[39m\u001B[38;5;124m'\u001B[39m] \u001B[38;5;241m==\u001B[39m pt]\n\u001B[0;32m      8\u001B[0m filtered_2 \u001B[38;5;241m=\u001B[39m filtered_1[filtered_1[\u001B[38;5;124m'\u001B[39m\u001B[38;5;124mstart_index\u001B[39m\u001B[38;5;124m'\u001B[39m] \u001B[38;5;241m==\u001B[39m si]\n\u001B[1;32m----> 9\u001B[0m matching_array[i] \u001B[38;5;241m=\u001B[39m np\u001B[38;5;241m.\u001B[39mwhere(\u001B[43mtrain_list\u001B[49m\u001B[43m \u001B[49m\u001B[38;5;241;43m==\u001B[39;49m\u001B[43m \u001B[49m\u001B[43mfiltered_2\u001B[49m)[\u001B[38;5;241m0\u001B[39m]\n\u001B[0;32m     10\u001B[0m i\u001B[38;5;241m+\u001B[39m\u001B[38;5;241m=\u001B[39m \u001B[38;5;241m1\u001B[39m\n",
      "\u001B[1;31mValueError\u001B[0m: operands could not be broadcast together with shapes (1262,) (0,) "
     ]
    }
   ],
   "source": [
    "matching_array = [None]*38\n",
    "i = 0\n",
    "for index, row in annotations.annotation_dict['RNS_Test_Dataset_BrianLitt'].iterrows():\n",
    "\n",
    "    pt = row['Patient_ID'].encode('utf-8')\n",
    "    si = row['Episode_Start_Index']\n",
    "    filtered_1 = train_list[train_list['patient_index'] == pt]\n",
    "    filtered_2 = filtered_1[filtered_1['start_index'] == si]\n",
    "    matching_array[i] = np.where(train_list == filtered_2)[0]\n",
    "    i+= 1\n",
    "\n",
    "\n"
   ],
   "metadata": {
    "collapsed": false,
    "ExecuteTime": {
     "start_time": "2024-04-17T14:05:57.614640Z",
     "end_time": "2024-04-17T14:05:58.183641Z"
    }
   }
  },
  {
   "cell_type": "code",
   "execution_count": 277,
   "outputs": [],
   "source": [
    "annot = annotations.annotation_dict['RNS_Test_Dataset_ErinConrad']\n",
    "annot_nonseizure = annot[annot['Class_Code'] == 0]\n",
    "annot_seizure = annot[annot['Class_Code'] == 1]\n",
    "patient_list = ['HUP047',\n",
    "       'HUP059',\n",
    "       'HUP084',\n",
    "       'HUP096',\n",
    "       'HUP101',\n",
    "       'HUP108',\n",
    "       'HUP109',\n",
    "       'HUP121',\n",
    "       'HUP127',\n",
    "       'HUP128',\n",
    "       'HUP129',\n",
    "       'HUP131',\n",
    "       'HUP136',\n",
    "       'HUP137',\n",
    "       'HUP143',\n",
    "       'HUP147',\n",
    "       'HUP153',\n",
    "       'HUP156',\n",
    "       'HUP159',\n",
    "       'HUP182',\n",
    "       'HUP192',\n",
    "       'HUP197',\n",
    "       'HUP199',\n",
    "       'HUP205',\n",
    "       'RNS021',\n",
    "       'RNS022',\n",
    "       'RNS026',\n",
    "       'RNS029']\n",
    "\n",
    "# patient_list = [ 'HUP137',\n",
    "#        'HUP153',]\n",
    "\n",
    "# patient_list = ['RNS026', 'HUP159', 'HUP129', 'HUP096', 'HUP182']\n",
    "clip_dict = {}\n",
    "# for p in patient_list:\n",
    "for p in patient_list:\n",
    "    # print(p)\n",
    "    seizure_start_index = np.array([])\n",
    "    seizure_end_index = np.array([])\n",
    "    nonseizure_start_index = np.array([])\n",
    "    nonseizure_end_index = np.array([])\n",
    "    global_episode_index_seizure = np.array([])\n",
    "    global_episode_index_nonseizure = np.array([])\n",
    "\n",
    "    annotation_list = []\n",
    "\n",
    "    start_index = annot[annot['Patient_ID'] == p]['Episode_Start_Index']\n",
    "    end_index = annot[annot['Patient_ID'] == p]['Episode_End_Index']\n",
    "    annot_start_list = annot[annot['Patient_ID'] == p]['Annotation_Start_Index']\n",
    "    annot_end_list = annot[annot['Patient_ID'] == p]['Annotation_End_Index']\n",
    "    j = 0\n",
    "    for i in range(len(start_index)):\n",
    "        if end_index.iloc[i] - start_index.iloc[i] > 0:\n",
    "            initial_arr = np.zeros(end_index.iloc[i] - start_index.iloc[i])\n",
    "            if len(annot_start_list.iloc[i]) > 0:\n",
    "                sl_order = np.argsort(annot_start_list.iloc[i])\n",
    "                sl = np.array(annot_start_list.iloc[i])[sl_order]\n",
    "                el = np.array(annot_end_list.iloc[i])[sl_order]\n",
    "\n",
    "                for si, ei in zip(sl, el):\n",
    "                    initial_arr[si - start_index.iloc[i]:ei - start_index.iloc[i]] = 1\n",
    "        else:\n",
    "            # print(i)\n",
    "            initial_arr = np.zeros(1)\n",
    "\n",
    "        annotation_list.append(initial_arr)\n",
    "\n",
    "    ind_arr = np.vstack(\n",
    "        [start_index,\n",
    "         end_index,\n",
    "         start_index.index]).astype(int)\n",
    "\n",
    "    # print(annotation_list)\n",
    "\n",
    "    valid = np.where((ind_arr[1] - ind_arr[0]) > 500)\n",
    "    combined_clip = ind_arr[:, valid].squeeze()\n",
    "    annotation_list = np.array(annotation_list, dtype=object)[valid]\n",
    "    try:\n",
    "        combined_clip = np.vstack((combined_clip, annotation_list))\n",
    "    except:\n",
    "        print(annotation_list)\n",
    "        print(p)\n",
    "\n",
    "    if combined_clip.shape[1]>0:\n",
    "\n",
    "        clip_dict[p] = combined_clip"
   ],
   "metadata": {
    "collapsed": false,
    "ExecuteTime": {
     "start_time": "2024-04-17T15:00:36.625279Z",
     "end_time": "2024-04-17T15:00:37.184278Z"
    }
   }
  },
  {
   "cell_type": "code",
   "execution_count": 278,
   "outputs": [],
   "source": [
    "from scipy.stats import mode\n",
    "\n",
    "window_len = 1\n",
    "stride = 1\n",
    "concat_n = 4\n",
    "for id in clip_dict.keys():\n",
    "    data_import[id].set_window_parameter(window_length=window_len, window_displacement=stride)\n",
    "    data_import[id].set_concatenation_parameter(concatenate_window_n=concat_n)\n",
    "    window_indices, _ = data_import[id].get_windowed_data(clip_dict[id][0], clip_dict[id][1])\n",
    "    import_indices = []\n",
    "    import_label = []\n",
    "    import_clip_indices = []\n",
    "    import_start_indicies = []\n",
    "    import_patient_ID = []\n",
    "    for i, ind in enumerate(window_indices):\n",
    "        indices = window_indices[i]+1-clip_dict[id][0][i]\n",
    "        offsets = np.arange(249)\n",
    "        full_indices = indices[:,0][:, np.newaxis] + offsets\n",
    "        slices_no_loop = clip_dict[id][3][i][full_indices]\n",
    "        mode_result = mode(slices_no_loop, axis=1)\n",
    "        mode_values = mode_result.mode\n",
    "\n",
    "        # print(mode_values)\n",
    "        import_label.append(mode_values)\n",
    "        import_indices.append(np.repeat(clip_dict[id][2][i], len(ind)))\n",
    "        import_clip_indices.append(np.arange(len(ind)))\n",
    "        import_start_indicies.append(np.repeat(clip_dict[id][0][i], len(ind)))\n",
    "        import_patient_ID.append(np.repeat(id, len(ind)))\n",
    "\n",
    "    import_label = np.hstack(import_label)\n",
    "    import_indices = np.hstack(import_indices)\n",
    "    import_clip_indices = np.hstack(import_clip_indices)\n",
    "    import_start_indicies = np.hstack(import_start_indicies)\n",
    "    import_patient_ID = np.hstack(import_patient_ID)\n",
    "\n",
    "    data_import[id].normalize_windowed_data()\n",
    "    _, concatenated_data = data_import[id].get_concatenated_data(data_import[id].windowed_data, arrange='channel_stack')\n",
    "\n",
    "    assert np.hstack(import_label).shape[0] == concatenated_data.shape[0]\n",
    "\n",
    "    np.save(data_dir+'rns_pred_cache/' + id + '.npy', {'data': concatenated_data, 'label': import_label, 'patientID': import_patient_ID, 'indices': np.vstack([import_indices,import_clip_indices,import_start_indicies]).T})"
   ],
   "metadata": {
    "collapsed": false,
    "ExecuteTime": {
     "start_time": "2024-04-17T15:00:39.019772Z",
     "end_time": "2024-04-17T15:00:40.217771Z"
    }
   }
  },
  {
   "cell_type": "code",
   "execution_count": 153,
   "outputs": [],
   "source": [
    "# selected_episode = np.array(matching_array[:25])"
   ],
   "metadata": {
    "collapsed": false,
    "ExecuteTime": {
     "start_time": "2024-04-17T14:11:21.968416Z",
     "end_time": "2024-04-17T14:11:22.529414Z"
    }
   }
  },
  {
   "cell_type": "code",
   "execution_count": 188,
   "metadata": {
    "ExecuteTime": {
     "start_time": "2024-04-17T14:11:23.083416Z",
     "end_time": "2024-04-17T14:11:23.653415Z"
    }
   },
   "outputs": [
    {
     "ename": "IndexError",
     "evalue": "index 145 is out of bounds for axis 0 with size 38",
     "output_type": "error",
     "traceback": [
      "\u001B[1;31m---------------------------------------------------------------------------\u001B[0m",
      "\u001B[1;31mIndexError\u001B[0m                                Traceback (most recent call last)",
      "Input \u001B[1;32mIn [188]\u001B[0m, in \u001B[0;36m<cell line: 1>\u001B[1;34m()\u001B[0m\n\u001B[1;32m----> 1\u001B[0m X_train \u001B[38;5;241m=\u001B[39m np\u001B[38;5;241m.\u001B[39mconcatenate(\u001B[43mtrain_data\u001B[49m\u001B[43m[\u001B[49m\u001B[43mselected_episode\u001B[49m\u001B[43m]\u001B[49m)\n\u001B[0;32m      2\u001B[0m y_train \u001B[38;5;241m=\u001B[39m np\u001B[38;5;241m.\u001B[39mconcatenate(train_label[selected_episode])\n\u001B[0;32m      3\u001B[0m \u001B[38;5;66;03m# X_test = np.concatenate(test_data)\u001B[39;00m\n\u001B[0;32m      4\u001B[0m \u001B[38;5;66;03m# y_test = np.concatenate(test_label)\u001B[39;00m\n",
      "\u001B[1;31mIndexError\u001B[0m: index 145 is out of bounds for axis 0 with size 38"
     ]
    }
   ],
   "source": [
    "X_train = np.concatenate(train_data[selected_episode])\n",
    "y_train = np.concatenate(train_label[selected_episode])\n",
    "# X_test = np.concatenate(test_data)\n",
    "# y_test = np.concatenate(test_label)\n",
    "index_train = np.concatenate(train_index[selected_episode])\n",
    "# index_test = np.concatenate(test_index)\n",
    "seq_len_train = np.array([y.shape[0] for y in train_label[selected_episode]])\n",
    "# seq_len_test = np.array([y.shape[0] for y in test_label])"
   ]
  },
  {
   "cell_type": "code",
   "execution_count": 15,
   "outputs": [],
   "source": [
    "X_train = np.concatenate(train_data)\n",
    "y_train = np.concatenate(train_label)\n",
    "# X_test = np.concatenate(test_data)\n",
    "# y_test = np.concatenate(test_label)\n",
    "index_train = np.concatenate(train_index)\n",
    "# index_test = np.concatenate(test_index)\n",
    "seq_len_train = np.array([y.shape[0] for y in train_label])"
   ],
   "metadata": {
    "collapsed": false,
    "ExecuteTime": {
     "start_time": "2024-04-17T18:32:35.713373Z",
     "end_time": "2024-04-17T18:32:36.483372Z"
    }
   }
  },
  {
   "cell_type": "code",
   "execution_count": 16,
   "outputs": [],
   "source": [
    "args_task = {'n_epoch': 40,\n",
    "             'transform_train': True,\n",
    "             'strategy_name': 'EntropySampling',\n",
    "             'transform': False,\n",
    "             'loader_tr_args': {'batch_size': 2, 'num_workers': 4, 'collate_fn': collate_fn,\n",
    "                                'drop_last': True, 'persistent_workers': True},\n",
    "             'loader_te_args': {'batch_size': 2, 'num_workers': 4, 'collate_fn': collate_fn,\n",
    "                                'drop_last': True, 'persistent_workers': True}\n",
    "             }"
   ],
   "metadata": {
    "collapsed": false,
    "ExecuteTime": {
     "start_time": "2024-04-17T18:32:37.618476Z",
     "end_time": "2024-04-17T18:32:38.168477Z"
    }
   }
  },
  {
   "cell_type": "code",
   "execution_count": 17,
   "metadata": {
    "ExecuteTime": {
     "start_time": "2024-04-17T18:32:38.280476Z",
     "end_time": "2024-04-17T18:32:40.508475Z"
    }
   },
   "outputs": [],
   "source": [
    "swav = SwaV().load_from_checkpoint(\n",
    "    ckpt_folder_root + 'rns_swav_50_12/rns_swav-epoch=82-swav_loss=2.58204.ckpt')\n",
    "model = SupervisedDownstream(swav.backbone)\n",
    "# initialize model and save the model state\n",
    "device = \"cuda\" if torch.cuda.is_available() else \"cpu\""
   ]
  },
  {
   "cell_type": "code",
   "execution_count": 19,
   "metadata": {
    "ExecuteTime": {
     "start_time": "2024-04-17T18:32:41.506161Z",
     "end_time": "2024-04-17T18:32:42.081158Z"
    }
   },
   "outputs": [
    {
     "name": "stderr",
     "output_type": "stream",
     "text": [
      "Using 16bit native Automatic Mixed Precision (AMP)\n",
      "GPU available: True (cuda), used: True\n",
      "TPU available: False, using: 0 TPU cores\n",
      "IPU available: False, using: 0 IPUs\n",
      "HPU available: False, using: 0 HPUs\n"
     ]
    }
   ],
   "source": [
    "trainer = pl.Trainer( accelerator='gpu', devices=1,precision=16)\n",
    "from models.rns_dataloader import RNS_Active_by_episode_LSTM, collate_fn\n",
    "train_dataset = RNS_Active_by_episode_LSTM(train_data, train_label, transform=False, astensor=True)\n",
    "\n",
    "train_dataloader = torch.utils.data.DataLoader(\n",
    "    train_dataset,\n",
    "    batch_size=4,\n",
    "    collate_fn=collate_fn,\n",
    "    shuffle=False,\n",
    "    drop_last=True,\n",
    ")"
   ]
  },
  {
   "cell_type": "code",
   "outputs": [
    {
     "data": {
      "text/plain": "array([55685, 55686, 55687, ..., 77472, 77473, 77474])"
     },
     "execution_count": 6,
     "metadata": {},
     "output_type": "execute_result"
    }
   ],
   "source": [
    "strategy_name = 'RandomSampling'\n",
    "with open(log_folder_root + 'rns_active_selected/' + strategy_name + '/' + 'selected_indices.pkl', 'rb') as f:\n",
    "    # Load the content of the file into a Python object\n",
    "        selected_inds = pickle.load(f)\n",
    "\n",
    "selected_inds[1]"
   ],
   "metadata": {
    "collapsed": false,
    "ExecuteTime": {
     "end_time": "2024-04-19T03:46:34.783737Z",
     "start_time": "2024-04-19T03:46:34.257737Z"
    }
   },
   "execution_count": 6
  },
  {
   "cell_type": "code",
   "execution_count": null,
   "outputs": [],
   "source": [
    "for rd in range(1, NUM_ROUND + 1):\n",
    "    print('round ' + str(rd))\n",
    "    log_file_name = log_folder_root + 'rns_active/active_logs_' + strategy_name + '/logger_round_' + str(\n",
    "        rd - 1) + '/version_0/metrics.csv'\n",
    "    logs = pd.read_csv(log_file_name)\n",
    "    max_ind = logs['val_acc'].argmax()\n",
    "    max_row = logs.iloc[max_ind]\n",
    "    ckpt_directory = ckpt_folder_root + 'rns_active/active_checkpoints_' + strategy_name\n",
    "    ckpt_files = os.listdir(ckpt_directory)\n",
    "    load_file_name = strategy_name + '_round_' + str(rd - 1) + '-step=' + str(int(max_row['step']+1))\n",
    "    print(load_file_name)\n",
    "\n",
    "    ind = next((i for i, s in enumerate(ckpt_files) if load_file_name in s), None)\n",
    "    print(ind, ckpt_files[ind])\n",
    "    strategy.net.net.load_from_checkpoint(ckpt_directory + '/' + ckpt_files[ind], backbone=swav.backbone)\n",
    "\n",
    "    q_idxs = strategy.query(NUM_QUERY * 90)\n",
    "\n",
    "    with open(log_folder_root + 'rns_active_selected/' + strategy_name + '/' + 'selected_indices.pkl', 'rb') as f:\n",
    "    # Load the content of the file into a Python object\n",
    "        selected_inds = pickle.load(f)\n",
    "    selected_inds[rd] = q_idxs\n",
    "    with open(log_folder_root + 'rns_active_selected/' + strategy_name + '/' + 'selected_indices.pkl', 'wb') as f:\n",
    "        pickle.dump(selected_inds, f)\n",
    "# Now you can use the dictionary object as usual\n",
    "    strategy.update(q_idxs)\n",
    "    strategy.net.round = rd\n",
    "    strategy.net.net.load_state_dict(modelstate)\n",
    "    torch.cuda.empty_cache()\n",
    "    strategy.train()\n",
    "    torch.cuda.empty_cache()"
   ],
   "metadata": {
    "collapsed": false
   }
  },
  {
   "cell_type": "code",
   "execution_count": 190,
   "outputs": [
    {
     "name": "stderr",
     "output_type": "stream",
     "text": [
      "  0%|          | 0/176 [00:00<?, ?it/s]LOCAL_RANK: 0 - CUDA_VISIBLE_DEVICES: [0]\n"
     ]
    },
    {
     "data": {
      "text/plain": "Predicting: 0it [00:00, ?it/s]",
      "application/vnd.jupyter.widget-view+json": {
       "version_major": 2,
       "version_minor": 0,
       "model_id": "1366dbac38ce4550a98b651fd61bad2c"
      }
     },
     "metadata": {},
     "output_type": "display_data"
    },
    {
     "name": "stderr",
     "output_type": "stream",
     "text": [
      "  1%|          | 1/176 [00:05<16:46,  5.75s/it]LOCAL_RANK: 0 - CUDA_VISIBLE_DEVICES: [0]\n"
     ]
    },
    {
     "name": "stdout",
     "output_type": "stream",
     "text": [
      "high_f1 0.6977950713359273 ..\\..\\..\\user_data\\checkpoints\\rns_active\\active_checkpoints_MarginSamplingDropout\\MarginSamplingDropout_round_2-step=1500-train_loss=0.01494.ckpt\n",
      "high_class_f1 0.8 ..\\..\\..\\user_data\\checkpoints\\rns_active\\active_checkpoints_MarginSamplingDropout\\MarginSamplingDropout_round_2-step=1500-train_loss=0.01494.ckpt\n"
     ]
    },
    {
     "data": {
      "text/plain": "Predicting: 0it [00:00, ?it/s]",
      "application/vnd.jupyter.widget-view+json": {
       "version_major": 2,
       "version_minor": 0,
       "model_id": "4b6b28b6850f4fb79f468a57bbb82c92"
      }
     },
     "metadata": {},
     "output_type": "display_data"
    },
    {
     "name": "stderr",
     "output_type": "stream",
     "text": [
      "  1%|          | 2/176 [00:11<16:14,  5.60s/it]LOCAL_RANK: 0 - CUDA_VISIBLE_DEVICES: [0]\n"
     ]
    },
    {
     "name": "stdout",
     "output_type": "stream",
     "text": [
      "high_f1 0.7001287001287002 ..\\..\\..\\user_data\\checkpoints\\rns_active\\active_checkpoints_MarginSamplingDropout\\MarginSamplingDropout_round_2-step=1575-train_loss=0.01105.ckpt\n",
      "high_class_f1 0.8 ..\\..\\..\\user_data\\checkpoints\\rns_active\\active_checkpoints_MarginSamplingDropout\\MarginSamplingDropout_round_2-step=1575-train_loss=0.01105.ckpt\n"
     ]
    },
    {
     "data": {
      "text/plain": "Predicting: 0it [00:00, ?it/s]",
      "application/vnd.jupyter.widget-view+json": {
       "version_major": 2,
       "version_minor": 0,
       "model_id": "47b4599738bb46778f715d753849296d"
      }
     },
     "metadata": {},
     "output_type": "display_data"
    },
    {
     "name": "stderr",
     "output_type": "stream",
     "text": [
      "  2%|▏         | 3/176 [00:16<16:08,  5.60s/it]LOCAL_RANK: 0 - CUDA_VISIBLE_DEVICES: [0]\n"
     ]
    },
    {
     "name": "stdout",
     "output_type": "stream",
     "text": [
      "high_f1 0.7272727272727274 ..\\..\\..\\user_data\\checkpoints\\rns_active\\active_checkpoints_MarginSamplingDropout\\MarginSamplingDropout_round_2-step=1650-train_loss=0.01088.ckpt\n",
      "high_class_f1 0.846153846153846 ..\\..\\..\\user_data\\checkpoints\\rns_active\\active_checkpoints_MarginSamplingDropout\\MarginSamplingDropout_round_2-step=1650-train_loss=0.01088.ckpt\n"
     ]
    },
    {
     "data": {
      "text/plain": "Predicting: 0it [00:00, ?it/s]",
      "application/vnd.jupyter.widget-view+json": {
       "version_major": 2,
       "version_minor": 0,
       "model_id": "d279d4b04ae04caea726dbbdcbacbbd5"
      }
     },
     "metadata": {},
     "output_type": "display_data"
    },
    {
     "name": "stderr",
     "output_type": "stream",
     "text": [
      "  2%|▏         | 4/176 [00:22<15:56,  5.56s/it]LOCAL_RANK: 0 - CUDA_VISIBLE_DEVICES: [0]\n"
     ]
    },
    {
     "data": {
      "text/plain": "Predicting: 0it [00:00, ?it/s]",
      "application/vnd.jupyter.widget-view+json": {
       "version_major": 2,
       "version_minor": 0,
       "model_id": "bdafe4aef95349d3a8bb2c011da774fb"
      }
     },
     "metadata": {},
     "output_type": "display_data"
    },
    {
     "name": "stderr",
     "output_type": "stream",
     "text": [
      "  3%|▎         | 5/176 [00:27<15:46,  5.53s/it]LOCAL_RANK: 0 - CUDA_VISIBLE_DEVICES: [0]\n"
     ]
    },
    {
     "data": {
      "text/plain": "Predicting: 0it [00:00, ?it/s]",
      "application/vnd.jupyter.widget-view+json": {
       "version_major": 2,
       "version_minor": 0,
       "model_id": "5b8e3e07ac5e4efabedc155e30132a4b"
      }
     },
     "metadata": {},
     "output_type": "display_data"
    },
    {
     "name": "stderr",
     "output_type": "stream",
     "text": [
      "  3%|▎         | 6/176 [00:33<15:43,  5.55s/it]LOCAL_RANK: 0 - CUDA_VISIBLE_DEVICES: [0]\n"
     ]
    },
    {
     "data": {
      "text/plain": "Predicting: 0it [00:00, ?it/s]",
      "application/vnd.jupyter.widget-view+json": {
       "version_major": 2,
       "version_minor": 0,
       "model_id": "860c7bfbbb614b89b02f0a8112a17acd"
      }
     },
     "metadata": {},
     "output_type": "display_data"
    },
    {
     "name": "stderr",
     "output_type": "stream",
     "text": [
      "  4%|▍         | 7/176 [00:38<15:34,  5.53s/it]LOCAL_RANK: 0 - CUDA_VISIBLE_DEVICES: [0]\n"
     ]
    },
    {
     "name": "stdout",
     "output_type": "stream",
     "text": [
      "high_class_f1 0.846153846153846 ..\\..\\..\\user_data\\checkpoints\\rns_active\\active_checkpoints_MarginSamplingDropout\\MarginSamplingDropout_round_3-step=225-train_loss=0.03723.ckpt\n"
     ]
    },
    {
     "data": {
      "text/plain": "Predicting: 0it [00:00, ?it/s]",
      "application/vnd.jupyter.widget-view+json": {
       "version_major": 2,
       "version_minor": 0,
       "model_id": "25f68f22cd5d46b48c13cfa92df356ec"
      }
     },
     "metadata": {},
     "output_type": "display_data"
    },
    {
     "name": "stderr",
     "output_type": "stream",
     "text": [
      "  5%|▍         | 8/176 [00:44<15:31,  5.55s/it]LOCAL_RANK: 0 - CUDA_VISIBLE_DEVICES: [0]\n"
     ]
    },
    {
     "name": "stdout",
     "output_type": "stream",
     "text": [
      "high_class_f1 0.846153846153846 ..\\..\\..\\user_data\\checkpoints\\rns_active\\active_checkpoints_MarginSamplingDropout\\MarginSamplingDropout_round_3-step=300-train_loss=0.01363.ckpt\n"
     ]
    },
    {
     "data": {
      "text/plain": "Predicting: 0it [00:00, ?it/s]",
      "application/vnd.jupyter.widget-view+json": {
       "version_major": 2,
       "version_minor": 0,
       "model_id": "930edd6e492b4922bc4dcf4289b974ac"
      }
     },
     "metadata": {},
     "output_type": "display_data"
    },
    {
     "name": "stderr",
     "output_type": "stream",
     "text": [
      "  5%|▌         | 9/176 [00:49<15:23,  5.53s/it]LOCAL_RANK: 0 - CUDA_VISIBLE_DEVICES: [0]\n"
     ]
    },
    {
     "data": {
      "text/plain": "Predicting: 0it [00:00, ?it/s]",
      "application/vnd.jupyter.widget-view+json": {
       "version_major": 2,
       "version_minor": 0,
       "model_id": "b5582ccaa7f541e387b6d13b438e084a"
      }
     },
     "metadata": {},
     "output_type": "display_data"
    },
    {
     "name": "stderr",
     "output_type": "stream",
     "text": [
      "  6%|▌         | 10/176 [00:55<15:16,  5.52s/it]LOCAL_RANK: 0 - CUDA_VISIBLE_DEVICES: [0]\n"
     ]
    },
    {
     "data": {
      "text/plain": "Predicting: 0it [00:00, ?it/s]",
      "application/vnd.jupyter.widget-view+json": {
       "version_major": 2,
       "version_minor": 0,
       "model_id": "8a53aa2baf744fd8b31f1fe89b3b36c2"
      }
     },
     "metadata": {},
     "output_type": "display_data"
    },
    {
     "name": "stderr",
     "output_type": "stream",
     "text": [
      "  6%|▋         | 11/176 [01:01<15:11,  5.53s/it]LOCAL_RANK: 0 - CUDA_VISIBLE_DEVICES: [0]\n"
     ]
    },
    {
     "name": "stdout",
     "output_type": "stream",
     "text": [
      "high_f1 0.7644110275689223 ..\\..\\..\\user_data\\checkpoints\\rns_active\\active_checkpoints_MarginSamplingDropout\\MarginSamplingDropout_round_3-step=525-train_loss=0.01328.ckpt\n",
      "high_class_f1 0.888888888888889 ..\\..\\..\\user_data\\checkpoints\\rns_active\\active_checkpoints_MarginSamplingDropout\\MarginSamplingDropout_round_3-step=525-train_loss=0.01328.ckpt\n"
     ]
    },
    {
     "data": {
      "text/plain": "Predicting: 0it [00:00, ?it/s]",
      "application/vnd.jupyter.widget-view+json": {
       "version_major": 2,
       "version_minor": 0,
       "model_id": "9f3338f70659464d906156d75ab27cf5"
      }
     },
     "metadata": {},
     "output_type": "display_data"
    },
    {
     "name": "stderr",
     "output_type": "stream",
     "text": [
      "  7%|▋         | 12/176 [01:06<15:07,  5.54s/it]LOCAL_RANK: 0 - CUDA_VISIBLE_DEVICES: [0]\n"
     ]
    },
    {
     "data": {
      "text/plain": "Predicting: 0it [00:00, ?it/s]",
      "application/vnd.jupyter.widget-view+json": {
       "version_major": 2,
       "version_minor": 0,
       "model_id": "d05b4b77889943b681abaea7fa6a8f52"
      }
     },
     "metadata": {},
     "output_type": "display_data"
    },
    {
     "name": "stderr",
     "output_type": "stream",
     "text": [
      "  7%|▋         | 13/176 [01:12<15:11,  5.59s/it]LOCAL_RANK: 0 - CUDA_VISIBLE_DEVICES: [0]\n"
     ]
    },
    {
     "name": "stdout",
     "output_type": "stream",
     "text": [
      "high_f1 0.7735849056603773 ..\\..\\..\\user_data\\checkpoints\\rns_active\\active_checkpoints_MarginSamplingDropout\\MarginSamplingDropout_round_3-step=675-train_loss=0.01668.ckpt\n",
      "high_class_f1 0.888888888888889 ..\\..\\..\\user_data\\checkpoints\\rns_active\\active_checkpoints_MarginSamplingDropout\\MarginSamplingDropout_round_3-step=675-train_loss=0.01668.ckpt\n"
     ]
    },
    {
     "data": {
      "text/plain": "Predicting: 0it [00:00, ?it/s]",
      "application/vnd.jupyter.widget-view+json": {
       "version_major": 2,
       "version_minor": 0,
       "model_id": "cbe651a0fac94b199a133a4b20c867cd"
      }
     },
     "metadata": {},
     "output_type": "display_data"
    },
    {
     "name": "stderr",
     "output_type": "stream",
     "text": [
      "  8%|▊         | 14/176 [01:17<15:04,  5.58s/it]LOCAL_RANK: 0 - CUDA_VISIBLE_DEVICES: [0]\n"
     ]
    },
    {
     "data": {
      "text/plain": "Predicting: 0it [00:00, ?it/s]",
      "application/vnd.jupyter.widget-view+json": {
       "version_major": 2,
       "version_minor": 0,
       "model_id": "691246ef8d834727b13671ef24d7aa38"
      }
     },
     "metadata": {},
     "output_type": "display_data"
    },
    {
     "name": "stderr",
     "output_type": "stream",
     "text": [
      "  9%|▊         | 15/176 [01:23<14:58,  5.58s/it]LOCAL_RANK: 0 - CUDA_VISIBLE_DEVICES: [0]\n"
     ]
    },
    {
     "name": "stdout",
     "output_type": "stream",
     "text": [
      "high_class_f1 0.888888888888889 ..\\..\\..\\user_data\\checkpoints\\rns_active\\active_checkpoints_MarginSamplingDropout\\MarginSamplingDropout_round_3-step=825-train_loss=0.04724.ckpt\n"
     ]
    },
    {
     "data": {
      "text/plain": "Predicting: 0it [00:00, ?it/s]",
      "application/vnd.jupyter.widget-view+json": {
       "version_major": 2,
       "version_minor": 0,
       "model_id": "47dc7e866a724e6d9edd0292a53948b5"
      }
     },
     "metadata": {},
     "output_type": "display_data"
    },
    {
     "name": "stderr",
     "output_type": "stream",
     "text": [
      "  9%|▉         | 16/176 [01:29<14:55,  5.60s/it]LOCAL_RANK: 0 - CUDA_VISIBLE_DEVICES: [0]\n"
     ]
    },
    {
     "name": "stdout",
     "output_type": "stream",
     "text": [
      "high_f1 0.7773766546329722 ..\\..\\..\\user_data\\checkpoints\\rns_active\\active_checkpoints_MarginSamplingDropout\\MarginSamplingDropout_round_3-step=900-train_loss=0.01129.ckpt\n",
      "high_class_f1 0.888888888888889 ..\\..\\..\\user_data\\checkpoints\\rns_active\\active_checkpoints_MarginSamplingDropout\\MarginSamplingDropout_round_3-step=900-train_loss=0.01129.ckpt\n"
     ]
    },
    {
     "data": {
      "text/plain": "Predicting: 0it [00:00, ?it/s]",
      "application/vnd.jupyter.widget-view+json": {
       "version_major": 2,
       "version_minor": 0,
       "model_id": "cbc49ee595fe4192a92136840a2a939c"
      }
     },
     "metadata": {},
     "output_type": "display_data"
    },
    {
     "name": "stderr",
     "output_type": "stream",
     "text": [
      " 10%|▉         | 17/176 [01:34<14:46,  5.58s/it]LOCAL_RANK: 0 - CUDA_VISIBLE_DEVICES: [0]\n"
     ]
    },
    {
     "data": {
      "text/plain": "Predicting: 0it [00:00, ?it/s]",
      "application/vnd.jupyter.widget-view+json": {
       "version_major": 2,
       "version_minor": 0,
       "model_id": "eaa886233a324666a627f71748b8f46c"
      }
     },
     "metadata": {},
     "output_type": "display_data"
    },
    {
     "name": "stderr",
     "output_type": "stream",
     "text": [
      " 10%|█         | 18/176 [01:40<14:45,  5.60s/it]LOCAL_RANK: 0 - CUDA_VISIBLE_DEVICES: [0]\n"
     ]
    },
    {
     "name": "stdout",
     "output_type": "stream",
     "text": [
      "high_f1 0.780652418447694 ..\\..\\..\\user_data\\checkpoints\\rns_active\\active_checkpoints_MarginSamplingDropout\\MarginSamplingDropout_round_3-step=1050-train_loss=0.01149.ckpt\n",
      "high_class_f1 0.888888888888889 ..\\..\\..\\user_data\\checkpoints\\rns_active\\active_checkpoints_MarginSamplingDropout\\MarginSamplingDropout_round_3-step=1050-train_loss=0.01149.ckpt\n"
     ]
    },
    {
     "data": {
      "text/plain": "Predicting: 0it [00:00, ?it/s]",
      "application/vnd.jupyter.widget-view+json": {
       "version_major": 2,
       "version_minor": 0,
       "model_id": "607938adf80943f481a90c912ee74873"
      }
     },
     "metadata": {},
     "output_type": "display_data"
    },
    {
     "name": "stderr",
     "output_type": "stream",
     "text": [
      " 11%|█         | 19/176 [01:45<14:40,  5.61s/it]LOCAL_RANK: 0 - CUDA_VISIBLE_DEVICES: [0]\n"
     ]
    },
    {
     "name": "stdout",
     "output_type": "stream",
     "text": [
      "high_class_f1 0.888888888888889 ..\\..\\..\\user_data\\checkpoints\\rns_active\\active_checkpoints_MarginSamplingDropout\\MarginSamplingDropout_round_3-step=1125-train_loss=0.02841.ckpt\n"
     ]
    },
    {
     "data": {
      "text/plain": "Predicting: 0it [00:00, ?it/s]",
      "application/vnd.jupyter.widget-view+json": {
       "version_major": 2,
       "version_minor": 0,
       "model_id": "1f05cb6ef96e46bda5c33c8c17ea0a3c"
      }
     },
     "metadata": {},
     "output_type": "display_data"
    },
    {
     "name": "stderr",
     "output_type": "stream",
     "text": [
      " 11%|█▏        | 20/176 [01:51<14:32,  5.59s/it]LOCAL_RANK: 0 - CUDA_VISIBLE_DEVICES: [0]\n"
     ]
    },
    {
     "name": "stdout",
     "output_type": "stream",
     "text": [
      "high_class_f1 0.888888888888889 ..\\..\\..\\user_data\\checkpoints\\rns_active\\active_checkpoints_MarginSamplingDropout\\MarginSamplingDropout_round_3-step=1200-train_loss=0.01092.ckpt\n"
     ]
    },
    {
     "data": {
      "text/plain": "Predicting: 0it [00:00, ?it/s]",
      "application/vnd.jupyter.widget-view+json": {
       "version_major": 2,
       "version_minor": 0,
       "model_id": "ca0cf486715f4604ba4a469fc503e54c"
      }
     },
     "metadata": {},
     "output_type": "display_data"
    },
    {
     "name": "stderr",
     "output_type": "stream",
     "text": [
      " 12%|█▏        | 21/176 [01:57<14:28,  5.61s/it]LOCAL_RANK: 0 - CUDA_VISIBLE_DEVICES: [0]\n"
     ]
    },
    {
     "data": {
      "text/plain": "Predicting: 0it [00:00, ?it/s]",
      "application/vnd.jupyter.widget-view+json": {
       "version_major": 2,
       "version_minor": 0,
       "model_id": "73517bbad20a4c89bede4159359c98d0"
      }
     },
     "metadata": {},
     "output_type": "display_data"
    },
    {
     "name": "stderr",
     "output_type": "stream",
     "text": [
      " 12%|█▎        | 22/176 [02:02<14:19,  5.58s/it]LOCAL_RANK: 0 - CUDA_VISIBLE_DEVICES: [0]\n"
     ]
    },
    {
     "name": "stdout",
     "output_type": "stream",
     "text": [
      "high_class_f1 0.888888888888889 ..\\..\\..\\user_data\\checkpoints\\rns_active\\active_checkpoints_MarginSamplingDropout\\MarginSamplingDropout_round_3-step=1350-train_loss=0.01721.ckpt\n"
     ]
    },
    {
     "data": {
      "text/plain": "Predicting: 0it [00:00, ?it/s]",
      "application/vnd.jupyter.widget-view+json": {
       "version_major": 2,
       "version_minor": 0,
       "model_id": "e71ee2a661b5419bbd5995627eb92aee"
      }
     },
     "metadata": {},
     "output_type": "display_data"
    },
    {
     "name": "stderr",
     "output_type": "stream",
     "text": [
      " 13%|█▎        | 23/176 [02:08<14:16,  5.60s/it]LOCAL_RANK: 0 - CUDA_VISIBLE_DEVICES: [0]\n"
     ]
    },
    {
     "data": {
      "text/plain": "Predicting: 0it [00:00, ?it/s]",
      "application/vnd.jupyter.widget-view+json": {
       "version_major": 2,
       "version_minor": 0,
       "model_id": "5e95935181b94c5fbc3e36c2778bc4c4"
      }
     },
     "metadata": {},
     "output_type": "display_data"
    },
    {
     "name": "stderr",
     "output_type": "stream",
     "text": [
      " 14%|█▎        | 24/176 [02:13<14:10,  5.60s/it]LOCAL_RANK: 0 - CUDA_VISIBLE_DEVICES: [0]\n"
     ]
    },
    {
     "name": "stdout",
     "output_type": "stream",
     "text": [
      "high_class_f1 0.888888888888889 ..\\..\\..\\user_data\\checkpoints\\rns_active\\active_checkpoints_MarginSamplingDropout\\MarginSamplingDropout_round_3-step=1500-train_loss=0.01141.ckpt\n"
     ]
    },
    {
     "data": {
      "text/plain": "Predicting: 0it [00:00, ?it/s]",
      "application/vnd.jupyter.widget-view+json": {
       "version_major": 2,
       "version_minor": 0,
       "model_id": "1880114709424f66819972f890470aec"
      }
     },
     "metadata": {},
     "output_type": "display_data"
    },
    {
     "name": "stderr",
     "output_type": "stream",
     "text": [
      " 14%|█▍        | 25/176 [02:19<14:03,  5.58s/it]LOCAL_RANK: 0 - CUDA_VISIBLE_DEVICES: [0]\n"
     ]
    },
    {
     "data": {
      "text/plain": "Predicting: 0it [00:00, ?it/s]",
      "application/vnd.jupyter.widget-view+json": {
       "version_major": 2,
       "version_minor": 0,
       "model_id": "2cc46211dd0a46bab3fdcab994ccd1a4"
      }
     },
     "metadata": {},
     "output_type": "display_data"
    },
    {
     "name": "stderr",
     "output_type": "stream",
     "text": [
      " 15%|█▍        | 26/176 [02:24<13:57,  5.58s/it]LOCAL_RANK: 0 - CUDA_VISIBLE_DEVICES: [0]\n"
     ]
    },
    {
     "data": {
      "text/plain": "Predicting: 0it [00:00, ?it/s]",
      "application/vnd.jupyter.widget-view+json": {
       "version_major": 2,
       "version_minor": 0,
       "model_id": "51ed9a1af05f4f9a8eb5215ff9787976"
      }
     },
     "metadata": {},
     "output_type": "display_data"
    },
    {
     "name": "stderr",
     "output_type": "stream",
     "text": [
      " 15%|█▌        | 27/176 [02:30<13:48,  5.56s/it]LOCAL_RANK: 0 - CUDA_VISIBLE_DEVICES: [0]\n"
     ]
    },
    {
     "data": {
      "text/plain": "Predicting: 0it [00:00, ?it/s]",
      "application/vnd.jupyter.widget-view+json": {
       "version_major": 2,
       "version_minor": 0,
       "model_id": "b9cc936b94884ab69e1105d11d18fe11"
      }
     },
     "metadata": {},
     "output_type": "display_data"
    },
    {
     "name": "stderr",
     "output_type": "stream",
     "text": [
      " 16%|█▌        | 28/176 [02:36<13:47,  5.59s/it]LOCAL_RANK: 0 - CUDA_VISIBLE_DEVICES: [0]\n"
     ]
    },
    {
     "data": {
      "text/plain": "Predicting: 0it [00:00, ?it/s]",
      "application/vnd.jupyter.widget-view+json": {
       "version_major": 2,
       "version_minor": 0,
       "model_id": "530e2190248d4f9f8351a0763450cb9e"
      }
     },
     "metadata": {},
     "output_type": "display_data"
    },
    {
     "name": "stderr",
     "output_type": "stream",
     "text": [
      " 16%|█▋        | 29/176 [02:41<13:45,  5.61s/it]LOCAL_RANK: 0 - CUDA_VISIBLE_DEVICES: [0]\n"
     ]
    },
    {
     "data": {
      "text/plain": "Predicting: 0it [00:00, ?it/s]",
      "application/vnd.jupyter.widget-view+json": {
       "version_major": 2,
       "version_minor": 0,
       "model_id": "b3165754aa5946a885e0ff66264c77c8"
      }
     },
     "metadata": {},
     "output_type": "display_data"
    },
    {
     "name": "stderr",
     "output_type": "stream",
     "text": [
      " 17%|█▋        | 30/176 [02:47<14:00,  5.76s/it]LOCAL_RANK: 0 - CUDA_VISIBLE_DEVICES: [0]\n"
     ]
    },
    {
     "data": {
      "text/plain": "Predicting: 0it [00:00, ?it/s]",
      "application/vnd.jupyter.widget-view+json": {
       "version_major": 2,
       "version_minor": 0,
       "model_id": "8abaef242b424e2f98b1c3a3a41a2756"
      }
     },
     "metadata": {},
     "output_type": "display_data"
    },
    {
     "name": "stderr",
     "output_type": "stream",
     "text": [
      " 18%|█▊        | 31/176 [02:53<13:53,  5.75s/it]LOCAL_RANK: 0 - CUDA_VISIBLE_DEVICES: [0]\n"
     ]
    },
    {
     "data": {
      "text/plain": "Predicting: 0it [00:00, ?it/s]",
      "application/vnd.jupyter.widget-view+json": {
       "version_major": 2,
       "version_minor": 0,
       "model_id": "0625a2ced59644ffa44a3365fb737e58"
      }
     },
     "metadata": {},
     "output_type": "display_data"
    },
    {
     "name": "stderr",
     "output_type": "stream",
     "text": [
      " 18%|█▊        | 32/176 [02:59<13:39,  5.69s/it]LOCAL_RANK: 0 - CUDA_VISIBLE_DEVICES: [0]\n"
     ]
    },
    {
     "data": {
      "text/plain": "Predicting: 0it [00:00, ?it/s]",
      "application/vnd.jupyter.widget-view+json": {
       "version_major": 2,
       "version_minor": 0,
       "model_id": "06ac3e68d8a24d71ad9fb34edeb7e842"
      }
     },
     "metadata": {},
     "output_type": "display_data"
    },
    {
     "name": "stderr",
     "output_type": "stream",
     "text": [
      " 19%|█▉        | 33/176 [03:04<13:26,  5.64s/it]LOCAL_RANK: 0 - CUDA_VISIBLE_DEVICES: [0]\n"
     ]
    },
    {
     "data": {
      "text/plain": "Predicting: 0it [00:00, ?it/s]",
      "application/vnd.jupyter.widget-view+json": {
       "version_major": 2,
       "version_minor": 0,
       "model_id": "d501365f89b444aa8646c670e71beb0f"
      }
     },
     "metadata": {},
     "output_type": "display_data"
    },
    {
     "name": "stderr",
     "output_type": "stream",
     "text": [
      " 19%|█▉        | 34/176 [03:10<13:14,  5.60s/it]LOCAL_RANK: 0 - CUDA_VISIBLE_DEVICES: [0]\n"
     ]
    },
    {
     "name": "stdout",
     "output_type": "stream",
     "text": [
      "high_class_f1 0.888888888888889 ..\\..\\..\\user_data\\checkpoints\\rns_active\\active_checkpoints_MarginSamplingDropout\\MarginSamplingDropout_round_4-step=600-train_loss=0.01605.ckpt\n"
     ]
    },
    {
     "data": {
      "text/plain": "Predicting: 0it [00:00, ?it/s]",
      "application/vnd.jupyter.widget-view+json": {
       "version_major": 2,
       "version_minor": 0,
       "model_id": "211238ca3c1041efbf7e8074a0b21bbc"
      }
     },
     "metadata": {},
     "output_type": "display_data"
    },
    {
     "name": "stderr",
     "output_type": "stream",
     "text": [
      " 20%|█▉        | 35/176 [03:15<13:13,  5.63s/it]LOCAL_RANK: 0 - CUDA_VISIBLE_DEVICES: [0]\n"
     ]
    },
    {
     "data": {
      "text/plain": "Predicting: 0it [00:00, ?it/s]",
      "application/vnd.jupyter.widget-view+json": {
       "version_major": 2,
       "version_minor": 0,
       "model_id": "15aaa010a1814d998daecb4c3d6032a3"
      }
     },
     "metadata": {},
     "output_type": "display_data"
    },
    {
     "name": "stderr",
     "output_type": "stream",
     "text": [
      " 20%|██        | 36/176 [03:21<13:05,  5.61s/it]LOCAL_RANK: 0 - CUDA_VISIBLE_DEVICES: [0]\n"
     ]
    },
    {
     "data": {
      "text/plain": "Predicting: 0it [00:00, ?it/s]",
      "application/vnd.jupyter.widget-view+json": {
       "version_major": 2,
       "version_minor": 0,
       "model_id": "f04beed41b8c48ac8fcee1cbd4f5c720"
      }
     },
     "metadata": {},
     "output_type": "display_data"
    },
    {
     "name": "stderr",
     "output_type": "stream",
     "text": [
      " 21%|██        | 37/176 [03:26<12:43,  5.50s/it]LOCAL_RANK: 0 - CUDA_VISIBLE_DEVICES: [0]\n"
     ]
    },
    {
     "name": "stdout",
     "output_type": "stream",
     "text": [
      "high_class_f1 0.888888888888889 ..\\..\\..\\user_data\\checkpoints\\rns_active\\active_checkpoints_MarginSamplingDropout\\MarginSamplingDropout_round_4-step=825-train_loss=0.02223.ckpt\n"
     ]
    },
    {
     "data": {
      "text/plain": "Predicting: 0it [00:00, ?it/s]",
      "application/vnd.jupyter.widget-view+json": {
       "version_major": 2,
       "version_minor": 0,
       "model_id": "54cbef0fd577424c8a42faf78d9680f7"
      }
     },
     "metadata": {},
     "output_type": "display_data"
    },
    {
     "name": "stderr",
     "output_type": "stream",
     "text": [
      " 22%|██▏       | 38/176 [03:33<13:14,  5.76s/it]LOCAL_RANK: 0 - CUDA_VISIBLE_DEVICES: [0]\n"
     ]
    },
    {
     "data": {
      "text/plain": "Predicting: 0it [00:00, ?it/s]",
      "application/vnd.jupyter.widget-view+json": {
       "version_major": 2,
       "version_minor": 0,
       "model_id": "343532057bd9498baffdb83cb588ddaf"
      }
     },
     "metadata": {},
     "output_type": "display_data"
    },
    {
     "name": "stderr",
     "output_type": "stream",
     "text": [
      " 22%|██▏       | 39/176 [03:38<12:58,  5.68s/it]LOCAL_RANK: 0 - CUDA_VISIBLE_DEVICES: [0]\n"
     ]
    },
    {
     "name": "stdout",
     "output_type": "stream",
     "text": [
      "high_class_f1 0.896551724137931 ..\\..\\..\\user_data\\checkpoints\\rns_active\\active_checkpoints_MarginSamplingDropout\\MarginSamplingDropout_round_4-step=975-train_loss=0.01749.ckpt\n"
     ]
    },
    {
     "data": {
      "text/plain": "Predicting: 0it [00:00, ?it/s]",
      "application/vnd.jupyter.widget-view+json": {
       "version_major": 2,
       "version_minor": 0,
       "model_id": "c8c63629ae844d469aa1c7ebfd163e6b"
      }
     },
     "metadata": {},
     "output_type": "display_data"
    },
    {
     "name": "stderr",
     "output_type": "stream",
     "text": [
      " 23%|██▎       | 40/176 [03:44<12:52,  5.68s/it]LOCAL_RANK: 0 - CUDA_VISIBLE_DEVICES: [0]\n"
     ]
    },
    {
     "data": {
      "text/plain": "Predicting: 0it [00:00, ?it/s]",
      "application/vnd.jupyter.widget-view+json": {
       "version_major": 2,
       "version_minor": 0,
       "model_id": "062a4c68c39c42f482f306bf55074f16"
      }
     },
     "metadata": {},
     "output_type": "display_data"
    },
    {
     "name": "stderr",
     "output_type": "stream",
     "text": [
      " 23%|██▎       | 41/176 [03:49<12:42,  5.65s/it]LOCAL_RANK: 0 - CUDA_VISIBLE_DEVICES: [0]\n"
     ]
    },
    {
     "data": {
      "text/plain": "Predicting: 0it [00:00, ?it/s]",
      "application/vnd.jupyter.widget-view+json": {
       "version_major": 2,
       "version_minor": 0,
       "model_id": "f8d9b019830742efb2b6e4f062a8c4f0"
      }
     },
     "metadata": {},
     "output_type": "display_data"
    },
    {
     "name": "stderr",
     "output_type": "stream",
     "text": [
      " 24%|██▍       | 42/176 [03:55<12:40,  5.68s/it]LOCAL_RANK: 0 - CUDA_VISIBLE_DEVICES: [0]\n"
     ]
    },
    {
     "data": {
      "text/plain": "Predicting: 0it [00:00, ?it/s]",
      "application/vnd.jupyter.widget-view+json": {
       "version_major": 2,
       "version_minor": 0,
       "model_id": "29e5c29a15dd4c65a91815c118c9fec3"
      }
     },
     "metadata": {},
     "output_type": "display_data"
    },
    {
     "name": "stderr",
     "output_type": "stream",
     "text": [
      " 24%|██▍       | 43/176 [04:04<14:26,  6.52s/it]LOCAL_RANK: 0 - CUDA_VISIBLE_DEVICES: [0]\n"
     ]
    },
    {
     "data": {
      "text/plain": "Predicting: 0it [00:00, ?it/s]",
      "application/vnd.jupyter.widget-view+json": {
       "version_major": 2,
       "version_minor": 0,
       "model_id": "1e7d4b6377a4456ebf98ff25766f0004"
      }
     },
     "metadata": {},
     "output_type": "display_data"
    },
    {
     "name": "stderr",
     "output_type": "stream",
     "text": [
      " 25%|██▌       | 44/176 [04:09<13:44,  6.25s/it]LOCAL_RANK: 0 - CUDA_VISIBLE_DEVICES: [0]\n"
     ]
    },
    {
     "data": {
      "text/plain": "Predicting: 0it [00:00, ?it/s]",
      "application/vnd.jupyter.widget-view+json": {
       "version_major": 2,
       "version_minor": 0,
       "model_id": "ae0548ff8e134ba98f5b17ca2f7f052a"
      }
     },
     "metadata": {},
     "output_type": "display_data"
    },
    {
     "name": "stderr",
     "output_type": "stream",
     "text": [
      " 26%|██▌       | 45/176 [04:16<14:02,  6.43s/it]LOCAL_RANK: 0 - CUDA_VISIBLE_DEVICES: [0]\n"
     ]
    },
    {
     "data": {
      "text/plain": "Predicting: 0it [00:00, ?it/s]",
      "application/vnd.jupyter.widget-view+json": {
       "version_major": 2,
       "version_minor": 0,
       "model_id": "292294739cc747ff8e5804bd161d2277"
      }
     },
     "metadata": {},
     "output_type": "display_data"
    },
    {
     "name": "stderr",
     "output_type": "stream",
     "text": [
      " 26%|██▌       | 46/176 [04:23<14:19,  6.62s/it]LOCAL_RANK: 0 - CUDA_VISIBLE_DEVICES: [0]\n"
     ]
    },
    {
     "data": {
      "text/plain": "Predicting: 0it [00:00, ?it/s]",
      "application/vnd.jupyter.widget-view+json": {
       "version_major": 2,
       "version_minor": 0,
       "model_id": "56b89e7360ee493aa335fbc9249d376e"
      }
     },
     "metadata": {},
     "output_type": "display_data"
    },
    {
     "name": "stderr",
     "output_type": "stream",
     "text": [
      " 27%|██▋       | 47/176 [04:29<13:43,  6.39s/it]LOCAL_RANK: 0 - CUDA_VISIBLE_DEVICES: [0]\n"
     ]
    },
    {
     "data": {
      "text/plain": "Predicting: 0it [00:00, ?it/s]",
      "application/vnd.jupyter.widget-view+json": {
       "version_major": 2,
       "version_minor": 0,
       "model_id": "29931a80425b4252835b6c5580be98ba"
      }
     },
     "metadata": {},
     "output_type": "display_data"
    },
    {
     "name": "stderr",
     "output_type": "stream",
     "text": [
      " 27%|██▋       | 48/176 [04:36<13:53,  6.52s/it]LOCAL_RANK: 0 - CUDA_VISIBLE_DEVICES: [0]\n"
     ]
    },
    {
     "data": {
      "text/plain": "Predicting: 0it [00:00, ?it/s]",
      "application/vnd.jupyter.widget-view+json": {
       "version_major": 2,
       "version_minor": 0,
       "model_id": "fff570f0069c43e6b6c49fdc6d844fac"
      }
     },
     "metadata": {},
     "output_type": "display_data"
    },
    {
     "name": "stderr",
     "output_type": "stream",
     "text": [
      " 28%|██▊       | 49/176 [04:42<13:20,  6.31s/it]LOCAL_RANK: 0 - CUDA_VISIBLE_DEVICES: [0]\n"
     ]
    },
    {
     "data": {
      "text/plain": "Predicting: 0it [00:00, ?it/s]",
      "application/vnd.jupyter.widget-view+json": {
       "version_major": 2,
       "version_minor": 0,
       "model_id": "ec3ee39f39c841ff9a7f687c9a64020a"
      }
     },
     "metadata": {},
     "output_type": "display_data"
    },
    {
     "name": "stderr",
     "output_type": "stream",
     "text": [
      " 28%|██▊       | 50/176 [04:48<13:08,  6.26s/it]LOCAL_RANK: 0 - CUDA_VISIBLE_DEVICES: [0]\n"
     ]
    },
    {
     "data": {
      "text/plain": "Predicting: 0it [00:00, ?it/s]",
      "application/vnd.jupyter.widget-view+json": {
       "version_major": 2,
       "version_minor": 0,
       "model_id": "39dba2492d9c4d79a646f48e43b48421"
      }
     },
     "metadata": {},
     "output_type": "display_data"
    },
    {
     "name": "stderr",
     "output_type": "stream",
     "text": [
      " 29%|██▉       | 51/176 [04:54<13:06,  6.29s/it]LOCAL_RANK: 0 - CUDA_VISIBLE_DEVICES: [0]\n"
     ]
    },
    {
     "data": {
      "text/plain": "Predicting: 0it [00:00, ?it/s]",
      "application/vnd.jupyter.widget-view+json": {
       "version_major": 2,
       "version_minor": 0,
       "model_id": "c244c8ea6a26440cb8857cae3b98a471"
      }
     },
     "metadata": {},
     "output_type": "display_data"
    },
    {
     "name": "stderr",
     "output_type": "stream",
     "text": [
      " 30%|██▉       | 52/176 [05:00<12:38,  6.12s/it]LOCAL_RANK: 0 - CUDA_VISIBLE_DEVICES: [0]\n"
     ]
    },
    {
     "data": {
      "text/plain": "Predicting: 0it [00:00, ?it/s]",
      "application/vnd.jupyter.widget-view+json": {
       "version_major": 2,
       "version_minor": 0,
       "model_id": "ee056ef9cad64913b08b8ebc234b2c71"
      }
     },
     "metadata": {},
     "output_type": "display_data"
    },
    {
     "name": "stderr",
     "output_type": "stream",
     "text": [
      " 30%|███       | 53/176 [05:07<13:02,  6.36s/it]LOCAL_RANK: 0 - CUDA_VISIBLE_DEVICES: [0]\n"
     ]
    },
    {
     "name": "stdout",
     "output_type": "stream",
     "text": [
      "high_f1 0.8406466512702079 ..\\..\\..\\user_data\\checkpoints\\rns_active\\active_checkpoints_MarginSamplingDropout\\MarginSamplingDropout_round_5-step=750-train_loss=0.05351.ckpt\n",
      "high_class_f1 0.9655172413793104 ..\\..\\..\\user_data\\checkpoints\\rns_active\\active_checkpoints_MarginSamplingDropout\\MarginSamplingDropout_round_5-step=750-train_loss=0.05351.ckpt\n"
     ]
    },
    {
     "data": {
      "text/plain": "Predicting: 0it [00:00, ?it/s]",
      "application/vnd.jupyter.widget-view+json": {
       "version_major": 2,
       "version_minor": 0,
       "model_id": "4ec164b55acc4d5e801edcaf752b9bd8"
      }
     },
     "metadata": {},
     "output_type": "display_data"
    },
    {
     "name": "stderr",
     "output_type": "stream",
     "text": [
      " 31%|███       | 54/176 [05:13<12:37,  6.21s/it]LOCAL_RANK: 0 - CUDA_VISIBLE_DEVICES: [0]\n"
     ]
    },
    {
     "data": {
      "text/plain": "Predicting: 0it [00:00, ?it/s]",
      "application/vnd.jupyter.widget-view+json": {
       "version_major": 2,
       "version_minor": 0,
       "model_id": "2c93ac474988411d9b85ec2ca990ec77"
      }
     },
     "metadata": {},
     "output_type": "display_data"
    },
    {
     "name": "stderr",
     "output_type": "stream",
     "text": [
      " 31%|███▏      | 55/176 [05:18<12:10,  6.04s/it]LOCAL_RANK: 0 - CUDA_VISIBLE_DEVICES: [0]\n"
     ]
    },
    {
     "data": {
      "text/plain": "Predicting: 0it [00:00, ?it/s]",
      "application/vnd.jupyter.widget-view+json": {
       "version_major": 2,
       "version_minor": 0,
       "model_id": "c07302d7858248eca24aedc2aa5133ef"
      }
     },
     "metadata": {},
     "output_type": "display_data"
    },
    {
     "name": "stderr",
     "output_type": "stream",
     "text": [
      " 32%|███▏      | 56/176 [05:24<11:53,  5.95s/it]LOCAL_RANK: 0 - CUDA_VISIBLE_DEVICES: [0]\n"
     ]
    },
    {
     "data": {
      "text/plain": "Predicting: 0it [00:00, ?it/s]",
      "application/vnd.jupyter.widget-view+json": {
       "version_major": 2,
       "version_minor": 0,
       "model_id": "ff748178d2c14753a86074a6c0056b1a"
      }
     },
     "metadata": {},
     "output_type": "display_data"
    },
    {
     "name": "stderr",
     "output_type": "stream",
     "text": [
      " 32%|███▏      | 57/176 [05:30<11:58,  6.04s/it]LOCAL_RANK: 0 - CUDA_VISIBLE_DEVICES: [0]\n"
     ]
    },
    {
     "data": {
      "text/plain": "Predicting: 0it [00:00, ?it/s]",
      "application/vnd.jupyter.widget-view+json": {
       "version_major": 2,
       "version_minor": 0,
       "model_id": "5ce500b9a27c474c8fec4cecd85d3076"
      }
     },
     "metadata": {},
     "output_type": "display_data"
    },
    {
     "name": "stderr",
     "output_type": "stream",
     "text": [
      " 33%|███▎      | 58/176 [05:37<12:04,  6.14s/it]LOCAL_RANK: 0 - CUDA_VISIBLE_DEVICES: [0]\n"
     ]
    },
    {
     "data": {
      "text/plain": "Predicting: 0it [00:00, ?it/s]",
      "application/vnd.jupyter.widget-view+json": {
       "version_major": 2,
       "version_minor": 0,
       "model_id": "983de784904e44f7ace02c4cc32c3839"
      }
     },
     "metadata": {},
     "output_type": "display_data"
    },
    {
     "name": "stderr",
     "output_type": "stream",
     "text": [
      " 34%|███▎      | 59/176 [05:43<12:09,  6.24s/it]LOCAL_RANK: 0 - CUDA_VISIBLE_DEVICES: [0]\n"
     ]
    },
    {
     "data": {
      "text/plain": "Predicting: 0it [00:00, ?it/s]",
      "application/vnd.jupyter.widget-view+json": {
       "version_major": 2,
       "version_minor": 0,
       "model_id": "53b29816d99d4308af24d5823b29c229"
      }
     },
     "metadata": {},
     "output_type": "display_data"
    },
    {
     "name": "stderr",
     "output_type": "stream",
     "text": [
      " 34%|███▍      | 60/176 [05:49<11:45,  6.08s/it]LOCAL_RANK: 0 - CUDA_VISIBLE_DEVICES: [0]\n"
     ]
    },
    {
     "data": {
      "text/plain": "Predicting: 0it [00:00, ?it/s]",
      "application/vnd.jupyter.widget-view+json": {
       "version_major": 2,
       "version_minor": 0,
       "model_id": "0d9b632b2cb045dc903adbcd1a2c9e51"
      }
     },
     "metadata": {},
     "output_type": "display_data"
    },
    {
     "name": "stderr",
     "output_type": "stream",
     "text": [
      " 35%|███▍      | 61/176 [05:55<11:42,  6.11s/it]LOCAL_RANK: 0 - CUDA_VISIBLE_DEVICES: [0]\n"
     ]
    },
    {
     "data": {
      "text/plain": "Predicting: 0it [00:00, ?it/s]",
      "application/vnd.jupyter.widget-view+json": {
       "version_major": 2,
       "version_minor": 0,
       "model_id": "b137965d36294606ac8cb314765c4bb0"
      }
     },
     "metadata": {},
     "output_type": "display_data"
    },
    {
     "name": "stderr",
     "output_type": "stream",
     "text": [
      " 35%|███▌      | 62/176 [06:01<11:40,  6.15s/it]LOCAL_RANK: 0 - CUDA_VISIBLE_DEVICES: [0]\n"
     ]
    },
    {
     "data": {
      "text/plain": "Predicting: 0it [00:00, ?it/s]",
      "application/vnd.jupyter.widget-view+json": {
       "version_major": 2,
       "version_minor": 0,
       "model_id": "549bc50cbb804d54956181c98926b803"
      }
     },
     "metadata": {},
     "output_type": "display_data"
    },
    {
     "name": "stderr",
     "output_type": "stream",
     "text": [
      " 36%|███▌      | 63/176 [06:07<11:17,  6.00s/it]LOCAL_RANK: 0 - CUDA_VISIBLE_DEVICES: [0]\n"
     ]
    },
    {
     "data": {
      "text/plain": "Predicting: 0it [00:00, ?it/s]",
      "application/vnd.jupyter.widget-view+json": {
       "version_major": 2,
       "version_minor": 0,
       "model_id": "e5389fbead094620b9bb3d784266e8c7"
      }
     },
     "metadata": {},
     "output_type": "display_data"
    },
    {
     "name": "stderr",
     "output_type": "stream",
     "text": [
      " 36%|███▋      | 64/176 [06:12<10:59,  5.89s/it]LOCAL_RANK: 0 - CUDA_VISIBLE_DEVICES: [0]\n"
     ]
    },
    {
     "data": {
      "text/plain": "Predicting: 0it [00:00, ?it/s]",
      "application/vnd.jupyter.widget-view+json": {
       "version_major": 2,
       "version_minor": 0,
       "model_id": "befc4c8b67ad4697932fc8b003418ad8"
      }
     },
     "metadata": {},
     "output_type": "display_data"
    },
    {
     "name": "stderr",
     "output_type": "stream",
     "text": [
      " 37%|███▋      | 65/176 [06:18<10:52,  5.88s/it]LOCAL_RANK: 0 - CUDA_VISIBLE_DEVICES: [0]\n"
     ]
    },
    {
     "data": {
      "text/plain": "Predicting: 0it [00:00, ?it/s]",
      "application/vnd.jupyter.widget-view+json": {
       "version_major": 2,
       "version_minor": 0,
       "model_id": "98f0e21fb7ef485191ba8b47e43ca725"
      }
     },
     "metadata": {},
     "output_type": "display_data"
    },
    {
     "name": "stderr",
     "output_type": "stream",
     "text": [
      " 38%|███▊      | 66/176 [06:24<10:49,  5.90s/it]LOCAL_RANK: 0 - CUDA_VISIBLE_DEVICES: [0]\n"
     ]
    },
    {
     "data": {
      "text/plain": "Predicting: 0it [00:00, ?it/s]",
      "application/vnd.jupyter.widget-view+json": {
       "version_major": 2,
       "version_minor": 0,
       "model_id": "e31cd909b0b5488685ca39dc779d4d1d"
      }
     },
     "metadata": {},
     "output_type": "display_data"
    },
    {
     "name": "stderr",
     "output_type": "stream",
     "text": [
      " 38%|███▊      | 67/176 [06:30<10:35,  5.83s/it]LOCAL_RANK: 0 - CUDA_VISIBLE_DEVICES: [0]\n"
     ]
    },
    {
     "data": {
      "text/plain": "Predicting: 0it [00:00, ?it/s]",
      "application/vnd.jupyter.widget-view+json": {
       "version_major": 2,
       "version_minor": 0,
       "model_id": "a77b888a755947f58d3bd1844c491689"
      }
     },
     "metadata": {},
     "output_type": "display_data"
    },
    {
     "name": "stderr",
     "output_type": "stream",
     "text": [
      " 39%|███▊      | 68/176 [06:38<11:34,  6.43s/it]LOCAL_RANK: 0 - CUDA_VISIBLE_DEVICES: [0]\n"
     ]
    },
    {
     "data": {
      "text/plain": "Predicting: 0it [00:00, ?it/s]",
      "application/vnd.jupyter.widget-view+json": {
       "version_major": 2,
       "version_minor": 0,
       "model_id": "ab425881effe4e5ea9361d177062456f"
      }
     },
     "metadata": {},
     "output_type": "display_data"
    },
    {
     "name": "stderr",
     "output_type": "stream",
     "text": [
      " 39%|███▉      | 69/176 [06:43<11:02,  6.19s/it]LOCAL_RANK: 0 - CUDA_VISIBLE_DEVICES: [0]\n"
     ]
    },
    {
     "data": {
      "text/plain": "Predicting: 0it [00:00, ?it/s]",
      "application/vnd.jupyter.widget-view+json": {
       "version_major": 2,
       "version_minor": 0,
       "model_id": "f7506ec6eebc4924bbd7cc4302382e95"
      }
     },
     "metadata": {},
     "output_type": "display_data"
    },
    {
     "name": "stderr",
     "output_type": "stream",
     "text": [
      " 40%|███▉      | 70/176 [06:49<10:50,  6.14s/it]LOCAL_RANK: 0 - CUDA_VISIBLE_DEVICES: [0]\n"
     ]
    },
    {
     "data": {
      "text/plain": "Predicting: 0it [00:00, ?it/s]",
      "application/vnd.jupyter.widget-view+json": {
       "version_major": 2,
       "version_minor": 0,
       "model_id": "1d14f933abf2406f99961e33d42e365a"
      }
     },
     "metadata": {},
     "output_type": "display_data"
    },
    {
     "name": "stderr",
     "output_type": "stream",
     "text": [
      " 40%|████      | 71/176 [06:55<10:30,  6.00s/it]LOCAL_RANK: 0 - CUDA_VISIBLE_DEVICES: [0]\n"
     ]
    },
    {
     "data": {
      "text/plain": "Predicting: 0it [00:00, ?it/s]",
      "application/vnd.jupyter.widget-view+json": {
       "version_major": 2,
       "version_minor": 0,
       "model_id": "669235d71d9e48368f7b0b9fb6ae3ab8"
      }
     },
     "metadata": {},
     "output_type": "display_data"
    },
    {
     "name": "stderr",
     "output_type": "stream",
     "text": [
      " 41%|████      | 72/176 [07:01<10:10,  5.87s/it]LOCAL_RANK: 0 - CUDA_VISIBLE_DEVICES: [0]\n"
     ]
    },
    {
     "data": {
      "text/plain": "Predicting: 0it [00:00, ?it/s]",
      "application/vnd.jupyter.widget-view+json": {
       "version_major": 2,
       "version_minor": 0,
       "model_id": "54c10b0ed0944ba68afcb2bf2e045ef0"
      }
     },
     "metadata": {},
     "output_type": "display_data"
    },
    {
     "name": "stderr",
     "output_type": "stream",
     "text": [
      " 41%|████▏     | 73/176 [07:06<10:00,  5.83s/it]LOCAL_RANK: 0 - CUDA_VISIBLE_DEVICES: [0]\n"
     ]
    },
    {
     "data": {
      "text/plain": "Predicting: 0it [00:00, ?it/s]",
      "application/vnd.jupyter.widget-view+json": {
       "version_major": 2,
       "version_minor": 0,
       "model_id": "98fa79199c1442e2b37c7c51ebf0d3aa"
      }
     },
     "metadata": {},
     "output_type": "display_data"
    },
    {
     "name": "stderr",
     "output_type": "stream",
     "text": [
      " 42%|████▏     | 74/176 [07:12<09:47,  5.76s/it]LOCAL_RANK: 0 - CUDA_VISIBLE_DEVICES: [0]\n"
     ]
    },
    {
     "data": {
      "text/plain": "Predicting: 0it [00:00, ?it/s]",
      "application/vnd.jupyter.widget-view+json": {
       "version_major": 2,
       "version_minor": 0,
       "model_id": "01834add64c0452e8876c00a2c1950ce"
      }
     },
     "metadata": {},
     "output_type": "display_data"
    },
    {
     "name": "stderr",
     "output_type": "stream",
     "text": [
      " 43%|████▎     | 75/176 [07:18<09:39,  5.74s/it]LOCAL_RANK: 0 - CUDA_VISIBLE_DEVICES: [0]\n"
     ]
    },
    {
     "data": {
      "text/plain": "Predicting: 0it [00:00, ?it/s]",
      "application/vnd.jupyter.widget-view+json": {
       "version_major": 2,
       "version_minor": 0,
       "model_id": "82ebd79bceba488e920b521ffc80cac6"
      }
     },
     "metadata": {},
     "output_type": "display_data"
    },
    {
     "name": "stderr",
     "output_type": "stream",
     "text": [
      " 43%|████▎     | 76/176 [07:24<09:41,  5.82s/it]LOCAL_RANK: 0 - CUDA_VISIBLE_DEVICES: [0]\n"
     ]
    },
    {
     "data": {
      "text/plain": "Predicting: 0it [00:00, ?it/s]",
      "application/vnd.jupyter.widget-view+json": {
       "version_major": 2,
       "version_minor": 0,
       "model_id": "3ad3090a1eca45d59887602a9e83346d"
      }
     },
     "metadata": {},
     "output_type": "display_data"
    },
    {
     "name": "stderr",
     "output_type": "stream",
     "text": [
      " 44%|████▍     | 77/176 [07:29<09:34,  5.80s/it]LOCAL_RANK: 0 - CUDA_VISIBLE_DEVICES: [0]\n"
     ]
    },
    {
     "data": {
      "text/plain": "Predicting: 0it [00:00, ?it/s]",
      "application/vnd.jupyter.widget-view+json": {
       "version_major": 2,
       "version_minor": 0,
       "model_id": "d93ef4bc098a48789b68df7e1729ea2f"
      }
     },
     "metadata": {},
     "output_type": "display_data"
    },
    {
     "name": "stderr",
     "output_type": "stream",
     "text": [
      " 44%|████▍     | 78/176 [07:36<09:44,  5.97s/it]LOCAL_RANK: 0 - CUDA_VISIBLE_DEVICES: [0]\n"
     ]
    },
    {
     "data": {
      "text/plain": "Predicting: 0it [00:00, ?it/s]",
      "application/vnd.jupyter.widget-view+json": {
       "version_major": 2,
       "version_minor": 0,
       "model_id": "f8c9437bf8944ca7aa0981cf171898c5"
      }
     },
     "metadata": {},
     "output_type": "display_data"
    },
    {
     "name": "stderr",
     "output_type": "stream",
     "text": [
      " 45%|████▍     | 79/176 [07:43<10:07,  6.26s/it]LOCAL_RANK: 0 - CUDA_VISIBLE_DEVICES: [0]\n"
     ]
    },
    {
     "data": {
      "text/plain": "Predicting: 0it [00:00, ?it/s]",
      "application/vnd.jupyter.widget-view+json": {
       "version_major": 2,
       "version_minor": 0,
       "model_id": "d6722d4d8a5c4ef1bcbe20d435fe6dac"
      }
     },
     "metadata": {},
     "output_type": "display_data"
    },
    {
     "name": "stderr",
     "output_type": "stream",
     "text": [
      " 45%|████▌     | 80/176 [07:48<09:45,  6.10s/it]LOCAL_RANK: 0 - CUDA_VISIBLE_DEVICES: [0]\n"
     ]
    },
    {
     "data": {
      "text/plain": "Predicting: 0it [00:00, ?it/s]",
      "application/vnd.jupyter.widget-view+json": {
       "version_major": 2,
       "version_minor": 0,
       "model_id": "0645427b4e994d14a102c34f15e38aaa"
      }
     },
     "metadata": {},
     "output_type": "display_data"
    },
    {
     "name": "stderr",
     "output_type": "stream",
     "text": [
      " 46%|████▌     | 81/176 [07:54<09:29,  5.99s/it]LOCAL_RANK: 0 - CUDA_VISIBLE_DEVICES: [0]\n"
     ]
    },
    {
     "data": {
      "text/plain": "Predicting: 0it [00:00, ?it/s]",
      "application/vnd.jupyter.widget-view+json": {
       "version_major": 2,
       "version_minor": 0,
       "model_id": "f686abf9dfd14401855aba4a5e48f7ef"
      }
     },
     "metadata": {},
     "output_type": "display_data"
    },
    {
     "name": "stderr",
     "output_type": "stream",
     "text": [
      " 47%|████▋     | 82/176 [08:00<09:13,  5.89s/it]LOCAL_RANK: 0 - CUDA_VISIBLE_DEVICES: [0]\n"
     ]
    },
    {
     "data": {
      "text/plain": "Predicting: 0it [00:00, ?it/s]",
      "application/vnd.jupyter.widget-view+json": {
       "version_major": 2,
       "version_minor": 0,
       "model_id": "70f184d0131545c7a04cc5ad7ece133a"
      }
     },
     "metadata": {},
     "output_type": "display_data"
    },
    {
     "name": "stderr",
     "output_type": "stream",
     "text": [
      " 47%|████▋     | 83/176 [08:06<09:12,  5.94s/it]LOCAL_RANK: 0 - CUDA_VISIBLE_DEVICES: [0]\n"
     ]
    },
    {
     "data": {
      "text/plain": "Predicting: 0it [00:00, ?it/s]",
      "application/vnd.jupyter.widget-view+json": {
       "version_major": 2,
       "version_minor": 0,
       "model_id": "e47a1d8f62ea44d9a439867f8365a68e"
      }
     },
     "metadata": {},
     "output_type": "display_data"
    },
    {
     "name": "stderr",
     "output_type": "stream",
     "text": [
      " 48%|████▊     | 84/176 [08:13<09:26,  6.16s/it]LOCAL_RANK: 0 - CUDA_VISIBLE_DEVICES: [0]\n"
     ]
    },
    {
     "data": {
      "text/plain": "Predicting: 0it [00:00, ?it/s]",
      "application/vnd.jupyter.widget-view+json": {
       "version_major": 2,
       "version_minor": 0,
       "model_id": "76e97d0de1664b5d9091a05a6a7e5d92"
      }
     },
     "metadata": {},
     "output_type": "display_data"
    },
    {
     "name": "stderr",
     "output_type": "stream",
     "text": [
      " 48%|████▊     | 85/176 [08:18<09:13,  6.08s/it]LOCAL_RANK: 0 - CUDA_VISIBLE_DEVICES: [0]\n"
     ]
    },
    {
     "data": {
      "text/plain": "Predicting: 0it [00:00, ?it/s]",
      "application/vnd.jupyter.widget-view+json": {
       "version_major": 2,
       "version_minor": 0,
       "model_id": "52619af5878b4ed181b95b01a55acc1d"
      }
     },
     "metadata": {},
     "output_type": "display_data"
    },
    {
     "name": "stderr",
     "output_type": "stream",
     "text": [
      " 49%|████▉     | 86/176 [08:24<08:55,  5.95s/it]LOCAL_RANK: 0 - CUDA_VISIBLE_DEVICES: [0]\n"
     ]
    },
    {
     "data": {
      "text/plain": "Predicting: 0it [00:00, ?it/s]",
      "application/vnd.jupyter.widget-view+json": {
       "version_major": 2,
       "version_minor": 0,
       "model_id": "96b058296ed842728cecadf4d088a7a0"
      }
     },
     "metadata": {},
     "output_type": "display_data"
    },
    {
     "name": "stderr",
     "output_type": "stream",
     "text": [
      " 49%|████▉     | 87/176 [08:30<08:55,  6.02s/it]LOCAL_RANK: 0 - CUDA_VISIBLE_DEVICES: [0]\n"
     ]
    },
    {
     "data": {
      "text/plain": "Predicting: 0it [00:00, ?it/s]",
      "application/vnd.jupyter.widget-view+json": {
       "version_major": 2,
       "version_minor": 0,
       "model_id": "fb151b2bf4c34693be2cfa4211e30487"
      }
     },
     "metadata": {},
     "output_type": "display_data"
    },
    {
     "name": "stderr",
     "output_type": "stream",
     "text": [
      " 50%|█████     | 88/176 [08:36<08:49,  6.01s/it]LOCAL_RANK: 0 - CUDA_VISIBLE_DEVICES: [0]\n"
     ]
    },
    {
     "data": {
      "text/plain": "Predicting: 0it [00:00, ?it/s]",
      "application/vnd.jupyter.widget-view+json": {
       "version_major": 2,
       "version_minor": 0,
       "model_id": "3e8e25ce92134ffab00681475dd8f953"
      }
     },
     "metadata": {},
     "output_type": "display_data"
    },
    {
     "name": "stderr",
     "output_type": "stream",
     "text": [
      " 51%|█████     | 89/176 [08:42<08:35,  5.92s/it]LOCAL_RANK: 0 - CUDA_VISIBLE_DEVICES: [0]\n"
     ]
    },
    {
     "data": {
      "text/plain": "Predicting: 0it [00:00, ?it/s]",
      "application/vnd.jupyter.widget-view+json": {
       "version_major": 2,
       "version_minor": 0,
       "model_id": "4a0fb691f1284e3581d1ae3474534976"
      }
     },
     "metadata": {},
     "output_type": "display_data"
    },
    {
     "name": "stderr",
     "output_type": "stream",
     "text": [
      " 51%|█████     | 90/176 [08:48<08:23,  5.86s/it]LOCAL_RANK: 0 - CUDA_VISIBLE_DEVICES: [0]\n"
     ]
    },
    {
     "data": {
      "text/plain": "Predicting: 0it [00:00, ?it/s]",
      "application/vnd.jupyter.widget-view+json": {
       "version_major": 2,
       "version_minor": 0,
       "model_id": "c1e307f4356e43cba5c677005adcb20a"
      }
     },
     "metadata": {},
     "output_type": "display_data"
    },
    {
     "name": "stderr",
     "output_type": "stream",
     "text": [
      " 52%|█████▏    | 91/176 [08:53<08:12,  5.80s/it]LOCAL_RANK: 0 - CUDA_VISIBLE_DEVICES: [0]\n"
     ]
    },
    {
     "data": {
      "text/plain": "Predicting: 0it [00:00, ?it/s]",
      "application/vnd.jupyter.widget-view+json": {
       "version_major": 2,
       "version_minor": 0,
       "model_id": "dac63e80e0804735b79254ae14ffaf1c"
      }
     },
     "metadata": {},
     "output_type": "display_data"
    },
    {
     "name": "stderr",
     "output_type": "stream",
     "text": [
      " 52%|█████▏    | 92/176 [08:59<08:10,  5.84s/it]LOCAL_RANK: 0 - CUDA_VISIBLE_DEVICES: [0]\n"
     ]
    },
    {
     "data": {
      "text/plain": "Predicting: 0it [00:00, ?it/s]",
      "application/vnd.jupyter.widget-view+json": {
       "version_major": 2,
       "version_minor": 0,
       "model_id": "45c0247ecc58413e93e2f1c7f31f98fc"
      }
     },
     "metadata": {},
     "output_type": "display_data"
    },
    {
     "name": "stderr",
     "output_type": "stream",
     "text": [
      " 53%|█████▎    | 93/176 [09:05<08:01,  5.80s/it]LOCAL_RANK: 0 - CUDA_VISIBLE_DEVICES: [0]\n"
     ]
    },
    {
     "data": {
      "text/plain": "Predicting: 0it [00:00, ?it/s]",
      "application/vnd.jupyter.widget-view+json": {
       "version_major": 2,
       "version_minor": 0,
       "model_id": "28199f3e29f149e7a78002e57e27edb5"
      }
     },
     "metadata": {},
     "output_type": "display_data"
    },
    {
     "name": "stderr",
     "output_type": "stream",
     "text": [
      " 53%|█████▎    | 94/176 [09:12<08:17,  6.07s/it]LOCAL_RANK: 0 - CUDA_VISIBLE_DEVICES: [0]\n"
     ]
    },
    {
     "data": {
      "text/plain": "Predicting: 0it [00:00, ?it/s]",
      "application/vnd.jupyter.widget-view+json": {
       "version_major": 2,
       "version_minor": 0,
       "model_id": "c20dae77eb0b4a469011749806a98a17"
      }
     },
     "metadata": {},
     "output_type": "display_data"
    },
    {
     "name": "stderr",
     "output_type": "stream",
     "text": [
      " 54%|█████▍    | 95/176 [09:18<08:12,  6.08s/it]LOCAL_RANK: 0 - CUDA_VISIBLE_DEVICES: [0]\n"
     ]
    },
    {
     "data": {
      "text/plain": "Predicting: 0it [00:00, ?it/s]",
      "application/vnd.jupyter.widget-view+json": {
       "version_major": 2,
       "version_minor": 0,
       "model_id": "670eec8dd86a4d99b831d707057a638f"
      }
     },
     "metadata": {},
     "output_type": "display_data"
    },
    {
     "name": "stderr",
     "output_type": "stream",
     "text": [
      " 55%|█████▍    | 96/176 [09:24<08:06,  6.08s/it]LOCAL_RANK: 0 - CUDA_VISIBLE_DEVICES: [0]\n"
     ]
    },
    {
     "data": {
      "text/plain": "Predicting: 0it [00:00, ?it/s]",
      "application/vnd.jupyter.widget-view+json": {
       "version_major": 2,
       "version_minor": 0,
       "model_id": "43a6f7e0d160425ab7535ab65d21b149"
      }
     },
     "metadata": {},
     "output_type": "display_data"
    },
    {
     "name": "stderr",
     "output_type": "stream",
     "text": [
      " 55%|█████▌    | 97/176 [09:30<07:50,  5.95s/it]LOCAL_RANK: 0 - CUDA_VISIBLE_DEVICES: [0]\n"
     ]
    },
    {
     "data": {
      "text/plain": "Predicting: 0it [00:00, ?it/s]",
      "application/vnd.jupyter.widget-view+json": {
       "version_major": 2,
       "version_minor": 0,
       "model_id": "01154b4870ee4151816b2c4de0d4f67f"
      }
     },
     "metadata": {},
     "output_type": "display_data"
    },
    {
     "name": "stderr",
     "output_type": "stream",
     "text": [
      " 56%|█████▌    | 98/176 [09:35<07:37,  5.86s/it]LOCAL_RANK: 0 - CUDA_VISIBLE_DEVICES: [0]\n"
     ]
    },
    {
     "data": {
      "text/plain": "Predicting: 0it [00:00, ?it/s]",
      "application/vnd.jupyter.widget-view+json": {
       "version_major": 2,
       "version_minor": 0,
       "model_id": "5701f52929f1447b9d4ba0707850edcc"
      }
     },
     "metadata": {},
     "output_type": "display_data"
    },
    {
     "name": "stderr",
     "output_type": "stream",
     "text": [
      " 56%|█████▋    | 99/176 [09:42<07:59,  6.23s/it]LOCAL_RANK: 0 - CUDA_VISIBLE_DEVICES: [0]\n"
     ]
    },
    {
     "data": {
      "text/plain": "Predicting: 0it [00:00, ?it/s]",
      "application/vnd.jupyter.widget-view+json": {
       "version_major": 2,
       "version_minor": 0,
       "model_id": "1a1107e65b6e402a8c6d8a7d378e1f1c"
      }
     },
     "metadata": {},
     "output_type": "display_data"
    },
    {
     "name": "stderr",
     "output_type": "stream",
     "text": [
      " 57%|█████▋    | 100/176 [09:49<08:02,  6.35s/it]LOCAL_RANK: 0 - CUDA_VISIBLE_DEVICES: [0]\n"
     ]
    },
    {
     "data": {
      "text/plain": "Predicting: 0it [00:00, ?it/s]",
      "application/vnd.jupyter.widget-view+json": {
       "version_major": 2,
       "version_minor": 0,
       "model_id": "df922208cc38484495d29edaea5d5c0c"
      }
     },
     "metadata": {},
     "output_type": "display_data"
    },
    {
     "name": "stderr",
     "output_type": "stream",
     "text": [
      " 57%|█████▋    | 101/176 [09:55<07:46,  6.22s/it]LOCAL_RANK: 0 - CUDA_VISIBLE_DEVICES: [0]\n"
     ]
    },
    {
     "data": {
      "text/plain": "Predicting: 0it [00:00, ?it/s]",
      "application/vnd.jupyter.widget-view+json": {
       "version_major": 2,
       "version_minor": 0,
       "model_id": "7c9afbc33e8c46c483e687e623be7de8"
      }
     },
     "metadata": {},
     "output_type": "display_data"
    },
    {
     "name": "stderr",
     "output_type": "stream",
     "text": [
      " 58%|█████▊    | 102/176 [10:01<07:28,  6.06s/it]LOCAL_RANK: 0 - CUDA_VISIBLE_DEVICES: [0]\n"
     ]
    },
    {
     "data": {
      "text/plain": "Predicting: 0it [00:00, ?it/s]",
      "application/vnd.jupyter.widget-view+json": {
       "version_major": 2,
       "version_minor": 0,
       "model_id": "0013bd76e1b9464fafe0c6a61d79fd26"
      }
     },
     "metadata": {},
     "output_type": "display_data"
    },
    {
     "name": "stderr",
     "output_type": "stream",
     "text": [
      " 59%|█████▊    | 103/176 [10:07<07:28,  6.14s/it]LOCAL_RANK: 0 - CUDA_VISIBLE_DEVICES: [0]\n"
     ]
    },
    {
     "data": {
      "text/plain": "Predicting: 0it [00:00, ?it/s]",
      "application/vnd.jupyter.widget-view+json": {
       "version_major": 2,
       "version_minor": 0,
       "model_id": "906393a657d449f28456dfad38bbb80e"
      }
     },
     "metadata": {},
     "output_type": "display_data"
    },
    {
     "name": "stderr",
     "output_type": "stream",
     "text": [
      " 59%|█████▉    | 104/176 [10:13<07:23,  6.17s/it]LOCAL_RANK: 0 - CUDA_VISIBLE_DEVICES: [0]\n"
     ]
    },
    {
     "data": {
      "text/plain": "Predicting: 0it [00:00, ?it/s]",
      "application/vnd.jupyter.widget-view+json": {
       "version_major": 2,
       "version_minor": 0,
       "model_id": "5e1df5a5e6a64471907ff5387e961bd5"
      }
     },
     "metadata": {},
     "output_type": "display_data"
    },
    {
     "name": "stderr",
     "output_type": "stream",
     "text": [
      " 60%|█████▉    | 105/176 [10:19<07:08,  6.04s/it]LOCAL_RANK: 0 - CUDA_VISIBLE_DEVICES: [0]\n"
     ]
    },
    {
     "data": {
      "text/plain": "Predicting: 0it [00:00, ?it/s]",
      "application/vnd.jupyter.widget-view+json": {
       "version_major": 2,
       "version_minor": 0,
       "model_id": "593e99ba82e9486c8dc10396cd683b4e"
      }
     },
     "metadata": {},
     "output_type": "display_data"
    },
    {
     "name": "stderr",
     "output_type": "stream",
     "text": [
      " 60%|██████    | 106/176 [10:25<06:56,  5.94s/it]LOCAL_RANK: 0 - CUDA_VISIBLE_DEVICES: [0]\n"
     ]
    },
    {
     "data": {
      "text/plain": "Predicting: 0it [00:00, ?it/s]",
      "application/vnd.jupyter.widget-view+json": {
       "version_major": 2,
       "version_minor": 0,
       "model_id": "7bf71a60ffce423985b8edfa9206cc92"
      }
     },
     "metadata": {},
     "output_type": "display_data"
    },
    {
     "name": "stderr",
     "output_type": "stream",
     "text": [
      " 61%|██████    | 107/176 [10:31<06:55,  6.02s/it]LOCAL_RANK: 0 - CUDA_VISIBLE_DEVICES: [0]\n"
     ]
    },
    {
     "data": {
      "text/plain": "Predicting: 0it [00:00, ?it/s]",
      "application/vnd.jupyter.widget-view+json": {
       "version_major": 2,
       "version_minor": 0,
       "model_id": "89e211bb49bd4329a6580fa4cf0edaa6"
      }
     },
     "metadata": {},
     "output_type": "display_data"
    },
    {
     "name": "stderr",
     "output_type": "stream",
     "text": [
      " 61%|██████▏   | 108/176 [10:37<06:54,  6.10s/it]LOCAL_RANK: 0 - CUDA_VISIBLE_DEVICES: [0]\n"
     ]
    },
    {
     "data": {
      "text/plain": "Predicting: 0it [00:00, ?it/s]",
      "application/vnd.jupyter.widget-view+json": {
       "version_major": 2,
       "version_minor": 0,
       "model_id": "3b51551db11a4fce9b512d99b8feff00"
      }
     },
     "metadata": {},
     "output_type": "display_data"
    },
    {
     "name": "stderr",
     "output_type": "stream",
     "text": [
      " 62%|██████▏   | 109/176 [10:43<06:41,  5.99s/it]LOCAL_RANK: 0 - CUDA_VISIBLE_DEVICES: [0]\n"
     ]
    },
    {
     "data": {
      "text/plain": "Predicting: 0it [00:00, ?it/s]",
      "application/vnd.jupyter.widget-view+json": {
       "version_major": 2,
       "version_minor": 0,
       "model_id": "1e6030e4d8e4445fbb416100a23debf2"
      }
     },
     "metadata": {},
     "output_type": "display_data"
    },
    {
     "name": "stderr",
     "output_type": "stream",
     "text": [
      " 62%|██████▎   | 110/176 [10:49<06:30,  5.91s/it]LOCAL_RANK: 0 - CUDA_VISIBLE_DEVICES: [0]\n"
     ]
    },
    {
     "data": {
      "text/plain": "Predicting: 0it [00:00, ?it/s]",
      "application/vnd.jupyter.widget-view+json": {
       "version_major": 2,
       "version_minor": 0,
       "model_id": "703d515e95db4a0ebf98c05459d40ff8"
      }
     },
     "metadata": {},
     "output_type": "display_data"
    },
    {
     "name": "stderr",
     "output_type": "stream",
     "text": [
      " 63%|██████▎   | 111/176 [10:55<06:36,  6.10s/it]LOCAL_RANK: 0 - CUDA_VISIBLE_DEVICES: [0]\n"
     ]
    },
    {
     "data": {
      "text/plain": "Predicting: 0it [00:00, ?it/s]",
      "application/vnd.jupyter.widget-view+json": {
       "version_major": 2,
       "version_minor": 0,
       "model_id": "26ea687d74a649b4b5d78c40d6a5bdb9"
      }
     },
     "metadata": {},
     "output_type": "display_data"
    },
    {
     "name": "stderr",
     "output_type": "stream",
     "text": [
      " 64%|██████▎   | 112/176 [11:01<06:29,  6.09s/it]LOCAL_RANK: 0 - CUDA_VISIBLE_DEVICES: [0]\n"
     ]
    },
    {
     "data": {
      "text/plain": "Predicting: 0it [00:00, ?it/s]",
      "application/vnd.jupyter.widget-view+json": {
       "version_major": 2,
       "version_minor": 0,
       "model_id": "0e66b408a7554d18806e3e6d892e7091"
      }
     },
     "metadata": {},
     "output_type": "display_data"
    },
    {
     "name": "stderr",
     "output_type": "stream",
     "text": [
      " 64%|██████▍   | 113/176 [11:07<06:21,  6.06s/it]LOCAL_RANK: 0 - CUDA_VISIBLE_DEVICES: [0]\n"
     ]
    },
    {
     "data": {
      "text/plain": "Predicting: 0it [00:00, ?it/s]",
      "application/vnd.jupyter.widget-view+json": {
       "version_major": 2,
       "version_minor": 0,
       "model_id": "6ece536a2d4f40ffbc5c11ef1ac786c4"
      }
     },
     "metadata": {},
     "output_type": "display_data"
    },
    {
     "name": "stderr",
     "output_type": "stream",
     "text": [
      " 65%|██████▍   | 114/176 [11:13<06:18,  6.11s/it]LOCAL_RANK: 0 - CUDA_VISIBLE_DEVICES: [0]\n"
     ]
    },
    {
     "data": {
      "text/plain": "Predicting: 0it [00:00, ?it/s]",
      "application/vnd.jupyter.widget-view+json": {
       "version_major": 2,
       "version_minor": 0,
       "model_id": "3e60bcb5b2694bf2ba627346b62fb5e4"
      }
     },
     "metadata": {},
     "output_type": "display_data"
    },
    {
     "name": "stderr",
     "output_type": "stream",
     "text": [
      " 65%|██████▌   | 115/176 [11:19<06:13,  6.12s/it]LOCAL_RANK: 0 - CUDA_VISIBLE_DEVICES: [0]\n"
     ]
    },
    {
     "data": {
      "text/plain": "Predicting: 0it [00:00, ?it/s]",
      "application/vnd.jupyter.widget-view+json": {
       "version_major": 2,
       "version_minor": 0,
       "model_id": "07c518426fda4525804532276c76ebec"
      }
     },
     "metadata": {},
     "output_type": "display_data"
    },
    {
     "name": "stderr",
     "output_type": "stream",
     "text": [
      " 66%|██████▌   | 116/176 [11:26<06:10,  6.17s/it]LOCAL_RANK: 0 - CUDA_VISIBLE_DEVICES: [0]\n"
     ]
    },
    {
     "data": {
      "text/plain": "Predicting: 0it [00:00, ?it/s]",
      "application/vnd.jupyter.widget-view+json": {
       "version_major": 2,
       "version_minor": 0,
       "model_id": "f6ec9624dd3047778cce93c7296561ed"
      }
     },
     "metadata": {},
     "output_type": "display_data"
    },
    {
     "name": "stderr",
     "output_type": "stream",
     "text": [
      " 66%|██████▋   | 117/176 [11:32<06:07,  6.23s/it]LOCAL_RANK: 0 - CUDA_VISIBLE_DEVICES: [0]\n"
     ]
    },
    {
     "data": {
      "text/plain": "Predicting: 0it [00:00, ?it/s]",
      "application/vnd.jupyter.widget-view+json": {
       "version_major": 2,
       "version_minor": 0,
       "model_id": "1c0d0786bac74dcf8f5db002212c66a3"
      }
     },
     "metadata": {},
     "output_type": "display_data"
    },
    {
     "name": "stderr",
     "output_type": "stream",
     "text": [
      " 67%|██████▋   | 118/176 [11:38<05:51,  6.07s/it]LOCAL_RANK: 0 - CUDA_VISIBLE_DEVICES: [0]\n"
     ]
    },
    {
     "data": {
      "text/plain": "Predicting: 0it [00:00, ?it/s]",
      "application/vnd.jupyter.widget-view+json": {
       "version_major": 2,
       "version_minor": 0,
       "model_id": "b198864f590a48cc96460510886c2f7b"
      }
     },
     "metadata": {},
     "output_type": "display_data"
    },
    {
     "name": "stderr",
     "output_type": "stream",
     "text": [
      " 68%|██████▊   | 119/176 [11:44<05:44,  6.05s/it]LOCAL_RANK: 0 - CUDA_VISIBLE_DEVICES: [0]\n"
     ]
    },
    {
     "data": {
      "text/plain": "Predicting: 0it [00:00, ?it/s]",
      "application/vnd.jupyter.widget-view+json": {
       "version_major": 2,
       "version_minor": 0,
       "model_id": "f8189d0e09ff49dcba25fc7cee9633b4"
      }
     },
     "metadata": {},
     "output_type": "display_data"
    },
    {
     "name": "stderr",
     "output_type": "stream",
     "text": [
      " 68%|██████▊   | 120/176 [11:49<05:31,  5.92s/it]LOCAL_RANK: 0 - CUDA_VISIBLE_DEVICES: [0]\n"
     ]
    },
    {
     "data": {
      "text/plain": "Predicting: 0it [00:00, ?it/s]",
      "application/vnd.jupyter.widget-view+json": {
       "version_major": 2,
       "version_minor": 0,
       "model_id": "a12cac9104a644bda752218153ef3ac5"
      }
     },
     "metadata": {},
     "output_type": "display_data"
    },
    {
     "name": "stderr",
     "output_type": "stream",
     "text": [
      " 69%|██████▉   | 121/176 [11:55<05:20,  5.82s/it]LOCAL_RANK: 0 - CUDA_VISIBLE_DEVICES: [0]\n"
     ]
    },
    {
     "data": {
      "text/plain": "Predicting: 0it [00:00, ?it/s]",
      "application/vnd.jupyter.widget-view+json": {
       "version_major": 2,
       "version_minor": 0,
       "model_id": "238cbb046a2c4f00ac47ef3d549b1476"
      }
     },
     "metadata": {},
     "output_type": "display_data"
    },
    {
     "name": "stderr",
     "output_type": "stream",
     "text": [
      " 69%|██████▉   | 122/176 [12:01<05:10,  5.75s/it]LOCAL_RANK: 0 - CUDA_VISIBLE_DEVICES: [0]\n"
     ]
    },
    {
     "data": {
      "text/plain": "Predicting: 0it [00:00, ?it/s]",
      "application/vnd.jupyter.widget-view+json": {
       "version_major": 2,
       "version_minor": 0,
       "model_id": "fcd128ca7ecd42eb96e027be2a8db2a8"
      }
     },
     "metadata": {},
     "output_type": "display_data"
    },
    {
     "name": "stderr",
     "output_type": "stream",
     "text": [
      " 70%|██████▉   | 123/176 [12:06<05:06,  5.78s/it]LOCAL_RANK: 0 - CUDA_VISIBLE_DEVICES: [0]\n"
     ]
    },
    {
     "data": {
      "text/plain": "Predicting: 0it [00:00, ?it/s]",
      "application/vnd.jupyter.widget-view+json": {
       "version_major": 2,
       "version_minor": 0,
       "model_id": "302235e5a0a74c24959b0642a254a5c2"
      }
     },
     "metadata": {},
     "output_type": "display_data"
    },
    {
     "name": "stderr",
     "output_type": "stream",
     "text": [
      " 70%|███████   | 124/176 [12:12<04:56,  5.71s/it]LOCAL_RANK: 0 - CUDA_VISIBLE_DEVICES: [0]\n"
     ]
    },
    {
     "data": {
      "text/plain": "Predicting: 0it [00:00, ?it/s]",
      "application/vnd.jupyter.widget-view+json": {
       "version_major": 2,
       "version_minor": 0,
       "model_id": "29a7460b70854a7285b23ac49d62db21"
      }
     },
     "metadata": {},
     "output_type": "display_data"
    },
    {
     "name": "stderr",
     "output_type": "stream",
     "text": [
      " 71%|███████   | 125/176 [12:18<04:52,  5.73s/it]LOCAL_RANK: 0 - CUDA_VISIBLE_DEVICES: [0]\n"
     ]
    },
    {
     "data": {
      "text/plain": "Predicting: 0it [00:00, ?it/s]",
      "application/vnd.jupyter.widget-view+json": {
       "version_major": 2,
       "version_minor": 0,
       "model_id": "b0d1bbdbb4674e0d89e09296fc2dd249"
      }
     },
     "metadata": {},
     "output_type": "display_data"
    },
    {
     "name": "stderr",
     "output_type": "stream",
     "text": [
      " 72%|███████▏  | 126/176 [12:23<04:44,  5.69s/it]LOCAL_RANK: 0 - CUDA_VISIBLE_DEVICES: [0]\n"
     ]
    },
    {
     "data": {
      "text/plain": "Predicting: 0it [00:00, ?it/s]",
      "application/vnd.jupyter.widget-view+json": {
       "version_major": 2,
       "version_minor": 0,
       "model_id": "74eb537cb37d4f4da57a60fd2de6fadd"
      }
     },
     "metadata": {},
     "output_type": "display_data"
    },
    {
     "name": "stderr",
     "output_type": "stream",
     "text": [
      " 72%|███████▏  | 127/176 [12:29<04:38,  5.68s/it]LOCAL_RANK: 0 - CUDA_VISIBLE_DEVICES: [0]\n"
     ]
    },
    {
     "data": {
      "text/plain": "Predicting: 0it [00:00, ?it/s]",
      "application/vnd.jupyter.widget-view+json": {
       "version_major": 2,
       "version_minor": 0,
       "model_id": "df953a0956ea40ac8a845a98c1200511"
      }
     },
     "metadata": {},
     "output_type": "display_data"
    },
    {
     "name": "stderr",
     "output_type": "stream",
     "text": [
      " 73%|███████▎  | 128/176 [12:35<04:38,  5.79s/it]LOCAL_RANK: 0 - CUDA_VISIBLE_DEVICES: [0]\n"
     ]
    },
    {
     "data": {
      "text/plain": "Predicting: 0it [00:00, ?it/s]",
      "application/vnd.jupyter.widget-view+json": {
       "version_major": 2,
       "version_minor": 0,
       "model_id": "d8ee14bac30645efbeda4bf93af2c7f0"
      }
     },
     "metadata": {},
     "output_type": "display_data"
    },
    {
     "name": "stderr",
     "output_type": "stream",
     "text": [
      " 73%|███████▎  | 129/176 [12:41<04:35,  5.86s/it]LOCAL_RANK: 0 - CUDA_VISIBLE_DEVICES: [0]\n"
     ]
    },
    {
     "data": {
      "text/plain": "Predicting: 0it [00:00, ?it/s]",
      "application/vnd.jupyter.widget-view+json": {
       "version_major": 2,
       "version_minor": 0,
       "model_id": "faea1d5d71204cf0975b0bec035e3da4"
      }
     },
     "metadata": {},
     "output_type": "display_data"
    },
    {
     "name": "stderr",
     "output_type": "stream",
     "text": [
      " 74%|███████▍  | 130/176 [12:47<04:26,  5.78s/it]LOCAL_RANK: 0 - CUDA_VISIBLE_DEVICES: [0]\n"
     ]
    },
    {
     "data": {
      "text/plain": "Predicting: 0it [00:00, ?it/s]",
      "application/vnd.jupyter.widget-view+json": {
       "version_major": 2,
       "version_minor": 0,
       "model_id": "b14ecfc20ee441c5b485c964835ec7cb"
      }
     },
     "metadata": {},
     "output_type": "display_data"
    },
    {
     "name": "stderr",
     "output_type": "stream",
     "text": [
      " 74%|███████▍  | 131/176 [12:52<04:19,  5.76s/it]LOCAL_RANK: 0 - CUDA_VISIBLE_DEVICES: [0]\n"
     ]
    },
    {
     "data": {
      "text/plain": "Predicting: 0it [00:00, ?it/s]",
      "application/vnd.jupyter.widget-view+json": {
       "version_major": 2,
       "version_minor": 0,
       "model_id": "cc15ef2b12ff4436aeb86bb26d7ea450"
      }
     },
     "metadata": {},
     "output_type": "display_data"
    },
    {
     "name": "stderr",
     "output_type": "stream",
     "text": [
      " 75%|███████▌  | 132/176 [12:58<04:16,  5.82s/it]LOCAL_RANK: 0 - CUDA_VISIBLE_DEVICES: [0]\n"
     ]
    },
    {
     "data": {
      "text/plain": "Predicting: 0it [00:00, ?it/s]",
      "application/vnd.jupyter.widget-view+json": {
       "version_major": 2,
       "version_minor": 0,
       "model_id": "c767535f6c104bf49ed916318f7d7390"
      }
     },
     "metadata": {},
     "output_type": "display_data"
    },
    {
     "name": "stderr",
     "output_type": "stream",
     "text": [
      " 76%|███████▌  | 133/176 [13:04<04:10,  5.82s/it]LOCAL_RANK: 0 - CUDA_VISIBLE_DEVICES: [0]\n"
     ]
    },
    {
     "data": {
      "text/plain": "Predicting: 0it [00:00, ?it/s]",
      "application/vnd.jupyter.widget-view+json": {
       "version_major": 2,
       "version_minor": 0,
       "model_id": "8aa1276d377d4866ade1888487a82613"
      }
     },
     "metadata": {},
     "output_type": "display_data"
    },
    {
     "name": "stderr",
     "output_type": "stream",
     "text": [
      " 76%|███████▌  | 134/176 [13:11<04:17,  6.14s/it]LOCAL_RANK: 0 - CUDA_VISIBLE_DEVICES: [0]\n"
     ]
    },
    {
     "data": {
      "text/plain": "Predicting: 0it [00:00, ?it/s]",
      "application/vnd.jupyter.widget-view+json": {
       "version_major": 2,
       "version_minor": 0,
       "model_id": "aedd3b6045a942999411bdddcaa0b374"
      }
     },
     "metadata": {},
     "output_type": "display_data"
    },
    {
     "name": "stderr",
     "output_type": "stream",
     "text": [
      " 77%|███████▋  | 135/176 [13:18<04:19,  6.33s/it]LOCAL_RANK: 0 - CUDA_VISIBLE_DEVICES: [0]\n"
     ]
    },
    {
     "data": {
      "text/plain": "Predicting: 0it [00:00, ?it/s]",
      "application/vnd.jupyter.widget-view+json": {
       "version_major": 2,
       "version_minor": 0,
       "model_id": "ba07e66a1d3046f7ad0c99c5b52d4171"
      }
     },
     "metadata": {},
     "output_type": "display_data"
    },
    {
     "name": "stderr",
     "output_type": "stream",
     "text": [
      " 77%|███████▋  | 136/176 [13:24<04:13,  6.34s/it]LOCAL_RANK: 0 - CUDA_VISIBLE_DEVICES: [0]\n"
     ]
    },
    {
     "data": {
      "text/plain": "Predicting: 0it [00:00, ?it/s]",
      "application/vnd.jupyter.widget-view+json": {
       "version_major": 2,
       "version_minor": 0,
       "model_id": "6c846bc5087148ecbcb9b366e97c9521"
      }
     },
     "metadata": {},
     "output_type": "display_data"
    },
    {
     "name": "stderr",
     "output_type": "stream",
     "text": [
      " 78%|███████▊  | 137/176 [13:31<04:12,  6.47s/it]LOCAL_RANK: 0 - CUDA_VISIBLE_DEVICES: [0]\n"
     ]
    },
    {
     "data": {
      "text/plain": "Predicting: 0it [00:00, ?it/s]",
      "application/vnd.jupyter.widget-view+json": {
       "version_major": 2,
       "version_minor": 0,
       "model_id": "ee8c82e241614941bdab18b8035c7666"
      }
     },
     "metadata": {},
     "output_type": "display_data"
    },
    {
     "name": "stderr",
     "output_type": "stream",
     "text": [
      " 78%|███████▊  | 138/176 [13:38<04:06,  6.50s/it]LOCAL_RANK: 0 - CUDA_VISIBLE_DEVICES: [0]\n"
     ]
    },
    {
     "data": {
      "text/plain": "Predicting: 0it [00:00, ?it/s]",
      "application/vnd.jupyter.widget-view+json": {
       "version_major": 2,
       "version_minor": 0,
       "model_id": "3ee99f382b614796ba424d942c94a0de"
      }
     },
     "metadata": {},
     "output_type": "display_data"
    },
    {
     "name": "stderr",
     "output_type": "stream",
     "text": [
      " 79%|███████▉  | 139/176 [13:44<03:55,  6.36s/it]LOCAL_RANK: 0 - CUDA_VISIBLE_DEVICES: [0]\n"
     ]
    },
    {
     "data": {
      "text/plain": "Predicting: 0it [00:00, ?it/s]",
      "application/vnd.jupyter.widget-view+json": {
       "version_major": 2,
       "version_minor": 0,
       "model_id": "16c1f10345c442249bd36c59a35cd97b"
      }
     },
     "metadata": {},
     "output_type": "display_data"
    },
    {
     "name": "stderr",
     "output_type": "stream",
     "text": [
      " 80%|███████▉  | 140/176 [13:50<03:47,  6.31s/it]LOCAL_RANK: 0 - CUDA_VISIBLE_DEVICES: [0]\n"
     ]
    },
    {
     "data": {
      "text/plain": "Predicting: 0it [00:00, ?it/s]",
      "application/vnd.jupyter.widget-view+json": {
       "version_major": 2,
       "version_minor": 0,
       "model_id": "c7ec2d8aa62042b79f8e85d9b8a775db"
      }
     },
     "metadata": {},
     "output_type": "display_data"
    },
    {
     "name": "stderr",
     "output_type": "stream",
     "text": [
      " 80%|████████  | 141/176 [13:56<03:44,  6.42s/it]LOCAL_RANK: 0 - CUDA_VISIBLE_DEVICES: [0]\n"
     ]
    },
    {
     "data": {
      "text/plain": "Predicting: 0it [00:00, ?it/s]",
      "application/vnd.jupyter.widget-view+json": {
       "version_major": 2,
       "version_minor": 0,
       "model_id": "d0c16216e728434da2134a0e52ae688c"
      }
     },
     "metadata": {},
     "output_type": "display_data"
    },
    {
     "name": "stderr",
     "output_type": "stream",
     "text": [
      " 81%|████████  | 142/176 [14:03<03:37,  6.39s/it]LOCAL_RANK: 0 - CUDA_VISIBLE_DEVICES: [0]\n"
     ]
    },
    {
     "data": {
      "text/plain": "Predicting: 0it [00:00, ?it/s]",
      "application/vnd.jupyter.widget-view+json": {
       "version_major": 2,
       "version_minor": 0,
       "model_id": "171128983a794394a2958ffd5b62ca2c"
      }
     },
     "metadata": {},
     "output_type": "display_data"
    },
    {
     "name": "stderr",
     "output_type": "stream",
     "text": [
      " 81%|████████▏ | 143/176 [14:09<03:33,  6.48s/it]LOCAL_RANK: 0 - CUDA_VISIBLE_DEVICES: [0]\n"
     ]
    },
    {
     "data": {
      "text/plain": "Predicting: 0it [00:00, ?it/s]",
      "application/vnd.jupyter.widget-view+json": {
       "version_major": 2,
       "version_minor": 0,
       "model_id": "e754526879c8408e9cc062dc0d396e53"
      }
     },
     "metadata": {},
     "output_type": "display_data"
    },
    {
     "name": "stderr",
     "output_type": "stream",
     "text": [
      " 82%|████████▏ | 144/176 [14:16<03:30,  6.57s/it]LOCAL_RANK: 0 - CUDA_VISIBLE_DEVICES: [0]\n"
     ]
    },
    {
     "data": {
      "text/plain": "Predicting: 0it [00:00, ?it/s]",
      "application/vnd.jupyter.widget-view+json": {
       "version_major": 2,
       "version_minor": 0,
       "model_id": "9e7d0b0b01bc4674a37fe6bc1b87779a"
      }
     },
     "metadata": {},
     "output_type": "display_data"
    },
    {
     "name": "stderr",
     "output_type": "stream",
     "text": [
      " 82%|████████▏ | 145/176 [14:22<03:19,  6.44s/it]LOCAL_RANK: 0 - CUDA_VISIBLE_DEVICES: [0]\n"
     ]
    },
    {
     "data": {
      "text/plain": "Predicting: 0it [00:00, ?it/s]",
      "application/vnd.jupyter.widget-view+json": {
       "version_major": 2,
       "version_minor": 0,
       "model_id": "abeb9fc2f6494fa5a528459fdab299b2"
      }
     },
     "metadata": {},
     "output_type": "display_data"
    },
    {
     "name": "stderr",
     "output_type": "stream",
     "text": [
      " 83%|████████▎ | 146/176 [14:28<03:08,  6.30s/it]LOCAL_RANK: 0 - CUDA_VISIBLE_DEVICES: [0]\n"
     ]
    },
    {
     "name": "stdout",
     "output_type": "stream",
     "text": [
      "high_class_f1 0.9655172413793104 ..\\..\\..\\user_data\\checkpoints\\rns_active\\active_checkpoints_MarginSamplingDropout\\MarginSamplingDropout_round_9-step=1125-train_loss=0.01908.ckpt\n"
     ]
    },
    {
     "data": {
      "text/plain": "Predicting: 0it [00:00, ?it/s]",
      "application/vnd.jupyter.widget-view+json": {
       "version_major": 2,
       "version_minor": 0,
       "model_id": "98978730b6fa4cc889ef96dcd45b1f75"
      }
     },
     "metadata": {},
     "output_type": "display_data"
    },
    {
     "name": "stderr",
     "output_type": "stream",
     "text": [
      " 84%|████████▎ | 147/176 [14:34<02:57,  6.12s/it]LOCAL_RANK: 0 - CUDA_VISIBLE_DEVICES: [0]\n"
     ]
    },
    {
     "data": {
      "text/plain": "Predicting: 0it [00:00, ?it/s]",
      "application/vnd.jupyter.widget-view+json": {
       "version_major": 2,
       "version_minor": 0,
       "model_id": "a736c0da368f42a5a5ade857528b0457"
      }
     },
     "metadata": {},
     "output_type": "display_data"
    },
    {
     "name": "stderr",
     "output_type": "stream",
     "text": [
      " 84%|████████▍ | 148/176 [14:40<02:51,  6.14s/it]LOCAL_RANK: 0 - CUDA_VISIBLE_DEVICES: [0]\n"
     ]
    },
    {
     "data": {
      "text/plain": "Predicting: 0it [00:00, ?it/s]",
      "application/vnd.jupyter.widget-view+json": {
       "version_major": 2,
       "version_minor": 0,
       "model_id": "da440b5a80cd473ea9f88681e2544a32"
      }
     },
     "metadata": {},
     "output_type": "display_data"
    },
    {
     "name": "stderr",
     "output_type": "stream",
     "text": [
      " 85%|████████▍ | 149/176 [14:46<02:46,  6.16s/it]LOCAL_RANK: 0 - CUDA_VISIBLE_DEVICES: [0]\n"
     ]
    },
    {
     "data": {
      "text/plain": "Predicting: 0it [00:00, ?it/s]",
      "application/vnd.jupyter.widget-view+json": {
       "version_major": 2,
       "version_minor": 0,
       "model_id": "100c05d259a04b1fa397a40aa7857cfc"
      }
     },
     "metadata": {},
     "output_type": "display_data"
    },
    {
     "name": "stderr",
     "output_type": "stream",
     "text": [
      " 85%|████████▌ | 150/176 [14:52<02:37,  6.06s/it]LOCAL_RANK: 0 - CUDA_VISIBLE_DEVICES: [0]\n"
     ]
    },
    {
     "data": {
      "text/plain": "Predicting: 0it [00:00, ?it/s]",
      "application/vnd.jupyter.widget-view+json": {
       "version_major": 2,
       "version_minor": 0,
       "model_id": "91152689762243aeaad675f2fbda760b"
      }
     },
     "metadata": {},
     "output_type": "display_data"
    },
    {
     "name": "stderr",
     "output_type": "stream",
     "text": [
      " 86%|████████▌ | 151/176 [14:59<02:32,  6.12s/it]LOCAL_RANK: 0 - CUDA_VISIBLE_DEVICES: [0]\n"
     ]
    },
    {
     "name": "stdout",
     "output_type": "stream",
     "text": [
      "high_class_f1 0.9655172413793104 ..\\..\\..\\user_data\\checkpoints\\rns_active\\active_checkpoints_MarginSamplingDropout\\MarginSamplingDropout_round_9-step=1500-train_loss=0.01125.ckpt\n"
     ]
    },
    {
     "data": {
      "text/plain": "Predicting: 0it [00:00, ?it/s]",
      "application/vnd.jupyter.widget-view+json": {
       "version_major": 2,
       "version_minor": 0,
       "model_id": "24b1431da14149e89a7fa441f2d69a01"
      }
     },
     "metadata": {},
     "output_type": "display_data"
    },
    {
     "name": "stderr",
     "output_type": "stream",
     "text": [
      " 86%|████████▋ | 152/176 [15:04<02:24,  6.01s/it]LOCAL_RANK: 0 - CUDA_VISIBLE_DEVICES: [0]\n"
     ]
    },
    {
     "name": "stdout",
     "output_type": "stream",
     "text": [
      "high_class_f1 0.9655172413793104 ..\\..\\..\\user_data\\checkpoints\\rns_active\\active_checkpoints_MarginSamplingDropout\\MarginSamplingDropout_round_9-step=1575-train_loss=0.02680.ckpt\n"
     ]
    },
    {
     "data": {
      "text/plain": "Predicting: 0it [00:00, ?it/s]",
      "application/vnd.jupyter.widget-view+json": {
       "version_major": 2,
       "version_minor": 0,
       "model_id": "b172a830db864ce3a89cb99fed9e3924"
      }
     },
     "metadata": {},
     "output_type": "display_data"
    },
    {
     "name": "stderr",
     "output_type": "stream",
     "text": [
      " 87%|████████▋ | 153/176 [15:10<02:15,  5.89s/it]LOCAL_RANK: 0 - CUDA_VISIBLE_DEVICES: [0]\n"
     ]
    },
    {
     "name": "stdout",
     "output_type": "stream",
     "text": [
      "high_class_f1 0.9655172413793104 ..\\..\\..\\user_data\\checkpoints\\rns_active\\active_checkpoints_MarginSamplingDropout\\MarginSamplingDropout_round_9-step=1650-train_loss=0.01904.ckpt\n"
     ]
    },
    {
     "data": {
      "text/plain": "Predicting: 0it [00:00, ?it/s]",
      "application/vnd.jupyter.widget-view+json": {
       "version_major": 2,
       "version_minor": 0,
       "model_id": "73d60e8e81f34e249d858894533fbc43"
      }
     },
     "metadata": {},
     "output_type": "display_data"
    },
    {
     "name": "stderr",
     "output_type": "stream",
     "text": [
      " 88%|████████▊ | 154/176 [15:16<02:09,  5.87s/it]LOCAL_RANK: 0 - CUDA_VISIBLE_DEVICES: [0]\n"
     ]
    },
    {
     "data": {
      "text/plain": "Predicting: 0it [00:00, ?it/s]",
      "application/vnd.jupyter.widget-view+json": {
       "version_major": 2,
       "version_minor": 0,
       "model_id": "18241aca779e4117b0efc60ec9abdee8"
      }
     },
     "metadata": {},
     "output_type": "display_data"
    },
    {
     "name": "stderr",
     "output_type": "stream",
     "text": [
      " 88%|████████▊ | 155/176 [15:22<02:06,  6.02s/it]LOCAL_RANK: 0 - CUDA_VISIBLE_DEVICES: [0]\n"
     ]
    },
    {
     "name": "stdout",
     "output_type": "stream",
     "text": [
      "high_class_f1 0.9655172413793104 ..\\..\\..\\user_data\\checkpoints\\rns_active\\active_checkpoints_MarginSamplingDropout\\MarginSamplingDropout_round_9-step=1800-train_loss=0.01269.ckpt\n"
     ]
    },
    {
     "data": {
      "text/plain": "Predicting: 0it [00:00, ?it/s]",
      "application/vnd.jupyter.widget-view+json": {
       "version_major": 2,
       "version_minor": 0,
       "model_id": "171e0dc6e8674a878fe97cb4078b298e"
      }
     },
     "metadata": {},
     "output_type": "display_data"
    },
    {
     "name": "stderr",
     "output_type": "stream",
     "text": [
      " 89%|████████▊ | 156/176 [15:28<01:59,  5.96s/it]LOCAL_RANK: 0 - CUDA_VISIBLE_DEVICES: [0]\n"
     ]
    },
    {
     "data": {
      "text/plain": "Predicting: 0it [00:00, ?it/s]",
      "application/vnd.jupyter.widget-view+json": {
       "version_major": 2,
       "version_minor": 0,
       "model_id": "3ee33f1596534fd2adc68479ef81a7a0"
      }
     },
     "metadata": {},
     "output_type": "display_data"
    },
    {
     "name": "stderr",
     "output_type": "stream",
     "text": [
      " 89%|████████▉ | 157/176 [15:34<01:55,  6.05s/it]LOCAL_RANK: 0 - CUDA_VISIBLE_DEVICES: [0]\n"
     ]
    },
    {
     "data": {
      "text/plain": "Predicting: 0it [00:00, ?it/s]",
      "application/vnd.jupyter.widget-view+json": {
       "version_major": 2,
       "version_minor": 0,
       "model_id": "7c414fb3cad04fff8769058612f136cf"
      }
     },
     "metadata": {},
     "output_type": "display_data"
    },
    {
     "name": "stderr",
     "output_type": "stream",
     "text": [
      " 90%|████████▉ | 158/176 [15:40<01:46,  5.94s/it]LOCAL_RANK: 0 - CUDA_VISIBLE_DEVICES: [0]\n"
     ]
    },
    {
     "data": {
      "text/plain": "Predicting: 0it [00:00, ?it/s]",
      "application/vnd.jupyter.widget-view+json": {
       "version_major": 2,
       "version_minor": 0,
       "model_id": "d638b4ee095647a4b348317108d3db35"
      }
     },
     "metadata": {},
     "output_type": "display_data"
    },
    {
     "name": "stderr",
     "output_type": "stream",
     "text": [
      " 90%|█████████ | 159/176 [15:47<01:46,  6.28s/it]LOCAL_RANK: 0 - CUDA_VISIBLE_DEVICES: [0]\n"
     ]
    },
    {
     "data": {
      "text/plain": "Predicting: 0it [00:00, ?it/s]",
      "application/vnd.jupyter.widget-view+json": {
       "version_major": 2,
       "version_minor": 0,
       "model_id": "ae0a2b7a84e5434c8c684d14b4f8c12a"
      }
     },
     "metadata": {},
     "output_type": "display_data"
    },
    {
     "name": "stderr",
     "output_type": "stream",
     "text": [
      " 91%|█████████ | 160/176 [15:53<01:37,  6.10s/it]LOCAL_RANK: 0 - CUDA_VISIBLE_DEVICES: [0]\n"
     ]
    },
    {
     "data": {
      "text/plain": "Predicting: 0it [00:00, ?it/s]",
      "application/vnd.jupyter.widget-view+json": {
       "version_major": 2,
       "version_minor": 0,
       "model_id": "e1e894c0a8334186b646a7a4de54d63b"
      }
     },
     "metadata": {},
     "output_type": "display_data"
    },
    {
     "name": "stderr",
     "output_type": "stream",
     "text": [
      " 91%|█████████▏| 161/176 [15:58<01:29,  5.99s/it]LOCAL_RANK: 0 - CUDA_VISIBLE_DEVICES: [0]\n"
     ]
    },
    {
     "data": {
      "text/plain": "Predicting: 0it [00:00, ?it/s]",
      "application/vnd.jupyter.widget-view+json": {
       "version_major": 2,
       "version_minor": 0,
       "model_id": "d6c6321b78f940a2889d1532e467d33e"
      }
     },
     "metadata": {},
     "output_type": "display_data"
    },
    {
     "name": "stderr",
     "output_type": "stream",
     "text": [
      " 92%|█████████▏| 162/176 [16:04<01:23,  5.96s/it]LOCAL_RANK: 0 - CUDA_VISIBLE_DEVICES: [0]\n"
     ]
    },
    {
     "data": {
      "text/plain": "Predicting: 0it [00:00, ?it/s]",
      "application/vnd.jupyter.widget-view+json": {
       "version_major": 2,
       "version_minor": 0,
       "model_id": "153cfff2935b433fb6f91c60ded025d4"
      }
     },
     "metadata": {},
     "output_type": "display_data"
    },
    {
     "name": "stderr",
     "output_type": "stream",
     "text": [
      " 93%|█████████▎| 163/176 [16:10<01:16,  5.91s/it]LOCAL_RANK: 0 - CUDA_VISIBLE_DEVICES: [0]\n"
     ]
    },
    {
     "data": {
      "text/plain": "Predicting: 0it [00:00, ?it/s]",
      "application/vnd.jupyter.widget-view+json": {
       "version_major": 2,
       "version_minor": 0,
       "model_id": "62cf10a812e6434898e7f26c370140ef"
      }
     },
     "metadata": {},
     "output_type": "display_data"
    },
    {
     "name": "stderr",
     "output_type": "stream",
     "text": [
      " 93%|█████████▎| 164/176 [16:16<01:09,  5.81s/it]LOCAL_RANK: 0 - CUDA_VISIBLE_DEVICES: [0]\n"
     ]
    },
    {
     "data": {
      "text/plain": "Predicting: 0it [00:00, ?it/s]",
      "application/vnd.jupyter.widget-view+json": {
       "version_major": 2,
       "version_minor": 0,
       "model_id": "fd67b65f088f4e0fbcab8423979f37e9"
      }
     },
     "metadata": {},
     "output_type": "display_data"
    },
    {
     "name": "stderr",
     "output_type": "stream",
     "text": [
      " 94%|█████████▍| 165/176 [16:21<01:03,  5.76s/it]LOCAL_RANK: 0 - CUDA_VISIBLE_DEVICES: [0]\n"
     ]
    },
    {
     "data": {
      "text/plain": "Predicting: 0it [00:00, ?it/s]",
      "application/vnd.jupyter.widget-view+json": {
       "version_major": 2,
       "version_minor": 0,
       "model_id": "2e03d496a3c4484292628e1cd92cd1fb"
      }
     },
     "metadata": {},
     "output_type": "display_data"
    },
    {
     "name": "stderr",
     "output_type": "stream",
     "text": [
      " 94%|█████████▍| 166/176 [16:27<00:58,  5.85s/it]LOCAL_RANK: 0 - CUDA_VISIBLE_DEVICES: [0]\n"
     ]
    },
    {
     "data": {
      "text/plain": "Predicting: 0it [00:00, ?it/s]",
      "application/vnd.jupyter.widget-view+json": {
       "version_major": 2,
       "version_minor": 0,
       "model_id": "f186abe1d50f4e13b7f5233f52f79759"
      }
     },
     "metadata": {},
     "output_type": "display_data"
    },
    {
     "name": "stderr",
     "output_type": "stream",
     "text": [
      " 95%|█████████▍| 167/176 [16:33<00:52,  5.84s/it]LOCAL_RANK: 0 - CUDA_VISIBLE_DEVICES: [0]\n"
     ]
    },
    {
     "data": {
      "text/plain": "Predicting: 0it [00:00, ?it/s]",
      "application/vnd.jupyter.widget-view+json": {
       "version_major": 2,
       "version_minor": 0,
       "model_id": "35610be45f40451a82e867d6320f6943"
      }
     },
     "metadata": {},
     "output_type": "display_data"
    },
    {
     "name": "stderr",
     "output_type": "stream",
     "text": [
      " 95%|█████████▌| 168/176 [16:39<00:46,  5.78s/it]LOCAL_RANK: 0 - CUDA_VISIBLE_DEVICES: [0]\n"
     ]
    },
    {
     "data": {
      "text/plain": "Predicting: 0it [00:00, ?it/s]",
      "application/vnd.jupyter.widget-view+json": {
       "version_major": 2,
       "version_minor": 0,
       "model_id": "e956448363454aeea42d6556b21f570d"
      }
     },
     "metadata": {},
     "output_type": "display_data"
    },
    {
     "name": "stderr",
     "output_type": "stream",
     "text": [
      " 96%|█████████▌| 169/176 [16:44<00:40,  5.73s/it]LOCAL_RANK: 0 - CUDA_VISIBLE_DEVICES: [0]\n"
     ]
    },
    {
     "data": {
      "text/plain": "Predicting: 0it [00:00, ?it/s]",
      "application/vnd.jupyter.widget-view+json": {
       "version_major": 2,
       "version_minor": 0,
       "model_id": "ea834f5ec6234c7e833e11b948f11f40"
      }
     },
     "metadata": {},
     "output_type": "display_data"
    },
    {
     "name": "stderr",
     "output_type": "stream",
     "text": [
      " 97%|█████████▋| 170/176 [16:50<00:34,  5.76s/it]LOCAL_RANK: 0 - CUDA_VISIBLE_DEVICES: [0]\n"
     ]
    },
    {
     "data": {
      "text/plain": "Predicting: 0it [00:00, ?it/s]",
      "application/vnd.jupyter.widget-view+json": {
       "version_major": 2,
       "version_minor": 0,
       "model_id": "410d38430eca45f0873cb436ea05df2d"
      }
     },
     "metadata": {},
     "output_type": "display_data"
    },
    {
     "name": "stderr",
     "output_type": "stream",
     "text": [
      " 97%|█████████▋| 171/176 [16:57<00:29,  5.93s/it]LOCAL_RANK: 0 - CUDA_VISIBLE_DEVICES: [0]\n"
     ]
    },
    {
     "data": {
      "text/plain": "Predicting: 0it [00:00, ?it/s]",
      "application/vnd.jupyter.widget-view+json": {
       "version_major": 2,
       "version_minor": 0,
       "model_id": "2a2f76404ec64d5ebd7c5f671bc85f99"
      }
     },
     "metadata": {},
     "output_type": "display_data"
    },
    {
     "name": "stderr",
     "output_type": "stream",
     "text": [
      " 98%|█████████▊| 172/176 [17:03<00:24,  6.07s/it]LOCAL_RANK: 0 - CUDA_VISIBLE_DEVICES: [0]\n"
     ]
    },
    {
     "data": {
      "text/plain": "Predicting: 0it [00:00, ?it/s]",
      "application/vnd.jupyter.widget-view+json": {
       "version_major": 2,
       "version_minor": 0,
       "model_id": "d75e0898b19043f3ab933935138badad"
      }
     },
     "metadata": {},
     "output_type": "display_data"
    },
    {
     "name": "stderr",
     "output_type": "stream",
     "text": [
      " 98%|█████████▊| 173/176 [17:09<00:17,  5.97s/it]LOCAL_RANK: 0 - CUDA_VISIBLE_DEVICES: [0]\n"
     ]
    },
    {
     "data": {
      "text/plain": "Predicting: 0it [00:00, ?it/s]",
      "application/vnd.jupyter.widget-view+json": {
       "version_major": 2,
       "version_minor": 0,
       "model_id": "01bac1ee8a4648cf8ef6d338379264d0"
      }
     },
     "metadata": {},
     "output_type": "display_data"
    },
    {
     "name": "stderr",
     "output_type": "stream",
     "text": [
      " 99%|█████████▉| 174/176 [17:14<00:11,  5.90s/it]LOCAL_RANK: 0 - CUDA_VISIBLE_DEVICES: [0]\n"
     ]
    },
    {
     "data": {
      "text/plain": "Predicting: 0it [00:00, ?it/s]",
      "application/vnd.jupyter.widget-view+json": {
       "version_major": 2,
       "version_minor": 0,
       "model_id": "eb94dcd49a1748e68d88366998f73c1f"
      }
     },
     "metadata": {},
     "output_type": "display_data"
    },
    {
     "name": "stderr",
     "output_type": "stream",
     "text": [
      " 99%|█████████▉| 175/176 [17:20<00:05,  5.84s/it]LOCAL_RANK: 0 - CUDA_VISIBLE_DEVICES: [0]\n"
     ]
    },
    {
     "data": {
      "text/plain": "Predicting: 0it [00:00, ?it/s]",
      "application/vnd.jupyter.widget-view+json": {
       "version_major": 2,
       "version_minor": 0,
       "model_id": "cf2b06a3684a4eaba3185daf36336dde"
      }
     },
     "metadata": {},
     "output_type": "display_data"
    },
    {
     "name": "stderr",
     "output_type": "stream",
     "text": [
      "100%|██████████| 176/176 [17:26<00:00,  5.95s/it]\n"
     ]
    }
   ],
   "source": [
    "import os\n",
    "from pathlib import Path\n",
    "\n",
    "\n",
    "strategy_name = 'MarginSamplingDropout'\n",
    "ckpt_directory = ckpt_folder_root + 'rns_active/active_checkpoints_' + strategy_name\n",
    "# ckpt_files = os.listdir(ckpt_directory)\n",
    "ckpt_files = sorted(Path(ckpt_directory).iterdir(), key=os.path.getmtime)[50:]\n",
    "high_f1 = 0\n",
    "high_class_f1 = 0\n",
    "file_name = []\n",
    "file_name_class_f1 = []\n",
    "for cf in tqdm(ckpt_files):\n",
    "    model = model.load_from_checkpoint(ckpt_folder_root + 'rns_active/active_checkpoints_' + strategy_name + '/' + cf.name, backbone=swav.backbone)\n",
    "    predictions = trainer.predict(model,train_dataloader)\n",
    "    output_list = []\n",
    "    target_list = []\n",
    "    emb_list = []\n",
    "    m = nn.Softmax(dim=1)\n",
    "    seq_len_list = []\n",
    "    for pred, y, emb, emb2, seq_len in predictions:\n",
    "        output_list.append(pred)\n",
    "        target_list.append(y)\n",
    "        emb_list.append(emb)\n",
    "        seq_len_list.append(seq_len)\n",
    "    pred_raw = torch.vstack(output_list)\n",
    "    target = torch.concat(target_list)\n",
    "    emb = torch.concat(emb_list)\n",
    "    out = torch.argmax(pred_raw, dim=1)\n",
    "    seq_len_arr = torch.tensor([item for sublist in seq_len_list for item in sublist])\n",
    "    pred_episode = combine_window_to_episode(torch.argmax(pred_raw, dim=1),seq_len_arr)\n",
    "    class_f1 = sklearn.metrics.f1_score([np.sign(tl.sum()) for tl in pred_episode], [np.sign(tl.sum()) for tl in train_label])\n",
    "    f1 = sklearn.metrics.f1_score(torch.argmax(pred_raw, dim=1), target)\n",
    "    if f1>high_f1:\n",
    "        high_f1 = f1\n",
    "        file_name.append(cf)\n",
    "        print('high_f1', f1,cf)\n",
    "    if class_f1>=high_class_f1:\n",
    "        high_class_f1 = class_f1\n",
    "        file_name_class_f1.append((class_f1, cf))\n",
    "        print('high_class_f1', class_f1,cf)\n"
   ],
   "metadata": {
    "collapsed": false,
    "ExecuteTime": {
     "start_time": "2024-04-17T21:00:11.777492Z",
     "end_time": "2024-04-17T21:17:38.722911Z"
    }
   }
  },
  {
   "cell_type": "code",
   "execution_count": 191,
   "outputs": [
    {
     "data": {
      "text/plain": "[(0.8,\n  WindowsPath('../../../user_data/checkpoints/rns_active/active_checkpoints_MarginSamplingDropout/MarginSamplingDropout_round_2-step=1500-train_loss=0.01494.ckpt')),\n (0.8,\n  WindowsPath('../../../user_data/checkpoints/rns_active/active_checkpoints_MarginSamplingDropout/MarginSamplingDropout_round_2-step=1575-train_loss=0.01105.ckpt')),\n (0.846153846153846,\n  WindowsPath('../../../user_data/checkpoints/rns_active/active_checkpoints_MarginSamplingDropout/MarginSamplingDropout_round_2-step=1650-train_loss=0.01088.ckpt')),\n (0.846153846153846,\n  WindowsPath('../../../user_data/checkpoints/rns_active/active_checkpoints_MarginSamplingDropout/MarginSamplingDropout_round_3-step=225-train_loss=0.03723.ckpt')),\n (0.846153846153846,\n  WindowsPath('../../../user_data/checkpoints/rns_active/active_checkpoints_MarginSamplingDropout/MarginSamplingDropout_round_3-step=300-train_loss=0.01363.ckpt')),\n (0.888888888888889,\n  WindowsPath('../../../user_data/checkpoints/rns_active/active_checkpoints_MarginSamplingDropout/MarginSamplingDropout_round_3-step=525-train_loss=0.01328.ckpt')),\n (0.888888888888889,\n  WindowsPath('../../../user_data/checkpoints/rns_active/active_checkpoints_MarginSamplingDropout/MarginSamplingDropout_round_3-step=675-train_loss=0.01668.ckpt')),\n (0.888888888888889,\n  WindowsPath('../../../user_data/checkpoints/rns_active/active_checkpoints_MarginSamplingDropout/MarginSamplingDropout_round_3-step=825-train_loss=0.04724.ckpt')),\n (0.888888888888889,\n  WindowsPath('../../../user_data/checkpoints/rns_active/active_checkpoints_MarginSamplingDropout/MarginSamplingDropout_round_3-step=900-train_loss=0.01129.ckpt')),\n (0.888888888888889,\n  WindowsPath('../../../user_data/checkpoints/rns_active/active_checkpoints_MarginSamplingDropout/MarginSamplingDropout_round_3-step=1050-train_loss=0.01149.ckpt')),\n (0.888888888888889,\n  WindowsPath('../../../user_data/checkpoints/rns_active/active_checkpoints_MarginSamplingDropout/MarginSamplingDropout_round_3-step=1125-train_loss=0.02841.ckpt')),\n (0.888888888888889,\n  WindowsPath('../../../user_data/checkpoints/rns_active/active_checkpoints_MarginSamplingDropout/MarginSamplingDropout_round_3-step=1200-train_loss=0.01092.ckpt')),\n (0.888888888888889,\n  WindowsPath('../../../user_data/checkpoints/rns_active/active_checkpoints_MarginSamplingDropout/MarginSamplingDropout_round_3-step=1350-train_loss=0.01721.ckpt')),\n (0.888888888888889,\n  WindowsPath('../../../user_data/checkpoints/rns_active/active_checkpoints_MarginSamplingDropout/MarginSamplingDropout_round_3-step=1500-train_loss=0.01141.ckpt')),\n (0.888888888888889,\n  WindowsPath('../../../user_data/checkpoints/rns_active/active_checkpoints_MarginSamplingDropout/MarginSamplingDropout_round_4-step=600-train_loss=0.01605.ckpt')),\n (0.888888888888889,\n  WindowsPath('../../../user_data/checkpoints/rns_active/active_checkpoints_MarginSamplingDropout/MarginSamplingDropout_round_4-step=825-train_loss=0.02223.ckpt')),\n (0.896551724137931,\n  WindowsPath('../../../user_data/checkpoints/rns_active/active_checkpoints_MarginSamplingDropout/MarginSamplingDropout_round_4-step=975-train_loss=0.01749.ckpt')),\n (0.9655172413793104,\n  WindowsPath('../../../user_data/checkpoints/rns_active/active_checkpoints_MarginSamplingDropout/MarginSamplingDropout_round_5-step=750-train_loss=0.05351.ckpt')),\n (0.9655172413793104,\n  WindowsPath('../../../user_data/checkpoints/rns_active/active_checkpoints_MarginSamplingDropout/MarginSamplingDropout_round_9-step=1125-train_loss=0.01908.ckpt')),\n (0.9655172413793104,\n  WindowsPath('../../../user_data/checkpoints/rns_active/active_checkpoints_MarginSamplingDropout/MarginSamplingDropout_round_9-step=1500-train_loss=0.01125.ckpt')),\n (0.9655172413793104,\n  WindowsPath('../../../user_data/checkpoints/rns_active/active_checkpoints_MarginSamplingDropout/MarginSamplingDropout_round_9-step=1575-train_loss=0.02680.ckpt')),\n (0.9655172413793104,\n  WindowsPath('../../../user_data/checkpoints/rns_active/active_checkpoints_MarginSamplingDropout/MarginSamplingDropout_round_9-step=1650-train_loss=0.01904.ckpt')),\n (0.9655172413793104,\n  WindowsPath('../../../user_data/checkpoints/rns_active/active_checkpoints_MarginSamplingDropout/MarginSamplingDropout_round_9-step=1800-train_loss=0.01269.ckpt'))]"
     },
     "execution_count": 191,
     "metadata": {},
     "output_type": "execute_result"
    }
   ],
   "source": [
    " file_name_class_f1"
   ],
   "metadata": {
    "collapsed": false,
    "ExecuteTime": {
     "start_time": "2024-04-17T21:21:30.526969Z",
     "end_time": "2024-04-17T21:21:30.901970Z"
    }
   }
  },
  {
   "cell_type": "code",
   "execution_count": 192,
   "outputs": [
    {
     "data": {
      "text/plain": "[WindowsPath('../../../user_data/checkpoints/rns_active/active_checkpoints_MarginSamplingDropout/MarginSamplingDropout_round_2-step=1500-train_loss=0.01494.ckpt'),\n WindowsPath('../../../user_data/checkpoints/rns_active/active_checkpoints_MarginSamplingDropout/MarginSamplingDropout_round_2-step=1575-train_loss=0.01105.ckpt'),\n WindowsPath('../../../user_data/checkpoints/rns_active/active_checkpoints_MarginSamplingDropout/MarginSamplingDropout_round_2-step=1650-train_loss=0.01088.ckpt'),\n WindowsPath('../../../user_data/checkpoints/rns_active/active_checkpoints_MarginSamplingDropout/MarginSamplingDropout_round_3-step=525-train_loss=0.01328.ckpt'),\n WindowsPath('../../../user_data/checkpoints/rns_active/active_checkpoints_MarginSamplingDropout/MarginSamplingDropout_round_3-step=675-train_loss=0.01668.ckpt'),\n WindowsPath('../../../user_data/checkpoints/rns_active/active_checkpoints_MarginSamplingDropout/MarginSamplingDropout_round_3-step=900-train_loss=0.01129.ckpt'),\n WindowsPath('../../../user_data/checkpoints/rns_active/active_checkpoints_MarginSamplingDropout/MarginSamplingDropout_round_3-step=1050-train_loss=0.01149.ckpt'),\n WindowsPath('../../../user_data/checkpoints/rns_active/active_checkpoints_MarginSamplingDropout/MarginSamplingDropout_round_5-step=750-train_loss=0.05351.ckpt')]"
     },
     "execution_count": 192,
     "metadata": {},
     "output_type": "execute_result"
    }
   ],
   "source": [
    "file_name"
   ],
   "metadata": {
    "collapsed": false,
    "ExecuteTime": {
     "start_time": "2024-04-17T21:21:36.254132Z",
     "end_time": "2024-04-17T21:21:36.775131Z"
    }
   }
  },
  {
   "cell_type": "code",
   "execution_count": 208,
   "outputs": [],
   "source": [
    "model = model.load_from_checkpoint(ckpt_folder_root + 'rns_active/active_checkpoints_' + strategy_name + '/' + 'MarginSamplingDropout_round_5-step=750-train_loss=0.05351.ckpt', backbone=swav.backbone)"
   ],
   "metadata": {
    "collapsed": false,
    "ExecuteTime": {
     "start_time": "2024-04-17T21:23:29.337715Z",
     "end_time": "2024-04-17T21:23:29.819499Z"
    }
   }
  },
  {
   "cell_type": "code",
   "execution_count": 209,
   "outputs": [
    {
     "name": "stderr",
     "output_type": "stream",
     "text": [
      "LOCAL_RANK: 0 - CUDA_VISIBLE_DEVICES: [0]\n"
     ]
    },
    {
     "data": {
      "text/plain": "Predicting: 0it [00:00, ?it/s]",
      "application/vnd.jupyter.widget-view+json": {
       "version_major": 2,
       "version_minor": 0,
       "model_id": "ce709026d96c4d9786dba651552f9709"
      }
     },
     "metadata": {},
     "output_type": "display_data"
    }
   ],
   "source": [
    "predictions = trainer.predict(model,train_dataloader)"
   ],
   "metadata": {
    "collapsed": false,
    "ExecuteTime": {
     "start_time": "2024-04-17T21:23:29.821499Z",
     "end_time": "2024-04-17T21:23:37.536829Z"
    }
   }
  },
  {
   "cell_type": "code",
   "execution_count": 210,
   "outputs": [],
   "source": [
    "import torch.nn as nn\n",
    "output_list = []\n",
    "target_list = []\n",
    "emb_list = []\n",
    "m = nn.Softmax(dim=1)\n",
    "seq_len_list = []\n",
    "for pred, y, emb, emb2, seq_len in predictions:\n",
    "    output_list.append(pred)\n",
    "    target_list.append(y)\n",
    "    emb_list.append(emb)\n",
    "    seq_len_list.append(seq_len)"
   ],
   "metadata": {
    "collapsed": false,
    "ExecuteTime": {
     "start_time": "2024-04-17T21:23:37.539827Z",
     "end_time": "2024-04-17T21:23:37.944826Z"
    }
   }
  },
  {
   "cell_type": "code",
   "execution_count": 211,
   "outputs": [],
   "source": [
    "pred_raw = torch.vstack(output_list)\n",
    "target = torch.concat(target_list)\n",
    "emb = torch.concat(emb_list)\n",
    "out = torch.argmax(pred_raw, dim=1)\n",
    "seq_len_arr = torch.tensor([item for sublist in seq_len_list for item in sublist])"
   ],
   "metadata": {
    "collapsed": false,
    "ExecuteTime": {
     "start_time": "2024-04-17T21:23:37.930826Z",
     "end_time": "2024-04-17T21:23:38.311826Z"
    }
   }
  },
  {
   "cell_type": "code",
   "execution_count": 211,
   "outputs": [],
   "source": [],
   "metadata": {
    "collapsed": false,
    "ExecuteTime": {
     "start_time": "2024-04-17T21:23:38.313826Z",
     "end_time": "2024-04-17T21:23:38.326827Z"
    }
   }
  },
  {
   "cell_type": "code",
   "execution_count": 212,
   "outputs": [
    {
     "name": "stdout",
     "output_type": "stream",
     "text": [
      "Classification Report : \n",
      "              precision    recall  f1-score   support\n",
      "\n",
      "           0   0.995551  0.958800  0.976830      3034\n",
      "           1   0.744376  0.965517  0.840647       377\n",
      "\n",
      "    accuracy                       0.959543      3411\n",
      "   macro avg   0.869964  0.962159  0.908738      3411\n",
      "weighted avg   0.967790  0.959543  0.961778      3411\n"
     ]
    }
   ],
   "source": [
    "import sklearn\n",
    "clf_report = sklearn.metrics.classification_report(torch.argmax(pred_raw, dim=1), target, digits=6)\n",
    "\n",
    "print(f\"Classification Report : \\n{clf_report}\")"
   ],
   "metadata": {
    "collapsed": false,
    "ExecuteTime": {
     "start_time": "2024-04-17T21:23:38.326827Z",
     "end_time": "2024-04-17T21:23:38.738826Z"
    }
   }
  },
  {
   "cell_type": "code",
   "execution_count": 213,
   "outputs": [],
   "source": [
    "pred_episode = combine_window_to_episode(torch.argmax(pred_raw, dim=1),seq_len_arr)"
   ],
   "metadata": {
    "collapsed": false,
    "ExecuteTime": {
     "start_time": "2024-04-17T21:23:38.740826Z",
     "end_time": "2024-04-17T21:23:39.113955Z"
    }
   }
  },
  {
   "cell_type": "code",
   "execution_count": 214,
   "outputs": [
    {
     "data": {
      "text/plain": "<IPython.core.display.Javascript object>",
      "application/javascript": "/* Put everything inside the global mpl namespace */\n/* global mpl */\nwindow.mpl = {};\n\nmpl.get_websocket_type = function () {\n    if (typeof WebSocket !== 'undefined') {\n        return WebSocket;\n    } else if (typeof MozWebSocket !== 'undefined') {\n        return MozWebSocket;\n    } else {\n        alert(\n            'Your browser does not have WebSocket support. ' +\n                'Please try Chrome, Safari or Firefox ≥ 6. ' +\n                'Firefox 4 and 5 are also supported but you ' +\n                'have to enable WebSockets in about:config.'\n        );\n    }\n};\n\nmpl.figure = function (figure_id, websocket, ondownload, parent_element) {\n    this.id = figure_id;\n\n    this.ws = websocket;\n\n    this.supports_binary = this.ws.binaryType !== undefined;\n\n    if (!this.supports_binary) {\n        var warnings = document.getElementById('mpl-warnings');\n        if (warnings) {\n            warnings.style.display = 'block';\n            warnings.textContent =\n                'This browser does not support binary websocket messages. ' +\n                'Performance may be slow.';\n        }\n    }\n\n    this.imageObj = new Image();\n\n    this.context = undefined;\n    this.message = undefined;\n    this.canvas = undefined;\n    this.rubberband_canvas = undefined;\n    this.rubberband_context = undefined;\n    this.format_dropdown = undefined;\n\n    this.image_mode = 'full';\n\n    this.root = document.createElement('div');\n    this.root.setAttribute('style', 'display: inline-block');\n    this._root_extra_style(this.root);\n\n    parent_element.appendChild(this.root);\n\n    this._init_header(this);\n    this._init_canvas(this);\n    this._init_toolbar(this);\n\n    var fig = this;\n\n    this.waiting = false;\n\n    this.ws.onopen = function () {\n        fig.send_message('supports_binary', { value: fig.supports_binary });\n        fig.send_message('send_image_mode', {});\n        if (fig.ratio !== 1) {\n            fig.send_message('set_device_pixel_ratio', {\n                device_pixel_ratio: fig.ratio,\n            });\n        }\n        fig.send_message('refresh', {});\n    };\n\n    this.imageObj.onload = function () {\n        if (fig.image_mode === 'full') {\n            // Full images could contain transparency (where diff images\n            // almost always do), so we need to clear the canvas so that\n            // there is no ghosting.\n            fig.context.clearRect(0, 0, fig.canvas.width, fig.canvas.height);\n        }\n        fig.context.drawImage(fig.imageObj, 0, 0);\n    };\n\n    this.imageObj.onunload = function () {\n        fig.ws.close();\n    };\n\n    this.ws.onmessage = this._make_on_message_function(this);\n\n    this.ondownload = ondownload;\n};\n\nmpl.figure.prototype._init_header = function () {\n    var titlebar = document.createElement('div');\n    titlebar.classList =\n        'ui-dialog-titlebar ui-widget-header ui-corner-all ui-helper-clearfix';\n    var titletext = document.createElement('div');\n    titletext.classList = 'ui-dialog-title';\n    titletext.setAttribute(\n        'style',\n        'width: 100%; text-align: center; padding: 3px;'\n    );\n    titlebar.appendChild(titletext);\n    this.root.appendChild(titlebar);\n    this.header = titletext;\n};\n\nmpl.figure.prototype._canvas_extra_style = function (_canvas_div) {};\n\nmpl.figure.prototype._root_extra_style = function (_canvas_div) {};\n\nmpl.figure.prototype._init_canvas = function () {\n    var fig = this;\n\n    var canvas_div = (this.canvas_div = document.createElement('div'));\n    canvas_div.setAttribute(\n        'style',\n        'border: 1px solid #ddd;' +\n            'box-sizing: content-box;' +\n            'clear: both;' +\n            'min-height: 1px;' +\n            'min-width: 1px;' +\n            'outline: 0;' +\n            'overflow: hidden;' +\n            'position: relative;' +\n            'resize: both;'\n    );\n\n    function on_keyboard_event_closure(name) {\n        return function (event) {\n            return fig.key_event(event, name);\n        };\n    }\n\n    canvas_div.addEventListener(\n        'keydown',\n        on_keyboard_event_closure('key_press')\n    );\n    canvas_div.addEventListener(\n        'keyup',\n        on_keyboard_event_closure('key_release')\n    );\n\n    this._canvas_extra_style(canvas_div);\n    this.root.appendChild(canvas_div);\n\n    var canvas = (this.canvas = document.createElement('canvas'));\n    canvas.classList.add('mpl-canvas');\n    canvas.setAttribute('style', 'box-sizing: content-box;');\n\n    this.context = canvas.getContext('2d');\n\n    var backingStore =\n        this.context.backingStorePixelRatio ||\n        this.context.webkitBackingStorePixelRatio ||\n        this.context.mozBackingStorePixelRatio ||\n        this.context.msBackingStorePixelRatio ||\n        this.context.oBackingStorePixelRatio ||\n        this.context.backingStorePixelRatio ||\n        1;\n\n    this.ratio = (window.devicePixelRatio || 1) / backingStore;\n\n    var rubberband_canvas = (this.rubberband_canvas = document.createElement(\n        'canvas'\n    ));\n    rubberband_canvas.setAttribute(\n        'style',\n        'box-sizing: content-box; position: absolute; left: 0; top: 0; z-index: 1;'\n    );\n\n    // Apply a ponyfill if ResizeObserver is not implemented by browser.\n    if (this.ResizeObserver === undefined) {\n        if (window.ResizeObserver !== undefined) {\n            this.ResizeObserver = window.ResizeObserver;\n        } else {\n            var obs = _JSXTOOLS_RESIZE_OBSERVER({});\n            this.ResizeObserver = obs.ResizeObserver;\n        }\n    }\n\n    this.resizeObserverInstance = new this.ResizeObserver(function (entries) {\n        var nentries = entries.length;\n        for (var i = 0; i < nentries; i++) {\n            var entry = entries[i];\n            var width, height;\n            if (entry.contentBoxSize) {\n                if (entry.contentBoxSize instanceof Array) {\n                    // Chrome 84 implements new version of spec.\n                    width = entry.contentBoxSize[0].inlineSize;\n                    height = entry.contentBoxSize[0].blockSize;\n                } else {\n                    // Firefox implements old version of spec.\n                    width = entry.contentBoxSize.inlineSize;\n                    height = entry.contentBoxSize.blockSize;\n                }\n            } else {\n                // Chrome <84 implements even older version of spec.\n                width = entry.contentRect.width;\n                height = entry.contentRect.height;\n            }\n\n            // Keep the size of the canvas and rubber band canvas in sync with\n            // the canvas container.\n            if (entry.devicePixelContentBoxSize) {\n                // Chrome 84 implements new version of spec.\n                canvas.setAttribute(\n                    'width',\n                    entry.devicePixelContentBoxSize[0].inlineSize\n                );\n                canvas.setAttribute(\n                    'height',\n                    entry.devicePixelContentBoxSize[0].blockSize\n                );\n            } else {\n                canvas.setAttribute('width', width * fig.ratio);\n                canvas.setAttribute('height', height * fig.ratio);\n            }\n            canvas.setAttribute(\n                'style',\n                'width: ' + width + 'px; height: ' + height + 'px;'\n            );\n\n            rubberband_canvas.setAttribute('width', width);\n            rubberband_canvas.setAttribute('height', height);\n\n            // And update the size in Python. We ignore the initial 0/0 size\n            // that occurs as the element is placed into the DOM, which should\n            // otherwise not happen due to the minimum size styling.\n            if (fig.ws.readyState == 1 && width != 0 && height != 0) {\n                fig.request_resize(width, height);\n            }\n        }\n    });\n    this.resizeObserverInstance.observe(canvas_div);\n\n    function on_mouse_event_closure(name) {\n        return function (event) {\n            return fig.mouse_event(event, name);\n        };\n    }\n\n    rubberband_canvas.addEventListener(\n        'mousedown',\n        on_mouse_event_closure('button_press')\n    );\n    rubberband_canvas.addEventListener(\n        'mouseup',\n        on_mouse_event_closure('button_release')\n    );\n    rubberband_canvas.addEventListener(\n        'dblclick',\n        on_mouse_event_closure('dblclick')\n    );\n    // Throttle sequential mouse events to 1 every 20ms.\n    rubberband_canvas.addEventListener(\n        'mousemove',\n        on_mouse_event_closure('motion_notify')\n    );\n\n    rubberband_canvas.addEventListener(\n        'mouseenter',\n        on_mouse_event_closure('figure_enter')\n    );\n    rubberband_canvas.addEventListener(\n        'mouseleave',\n        on_mouse_event_closure('figure_leave')\n    );\n\n    canvas_div.addEventListener('wheel', function (event) {\n        if (event.deltaY < 0) {\n            event.step = 1;\n        } else {\n            event.step = -1;\n        }\n        on_mouse_event_closure('scroll')(event);\n    });\n\n    canvas_div.appendChild(canvas);\n    canvas_div.appendChild(rubberband_canvas);\n\n    this.rubberband_context = rubberband_canvas.getContext('2d');\n    this.rubberband_context.strokeStyle = '#000000';\n\n    this._resize_canvas = function (width, height, forward) {\n        if (forward) {\n            canvas_div.style.width = width + 'px';\n            canvas_div.style.height = height + 'px';\n        }\n    };\n\n    // Disable right mouse context menu.\n    this.rubberband_canvas.addEventListener('contextmenu', function (_e) {\n        event.preventDefault();\n        return false;\n    });\n\n    function set_focus() {\n        canvas.focus();\n        canvas_div.focus();\n    }\n\n    window.setTimeout(set_focus, 100);\n};\n\nmpl.figure.prototype._init_toolbar = function () {\n    var fig = this;\n\n    var toolbar = document.createElement('div');\n    toolbar.classList = 'mpl-toolbar';\n    this.root.appendChild(toolbar);\n\n    function on_click_closure(name) {\n        return function (_event) {\n            return fig.toolbar_button_onclick(name);\n        };\n    }\n\n    function on_mouseover_closure(tooltip) {\n        return function (event) {\n            if (!event.currentTarget.disabled) {\n                return fig.toolbar_button_onmouseover(tooltip);\n            }\n        };\n    }\n\n    fig.buttons = {};\n    var buttonGroup = document.createElement('div');\n    buttonGroup.classList = 'mpl-button-group';\n    for (var toolbar_ind in mpl.toolbar_items) {\n        var name = mpl.toolbar_items[toolbar_ind][0];\n        var tooltip = mpl.toolbar_items[toolbar_ind][1];\n        var image = mpl.toolbar_items[toolbar_ind][2];\n        var method_name = mpl.toolbar_items[toolbar_ind][3];\n\n        if (!name) {\n            /* Instead of a spacer, we start a new button group. */\n            if (buttonGroup.hasChildNodes()) {\n                toolbar.appendChild(buttonGroup);\n            }\n            buttonGroup = document.createElement('div');\n            buttonGroup.classList = 'mpl-button-group';\n            continue;\n        }\n\n        var button = (fig.buttons[name] = document.createElement('button'));\n        button.classList = 'mpl-widget';\n        button.setAttribute('role', 'button');\n        button.setAttribute('aria-disabled', 'false');\n        button.addEventListener('click', on_click_closure(method_name));\n        button.addEventListener('mouseover', on_mouseover_closure(tooltip));\n\n        var icon_img = document.createElement('img');\n        icon_img.src = '_images/' + image + '.png';\n        icon_img.srcset = '_images/' + image + '_large.png 2x';\n        icon_img.alt = tooltip;\n        button.appendChild(icon_img);\n\n        buttonGroup.appendChild(button);\n    }\n\n    if (buttonGroup.hasChildNodes()) {\n        toolbar.appendChild(buttonGroup);\n    }\n\n    var fmt_picker = document.createElement('select');\n    fmt_picker.classList = 'mpl-widget';\n    toolbar.appendChild(fmt_picker);\n    this.format_dropdown = fmt_picker;\n\n    for (var ind in mpl.extensions) {\n        var fmt = mpl.extensions[ind];\n        var option = document.createElement('option');\n        option.selected = fmt === mpl.default_extension;\n        option.innerHTML = fmt;\n        fmt_picker.appendChild(option);\n    }\n\n    var status_bar = document.createElement('span');\n    status_bar.classList = 'mpl-message';\n    toolbar.appendChild(status_bar);\n    this.message = status_bar;\n};\n\nmpl.figure.prototype.request_resize = function (x_pixels, y_pixels) {\n    // Request matplotlib to resize the figure. Matplotlib will then trigger a resize in the client,\n    // which will in turn request a refresh of the image.\n    this.send_message('resize', { width: x_pixels, height: y_pixels });\n};\n\nmpl.figure.prototype.send_message = function (type, properties) {\n    properties['type'] = type;\n    properties['figure_id'] = this.id;\n    this.ws.send(JSON.stringify(properties));\n};\n\nmpl.figure.prototype.send_draw_message = function () {\n    if (!this.waiting) {\n        this.waiting = true;\n        this.ws.send(JSON.stringify({ type: 'draw', figure_id: this.id }));\n    }\n};\n\nmpl.figure.prototype.handle_save = function (fig, _msg) {\n    var format_dropdown = fig.format_dropdown;\n    var format = format_dropdown.options[format_dropdown.selectedIndex].value;\n    fig.ondownload(fig, format);\n};\n\nmpl.figure.prototype.handle_resize = function (fig, msg) {\n    var size = msg['size'];\n    if (size[0] !== fig.canvas.width || size[1] !== fig.canvas.height) {\n        fig._resize_canvas(size[0], size[1], msg['forward']);\n        fig.send_message('refresh', {});\n    }\n};\n\nmpl.figure.prototype.handle_rubberband = function (fig, msg) {\n    var x0 = msg['x0'] / fig.ratio;\n    var y0 = (fig.canvas.height - msg['y0']) / fig.ratio;\n    var x1 = msg['x1'] / fig.ratio;\n    var y1 = (fig.canvas.height - msg['y1']) / fig.ratio;\n    x0 = Math.floor(x0) + 0.5;\n    y0 = Math.floor(y0) + 0.5;\n    x1 = Math.floor(x1) + 0.5;\n    y1 = Math.floor(y1) + 0.5;\n    var min_x = Math.min(x0, x1);\n    var min_y = Math.min(y0, y1);\n    var width = Math.abs(x1 - x0);\n    var height = Math.abs(y1 - y0);\n\n    fig.rubberband_context.clearRect(\n        0,\n        0,\n        fig.canvas.width / fig.ratio,\n        fig.canvas.height / fig.ratio\n    );\n\n    fig.rubberband_context.strokeRect(min_x, min_y, width, height);\n};\n\nmpl.figure.prototype.handle_figure_label = function (fig, msg) {\n    // Updates the figure title.\n    fig.header.textContent = msg['label'];\n};\n\nmpl.figure.prototype.handle_cursor = function (fig, msg) {\n    fig.rubberband_canvas.style.cursor = msg['cursor'];\n};\n\nmpl.figure.prototype.handle_message = function (fig, msg) {\n    fig.message.textContent = msg['message'];\n};\n\nmpl.figure.prototype.handle_draw = function (fig, _msg) {\n    // Request the server to send over a new figure.\n    fig.send_draw_message();\n};\n\nmpl.figure.prototype.handle_image_mode = function (fig, msg) {\n    fig.image_mode = msg['mode'];\n};\n\nmpl.figure.prototype.handle_history_buttons = function (fig, msg) {\n    for (var key in msg) {\n        if (!(key in fig.buttons)) {\n            continue;\n        }\n        fig.buttons[key].disabled = !msg[key];\n        fig.buttons[key].setAttribute('aria-disabled', !msg[key]);\n    }\n};\n\nmpl.figure.prototype.handle_navigate_mode = function (fig, msg) {\n    if (msg['mode'] === 'PAN') {\n        fig.buttons['Pan'].classList.add('active');\n        fig.buttons['Zoom'].classList.remove('active');\n    } else if (msg['mode'] === 'ZOOM') {\n        fig.buttons['Pan'].classList.remove('active');\n        fig.buttons['Zoom'].classList.add('active');\n    } else {\n        fig.buttons['Pan'].classList.remove('active');\n        fig.buttons['Zoom'].classList.remove('active');\n    }\n};\n\nmpl.figure.prototype.updated_canvas_event = function () {\n    // Called whenever the canvas gets updated.\n    this.send_message('ack', {});\n};\n\n// A function to construct a web socket function for onmessage handling.\n// Called in the figure constructor.\nmpl.figure.prototype._make_on_message_function = function (fig) {\n    return function socket_on_message(evt) {\n        if (evt.data instanceof Blob) {\n            var img = evt.data;\n            if (img.type !== 'image/png') {\n                /* FIXME: We get \"Resource interpreted as Image but\n                 * transferred with MIME type text/plain:\" errors on\n                 * Chrome.  But how to set the MIME type?  It doesn't seem\n                 * to be part of the websocket stream */\n                img.type = 'image/png';\n            }\n\n            /* Free the memory for the previous frames */\n            if (fig.imageObj.src) {\n                (window.URL || window.webkitURL).revokeObjectURL(\n                    fig.imageObj.src\n                );\n            }\n\n            fig.imageObj.src = (window.URL || window.webkitURL).createObjectURL(\n                img\n            );\n            fig.updated_canvas_event();\n            fig.waiting = false;\n            return;\n        } else if (\n            typeof evt.data === 'string' &&\n            evt.data.slice(0, 21) === 'data:image/png;base64'\n        ) {\n            fig.imageObj.src = evt.data;\n            fig.updated_canvas_event();\n            fig.waiting = false;\n            return;\n        }\n\n        var msg = JSON.parse(evt.data);\n        var msg_type = msg['type'];\n\n        // Call the  \"handle_{type}\" callback, which takes\n        // the figure and JSON message as its only arguments.\n        try {\n            var callback = fig['handle_' + msg_type];\n        } catch (e) {\n            console.log(\n                \"No handler for the '\" + msg_type + \"' message type: \",\n                msg\n            );\n            return;\n        }\n\n        if (callback) {\n            try {\n                // console.log(\"Handling '\" + msg_type + \"' message: \", msg);\n                callback(fig, msg);\n            } catch (e) {\n                console.log(\n                    \"Exception inside the 'handler_\" + msg_type + \"' callback:\",\n                    e,\n                    e.stack,\n                    msg\n                );\n            }\n        }\n    };\n};\n\n// from https://stackoverflow.com/questions/1114465/getting-mouse-location-in-canvas\nmpl.findpos = function (e) {\n    //this section is from http://www.quirksmode.org/js/events_properties.html\n    var targ;\n    if (!e) {\n        e = window.event;\n    }\n    if (e.target) {\n        targ = e.target;\n    } else if (e.srcElement) {\n        targ = e.srcElement;\n    }\n    if (targ.nodeType === 3) {\n        // defeat Safari bug\n        targ = targ.parentNode;\n    }\n\n    // pageX,Y are the mouse positions relative to the document\n    var boundingRect = targ.getBoundingClientRect();\n    var x = e.pageX - (boundingRect.left + document.body.scrollLeft);\n    var y = e.pageY - (boundingRect.top + document.body.scrollTop);\n\n    return { x: x, y: y };\n};\n\n/*\n * return a copy of an object with only non-object keys\n * we need this to avoid circular references\n * https://stackoverflow.com/a/24161582/3208463\n */\nfunction simpleKeys(original) {\n    return Object.keys(original).reduce(function (obj, key) {\n        if (typeof original[key] !== 'object') {\n            obj[key] = original[key];\n        }\n        return obj;\n    }, {});\n}\n\nmpl.figure.prototype.mouse_event = function (event, name) {\n    var canvas_pos = mpl.findpos(event);\n\n    if (name === 'button_press') {\n        this.canvas.focus();\n        this.canvas_div.focus();\n    }\n\n    var x = canvas_pos.x * this.ratio;\n    var y = canvas_pos.y * this.ratio;\n\n    this.send_message(name, {\n        x: x,\n        y: y,\n        button: event.button,\n        step: event.step,\n        guiEvent: simpleKeys(event),\n    });\n\n    /* This prevents the web browser from automatically changing to\n     * the text insertion cursor when the button is pressed.  We want\n     * to control all of the cursor setting manually through the\n     * 'cursor' event from matplotlib */\n    event.preventDefault();\n    return false;\n};\n\nmpl.figure.prototype._key_event_extra = function (_event, _name) {\n    // Handle any extra behaviour associated with a key event\n};\n\nmpl.figure.prototype.key_event = function (event, name) {\n    // Prevent repeat events\n    if (name === 'key_press') {\n        if (event.key === this._key) {\n            return;\n        } else {\n            this._key = event.key;\n        }\n    }\n    if (name === 'key_release') {\n        this._key = null;\n    }\n\n    var value = '';\n    if (event.ctrlKey && event.key !== 'Control') {\n        value += 'ctrl+';\n    }\n    else if (event.altKey && event.key !== 'Alt') {\n        value += 'alt+';\n    }\n    else if (event.shiftKey && event.key !== 'Shift') {\n        value += 'shift+';\n    }\n\n    value += 'k' + event.key;\n\n    this._key_event_extra(event, name);\n\n    this.send_message(name, { key: value, guiEvent: simpleKeys(event) });\n    return false;\n};\n\nmpl.figure.prototype.toolbar_button_onclick = function (name) {\n    if (name === 'download') {\n        this.handle_save(this, null);\n    } else {\n        this.send_message('toolbar_button', { name: name });\n    }\n};\n\nmpl.figure.prototype.toolbar_button_onmouseover = function (tooltip) {\n    this.message.textContent = tooltip;\n};\n\n///////////////// REMAINING CONTENT GENERATED BY embed_js.py /////////////////\n// prettier-ignore\nvar _JSXTOOLS_RESIZE_OBSERVER=function(A){var t,i=new WeakMap,n=new WeakMap,a=new WeakMap,r=new WeakMap,o=new Set;function s(e){if(!(this instanceof s))throw new TypeError(\"Constructor requires 'new' operator\");i.set(this,e)}function h(){throw new TypeError(\"Function is not a constructor\")}function c(e,t,i,n){e=0 in arguments?Number(arguments[0]):0,t=1 in arguments?Number(arguments[1]):0,i=2 in arguments?Number(arguments[2]):0,n=3 in arguments?Number(arguments[3]):0,this.right=(this.x=this.left=e)+(this.width=i),this.bottom=(this.y=this.top=t)+(this.height=n),Object.freeze(this)}function d(){t=requestAnimationFrame(d);var s=new WeakMap,p=new Set;o.forEach((function(t){r.get(t).forEach((function(i){var r=t instanceof window.SVGElement,o=a.get(t),d=r?0:parseFloat(o.paddingTop),f=r?0:parseFloat(o.paddingRight),l=r?0:parseFloat(o.paddingBottom),u=r?0:parseFloat(o.paddingLeft),g=r?0:parseFloat(o.borderTopWidth),m=r?0:parseFloat(o.borderRightWidth),w=r?0:parseFloat(o.borderBottomWidth),b=u+f,F=d+l,v=(r?0:parseFloat(o.borderLeftWidth))+m,W=g+w,y=r?0:t.offsetHeight-W-t.clientHeight,E=r?0:t.offsetWidth-v-t.clientWidth,R=b+v,z=F+W,M=r?t.width:parseFloat(o.width)-R-E,O=r?t.height:parseFloat(o.height)-z-y;if(n.has(t)){var k=n.get(t);if(k[0]===M&&k[1]===O)return}n.set(t,[M,O]);var S=Object.create(h.prototype);S.target=t,S.contentRect=new c(u,d,M,O),s.has(i)||(s.set(i,[]),p.add(i)),s.get(i).push(S)}))})),p.forEach((function(e){i.get(e).call(e,s.get(e),e)}))}return s.prototype.observe=function(i){if(i instanceof window.Element){r.has(i)||(r.set(i,new Set),o.add(i),a.set(i,window.getComputedStyle(i)));var n=r.get(i);n.has(this)||n.add(this),cancelAnimationFrame(t),t=requestAnimationFrame(d)}},s.prototype.unobserve=function(i){if(i instanceof window.Element&&r.has(i)){var n=r.get(i);n.has(this)&&(n.delete(this),n.size||(r.delete(i),o.delete(i))),n.size||r.delete(i),o.size||cancelAnimationFrame(t)}},A.DOMRectReadOnly=c,A.ResizeObserver=s,A.ResizeObserverEntry=h,A}; // eslint-disable-line\nmpl.toolbar_items = [[\"Home\", \"Reset original view\", \"fa fa-home icon-home\", \"home\"], [\"Back\", \"Back to previous view\", \"fa fa-arrow-left icon-arrow-left\", \"back\"], [\"Forward\", \"Forward to next view\", \"fa fa-arrow-right icon-arrow-right\", \"forward\"], [\"\", \"\", \"\", \"\"], [\"Pan\", \"Left button pans, Right button zooms\\nx/y fixes axis, CTRL fixes aspect\", \"fa fa-arrows icon-move\", \"pan\"], [\"Zoom\", \"Zoom to rectangle\\nx/y fixes axis\", \"fa fa-square-o icon-check-empty\", \"zoom\"], [\"\", \"\", \"\", \"\"], [\"Download\", \"Download plot\", \"fa fa-floppy-o icon-save\", \"download\"]];\n\nmpl.extensions = [\"eps\", \"jpeg\", \"pgf\", \"pdf\", \"png\", \"ps\", \"raw\", \"svg\", \"tif\"];\n\nmpl.default_extension = \"png\";/* global mpl */\n\nvar comm_websocket_adapter = function (comm) {\n    // Create a \"websocket\"-like object which calls the given IPython comm\n    // object with the appropriate methods. Currently this is a non binary\n    // socket, so there is still some room for performance tuning.\n    var ws = {};\n\n    ws.binaryType = comm.kernel.ws.binaryType;\n    ws.readyState = comm.kernel.ws.readyState;\n    function updateReadyState(_event) {\n        if (comm.kernel.ws) {\n            ws.readyState = comm.kernel.ws.readyState;\n        } else {\n            ws.readyState = 3; // Closed state.\n        }\n    }\n    comm.kernel.ws.addEventListener('open', updateReadyState);\n    comm.kernel.ws.addEventListener('close', updateReadyState);\n    comm.kernel.ws.addEventListener('error', updateReadyState);\n\n    ws.close = function () {\n        comm.close();\n    };\n    ws.send = function (m) {\n        //console.log('sending', m);\n        comm.send(m);\n    };\n    // Register the callback with on_msg.\n    comm.on_msg(function (msg) {\n        //console.log('receiving', msg['content']['data'], msg);\n        var data = msg['content']['data'];\n        if (data['blob'] !== undefined) {\n            data = {\n                data: new Blob(msg['buffers'], { type: data['blob'] }),\n            };\n        }\n        // Pass the mpl event to the overridden (by mpl) onmessage function.\n        ws.onmessage(data);\n    });\n    return ws;\n};\n\nmpl.mpl_figure_comm = function (comm, msg) {\n    // This is the function which gets called when the mpl process\n    // starts-up an IPython Comm through the \"matplotlib\" channel.\n\n    var id = msg.content.data.id;\n    // Get hold of the div created by the display call when the Comm\n    // socket was opened in Python.\n    var element = document.getElementById(id);\n    var ws_proxy = comm_websocket_adapter(comm);\n\n    function ondownload(figure, _format) {\n        window.open(figure.canvas.toDataURL());\n    }\n\n    var fig = new mpl.figure(id, ws_proxy, ondownload, element);\n\n    // Call onopen now - mpl needs it, as it is assuming we've passed it a real\n    // web socket which is closed, not our websocket->open comm proxy.\n    ws_proxy.onopen();\n\n    fig.parent_element = element;\n    fig.cell_info = mpl.find_output_cell(\"<div id='\" + id + \"'></div>\");\n    if (!fig.cell_info) {\n        console.error('Failed to find cell for figure', id, fig);\n        return;\n    }\n    fig.cell_info[0].output_area.element.on(\n        'cleared',\n        { fig: fig },\n        fig._remove_fig_handler\n    );\n};\n\nmpl.figure.prototype.handle_close = function (fig, msg) {\n    var width = fig.canvas.width / fig.ratio;\n    fig.cell_info[0].output_area.element.off(\n        'cleared',\n        fig._remove_fig_handler\n    );\n    fig.resizeObserverInstance.unobserve(fig.canvas_div);\n\n    // Update the output cell to use the data from the current canvas.\n    fig.push_to_output();\n    var dataURL = fig.canvas.toDataURL();\n    // Re-enable the keyboard manager in IPython - without this line, in FF,\n    // the notebook keyboard shortcuts fail.\n    IPython.keyboard_manager.enable();\n    fig.parent_element.innerHTML =\n        '<img src=\"' + dataURL + '\" width=\"' + width + '\">';\n    fig.close_ws(fig, msg);\n};\n\nmpl.figure.prototype.close_ws = function (fig, msg) {\n    fig.send_message('closing', msg);\n    // fig.ws.close()\n};\n\nmpl.figure.prototype.push_to_output = function (_remove_interactive) {\n    // Turn the data on the canvas into data in the output cell.\n    var width = this.canvas.width / this.ratio;\n    var dataURL = this.canvas.toDataURL();\n    this.cell_info[1]['text/html'] =\n        '<img src=\"' + dataURL + '\" width=\"' + width + '\">';\n};\n\nmpl.figure.prototype.updated_canvas_event = function () {\n    // Tell IPython that the notebook contents must change.\n    IPython.notebook.set_dirty(true);\n    this.send_message('ack', {});\n    var fig = this;\n    // Wait a second, then push the new image to the DOM so\n    // that it is saved nicely (might be nice to debounce this).\n    setTimeout(function () {\n        fig.push_to_output();\n    }, 1000);\n};\n\nmpl.figure.prototype._init_toolbar = function () {\n    var fig = this;\n\n    var toolbar = document.createElement('div');\n    toolbar.classList = 'btn-toolbar';\n    this.root.appendChild(toolbar);\n\n    function on_click_closure(name) {\n        return function (_event) {\n            return fig.toolbar_button_onclick(name);\n        };\n    }\n\n    function on_mouseover_closure(tooltip) {\n        return function (event) {\n            if (!event.currentTarget.disabled) {\n                return fig.toolbar_button_onmouseover(tooltip);\n            }\n        };\n    }\n\n    fig.buttons = {};\n    var buttonGroup = document.createElement('div');\n    buttonGroup.classList = 'btn-group';\n    var button;\n    for (var toolbar_ind in mpl.toolbar_items) {\n        var name = mpl.toolbar_items[toolbar_ind][0];\n        var tooltip = mpl.toolbar_items[toolbar_ind][1];\n        var image = mpl.toolbar_items[toolbar_ind][2];\n        var method_name = mpl.toolbar_items[toolbar_ind][3];\n\n        if (!name) {\n            /* Instead of a spacer, we start a new button group. */\n            if (buttonGroup.hasChildNodes()) {\n                toolbar.appendChild(buttonGroup);\n            }\n            buttonGroup = document.createElement('div');\n            buttonGroup.classList = 'btn-group';\n            continue;\n        }\n\n        button = fig.buttons[name] = document.createElement('button');\n        button.classList = 'btn btn-default';\n        button.href = '#';\n        button.title = name;\n        button.innerHTML = '<i class=\"fa ' + image + ' fa-lg\"></i>';\n        button.addEventListener('click', on_click_closure(method_name));\n        button.addEventListener('mouseover', on_mouseover_closure(tooltip));\n        buttonGroup.appendChild(button);\n    }\n\n    if (buttonGroup.hasChildNodes()) {\n        toolbar.appendChild(buttonGroup);\n    }\n\n    // Add the status bar.\n    var status_bar = document.createElement('span');\n    status_bar.classList = 'mpl-message pull-right';\n    toolbar.appendChild(status_bar);\n    this.message = status_bar;\n\n    // Add the close button to the window.\n    var buttongrp = document.createElement('div');\n    buttongrp.classList = 'btn-group inline pull-right';\n    button = document.createElement('button');\n    button.classList = 'btn btn-mini btn-primary';\n    button.href = '#';\n    button.title = 'Stop Interaction';\n    button.innerHTML = '<i class=\"fa fa-power-off icon-remove icon-large\"></i>';\n    button.addEventListener('click', function (_evt) {\n        fig.handle_close(fig, {});\n    });\n    button.addEventListener(\n        'mouseover',\n        on_mouseover_closure('Stop Interaction')\n    );\n    buttongrp.appendChild(button);\n    var titlebar = this.root.querySelector('.ui-dialog-titlebar');\n    titlebar.insertBefore(buttongrp, titlebar.firstChild);\n};\n\nmpl.figure.prototype._remove_fig_handler = function (event) {\n    var fig = event.data.fig;\n    if (event.target !== this) {\n        // Ignore bubbled events from children.\n        return;\n    }\n    fig.close_ws(fig, {});\n};\n\nmpl.figure.prototype._root_extra_style = function (el) {\n    el.style.boxSizing = 'content-box'; // override notebook setting of border-box.\n};\n\nmpl.figure.prototype._canvas_extra_style = function (el) {\n    // this is important to make the div 'focusable\n    el.setAttribute('tabindex', 0);\n    // reach out to IPython and tell the keyboard manager to turn it's self\n    // off when our div gets focus\n\n    // location in version 3\n    if (IPython.notebook.keyboard_manager) {\n        IPython.notebook.keyboard_manager.register_events(el);\n    } else {\n        // location in version 2\n        IPython.keyboard_manager.register_events(el);\n    }\n};\n\nmpl.figure.prototype._key_event_extra = function (event, _name) {\n    // Check for shift+enter\n    if (event.shiftKey && event.which === 13) {\n        this.canvas_div.blur();\n        // select the cell after this one\n        var index = IPython.notebook.find_cell_index(this.cell_info[0]);\n        IPython.notebook.select(index + 1);\n    }\n};\n\nmpl.figure.prototype.handle_save = function (fig, _msg) {\n    fig.ondownload(fig, null);\n};\n\nmpl.find_output_cell = function (html_output) {\n    // Return the cell and output element which can be found *uniquely* in the notebook.\n    // Note - this is a bit hacky, but it is done because the \"notebook_saving.Notebook\"\n    // IPython event is triggered only after the cells have been serialised, which for\n    // our purposes (turning an active figure into a static one), is too late.\n    var cells = IPython.notebook.get_cells();\n    var ncells = cells.length;\n    for (var i = 0; i < ncells; i++) {\n        var cell = cells[i];\n        if (cell.cell_type === 'code') {\n            for (var j = 0; j < cell.output_area.outputs.length; j++) {\n                var data = cell.output_area.outputs[j];\n                if (data.data) {\n                    // IPython >= 3 moved mimebundle to data attribute of output\n                    data = data.data;\n                }\n                if (data['text/html'] === html_output) {\n                    return [cell, data, j];\n                }\n            }\n        }\n    }\n};\n\n// Register the function which deals with the matplotlib target/channel.\n// The kernel may be null if the page has been refreshed.\nif (IPython.notebook.kernel !== null) {\n    IPython.notebook.kernel.comm_manager.register_target(\n        'matplotlib',\n        mpl.mpl_figure_comm\n    );\n}\n"
     },
     "metadata": {},
     "output_type": "display_data"
    },
    {
     "data": {
      "text/plain": "<IPython.core.display.HTML object>",
      "text/html": "<div id='4aca967e-6ccb-4708-aba8-b7073c4c74d2'></div>"
     },
     "metadata": {},
     "output_type": "display_data"
    }
   ],
   "source": [
    "\n",
    "import matplotlib.pyplot as plt\n",
    "plt.figure(figsize=(10,6))\n",
    "plt.plot(target)\n",
    "plt.plot(torch.argmax(pred_raw, dim=1))\n",
    "plt.show()"
   ],
   "metadata": {
    "collapsed": false,
    "ExecuteTime": {
     "start_time": "2024-04-17T21:23:42.315286Z",
     "end_time": "2024-04-17T21:23:42.941285Z"
    }
   }
  },
  {
   "cell_type": "code",
   "execution_count": 349,
   "outputs": [
    {
     "data": {
      "text/plain": "<IPython.core.display.Javascript object>",
      "application/javascript": "/* Put everything inside the global mpl namespace */\n/* global mpl */\nwindow.mpl = {};\n\nmpl.get_websocket_type = function () {\n    if (typeof WebSocket !== 'undefined') {\n        return WebSocket;\n    } else if (typeof MozWebSocket !== 'undefined') {\n        return MozWebSocket;\n    } else {\n        alert(\n            'Your browser does not have WebSocket support. ' +\n                'Please try Chrome, Safari or Firefox ≥ 6. ' +\n                'Firefox 4 and 5 are also supported but you ' +\n                'have to enable WebSockets in about:config.'\n        );\n    }\n};\n\nmpl.figure = function (figure_id, websocket, ondownload, parent_element) {\n    this.id = figure_id;\n\n    this.ws = websocket;\n\n    this.supports_binary = this.ws.binaryType !== undefined;\n\n    if (!this.supports_binary) {\n        var warnings = document.getElementById('mpl-warnings');\n        if (warnings) {\n            warnings.style.display = 'block';\n            warnings.textContent =\n                'This browser does not support binary websocket messages. ' +\n                'Performance may be slow.';\n        }\n    }\n\n    this.imageObj = new Image();\n\n    this.context = undefined;\n    this.message = undefined;\n    this.canvas = undefined;\n    this.rubberband_canvas = undefined;\n    this.rubberband_context = undefined;\n    this.format_dropdown = undefined;\n\n    this.image_mode = 'full';\n\n    this.root = document.createElement('div');\n    this.root.setAttribute('style', 'display: inline-block');\n    this._root_extra_style(this.root);\n\n    parent_element.appendChild(this.root);\n\n    this._init_header(this);\n    this._init_canvas(this);\n    this._init_toolbar(this);\n\n    var fig = this;\n\n    this.waiting = false;\n\n    this.ws.onopen = function () {\n        fig.send_message('supports_binary', { value: fig.supports_binary });\n        fig.send_message('send_image_mode', {});\n        if (fig.ratio !== 1) {\n            fig.send_message('set_device_pixel_ratio', {\n                device_pixel_ratio: fig.ratio,\n            });\n        }\n        fig.send_message('refresh', {});\n    };\n\n    this.imageObj.onload = function () {\n        if (fig.image_mode === 'full') {\n            // Full images could contain transparency (where diff images\n            // almost always do), so we need to clear the canvas so that\n            // there is no ghosting.\n            fig.context.clearRect(0, 0, fig.canvas.width, fig.canvas.height);\n        }\n        fig.context.drawImage(fig.imageObj, 0, 0);\n    };\n\n    this.imageObj.onunload = function () {\n        fig.ws.close();\n    };\n\n    this.ws.onmessage = this._make_on_message_function(this);\n\n    this.ondownload = ondownload;\n};\n\nmpl.figure.prototype._init_header = function () {\n    var titlebar = document.createElement('div');\n    titlebar.classList =\n        'ui-dialog-titlebar ui-widget-header ui-corner-all ui-helper-clearfix';\n    var titletext = document.createElement('div');\n    titletext.classList = 'ui-dialog-title';\n    titletext.setAttribute(\n        'style',\n        'width: 100%; text-align: center; padding: 3px;'\n    );\n    titlebar.appendChild(titletext);\n    this.root.appendChild(titlebar);\n    this.header = titletext;\n};\n\nmpl.figure.prototype._canvas_extra_style = function (_canvas_div) {};\n\nmpl.figure.prototype._root_extra_style = function (_canvas_div) {};\n\nmpl.figure.prototype._init_canvas = function () {\n    var fig = this;\n\n    var canvas_div = (this.canvas_div = document.createElement('div'));\n    canvas_div.setAttribute(\n        'style',\n        'border: 1px solid #ddd;' +\n            'box-sizing: content-box;' +\n            'clear: both;' +\n            'min-height: 1px;' +\n            'min-width: 1px;' +\n            'outline: 0;' +\n            'overflow: hidden;' +\n            'position: relative;' +\n            'resize: both;'\n    );\n\n    function on_keyboard_event_closure(name) {\n        return function (event) {\n            return fig.key_event(event, name);\n        };\n    }\n\n    canvas_div.addEventListener(\n        'keydown',\n        on_keyboard_event_closure('key_press')\n    );\n    canvas_div.addEventListener(\n        'keyup',\n        on_keyboard_event_closure('key_release')\n    );\n\n    this._canvas_extra_style(canvas_div);\n    this.root.appendChild(canvas_div);\n\n    var canvas = (this.canvas = document.createElement('canvas'));\n    canvas.classList.add('mpl-canvas');\n    canvas.setAttribute('style', 'box-sizing: content-box;');\n\n    this.context = canvas.getContext('2d');\n\n    var backingStore =\n        this.context.backingStorePixelRatio ||\n        this.context.webkitBackingStorePixelRatio ||\n        this.context.mozBackingStorePixelRatio ||\n        this.context.msBackingStorePixelRatio ||\n        this.context.oBackingStorePixelRatio ||\n        this.context.backingStorePixelRatio ||\n        1;\n\n    this.ratio = (window.devicePixelRatio || 1) / backingStore;\n\n    var rubberband_canvas = (this.rubberband_canvas = document.createElement(\n        'canvas'\n    ));\n    rubberband_canvas.setAttribute(\n        'style',\n        'box-sizing: content-box; position: absolute; left: 0; top: 0; z-index: 1;'\n    );\n\n    // Apply a ponyfill if ResizeObserver is not implemented by browser.\n    if (this.ResizeObserver === undefined) {\n        if (window.ResizeObserver !== undefined) {\n            this.ResizeObserver = window.ResizeObserver;\n        } else {\n            var obs = _JSXTOOLS_RESIZE_OBSERVER({});\n            this.ResizeObserver = obs.ResizeObserver;\n        }\n    }\n\n    this.resizeObserverInstance = new this.ResizeObserver(function (entries) {\n        var nentries = entries.length;\n        for (var i = 0; i < nentries; i++) {\n            var entry = entries[i];\n            var width, height;\n            if (entry.contentBoxSize) {\n                if (entry.contentBoxSize instanceof Array) {\n                    // Chrome 84 implements new version of spec.\n                    width = entry.contentBoxSize[0].inlineSize;\n                    height = entry.contentBoxSize[0].blockSize;\n                } else {\n                    // Firefox implements old version of spec.\n                    width = entry.contentBoxSize.inlineSize;\n                    height = entry.contentBoxSize.blockSize;\n                }\n            } else {\n                // Chrome <84 implements even older version of spec.\n                width = entry.contentRect.width;\n                height = entry.contentRect.height;\n            }\n\n            // Keep the size of the canvas and rubber band canvas in sync with\n            // the canvas container.\n            if (entry.devicePixelContentBoxSize) {\n                // Chrome 84 implements new version of spec.\n                canvas.setAttribute(\n                    'width',\n                    entry.devicePixelContentBoxSize[0].inlineSize\n                );\n                canvas.setAttribute(\n                    'height',\n                    entry.devicePixelContentBoxSize[0].blockSize\n                );\n            } else {\n                canvas.setAttribute('width', width * fig.ratio);\n                canvas.setAttribute('height', height * fig.ratio);\n            }\n            canvas.setAttribute(\n                'style',\n                'width: ' + width + 'px; height: ' + height + 'px;'\n            );\n\n            rubberband_canvas.setAttribute('width', width);\n            rubberband_canvas.setAttribute('height', height);\n\n            // And update the size in Python. We ignore the initial 0/0 size\n            // that occurs as the element is placed into the DOM, which should\n            // otherwise not happen due to the minimum size styling.\n            if (fig.ws.readyState == 1 && width != 0 && height != 0) {\n                fig.request_resize(width, height);\n            }\n        }\n    });\n    this.resizeObserverInstance.observe(canvas_div);\n\n    function on_mouse_event_closure(name) {\n        return function (event) {\n            return fig.mouse_event(event, name);\n        };\n    }\n\n    rubberband_canvas.addEventListener(\n        'mousedown',\n        on_mouse_event_closure('button_press')\n    );\n    rubberband_canvas.addEventListener(\n        'mouseup',\n        on_mouse_event_closure('button_release')\n    );\n    rubberband_canvas.addEventListener(\n        'dblclick',\n        on_mouse_event_closure('dblclick')\n    );\n    // Throttle sequential mouse events to 1 every 20ms.\n    rubberband_canvas.addEventListener(\n        'mousemove',\n        on_mouse_event_closure('motion_notify')\n    );\n\n    rubberband_canvas.addEventListener(\n        'mouseenter',\n        on_mouse_event_closure('figure_enter')\n    );\n    rubberband_canvas.addEventListener(\n        'mouseleave',\n        on_mouse_event_closure('figure_leave')\n    );\n\n    canvas_div.addEventListener('wheel', function (event) {\n        if (event.deltaY < 0) {\n            event.step = 1;\n        } else {\n            event.step = -1;\n        }\n        on_mouse_event_closure('scroll')(event);\n    });\n\n    canvas_div.appendChild(canvas);\n    canvas_div.appendChild(rubberband_canvas);\n\n    this.rubberband_context = rubberband_canvas.getContext('2d');\n    this.rubberband_context.strokeStyle = '#000000';\n\n    this._resize_canvas = function (width, height, forward) {\n        if (forward) {\n            canvas_div.style.width = width + 'px';\n            canvas_div.style.height = height + 'px';\n        }\n    };\n\n    // Disable right mouse context menu.\n    this.rubberband_canvas.addEventListener('contextmenu', function (_e) {\n        event.preventDefault();\n        return false;\n    });\n\n    function set_focus() {\n        canvas.focus();\n        canvas_div.focus();\n    }\n\n    window.setTimeout(set_focus, 100);\n};\n\nmpl.figure.prototype._init_toolbar = function () {\n    var fig = this;\n\n    var toolbar = document.createElement('div');\n    toolbar.classList = 'mpl-toolbar';\n    this.root.appendChild(toolbar);\n\n    function on_click_closure(name) {\n        return function (_event) {\n            return fig.toolbar_button_onclick(name);\n        };\n    }\n\n    function on_mouseover_closure(tooltip) {\n        return function (event) {\n            if (!event.currentTarget.disabled) {\n                return fig.toolbar_button_onmouseover(tooltip);\n            }\n        };\n    }\n\n    fig.buttons = {};\n    var buttonGroup = document.createElement('div');\n    buttonGroup.classList = 'mpl-button-group';\n    for (var toolbar_ind in mpl.toolbar_items) {\n        var name = mpl.toolbar_items[toolbar_ind][0];\n        var tooltip = mpl.toolbar_items[toolbar_ind][1];\n        var image = mpl.toolbar_items[toolbar_ind][2];\n        var method_name = mpl.toolbar_items[toolbar_ind][3];\n\n        if (!name) {\n            /* Instead of a spacer, we start a new button group. */\n            if (buttonGroup.hasChildNodes()) {\n                toolbar.appendChild(buttonGroup);\n            }\n            buttonGroup = document.createElement('div');\n            buttonGroup.classList = 'mpl-button-group';\n            continue;\n        }\n\n        var button = (fig.buttons[name] = document.createElement('button'));\n        button.classList = 'mpl-widget';\n        button.setAttribute('role', 'button');\n        button.setAttribute('aria-disabled', 'false');\n        button.addEventListener('click', on_click_closure(method_name));\n        button.addEventListener('mouseover', on_mouseover_closure(tooltip));\n\n        var icon_img = document.createElement('img');\n        icon_img.src = '_images/' + image + '.png';\n        icon_img.srcset = '_images/' + image + '_large.png 2x';\n        icon_img.alt = tooltip;\n        button.appendChild(icon_img);\n\n        buttonGroup.appendChild(button);\n    }\n\n    if (buttonGroup.hasChildNodes()) {\n        toolbar.appendChild(buttonGroup);\n    }\n\n    var fmt_picker = document.createElement('select');\n    fmt_picker.classList = 'mpl-widget';\n    toolbar.appendChild(fmt_picker);\n    this.format_dropdown = fmt_picker;\n\n    for (var ind in mpl.extensions) {\n        var fmt = mpl.extensions[ind];\n        var option = document.createElement('option');\n        option.selected = fmt === mpl.default_extension;\n        option.innerHTML = fmt;\n        fmt_picker.appendChild(option);\n    }\n\n    var status_bar = document.createElement('span');\n    status_bar.classList = 'mpl-message';\n    toolbar.appendChild(status_bar);\n    this.message = status_bar;\n};\n\nmpl.figure.prototype.request_resize = function (x_pixels, y_pixels) {\n    // Request matplotlib to resize the figure. Matplotlib will then trigger a resize in the client,\n    // which will in turn request a refresh of the image.\n    this.send_message('resize', { width: x_pixels, height: y_pixels });\n};\n\nmpl.figure.prototype.send_message = function (type, properties) {\n    properties['type'] = type;\n    properties['figure_id'] = this.id;\n    this.ws.send(JSON.stringify(properties));\n};\n\nmpl.figure.prototype.send_draw_message = function () {\n    if (!this.waiting) {\n        this.waiting = true;\n        this.ws.send(JSON.stringify({ type: 'draw', figure_id: this.id }));\n    }\n};\n\nmpl.figure.prototype.handle_save = function (fig, _msg) {\n    var format_dropdown = fig.format_dropdown;\n    var format = format_dropdown.options[format_dropdown.selectedIndex].value;\n    fig.ondownload(fig, format);\n};\n\nmpl.figure.prototype.handle_resize = function (fig, msg) {\n    var size = msg['size'];\n    if (size[0] !== fig.canvas.width || size[1] !== fig.canvas.height) {\n        fig._resize_canvas(size[0], size[1], msg['forward']);\n        fig.send_message('refresh', {});\n    }\n};\n\nmpl.figure.prototype.handle_rubberband = function (fig, msg) {\n    var x0 = msg['x0'] / fig.ratio;\n    var y0 = (fig.canvas.height - msg['y0']) / fig.ratio;\n    var x1 = msg['x1'] / fig.ratio;\n    var y1 = (fig.canvas.height - msg['y1']) / fig.ratio;\n    x0 = Math.floor(x0) + 0.5;\n    y0 = Math.floor(y0) + 0.5;\n    x1 = Math.floor(x1) + 0.5;\n    y1 = Math.floor(y1) + 0.5;\n    var min_x = Math.min(x0, x1);\n    var min_y = Math.min(y0, y1);\n    var width = Math.abs(x1 - x0);\n    var height = Math.abs(y1 - y0);\n\n    fig.rubberband_context.clearRect(\n        0,\n        0,\n        fig.canvas.width / fig.ratio,\n        fig.canvas.height / fig.ratio\n    );\n\n    fig.rubberband_context.strokeRect(min_x, min_y, width, height);\n};\n\nmpl.figure.prototype.handle_figure_label = function (fig, msg) {\n    // Updates the figure title.\n    fig.header.textContent = msg['label'];\n};\n\nmpl.figure.prototype.handle_cursor = function (fig, msg) {\n    fig.rubberband_canvas.style.cursor = msg['cursor'];\n};\n\nmpl.figure.prototype.handle_message = function (fig, msg) {\n    fig.message.textContent = msg['message'];\n};\n\nmpl.figure.prototype.handle_draw = function (fig, _msg) {\n    // Request the server to send over a new figure.\n    fig.send_draw_message();\n};\n\nmpl.figure.prototype.handle_image_mode = function (fig, msg) {\n    fig.image_mode = msg['mode'];\n};\n\nmpl.figure.prototype.handle_history_buttons = function (fig, msg) {\n    for (var key in msg) {\n        if (!(key in fig.buttons)) {\n            continue;\n        }\n        fig.buttons[key].disabled = !msg[key];\n        fig.buttons[key].setAttribute('aria-disabled', !msg[key]);\n    }\n};\n\nmpl.figure.prototype.handle_navigate_mode = function (fig, msg) {\n    if (msg['mode'] === 'PAN') {\n        fig.buttons['Pan'].classList.add('active');\n        fig.buttons['Zoom'].classList.remove('active');\n    } else if (msg['mode'] === 'ZOOM') {\n        fig.buttons['Pan'].classList.remove('active');\n        fig.buttons['Zoom'].classList.add('active');\n    } else {\n        fig.buttons['Pan'].classList.remove('active');\n        fig.buttons['Zoom'].classList.remove('active');\n    }\n};\n\nmpl.figure.prototype.updated_canvas_event = function () {\n    // Called whenever the canvas gets updated.\n    this.send_message('ack', {});\n};\n\n// A function to construct a web socket function for onmessage handling.\n// Called in the figure constructor.\nmpl.figure.prototype._make_on_message_function = function (fig) {\n    return function socket_on_message(evt) {\n        if (evt.data instanceof Blob) {\n            var img = evt.data;\n            if (img.type !== 'image/png') {\n                /* FIXME: We get \"Resource interpreted as Image but\n                 * transferred with MIME type text/plain:\" errors on\n                 * Chrome.  But how to set the MIME type?  It doesn't seem\n                 * to be part of the websocket stream */\n                img.type = 'image/png';\n            }\n\n            /* Free the memory for the previous frames */\n            if (fig.imageObj.src) {\n                (window.URL || window.webkitURL).revokeObjectURL(\n                    fig.imageObj.src\n                );\n            }\n\n            fig.imageObj.src = (window.URL || window.webkitURL).createObjectURL(\n                img\n            );\n            fig.updated_canvas_event();\n            fig.waiting = false;\n            return;\n        } else if (\n            typeof evt.data === 'string' &&\n            evt.data.slice(0, 21) === 'data:image/png;base64'\n        ) {\n            fig.imageObj.src = evt.data;\n            fig.updated_canvas_event();\n            fig.waiting = false;\n            return;\n        }\n\n        var msg = JSON.parse(evt.data);\n        var msg_type = msg['type'];\n\n        // Call the  \"handle_{type}\" callback, which takes\n        // the figure and JSON message as its only arguments.\n        try {\n            var callback = fig['handle_' + msg_type];\n        } catch (e) {\n            console.log(\n                \"No handler for the '\" + msg_type + \"' message type: \",\n                msg\n            );\n            return;\n        }\n\n        if (callback) {\n            try {\n                // console.log(\"Handling '\" + msg_type + \"' message: \", msg);\n                callback(fig, msg);\n            } catch (e) {\n                console.log(\n                    \"Exception inside the 'handler_\" + msg_type + \"' callback:\",\n                    e,\n                    e.stack,\n                    msg\n                );\n            }\n        }\n    };\n};\n\n// from https://stackoverflow.com/questions/1114465/getting-mouse-location-in-canvas\nmpl.findpos = function (e) {\n    //this section is from http://www.quirksmode.org/js/events_properties.html\n    var targ;\n    if (!e) {\n        e = window.event;\n    }\n    if (e.target) {\n        targ = e.target;\n    } else if (e.srcElement) {\n        targ = e.srcElement;\n    }\n    if (targ.nodeType === 3) {\n        // defeat Safari bug\n        targ = targ.parentNode;\n    }\n\n    // pageX,Y are the mouse positions relative to the document\n    var boundingRect = targ.getBoundingClientRect();\n    var x = e.pageX - (boundingRect.left + document.body.scrollLeft);\n    var y = e.pageY - (boundingRect.top + document.body.scrollTop);\n\n    return { x: x, y: y };\n};\n\n/*\n * return a copy of an object with only non-object keys\n * we need this to avoid circular references\n * https://stackoverflow.com/a/24161582/3208463\n */\nfunction simpleKeys(original) {\n    return Object.keys(original).reduce(function (obj, key) {\n        if (typeof original[key] !== 'object') {\n            obj[key] = original[key];\n        }\n        return obj;\n    }, {});\n}\n\nmpl.figure.prototype.mouse_event = function (event, name) {\n    var canvas_pos = mpl.findpos(event);\n\n    if (name === 'button_press') {\n        this.canvas.focus();\n        this.canvas_div.focus();\n    }\n\n    var x = canvas_pos.x * this.ratio;\n    var y = canvas_pos.y * this.ratio;\n\n    this.send_message(name, {\n        x: x,\n        y: y,\n        button: event.button,\n        step: event.step,\n        guiEvent: simpleKeys(event),\n    });\n\n    /* This prevents the web browser from automatically changing to\n     * the text insertion cursor when the button is pressed.  We want\n     * to control all of the cursor setting manually through the\n     * 'cursor' event from matplotlib */\n    event.preventDefault();\n    return false;\n};\n\nmpl.figure.prototype._key_event_extra = function (_event, _name) {\n    // Handle any extra behaviour associated with a key event\n};\n\nmpl.figure.prototype.key_event = function (event, name) {\n    // Prevent repeat events\n    if (name === 'key_press') {\n        if (event.key === this._key) {\n            return;\n        } else {\n            this._key = event.key;\n        }\n    }\n    if (name === 'key_release') {\n        this._key = null;\n    }\n\n    var value = '';\n    if (event.ctrlKey && event.key !== 'Control') {\n        value += 'ctrl+';\n    }\n    else if (event.altKey && event.key !== 'Alt') {\n        value += 'alt+';\n    }\n    else if (event.shiftKey && event.key !== 'Shift') {\n        value += 'shift+';\n    }\n\n    value += 'k' + event.key;\n\n    this._key_event_extra(event, name);\n\n    this.send_message(name, { key: value, guiEvent: simpleKeys(event) });\n    return false;\n};\n\nmpl.figure.prototype.toolbar_button_onclick = function (name) {\n    if (name === 'download') {\n        this.handle_save(this, null);\n    } else {\n        this.send_message('toolbar_button', { name: name });\n    }\n};\n\nmpl.figure.prototype.toolbar_button_onmouseover = function (tooltip) {\n    this.message.textContent = tooltip;\n};\n\n///////////////// REMAINING CONTENT GENERATED BY embed_js.py /////////////////\n// prettier-ignore\nvar _JSXTOOLS_RESIZE_OBSERVER=function(A){var t,i=new WeakMap,n=new WeakMap,a=new WeakMap,r=new WeakMap,o=new Set;function s(e){if(!(this instanceof s))throw new TypeError(\"Constructor requires 'new' operator\");i.set(this,e)}function h(){throw new TypeError(\"Function is not a constructor\")}function c(e,t,i,n){e=0 in arguments?Number(arguments[0]):0,t=1 in arguments?Number(arguments[1]):0,i=2 in arguments?Number(arguments[2]):0,n=3 in arguments?Number(arguments[3]):0,this.right=(this.x=this.left=e)+(this.width=i),this.bottom=(this.y=this.top=t)+(this.height=n),Object.freeze(this)}function d(){t=requestAnimationFrame(d);var s=new WeakMap,p=new Set;o.forEach((function(t){r.get(t).forEach((function(i){var r=t instanceof window.SVGElement,o=a.get(t),d=r?0:parseFloat(o.paddingTop),f=r?0:parseFloat(o.paddingRight),l=r?0:parseFloat(o.paddingBottom),u=r?0:parseFloat(o.paddingLeft),g=r?0:parseFloat(o.borderTopWidth),m=r?0:parseFloat(o.borderRightWidth),w=r?0:parseFloat(o.borderBottomWidth),b=u+f,F=d+l,v=(r?0:parseFloat(o.borderLeftWidth))+m,W=g+w,y=r?0:t.offsetHeight-W-t.clientHeight,E=r?0:t.offsetWidth-v-t.clientWidth,R=b+v,z=F+W,M=r?t.width:parseFloat(o.width)-R-E,O=r?t.height:parseFloat(o.height)-z-y;if(n.has(t)){var k=n.get(t);if(k[0]===M&&k[1]===O)return}n.set(t,[M,O]);var S=Object.create(h.prototype);S.target=t,S.contentRect=new c(u,d,M,O),s.has(i)||(s.set(i,[]),p.add(i)),s.get(i).push(S)}))})),p.forEach((function(e){i.get(e).call(e,s.get(e),e)}))}return s.prototype.observe=function(i){if(i instanceof window.Element){r.has(i)||(r.set(i,new Set),o.add(i),a.set(i,window.getComputedStyle(i)));var n=r.get(i);n.has(this)||n.add(this),cancelAnimationFrame(t),t=requestAnimationFrame(d)}},s.prototype.unobserve=function(i){if(i instanceof window.Element&&r.has(i)){var n=r.get(i);n.has(this)&&(n.delete(this),n.size||(r.delete(i),o.delete(i))),n.size||r.delete(i),o.size||cancelAnimationFrame(t)}},A.DOMRectReadOnly=c,A.ResizeObserver=s,A.ResizeObserverEntry=h,A}; // eslint-disable-line\nmpl.toolbar_items = [[\"Home\", \"Reset original view\", \"fa fa-home icon-home\", \"home\"], [\"Back\", \"Back to previous view\", \"fa fa-arrow-left icon-arrow-left\", \"back\"], [\"Forward\", \"Forward to next view\", \"fa fa-arrow-right icon-arrow-right\", \"forward\"], [\"\", \"\", \"\", \"\"], [\"Pan\", \"Left button pans, Right button zooms\\nx/y fixes axis, CTRL fixes aspect\", \"fa fa-arrows icon-move\", \"pan\"], [\"Zoom\", \"Zoom to rectangle\\nx/y fixes axis\", \"fa fa-square-o icon-check-empty\", \"zoom\"], [\"\", \"\", \"\", \"\"], [\"Download\", \"Download plot\", \"fa fa-floppy-o icon-save\", \"download\"]];\n\nmpl.extensions = [\"eps\", \"jpeg\", \"pgf\", \"pdf\", \"png\", \"ps\", \"raw\", \"svg\", \"tif\"];\n\nmpl.default_extension = \"png\";/* global mpl */\n\nvar comm_websocket_adapter = function (comm) {\n    // Create a \"websocket\"-like object which calls the given IPython comm\n    // object with the appropriate methods. Currently this is a non binary\n    // socket, so there is still some room for performance tuning.\n    var ws = {};\n\n    ws.binaryType = comm.kernel.ws.binaryType;\n    ws.readyState = comm.kernel.ws.readyState;\n    function updateReadyState(_event) {\n        if (comm.kernel.ws) {\n            ws.readyState = comm.kernel.ws.readyState;\n        } else {\n            ws.readyState = 3; // Closed state.\n        }\n    }\n    comm.kernel.ws.addEventListener('open', updateReadyState);\n    comm.kernel.ws.addEventListener('close', updateReadyState);\n    comm.kernel.ws.addEventListener('error', updateReadyState);\n\n    ws.close = function () {\n        comm.close();\n    };\n    ws.send = function (m) {\n        //console.log('sending', m);\n        comm.send(m);\n    };\n    // Register the callback with on_msg.\n    comm.on_msg(function (msg) {\n        //console.log('receiving', msg['content']['data'], msg);\n        var data = msg['content']['data'];\n        if (data['blob'] !== undefined) {\n            data = {\n                data: new Blob(msg['buffers'], { type: data['blob'] }),\n            };\n        }\n        // Pass the mpl event to the overridden (by mpl) onmessage function.\n        ws.onmessage(data);\n    });\n    return ws;\n};\n\nmpl.mpl_figure_comm = function (comm, msg) {\n    // This is the function which gets called when the mpl process\n    // starts-up an IPython Comm through the \"matplotlib\" channel.\n\n    var id = msg.content.data.id;\n    // Get hold of the div created by the display call when the Comm\n    // socket was opened in Python.\n    var element = document.getElementById(id);\n    var ws_proxy = comm_websocket_adapter(comm);\n\n    function ondownload(figure, _format) {\n        window.open(figure.canvas.toDataURL());\n    }\n\n    var fig = new mpl.figure(id, ws_proxy, ondownload, element);\n\n    // Call onopen now - mpl needs it, as it is assuming we've passed it a real\n    // web socket which is closed, not our websocket->open comm proxy.\n    ws_proxy.onopen();\n\n    fig.parent_element = element;\n    fig.cell_info = mpl.find_output_cell(\"<div id='\" + id + \"'></div>\");\n    if (!fig.cell_info) {\n        console.error('Failed to find cell for figure', id, fig);\n        return;\n    }\n    fig.cell_info[0].output_area.element.on(\n        'cleared',\n        { fig: fig },\n        fig._remove_fig_handler\n    );\n};\n\nmpl.figure.prototype.handle_close = function (fig, msg) {\n    var width = fig.canvas.width / fig.ratio;\n    fig.cell_info[0].output_area.element.off(\n        'cleared',\n        fig._remove_fig_handler\n    );\n    fig.resizeObserverInstance.unobserve(fig.canvas_div);\n\n    // Update the output cell to use the data from the current canvas.\n    fig.push_to_output();\n    var dataURL = fig.canvas.toDataURL();\n    // Re-enable the keyboard manager in IPython - without this line, in FF,\n    // the notebook keyboard shortcuts fail.\n    IPython.keyboard_manager.enable();\n    fig.parent_element.innerHTML =\n        '<img src=\"' + dataURL + '\" width=\"' + width + '\">';\n    fig.close_ws(fig, msg);\n};\n\nmpl.figure.prototype.close_ws = function (fig, msg) {\n    fig.send_message('closing', msg);\n    // fig.ws.close()\n};\n\nmpl.figure.prototype.push_to_output = function (_remove_interactive) {\n    // Turn the data on the canvas into data in the output cell.\n    var width = this.canvas.width / this.ratio;\n    var dataURL = this.canvas.toDataURL();\n    this.cell_info[1]['text/html'] =\n        '<img src=\"' + dataURL + '\" width=\"' + width + '\">';\n};\n\nmpl.figure.prototype.updated_canvas_event = function () {\n    // Tell IPython that the notebook contents must change.\n    IPython.notebook.set_dirty(true);\n    this.send_message('ack', {});\n    var fig = this;\n    // Wait a second, then push the new image to the DOM so\n    // that it is saved nicely (might be nice to debounce this).\n    setTimeout(function () {\n        fig.push_to_output();\n    }, 1000);\n};\n\nmpl.figure.prototype._init_toolbar = function () {\n    var fig = this;\n\n    var toolbar = document.createElement('div');\n    toolbar.classList = 'btn-toolbar';\n    this.root.appendChild(toolbar);\n\n    function on_click_closure(name) {\n        return function (_event) {\n            return fig.toolbar_button_onclick(name);\n        };\n    }\n\n    function on_mouseover_closure(tooltip) {\n        return function (event) {\n            if (!event.currentTarget.disabled) {\n                return fig.toolbar_button_onmouseover(tooltip);\n            }\n        };\n    }\n\n    fig.buttons = {};\n    var buttonGroup = document.createElement('div');\n    buttonGroup.classList = 'btn-group';\n    var button;\n    for (var toolbar_ind in mpl.toolbar_items) {\n        var name = mpl.toolbar_items[toolbar_ind][0];\n        var tooltip = mpl.toolbar_items[toolbar_ind][1];\n        var image = mpl.toolbar_items[toolbar_ind][2];\n        var method_name = mpl.toolbar_items[toolbar_ind][3];\n\n        if (!name) {\n            /* Instead of a spacer, we start a new button group. */\n            if (buttonGroup.hasChildNodes()) {\n                toolbar.appendChild(buttonGroup);\n            }\n            buttonGroup = document.createElement('div');\n            buttonGroup.classList = 'btn-group';\n            continue;\n        }\n\n        button = fig.buttons[name] = document.createElement('button');\n        button.classList = 'btn btn-default';\n        button.href = '#';\n        button.title = name;\n        button.innerHTML = '<i class=\"fa ' + image + ' fa-lg\"></i>';\n        button.addEventListener('click', on_click_closure(method_name));\n        button.addEventListener('mouseover', on_mouseover_closure(tooltip));\n        buttonGroup.appendChild(button);\n    }\n\n    if (buttonGroup.hasChildNodes()) {\n        toolbar.appendChild(buttonGroup);\n    }\n\n    // Add the status bar.\n    var status_bar = document.createElement('span');\n    status_bar.classList = 'mpl-message pull-right';\n    toolbar.appendChild(status_bar);\n    this.message = status_bar;\n\n    // Add the close button to the window.\n    var buttongrp = document.createElement('div');\n    buttongrp.classList = 'btn-group inline pull-right';\n    button = document.createElement('button');\n    button.classList = 'btn btn-mini btn-primary';\n    button.href = '#';\n    button.title = 'Stop Interaction';\n    button.innerHTML = '<i class=\"fa fa-power-off icon-remove icon-large\"></i>';\n    button.addEventListener('click', function (_evt) {\n        fig.handle_close(fig, {});\n    });\n    button.addEventListener(\n        'mouseover',\n        on_mouseover_closure('Stop Interaction')\n    );\n    buttongrp.appendChild(button);\n    var titlebar = this.root.querySelector('.ui-dialog-titlebar');\n    titlebar.insertBefore(buttongrp, titlebar.firstChild);\n};\n\nmpl.figure.prototype._remove_fig_handler = function (event) {\n    var fig = event.data.fig;\n    if (event.target !== this) {\n        // Ignore bubbled events from children.\n        return;\n    }\n    fig.close_ws(fig, {});\n};\n\nmpl.figure.prototype._root_extra_style = function (el) {\n    el.style.boxSizing = 'content-box'; // override notebook setting of border-box.\n};\n\nmpl.figure.prototype._canvas_extra_style = function (el) {\n    // this is important to make the div 'focusable\n    el.setAttribute('tabindex', 0);\n    // reach out to IPython and tell the keyboard manager to turn it's self\n    // off when our div gets focus\n\n    // location in version 3\n    if (IPython.notebook.keyboard_manager) {\n        IPython.notebook.keyboard_manager.register_events(el);\n    } else {\n        // location in version 2\n        IPython.keyboard_manager.register_events(el);\n    }\n};\n\nmpl.figure.prototype._key_event_extra = function (event, _name) {\n    // Check for shift+enter\n    if (event.shiftKey && event.which === 13) {\n        this.canvas_div.blur();\n        // select the cell after this one\n        var index = IPython.notebook.find_cell_index(this.cell_info[0]);\n        IPython.notebook.select(index + 1);\n    }\n};\n\nmpl.figure.prototype.handle_save = function (fig, _msg) {\n    fig.ondownload(fig, null);\n};\n\nmpl.find_output_cell = function (html_output) {\n    // Return the cell and output element which can be found *uniquely* in the notebook.\n    // Note - this is a bit hacky, but it is done because the \"notebook_saving.Notebook\"\n    // IPython event is triggered only after the cells have been serialised, which for\n    // our purposes (turning an active figure into a static one), is too late.\n    var cells = IPython.notebook.get_cells();\n    var ncells = cells.length;\n    for (var i = 0; i < ncells; i++) {\n        var cell = cells[i];\n        if (cell.cell_type === 'code') {\n            for (var j = 0; j < cell.output_area.outputs.length; j++) {\n                var data = cell.output_area.outputs[j];\n                if (data.data) {\n                    // IPython >= 3 moved mimebundle to data attribute of output\n                    data = data.data;\n                }\n                if (data['text/html'] === html_output) {\n                    return [cell, data, j];\n                }\n            }\n        }\n    }\n};\n\n// Register the function which deals with the matplotlib target/channel.\n// The kernel may be null if the page has been refreshed.\nif (IPython.notebook.kernel !== null) {\n    IPython.notebook.kernel.comm_manager.register_target(\n        'matplotlib',\n        mpl.mpl_figure_comm\n    );\n}\n"
     },
     "metadata": {},
     "output_type": "display_data"
    },
    {
     "data": {
      "text/plain": "<IPython.core.display.HTML object>",
      "text/html": "<div id='cb6b545b-8d94-411f-966a-bb001441157d'></div>"
     },
     "metadata": {},
     "output_type": "display_data"
    }
   ],
   "source": [
    "i = 31\n",
    "plt.figure()\n",
    "plt.plot(train_data[i][:,:,4].flatten()+2,color = 'k')\n",
    "plt.plot(train_data[i][:,:,13].flatten()+1,color = 'k')\n",
    "plt.plot(train_data[i][:,:,22].flatten(),color = 'k')\n",
    "plt.plot(train_data[i][:,:,31].flatten()-1,color = 'k')\n",
    "label_start, label_end, pred_start, pred_end = plot_high_light(train_label[i],pred_episode[i])\n",
    "if len(pred_start)>0:\n",
    "    for i in range(len(pred_start)):\n",
    "        plt.axvspan(pred_start[i]*249, pred_end[i]*249, color=\"blue\", alpha=0.3)\n",
    "if len(label_start)>0:\n",
    "    for i in range(len(label_start)):\n",
    "        plt.axvspan(label_start[i]*249, label_end[i]*249, color=\"yellow\", alpha=0.3)\n",
    "plt.show()"
   ],
   "metadata": {
    "collapsed": false,
    "ExecuteTime": {
     "start_time": "2024-04-17T22:30:54.384511Z",
     "end_time": "2024-04-17T22:30:54.824510Z"
    }
   }
  },
  {
   "cell_type": "code",
   "execution_count": 108,
   "outputs": [
    {
     "data": {
      "text/plain": "array([], dtype=int64)"
     },
     "execution_count": 108,
     "metadata": {},
     "output_type": "execute_result"
    }
   ],
   "source": [
    "pred_start"
   ],
   "metadata": {
    "collapsed": false
   }
  },
  {
   "cell_type": "code",
   "execution_count": 337,
   "outputs": [],
   "source": [
    "def plot_high_light(train_label, pred_episode):\n",
    "    label_start = np.where(np.diff(train_label) == 1)[0]\n",
    "    label_end = np.where(np.diff(train_label) == -1)[0]\n",
    "    pred_start = np.where(np.diff(pred_episode) == 1)[0]\n",
    "    pred_end = np.where(np.diff(pred_episode) == -1)[0]\n",
    "    label_start, label_end = check_consistent(label_start,label_end, len(train_label))\n",
    "    pred_start, pred_end = check_consistent(pred_start,pred_end, len(pred_episode))\n",
    "    # if len(label_start)>0:\n",
    "    #     plt.axvspan(label_start[0]*249, label_end[0]*249, color=\"yellow\", alpha=0.3)\n",
    "\n",
    "    return label_start, label_end, pred_start, pred_end\n",
    "\n",
    "\n",
    "def check_consistent(start, end, total_len):\n",
    "    if len(start) != len(end):\n",
    "        if len(start)>0:\n",
    "            end = [total_len]\n",
    "        elif len(end)>0:\n",
    "            start = [0]\n",
    "    return start, end\n"
   ],
   "metadata": {
    "collapsed": false,
    "ExecuteTime": {
     "start_time": "2024-04-17T22:26:11.752376Z",
     "end_time": "2024-04-17T22:26:12.625376Z"
    }
   }
  },
  {
   "cell_type": "code",
   "execution_count": 27,
   "outputs": [
    {
     "ename": "NameError",
     "evalue": "name 'pred_episode' is not defined",
     "output_type": "error",
     "traceback": [
      "\u001B[1;31m---------------------------------------------------------------------------\u001B[0m",
      "\u001B[1;31mNameError\u001B[0m                                 Traceback (most recent call last)",
      "Input \u001B[1;32mIn [27]\u001B[0m, in \u001B[0;36m<cell line: 2>\u001B[1;34m()\u001B[0m\n\u001B[0;32m      1\u001B[0m i \u001B[38;5;241m=\u001B[39m \u001B[38;5;241m31\u001B[39m\n\u001B[1;32m----> 2\u001B[0m plot_high_light(train_label[i],\u001B[43mpred_episode\u001B[49m[i])\n",
      "\u001B[1;31mNameError\u001B[0m: name 'pred_episode' is not defined"
     ]
    }
   ],
   "source": [
    "i = 31\n",
    "plot_high_light(train_label[i],pred_episode[i])"
   ],
   "metadata": {
    "collapsed": false
   }
  },
  {
   "cell_type": "code",
   "execution_count": 28,
   "outputs": [
    {
     "data": {
      "text/plain": "array([[[0.49853372, 0.49853372, 0.49853372, ..., 0.50928641,\n         0.50439883, 0.44868035],\n        [0.50439883, 0.50439883, 0.50439883, ..., 0.49853372,\n         0.50439883, 0.46236559],\n        [0.50146628, 0.50146628, 0.50146628, ..., 0.49364614,\n         0.49364614, 0.46236559],\n        ...,\n        [0.50342131, 0.50342131, 0.50342131, ..., 0.49462366,\n         0.47507331, 0.47214076],\n        [0.49853372, 0.49853372, 0.49853372, ..., 0.51026393,\n         0.4740958 , 0.48680352],\n        [0.49853372, 0.49853372, 0.49853372, ..., 0.51026393,\n         0.46138807, 0.50146628]],\n\n       [[0.49853372, 0.49853372, 0.49853372, ..., 0.50439883,\n         0.44868035, 0.50342131],\n        [0.50439883, 0.50439883, 0.50439883, ..., 0.50439883,\n         0.46236559, 0.50733138],\n        [0.50146628, 0.50146628, 0.50146628, ..., 0.49364614,\n         0.46236559, 0.49755621],\n        ...,\n        [0.50342131, 0.50342131, 0.50342131, ..., 0.47507331,\n         0.47214076, 0.49853372],\n        [0.49853372, 0.49853372, 0.49853372, ..., 0.4740958 ,\n         0.48680352, 0.51026393],\n        [0.49853372, 0.49853372, 0.49853372, ..., 0.46138807,\n         0.50146628, 0.514174  ]],\n\n       [[0.49853372, 0.49853372, 0.49853372, ..., 0.44868035,\n         0.50342131, 0.50928641],\n        [0.50439883, 0.50439883, 0.50439883, ..., 0.46236559,\n         0.50733138, 0.50146628],\n        [0.50146628, 0.50146628, 0.50146628, ..., 0.46236559,\n         0.49755621, 0.50928641],\n        ...,\n        [0.50342131, 0.50342131, 0.50342131, ..., 0.47214076,\n         0.49853372, 0.53958944],\n        [0.49853372, 0.49853372, 0.49853372, ..., 0.48680352,\n         0.51026393, 0.52394917],\n        [0.49853372, 0.49853372, 0.49853372, ..., 0.50146628,\n         0.514174  , 0.52101662]],\n\n       ...,\n\n       [[0.49657869, 0.49853372, 0.49853372, ..., 0.50635386,\n         0.50635386, 0.50635386],\n        [0.49755621, 0.49462366, 0.50439883, ..., 0.50733138,\n         0.50733138, 0.50733138],\n        [0.49853372, 0.50146628, 0.49853372, ..., 0.50048876,\n         0.50048876, 0.50048876],\n        ...,\n        [0.49853372, 0.50146628, 0.49755621, ..., 0.49364614,\n         0.49364614, 0.49364614],\n        [0.49657869, 0.49853372, 0.49755621, ..., 0.49462366,\n         0.49462366, 0.49462366],\n        [0.49755621, 0.49853372, 0.49853372, ..., 0.50439883,\n         0.50439883, 0.50439883]],\n\n       [[0.49853372, 0.49853372, 0.50146628, ..., 0.50635386,\n         0.50635386, 0.50635386],\n        [0.49462366, 0.50439883, 0.50048876, ..., 0.50733138,\n         0.50733138, 0.50733138],\n        [0.50146628, 0.49853372, 0.50048876, ..., 0.50048876,\n         0.50048876, 0.50048876],\n        ...,\n        [0.50146628, 0.49755621, 0.50439883, ..., 0.49364614,\n         0.49364614, 0.49364614],\n        [0.49853372, 0.49755621, 0.50342131, ..., 0.49462366,\n         0.49462366, 0.49462366],\n        [0.49853372, 0.49853372, 0.49853372, ..., 0.50439883,\n         0.50439883, 0.50439883]],\n\n       [[0.49853372, 0.50146628, 0.49853372, ..., 0.50635386,\n         0.50635386, 0.50635386],\n        [0.50439883, 0.50048876, 0.50048876, ..., 0.50733138,\n         0.50733138, 0.50733138],\n        [0.49853372, 0.50048876, 0.50928641, ..., 0.50048876,\n         0.50048876, 0.50048876],\n        ...,\n        [0.49755621, 0.50439883, 0.49853372, ..., 0.49364614,\n         0.49364614, 0.49364614],\n        [0.49755621, 0.50342131, 0.50146628, ..., 0.49462366,\n         0.49462366, 0.49462366],\n        [0.49853372, 0.49853372, 0.49462366, ..., 0.50439883,\n         0.50439883, 0.50439883]]])"
     },
     "execution_count": 28,
     "metadata": {},
     "output_type": "execute_result"
    }
   ],
   "source": [
    "train_data[i]"
   ],
   "metadata": {
    "collapsed": false
   }
  },
  {
   "cell_type": "code",
   "execution_count": 115,
   "outputs": [
    {
     "data": {
      "text/plain": "tensor([90, 90, 90, 90, 90, 90, 90, 90, 90, 90, 90, 90, 90, 90, 90, 90, 90, 90,\n        90, 90, 90, 90, 90, 90, 90, 90, 90, 90, 90, 90, 90, 90, 70, 90, 90, 90,\n        90, 35, 66])"
     },
     "execution_count": 115,
     "metadata": {},
     "output_type": "execute_result"
    }
   ],
   "source": [
    "torch.tensor([item for sublist in seq_len_list for item in sublist])"
   ],
   "metadata": {
    "collapsed": false
   }
  },
  {
   "cell_type": "code",
   "execution_count": 116,
   "outputs": [],
   "source": [
    "def combine_window_to_episode(data, seq_len, index=None):\n",
    "    cum_sum_index = np.cumsum(seq_len)\n",
    "    cum_sum_index = np.insert(cum_sum_index, 0, 0)\n",
    "\n",
    "    assert len(data) == cum_sum_index[-1]\n",
    "\n",
    "    data_out = [None] * (len(cum_sum_index) - 1)\n",
    "\n",
    "    for i in range(1, len(cum_sum_index)):\n",
    "        start_index, end_index = cum_sum_index[i - 1], cum_sum_index[i]\n",
    "        episode_data = data[start_index:end_index]\n",
    "\n",
    "        if index is None:\n",
    "            out = episode_data\n",
    "        else:\n",
    "            episode_labeled = index[start_index:end_index]\n",
    "            out = episode_data[episode_labeled]\n",
    "\n",
    "        if len(out) > 0:\n",
    "            data_out[i - 1] = out\n",
    "\n",
    "    data_out = [segment for segment in data_out if segment is not None]\n",
    "\n",
    "    return np.array(data_out, dtype=object)"
   ],
   "metadata": {
    "collapsed": false
   }
  },
  {
   "cell_type": "code",
   "execution_count": 117,
   "outputs": [
    {
     "data": {
      "text/plain": "[0.0,\n 1.0,\n 1.0,\n 1.0,\n 1.0,\n 1.0,\n 1.0,\n 1.0,\n 0.0,\n 0.0,\n 0.0,\n 0.0,\n 0.0,\n 0.0,\n 0.0,\n 1.0,\n 1.0,\n 1.0,\n 1.0,\n 0.0,\n 0.0,\n 0.0,\n 0.0,\n 0.0,\n 0.0,\n 0.0,\n 0.0,\n 0.0,\n 0.0,\n 1.0,\n 0.0,\n 1.0,\n 1.0,\n 0.0,\n 0.0,\n 1.0,\n 0.0,\n 0.0,\n 0.0]"
     },
     "execution_count": 117,
     "metadata": {},
     "output_type": "execute_result"
    }
   ],
   "source": [
    "[np.sign(tl.sum()) for tl in train_label]"
   ],
   "metadata": {
    "collapsed": false,
    "ExecuteTime": {
     "start_time": "2024-04-17T19:53:36.384910Z",
     "end_time": "2024-04-17T19:53:37.614907Z"
    }
   }
  },
  {
   "cell_type": "code",
   "execution_count": 118,
   "outputs": [
    {
     "data": {
      "text/plain": "[tensor(0),\n tensor(1),\n tensor(1),\n tensor(1),\n tensor(1),\n tensor(1),\n tensor(1),\n tensor(1),\n tensor(0),\n tensor(0),\n tensor(0),\n tensor(0),\n tensor(0),\n tensor(0),\n tensor(0),\n tensor(1),\n tensor(1),\n tensor(1),\n tensor(1),\n tensor(0),\n tensor(0),\n tensor(0),\n tensor(0),\n tensor(0),\n tensor(0),\n tensor(0),\n tensor(0),\n tensor(0),\n tensor(0),\n tensor(0),\n tensor(0),\n tensor(1),\n tensor(1),\n tensor(0),\n tensor(0),\n tensor(1),\n tensor(0),\n tensor(0),\n tensor(0)]"
     },
     "execution_count": 118,
     "metadata": {},
     "output_type": "execute_result"
    }
   ],
   "source": [
    "[np.sign(tl.sum()) for tl in pred_episode]"
   ],
   "metadata": {
    "collapsed": false,
    "ExecuteTime": {
     "start_time": "2024-04-17T19:53:38.214715Z",
     "end_time": "2024-04-17T19:53:38.712713Z"
    }
   }
  },
  {
   "cell_type": "code",
   "execution_count": 172,
   "outputs": [
    {
     "name": "stdout",
     "output_type": "stream",
     "text": [
      "Classification Report : \n",
      "              precision    recall  f1-score   support\n",
      "\n",
      "           0   1.000000  0.923077  0.960000        26\n",
      "           1   0.866667  1.000000  0.928571        13\n",
      "\n",
      "    accuracy                       0.948718        39\n",
      "   macro avg   0.933333  0.961538  0.944286        39\n",
      "weighted avg   0.955556  0.948718  0.949524        39\n"
     ]
    }
   ],
   "source": [
    "clf_report = sklearn.metrics.classification_report([np.sign(tl.sum()) for tl in pred_episode], [np.sign(tl.sum()) for tl in train_label], digits=6)\n",
    "\n",
    "print(f\"Classification Report : \\n{clf_report}\")"
   ],
   "metadata": {
    "collapsed": false,
    "ExecuteTime": {
     "start_time": "2024-04-17T20:34:35.663049Z",
     "end_time": "2024-04-17T20:34:36.046730Z"
    }
   }
  },
  {
   "cell_type": "code",
   "execution_count": 121,
   "outputs": [
    {
     "data": {
      "text/plain": "0.9655172413793104"
     },
     "execution_count": 121,
     "metadata": {},
     "output_type": "execute_result"
    }
   ],
   "source": [
    "sklearn.metrics.f1_score([np.sign(tl.sum()) for tl in pred_episode], [np.sign(tl.sum()) for tl in train_label])"
   ],
   "metadata": {
    "collapsed": false,
    "ExecuteTime": {
     "start_time": "2024-04-17T19:56:32.902239Z",
     "end_time": "2024-04-17T19:56:33.428553Z"
    }
   }
  },
  {
   "cell_type": "code",
   "execution_count": 395,
   "outputs": [
    {
     "data": {
      "text/plain": "0"
     },
     "execution_count": 395,
     "metadata": {},
     "output_type": "execute_result"
    }
   ],
   "source": [
    "np.where(np.diff(train_label[i]) == -1)[0]"
   ],
   "metadata": {
    "collapsed": false,
    "ExecuteTime": {
     "start_time": "2024-04-17T17:48:47.976160Z",
     "end_time": "2024-04-17T17:48:48.437160Z"
    }
   }
  },
  {
   "cell_type": "code",
   "execution_count": 329,
   "outputs": [],
   "source": [
    "machine_annot = annotations.annotation_dict['RNS_Test_Dataset_ErinConrad'].copy()"
   ],
   "metadata": {
    "collapsed": false,
    "ExecuteTime": {
     "start_time": "2024-04-17T22:22:56.909193Z",
     "end_time": "2024-04-17T22:22:57.636193Z"
    }
   }
  },
  {
   "cell_type": "code",
   "execution_count": 330,
   "outputs": [],
   "source": [
    "def get_start_stop(pred_episode):\n",
    "    pred_start = np.where(np.diff(pred_episode) == 1)[0]\n",
    "    pred_end = np.where(np.diff(pred_episode) == -1)[0]\n",
    "    pred_start, pred_end = check_consistent(pred_start,pred_end, len(pred_episode))\n",
    "    pred_start *= 249\n",
    "    pred_end *= 249\n",
    "    return pred_start, pred_end\n",
    "\n",
    "\n",
    "def check_consistent(start, end, total_len):\n",
    "    if len(start) != len(end):\n",
    "        if len(start)>0:\n",
    "            end = np.array([total_len], dtype=np.int64)\n",
    "        elif len(end)>0:\n",
    "            start = np.array([0], dtype=np.int64)\n",
    "    return start, end"
   ],
   "metadata": {
    "collapsed": false,
    "ExecuteTime": {
     "start_time": "2024-04-17T22:22:57.905193Z",
     "end_time": "2024-04-17T22:22:59.231192Z"
    }
   }
  },
  {
   "cell_type": "code",
   "execution_count": 331,
   "outputs": [],
   "source": [
    "from datetime import datetime\n",
    "def interpolate_time(index, start_index, end_index, start_timestamp, end_timestamp):\n",
    "    return int((index-start_index)/(end_index-start_index)*(end_timestamp-start_timestamp)+start_timestamp)\n",
    "\n",
    "def timestamp_to_utctime(ts):\n",
    "    \"\"\"\n",
    "    :param ts: int - datetime timestamp\n",
    "    :return: string - utc time\n",
    "    \"\"\"\n",
    "    return datetime.utcfromtimestamp(ts * 1e-6)\n"
   ],
   "metadata": {
    "collapsed": false,
    "ExecuteTime": {
     "start_time": "2024-04-17T22:22:59.242194Z",
     "end_time": "2024-04-17T22:23:00.695193Z"
    }
   }
  },
  {
   "cell_type": "code",
   "execution_count": 332,
   "outputs": [],
   "source": [
    "machine_annot = machine_annot.reset_index(drop=True)\n",
    "machine_annot.Dataset = 'RNS_Test_Dataset_DeepLearning'\n",
    "machine_annot.Alias_ID = 'RNS_Example_DL'\n",
    "machine_annot = machine_annot.drop(['Type_Description', 'Annotation_Channel', 'Channel_Code', 'Binary_Channel_Code','Annotation_Catalog_Index'], axis=1)"
   ],
   "metadata": {
    "collapsed": false,
    "ExecuteTime": {
     "start_time": "2024-04-17T22:23:01.256192Z",
     "end_time": "2024-04-17T22:23:02.209194Z"
    }
   }
  },
  {
   "cell_type": "code",
   "execution_count": 333,
   "outputs": [
    {
     "data": {
      "text/plain": "                          Dataset Patient_ID        Alias_ID  Episode_Start_Timestamp  Episode_End_Timestamp  Episode_Start_UTC_Time    Episode_End_UTC_Time  Episode_Index  Episode_Start_Index  Episode_End_Index Annotation_Start_Timestamp Annotation_End_Timestamp     Annotation_Start_UTC_Time       Annotation_End_UTC_Time Annotation_Start_Index Annotation_End_Index  Class_Code\n0   RNS_Test_Dataset_DeepLearning     HUP096  RNS_Example_DL         1427742903476000       1427742993628000 2015-03-30 19:15:03.476 2015-03-30 19:16:33.628             10               250781             273318                         []                       []                            []                            []                     []                   []           0\n1   RNS_Test_Dataset_DeepLearning     HUP096  RNS_Example_DL         1442176442532000       1442176532616000 2015-09-13 20:34:02.532 2015-09-13 20:35:32.616            508             11181530           11204050         [1442176484602143]       [1442176503681280]  [2015-09-13 20:34:44.602143]  [2015-09-13 20:35:03.681280]             [11192047]           [11196817]           1\n2   RNS_Test_Dataset_DeepLearning     HUP096  RNS_Example_DL         1446212334040000       1446212424128000 2015-10-30 13:38:54.040 2015-10-30 13:40:24.128            629             13870413           13892934         [1446212375851151]       [1446212394966259]  [2015-10-30 13:39:35.851151]  [2015-10-30 13:39:54.966259]             [13880865]           [13885644]           1\n3   RNS_Test_Dataset_DeepLearning     HUP096  RNS_Example_DL         1449366435524000       1449366525608000 2015-12-06 01:47:15.524 2015-12-06 01:48:45.608            721             15909503           15932023         [1449366477065366]       [1449366499097740]  [2015-12-06 01:47:57.065366]  [2015-12-06 01:48:19.097740]             [15919888]           [15925396]           1\n4   RNS_Test_Dataset_DeepLearning     HUP096  RNS_Example_DL         1449934755536000       1449934845628000 2015-12-12 15:39:15.536 2015-12-12 15:40:45.628            743             16390505           16413027         [1449934797422690]       [1449934815379524]  [2015-12-12 15:39:57.422690]  [2015-12-12 15:40:15.379524]             [16400976]           [16405465]           1\n5   RNS_Test_Dataset_DeepLearning     HUP096  RNS_Example_DL         1455641459024000       1455641549116000 2016-02-16 16:50:59.024 2016-02-16 16:52:29.116            916             20226279           20248801         [1455641500632209]       [1455641524046388]  [2016-02-16 16:51:40.632209]  [2016-02-16 16:52:04.046388]             [20236681]           [20242534]           1\n6   RNS_Test_Dataset_DeepLearning     HUP096  RNS_Example_DL         1455731984528000       1455732074628000 2016-02-17 17:59:44.528 2016-02-17 18:01:14.628            921             20338919           20361443         [1455732026202876]       [1455732043242286]  [2016-02-17 18:00:26.202876]  [2016-02-17 18:00:43.242286]             [20349337]           [20353597]           1\n7   RNS_Test_Dataset_DeepLearning     HUP096  RNS_Example_DL         1461799060532000       1461799150616000 2016-04-27 23:17:40.532 2016-04-27 23:19:10.616           1105             24450741           24473261         [1461799101866975]       [1461799126694561]  [2016-04-27 23:18:21.866975]  [2016-04-27 23:18:46.694561]             [24461074]           [24467281]           1\n8   RNS_Test_Dataset_DeepLearning     HUP096  RNS_Example_DL         1467873560512000       1467873650608000 2016-07-07 06:39:20.512 2016-07-07 06:40:50.608           1290             28581909           28604432                         []                       []                            []                            []                     []                   []           0\n9   RNS_Test_Dataset_DeepLearning     HUP096  RNS_Example_DL         1469814899464000       1469814989632000 2016-07-29 17:54:59.464 2016-07-29 17:56:29.632           1350             29921013           29943554                         []                       []                            []                            []                     []                   []           0\n10  RNS_Test_Dataset_DeepLearning     HUP096  RNS_Example_DL         1471934916516000       1471935006616000 2016-08-23 06:48:36.516 2016-08-23 06:50:06.616           1417             31428937           31451461                         []                       []                            []                            []                     []                   []           0\n11  RNS_Test_Dataset_DeepLearning     HUP096  RNS_Example_DL         1514141698976000       1514141789132000 2017-12-24 18:54:58.976 2017-12-24 18:56:29.132           2688             59920193           59942731                         []                       []                            []                            []                     []                   []           0\n12  RNS_Test_Dataset_DeepLearning     HUP137  RNS_Example_DL         1506762815028000       1506762905124000 2017-09-30 09:13:35.028 2017-09-30 09:15:05.124            313              6871039            6893562                         []                       []                            []                            []                     []                   []           0\n13  RNS_Test_Dataset_DeepLearning     HUP137  RNS_Example_DL         1510786676536000       1510786766592000 2017-11-15 22:57:56.536 2017-11-15 22:59:26.592            495             10803234           10825747                         []                       []                            []                            []                     []                   []           0\n14  RNS_Test_Dataset_DeepLearning     HUP137  RNS_Example_DL         1511285530464000       1511285620632000 2017-11-21 17:32:10.464 2017-11-21 17:33:40.632            519             11343591           11366132                         []                       []                            []                            []                     []                   []           0\n15  RNS_Test_Dataset_DeepLearning     HUP137  RNS_Example_DL         1514317973536000       1514318063628000 2017-12-26 19:52:53.536 2017-12-26 19:54:23.628            635             13886370           13908892         [1514317984073769]       [1514318034188877]  [2017-12-26 19:53:04.073769]  [2017-12-26 19:53:54.188877]             [13889004]           [13901533]           1\n16  RNS_Test_Dataset_DeepLearning     HUP137  RNS_Example_DL         1538774534552000       1538774624608000 2018-10-05 21:22:14.552 2018-10-05 21:23:44.608           1650             36328794           36351307         [1538774563992886]       [1538774614032295]  [2018-10-05 21:22:43.992886]  [2018-10-05 21:23:34.032295]             [36336154]           [36348663]           1\n17  RNS_Test_Dataset_DeepLearning     HUP137  RNS_Example_DL         1540664243012000       1540664333128000 2018-10-27 18:17:23.012 2018-10-27 18:18:53.128           1736             38266084           38288612         [1540664259264747]       [1540664312187824]  [2018-10-27 18:17:39.264747]  [2018-10-27 18:18:32.187824]             [38270147]           [38283377]           1\n18  RNS_Test_Dataset_DeepLearning     HUP137  RNS_Example_DL         1545256591536000       1545256681576000 2018-12-19 21:56:31.536 2018-12-19 21:58:01.576           1894             41800649           41823158         [1545256619953582]       [1545256681576000]  [2018-12-19 21:56:59.953582]  [2018-12-19 21:58:01.576000]             [41807753]           [41823158]           1\n19  RNS_Test_Dataset_DeepLearning     HUP137  RNS_Example_DL         1548005703468000       1548005793620000 2019-01-20 17:35:03.468 2019-01-20 17:36:33.620           1983             43788510           43811047                         []                       []                            []                            []                     []                   []           0\n20  RNS_Test_Dataset_DeepLearning     HUP137  RNS_Example_DL         1550084226464000       1550084316632000 2019-02-13 18:57:06.464 2019-02-13 18:58:36.632           2054             45386761           45409302                         []                       []                            []                            []                     []                   []           0\n21  RNS_Test_Dataset_DeepLearning     HUP137  RNS_Example_DL         1551022375524000       1551022465604000 2019-02-24 15:32:55.524 2019-02-24 15:34:25.604           2092             46178484           46201003                         []                       []                            []                            []                     []                   []           0\n22  RNS_Test_Dataset_DeepLearning     HUP137  RNS_Example_DL         1575076915548000       1575077005584000 2019-11-30 01:21:55.548 2019-11-30 01:23:25.584           2796             61708056           61730564                         []                       []                            []                            []                     []                   []           0\n23  RNS_Test_Dataset_DeepLearning     HUP137  RNS_Example_DL         1575695310964000       1575695401132000 2019-12-07 05:08:30.964 2019-12-07 05:10:01.132           2815             62136035           62158576                         []                       []                            []                            []                     []                   []           0\n24  RNS_Test_Dataset_DeepLearning     HUP137  RNS_Example_DL         1576482194012000       1576482284128000 2019-12-16 07:43:14.012 2019-12-16 07:44:44.128           2841             62701470           62723998                         []                       []                            []                            []                     []                   []           0\n25  RNS_Test_Dataset_DeepLearning     HUP101  RNS_Example_DL         1549432955964000       1549433046132000 2019-02-06 06:02:35.964 2019-02-06 06:04:06.132              0                    0              22541                         []                       []                            []                            []                     []                   []           0\n26  RNS_Test_Dataset_DeepLearning     HUP101  RNS_Example_DL         1549476153964000       1549476244132000 2019-02-06 18:02:33.964 2019-02-06 18:04:04.132              1                22542              45083                         []                       []                            []                            []                     []                   []           0\n27  RNS_Test_Dataset_DeepLearning     HUP101  RNS_Example_DL         1557816572492000       1557816662628000 2019-05-14 06:49:32.492 2019-05-14 06:51:02.628             23               500049             522582                         []                       []                            []                            []                     []                   []           0\n28  RNS_Test_Dataset_DeepLearning     HUP101  RNS_Example_DL         1558896166964000       1558896257132000 2019-05-26 18:42:46.964 2019-05-26 18:44:17.132             24               522583             545124                         []                       []                            []                            []                     []                   []           0\n29  RNS_Test_Dataset_DeepLearning     HUP101  RNS_Example_DL         1566444327500000       1566444417604000 2019-08-22 03:25:27.500 2019-08-22 03:26:57.604             36               793035             815560         [1566444371437050]       [1566444404199639]  [2019-08-22 03:26:11.437050]  [2019-08-22 03:26:44.199639]               [804019]             [812209]           1\n30  RNS_Test_Dataset_DeepLearning     HUP101  RNS_Example_DL         1569306266964000       1569306357132000 2019-09-24 06:24:26.964 2019-09-24 06:25:57.132             42               928247             950788                         []                       []                            []                            []                     []                   []           0\n31  RNS_Test_Dataset_DeepLearning     HUP101  RNS_Example_DL         1596048628268000       1596048718344000 2020-07-29 18:50:28.268 2020-07-29 18:51:58.344            101              2173687            2196205         [1596048672509758]       [1596048718344000]  [2020-07-29 18:51:12.509758]  [2020-07-29 18:51:58.344000]              [2184747]            [2196205]           1\n32  RNS_Test_Dataset_DeepLearning     HUP101  RNS_Example_DL         1602266102076000       1602266172496000 2020-10-09 17:55:02.076 2020-10-09 17:56:12.496            106              2254561            2272165         [1602266127097977]       [1602266164592482]  [2020-10-09 17:55:27.097977]  [2020-10-09 17:56:04.592482]              [2260816]            [2270189]           1\n33  RNS_Test_Dataset_DeepLearning     HUP101  RNS_Example_DL         1606480477577000       1606480567601000 2020-11-27 12:34:37.577 2020-11-27 12:36:07.601            131              2805593            2828098                         []                       []                            []                            []                     []                   []           0\n34  RNS_Test_Dataset_DeepLearning     HUP101  RNS_Example_DL         1609936365801000       1609936455817000 2021-01-06 12:32:45.801 2021-01-06 12:34:15.817            138              2963201            2985704                         []                       []                            []                            []                     []                   []           0\n35  RNS_Test_Dataset_DeepLearning     HUP101  RNS_Example_DL         1611139386309000       1611139476377000 2021-01-20 10:43:06.309 2021-01-20 10:44:36.377            149              3167403            3189919         [1611139430006802]       [1611139444330977]  [2021-01-20 10:43:50.006802]  [2021-01-20 10:44:04.330977]              [3178327]            [3181908]           1\n36  RNS_Test_Dataset_DeepLearning     HUP101  RNS_Example_DL         1612974943914000       1612975033986000 2021-02-10 16:35:43.914 2021-02-10 16:37:13.986            157              3345239            3367751                         []                       []                            []                            []                     []                   []           0\n37  RNS_Test_Dataset_DeepLearning     HUP101  RNS_Example_DL         1617120308566000       1617120344050000 2021-03-30 16:05:08.566 2021-03-30 16:05:44.050            165              3498450            3507314                         []                       []                            []                            []                     []                   []           0\n38  RNS_Test_Dataset_DeepLearning     HUP101  RNS_Example_DL         1617120625925000       1617120692813000 2021-03-30 16:10:25.925 2021-03-30 16:11:32.813            167              3518801            3535517                         []                       []                            []                            []                     []                   []           0",
      "text/html": "<div>\n<style scoped>\n    .dataframe tbody tr th:only-of-type {\n        vertical-align: middle;\n    }\n\n    .dataframe tbody tr th {\n        vertical-align: top;\n    }\n\n    .dataframe thead th {\n        text-align: right;\n    }\n</style>\n<table border=\"1\" class=\"dataframe\">\n  <thead>\n    <tr style=\"text-align: right;\">\n      <th></th>\n      <th>Dataset</th>\n      <th>Patient_ID</th>\n      <th>Alias_ID</th>\n      <th>Episode_Start_Timestamp</th>\n      <th>Episode_End_Timestamp</th>\n      <th>Episode_Start_UTC_Time</th>\n      <th>Episode_End_UTC_Time</th>\n      <th>Episode_Index</th>\n      <th>Episode_Start_Index</th>\n      <th>Episode_End_Index</th>\n      <th>Annotation_Start_Timestamp</th>\n      <th>Annotation_End_Timestamp</th>\n      <th>Annotation_Start_UTC_Time</th>\n      <th>Annotation_End_UTC_Time</th>\n      <th>Annotation_Start_Index</th>\n      <th>Annotation_End_Index</th>\n      <th>Class_Code</th>\n    </tr>\n  </thead>\n  <tbody>\n    <tr>\n      <th>0</th>\n      <td>RNS_Test_Dataset_DeepLearning</td>\n      <td>HUP096</td>\n      <td>RNS_Example_DL</td>\n      <td>1427742903476000</td>\n      <td>1427742993628000</td>\n      <td>2015-03-30 19:15:03.476</td>\n      <td>2015-03-30 19:16:33.628</td>\n      <td>10</td>\n      <td>250781</td>\n      <td>273318</td>\n      <td>[]</td>\n      <td>[]</td>\n      <td>[]</td>\n      <td>[]</td>\n      <td>[]</td>\n      <td>[]</td>\n      <td>0</td>\n    </tr>\n    <tr>\n      <th>1</th>\n      <td>RNS_Test_Dataset_DeepLearning</td>\n      <td>HUP096</td>\n      <td>RNS_Example_DL</td>\n      <td>1442176442532000</td>\n      <td>1442176532616000</td>\n      <td>2015-09-13 20:34:02.532</td>\n      <td>2015-09-13 20:35:32.616</td>\n      <td>508</td>\n      <td>11181530</td>\n      <td>11204050</td>\n      <td>[1442176484602143]</td>\n      <td>[1442176503681280]</td>\n      <td>[2015-09-13 20:34:44.602143]</td>\n      <td>[2015-09-13 20:35:03.681280]</td>\n      <td>[11192047]</td>\n      <td>[11196817]</td>\n      <td>1</td>\n    </tr>\n    <tr>\n      <th>2</th>\n      <td>RNS_Test_Dataset_DeepLearning</td>\n      <td>HUP096</td>\n      <td>RNS_Example_DL</td>\n      <td>1446212334040000</td>\n      <td>1446212424128000</td>\n      <td>2015-10-30 13:38:54.040</td>\n      <td>2015-10-30 13:40:24.128</td>\n      <td>629</td>\n      <td>13870413</td>\n      <td>13892934</td>\n      <td>[1446212375851151]</td>\n      <td>[1446212394966259]</td>\n      <td>[2015-10-30 13:39:35.851151]</td>\n      <td>[2015-10-30 13:39:54.966259]</td>\n      <td>[13880865]</td>\n      <td>[13885644]</td>\n      <td>1</td>\n    </tr>\n    <tr>\n      <th>3</th>\n      <td>RNS_Test_Dataset_DeepLearning</td>\n      <td>HUP096</td>\n      <td>RNS_Example_DL</td>\n      <td>1449366435524000</td>\n      <td>1449366525608000</td>\n      <td>2015-12-06 01:47:15.524</td>\n      <td>2015-12-06 01:48:45.608</td>\n      <td>721</td>\n      <td>15909503</td>\n      <td>15932023</td>\n      <td>[1449366477065366]</td>\n      <td>[1449366499097740]</td>\n      <td>[2015-12-06 01:47:57.065366]</td>\n      <td>[2015-12-06 01:48:19.097740]</td>\n      <td>[15919888]</td>\n      <td>[15925396]</td>\n      <td>1</td>\n    </tr>\n    <tr>\n      <th>4</th>\n      <td>RNS_Test_Dataset_DeepLearning</td>\n      <td>HUP096</td>\n      <td>RNS_Example_DL</td>\n      <td>1449934755536000</td>\n      <td>1449934845628000</td>\n      <td>2015-12-12 15:39:15.536</td>\n      <td>2015-12-12 15:40:45.628</td>\n      <td>743</td>\n      <td>16390505</td>\n      <td>16413027</td>\n      <td>[1449934797422690]</td>\n      <td>[1449934815379524]</td>\n      <td>[2015-12-12 15:39:57.422690]</td>\n      <td>[2015-12-12 15:40:15.379524]</td>\n      <td>[16400976]</td>\n      <td>[16405465]</td>\n      <td>1</td>\n    </tr>\n    <tr>\n      <th>5</th>\n      <td>RNS_Test_Dataset_DeepLearning</td>\n      <td>HUP096</td>\n      <td>RNS_Example_DL</td>\n      <td>1455641459024000</td>\n      <td>1455641549116000</td>\n      <td>2016-02-16 16:50:59.024</td>\n      <td>2016-02-16 16:52:29.116</td>\n      <td>916</td>\n      <td>20226279</td>\n      <td>20248801</td>\n      <td>[1455641500632209]</td>\n      <td>[1455641524046388]</td>\n      <td>[2016-02-16 16:51:40.632209]</td>\n      <td>[2016-02-16 16:52:04.046388]</td>\n      <td>[20236681]</td>\n      <td>[20242534]</td>\n      <td>1</td>\n    </tr>\n    <tr>\n      <th>6</th>\n      <td>RNS_Test_Dataset_DeepLearning</td>\n      <td>HUP096</td>\n      <td>RNS_Example_DL</td>\n      <td>1455731984528000</td>\n      <td>1455732074628000</td>\n      <td>2016-02-17 17:59:44.528</td>\n      <td>2016-02-17 18:01:14.628</td>\n      <td>921</td>\n      <td>20338919</td>\n      <td>20361443</td>\n      <td>[1455732026202876]</td>\n      <td>[1455732043242286]</td>\n      <td>[2016-02-17 18:00:26.202876]</td>\n      <td>[2016-02-17 18:00:43.242286]</td>\n      <td>[20349337]</td>\n      <td>[20353597]</td>\n      <td>1</td>\n    </tr>\n    <tr>\n      <th>7</th>\n      <td>RNS_Test_Dataset_DeepLearning</td>\n      <td>HUP096</td>\n      <td>RNS_Example_DL</td>\n      <td>1461799060532000</td>\n      <td>1461799150616000</td>\n      <td>2016-04-27 23:17:40.532</td>\n      <td>2016-04-27 23:19:10.616</td>\n      <td>1105</td>\n      <td>24450741</td>\n      <td>24473261</td>\n      <td>[1461799101866975]</td>\n      <td>[1461799126694561]</td>\n      <td>[2016-04-27 23:18:21.866975]</td>\n      <td>[2016-04-27 23:18:46.694561]</td>\n      <td>[24461074]</td>\n      <td>[24467281]</td>\n      <td>1</td>\n    </tr>\n    <tr>\n      <th>8</th>\n      <td>RNS_Test_Dataset_DeepLearning</td>\n      <td>HUP096</td>\n      <td>RNS_Example_DL</td>\n      <td>1467873560512000</td>\n      <td>1467873650608000</td>\n      <td>2016-07-07 06:39:20.512</td>\n      <td>2016-07-07 06:40:50.608</td>\n      <td>1290</td>\n      <td>28581909</td>\n      <td>28604432</td>\n      <td>[]</td>\n      <td>[]</td>\n      <td>[]</td>\n      <td>[]</td>\n      <td>[]</td>\n      <td>[]</td>\n      <td>0</td>\n    </tr>\n    <tr>\n      <th>9</th>\n      <td>RNS_Test_Dataset_DeepLearning</td>\n      <td>HUP096</td>\n      <td>RNS_Example_DL</td>\n      <td>1469814899464000</td>\n      <td>1469814989632000</td>\n      <td>2016-07-29 17:54:59.464</td>\n      <td>2016-07-29 17:56:29.632</td>\n      <td>1350</td>\n      <td>29921013</td>\n      <td>29943554</td>\n      <td>[]</td>\n      <td>[]</td>\n      <td>[]</td>\n      <td>[]</td>\n      <td>[]</td>\n      <td>[]</td>\n      <td>0</td>\n    </tr>\n    <tr>\n      <th>10</th>\n      <td>RNS_Test_Dataset_DeepLearning</td>\n      <td>HUP096</td>\n      <td>RNS_Example_DL</td>\n      <td>1471934916516000</td>\n      <td>1471935006616000</td>\n      <td>2016-08-23 06:48:36.516</td>\n      <td>2016-08-23 06:50:06.616</td>\n      <td>1417</td>\n      <td>31428937</td>\n      <td>31451461</td>\n      <td>[]</td>\n      <td>[]</td>\n      <td>[]</td>\n      <td>[]</td>\n      <td>[]</td>\n      <td>[]</td>\n      <td>0</td>\n    </tr>\n    <tr>\n      <th>11</th>\n      <td>RNS_Test_Dataset_DeepLearning</td>\n      <td>HUP096</td>\n      <td>RNS_Example_DL</td>\n      <td>1514141698976000</td>\n      <td>1514141789132000</td>\n      <td>2017-12-24 18:54:58.976</td>\n      <td>2017-12-24 18:56:29.132</td>\n      <td>2688</td>\n      <td>59920193</td>\n      <td>59942731</td>\n      <td>[]</td>\n      <td>[]</td>\n      <td>[]</td>\n      <td>[]</td>\n      <td>[]</td>\n      <td>[]</td>\n      <td>0</td>\n    </tr>\n    <tr>\n      <th>12</th>\n      <td>RNS_Test_Dataset_DeepLearning</td>\n      <td>HUP137</td>\n      <td>RNS_Example_DL</td>\n      <td>1506762815028000</td>\n      <td>1506762905124000</td>\n      <td>2017-09-30 09:13:35.028</td>\n      <td>2017-09-30 09:15:05.124</td>\n      <td>313</td>\n      <td>6871039</td>\n      <td>6893562</td>\n      <td>[]</td>\n      <td>[]</td>\n      <td>[]</td>\n      <td>[]</td>\n      <td>[]</td>\n      <td>[]</td>\n      <td>0</td>\n    </tr>\n    <tr>\n      <th>13</th>\n      <td>RNS_Test_Dataset_DeepLearning</td>\n      <td>HUP137</td>\n      <td>RNS_Example_DL</td>\n      <td>1510786676536000</td>\n      <td>1510786766592000</td>\n      <td>2017-11-15 22:57:56.536</td>\n      <td>2017-11-15 22:59:26.592</td>\n      <td>495</td>\n      <td>10803234</td>\n      <td>10825747</td>\n      <td>[]</td>\n      <td>[]</td>\n      <td>[]</td>\n      <td>[]</td>\n      <td>[]</td>\n      <td>[]</td>\n      <td>0</td>\n    </tr>\n    <tr>\n      <th>14</th>\n      <td>RNS_Test_Dataset_DeepLearning</td>\n      <td>HUP137</td>\n      <td>RNS_Example_DL</td>\n      <td>1511285530464000</td>\n      <td>1511285620632000</td>\n      <td>2017-11-21 17:32:10.464</td>\n      <td>2017-11-21 17:33:40.632</td>\n      <td>519</td>\n      <td>11343591</td>\n      <td>11366132</td>\n      <td>[]</td>\n      <td>[]</td>\n      <td>[]</td>\n      <td>[]</td>\n      <td>[]</td>\n      <td>[]</td>\n      <td>0</td>\n    </tr>\n    <tr>\n      <th>15</th>\n      <td>RNS_Test_Dataset_DeepLearning</td>\n      <td>HUP137</td>\n      <td>RNS_Example_DL</td>\n      <td>1514317973536000</td>\n      <td>1514318063628000</td>\n      <td>2017-12-26 19:52:53.536</td>\n      <td>2017-12-26 19:54:23.628</td>\n      <td>635</td>\n      <td>13886370</td>\n      <td>13908892</td>\n      <td>[1514317984073769]</td>\n      <td>[1514318034188877]</td>\n      <td>[2017-12-26 19:53:04.073769]</td>\n      <td>[2017-12-26 19:53:54.188877]</td>\n      <td>[13889004]</td>\n      <td>[13901533]</td>\n      <td>1</td>\n    </tr>\n    <tr>\n      <th>16</th>\n      <td>RNS_Test_Dataset_DeepLearning</td>\n      <td>HUP137</td>\n      <td>RNS_Example_DL</td>\n      <td>1538774534552000</td>\n      <td>1538774624608000</td>\n      <td>2018-10-05 21:22:14.552</td>\n      <td>2018-10-05 21:23:44.608</td>\n      <td>1650</td>\n      <td>36328794</td>\n      <td>36351307</td>\n      <td>[1538774563992886]</td>\n      <td>[1538774614032295]</td>\n      <td>[2018-10-05 21:22:43.992886]</td>\n      <td>[2018-10-05 21:23:34.032295]</td>\n      <td>[36336154]</td>\n      <td>[36348663]</td>\n      <td>1</td>\n    </tr>\n    <tr>\n      <th>17</th>\n      <td>RNS_Test_Dataset_DeepLearning</td>\n      <td>HUP137</td>\n      <td>RNS_Example_DL</td>\n      <td>1540664243012000</td>\n      <td>1540664333128000</td>\n      <td>2018-10-27 18:17:23.012</td>\n      <td>2018-10-27 18:18:53.128</td>\n      <td>1736</td>\n      <td>38266084</td>\n      <td>38288612</td>\n      <td>[1540664259264747]</td>\n      <td>[1540664312187824]</td>\n      <td>[2018-10-27 18:17:39.264747]</td>\n      <td>[2018-10-27 18:18:32.187824]</td>\n      <td>[38270147]</td>\n      <td>[38283377]</td>\n      <td>1</td>\n    </tr>\n    <tr>\n      <th>18</th>\n      <td>RNS_Test_Dataset_DeepLearning</td>\n      <td>HUP137</td>\n      <td>RNS_Example_DL</td>\n      <td>1545256591536000</td>\n      <td>1545256681576000</td>\n      <td>2018-12-19 21:56:31.536</td>\n      <td>2018-12-19 21:58:01.576</td>\n      <td>1894</td>\n      <td>41800649</td>\n      <td>41823158</td>\n      <td>[1545256619953582]</td>\n      <td>[1545256681576000]</td>\n      <td>[2018-12-19 21:56:59.953582]</td>\n      <td>[2018-12-19 21:58:01.576000]</td>\n      <td>[41807753]</td>\n      <td>[41823158]</td>\n      <td>1</td>\n    </tr>\n    <tr>\n      <th>19</th>\n      <td>RNS_Test_Dataset_DeepLearning</td>\n      <td>HUP137</td>\n      <td>RNS_Example_DL</td>\n      <td>1548005703468000</td>\n      <td>1548005793620000</td>\n      <td>2019-01-20 17:35:03.468</td>\n      <td>2019-01-20 17:36:33.620</td>\n      <td>1983</td>\n      <td>43788510</td>\n      <td>43811047</td>\n      <td>[]</td>\n      <td>[]</td>\n      <td>[]</td>\n      <td>[]</td>\n      <td>[]</td>\n      <td>[]</td>\n      <td>0</td>\n    </tr>\n    <tr>\n      <th>20</th>\n      <td>RNS_Test_Dataset_DeepLearning</td>\n      <td>HUP137</td>\n      <td>RNS_Example_DL</td>\n      <td>1550084226464000</td>\n      <td>1550084316632000</td>\n      <td>2019-02-13 18:57:06.464</td>\n      <td>2019-02-13 18:58:36.632</td>\n      <td>2054</td>\n      <td>45386761</td>\n      <td>45409302</td>\n      <td>[]</td>\n      <td>[]</td>\n      <td>[]</td>\n      <td>[]</td>\n      <td>[]</td>\n      <td>[]</td>\n      <td>0</td>\n    </tr>\n    <tr>\n      <th>21</th>\n      <td>RNS_Test_Dataset_DeepLearning</td>\n      <td>HUP137</td>\n      <td>RNS_Example_DL</td>\n      <td>1551022375524000</td>\n      <td>1551022465604000</td>\n      <td>2019-02-24 15:32:55.524</td>\n      <td>2019-02-24 15:34:25.604</td>\n      <td>2092</td>\n      <td>46178484</td>\n      <td>46201003</td>\n      <td>[]</td>\n      <td>[]</td>\n      <td>[]</td>\n      <td>[]</td>\n      <td>[]</td>\n      <td>[]</td>\n      <td>0</td>\n    </tr>\n    <tr>\n      <th>22</th>\n      <td>RNS_Test_Dataset_DeepLearning</td>\n      <td>HUP137</td>\n      <td>RNS_Example_DL</td>\n      <td>1575076915548000</td>\n      <td>1575077005584000</td>\n      <td>2019-11-30 01:21:55.548</td>\n      <td>2019-11-30 01:23:25.584</td>\n      <td>2796</td>\n      <td>61708056</td>\n      <td>61730564</td>\n      <td>[]</td>\n      <td>[]</td>\n      <td>[]</td>\n      <td>[]</td>\n      <td>[]</td>\n      <td>[]</td>\n      <td>0</td>\n    </tr>\n    <tr>\n      <th>23</th>\n      <td>RNS_Test_Dataset_DeepLearning</td>\n      <td>HUP137</td>\n      <td>RNS_Example_DL</td>\n      <td>1575695310964000</td>\n      <td>1575695401132000</td>\n      <td>2019-12-07 05:08:30.964</td>\n      <td>2019-12-07 05:10:01.132</td>\n      <td>2815</td>\n      <td>62136035</td>\n      <td>62158576</td>\n      <td>[]</td>\n      <td>[]</td>\n      <td>[]</td>\n      <td>[]</td>\n      <td>[]</td>\n      <td>[]</td>\n      <td>0</td>\n    </tr>\n    <tr>\n      <th>24</th>\n      <td>RNS_Test_Dataset_DeepLearning</td>\n      <td>HUP137</td>\n      <td>RNS_Example_DL</td>\n      <td>1576482194012000</td>\n      <td>1576482284128000</td>\n      <td>2019-12-16 07:43:14.012</td>\n      <td>2019-12-16 07:44:44.128</td>\n      <td>2841</td>\n      <td>62701470</td>\n      <td>62723998</td>\n      <td>[]</td>\n      <td>[]</td>\n      <td>[]</td>\n      <td>[]</td>\n      <td>[]</td>\n      <td>[]</td>\n      <td>0</td>\n    </tr>\n    <tr>\n      <th>25</th>\n      <td>RNS_Test_Dataset_DeepLearning</td>\n      <td>HUP101</td>\n      <td>RNS_Example_DL</td>\n      <td>1549432955964000</td>\n      <td>1549433046132000</td>\n      <td>2019-02-06 06:02:35.964</td>\n      <td>2019-02-06 06:04:06.132</td>\n      <td>0</td>\n      <td>0</td>\n      <td>22541</td>\n      <td>[]</td>\n      <td>[]</td>\n      <td>[]</td>\n      <td>[]</td>\n      <td>[]</td>\n      <td>[]</td>\n      <td>0</td>\n    </tr>\n    <tr>\n      <th>26</th>\n      <td>RNS_Test_Dataset_DeepLearning</td>\n      <td>HUP101</td>\n      <td>RNS_Example_DL</td>\n      <td>1549476153964000</td>\n      <td>1549476244132000</td>\n      <td>2019-02-06 18:02:33.964</td>\n      <td>2019-02-06 18:04:04.132</td>\n      <td>1</td>\n      <td>22542</td>\n      <td>45083</td>\n      <td>[]</td>\n      <td>[]</td>\n      <td>[]</td>\n      <td>[]</td>\n      <td>[]</td>\n      <td>[]</td>\n      <td>0</td>\n    </tr>\n    <tr>\n      <th>27</th>\n      <td>RNS_Test_Dataset_DeepLearning</td>\n      <td>HUP101</td>\n      <td>RNS_Example_DL</td>\n      <td>1557816572492000</td>\n      <td>1557816662628000</td>\n      <td>2019-05-14 06:49:32.492</td>\n      <td>2019-05-14 06:51:02.628</td>\n      <td>23</td>\n      <td>500049</td>\n      <td>522582</td>\n      <td>[]</td>\n      <td>[]</td>\n      <td>[]</td>\n      <td>[]</td>\n      <td>[]</td>\n      <td>[]</td>\n      <td>0</td>\n    </tr>\n    <tr>\n      <th>28</th>\n      <td>RNS_Test_Dataset_DeepLearning</td>\n      <td>HUP101</td>\n      <td>RNS_Example_DL</td>\n      <td>1558896166964000</td>\n      <td>1558896257132000</td>\n      <td>2019-05-26 18:42:46.964</td>\n      <td>2019-05-26 18:44:17.132</td>\n      <td>24</td>\n      <td>522583</td>\n      <td>545124</td>\n      <td>[]</td>\n      <td>[]</td>\n      <td>[]</td>\n      <td>[]</td>\n      <td>[]</td>\n      <td>[]</td>\n      <td>0</td>\n    </tr>\n    <tr>\n      <th>29</th>\n      <td>RNS_Test_Dataset_DeepLearning</td>\n      <td>HUP101</td>\n      <td>RNS_Example_DL</td>\n      <td>1566444327500000</td>\n      <td>1566444417604000</td>\n      <td>2019-08-22 03:25:27.500</td>\n      <td>2019-08-22 03:26:57.604</td>\n      <td>36</td>\n      <td>793035</td>\n      <td>815560</td>\n      <td>[1566444371437050]</td>\n      <td>[1566444404199639]</td>\n      <td>[2019-08-22 03:26:11.437050]</td>\n      <td>[2019-08-22 03:26:44.199639]</td>\n      <td>[804019]</td>\n      <td>[812209]</td>\n      <td>1</td>\n    </tr>\n    <tr>\n      <th>30</th>\n      <td>RNS_Test_Dataset_DeepLearning</td>\n      <td>HUP101</td>\n      <td>RNS_Example_DL</td>\n      <td>1569306266964000</td>\n      <td>1569306357132000</td>\n      <td>2019-09-24 06:24:26.964</td>\n      <td>2019-09-24 06:25:57.132</td>\n      <td>42</td>\n      <td>928247</td>\n      <td>950788</td>\n      <td>[]</td>\n      <td>[]</td>\n      <td>[]</td>\n      <td>[]</td>\n      <td>[]</td>\n      <td>[]</td>\n      <td>0</td>\n    </tr>\n    <tr>\n      <th>31</th>\n      <td>RNS_Test_Dataset_DeepLearning</td>\n      <td>HUP101</td>\n      <td>RNS_Example_DL</td>\n      <td>1596048628268000</td>\n      <td>1596048718344000</td>\n      <td>2020-07-29 18:50:28.268</td>\n      <td>2020-07-29 18:51:58.344</td>\n      <td>101</td>\n      <td>2173687</td>\n      <td>2196205</td>\n      <td>[1596048672509758]</td>\n      <td>[1596048718344000]</td>\n      <td>[2020-07-29 18:51:12.509758]</td>\n      <td>[2020-07-29 18:51:58.344000]</td>\n      <td>[2184747]</td>\n      <td>[2196205]</td>\n      <td>1</td>\n    </tr>\n    <tr>\n      <th>32</th>\n      <td>RNS_Test_Dataset_DeepLearning</td>\n      <td>HUP101</td>\n      <td>RNS_Example_DL</td>\n      <td>1602266102076000</td>\n      <td>1602266172496000</td>\n      <td>2020-10-09 17:55:02.076</td>\n      <td>2020-10-09 17:56:12.496</td>\n      <td>106</td>\n      <td>2254561</td>\n      <td>2272165</td>\n      <td>[1602266127097977]</td>\n      <td>[1602266164592482]</td>\n      <td>[2020-10-09 17:55:27.097977]</td>\n      <td>[2020-10-09 17:56:04.592482]</td>\n      <td>[2260816]</td>\n      <td>[2270189]</td>\n      <td>1</td>\n    </tr>\n    <tr>\n      <th>33</th>\n      <td>RNS_Test_Dataset_DeepLearning</td>\n      <td>HUP101</td>\n      <td>RNS_Example_DL</td>\n      <td>1606480477577000</td>\n      <td>1606480567601000</td>\n      <td>2020-11-27 12:34:37.577</td>\n      <td>2020-11-27 12:36:07.601</td>\n      <td>131</td>\n      <td>2805593</td>\n      <td>2828098</td>\n      <td>[]</td>\n      <td>[]</td>\n      <td>[]</td>\n      <td>[]</td>\n      <td>[]</td>\n      <td>[]</td>\n      <td>0</td>\n    </tr>\n    <tr>\n      <th>34</th>\n      <td>RNS_Test_Dataset_DeepLearning</td>\n      <td>HUP101</td>\n      <td>RNS_Example_DL</td>\n      <td>1609936365801000</td>\n      <td>1609936455817000</td>\n      <td>2021-01-06 12:32:45.801</td>\n      <td>2021-01-06 12:34:15.817</td>\n      <td>138</td>\n      <td>2963201</td>\n      <td>2985704</td>\n      <td>[]</td>\n      <td>[]</td>\n      <td>[]</td>\n      <td>[]</td>\n      <td>[]</td>\n      <td>[]</td>\n      <td>0</td>\n    </tr>\n    <tr>\n      <th>35</th>\n      <td>RNS_Test_Dataset_DeepLearning</td>\n      <td>HUP101</td>\n      <td>RNS_Example_DL</td>\n      <td>1611139386309000</td>\n      <td>1611139476377000</td>\n      <td>2021-01-20 10:43:06.309</td>\n      <td>2021-01-20 10:44:36.377</td>\n      <td>149</td>\n      <td>3167403</td>\n      <td>3189919</td>\n      <td>[1611139430006802]</td>\n      <td>[1611139444330977]</td>\n      <td>[2021-01-20 10:43:50.006802]</td>\n      <td>[2021-01-20 10:44:04.330977]</td>\n      <td>[3178327]</td>\n      <td>[3181908]</td>\n      <td>1</td>\n    </tr>\n    <tr>\n      <th>36</th>\n      <td>RNS_Test_Dataset_DeepLearning</td>\n      <td>HUP101</td>\n      <td>RNS_Example_DL</td>\n      <td>1612974943914000</td>\n      <td>1612975033986000</td>\n      <td>2021-02-10 16:35:43.914</td>\n      <td>2021-02-10 16:37:13.986</td>\n      <td>157</td>\n      <td>3345239</td>\n      <td>3367751</td>\n      <td>[]</td>\n      <td>[]</td>\n      <td>[]</td>\n      <td>[]</td>\n      <td>[]</td>\n      <td>[]</td>\n      <td>0</td>\n    </tr>\n    <tr>\n      <th>37</th>\n      <td>RNS_Test_Dataset_DeepLearning</td>\n      <td>HUP101</td>\n      <td>RNS_Example_DL</td>\n      <td>1617120308566000</td>\n      <td>1617120344050000</td>\n      <td>2021-03-30 16:05:08.566</td>\n      <td>2021-03-30 16:05:44.050</td>\n      <td>165</td>\n      <td>3498450</td>\n      <td>3507314</td>\n      <td>[]</td>\n      <td>[]</td>\n      <td>[]</td>\n      <td>[]</td>\n      <td>[]</td>\n      <td>[]</td>\n      <td>0</td>\n    </tr>\n    <tr>\n      <th>38</th>\n      <td>RNS_Test_Dataset_DeepLearning</td>\n      <td>HUP101</td>\n      <td>RNS_Example_DL</td>\n      <td>1617120625925000</td>\n      <td>1617120692813000</td>\n      <td>2021-03-30 16:10:25.925</td>\n      <td>2021-03-30 16:11:32.813</td>\n      <td>167</td>\n      <td>3518801</td>\n      <td>3535517</td>\n      <td>[]</td>\n      <td>[]</td>\n      <td>[]</td>\n      <td>[]</td>\n      <td>[]</td>\n      <td>[]</td>\n      <td>0</td>\n    </tr>\n  </tbody>\n</table>\n</div>"
     },
     "execution_count": 333,
     "metadata": {},
     "output_type": "execute_result"
    }
   ],
   "source": [
    "machine_annot"
   ],
   "metadata": {
    "collapsed": false,
    "ExecuteTime": {
     "start_time": "2024-04-17T22:23:04.252193Z",
     "end_time": "2024-04-17T22:23:05.966196Z"
    }
   }
  },
  {
   "cell_type": "code",
   "execution_count": 334,
   "outputs": [],
   "source": [
    "for index, row in machine_annot.iterrows():\n",
    "    start_ind, end_ind = get_start_stop(pred_episode[index])\n",
    "    machine_annot.at[index, 'Annotation_Start_Index'] = (row.Episode_Start_Index + start_ind).tolist()\n",
    "    machine_annot.at[index, 'Annotation_End_Index'] = (row.Episode_Start_Index + end_ind).tolist()\n",
    "    machine_annot.at[index, 'Class_Code'] = np.sign(pred_episode[index].sum()).item()\n",
    "    machine_annot.at[index, 'Annotation_Start_Timestamp'] = [\n",
    "        interpolate_time(st_ind, row.Episode_Start_Index, row.Episode_End_Index, row.Episode_Start_Timestamp,\n",
    "                         row.Episode_End_Timestamp) for st_ind in (row.Episode_Start_Index + start_ind).tolist()]\n",
    "    machine_annot.at[index, 'Annotation_End_Timestamp'] = [\n",
    "        interpolate_time(ed_ind, row.Episode_Start_Index, row.Episode_End_Index, row.Episode_Start_Timestamp,\n",
    "                         row.Episode_End_Timestamp) for ed_ind in (row.Episode_Start_Index + end_ind).tolist()]\n",
    "    machine_annot.at[index, 'Annotation_Start_UTC_Time'] = [\n",
    "        timestamp_to_utctime(interpolate_time(st_ind, row.Episode_Start_Index, row.Episode_End_Index, row.Episode_Start_Timestamp,\n",
    "                         row.Episode_End_Timestamp)) for st_ind in (row.Episode_Start_Index + start_ind).tolist()]\n",
    "    machine_annot.at[index, 'Annotation_End_UTC_Time'] = [\n",
    "        timestamp_to_utctime(interpolate_time(ed_ind, row.Episode_Start_Index, row.Episode_End_Index, row.Episode_Start_Timestamp,\n",
    "                         row.Episode_End_Timestamp)) for ed_ind in (row.Episode_Start_Index + end_ind).tolist()]\n"
   ],
   "metadata": {
    "collapsed": false,
    "ExecuteTime": {
     "start_time": "2024-04-17T22:23:05.966196Z",
     "end_time": "2024-04-17T22:23:06.464193Z"
    }
   }
  },
  {
   "cell_type": "code",
   "execution_count": 285,
   "outputs": [
    {
     "data": {
      "text/plain": "275.0"
     },
     "execution_count": 285,
     "metadata": {},
     "output_type": "execute_result"
    }
   ],
   "source": [
    "1442176484602143-interpolate_time(11192047, 11181530, 11204050 ,1442176442532000, 1442176532616000)"
   ],
   "metadata": {
    "collapsed": false,
    "ExecuteTime": {
     "start_time": "2024-04-17T22:12:26.084116Z",
     "end_time": "2024-04-17T22:12:26.974115Z"
    }
   }
  },
  {
   "cell_type": "code",
   "execution_count": 283,
   "outputs": [
    {
     "data": {
      "text/plain": "                         Dataset  Annotation_Catalog_Index Patient_ID          Alias_ID  Episode_Start_Timestamp  Episode_End_Timestamp  Episode_Start_UTC_Time    Episode_End_UTC_Time  Episode_Index  Episode_Start_Index  Episode_End_Index Annotation_Start_Timestamp Annotation_End_Timestamp     Annotation_Start_UTC_Time       Annotation_End_UTC_Time Annotation_Start_Index Annotation_End_Index Type_Description  Class_Code Annotation_Channel Channel_Code Binary_Channel_Code\n59   RNS_Test_Dataset_ErinConrad                        59     HUP096  RNS_Example_1_EC         1427742903476000       1427742993628000 2015-03-30 19:15:03.476 2015-03-30 19:16:33.628             10               250781             273318                         []                       []                            []                            []                     []                   []               No           0                 []           []                  []\n60   RNS_Test_Dataset_ErinConrad                        60     HUP096  RNS_Example_1_EC         1442176442532000       1442176532616000 2015-09-13 20:34:02.532 2015-09-13 20:35:32.616            508             11181530           11204050         [1442176484602143]       [1442176503681280]  [2015-09-13 20:34:44.602143]  [2015-09-13 20:35:03.681280]             [11192047]           [11196817]              Yes           1          [1,2,3,4]       [1111]              [1111]\n61   RNS_Test_Dataset_ErinConrad                        61     HUP096  RNS_Example_1_EC         1446212334040000       1446212424128000 2015-10-30 13:38:54.040 2015-10-30 13:40:24.128            629             13870413           13892934         [1446212375851151]       [1446212394966259]  [2015-10-30 13:39:35.851151]  [2015-10-30 13:39:54.966259]             [13880865]           [13885644]              Yes           1          [1,2,3,4]       [1111]              [1111]\n62   RNS_Test_Dataset_ErinConrad                        62     HUP096  RNS_Example_1_EC         1449366435524000       1449366525608000 2015-12-06 01:47:15.524 2015-12-06 01:48:45.608            721             15909503           15932023         [1449366477065366]       [1449366499097740]  [2015-12-06 01:47:57.065366]  [2015-12-06 01:48:19.097740]             [15919888]           [15925396]              Yes           1          [1,2,3,4]       [1111]              [1111]\n63   RNS_Test_Dataset_ErinConrad                        63     HUP096  RNS_Example_1_EC         1449934755536000       1449934845628000 2015-12-12 15:39:15.536 2015-12-12 15:40:45.628            743             16390505           16413027         [1449934797422690]       [1449934815379524]  [2015-12-12 15:39:57.422690]  [2015-12-12 15:40:15.379524]             [16400976]           [16405465]              Yes           1          [1,2,3,4]       [1111]              [1111]\n64   RNS_Test_Dataset_ErinConrad                        64     HUP096  RNS_Example_1_EC         1455641459024000       1455641549116000 2016-02-16 16:50:59.024 2016-02-16 16:52:29.116            916             20226279           20248801         [1455641500632209]       [1455641524046388]  [2016-02-16 16:51:40.632209]  [2016-02-16 16:52:04.046388]             [20236681]           [20242534]              Yes           1          [1,2,3,4]       [1111]              [1111]\n65   RNS_Test_Dataset_ErinConrad                        65     HUP096  RNS_Example_1_EC         1455731984528000       1455732074628000 2016-02-17 17:59:44.528 2016-02-17 18:01:14.628            921             20338919           20361443         [1455732026202876]       [1455732043242286]  [2016-02-17 18:00:26.202876]  [2016-02-17 18:00:43.242286]             [20349337]           [20353597]              Yes           1          [1,2,3,4]       [1111]              [1111]\n66   RNS_Test_Dataset_ErinConrad                        66     HUP096  RNS_Example_1_EC         1461799060532000       1461799150616000 2016-04-27 23:17:40.532 2016-04-27 23:19:10.616           1105             24450741           24473261         [1461799101866975]       [1461799126694561]  [2016-04-27 23:18:21.866975]  [2016-04-27 23:18:46.694561]             [24461074]           [24467281]              Yes           1          [1,2,3,4]       [1111]              [1111]\n67   RNS_Test_Dataset_ErinConrad                        67     HUP096  RNS_Example_1_EC         1467873560512000       1467873650608000 2016-07-07 06:39:20.512 2016-07-07 06:40:50.608           1290             28581909           28604432                         []                       []                            []                            []                     []                   []               No           0                 []           []                  []\n68   RNS_Test_Dataset_ErinConrad                        68     HUP096  RNS_Example_1_EC         1469814899464000       1469814989632000 2016-07-29 17:54:59.464 2016-07-29 17:56:29.632           1350             29921013           29943554                         []                       []                            []                            []                     []                   []               No           0                 []           []                  []\n69   RNS_Test_Dataset_ErinConrad                        69     HUP096  RNS_Example_1_EC         1471934916516000       1471935006616000 2016-08-23 06:48:36.516 2016-08-23 06:50:06.616           1417             31428937           31451461                         []                       []                            []                            []                     []                   []               No           0                 []           []                  []\n74   RNS_Test_Dataset_ErinConrad                        74     HUP096  RNS_Example_1_EC         1514141698976000       1514141789132000 2017-12-24 18:54:58.976 2017-12-24 18:56:29.132           2688             59920193           59942731                         []                       []                            []                            []                     []                   []               No           0                 []           []                  []\n84   RNS_Test_Dataset_ErinConrad                        84     HUP137  RNS_Example_2_EC         1506762815028000       1506762905124000 2017-09-30 09:13:35.028 2017-09-30 09:15:05.124            313              6871039            6893562                         []                       []                            []                            []                     []                   []               No           0                 []           []                  []\n85   RNS_Test_Dataset_ErinConrad                        85     HUP137  RNS_Example_2_EC         1510786676536000       1510786766592000 2017-11-15 22:57:56.536 2017-11-15 22:59:26.592            495             10803234           10825747                         []                       []                            []                            []                     []                   []               No           0                 []           []                  []\n86   RNS_Test_Dataset_ErinConrad                        86     HUP137  RNS_Example_2_EC         1511285530464000       1511285620632000 2017-11-21 17:32:10.464 2017-11-21 17:33:40.632            519             11343591           11366132                         []                       []                            []                            []                     []                   []               No           0                 []           []                  []\n87   RNS_Test_Dataset_ErinConrad                        87     HUP137  RNS_Example_2_EC         1514317973536000       1514318063628000 2017-12-26 19:52:53.536 2017-12-26 19:54:23.628            635             13886370           13908892         [1514317984073769]       [1514318034188877]  [2017-12-26 19:53:04.073769]  [2017-12-26 19:53:54.188877]             [13889004]           [13901533]              Yes           1              [1,2]       [1100]              [1100]\n88   RNS_Test_Dataset_ErinConrad                        88     HUP137  RNS_Example_2_EC         1538774534552000       1538774624608000 2018-10-05 21:22:14.552 2018-10-05 21:23:44.608           1650             36328794           36351307         [1538774563992886]       [1538774614032295]  [2018-10-05 21:22:43.992886]  [2018-10-05 21:23:34.032295]             [36336154]           [36348663]              Yes           1              [1,2]       [1100]              [1100]\n89   RNS_Test_Dataset_ErinConrad                        89     HUP137  RNS_Example_2_EC         1540664243012000       1540664333128000 2018-10-27 18:17:23.012 2018-10-27 18:18:53.128           1736             38266084           38288612         [1540664259264747]       [1540664312187824]  [2018-10-27 18:17:39.264747]  [2018-10-27 18:18:32.187824]             [38270147]           [38283377]              Yes           1              [1,2]       [1100]              [1100]\n90   RNS_Test_Dataset_ErinConrad                        90     HUP137  RNS_Example_2_EC         1545256591536000       1545256681576000 2018-12-19 21:56:31.536 2018-12-19 21:58:01.576           1894             41800649           41823158         [1545256619953582]       [1545256681576000]  [2018-12-19 21:56:59.953582]  [2018-12-19 21:58:01.576000]             [41807753]           [41823158]              Yes           1              [1,2]       [1100]              [1100]\n91   RNS_Test_Dataset_ErinConrad                        91     HUP137  RNS_Example_2_EC         1548005703468000       1548005793620000 2019-01-20 17:35:03.468 2019-01-20 17:36:33.620           1983             43788510           43811047                         []                       []                            []                            []                     []                   []               No           0                 []           []                  []\n92   RNS_Test_Dataset_ErinConrad                        92     HUP137  RNS_Example_2_EC         1550084226464000       1550084316632000 2019-02-13 18:57:06.464 2019-02-13 18:58:36.632           2054             45386761           45409302                         []                       []                            []                            []                     []                   []               No           0                 []           []                  []\n93   RNS_Test_Dataset_ErinConrad                        93     HUP137  RNS_Example_2_EC         1551022375524000       1551022465604000 2019-02-24 15:32:55.524 2019-02-24 15:34:25.604           2092             46178484           46201003                         []                       []                            []                            []                     []                   []               No           0                 []           []                  []\n94   RNS_Test_Dataset_ErinConrad                        94     HUP137  RNS_Example_2_EC         1575076915548000       1575077005584000 2019-11-30 01:21:55.548 2019-11-30 01:23:25.584           2796             61708056           61730564                         []                       []                            []                            []                     []                   []               No           0                 []           []                  []\n95   RNS_Test_Dataset_ErinConrad                        95     HUP137  RNS_Example_2_EC         1575695310964000       1575695401132000 2019-12-07 05:08:30.964 2019-12-07 05:10:01.132           2815             62136035           62158576                         []                       []                            []                            []                     []                   []               No           0                 []           []                  []\n96   RNS_Test_Dataset_ErinConrad                        96     HUP137  RNS_Example_2_EC         1576482194012000       1576482284128000 2019-12-16 07:43:14.012 2019-12-16 07:44:44.128           2841             62701470           62723998                         []                       []                            []                            []                     []                   []               No           0                 []           []                  []\n101  RNS_Test_Dataset_ErinConrad                       101     HUP101  RNS_Example_3_EC         1549432955964000       1549433046132000 2019-02-06 06:02:35.964 2019-02-06 06:04:06.132              0                    0              22541                         []                       []                            []                            []                     []                   []               No           0                 []           []                  []\n102  RNS_Test_Dataset_ErinConrad                       102     HUP101  RNS_Example_3_EC         1549476153964000       1549476244132000 2019-02-06 18:02:33.964 2019-02-06 18:04:04.132              1                22542              45083                         []                       []                            []                            []                     []                   []               No           0                 []           []                  []\n103  RNS_Test_Dataset_ErinConrad                       103     HUP101  RNS_Example_3_EC         1557816572492000       1557816662628000 2019-05-14 06:49:32.492 2019-05-14 06:51:02.628             23               500049             522582                         []                       []                            []                            []                     []                   []               No           0                 []           []                  []\n104  RNS_Test_Dataset_ErinConrad                       104     HUP101  RNS_Example_3_EC         1558896166964000       1558896257132000 2019-05-26 18:42:46.964 2019-05-26 18:44:17.132             24               522583             545124                         []                       []                            []                            []                     []                   []               No           0                 []           []                  []\n105  RNS_Test_Dataset_ErinConrad                       105     HUP101  RNS_Example_3_EC         1566444327500000       1566444417604000 2019-08-22 03:25:27.500 2019-08-22 03:26:57.604             36               793035             815560         [1566444371437050]       [1566444404199639]  [2019-08-22 03:26:11.437050]  [2019-08-22 03:26:44.199639]               [804019]             [812209]              Yes           1                [2]       [0100]              [0100]\n106  RNS_Test_Dataset_ErinConrad                       106     HUP101  RNS_Example_3_EC         1569306266964000       1569306357132000 2019-09-24 06:24:26.964 2019-09-24 06:25:57.132             42               928247             950788                         []                       []                            []                            []                     []                   []               No           0                 []           []                  []\n107  RNS_Test_Dataset_ErinConrad                       107     HUP101  RNS_Example_3_EC         1596048628268000       1596048718344000 2020-07-29 18:50:28.268 2020-07-29 18:51:58.344            101              2173687            2196205         [1596048672509758]       [1596048718344000]  [2020-07-29 18:51:12.509758]  [2020-07-29 18:51:58.344000]              [2184747]            [2196205]              Yes           1              [1,2]       [1100]              [1100]\n108  RNS_Test_Dataset_ErinConrad                       108     HUP101  RNS_Example_3_EC         1602266102076000       1602266172496000 2020-10-09 17:55:02.076 2020-10-09 17:56:12.496            106              2254561            2272165         [1602266127097977]       [1602266164592482]  [2020-10-09 17:55:27.097977]  [2020-10-09 17:56:04.592482]              [2260816]            [2270189]              Yes           1              [1,2]       [1100]              [1100]\n109  RNS_Test_Dataset_ErinConrad                       109     HUP101  RNS_Example_3_EC         1606480477577000       1606480567601000 2020-11-27 12:34:37.577 2020-11-27 12:36:07.601            131              2805593            2828098                         []                       []                            []                            []                     []                   []               No           0                 []           []                  []\n110  RNS_Test_Dataset_ErinConrad                       110     HUP101  RNS_Example_3_EC         1609936365801000       1609936455817000 2021-01-06 12:32:45.801 2021-01-06 12:34:15.817            138              2963201            2985704                         []                       []                            []                            []                     []                   []               No           0                 []           []                  []\n111  RNS_Test_Dataset_ErinConrad                       111     HUP101  RNS_Example_3_EC         1611139386309000       1611139476377000 2021-01-20 10:43:06.309 2021-01-20 10:44:36.377            149              3167403            3189919         [1611139430006802]       [1611139444330977]  [2021-01-20 10:43:50.006802]  [2021-01-20 10:44:04.330977]              [3178327]            [3181908]              Yes           1                [2]       [0100]              [0100]\n112  RNS_Test_Dataset_ErinConrad                       112     HUP101  RNS_Example_3_EC         1612974943914000       1612975033986000 2021-02-10 16:35:43.914 2021-02-10 16:37:13.986            157              3345239            3367751                         []                       []                            []                            []                     []                   []               No           0                 []           []                  []\n113  RNS_Test_Dataset_ErinConrad                       113     HUP101  RNS_Example_3_EC         1617120308566000       1617120344050000 2021-03-30 16:05:08.566 2021-03-30 16:05:44.050            165              3498450            3507314                         []                       []                            []                            []                     []                   []               No           0                 []           []                  []\n114  RNS_Test_Dataset_ErinConrad                       114     HUP101  RNS_Example_3_EC         1617120625925000       1617120692813000 2021-03-30 16:10:25.925 2021-03-30 16:11:32.813            167              3518801            3535517                         []                       []                            []                            []                     []                   []               No           0                 []           []                  []",
      "text/html": "<div>\n<style scoped>\n    .dataframe tbody tr th:only-of-type {\n        vertical-align: middle;\n    }\n\n    .dataframe tbody tr th {\n        vertical-align: top;\n    }\n\n    .dataframe thead th {\n        text-align: right;\n    }\n</style>\n<table border=\"1\" class=\"dataframe\">\n  <thead>\n    <tr style=\"text-align: right;\">\n      <th></th>\n      <th>Dataset</th>\n      <th>Annotation_Catalog_Index</th>\n      <th>Patient_ID</th>\n      <th>Alias_ID</th>\n      <th>Episode_Start_Timestamp</th>\n      <th>Episode_End_Timestamp</th>\n      <th>Episode_Start_UTC_Time</th>\n      <th>Episode_End_UTC_Time</th>\n      <th>Episode_Index</th>\n      <th>Episode_Start_Index</th>\n      <th>Episode_End_Index</th>\n      <th>Annotation_Start_Timestamp</th>\n      <th>Annotation_End_Timestamp</th>\n      <th>Annotation_Start_UTC_Time</th>\n      <th>Annotation_End_UTC_Time</th>\n      <th>Annotation_Start_Index</th>\n      <th>Annotation_End_Index</th>\n      <th>Type_Description</th>\n      <th>Class_Code</th>\n      <th>Annotation_Channel</th>\n      <th>Channel_Code</th>\n      <th>Binary_Channel_Code</th>\n    </tr>\n  </thead>\n  <tbody>\n    <tr>\n      <th>59</th>\n      <td>RNS_Test_Dataset_ErinConrad</td>\n      <td>59</td>\n      <td>HUP096</td>\n      <td>RNS_Example_1_EC</td>\n      <td>1427742903476000</td>\n      <td>1427742993628000</td>\n      <td>2015-03-30 19:15:03.476</td>\n      <td>2015-03-30 19:16:33.628</td>\n      <td>10</td>\n      <td>250781</td>\n      <td>273318</td>\n      <td>[]</td>\n      <td>[]</td>\n      <td>[]</td>\n      <td>[]</td>\n      <td>[]</td>\n      <td>[]</td>\n      <td>No</td>\n      <td>0</td>\n      <td>[]</td>\n      <td>[]</td>\n      <td>[]</td>\n    </tr>\n    <tr>\n      <th>60</th>\n      <td>RNS_Test_Dataset_ErinConrad</td>\n      <td>60</td>\n      <td>HUP096</td>\n      <td>RNS_Example_1_EC</td>\n      <td>1442176442532000</td>\n      <td>1442176532616000</td>\n      <td>2015-09-13 20:34:02.532</td>\n      <td>2015-09-13 20:35:32.616</td>\n      <td>508</td>\n      <td>11181530</td>\n      <td>11204050</td>\n      <td>[1442176484602143]</td>\n      <td>[1442176503681280]</td>\n      <td>[2015-09-13 20:34:44.602143]</td>\n      <td>[2015-09-13 20:35:03.681280]</td>\n      <td>[11192047]</td>\n      <td>[11196817]</td>\n      <td>Yes</td>\n      <td>1</td>\n      <td>[1,2,3,4]</td>\n      <td>[1111]</td>\n      <td>[1111]</td>\n    </tr>\n    <tr>\n      <th>61</th>\n      <td>RNS_Test_Dataset_ErinConrad</td>\n      <td>61</td>\n      <td>HUP096</td>\n      <td>RNS_Example_1_EC</td>\n      <td>1446212334040000</td>\n      <td>1446212424128000</td>\n      <td>2015-10-30 13:38:54.040</td>\n      <td>2015-10-30 13:40:24.128</td>\n      <td>629</td>\n      <td>13870413</td>\n      <td>13892934</td>\n      <td>[1446212375851151]</td>\n      <td>[1446212394966259]</td>\n      <td>[2015-10-30 13:39:35.851151]</td>\n      <td>[2015-10-30 13:39:54.966259]</td>\n      <td>[13880865]</td>\n      <td>[13885644]</td>\n      <td>Yes</td>\n      <td>1</td>\n      <td>[1,2,3,4]</td>\n      <td>[1111]</td>\n      <td>[1111]</td>\n    </tr>\n    <tr>\n      <th>62</th>\n      <td>RNS_Test_Dataset_ErinConrad</td>\n      <td>62</td>\n      <td>HUP096</td>\n      <td>RNS_Example_1_EC</td>\n      <td>1449366435524000</td>\n      <td>1449366525608000</td>\n      <td>2015-12-06 01:47:15.524</td>\n      <td>2015-12-06 01:48:45.608</td>\n      <td>721</td>\n      <td>15909503</td>\n      <td>15932023</td>\n      <td>[1449366477065366]</td>\n      <td>[1449366499097740]</td>\n      <td>[2015-12-06 01:47:57.065366]</td>\n      <td>[2015-12-06 01:48:19.097740]</td>\n      <td>[15919888]</td>\n      <td>[15925396]</td>\n      <td>Yes</td>\n      <td>1</td>\n      <td>[1,2,3,4]</td>\n      <td>[1111]</td>\n      <td>[1111]</td>\n    </tr>\n    <tr>\n      <th>63</th>\n      <td>RNS_Test_Dataset_ErinConrad</td>\n      <td>63</td>\n      <td>HUP096</td>\n      <td>RNS_Example_1_EC</td>\n      <td>1449934755536000</td>\n      <td>1449934845628000</td>\n      <td>2015-12-12 15:39:15.536</td>\n      <td>2015-12-12 15:40:45.628</td>\n      <td>743</td>\n      <td>16390505</td>\n      <td>16413027</td>\n      <td>[1449934797422690]</td>\n      <td>[1449934815379524]</td>\n      <td>[2015-12-12 15:39:57.422690]</td>\n      <td>[2015-12-12 15:40:15.379524]</td>\n      <td>[16400976]</td>\n      <td>[16405465]</td>\n      <td>Yes</td>\n      <td>1</td>\n      <td>[1,2,3,4]</td>\n      <td>[1111]</td>\n      <td>[1111]</td>\n    </tr>\n    <tr>\n      <th>64</th>\n      <td>RNS_Test_Dataset_ErinConrad</td>\n      <td>64</td>\n      <td>HUP096</td>\n      <td>RNS_Example_1_EC</td>\n      <td>1455641459024000</td>\n      <td>1455641549116000</td>\n      <td>2016-02-16 16:50:59.024</td>\n      <td>2016-02-16 16:52:29.116</td>\n      <td>916</td>\n      <td>20226279</td>\n      <td>20248801</td>\n      <td>[1455641500632209]</td>\n      <td>[1455641524046388]</td>\n      <td>[2016-02-16 16:51:40.632209]</td>\n      <td>[2016-02-16 16:52:04.046388]</td>\n      <td>[20236681]</td>\n      <td>[20242534]</td>\n      <td>Yes</td>\n      <td>1</td>\n      <td>[1,2,3,4]</td>\n      <td>[1111]</td>\n      <td>[1111]</td>\n    </tr>\n    <tr>\n      <th>65</th>\n      <td>RNS_Test_Dataset_ErinConrad</td>\n      <td>65</td>\n      <td>HUP096</td>\n      <td>RNS_Example_1_EC</td>\n      <td>1455731984528000</td>\n      <td>1455732074628000</td>\n      <td>2016-02-17 17:59:44.528</td>\n      <td>2016-02-17 18:01:14.628</td>\n      <td>921</td>\n      <td>20338919</td>\n      <td>20361443</td>\n      <td>[1455732026202876]</td>\n      <td>[1455732043242286]</td>\n      <td>[2016-02-17 18:00:26.202876]</td>\n      <td>[2016-02-17 18:00:43.242286]</td>\n      <td>[20349337]</td>\n      <td>[20353597]</td>\n      <td>Yes</td>\n      <td>1</td>\n      <td>[1,2,3,4]</td>\n      <td>[1111]</td>\n      <td>[1111]</td>\n    </tr>\n    <tr>\n      <th>66</th>\n      <td>RNS_Test_Dataset_ErinConrad</td>\n      <td>66</td>\n      <td>HUP096</td>\n      <td>RNS_Example_1_EC</td>\n      <td>1461799060532000</td>\n      <td>1461799150616000</td>\n      <td>2016-04-27 23:17:40.532</td>\n      <td>2016-04-27 23:19:10.616</td>\n      <td>1105</td>\n      <td>24450741</td>\n      <td>24473261</td>\n      <td>[1461799101866975]</td>\n      <td>[1461799126694561]</td>\n      <td>[2016-04-27 23:18:21.866975]</td>\n      <td>[2016-04-27 23:18:46.694561]</td>\n      <td>[24461074]</td>\n      <td>[24467281]</td>\n      <td>Yes</td>\n      <td>1</td>\n      <td>[1,2,3,4]</td>\n      <td>[1111]</td>\n      <td>[1111]</td>\n    </tr>\n    <tr>\n      <th>67</th>\n      <td>RNS_Test_Dataset_ErinConrad</td>\n      <td>67</td>\n      <td>HUP096</td>\n      <td>RNS_Example_1_EC</td>\n      <td>1467873560512000</td>\n      <td>1467873650608000</td>\n      <td>2016-07-07 06:39:20.512</td>\n      <td>2016-07-07 06:40:50.608</td>\n      <td>1290</td>\n      <td>28581909</td>\n      <td>28604432</td>\n      <td>[]</td>\n      <td>[]</td>\n      <td>[]</td>\n      <td>[]</td>\n      <td>[]</td>\n      <td>[]</td>\n      <td>No</td>\n      <td>0</td>\n      <td>[]</td>\n      <td>[]</td>\n      <td>[]</td>\n    </tr>\n    <tr>\n      <th>68</th>\n      <td>RNS_Test_Dataset_ErinConrad</td>\n      <td>68</td>\n      <td>HUP096</td>\n      <td>RNS_Example_1_EC</td>\n      <td>1469814899464000</td>\n      <td>1469814989632000</td>\n      <td>2016-07-29 17:54:59.464</td>\n      <td>2016-07-29 17:56:29.632</td>\n      <td>1350</td>\n      <td>29921013</td>\n      <td>29943554</td>\n      <td>[]</td>\n      <td>[]</td>\n      <td>[]</td>\n      <td>[]</td>\n      <td>[]</td>\n      <td>[]</td>\n      <td>No</td>\n      <td>0</td>\n      <td>[]</td>\n      <td>[]</td>\n      <td>[]</td>\n    </tr>\n    <tr>\n      <th>69</th>\n      <td>RNS_Test_Dataset_ErinConrad</td>\n      <td>69</td>\n      <td>HUP096</td>\n      <td>RNS_Example_1_EC</td>\n      <td>1471934916516000</td>\n      <td>1471935006616000</td>\n      <td>2016-08-23 06:48:36.516</td>\n      <td>2016-08-23 06:50:06.616</td>\n      <td>1417</td>\n      <td>31428937</td>\n      <td>31451461</td>\n      <td>[]</td>\n      <td>[]</td>\n      <td>[]</td>\n      <td>[]</td>\n      <td>[]</td>\n      <td>[]</td>\n      <td>No</td>\n      <td>0</td>\n      <td>[]</td>\n      <td>[]</td>\n      <td>[]</td>\n    </tr>\n    <tr>\n      <th>74</th>\n      <td>RNS_Test_Dataset_ErinConrad</td>\n      <td>74</td>\n      <td>HUP096</td>\n      <td>RNS_Example_1_EC</td>\n      <td>1514141698976000</td>\n      <td>1514141789132000</td>\n      <td>2017-12-24 18:54:58.976</td>\n      <td>2017-12-24 18:56:29.132</td>\n      <td>2688</td>\n      <td>59920193</td>\n      <td>59942731</td>\n      <td>[]</td>\n      <td>[]</td>\n      <td>[]</td>\n      <td>[]</td>\n      <td>[]</td>\n      <td>[]</td>\n      <td>No</td>\n      <td>0</td>\n      <td>[]</td>\n      <td>[]</td>\n      <td>[]</td>\n    </tr>\n    <tr>\n      <th>84</th>\n      <td>RNS_Test_Dataset_ErinConrad</td>\n      <td>84</td>\n      <td>HUP137</td>\n      <td>RNS_Example_2_EC</td>\n      <td>1506762815028000</td>\n      <td>1506762905124000</td>\n      <td>2017-09-30 09:13:35.028</td>\n      <td>2017-09-30 09:15:05.124</td>\n      <td>313</td>\n      <td>6871039</td>\n      <td>6893562</td>\n      <td>[]</td>\n      <td>[]</td>\n      <td>[]</td>\n      <td>[]</td>\n      <td>[]</td>\n      <td>[]</td>\n      <td>No</td>\n      <td>0</td>\n      <td>[]</td>\n      <td>[]</td>\n      <td>[]</td>\n    </tr>\n    <tr>\n      <th>85</th>\n      <td>RNS_Test_Dataset_ErinConrad</td>\n      <td>85</td>\n      <td>HUP137</td>\n      <td>RNS_Example_2_EC</td>\n      <td>1510786676536000</td>\n      <td>1510786766592000</td>\n      <td>2017-11-15 22:57:56.536</td>\n      <td>2017-11-15 22:59:26.592</td>\n      <td>495</td>\n      <td>10803234</td>\n      <td>10825747</td>\n      <td>[]</td>\n      <td>[]</td>\n      <td>[]</td>\n      <td>[]</td>\n      <td>[]</td>\n      <td>[]</td>\n      <td>No</td>\n      <td>0</td>\n      <td>[]</td>\n      <td>[]</td>\n      <td>[]</td>\n    </tr>\n    <tr>\n      <th>86</th>\n      <td>RNS_Test_Dataset_ErinConrad</td>\n      <td>86</td>\n      <td>HUP137</td>\n      <td>RNS_Example_2_EC</td>\n      <td>1511285530464000</td>\n      <td>1511285620632000</td>\n      <td>2017-11-21 17:32:10.464</td>\n      <td>2017-11-21 17:33:40.632</td>\n      <td>519</td>\n      <td>11343591</td>\n      <td>11366132</td>\n      <td>[]</td>\n      <td>[]</td>\n      <td>[]</td>\n      <td>[]</td>\n      <td>[]</td>\n      <td>[]</td>\n      <td>No</td>\n      <td>0</td>\n      <td>[]</td>\n      <td>[]</td>\n      <td>[]</td>\n    </tr>\n    <tr>\n      <th>87</th>\n      <td>RNS_Test_Dataset_ErinConrad</td>\n      <td>87</td>\n      <td>HUP137</td>\n      <td>RNS_Example_2_EC</td>\n      <td>1514317973536000</td>\n      <td>1514318063628000</td>\n      <td>2017-12-26 19:52:53.536</td>\n      <td>2017-12-26 19:54:23.628</td>\n      <td>635</td>\n      <td>13886370</td>\n      <td>13908892</td>\n      <td>[1514317984073769]</td>\n      <td>[1514318034188877]</td>\n      <td>[2017-12-26 19:53:04.073769]</td>\n      <td>[2017-12-26 19:53:54.188877]</td>\n      <td>[13889004]</td>\n      <td>[13901533]</td>\n      <td>Yes</td>\n      <td>1</td>\n      <td>[1,2]</td>\n      <td>[1100]</td>\n      <td>[1100]</td>\n    </tr>\n    <tr>\n      <th>88</th>\n      <td>RNS_Test_Dataset_ErinConrad</td>\n      <td>88</td>\n      <td>HUP137</td>\n      <td>RNS_Example_2_EC</td>\n      <td>1538774534552000</td>\n      <td>1538774624608000</td>\n      <td>2018-10-05 21:22:14.552</td>\n      <td>2018-10-05 21:23:44.608</td>\n      <td>1650</td>\n      <td>36328794</td>\n      <td>36351307</td>\n      <td>[1538774563992886]</td>\n      <td>[1538774614032295]</td>\n      <td>[2018-10-05 21:22:43.992886]</td>\n      <td>[2018-10-05 21:23:34.032295]</td>\n      <td>[36336154]</td>\n      <td>[36348663]</td>\n      <td>Yes</td>\n      <td>1</td>\n      <td>[1,2]</td>\n      <td>[1100]</td>\n      <td>[1100]</td>\n    </tr>\n    <tr>\n      <th>89</th>\n      <td>RNS_Test_Dataset_ErinConrad</td>\n      <td>89</td>\n      <td>HUP137</td>\n      <td>RNS_Example_2_EC</td>\n      <td>1540664243012000</td>\n      <td>1540664333128000</td>\n      <td>2018-10-27 18:17:23.012</td>\n      <td>2018-10-27 18:18:53.128</td>\n      <td>1736</td>\n      <td>38266084</td>\n      <td>38288612</td>\n      <td>[1540664259264747]</td>\n      <td>[1540664312187824]</td>\n      <td>[2018-10-27 18:17:39.264747]</td>\n      <td>[2018-10-27 18:18:32.187824]</td>\n      <td>[38270147]</td>\n      <td>[38283377]</td>\n      <td>Yes</td>\n      <td>1</td>\n      <td>[1,2]</td>\n      <td>[1100]</td>\n      <td>[1100]</td>\n    </tr>\n    <tr>\n      <th>90</th>\n      <td>RNS_Test_Dataset_ErinConrad</td>\n      <td>90</td>\n      <td>HUP137</td>\n      <td>RNS_Example_2_EC</td>\n      <td>1545256591536000</td>\n      <td>1545256681576000</td>\n      <td>2018-12-19 21:56:31.536</td>\n      <td>2018-12-19 21:58:01.576</td>\n      <td>1894</td>\n      <td>41800649</td>\n      <td>41823158</td>\n      <td>[1545256619953582]</td>\n      <td>[1545256681576000]</td>\n      <td>[2018-12-19 21:56:59.953582]</td>\n      <td>[2018-12-19 21:58:01.576000]</td>\n      <td>[41807753]</td>\n      <td>[41823158]</td>\n      <td>Yes</td>\n      <td>1</td>\n      <td>[1,2]</td>\n      <td>[1100]</td>\n      <td>[1100]</td>\n    </tr>\n    <tr>\n      <th>91</th>\n      <td>RNS_Test_Dataset_ErinConrad</td>\n      <td>91</td>\n      <td>HUP137</td>\n      <td>RNS_Example_2_EC</td>\n      <td>1548005703468000</td>\n      <td>1548005793620000</td>\n      <td>2019-01-20 17:35:03.468</td>\n      <td>2019-01-20 17:36:33.620</td>\n      <td>1983</td>\n      <td>43788510</td>\n      <td>43811047</td>\n      <td>[]</td>\n      <td>[]</td>\n      <td>[]</td>\n      <td>[]</td>\n      <td>[]</td>\n      <td>[]</td>\n      <td>No</td>\n      <td>0</td>\n      <td>[]</td>\n      <td>[]</td>\n      <td>[]</td>\n    </tr>\n    <tr>\n      <th>92</th>\n      <td>RNS_Test_Dataset_ErinConrad</td>\n      <td>92</td>\n      <td>HUP137</td>\n      <td>RNS_Example_2_EC</td>\n      <td>1550084226464000</td>\n      <td>1550084316632000</td>\n      <td>2019-02-13 18:57:06.464</td>\n      <td>2019-02-13 18:58:36.632</td>\n      <td>2054</td>\n      <td>45386761</td>\n      <td>45409302</td>\n      <td>[]</td>\n      <td>[]</td>\n      <td>[]</td>\n      <td>[]</td>\n      <td>[]</td>\n      <td>[]</td>\n      <td>No</td>\n      <td>0</td>\n      <td>[]</td>\n      <td>[]</td>\n      <td>[]</td>\n    </tr>\n    <tr>\n      <th>93</th>\n      <td>RNS_Test_Dataset_ErinConrad</td>\n      <td>93</td>\n      <td>HUP137</td>\n      <td>RNS_Example_2_EC</td>\n      <td>1551022375524000</td>\n      <td>1551022465604000</td>\n      <td>2019-02-24 15:32:55.524</td>\n      <td>2019-02-24 15:34:25.604</td>\n      <td>2092</td>\n      <td>46178484</td>\n      <td>46201003</td>\n      <td>[]</td>\n      <td>[]</td>\n      <td>[]</td>\n      <td>[]</td>\n      <td>[]</td>\n      <td>[]</td>\n      <td>No</td>\n      <td>0</td>\n      <td>[]</td>\n      <td>[]</td>\n      <td>[]</td>\n    </tr>\n    <tr>\n      <th>94</th>\n      <td>RNS_Test_Dataset_ErinConrad</td>\n      <td>94</td>\n      <td>HUP137</td>\n      <td>RNS_Example_2_EC</td>\n      <td>1575076915548000</td>\n      <td>1575077005584000</td>\n      <td>2019-11-30 01:21:55.548</td>\n      <td>2019-11-30 01:23:25.584</td>\n      <td>2796</td>\n      <td>61708056</td>\n      <td>61730564</td>\n      <td>[]</td>\n      <td>[]</td>\n      <td>[]</td>\n      <td>[]</td>\n      <td>[]</td>\n      <td>[]</td>\n      <td>No</td>\n      <td>0</td>\n      <td>[]</td>\n      <td>[]</td>\n      <td>[]</td>\n    </tr>\n    <tr>\n      <th>95</th>\n      <td>RNS_Test_Dataset_ErinConrad</td>\n      <td>95</td>\n      <td>HUP137</td>\n      <td>RNS_Example_2_EC</td>\n      <td>1575695310964000</td>\n      <td>1575695401132000</td>\n      <td>2019-12-07 05:08:30.964</td>\n      <td>2019-12-07 05:10:01.132</td>\n      <td>2815</td>\n      <td>62136035</td>\n      <td>62158576</td>\n      <td>[]</td>\n      <td>[]</td>\n      <td>[]</td>\n      <td>[]</td>\n      <td>[]</td>\n      <td>[]</td>\n      <td>No</td>\n      <td>0</td>\n      <td>[]</td>\n      <td>[]</td>\n      <td>[]</td>\n    </tr>\n    <tr>\n      <th>96</th>\n      <td>RNS_Test_Dataset_ErinConrad</td>\n      <td>96</td>\n      <td>HUP137</td>\n      <td>RNS_Example_2_EC</td>\n      <td>1576482194012000</td>\n      <td>1576482284128000</td>\n      <td>2019-12-16 07:43:14.012</td>\n      <td>2019-12-16 07:44:44.128</td>\n      <td>2841</td>\n      <td>62701470</td>\n      <td>62723998</td>\n      <td>[]</td>\n      <td>[]</td>\n      <td>[]</td>\n      <td>[]</td>\n      <td>[]</td>\n      <td>[]</td>\n      <td>No</td>\n      <td>0</td>\n      <td>[]</td>\n      <td>[]</td>\n      <td>[]</td>\n    </tr>\n    <tr>\n      <th>101</th>\n      <td>RNS_Test_Dataset_ErinConrad</td>\n      <td>101</td>\n      <td>HUP101</td>\n      <td>RNS_Example_3_EC</td>\n      <td>1549432955964000</td>\n      <td>1549433046132000</td>\n      <td>2019-02-06 06:02:35.964</td>\n      <td>2019-02-06 06:04:06.132</td>\n      <td>0</td>\n      <td>0</td>\n      <td>22541</td>\n      <td>[]</td>\n      <td>[]</td>\n      <td>[]</td>\n      <td>[]</td>\n      <td>[]</td>\n      <td>[]</td>\n      <td>No</td>\n      <td>0</td>\n      <td>[]</td>\n      <td>[]</td>\n      <td>[]</td>\n    </tr>\n    <tr>\n      <th>102</th>\n      <td>RNS_Test_Dataset_ErinConrad</td>\n      <td>102</td>\n      <td>HUP101</td>\n      <td>RNS_Example_3_EC</td>\n      <td>1549476153964000</td>\n      <td>1549476244132000</td>\n      <td>2019-02-06 18:02:33.964</td>\n      <td>2019-02-06 18:04:04.132</td>\n      <td>1</td>\n      <td>22542</td>\n      <td>45083</td>\n      <td>[]</td>\n      <td>[]</td>\n      <td>[]</td>\n      <td>[]</td>\n      <td>[]</td>\n      <td>[]</td>\n      <td>No</td>\n      <td>0</td>\n      <td>[]</td>\n      <td>[]</td>\n      <td>[]</td>\n    </tr>\n    <tr>\n      <th>103</th>\n      <td>RNS_Test_Dataset_ErinConrad</td>\n      <td>103</td>\n      <td>HUP101</td>\n      <td>RNS_Example_3_EC</td>\n      <td>1557816572492000</td>\n      <td>1557816662628000</td>\n      <td>2019-05-14 06:49:32.492</td>\n      <td>2019-05-14 06:51:02.628</td>\n      <td>23</td>\n      <td>500049</td>\n      <td>522582</td>\n      <td>[]</td>\n      <td>[]</td>\n      <td>[]</td>\n      <td>[]</td>\n      <td>[]</td>\n      <td>[]</td>\n      <td>No</td>\n      <td>0</td>\n      <td>[]</td>\n      <td>[]</td>\n      <td>[]</td>\n    </tr>\n    <tr>\n      <th>104</th>\n      <td>RNS_Test_Dataset_ErinConrad</td>\n      <td>104</td>\n      <td>HUP101</td>\n      <td>RNS_Example_3_EC</td>\n      <td>1558896166964000</td>\n      <td>1558896257132000</td>\n      <td>2019-05-26 18:42:46.964</td>\n      <td>2019-05-26 18:44:17.132</td>\n      <td>24</td>\n      <td>522583</td>\n      <td>545124</td>\n      <td>[]</td>\n      <td>[]</td>\n      <td>[]</td>\n      <td>[]</td>\n      <td>[]</td>\n      <td>[]</td>\n      <td>No</td>\n      <td>0</td>\n      <td>[]</td>\n      <td>[]</td>\n      <td>[]</td>\n    </tr>\n    <tr>\n      <th>105</th>\n      <td>RNS_Test_Dataset_ErinConrad</td>\n      <td>105</td>\n      <td>HUP101</td>\n      <td>RNS_Example_3_EC</td>\n      <td>1566444327500000</td>\n      <td>1566444417604000</td>\n      <td>2019-08-22 03:25:27.500</td>\n      <td>2019-08-22 03:26:57.604</td>\n      <td>36</td>\n      <td>793035</td>\n      <td>815560</td>\n      <td>[1566444371437050]</td>\n      <td>[1566444404199639]</td>\n      <td>[2019-08-22 03:26:11.437050]</td>\n      <td>[2019-08-22 03:26:44.199639]</td>\n      <td>[804019]</td>\n      <td>[812209]</td>\n      <td>Yes</td>\n      <td>1</td>\n      <td>[2]</td>\n      <td>[0100]</td>\n      <td>[0100]</td>\n    </tr>\n    <tr>\n      <th>106</th>\n      <td>RNS_Test_Dataset_ErinConrad</td>\n      <td>106</td>\n      <td>HUP101</td>\n      <td>RNS_Example_3_EC</td>\n      <td>1569306266964000</td>\n      <td>1569306357132000</td>\n      <td>2019-09-24 06:24:26.964</td>\n      <td>2019-09-24 06:25:57.132</td>\n      <td>42</td>\n      <td>928247</td>\n      <td>950788</td>\n      <td>[]</td>\n      <td>[]</td>\n      <td>[]</td>\n      <td>[]</td>\n      <td>[]</td>\n      <td>[]</td>\n      <td>No</td>\n      <td>0</td>\n      <td>[]</td>\n      <td>[]</td>\n      <td>[]</td>\n    </tr>\n    <tr>\n      <th>107</th>\n      <td>RNS_Test_Dataset_ErinConrad</td>\n      <td>107</td>\n      <td>HUP101</td>\n      <td>RNS_Example_3_EC</td>\n      <td>1596048628268000</td>\n      <td>1596048718344000</td>\n      <td>2020-07-29 18:50:28.268</td>\n      <td>2020-07-29 18:51:58.344</td>\n      <td>101</td>\n      <td>2173687</td>\n      <td>2196205</td>\n      <td>[1596048672509758]</td>\n      <td>[1596048718344000]</td>\n      <td>[2020-07-29 18:51:12.509758]</td>\n      <td>[2020-07-29 18:51:58.344000]</td>\n      <td>[2184747]</td>\n      <td>[2196205]</td>\n      <td>Yes</td>\n      <td>1</td>\n      <td>[1,2]</td>\n      <td>[1100]</td>\n      <td>[1100]</td>\n    </tr>\n    <tr>\n      <th>108</th>\n      <td>RNS_Test_Dataset_ErinConrad</td>\n      <td>108</td>\n      <td>HUP101</td>\n      <td>RNS_Example_3_EC</td>\n      <td>1602266102076000</td>\n      <td>1602266172496000</td>\n      <td>2020-10-09 17:55:02.076</td>\n      <td>2020-10-09 17:56:12.496</td>\n      <td>106</td>\n      <td>2254561</td>\n      <td>2272165</td>\n      <td>[1602266127097977]</td>\n      <td>[1602266164592482]</td>\n      <td>[2020-10-09 17:55:27.097977]</td>\n      <td>[2020-10-09 17:56:04.592482]</td>\n      <td>[2260816]</td>\n      <td>[2270189]</td>\n      <td>Yes</td>\n      <td>1</td>\n      <td>[1,2]</td>\n      <td>[1100]</td>\n      <td>[1100]</td>\n    </tr>\n    <tr>\n      <th>109</th>\n      <td>RNS_Test_Dataset_ErinConrad</td>\n      <td>109</td>\n      <td>HUP101</td>\n      <td>RNS_Example_3_EC</td>\n      <td>1606480477577000</td>\n      <td>1606480567601000</td>\n      <td>2020-11-27 12:34:37.577</td>\n      <td>2020-11-27 12:36:07.601</td>\n      <td>131</td>\n      <td>2805593</td>\n      <td>2828098</td>\n      <td>[]</td>\n      <td>[]</td>\n      <td>[]</td>\n      <td>[]</td>\n      <td>[]</td>\n      <td>[]</td>\n      <td>No</td>\n      <td>0</td>\n      <td>[]</td>\n      <td>[]</td>\n      <td>[]</td>\n    </tr>\n    <tr>\n      <th>110</th>\n      <td>RNS_Test_Dataset_ErinConrad</td>\n      <td>110</td>\n      <td>HUP101</td>\n      <td>RNS_Example_3_EC</td>\n      <td>1609936365801000</td>\n      <td>1609936455817000</td>\n      <td>2021-01-06 12:32:45.801</td>\n      <td>2021-01-06 12:34:15.817</td>\n      <td>138</td>\n      <td>2963201</td>\n      <td>2985704</td>\n      <td>[]</td>\n      <td>[]</td>\n      <td>[]</td>\n      <td>[]</td>\n      <td>[]</td>\n      <td>[]</td>\n      <td>No</td>\n      <td>0</td>\n      <td>[]</td>\n      <td>[]</td>\n      <td>[]</td>\n    </tr>\n    <tr>\n      <th>111</th>\n      <td>RNS_Test_Dataset_ErinConrad</td>\n      <td>111</td>\n      <td>HUP101</td>\n      <td>RNS_Example_3_EC</td>\n      <td>1611139386309000</td>\n      <td>1611139476377000</td>\n      <td>2021-01-20 10:43:06.309</td>\n      <td>2021-01-20 10:44:36.377</td>\n      <td>149</td>\n      <td>3167403</td>\n      <td>3189919</td>\n      <td>[1611139430006802]</td>\n      <td>[1611139444330977]</td>\n      <td>[2021-01-20 10:43:50.006802]</td>\n      <td>[2021-01-20 10:44:04.330977]</td>\n      <td>[3178327]</td>\n      <td>[3181908]</td>\n      <td>Yes</td>\n      <td>1</td>\n      <td>[2]</td>\n      <td>[0100]</td>\n      <td>[0100]</td>\n    </tr>\n    <tr>\n      <th>112</th>\n      <td>RNS_Test_Dataset_ErinConrad</td>\n      <td>112</td>\n      <td>HUP101</td>\n      <td>RNS_Example_3_EC</td>\n      <td>1612974943914000</td>\n      <td>1612975033986000</td>\n      <td>2021-02-10 16:35:43.914</td>\n      <td>2021-02-10 16:37:13.986</td>\n      <td>157</td>\n      <td>3345239</td>\n      <td>3367751</td>\n      <td>[]</td>\n      <td>[]</td>\n      <td>[]</td>\n      <td>[]</td>\n      <td>[]</td>\n      <td>[]</td>\n      <td>No</td>\n      <td>0</td>\n      <td>[]</td>\n      <td>[]</td>\n      <td>[]</td>\n    </tr>\n    <tr>\n      <th>113</th>\n      <td>RNS_Test_Dataset_ErinConrad</td>\n      <td>113</td>\n      <td>HUP101</td>\n      <td>RNS_Example_3_EC</td>\n      <td>1617120308566000</td>\n      <td>1617120344050000</td>\n      <td>2021-03-30 16:05:08.566</td>\n      <td>2021-03-30 16:05:44.050</td>\n      <td>165</td>\n      <td>3498450</td>\n      <td>3507314</td>\n      <td>[]</td>\n      <td>[]</td>\n      <td>[]</td>\n      <td>[]</td>\n      <td>[]</td>\n      <td>[]</td>\n      <td>No</td>\n      <td>0</td>\n      <td>[]</td>\n      <td>[]</td>\n      <td>[]</td>\n    </tr>\n    <tr>\n      <th>114</th>\n      <td>RNS_Test_Dataset_ErinConrad</td>\n      <td>114</td>\n      <td>HUP101</td>\n      <td>RNS_Example_3_EC</td>\n      <td>1617120625925000</td>\n      <td>1617120692813000</td>\n      <td>2021-03-30 16:10:25.925</td>\n      <td>2021-03-30 16:11:32.813</td>\n      <td>167</td>\n      <td>3518801</td>\n      <td>3535517</td>\n      <td>[]</td>\n      <td>[]</td>\n      <td>[]</td>\n      <td>[]</td>\n      <td>[]</td>\n      <td>[]</td>\n      <td>No</td>\n      <td>0</td>\n      <td>[]</td>\n      <td>[]</td>\n      <td>[]</td>\n    </tr>\n  </tbody>\n</table>\n</div>"
     },
     "execution_count": 283,
     "metadata": {},
     "output_type": "execute_result"
    }
   ],
   "source": [
    "annotations.annotation_dict['RNS_Test_Dataset_ErinConrad']"
   ],
   "metadata": {
    "collapsed": false
   }
  },
  {
   "cell_type": "code",
   "execution_count": null,
   "outputs": [],
   "source": [
    "ind-start_ind/end_ind - start_ind = ind_ts-st_ts/endst-st_ts"
   ],
   "metadata": {
    "collapsed": false
   }
  },
  {
   "cell_type": "code",
   "execution_count": 335,
   "outputs": [],
   "source": [
    "machine_annot.to_csv('machineprediction.csv', index=True)"
   ],
   "metadata": {
    "collapsed": false,
    "ExecuteTime": {
     "start_time": "2024-04-17T22:25:15.895858Z",
     "end_time": "2024-04-17T22:25:16.516858Z"
    }
   }
  },
  {
   "cell_type": "code",
   "execution_count": null,
   "outputs": [],
   "source": [],
   "metadata": {
    "collapsed": false
   }
  }
 ],
 "metadata": {
  "kernelspec": {
   "display_name": "Python 3 (ipykernel)",
   "language": "python",
   "name": "python3"
  },
  "language_info": {
   "codemirror_mode": {
    "name": "ipython",
    "version": 3
   },
   "file_extension": ".py",
   "mimetype": "text/x-python",
   "name": "python",
   "nbconvert_exporter": "python",
   "pygments_lexer": "ipython3",
   "version": "3.10.5"
  }
 },
 "nbformat": 4,
 "nbformat_minor": 1
}
