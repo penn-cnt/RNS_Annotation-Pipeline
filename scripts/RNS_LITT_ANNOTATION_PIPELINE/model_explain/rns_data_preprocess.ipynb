{
 "cells": [
  {
   "cell_type": "code",
   "metadata": {
    "ExecuteTime": {
     "end_time": "2024-04-23T19:13:43.086495Z",
     "start_time": "2024-04-23T19:13:42.992495Z"
    }
   },
   "source": [
    "%load_ext autoreload\n",
    "%autoreload 2"
   ],
   "outputs": [],
   "execution_count": 1
  },
  {
   "cell_type": "code",
   "metadata": {
    "ExecuteTime": {
     "end_time": "2024-04-23T19:13:49.057493Z",
     "start_time": "2024-04-23T19:13:43.167495Z"
    }
   },
   "source": [
    "import numpy as np\n",
    "import random\n",
    "import sys\n",
    "\n",
    "sys.path.append('../tools')\n",
    "\n",
    "import os\n",
    "\n",
    "import torch\n",
    "\n",
    "import pandas as pd\n",
    "from sklearn.model_selection import train_test_split\n",
    "import pytorch_lightning as pl\n",
    "import pytorch_lightning.loggers as pl_loggers\n",
    "import pytorch_lightning.callbacks as pl_callbacks\n",
    "import data_utility, annotation_utility\n",
    "from models.rns_dataloader import *\n",
    "from active_learning_utility import get_strategy\n",
    "from active_learning_data import Data\n",
    "from active_learning_net import Net\n",
    "from copy import deepcopy\n",
    "from models.SwaV import SwaV\n",
    "from models.LSTMDownStream import SupervisedDownstream\n",
    "import warnings\n",
    "import pickle\n",
    "warnings.filterwarnings(\"ignore\")\n",
    "import matplotlib.pyplot as plt\n",
    "from matplotlib.collections import LineCollection\n"
   ],
   "outputs": [],
   "execution_count": 2
  },
  {
   "cell_type": "code",
   "metadata": {
    "ExecuteTime": {
     "end_time": "2024-04-23T19:13:49.438493Z",
     "start_time": "2024-04-23T19:13:49.058495Z"
    }
   },
   "source": [
    "random_seed = 42\n",
    "random.seed(random_seed)\n",
    "torch.manual_seed(random_seed)\n",
    "np.random.seed(random_seed)\n",
    "\n",
    "if torch.cuda.is_available():\n",
    "    torch.cuda.manual_seed(random_seed)\n",
    "    # True ensures the algorithm selected by CUFA is deterministic\n",
    "    torch.backends.cudnn.deterministic = True\n",
    "    # torch.set_deterministic(True)\n",
    "    # False ensures CUDA select the same algorithm each time the application is run\n",
    "    torch.backends.cudnn.benchmark = False\n",
    "\n",
    "import pytorch_lightning\n",
    "\n",
    "pytorch_lightning.utilities.seed.seed_everything(seed=random_seed, workers=True)"
   ],
   "outputs": [
    {
     "name": "stderr",
     "output_type": "stream",
     "text": [
      "Global seed set to 42\n"
     ]
    },
    {
     "data": {
      "text/plain": "42"
     },
     "execution_count": 3,
     "metadata": {},
     "output_type": "execute_result"
    }
   ],
   "execution_count": 3
  },
  {
   "cell_type": "code",
   "metadata": {
    "ExecuteTime": {
     "end_time": "2024-04-23T19:13:49.800493Z",
     "start_time": "2024-04-23T19:13:49.439495Z"
    }
   },
   "source": [
    "data_dir = \"../../../user_data/\"\n",
    "log_folder_root = '../../../user_data/logs/'\n",
    "ckpt_folder_root = '../../../user_data/checkpoints/'"
   ],
   "outputs": [],
   "execution_count": 4
  },
  {
   "cell_type": "code",
   "outputs": [],
   "source": [
    "strategy_name = 'EntropySampling'"
   ],
   "metadata": {
    "collapsed": false,
    "ExecuteTime": {
     "end_time": "2024-04-23T19:13:50.165493Z",
     "start_time": "2024-04-23T19:13:49.801496Z"
    }
   },
   "execution_count": 5
  },
  {
   "cell_type": "code",
   "outputs": [],
   "source": [
    "nStart = 1\n",
    "nEnd = 20\n",
    "nQuery = 2"
   ],
   "metadata": {
    "collapsed": false,
    "ExecuteTime": {
     "end_time": "2024-04-23T19:13:50.529493Z",
     "start_time": "2024-04-23T19:13:50.166494Z"
    }
   },
   "execution_count": 6
  },
  {
   "cell_type": "code",
   "metadata": {
    "ExecuteTime": {
     "end_time": "2024-04-23T19:13:50.894493Z",
     "start_time": "2024-04-23T19:13:50.530495Z"
    }
   },
   "source": [
    "args_task = {'n_epoch': 60,\n",
    "             'transform_train': True,\n",
    "             'strategy_name': strategy_name,\n",
    "             'transform': False,\n",
    "             'loader_tr_args': {'batch_size': 4, 'num_workers': 4, 'collate_fn': collate_fn,\n",
    "                                'drop_last': True, 'persistent_workers': True},\n",
    "             'loader_te_args': {'batch_size': 8, 'num_workers': 4, 'collate_fn': collate_fn,\n",
    "                                'drop_last': True, 'persistent_workers': True}\n",
    "             }"
   ],
   "outputs": [],
   "execution_count": 7
  },
  {
   "cell_type": "code",
   "metadata": {
    "ExecuteTime": {
     "end_time": "2024-04-23T19:13:51.257493Z",
     "start_time": "2024-04-23T19:13:50.895497Z"
    }
   },
   "source": [
    "# raw_annotations = pd.read_csv(data_dir + 'full_updated_anns_annotTbl_cleaned.csv')\n",
    "# ids = list(np.unique(raw_annotations[raw_annotations['descriptions'].notnull()]['HUP_ID']))\n",
    "# # ids = list(np.unique(raw_annotations['HUP_ID']))\n",
    "#\n",
    "# data_import = data_utility.read_files(path=data_dir+'rns_data', path_data=data_dir+'rns_raw_cache', patientIDs=ids,\n",
    "#                                       verbose=True)  # Import data with annotation"
   ],
   "outputs": [],
   "execution_count": 8
  },
  {
   "cell_type": "code",
   "metadata": {
    "ExecuteTime": {
     "end_time": "2024-04-23T19:13:56.595494Z",
     "start_time": "2024-04-23T19:13:51.258494Z"
    }
   },
   "source": [
    "# data_list = os.listdir(data_dir+'rns_test_cache')\n",
    "# print(data_list)\n",
    "data_list = ['HUP047.npy', 'HUP084.npy', 'HUP096.npy', 'HUP109.npy', 'HUP121.npy', 'HUP129.npy', 'HUP131.npy',\n",
    "             'HUP137.npy', 'HUP147.npy', 'HUP156.npy', 'HUP159.npy', 'HUP182.npy', 'HUP197.npy', 'HUP199.npy',\n",
    "             'RNS026.npy', 'RNS029.npy']\n",
    "# data_list = os.listdir(data_dir+'rns_test_cache')[1:]\n",
    "\n",
    "# data_list = ['HUP182.npy',   'HUP129.npy',   'HUP109.npy', 'HUP156.npy', 'HUP096.npy', 'RNS026.npy',  'HUP159.npy']\n",
    "# data_list = ['RNS026.npy', 'HUP159.npy', 'HUP129.npy', 'HUP096.npy', 'HUP182.npy']\n",
    "train_data, train_label, test_data, test_label, train_index, test_index = get_data_by_episode(data_list, split=0.8)\n",
    "# data, label,_,_ = get_data(data_list, split=1)\n",
    "# train_data, test_data, train_label, test_label = sklearn.model_selection.train_test_split(data, label, test_size=0.8, random_state=42)\n",
    "\n",
    "print(train_data.shape)\n",
    "print(train_label.shape)\n",
    "print(test_data.shape)\n",
    "print(test_label.shape)"
   ],
   "outputs": [
    {
     "name": "stderr",
     "output_type": "stream",
     "text": [
      "16it [00:04,  3.26it/s]"
     ]
    },
    {
     "name": "stdout",
     "output_type": "stream",
     "text": [
      "(992,)\n",
      "(992,)\n",
      "(270,)\n",
      "(270,)\n"
     ]
    },
    {
     "name": "stderr",
     "output_type": "stream",
     "text": [
      "\n"
     ]
    }
   ],
   "execution_count": 9
  },
  {
   "cell_type": "code",
   "metadata": {
    "ExecuteTime": {
     "end_time": "2024-04-23T19:13:58.337494Z",
     "start_time": "2024-04-23T19:13:56.596494Z"
    }
   },
   "source": [
    "X_train = np.concatenate(train_data)\n",
    "y_train = np.concatenate(train_label)\n",
    "X_test = np.concatenate(test_data)\n",
    "y_test = np.concatenate(test_label)\n",
    "index_train = np.concatenate(train_index)\n",
    "index_test = np.concatenate(test_index)\n",
    "seq_len_train = np.array([y.shape[0] for y in train_label])\n",
    "seq_len_test = np.array([y.shape[0] for y in test_label])"
   ],
   "outputs": [],
   "execution_count": 10
  },
  {
   "cell_type": "code",
   "metadata": {
    "ExecuteTime": {
     "end_time": "2024-04-23T19:13:58.701494Z",
     "start_time": "2024-04-23T19:13:58.339498Z"
    }
   },
   "source": [
    "n_pool = len(train_data)\n",
    "n_test = len(test_data)\n",
    "\n",
    "NUM_INIT_LB = int(nStart * n_pool / 100)\n",
    "NUM_QUERY = int(nQuery * n_pool / 100) if nStart != 100 else 0\n",
    "NUM_ROUND = int((int(nEnd * n_pool / 100) - NUM_INIT_LB) / NUM_QUERY) if nStart != 100 else 0\n",
    "if NUM_QUERY != 0:\n",
    "    if (int(nEnd * n_pool / 100) - NUM_INIT_LB) % NUM_QUERY != 0:\n",
    "        NUM_ROUND += 1\n",
    "\n",
    "print(NUM_INIT_LB)\n",
    "print(NUM_QUERY)\n",
    "print(NUM_ROUND)"
   ],
   "outputs": [
    {
     "name": "stdout",
     "output_type": "stream",
     "text": [
      "9\n",
      "19\n",
      "10\n"
     ]
    }
   ],
   "execution_count": 11
  },
  {
   "cell_type": "code",
   "metadata": {
    "ExecuteTime": {
     "end_time": "2024-04-23T19:13:58.717494Z",
     "start_time": "2024-04-23T19:13:58.702494Z"
    }
   },
   "source": [],
   "outputs": [],
   "execution_count": 11
  },
  {
   "cell_type": "code",
   "metadata": {
    "ExecuteTime": {
     "end_time": "2024-04-23T19:13:59.066494Z",
     "start_time": "2024-04-23T19:13:58.718495Z"
    }
   },
   "source": [
    "dataset = Data(X_train, y_train, X_test, y_test, seq_len_train, seq_len_test, RNS_Active_by_episode_LSTM, args_task)"
   ],
   "outputs": [],
   "execution_count": 12
  },
  {
   "cell_type": "code",
   "metadata": {
    "ExecuteTime": {
     "end_time": "2024-04-23T19:14:00.035494Z",
     "start_time": "2024-04-23T19:13:59.067496Z"
    }
   },
   "source": [
    "swav = SwaV().load_from_checkpoint(\n",
    "    ckpt_folder_root + 'rns_swav_50_12/rns_swav-epoch=82-swav_loss=2.58204.ckpt')\n",
    "model = SupervisedDownstream(swav.backbone)\n",
    "# initialize model and save the model state\n",
    "modelstate = deepcopy(model.state_dict())\n",
    "device = \"cuda\" if torch.cuda.is_available() else \"cpu\"\n",
    "\n",
    "net = Net(model, args_task, device, ckpt_folder_root='rns_active', log_folder_root='rns_active')"
   ],
   "outputs": [],
   "execution_count": 13
  },
  {
   "cell_type": "code",
   "metadata": {
    "ExecuteTime": {
     "end_time": "2024-04-23T19:14:00.431494Z",
     "start_time": "2024-04-23T19:14:00.036493Z"
    }
   },
   "source": [
    "strategy = get_strategy(strategy_name, dataset, net, None, args_task, rns_data=True)"
   ],
   "outputs": [],
   "execution_count": 14
  },
  {
   "cell_type": "code",
   "metadata": {
    "ExecuteTime": {
     "end_time": "2024-04-23T19:14:00.839495Z",
     "start_time": "2024-04-23T19:14:00.432494Z"
    }
   },
   "source": [
    "trainer = pl.Trainer(accelerator='gpu',\n",
    "                     devices=1,\n",
    "                     precision=16,)\n",
    "\n",
    "strategy.net.trainer = trainer"
   ],
   "outputs": [
    {
     "name": "stderr",
     "output_type": "stream",
     "text": [
      "Using 16bit native Automatic Mixed Precision (AMP)\n",
      "GPU available: True (cuda), used: True\n",
      "TPU available: False, using: 0 TPU cores\n",
      "IPU available: False, using: 0 IPUs\n",
      "HPU available: False, using: 0 HPUs\n"
     ]
    }
   ],
   "execution_count": 15
  },
  {
   "cell_type": "code",
   "metadata": {
    "ExecuteTime": {
     "end_time": "2024-04-23T19:15:53.343563Z",
     "start_time": "2024-04-23T19:14:00.840494Z"
    }
   },
   "source": [
    "import torch.nn as nn\n",
    "import sklearn\n",
    "for rd in range(10, NUM_ROUND + 1):\n",
    "    print('round ' + str(rd))\n",
    "    log_file_name = log_folder_root + 'rns_active/active_logs_' + strategy_name + '/logger_round_' + str(\n",
    "        rd) + '/version_0/metrics.csv'\n",
    "    logs = pd.read_csv(log_file_name)\n",
    "    max_ind = logs['val_acc'].argmax()\n",
    "    max_row = logs.iloc[max_ind]\n",
    "    ckpt_directory = ckpt_folder_root + 'rns_active/active_checkpoints_' + strategy_name\n",
    "    ckpt_files = os.listdir(ckpt_directory)\n",
    "    load_file_name = strategy_name + '_round_' + str(rd) + '-step=' + str(int(max_row['step']+1))\n",
    "    print(load_file_name)\n",
    "\n",
    "    ind = next((i for i, s in enumerate(ckpt_files) if load_file_name in s), None)\n",
    "    print(ind, ckpt_files[ind])\n",
    "    strategy.net.net = strategy.net.net.load_from_checkpoint(ckpt_directory + '/' + ckpt_files[ind], backbone=swav.backbone)\n",
    "\n",
    "    with open(log_folder_root + 'rns_active_selected/' + strategy_name + '/' + 'selected_indices.pkl', 'rb') as f:\n",
    "    # Load the content of the file into a Python object\n",
    "        selected_inds = pickle.load(f)\n",
    "    \n",
    "    # selected_ind_list = []\n",
    "    # for items in selected_inds.items():\n",
    "    #     selected_ind_list.append(np.array(items[1]))\n",
    "    q_idxs = np.array(selected_inds[rd])\n",
    "    \n",
    "    # with open(log_folder_root + 'rns_active_selected/' + strategy_name + '/' + 'selected_indices.pkl', 'wb') as f:\n",
    "    #     pickle.dump(selected_inds, f)\n",
    "# Now you can use the dictionary object as usual\n",
    "    strategy.update(q_idxs)\n",
    "    \n",
    "    _, unlabeled_data = strategy.dataset.get_train_data_unaugmented()\n",
    "    predictions = strategy.net.run_prediction(unlabeled_data)\n",
    "    output_list = []\n",
    "    seq_len_list = []\n",
    "    target_list = []\n",
    "    emb_list = []\n",
    "    m = nn.Softmax(dim=1)\n",
    "    for pred, y, emb, emb_t, seq_len in predictions:\n",
    "        output_list.append(pred)\n",
    "        seq_len_list.append(seq_len)\n",
    "        target_list.append(y)\n",
    "        emb_list.append(emb)\n",
    "\n",
    "    target = torch.concat(target_list)\n",
    "    emb = torch.vstack(emb_list)\n",
    "    pred_raw = torch.vstack(output_list).float()\n",
    "    seq_len_out = torch.tensor([item for sublist in seq_len_list for item in sublist])\n",
    "    probs = m(pred_raw)\n",
    "    out = torch.argmax(pred_raw, dim=1)\n",
    "    unlabeled_idxs, _ = strategy.dataset.get_unlabeled_data()\n",
    "    f1_score = sklearn.metrics.f1_score(target[unlabeled_idxs],out[unlabeled_idxs])\n",
    "\n",
    "    print(f1_score)\n",
    "\n",
    "#     strategy.net.round = rd\n",
    "#     strategy.net.net.load_state_dict(modelstate)\n",
    "#     torch.cuda.empty_cache()\n",
    "#     strategy.train()\n",
    "#     torch.cuda.empty_cache()"
   ],
   "outputs": [
    {
     "name": "stderr",
     "output_type": "stream",
     "text": [
      "Missing logger folder: C:\\Users\\Patrick Xu\\Desktop\\RNS_Annotation-Pipeline\\scripts\\RNS_LITT_ANNOTATION_PIPELINE\\model_explain\\lightning_logs\n"
     ]
    },
    {
     "name": "stdout",
     "output_type": "stream",
     "text": [
      "round 10\n",
      "EntropySampling_round_10-step=340\n",
      "28 EntropySampling_round_10-step=340-train_loss=0.02179.ckpt\n"
     ]
    },
    {
     "name": "stderr",
     "output_type": "stream",
     "text": [
      "LOCAL_RANK: 0 - CUDA_VISIBLE_DEVICES: [0]\n"
     ]
    },
    {
     "data": {
      "text/plain": "Predicting: 0it [00:00, ?it/s]",
      "application/vnd.jupyter.widget-view+json": {
       "version_major": 2,
       "version_minor": 0,
       "model_id": "ec96ee1ed64a4a7ea45c11798abdc8c3"
      }
     },
     "metadata": {},
     "output_type": "display_data"
    },
    {
     "name": "stdout",
     "output_type": "stream",
     "text": [
      "0.907883493249347\n"
     ]
    }
   ],
   "execution_count": 16
  },
  {
   "cell_type": "code",
   "outputs": [],
   "source": [
    "def get_continuous_data(data):\n",
    "    return np.vstack([data[:,:,4].flatten(),data[:,:,13].flatten(),data[:,:,22].flatten(),data[:,:,31].flatten()])"
   ],
   "metadata": {
    "collapsed": false,
    "ExecuteTime": {
     "end_time": "2024-04-23T19:15:53.724564Z",
     "start_time": "2024-04-23T19:15:53.344565Z"
    }
   },
   "execution_count": 17
  },
  {
   "cell_type": "code",
   "outputs": [],
   "source": [
    "def plot_high_light(label):\n",
    "    label_start = np.where(np.diff(label) == 1)[0]\n",
    "    label_end = np.where(np.diff(label) == -1)[0]\n",
    "    label_start, label_end = check_consistent(label_start,label_end, len(label))\n",
    "    return label_start, label_end\n",
    "\n",
    "def check_consistent(start, end, total_len):\n",
    "    if len(start) != len(end):\n",
    "        if len(start)>0:\n",
    "            end = [total_len]\n",
    "        elif len(end)>0:\n",
    "            start = [0]\n",
    "    return start, end"
   ],
   "metadata": {
    "collapsed": false,
    "ExecuteTime": {
     "end_time": "2024-04-23T19:15:54.087563Z",
     "start_time": "2024-04-23T19:15:53.725565Z"
    }
   },
   "execution_count": 18
  },
  {
   "cell_type": "code",
   "outputs": [],
   "source": [
    "def plot_data(data, label = None, dr=0.5):\n",
    "    n_samples, n_rows = data.shape[1], data.shape[0]\n",
    "    h, w = n_rows * 2.5, 15\n",
    "    y_tick_offsets = (np.arange(n_rows) * dr)[::-1] \n",
    "    plt.figure(figsize=(w, h))\n",
    "    ax = plt.axes()\n",
    "    eeg_data = data + y_tick_offsets[:, np.newaxis]\n",
    "    time_domain = np.repeat(np.arange(data.shape[1])[:,np.newaxis]/249,4,1)\n",
    "    plt.plot(time_domain, eeg_data.T, 'k', linewidth=0.5)\n",
    "    if label is not None:\n",
    "        label_start, label_end= plot_high_light(label)\n",
    "        if len(label_start)>0:\n",
    "            for i in range(len(label_start)):\n",
    "                print(label_start,label_end)\n",
    "                plt.axvspan(label_start[i], label_end[i], color=\"yellow\", alpha=0.3)\n",
    "    \n",
    "    plt.yticks(eeg_data.mean(1))\n",
    "    ax.set_yticklabels([\"Ch1\", \"Ch2\", \"Ch3\", \"Ch4\"])\n",
    "    plt.xlabel('Time (s)')\n",
    "    plt.show()"
   ],
   "metadata": {
    "collapsed": false,
    "ExecuteTime": {
     "end_time": "2024-04-23T19:15:54.448562Z",
     "start_time": "2024-04-23T19:15:54.088565Z"
    }
   },
   "execution_count": 19
  },
  {
   "cell_type": "code",
   "outputs": [],
   "source": [
    "def combine_window_to_episode(data, seq_len, index=None):\n",
    "    cum_sum_index = np.cumsum(seq_len)\n",
    "    cum_sum_index = np.insert(cum_sum_index, 0, 0)\n",
    "\n",
    "    assert len(data) == cum_sum_index[-1]\n",
    "\n",
    "    data_out = [None] * (len(cum_sum_index) - 1)\n",
    "\n",
    "    for i in range(1, len(cum_sum_index)):\n",
    "        start_index, end_index = cum_sum_index[i - 1], cum_sum_index[i]\n",
    "        episode_data = data[start_index:end_index]\n",
    "\n",
    "        if index is None:\n",
    "            out = episode_data\n",
    "        else:\n",
    "            episode_labeled = index[start_index:end_index]\n",
    "            out = episode_data[episode_labeled]\n",
    "\n",
    "        if len(out) > 0:\n",
    "            data_out[i - 1] = out\n",
    "\n",
    "    data_out = [segment for segment in data_out if segment is not None]\n",
    "\n",
    "    return np.array(data_out, dtype=object)"
   ],
   "metadata": {
    "collapsed": false,
    "ExecuteTime": {
     "end_time": "2024-04-23T19:15:54.810562Z",
     "start_time": "2024-04-23T19:15:54.449563Z"
    }
   },
   "execution_count": 20
  },
  {
   "cell_type": "code",
   "outputs": [],
   "source": [
    "def reconstruct_array(data):\n",
    "    fs = 249\n",
    "    center_ind = [4,13,22,31]\n",
    "    empty_reconstruct = np.zeros((int(data.shape[1]/fs),fs,36))\n",
    "    \n",
    "    for i, ci in enumerate(center_ind):\n",
    "        empty_reconstruct[:,:,ci] = data[i].reshape(-1,fs)\n",
    "        for j in [-1, -2, -3, -4]:\n",
    "            empty_reconstruct[:,:,ci+j] = np.vstack([empty_reconstruct[:,:,ci+j+1][0],empty_reconstruct[:,:,ci+j+1][:-1]])\n",
    "        for k in [1, 2, 3, 4]:\n",
    "            empty_reconstruct[:,:,ci+k] = np.vstack([empty_reconstruct[:,:,ci+k-1][1:], empty_reconstruct[:,:,ci+k-1][-1]])\n",
    "    return empty_reconstruct\n",
    "\n",
    "                                          "
   ],
   "metadata": {
    "collapsed": false,
    "ExecuteTime": {
     "end_time": "2024-04-23T19:15:55.220562Z",
     "start_time": "2024-04-23T19:15:54.811566Z"
    }
   },
   "execution_count": 21
  },
  {
   "cell_type": "code",
   "outputs": [],
   "source": [
    "import skimage\n",
    "\n",
    "def to_rgb(data):\n",
    "    return skimage.color.gray2rgb(data)\n",
    "def to_gray(data):\n",
    "    return skimage.color.rgb2gray(data)"
   ],
   "metadata": {
    "collapsed": false,
    "ExecuteTime": {
     "end_time": "2024-04-23T19:15:55.648563Z",
     "start_time": "2024-04-23T19:15:55.221564Z"
    }
   },
   "execution_count": 22
  },
  {
   "cell_type": "code",
   "outputs": [
    {
     "data": {
      "text/plain": "<Figure size 648x432 with 1 Axes>",
      "image/png": "[encoded data removed]"
     },
     "metadata": {
      "needs_background": "light"
     },
     "output_type": "display_data"
    }
   ],
   "source": [
    "def superpixel(image, size=(1, 249)):\n",
    "    segments = np.zeros([image.shape[0], image.shape[1]])\n",
    "    row_idx, col_idx = np.where(segments == 0)\n",
    "    for i, j in zip(row_idx, col_idx):\n",
    "        segments[i, j] = int((image.shape[1]/size[1]) * (i//size[0]) + j//size[1])\n",
    "    return segments\n",
    "\n",
    "super_pixel_segments = superpixel(to_rgb(get_continuous_data(train_data[-4])))\n",
    "plt.figure(figsize=(9, 6))\n",
    "plt.imshow(super_pixel_segments,interpolation='nearest',aspect='auto', cmap='plasma')\n",
    "plt.show()"
   ],
   "metadata": {
    "collapsed": false,
    "ExecuteTime": {
     "end_time": "2024-04-23T19:15:56.298563Z",
     "start_time": "2024-04-23T19:15:55.650563Z"
    }
   },
   "execution_count": 23
  },
  {
   "cell_type": "code",
   "outputs": [
    {
     "data": {
      "text/plain": "array([[  0.,   0.,   0., ...,  89.,  89.,  89.],\n       [ 90.,  90.,  90., ..., 179., 179., 179.],\n       [180., 180., 180., ..., 269., 269., 269.],\n       [270., 270., 270., ..., 359., 359., 359.]])"
     },
     "execution_count": 24,
     "metadata": {},
     "output_type": "execute_result"
    }
   ],
   "source": [
    "super_pixel_segments"
   ],
   "metadata": {
    "collapsed": false,
    "ExecuteTime": {
     "end_time": "2024-04-23T19:15:56.676563Z",
     "start_time": "2024-04-23T19:15:56.299563Z"
    }
   },
   "execution_count": 24
  },
  {
   "cell_type": "code",
   "outputs": [],
   "source": [
    "train_data = unlabeled_data.data\n",
    "train_label = unlabeled_data.label\n",
    "pred_label = combine_window_to_episode(out,seq_len_out)"
   ],
   "metadata": {
    "collapsed": false,
    "ExecuteTime": {
     "end_time": "2024-04-23T19:15:57.386562Z",
     "start_time": "2024-04-23T19:15:56.677564Z"
    }
   },
   "execution_count": 25
  },
  {
   "cell_type": "code",
   "outputs": [
    {
     "data": {
      "text/plain": "<Figure size 1080x720 with 2 Axes>",
      "image/png": "[encoded data removed]"
     },
     "metadata": {
      "needs_background": "light"
     },
     "output_type": "display_data"
    }
   ],
   "source": [
    "data = get_continuous_data(train_data[-4])\n",
    "n_samples, n_rows = data.shape[1], data.shape[0]\n",
    "h, w = n_rows * 2.5, 15\n",
    "dr = 1.5  # Define dr if it's not defined\n",
    "y_tick_offsets = (np.arange(n_rows) * dr)[::-1] \n",
    "fig, ax = plt.subplots(figsize=(w, h))\n",
    "eeg_data = data + y_tick_offsets[:, np.newaxis]\n",
    "time_domain = np.repeat(np.arange(data.shape[1])[:, np.newaxis] / 249, 4, 1)\n",
    "\n",
    "# Assume 'super_pixel_segments' and 'x' are predefined arrays\n",
    "segs = [np.column_stack([time_domain.T[super_pixel_segments == i], eeg_data[super_pixel_segments == i]]) for i in range(int(super_pixel_segments.max()))]\n",
    "line_segments = LineCollection(segs, array=np.arange(int(super_pixel_segments.max())), linewidths=(0.5, 1, 1.5, 2), cmap='Spectral', linestyles='solid')\n",
    "ax.add_collection(line_segments)\n",
    "ax.autoscale()\n",
    "ax.margins(0.1)\n",
    "ax.set_yticks(eeg_data.mean(axis=1))\n",
    "ax.set_yticklabels([\"Ch1\", \"Ch2\", \"Ch3\", \"Ch4\"])\n",
    "ax.set_xlabel('Time (s)')\n",
    "\n",
    "# If label is defined and needed for highlighting specific regions\n",
    "# if label is not None:\n",
    "#     label_start, label_end = plot_high_light(label)\n",
    "#     if len(label_start) > 0:\n",
    "#         for i in range(len(label_start)):\n",
    "#             ax.axvspan(label_start[i], label_end[i], color=\"yellow\", alpha=0.3)\n",
    "\n",
    "plt.colorbar(line_segments, ax=ax, orientation='vertical', label='Color scale')\n",
    "plt.show()"
   ],
   "metadata": {
    "collapsed": false,
    "ExecuteTime": {
     "end_time": "2024-04-23T19:15:57.892562Z",
     "start_time": "2024-04-23T19:15:57.387565Z"
    }
   },
   "execution_count": 26
  },
  {
   "cell_type": "code",
   "outputs": [],
   "source": [],
   "metadata": {
    "collapsed": false,
    "ExecuteTime": {
     "end_time": "2024-04-23T19:15:57.908563Z",
     "start_time": "2024-04-23T19:15:57.893564Z"
    }
   },
   "execution_count": 26
  },
  {
   "cell_type": "code",
   "outputs": [
    {
     "name": "stdout",
     "output_type": "stream",
     "text": [
      "[33] [89]\n"
     ]
    },
    {
     "data": {
      "text/plain": "<Figure size 1080x720 with 1 Axes>",
      "image/png": "[encoded data removed]"
     },
     "metadata": {
      "needs_background": "light"
     },
     "output_type": "display_data"
    }
   ],
   "source": [
    "sample_id = -6\n",
    "plot_data(get_continuous_data(train_data[sample_id]),train_label[sample_id])"
   ],
   "metadata": {
    "collapsed": false,
    "ExecuteTime": {
     "end_time": "2024-04-23T19:15:58.400564Z",
     "start_time": "2024-04-23T19:15:57.911563Z"
    }
   },
   "execution_count": 27
  },
  {
   "cell_type": "code",
   "outputs": [
    {
     "data": {
      "text/plain": "(89, 249, 36)"
     },
     "execution_count": 28,
     "metadata": {},
     "output_type": "execute_result"
    }
   ],
   "source": [
    "train_data[sample_id].shape"
   ],
   "metadata": {
    "collapsed": false,
    "ExecuteTime": {
     "end_time": "2024-04-23T19:15:58.762566Z",
     "start_time": "2024-04-23T19:15:58.401563Z"
    }
   },
   "execution_count": 28
  },
  {
   "cell_type": "code",
   "outputs": [
    {
     "data": {
      "text/plain": "array([0., 0., 0., 0., 0., 0., 0., 0., 0., 0., 0., 0., 0., 0., 0., 0., 0.,\n       0., 0., 0., 0., 0., 0., 0., 0., 0., 0., 0., 0., 0., 0., 0., 0., 0.,\n       1., 1., 1., 1., 1., 1., 1., 1., 1., 1., 1., 1., 1., 1., 1., 1., 1.,\n       1., 1., 1., 1., 1., 1., 1., 1., 1., 1., 1., 1., 1., 1., 1., 1., 1.,\n       1., 1., 1., 1., 1., 1., 1., 1., 1., 1., 1., 1., 1., 1., 1., 1., 1.,\n       1., 1., 1., 1.])"
     },
     "execution_count": 29,
     "metadata": {},
     "output_type": "execute_result"
    }
   ],
   "source": [
    "train_label[sample_id]"
   ],
   "metadata": {
    "collapsed": false,
    "ExecuteTime": {
     "end_time": "2024-04-23T19:15:59.125563Z",
     "start_time": "2024-04-23T19:15:58.763564Z"
    }
   },
   "execution_count": 29
  },
  {
   "cell_type": "code",
   "outputs": [],
   "source": [
    "def process(data_arr):\n",
    "    data_arr = reconstruct_array(to_gray(data_arr))\n",
    "    data_arr_out = []\n",
    "    totensor = T.Compose([\n",
    "                T.ToPILImage(),\n",
    "                T.Resize((256, 256), interpolation=T.InterpolationMode.NEAREST),\n",
    "                T.ToTensor()\n",
    "            ])\n",
    "    concat_len = data_arr[0].shape[1] / 4\n",
    "    channel_index = np.arange(4)\n",
    "    channel_index = channel_index * concat_len + (concat_len - 1) / 2\n",
    "    channel_index = np.repeat(channel_index, concat_len)\n",
    "    concate_len_1 = (concat_len - 1) / 2\n",
    "    a_repeat = np.arange(-concate_len_1, concate_len_1 + 1)[np.newaxis].T\n",
    "    base_repeat = np.repeat(a_repeat, 4, axis=1).T.flatten()\n",
    "    channel_index = channel_index + base_repeat\n",
    "    \n",
    "    for i, data in enumerate(data_arr):\n",
    "        data = data[channel_index.astype(int)]\n",
    "        data = torch.from_numpy(data).clone()\n",
    "        data = data.repeat(3, 1, 1)\n",
    "        data = totensor(data)\n",
    "        data_arr_out.append(data)\n",
    "    \n",
    "    data_arr_out = torch.stack(data_arr_out)\n",
    "    return data_arr_out"
   ],
   "metadata": {
    "collapsed": false,
    "ExecuteTime": {
     "end_time": "2024-04-23T19:15:59.505563Z",
     "start_time": "2024-04-23T19:15:59.126563Z"
    }
   },
   "execution_count": 30
  },
  {
   "cell_type": "code",
   "outputs": [],
   "source": [
    "import torch.nn.functional as F\n",
    "def batch_predict(images, index = (0,90)):\n",
    "    \n",
    "    start_index, end_index = index[0],index[1]\n",
    "    strategy.net.net.eval()\n",
    "\n",
    "    device = torch.device(\"cuda\" if torch.cuda.is_available() else \"cpu\")\n",
    "    strategy.net.net.backbone.to(device)\n",
    "    strategy.net.net.to(device)\n",
    "    strategy.net.net.set_requires_grad(strategy.net.net.backbone, False)\n",
    "    \n",
    "    dataset = torch.utils.data.TensorDataset(torch.tensor(images), torch.zeros(len(images)))\n",
    "    loader = torch.utils.data.DataLoader(dataset, batch_size=8, shuffle=False)\n",
    "    \n",
    "    with torch.no_grad():\n",
    "        probs_list = []\n",
    "        for i, (sample, _) in enumerate(loader):\n",
    "            batch_seperated = tuple(process(i) for i in sample)\n",
    "            batch = torch.concat(batch_seperated, dim=0)\n",
    "            batch = batch.to(device)\n",
    "            seq_len = [dt.size(0) for dt in batch_seperated]\n",
    "            pred_test ,_,_ = strategy.net.net(batch, seq_len)\n",
    "            probs = F.softmax(pred_test, dim=1).detach().cpu().numpy()\n",
    "            probs_combined = combine_window_to_episode(probs, seq_len)\n",
    "            # print(probs_combined[:,index:index+2].shape)\n",
    "            probs_selected = probs_combined[:,start_index:end_index,1]\n",
    "            probs_list.append(probs_selected)\n",
    "    probs_selected = np.concatenate(probs_list)\n",
    "    return probs_selected\n",
    "\n",
    "def batch_predict_anchor(images, index = 50):\n",
    "    model.eval()\n",
    "\n",
    "    device = torch.device(\"cuda\" if torch.cuda.is_available() else \"cpu\")\n",
    "    strategy.net.net.backbone.to(device)\n",
    "    strategy.net.net.to(device)\n",
    "    batch = process(images)\n",
    "    # batch = torch.concat(batch_seperated, dim=0)\n",
    "    batch = batch.to(device)\n",
    "    seq_len = [dt.size(0) for dt in batch.unsqueeze(0)]\n",
    "    \n",
    "    pred_test ,_,_ = strategy.net.net(batch, seq_len)\n",
    "    probs = F.softmax(pred_test, dim=1).detach().cpu().numpy()\n",
    "    probs_combined = combine_window_to_episode(probs, seq_len)\n",
    "    probs_selected = probs_combined[:,index]\n",
    "    return probs_selected"
   ],
   "metadata": {
    "collapsed": false,
    "ExecuteTime": {
     "end_time": "2024-04-23T19:15:59.868563Z",
     "start_time": "2024-04-23T19:15:59.506564Z"
    }
   },
   "execution_count": 31
  },
  {
   "cell_type": "code",
   "outputs": [],
   "source": [],
   "metadata": {
    "collapsed": false,
    "ExecuteTime": {
     "end_time": "2024-04-23T19:15:59.884563Z",
     "start_time": "2024-04-23T19:15:59.869564Z"
    }
   },
   "execution_count": 31
  },
  {
   "cell_type": "code",
   "outputs": [
    {
     "data": {
      "text/plain": "(34, 88)"
     },
     "execution_count": 32,
     "metadata": {},
     "output_type": "execute_result"
    }
   ],
   "source": [
    "def get_label_start_stop(label):\n",
    "    pos_label_index = np.where(label==1)[0]\n",
    "    return (pos_label_index.min(),pos_label_index.max())\n",
    "get_label_start_stop(train_label[sample_id])"
   ],
   "metadata": {
    "collapsed": false,
    "ExecuteTime": {
     "end_time": "2024-04-23T19:16:00.246563Z",
     "start_time": "2024-04-23T19:15:59.885564Z"
    }
   },
   "execution_count": 32
  },
  {
   "cell_type": "code",
   "outputs": [
    {
     "data": {
      "text/plain": "array([[0.26528608798980713, 0.4285171926021576, 0.7065938115119934,\n        0.8718888163566589],\n       [0.26528608798980713, 0.4285171926021576, 0.7065938115119934,\n        0.8718888163566589],\n       [0.26528608798980713, 0.4285171926021576, 0.7065938115119934,\n        0.8718888163566589],\n       [0.26528608798980713, 0.4285171926021576, 0.7065938115119934,\n        0.8718888163566589]], dtype=object)"
     },
     "execution_count": 33,
     "metadata": {},
     "output_type": "execute_result"
    }
   ],
   "source": [
    "test_sample = to_rgb(get_continuous_data(train_data[sample_id]))\n",
    "test_sample_list = [test_sample,test_sample,test_sample,test_sample]\n",
    "batch_predict(test_sample_list, index=(30,34))"
   ],
   "metadata": {
    "collapsed": false,
    "ExecuteTime": {
     "end_time": "2024-04-23T19:16:01.830564Z",
     "start_time": "2024-04-23T19:16:00.247563Z"
    }
   },
   "execution_count": 33
  },
  {
   "cell_type": "code",
   "outputs": [
    {
     "data": {
      "text/plain": "  0%|          | 0/1000 [00:00<?, ?it/s]",
      "application/vnd.jupyter.widget-view+json": {
       "version_major": 2,
       "version_minor": 0,
       "model_id": "43e6ce5f39dd43fdb83f035b9eee3a15"
      }
     },
     "metadata": {},
     "output_type": "display_data"
    },
    {
     "data": {
      "text/plain": "  0%|          | 0/1000 [00:00<?, ?it/s]",
      "application/vnd.jupyter.widget-view+json": {
       "version_major": 2,
       "version_minor": 0,
       "model_id": "6b66338f7e7c416986e970c114eee0e3"
      }
     },
     "metadata": {},
     "output_type": "display_data"
    },
    {
     "data": {
      "text/plain": "  0%|          | 0/1000 [00:00<?, ?it/s]",
      "application/vnd.jupyter.widget-view+json": {
       "version_major": 2,
       "version_minor": 0,
       "model_id": "4d0c5d88b77c4c6ba7fe098def020658"
      }
     },
     "metadata": {},
     "output_type": "display_data"
    },
    {
     "data": {
      "text/plain": "  0%|          | 0/1000 [00:00<?, ?it/s]",
      "application/vnd.jupyter.widget-view+json": {
       "version_major": 2,
       "version_minor": 0,
       "model_id": "8c4dd7cc12e245ada7b357077e89eb7d"
      }
     },
     "metadata": {},
     "output_type": "display_data"
    },
    {
     "data": {
      "text/plain": "  0%|          | 0/1000 [00:00<?, ?it/s]",
      "application/vnd.jupyter.widget-view+json": {
       "version_major": 2,
       "version_minor": 0,
       "model_id": "e01546c1a8e345cb95acae3b922fb5c2"
      }
     },
     "metadata": {},
     "output_type": "display_data"
    },
    {
     "data": {
      "text/plain": "  0%|          | 0/1000 [00:00<?, ?it/s]",
      "application/vnd.jupyter.widget-view+json": {
       "version_major": 2,
       "version_minor": 0,
       "model_id": "652f902577b245f68e6b306a82d9226c"
      }
     },
     "metadata": {},
     "output_type": "display_data"
    },
    {
     "data": {
      "text/plain": "  0%|          | 0/1000 [00:00<?, ?it/s]",
      "application/vnd.jupyter.widget-view+json": {
       "version_major": 2,
       "version_minor": 0,
       "model_id": "e34a3c1bbc7f43f0b458cf40728cb59b"
      }
     },
     "metadata": {},
     "output_type": "display_data"
    },
    {
     "data": {
      "text/plain": "  0%|          | 0/1000 [00:00<?, ?it/s]",
      "application/vnd.jupyter.widget-view+json": {
       "version_major": 2,
       "version_minor": 0,
       "model_id": "1fe0fe8fee8e40c7bba02c8da5112782"
      }
     },
     "metadata": {},
     "output_type": "display_data"
    },
    {
     "data": {
      "text/plain": "  0%|          | 0/1000 [00:00<?, ?it/s]",
      "application/vnd.jupyter.widget-view+json": {
       "version_major": 2,
       "version_minor": 0,
       "model_id": "23734c4045d34d329894b1c440347bd6"
      }
     },
     "metadata": {},
     "output_type": "display_data"
    },
    {
     "data": {
      "text/plain": "  0%|          | 0/1000 [00:00<?, ?it/s]",
      "application/vnd.jupyter.widget-view+json": {
       "version_major": 2,
       "version_minor": 0,
       "model_id": "3ece8220851243ad94656627e0b8a075"
      }
     },
     "metadata": {},
     "output_type": "display_data"
    },
    {
     "data": {
      "text/plain": "  0%|          | 0/1000 [00:00<?, ?it/s]",
      "application/vnd.jupyter.widget-view+json": {
       "version_major": 2,
       "version_minor": 0,
       "model_id": "21bc9e86f1f34a47874727b2c2e0ceba"
      }
     },
     "metadata": {},
     "output_type": "display_data"
    },
    {
     "data": {
      "text/plain": "  0%|          | 0/1000 [00:00<?, ?it/s]",
      "application/vnd.jupyter.widget-view+json": {
       "version_major": 2,
       "version_minor": 0,
       "model_id": "10d806ef473441fd885d1bcc6afa7306"
      }
     },
     "metadata": {},
     "output_type": "display_data"
    },
    {
     "data": {
      "text/plain": "  0%|          | 0/1000 [00:00<?, ?it/s]",
      "application/vnd.jupyter.widget-view+json": {
       "version_major": 2,
       "version_minor": 0,
       "model_id": "a0873c68f20c45e49d449b4c69a1819f"
      }
     },
     "metadata": {},
     "output_type": "display_data"
    },
    {
     "data": {
      "text/plain": "  0%|          | 0/1000 [00:00<?, ?it/s]",
      "application/vnd.jupyter.widget-view+json": {
       "version_major": 2,
       "version_minor": 0,
       "model_id": "28a0e997cb6e43e5895af5b49d756e7a"
      }
     },
     "metadata": {},
     "output_type": "display_data"
    },
    {
     "data": {
      "text/plain": "  0%|          | 0/1000 [00:00<?, ?it/s]",
      "application/vnd.jupyter.widget-view+json": {
       "version_major": 2,
       "version_minor": 0,
       "model_id": "9eb1d0758a814ec897c37c61336ddb10"
      }
     },
     "metadata": {},
     "output_type": "display_data"
    },
    {
     "data": {
      "text/plain": "  0%|          | 0/1000 [00:00<?, ?it/s]",
      "application/vnd.jupyter.widget-view+json": {
       "version_major": 2,
       "version_minor": 0,
       "model_id": "e52526d1ca5445e7b33bd60b7d7453fa"
      }
     },
     "metadata": {},
     "output_type": "display_data"
    },
    {
     "data": {
      "text/plain": "  0%|          | 0/1000 [00:00<?, ?it/s]",
      "application/vnd.jupyter.widget-view+json": {
       "version_major": 2,
       "version_minor": 0,
       "model_id": "cf0f6cc01be0437e9a1c176d4efc471c"
      }
     },
     "metadata": {},
     "output_type": "display_data"
    },
    {
     "data": {
      "text/plain": "  0%|          | 0/1000 [00:00<?, ?it/s]",
      "application/vnd.jupyter.widget-view+json": {
       "version_major": 2,
       "version_minor": 0,
       "model_id": "590481610de14893aa24fd2e595451fb"
      }
     },
     "metadata": {},
     "output_type": "display_data"
    },
    {
     "data": {
      "text/plain": "  0%|          | 0/1000 [00:00<?, ?it/s]",
      "application/vnd.jupyter.widget-view+json": {
       "version_major": 2,
       "version_minor": 0,
       "model_id": "945110d3be70485da62a95dbf8b7e9d0"
      }
     },
     "metadata": {},
     "output_type": "display_data"
    },
    {
     "data": {
      "text/plain": "  0%|          | 0/1000 [00:00<?, ?it/s]",
      "application/vnd.jupyter.widget-view+json": {
       "version_major": 2,
       "version_minor": 0,
       "model_id": "9fbafd45fe3d45788066ad6b2a39a213"
      }
     },
     "metadata": {},
     "output_type": "display_data"
    },
    {
     "data": {
      "text/plain": "  0%|          | 0/1000 [00:00<?, ?it/s]",
      "application/vnd.jupyter.widget-view+json": {
       "version_major": 2,
       "version_minor": 0,
       "model_id": "ff6e8f265740433dbd05b22c385bc0be"
      }
     },
     "metadata": {},
     "output_type": "display_data"
    },
    {
     "data": {
      "text/plain": "  0%|          | 0/1000 [00:00<?, ?it/s]",
      "application/vnd.jupyter.widget-view+json": {
       "version_major": 2,
       "version_minor": 0,
       "model_id": "dd8eccc62f09481f9796fc5269706ad2"
      }
     },
     "metadata": {},
     "output_type": "display_data"
    },
    {
     "data": {
      "text/plain": "  0%|          | 0/1000 [00:00<?, ?it/s]",
      "application/vnd.jupyter.widget-view+json": {
       "version_major": 2,
       "version_minor": 0,
       "model_id": "e866655a2ffe4a8f91106dccc1c405aa"
      }
     },
     "metadata": {},
     "output_type": "display_data"
    },
    {
     "data": {
      "text/plain": "  0%|          | 0/1000 [00:00<?, ?it/s]",
      "application/vnd.jupyter.widget-view+json": {
       "version_major": 2,
       "version_minor": 0,
       "model_id": "8785e5504b58472587cb014cd0a14bb7"
      }
     },
     "metadata": {},
     "output_type": "display_data"
    },
    {
     "data": {
      "text/plain": "  0%|          | 0/1000 [00:00<?, ?it/s]",
      "application/vnd.jupyter.widget-view+json": {
       "version_major": 2,
       "version_minor": 0,
       "model_id": "0835c6c80f5f4324a5ef8e3ec71a864f"
      }
     },
     "metadata": {},
     "output_type": "display_data"
    },
    {
     "data": {
      "text/plain": "  0%|          | 0/1000 [00:00<?, ?it/s]",
      "application/vnd.jupyter.widget-view+json": {
       "version_major": 2,
       "version_minor": 0,
       "model_id": "9e7fe6f8dcc04dc5a6281f6c8c72d927"
      }
     },
     "metadata": {},
     "output_type": "display_data"
    },
    {
     "data": {
      "text/plain": "  0%|          | 0/1000 [00:00<?, ?it/s]",
      "application/vnd.jupyter.widget-view+json": {
       "version_major": 2,
       "version_minor": 0,
       "model_id": "a0519ae1d9224ef08178de12e8bd351e"
      }
     },
     "metadata": {},
     "output_type": "display_data"
    },
    {
     "data": {
      "text/plain": "  0%|          | 0/1000 [00:00<?, ?it/s]",
      "application/vnd.jupyter.widget-view+json": {
       "version_major": 2,
       "version_minor": 0,
       "model_id": "52f1bbdb64774373866815c979147fca"
      }
     },
     "metadata": {},
     "output_type": "display_data"
    },
    {
     "data": {
      "text/plain": "  0%|          | 0/1000 [00:00<?, ?it/s]",
      "application/vnd.jupyter.widget-view+json": {
       "version_major": 2,
       "version_minor": 0,
       "model_id": "09f7ae24bd5d43609bf554314326484e"
      }
     },
     "metadata": {},
     "output_type": "display_data"
    },
    {
     "data": {
      "text/plain": "  0%|          | 0/1000 [00:00<?, ?it/s]",
      "application/vnd.jupyter.widget-view+json": {
       "version_major": 2,
       "version_minor": 0,
       "model_id": "40b0037eb77b4c0fae0b03529d24a7d6"
      }
     },
     "metadata": {},
     "output_type": "display_data"
    },
    {
     "data": {
      "text/plain": "  0%|          | 0/1000 [00:00<?, ?it/s]",
      "application/vnd.jupyter.widget-view+json": {
       "version_major": 2,
       "version_minor": 0,
       "model_id": "59fa51b55d7d4d27a6fadfd4825aa191"
      }
     },
     "metadata": {},
     "output_type": "display_data"
    },
    {
     "data": {
      "text/plain": "  0%|          | 0/1000 [00:00<?, ?it/s]",
      "application/vnd.jupyter.widget-view+json": {
       "version_major": 2,
       "version_minor": 0,
       "model_id": "e3b170ab671e4ffa9a39019d4f065d82"
      }
     },
     "metadata": {},
     "output_type": "display_data"
    },
    {
     "data": {
      "text/plain": "  0%|          | 0/1000 [00:00<?, ?it/s]",
      "application/vnd.jupyter.widget-view+json": {
       "version_major": 2,
       "version_minor": 0,
       "model_id": "182df473ff5a4c698c44197863b5705e"
      }
     },
     "metadata": {},
     "output_type": "display_data"
    },
    {
     "data": {
      "text/plain": "  0%|          | 0/1000 [00:00<?, ?it/s]",
      "application/vnd.jupyter.widget-view+json": {
       "version_major": 2,
       "version_minor": 0,
       "model_id": "9946809aae4547248d1de4cd1aadbc4f"
      }
     },
     "metadata": {},
     "output_type": "display_data"
    },
    {
     "data": {
      "text/plain": "  0%|          | 0/1000 [00:00<?, ?it/s]",
      "application/vnd.jupyter.widget-view+json": {
       "version_major": 2,
       "version_minor": 0,
       "model_id": "472832c6462d415eb95b73332c4026ef"
      }
     },
     "metadata": {},
     "output_type": "display_data"
    },
    {
     "data": {
      "text/plain": "  0%|          | 0/1000 [00:00<?, ?it/s]",
      "application/vnd.jupyter.widget-view+json": {
       "version_major": 2,
       "version_minor": 0,
       "model_id": "11a9c68506784566824f62549a3ccd0c"
      }
     },
     "metadata": {},
     "output_type": "display_data"
    },
    {
     "data": {
      "text/plain": "  0%|          | 0/1000 [00:00<?, ?it/s]",
      "application/vnd.jupyter.widget-view+json": {
       "version_major": 2,
       "version_minor": 0,
       "model_id": "d89d4fc125d149309588eaf32ac9c1fc"
      }
     },
     "metadata": {},
     "output_type": "display_data"
    },
    {
     "data": {
      "text/plain": "  0%|          | 0/1000 [00:00<?, ?it/s]",
      "application/vnd.jupyter.widget-view+json": {
       "version_major": 2,
       "version_minor": 0,
       "model_id": "844d98fa4d294eb29e8358a723962f08"
      }
     },
     "metadata": {},
     "output_type": "display_data"
    },
    {
     "data": {
      "text/plain": "  0%|          | 0/1000 [00:00<?, ?it/s]",
      "application/vnd.jupyter.widget-view+json": {
       "version_major": 2,
       "version_minor": 0,
       "model_id": "ee4ee13d4b9a4b6db7b48c616f7a567d"
      }
     },
     "metadata": {},
     "output_type": "display_data"
    },
    {
     "data": {
      "text/plain": "  0%|          | 0/1000 [00:00<?, ?it/s]",
      "application/vnd.jupyter.widget-view+json": {
       "version_major": 2,
       "version_minor": 0,
       "model_id": "3db20eb111a34588a63e14768bb3c05a"
      }
     },
     "metadata": {},
     "output_type": "display_data"
    },
    {
     "data": {
      "text/plain": "  0%|          | 0/1000 [00:00<?, ?it/s]",
      "application/vnd.jupyter.widget-view+json": {
       "version_major": 2,
       "version_minor": 0,
       "model_id": "2e0504fe4be2410db94adfb8d81277bf"
      }
     },
     "metadata": {},
     "output_type": "display_data"
    },
    {
     "data": {
      "text/plain": "  0%|          | 0/1000 [00:00<?, ?it/s]",
      "application/vnd.jupyter.widget-view+json": {
       "version_major": 2,
       "version_minor": 0,
       "model_id": "eb8dda8823c1444bbcb6062ae0737671"
      }
     },
     "metadata": {},
     "output_type": "display_data"
    },
    {
     "data": {
      "text/plain": "  0%|          | 0/1000 [00:00<?, ?it/s]",
      "application/vnd.jupyter.widget-view+json": {
       "version_major": 2,
       "version_minor": 0,
       "model_id": "49393f2a53824748bcd90bcc8dc63e8f"
      }
     },
     "metadata": {},
     "output_type": "display_data"
    },
    {
     "data": {
      "text/plain": "  0%|          | 0/1000 [00:00<?, ?it/s]",
      "application/vnd.jupyter.widget-view+json": {
       "version_major": 2,
       "version_minor": 0,
       "model_id": "41bf7fb312e04a4195941eccb12174de"
      }
     },
     "metadata": {},
     "output_type": "display_data"
    },
    {
     "data": {
      "text/plain": "  0%|          | 0/1000 [00:00<?, ?it/s]",
      "application/vnd.jupyter.widget-view+json": {
       "version_major": 2,
       "version_minor": 0,
       "model_id": "f769156e35504e06a6968c54ba72be45"
      }
     },
     "metadata": {},
     "output_type": "display_data"
    },
    {
     "data": {
      "text/plain": "  0%|          | 0/1000 [00:00<?, ?it/s]",
      "application/vnd.jupyter.widget-view+json": {
       "version_major": 2,
       "version_minor": 0,
       "model_id": "fa16c653b4eb44a68bc3b6ad72ac8dbd"
      }
     },
     "metadata": {},
     "output_type": "display_data"
    },
    {
     "data": {
      "text/plain": "  0%|          | 0/1000 [00:00<?, ?it/s]",
      "application/vnd.jupyter.widget-view+json": {
       "version_major": 2,
       "version_minor": 0,
       "model_id": "47578cf45470447aa2b0d74822bbe3de"
      }
     },
     "metadata": {},
     "output_type": "display_data"
    },
    {
     "data": {
      "text/plain": "  0%|          | 0/1000 [00:00<?, ?it/s]",
      "application/vnd.jupyter.widget-view+json": {
       "version_major": 2,
       "version_minor": 0,
       "model_id": "0392c50bd28d494b9fdc828ce22c9cbe"
      }
     },
     "metadata": {},
     "output_type": "display_data"
    },
    {
     "data": {
      "text/plain": "  0%|          | 0/1000 [00:00<?, ?it/s]",
      "application/vnd.jupyter.widget-view+json": {
       "version_major": 2,
       "version_minor": 0,
       "model_id": "db7ba8d49b02408299af16180949042c"
      }
     },
     "metadata": {},
     "output_type": "display_data"
    },
    {
     "data": {
      "text/plain": "  0%|          | 0/1000 [00:00<?, ?it/s]",
      "application/vnd.jupyter.widget-view+json": {
       "version_major": 2,
       "version_minor": 0,
       "model_id": "5554c261c91f445cb1ba6f34d9a9cf2c"
      }
     },
     "metadata": {},
     "output_type": "display_data"
    },
    {
     "data": {
      "text/plain": "  0%|          | 0/1000 [00:00<?, ?it/s]",
      "application/vnd.jupyter.widget-view+json": {
       "version_major": 2,
       "version_minor": 0,
       "model_id": "1925092cf53944219d6748c4cc9cdec7"
      }
     },
     "metadata": {},
     "output_type": "display_data"
    },
    {
     "data": {
      "text/plain": "  0%|          | 0/1000 [00:00<?, ?it/s]",
      "application/vnd.jupyter.widget-view+json": {
       "version_major": 2,
       "version_minor": 0,
       "model_id": "e25a63d4126c44cfa62876577b55a057"
      }
     },
     "metadata": {},
     "output_type": "display_data"
    },
    {
     "data": {
      "text/plain": "  0%|          | 0/1000 [00:00<?, ?it/s]",
      "application/vnd.jupyter.widget-view+json": {
       "version_major": 2,
       "version_minor": 0,
       "model_id": "0e824026227f40d4807bad123db0e5c0"
      }
     },
     "metadata": {},
     "output_type": "display_data"
    },
    {
     "data": {
      "text/plain": "  0%|          | 0/1000 [00:00<?, ?it/s]",
      "application/vnd.jupyter.widget-view+json": {
       "version_major": 2,
       "version_minor": 0,
       "model_id": "d98e3020c08e44369cb4fb90812e880d"
      }
     },
     "metadata": {},
     "output_type": "display_data"
    },
    {
     "data": {
      "text/plain": "  0%|          | 0/1000 [00:00<?, ?it/s]",
      "application/vnd.jupyter.widget-view+json": {
       "version_major": 2,
       "version_minor": 0,
       "model_id": "05debeddb4ff451781e1a0e1cfd84221"
      }
     },
     "metadata": {},
     "output_type": "display_data"
    },
    {
     "data": {
      "text/plain": "  0%|          | 0/1000 [00:00<?, ?it/s]",
      "application/vnd.jupyter.widget-view+json": {
       "version_major": 2,
       "version_minor": 0,
       "model_id": "bc373b6270e54e7c9bcbbd278b4937a3"
      }
     },
     "metadata": {},
     "output_type": "display_data"
    },
    {
     "data": {
      "text/plain": "  0%|          | 0/1000 [00:00<?, ?it/s]",
      "application/vnd.jupyter.widget-view+json": {
       "version_major": 2,
       "version_minor": 0,
       "model_id": "98d5eed7a94b4c65be9c96c3176208ad"
      }
     },
     "metadata": {},
     "output_type": "display_data"
    },
    {
     "data": {
      "text/plain": "  0%|          | 0/1000 [00:00<?, ?it/s]",
      "application/vnd.jupyter.widget-view+json": {
       "version_major": 2,
       "version_minor": 0,
       "model_id": "01f6d8ab60ff47898b1d9bbbc6cbf8b9"
      }
     },
     "metadata": {},
     "output_type": "display_data"
    },
    {
     "data": {
      "text/plain": "  0%|          | 0/1000 [00:00<?, ?it/s]",
      "application/vnd.jupyter.widget-view+json": {
       "version_major": 2,
       "version_minor": 0,
       "model_id": "5b96b5da70a0432d95913fb04fdca774"
      }
     },
     "metadata": {},
     "output_type": "display_data"
    },
    {
     "data": {
      "text/plain": "  0%|          | 0/1000 [00:00<?, ?it/s]",
      "application/vnd.jupyter.widget-view+json": {
       "version_major": 2,
       "version_minor": 0,
       "model_id": "a630c1004bd14dc5b8150669a46bacbd"
      }
     },
     "metadata": {},
     "output_type": "display_data"
    },
    {
     "data": {
      "text/plain": "  0%|          | 0/1000 [00:00<?, ?it/s]",
      "application/vnd.jupyter.widget-view+json": {
       "version_major": 2,
       "version_minor": 0,
       "model_id": "db6061354c5a4637a4e40daa3bfcab1a"
      }
     },
     "metadata": {},
     "output_type": "display_data"
    },
    {
     "data": {
      "text/plain": "  0%|          | 0/1000 [00:00<?, ?it/s]",
      "application/vnd.jupyter.widget-view+json": {
       "version_major": 2,
       "version_minor": 0,
       "model_id": "54f530cc46ff481094923057a024d7b1"
      }
     },
     "metadata": {},
     "output_type": "display_data"
    },
    {
     "data": {
      "text/plain": "  0%|          | 0/1000 [00:00<?, ?it/s]",
      "application/vnd.jupyter.widget-view+json": {
       "version_major": 2,
       "version_minor": 0,
       "model_id": "0d8d7122a6f246d99524e7fa73ec01cd"
      }
     },
     "metadata": {},
     "output_type": "display_data"
    },
    {
     "data": {
      "text/plain": "  0%|          | 0/1000 [00:00<?, ?it/s]",
      "application/vnd.jupyter.widget-view+json": {
       "version_major": 2,
       "version_minor": 0,
       "model_id": "7c4eb90303a9498a9d78feb8b8e6fd66"
      }
     },
     "metadata": {},
     "output_type": "display_data"
    },
    {
     "data": {
      "text/plain": "  0%|          | 0/1000 [00:00<?, ?it/s]",
      "application/vnd.jupyter.widget-view+json": {
       "version_major": 2,
       "version_minor": 0,
       "model_id": "48f27e7218bc4ad48019e32d5a5235e6"
      }
     },
     "metadata": {},
     "output_type": "display_data"
    },
    {
     "data": {
      "text/plain": "  0%|          | 0/1000 [00:00<?, ?it/s]",
      "application/vnd.jupyter.widget-view+json": {
       "version_major": 2,
       "version_minor": 0,
       "model_id": "f576b58396374cceb7d12bd208c33fa9"
      }
     },
     "metadata": {},
     "output_type": "display_data"
    },
    {
     "data": {
      "text/plain": "  0%|          | 0/1000 [00:00<?, ?it/s]",
      "application/vnd.jupyter.widget-view+json": {
       "version_major": 2,
       "version_minor": 0,
       "model_id": "ac644ead10bd4bcbb7bddb11936b55ae"
      }
     },
     "metadata": {},
     "output_type": "display_data"
    },
    {
     "data": {
      "text/plain": "  0%|          | 0/1000 [00:00<?, ?it/s]",
      "application/vnd.jupyter.widget-view+json": {
       "version_major": 2,
       "version_minor": 0,
       "model_id": "27efe05a022d40bab42b60281e25b8d9"
      }
     },
     "metadata": {},
     "output_type": "display_data"
    },
    {
     "data": {
      "text/plain": "  0%|          | 0/1000 [00:00<?, ?it/s]",
      "application/vnd.jupyter.widget-view+json": {
       "version_major": 2,
       "version_minor": 0,
       "model_id": "0531a45f77284835b1f6430707b3ea98"
      }
     },
     "metadata": {},
     "output_type": "display_data"
    },
    {
     "data": {
      "text/plain": "  0%|          | 0/1000 [00:00<?, ?it/s]",
      "application/vnd.jupyter.widget-view+json": {
       "version_major": 2,
       "version_minor": 0,
       "model_id": "2515af68c5144ad88e1863823a2f8682"
      }
     },
     "metadata": {},
     "output_type": "display_data"
    },
    {
     "data": {
      "text/plain": "  0%|          | 0/1000 [00:00<?, ?it/s]",
      "application/vnd.jupyter.widget-view+json": {
       "version_major": 2,
       "version_minor": 0,
       "model_id": "3dc61afd6f1245d08df1b7ee258b2e02"
      }
     },
     "metadata": {},
     "output_type": "display_data"
    },
    {
     "data": {
      "text/plain": "  0%|          | 0/1000 [00:00<?, ?it/s]",
      "application/vnd.jupyter.widget-view+json": {
       "version_major": 2,
       "version_minor": 0,
       "model_id": "5b46453d92074ecc9aea69e44257d4fe"
      }
     },
     "metadata": {},
     "output_type": "display_data"
    },
    {
     "data": {
      "text/plain": "  0%|          | 0/1000 [00:00<?, ?it/s]",
      "application/vnd.jupyter.widget-view+json": {
       "version_major": 2,
       "version_minor": 0,
       "model_id": "551233e8e2864ea18485e6a08849871a"
      }
     },
     "metadata": {},
     "output_type": "display_data"
    }
   ],
   "source": [
    "from skimage import segmentation\n",
    "from lime import lime_image\n",
    "for sample_id in np.arange(992)[torch.tensor([np.sign(tl.sum()).to(bool) for tl in pred_label])][::-1]:\n",
    "    try:\n",
    "        explainer = lime_image.LimeImageExplainer(random_state=42)\n",
    "    \n",
    "        explanation = explainer.explain_instance(np.array(to_rgb(get_continuous_data(train_data[sample_id]))),\n",
    "                                                 lambda x: batch_predict(x, index=get_label_start_stop(pred_label[sample_id])),\n",
    "                                                 top_labels=get_label_start_stop(pred_label[sample_id])[1] -\n",
    "                                                            get_label_start_stop(pred_label[sample_id])[0],\n",
    "                                                 batch_size=8,\n",
    "                                                 segmentation_fn=superpixel,\n",
    "                                                 num_samples=1000,\n",
    "                                                 random_seed=42)\n",
    "    \n",
    "        \n",
    "        kernel_value_arr = []\n",
    "        mask_array = []\n",
    "        for i in range(len(explanation.top_labels)):\n",
    "            exp_kernel_value = np.vstack(explanation.local_exp[i])\n",
    "            _, mask = explanation.get_image_and_mask(i, positive_only=True, num_features=250, hide_rest=False)\n",
    "            kernel_value_arr.append(exp_kernel_value)\n",
    "            mask_array.append(mask)\n",
    "        \n",
    "        kernel_value_arr= np.stack(kernel_value_arr)\n",
    "        mask_array = np.stack(mask_array)\n",
    "        to_save = {}\n",
    "        to_save['kernel'] = kernel_value_arr\n",
    "        to_save['mask'] = mask_array\n",
    "        to_save['top_labels'] = explanation.top_labels\n",
    "        \n",
    "        np.save('save_1s/' + str(sample_id)+'.npy',to_save)\n",
    "    except:\n",
    "        continue\n",
    " "
   ],
   "metadata": {
    "collapsed": false,
    "is_executing": true,
    "ExecuteTime": {
     "start_time": "2024-04-23T19:16:01.831565Z"
    }
   },
   "execution_count": null
  },
  {
   "cell_type": "code",
   "outputs": [],
   "source": [
    "np.load(str(72)+'.npy',allow_pickle=True).item().items()"
   ],
   "metadata": {
    "collapsed": false
   },
   "execution_count": null
  },
  {
   "cell_type": "code",
   "outputs": [],
   "source": [
    "cum_kernel_values = np.zeros(len(explanation.local_exp[0]))\n",
    "for i in range(len(explanation.top_labels)):\n",
    "    exp_kernel_value = np.vstack(explanation.local_exp[i])\n",
    "    _, mask = explanation.get_image_and_mask(i, positive_only=True, num_features=250, hide_rest=False)\n",
    "    selected_exp_kernel_values = exp_kernel_value[np.argsort(exp_kernel_value[:,0])][np.unique(super_pixel_segments[mask.astype(bool)]).astype(int)]\n",
    "    for ind, value in selected_exp_kernel_values:\n",
    "        cum_kernel_values[int(ind)] += value"
   ],
   "metadata": {
    "collapsed": false
   },
   "execution_count": null
  },
  {
   "cell_type": "code",
   "outputs": [],
   "source": [
    "np.arange(100)[get_label_start_stop(pred_label[sample_id])[0]:get_label_start_stop(pred_label[sample_id])[1]]"
   ],
   "metadata": {
    "collapsed": false
   },
   "execution_count": null
  },
  {
   "cell_type": "code",
   "outputs": [],
   "source": [
    "get_label_start_stop(pred_label[sample_id])[1] -get_label_start_stop(pred_label[sample_id])[0]"
   ],
   "metadata": {
    "collapsed": false
   },
   "execution_count": null
  },
  {
   "cell_type": "code",
   "outputs": [],
   "source": [
    "explanation.local_exp.keys()"
   ],
   "metadata": {
    "collapsed": false
   },
   "execution_count": null
  },
  {
   "cell_type": "code",
   "outputs": [],
   "source": [
    "pred_label[sample_id]"
   ],
   "metadata": {
    "collapsed": false
   },
   "execution_count": null
  },
  {
   "cell_type": "code",
   "outputs": [],
   "source": [],
   "metadata": {
    "collapsed": false
   }
  },
  {
   "cell_type": "code",
   "outputs": [],
   "source": [
    "kernel_value_arr = []\n",
    "mask_array = []\n",
    "\n",
    "for i in range(len(explanation.top_labels)):\n",
    "    exp_kernel_value = np.vstack(explanation.local_exp[i])\n",
    "    _, mask = explanation.get_image_and_mask(i, positive_only=True, num_features=250, hide_rest=False)\n",
    "    kernel_value_arr.append(exp_kernel_value)\n",
    "    mask_array.append(mask)\n",
    "\n",
    "kernel_value_arr= np.stack(kernel_value_arr)\n",
    "mask_array = np.stack(mask_array)"
   ],
   "metadata": {
    "collapsed": false
   },
   "execution_count": null
  },
  {
   "cell_type": "code",
   "outputs": [],
   "source": [
    "kernel_value_arr.shape"
   ],
   "metadata": {
    "collapsed": false
   },
   "execution_count": null
  },
  {
   "cell_type": "code",
   "outputs": [],
   "source": [
    "explanation."
   ],
   "metadata": {
    "collapsed": false
   },
   "execution_count": null
  },
  {
   "cell_type": "code",
   "outputs": [],
   "source": [],
   "metadata": {
    "collapsed": false
   }
  },
  {
   "cell_type": "code",
   "outputs": [],
   "source": [
    "to_rgb(get_continuous_data(train_data[-4])).shape"
   ],
   "metadata": {
    "collapsed": false
   },
   "execution_count": null
  },
  {
   "cell_type": "code",
   "outputs": [],
   "source": [
    "from skimage.segmentation import mark_boundaries"
   ],
   "metadata": {
    "collapsed": false
   },
   "execution_count": null
  },
  {
   "cell_type": "code",
   "outputs": [],
   "source": [],
   "metadata": {
    "collapsed": false
   },
   "execution_count": null
  },
  {
   "cell_type": "code",
   "outputs": [],
   "source": [
    "dir(explanation)"
   ],
   "metadata": {
    "collapsed": false
   },
   "execution_count": null
  },
  {
   "cell_type": "code",
   "outputs": [],
   "source": [
    "len(explanation.top_labels)"
   ],
   "metadata": {
    "collapsed": false
   },
   "execution_count": null
  },
  {
   "cell_type": "code",
   "outputs": [],
   "source": [
    "len(explanation.local_exp[9])"
   ],
   "metadata": {
    "collapsed": false
   },
   "execution_count": null
  },
  {
   "cell_type": "code",
   "outputs": [],
   "source": [
    "np.sort(cum_kernel_values)[::-1][:100]"
   ],
   "metadata": {
    "collapsed": false
   },
   "execution_count": null
  },
  {
   "cell_type": "code",
   "outputs": [],
   "source": [
    "cum_kernel_values[]"
   ],
   "metadata": {
    "collapsed": false
   },
   "execution_count": null
  },
  {
   "cell_type": "code",
   "outputs": [],
   "source": [
    "exp_kernel_value[np.argsort(exp_kernel_value[:,0])][np.unique(super_pixel_segments[mask.astype(bool)]).astype(int)]"
   ],
   "metadata": {
    "collapsed": false
   },
   "execution_count": null
  },
  {
   "cell_type": "code",
   "outputs": [],
   "source": [
    "data = get_continuous_data(train_data[sample_id])\n",
    "n_samples, n_rows = data.shape[1], data.shape[0]\n",
    "h, w = n_rows * 2.5, 15\n",
    "dr = 0.5  # Define dr if it's not defined\n",
    "y_tick_offsets = (np.arange(n_rows) * dr)[::-1] \n",
    "fig, ax = plt.subplots(figsize=(w, h))\n",
    "eeg_data = data + y_tick_offsets[:, np.newaxis]\n",
    "time_domain = np.repeat(np.arange(data.shape[1])[:, np.newaxis] / 249, 4, 1)\n",
    "super_pixel_segments = superpixel(to_rgb(get_continuous_data(train_data[sample_id])))\n",
    "# Assume 'super_pixel_segments' and 'x' are predefined arrays\n",
    "segs = [np.column_stack([time_domain.T[super_pixel_segments == i], eeg_data[super_pixel_segments == i]]) for i in np.argsort(cum_kernel_values)[::-1][:100]]\n",
    "line_segments = LineCollection(segs, array=np.arange(int(super_pixel_segments.max())), linewidths=(0.5, 1, 1.5, 2), cmap = 'Wistia', linestyles='solid')\n",
    "\n",
    "ax.plot(time_domain, eeg_data.T, 'k', linewidth=0.5)\n",
    "ax.add_collection(line_segments)\n",
    "\n",
    "\n",
    "ax.autoscale()\n",
    "ax.margins(0.1)\n",
    "ax.set_yticks(eeg_data.mean(axis=1))\n",
    "ax.set_yticklabels([\"Ch1\", \"Ch2\", \"Ch3\", \"Ch4\"])\n",
    "ax.set_xlabel('Time (s)')\n",
    "\n",
    "# If label is defined and needed for highlighting specific regions\n",
    "# if label is not None:\n",
    "#     label_start, label_end = plot_high_light(label)\n",
    "#     if len(label_start) > 0:\n",
    "#         for i in range(len(label_start)):\n",
    "#             ax.axvspan(label_start[i], label_end[i], color=\"yellow\", alpha=0.3)\n",
    "\n",
    "\n",
    "ax.axvspan(34, 89, color=\"blue\", alpha=0.3)\n",
    "\n",
    "plt.colorbar(line_segments, ax=ax, orientation='vertical', label='Color scale')\n",
    "plt.show()"
   ],
   "metadata": {
    "collapsed": false
   },
   "execution_count": null
  },
  {
   "cell_type": "code",
   "outputs": [],
   "source": [
    "exp_kernel_value = np.vstack(explanation.local_exp[1])"
   ],
   "metadata": {
    "collapsed": false
   },
   "execution_count": null
  },
  {
   "cell_type": "code",
   "outputs": [],
   "source": [],
   "metadata": {
    "collapsed": false
   },
   "execution_count": null
  },
  {
   "cell_type": "code",
   "outputs": [],
   "source": [
    "exp_kernel_value[np.argsort(exp_kernel_value[:,0])][np.unique(super_pixel_segments[mask.astype(bool)]).astype(int)]"
   ],
   "metadata": {
    "collapsed": false
   },
   "execution_count": null
  },
  {
   "cell_type": "code",
   "outputs": [],
   "source": [
    "print(np.argsort(exp_kernel_value[:,0]))"
   ],
   "metadata": {
    "collapsed": false
   },
   "execution_count": null
  },
  {
   "cell_type": "code",
   "outputs": [],
   "source": [
    "len(np.where(pred_label[-4]==1)[0])"
   ],
   "metadata": {
    "collapsed": false
   },
   "execution_count": null
  },
  {
   "cell_type": "code",
   "outputs": [],
   "source": [
    "\n",
    "from alibi.explainers import AnchorImage\n",
    "explainer = AnchorImage(batch_predict, (4, 22410, 3), segmentation_fn=superpixel,\n",
    "                        images_background=None)"
   ],
   "metadata": {
    "collapsed": false
   },
   "execution_count": null
  },
  {
   "cell_type": "code",
   "outputs": [],
   "source": [
    "image = to_rgb(get_continuous_data(train_data[-4]))\n",
    "print(image.shape)"
   ],
   "metadata": {
    "collapsed": false
   },
   "execution_count": null
  },
  {
   "cell_type": "code",
   "outputs": [],
   "source": [
    "explanation = explainer.explain(image,threshold= 0.8, stop_on_first = True)"
   ],
   "metadata": {
    "collapsed": false
   },
   "execution_count": null
  },
  {
   "cell_type": "code",
   "outputs": [],
   "source": [
    "plt.imshow(explanation.anchor,aspect='auto')"
   ],
   "metadata": {
    "collapsed": false
   },
   "execution_count": null
  },
  {
   "cell_type": "code",
   "outputs": [],
   "source": [
    "plt.imshow(explanation.segments,aspect='auto');"
   ],
   "metadata": {
    "collapsed": false
   },
   "execution_count": null
  },
  {
   "cell_type": "code",
   "outputs": [],
   "source": [
    "explanation.anchor"
   ],
   "metadata": {
    "collapsed": false
   },
   "execution_count": null
  },
  {
   "cell_type": "code",
   "outputs": [],
   "source": [
    "explanation.anchor.shape"
   ],
   "metadata": {
    "collapsed": false
   },
   "execution_count": null
  },
  {
   "cell_type": "code",
   "outputs": [],
   "source": [
    "explanation.anchor.max()"
   ],
   "metadata": {
    "collapsed": false
   },
   "execution_count": null
  },
  {
   "cell_type": "code",
   "outputs": [],
   "source": [
    "print(mask.max())"
   ],
   "metadata": {
    "collapsed": false
   },
   "execution_count": null
  },
  {
   "cell_type": "code",
   "outputs": [],
   "source": [
    "[dt.size(0) for dt in images]"
   ],
   "metadata": {
    "collapsed": false
   },
   "execution_count": null
  },
  {
   "cell_type": "code",
   "outputs": [],
   "source": [
    "\n",
    "combine_window_to_episode(F.softmax(pred_test, dim=1).detach().cpu().numpy(), [dt.size(0) for dt in images])[:,ind]\n"
   ],
   "metadata": {
    "collapsed": false
   },
   "execution_count": null
  },
  {
   "cell_type": "code",
   "outputs": [],
   "source": [
    "torch.concat(tuple(i for i in images), dim=0).shape"
   ],
   "metadata": {
    "collapsed": false
   },
   "execution_count": null
  },
  {
   "cell_type": "code",
   "outputs": [],
   "source": [
    "pred_test"
   ],
   "metadata": {
    "collapsed": false
   },
   "execution_count": null
  },
  {
   "cell_type": "code",
   "outputs": [],
   "source": [
    "rgb = to_rgb(get_continuous_data(train_data[-4]))"
   ],
   "metadata": {
    "collapsed": false
   },
   "execution_count": null
  },
  {
   "cell_type": "code",
   "outputs": [],
   "source": [
    "np.array_equal(rgb[0], rgb[1])"
   ],
   "metadata": {
    "collapsed": false
   },
   "execution_count": null
  },
  {
   "cell_type": "code",
   "outputs": [],
   "source": [
    "torch.nn.functional.mse_loss(pred_test.detach().cpu(),combine_window_to_episode(pred_raw,seq_len_out)[-4])"
   ],
   "metadata": {
    "collapsed": false
   },
   "execution_count": null
  },
  {
   "cell_type": "code",
   "outputs": [],
   "source": [
    "pred_test.detach().cpu().shape"
   ],
   "metadata": {
    "collapsed": false
   },
   "execution_count": null
  },
  {
   "cell_type": "code",
   "outputs": [],
   "source": [
    "combine_window_to_episode(pred_raw,seq_len_out)[-4].shape"
   ],
   "metadata": {
    "collapsed": false
   },
   "execution_count": null
  },
  {
   "metadata": {},
   "cell_type": "code",
   "source": [
    "unlabeled_idxs, _ = strategy.dataset.get_unlabeled_data()"
   ],
   "outputs": [],
   "execution_count": null
  },
  {
   "metadata": {},
   "cell_type": "code",
   "source": [
    "clf_report = sklearn.metrics.classification_report(target[unlabeled_idxs],out[unlabeled_idxs], digits=6)\n",
    "\n",
    "print(f\"Classification Report : \\n{clf_report}\")"
   ],
   "outputs": [],
   "execution_count": null
  },
  {
   "cell_type": "code",
   "outputs": [],
   "source": [
    "clf_report = sklearn.metrics.classification_report([np.sign(tl.sum()) for tl in pred_label], [np.sign(tl.sum()) for tl in train_label], digits=6)\n",
    "\n",
    "print(f\"Classification Report : \\n{clf_report}\")"
   ],
   "metadata": {
    "collapsed": false
   },
   "execution_count": null
  },
  {
   "cell_type": "code",
   "outputs": [],
   "source": [],
   "metadata": {
    "collapsed": false
   }
  },
  {
   "metadata": {},
   "cell_type": "code",
   "outputs": [],
   "execution_count": null,
   "source": []
  }
 ],
 "metadata": {
  "kernelspec": {
   "display_name": "Python 3 (ipykernel)",
   "language": "python",
   "name": "python3"
  },
  "language_info": {
   "codemirror_mode": {
    "name": "ipython",
    "version": 3
   },
   "file_extension": ".py",
   "mimetype": "text/x-python",
   "name": "python",
   "nbconvert_exporter": "python",
   "pygments_lexer": "ipython3",
   "version": "3.10.5"
  }
 },
 "nbformat": 4,
 "nbformat_minor": 1
}
