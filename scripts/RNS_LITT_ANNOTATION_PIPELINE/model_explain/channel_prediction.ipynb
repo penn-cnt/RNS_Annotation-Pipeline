{
 "cells": [
  {
   "cell_type": "code",
   "metadata": {
    "ExecuteTime": {
     "end_time": "2024-04-24T03:50:44.154477Z",
     "start_time": "2024-04-24T03:50:44.050476Z"
    }
   },
   "source": [
    "%load_ext autoreload\n",
    "%autoreload 2"
   ],
   "outputs": [],
   "execution_count": 1
  },
  {
   "cell_type": "code",
   "metadata": {
    "ExecuteTime": {
     "end_time": "2024-04-24T03:50:50.046476Z",
     "start_time": "2024-04-24T03:50:44.155477Z"
    }
   },
   "source": [
    "import numpy as np\n",
    "import random\n",
    "import sys\n",
    "\n",
    "sys.path.append('../tools')\n",
    "\n",
    "import os\n",
    "\n",
    "import torch\n",
    "\n",
    "import pandas as pd\n",
    "from sklearn.model_selection import train_test_split\n",
    "import pytorch_lightning as pl\n",
    "import pytorch_lightning.loggers as pl_loggers\n",
    "import pytorch_lightning.callbacks as pl_callbacks\n",
    "import data_utility, annotation_utility\n",
    "from models.rns_dataloader import *\n",
    "from active_learning_utility import get_strategy\n",
    "from active_learning_data import Data\n",
    "from active_learning_net import Net\n",
    "from copy import deepcopy\n",
    "from models.SwaV import SwaV\n",
    "from models.LSTMDownStream import SupervisedDownstream\n",
    "import warnings\n",
    "import pickle\n",
    "warnings.filterwarnings(\"ignore\")\n",
    "import matplotlib.pyplot as plt\n",
    "from matplotlib.collections import LineCollection\n"
   ],
   "outputs": [],
   "execution_count": 2
  },
  {
   "cell_type": "code",
   "metadata": {
    "ExecuteTime": {
     "end_time": "2024-04-24T03:50:50.495476Z",
     "start_time": "2024-04-24T03:50:50.047477Z"
    }
   },
   "source": [
    "random_seed = 42\n",
    "random.seed(random_seed)\n",
    "torch.manual_seed(random_seed)\n",
    "np.random.seed(random_seed)\n",
    "\n",
    "if torch.cuda.is_available():\n",
    "    torch.cuda.manual_seed(random_seed)\n",
    "    # True ensures the algorithm selected by CUFA is deterministic\n",
    "    torch.backends.cudnn.deterministic = True\n",
    "    # torch.set_deterministic(True)\n",
    "    # False ensures CUDA select the same algorithm each time the application is run\n",
    "    torch.backends.cudnn.benchmark = False\n",
    "\n",
    "import pytorch_lightning\n",
    "\n",
    "pytorch_lightning.utilities.seed.seed_everything(seed=random_seed, workers=True)"
   ],
   "outputs": [
    {
     "name": "stderr",
     "output_type": "stream",
     "text": [
      "Global seed set to 42\n"
     ]
    },
    {
     "data": {
      "text/plain": "42"
     },
     "execution_count": 3,
     "metadata": {},
     "output_type": "execute_result"
    }
   ],
   "execution_count": 3
  },
  {
   "cell_type": "code",
   "metadata": {
    "ExecuteTime": {
     "end_time": "2024-04-24T03:50:50.910475Z",
     "start_time": "2024-04-24T03:50:50.496477Z"
    }
   },
   "source": [
    "data_dir = \"../../../user_data/\"\n",
    "log_folder_root = '../../../user_data/logs/'\n",
    "ckpt_folder_root = '../../../user_data/checkpoints/'\n",
    "rns_data_path = data_dir + 'rns_data'"
   ],
   "outputs": [],
   "execution_count": 4
  },
  {
   "cell_type": "code",
   "outputs": [],
   "source": [
    "strategy_name = 'EntropySampling'"
   ],
   "metadata": {
    "collapsed": false,
    "ExecuteTime": {
     "end_time": "2024-04-24T03:50:51.314476Z",
     "start_time": "2024-04-24T03:50:50.912476Z"
    }
   },
   "execution_count": 5
  },
  {
   "cell_type": "code",
   "outputs": [],
   "source": [
    "nStart = 1\n",
    "nEnd = 20\n",
    "nQuery = 2"
   ],
   "metadata": {
    "collapsed": false,
    "ExecuteTime": {
     "end_time": "2024-04-24T03:50:51.716475Z",
     "start_time": "2024-04-24T03:50:51.315476Z"
    }
   },
   "execution_count": 6
  },
  {
   "cell_type": "code",
   "metadata": {
    "ExecuteTime": {
     "end_time": "2024-04-24T03:50:52.137478Z",
     "start_time": "2024-04-24T03:50:51.717476Z"
    }
   },
   "source": [
    "args_task = {'n_epoch': 60,\n",
    "             'transform_train': True,\n",
    "             'strategy_name': strategy_name,\n",
    "             'transform': False,\n",
    "             'loader_tr_args': {'batch_size': 4, 'num_workers': 4, 'collate_fn': collate_fn,\n",
    "                                'drop_last': True, 'persistent_workers': True},\n",
    "             'loader_te_args': {'batch_size': 8, 'num_workers': 4, 'collate_fn': collate_fn,\n",
    "                                'drop_last': True, 'persistent_workers': True}\n",
    "             }"
   ],
   "outputs": [],
   "execution_count": 7
  },
  {
   "cell_type": "code",
   "metadata": {
    "ExecuteTime": {
     "end_time": "2024-04-24T03:50:52.553476Z",
     "start_time": "2024-04-24T03:50:52.138476Z"
    }
   },
   "source": [
    "# raw_annotations = pd.read_csv(data_dir + 'full_updated_anns_annotTbl_cleaned.csv')\n",
    "# ids = list(np.unique(raw_annotations[raw_annotations['descriptions'].notnull()]['HUP_ID']))\n",
    "# # ids = list(np.unique(raw_annotations['HUP_ID']))\n",
    "#\n",
    "# data_import = data_utility.read_files(path=data_dir+'rns_data', path_data=data_dir+'rns_raw_cache', patientIDs=ids,\n",
    "#                                       verbose=True)  # Import data with annotation"
   ],
   "outputs": [],
   "execution_count": 8
  },
  {
   "cell_type": "code",
   "metadata": {
    "ExecuteTime": {
     "end_time": "2024-04-24T03:50:58.153636Z",
     "start_time": "2024-04-24T03:50:52.554477Z"
    }
   },
   "source": [
    "# data_list = os.listdir(data_dir+'rns_test_cache')\n",
    "# print(data_list)\n",
    "data_list = ['HUP047.npy', 'HUP084.npy', 'HUP096.npy', 'HUP109.npy', 'HUP121.npy', 'HUP129.npy', 'HUP131.npy',\n",
    "             'HUP137.npy', 'HUP147.npy', 'HUP156.npy', 'HUP159.npy', 'HUP182.npy', 'HUP197.npy', 'HUP199.npy',\n",
    "             'RNS026.npy', 'RNS029.npy']\n",
    "# data_list = os.listdir(data_dir+'rns_test_cache')[1:]\n",
    "\n",
    "# data_list = ['HUP182.npy',   'HUP129.npy',   'HUP109.npy', 'HUP156.npy', 'HUP096.npy', 'RNS026.npy',  'HUP159.npy']\n",
    "# data_list = ['RNS026.npy', 'HUP159.npy', 'HUP129.npy', 'HUP096.npy', 'HUP182.npy']\n",
    "train_data, train_label, test_data, test_label, train_index, test_index = get_data_by_episode(data_list, split=0.8)\n",
    "# data, label,_,_ = get_data(data_list, split=1)\n",
    "# train_data, test_data, train_label, test_label = sklearn.model_selection.train_test_split(data, label, test_size=0.8, random_state=42)\n",
    "\n",
    "print(train_data.shape)\n",
    "print(train_label.shape)\n",
    "print(test_data.shape)\n",
    "print(test_label.shape)"
   ],
   "outputs": [
    {
     "name": "stderr",
     "output_type": "stream",
     "text": [
      "16it [00:05,  3.14it/s]"
     ]
    },
    {
     "name": "stdout",
     "output_type": "stream",
     "text": [
      "(992,)\n",
      "(992,)\n",
      "(270,)\n",
      "(270,)\n"
     ]
    },
    {
     "name": "stderr",
     "output_type": "stream",
     "text": [
      "\n"
     ]
    }
   ],
   "execution_count": 9
  },
  {
   "cell_type": "code",
   "metadata": {
    "ExecuteTime": {
     "end_time": "2024-04-24T03:51:00.085254Z",
     "start_time": "2024-04-24T03:50:58.154639Z"
    }
   },
   "source": [
    "X_train = np.concatenate(train_data)\n",
    "y_train = np.concatenate(train_label)\n",
    "X_test = np.concatenate(test_data)\n",
    "y_test = np.concatenate(test_label)\n",
    "index_train = np.concatenate(train_index)\n",
    "index_test = np.concatenate(test_index)\n",
    "seq_len_train = np.array([y.shape[0] for y in train_label])\n",
    "seq_len_test = np.array([y.shape[0] for y in test_label])"
   ],
   "outputs": [],
   "execution_count": 10
  },
  {
   "cell_type": "code",
   "metadata": {
    "ExecuteTime": {
     "end_time": "2024-04-24T03:51:00.579255Z",
     "start_time": "2024-04-24T03:51:00.086256Z"
    }
   },
   "source": [
    "n_pool = len(train_data)\n",
    "n_test = len(test_data)\n",
    "\n",
    "NUM_INIT_LB = int(nStart * n_pool / 100)\n",
    "NUM_QUERY = int(nQuery * n_pool / 100) if nStart != 100 else 0\n",
    "NUM_ROUND = int((int(nEnd * n_pool / 100) - NUM_INIT_LB) / NUM_QUERY) if nStart != 100 else 0\n",
    "if NUM_QUERY != 0:\n",
    "    if (int(nEnd * n_pool / 100) - NUM_INIT_LB) % NUM_QUERY != 0:\n",
    "        NUM_ROUND += 1\n",
    "\n",
    "print(NUM_INIT_LB)\n",
    "print(NUM_QUERY)\n",
    "print(NUM_ROUND)"
   ],
   "outputs": [
    {
     "name": "stdout",
     "output_type": "stream",
     "text": [
      "9\n",
      "19\n",
      "10\n"
     ]
    }
   ],
   "execution_count": 11
  },
  {
   "cell_type": "code",
   "metadata": {
    "ExecuteTime": {
     "end_time": "2024-04-24T03:51:00.594254Z",
     "start_time": "2024-04-24T03:51:00.580254Z"
    }
   },
   "source": [],
   "outputs": [],
   "execution_count": 11
  },
  {
   "cell_type": "code",
   "metadata": {
    "ExecuteTime": {
     "end_time": "2024-04-24T03:51:00.997254Z",
     "start_time": "2024-04-24T03:51:00.595255Z"
    }
   },
   "source": [
    "dataset = Data(X_train, y_train, X_test, y_test, seq_len_train, seq_len_test, RNS_Active_by_episode_LSTM, args_task)"
   ],
   "outputs": [],
   "execution_count": 12
  },
  {
   "cell_type": "code",
   "metadata": {
    "ExecuteTime": {
     "end_time": "2024-04-24T03:51:02.048254Z",
     "start_time": "2024-04-24T03:51:01.000255Z"
    }
   },
   "source": [
    "swav = SwaV().load_from_checkpoint(\n",
    "    ckpt_folder_root + 'rns_swav_50_12/rns_swav-epoch=82-swav_loss=2.58204.ckpt')\n",
    "model = SupervisedDownstream(swav.backbone)\n",
    "# initialize model and save the model state\n",
    "modelstate = deepcopy(model.state_dict())\n",
    "device = \"cuda\" if torch.cuda.is_available() else \"cpu\"\n",
    "\n",
    "net = Net(model, args_task, device, ckpt_folder_root='rns_active', log_folder_root='rns_active')"
   ],
   "outputs": [],
   "execution_count": 13
  },
  {
   "cell_type": "code",
   "metadata": {
    "ExecuteTime": {
     "end_time": "2024-04-24T03:51:02.565284Z",
     "start_time": "2024-04-24T03:51:02.049255Z"
    }
   },
   "source": [
    "strategy = get_strategy(strategy_name, dataset, net, None, args_task, rns_data=True)"
   ],
   "outputs": [],
   "execution_count": 14
  },
  {
   "cell_type": "code",
   "metadata": {
    "ExecuteTime": {
     "end_time": "2024-04-24T03:51:03.019373Z",
     "start_time": "2024-04-24T03:51:02.566285Z"
    }
   },
   "source": [
    "trainer = pl.Trainer(accelerator='gpu',\n",
    "                     devices=1,\n",
    "                     precision=16,)\n",
    "\n",
    "strategy.net.trainer = trainer"
   ],
   "outputs": [
    {
     "name": "stderr",
     "output_type": "stream",
     "text": [
      "Using 16bit native Automatic Mixed Precision (AMP)\n",
      "GPU available: True (cuda), used: True\n",
      "TPU available: False, using: 0 TPU cores\n",
      "IPU available: False, using: 0 IPUs\n",
      "HPU available: False, using: 0 HPUs\n"
     ]
    }
   ],
   "execution_count": 15
  },
  {
   "cell_type": "code",
   "metadata": {
    "ExecuteTime": {
     "end_time": "2024-04-24T03:53:05.017812Z",
     "start_time": "2024-04-24T03:51:03.020375Z"
    }
   },
   "source": [
    "import torch.nn as nn\n",
    "import sklearn\n",
    "for rd in range(10, NUM_ROUND + 1):\n",
    "    print('round ' + str(rd))\n",
    "    log_file_name = log_folder_root + 'rns_active/active_logs_' + strategy_name + '/logger_round_' + str(\n",
    "        rd) + '/version_0/metrics.csv'\n",
    "    logs = pd.read_csv(log_file_name)\n",
    "    max_ind = logs['val_acc'].argmax()\n",
    "    max_row = logs.iloc[max_ind]\n",
    "    ckpt_directory = ckpt_folder_root + 'rns_active/active_checkpoints_' + strategy_name\n",
    "    ckpt_files = os.listdir(ckpt_directory)\n",
    "    load_file_name = strategy_name + '_round_' + str(rd) + '-step=' + str(int(max_row['step']+1))\n",
    "    print(load_file_name)\n",
    "\n",
    "    ind = next((i for i, s in enumerate(ckpt_files) if load_file_name in s), None)\n",
    "    print(ind, ckpt_files[ind])\n",
    "    strategy.net.net = strategy.net.net.load_from_checkpoint(ckpt_directory + '/' + ckpt_files[ind], backbone=swav.backbone)\n",
    "\n",
    "    with open(log_folder_root + 'rns_active_selected/' + strategy_name + '/' + 'selected_indices.pkl', 'rb') as f:\n",
    "    # Load the content of the file into a Python object\n",
    "        selected_inds = pickle.load(f)\n",
    "    \n",
    "    # selected_ind_list = []\n",
    "    # for items in selected_inds.items():\n",
    "    #     selected_ind_list.append(np.array(items[1]))\n",
    "    q_idxs = np.array(selected_inds[rd])\n",
    "    \n",
    "    # with open(log_folder_root + 'rns_active_selected/' + strategy_name + '/' + 'selected_indices.pkl', 'wb') as f:\n",
    "    #     pickle.dump(selected_inds, f)\n",
    "# Now you can use the dictionary object as usual\n",
    "    strategy.update(q_idxs)\n",
    "    \n",
    "    _, unlabeled_data = strategy.dataset.get_train_data_unaugmented()\n",
    "    predictions = strategy.net.run_prediction(unlabeled_data)\n",
    "    output_list = []\n",
    "    seq_len_list = []\n",
    "    target_list = []\n",
    "    emb_list = []\n",
    "    m = nn.Softmax(dim=1)\n",
    "    for pred, y, emb, emb_t, seq_len in predictions:\n",
    "        output_list.append(pred)\n",
    "        seq_len_list.append(seq_len)\n",
    "        target_list.append(y)\n",
    "        emb_list.append(emb)\n",
    "\n",
    "    target = torch.concat(target_list)\n",
    "    emb = torch.vstack(emb_list)\n",
    "    pred_raw = torch.vstack(output_list).float()\n",
    "    seq_len_out = torch.tensor([item for sublist in seq_len_list for item in sublist])\n",
    "    probs = m(pred_raw)\n",
    "    out = torch.argmax(pred_raw, dim=1)\n",
    "    unlabeled_idxs, _ = strategy.dataset.get_unlabeled_data()\n",
    "    f1_score = sklearn.metrics.f1_score(target[unlabeled_idxs],out[unlabeled_idxs])\n",
    "\n",
    "    print(f1_score)\n",
    "\n",
    "#     strategy.net.round = rd\n",
    "#     strategy.net.net.load_state_dict(modelstate)\n",
    "#     torch.cuda.empty_cache()\n",
    "#     strategy.train()\n",
    "#     torch.cuda.empty_cache()"
   ],
   "outputs": [
    {
     "name": "stdout",
     "output_type": "stream",
     "text": [
      "round 10\n",
      "EntropySampling_round_10-step=340\n",
      "28 EntropySampling_round_10-step=340-train_loss=0.02179.ckpt\n"
     ]
    },
    {
     "name": "stderr",
     "output_type": "stream",
     "text": [
      "Missing logger folder: C:\\Users\\Patrick Xu\\Desktop\\RNS_Annotation-Pipeline\\scripts\\RNS_LITT_ANNOTATION_PIPELINE\\model_explain\\lightning_logs\n",
      "LOCAL_RANK: 0 - CUDA_VISIBLE_DEVICES: [0]\n"
     ]
    },
    {
     "data": {
      "text/plain": "Predicting: 0it [00:00, ?it/s]",
      "application/vnd.jupyter.widget-view+json": {
       "version_major": 2,
       "version_minor": 0,
       "model_id": "4d0e1f94226641a6a543822767e1527b"
      }
     },
     "metadata": {},
     "output_type": "display_data"
    },
    {
     "name": "stdout",
     "output_type": "stream",
     "text": [
      "0.907883493249347\n"
     ]
    }
   ],
   "execution_count": 16
  },
  {
   "cell_type": "code",
   "outputs": [],
   "source": [
    "def get_continuous_data(data):\n",
    "    return np.vstack([data[:,:,4].flatten(),data[:,:,13].flatten(),data[:,:,22].flatten(),data[:,:,31].flatten()])"
   ],
   "metadata": {
    "collapsed": false,
    "ExecuteTime": {
     "end_time": "2024-04-24T03:53:05.421810Z",
     "start_time": "2024-04-24T03:53:05.018811Z"
    }
   },
   "execution_count": 17
  },
  {
   "cell_type": "code",
   "outputs": [],
   "source": [
    "def plot_high_light(label):\n",
    "    label_start = np.where(np.diff(label) == 1)[0]\n",
    "    label_end = np.where(np.diff(label) == -1)[0]\n",
    "    label_start, label_end = check_consistent(label_start,label_end, len(label))\n",
    "    return label_start, label_end\n",
    "\n",
    "def check_consistent(start, end, total_len):\n",
    "    if len(start) != len(end):\n",
    "        if len(start)>0:\n",
    "            end = [total_len]\n",
    "        elif len(end)>0:\n",
    "            start = [0]\n",
    "    return start, end"
   ],
   "metadata": {
    "collapsed": false,
    "ExecuteTime": {
     "end_time": "2024-04-24T03:53:05.796811Z",
     "start_time": "2024-04-24T03:53:05.422812Z"
    }
   },
   "execution_count": 18
  },
  {
   "cell_type": "code",
   "outputs": [],
   "source": [
    "def plot_data(data, label = None, dr=0.5):\n",
    "    n_samples, n_rows = data.shape[1], data.shape[0]\n",
    "    h, w = n_rows * 2, 10\n",
    "    y_tick_offsets = (np.arange(n_rows) * dr)[::-1] \n",
    "    plt.figure(figsize=(w, h))\n",
    "    ax = plt.axes()\n",
    "    eeg_data = data + y_tick_offsets[:, np.newaxis]\n",
    "    time_domain = np.repeat(np.arange(data.shape[1])[:,np.newaxis]/249,4,1)\n",
    "    plt.plot(time_domain, eeg_data.T, 'k', linewidth=0.5)\n",
    "    if label is not None:\n",
    "        label_start, label_end= plot_high_light(label)\n",
    "        if len(label_start)>0:\n",
    "            for i in range(len(label_start)):\n",
    "                print(label_start,label_end)\n",
    "                plt.axvspan(label_start[i], label_end[i], color=\"yellow\", alpha=0.3)\n",
    "    \n",
    "    plt.yticks(eeg_data.mean(1))\n",
    "    ax.set_yticklabels([\"Ch1\", \"Ch2\", \"Ch3\", \"Ch4\"])\n",
    "    plt.grid(axis='x')\n",
    "    plt.xlabel('Time (s)')\n",
    "    plt.show()"
   ],
   "metadata": {
    "collapsed": false,
    "ExecuteTime": {
     "end_time": "2024-04-24T03:53:06.165810Z",
     "start_time": "2024-04-24T03:53:05.797811Z"
    }
   },
   "execution_count": 19
  },
  {
   "cell_type": "code",
   "outputs": [],
   "source": [
    "def combine_window_to_episode(data, seq_len, index=None):\n",
    "    cum_sum_index = np.cumsum(seq_len)\n",
    "    cum_sum_index = np.insert(cum_sum_index, 0, 0)\n",
    "\n",
    "    assert len(data) == cum_sum_index[-1]\n",
    "\n",
    "    data_out = [None] * (len(cum_sum_index) - 1)\n",
    "\n",
    "    for i in range(1, len(cum_sum_index)):\n",
    "        start_index, end_index = cum_sum_index[i - 1], cum_sum_index[i]\n",
    "        episode_data = data[start_index:end_index]\n",
    "\n",
    "        if index is None:\n",
    "            out = episode_data\n",
    "        else:\n",
    "            episode_labeled = index[start_index:end_index]\n",
    "            out = episode_data[episode_labeled]\n",
    "\n",
    "        if len(out) > 0:\n",
    "            data_out[i - 1] = out\n",
    "\n",
    "    data_out = [segment for segment in data_out if segment is not None]\n",
    "\n",
    "    return np.array(data_out, dtype=object)"
   ],
   "metadata": {
    "collapsed": false,
    "ExecuteTime": {
     "end_time": "2024-04-24T03:53:06.540810Z",
     "start_time": "2024-04-24T03:53:06.166812Z"
    }
   },
   "execution_count": 20
  },
  {
   "cell_type": "code",
   "outputs": [],
   "source": [
    "def reconstruct_array(data):\n",
    "    fs = 249\n",
    "    center_ind = [4,13,22,31]\n",
    "    empty_reconstruct = np.zeros((int(data.shape[1]/fs),fs,36))\n",
    "    \n",
    "    for i, ci in enumerate(center_ind):\n",
    "        empty_reconstruct[:,:,ci] = data[i].reshape(-1,fs)\n",
    "        for j in [-1, -2, -3, -4]:\n",
    "            empty_reconstruct[:,:,ci+j] = np.vstack([empty_reconstruct[:,:,ci+j+1][0],empty_reconstruct[:,:,ci+j+1][:-1]])\n",
    "        for k in [1, 2, 3, 4]:\n",
    "            empty_reconstruct[:,:,ci+k] = np.vstack([empty_reconstruct[:,:,ci+k-1][1:], empty_reconstruct[:,:,ci+k-1][-1]])\n",
    "    return empty_reconstruct\n",
    "\n",
    "                                          "
   ],
   "metadata": {
    "collapsed": false,
    "ExecuteTime": {
     "end_time": "2024-04-24T03:53:06.943811Z",
     "start_time": "2024-04-24T03:53:06.541811Z"
    }
   },
   "execution_count": 21
  },
  {
   "cell_type": "code",
   "outputs": [],
   "source": [
    "import skimage\n",
    "\n",
    "def to_rgb(data):\n",
    "    return skimage.color.gray2rgb(data)\n",
    "def to_gray(data):\n",
    "    return skimage.color.rgb2gray(data)"
   ],
   "metadata": {
    "collapsed": false,
    "ExecuteTime": {
     "end_time": "2024-04-24T03:53:07.351810Z",
     "start_time": "2024-04-24T03:53:06.944811Z"
    }
   },
   "execution_count": 22
  },
  {
   "cell_type": "code",
   "outputs": [
    {
     "data": {
      "text/plain": "<Figure size 648x432 with 1 Axes>",
      "image/png": "[encoded data removed]"
     },
     "metadata": {
      "needs_background": "light"
     },
     "output_type": "display_data"
    }
   ],
   "source": [
    "def superpixel(image, size=(1, 83)):\n",
    "    segments = np.zeros([image.shape[0], image.shape[1]])\n",
    "    row_idx, col_idx = np.where(segments == 0)\n",
    "    for i, j in zip(row_idx, col_idx):\n",
    "        segments[i, j] = int((image.shape[1]/size[1]) * (i//size[0]) + j//size[1])\n",
    "    return segments\n",
    "\n",
    "super_pixel_segments = superpixel(to_rgb(get_continuous_data(train_data[-4])))\n",
    "plt.figure(figsize=(9, 6))\n",
    "plt.imshow(super_pixel_segments,interpolation='nearest',aspect='auto', cmap='plasma')\n",
    "plt.show()"
   ],
   "metadata": {
    "collapsed": false,
    "ExecuteTime": {
     "end_time": "2024-04-24T04:04:59.054643Z",
     "start_time": "2024-04-24T04:04:58.441644Z"
    }
   },
   "execution_count": 47
  },
  {
   "cell_type": "code",
   "outputs": [
    {
     "data": {
      "text/plain": "array([[  0.,   0.,   0., ...,  29.,  29.,  29.],\n       [ 30.,  30.,  30., ...,  59.,  59.,  59.],\n       [ 60.,  60.,  60., ...,  89.,  89.,  89.],\n       [ 90.,  90.,  90., ..., 119., 119., 119.]])"
     },
     "execution_count": 24,
     "metadata": {},
     "output_type": "execute_result"
    }
   ],
   "source": [
    "super_pixel_segments"
   ],
   "metadata": {
    "collapsed": false,
    "ExecuteTime": {
     "end_time": "2024-04-24T03:53:08.359811Z",
     "start_time": "2024-04-24T03:53:07.989812Z"
    }
   },
   "execution_count": 24
  },
  {
   "cell_type": "code",
   "outputs": [],
   "source": [
    "train_data = unlabeled_data.data\n",
    "train_label = unlabeled_data.label\n",
    "pred_label = combine_window_to_episode(out,seq_len_out)"
   ],
   "metadata": {
    "collapsed": false,
    "ExecuteTime": {
     "end_time": "2024-04-24T03:53:09.381883Z",
     "start_time": "2024-04-24T03:53:08.360812Z"
    }
   },
   "execution_count": 25
  },
  {
   "cell_type": "code",
   "outputs": [
    {
     "data": {
      "text/plain": "<Figure size 1080x720 with 2 Axes>",
      "image/png": "[encoded data removed]"
     },
     "metadata": {
      "needs_background": "light"
     },
     "output_type": "display_data"
    }
   ],
   "source": [
    "data = get_continuous_data(train_data[-4])\n",
    "n_samples, n_rows = data.shape[1], data.shape[0]\n",
    "h, w = n_rows * 2.5, 15\n",
    "dr = 1.5  # Define dr if it's not defined\n",
    "y_tick_offsets = (np.arange(n_rows) * dr)[::-1] \n",
    "fig, ax = plt.subplots(figsize=(w, h))\n",
    "eeg_data = data + y_tick_offsets[:, np.newaxis]\n",
    "time_domain = np.repeat(np.arange(data.shape[1])[:, np.newaxis] / 249, 4, 1)\n",
    "\n",
    "# Assume 'super_pixel_segments' and 'x' are predefined arrays\n",
    "segs = [np.column_stack([time_domain.T[super_pixel_segments == i], eeg_data[super_pixel_segments == i]]) for i in range(int(super_pixel_segments.max()))]\n",
    "line_segments = LineCollection(segs, array=np.arange(int(super_pixel_segments.max())), linewidths=(0.5, 1, 1.5, 2), cmap='Spectral', linestyles='solid')\n",
    "ax.add_collection(line_segments)\n",
    "ax.autoscale()\n",
    "ax.margins(0.1)\n",
    "ax.set_yticks(eeg_data.mean(axis=1))\n",
    "ax.set_yticklabels([\"Ch1\", \"Ch2\", \"Ch3\", \"Ch4\"])\n",
    "ax.set_xlabel('Time (s)')\n",
    "\n",
    "# If label is defined and needed for highlighting specific regions\n",
    "# if label is not None:\n",
    "#     label_start, label_end = plot_high_light(label)\n",
    "#     if len(label_start) > 0:\n",
    "#         for i in range(len(label_start)):\n",
    "#             ax.axvspan(label_start[i], label_end[i], color=\"yellow\", alpha=0.3)\n",
    "\n",
    "plt.colorbar(line_segments, ax=ax, orientation='vertical', label='Color scale')\n",
    "plt.show()"
   ],
   "metadata": {
    "collapsed": false,
    "ExecuteTime": {
     "end_time": "2024-04-24T03:53:10.060768Z",
     "start_time": "2024-04-24T03:53:09.386880Z"
    }
   },
   "execution_count": 26
  },
  {
   "cell_type": "code",
   "outputs": [],
   "source": [],
   "metadata": {
    "collapsed": false,
    "ExecuteTime": {
     "end_time": "2024-04-24T03:53:10.075769Z",
     "start_time": "2024-04-24T03:53:10.061770Z"
    }
   },
   "execution_count": 26
  },
  {
   "cell_type": "code",
   "outputs": [
    {
     "name": "stdout",
     "output_type": "stream",
     "text": [
      "[32] [65]\n"
     ]
    },
    {
     "data": {
      "text/plain": "<Figure size 720x576 with 1 Axes>",
      "image/png": "[encoded data removed]"
     },
     "metadata": {
      "needs_background": "light"
     },
     "output_type": "display_data"
    }
   ],
   "source": [
    "sample_id = -5\n",
    "plot_data(get_continuous_data(train_data[sample_id]),train_label[sample_id])"
   ],
   "metadata": {
    "collapsed": false,
    "ExecuteTime": {
     "end_time": "2024-04-24T03:53:10.691770Z",
     "start_time": "2024-04-24T03:53:10.076770Z"
    }
   },
   "execution_count": 27
  },
  {
   "cell_type": "code",
   "outputs": [
    {
     "data": {
      "text/plain": "(90, 249, 36)"
     },
     "execution_count": 28,
     "metadata": {},
     "output_type": "execute_result"
    }
   ],
   "source": [
    "train_data[sample_id].shape"
   ],
   "metadata": {
    "collapsed": false,
    "ExecuteTime": {
     "end_time": "2024-04-24T03:53:11.093768Z",
     "start_time": "2024-04-24T03:53:10.692771Z"
    }
   },
   "execution_count": 28
  },
  {
   "cell_type": "code",
   "outputs": [
    {
     "data": {
      "text/plain": "array([0., 0., 0., 0., 0., 0., 0., 0., 0., 0., 0., 0., 0., 0., 0., 0., 0.,\n       0., 0., 0., 0., 0., 0., 0., 0., 0., 0., 0., 0., 0., 0., 0., 0., 1.,\n       1., 1., 1., 1., 1., 1., 1., 1., 1., 1., 1., 1., 1., 1., 1., 1., 1.,\n       1., 1., 1., 1., 1., 1., 1., 1., 1., 1., 1., 1., 1., 1., 1., 0., 0.,\n       0., 0., 0., 0., 0., 0., 0., 0., 0., 0., 0., 0., 0., 0., 0., 0., 0.,\n       0., 0., 0., 0., 0.])"
     },
     "execution_count": 29,
     "metadata": {},
     "output_type": "execute_result"
    }
   ],
   "source": [
    "train_label[sample_id]"
   ],
   "metadata": {
    "collapsed": false,
    "ExecuteTime": {
     "end_time": "2024-04-24T03:53:11.546770Z",
     "start_time": "2024-04-24T03:53:11.094770Z"
    }
   },
   "execution_count": 29
  },
  {
   "cell_type": "code",
   "outputs": [],
   "source": [
    "def process(data_arr):\n",
    "    data_arr = reconstruct_array(to_gray(data_arr))\n",
    "    data_arr_out = []\n",
    "    totensor = T.Compose([\n",
    "                T.ToPILImage(),\n",
    "                T.Resize((256, 256), interpolation=T.InterpolationMode.NEAREST),\n",
    "                T.ToTensor()\n",
    "            ])\n",
    "    concat_len = data_arr[0].shape[1] / 4\n",
    "    channel_index = np.arange(4)\n",
    "    channel_index = channel_index * concat_len + (concat_len - 1) / 2\n",
    "    channel_index = np.repeat(channel_index, concat_len)\n",
    "    concate_len_1 = (concat_len - 1) / 2\n",
    "    a_repeat = np.arange(-concate_len_1, concate_len_1 + 1)[np.newaxis].T\n",
    "    base_repeat = np.repeat(a_repeat, 4, axis=1).T.flatten()\n",
    "    channel_index = channel_index + base_repeat\n",
    "    \n",
    "    for i, data in enumerate(data_arr):\n",
    "        data = data[channel_index.astype(int)]\n",
    "        data = torch.from_numpy(data).clone()\n",
    "        data = data.repeat(3, 1, 1)\n",
    "        data = totensor(data)\n",
    "        data_arr_out.append(data)\n",
    "    \n",
    "    data_arr_out = torch.stack(data_arr_out)\n",
    "    return data_arr_out"
   ],
   "metadata": {
    "collapsed": false,
    "ExecuteTime": {
     "end_time": "2024-04-24T03:53:11.982771Z",
     "start_time": "2024-04-24T03:53:11.548769Z"
    }
   },
   "execution_count": 30
  },
  {
   "cell_type": "code",
   "outputs": [],
   "source": [
    "import torch.nn.functional as F\n",
    "def batch_predict(images, index = (0,90)):\n",
    "    \n",
    "    start_index, end_index = index[0],index[1]\n",
    "    strategy.net.net.eval()\n",
    "\n",
    "    device = torch.device(\"cuda\" if torch.cuda.is_available() else \"cpu\")\n",
    "    strategy.net.net.backbone.to(device)\n",
    "    strategy.net.net.to(device)\n",
    "    strategy.net.net.set_requires_grad(strategy.net.net.backbone, False)\n",
    "    \n",
    "    dataset = torch.utils.data.TensorDataset(torch.tensor(images), torch.zeros(len(images)))\n",
    "    loader = torch.utils.data.DataLoader(dataset, batch_size=8, shuffle=False)\n",
    "    \n",
    "    with torch.no_grad():\n",
    "        probs_list = []\n",
    "        for i, (sample, _) in enumerate(loader):\n",
    "            batch_seperated = tuple(process(i) for i in sample)\n",
    "            batch = torch.concat(batch_seperated, dim=0)\n",
    "            batch = batch.to(device)\n",
    "            seq_len = [dt.size(0) for dt in batch_seperated]\n",
    "            pred_test ,_,_ = strategy.net.net(batch, seq_len)\n",
    "            probs = F.softmax(pred_test, dim=1).detach().cpu().numpy()\n",
    "            probs_combined = combine_window_to_episode(probs, seq_len)\n",
    "            # print(probs_combined[:,index:index+2].shape)\n",
    "            probs_selected = probs_combined[:,start_index:end_index,1]\n",
    "            probs_list.append(probs_selected)\n",
    "    probs_selected = np.concatenate(probs_list)\n",
    "    return probs_selected\n",
    "\n",
    "def batch_predict_anchor(images, index = 50):\n",
    "    model.eval()\n",
    "\n",
    "    device = torch.device(\"cuda\" if torch.cuda.is_available() else \"cpu\")\n",
    "    strategy.net.net.backbone.to(device)\n",
    "    strategy.net.net.to(device)\n",
    "    batch = process(images)\n",
    "    # batch = torch.concat(batch_seperated, dim=0)\n",
    "    batch = batch.to(device)\n",
    "    seq_len = [dt.size(0) for dt in batch.unsqueeze(0)]\n",
    "    \n",
    "    pred_test ,_,_ = strategy.net.net(batch, seq_len)\n",
    "    probs = F.softmax(pred_test, dim=1).detach().cpu().numpy()\n",
    "    probs_combined = combine_window_to_episode(probs, seq_len)\n",
    "    probs_selected = probs_combined[:,index]\n",
    "    return probs_selected"
   ],
   "metadata": {
    "collapsed": false,
    "ExecuteTime": {
     "end_time": "2024-04-24T03:53:12.400769Z",
     "start_time": "2024-04-24T03:53:11.983770Z"
    }
   },
   "execution_count": 31
  },
  {
   "cell_type": "code",
   "outputs": [],
   "source": [],
   "metadata": {
    "collapsed": false,
    "ExecuteTime": {
     "end_time": "2024-04-24T03:53:12.416768Z",
     "start_time": "2024-04-24T03:53:12.401769Z"
    }
   },
   "execution_count": 31
  },
  {
   "cell_type": "code",
   "outputs": [
    {
     "data": {
      "text/plain": "(33, 65)"
     },
     "execution_count": 32,
     "metadata": {},
     "output_type": "execute_result"
    }
   ],
   "source": [
    "def get_label_start_stop(label):\n",
    "    pos_label_index = np.where(label==1)[0]\n",
    "    return (pos_label_index.min(),pos_label_index.max())\n",
    "get_label_start_stop(train_label[sample_id])"
   ],
   "metadata": {
    "collapsed": false,
    "ExecuteTime": {
     "end_time": "2024-04-24T03:53:12.852769Z",
     "start_time": "2024-04-24T03:53:12.417769Z"
    }
   },
   "execution_count": 32
  },
  {
   "cell_type": "code",
   "outputs": [
    {
     "data": {
      "text/plain": "['HUP047',\n 'HUP084',\n 'HUP096',\n 'HUP109',\n 'HUP121',\n 'HUP129',\n 'HUP131',\n 'HUP137',\n 'HUP147',\n 'HUP153',\n 'HUP156',\n 'HUP159',\n 'HUP182',\n 'HUP197',\n 'HUP199',\n 'HUP205',\n 'RNS026',\n 'RNS029']"
     },
     "execution_count": 35,
     "metadata": {},
     "output_type": "execute_result"
    }
   ],
   "source": [
    "raw_annotations = pd.read_csv('../../../user_data/full_updated_anns_annotTbl_cleaned.csv')\n",
    "ids = list(np.unique(raw_annotations[raw_annotations['descriptions'].notnull()]['HUP_ID']))\n",
    "# ids = list(np.unique(raw_annotations['HUP_ID']))\n",
    "ids"
   ],
   "metadata": {
    "collapsed": false,
    "ExecuteTime": {
     "end_time": "2024-04-24T03:54:15.747504Z",
     "start_time": "2024-04-24T03:54:15.316504Z"
    }
   },
   "execution_count": 35
  },
  {
   "cell_type": "code",
   "outputs": [
    {
     "name": "stderr",
     "output_type": "stream",
     "text": [
      "100%|██████████| 18/18 [00:37<00:00,  2.08s/it]\n"
     ]
    }
   ],
   "source": [
    "data = data_utility.read_files(path = rns_data_path,patientIDs = ids,verbose = True)"
   ],
   "metadata": {
    "collapsed": false,
    "ExecuteTime": {
     "end_time": "2024-04-24T03:54:54.836504Z",
     "start_time": "2024-04-24T03:54:16.767504Z"
    }
   },
   "execution_count": 36
  },
  {
   "cell_type": "code",
   "outputs": [],
   "source": [
    "annotations = annotation_utility.read_annotation(annotation_path='../../../user_data/full_updated_anns_annotTbl_cleaned.csv',data=data, n_class=3)"
   ],
   "metadata": {
    "collapsed": false,
    "ExecuteTime": {
     "end_time": "2024-04-24T03:55:26.244710Z",
     "start_time": "2024-04-24T03:55:22.838710Z"
    }
   },
   "execution_count": 38
  },
  {
   "cell_type": "code",
   "outputs": [
    {
     "data": {
      "text/plain": "'1101'"
     },
     "execution_count": 44,
     "metadata": {},
     "output_type": "execute_result"
    }
   ],
   "source": [
    "annots = annotations.annotations\n"
   ],
   "metadata": {
    "collapsed": false,
    "ExecuteTime": {
     "end_time": "2024-04-24T03:59:05.604137Z",
     "start_time": "2024-04-24T03:59:05.223139Z"
    }
   },
   "execution_count": 44
  },
  {
   "cell_type": "code",
   "outputs": [
    {
     "name": "stdout",
     "output_type": "stream",
     "text": [
      "['105.npy', '107.npy', '109.npy', '110.npy', '113.npy', '115.npy', '116.npy', '127.npy', '128.npy', '130.npy', '132.npy', '133.npy', '135.npy', '136.npy', '139.npy', '140.npy', '141.npy', '143.npy', '150.npy', '162.npy', '168.npy', '169.npy', '171.npy', '172.npy', '173.npy', '174.npy', '175.npy', '176.npy', '177.npy', '178.npy', '179.npy', '180.npy', '181.npy', '182.npy', '183.npy', '184.npy', '185.npy', '186.npy', '187.npy', '188.npy', '189.npy', '190.npy', '191.npy', '192.npy', '193.npy', '194.npy', '195.npy', '197.npy', '198.npy', '203.npy', '204.npy', '206.npy', '207.npy', '208.npy', '209.npy', '210.npy', '211.npy', '212.npy', '213.npy', '214.npy', '215.npy', '217.npy', '218.npy', '220.npy', '221.npy', '222.npy', '223.npy', '224.npy', '226.npy', '230.npy', '231.npy', '232.npy', '233.npy', '236.npy', '237.npy', '239.npy', '241.npy', '242.npy', '243.npy', '244.npy', '245.npy', '246.npy', '247.npy', '248.npy', '249.npy', '250.npy', '252.npy', '253.npy', '254.npy', '255.npy', '256.npy', '257.npy', '258.npy', '259.npy', '263.npy', '264.npy', '265.npy', '266.npy', '268.npy', '269.npy', '270.npy', '271.npy', '272.npy', '273.npy', '274.npy', '276.npy', '278.npy', '279.npy', '280.npy', '281.npy', '282.npy', '283.npy', '284.npy', '285.npy', '287.npy', '288.npy', '296.npy', '297.npy', '319.npy', '388.npy', '390.npy', '391.npy', '393.npy', '395.npy', '396.npy', '397.npy', '398.npy', '400.npy', '401.npy', '402.npy', '403.npy', '404.npy', '405.npy', '406.npy', '407.npy', '409.npy', '410.npy', '411.npy', '413.npy', '414.npy', '418.npy', '419.npy', '420.npy', '421.npy', '424.npy', '425.npy', '426.npy', '427.npy', '428.npy', '430.npy', '432.npy', '434.npy', '438.npy', '440.npy', '441.npy', '443.npy', '444.npy', '447.npy', '448.npy', '449.npy', '450.npy', '451.npy', '452.npy', '453.npy', '454.npy', '456.npy', '457.npy', '458.npy', '459.npy', '460.npy', '461.npy', '462.npy', '464.npy', '465.npy', '466.npy', '467.npy', '468.npy', '470.npy', '471.npy', '472.npy', '473.npy', '474.npy', '475.npy', '476.npy', '477.npy', '480.npy', '494.npy', '504.npy', '505.npy', '509.npy', '510.npy', '512.npy', '514.npy', '516.npy', '518.npy', '520.npy', '522.npy', '524.npy', '526.npy', '528.npy', '530.npy', '531.npy', '533.npy', '536.npy', '543.npy', '545.npy', '556.npy', '562.npy', '563.npy', '564.npy', '566.npy', '567.npy', '568.npy', '569.npy', '570.npy', '571.npy', '574.npy', '577.npy', '578.npy', '581.npy', '584.npy', '585.npy', '587.npy', '591.npy', '592.npy', '594.npy', '595.npy', '597.npy', '598.npy', '604.npy', '608.npy', '610.npy', '612.npy', '613.npy', '614.npy', '620.npy', '621.npy', '622.npy', '624.npy', '626.npy', '629.npy', '630.npy', '631.npy', '632.npy', '633.npy', '635.npy', '638.npy', '639.npy', '640.npy', '642.npy', '643.npy', '644.npy', '646.npy', '648.npy', '649.npy', '650.npy', '651.npy', '652.npy', '654.npy', '655.npy', '656.npy', '657.npy', '658.npy', '659.npy', '660.npy', '662.npy', '663.npy', '664.npy', '665.npy', '666.npy', '667.npy', '669.npy', '670.npy', '671.npy', '673.npy', '674.npy', '675.npy', '677.npy', '678.npy', '679.npy', '680.npy', '684.npy', '686.npy', '687.npy', '688.npy', '689.npy', '691.npy', '693.npy', '695.npy', '696.npy', '697.npy', '699.npy', '701.npy', '707.npy', '708.npy', '709.npy', '713.npy', '714.npy', '715.npy', '717.npy', '718.npy', '719.npy', '72.npy', '721.npy', '722.npy', '723.npy', '724.npy', '726.npy', '727.npy', '728.npy', '729.npy', '730.npy', '732.npy', '734.npy', '736.npy', '739.npy', '74.npy', '740.npy', '741.npy', '742.npy', '743.npy', '747.npy', '748.npy', '749.npy', '750.npy', '751.npy', '752.npy', '754.npy', '755.npy', '756.npy', '757.npy', '758.npy', '759.npy', '760.npy', '762.npy', '763.npy', '765.npy', '766.npy', '768.npy', '769.npy', '770.npy', '771.npy', '772.npy', '773.npy', '774.npy', '776.npy', '778.npy', '779.npy', '780.npy', '782.npy', '783.npy', '784.npy', '785.npy', '787.npy', '788.npy', '80.npy', '82.npy', '86.npy', '89.npy', '90.npy', '98.npy']\n"
     ]
    }
   ],
   "source": [
    "file_names = os.listdir('save')\n",
    "print(file_names)"
   ],
   "metadata": {
    "collapsed": false,
    "ExecuteTime": {
     "end_time": "2024-04-24T04:01:51.795596Z",
     "start_time": "2024-04-24T04:01:51.398598Z"
    }
   },
   "execution_count": 46
  },
  {
   "cell_type": "code",
   "outputs": [
    {
     "name": "stderr",
     "output_type": "stream",
     "text": [
      "100%|██████████| 361/361 [07:48<00:00,  1.30s/it]\n"
     ]
    }
   ],
   "source": [
    "j = 1\n",
    "\n",
    "kernel_data = []\n",
    "channel_label = []\n",
    "\n",
    "for file_name in tqdm(file_names):\n",
    "# file_name = file_names[j]\n",
    "    try:\n",
    "        sample_id = int(file_name.split('.')[0])\n",
    "        sample_kernel = np.load('save/' + file_name,allow_pickle=True).item()\n",
    "        sample_kernel.keys()\n",
    "        \n",
    "        super_pixel_segments = superpixel(to_rgb(get_continuous_data(train_data[sample_id])))\n",
    "        cum_kernel_values = np.zeros(int(super_pixel_segments.max())+1)\n",
    "        for i in range(len(sample_kernel['top_labels'])):\n",
    "            exp_kernel_value = np.vstack(sample_kernel['kernel'][i])\n",
    "            for sample in range(sample_kernel['kernel'].shape[1]):\n",
    "                sorted_kernel = exp_kernel_value[np.argsort(exp_kernel_value[:,0])]\n",
    "                cum_kernel_values[sample] = sorted_kernel[sorted_kernel[:,0] == sample][0,1]\n",
    "        \n",
    "        label_id = train_index[sample_id][0]['episode_index']\n",
    "        clb = torch.tensor([int(char) for char in annots.loc[label_id]['Channel_Code'][0]])\n",
    "        dt = cum_kernel_values.reshape(4,-1)\n",
    "        kernel_data.append(dt)\n",
    "        channel_label.append(clb)\n",
    "    except:\n",
    "        continue\n"
   ],
   "metadata": {
    "collapsed": false,
    "ExecuteTime": {
     "end_time": "2024-04-24T04:30:51.961292Z",
     "start_time": "2024-04-24T04:23:03.537418Z"
    }
   },
   "execution_count": 61
  },
  {
   "cell_type": "code",
   "outputs": [
    {
     "data": {
      "text/plain": "270"
     },
     "execution_count": 76,
     "metadata": {},
     "output_type": "execute_result"
    }
   ],
   "source": [
    "max_columns = max(arr.shape[1] for arr in kernel_data)\n",
    "max_columns"
   ],
   "metadata": {
    "collapsed": false,
    "ExecuteTime": {
     "end_time": "2024-04-24T04:38:33.225104Z",
     "start_time": "2024-04-24T04:38:32.853105Z"
    }
   },
   "execution_count": 76
  },
  {
   "cell_type": "code",
   "outputs": [],
   "source": [
    "padded_arrays = [np.pad(arr, ((0, 0), (0, max_columns - arr.shape[1])), mode='constant', constant_values=0) for arr in kernel_data]"
   ],
   "metadata": {
    "collapsed": false,
    "ExecuteTime": {
     "end_time": "2024-04-24T04:39:01.285104Z",
     "start_time": "2024-04-24T04:39:00.896105Z"
    }
   },
   "execution_count": 77
  },
  {
   "cell_type": "code",
   "outputs": [
    {
     "data": {
      "text/plain": "354"
     },
     "execution_count": 79,
     "metadata": {},
     "output_type": "execute_result"
    }
   ],
   "source": [
    "len(padded_arrays)"
   ],
   "metadata": {
    "collapsed": false,
    "ExecuteTime": {
     "end_time": "2024-04-24T04:39:21.440995Z",
     "start_time": "2024-04-24T04:39:21.057997Z"
    }
   },
   "execution_count": 79
  },
  {
   "cell_type": "code",
   "outputs": [],
   "source": [
    "array_object = np.stack(padded_arrays)\n",
    "\n",
    "# Save to file\n",
    "np.save('kernel_data.npy', array_object)"
   ],
   "metadata": {
    "collapsed": false,
    "ExecuteTime": {
     "end_time": "2024-04-24T04:39:44.296995Z",
     "start_time": "2024-04-24T04:39:43.915998Z"
    }
   },
   "execution_count": 80
  },
  {
   "cell_type": "code",
   "outputs": [],
   "source": [
    "array_label = np.array([ar.numpy() for ar in channel_label])\n",
    "np.save('channel_label.npy', array_label)"
   ],
   "metadata": {
    "collapsed": false,
    "ExecuteTime": {
     "end_time": "2024-04-24T04:41:07.248296Z",
     "start_time": "2024-04-24T04:41:06.885296Z"
    }
   },
   "execution_count": 82
  },
  {
   "cell_type": "code",
   "outputs": [
    {
     "data": {
      "text/plain": "(21, 1080, 2)"
     },
     "execution_count": 58,
     "metadata": {},
     "output_type": "execute_result"
    }
   ],
   "source": [
    "sample_kernel['kernel'].shape"
   ],
   "metadata": {
    "collapsed": false,
    "ExecuteTime": {
     "end_time": "2024-04-24T04:15:42.407012Z",
     "start_time": "2024-04-24T04:15:42.003011Z"
    }
   },
   "execution_count": 58
  },
  {
   "cell_type": "code",
   "outputs": [
    {
     "data": {
      "text/plain": "(4, 270)"
     },
     "execution_count": 59,
     "metadata": {},
     "output_type": "execute_result"
    }
   ],
   "source": [
    "dt.shape"
   ],
   "metadata": {
    "collapsed": false,
    "ExecuteTime": {
     "end_time": "2024-04-24T04:15:49.321009Z",
     "start_time": "2024-04-24T04:15:48.945013Z"
    }
   },
   "execution_count": 59
  },
  {
   "cell_type": "code",
   "outputs": [],
   "source": [],
   "metadata": {
    "collapsed": false
   }
  },
  {
   "cell_type": "code",
   "outputs": [],
   "source": [],
   "metadata": {
    "collapsed": false
   }
  },
  {
   "cell_type": "code",
   "outputs": [],
   "source": [],
   "metadata": {
    "collapsed": false
   }
  },
  {
   "cell_type": "code",
   "outputs": [
    {
     "data": {
      "text/plain": "1921"
     },
     "execution_count": 50,
     "metadata": {},
     "output_type": "execute_result"
    }
   ],
   "source": [],
   "metadata": {
    "collapsed": false,
    "ExecuteTime": {
     "end_time": "2024-04-24T04:07:35.970642Z",
     "start_time": "2024-04-24T04:07:35.572640Z"
    }
   },
   "execution_count": 50
  },
  {
   "cell_type": "code",
   "outputs": [],
   "source": [
    "test_sample = to_rgb(get_continuous_data(train_data[sample_id]))\n",
    "test_sample_list = [test_sample,test_sample,test_sample,test_sample]\n",
    "batch_predict(test_sample_list, index=(30,34))"
   ],
   "metadata": {
    "collapsed": false,
    "ExecuteTime": {
     "start_time": "2024-04-24T03:53:15.499770Z"
    }
   },
   "execution_count": null
  },
  {
   "cell_type": "code",
   "outputs": [],
   "source": [
    "from skimage import segmentation\n",
    "from lime import lime_image\n",
    "# for sample_id in np.arange(992)[torch.tensor([np.sign(tl.sum()).to(bool) for tl in pred_label])]:\n",
    "sample_id = -4\n",
    "explainer = lime_image.LimeImageExplainer(random_state=42)\n",
    "\n",
    "explanation = explainer.explain_instance(np.array(to_rgb(get_continuous_data(train_data[sample_id]))),\n",
    "                                         lambda x: batch_predict(x, index=get_label_start_stop(pred_label[sample_id])),\n",
    "                                         top_labels=get_label_start_stop(pred_label[sample_id])[1] -\n",
    "                                                    get_label_start_stop(pred_label[sample_id])[0],\n",
    "                                         batch_size=8,\n",
    "                                         segmentation_fn=superpixel,\n",
    "                                         num_samples=500,\n",
    "                                         # num_features=50,\n",
    "                                         random_seed=42)\n",
    "\n",
    "\n",
    "kernel_value_arr = []\n",
    "mask_array = []\n",
    "for i in range(len(explanation.top_labels)):\n",
    "    exp_kernel_value = np.vstack(explanation.local_exp[i])\n",
    "    _, mask = explanation.get_image_and_mask(i, positive_only=True, num_features=250, hide_rest=False)\n",
    "    kernel_value_arr.append(exp_kernel_value)\n",
    "    mask_array.append(mask)\n",
    "\n",
    "# kernel_value_arr= np.stack(kernel_value_arr)\n",
    "# mask_array = np.stack(mask_array)\n",
    "# to_save = {}\n",
    "# to_save['kernel'] = kernel_value_arr\n",
    "# to_save['mask'] = mask_array\n",
    "# to_save['top_labels'] = explanation.top_labels\n",
    "# \n",
    "# np.save('save/' + str(sample_id)+'.npy',to_save)\n",
    " "
   ],
   "metadata": {
    "collapsed": false,
    "ExecuteTime": {
     "start_time": "2024-04-24T03:53:15.500769Z"
    }
   },
   "execution_count": null
  },
  {
   "cell_type": "code",
   "outputs": [],
   "source": [
    "kernel_value_arr= np.stack(kernel_value_arr)\n",
    "mask_array = np.stack(mask_array)\n",
    "sample_kernel = {}\n",
    "sample_kernel['kernel'] = kernel_value_arr\n",
    "sample_kernel['mask'] = mask_array\n",
    "sample_kernel['top_labels'] = explanation.top_labels"
   ],
   "metadata": {
    "collapsed": false,
    "ExecuteTime": {
     "start_time": "2024-04-24T03:53:15.501769Z"
    }
   },
   "execution_count": null
  },
  {
   "cell_type": "code",
   "outputs": [],
   "source": [
    "file_names = os.listdir('save_1s')\n"
   ],
   "metadata": {
    "collapsed": false
   },
   "execution_count": null
  },
  {
   "cell_type": "code",
   "outputs": [],
   "source": [
    "len(file_names)"
   ],
   "metadata": {
    "collapsed": false,
    "ExecuteTime": {
     "start_time": "2024-04-24T03:53:15.502771Z"
    }
   },
   "execution_count": null
  },
  {
   "cell_type": "code",
   "outputs": [],
   "source": [
    "for j in range(0,72):\n",
    "    file_name = file_names[j]\n",
    "    sample_id = int(file_name.split('.')[0])\n",
    "    sample_kernel = np.load('save_1s/' + file_name,allow_pickle=True).item()\n",
    "    sample_kernel.keys()\n",
    "    \n",
    "    super_pixel_segments = superpixel(to_rgb(get_continuous_data(train_data[sample_id])))\n",
    "    cum_kernel_values = np.zeros(int(super_pixel_segments.max()))\n",
    "    for i in range(len(sample_kernel['top_labels'])):\n",
    "        exp_kernel_value = np.vstack(sample_kernel['kernel'][i])\n",
    "        mask = sample_kernel['mask'][i]\n",
    "        for sample in np.unique(super_pixel_segments[mask.astype(bool)]).astype(int):\n",
    "            sorted_kernel = exp_kernel_value[np.argsort(exp_kernel_value[:,0])]\n",
    "            cum_kernel_values[sample-1] = sorted_kernel[sorted_kernel[:,0] == sample][0,1]\n",
    "    \n",
    "    # sample_id = -4\n",
    "    data = get_continuous_data(train_data[sample_id])\n",
    "    n_samples, n_rows = data.shape[1], data.shape[0]\n",
    "    h, w = n_rows * 1.5, 10\n",
    "    dr = 0.5  # Define dr if it's not defined\n",
    "    y_tick_offsets = (np.arange(n_rows) * dr)[::-1] \n",
    "    fig, ax = plt.subplots(figsize=(w, h))\n",
    "    eeg_data = data + y_tick_offsets[:, np.newaxis]\n",
    "    time_domain = np.repeat(np.arange(data.shape[1])[:, np.newaxis] / 249, 4, 1)\n",
    "    \n",
    "    # Assume 'super_pixel_segments' and 'x' are predefined arrays\n",
    "    segs = [np.column_stack([time_domain.T[super_pixel_segments == i+j], eeg_data[super_pixel_segments == i+j]]) for i in np.argsort(cum_kernel_values)[::-1][:15] for j in [0]]\n",
    "    line_segments = LineCollection(segs, array=np.arange(int(10)), linewidths=(0.5, 1, 1.5, 2), cmap = 'Wistia', linestyles='solid')\n",
    "    \n",
    "    ax.plot(time_domain, eeg_data.T, 'k', linewidth=0.5)\n",
    "    ax.add_collection(line_segments)\n",
    "    \n",
    "    \n",
    "    ax.autoscale()\n",
    "    ax.margins(0.1)\n",
    "    ax.set_yticks(eeg_data.mean(axis=1))\n",
    "    ax.set_yticklabels([\"Ch1\", \"Ch2\", \"Ch3\", \"Ch4\"])\n",
    "    ax.xaxis.grid(True)\n",
    "    ax.set_xlabel('Time (s)')\n",
    "    \n",
    "    # If label is defined and needed for highlighting specific regions\n",
    "    # if label is not None:\n",
    "    #     label_start, label_end = plot_high_light(label)\n",
    "    #     if len(label_start) > 0:\n",
    "    #         for i in range(len(label_start)):\n",
    "    #             ax.axvspan(label_start[i], label_end[i], color=\"yellow\", alpha=0.3)\n",
    "    \n",
    "    \n",
    "    ax.axvspan(get_label_start_stop(pred_label[sample_id])[0],get_label_start_stop(pred_label[sample_id])[1], color=\"blue\", alpha=0.3)\n",
    "    \n",
    "    plt.colorbar(line_segments, ax=ax, orientation='vertical', label='Order of Importance')\n",
    "    plt.show()"
   ],
   "metadata": {
    "collapsed": false,
    "ExecuteTime": {
     "start_time": "2024-04-24T03:53:15.503770Z"
    }
   },
   "execution_count": null
  },
  {
   "cell_type": "code",
   "outputs": [],
   "source": [],
   "metadata": {
    "collapsed": false
   },
   "execution_count": null
  },
  {
   "cell_type": "code",
   "outputs": [],
   "source": [
    "np.sort(cum_kernel_values)[::-1]"
   ],
   "metadata": {
    "collapsed": false,
    "ExecuteTime": {
     "start_time": "2024-04-24T03:53:15.504769Z"
    }
   },
   "execution_count": null
  },
  {
   "cell_type": "code",
   "outputs": [],
   "source": [
    "ind =  explanation.top_labels[4]\n",
    "#Map each explanation weight to the corresponding superpixel\n",
    "dict_heatmap = dict(explanation.local_exp[ind])\n",
    "heatmap = np.vectorize(dict_heatmap.get)(explanation.segments) \n",
    "#Plot. The visualization makes more sense if a symmetrical colorbar is used.\n",
    "plt.imshow(heatmap, cmap = 'RdBu', aspect='auto')\n",
    "plt.colorbar()"
   ],
   "metadata": {
    "collapsed": false,
    "ExecuteTime": {
     "start_time": "2024-04-24T03:53:15.505771Z"
    }
   },
   "execution_count": null
  },
  {
   "cell_type": "code",
   "outputs": [],
   "source": [
    "np.unique(super_pixel_segments[mask.astype(bool)]).astype(int)"
   ],
   "metadata": {
    "collapsed": false,
    "ExecuteTime": {
     "start_time": "2024-04-24T03:53:15.506769Z"
    }
   },
   "execution_count": null
  },
  {
   "cell_type": "code",
   "outputs": [],
   "source": [
    "np.sum(cum_kernel_values.reshape(4,-1),axis = 1)"
   ],
   "metadata": {
    "collapsed": false,
    "ExecuteTime": {
     "start_time": "2024-04-24T03:53:15.506769Z"
    }
   },
   "execution_count": null
  },
  {
   "cell_type": "code",
   "outputs": [],
   "source": [
    "cum_kernel_values.reshape(4,-1)[:, 40:54]"
   ],
   "metadata": {
    "collapsed": false,
    "ExecuteTime": {
     "start_time": "2024-04-24T03:53:15.507770Z"
    }
   },
   "execution_count": null
  },
  {
   "cell_type": "code",
   "outputs": [],
   "source": [],
   "metadata": {
    "collapsed": false
   },
   "execution_count": null
  },
  {
   "cell_type": "code",
   "outputs": [],
   "source": [
    "np.unique(super_pixel_segments[mask.astype(bool)]).astype(int)"
   ],
   "metadata": {
    "collapsed": false,
    "ExecuteTime": {
     "start_time": "2024-04-24T03:53:15.508770Z"
    }
   },
   "execution_count": null
  },
  {
   "cell_type": "code",
   "outputs": [],
   "source": [
    "np.arange(100)[get_label_start_stop(pred_label[sample_id])[0]:get_label_start_stop(pred_label[sample_id])[1]]"
   ],
   "metadata": {
    "collapsed": false
   },
   "execution_count": null
  },
  {
   "cell_type": "code",
   "outputs": [],
   "source": [
    "get_label_start_stop(pred_label[sample_id])"
   ],
   "metadata": {
    "collapsed": false,
    "ExecuteTime": {
     "start_time": "2024-04-24T03:53:15.510770Z"
    }
   },
   "execution_count": null
  },
  {
   "cell_type": "code",
   "outputs": [],
   "source": [
    "explanation.local_exp.keys()"
   ],
   "metadata": {
    "collapsed": false,
    "ExecuteTime": {
     "start_time": "2024-04-24T03:53:15.511770Z"
    }
   },
   "execution_count": null
  },
  {
   "cell_type": "code",
   "outputs": [],
   "source": [
    "pred_label[sample_id]"
   ],
   "metadata": {
    "collapsed": false,
    "ExecuteTime": {
     "start_time": "2024-04-24T03:53:15.512768Z"
    }
   },
   "execution_count": null
  },
  {
   "cell_type": "code",
   "outputs": [],
   "source": [],
   "metadata": {
    "collapsed": false
   },
   "execution_count": null
  },
  {
   "cell_type": "code",
   "outputs": [],
   "source": [
    "kernel_value_arr = []\n",
    "mask_array = []\n",
    "\n",
    "for i in range(len(explanation.top_labels)):\n",
    "    exp_kernel_value = np.vstack(explanation.local_exp[i])\n",
    "    _, mask = explanation.get_image_and_mask(i, positive_only=True, num_features=250, hide_rest=False)\n",
    "    kernel_value_arr.append(exp_kernel_value)\n",
    "    mask_array.append(mask)\n",
    "\n",
    "kernel_value_arr= np.stack(kernel_value_arr)\n",
    "mask_array = np.stack(mask_array)"
   ],
   "metadata": {
    "collapsed": false,
    "ExecuteTime": {
     "start_time": "2024-04-24T03:53:15.513769Z"
    }
   },
   "execution_count": null
  },
  {
   "cell_type": "code",
   "outputs": [],
   "source": [
    "kernel_value_arr.shape"
   ],
   "metadata": {
    "collapsed": false,
    "ExecuteTime": {
     "start_time": "2024-04-24T03:53:15.514771Z"
    }
   },
   "execution_count": null
  },
  {
   "cell_type": "code",
   "outputs": [],
   "source": [
    "explanation"
   ],
   "metadata": {
    "collapsed": false,
    "ExecuteTime": {
     "start_time": "2024-04-24T03:53:15.515770Z"
    }
   },
   "execution_count": null
  },
  {
   "cell_type": "code",
   "outputs": [],
   "source": [],
   "metadata": {
    "collapsed": false,
    "ExecuteTime": {
     "start_time": "2024-04-24T03:53:15.515770Z"
    }
   },
   "execution_count": null
  },
  {
   "cell_type": "code",
   "outputs": [],
   "source": [
    "to_rgb(get_continuous_data(train_data[-4])).shape"
   ],
   "metadata": {
    "collapsed": false,
    "ExecuteTime": {
     "start_time": "2024-04-24T03:53:15.516769Z"
    }
   },
   "execution_count": null
  },
  {
   "cell_type": "code",
   "outputs": [],
   "source": [
    "from skimage.segmentation import mark_boundaries"
   ],
   "metadata": {
    "collapsed": false,
    "ExecuteTime": {
     "start_time": "2024-04-24T03:53:15.517770Z"
    }
   },
   "execution_count": null
  },
  {
   "cell_type": "code",
   "outputs": [],
   "source": [],
   "metadata": {
    "collapsed": false,
    "ExecuteTime": {
     "start_time": "2024-04-24T03:53:15.517770Z"
    }
   },
   "execution_count": null
  },
  {
   "cell_type": "code",
   "outputs": [],
   "source": [
    "dir(explanation)"
   ],
   "metadata": {
    "collapsed": false,
    "ExecuteTime": {
     "start_time": "2024-04-24T03:53:15.518768Z"
    }
   },
   "execution_count": null
  },
  {
   "cell_type": "code",
   "outputs": [],
   "source": [
    "len(explanation.top_labels)"
   ],
   "metadata": {
    "collapsed": false,
    "ExecuteTime": {
     "start_time": "2024-04-24T03:53:15.519769Z"
    }
   },
   "execution_count": null
  },
  {
   "cell_type": "code",
   "outputs": [],
   "source": [
    "len(explanation.local_exp[9])"
   ],
   "metadata": {
    "collapsed": false,
    "ExecuteTime": {
     "start_time": "2024-04-24T03:53:15.520769Z"
    }
   },
   "execution_count": null
  },
  {
   "cell_type": "code",
   "outputs": [],
   "source": [
    "np.sort(cum_kernel_values)[::-1][:100]"
   ],
   "metadata": {
    "collapsed": false,
    "ExecuteTime": {
     "start_time": "2024-04-24T03:53:15.521769Z"
    }
   },
   "execution_count": null
  },
  {
   "cell_type": "code",
   "outputs": [],
   "source": [
    "cum_kernel_values[]"
   ],
   "metadata": {
    "collapsed": false,
    "ExecuteTime": {
     "start_time": "2024-04-24T03:53:15.521769Z"
    }
   },
   "execution_count": null
  },
  {
   "cell_type": "code",
   "outputs": [],
   "source": [
    "exp_kernel_value[np.argsort(exp_kernel_value[:,0])][np.unique(super_pixel_segments[mask.astype(bool)]).astype(int)]"
   ],
   "metadata": {
    "collapsed": false,
    "ExecuteTime": {
     "start_time": "2024-04-24T03:53:15.522770Z"
    }
   },
   "execution_count": null
  },
  {
   "cell_type": "code",
   "outputs": [],
   "source": [
    "np.sort(cum_kernel_values)[::-1][:100]"
   ],
   "metadata": {
    "collapsed": false,
    "ExecuteTime": {
     "start_time": "2024-04-24T03:53:15.523769Z"
    }
   },
   "execution_count": null
  },
  {
   "cell_type": "code",
   "outputs": [],
   "source": [
    "get_label_start_stop(pred_label[sample_id])"
   ],
   "metadata": {
    "collapsed": false
   },
   "execution_count": null
  },
  {
   "cell_type": "code",
   "outputs": [],
   "source": [
    "exp_kernel_value = np.vstack(explanation.local_exp[1])"
   ],
   "metadata": {
    "collapsed": false,
    "ExecuteTime": {
     "start_time": "2024-04-24T03:53:15.524769Z"
    }
   },
   "execution_count": null
  },
  {
   "cell_type": "code",
   "outputs": [],
   "source": [],
   "metadata": {
    "collapsed": false,
    "ExecuteTime": {
     "start_time": "2024-04-24T03:53:15.525770Z"
    }
   },
   "execution_count": null
  },
  {
   "cell_type": "code",
   "outputs": [],
   "source": [
    "exp_kernel_value[np.argsort(exp_kernel_value[:,0])][np.unique(super_pixel_segments[mask.astype(bool)]).astype(int)]"
   ],
   "metadata": {
    "collapsed": false,
    "ExecuteTime": {
     "start_time": "2024-04-24T03:53:15.526769Z"
    }
   },
   "execution_count": null
  },
  {
   "cell_type": "code",
   "outputs": [],
   "source": [
    "print(np.argsort(exp_kernel_value[:,0]))"
   ],
   "metadata": {
    "collapsed": false,
    "ExecuteTime": {
     "start_time": "2024-04-24T03:53:15.526769Z"
    }
   },
   "execution_count": null
  },
  {
   "cell_type": "code",
   "outputs": [],
   "source": [
    "len(np.where(pred_label[-4]==1)[0])"
   ],
   "metadata": {
    "collapsed": false,
    "ExecuteTime": {
     "start_time": "2024-04-24T03:53:15.527770Z"
    }
   },
   "execution_count": null
  },
  {
   "cell_type": "code",
   "outputs": [],
   "source": [
    "\n",
    "from alibi.explainers import AnchorImage\n",
    "explainer = AnchorImage(batch_predict, (4, 22410, 3), segmentation_fn=superpixel,\n",
    "                        images_background=None)"
   ],
   "metadata": {
    "collapsed": false,
    "ExecuteTime": {
     "start_time": "2024-04-24T03:53:15.528769Z"
    }
   },
   "execution_count": null
  },
  {
   "cell_type": "code",
   "outputs": [],
   "source": [
    "image = to_rgb(get_continuous_data(train_data[-4]))\n",
    "print(image.shape)"
   ],
   "metadata": {
    "collapsed": false,
    "ExecuteTime": {
     "start_time": "2024-04-24T03:53:15.529770Z"
    }
   },
   "execution_count": null
  },
  {
   "cell_type": "code",
   "outputs": [],
   "source": [
    "explanation = explainer.explain(image,threshold= 0.8, stop_on_first = True)"
   ],
   "metadata": {
    "collapsed": false,
    "ExecuteTime": {
     "start_time": "2024-04-24T03:53:15.530769Z"
    }
   },
   "execution_count": null
  },
  {
   "cell_type": "code",
   "outputs": [],
   "source": [
    "plt.imshow(explanation.anchor,aspect='auto')"
   ],
   "metadata": {
    "collapsed": false,
    "ExecuteTime": {
     "start_time": "2024-04-24T03:53:15.530769Z"
    }
   },
   "execution_count": null
  },
  {
   "cell_type": "code",
   "outputs": [],
   "source": [
    "plt.imshow(explanation.segments,aspect='auto');"
   ],
   "metadata": {
    "collapsed": false,
    "ExecuteTime": {
     "start_time": "2024-04-24T03:53:15.531771Z"
    }
   },
   "execution_count": null
  },
  {
   "cell_type": "code",
   "outputs": [],
   "source": [
    "explanation.anchor"
   ],
   "metadata": {
    "collapsed": false,
    "ExecuteTime": {
     "start_time": "2024-04-24T03:53:15.532770Z"
    }
   },
   "execution_count": null
  },
  {
   "cell_type": "code",
   "outputs": [],
   "source": [
    "explanation.anchor.shape"
   ],
   "metadata": {
    "collapsed": false,
    "ExecuteTime": {
     "start_time": "2024-04-24T03:53:15.533770Z"
    }
   },
   "execution_count": null
  },
  {
   "cell_type": "code",
   "outputs": [],
   "source": [
    "explanation.anchor.max()"
   ],
   "metadata": {
    "collapsed": false,
    "ExecuteTime": {
     "start_time": "2024-04-24T03:53:15.534768Z"
    }
   },
   "execution_count": null
  },
  {
   "cell_type": "code",
   "outputs": [],
   "source": [
    "print(mask.max())"
   ],
   "metadata": {
    "collapsed": false,
    "ExecuteTime": {
     "start_time": "2024-04-24T03:53:15.534768Z"
    }
   },
   "execution_count": null
  },
  {
   "cell_type": "code",
   "outputs": [],
   "source": [
    "[dt.size(0) for dt in images]"
   ],
   "metadata": {
    "collapsed": false,
    "ExecuteTime": {
     "start_time": "2024-04-24T03:53:15.535769Z"
    }
   },
   "execution_count": null
  },
  {
   "cell_type": "code",
   "outputs": [],
   "source": [
    "\n",
    "combine_window_to_episode(F.softmax(pred_test, dim=1).detach().cpu().numpy(), [dt.size(0) for dt in images])[:,ind]\n"
   ],
   "metadata": {
    "collapsed": false,
    "ExecuteTime": {
     "start_time": "2024-04-24T03:53:15.536770Z"
    }
   },
   "execution_count": null
  },
  {
   "cell_type": "code",
   "outputs": [],
   "source": [
    "torch.concat(tuple(i for i in images), dim=0).shape"
   ],
   "metadata": {
    "collapsed": false,
    "ExecuteTime": {
     "start_time": "2024-04-24T03:53:15.537770Z"
    }
   },
   "execution_count": null
  },
  {
   "cell_type": "code",
   "outputs": [],
   "source": [
    "pred_test"
   ],
   "metadata": {
    "collapsed": false,
    "ExecuteTime": {
     "start_time": "2024-04-24T03:53:15.537770Z"
    }
   },
   "execution_count": null
  },
  {
   "cell_type": "code",
   "outputs": [],
   "source": [
    "rgb = to_rgb(get_continuous_data(train_data[-4]))"
   ],
   "metadata": {
    "collapsed": false,
    "ExecuteTime": {
     "start_time": "2024-04-24T03:53:15.538769Z"
    }
   },
   "execution_count": null
  },
  {
   "cell_type": "code",
   "outputs": [],
   "source": [
    "np.array_equal(rgb[0], rgb[1])"
   ],
   "metadata": {
    "collapsed": false,
    "ExecuteTime": {
     "start_time": "2024-04-24T03:53:15.539770Z"
    }
   },
   "execution_count": null
  },
  {
   "cell_type": "code",
   "outputs": [],
   "source": [
    "torch.nn.functional.mse_loss(pred_test.detach().cpu(),combine_window_to_episode(pred_raw,seq_len_out)[-4])"
   ],
   "metadata": {
    "collapsed": false,
    "ExecuteTime": {
     "start_time": "2024-04-24T03:53:15.540769Z"
    }
   },
   "execution_count": null
  },
  {
   "cell_type": "code",
   "outputs": [],
   "source": [
    "pred_test.detach().cpu().shape"
   ],
   "metadata": {
    "collapsed": false,
    "ExecuteTime": {
     "start_time": "2024-04-24T03:53:15.540769Z"
    }
   },
   "execution_count": null
  },
  {
   "cell_type": "code",
   "outputs": [],
   "source": [
    "combine_window_to_episode(pred_raw,seq_len_out)[-4].shape"
   ],
   "metadata": {
    "collapsed": false,
    "ExecuteTime": {
     "start_time": "2024-04-24T03:53:15.541770Z"
    }
   },
   "execution_count": null
  },
  {
   "metadata": {
    "ExecuteTime": {
     "start_time": "2024-04-24T03:53:15.542769Z"
    }
   },
   "cell_type": "code",
   "source": [
    "unlabeled_idxs, _ = strategy.dataset.get_unlabeled_data()"
   ],
   "outputs": [],
   "execution_count": null
  },
  {
   "metadata": {},
   "cell_type": "code",
   "source": [
    "clf_report = sklearn.metrics.classification_report(target[unlabeled_idxs],out[unlabeled_idxs], digits=6)\n",
    "\n",
    "print(f\"Classification Report : \\n{clf_report}\")"
   ],
   "outputs": [],
   "execution_count": null
  },
  {
   "cell_type": "code",
   "outputs": [],
   "source": [
    "clf_report = sklearn.metrics.classification_report([np.sign(tl.sum()) for tl in pred_label], [np.sign(tl.sum()) for tl in train_label], digits=6)\n",
    "\n",
    "print(f\"Classification Report : \\n{clf_report}\")"
   ],
   "metadata": {
    "collapsed": false,
    "ExecuteTime": {
     "start_time": "2024-04-24T03:53:15.543768Z"
    }
   },
   "execution_count": null
  },
  {
   "cell_type": "code",
   "outputs": [],
   "source": [],
   "metadata": {
    "collapsed": false,
    "ExecuteTime": {
     "start_time": "2024-04-24T03:53:15.544769Z"
    }
   }
  },
  {
   "metadata": {
    "ExecuteTime": {
     "start_time": "2024-04-24T03:53:15.545769Z"
    }
   },
   "cell_type": "code",
   "outputs": [],
   "execution_count": null,
   "source": []
  }
 ],
 "metadata": {
  "kernelspec": {
   "display_name": "Python 3 (ipykernel)",
   "language": "python",
   "name": "python3"
  },
  "language_info": {
   "codemirror_mode": {
    "name": "ipython",
    "version": 3
   },
   "file_extension": ".py",
   "mimetype": "text/x-python",
   "name": "python",
   "nbconvert_exporter": "python",
   "pygments_lexer": "ipython3",
   "version": "3.10.5"
  }
 },
 "nbformat": 4,
 "nbformat_minor": 1
}
