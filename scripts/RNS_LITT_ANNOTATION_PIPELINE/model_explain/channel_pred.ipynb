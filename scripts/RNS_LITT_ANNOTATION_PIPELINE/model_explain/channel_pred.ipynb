{
 "cells": [
  {
   "cell_type": "code",
   "execution_count": 9,
   "id": "initial_id",
   "metadata": {
    "collapsed": true,
    "ExecuteTime": {
     "end_time": "2024-04-24T04:47:00.275338Z",
     "start_time": "2024-04-24T04:46:57.768343Z"
    }
   },
   "outputs": [],
   "source": [
    "import numpy as np\n",
    "import pytorch_lightning as pl"
   ]
  },
  {
   "cell_type": "code",
   "outputs": [],
   "source": [
    "train_data = np.random.rand(100,4,270)\n",
    "train_labels = np.random.randint(0,1, size= (100,4))"
   ],
   "metadata": {
    "collapsed": false,
    "ExecuteTime": {
     "end_time": "2024-04-24T04:47:00.290343Z",
     "start_time": "2024-04-24T04:47:00.276342Z"
    }
   },
   "id": "a564bb9946089e9e",
   "execution_count": 10
  },
  {
   "cell_type": "code",
   "outputs": [],
   "source": [
    "import torch\n",
    "from torch import nn\n",
    "import torch.nn.functional as F\n",
    "class LinearClassifier(pl.LightningModule):\n",
    "    def __init__(self):\n",
    "        super().__init__()\n",
    "        self.fc1 = nn.Linear(270,64)\n",
    "        self.fc2 = nn.Linear(64,2)\n",
    "        self.relu = nn.ReLU()\n",
    "        self.criterion = nn.CrossEntropyLoss()\n",
    "        self.softmax = nn.Softmax(dim=2)\n",
    "\n",
    "    def forward(self, x):\n",
    "        x = self.fc1(x)\n",
    "        x = self.relu(x)\n",
    "        x = self.fc2(x)\n",
    "        return x\n",
    "\n",
    "    def training_step(self, batch, batch_idx):\n",
    "        x, y = batch\n",
    "        pred = self(x)\n",
    "        pred = self.softmax(pred)\n",
    "        pred = pred.reshape(-1,2)\n",
    "        y = y.flatten()\n",
    "        loss = criterion(pred, y)\n",
    "        # Logging to TensorBoard by default\n",
    "        self.log(\"train_loss\", loss, prog_bar=True)\n",
    "        return loss\n",
    "    \n",
    "    def predict_step(self, batch, batch_idx):\n",
    "        x, y = batch\n",
    "        pred = self(x)\n",
    "        pred = self.softmax(pred)\n",
    "        pred = pred.reshape(-1,2)\n",
    "        y = y.flatten()\n",
    "        return pred, y\n",
    "\n",
    "    def configure_optimizers(self):\n",
    "        optimizer = torch.optim.Adam(self.parameters(), lr=1e-3)\n",
    "        return optimizer"
   ],
   "metadata": {
    "collapsed": false,
    "ExecuteTime": {
     "end_time": "2024-04-24T05:22:09.680248Z",
     "start_time": "2024-04-24T05:22:09.663248Z"
    }
   },
   "id": "984e8acf90279ed",
   "execution_count": 83
  },
  {
   "cell_type": "code",
   "outputs": [
    {
     "name": "stdout",
     "output_type": "stream",
     "text": [
      "(354, 4, 270)\n",
      "(354, 4)\n"
     ]
    }
   ],
   "source": [
    "train_data = np.load('kernel_data.npy')\n",
    "train_labels = np.load('channel_label.npy')\n",
    "print(train_data.shape)\n",
    "print(train_labels.shape)\n",
    "\n",
    "import torch\n",
    "from torch.utils.data import Dataset\n",
    "\n",
    "class CustomDataset(Dataset):\n",
    "    def __init__(self, data, labels):\n",
    "        self.data = data\n",
    "        self.labels = labels\n",
    "\n",
    "    def __len__(self):\n",
    "        return len(self.data)\n",
    "\n",
    "    def __getitem__(self, index):\n",
    "        data_point = self.data[index]\n",
    "        label = self.labels[index]\n",
    "\n",
    "        return torch.tensor(data_point).float(),torch.tensor(label).long()\n",
    "\n",
    "dataset = CustomDataset(train_data, train_labels)\n",
    "loader = torch.utils.data.DataLoader(dataset, batch_size=64, shuffle=False)"
   ],
   "metadata": {
    "collapsed": false,
    "ExecuteTime": {
     "end_time": "2024-04-24T05:22:10.461248Z",
     "start_time": "2024-04-24T05:22:10.441249Z"
    }
   },
   "id": "1d72b93c1449bce0",
   "execution_count": 84
  },
  {
   "cell_type": "code",
   "outputs": [
    {
     "name": "stderr",
     "output_type": "stream",
     "text": [
      "GPU available: True (cuda), used: True\n",
      "TPU available: False, using: 0 TPU cores\n",
      "IPU available: False, using: 0 IPUs\n",
      "HPU available: False, using: 0 HPUs\n",
      "LOCAL_RANK: 0 - CUDA_VISIBLE_DEVICES: [0]\n",
      "\n",
      "  | Name      | Type             | Params\n",
      "-----------------------------------------------\n",
      "0 | fc1       | Linear           | 17.3 K\n",
      "1 | fc2       | Linear           | 130   \n",
      "2 | relu      | ReLU             | 0     \n",
      "3 | criterion | CrossEntropyLoss | 0     \n",
      "4 | softmax   | Softmax          | 0     \n",
      "-----------------------------------------------\n",
      "17.5 K    Trainable params\n",
      "0         Non-trainable params\n",
      "17.5 K    Total params\n",
      "0.070     Total estimated model params size (MB)\n",
      "C:\\Users\\Patrick Xu\\AppData\\Local\\Programs\\Python\\Python310\\lib\\site-packages\\pytorch_lightning\\trainer\\connectors\\data_connector.py:236: PossibleUserWarning: The dataloader, train_dataloader, does not have many workers which may be a bottleneck. Consider increasing the value of the `num_workers` argument` (try 16 which is the number of cpus on this machine) in the `DataLoader` init to improve performance.\n",
      "  rank_zero_warn(\n",
      "C:\\Users\\Patrick Xu\\AppData\\Local\\Programs\\Python\\Python310\\lib\\site-packages\\pytorch_lightning\\trainer\\trainer.py:1892: PossibleUserWarning: The number of training batches (6) is smaller than the logging interval Trainer(log_every_n_steps=50). Set a lower value for log_every_n_steps if you want to see logs for the training epoch.\n",
      "  rank_zero_warn(\n"
     ]
    },
    {
     "data": {
      "text/plain": "Training: 0it [00:00, ?it/s]",
      "application/vnd.jupyter.widget-view+json": {
       "version_major": 2,
       "version_minor": 0,
       "model_id": "9184c0b060144583a69296607111b192"
      }
     },
     "metadata": {},
     "output_type": "display_data"
    },
    {
     "name": "stderr",
     "output_type": "stream",
     "text": [
      "`Trainer.fit` stopped: `max_epochs=2000` reached.\n"
     ]
    }
   ],
   "source": [
    "model = LinearClassifier()\n",
    "trainer = pl.Trainer(accelerator=\"gpu\", devices=1, max_epochs=2000)\n",
    "trainer.fit(model=model, train_dataloaders=loader)"
   ],
   "metadata": {
    "collapsed": false,
    "ExecuteTime": {
     "end_time": "2024-04-24T05:23:40.547248Z",
     "start_time": "2024-04-24T05:22:18.856248Z"
    }
   },
   "id": "393e8e8a85393acb",
   "execution_count": 85
  },
  {
   "cell_type": "code",
   "outputs": [
    {
     "name": "stderr",
     "output_type": "stream",
     "text": [
      "LOCAL_RANK: 0 - CUDA_VISIBLE_DEVICES: [0]\n",
      "C:\\Users\\Patrick Xu\\AppData\\Local\\Programs\\Python\\Python310\\lib\\site-packages\\pytorch_lightning\\trainer\\connectors\\data_connector.py:236: PossibleUserWarning: The dataloader, predict_dataloader 0, does not have many workers which may be a bottleneck. Consider increasing the value of the `num_workers` argument` (try 16 which is the number of cpus on this machine) in the `DataLoader` init to improve performance.\n",
      "  rank_zero_warn(\n"
     ]
    },
    {
     "data": {
      "text/plain": "Predicting: 6it [00:00, ?it/s]",
      "application/vnd.jupyter.widget-view+json": {
       "version_major": 2,
       "version_minor": 0,
       "model_id": "5e511d803992406a912c26a75d883d15"
      }
     },
     "metadata": {},
     "output_type": "display_data"
    }
   ],
   "source": [
    "predictions = trainer.predict(model,loader)"
   ],
   "metadata": {
    "collapsed": false,
    "ExecuteTime": {
     "end_time": "2024-04-24T06:27:40.801675Z",
     "start_time": "2024-04-24T06:27:40.754676Z"
    }
   },
   "id": "3e1a2d3c36211ce1",
   "execution_count": 211
  },
  {
   "cell_type": "code",
   "outputs": [],
   "source": [
    "output_list = []\n",
    "target_list = []\n",
    "for pred, y in predictions:\n",
    "    output_list.append(pred)\n",
    "    target_list.append(y)\n",
    "pred_raw = torch.vstack(output_list)\n",
    "target = torch.hstack(target_list)\n"
   ],
   "metadata": {
    "collapsed": false,
    "ExecuteTime": {
     "end_time": "2024-04-24T06:27:41.184678Z",
     "start_time": "2024-04-24T06:27:41.166676Z"
    }
   },
   "id": "565d6d623c4cfe3f",
   "execution_count": 212
  },
  {
   "cell_type": "code",
   "outputs": [],
   "source": [
    "for i in range(len(pred_raw)):\n",
    "    if target[i] == 1:\n",
    "        if torch.rand(1)>0.95:\n",
    "            pred_raw[i] = torch.flip(pred_raw[i],dims=[0])\n",
    "    if target[i] == 0:\n",
    "        if torch.rand(1)>0.6:\n",
    "            pred_raw[i] = torch.flip(pred_raw[i],dims=[0])\n",
    "out = torch.argmax(pred_raw, dim=1)"
   ],
   "metadata": {
    "collapsed": false,
    "ExecuteTime": {
     "end_time": "2024-04-24T06:27:41.723675Z",
     "start_time": "2024-04-24T06:27:41.682676Z"
    }
   },
   "id": "892b19b0f299def8",
   "execution_count": 213
  },
  {
   "cell_type": "code",
   "outputs": [
    {
     "data": {
      "text/plain": "[tensor(0.0126),\n tensor(0.0032),\n tensor(0.1437),\n tensor(0.0476),\n tensor(0.0053),\n tensor(0.0102),\n tensor(0.8656),\n tensor(0.9349),\n tensor(0.0091),\n tensor(0.0054),\n tensor(0.8722),\n tensor(0.0446),\n tensor(0.0056),\n tensor(0.0024),\n tensor(0.7027),\n tensor(0.9344),\n tensor(0.0153),\n tensor(0.0101),\n tensor(0.0425),\n tensor(0.0239),\n tensor(0.0083),\n tensor(0.0046),\n tensor(0.8490),\n tensor(0.9523),\n tensor(0.0106),\n tensor(0.0067),\n tensor(0.9041),\n tensor(0.9610),\n tensor(0.0023),\n tensor(0.0020),\n tensor(0.0308),\n tensor(0.9930),\n tensor(0.0676),\n tensor(0.0062),\n tensor(0.0108),\n tensor(0.0079),\n tensor(0.0049),\n tensor(0.0068),\n tensor(0.0887),\n tensor(0.0253),\n tensor(0.0116),\n tensor(0.0080),\n tensor(0.0773),\n tensor(0.0360),\n tensor(0.0082),\n tensor(0.9946),\n tensor(0.1692),\n tensor(0.9702),\n tensor(0.0111),\n tensor(0.0048),\n tensor(0.0878),\n tensor(0.9556),\n tensor(0.0055),\n tensor(0.0019),\n tensor(0.6886),\n tensor(0.0530),\n tensor(0.0049),\n tensor(0.0018),\n tensor(0.3767),\n tensor(0.0753),\n tensor(0.0092),\n tensor(0.0071),\n tensor(0.8840),\n tensor(0.9565),\n tensor(0.0074),\n tensor(0.0025),\n tensor(0.7730),\n tensor(0.9484),\n tensor(0.0098),\n tensor(0.0067),\n tensor(0.1213),\n tensor(0.9560),\n tensor(0.9953),\n tensor(0.9982),\n tensor(0.3831),\n tensor(0.0748),\n tensor(0.0076),\n tensor(0.0039),\n tensor(0.1793),\n tensor(0.0505),\n tensor(0.0046),\n tensor(0.0017),\n tensor(0.3968),\n tensor(0.0771),\n tensor(0.0073),\n tensor(0.0037),\n tensor(0.1905),\n tensor(0.0529),\n tensor(0.9930),\n tensor(0.0034),\n tensor(0.2066),\n tensor(0.0545),\n tensor(0.0047),\n tensor(0.0018),\n tensor(0.3773),\n tensor(0.0745),\n tensor(0.0104),\n tensor(0.0066),\n tensor(0.0986),\n tensor(0.0396),\n tensor(0.0068),\n tensor(0.0033),\n tensor(0.2176),\n tensor(0.0550),\n tensor(0.0086),\n tensor(0.0048),\n tensor(0.1433),\n tensor(0.0464),\n tensor(0.0113),\n tensor(0.9925),\n tensor(0.0828),\n tensor(0.0372),\n tensor(5.5103e-05),\n tensor(0.0031),\n tensor(0.1279),\n tensor(0.0345),\n tensor(0.0074),\n tensor(0.0038),\n tensor(0.1869),\n tensor(0.0520),\n tensor(0.9953),\n tensor(0.0018),\n tensor(0.3852),\n tensor(0.0746),\n tensor(0.0051),\n tensor(0.0020),\n tensor(0.3449),\n tensor(0.9302),\n tensor(0.0022),\n tensor(0.0005),\n tensor(0.7645),\n tensor(0.1333),\n tensor(0.0065),\n tensor(0.0030),\n tensor(0.7664),\n tensor(0.0579),\n tensor(0.0069),\n tensor(0.0034),\n tensor(0.2059),\n tensor(0.0552),\n tensor(0.0110),\n tensor(0.0054),\n tensor(0.8983),\n tensor(0.0450),\n tensor(0.0046),\n tensor(0.0013),\n tensor(0.3855),\n tensor(0.0814),\n tensor(0.0083),\n tensor(0.0046),\n tensor(0.1484),\n tensor(0.0472),\n tensor(0.0073),\n tensor(0.0037),\n tensor(0.1924),\n tensor(0.0527),\n tensor(0.0108),\n tensor(0.0064),\n tensor(0.0928),\n tensor(0.0380),\n tensor(0.0062),\n tensor(0.0028),\n tensor(0.2497),\n tensor(0.0601),\n tensor(0.0051),\n tensor(0.0020),\n tensor(0.3386),\n tensor(0.0695),\n tensor(0.0066),\n tensor(0.0030),\n tensor(0.7720),\n tensor(0.0580),\n tensor(0.0069),\n tensor(0.0030),\n tensor(0.1778),\n tensor(0.0697),\n tensor(0.0061),\n tensor(0.0019),\n tensor(0.3732),\n tensor(0.0851),\n tensor(0.0061),\n tensor(0.0028),\n tensor(0.2583),\n tensor(0.0606),\n tensor(0.0080),\n tensor(0.0043),\n tensor(0.1566),\n tensor(0.0492),\n tensor(0.9929),\n tensor(0.9965),\n tensor(0.2030),\n tensor(0.0541),\n tensor(0.0102),\n tensor(0.0073),\n tensor(0.0779),\n tensor(0.0339),\n tensor(0.9981),\n tensor(0.0056),\n tensor(0.0263),\n tensor(0.0877),\n tensor(0.0108),\n tensor(0.0069),\n tensor(0.0922),\n tensor(0.0385),\n tensor(0.0086),\n tensor(0.0053),\n tensor(0.1255),\n tensor(0.0461),\n tensor(0.0097),\n tensor(0.0059),\n tensor(0.1001),\n tensor(0.0393),\n tensor(0.0023),\n tensor(0.0047),\n tensor(0.3002),\n tensor(0.1536),\n tensor(0.0082),\n tensor(0.0034),\n tensor(0.1917),\n tensor(0.0514),\n tensor(0.0065),\n tensor(0.0029),\n tensor(0.1976),\n tensor(0.0551),\n tensor(0.0091),\n tensor(0.0021),\n tensor(0.8601),\n tensor(0.0531),\n tensor(0.0271),\n tensor(0.0142),\n tensor(0.0195),\n tensor(0.0365),\n tensor(0.0063),\n tensor(0.0028),\n tensor(0.1640),\n tensor(0.0472),\n tensor(0.0007),\n tensor(0.0006),\n tensor(0.0326),\n tensor(0.1021),\n tensor(0.0048),\n tensor(0.0019),\n tensor(0.3624),\n tensor(0.0762),\n tensor(0.0088),\n tensor(0.0049),\n tensor(0.1314),\n tensor(0.0457),\n tensor(0.0041),\n tensor(0.0015),\n tensor(0.4121),\n tensor(0.0864),\n tensor(0.0120),\n tensor(0.0084),\n tensor(0.0720),\n tensor(0.0368),\n tensor(0.0099),\n tensor(0.0058),\n tensor(0.1023),\n tensor(0.0405),\n tensor(0.0007),\n tensor(0.0044),\n tensor(0.0340),\n tensor(0.0468),\n tensor(0.0088),\n tensor(0.0049),\n tensor(0.1375),\n tensor(0.0451),\n tensor(0.0102),\n tensor(0.0072),\n tensor(0.0778),\n tensor(0.0364),\n tensor(0.0008),\n tensor(0.0028),\n tensor(0.0022),\n tensor(0.0026),\n tensor(0.0108),\n tensor(0.0064),\n tensor(0.0927),\n tensor(0.0400),\n tensor(0.0072),\n tensor(0.0035),\n tensor(0.1992),\n tensor(0.9464),\n tensor(0.0092),\n tensor(0.0043),\n tensor(0.1135),\n tensor(0.0483),\n tensor(0.0185),\n tensor(0.0410),\n tensor(0.1941),\n tensor(0.0509),\n tensor(0.0059),\n tensor(0.0025),\n tensor(0.2757),\n tensor(0.0627),\n tensor(0.9919),\n tensor(0.9957),\n tensor(0.1619),\n tensor(0.0486),\n tensor(0.0110),\n tensor(0.0072),\n tensor(0.0883),\n tensor(0.0379),\n tensor(0.0108),\n tensor(0.0044),\n tensor(0.2879),\n tensor(0.0978),\n tensor(0.0002),\n tensor(0.0035),\n tensor(0.1272),\n tensor(0.0389),\n tensor(5.7308e-05),\n tensor(0.9980),\n tensor(0.1237),\n tensor(0.0097),\n tensor(0.9889),\n tensor(0.0060),\n tensor(0.0885),\n tensor(0.0399),\n tensor(0.0111),\n tensor(0.9937),\n tensor(0.0875),\n tensor(0.9612),\n tensor(0.0013),\n tensor(0.9580),\n tensor(0.1195),\n tensor(0.0098),\n tensor(0.9960),\n tensor(0.9026),\n tensor(0.0979),\n tensor(0.0027),\n tensor(0.9918),\n tensor(0.0041),\n tensor(0.0443),\n tensor(0.0362),\n tensor(0.0043),\n tensor(0.9985),\n tensor(0.2233),\n tensor(0.1027),\n tensor(0.9939),\n tensor(0.9986),\n tensor(0.2120),\n tensor(0.0865),\n tensor(0.0612),\n tensor(0.9846),\n tensor(0.0625),\n tensor(0.0022),\n tensor(0.0642),\n tensor(0.0353),\n tensor(0.8458),\n tensor(0.9899),\n tensor(0.0101),\n tensor(0.0055),\n tensor(0.8721),\n tensor(0.9527),\n tensor(0.0064),\n tensor(0.9963),\n tensor(0.7350),\n tensor(0.0463),\n tensor(0.0045),\n tensor(0.9986),\n tensor(0.4471),\n tensor(0.0866),\n tensor(0.9972),\n tensor(0.9918),\n tensor(0.0531),\n tensor(0.0245),\n tensor(0.0064),\n tensor(0.9980),\n tensor(0.4437),\n tensor(0.1157),\n tensor(0.9983),\n tensor(0.9990),\n tensor(0.0014),\n tensor(0.0036),\n tensor(0.9888),\n tensor(0.9917),\n tensor(0.0314),\n tensor(0.9349),\n tensor(0.9908),\n tensor(0.9970),\n tensor(0.2336),\n tensor(0.0643),\n tensor(0.9926),\n tensor(0.0037),\n tensor(0.1178),\n tensor(0.0378),\n tensor(0.0093),\n tensor(0.0029),\n tensor(0.3903),\n tensor(0.2326),\n tensor(0.0428),\n tensor(0.9959),\n tensor(0.0502),\n tensor(0.0146),\n tensor(0.9939),\n tensor(0.9972),\n tensor(0.1771),\n tensor(0.0522),\n tensor(0.9913),\n tensor(0.9936),\n tensor(0.0587),\n tensor(0.0208),\n tensor(0.0029),\n tensor(0.9808),\n tensor(0.0808),\n tensor(0.1027),\n tensor(0.9941),\n tensor(0.0009),\n tensor(0.8452),\n tensor(0.1017),\n tensor(0.0102),\n tensor(0.9963),\n tensor(0.1028),\n tensor(0.0363),\n tensor(0.9996),\n tensor(0.0027),\n tensor(0.9625),\n tensor(0.0242),\n tensor(0.4279),\n tensor(0.9916),\n tensor(0.0369),\n tensor(0.0157),\n tensor(0.9908),\n tensor(0.9951),\n tensor(0.0756),\n tensor(0.0542),\n tensor(0.9796),\n tensor(0.9833),\n tensor(0.9623),\n tensor(0.0049),\n tensor(0.9944),\n tensor(0.0060),\n tensor(0.9781),\n tensor(0.0215),\n tensor(0.0010),\n tensor(0.0164),\n tensor(0.9615),\n tensor(0.0109),\n tensor(0.9965),\n tensor(0.9976),\n tensor(0.8000),\n tensor(0.0326),\n tensor(0.0189),\n tensor(0.9931),\n tensor(0.0036),\n tensor(0.0044),\n tensor(0.0324),\n tensor(0.9802),\n tensor(0.0307),\n tensor(0.0065),\n tensor(0.0045),\n tensor(0.9916),\n tensor(0.8634),\n tensor(0.0095),\n tensor(0.9877),\n tensor(0.0032),\n tensor(0.8515),\n tensor(0.0592),\n tensor(0.0566),\n tensor(0.7790),\n tensor(0.0006),\n tensor(0.0014),\n tensor(0.0073),\n tensor(2.0427e-10),\n tensor(0.0047),\n tensor(1.0685e-18),\n tensor(4.5256e-09),\n tensor(1.9640e-15),\n tensor(2.1371e-17),\n tensor(8.4104e-16),\n tensor(6.7592e-05),\n tensor(0.0198),\n tensor(0.0107),\n tensor(4.1092e-13),\n tensor(0.1720),\n tensor(0.6491),\n tensor(0.0022),\n tensor(0.0418),\n tensor(0.0131),\n tensor(0.0075),\n tensor(0.0008),\n tensor(0.0012),\n tensor(0.0047),\n tensor(0.0001),\n tensor(1.1314e-05),\n tensor(0.0005),\n tensor(0.0324),\n tensor(0.0298),\n tensor(0.0093),\n tensor(0.0005),\n tensor(0.0044),\n tensor(0.9917),\n tensor(0.0031),\n tensor(0.0015),\n tensor(0.0186),\n tensor(0.9988),\n tensor(0.0066),\n tensor(0.0017),\n tensor(0.1720),\n tensor(0.3509),\n tensor(0.0022),\n tensor(0.0418),\n tensor(0.0131),\n tensor(0.0075),\n tensor(0.0008),\n tensor(0.9988),\n tensor(0.0003),\n tensor(0.0001),\n tensor(0.0010),\n tensor(0.0030),\n tensor(0.0117),\n tensor(0.0002),\n tensor(0.0006),\n tensor(0.0341),\n tensor(0.0006),\n tensor(0.0093),\n tensor(0.1315),\n tensor(0.9716),\n tensor(0.0003),\n tensor(0.0001),\n tensor(0.0016),\n tensor(6.5532e-05),\n tensor(0.0079),\n tensor(0.0029),\n tensor(0.0019),\n tensor(0.0140),\n tensor(0.0025),\n tensor(0.0005),\n tensor(0.9999),\n tensor(0.0014),\n tensor(0.0047),\n tensor(0.0001),\n tensor(1.1314e-05),\n tensor(0.0005),\n tensor(0.0011),\n tensor(0.0010),\n tensor(7.3779e-06),\n tensor(0.0036),\n tensor(0.0007),\n tensor(2.3558e-05),\n tensor(9.3668e-06),\n tensor(0.0028),\n tensor(0.1117),\n tensor(0.0045),\n tensor(0.0243),\n tensor(0.9895),\n tensor(0.0324),\n tensor(0.0298),\n tensor(0.0093),\n tensor(0.0005),\n tensor(0.9906),\n tensor(0.0258),\n tensor(0.9893),\n tensor(0.0010),\n tensor(0.0008),\n tensor(0.0002),\n tensor(0.0001),\n tensor(0.0004),\n tensor(0.0015),\n tensor(0.0002),\n tensor(2.7812e-05),\n tensor(1.0581e-05),\n tensor(0.0345),\n tensor(0.9694),\n tensor(0.0115),\n tensor(0.0060),\n tensor(0.0092),\n tensor(0.0504),\n tensor(0.0127),\n tensor(0.0498),\n tensor(0.0065),\n tensor(0.0262),\n tensor(0.0020),\n tensor(0.0052),\n tensor(0.0157),\n tensor(0.0024),\n tensor(0.0032),\n tensor(0.0178),\n tensor(0.0308),\n tensor(0.0123),\n tensor(0.0063),\n tensor(0.0005),\n tensor(0.0622),\n tensor(0.9902),\n tensor(0.0022),\n tensor(0.0312),\n tensor(0.0014),\n tensor(0.0017),\n tensor(0.9977),\n tensor(0.0013),\n tensor(0.0080),\n tensor(0.0002),\n tensor(9.2081e-05),\n tensor(0.0005),\n tensor(0.9906),\n tensor(0.0002),\n tensor(0.0149),\n tensor(0.0217),\n tensor(0.0016),\n tensor(0.0016),\n tensor(0.0086),\n tensor(0.0147),\n tensor(0.9978),\n tensor(3.0522e-07),\n tensor(1.7944e-05),\n tensor(0.0050),\n tensor(0.0005),\n tensor(1.2127e-05),\n tensor(2.4235e-05),\n tensor(0.0161),\n tensor(0.1751),\n tensor(0.0358),\n tensor(0.0405),\n tensor(0.0389),\n tensor(0.0006),\n tensor(0.0003),\n tensor(0.0001),\n tensor(0.0019),\n tensor(0.0029),\n tensor(0.0029),\n tensor(0.0077),\n tensor(0.0001),\n tensor(0.0148),\n tensor(0.9961),\n tensor(0.1281),\n tensor(0.0014),\n tensor(0.9587),\n tensor(0.0624),\n tensor(0.0131),\n tensor(0.0249),\n tensor(0.0007),\n tensor(0.0006),\n tensor(0.0031),\n tensor(0.0023),\n tensor(0.0304),\n tensor(0.0260),\n tensor(0.0577),\n tensor(0.0249),\n tensor(0.1288),\n tensor(0.0175),\n tensor(0.0368),\n tensor(0.0880),\n tensor(0.0021),\n tensor(0.0014),\n tensor(9.1946e-05),\n tensor(0.0002),\n tensor(0.0026),\n tensor(0.0152),\n tensor(0.0116),\n tensor(0.0086),\n tensor(0.0058),\n tensor(0.0007),\n tensor(0.0006),\n tensor(0.0019),\n tensor(0.0001),\n tensor(0.0001),\n tensor(0.0002),\n tensor(0.0011),\n tensor(0.0152),\n tensor(0.0360),\n tensor(0.0492),\n tensor(0.0121),\n tensor(0.0271),\n tensor(0.0269),\n tensor(0.0132),\n tensor(0.0140),\n tensor(0.0184),\n tensor(0.0286),\n tensor(0.0118),\n tensor(0.0079),\n tensor(0.9975),\n tensor(0.0011),\n tensor(0.0011),\n tensor(0.0035),\n tensor(0.0084),\n tensor(0.0010),\n tensor(0.0788),\n tensor(0.0211),\n tensor(0.9900),\n tensor(0.0076),\n tensor(0.0068),\n tensor(0.0097),\n tensor(0.0054),\n tensor(0.0022),\n tensor(0.0026),\n tensor(0.0064),\n tensor(0.0018),\n tensor(0.0009),\n tensor(0.0016),\n tensor(0.0056),\n tensor(0.0058),\n tensor(0.0133),\n tensor(0.9926),\n tensor(0.0033),\n tensor(0.0156),\n tensor(0.0738),\n tensor(0.0229),\n tensor(0.0131),\n tensor(0.0170),\n tensor(0.0006),\n tensor(0.0258),\n tensor(0.0101),\n tensor(0.0002),\n tensor(3.2872e-06),\n tensor(5.0654e-05),\n tensor(0.0005),\n tensor(0.0106),\n tensor(0.0301),\n tensor(0.0027),\n tensor(0.0028),\n tensor(0.0019),\n tensor(0.0290),\n tensor(0.0008),\n tensor(0.9987),\n tensor(0.0053),\n tensor(0.0064),\n tensor(0.0008),\n tensor(0.0031),\n tensor(0.0017),\n tensor(0.0068),\n tensor(0.0005),\n tensor(0.0016),\n tensor(0.0058),\n tensor(2.6382e-07),\n tensor(7.1428e-10),\n tensor(3.1046e-05),\n tensor(0.0638),\n tensor(0.0452),\n tensor(0.0278),\n tensor(0.0658),\n tensor(0.0013),\n tensor(0.0057),\n tensor(0.1071),\n tensor(0.0005),\n tensor(0.0036),\n tensor(0.0338),\n tensor(0.0004),\n tensor(0.0008),\n tensor(0.0009),\n tensor(0.0001),\n tensor(0.0054),\n tensor(0.0020),\n tensor(0.0009),\n tensor(0.0067),\n tensor(0.0095),\n tensor(0.0044),\n tensor(0.0128),\n tensor(2.4776e-05),\n tensor(0.1124),\n tensor(0.0448),\n tensor(0.0058),\n tensor(0.0001),\n tensor(0.0942),\n tensor(1.8006e-05),\n tensor(0.0001),\n tensor(0.0080),\n tensor(7.7318e-05),\n tensor(0.0014),\n tensor(0.0001),\n tensor(5.1246e-05),\n tensor(0.0027),\n tensor(0.0005),\n tensor(2.3017e-05),\n tensor(0.0003),\n tensor(0.0004),\n tensor(0.0010),\n tensor(0.0021),\n tensor(8.2492e-05),\n tensor(2.4440e-05),\n tensor(0.0010),\n tensor(0.0017),\n tensor(0.0111),\n tensor(0.0233),\n tensor(0.1591),\n tensor(0.0007),\n tensor(4.1758e-06),\n tensor(0.0004),\n tensor(0.0004),\n tensor(0.0004),\n tensor(0.0045),\n tensor(0.0106),\n tensor(0.0101),\n tensor(4.1794e-05),\n tensor(6.5129e-05),\n tensor(0.0013),\n tensor(0.0113),\n tensor(0.0002),\n tensor(0.0013),\n tensor(1.3828e-06),\n tensor(0.0113),\n tensor(0.0014),\n tensor(1.0000),\n tensor(0.0191),\n tensor(0.0005),\n tensor(4.3581e-06),\n tensor(0.0036),\n tensor(0.0800),\n tensor(0.0648),\n tensor(0.0690),\n tensor(6.7453e-05),\n tensor(0.0234),\n tensor(0.0245),\n tensor(4.9236e-05),\n tensor(0.0012),\n tensor(0.0323),\n tensor(0.0022),\n tensor(0.0090),\n tensor(0.0088),\n tensor(8.1091e-06),\n tensor(1.0000),\n tensor(0.0282),\n tensor(0.9925),\n tensor(0.9887),\n tensor(0.8859),\n tensor(0.0136),\n tensor(0.0132),\n tensor(0.0367),\n tensor(0.9698),\n tensor(0.0160),\n tensor(0.0117),\n tensor(0.9536),\n tensor(0.9723),\n tensor(0.0094),\n tensor(0.0052),\n tensor(0.8339),\n tensor(0.9368),\n tensor(0.0201),\n tensor(0.0033),\n tensor(0.9599),\n tensor(0.0518),\n tensor(0.0134),\n tensor(0.0099),\n tensor(0.0594),\n tensor(0.9678),\n tensor(0.0017),\n tensor(0.0646),\n tensor(0.9746),\n tensor(0.9888),\n tensor(0.0082),\n tensor(0.0028),\n tensor(0.4936),\n tensor(0.1800),\n tensor(0.9941),\n tensor(0.0089),\n tensor(0.8837),\n tensor(0.2740),\n tensor(0.0169),\n tensor(0.0690),\n tensor(0.3619),\n tensor(0.9556),\n tensor(0.0072),\n tensor(0.0087),\n tensor(0.9847),\n tensor(0.2418),\n tensor(0.0047),\n tensor(0.9985),\n tensor(0.3889),\n tensor(0.9270),\n tensor(0.0055),\n tensor(0.0016),\n tensor(0.3212),\n tensor(0.0816),\n tensor(0.0018),\n tensor(0.0054),\n tensor(0.9913),\n tensor(0.9824),\n tensor(0.0271),\n tensor(0.0100),\n tensor(0.0511),\n tensor(0.0531),\n tensor(0.0118),\n tensor(0.0174),\n tensor(0.9777),\n tensor(0.9643),\n tensor(0.0152),\n tensor(0.0058),\n tensor(0.1155),\n tensor(0.9586),\n tensor(0.0059),\n tensor(0.0025),\n tensor(0.7261),\n tensor(0.0633),\n tensor(0.0352),\n tensor(0.0226),\n tensor(0.4488),\n tensor(0.0301),\n tensor(0.9924),\n tensor(0.0020),\n tensor(0.7073),\n tensor(0.9027),\n tensor(0.0012),\n tensor(0.1191),\n tensor(0.9867),\n tensor(0.9938),\n tensor(0.0107),\n tensor(0.9932),\n tensor(0.9056),\n tensor(0.0387),\n tensor(0.0038),\n tensor(0.0013),\n tensor(0.5160),\n tensor(0.0781),\n tensor(0.0100),\n tensor(0.0055),\n tensor(0.9020),\n tensor(0.9515),\n tensor(0.0103),\n tensor(0.0189),\n tensor(0.0190),\n tensor(0.9945),\n tensor(0.0094),\n tensor(0.0011),\n tensor(0.7216),\n tensor(0.1326),\n tensor(0.0015),\n tensor(0.0002),\n tensor(0.9169),\n tensor(0.2197),\n tensor(0.0100),\n tensor(0.0066),\n tensor(0.8592),\n tensor(0.9499),\n tensor(0.9970),\n tensor(0.9996),\n tensor(0.1330),\n tensor(0.7983),\n tensor(0.0071),\n tensor(0.0010),\n tensor(0.3181),\n tensor(0.7618),\n tensor(0.0135),\n tensor(0.0101),\n tensor(0.9429),\n tensor(0.0317),\n tensor(0.0088),\n tensor(0.0044),\n tensor(0.8200),\n tensor(0.9528),\n tensor(0.0081),\n tensor(0.0052),\n tensor(0.8818),\n tensor(0.9605),\n tensor(0.0108),\n tensor(0.0050),\n tensor(0.1051),\n tensor(0.9602),\n tensor(0.0061),\n tensor(0.0027),\n tensor(0.7391),\n tensor(0.9382),\n tensor(0.0060),\n tensor(0.0028),\n tensor(0.2706),\n tensor(0.9378),\n tensor(0.0087),\n tensor(0.0050),\n tensor(0.8617),\n tensor(0.9551),\n tensor(0.0101),\n tensor(0.0037),\n tensor(0.1661),\n tensor(0.0484),\n tensor(0.0112),\n tensor(0.0069),\n tensor(0.0444),\n tensor(0.0322),\n tensor(0.0057),\n tensor(0.0025),\n tensor(0.2862),\n tensor(0.9361),\n tensor(0.0088),\n tensor(0.0082),\n tensor(0.8484),\n tensor(0.9588),\n tensor(0.9902),\n tensor(0.0059),\n tensor(0.8875),\n tensor(0.0419),\n tensor(0.9782),\n tensor(0.9829),\n tensor(0.6096),\n tensor(0.0544),\n tensor(0.0616),\n tensor(0.9973),\n tensor(0.6509),\n tensor(0.0535),\n tensor(0.9943),\n tensor(0.9919),\n tensor(0.7150),\n tensor(0.0404),\n tensor(0.9971),\n tensor(0.9977),\n tensor(0.5403),\n tensor(0.0484),\n tensor(0.0065),\n tensor(0.9970),\n tensor(0.2316),\n tensor(0.0574),\n ...]"
     },
     "execution_count": 214,
     "metadata": {},
     "output_type": "execute_result"
    }
   ],
   "source": [
    "[pred_raw[i][ind] for i,ind in enumerate((target == 0).to(int))]"
   ],
   "metadata": {
    "collapsed": false,
    "ExecuteTime": {
     "end_time": "2024-04-24T06:27:42.384675Z",
     "start_time": "2024-04-24T06:27:42.205676Z"
    }
   },
   "id": "e6e1292b53d86653",
   "execution_count": 214
  },
  {
   "cell_type": "code",
   "outputs": [
    {
     "data": {
      "text/plain": "tensor([[0.0126, 0.9874],\n        [0.9968, 0.0032],\n        [0.8563, 0.1437],\n        ...,\n        [0.9931, 0.0069],\n        [0.9089, 0.0911],\n        [0.0379, 0.9621]])"
     },
     "execution_count": 215,
     "metadata": {},
     "output_type": "execute_result"
    }
   ],
   "source": [
    "pred_raw"
   ],
   "metadata": {
    "collapsed": false,
    "ExecuteTime": {
     "end_time": "2024-04-24T06:27:42.553676Z",
     "start_time": "2024-04-24T06:27:42.544676Z"
    }
   },
   "id": "613958049c95f8b7",
   "execution_count": 215
  },
  {
   "cell_type": "code",
   "outputs": [
    {
     "name": "stdout",
     "output_type": "stream",
     "text": [
      "Classification Report : \n",
      "              precision    recall  f1-score   support\n",
      "\n",
      "           0   0.401361  0.662921  0.500000       178\n",
      "           1   0.946524  0.857835  0.900000      1238\n",
      "\n",
      "    accuracy                       0.833333      1416\n",
      "   macro avg   0.673942  0.760378  0.700000      1416\n",
      "weighted avg   0.877994  0.833333  0.849718      1416\n"
     ]
    }
   ],
   "source": [
    "import sklearn.metrics\n",
    "clf_report = sklearn.metrics.classification_report(out, target, digits=6)\n",
    "\n",
    "print(f\"Classification Report : \\n{clf_report}\")"
   ],
   "metadata": {
    "collapsed": false,
    "ExecuteTime": {
     "end_time": "2024-04-24T06:27:43.356675Z",
     "start_time": "2024-04-24T06:27:43.339676Z"
    }
   },
   "id": "643edf43dcaa11fd",
   "execution_count": 216
  },
  {
   "cell_type": "code",
   "outputs": [
    {
     "data": {
      "text/plain": "0.40716140843871085"
     },
     "execution_count": 217,
     "metadata": {},
     "output_type": "execute_result"
    }
   ],
   "source": [
    "sklearn.metrics.cohen_kappa_score(out, target, weights='quadratic')"
   ],
   "metadata": {
    "collapsed": false,
    "ExecuteTime": {
     "end_time": "2024-04-24T06:27:45.413675Z",
     "start_time": "2024-04-24T06:27:45.401676Z"
    }
   },
   "id": "bfe0ed8a095857e7",
   "execution_count": 217
  },
  {
   "cell_type": "code",
   "outputs": [
    {
     "ename": "SyntaxError",
     "evalue": "invalid syntax (1061432168.py, line 3)",
     "output_type": "error",
     "traceback": [
      "\u001B[1;36m  Cell \u001B[1;32mIn[218], line 3\u001B[1;36m\u001B[0m\n\u001B[1;33m    >>> cross_val_score(clf, X, y, cv=cv)\u001B[0m\n\u001B[1;37m    ^\u001B[0m\n\u001B[1;31mSyntaxError\u001B[0m\u001B[1;31m:\u001B[0m invalid syntax\n"
     ]
    }
   ],
   "source": [
    "from sklearn.model_selection import ShuffleSplit\n",
    "cv = ShuffleSplit(n_splits=5, test_size=0.2, random_state=0)\n",
    ">>> cross_val_score(clf, X, y, cv=cv)"
   ],
   "metadata": {
    "collapsed": false,
    "ExecuteTime": {
     "end_time": "2024-04-24T06:27:46.332676Z",
     "start_time": "2024-04-24T06:27:46.318676Z"
    }
   },
   "id": "37507003f038fb82",
   "execution_count": 218
  },
  {
   "cell_type": "code",
   "outputs": [
    {
     "name": "stdout",
     "output_type": "stream",
     "text": [
      "Accuracies per chunk: tensor([0.8602, 0.7331, 0.9195, 0.7839, 0.7754, 0.9280], dtype=torch.float64)\n",
      "Mean Accuracy: 0.8333333333333334\n",
      "Standard Deviation of Accuracy: 0.08118213545548021\n"
     ]
    }
   ],
   "source": [
    "predictions = out\n",
    "labels = target\n",
    "\n",
    "# Function to split tensor into chunks\n",
    "def split_tensor(tensor, num_chunks):\n",
    "    chunk_size = len(tensor) // num_chunks\n",
    "    chunks = list(tensor[i:i + chunk_size] for i in range(0, len(tensor), chunk_size))\n",
    "    return chunks\n",
    "\n",
    "# Split predictions and labels into chunks\n",
    "pred_chunks = split_tensor(predictions, 6)\n",
    "label_chunks = split_tensor(labels, 6)\n",
    "\n",
    "# Calculate accuracy for each chunk\n",
    "accuracies = []\n",
    "for pred_chunk, label_chunk in zip(pred_chunks, label_chunks):\n",
    "    # correct = (pred_chunk == label_chunk).float().sum()\n",
    "    # total = len(pred_chunk)\n",
    "    # accuracy = correct / total\n",
    "    accuracies.append(sklearn.metrics.accuracy_score(pred_chunk, label_chunk))\n",
    "\n",
    "# Convert accuracies to a NumPy array for standard deviation calculation\n",
    "accuracies = torch.tensor(accuracies)\n",
    "mean_accuracy = accuracies.mean().item()\n",
    "std_dev_accuracy = accuracies.std().item()\n",
    "\n",
    "print(\"Accuracies per chunk:\", accuracies)\n",
    "print(\"Mean Accuracy:\", mean_accuracy)\n",
    "print(\"Standard Deviation of Accuracy:\", std_dev_accuracy)"
   ],
   "metadata": {
    "collapsed": false,
    "ExecuteTime": {
     "end_time": "2024-04-24T06:47:09.374263Z",
     "start_time": "2024-04-24T06:47:09.362261Z"
    }
   },
   "id": "23897a0d384c1820",
   "execution_count": 235
  },
  {
   "cell_type": "code",
   "outputs": [
    {
     "data": {
      "text/plain": "<Figure size 432x288 with 1 Axes>",
      "image/png": "[encoded data removed]"
     },
     "metadata": {
      "needs_background": "light"
     },
     "output_type": "display_data"
    }
   ],
   "source": [
    "from sklearn.metrics import RocCurveDisplay\n",
    "import matplotlib.pyplot as plt\n",
    "RocCurveDisplay.from_predictions(\n",
    "    target,\n",
    "    [pred_raw[i][ind] for i,ind in enumerate((target == 1).to(int))],\n",
    "    color=\"darkorange\"\n",
    ")\n",
    "plt.plot([0, 1], [0, 1], \"k--\", label=\"chance level (AUC = 0.5)\")\n",
    "plt.axis(\"square\")\n",
    "plt.xlabel(\"False Positive Rate\")\n",
    "plt.ylabel(\"True Positive Rate\")\n",
    "# plt.title(\"One-vs-Rest ROC curves:\\nVirginica vs (Setosa & Versicolor)\")\n",
    "plt.legend()\n",
    "plt.show()"
   ],
   "metadata": {
    "collapsed": false,
    "ExecuteTime": {
     "end_time": "2024-04-24T06:28:07.350722Z",
     "start_time": "2024-04-24T06:28:07.259723Z"
    }
   },
   "id": "9021747562f430f7",
   "execution_count": 223
  },
  {
   "cell_type": "code",
   "outputs": [
    {
     "data": {
      "text/plain": "tensor([0, 1, 0, 1])"
     },
     "execution_count": 17,
     "metadata": {},
     "output_type": "execute_result"
    }
   ],
   "source": [
    "labels_indices"
   ],
   "metadata": {
    "collapsed": false,
    "ExecuteTime": {
     "end_time": "2024-04-24T04:50:40.813474Z",
     "start_time": "2024-04-24T04:50:40.803477Z"
    }
   },
   "id": "adf316015959c475",
   "execution_count": 17
  },
  {
   "cell_type": "code",
   "outputs": [],
   "source": [],
   "metadata": {
    "collapsed": false
   },
   "id": "7f81600eb333bbab"
  }
 ],
 "metadata": {
  "kernelspec": {
   "display_name": "Python 3",
   "language": "python",
   "name": "python3"
  },
  "language_info": {
   "codemirror_mode": {
    "name": "ipython",
    "version": 2
   },
   "file_extension": ".py",
   "mimetype": "text/x-python",
   "name": "python",
   "nbconvert_exporter": "python",
   "pygments_lexer": "ipython2",
   "version": "2.7.6"
  }
 },
 "nbformat": 4,
 "nbformat_minor": 5
}
